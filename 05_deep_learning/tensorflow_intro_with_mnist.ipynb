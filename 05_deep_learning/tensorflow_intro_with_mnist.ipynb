{
 "cells": [
  {
   "cell_type": "markdown",
   "metadata": {
    "id": "r5DYPXQks8W8"
   },
   "source": [
    "# Hands-on with TensorFlow\n",
    " this demo, let's see how TensorFlow works and build a deep neural network model using the MNIST dataset."
   ]
  },
  {
   "cell_type": "markdown",
   "metadata": {},
   "source": [
    "## Part A"
   ]
  },
  {
   "cell_type": "markdown",
   "metadata": {
    "id": "FVLJK59QIE4L"
   },
   "source": [
    "### Step 1: Import TensorFlow\n",
    "\n",
    "- Import TensorFlow and check its version\n"
   ]
  },
  {
   "cell_type": "markdown",
   "metadata": {},
   "source": [
    "`pip install tensorflow` (it'll take about 20 to 1 min depending on the machine)"
   ]
  },
  {
   "cell_type": "code",
   "execution_count": 1,
   "metadata": {
    "colab": {
     "base_uri": "https://localhost:8080/"
    },
    "executionInfo": {
     "elapsed": 4843,
     "status": "ok",
     "timestamp": 1683226361495,
     "user": {
      "displayName": "Sreelakshmi C V",
      "userId": "04477517605899898333"
     },
     "user_tz": -330
    },
    "id": "u2tOxjHDHMKV",
    "outputId": "bc067bfc-3a1a-447f-fe2a-6ddea1996ac8"
   },
   "outputs": [
    {
     "name": "stdout",
     "output_type": "stream",
     "text": [
      "TensorFlow version: 2.16.1\n"
     ]
    }
   ],
   "source": [
    "import tensorflow as tf\n",
    "print(\"TensorFlow version:\", tf.__version__)"
   ]
  },
  {
   "cell_type": "code",
   "execution_count": 2,
   "metadata": {},
   "outputs": [],
   "source": [
    "#import the rest of the libraries\n",
    "from tensorflow.keras import models, layers\n",
    "from tensorflow.keras.datasets import mnist\n",
    "import matplotlib.pyplot as plt"
   ]
  },
  {
   "cell_type": "markdown",
   "metadata": {},
   "source": [
    "\n",
    "Certainly! This code snippet demonstrates the use of TensorFlow and Keras to build, train, and evaluate a simple neural network model for image classification. The example uses the popular MNIST dataset, which contains handwritten digit images.\n",
    "\n",
    "Here's a breakdown of each section of the code:\n",
    "\n",
    "1. **Model Definition**:\n",
    "   - `model = tf.keras.models.Sequential([...])`: This creates a sequential model, a linear stack of layers. The model is defined with the following layers:\n",
    "     - `Flatten`: This layer converts the 28x28 input images into a 1D array (784 elements).\n",
    "     - `Dense`: A fully connected layer with 128 neurons and ReLU activation function.\n",
    "     - `Dropout`: A regularization technique that randomly sets a fraction (0.2) of the input units to 0 at each update during training.\n",
    "     - Another `Dense` layer with 10 neurons (output layer) representing the logits (raw scores) for 10 classes (digits 0-9).\n",
    "\n",
    "2. **Making Predictions**:\n",
    "   - `predictions = model(x_train[:1]).numpy()`: This generates predictions (logits) for the first training example (x_train[0]). The `numpy()` method converts the tensor to a NumPy array.\n",
    "   - `tf.nn.softmax(predictions).numpy()`: This applies the softmax function to the logits to get class probabilities. It shows the predicted class probabilities for the first training example.\n",
    "\n",
    "3. **Loss Function**:\n",
    "   - `loss_fn = tf.keras.losses.SparseCategoricalCrossentropy(from_logits=True)`: This initializes the loss function, which computes the sparse categorical cross-entropy loss between the true labels and the predicted logits.\n",
    "   - `loss_fn(y_train[:1], predictions).numpy()`: This calculates the loss for the first training example.\n",
    "\n",
    "4. **Model Compilation**:\n",
    "   - `model.compile(...)`: This compiles the model, specifying the optimizer ('adam'), loss function (`loss_fn`), and evaluation metric ('accuracy').\n",
    "\n",
    "5. **Model Training**:\n",
    "   - `model.fit(x_train, y_train, epochs=5)`: This trains the model using the training data (`x_train` and `y_train`) for 5 epochs.\n",
    "\n",
    "6. **Model Evaluation**:\n",
    "   - `model.evaluate(x_test, y_test, verbose=2)`: This evaluates the trained model on the test data (`x_test` and `y_test`) and displays the test loss and accuracy.\n",
    "\n",
    "7. **Probability Model**:\n",
    "   - `probability_model = tf.keras.Sequential([...])`: This creates a new model by adding a `Softmax` layer on top of the previously defined model. This layer converts the logits into class probabilities.\n",
    "   - `probability_model(x_test[:3])`: This applies the probability model to the first 3 test examples, providing class probabilities for each.\n",
    "\n",
    "Overall, the code demonstrates the complete workflow of defining a neural network model, training it, evaluating its performance, and making predictions on new data using TensorFlow and Keras. The example showcases basic concepts in deep learning, such as layers, loss functions, optimization, and model evaluation."
   ]
  },
  {
   "cell_type": "markdown",
   "metadata": {},
   "source": [
    "![fl](https://testerstories.com/files/ai_and_ml/ml-mnist-2d-to-1d.png)"
   ]
  },
  {
   "cell_type": "markdown",
   "metadata": {
    "id": "9Kzn0RkDJISF"
   },
   "source": [
    "### Step 2: Load the MNIST Dataset\n",
    "\n",
    "- MNIST digits classification dataset\n",
    "- MNIST is ‘Modified National Institute of Standards and Technology. \n",
    "- This dataset consists of 70K greyscale images of handwritten digits from 0 to 9 and it provides a pavement for testing image processing systems. \n",
    "- This is considered to be the ‘hello world program in Machine Learning’ which involves Deep Learning.\n",
    "- Preparing the dataset:\n",
    "    - Load the MNIST dataset \n",
    "    - Normalize the input data by dividing the train and test sets by 255. (The pixel values of the images are scaled between 0 and 1 by dividing by 255)"
   ]
  },
  {
   "cell_type": "markdown",
   "metadata": {},
   "source": []
  },
  {
   "cell_type": "code",
   "execution_count": 3,
   "metadata": {},
   "outputs": [],
   "source": [
    "#only for mac or when you get an ssl warning\n",
    "import ssl\n",
    "ssl._create_default_https_context = ssl._create_unverified_context #deactivate SSL Cert Error\n"
   ]
  },
  {
   "cell_type": "code",
   "execution_count": 4,
   "metadata": {
    "colab": {
     "base_uri": "https://localhost:8080/"
    },
    "executionInfo": {
     "elapsed": 1552,
     "status": "ok",
     "timestamp": 1683189767614,
     "user": {
      "displayName": "Akshay Kukkaje",
      "userId": "07529526247935866270"
     },
     "user_tz": -330
    },
    "id": "skfLvH-nHMKX",
    "outputId": "af39762a-71e8-40f3-9403-1f19c3e3bbb9"
   },
   "outputs": [
    {
     "data": {
      "text/plain": [
       "((array([[[0, 0, 0, ..., 0, 0, 0],\n",
       "          [0, 0, 0, ..., 0, 0, 0],\n",
       "          [0, 0, 0, ..., 0, 0, 0],\n",
       "          ...,\n",
       "          [0, 0, 0, ..., 0, 0, 0],\n",
       "          [0, 0, 0, ..., 0, 0, 0],\n",
       "          [0, 0, 0, ..., 0, 0, 0]],\n",
       "  \n",
       "         [[0, 0, 0, ..., 0, 0, 0],\n",
       "          [0, 0, 0, ..., 0, 0, 0],\n",
       "          [0, 0, 0, ..., 0, 0, 0],\n",
       "          ...,\n",
       "          [0, 0, 0, ..., 0, 0, 0],\n",
       "          [0, 0, 0, ..., 0, 0, 0],\n",
       "          [0, 0, 0, ..., 0, 0, 0]],\n",
       "  \n",
       "         [[0, 0, 0, ..., 0, 0, 0],\n",
       "          [0, 0, 0, ..., 0, 0, 0],\n",
       "          [0, 0, 0, ..., 0, 0, 0],\n",
       "          ...,\n",
       "          [0, 0, 0, ..., 0, 0, 0],\n",
       "          [0, 0, 0, ..., 0, 0, 0],\n",
       "          [0, 0, 0, ..., 0, 0, 0]],\n",
       "  \n",
       "         ...,\n",
       "  \n",
       "         [[0, 0, 0, ..., 0, 0, 0],\n",
       "          [0, 0, 0, ..., 0, 0, 0],\n",
       "          [0, 0, 0, ..., 0, 0, 0],\n",
       "          ...,\n",
       "          [0, 0, 0, ..., 0, 0, 0],\n",
       "          [0, 0, 0, ..., 0, 0, 0],\n",
       "          [0, 0, 0, ..., 0, 0, 0]],\n",
       "  \n",
       "         [[0, 0, 0, ..., 0, 0, 0],\n",
       "          [0, 0, 0, ..., 0, 0, 0],\n",
       "          [0, 0, 0, ..., 0, 0, 0],\n",
       "          ...,\n",
       "          [0, 0, 0, ..., 0, 0, 0],\n",
       "          [0, 0, 0, ..., 0, 0, 0],\n",
       "          [0, 0, 0, ..., 0, 0, 0]],\n",
       "  \n",
       "         [[0, 0, 0, ..., 0, 0, 0],\n",
       "          [0, 0, 0, ..., 0, 0, 0],\n",
       "          [0, 0, 0, ..., 0, 0, 0],\n",
       "          ...,\n",
       "          [0, 0, 0, ..., 0, 0, 0],\n",
       "          [0, 0, 0, ..., 0, 0, 0],\n",
       "          [0, 0, 0, ..., 0, 0, 0]]], dtype=uint8),\n",
       "  array([5, 0, 4, ..., 5, 6, 8], dtype=uint8)),\n",
       " (array([[[0, 0, 0, ..., 0, 0, 0],\n",
       "          [0, 0, 0, ..., 0, 0, 0],\n",
       "          [0, 0, 0, ..., 0, 0, 0],\n",
       "          ...,\n",
       "          [0, 0, 0, ..., 0, 0, 0],\n",
       "          [0, 0, 0, ..., 0, 0, 0],\n",
       "          [0, 0, 0, ..., 0, 0, 0]],\n",
       "  \n",
       "         [[0, 0, 0, ..., 0, 0, 0],\n",
       "          [0, 0, 0, ..., 0, 0, 0],\n",
       "          [0, 0, 0, ..., 0, 0, 0],\n",
       "          ...,\n",
       "          [0, 0, 0, ..., 0, 0, 0],\n",
       "          [0, 0, 0, ..., 0, 0, 0],\n",
       "          [0, 0, 0, ..., 0, 0, 0]],\n",
       "  \n",
       "         [[0, 0, 0, ..., 0, 0, 0],\n",
       "          [0, 0, 0, ..., 0, 0, 0],\n",
       "          [0, 0, 0, ..., 0, 0, 0],\n",
       "          ...,\n",
       "          [0, 0, 0, ..., 0, 0, 0],\n",
       "          [0, 0, 0, ..., 0, 0, 0],\n",
       "          [0, 0, 0, ..., 0, 0, 0]],\n",
       "  \n",
       "         ...,\n",
       "  \n",
       "         [[0, 0, 0, ..., 0, 0, 0],\n",
       "          [0, 0, 0, ..., 0, 0, 0],\n",
       "          [0, 0, 0, ..., 0, 0, 0],\n",
       "          ...,\n",
       "          [0, 0, 0, ..., 0, 0, 0],\n",
       "          [0, 0, 0, ..., 0, 0, 0],\n",
       "          [0, 0, 0, ..., 0, 0, 0]],\n",
       "  \n",
       "         [[0, 0, 0, ..., 0, 0, 0],\n",
       "          [0, 0, 0, ..., 0, 0, 0],\n",
       "          [0, 0, 0, ..., 0, 0, 0],\n",
       "          ...,\n",
       "          [0, 0, 0, ..., 0, 0, 0],\n",
       "          [0, 0, 0, ..., 0, 0, 0],\n",
       "          [0, 0, 0, ..., 0, 0, 0]],\n",
       "  \n",
       "         [[0, 0, 0, ..., 0, 0, 0],\n",
       "          [0, 0, 0, ..., 0, 0, 0],\n",
       "          [0, 0, 0, ..., 0, 0, 0],\n",
       "          ...,\n",
       "          [0, 0, 0, ..., 0, 0, 0],\n",
       "          [0, 0, 0, ..., 0, 0, 0],\n",
       "          [0, 0, 0, ..., 0, 0, 0]]], dtype=uint8),\n",
       "  array([7, 2, 1, ..., 4, 5, 6], dtype=uint8)))"
      ]
     },
     "execution_count": 4,
     "metadata": {},
     "output_type": "execute_result"
    }
   ],
   "source": [
    "mnist = tf.keras.datasets.mnist\n",
    "mnist \n",
    "mnist.load_data() #mnist array"
   ]
  },
  {
   "cell_type": "code",
   "execution_count": 5,
   "metadata": {},
   "outputs": [],
   "source": [
    "#split the data\n",
    "(x_train, y_train), (x_test, y_test) = mnist.load_data()\n"
   ]
  },
  {
   "cell_type": "code",
   "execution_count": 6,
   "metadata": {},
   "outputs": [
    {
     "data": {
      "text/plain": [
       "(255, 0)"
      ]
     },
     "execution_count": 6,
     "metadata": {},
     "output_type": "execute_result"
    }
   ],
   "source": [
    "x_train.max(), x_train.min()"
   ]
  },
  {
   "cell_type": "code",
   "execution_count": 7,
   "metadata": {},
   "outputs": [
    {
     "data": {
      "text/plain": [
       "(60000, 28, 28)"
      ]
     },
     "execution_count": 7,
     "metadata": {},
     "output_type": "execute_result"
    }
   ],
   "source": [
    "x_train.shape # 60k images and 28 x 28 pixels"
   ]
  },
  {
   "cell_type": "code",
   "execution_count": null,
   "metadata": {},
   "outputs": [],
   "source": [
    "X_test.shape[0]/X_train.shape[0]"
   ]
  },
  {
   "cell_type": "markdown",
   "metadata": {},
   "source": [
    "The ratio is ~83:17"
   ]
  },
  {
   "cell_type": "code",
   "execution_count": 8,
   "metadata": {},
   "outputs": [],
   "source": [
    "#The pixel values of the images are scaled between 0 and 1 by dividing by 255.0. for normalization\n",
    "\n",
    "x_train, x_test = x_train / 255.0, x_test / 255.0"
   ]
  },
  {
   "cell_type": "markdown",
   "metadata": {},
   "source": [
    "- 28 x 28 = 784 small image file compared to standard\n",
    "- in a lot of cases you're be dealing with HD images. 1080 x 1980 = around 2M \n",
    "- Plus, you'll have RGB so 3 layers. 3 x 1080 x 1980 = around 6M \n",
    "- The division by 255 is a normalization step. The MNIST dataset consists of grayscale images, where each pixel intensity ranges from 0 to 255 (with 0 being black and 255 being white). By dividing each pixel value by 255, the pixel intensities are scaled to the range [0, 1]."
   ]
  },
  {
   "cell_type": "code",
   "execution_count": 9,
   "metadata": {},
   "outputs": [
    {
     "name": "stdout",
     "output_type": "stream",
     "text": [
      "376.32\n"
     ]
    }
   ],
   "source": [
    "print(x_train.nbytes/1000000)"
   ]
  },
  {
   "cell_type": "markdown",
   "metadata": {
    "id": "65QMopVDbRV_"
   },
   "source": [
    "__Observation:__\n",
    "- The dataset has been downloaded.\n",
    "- It's a large dataset - about 376MB just for X train"
   ]
  },
  {
   "cell_type": "markdown",
   "metadata": {
    "id": "jNMOqMYQJLig"
   },
   "source": [
    "## Step 3: Building the Neural Network Model\n",
    "\n",
    "- Create a Sequential model with Flatten, Dense, and Dropout layers\n"
   ]
  },
  {
   "cell_type": "code",
   "execution_count": 10,
   "metadata": {},
   "outputs": [
    {
     "name": "stderr",
     "output_type": "stream",
     "text": [
      "/Library/Frameworks/Python.framework/Versions/3.11/lib/python3.11/site-packages/keras/src/layers/reshaping/flatten.py:37: UserWarning: Do not pass an `input_shape`/`input_dim` argument to a layer. When using Sequential models, prefer using an `Input(shape)` object as the first layer in the model instead.\n",
      "  super().__init__(**kwargs)\n"
     ]
    }
   ],
   "source": [
    "# style 1 syntax\n",
    "model = models.Sequential(\n",
    "    [\n",
    "        layers.Flatten(input_shape=(28,28)), #first layer: flattened input\n",
    "        layers.Dense(128, activation='relu'), #second layer: hidden layer with ReLU activation function\n",
    "        layers.Dropout(0.2), #for regularization to address overfitting\n",
    "        layers.Dense(10)# use len(np.unique(y_train)) to automate\n",
    "    ]\n",
    ")\n"
   ]
  },
  {
   "cell_type": "code",
   "execution_count": 11,
   "metadata": {
    "id": "mtWDjnQ-HMKY"
   },
   "outputs": [],
   "source": [
    "# style 2\n",
    "model = tf.keras.models.Sequential([\n",
    "                tf.keras.layers.Flatten(input_shape=(28, 28)),\n",
    "                tf.keras.layers.Dense(128, activation='relu'),\n",
    "                tf.keras.layers.Dropout(0.2),\n",
    "                tf.keras.layers.Dense(10)\n",
    "])"
   ]
  },
  {
   "cell_type": "markdown",
   "metadata": {},
   "source": [
    "- `model = tf.keras.models.Sequential([...])`: This creates a sequential model (sequentially creating layers), a linear stack of layers. The model is defined with the following layers:\n",
    "     - `Flatten`: This layer converts the 28x28 input images into a 1D array (784 elements).\n",
    "     - `Dense`: A fully connected layer with 128 neurons and ReLU activation function. \n",
    "          - **ReLU** is a **Re**ctified **L**inear **U**nit that is an activation function that introduces the property of non-linearity to a deep learning model and solves the vanishing gradients issue.\n",
    "     - `Dropout`: A regularization technique that randomly sets a fraction (0.2) of the input units to 0 at each update during training.\n",
    "     - Another `Dense` layer with 10 neurons (output layer) representing the logits (raw scores) for 10 classes (digits 0-9). Probability score. You can add an activation funciton here or derive results later.\n",
    "- Keep in mind there are other methods of creating NN (other than Sequential)\n",
    "- Later we'll see how to use functional APIs with more complexity"
   ]
  },
  {
   "cell_type": "code",
   "execution_count": 12,
   "metadata": {},
   "outputs": [
    {
     "data": {
      "text/html": [
       "<pre style=\"white-space:pre;overflow-x:auto;line-height:normal;font-family:Menlo,'DejaVu Sans Mono',consolas,'Courier New',monospace\"><span style=\"font-weight: bold\">Model: \"sequential_1\"</span>\n",
       "</pre>\n"
      ],
      "text/plain": [
       "\u001b[1mModel: \"sequential_1\"\u001b[0m\n"
      ]
     },
     "metadata": {},
     "output_type": "display_data"
    },
    {
     "data": {
      "text/html": [
       "<pre style=\"white-space:pre;overflow-x:auto;line-height:normal;font-family:Menlo,'DejaVu Sans Mono',consolas,'Courier New',monospace\">┏━━━━━━━━━━━━━━━━━━━━━━━━━━━━━━━━━┳━━━━━━━━━━━━━━━━━━━━━━━━┳━━━━━━━━━━━━━━━┓\n",
       "┃<span style=\"font-weight: bold\"> Layer (type)                    </span>┃<span style=\"font-weight: bold\"> Output Shape           </span>┃<span style=\"font-weight: bold\">       Param # </span>┃\n",
       "┡━━━━━━━━━━━━━━━━━━━━━━━━━━━━━━━━━╇━━━━━━━━━━━━━━━━━━━━━━━━╇━━━━━━━━━━━━━━━┩\n",
       "│ flatten_1 (<span style=\"color: #0087ff; text-decoration-color: #0087ff\">Flatten</span>)             │ (<span style=\"color: #00d7ff; text-decoration-color: #00d7ff\">None</span>, <span style=\"color: #00af00; text-decoration-color: #00af00\">784</span>)            │             <span style=\"color: #00af00; text-decoration-color: #00af00\">0</span> │\n",
       "├─────────────────────────────────┼────────────────────────┼───────────────┤\n",
       "│ dense_2 (<span style=\"color: #0087ff; text-decoration-color: #0087ff\">Dense</span>)                 │ (<span style=\"color: #00d7ff; text-decoration-color: #00d7ff\">None</span>, <span style=\"color: #00af00; text-decoration-color: #00af00\">128</span>)            │       <span style=\"color: #00af00; text-decoration-color: #00af00\">100,480</span> │\n",
       "├─────────────────────────────────┼────────────────────────┼───────────────┤\n",
       "│ dropout_1 (<span style=\"color: #0087ff; text-decoration-color: #0087ff\">Dropout</span>)             │ (<span style=\"color: #00d7ff; text-decoration-color: #00d7ff\">None</span>, <span style=\"color: #00af00; text-decoration-color: #00af00\">128</span>)            │             <span style=\"color: #00af00; text-decoration-color: #00af00\">0</span> │\n",
       "├─────────────────────────────────┼────────────────────────┼───────────────┤\n",
       "│ dense_3 (<span style=\"color: #0087ff; text-decoration-color: #0087ff\">Dense</span>)                 │ (<span style=\"color: #00d7ff; text-decoration-color: #00d7ff\">None</span>, <span style=\"color: #00af00; text-decoration-color: #00af00\">10</span>)             │         <span style=\"color: #00af00; text-decoration-color: #00af00\">1,290</span> │\n",
       "└─────────────────────────────────┴────────────────────────┴───────────────┘\n",
       "</pre>\n"
      ],
      "text/plain": [
       "┏━━━━━━━━━━━━━━━━━━━━━━━━━━━━━━━━━┳━━━━━━━━━━━━━━━━━━━━━━━━┳━━━━━━━━━━━━━━━┓\n",
       "┃\u001b[1m \u001b[0m\u001b[1mLayer (type)                   \u001b[0m\u001b[1m \u001b[0m┃\u001b[1m \u001b[0m\u001b[1mOutput Shape          \u001b[0m\u001b[1m \u001b[0m┃\u001b[1m \u001b[0m\u001b[1m      Param #\u001b[0m\u001b[1m \u001b[0m┃\n",
       "┡━━━━━━━━━━━━━━━━━━━━━━━━━━━━━━━━━╇━━━━━━━━━━━━━━━━━━━━━━━━╇━━━━━━━━━━━━━━━┩\n",
       "│ flatten_1 (\u001b[38;5;33mFlatten\u001b[0m)             │ (\u001b[38;5;45mNone\u001b[0m, \u001b[38;5;34m784\u001b[0m)            │             \u001b[38;5;34m0\u001b[0m │\n",
       "├─────────────────────────────────┼────────────────────────┼───────────────┤\n",
       "│ dense_2 (\u001b[38;5;33mDense\u001b[0m)                 │ (\u001b[38;5;45mNone\u001b[0m, \u001b[38;5;34m128\u001b[0m)            │       \u001b[38;5;34m100,480\u001b[0m │\n",
       "├─────────────────────────────────┼────────────────────────┼───────────────┤\n",
       "│ dropout_1 (\u001b[38;5;33mDropout\u001b[0m)             │ (\u001b[38;5;45mNone\u001b[0m, \u001b[38;5;34m128\u001b[0m)            │             \u001b[38;5;34m0\u001b[0m │\n",
       "├─────────────────────────────────┼────────────────────────┼───────────────┤\n",
       "│ dense_3 (\u001b[38;5;33mDense\u001b[0m)                 │ (\u001b[38;5;45mNone\u001b[0m, \u001b[38;5;34m10\u001b[0m)             │         \u001b[38;5;34m1,290\u001b[0m │\n",
       "└─────────────────────────────────┴────────────────────────┴───────────────┘\n"
      ]
     },
     "metadata": {},
     "output_type": "display_data"
    },
    {
     "data": {
      "text/html": [
       "<pre style=\"white-space:pre;overflow-x:auto;line-height:normal;font-family:Menlo,'DejaVu Sans Mono',consolas,'Courier New',monospace\"><span style=\"font-weight: bold\"> Total params: </span><span style=\"color: #00af00; text-decoration-color: #00af00\">101,770</span> (397.54 KB)\n",
       "</pre>\n"
      ],
      "text/plain": [
       "\u001b[1m Total params: \u001b[0m\u001b[38;5;34m101,770\u001b[0m (397.54 KB)\n"
      ]
     },
     "metadata": {},
     "output_type": "display_data"
    },
    {
     "data": {
      "text/html": [
       "<pre style=\"white-space:pre;overflow-x:auto;line-height:normal;font-family:Menlo,'DejaVu Sans Mono',consolas,'Courier New',monospace\"><span style=\"font-weight: bold\"> Trainable params: </span><span style=\"color: #00af00; text-decoration-color: #00af00\">101,770</span> (397.54 KB)\n",
       "</pre>\n"
      ],
      "text/plain": [
       "\u001b[1m Trainable params: \u001b[0m\u001b[38;5;34m101,770\u001b[0m (397.54 KB)\n"
      ]
     },
     "metadata": {},
     "output_type": "display_data"
    },
    {
     "data": {
      "text/html": [
       "<pre style=\"white-space:pre;overflow-x:auto;line-height:normal;font-family:Menlo,'DejaVu Sans Mono',consolas,'Courier New',monospace\"><span style=\"font-weight: bold\"> Non-trainable params: </span><span style=\"color: #00af00; text-decoration-color: #00af00\">0</span> (0.00 B)\n",
       "</pre>\n"
      ],
      "text/plain": [
       "\u001b[1m Non-trainable params: \u001b[0m\u001b[38;5;34m0\u001b[0m (0.00 B)\n"
      ]
     },
     "metadata": {},
     "output_type": "display_data"
    }
   ],
   "source": [
    "model.summary() "
   ]
  },
  {
   "cell_type": "markdown",
   "metadata": {},
   "source": [
    "- It gives how many outputs, neurons, biases, and weight values\n",
    "- how was it derived?\n",
    "- The summary above gives the count of input, outputs, layers, biases, and weights\n",
    "    - 784 (inputs) x 128 (weights) x 128 (biases) = 100480\n",
    "    - 128 (weights) x 10 (outputs) + 10 (biases)"
   ]
  },
  {
   "cell_type": "markdown",
   "metadata": {},
   "source": [
    "![wb](https://miro.medium.com/v2/resize:fit:485/0*rVZEEOvKGHsbxIFw.)\n",
    "\n",
    "![wb2](https://www.researchgate.net/publication/335468765/figure/fig1/AS:11431281174318752@1689193246320/Our-neural-network-settings-weight-matrix-W-and-bias-b-are-recalibrated-in-the-learning.png)"
   ]
  },
  {
   "cell_type": "markdown",
   "metadata": {
    "id": "-OeXA6kqJOS9"
   },
   "source": [
    "## Step 4: Get Predictions from the Model\n",
    "\n",
    "- Get the predictions from the model using the train data for one column, as the optimizer is not yet applied\n"
   ]
  },
  {
   "cell_type": "code",
   "execution_count": 13,
   "metadata": {
    "colab": {
     "base_uri": "https://localhost:8080/"
    },
    "executionInfo": {
     "elapsed": 392,
     "status": "ok",
     "timestamp": 1683189778447,
     "user": {
      "displayName": "Akshay Kukkaje",
      "userId": "07529526247935866270"
     },
     "user_tz": -330
    },
    "id": "EEXrOQBIHMKY",
    "outputId": "baa54312-591d-4b80-cae7-b64c6669b0cf"
   },
   "outputs": [
    {
     "data": {
      "text/plain": [
       "array([[-0.6930715 ,  0.75509214,  0.17974252, -0.2901444 ,  0.30932713,\n",
       "         0.7397773 , -0.99563074,  0.18784574, -0.11736416, -0.13188113]],\n",
       "      dtype=float32)"
      ]
     },
     "execution_count": 13,
     "metadata": {},
     "output_type": "execute_result"
    }
   ],
   "source": [
    "predictions = model(x_train[:1]).numpy()\n",
    "predictions"
   ]
  },
  {
   "cell_type": "markdown",
   "metadata": {
    "id": "253Rri_7bYGW"
   },
   "source": [
    "__Observation:__\n",
    "- An array of predicted values is displayed.\n",
    "- It's raw values coming out of the 10 neurons\n",
    "- It's hard to interpret if we use it early here\n",
    "- we need ot convert output into classification format (1,2,3,etc..)"
   ]
  },
  {
   "cell_type": "markdown",
   "metadata": {
    "id": "CRWveFSDJQ1g"
   },
   "source": [
    "## Step 5: Apply Softmax Activation to the Predictions\n",
    "\n",
    "- Apply softmax activation to the predictions and print the output in terms of probabilities\n",
    "- This applies the softmax function to the logits to get class probabilities. It shows the predicted class probabilities for the first training example.\n"
   ]
  },
  {
   "cell_type": "markdown",
   "metadata": {},
   "source": [
    "![sm](https://www.researchgate.net/publication/348703101/figure/fig5/AS:983057658040324@1611390618742/Graphic-representation-of-the-softmax-activation-function.ppm)"
   ]
  },
  {
   "cell_type": "code",
   "execution_count": 14,
   "metadata": {
    "colab": {
     "base_uri": "https://localhost:8080/"
    },
    "executionInfo": {
     "elapsed": 419,
     "status": "ok",
     "timestamp": 1683190626726,
     "user": {
      "displayName": "Akshay Kukkaje",
      "userId": "07529526247935866270"
     },
     "user_tz": -330
    },
    "id": "wBEJwtZTHMKZ",
    "outputId": "aae33be5-27e4-4b13-8d74-75f6edccff91"
   },
   "outputs": [
    {
     "data": {
      "text/plain": [
       "<tf.Tensor: shape=(1, 10), dtype=float32, numpy=\n",
       "array([[0.04396814, 0.18709733, 0.10524377, 0.06578504, 0.11980482,\n",
       "        0.18425378, 0.03248915, 0.10610005, 0.07819241, 0.0770655 ]],\n",
       "      dtype=float32)>"
      ]
     },
     "execution_count": 14,
     "metadata": {},
     "output_type": "execute_result"
    }
   ],
   "source": [
    "tf.nn.softmax(predictions)"
   ]
  },
  {
   "cell_type": "markdown",
   "metadata": {},
   "source": [
    "What we get above is a tensor object not a numpy array"
   ]
  },
  {
   "cell_type": "code",
   "execution_count": 15,
   "metadata": {},
   "outputs": [
    {
     "data": {
      "text/plain": [
       "array([[0.04396814, 0.18709733, 0.10524377, 0.06578504, 0.11980482,\n",
       "        0.18425378, 0.03248915, 0.10610005, 0.07819241, 0.0770655 ]],\n",
       "      dtype=float32)"
      ]
     },
     "execution_count": 15,
     "metadata": {},
     "output_type": "execute_result"
    }
   ],
   "source": [
    "tf.nn.softmax(predictions).numpy()"
   ]
  },
  {
   "cell_type": "markdown",
   "metadata": {
    "id": "FbeDR5bZbk_x"
   },
   "source": [
    "__Observation:__\n",
    "- The predicted values in terms of probabilities are displayed as an array.\n",
    "- we can get the probabilities of the first prediction"
   ]
  },
  {
   "cell_type": "code",
   "execution_count": 16,
   "metadata": {},
   "outputs": [
    {
     "data": {
      "text/plain": [
       "array([[0.04396814, 0.18709733, 0.10524377, 0.06578504, 0.11980482,\n",
       "        0.18425378, 0.03248915, 0.10610005, 0.07819241, 0.0770655 ]],\n",
       "      dtype=float32)"
      ]
     },
     "execution_count": 16,
     "metadata": {},
     "output_type": "execute_result"
    }
   ],
   "source": [
    "tf.nn.softmax(predictions).numpy()"
   ]
  },
  {
   "cell_type": "markdown",
   "metadata": {},
   "source": [
    "- You can see we have \n",
    "- if we add up all the values we get a value close to 1"
   ]
  },
  {
   "cell_type": "code",
   "execution_count": 17,
   "metadata": {},
   "outputs": [
    {
     "data": {
      "text/plain": [
       "1.0"
      ]
     },
     "execution_count": 17,
     "metadata": {},
     "output_type": "execute_result"
    }
   ],
   "source": [
    "tf.nn.softmax(predictions).numpy()[0].sum()"
   ]
  },
  {
   "cell_type": "markdown",
   "metadata": {},
   "source": [
    "- Results above don't look good because the model is unsure.\n",
    "- we need to improve the model using backpropagation\n",
    "- First we get the loss funciton"
   ]
  },
  {
   "cell_type": "markdown",
   "metadata": {
    "id": "PI12JfM-JToW"
   },
   "source": [
    "## Step 6: Define the Loss Function\n",
    "\n",
    "- Let's create a loss function for the model.\n",
    "- Next, let's define the SparseCategoricalCrossentropy loss function.\n",
    "- This initializes the loss function, which computes the sparse categorical cross-entropy loss between the true labels and the predicted logits.\n"
   ]
  },
  {
   "cell_type": "code",
   "execution_count": 18,
   "metadata": {
    "id": "nZ6pLV9zHMKZ"
   },
   "outputs": [],
   "source": [
    "#This initializes the loss function, which computes the sparse categorical cross-entropy loss between the true labels and the predicted logits. \n",
    "# we call those logits becuase we don't have an activation function associated with the last layer (output)\n",
    "#for classification (categorical)\n",
    "# binary classification for each category for example for num 3\n",
    "# [0 0 1 0 0 0 0 0 0]\n",
    "loss_fn = tf.keras.losses.SparseCategoricalCrossentropy(from_logits=True)"
   ]
  },
  {
   "cell_type": "code",
   "execution_count": 19,
   "metadata": {
    "colab": {
     "base_uri": "https://localhost:8080/"
    },
    "executionInfo": {
     "elapsed": 469,
     "status": "ok",
     "timestamp": 1683190644262,
     "user": {
      "displayName": "Akshay Kukkaje",
      "userId": "07529526247935866270"
     },
     "user_tz": -330
    },
    "id": "AAnHjWvTHMKZ",
    "outputId": "39cc663e-71ba-478b-b5a4-eeddce521c9d"
   },
   "outputs": [
    {
     "data": {
      "text/plain": [
       "1.6914412"
      ]
     },
     "execution_count": 19,
     "metadata": {},
     "output_type": "execute_result"
    }
   ],
   "source": [
    "loss_fn(y_train[:1], predictions).numpy()"
   ]
  },
  {
   "cell_type": "markdown",
   "metadata": {},
   "source": [
    "To get the best outcome out of NN, we need to use Backpropagation, which consists of:\n",
    "\n",
    "\n",
    "* The cost/loss function: calculate the loss derived from the difference between actual and predicted value\n",
    "* The optimizer: help me find the best parameters (weights and biases) where the loss value at minimum (Global Minima)\n",
    "* The evaluation metric: used to determine how off we are from the actual values\n",
    "\n"
   ]
  },
  {
   "cell_type": "markdown",
   "metadata": {
    "id": "w5HvjqdUH0WN"
   },
   "source": [
    "__Observation:__\n",
    "- Here,the value is 2.061."
   ]
  },
  {
   "cell_type": "markdown",
   "metadata": {
    "id": "XVXzZg9iJZaG"
   },
   "source": [
    "## Step 7: Compile the Model\n",
    "\n",
    "- Now, compile the model with the Adam optimizer, the loss function, and the accuracy metric"
   ]
  },
  {
   "cell_type": "code",
   "execution_count": 20,
   "metadata": {
    "id": "YKnSLj5vHMKa"
   },
   "outputs": [],
   "source": [
    "model.compile(optimizer='adam',\n",
    "              loss=loss_fn, #sparse_categorical_crossentropy\n",
    "              metrics=['accuracy'])"
   ]
  },
  {
   "cell_type": "markdown",
   "metadata": {
    "id": "p_F7rCgcIEMG"
   },
   "source": [
    "__Observation:__\n",
    "- This compiles the model, specifying the optimizer ('adam'), loss function (loss_fn), and evaluation metric ('accuracy')."
   ]
  },
  {
   "cell_type": "markdown",
   "metadata": {},
   "source": [
    "- `optimizer`: The optimization algorithm, in this case, 'adam', which is a popular gradient-based optimization algorithm.\n",
    "- `loss`: The loss function, 'sparse_categorical_crossentropy', appropriate for multi-class classification tasks.\n",
    "- `metrics`: The evaluation metric, 'accuracy', to monitor during training."
   ]
  },
  {
   "cell_type": "markdown",
   "metadata": {
    "id": "-AnMOFCkJcgv"
   },
   "source": [
    "## Step 8: Train the Model\n",
    "\n",
    "- Fit the model using the training data for 5 epochs\n"
   ]
  },
  {
   "cell_type": "code",
   "execution_count": 21,
   "metadata": {
    "colab": {
     "base_uri": "https://localhost:8080/"
    },
    "executionInfo": {
     "elapsed": 42571,
     "status": "ok",
     "timestamp": 1683190705515,
     "user": {
      "displayName": "Akshay Kukkaje",
      "userId": "07529526247935866270"
     },
     "user_tz": -330
    },
    "id": "5hjrBy1aHMKa",
    "outputId": "ab86d2c5-d80f-4bf8-a46d-fd6bb54528a0"
   },
   "outputs": [
    {
     "name": "stdout",
     "output_type": "stream",
     "text": [
      "Epoch 1/5\n",
      "\u001b[1m1022/1500\u001b[0m \u001b[32m━━━━━━━━━━━━━\u001b[0m\u001b[37m━━━━━━━\u001b[0m \u001b[1m0s\u001b[0m 788us/step - accuracy: 0.8261 - loss: 0.6055"
     ]
    },
    {
     "name": "stdout",
     "output_type": "stream",
     "text": [
      "\u001b[1m1500/1500\u001b[0m \u001b[32m━━━━━━━━━━━━━━━━━━━━\u001b[0m\u001b[37m\u001b[0m \u001b[1m2s\u001b[0m 989us/step - accuracy: 0.8501 - loss: 0.5216 - val_accuracy: 0.9564 - val_loss: 0.1579\n",
      "Epoch 2/5\n",
      "\u001b[1m1500/1500\u001b[0m \u001b[32m━━━━━━━━━━━━━━━━━━━━\u001b[0m\u001b[37m\u001b[0m \u001b[1m1s\u001b[0m 843us/step - accuracy: 0.9511 - loss: 0.1670 - val_accuracy: 0.9633 - val_loss: 0.1241\n",
      "Epoch 3/5\n",
      "\u001b[1m1500/1500\u001b[0m \u001b[32m━━━━━━━━━━━━━━━━━━━━\u001b[0m\u001b[37m\u001b[0m \u001b[1m1s\u001b[0m 845us/step - accuracy: 0.9645 - loss: 0.1190 - val_accuracy: 0.9687 - val_loss: 0.1004\n",
      "Epoch 4/5\n",
      "\u001b[1m1500/1500\u001b[0m \u001b[32m━━━━━━━━━━━━━━━━━━━━\u001b[0m\u001b[37m\u001b[0m \u001b[1m1s\u001b[0m 833us/step - accuracy: 0.9725 - loss: 0.0919 - val_accuracy: 0.9724 - val_loss: 0.0930\n",
      "Epoch 5/5\n",
      "\u001b[1m1500/1500\u001b[0m \u001b[32m━━━━━━━━━━━━━━━━━━━━\u001b[0m\u001b[37m\u001b[0m \u001b[1m1s\u001b[0m 836us/step - accuracy: 0.9749 - loss: 0.0776 - val_accuracy: 0.9736 - val_loss: 0.0855\n"
     ]
    }
   ],
   "source": [
    "history = model.fit(x_train, y_train, epochs=5, validation_split=0.2)"
   ]
  },
  {
   "cell_type": "markdown",
   "metadata": {
    "id": "GHvNMdBKbv1X"
   },
   "source": [
    "__Observations:__\n",
    "- The model fits the data.\n",
    "- Here, we can see that the accuracy is increased by different epochs.\n",
    "- validation vs training accuracy\n",
    "- Accuracy\tTraining\tMeasures model performance on seen training data\n",
    "- Val_accuracy\tValidation\tMeasures model performance on unseen validation data"
   ]
  },
  {
   "cell_type": "markdown",
   "metadata": {
    "id": "m0WyyUkmJfL2"
   },
   "source": [
    "## Step 9: Evaluate the Model\n",
    "\n",
    "- Evaluate the model using the testing data and print the results\n"
   ]
  },
  {
   "cell_type": "code",
   "execution_count": 22,
   "metadata": {
    "colab": {
     "base_uri": "https://localhost:8080/"
    },
    "executionInfo": {
     "elapsed": 2290,
     "status": "ok",
     "timestamp": 1683190827522,
     "user": {
      "displayName": "Akshay Kukkaje",
      "userId": "07529526247935866270"
     },
     "user_tz": -330
    },
    "id": "VzaL0IbfHMKa",
    "outputId": "eed7af37-9c45-4c59-c705-b7c88dc57e8d"
   },
   "outputs": [
    {
     "name": "stdout",
     "output_type": "stream",
     "text": [
      "313/313 - 0s - 415us/step - accuracy: 0.9748 - loss: 0.0775\n"
     ]
    },
    {
     "data": {
      "text/plain": [
       "[0.07745141535997391, 0.9747999906539917]"
      ]
     },
     "execution_count": 22,
     "metadata": {},
     "output_type": "execute_result"
    }
   ],
   "source": [
    "model.evaluate(x_test,  y_test, verbose=2)"
   ]
  },
  {
   "cell_type": "markdown",
   "metadata": {},
   "source": [
    "By setting verbose 0, 1 or 2 you just say how do you want to 'see' the training progress for each epoch.\n",
    "- verbose=0 will show you nothing (silent)\n",
    "- verbose=1 will show you an animated progress bar \n",
    "- verbose=2 will just mention the number of epoch "
   ]
  },
  {
   "cell_type": "markdown",
   "metadata": {
    "id": "VP4xBW0Bb1Np"
   },
   "source": [
    "__Observation:__\n",
    "\n",
    "- The accuracy score is 0.9779, and the loss is 0.071."
   ]
  },
  {
   "cell_type": "code",
   "execution_count": 23,
   "metadata": {},
   "outputs": [
    {
     "data": {
      "text/plain": [
       "{'accuracy': [0.9073125123977661,\n",
       "  0.9535624980926514,\n",
       "  0.9650416374206543,\n",
       "  0.9711874723434448,\n",
       "  0.9739166498184204],\n",
       " 'loss': [0.32067200541496277,\n",
       "  0.1561514139175415,\n",
       "  0.11570312827825546,\n",
       "  0.09421870112419128,\n",
       "  0.08041407912969589],\n",
       " 'val_accuracy': [0.956416666507721,\n",
       "  0.9633333086967468,\n",
       "  0.968666672706604,\n",
       "  0.9724166393280029,\n",
       "  0.9735833406448364],\n",
       " 'val_loss': [0.15791398286819458,\n",
       "  0.12411630898714066,\n",
       "  0.10041413456201553,\n",
       "  0.0929785892367363,\n",
       "  0.085492342710495]}"
      ]
     },
     "execution_count": 23,
     "metadata": {},
     "output_type": "execute_result"
    }
   ],
   "source": [
    "history.history"
   ]
  },
  {
   "cell_type": "code",
   "execution_count": 24,
   "metadata": {},
   "outputs": [
    {
     "data": {
      "image/png": "[encoded data removed]",
      "text/plain": [
       "<Figure size 640x480 with 1 Axes>"
      ]
     },
     "metadata": {},
     "output_type": "display_data"
    }
   ],
   "source": [
    "plt.plot(history.history['loss'], label='Training Loss')\n",
    "plt.plot(history.history['val_loss'], label='Validation Loss')\n",
    "plt.xlabel('Epoch')\n",
    "plt.ylabel('Loss')\n",
    "plt.legend()\n",
    "plt.show()\n"
   ]
  },
  {
   "cell_type": "markdown",
   "metadata": {},
   "source": [
    "If the training loss and validation loss both decline as the number of epochs increases, it generally indicates that the model is learning and improving its performance over time. This is a positive sign and suggests that the model is converging towards a good solution.\n",
    "\n",
    "Let's break down what the declining loss curves in the visualization mean:\n",
    "\n",
    "- **Training Loss Curve**: This curve shows how the training loss decreases as the number of epochs increases. The training loss measures how well the model is fitting the training data. A decreasing training loss indicates that the model is getting better at predicting the correct labels for the training examples.\n",
    "\n",
    "- **Validation Loss Curve**: This curve shows how the validation loss decreases as the number of epochs increases. The validation loss measures how well the model generalizes to unseen data (validation set). A decreasing validation loss indicates that the model is not only memorizing the training data but also learning to make accurate predictions on new, unseen data.\n",
    "\n",
    "If both curves decline and continue to decrease without any significant increase, it suggests that the model is learning the underlying patterns in the data and is becoming better at making accurate predictions. This is a positive trend, indicating that the model is improving and is on the path to achieving good generalization.\n",
    "\n",
    "However, it's important to interpret the curves with caution:\n",
    "\n",
    "- **Overfitting**: If the training loss continues to decrease while the validation loss starts to increase, it might be a sign of overfitting. Overfitting occurs when the model becomes too specialized in learning noise in the training data, leading to poor performance on new data. It's important to monitor validation loss to detect overfitting.\n",
    "\n",
    "- **Underfitting**: If both training and validation loss remain high or decrease too slowly, the model might be underfitting. Underfitting occurs when the model is too simple to capture the underlying patterns in the data.\n",
    "\n",
    "To summarize, in machine learning, the goal is to find the point at which the validation loss stops decreasing or starts to increase, which suggests that the model's performance on new data might degrade. This point usually corresponds to the optimal balance between model complexity and generalization."
   ]
  },
  {
   "cell_type": "code",
   "execution_count": 26,
   "metadata": {},
   "outputs": [
    {
     "data": {
      "text/plain": [
       "Text(0, 0.5, 'accuracy')"
      ]
     },
     "execution_count": 26,
     "metadata": {},
     "output_type": "execute_result"
    },
    {
     "data": {
      "image/png": "[encoded data removed]",
      "text/plain": [
       "<Figure size 640x480 with 1 Axes>"
      ]
     },
     "metadata": {},
     "output_type": "display_data"
    }
   ],
   "source": [
    "plt.plot(history.history['accuracy'], label='Training accuracy')\n",
    "plt.plot(history.history['val_accuracy'], label='Validation accuracy')\n",
    "plt.legend()\n",
    "plt.xlabel('Epoch')\n",
    "plt.ylabel('accuracy')"
   ]
  },
  {
   "cell_type": "markdown",
   "metadata": {
    "id": "U4u4wC6hJiU-"
   },
   "source": [
    "## Step 10: Create a Probability Model\n",
    "\n",
    "- Create a probability model by adding the Softmax layer to the existing model\n",
    "\n"
   ]
  },
  {
   "cell_type": "code",
   "execution_count": null,
   "metadata": {
    "id": "DYpCfUUhHMKb"
   },
   "outputs": [],
   "source": [
    "probability_model = tf.keras.Sequential([\n",
    "  model,\n",
    "  tf.keras.layers.Softmax()\n",
    "])"
   ]
  },
  {
   "cell_type": "markdown",
   "metadata": {
    "id": "F3B91f33Aop5"
   },
   "source": [
    "- And, get the predictions using the test data"
   ]
  },
  {
   "cell_type": "code",
   "execution_count": null,
   "metadata": {
    "colab": {
     "base_uri": "https://localhost:8080/"
    },
    "executionInfo": {
     "elapsed": 356,
     "status": "ok",
     "timestamp": 1683190932886,
     "user": {
      "displayName": "Akshay Kukkaje",
      "userId": "07529526247935866270"
     },
     "user_tz": -330
    },
    "id": "LsDR4IHiHMKb",
    "outputId": "8d762624-d547-4e5e-f755-b873721993ff"
   },
   "outputs": [
    {
     "data": {
      "text/plain": [
       "<tf.Tensor: shape=(3, 10), dtype=float32, numpy=\n",
       "array([[5.3754803e-08, 4.6909925e-08, 1.6535176e-05, 1.0914378e-03,\n",
       "        9.0408687e-11, 2.8083736e-08, 9.3070896e-13, 9.9888831e-01,\n",
       "        6.9452693e-07, 2.8518950e-06],\n",
       "       [3.3467032e-07, 6.7986408e-04, 9.9927551e-01, 4.2351548e-05,\n",
       "        3.5844266e-14, 1.0551089e-06, 8.5224990e-08, 3.5961690e-15,\n",
       "        7.7306726e-07, 8.0365261e-13],\n",
       "       [4.3791101e-06, 9.9870956e-01, 1.1671810e-04, 4.3136224e-05,\n",
       "        2.4960155e-04, 2.5314115e-05, 7.9682330e-05, 3.1380221e-04,\n",
       "        4.5572623e-04, 2.0584930e-06]], dtype=float32)>"
      ]
     },
     "execution_count": 81,
     "metadata": {},
     "output_type": "execute_result"
    }
   ],
   "source": [
    "probability_model(x_test[:3])"
   ]
  },
  {
   "cell_type": "markdown",
   "metadata": {
    "id": "3nKN25BRb785"
   },
   "source": [
    "__Observation:__\n",
    "- Here, we have the probabilities for the first three observations and different classes."
   ]
  },
  {
   "cell_type": "code",
   "execution_count": null,
   "metadata": {},
   "outputs": [
    {
     "name": "stdout",
     "output_type": "stream",
     "text": [
      "313/313 [==============================] - 0s 389us/step\n"
     ]
    }
   ],
   "source": [
    "# Make predictions on the test data\n",
    "predictions = model.predict(x_test)\n",
    "import numpy as np\n",
    "# Convert probabilities to class labels using argmax\n",
    "predicted_classes = np.argmax(predictions, axis=1)"
   ]
  },
  {
   "cell_type": "code",
   "execution_count": null,
   "metadata": {},
   "outputs": [
    {
     "data": {
      "text/plain": [
       "array([7, 2, 1, 0, 4, 1, 4, 9, 5, 9])"
      ]
     },
     "execution_count": 83,
     "metadata": {},
     "output_type": "execute_result"
    }
   ],
   "source": [
    "predicted_classes[:10]"
   ]
  },
  {
   "cell_type": "code",
   "execution_count": null,
   "metadata": {},
   "outputs": [
    {
     "data": {
      "image/png": "[encoded data removed]",
      "text/plain": [
       "<Figure size 4000x200 with 20 Axes>"
      ]
     },
     "metadata": {},
     "output_type": "display_data"
    }
   ],
   "source": [
    "# prediction vs features comparison\n",
    "num_samples = 20\n",
    "sample_images = x_test[:num_samples].reshape(num_samples,28,28)\n",
    "sample_labels = predicted_classes[:num_samples]\n",
    "\n",
    "plt.figure(figsize=(num_samples*2,2))\n",
    "\n",
    "\n",
    "for i in range(num_samples):\n",
    "    plt.subplot(1, num_samples, i + 1)\n",
    "    plt.imshow(-1*sample_images[i], cmap='gray')\n",
    "    plt.title('Prediction: {}'.format(sample_labels[i]))\n",
    "    plt.axis('off')"
   ]
  },
  {
   "cell_type": "code",
   "execution_count": null,
   "metadata": {},
   "outputs": [
    {
     "data": {
      "text/plain": [
       "(array([ 247,  321,  340,  359,  381,  445,  448,  479,  495,  578,  582,\n",
       "         619,  646,  684,  691,  707,  717,  720,  740,  810,  874,  877,\n",
       "         882,  938,  947,  956,  965, 1014, 1039, 1112, 1128, 1226, 1232,\n",
       "        1242, 1247, 1260, 1289, 1299, 1319, 1364, 1378, 1393, 1425, 1500,\n",
       "        1522, 1530, 1549, 1553, 1609, 1621, 1681, 1709, 1717, 1737, 1751,\n",
       "        1754, 1790, 1813, 1823, 1850, 1878, 1901, 1941, 1987, 2004, 2016,\n",
       "        2024, 2043, 2053, 2070, 2098, 2109, 2129, 2130, 2135, 2145, 2182,\n",
       "        2185, 2293, 2333, 2387, 2406, 2414, 2422, 2433, 2488, 2607, 2648,\n",
       "        2654, 2720, 2760, 2771, 2810, 2877, 2915, 2921, 2927, 2939, 2953,\n",
       "        3005, 3060, 3073, 3115, 3117, 3225, 3376, 3503, 3520, 3542, 3549,\n",
       "        3558, 3559, 3567, 3597, 3604, 3674, 3751, 3757, 3780, 3796, 3808,\n",
       "        3811, 3818, 3838, 3853, 3869, 3893, 3902, 3906, 3926, 3941, 3943,\n",
       "        3976, 3985, 4000, 4027, 4065, 4078, 4163, 4176, 4199, 4224, 4248,\n",
       "        4289, 4306, 4355, 4360, 4433, 4477, 4497, 4500, 4536, 4551, 4601,\n",
       "        4690, 4751, 4761, 4807, 4823, 4860, 4879, 4880, 4886, 4956, 4966,\n",
       "        4978, 5176, 5331, 5457, 5600, 5642, 5734, 5749, 5842, 5887, 5926,\n",
       "        5936, 5937, 5955, 5972, 5973, 6059, 6071, 6166, 6400, 6421, 6426,\n",
       "        6555, 6559, 6571, 6574, 6576, 6597, 6625, 6651, 6755, 6783, 7049,\n",
       "        7216, 7259, 7434, 7800, 7812, 7821, 7899, 8062, 8094, 8325, 8408,\n",
       "        8522, 9009, 9015, 9019, 9022, 9024, 9253, 9280, 9422, 9482, 9587,\n",
       "        9634, 9679, 9700, 9729, 9745, 9749, 9768, 9770, 9777, 9779, 9811,\n",
       "        9839, 9858, 9944, 9975, 9982]),)"
      ]
     },
     "execution_count": 135,
     "metadata": {},
     "output_type": "execute_result"
    }
   ],
   "source": [
    "misclassified_indices = np.nonzero(predicted_classes != y_test) # Use np.nonzero\n",
    "misclassified_indices"
   ]
  },
  {
   "cell_type": "code",
   "execution_count": 108,
   "metadata": {},
   "outputs": [
    {
     "data": {
      "text/plain": [
       "(-0.5, 27.5, 27.5, -0.5)"
      ]
     },
     "execution_count": 108,
     "metadata": {},
     "output_type": "execute_result"
    },
    {
     "data": {
      "image/png": "[encoded data removed]",
      "text/plain": [
       "<Figure size 640x480 with 1 Axes>"
      ]
     },
     "metadata": {},
     "output_type": "display_data"
    }
   ],
   "source": [
    "miss_list = [   8,  104,  151, 5835, 6598, 9982, 4880]\n",
    "len(miss_list)\n",
    "\n",
    "plt.figure(figsize=(20,2))\n",
    "\n",
    "for idx,i in enumerate(miss_list):\n",
    "    plt.subplot(1, len(miss_list), idx+1)\n",
    "    plt.imshow(X_test[i], cmap='gray')\n",
    "    plt.title(f'Pred: {predicted_classes[i]} | Actual: {y_test[i]}')\n",
    "    plt.axis('off')"
   ]
  },
  {
   "cell_type": "markdown",
   "metadata": {},
   "source": [
    "___"
   ]
  },
  {
   "cell_type": "markdown",
   "metadata": {},
   "source": [
    "## Learning Rate\n",
    "![LR](https://www.jeremyjordan.me/content/images/2018/02/Screen-Shot-2018-02-24-at-11.47.09-AM.png)"
   ]
  },
  {
   "cell_type": "markdown",
   "metadata": {},
   "source": [
    "In the context of neural networks and TensorFlow, the learning rate is a hyperparameter that controls the step size at which the model's weights are updated during the training process. It determines the amount by which the weights are adjusted in the direction of minimizing the loss function.\n",
    "\n",
    "The learning rate plays a crucial role in the convergence and performance of neural networks. If the learning rate is too small, the training process will be slow, and the model may get stuck in a suboptimal solution or plateaus. On the other hand, if the learning rate is too large, the training process may diverge, and the model may fail to converge or reach an optimal solution.\n",
    "\n",
    "In TensorFlow, the learning rate is typically specified when creating the optimizer object, which is responsible for updating the model's weights during training. For example, when using the `tf.train.GradientDescentOptimizer`, you can specify the learning rate as follows:\n",
    "\n",
    "```python\n",
    "optimizer = tf.train.GradientDescentOptimizer(learning_rate=0.01)\n",
    "```\n",
    "\n",
    "In this example, the learning rate is set to 0.01.\n",
    "\n",
    "Additionally, TensorFlow provides various techniques to adjust the learning rate during training, such as:\n",
    "\n",
    "1. **Learning Rate Decay**: The learning rate can be decreased over time, which can help the model converge more efficiently. TensorFlow provides various decay strategies, such as exponential decay, piecewise constant decay, and cosine decay.\n",
    "\n",
    "2. **Learning Rate Schedulers**: TensorFlow also offers learning rate schedulers, which allow you to define custom schedules for adjusting the learning rate during training. For example, you can use a cyclical learning rate schedule or a warmup learning rate schedule.\n",
    "\n",
    "3. **Adaptive Learning Rate Optimization Algorithms**: TensorFlow includes optimization algorithms like Adam, RMSProp, and Adagrad, which adapt the learning rate for each parameter based on the gradient history, allowing for faster convergence and better performance.\n",
    "\n",
    "The choice of the learning rate and the strategy for adjusting it during training can significantly impact the model's performance and convergence. It is often recommended to tune the learning rate using techniques like grid search or random search, along with other hyperparameters, to find the optimal configuration for your specific problem and dataset.\n",
    "\n",
    "It's worth noting that the learning rate is not only applicable to neural networks but also to other machine learning models trained with gradient-based optimization algorithms, such as linear regression, logistic regression, and support vector machines."
   ]
  },
  {
   "cell_type": "markdown",
   "metadata": {},
   "source": [
    "- Now, let's wrap scikit learn and build a neural network with 500 epochs with the Keras Classifier."
   ]
  },
  {
   "cell_type": "markdown",
   "metadata": {},
   "source": [
    "`pip install scikeras`"
   ]
  },
  {
   "cell_type": "code",
   "execution_count": 42,
   "metadata": {},
   "outputs": [],
   "source": [
    "import tensorflow as tf\n",
    "#tf.keras.layers.Wrapper\n",
    "\n",
    "#https://adriangb.com/scikeras/stable/migration.html\n",
    "#keras_clf = tf.keras.layers.Wrapper.scikit_learn.KerasClassifier( build_nn,epochs=500,verbose=False)\n",
    "#code was migrated to\n",
    "from scikeras.wrappers import KerasClassifier, KerasRegressor\n",
    "keras_clf = KerasClassifier( build_nn,epochs=500,verbose=False)"
   ]
  },
  {
   "cell_type": "markdown",
   "metadata": {},
   "source": [
    "`skikeras.wrappers` is a module provided by the `skikeras` library, which acts as a bridge between the scikit-learn and Keras/TensorFlow ecosystems. It allows you to use Keras/TensorFlow models as scikit-learn estimators, enabling easy integration with scikit-learn's utilities, such as model selection, evaluation, and preprocessing.\n",
    "\n",
    "The `skikeras.wrappers` module provides two main classes:\n",
    "\n",
    "1. **`KerasClassifier`**: This class is a scikit-learn compatible wrapper for Keras/TensorFlow classification models. It allows you to use a Keras model for classification tasks, while benefiting from scikit-learn's utilities like cross-validation, model selection, and performance evaluation.\n",
    "\n",
    "2. **`KerasRegressor`**: This class is a scikit-learn compatible wrapper for Keras/TensorFlow regression models. It allows you to use a Keras model for regression tasks, while leveraging scikit-learn's utilities.\n",
    "\n",
    "These wrappers work by encapsulating a Keras model within a scikit-learn estimator interface. This means that you can instantiate a `KerasClassifier` or `KerasRegressor` object with your Keras model, and then use it like any other scikit-learn estimator, such as `LogisticRegression` or `RandomForestRegressor`.\n"
   ]
  },
  {
   "cell_type": "code",
   "execution_count": 43,
   "metadata": {},
   "outputs": [],
   "source": [
    "keras_clf._estimator_type = \"classifier\""
   ]
  },
  {
   "cell_type": "markdown",
   "metadata": {},
   "source": [
    "### Step 3: Create the Voting Classifier\n",
    "\n",
    "- Combine the classifiers using sklearn's VotingClassifier with soft voting\n"
   ]
  },
  {
   "cell_type": "code",
   "execution_count": 44,
   "metadata": {},
   "outputs": [],
   "source": [
    "voting = VotingClassifier(\n",
    "             estimators=[('lr', log_clf),\n",
    "                         ('rf', rnd_clf),\n",
    "                         ('svc', svm_clf),\n",
    "                         ('keras',keras_clf)], \n",
    "             voting='soft',\n",
    "             flatten_transform=True)"
   ]
  },
  {
   "cell_type": "markdown",
   "metadata": {},
   "source": []
  },
  {
   "cell_type": "markdown",
   "metadata": {},
   "source": [
    "- The classifiers are combined with soft voting."
   ]
  },
  {
   "cell_type": "markdown",
   "metadata": {},
   "source": [
    "**voting{‘hard’, ‘soft’}, default=’hard’**\n",
    " \n",
    "- If ‘hard’, uses predicted class labels for majority rule voting. \n",
    "- If ‘soft’, predicts the class label based on the argmax of the sums of the predicted probabilities, which is recommended for an ensemble of well-calibrated classifiers.\n",
    "\n"
   ]
  },
  {
   "cell_type": "markdown",
   "metadata": {},
   "source": [
    "## Step 4: Train and Evaluate the Classifiers\n",
    "\n",
    "- Train the voting classifier and each individual classifier\n",
    "- Make predictions on the test set and calculate the accuracy for each classifier\n"
   ]
  },
  {
   "cell_type": "code",
   "execution_count": 45,
   "metadata": {},
   "outputs": [
    {
     "data": {
      "text/html": [
       "<style>#sk-container-id-1 {color: black;background-color: white;}#sk-container-id-1 pre{padding: 0;}#sk-container-id-1 div.sk-toggleable {background-color: white;}#sk-container-id-1 label.sk-toggleable__label {cursor: pointer;display: block;width: 100%;margin-bottom: 0;padding: 0.3em;box-sizing: border-box;text-align: center;}#sk-container-id-1 label.sk-toggleable__label-arrow:before {content: \"▸\";float: left;margin-right: 0.25em;color: #696969;}#sk-container-id-1 label.sk-toggleable__label-arrow:hover:before {color: black;}#sk-container-id-1 div.sk-estimator:hover label.sk-toggleable__label-arrow:before {color: black;}#sk-container-id-1 div.sk-toggleable__content {max-height: 0;max-width: 0;overflow: hidden;text-align: left;background-color: #f0f8ff;}#sk-container-id-1 div.sk-toggleable__content pre {margin: 0.2em;color: black;border-radius: 0.25em;background-color: #f0f8ff;}#sk-container-id-1 input.sk-toggleable__control:checked~div.sk-toggleable__content {max-height: 200px;max-width: 100%;overflow: auto;}#sk-container-id-1 input.sk-toggleable__control:checked~label.sk-toggleable__label-arrow:before {content: \"▾\";}#sk-container-id-1 div.sk-estimator input.sk-toggleable__control:checked~label.sk-toggleable__label {background-color: #d4ebff;}#sk-container-id-1 div.sk-label input.sk-toggleable__control:checked~label.sk-toggleable__label {background-color: #d4ebff;}#sk-container-id-1 input.sk-hidden--visually {border: 0;clip: rect(1px 1px 1px 1px);clip: rect(1px, 1px, 1px, 1px);height: 1px;margin: -1px;overflow: hidden;padding: 0;position: absolute;width: 1px;}#sk-container-id-1 div.sk-estimator {font-family: monospace;background-color: #f0f8ff;border: 1px dotted black;border-radius: 0.25em;box-sizing: border-box;margin-bottom: 0.5em;}#sk-container-id-1 div.sk-estimator:hover {background-color: #d4ebff;}#sk-container-id-1 div.sk-parallel-item::after {content: \"\";width: 100%;border-bottom: 1px solid gray;flex-grow: 1;}#sk-container-id-1 div.sk-label:hover label.sk-toggleable__label {background-color: #d4ebff;}#sk-container-id-1 div.sk-serial::before {content: \"\";position: absolute;border-left: 1px solid gray;box-sizing: border-box;top: 0;bottom: 0;left: 50%;z-index: 0;}#sk-container-id-1 div.sk-serial {display: flex;flex-direction: column;align-items: center;background-color: white;padding-right: 0.2em;padding-left: 0.2em;position: relative;}#sk-container-id-1 div.sk-item {position: relative;z-index: 1;}#sk-container-id-1 div.sk-parallel {display: flex;align-items: stretch;justify-content: center;background-color: white;position: relative;}#sk-container-id-1 div.sk-item::before, #sk-container-id-1 div.sk-parallel-item::before {content: \"\";position: absolute;border-left: 1px solid gray;box-sizing: border-box;top: 0;bottom: 0;left: 50%;z-index: -1;}#sk-container-id-1 div.sk-parallel-item {display: flex;flex-direction: column;z-index: 1;position: relative;background-color: white;}#sk-container-id-1 div.sk-parallel-item:first-child::after {align-self: flex-end;width: 50%;}#sk-container-id-1 div.sk-parallel-item:last-child::after {align-self: flex-start;width: 50%;}#sk-container-id-1 div.sk-parallel-item:only-child::after {width: 0;}#sk-container-id-1 div.sk-dashed-wrapped {border: 1px dashed gray;margin: 0 0.4em 0.5em 0.4em;box-sizing: border-box;padding-bottom: 0.4em;background-color: white;}#sk-container-id-1 div.sk-label label {font-family: monospace;font-weight: bold;display: inline-block;line-height: 1.2em;}#sk-container-id-1 div.sk-label-container {text-align: center;}#sk-container-id-1 div.sk-container {/* jupyter's `normalize.less` sets `[hidden] { display: none; }` but bootstrap.min.css set `[hidden] { display: none !important; }` so we also need the `!important` here to be able to override the default hidden behavior on the sphinx rendered scikit-learn.org. See: https://github.com/scikit-learn/scikit-learn/issues/21755 */display: inline-block !important;position: relative;}#sk-container-id-1 div.sk-text-repr-fallback {display: none;}</style><div id=\"sk-container-id-1\" class=\"sk-top-container\"><div class=\"sk-text-repr-fallback\"><pre>VotingClassifier(estimators=[(&#x27;lr&#x27;, LogisticRegression(random_state=42)),\n",
       "                             (&#x27;rf&#x27;, RandomForestClassifier(random_state=42)),\n",
       "                             (&#x27;svc&#x27;, SVC(probability=True, random_state=42)),\n",
       "                             (&#x27;keras&#x27;,\n",
       "                              KerasClassifier(epochs=500, model=&lt;function build_nn at 0x285d2a980&gt;, verbose=False))],\n",
       "                 voting=&#x27;soft&#x27;)</pre><b>In a Jupyter environment, please rerun this cell to show the HTML representation or trust the notebook. <br />On GitHub, the HTML representation is unable to render, please try loading this page with nbviewer.org.</b></div><div class=\"sk-container\" hidden><div class=\"sk-item sk-dashed-wrapped\"><div class=\"sk-label-container\"><div class=\"sk-label sk-toggleable\"><input class=\"sk-toggleable__control sk-hidden--visually\" id=\"sk-estimator-id-1\" type=\"checkbox\" ><label for=\"sk-estimator-id-1\" class=\"sk-toggleable__label sk-toggleable__label-arrow\">VotingClassifier</label><div class=\"sk-toggleable__content\"><pre>VotingClassifier(estimators=[(&#x27;lr&#x27;, LogisticRegression(random_state=42)),\n",
       "                             (&#x27;rf&#x27;, RandomForestClassifier(random_state=42)),\n",
       "                             (&#x27;svc&#x27;, SVC(probability=True, random_state=42)),\n",
       "                             (&#x27;keras&#x27;,\n",
       "                              KerasClassifier(epochs=500, model=&lt;function build_nn at 0x285d2a980&gt;, verbose=False))],\n",
       "                 voting=&#x27;soft&#x27;)</pre></div></div></div><div class=\"sk-parallel\"><div class=\"sk-parallel-item\"><div class=\"sk-item\"><div class=\"sk-label-container\"><div class=\"sk-label sk-toggleable\"><label>lr</label></div></div><div class=\"sk-serial\"><div class=\"sk-item\"><div class=\"sk-estimator sk-toggleable\"><input class=\"sk-toggleable__control sk-hidden--visually\" id=\"sk-estimator-id-2\" type=\"checkbox\" ><label for=\"sk-estimator-id-2\" class=\"sk-toggleable__label sk-toggleable__label-arrow\">LogisticRegression</label><div class=\"sk-toggleable__content\"><pre>LogisticRegression(random_state=42)</pre></div></div></div></div></div></div><div class=\"sk-parallel-item\"><div class=\"sk-item\"><div class=\"sk-label-container\"><div class=\"sk-label sk-toggleable\"><label>rf</label></div></div><div class=\"sk-serial\"><div class=\"sk-item\"><div class=\"sk-estimator sk-toggleable\"><input class=\"sk-toggleable__control sk-hidden--visually\" id=\"sk-estimator-id-3\" type=\"checkbox\" ><label for=\"sk-estimator-id-3\" class=\"sk-toggleable__label sk-toggleable__label-arrow\">RandomForestClassifier</label><div class=\"sk-toggleable__content\"><pre>RandomForestClassifier(random_state=42)</pre></div></div></div></div></div></div><div class=\"sk-parallel-item\"><div class=\"sk-item\"><div class=\"sk-label-container\"><div class=\"sk-label sk-toggleable\"><label>svc</label></div></div><div class=\"sk-serial\"><div class=\"sk-item\"><div class=\"sk-estimator sk-toggleable\"><input class=\"sk-toggleable__control sk-hidden--visually\" id=\"sk-estimator-id-4\" type=\"checkbox\" ><label for=\"sk-estimator-id-4\" class=\"sk-toggleable__label sk-toggleable__label-arrow\">SVC</label><div class=\"sk-toggleable__content\"><pre>SVC(probability=True, random_state=42)</pre></div></div></div></div></div></div><div class=\"sk-parallel-item\"><div class=\"sk-item\"><div class=\"sk-label-container\"><div class=\"sk-label sk-toggleable\"><label>keras</label></div></div><div class=\"sk-serial\"><div class=\"sk-item\"><div class=\"sk-estimator sk-toggleable\"><input class=\"sk-toggleable__control sk-hidden--visually\" id=\"sk-estimator-id-5\" type=\"checkbox\" ><label for=\"sk-estimator-id-5\" class=\"sk-toggleable__label sk-toggleable__label-arrow\">KerasClassifier</label><div class=\"sk-toggleable__content\"><pre>KerasClassifier(\n",
       "\tmodel=&lt;function build_nn at 0x285d2a980&gt;\n",
       "\tbuild_fn=None\n",
       "\twarm_start=False\n",
       "\trandom_state=None\n",
       "\toptimizer=rmsprop\n",
       "\tloss=None\n",
       "\tmetrics=None\n",
       "\tbatch_size=None\n",
       "\tvalidation_batch_size=None\n",
       "\tverbose=False\n",
       "\tcallbacks=None\n",
       "\tvalidation_split=0.0\n",
       "\tshuffle=True\n",
       "\trun_eagerly=False\n",
       "\tepochs=500\n",
       "\tclass_weight=None\n",
       ")</pre></div></div></div></div></div></div></div></div></div></div>"
      ],
      "text/plain": [
       "VotingClassifier(estimators=[('lr', LogisticRegression(random_state=42)),\n",
       "                             ('rf', RandomForestClassifier(random_state=42)),\n",
       "                             ('svc', SVC(probability=True, random_state=42)),\n",
       "                             ('keras',\n",
       "                              KerasClassifier(epochs=500, model=<function build_nn at 0x285d2a980>, verbose=False))],\n",
       "                 voting='soft')"
      ]
     },
     "execution_count": 45,
     "metadata": {},
     "output_type": "execute_result"
    }
   ],
   "source": [
    "voting.fit(X_train,y_train)"
   ]
  },
  {
   "cell_type": "markdown",
   "metadata": {},
   "source": [
    "- Consider voting with VotingClassifier and estimator\n",
    "- The first is LogisticRegression, the second is RandomForest, the third is SVM, the fourth is KerasClassifier, and the fifth is VotingClassifier."
   ]
  },
  {
   "cell_type": "code",
   "execution_count": 46,
   "metadata": {},
   "outputs": [
    {
     "name": "stdout",
     "output_type": "stream",
     "text": [
      "LogisticRegression 0.864\n",
      "RandomForestClassifier 0.896\n",
      "SVC 0.896\n",
      "KerasClassifier 0.896\n",
      "VotingClassifier 0.912\n"
     ]
    }
   ],
   "source": [
    "for clf in (log_clf, rnd_clf, svm_clf, keras_clf, voting):\n",
    "    clf.fit(X_train, y_train)\n",
    "    y_pred = clf.predict(X_test)\n",
    "    print(clf.__class__.__name__, accuracy_score(y_test, y_pred))"
   ]
  },
  {
   "cell_type": "markdown",
   "metadata": {},
   "source": [
    "__Observation:__\n",
    "\n",
    "- As shown above, LogisticRegression is at 86% accuracy, RandomForest is at 89%, SVM is at 89%, KerasClassifier is at 89%, and VotingClassifier is at 92%."
   ]
  },
  {
   "cell_type": "code",
   "execution_count": 13,
   "metadata": {},
   "outputs": [
    {
     "ename": "TypeError",
     "evalue": "StackingClassifier.__init__() got an unexpected keyword argument 'meta_estimator'",
     "output_type": "error",
     "traceback": [
      "\u001b[0;31m---------------------------------------------------------------------------\u001b[0m",
      "\u001b[0;31mTypeError\u001b[0m                                 Traceback (most recent call last)",
      "Cell \u001b[0;32mIn[13], line 28\u001b[0m\n\u001b[1;32m     25\u001b[0m   \u001b[38;5;28;01mreturn\u001b[39;00m model\n\u001b[1;32m     27\u001b[0m \u001b[38;5;66;03m# Define the stacking classifier\u001b[39;00m\n\u001b[0;32m---> 28\u001b[0m meta_estimator \u001b[38;5;241m=\u001b[39m \u001b[43mStackingClassifier\u001b[49m\u001b[43m(\u001b[49m\u001b[43mestimators\u001b[49m\u001b[43m,\u001b[49m\u001b[43m \u001b[49m\u001b[43mmeta_estimator\u001b[49m\u001b[38;5;241;43m=\u001b[39;49m\u001b[43mcreate_meta_model\u001b[49m\u001b[43m)\u001b[49m\n\u001b[1;32m     30\u001b[0m \u001b[38;5;66;03m# Perform K-fold cross-validation\u001b[39;00m\n\u001b[1;32m     31\u001b[0m kf \u001b[38;5;241m=\u001b[39m KFold(n_splits\u001b[38;5;241m=\u001b[39m\u001b[38;5;241m5\u001b[39m)\n",
      "\u001b[0;31mTypeError\u001b[0m: StackingClassifier.__init__() got an unexpected keyword argument 'meta_estimator'"
     ]
    }
   ],
   "source": [
    "import numpy as np\n",
    "from sklearn.model_selection import KFold\n",
    "from sklearn.ensemble import StackingClassifier\n",
    "from sklearn.linear_model import LogisticRegression\n",
    "from sklearn.svm import SVC\n",
    "from tensorflow.keras.models import Sequential\n",
    "from tensorflow.keras.layers import Dense\n",
    "\n",
    "# Load your data (X: features, y: target variable)\n",
    "X,y=make_moons(n_samples=500,noise=0.30,random_state=42)\n",
    "\n",
    "# Define base models (scikit-learn classifiers)\n",
    "estimators = [\n",
    "    LogisticRegression(solver='lbfgs'),\n",
    "    SVC(kernel='rbf')\n",
    "]\n",
    "\n",
    "# Define the meta-model (TensorFlow neural network)\n",
    "def create_meta_model():\n",
    "  model = Sequential()\n",
    "  model.add(Dense(128, activation='relu', input_shape=(X.shape[1],)))\n",
    "  model.add(Dense(64, activation='relu'))\n",
    "  model.add(Dense(1, activation='sigmoid'))\n",
    "  model.compile(loss='binary_crossentropy', optimizer='adam', metrics=['accuracy'])\n",
    "  return model\n",
    "\n",
    "# Define the stacking classifier\n",
    "meta_estimator = StackingClassifier(estimators, meta_estimator=create_meta_model)\n",
    "\n",
    "# Perform K-fold cross-validation\n",
    "kf = KFold(n_splits=5)\n",
    "scores = []\n",
    "for train_index, test_index in kf.split(X):\n",
    "  X_train, X_test = X[train_index], X[test_index]\n",
    "  y_train, y_test = y[train_index], y_test[test_index]\n",
    "\n",
    "  # Train the base models\n",
    "  for estimator in estimators:\n",
    "    estimator.fit(X_train, y_train)\n",
    "\n",
    "  # Get predictions from base models\n",
    "  base_model_preds = [estimator.predict(X_train) for estimator in estimators]\n",
    "  base_model_preds_test = [estimator.predict(X_test) for estimator in estimators]\n",
    "\n",
    "  # Combine predictions as new features (concatenate them)\n",
    "  X_train_stacked = np.concatenate(base_model_preds, axis=1)\n",
    "  X_test_stacked = np.concatenate(base_model_preds_test, axis=1)\n",
    "\n",
    "  # Train the meta-model on stacked features\n",
    "  meta_estimator.fit(X_train_stacked, y_train)\n",
    "\n",
    "  # Make predictions on the test set with the meta-model\n",
    "  y_pred = meta_estimator.predict(X_test_stacked)\n",
    "\n",
    "  # Calculate the accuracy\n",
    "  accuracy = np.mean(y_pred == y_test)\n",
    "  scores.append(accuracy)\n",
    "\n",
    "# Print the average accuracy\n",
    "print(\"Average Accuracy:\", np.mean(scores))\n"
   ]
  },
  {
   "cell_type": "code",
   "execution_count": null,
   "metadata": {},
   "outputs": [],
   "source": []
  }
 ],
 "metadata": {
  "colab": {
   "provenance": []
  },
  "kernelspec": {
   "display_name": "Python 3 (ipykernel)",
   "language": "python",
   "name": "python3"
  },
  "language_info": {
   "codemirror_mode": {
    "name": "ipython",
    "version": 3
   },
   "file_extension": ".py",
   "mimetype": "text/x-python",
   "name": "python",
   "nbconvert_exporter": "python",
   "pygments_lexer": "ipython3",
   "version": "3.11.3"
  }
 },
 "nbformat": 4,
 "nbformat_minor": 1
}
