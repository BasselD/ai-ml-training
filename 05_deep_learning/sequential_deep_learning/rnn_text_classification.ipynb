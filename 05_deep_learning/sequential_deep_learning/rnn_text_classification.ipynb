{
 "cells": [
  {
   "cell_type": "markdown",
   "metadata": {
    "id": "AMGXXgNF7k61"
   },
   "source": [
    "# __Text Classification using RNN__\n",
    "\n",
    "Let's see how to classify the text using RNN (Recurrent Neural Network)."
   ]
  },
  {
   "cell_type": "markdown",
   "metadata": {},
   "source": [
    "We'll be using `nltk` (Natural Language Toolkit), which is a popular open-source library in Python for working with human language data. While NLTK is not specifically designed for Recurrent Neural Networks (RNNs), it provides a wide range of tools and resources that can be useful in preprocessing and preparing text data for training RNNs and other natural language processing (NLP) models.\n",
    "\n",
    "Here's how NLTK can play a role in working with RNNs:\n",
    "\n",
    "1. Text preprocessing: NLTK offers various modules for text preprocessing tasks, such as tokenization (splitting text into words or sentences), stemming, lemmatization, and stop word removal. These preprocessing steps are often necessary before feeding text data into an RNN or other NLP model.\n",
    "\n",
    "2. Corpus handling: NLTK provides access to a variety of corpora (collections of text data), including popular ones like the Brown Corpus, Reuters Corpus, and others. These corpora can be used for training and evaluating RNNs on various NLP tasks like text classification, language modeling, or machine translation.\n",
    "\n",
    "3. Feature extraction: NLTK includes tools for extracting linguistic features from text, such as part-of-speech tags, named entities, and more. These features can be used as additional inputs or in conjunction with the text data when training RNNs for certain NLP tasks.\n",
    "\n",
    "4. Evaluation metrics: NLTK provides implementations of various evaluation metrics commonly used in NLP, such as BLEU score for machine translation, perplexity for language modeling, and others. These metrics can be used to assess the performance of RNN models trained for different NLP tasks.\n",
    "\n",
    "5. Text generation: While not directly related to RNNs, NLTK offers utilities for generating text data, which can be useful for tasks like data augmentation or creating synthetic data for training RNN models.\n",
    "\n",
    "It's important to note that while NLTK provides many useful tools for working with text data, it does not include built-in support for training and implementing RNNs or other deep learning models. For that, you would typically use deep learning libraries like TensorFlow, PyTorch, or Keras, which can be combined with NLTK for data preprocessing and evaluation.\n",
    "\n",
    "In summary, NLTK serves as a powerful toolkit for various NLP tasks, including data preprocessing, corpus handling, feature extraction, and evaluation, which can be leveraged in conjunction with deep learning libraries to train and deploy RNN models for various natural language processing applications. "
   ]
  },
  {
   "cell_type": "markdown",
   "metadata": {},
   "source": [
    "Some concepts to be aware of:\n",
    "\n",
    "- **Tokenization** refers to breaking down text into smaller units called **tokens**. These tokens can be words, phrases, or sentences.\n",
    "   - NLTK provides two major types of tokenization:\n",
    "     - **Word Tokenization**: Splits text into individual words. For example, the sentence \"I study Machine Learning on GeeksforGeeks\" would be word-tokenized as `['I', 'study', 'Machine', 'Learning', 'on', 'GeeksforGeeks', '.']`.\n",
    "     - **Sentence Tokenization**: Breaks text into individual sentences. For instance, the input \"I study Machine Learning on GeeksforGeeks. Currently, I'm studying NLP\" would be sentence-tokenized as `['I study Machine Learning on GeeksforGeeks.', 'Currently, I'm studying NLP.']`.\n",
    "\n",
    "- **Lower Case Conversion**:\n",
    "   - To avoid redundancy in token lists, we convert all words to lowercase. This ensures that the model doesn't treat differently cased words as distinct.\n",
    "   - Example Python code:\n",
    "     ```python\n",
    "     import re\n",
    "     text = re.sub(r\"[^a-zA-Z0-9]\", \" \", text.lower())\n",
    "     words = text.split()\n",
    "     ```\n",
    "\n",
    "- **Stop Words Removal**:\n",
    "   - Stop words (e.g., \"the,\" \"and,\" \"is\") don't contribute much to the meaning of a sentence. Removing them helps clean the data.\n",
    "   - NLTK provides a list of English stop words.\n",
    "   - Example Python code:\n",
    "     ```python\n",
    "     from nltk.corpus import stopwords\n",
    "     print(stopwords.words(\"english\"))\n",
    "     ```\n",
    "\n",
    "- **Lexicon**:\n",
    "   - A lexicon is a collection of words and their meanings. It can also include information like part of speech (noun, verb, etc.).\n",
    "   - NLTK provides access to various lexicons for different purposes.\n",
    "   - examples:\n",
    "      - “Tsunami”: Pronounced as /tsuːˈnɑːmi/.\n",
    "      - “Run” (verb) vs. “Run” (noun)\n",
    "      - “Dog”: Refers to a domesticated mammal of the species Canis lupus familiaris.\n",
    "\n",
    "\n",
    "- **Recurrent Neural Networks (RNNs)**:\n",
    "   - RNNs are a type of neural network architecture designed for sequential data (e.g., time series, text).\n",
    "   - Key features:\n",
    "     - **Hidden State**: Remembers information about a sequence. It's also called the memory state.\n",
    "     - **Parameter Sharing**: Uses the same parameters for each input, allowing it to process sequences of varying lengths.\n",
    "   - RNNs are widely used for tasks like language modeling, machine translation, and sentiment analysis.\n",
    "\n",
    "In summary, NLTK focuses on traditional NLP techniques, while RNNs are part of deep learning models. Combining both can lead to powerful natural language processing systems!\n"
   ]
  },
  {
   "cell_type": "markdown",
   "metadata": {},
   "source": [
    "`pip install nltk`"
   ]
  },
  {
   "cell_type": "code",
   "execution_count": 1,
   "metadata": {
    "colab": {
     "base_uri": "https://localhost:8080/"
    },
    "id": "RME2Qywv_p7Z",
    "outputId": "fb410c33-1b21-4ae7-e9c6-35d422b581ee"
   },
   "outputs": [
    {
     "name": "stderr",
     "output_type": "stream",
     "text": [
      "[nltk_data] Downloading package stopwords to\n",
      "[nltk_data]     /Users/bassel_instructor/nltk_data...\n",
      "[nltk_data]   Package stopwords is already up-to-date!\n"
     ]
    },
    {
     "data": {
      "text/plain": [
       "True"
      ]
     },
     "execution_count": 1,
     "metadata": {},
     "output_type": "execute_result"
    }
   ],
   "source": [
    "import nltk\n",
    "nltk.download('stopwords')"
   ]
  },
  {
   "cell_type": "markdown",
   "metadata": {
    "id": "VuJT1hcu92er"
   },
   "source": [
    "## Steps to  Be Followed:\n",
    "\n",
    "1. Importing the libraries\n",
    "2. Defining the hyperparameter\n",
    "3. Preprocessing the data and printing the lengths of the labels and articles lists.\n",
    "4. Splitting the data into training and validation sets\n",
    "5. Initializing a tokenizer and fitting it on the training articles\n",
    "6. Converting the training articles into sequences using the tokenizer\n",
    "7. Padding the sequence\n",
    "8. Printing the length of validation Sequences and the shape of validation padded\n",
    "9. Training the model\n",
    "10. Compiling the model\n",
    "11. Plotting the graph"
   ]
  },
  {
   "cell_type": "markdown",
   "metadata": {
    "id": "nKxl5ljN-IKH"
   },
   "source": [
    "### Step 1: Importing the libraries\n",
    "- Import the required libraries"
   ]
  },
  {
   "cell_type": "code",
   "execution_count": 2,
   "metadata": {
    "id": "qLg1HxV27k64"
   },
   "outputs": [],
   "source": [
    "import csv\n",
    "import tensorflow as tf\n",
    "import numpy as np\n",
    "from tensorflow.keras.preprocessing.text import Tokenizer\n",
    "from tensorflow.keras.preprocessing.sequence import pad_sequences #transforms a list into a 2D NumPy array of shape (num_samples, num_timesteps)\n",
    "from nltk.corpus import stopwords\n",
    "STOPWORDS = set(stopwords.words('english'))\n",
    "import matplotlib.pyplot as plt\n"
   ]
  },
  {
   "cell_type": "markdown",
   "metadata": {
    "id": "x5682GVs7k66"
   },
   "source": [
    "### Step 3: Preprocessing the Data and Printing the Lengths of the Labels and Articles Lists.\n",
    "\n",
    "- Define two empty lists, articles, and labels to store the articles and labels, respectively\n",
    "- Read the contents of the **bbc-text.csv** file using csv.reader and iterate through each row\n",
    "- Extract the label from the first column of each row and append it to the labels list\n",
    "- Process the article from the second column by removing stopwords and replacing consecutive spaces with a single space and then append it to the articles list\n",
    "- Print the lengths of the labels and articles lists to display the number of labels and processed articles, respectively"
   ]
  },
  {
   "cell_type": "code",
   "execution_count": 10,
   "metadata": {
    "colab": {
     "base_uri": "https://localhost:8080/"
    },
    "id": "YOrfsrUe7k67",
    "outputId": "491dd474-f646-4e24-f74b-7468b9571ab9"
   },
   "outputs": [],
   "source": [
    "articles = [] #blank list for articles from the doc\n",
    "labels = [] #blank list of labels\n",
    "\n",
    "with open('/Users/bassel_instructor/Documents/datasets/bbc-text.csv', 'r') as csvfile: #It opens the file in read mode ('r').\n",
    "    reader = csv.reader(csvfile, delimiter=',') #read csv with comma delimiter\n",
    "    next(reader) #skip the first row of the CSV file, which typically contains headers \n",
    "    for row in reader: #iterate for each row\n",
    "        labels.append(row[0])\n",
    "        \n",
    "        article = row[1]\n",
    "        #For each article, it loops through a predefined list named STOPWORDS\n",
    "        #For every word in STOPWORDS, it removes occurrences of the word surrounded by spaces from the article. \n",
    "        #This is a rudimentary way of removing stopwords from the text to presumably clean it for further processing or analysis.\n",
    "        for word in STOPWORDS: \n",
    "            token = ' ' + word + ' '\n",
    "            article = article.replace(token, ' ')\n",
    "        articles.append(article)\n"
   ]
  },
  {
   "cell_type": "code",
   "execution_count": 11,
   "metadata": {},
   "outputs": [
    {
     "name": "stdout",
     "output_type": "stream",
     "text": [
      "2225\n",
      "2225\n"
     ]
    }
   ],
   "source": [
    "print(len(labels))\n",
    "print(len(articles))"
   ]
  },
  {
   "cell_type": "code",
   "execution_count": 12,
   "metadata": {},
   "outputs": [
    {
     "data": {
      "text/plain": [
       "['tech',\n",
       " 'business',\n",
       " 'sport',\n",
       " 'sport',\n",
       " 'entertainment',\n",
       " 'politics',\n",
       " 'politics',\n",
       " 'sport',\n",
       " 'sport']"
      ]
     },
     "execution_count": 12,
     "metadata": {},
     "output_type": "execute_result"
    }
   ],
   "source": [
    "labels[:9]"
   ]
  },
  {
   "cell_type": "code",
   "execution_count": 13,
   "metadata": {},
   "outputs": [
    {
     "data": {
      "text/plain": [
       "['tv future hands viewers home theatre systems  plasma high-definition tvs  digital video recorders moving living room  way people watch tv radically different five years  time.  according expert panel gathered annual consumer electronics show las vegas discuss new technologies impact one favourite pastimes. us leading trend  programmes content delivered viewers via home networks  cable  satellite  telecoms companies  broadband service providers front rooms portable devices.  one talked-about technologies ces digital personal video recorders (dvr pvr). set-top boxes  like us tivo uk sky+ system  allow people record  store  play  pause forward wind tv programmes want.  essentially  technology allows much personalised tv. also built-in high-definition tv sets  big business japan us  slower take europe lack high-definition programming. people forward wind adverts  also forget abiding network channel schedules  putting together a-la-carte entertainment. us networks cable satellite companies worried means terms advertising revenues well  brand identity  viewer loyalty channels. although us leads technology moment  also concern raised europe  particularly growing uptake services like sky+.  happens today  see nine months years  time uk   adam hume  bbc broadcast futurologist told bbc news website. likes bbc  issues lost advertising revenue yet. pressing issue moment commercial uk broadcasters  brand loyalty important everyone.  talking content brands rather network brands   said tim hanlon  brand communications firm starcom mediavest.  reality broadband connections  anybody producer content.  added:  challenge hard promote programme much choice.   means  said stacey jolna  senior vice president tv guide tv group  way people find content want watch simplified tv viewers. means networks  us terms  channels could take leaf google book search engine future  instead scheduler help people find want watch. kind channel model might work younger ipod generation used taking control gadgets play them. might suit everyone  panel recognised. older generations comfortable familiar schedules channel brands know getting. perhaps want much choice put hands  mr hanlon suggested.  end  kids diapers pushing buttons already - everything possible available   said mr hanlon.  ultimately  consumer tell market want.   50 000 new gadgets technologies showcased ces  many enhancing tv-watching experience. high-definition tv sets everywhere many new models lcd (liquid crystal display) tvs launched dvr capability built  instead external boxes. one example launched show humax 26-inch lcd tv 80-hour tivo dvr dvd recorder. one us biggest satellite tv companies  directtv  even launched branded dvr show 100-hours recording capability  instant replay  search function. set pause rewind tv 90 hours. microsoft chief bill gates announced pre-show keynote speech partnership tivo  called tivotogo  means people play recorded programmes windows pcs mobile devices. reflect increasing trend freeing multimedia people watch want  want.',\n",
       " 'worldcom boss  left books alone  former worldcom boss bernie ebbers  accused overseeing $11bn (£5.8bn) fraud  never made accounting decisions  witness told jurors.  david myers made comments questioning defence lawyers arguing mr ebbers responsible worldcom problems. phone company collapsed 2002 prosecutors claim losses hidden protect firm shares. mr myers already pleaded guilty fraud assisting prosecutors.  monday  defence lawyer reid weingarten tried distance client allegations. cross examination  asked mr myers ever knew mr ebbers  make accounting decision  .  aware   mr myers replied.  ever know mr ebbers make accounting entry worldcom books   mr weingarten pressed.    replied witness. mr myers admitted ordered false accounting entries request former worldcom chief financial officer scott sullivan. defence lawyers trying paint mr sullivan  admitted fraud testify later trial  mastermind behind worldcom accounting house cards.  mr ebbers  team  meanwhile  looking portray affable boss  admission pe graduate economist. whatever abilities  mr ebbers transformed worldcom relative unknown $160bn telecoms giant investor darling late 1990s. worldcom problems mounted  however  competition increased telecoms boom petered out. firm finally collapsed  shareholders lost $180bn 20 000 workers lost jobs. mr ebbers  trial expected last two months found guilty former ceo faces substantial jail sentence. firmly declared innocence.',\n",
       " 'tigers wary farrell  gamble  leicester say rushed making bid andy farrell great britain rugby league captain decide switch codes.   anybody else involved process still way away going next stage   tigers boss john wells told bbc radio leicester.  moment  still lot unknowns andy farrell  least medical situation.  whoever take going take big  big gamble.  farrell  persistent knee problems  operation knee five weeks ago expected another three months. leicester saracens believed head list rugby union clubs interested signing farrell decides move 15-man game.  move across union  wells believes would better playing backs  least initially.  sure could make step league union involved centre   said wells.  think england would prefer progress position back row make use rugby league skills within forwards.  jury whether cross divide.  club  balance struck cost gamble option bringing ready-made replacement.',\n",
       " 'yeading face newcastle fa cup premiership side newcastle united face trip ryman premier league leaders yeading fa cup third round.  game - arguably highlight draw - potential money-spinner non-league yeading  beat slough second round. conference side exeter city  knocked doncaster saturday  travel old trafford meet holders manchester united january. arsenal drawn home stoke chelsea play host scunthorpe. non-league side draw hinckley united  held brentford goalless draw sunday. meet league one leaders luton win replay martin allen team griffin park.  number premiership teams face difficult away games championship sides weekend 8/9 january. third-placed everton visit plymouth  liverpool travel burnley  crystal palace go sunderland  fulham face carling cup semi-finalists watford  bolton meet ipswich  aston villa drawn sheffield united. premiership strugglers norwich  blackburn  west brom away west ham  cardiff preston north end respectively. southampton visit northampton  already beaten league two side carling cup earlier season. middlesbrough drawn away either swindon notts county  spurs entertain brighton white hart lane.  arsenal v stoke  swindon/notts co v middlesbrough  man utd v exeter  plymouth v everton  leicester v blackpool  derby v wigan  sunderland v crystal palace  wolves v millwall  yeading v newcastle  hull v colchester  tottenham v brighton  reading v stockport/swansea  birmingham v leeds  hartlepool v boston  milton keynes dons v peterborough  oldham v man city  chelsea v scunthorpe  cardiff v blackburn  charlton v rochdale  west ham v norwich  sheff utd v aston villa  preston v west brom  rotherham v yeovil  burnley v liverpool  bournemouth v chester  coventry v crewe  watford v fulham  ipswich v bolton  portsmouth v gillingham  northampton v southampton  qpr v nottm forest  luton v hinckley/brentford  matches played weekend 8/9 january.',\n",
       " 'ocean twelve raids box office ocean twelve  crime caper sequel starring george clooney  brad pitt julia roberts  gone straight number one us box office chart.  took $40.8m (£21m) weekend ticket sales  according studio estimates. sequel follows master criminals try pull three major heists across europe. knocked last week number one  national treasure  third place. wesley snipes  blade: trinity second  taking $16.1m (£8.4m). rounding top five animated fable polar express  starring tom hanks  festive comedy christmas kranks.  ocean twelve box office triumph marks fourth-biggest opening december release us  three films lord rings trilogy. sequel narrowly beat 2001 predecessor  ocean eleven took $38.1m (£19.8m) opening weekend $184m (£95.8m) total. remake 1960s film  starring frank sinatra rat pack  ocean eleven directed oscar-winning director steven soderbergh. soderbergh returns direct hit sequel reunites clooney  pitt roberts matt damon  andy garcia elliott gould. catherine zeta-jones joins all-star cast.  fun  good holiday movie   said dan fellman  president distribution warner bros. however  us critics less complimentary $110m (£57.2m) project  los angeles times labelling  dispiriting vanity project . milder review new york times dubbed sequel  unabashedly trivial .',\n",
       " 'howard hits back mongrel jibe michael howard said claim peter hain tory leader acting like  attack mongrel  shows labour  rattled  opposition.  upbeat speech party spring conference brighton  said labour campaigning tactics proved tories hitting home. mr hain made claim tory tactics anti-terror bill debate.  something tells someone  somewhere little bit rattled   mr howard said. mr hain  leader commons  told bbc radio four today programme mr howard stance government anti-terrorism legislation putting country risk. accused tory leader behaving like  attack mongrel   playing opposition opposition sake .  mr howard told party labour would  anything  say anything  claim anything cling office costs .  far year compared fagin  shylock flying pig. morning peter hain even called mongrel.  know  something tells someone  somewhere little bit rattled.  environment secretary margaret beckett rejected mr howard comment  telling radio 4 pm programme labour  rattled .  real duty try get people focus michael howard record  proposals trying put forward country also many examples seeing believe really poor judgement behalf.   mr howard said tory policies schools  taxes  immigration crime striking chord voters.   since beginning year - election year - making political weather   told party conference. mr howard denied  playing politics  raising case margaret dixon  whose operation cancelled seven times  grabbed headlines party two weeks ago. hit back labour claims used mrs dixon  human shield .  human shield mr blair  human being.  mr howard said party plans immigration quotas  also focus much media coverage   racist  -  common sense .  pledged cleaner hospitals better school discipline  promise get rid  political correctness  national curriculum give everyone chance  decent  state education had.  come ordinary family. teenage michael howard applying cambridge today  gordon brown would love me.   stressed party commitment cut taxes red tape increase basic state pension line earnings. finished personal appeal party activists go win next election.  one day able tell children grandchildren tell mine   there. bit. played part. helped win famous election - election transformed country better .  labour election co-ordinator alan milburn said:  michael howard speech today confirms always said - strategy opportunism forward vision country. reference appearance mr howard family conference stage  mr milburn said:  michael howard perfectly entitled pose family today.  hard working families across britain damaged plan cut £35bn public spending.',\n",
       " 'blair prepares name poll date tony blair likely name 5 may election day parliament returns easter break  bbc political editor learned.  andrew marr says mr blair ask queen 4 5 april dissolve parliament end week. mr blair far resisted calls name day parties stepped campaigning recently. downing street would drawn claim  saying election timing matter prime minister.  number 10 spokeswoman would say:  announce election wants announce election.  move signal frantic week westminster government likely try get key legislation parliament. government needs finance bill  covering budget plans  passed commons closes business end session 7 april.  also seek push serious organised crime bill id cards bill. mr marr said wednesday today programme:  almost nobody senior level inside government parliament expect election called 4 5 april.  soon commons back short easter recess  tony blair whips palace  asks queen dissolve parliament ... going.  labour government officially june 2006 hold general election  recent years governments favoured four-year terms.',\n",
       " 'henman hopes ended dubai third seed tim henman slumped straight sets defeat rain-interrupted dubai open quarter-final ivan ljubicic.  croatian eighth seed booked place last four 7-5 6-4 victory british number one. henman looked course level match going 2-0 second set  progress halted rain intervened again. ljubicic hit back break seal fourth straight win henman. earlier day  spanish fifth seed tommy robredo secured semi-final place beat nicolas kiefer germany 6-4 6-4. afterwards  henman left cursing weather umpire seven breaks rain match.  incredibly frustrating   henman said.  raining umpire take control.  kept telling us play till end game. raining  come - score irrelevant.  frustrating happy form now. expect desert.',\n",
       " 'wilkinson fit face edinburgh england captain jonny wilkinson make long-awaited return injury edinburgh saturday.  wilkinson  played since injuring bicep 17 october  took part full-contact training newcastle falcons wednesday. 25-year-old fly-half start saturday heineken cup match murrayfield bench. newcastle director rugby rob andrew said:  fine hope get game stage.  25-year-old missed england autumn internationals aggravating haematoma upper right arm saracens. subsequently replaced england captain full-back jason robinson. sale charlie hodgson took number 10 shirt internationals canada  south africa australia. wilkinson year disrupted injury muscle problem followed eight months sidelines shoulder injury sustained world cup final.']"
      ]
     },
     "execution_count": 13,
     "metadata": {},
     "output_type": "execute_result"
    }
   ],
   "source": [
    "articles[:9]"
   ]
  },
  {
   "cell_type": "markdown",
   "metadata": {
    "id": "Qtk-qqt67k67"
   },
   "source": [
    "__Observations:__\n",
    "- There are only **2,225** articles in the data.\n",
    "- Then, we split into a training set and validation set, according to the parameter we set earlier, 80% for training, and 20% for validation."
   ]
  },
  {
   "cell_type": "markdown",
   "metadata": {
    "id": "C72gvCwGSa0k"
   },
   "source": [
    "### Step 4: Splitting the Data into Training and Validation Sets\n",
    "- Set the value of __training_portion__ to __0.8__, representing the proportion of data to be used for training\n",
    "- Calculate the **train_size** by multiplying the length of the articles list with __training_portion__ and converting it to an integer\n",
    "- Create **train_articles** by slicing the articles list from index **0** to **train_size**\n",
    "- Create **train_labels** by slicing the labels list from index** 0 **to **train_size**\n",
    "- Create validation_articles by slicing the articles list from **train_size** onward\n",
    "- Create **validation_labels** by slicing the labels list from **train_size** onward\n",
    "- Print the **train_size** to display the calculated value\n",
    "\n",
    "- The lengths of **train_articles**, **train_labels**, **validation_articles**, and **validation_labels** represent the number of items in each list."
   ]
  },
  {
   "cell_type": "code",
   "execution_count": 4,
   "metadata": {},
   "outputs": [],
   "source": [
    "training_portion = .8"
   ]
  },
  {
   "cell_type": "code",
   "execution_count": 16,
   "metadata": {
    "colab": {
     "base_uri": "https://localhost:8080/"
    },
    "id": "EKMT9Fb37k68",
    "outputId": "c04d3375-2971-44b2-de02-670bc7d53d3c"
   },
   "outputs": [
    {
     "data": {
      "text/plain": [
       "1780"
      ]
     },
     "execution_count": 16,
     "metadata": {},
     "output_type": "execute_result"
    }
   ],
   "source": [
    "train_size = int(len(articles) * training_portion)\n",
    "train_size"
   ]
  },
  {
   "cell_type": "code",
   "execution_count": 17,
   "metadata": {},
   "outputs": [
    {
     "name": "stdout",
     "output_type": "stream",
     "text": [
      "1780\n",
      "1780\n"
     ]
    }
   ],
   "source": [
    "#train data\n",
    "train_articles = articles[0: train_size]\n",
    "train_labels = labels[0: train_size]\n",
    "\n",
    "print(len(train_articles))\n",
    "print(len(train_labels))\n"
   ]
  },
  {
   "cell_type": "code",
   "execution_count": 18,
   "metadata": {},
   "outputs": [
    {
     "name": "stdout",
     "output_type": "stream",
     "text": [
      "445\n",
      "445\n"
     ]
    }
   ],
   "source": [
    "# testing data\n",
    "validation_articles = articles[train_size:]\n",
    "validation_labels = labels[train_size:]\n",
    "print(len(validation_articles))\n",
    "print(len(validation_labels))"
   ]
  },
  {
   "cell_type": "markdown",
   "metadata": {
    "id": "dx4Pb61WT2F3"
   },
   "source": [
    "__Observations:__\n",
    "- The value of **train_size** is calculated based on the proportion of training data.\n",
    "- The lengths of **train_articles**, **train_labels**, **validation_articles**, and **validation_labels** representing the number of items in each list."
   ]
  },
  {
   "cell_type": "markdown",
   "metadata": {
    "id": "8cvQu2uW_AF0"
   },
   "source": [
    "### Step 4b: Defining the Hyperparameter\n",
    "- Set the value of __vocab_size__ to __5000__, representing the size of the vocabulary\n",
    "- Set the value of __embedding_dim__ to __64__, specifying the dimensionality of the word embeddings\n",
    "- Set the value of __max_length__ to __200__, indicating the maximum length of input sequences\n",
    "- Set the value of __padding_type__ to __post__, specifying that padding should be added at the end of sequences\n",
    "- Set the value of __trunc_type__ to __post__, indicating that truncation should be applied at the end of sequences\n",
    "- Set the value of __oov_tok__ to __OOV__, representing the token to be used for out-of-vocabulary words\n"
   ]
  },
  {
   "cell_type": "code",
   "execution_count": 19,
   "metadata": {
    "id": "BecOwkf37k66"
   },
   "outputs": [],
   "source": [
    "vocab_size = 5000 \n",
    "embedding_dim = 64\n",
    "max_length = 200\n",
    "padding_type = 'post'\n",
    "trunc_type = 'post'\n",
    "oov_tok = '<OOV>'\n"
   ]
  },
  {
   "cell_type": "markdown",
   "metadata": {
    "id": "bSR2G2lrWrue"
   },
   "source": [
    "### Step 5: Initializing a Tokenizer and Fitting It on the Training Articles\n",
    "\n",
    "- Initialize a **Tokenizer** object named tokenizer with the specified parameters: **num_words** representing the vocabulary size and **oov_token** representing the out-of-vocabulary token\n",
    "    - The Tokenizer is used to vectorize text data, turning each text into a sequence of integers. The num_words parameter is the maximum number of words to keep, based on word frequency. The oov_token parameter is the string to use to represent words that are not in the vocabulary.\n",
    "    - We set it to 5000, which means only the top 4,999 words (by frequency of appearance in the dataset) are included in the tokenizer's vocabulary. All other words are ignored or treated as out-of-vocabulary (OOV) and can be handled in various ways, such as being replaced by a placeholder token.\n",
    "    - Purpose:\n",
    "        - **Vocabulary Size Reduction**: It reduces the size of the vocabulary to the most common words. This can help in reducing the complexity of the model and the amount of memory needed for training.\n",
    "        - **Focus on Relevant Words**: By limiting the vocabulary to more frequent words, it's assumed that these words carry more meaning for the tasks (e.g., classification, sentiment analysis) than less frequent words.\n",
    "    - Choosing the best value for `num_words` depends on several factors and might require experimentation. Here are some considerations:\n",
    "\n",
    "        1. **Dataset Specificity**: Larger datasets with a wide variety of topics might require a larger vocabulary to capture the essence of the texts accurately. In contrast, smaller or more topic-focused datasets might not need as large a vocabulary.\n",
    "\n",
    "        2. **Memory and Performance Constraints**: A larger `num_words` value increases the model's size and computational requirements. If resources are limited, you might need to find a balance between performance and resource availability.\n",
    "\n",
    "        3. **Task Complexity**: More complex tasks or nuanced differences between classes might benefit from a more extensive vocabulary to capture subtle language differences.\n",
    "\n",
    "        4. **Experimentation**: Often, the best way to determine the optimal `num_words` value is through experimentation. Start with a value that seems reasonable based on your dataset size and complexity, then train your model and evaluate its performance. Adjust the `num_words` parameter based on your results, looking for improvements in model accuracy or other relevant metrics.\n",
    "\n",
    "        5. **Baseline Models**: Look at similar tasks or studies to see if there are commonly used values for `num_words` that could serve as a starting point.\n",
    "\n",
    "        6. **Impact of Rare Words**: Consider the impact of rare words on your specific task. In some cases, rare words might be highly relevant, and you might need a strategy to include them, such as using pre-trained embeddings that can handle a wider vocabulary.\n",
    "\n",
    "- Fit the tokenizer on the training articles **(train_articles)** using the **fit_on_texts** method\n",
    "- This step updates the tokenizer's internal word index based on the words in the training articles\n",
    "- Assign the word index obtained from the tokenizer to the variable **word_index**\n",
    "- Extract the first 10 items from the word_index dictionary\n",
    "- Print the resulting dictionary"
   ]
  },
  {
   "cell_type": "code",
   "execution_count": 20,
   "metadata": {
    "id": "2JrnZlTL7k68"
   },
   "outputs": [],
   "source": [
    "tokenizer = Tokenizer(num_words = vocab_size, oov_token=oov_tok)\n"
   ]
  },
  {
   "cell_type": "code",
   "execution_count": 21,
   "metadata": {},
   "outputs": [],
   "source": [
    "#This line builds the word index by analyzing the train_articles text data. \n",
    "#It creates a mapping of words to integers based on the word frequency in the training data.\n",
    "tokenizer.fit_on_texts(train_articles)\n",
    "\n",
    "#This line retrieves the word index created by the fit_on_texts method.\n",
    "word_index = tokenizer.word_index"
   ]
  },
  {
   "cell_type": "code",
   "execution_count": 24,
   "metadata": {},
   "outputs": [
    {
     "data": {
      "text/plain": [
       "{'<OOV>': 1,\n",
       " 'said': 2,\n",
       " 'mr': 3,\n",
       " 'would': 4,\n",
       " 'year': 5,\n",
       " 'also': 6,\n",
       " 'people': 7,\n",
       " 'new': 8,\n",
       " 'us': 9,\n",
       " 'one': 10,\n",
       " 'could': 11,\n",
       " 'last': 12,\n",
       " 'first': 13,\n",
       " 'time': 14,\n",
       " 'two': 15,\n",
       " 'government': 16,\n",
       " 'world': 17,\n",
       " 'uk': 18,\n",
       " 'best': 19,\n",
       " 'years': 20,\n",
       " 'make': 21,\n",
       " 'film': 22,\n",
       " 'told': 23,\n",
       " 'made': 24,\n",
       " 'get': 25,\n",
       " 'music': 26,\n",
       " 'game': 27,\n",
       " 'like': 28,\n",
       " 'back': 29,\n",
       " 'many': 30,\n",
       " '000': 31,\n",
       " 'labour': 32,\n",
       " 'three': 33,\n",
       " 'well': 34,\n",
       " '1': 35,\n",
       " 'next': 36,\n",
       " 'bbc': 37,\n",
       " 'take': 38,\n",
       " 'set': 39,\n",
       " 'number': 40,\n",
       " 'added': 41,\n",
       " 'way': 42,\n",
       " 'market': 43,\n",
       " '2': 44,\n",
       " 'company': 45,\n",
       " 'may': 46,\n",
       " 'says': 47,\n",
       " 'election': 48,\n",
       " 'home': 49,\n",
       " 'party': 50,\n",
       " 'good': 51,\n",
       " 'going': 52,\n",
       " 'much': 53,\n",
       " 'work': 54,\n",
       " '2004': 55,\n",
       " 'still': 56,\n",
       " 'win': 57,\n",
       " 'show': 58,\n",
       " 'think': 59,\n",
       " 'games': 60,\n",
       " 'go': 61,\n",
       " 'top': 62,\n",
       " 'second': 63,\n",
       " 'million': 64,\n",
       " '6': 65,\n",
       " 'england': 66,\n",
       " 'firm': 67,\n",
       " 'since': 68,\n",
       " 'week': 69,\n",
       " 'say': 70,\n",
       " 'play': 71,\n",
       " 'part': 72,\n",
       " 'public': 73,\n",
       " 'use': 74,\n",
       " 'blair': 75,\n",
       " '3': 76,\n",
       " 'want': 77,\n",
       " 'minister': 78,\n",
       " 'however': 79,\n",
       " '10': 80,\n",
       " 'country': 81,\n",
       " 'technology': 82,\n",
       " 'see': 83,\n",
       " '4': 84,\n",
       " 'five': 85,\n",
       " 'british': 86,\n",
       " 'news': 87,\n",
       " 'european': 88,\n",
       " 'high': 89,\n",
       " 'group': 90,\n",
       " 'tv': 91,\n",
       " 'used': 92,\n",
       " 'end': 93,\n",
       " 'expected': 94,\n",
       " 'even': 95,\n",
       " 'players': 96,\n",
       " 'brown': 97,\n",
       " '5': 98,\n",
       " 'six': 99,\n",
       " 'old': 100,\n",
       " 'net': 101,\n",
       " 'already': 102,\n",
       " 'four': 103,\n",
       " 'plans': 104,\n",
       " 'put': 105,\n",
       " 'come': 106,\n",
       " 'half': 107,\n",
       " 'london': 108,\n",
       " 'sales': 109,\n",
       " 'growth': 110,\n",
       " 'long': 111,\n",
       " 'economy': 112,\n",
       " 'service': 113,\n",
       " 'right': 114,\n",
       " 'months': 115,\n",
       " 'chief': 116,\n",
       " 'day': 117,\n",
       " 'mobile': 118,\n",
       " 'former': 119,\n",
       " 'money': 120,\n",
       " 'britain': 121,\n",
       " 'director': 122,\n",
       " 'tax': 123,\n",
       " 'services': 124,\n",
       " '2005': 125,\n",
       " 'deal': 126,\n",
       " 'need': 127,\n",
       " 'help': 128,\n",
       " 'digital': 129,\n",
       " 'according': 130,\n",
       " 'big': 131,\n",
       " 'industry': 132,\n",
       " 'place': 133,\n",
       " 'companies': 134,\n",
       " 'users': 135,\n",
       " 'system': 136,\n",
       " 'business': 137,\n",
       " 'including': 138,\n",
       " 'team': 139,\n",
       " 'final': 140,\n",
       " 'based': 141,\n",
       " 'hit': 142,\n",
       " 'record': 143,\n",
       " 'report': 144,\n",
       " 'third': 145,\n",
       " 'called': 146,\n",
       " 'really': 147,\n",
       " 'international': 148,\n",
       " 'month': 149,\n",
       " 'move': 150,\n",
       " 'wales': 151,\n",
       " 'europe': 152,\n",
       " 'another': 153,\n",
       " '7': 154,\n",
       " 'life': 155,\n",
       " 'around': 156,\n",
       " 'economic': 157,\n",
       " 'start': 158,\n",
       " 'great': 159,\n",
       " 'future': 160,\n",
       " '2003': 161,\n",
       " 'firms': 162,\n",
       " 'came': 163,\n",
       " 'france': 164,\n",
       " 'open': 165,\n",
       " 'got': 166,\n",
       " 'spokesman': 167,\n",
       " 'software': 168,\n",
       " 'without': 169,\n",
       " 'general': 170,\n",
       " 'club': 171,\n",
       " 'took': 172,\n",
       " 'up': 173,\n",
       " 'ireland': 174,\n",
       " 'video': 175,\n",
       " 'howard': 176,\n",
       " 'know': 177,\n",
       " 'united': 178,\n",
       " 'online': 179,\n",
       " 'bank': 180,\n",
       " 'phone': 181,\n",
       " 'china': 182,\n",
       " 'far': 183,\n",
       " 'state': 184,\n",
       " 'campaign': 185,\n",
       " 'side': 186,\n",
       " 'law': 187,\n",
       " 'radio': 188,\n",
       " 'better': 189,\n",
       " 'court': 190,\n",
       " 'making': 191,\n",
       " 'decision': 192,\n",
       " 'executive': 193,\n",
       " 'real': 194,\n",
       " 'media': 195,\n",
       " 'offer': 196,\n",
       " 'give': 197,\n",
       " 'computer': 198,\n",
       " 'found': 199,\n",
       " 'action': 200,\n",
       " 'able': 201,\n",
       " 'president': 202,\n",
       " 'information': 203,\n",
       " 'despite': 204,\n",
       " 'office': 205,\n",
       " 'star': 206,\n",
       " 'lot': 207,\n",
       " 'it': 208,\n",
       " 'national': 209,\n",
       " 'line': 210,\n",
       " 'countries': 211,\n",
       " 'likely': 212,\n",
       " 'using': 213,\n",
       " 'away': 214,\n",
       " 'player': 215,\n",
       " 'internet': 216,\n",
       " 'saying': 217,\n",
       " 'every': 218,\n",
       " 'given': 219,\n",
       " 'security': 220,\n",
       " 'become': 221,\n",
       " 'left': 222,\n",
       " 'awards': 223,\n",
       " 'figures': 224,\n",
       " 'anti': 225,\n",
       " 'nations': 226,\n",
       " 'run': 227,\n",
       " 'eu': 228,\n",
       " '20': 229,\n",
       " 'cost': 230,\n",
       " 'prime': 231,\n",
       " 'role': 232,\n",
       " 'seen': 233,\n",
       " 'playing': 234,\n",
       " 'biggest': 235,\n",
       " 'man': 236,\n",
       " 'january': 237,\n",
       " 'data': 238,\n",
       " 'bill': 239,\n",
       " 'whether': 240,\n",
       " 'played': 241,\n",
       " 'later': 242,\n",
       " 'foreign': 243,\n",
       " 'although': 244,\n",
       " 'cup': 245,\n",
       " 'hard': 246,\n",
       " 'award': 247,\n",
       " 'rise': 248,\n",
       " 'broadband': 249,\n",
       " 'times': 250,\n",
       " 'match': 251,\n",
       " 'chancellor': 252,\n",
       " 'oil': 253,\n",
       " 'pay': 254,\n",
       " 'lost': 255,\n",
       " 'taking': 256,\n",
       " 'house': 257,\n",
       " 'due': 258,\n",
       " 'past': 259,\n",
       " 'interest': 260,\n",
       " 'early': 261,\n",
       " 'never': 262,\n",
       " 'lord': 263,\n",
       " 'leader': 264,\n",
       " 'support': 265,\n",
       " 'case': 266,\n",
       " 'prices': 267,\n",
       " 'look': 268,\n",
       " 'microsoft': 269,\n",
       " 'shares': 270,\n",
       " 'michael': 271,\n",
       " 'legal': 272,\n",
       " 'analysts': 273,\n",
       " 'control': 274,\n",
       " 'believe': 275,\n",
       " 'december': 276,\n",
       " 'less': 277,\n",
       " 'days': 278,\n",
       " 'cut': 279,\n",
       " 'recent': 280,\n",
       " 'season': 281,\n",
       " 'little': 282,\n",
       " 'children': 283,\n",
       " 'e': 284,\n",
       " 'ahead': 285,\n",
       " 'earlier': 286,\n",
       " 'increase': 287,\n",
       " 'thought': 288,\n",
       " 'free': 289,\n",
       " 'john': 290,\n",
       " 'face': 291,\n",
       " 'research': 292,\n",
       " 'scotland': 293,\n",
       " 'important': 294,\n",
       " 'something': 295,\n",
       " 'current': 296,\n",
       " 'strong': 297,\n",
       " 'went': 298,\n",
       " 'issue': 299,\n",
       " 'secretary': 300,\n",
       " 'south': 301,\n",
       " 'local': 302,\n",
       " 'tory': 303,\n",
       " 'rights': 304,\n",
       " 'working': 305,\n",
       " 'power': 306,\n",
       " 'budget': 307,\n",
       " 'financial': 308,\n",
       " 'spending': 309,\n",
       " '12': 310,\n",
       " 'quarter': 311,\n",
       " 'access': 312,\n",
       " 'currently': 313,\n",
       " 'held': 314,\n",
       " 'major': 315,\n",
       " 'chance': 316,\n",
       " 'change': 317,\n",
       " 'trade': 318,\n",
       " 'films': 319,\n",
       " 'find': 320,\n",
       " 'looking': 321,\n",
       " 'try': 322,\n",
       " 'following': 323,\n",
       " 'sunday': 324,\n",
       " '0': 325,\n",
       " 'full': 326,\n",
       " 'tories': 327,\n",
       " 'yet': 328,\n",
       " 'return': 329,\n",
       " 'series': 330,\n",
       " 'latest': 331,\n",
       " 'meeting': 332,\n",
       " 'share': 333,\n",
       " 'different': 334,\n",
       " 'website': 335,\n",
       " 'david': 336,\n",
       " 'winning': 337,\n",
       " 'almost': 338,\n",
       " 'injury': 339,\n",
       " 'sale': 340,\n",
       " 'must': 341,\n",
       " 'lead': 342,\n",
       " 'enough': 343,\n",
       " 'personal': 344,\n",
       " 'programme': 345,\n",
       " 'might': 346,\n",
       " 'police': 347,\n",
       " 'low': 348,\n",
       " 'band': 349,\n",
       " 'problems': 350,\n",
       " 'ever': 351,\n",
       " 'keep': 352,\n",
       " 'rate': 353,\n",
       " 'announced': 354,\n",
       " 'always': 355,\n",
       " 'key': 356,\n",
       " 'coach': 357,\n",
       " 'williams': 358,\n",
       " 'sold': 359,\n",
       " 'across': 360,\n",
       " 'performance': 361,\n",
       " 'dollar': 362,\n",
       " '11': 363,\n",
       " 'among': 364,\n",
       " 'behind': 365,\n",
       " 'ago': 366,\n",
       " 'list': 367,\n",
       " '8': 368,\n",
       " '9': 369,\n",
       " 'clear': 370,\n",
       " 'getting': 371,\n",
       " 'political': 372,\n",
       " 'victory': 373,\n",
       " '25': 374,\n",
       " 'mark': 375,\n",
       " 'chairman': 376,\n",
       " 'include': 377,\n",
       " 'women': 378,\n",
       " 'demand': 379,\n",
       " '30': 380,\n",
       " 'statement': 381,\n",
       " 'ms': 382,\n",
       " 'march': 383,\n",
       " 'february': 384,\n",
       " 'things': 385,\n",
       " 'term': 386,\n",
       " 'rather': 387,\n",
       " 'jobs': 388,\n",
       " 'minutes': 389,\n",
       " 'tuesday': 390,\n",
       " 'american': 391,\n",
       " 'chelsea': 392,\n",
       " 'claims': 393,\n",
       " 'done': 394,\n",
       " 'content': 395,\n",
       " 'continue': 396,\n",
       " 'point': 397,\n",
       " 'job': 398,\n",
       " 'manager': 399,\n",
       " 'means': 400,\n",
       " 'head': 401,\n",
       " 'problem': 402,\n",
       " 'title': 403,\n",
       " 'actor': 404,\n",
       " 'coming': 405,\n",
       " 'huge': 406,\n",
       " 'price': 407,\n",
       " 'asked': 408,\n",
       " 'released': 409,\n",
       " 'taken': 410,\n",
       " 'mail': 411,\n",
       " 'men': 412,\n",
       " 'union': 413,\n",
       " 'members': 414,\n",
       " 'india': 415,\n",
       " 'allow': 416,\n",
       " 'weeks': 417,\n",
       " 'wednesday': 418,\n",
       " 'act': 419,\n",
       " 'japan': 420,\n",
       " 'rugby': 421,\n",
       " 'plan': 422,\n",
       " 'tony': 423,\n",
       " 'global': 424,\n",
       " 'investment': 425,\n",
       " 'least': 426,\n",
       " 'result': 427,\n",
       " 'apple': 428,\n",
       " '50': 429,\n",
       " 'young': 430,\n",
       " 'network': 431,\n",
       " 'today': 432,\n",
       " 'within': 433,\n",
       " 'costs': 434,\n",
       " 'fans': 435,\n",
       " 'forward': 436,\n",
       " 'bid': 437,\n",
       " 'main': 438,\n",
       " 'french': 439,\n",
       " 'possible': 440,\n",
       " 'production': 441,\n",
       " 'needed': 442,\n",
       " 'running': 443,\n",
       " 'site': 444,\n",
       " 'beat': 445,\n",
       " 'november': 446,\n",
       " '18': 447,\n",
       " 'small': 448,\n",
       " 'war': 449,\n",
       " 'council': 450,\n",
       " 'consumer': 451,\n",
       " 'available': 452,\n",
       " 'saturday': 453,\n",
       " 'form': 454,\n",
       " 'warned': 455,\n",
       " 'thing': 456,\n",
       " 'monday': 457,\n",
       " 'cash': 458,\n",
       " 'vote': 459,\n",
       " 'hold': 460,\n",
       " 'several': 461,\n",
       " 'known': 462,\n",
       " 'wanted': 463,\n",
       " 'mps': 464,\n",
       " 'song': 465,\n",
       " 'pc': 466,\n",
       " 'issues': 467,\n",
       " 'total': 468,\n",
       " 'committee': 469,\n",
       " 'friday': 470,\n",
       " '15': 471,\n",
       " 'level': 472,\n",
       " 'live': 473,\n",
       " 'football': 474,\n",
       " 'though': 475,\n",
       " 'evidence': 476,\n",
       " 'policy': 477,\n",
       " 'prize': 478,\n",
       " 'version': 479,\n",
       " 'success': 480,\n",
       " 'led': 481,\n",
       " 'league': 482,\n",
       " 'search': 483,\n",
       " 'trying': 484,\n",
       " '2001': 485,\n",
       " 'human': 486,\n",
       " 'calls': 487,\n",
       " 'previous': 488,\n",
       " 'buy': 489,\n",
       " 'sir': 490,\n",
       " 'recently': 491,\n",
       " 'saw': 492,\n",
       " 'web': 493,\n",
       " 'sony': 494,\n",
       " 'rates': 495,\n",
       " 'family': 496,\n",
       " 'parties': 497,\n",
       " 'aid': 498,\n",
       " 'single': 499,\n",
       " 'album': 500,\n",
       " 'centre': 501,\n",
       " 'eight': 502,\n",
       " 'name': 503,\n",
       " 'customers': 504,\n",
       " 'rules': 505,\n",
       " 'meet': 506,\n",
       " 'close': 507,\n",
       " 'development': 508,\n",
       " 'ministers': 509,\n",
       " 'others': 510,\n",
       " 'thursday': 511,\n",
       " 'health': 512,\n",
       " 'book': 513,\n",
       " 'competition': 514,\n",
       " 'stock': 515,\n",
       " 'agreed': 516,\n",
       " 'call': 517,\n",
       " 'phones': 518,\n",
       " '100': 519,\n",
       " 'difficult': 520,\n",
       " 'short': 521,\n",
       " 'let': 522,\n",
       " 'race': 523,\n",
       " 'yukos': 524,\n",
       " 'consumers': 525,\n",
       " 'popular': 526,\n",
       " 'comes': 527,\n",
       " 'co': 528,\n",
       " 'fact': 529,\n",
       " 'charles': 530,\n",
       " 'event': 531,\n",
       " 'hope': 532,\n",
       " 'failed': 533,\n",
       " 'fourth': 534,\n",
       " 'higher': 535,\n",
       " 'showed': 536,\n",
       " 'networks': 537,\n",
       " 'debt': 538,\n",
       " 'board': 539,\n",
       " 'actress': 540,\n",
       " 'commission': 541,\n",
       " 'trial': 542,\n",
       " 'city': 543,\n",
       " 'wants': 544,\n",
       " 'october': 545,\n",
       " 'italy': 546,\n",
       " 'choice': 547,\n",
       " 'york': 548,\n",
       " 'lib': 549,\n",
       " 'reported': 550,\n",
       " 'feel': 551,\n",
       " 'nothing': 552,\n",
       " 'conference': 553,\n",
       " 'project': 554,\n",
       " 'career': 555,\n",
       " 'bt': 556,\n",
       " 'sites': 557,\n",
       " 'boss': 558,\n",
       " 'points': 559,\n",
       " 'liberal': 560,\n",
       " 'late': 561,\n",
       " 'sure': 562,\n",
       " 'liverpool': 563,\n",
       " 'festival': 564,\n",
       " 'reports': 565,\n",
       " 'black': 566,\n",
       " 'received': 567,\n",
       " 'cannot': 568,\n",
       " 'annual': 569,\n",
       " 'together': 570,\n",
       " 'instead': 571,\n",
       " 'claim': 572,\n",
       " 'shows': 573,\n",
       " 'gaming': 574,\n",
       " 'tour': 575,\n",
       " 'dvd': 576,\n",
       " 'break': 577,\n",
       " 'launch': 578,\n",
       " 'claimed': 579,\n",
       " 'paid': 580,\n",
       " 'mean': 581,\n",
       " 'on': 582,\n",
       " 'devices': 583,\n",
       " 'christmas': 584,\n",
       " 'jones': 585,\n",
       " 'movie': 586,\n",
       " 'boost': 587,\n",
       " 'goal': 588,\n",
       " 'virus': 589,\n",
       " 'growing': 590,\n",
       " 'stage': 591,\n",
       " 'release': 592,\n",
       " 'age': 593,\n",
       " 'largest': 594,\n",
       " 'september': 595,\n",
       " 'to': 596,\n",
       " 'large': 597,\n",
       " 'leading': 598,\n",
       " 'summer': 599,\n",
       " 'champion': 600,\n",
       " 'in': 601,\n",
       " '2002': 602,\n",
       " 'involved': 603,\n",
       " 'position': 604,\n",
       " 'arsenal': 605,\n",
       " 'west': 606,\n",
       " 'denied': 607,\n",
       " 'changes': 608,\n",
       " 'russian': 609,\n",
       " 'out': 610,\n",
       " 'believes': 611,\n",
       " 'manchester': 612,\n",
       " 'profits': 613,\n",
       " 'paul': 614,\n",
       " 'singer': 615,\n",
       " 'iraq': 616,\n",
       " 'needs': 617,\n",
       " 'fall': 618,\n",
       " 'television': 619,\n",
       " 'products': 620,\n",
       " 'idea': 621,\n",
       " 'stop': 622,\n",
       " 'them': 623,\n",
       " 'gordon': 624,\n",
       " 'parliament': 625,\n",
       " '17': 626,\n",
       " 'australian': 627,\n",
       " 'pressure': 628,\n",
       " 'sport': 629,\n",
       " 'love': 630,\n",
       " 'germany': 631,\n",
       " 'africa': 632,\n",
       " 'started': 633,\n",
       " 'create': 634,\n",
       " 'order': 635,\n",
       " 'scottish': 636,\n",
       " 'talks': 637,\n",
       " 'giant': 638,\n",
       " 'potential': 639,\n",
       " '13': 640,\n",
       " 'german': 641,\n",
       " 'test': 642,\n",
       " 'pre': 643,\n",
       " 'weekend': 644,\n",
       " '16': 645,\n",
       " 'that': 646,\n",
       " 'quite': 647,\n",
       " 'round': 648,\n",
       " 'opening': 649,\n",
       " 'whole': 650,\n",
       " 'squad': 651,\n",
       " 'martin': 652,\n",
       " 'association': 653,\n",
       " 'special': 654,\n",
       " 'senior': 655,\n",
       " 'launched': 656,\n",
       " 'box': 657,\n",
       " 'chart': 658,\n",
       " 'oscar': 659,\n",
       " 'seven': 660,\n",
       " 'street': 661,\n",
       " 'rose': 662,\n",
       " 'value': 663,\n",
       " 'conservative': 664,\n",
       " 'sent': 665,\n",
       " 'stars': 666,\n",
       " 'ball': 667,\n",
       " 'car': 668,\n",
       " 'v': 669,\n",
       " 'anything': 670,\n",
       " 'grand': 671,\n",
       " 'groups': 672,\n",
       " 'hours': 673,\n",
       " 'accused': 674,\n",
       " '40': 675,\n",
       " 'stand': 676,\n",
       " 'remain': 677,\n",
       " '2000': 678,\n",
       " 'cards': 679,\n",
       " 'either': 680,\n",
       " 'hopes': 681,\n",
       " 'ensure': 682,\n",
       " 'olympic': 683,\n",
       " 'simply': 684,\n",
       " 'robinson': 685,\n",
       " 'fight': 686,\n",
       " 'similar': 687,\n",
       " 'press': 688,\n",
       " 'smith': 689,\n",
       " 'range': 690,\n",
       " 'irish': 691,\n",
       " 'drive': 692,\n",
       " '2006': 693,\n",
       " 'exchange': 694,\n",
       " 'rock': 695,\n",
       " 'official': 696,\n",
       " '24': 697,\n",
       " '14': 698,\n",
       " 'results': 699,\n",
       " 'bit': 700,\n",
       " 'appeal': 701,\n",
       " 'turn': 702,\n",
       " 'dr': 703,\n",
       " 'provide': 704,\n",
       " 'ukip': 705,\n",
       " 'immigration': 706,\n",
       " 'period': 707,\n",
       " 'makes': 708,\n",
       " 'target': 709,\n",
       " 'helped': 710,\n",
       " 'investors': 711,\n",
       " 'standard': 712,\n",
       " 'wrong': 713,\n",
       " 'sell': 714,\n",
       " 'attack': 715,\n",
       " 'commons': 716,\n",
       " 'fell': 717,\n",
       " 'independent': 718,\n",
       " 'tsunami': 719,\n",
       " 'particularly': 720,\n",
       " 'meanwhile': 721,\n",
       " 'comedy': 722,\n",
       " 'proposals': 723,\n",
       " 'education': 724,\n",
       " 'average': 725,\n",
       " 'energy': 726,\n",
       " 'lords': 727,\n",
       " 'ban': 728,\n",
       " 'gave': 729,\n",
       " 'impact': 730,\n",
       " 'via': 731,\n",
       " 'moment': 732,\n",
       " 'compared': 733,\n",
       " 'school': 734,\n",
       " 'happy': 735,\n",
       " 'card': 736,\n",
       " 'forced': 737,\n",
       " 'charge': 738,\n",
       " 'attacks': 739,\n",
       " 'spam': 740,\n",
       " 'generation': 741,\n",
       " 'force': 742,\n",
       " 'brought': 743,\n",
       " 'amount': 744,\n",
       " 'private': 745,\n",
       " 'community': 746,\n",
       " 'sector': 747,\n",
       " 'per': 748,\n",
       " 'bring': 749,\n",
       " 'fraud': 750,\n",
       " 'became': 751,\n",
       " 'fund': 752,\n",
       " 'euros': 753,\n",
       " 'extra': 754,\n",
       " 'systems': 755,\n",
       " 'everyone': 756,\n",
       " 'speech': 757,\n",
       " 'admitted': 758,\n",
       " 'poll': 759,\n",
       " 'history': 760,\n",
       " 'message': 761,\n",
       " 'numbers': 762,\n",
       " 'included': 763,\n",
       " 'widely': 764,\n",
       " 'gadget': 765,\n",
       " 'entertainment': 766,\n",
       " 'windows': 767,\n",
       " 'debate': 768,\n",
       " 'speaking': 769,\n",
       " 'selling': 770,\n",
       " 'hand': 771,\n",
       " 'bad': 772,\n",
       " 'department': 773,\n",
       " 'laws': 774,\n",
       " 're': 775,\n",
       " 'workers': 776,\n",
       " 'date': 777,\n",
       " 'australia': 778,\n",
       " 'charges': 779,\n",
       " 'markets': 780,\n",
       " 'night': 781,\n",
       " 'audience': 782,\n",
       " 'named': 783,\n",
       " 'russia': 784,\n",
       " 'comments': 785,\n",
       " 'soon': 786,\n",
       " 'worked': 787,\n",
       " 'staff': 788,\n",
       " 'agency': 789,\n",
       " 'off': 790,\n",
       " 'view': 791,\n",
       " 'turned': 792,\n",
       " 'kilroy': 793,\n",
       " 'mike': 794,\n",
       " 'front': 795,\n",
       " 'member': 796,\n",
       " 'shot': 797,\n",
       " 'bush': 798,\n",
       " 'revealed': 799,\n",
       " 'areas': 800,\n",
       " 'download': 801,\n",
       " 'takes': 802,\n",
       " 'speed': 803,\n",
       " 'screen': 804,\n",
       " 'increased': 805,\n",
       " 'opposition': 806,\n",
       " 'university': 807,\n",
       " 'battle': 808,\n",
       " 'civil': 809,\n",
       " 'kennedy': 810,\n",
       " 'spend': 811,\n",
       " 'air': 812,\n",
       " 'finance': 813,\n",
       " 'newspaper': 814,\n",
       " 'him': 815,\n",
       " 'opportunity': 816,\n",
       " 'concerns': 817,\n",
       " 'shown': 818,\n",
       " 'survey': 819,\n",
       " 'area': 820,\n",
       " 'cross': 821,\n",
       " 'white': 822,\n",
       " 'gone': 823,\n",
       " 'voters': 824,\n",
       " 'course': 825,\n",
       " 'original': 826,\n",
       " 'millions': 827,\n",
       " 'bought': 828,\n",
       " 'offered': 829,\n",
       " '£1': 830,\n",
       " 'all': 831,\n",
       " 'poor': 832,\n",
       " 'alan': 833,\n",
       " 'followed': 834,\n",
       " 'east': 835,\n",
       " 'concerned': 836,\n",
       " 'leave': 837,\n",
       " 'often': 838,\n",
       " 'decided': 839,\n",
       " 'insisted': 840,\n",
       " 'authorities': 841,\n",
       " 'outside': 842,\n",
       " 'b': 843,\n",
       " 'favourite': 844,\n",
       " 'terms': 845,\n",
       " 'defence': 846,\n",
       " 'step': 847,\n",
       " 'whose': 848,\n",
       " 'june': 849,\n",
       " 'story': 850,\n",
       " 'reached': 851,\n",
       " 'analyst': 852,\n",
       " 'lives': 853,\n",
       " 'created': 854,\n",
       " 'designed': 855,\n",
       " 'mini': 856,\n",
       " 'process': 857,\n",
       " 'non': 858,\n",
       " 'risk': 859,\n",
       " '22': 860,\n",
       " 'america': 861,\n",
       " 'body': 862,\n",
       " 'quality': 863,\n",
       " 'easy': 864,\n",
       " 'spent': 865,\n",
       " 'cuts': 866,\n",
       " 'becoming': 867,\n",
       " 'remains': 868,\n",
       " 'unit': 869,\n",
       " 'majority': 870,\n",
       " 'raise': 871,\n",
       " 'pop': 872,\n",
       " 'attempt': 873,\n",
       " 'musical': 874,\n",
       " 'r': 875,\n",
       " 'drugs': 876,\n",
       " 'hollywood': 877,\n",
       " 'challenge': 878,\n",
       " 'experience': 879,\n",
       " 'example': 880,\n",
       " '19': 881,\n",
       " 'debut': 882,\n",
       " 'nominated': 883,\n",
       " 'states': 884,\n",
       " 'reach': 885,\n",
       " 'credit': 886,\n",
       " 'messages': 887,\n",
       " 'levels': 888,\n",
       " 'winner': 889,\n",
       " 'ray': 890,\n",
       " 'robert': 891,\n",
       " 'silk': 892,\n",
       " 'watch': 893,\n",
       " 'andy': 894,\n",
       " 'situation': 895,\n",
       " 'focus': 896,\n",
       " 'taxes': 897,\n",
       " 'euro': 898,\n",
       " 'songs': 899,\n",
       " 'organisation': 900,\n",
       " 'build': 901,\n",
       " 'everything': 902,\n",
       " 'believed': 903,\n",
       " 'april': 904,\n",
       " 'tough': 905,\n",
       " 'central': 906,\n",
       " 'anyone': 907,\n",
       " 'signed': 908,\n",
       " 'j': 909,\n",
       " 'pcs': 910,\n",
       " 'captain': 911,\n",
       " 'rival': 912,\n",
       " 'device': 913,\n",
       " 'indian': 914,\n",
       " 'confirmed': 915,\n",
       " 'james': 916,\n",
       " 'so': 917,\n",
       " 'titles': 918,\n",
       " 'businesses': 919,\n",
       " 'post': 920,\n",
       " 'technologies': 921,\n",
       " 'critics': 922,\n",
       " 'matter': 923,\n",
       " 'previously': 924,\n",
       " 'trading': 925,\n",
       " 'rest': 926,\n",
       " 'met': 927,\n",
       " 'began': 928,\n",
       " 'longer': 929,\n",
       " 'officials': 930,\n",
       " 'response': 931,\n",
       " 'probably': 932,\n",
       " 'nine': 933,\n",
       " 'hour': 934,\n",
       " 'row': 935,\n",
       " 'minute': 936,\n",
       " 'light': 937,\n",
       " 'cases': 938,\n",
       " 'magazine': 939,\n",
       " 'building': 940,\n",
       " 'worth': 941,\n",
       " 'account': 942,\n",
       " 'voice': 943,\n",
       " 'programs': 944,\n",
       " 'ask': 945,\n",
       " 'looked': 946,\n",
       " 'mp': 947,\n",
       " 'davis': 948,\n",
       " 'aviator': 949,\n",
       " 'threat': 950,\n",
       " 'trust': 951,\n",
       " 'confidence': 952,\n",
       " 'looks': 953,\n",
       " 'g': 954,\n",
       " 'chinese': 955,\n",
       " 'machine': 956,\n",
       " 'gold': 957,\n",
       " 'category': 958,\n",
       " 'computers': 959,\n",
       " 'premiership': 960,\n",
       " 'host': 961,\n",
       " 'measures': 962,\n",
       " 'fast': 963,\n",
       " 'person': 964,\n",
       " 'ruled': 965,\n",
       " 'towards': 966,\n",
       " 'artists': 967,\n",
       " 'double': 968,\n",
       " 'training': 969,\n",
       " 'missed': 970,\n",
       " 'felt': 971,\n",
       " 'care': 972,\n",
       " 'agreement': 973,\n",
       " 'allowed': 974,\n",
       " 'madrid': 975,\n",
       " 'scheme': 976,\n",
       " 'zealand': 977,\n",
       " 'fear': 978,\n",
       " 'theatre': 979,\n",
       " 'portable': 980,\n",
       " 'newcastle': 981,\n",
       " 'north': 982,\n",
       " 'serious': 983,\n",
       " 'spain': 984,\n",
       " 'management': 985,\n",
       " 'banks': 986,\n",
       " 'program': 987,\n",
       " 'figure': 988,\n",
       " 'johnson': 989,\n",
       " 'positive': 990,\n",
       " 'affected': 991,\n",
       " 'champions': 992,\n",
       " 'file': 993,\n",
       " 'deutsche': 994,\n",
       " 'google': 995,\n",
       " 'kept': 996,\n",
       " 'rising': 997,\n",
       " 'rule': 998,\n",
       " 'argued': 999,\n",
       " 'along': 1000,\n",
       " ...}"
      ]
     },
     "execution_count": 24,
     "metadata": {},
     "output_type": "execute_result"
    }
   ],
   "source": [
    "#We should see the mapping between words and their integer representations for the first 10 words in the vocabulary.\n",
    "\n",
    "word_index"
   ]
  },
  {
   "cell_type": "code",
   "execution_count": 25,
   "metadata": {
    "colab": {
     "base_uri": "https://localhost:8080/"
    },
    "id": "7lhT9_-f7k68",
    "outputId": "5f7c1236-ba40-4cbc-fc66-41329c280785"
   },
   "outputs": [
    {
     "data": {
      "text/plain": [
       "{'<OOV>': 1,\n",
       " 'said': 2,\n",
       " 'mr': 3,\n",
       " 'would': 4,\n",
       " 'year': 5,\n",
       " 'also': 6,\n",
       " 'people': 7,\n",
       " 'new': 8,\n",
       " 'us': 9,\n",
       " 'one': 10}"
      ]
     },
     "execution_count": 25,
     "metadata": {},
     "output_type": "execute_result"
    }
   ],
   "source": [
    "#print out a sample\n",
    "dict(list(word_index.items())[0:10])"
   ]
  },
  {
   "cell_type": "markdown",
   "metadata": {
    "id": "CQ_XTmT_eU7b"
   },
   "source": [
    "__Observations:__\n",
    "- The code prints a dictionary containing the first 10 items from the word_index dictionary.\n",
    "- These items represent a subset of the word-to-index mappings generated by the tokenizer."
   ]
  },
  {
   "cell_type": "markdown",
   "metadata": {
    "id": "jTDip0vPe30D"
   },
   "source": [
    "### Step 6: Converting the Training Articles into Sequences Using the Tokenizer\n",
    "- Convert the training articles **(train_articles)** into sequences using the **texts_to_sequences** method of the tokenizer object and assign the result to **train_sequences**\n",
    "- Print the sequence representation of the 11th training article (index 10) by accessing **train_sequences[10]**"
   ]
  },
  {
   "cell_type": "code",
   "execution_count": 9,
   "metadata": {
    "colab": {
     "base_uri": "https://localhost:8080/"
    },
    "id": "qaNkkgzP7k69",
    "outputId": "fb43c061-e0b5-4f2b-b36e-35e94822c316"
   },
   "outputs": [
    {
     "name": "stdout",
     "output_type": "stream",
     "text": [
      "[2432, 1, 225, 4995, 22, 642, 586, 225, 4995, 1, 1, 1662, 1, 1, 2432, 22, 564, 1, 1, 140, 278, 1, 140, 278, 796, 822, 662, 2308, 1, 1144, 1693, 1, 1720, 4996, 1, 1, 1, 1, 1, 4738, 1, 1, 122, 4515, 1, 2, 2874, 1506, 352, 4739, 1, 52, 341, 1, 352, 2173, 3963, 41, 22, 3793, 1, 1, 1, 1, 542, 1, 1, 1, 835, 631, 2367, 347, 4740, 1, 365, 22, 1, 787, 2368, 1, 4302, 138, 10, 1, 3663, 682, 3531, 1, 22, 1, 414, 822, 662, 1, 90, 13, 633, 1, 225, 4995, 1, 600, 1, 1693, 1021, 1, 4997, 807, 1865, 117, 1, 1, 1, 2974, 22, 1, 99, 278, 1, 1606, 4998, 542, 492, 1, 1443, 4741, 778, 1320, 1, 1862, 10, 33, 642, 319, 1, 62, 478, 564, 301, 1507, 22, 479, 1, 1, 1665, 1, 797, 1, 3067, 1, 1365, 6, 1, 2432, 564, 22, 2971, 4735, 1, 1, 1, 1, 1, 850, 39, 1825, 675, 297, 26, 979, 1, 882, 22, 361, 22, 13, 301, 1507, 1343, 374, 20, 63, 883, 1096, 4303, 247]\n"
     ]
    }
   ],
   "source": [
    "#The texts_to_sequences method converts the train_articles text data into a list of integer sequences, using the word index created earlier. \n",
    "#Each word in the text is replaced by its corresponding integer value from the word index.\n",
    "train_sequences  = tokenizer.texts_to_sequences(train_articles)\n",
    "\n",
    "print(train_sequences[10])"
   ]
  },
  {
   "cell_type": "markdown",
   "metadata": {
    "id": "__Jgr_cdfR_6"
   },
   "source": [
    "__Observation:__\n",
    "- The code prints the sequence representation of the 11th training article (index 10) in the **train_sequences** list.\n",
    "- The output is a list of integers, where each integer represents the index of a word in the tokenizer's word index vocabulary that corresponds to a word in the article."
   ]
  },
  {
   "cell_type": "markdown",
   "metadata": {
    "id": "E60-EoRMh58g"
   },
   "source": [
    "### Step 7: Padding the Sequence\n",
    "- Pad the sequences in **train_sequences** using the **pad_sequences** function\n",
    "- Set the maximum length of the padded sequences to **max_length**\n",
    "- Specify the padding type as **padding_type** and the truncation type as **trunc_type**\n",
    "- Assign the padded sequences to the variable **train_padded**"
   ]
  },
  {
   "cell_type": "code",
   "execution_count": 10,
   "metadata": {
    "id": "msiF0l767k69"
   },
   "outputs": [],
   "source": [
    "train_padded = pad_sequences(train_sequences, maxlen=max_length, padding=padding_type, truncating=trunc_type)"
   ]
  },
  {
   "cell_type": "code",
   "execution_count": 11,
   "metadata": {
    "colab": {
     "base_uri": "https://localhost:8080/"
    },
    "id": "iKwGCkXf7k69",
    "outputId": "40c29dca-be9f-490f-eaeb-94353fa411db"
   },
   "outputs": [
    {
     "name": "stdout",
     "output_type": "stream",
     "text": [
      "[2432, 1, 225, 4995, 22, 642, 586, 225, 4995, 1, 1, 1662, 1, 1, 2432, 22, 564, 1, 1, 140, 278, 1, 140, 278, 796, 822, 662, 2308, 1, 1144, 1693, 1, 1720, 4996, 1, 1, 1, 1, 1, 4738, 1, 1, 122, 4515, 1, 2, 2874, 1506, 352, 4739, 1, 52, 341, 1, 352, 2173, 3963, 41, 22, 3793, 1, 1, 1, 1, 542, 1, 1, 1, 835, 631, 2367, 347, 4740, 1, 365, 22, 1, 787, 2368, 1, 4302, 138, 10, 1, 3663, 682, 3531, 1, 22, 1, 414, 822, 662, 1, 90, 13, 633, 1, 225, 4995, 1, 600, 1, 1693, 1021, 1, 4997, 807, 1865, 117, 1, 1, 1, 2974, 22, 1, 99, 278, 1, 1606, 4998, 542, 492, 1, 1443, 4741, 778, 1320, 1, 1862, 10, 33, 642, 319, 1, 62, 478, 564, 301, 1507, 22, 479, 1, 1, 1665, 1, 797, 1, 3067, 1, 1365, 6, 1, 2432, 564, 22, 2971, 4735, 1, 1, 1, 1, 1, 850, 39, 1825, 675, 297, 26, 979, 1, 882, 22, 361, 22, 13, 301, 1507, 1343, 374, 20, 63, 883, 1096, 4303, 247]\n"
     ]
    }
   ],
   "source": [
    "print(train_sequences[10])"
   ]
  },
  {
   "cell_type": "markdown",
   "metadata": {
    "id": "k2TGYE5IjhOI"
   },
   "source": [
    "__Observations:__\n",
    "- The code prints the sequence representation of the 11th training article (index 10) in the **train_sequences** list.\n",
    "- The output is a list of integers, where each integer represents the index of a word in the tokenizer's word index vocabulary that corresponds to a word in the article."
   ]
  },
  {
   "cell_type": "code",
   "execution_count": 12,
   "metadata": {
    "colab": {
     "base_uri": "https://localhost:8080/"
    },
    "id": "EQbLYMWl7k6-",
    "outputId": "01892870-9ae2-4d7b-b679-7cbbbc793eb6"
   },
   "outputs": [
    {
     "name": "stdout",
     "output_type": "stream",
     "text": [
      "[2432    1  225 4995   22  642  586  225 4995    1    1 1662    1    1\n",
      " 2432   22  564    1    1  140  278    1  140  278  796  822  662 2308\n",
      "    1 1144 1693    1 1720 4996    1    1    1    1    1 4738    1    1\n",
      "  122 4515    1    2 2874 1506  352 4739    1   52  341    1  352 2173\n",
      " 3963   41   22 3793    1    1    1    1  542    1    1    1  835  631\n",
      " 2367  347 4740    1  365   22    1  787 2368    1 4302  138   10    1\n",
      " 3663  682 3531    1   22    1  414  822  662    1   90   13  633    1\n",
      "  225 4995    1  600    1 1693 1021    1 4997  807 1865  117    1    1\n",
      "    1 2974   22    1   99  278    1 1606 4998  542  492    1 1443 4741\n",
      "  778 1320    1 1862   10   33  642  319    1   62  478  564  301 1507\n",
      "   22  479    1    1 1665    1  797    1 3067    1 1365    6    1 2432\n",
      "  564   22 2971 4735    1    1    1    1    1  850   39 1825  675  297\n",
      "   26  979    1  882   22  361   22   13  301 1507 1343  374   20   63\n",
      "  883 1096 4303  247    0    0    0    0    0    0    0    0    0    0\n",
      "    0    0    0    0]\n"
     ]
    }
   ],
   "source": [
    "print(train_padded[10])"
   ]
  },
  {
   "cell_type": "markdown",
   "metadata": {
    "id": "kR1yorJLkMpI"
   },
   "source": [
    "__Observation:__\n",
    "- The code prints the padded sequence representation of the 11th training article.\n",
    "- The output is a list of integers representing the word indices of the corresponding words in the article, after applying padding to ensure a consistent length (max_length) for all sequences."
   ]
  },
  {
   "cell_type": "markdown",
   "metadata": {
    "id": "5QD6M00flHAm"
   },
   "source": [
    "### Step 8: Printing the Length of Validation Sequences and the Shape of Validation Padded\n",
    "- Convert the validation articles into sequences using the tokenizer and pad the sequences to a maximum length. Assign the result to **validation_padded**\n",
    "- Print the length of **validation_sequences** and the shape of **validation_padded**\n",
    "- Create a tokenizer for the labels and fit it on the labels list\n",
    "- Convert the training and validation labels into sequences using the label tokenizer and store the results in **training_label_seq** and **validation_label_seq** as NumPy arrays"
   ]
  },
  {
   "cell_type": "code",
   "execution_count": 13,
   "metadata": {
    "colab": {
     "base_uri": "https://localhost:8080/"
    },
    "id": "fpgc3k9y7k6-",
    "outputId": "64c3a06c-372c-4d69-fc52-7cc1ed550108"
   },
   "outputs": [
    {
     "name": "stdout",
     "output_type": "stream",
     "text": [
      "445\n",
      "(445, 200)\n"
     ]
    }
   ],
   "source": [
    "validation_sequences = tokenizer.texts_to_sequences(validation_articles)\n",
    "validation_padded = pad_sequences(validation_sequences, maxlen=max_length, padding=padding_type, truncating=trunc_type)\n",
    "\n",
    "print(len(validation_sequences))\n",
    "print(validation_padded.shape)"
   ]
  },
  {
   "cell_type": "markdown",
   "metadata": {
    "id": "eFFWDC12mo1e"
   },
   "source": [
    "__Observations:__\n",
    "- The length of **validation_sequences**, indicating the number of sequences in the validation set.\n",
    "- The shape of **validation_padded**, representing the dimensions of the padded validation sequences."
   ]
  },
  {
   "cell_type": "code",
   "execution_count": 14,
   "metadata": {
    "colab": {
     "base_uri": "https://localhost:8080/"
    },
    "id": "8Q3nLd8W7k6-",
    "outputId": "543a8dad-8aad-4554-cc67-1793fb1dc3d8"
   },
   "outputs": [
    {
     "name": "stdout",
     "output_type": "stream",
     "text": [
      "{'tech', 'business', 'entertainment', 'sport', 'politics'}\n"
     ]
    }
   ],
   "source": [
    "print(set(labels))"
   ]
  },
  {
   "cell_type": "markdown",
   "metadata": {
    "id": "y0aPJkPCnkh3"
   },
   "source": [
    "__Observation:__\n",
    "- The output is a set containing the unique labels: 'business', 'tech', 'entertainment', 'politics', and 'sport'."
   ]
  },
  {
   "cell_type": "code",
   "execution_count": 15,
   "metadata": {
    "id": "WcsrX7dP7k6-"
   },
   "outputs": [],
   "source": [
    "label_tokenizer = Tokenizer()\n",
    "label_tokenizer.fit_on_texts(labels)\n",
    "\n",
    "training_label_seq = np.array(label_tokenizer.texts_to_sequences(train_labels))\n",
    "validation_label_seq = np.array(label_tokenizer.texts_to_sequences(validation_labels))"
   ]
  },
  {
   "cell_type": "markdown",
   "metadata": {
    "id": "q7VlgNsjpwKy"
   },
   "source": [
    "__Observations:__\n",
    "- The output of this code is the conversion of label sequences for the training and validation sets.\n",
    "- The **training_label_seq** and **validation_label_seq** are NumPy arrays containing the label sequences for the respective sets, based on the word index mapping generated by the **label_tokenizer**"
   ]
  },
  {
   "cell_type": "markdown",
   "metadata": {
    "id": "aefTdVG3ohC2"
   },
   "source": [
    "### Step 9: Training the Model\n",
    "- Create a sequential model using **tf.keras.Sequential()**\n",
    "- Add an embedding layer to the model with the specified vocabulary size **(vocab_size)** and embedding dimension **(embedding_dim)**\n",
    "- Add a bidirectional SimpleRNN layer to the model with the same embedding dimension\n",
    "- Add a dense layer to the model with the embedding dimension as the number of units and **relu** activation function\n",
    "- Add a dense layer with 6 units and the **softmax** activation function to the model\n",
    "- Print a summary of the model's architecture using **model.summary()**"
   ]
  },
  {
   "cell_type": "code",
   "execution_count": 16,
   "metadata": {
    "colab": {
     "base_uri": "https://localhost:8080/"
    },
    "id": "R2k0E1Cb7k6_",
    "outputId": "3d30d1c8-de2d-413c-bd82-8f83ebb698dd"
   },
   "outputs": [
    {
     "data": {
      "text/html": [
       "<pre style=\"white-space:pre;overflow-x:auto;line-height:normal;font-family:Menlo,'DejaVu Sans Mono',consolas,'Courier New',monospace\"><span style=\"font-weight: bold\">Model: \"sequential\"</span>\n",
       "</pre>\n"
      ],
      "text/plain": [
       "\u001b[1mModel: \"sequential\"\u001b[0m\n"
      ]
     },
     "metadata": {},
     "output_type": "display_data"
    },
    {
     "data": {
      "text/html": [
       "<pre style=\"white-space:pre;overflow-x:auto;line-height:normal;font-family:Menlo,'DejaVu Sans Mono',consolas,'Courier New',monospace\">┏━━━━━━━━━━━━━━━━━━━━━━━━━━━━━━━━━┳━━━━━━━━━━━━━━━━━━━━━━━━┳━━━━━━━━━━━━━━━┓\n",
       "┃<span style=\"font-weight: bold\"> Layer (type)                    </span>┃<span style=\"font-weight: bold\"> Output Shape           </span>┃<span style=\"font-weight: bold\">       Param # </span>┃\n",
       "┡━━━━━━━━━━━━━━━━━━━━━━━━━━━━━━━━━╇━━━━━━━━━━━━━━━━━━━━━━━━╇━━━━━━━━━━━━━━━┩\n",
       "│ embedding (<span style=\"color: #0087ff; text-decoration-color: #0087ff\">Embedding</span>)           │ ?                      │   <span style=\"color: #00af00; text-decoration-color: #00af00\">0</span> (unbuilt) │\n",
       "├─────────────────────────────────┼────────────────────────┼───────────────┤\n",
       "│ bidirectional (<span style=\"color: #0087ff; text-decoration-color: #0087ff\">Bidirectional</span>)   │ ?                      │   <span style=\"color: #00af00; text-decoration-color: #00af00\">0</span> (unbuilt) │\n",
       "├─────────────────────────────────┼────────────────────────┼───────────────┤\n",
       "│ dense (<span style=\"color: #0087ff; text-decoration-color: #0087ff\">Dense</span>)                   │ ?                      │   <span style=\"color: #00af00; text-decoration-color: #00af00\">0</span> (unbuilt) │\n",
       "├─────────────────────────────────┼────────────────────────┼───────────────┤\n",
       "│ dense_1 (<span style=\"color: #0087ff; text-decoration-color: #0087ff\">Dense</span>)                 │ ?                      │   <span style=\"color: #00af00; text-decoration-color: #00af00\">0</span> (unbuilt) │\n",
       "└─────────────────────────────────┴────────────────────────┴───────────────┘\n",
       "</pre>\n"
      ],
      "text/plain": [
       "┏━━━━━━━━━━━━━━━━━━━━━━━━━━━━━━━━━┳━━━━━━━━━━━━━━━━━━━━━━━━┳━━━━━━━━━━━━━━━┓\n",
       "┃\u001b[1m \u001b[0m\u001b[1mLayer (type)                   \u001b[0m\u001b[1m \u001b[0m┃\u001b[1m \u001b[0m\u001b[1mOutput Shape          \u001b[0m\u001b[1m \u001b[0m┃\u001b[1m \u001b[0m\u001b[1m      Param #\u001b[0m\u001b[1m \u001b[0m┃\n",
       "┡━━━━━━━━━━━━━━━━━━━━━━━━━━━━━━━━━╇━━━━━━━━━━━━━━━━━━━━━━━━╇━━━━━━━━━━━━━━━┩\n",
       "│ embedding (\u001b[38;5;33mEmbedding\u001b[0m)           │ ?                      │   \u001b[38;5;34m0\u001b[0m (unbuilt) │\n",
       "├─────────────────────────────────┼────────────────────────┼───────────────┤\n",
       "│ bidirectional (\u001b[38;5;33mBidirectional\u001b[0m)   │ ?                      │   \u001b[38;5;34m0\u001b[0m (unbuilt) │\n",
       "├─────────────────────────────────┼────────────────────────┼───────────────┤\n",
       "│ dense (\u001b[38;5;33mDense\u001b[0m)                   │ ?                      │   \u001b[38;5;34m0\u001b[0m (unbuilt) │\n",
       "├─────────────────────────────────┼────────────────────────┼───────────────┤\n",
       "│ dense_1 (\u001b[38;5;33mDense\u001b[0m)                 │ ?                      │   \u001b[38;5;34m0\u001b[0m (unbuilt) │\n",
       "└─────────────────────────────────┴────────────────────────┴───────────────┘\n"
      ]
     },
     "metadata": {},
     "output_type": "display_data"
    },
    {
     "data": {
      "text/html": [
       "<pre style=\"white-space:pre;overflow-x:auto;line-height:normal;font-family:Menlo,'DejaVu Sans Mono',consolas,'Courier New',monospace\"><span style=\"font-weight: bold\"> Total params: </span><span style=\"color: #00af00; text-decoration-color: #00af00\">0</span> (0.00 B)\n",
       "</pre>\n"
      ],
      "text/plain": [
       "\u001b[1m Total params: \u001b[0m\u001b[38;5;34m0\u001b[0m (0.00 B)\n"
      ]
     },
     "metadata": {},
     "output_type": "display_data"
    },
    {
     "data": {
      "text/html": [
       "<pre style=\"white-space:pre;overflow-x:auto;line-height:normal;font-family:Menlo,'DejaVu Sans Mono',consolas,'Courier New',monospace\"><span style=\"font-weight: bold\"> Trainable params: </span><span style=\"color: #00af00; text-decoration-color: #00af00\">0</span> (0.00 B)\n",
       "</pre>\n"
      ],
      "text/plain": [
       "\u001b[1m Trainable params: \u001b[0m\u001b[38;5;34m0\u001b[0m (0.00 B)\n"
      ]
     },
     "metadata": {},
     "output_type": "display_data"
    },
    {
     "data": {
      "text/html": [
       "<pre style=\"white-space:pre;overflow-x:auto;line-height:normal;font-family:Menlo,'DejaVu Sans Mono',consolas,'Courier New',monospace\"><span style=\"font-weight: bold\"> Non-trainable params: </span><span style=\"color: #00af00; text-decoration-color: #00af00\">0</span> (0.00 B)\n",
       "</pre>\n"
      ],
      "text/plain": [
       "\u001b[1m Non-trainable params: \u001b[0m\u001b[38;5;34m0\u001b[0m (0.00 B)\n"
      ]
     },
     "metadata": {},
     "output_type": "display_data"
    }
   ],
   "source": [
    "model = tf.keras.Sequential([\n",
    "    tf.keras.layers.Embedding(vocab_size, embedding_dim),\n",
    "    tf.keras.layers.Bidirectional(tf.keras.layers.SimpleRNN(embedding_dim)),\n",
    "    tf.keras.layers.Dense(embedding_dim, activation='relu'),\n",
    "    tf.keras.layers.Dense(6, activation='softmax')\n",
    "])\n",
    "model.summary()"
   ]
  },
  {
   "cell_type": "markdown",
   "metadata": {
    "id": "2RYZ5eRIqHSk"
   },
   "source": [
    "__Observation:__\n",
    "- The code outputs a summary of the model's architecture, including the number of parameters and the shape of each layer in the model."
   ]
  },
  {
   "cell_type": "markdown",
   "metadata": {
    "id": "2es6RORPqq1M"
   },
   "source": [
    "### Step 10: Compiling the Model\n",
    "- Compile the model using **model.compile()** with the loss function set to **sparse_categorical_crossentropy**, the optimizer set to **adam**, and the metrics set to **accuracy**\n",
    "- Set the number of epochs to 10\n",
    "- Train the model using **model.fit()** with the training padded sequences **(train_padded)** and training label sequences **(training_label_seq)**\n",
    "- Specify the number of epochs as **num_epochs**, the validation data as the validation padded sequences **(validation_padded)** and validation label sequences **(validation_label_seq)**, and **verbose** mode as **2**"
   ]
  },
  {
   "cell_type": "code",
   "execution_count": 17,
   "metadata": {
    "colab": {
     "base_uri": "https://localhost:8080/"
    },
    "id": "oOBn4QRv7k6_",
    "outputId": "b98047f1-f2dc-4b67-8cb8-1ea3cae36a99"
   },
   "outputs": [
    {
     "name": "stdout",
     "output_type": "stream",
     "text": [
      "Epoch 1/4\n"
     ]
    },
    {
     "name": "stdout",
     "output_type": "stream",
     "text": [
      "56/56 - 2s - 40ms/step - accuracy: 0.2421 - loss: 1.6119 - val_accuracy: 0.2539 - val_loss: 1.5840\n",
      "Epoch 2/4\n",
      "56/56 - 1s - 25ms/step - accuracy: 0.3685 - loss: 1.4307 - val_accuracy: 0.4292 - val_loss: 1.2958\n",
      "Epoch 3/4\n",
      "56/56 - 2s - 35ms/step - accuracy: 0.7247 - loss: 0.8773 - val_accuracy: 0.5393 - val_loss: 1.1314\n",
      "Epoch 4/4\n",
      "56/56 - 2s - 34ms/step - accuracy: 0.9708 - loss: 0.2221 - val_accuracy: 0.5843 - val_loss: 1.0987\n"
     ]
    }
   ],
   "source": [
    "\n",
    "model.compile(loss='sparse_categorical_crossentropy', optimizer='adam', metrics=['accuracy'])\n",
    "\n",
    "num_epochs = 4\n",
    "\n",
    "history = model.fit(train_padded, training_label_seq, epochs=num_epochs, validation_data=(validation_padded, validation_label_seq), verbose=2)\n"
   ]
  },
  {
   "cell_type": "markdown",
   "metadata": {
    "id": "WqnhF_pirkJL"
   },
   "source": [
    "__Observations:__\n",
    "- The code trains the model for the specified number of epochs and records the training and validation accuracy and loss metrics.\n",
    "- The output is an object named history that contains information about the training process, such as the loss and accuracy values at each epoch."
   ]
  },
  {
   "cell_type": "markdown",
   "metadata": {
    "id": "JlqqXKGDtBhm"
   },
   "source": [
    "### Step 11: Plotting the Graph\n",
    "- Define a function named **plot_graphs** that takes history and string as inputs. Inside the function, plot the training and validation values of the given metric (string) from the history object using **plt.plot()**\n",
    "- Set the x-axis label as **Epochs** and the y-axis label as the given metric (string)\n",
    "- Call the **plot_graphs** function twice, first with **history** and **accuracy** as arguments, and then with **history** and **loss** as arguments\n",
    "- Display the generated plots showing the training and validation values of the accuracy and loss metrics over the epochs"
   ]
  },
  {
   "cell_type": "code",
   "execution_count": 18,
   "metadata": {
    "colab": {
     "base_uri": "https://localhost:8080/",
     "height": 881
    },
    "id": "ovA5JGsp7k6_",
    "outputId": "34051032-df8e-4114-ca6d-e93577038da3"
   },
   "outputs": [
    {
     "data": {
      "image/png": "[encoded data removed]",
      "text/plain": [
       "<Figure size 640x480 with 1 Axes>"
      ]
     },
     "metadata": {},
     "output_type": "display_data"
    },
    {
     "data": {
      "image/png": "[encoded data removed]",
      "text/plain": [
       "<Figure size 640x480 with 1 Axes>"
      ]
     },
     "metadata": {},
     "output_type": "display_data"
    }
   ],
   "source": [
    "def plot_graphs(history, string):\n",
    "  plt.plot(history.history[string])\n",
    "  plt.plot(history.history['val_'+string])\n",
    "  plt.xlabel(\"Epochs\")\n",
    "  plt.ylabel(string)\n",
    "  plt.legend([string, 'val_'+string])\n",
    "  plt.show()\n",
    "\n",
    "plot_graphs(history, \"accuracy\")\n",
    "plot_graphs(history, \"loss\")"
   ]
  }
 ],
 "metadata": {
  "colab": {
   "provenance": []
  },
  "kernelspec": {
   "display_name": "Python 3 [3.10]",
   "language": "python",
   "name": "python3"
  },
  "language_info": {
   "codemirror_mode": {
    "name": "ipython",
    "version": 3
   },
   "file_extension": ".py",
   "mimetype": "text/x-python",
   "name": "python",
   "nbconvert_exporter": "python",
   "pygments_lexer": "ipython3",
   "version": "3.11.3"
  }
 },
 "nbformat": 4,
 "nbformat_minor": 4
}
