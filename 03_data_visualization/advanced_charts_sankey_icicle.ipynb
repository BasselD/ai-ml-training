{
 "cells": [
  {
   "cell_type": "code",
   "execution_count": 40,
   "metadata": {},
   "outputs": [
    {
     "data": {
      "application/vnd.plotly.v1+json": {
       "config": {
        "plotlyServerURL": "https://plot.ly"
       },
       "data": [
        {
         "link": {
          "color": [
           "rgba(57,180,74,0.4)",
           "rgba(57,180,74,0.4)",
           "rgba(0,122,62,0.4)",
           "rgba(227,82,5,0.4)",
           "rgba(227,82,5,0.4)",
           "rgba(227,82,5,0.4)",
           "rgba(227,82,5,0.4)",
           "rgba(227,82,5,0.4)",
           "rgba(227,82,5,0.4)"
          ],
          "source": [
           0,
           1,
           2,
           2,
           4,
           4,
           4,
           4,
           4
          ],
          "target": [
           2,
           2,
           3,
           4,
           5,
           6,
           7,
           8,
           9
          ],
          "value": [
           1165,
           4,
           232,
           930,
           270,
           272,
           293,
           56,
           39
          ]
         },
         "node": {
          "color": [
           "rgba(57,180,74,1)",
           "rgba(57,180,74,1)",
           "rgba(0,122,62,1)",
           "rgba(0,122,62,1)",
           "rgba(227,82,5,1)",
           "rgba(227,82,5,1)",
           "rgba(227,82,5,1)",
           "rgba(227,82,5,1)",
           "rgba(227,82,5,1)",
           "rgba(227,82,5,1)"
          ],
          "label": [
           "CMS Paid Revenue ($1,165)",
           "Other Revenue ($4)",
           "Total Revenue ($1,169)",
           "Profit ($232)",
           "Total Expenses ($930)",
           "Inpatient ($270)",
           "Outpatient ($272)",
           "Professional ($293)",
           "Supplemental ($56)",
           "Other Expenses ($39)"
          ],
          "line": {
           "color": "white",
           "width": 0.5
          },
          "pad": 50,
          "thickness": 10,
          "x": [
           0.05,
           0.05,
           0.3,
           0.5,
           0.6,
           0.9,
           0.9,
           0.9,
           0.9,
           0.9
          ],
          "y": [
           0.3,
           0.55,
           0.4,
           0.7,
           0.3,
           0.1,
           0.25,
           0.4,
           0.55,
           0.65
          ]
         },
         "textfont": {
          "color": "#383838",
          "family": "Arial",
          "size": 10
         },
         "type": "sankey"
        }
       ],
       "layout": {
        "font": {
         "size": 9
        },
        "height": 500,
        "template": {
         "data": {
          "bar": [
           {
            "error_x": {
             "color": "#2a3f5f"
            },
            "error_y": {
             "color": "#2a3f5f"
            },
            "marker": {
             "line": {
              "color": "#E5ECF6",
              "width": 0.5
             },
             "pattern": {
              "fillmode": "overlay",
              "size": 10,
              "solidity": 0.2
             }
            },
            "type": "bar"
           }
          ],
          "barpolar": [
           {
            "marker": {
             "line": {
              "color": "#E5ECF6",
              "width": 0.5
             },
             "pattern": {
              "fillmode": "overlay",
              "size": 10,
              "solidity": 0.2
             }
            },
            "type": "barpolar"
           }
          ],
          "carpet": [
           {
            "aaxis": {
             "endlinecolor": "#2a3f5f",
             "gridcolor": "white",
             "linecolor": "white",
             "minorgridcolor": "white",
             "startlinecolor": "#2a3f5f"
            },
            "baxis": {
             "endlinecolor": "#2a3f5f",
             "gridcolor": "white",
             "linecolor": "white",
             "minorgridcolor": "white",
             "startlinecolor": "#2a3f5f"
            },
            "type": "carpet"
           }
          ],
          "choropleth": [
           {
            "colorbar": {
             "outlinewidth": 0,
             "ticks": ""
            },
            "type": "choropleth"
           }
          ],
          "contour": [
           {
            "colorbar": {
             "outlinewidth": 0,
             "ticks": ""
            },
            "colorscale": [
             [
              0,
              "#0d0887"
             ],
             [
              0.1111111111111111,
              "#46039f"
             ],
             [
              0.2222222222222222,
              "#7201a8"
             ],
             [
              0.3333333333333333,
              "#9c179e"
             ],
             [
              0.4444444444444444,
              "#bd3786"
             ],
             [
              0.5555555555555556,
              "#d8576b"
             ],
             [
              0.6666666666666666,
              "#ed7953"
             ],
             [
              0.7777777777777778,
              "#fb9f3a"
             ],
             [
              0.8888888888888888,
              "#fdca26"
             ],
             [
              1,
              "#f0f921"
             ]
            ],
            "type": "contour"
           }
          ],
          "contourcarpet": [
           {
            "colorbar": {
             "outlinewidth": 0,
             "ticks": ""
            },
            "type": "contourcarpet"
           }
          ],
          "heatmap": [
           {
            "colorbar": {
             "outlinewidth": 0,
             "ticks": ""
            },
            "colorscale": [
             [
              0,
              "#0d0887"
             ],
             [
              0.1111111111111111,
              "#46039f"
             ],
             [
              0.2222222222222222,
              "#7201a8"
             ],
             [
              0.3333333333333333,
              "#9c179e"
             ],
             [
              0.4444444444444444,
              "#bd3786"
             ],
             [
              0.5555555555555556,
              "#d8576b"
             ],
             [
              0.6666666666666666,
              "#ed7953"
             ],
             [
              0.7777777777777778,
              "#fb9f3a"
             ],
             [
              0.8888888888888888,
              "#fdca26"
             ],
             [
              1,
              "#f0f921"
             ]
            ],
            "type": "heatmap"
           }
          ],
          "heatmapgl": [
           {
            "colorbar": {
             "outlinewidth": 0,
             "ticks": ""
            },
            "colorscale": [
             [
              0,
              "#0d0887"
             ],
             [
              0.1111111111111111,
              "#46039f"
             ],
             [
              0.2222222222222222,
              "#7201a8"
             ],
             [
              0.3333333333333333,
              "#9c179e"
             ],
             [
              0.4444444444444444,
              "#bd3786"
             ],
             [
              0.5555555555555556,
              "#d8576b"
             ],
             [
              0.6666666666666666,
              "#ed7953"
             ],
             [
              0.7777777777777778,
              "#fb9f3a"
             ],
             [
              0.8888888888888888,
              "#fdca26"
             ],
             [
              1,
              "#f0f921"
             ]
            ],
            "type": "heatmapgl"
           }
          ],
          "histogram": [
           {
            "marker": {
             "pattern": {
              "fillmode": "overlay",
              "size": 10,
              "solidity": 0.2
             }
            },
            "type": "histogram"
           }
          ],
          "histogram2d": [
           {
            "colorbar": {
             "outlinewidth": 0,
             "ticks": ""
            },
            "colorscale": [
             [
              0,
              "#0d0887"
             ],
             [
              0.1111111111111111,
              "#46039f"
             ],
             [
              0.2222222222222222,
              "#7201a8"
             ],
             [
              0.3333333333333333,
              "#9c179e"
             ],
             [
              0.4444444444444444,
              "#bd3786"
             ],
             [
              0.5555555555555556,
              "#d8576b"
             ],
             [
              0.6666666666666666,
              "#ed7953"
             ],
             [
              0.7777777777777778,
              "#fb9f3a"
             ],
             [
              0.8888888888888888,
              "#fdca26"
             ],
             [
              1,
              "#f0f921"
             ]
            ],
            "type": "histogram2d"
           }
          ],
          "histogram2dcontour": [
           {
            "colorbar": {
             "outlinewidth": 0,
             "ticks": ""
            },
            "colorscale": [
             [
              0,
              "#0d0887"
             ],
             [
              0.1111111111111111,
              "#46039f"
             ],
             [
              0.2222222222222222,
              "#7201a8"
             ],
             [
              0.3333333333333333,
              "#9c179e"
             ],
             [
              0.4444444444444444,
              "#bd3786"
             ],
             [
              0.5555555555555556,
              "#d8576b"
             ],
             [
              0.6666666666666666,
              "#ed7953"
             ],
             [
              0.7777777777777778,
              "#fb9f3a"
             ],
             [
              0.8888888888888888,
              "#fdca26"
             ],
             [
              1,
              "#f0f921"
             ]
            ],
            "type": "histogram2dcontour"
           }
          ],
          "mesh3d": [
           {
            "colorbar": {
             "outlinewidth": 0,
             "ticks": ""
            },
            "type": "mesh3d"
           }
          ],
          "parcoords": [
           {
            "line": {
             "colorbar": {
              "outlinewidth": 0,
              "ticks": ""
             }
            },
            "type": "parcoords"
           }
          ],
          "pie": [
           {
            "automargin": true,
            "type": "pie"
           }
          ],
          "scatter": [
           {
            "fillpattern": {
             "fillmode": "overlay",
             "size": 10,
             "solidity": 0.2
            },
            "type": "scatter"
           }
          ],
          "scatter3d": [
           {
            "line": {
             "colorbar": {
              "outlinewidth": 0,
              "ticks": ""
             }
            },
            "marker": {
             "colorbar": {
              "outlinewidth": 0,
              "ticks": ""
             }
            },
            "type": "scatter3d"
           }
          ],
          "scattercarpet": [
           {
            "marker": {
             "colorbar": {
              "outlinewidth": 0,
              "ticks": ""
             }
            },
            "type": "scattercarpet"
           }
          ],
          "scattergeo": [
           {
            "marker": {
             "colorbar": {
              "outlinewidth": 0,
              "ticks": ""
             }
            },
            "type": "scattergeo"
           }
          ],
          "scattergl": [
           {
            "marker": {
             "colorbar": {
              "outlinewidth": 0,
              "ticks": ""
             }
            },
            "type": "scattergl"
           }
          ],
          "scattermapbox": [
           {
            "marker": {
             "colorbar": {
              "outlinewidth": 0,
              "ticks": ""
             }
            },
            "type": "scattermapbox"
           }
          ],
          "scatterpolar": [
           {
            "marker": {
             "colorbar": {
              "outlinewidth": 0,
              "ticks": ""
             }
            },
            "type": "scatterpolar"
           }
          ],
          "scatterpolargl": [
           {
            "marker": {
             "colorbar": {
              "outlinewidth": 0,
              "ticks": ""
             }
            },
            "type": "scatterpolargl"
           }
          ],
          "scatterternary": [
           {
            "marker": {
             "colorbar": {
              "outlinewidth": 0,
              "ticks": ""
             }
            },
            "type": "scatterternary"
           }
          ],
          "surface": [
           {
            "colorbar": {
             "outlinewidth": 0,
             "ticks": ""
            },
            "colorscale": [
             [
              0,
              "#0d0887"
             ],
             [
              0.1111111111111111,
              "#46039f"
             ],
             [
              0.2222222222222222,
              "#7201a8"
             ],
             [
              0.3333333333333333,
              "#9c179e"
             ],
             [
              0.4444444444444444,
              "#bd3786"
             ],
             [
              0.5555555555555556,
              "#d8576b"
             ],
             [
              0.6666666666666666,
              "#ed7953"
             ],
             [
              0.7777777777777778,
              "#fb9f3a"
             ],
             [
              0.8888888888888888,
              "#fdca26"
             ],
             [
              1,
              "#f0f921"
             ]
            ],
            "type": "surface"
           }
          ],
          "table": [
           {
            "cells": {
             "fill": {
              "color": "#EBF0F8"
             },
             "line": {
              "color": "white"
             }
            },
            "header": {
             "fill": {
              "color": "#C8D4E3"
             },
             "line": {
              "color": "white"
             }
            },
            "type": "table"
           }
          ]
         },
         "layout": {
          "annotationdefaults": {
           "arrowcolor": "#2a3f5f",
           "arrowhead": 0,
           "arrowwidth": 1
          },
          "autotypenumbers": "strict",
          "coloraxis": {
           "colorbar": {
            "outlinewidth": 0,
            "ticks": ""
           }
          },
          "colorscale": {
           "diverging": [
            [
             0,
             "#8e0152"
            ],
            [
             0.1,
             "#c51b7d"
            ],
            [
             0.2,
             "#de77ae"
            ],
            [
             0.3,
             "#f1b6da"
            ],
            [
             0.4,
             "#fde0ef"
            ],
            [
             0.5,
             "#f7f7f7"
            ],
            [
             0.6,
             "#e6f5d0"
            ],
            [
             0.7,
             "#b8e186"
            ],
            [
             0.8,
             "#7fbc41"
            ],
            [
             0.9,
             "#4d9221"
            ],
            [
             1,
             "#276419"
            ]
           ],
           "sequential": [
            [
             0,
             "#0d0887"
            ],
            [
             0.1111111111111111,
             "#46039f"
            ],
            [
             0.2222222222222222,
             "#7201a8"
            ],
            [
             0.3333333333333333,
             "#9c179e"
            ],
            [
             0.4444444444444444,
             "#bd3786"
            ],
            [
             0.5555555555555556,
             "#d8576b"
            ],
            [
             0.6666666666666666,
             "#ed7953"
            ],
            [
             0.7777777777777778,
             "#fb9f3a"
            ],
            [
             0.8888888888888888,
             "#fdca26"
            ],
            [
             1,
             "#f0f921"
            ]
           ],
           "sequentialminus": [
            [
             0,
             "#0d0887"
            ],
            [
             0.1111111111111111,
             "#46039f"
            ],
            [
             0.2222222222222222,
             "#7201a8"
            ],
            [
             0.3333333333333333,
             "#9c179e"
            ],
            [
             0.4444444444444444,
             "#bd3786"
            ],
            [
             0.5555555555555556,
             "#d8576b"
            ],
            [
             0.6666666666666666,
             "#ed7953"
            ],
            [
             0.7777777777777778,
             "#fb9f3a"
            ],
            [
             0.8888888888888888,
             "#fdca26"
            ],
            [
             1,
             "#f0f921"
            ]
           ]
          },
          "colorway": [
           "#636efa",
           "#EF553B",
           "#00cc96",
           "#ab63fa",
           "#FFA15A",
           "#19d3f3",
           "#FF6692",
           "#B6E880",
           "#FF97FF",
           "#FECB52"
          ],
          "font": {
           "color": "#2a3f5f"
          },
          "geo": {
           "bgcolor": "white",
           "lakecolor": "white",
           "landcolor": "#E5ECF6",
           "showlakes": true,
           "showland": true,
           "subunitcolor": "white"
          },
          "hoverlabel": {
           "align": "left"
          },
          "hovermode": "closest",
          "mapbox": {
           "style": "light"
          },
          "paper_bgcolor": "white",
          "plot_bgcolor": "#E5ECF6",
          "polar": {
           "angularaxis": {
            "gridcolor": "white",
            "linecolor": "white",
            "ticks": ""
           },
           "bgcolor": "#E5ECF6",
           "radialaxis": {
            "gridcolor": "white",
            "linecolor": "white",
            "ticks": ""
           }
          },
          "scene": {
           "xaxis": {
            "backgroundcolor": "#E5ECF6",
            "gridcolor": "white",
            "gridwidth": 2,
            "linecolor": "white",
            "showbackground": true,
            "ticks": "",
            "zerolinecolor": "white"
           },
           "yaxis": {
            "backgroundcolor": "#E5ECF6",
            "gridcolor": "white",
            "gridwidth": 2,
            "linecolor": "white",
            "showbackground": true,
            "ticks": "",
            "zerolinecolor": "white"
           },
           "zaxis": {
            "backgroundcolor": "#E5ECF6",
            "gridcolor": "white",
            "gridwidth": 2,
            "linecolor": "white",
            "showbackground": true,
            "ticks": "",
            "zerolinecolor": "white"
           }
          },
          "shapedefaults": {
           "line": {
            "color": "#2a3f5f"
           }
          },
          "ternary": {
           "aaxis": {
            "gridcolor": "white",
            "linecolor": "white",
            "ticks": ""
           },
           "baxis": {
            "gridcolor": "white",
            "linecolor": "white",
            "ticks": ""
           },
           "bgcolor": "#E5ECF6",
           "caxis": {
            "gridcolor": "white",
            "linecolor": "white",
            "ticks": ""
           }
          },
          "title": {
           "x": 0.05
          },
          "xaxis": {
           "automargin": true,
           "gridcolor": "white",
           "linecolor": "white",
           "ticks": "",
           "title": {
            "standoff": 15
           },
           "zerolinecolor": "white",
           "zerolinewidth": 2
          },
          "yaxis": {
           "automargin": true,
           "gridcolor": "white",
           "linecolor": "white",
           "ticks": "",
           "title": {
            "standoff": 15
           },
           "zerolinecolor": "white",
           "zerolinewidth": 2
          }
         }
        },
        "title": {
         "text": "Dallas IPA Financials"
        },
        "width": 842
       }
      }
     },
     "metadata": {},
     "output_type": "display_data"
    }
   ],
   "source": [
    "import plotly.graph_objects as go\n",
    "\n",
    "# Data values\n",
    "values = [1165, 4, 232, 930, 270, 272, 293, 56, 39]\n",
    "label_values = [1165, 4, values[0]+values[1], 232, 930, 270, 272, 293, 56, 39]\n",
    "labels = [ 'CMS Paid Revenue', 'Other Revenue', 'Total Revenue', 'Profit', 'Total Expenses', 'Inpatient', \n",
    "    'Outpatient', 'Professional', 'Supplemental', 'Other Expenses']\n",
    "\n",
    "#formatted_labels = [f\"{label} (${'{:,}'.format(value)})\" for label, value in zip(labels, values + [0] * (len(labels) - len(values)))]\n",
    "final_label = [y +f' (${x:,})' for x, y in zip(label_values, labels)]\n",
    "\n",
    "# Define colors\n",
    "#['#39B44A', '#39B44A', '#007A3E', '#002850', '#E35205', '#F68621', '#F68621', '#F68621', '#F68621', '#F68621']\n",
    "node_colors = ['rgba(57,180,74,1)', 'rgba(57,180,74,1)', \n",
    "                'rgba(0,122,62,1)', 'rgba(0,122,62,1)', \n",
    "                'rgba(227,82,5,1)', 'rgba(227,82,5,1)', \n",
    "                'rgba(227,82,5,1)', 'rgba(227,82,5,1)'\n",
    "                ,'rgba(227,82,5,1)','rgba(227,82,5,1)']\n",
    "# Define explicit positions for nodes\n",
    "x_positions = [0.05, 0.05, 0.30, 0.50, 0.60, 0.90, 0.90, 0.90, 0.90, 0.90]\n",
    "y_positions = [0.30, 0.55, 0.40, 0.70, 0.30, 0.10, 0.25, 0.40, 0.55, 0.65]\n",
    "\n",
    "fig = go.Figure(data=[go.Sankey(\n",
    "    node=dict(\n",
    "        pad=50,  # Increased padding between nodes\n",
    "        thickness=10,  # Reduced node thickness\n",
    "        line=dict(color=\"white\", width=0.5),\n",
    "        label=final_label,#formatted_labels,\n",
    "        color=node_colors,\n",
    "        x=x_positions,  # Set horizontal positions\n",
    "        y=y_positions,   # Set vertical positions\n",
    "\n",
    "    ),\n",
    "    link=dict(\n",
    "        source=[0, 1, 2, 2, 4, 4, 4, 4, 4],\n",
    "        target=[2, 2, 3, 4, 5, 6, 7, 8, 9],\n",
    "        value=values,\n",
    "        color=[\n",
    "            'rgba(57,180,74,0.4)', 'rgba(57,180,74,0.4)', \n",
    "            'rgba(0,122,62,0.4)', 'rgba(227,82,5,0.4)', \n",
    "            'rgba(227,82,5,0.4)', 'rgba(227,82,5,0.4)', \n",
    "            'rgba(227,82,5,0.4)', 'rgba(227,82,5,0.4)','rgba(227,82,5,0.4)'\n",
    "        ]\n",
    "    ), textfont=dict(color='#383838', family='Arial', size=10)\n",
    ")])\n",
    "\n",
    "# Update layout for A4 landscape\n",
    "fig.update_layout(\n",
    "    title_text='Dallas IPA Financials',\n",
    "    font_size=9,  # Reduced font size for labels\n",
    "    width=842,  # A4 width in pixels\n",
    "    height=500 #595\n",
    ")\n",
    "\n",
    "fig.show()\n"
   ]
  },
  {
   "cell_type": "code",
   "execution_count": 39,
   "metadata": {},
   "outputs": [],
   "source": [
    "# Save the chart as a PNG image\n",
    "output_dir = '/Users/bassel_instructor/Documents/'\n",
    "fig.write_image(output_dir+'AL_ALS_Dallas_IPA.png',\n",
    "                width=1200,\n",
    "                height=600,\n",
    "                scale=3)"
   ]
  },
  {
   "cell_type": "code",
   "execution_count": 48,
   "metadata": {},
   "outputs": [
    {
     "data": {
      "application/vnd.plotly.v1+json": {
       "config": {
        "plotlyServerURL": "https://plot.ly"
       },
       "data": [
        {
         "link": {
          "color": [
           "rgba(57,180,74,0.4)",
           "rgba(57,180,74,0.4)",
           "rgba(0,122,62,0.4)",
           "rgba(227,82,5,0.4)",
           "rgba(227,82,5,0.4)",
           "rgba(227,82,5,0.4)",
           "rgba(227,82,5,0.4)",
           "rgba(227,82,5,0.4)",
           "rgba(227,82,5,0.4)",
           "rgba(227,82,5,0.4)",
           "rgba(227,82,5,0.4)",
           "rgba(227,82,5,0.4)"
          ],
          "source": [
           0,
           1,
           2,
           2,
           4,
           4,
           4,
           4,
           4,
           5,
           5,
           5
          ],
          "target": [
           2,
           2,
           3,
           4,
           5,
           6,
           7,
           8,
           9,
           10,
           11,
           12
          ],
          "value": [
           1165,
           4,
           232,
           930,
           270,
           272,
           293,
           56,
           39,
           230,
           32,
           10
          ]
         },
         "node": {
          "color": [
           "rgba(57,180,74,1)",
           "rgba(57,180,74,1)",
           "rgba(0,122,62,1)",
           "rgba(0,122,62,1)",
           "rgba(227,82,5,1)",
           "rgba(227,82,5,1)",
           "rgba(227,82,5,1)",
           "rgba(227,82,5,1)",
           "rgba(227,82,5,1)",
           "rgba(227,82,5,1)",
           "rgba(227,82,5,1)",
           "rgba(227,82,5,1)",
           "rgba(227,82,5,1)"
          ],
          "label": [
           "CMS Paid Revenue ($1,165)",
           "Other Revenue ($4)",
           "Total Revenue ($1,169)",
           "Profit ($232)",
           "Total Expenses ($930)",
           "Inpatient ($270)",
           "Outpatient ($272)",
           "Professional ($293)",
           "Supplemental ($56)",
           "Other Expenses ($39)",
           "Acute ($230)",
           "LTAC ($32)",
           "Other ($10)"
          ],
          "line": {
           "color": "white",
           "width": 0.5
          },
          "pad": 50,
          "thickness": 10,
          "x": [
           0.05,
           0.05,
           0.3,
           0.5,
           0.5,
           0.7,
           0.85,
           0.85,
           0.85,
           0.85,
           0.95,
           0.95,
           0.95
          ],
          "y": [
           0.3,
           0.55,
           0.4,
           0.7,
           0.25,
           0.1,
           0.25,
           0.4,
           0.55,
           0.65,
           0.05,
           0.13,
           0.18
          ]
         },
         "textfont": {
          "color": "#383838",
          "family": "Arial",
          "size": 10
         },
         "type": "sankey"
        }
       ],
       "layout": {
        "font": {
         "size": 9
        },
        "height": 500,
        "template": {
         "data": {
          "bar": [
           {
            "error_x": {
             "color": "#2a3f5f"
            },
            "error_y": {
             "color": "#2a3f5f"
            },
            "marker": {
             "line": {
              "color": "#E5ECF6",
              "width": 0.5
             },
             "pattern": {
              "fillmode": "overlay",
              "size": 10,
              "solidity": 0.2
             }
            },
            "type": "bar"
           }
          ],
          "barpolar": [
           {
            "marker": {
             "line": {
              "color": "#E5ECF6",
              "width": 0.5
             },
             "pattern": {
              "fillmode": "overlay",
              "size": 10,
              "solidity": 0.2
             }
            },
            "type": "barpolar"
           }
          ],
          "carpet": [
           {
            "aaxis": {
             "endlinecolor": "#2a3f5f",
             "gridcolor": "white",
             "linecolor": "white",
             "minorgridcolor": "white",
             "startlinecolor": "#2a3f5f"
            },
            "baxis": {
             "endlinecolor": "#2a3f5f",
             "gridcolor": "white",
             "linecolor": "white",
             "minorgridcolor": "white",
             "startlinecolor": "#2a3f5f"
            },
            "type": "carpet"
           }
          ],
          "choropleth": [
           {
            "colorbar": {
             "outlinewidth": 0,
             "ticks": ""
            },
            "type": "choropleth"
           }
          ],
          "contour": [
           {
            "colorbar": {
             "outlinewidth": 0,
             "ticks": ""
            },
            "colorscale": [
             [
              0,
              "#0d0887"
             ],
             [
              0.1111111111111111,
              "#46039f"
             ],
             [
              0.2222222222222222,
              "#7201a8"
             ],
             [
              0.3333333333333333,
              "#9c179e"
             ],
             [
              0.4444444444444444,
              "#bd3786"
             ],
             [
              0.5555555555555556,
              "#d8576b"
             ],
             [
              0.6666666666666666,
              "#ed7953"
             ],
             [
              0.7777777777777778,
              "#fb9f3a"
             ],
             [
              0.8888888888888888,
              "#fdca26"
             ],
             [
              1,
              "#f0f921"
             ]
            ],
            "type": "contour"
           }
          ],
          "contourcarpet": [
           {
            "colorbar": {
             "outlinewidth": 0,
             "ticks": ""
            },
            "type": "contourcarpet"
           }
          ],
          "heatmap": [
           {
            "colorbar": {
             "outlinewidth": 0,
             "ticks": ""
            },
            "colorscale": [
             [
              0,
              "#0d0887"
             ],
             [
              0.1111111111111111,
              "#46039f"
             ],
             [
              0.2222222222222222,
              "#7201a8"
             ],
             [
              0.3333333333333333,
              "#9c179e"
             ],
             [
              0.4444444444444444,
              "#bd3786"
             ],
             [
              0.5555555555555556,
              "#d8576b"
             ],
             [
              0.6666666666666666,
              "#ed7953"
             ],
             [
              0.7777777777777778,
              "#fb9f3a"
             ],
             [
              0.8888888888888888,
              "#fdca26"
             ],
             [
              1,
              "#f0f921"
             ]
            ],
            "type": "heatmap"
           }
          ],
          "heatmapgl": [
           {
            "colorbar": {
             "outlinewidth": 0,
             "ticks": ""
            },
            "colorscale": [
             [
              0,
              "#0d0887"
             ],
             [
              0.1111111111111111,
              "#46039f"
             ],
             [
              0.2222222222222222,
              "#7201a8"
             ],
             [
              0.3333333333333333,
              "#9c179e"
             ],
             [
              0.4444444444444444,
              "#bd3786"
             ],
             [
              0.5555555555555556,
              "#d8576b"
             ],
             [
              0.6666666666666666,
              "#ed7953"
             ],
             [
              0.7777777777777778,
              "#fb9f3a"
             ],
             [
              0.8888888888888888,
              "#fdca26"
             ],
             [
              1,
              "#f0f921"
             ]
            ],
            "type": "heatmapgl"
           }
          ],
          "histogram": [
           {
            "marker": {
             "pattern": {
              "fillmode": "overlay",
              "size": 10,
              "solidity": 0.2
             }
            },
            "type": "histogram"
           }
          ],
          "histogram2d": [
           {
            "colorbar": {
             "outlinewidth": 0,
             "ticks": ""
            },
            "colorscale": [
             [
              0,
              "#0d0887"
             ],
             [
              0.1111111111111111,
              "#46039f"
             ],
             [
              0.2222222222222222,
              "#7201a8"
             ],
             [
              0.3333333333333333,
              "#9c179e"
             ],
             [
              0.4444444444444444,
              "#bd3786"
             ],
             [
              0.5555555555555556,
              "#d8576b"
             ],
             [
              0.6666666666666666,
              "#ed7953"
             ],
             [
              0.7777777777777778,
              "#fb9f3a"
             ],
             [
              0.8888888888888888,
              "#fdca26"
             ],
             [
              1,
              "#f0f921"
             ]
            ],
            "type": "histogram2d"
           }
          ],
          "histogram2dcontour": [
           {
            "colorbar": {
             "outlinewidth": 0,
             "ticks": ""
            },
            "colorscale": [
             [
              0,
              "#0d0887"
             ],
             [
              0.1111111111111111,
              "#46039f"
             ],
             [
              0.2222222222222222,
              "#7201a8"
             ],
             [
              0.3333333333333333,
              "#9c179e"
             ],
             [
              0.4444444444444444,
              "#bd3786"
             ],
             [
              0.5555555555555556,
              "#d8576b"
             ],
             [
              0.6666666666666666,
              "#ed7953"
             ],
             [
              0.7777777777777778,
              "#fb9f3a"
             ],
             [
              0.8888888888888888,
              "#fdca26"
             ],
             [
              1,
              "#f0f921"
             ]
            ],
            "type": "histogram2dcontour"
           }
          ],
          "mesh3d": [
           {
            "colorbar": {
             "outlinewidth": 0,
             "ticks": ""
            },
            "type": "mesh3d"
           }
          ],
          "parcoords": [
           {
            "line": {
             "colorbar": {
              "outlinewidth": 0,
              "ticks": ""
             }
            },
            "type": "parcoords"
           }
          ],
          "pie": [
           {
            "automargin": true,
            "type": "pie"
           }
          ],
          "scatter": [
           {
            "fillpattern": {
             "fillmode": "overlay",
             "size": 10,
             "solidity": 0.2
            },
            "type": "scatter"
           }
          ],
          "scatter3d": [
           {
            "line": {
             "colorbar": {
              "outlinewidth": 0,
              "ticks": ""
             }
            },
            "marker": {
             "colorbar": {
              "outlinewidth": 0,
              "ticks": ""
             }
            },
            "type": "scatter3d"
           }
          ],
          "scattercarpet": [
           {
            "marker": {
             "colorbar": {
              "outlinewidth": 0,
              "ticks": ""
             }
            },
            "type": "scattercarpet"
           }
          ],
          "scattergeo": [
           {
            "marker": {
             "colorbar": {
              "outlinewidth": 0,
              "ticks": ""
             }
            },
            "type": "scattergeo"
           }
          ],
          "scattergl": [
           {
            "marker": {
             "colorbar": {
              "outlinewidth": 0,
              "ticks": ""
             }
            },
            "type": "scattergl"
           }
          ],
          "scattermapbox": [
           {
            "marker": {
             "colorbar": {
              "outlinewidth": 0,
              "ticks": ""
             }
            },
            "type": "scattermapbox"
           }
          ],
          "scatterpolar": [
           {
            "marker": {
             "colorbar": {
              "outlinewidth": 0,
              "ticks": ""
             }
            },
            "type": "scatterpolar"
           }
          ],
          "scatterpolargl": [
           {
            "marker": {
             "colorbar": {
              "outlinewidth": 0,
              "ticks": ""
             }
            },
            "type": "scatterpolargl"
           }
          ],
          "scatterternary": [
           {
            "marker": {
             "colorbar": {
              "outlinewidth": 0,
              "ticks": ""
             }
            },
            "type": "scatterternary"
           }
          ],
          "surface": [
           {
            "colorbar": {
             "outlinewidth": 0,
             "ticks": ""
            },
            "colorscale": [
             [
              0,
              "#0d0887"
             ],
             [
              0.1111111111111111,
              "#46039f"
             ],
             [
              0.2222222222222222,
              "#7201a8"
             ],
             [
              0.3333333333333333,
              "#9c179e"
             ],
             [
              0.4444444444444444,
              "#bd3786"
             ],
             [
              0.5555555555555556,
              "#d8576b"
             ],
             [
              0.6666666666666666,
              "#ed7953"
             ],
             [
              0.7777777777777778,
              "#fb9f3a"
             ],
             [
              0.8888888888888888,
              "#fdca26"
             ],
             [
              1,
              "#f0f921"
             ]
            ],
            "type": "surface"
           }
          ],
          "table": [
           {
            "cells": {
             "fill": {
              "color": "#EBF0F8"
             },
             "line": {
              "color": "white"
             }
            },
            "header": {
             "fill": {
              "color": "#C8D4E3"
             },
             "line": {
              "color": "white"
             }
            },
            "type": "table"
           }
          ]
         },
         "layout": {
          "annotationdefaults": {
           "arrowcolor": "#2a3f5f",
           "arrowhead": 0,
           "arrowwidth": 1
          },
          "autotypenumbers": "strict",
          "coloraxis": {
           "colorbar": {
            "outlinewidth": 0,
            "ticks": ""
           }
          },
          "colorscale": {
           "diverging": [
            [
             0,
             "#8e0152"
            ],
            [
             0.1,
             "#c51b7d"
            ],
            [
             0.2,
             "#de77ae"
            ],
            [
             0.3,
             "#f1b6da"
            ],
            [
             0.4,
             "#fde0ef"
            ],
            [
             0.5,
             "#f7f7f7"
            ],
            [
             0.6,
             "#e6f5d0"
            ],
            [
             0.7,
             "#b8e186"
            ],
            [
             0.8,
             "#7fbc41"
            ],
            [
             0.9,
             "#4d9221"
            ],
            [
             1,
             "#276419"
            ]
           ],
           "sequential": [
            [
             0,
             "#0d0887"
            ],
            [
             0.1111111111111111,
             "#46039f"
            ],
            [
             0.2222222222222222,
             "#7201a8"
            ],
            [
             0.3333333333333333,
             "#9c179e"
            ],
            [
             0.4444444444444444,
             "#bd3786"
            ],
            [
             0.5555555555555556,
             "#d8576b"
            ],
            [
             0.6666666666666666,
             "#ed7953"
            ],
            [
             0.7777777777777778,
             "#fb9f3a"
            ],
            [
             0.8888888888888888,
             "#fdca26"
            ],
            [
             1,
             "#f0f921"
            ]
           ],
           "sequentialminus": [
            [
             0,
             "#0d0887"
            ],
            [
             0.1111111111111111,
             "#46039f"
            ],
            [
             0.2222222222222222,
             "#7201a8"
            ],
            [
             0.3333333333333333,
             "#9c179e"
            ],
            [
             0.4444444444444444,
             "#bd3786"
            ],
            [
             0.5555555555555556,
             "#d8576b"
            ],
            [
             0.6666666666666666,
             "#ed7953"
            ],
            [
             0.7777777777777778,
             "#fb9f3a"
            ],
            [
             0.8888888888888888,
             "#fdca26"
            ],
            [
             1,
             "#f0f921"
            ]
           ]
          },
          "colorway": [
           "#636efa",
           "#EF553B",
           "#00cc96",
           "#ab63fa",
           "#FFA15A",
           "#19d3f3",
           "#FF6692",
           "#B6E880",
           "#FF97FF",
           "#FECB52"
          ],
          "font": {
           "color": "#2a3f5f"
          },
          "geo": {
           "bgcolor": "white",
           "lakecolor": "white",
           "landcolor": "#E5ECF6",
           "showlakes": true,
           "showland": true,
           "subunitcolor": "white"
          },
          "hoverlabel": {
           "align": "left"
          },
          "hovermode": "closest",
          "mapbox": {
           "style": "light"
          },
          "paper_bgcolor": "white",
          "plot_bgcolor": "#E5ECF6",
          "polar": {
           "angularaxis": {
            "gridcolor": "white",
            "linecolor": "white",
            "ticks": ""
           },
           "bgcolor": "#E5ECF6",
           "radialaxis": {
            "gridcolor": "white",
            "linecolor": "white",
            "ticks": ""
           }
          },
          "scene": {
           "xaxis": {
            "backgroundcolor": "#E5ECF6",
            "gridcolor": "white",
            "gridwidth": 2,
            "linecolor": "white",
            "showbackground": true,
            "ticks": "",
            "zerolinecolor": "white"
           },
           "yaxis": {
            "backgroundcolor": "#E5ECF6",
            "gridcolor": "white",
            "gridwidth": 2,
            "linecolor": "white",
            "showbackground": true,
            "ticks": "",
            "zerolinecolor": "white"
           },
           "zaxis": {
            "backgroundcolor": "#E5ECF6",
            "gridcolor": "white",
            "gridwidth": 2,
            "linecolor": "white",
            "showbackground": true,
            "ticks": "",
            "zerolinecolor": "white"
           }
          },
          "shapedefaults": {
           "line": {
            "color": "#2a3f5f"
           }
          },
          "ternary": {
           "aaxis": {
            "gridcolor": "white",
            "linecolor": "white",
            "ticks": ""
           },
           "baxis": {
            "gridcolor": "white",
            "linecolor": "white",
            "ticks": ""
           },
           "bgcolor": "#E5ECF6",
           "caxis": {
            "gridcolor": "white",
            "linecolor": "white",
            "ticks": ""
           }
          },
          "title": {
           "x": 0.05
          },
          "xaxis": {
           "automargin": true,
           "gridcolor": "white",
           "linecolor": "white",
           "ticks": "",
           "title": {
            "standoff": 15
           },
           "zerolinecolor": "white",
           "zerolinewidth": 2
          },
          "yaxis": {
           "automargin": true,
           "gridcolor": "white",
           "linecolor": "white",
           "ticks": "",
           "title": {
            "standoff": 15
           },
           "zerolinecolor": "white",
           "zerolinewidth": 2
          }
         }
        },
        "title": {
         "text": "Dallas IPA Financials"
        },
        "width": 842
       }
      }
     },
     "metadata": {},
     "output_type": "display_data"
    }
   ],
   "source": [
    "import plotly.graph_objects as go\n",
    "\n",
    "# Data values\n",
    "values = [1165, 4, 232, 930, 270, 272, 293, 56, 39, 230, 32, 10]\n",
    "label_values = [1165, 4, values[0]+values[1], 232, 930, 270, 272, 293, 56, 39, 230, 32, 10]\n",
    "labels = [ 'CMS Paid Revenue', 'Other Revenue', 'Total Revenue', 'Profit', 'Total Expenses', 'Inpatient', \n",
    "    'Outpatient', 'Professional', 'Supplemental', 'Other Expenses',\n",
    "    'Acute', 'LTAC', 'Other'\n",
    "    ]\n",
    "\n",
    "#formatted_labels = [f\"{label} (${'{:,}'.format(value)})\" for label, value in zip(labels, values + [0] * (len(labels) - len(values)))]\n",
    "final_label = [y +f' (${x:,})' for x, y in zip(label_values, labels)]\n",
    "\n",
    "# Define colors\n",
    "#['#39B44A', '#39B44A', '#007A3E', '#002850', '#E35205', '#F68621', '#F68621', '#F68621', '#F68621', '#F68621']\n",
    "node_colors = ['rgba(57,180,74,1)', 'rgba(57,180,74,1)', \n",
    "                'rgba(0,122,62,1)', 'rgba(0,122,62,1)', \n",
    "                'rgba(227,82,5,1)', 'rgba(227,82,5,1)', \n",
    "                'rgba(227,82,5,1)', 'rgba(227,82,5,1)',\n",
    "                'rgba(227,82,5,1)','rgba(227,82,5,1)',\n",
    "                'rgba(227,82,5,1)','rgba(227,82,5,1)','rgba(227,82,5,1)']\n",
    "# Define explicit positions for nodes\n",
    "x_positions = [0.05, 0.05, 0.30, 0.50, 0.50, 0.70, 0.85, 0.85, 0.85, 0.85, 0.95, 0.95, 0.95]\n",
    "y_positions = [0.30, 0.55, 0.40, 0.70, 0.25, 0.10, 0.25, 0.40, 0.55, 0.65, 0.05, 0.13, 0.18]\n",
    "\n",
    "fig = go.Figure(data=[go.Sankey(\n",
    "    node=dict(\n",
    "        pad=50,  # Increased padding between nodes\n",
    "        thickness=10,  # Reduced node thickness\n",
    "        line=dict(color=\"white\", width=0.5),\n",
    "        label=final_label,#formatted_labels,\n",
    "        color=node_colors,\n",
    "        x=x_positions,  # Set horizontal positions\n",
    "        y=y_positions,   # Set vertical positions\n",
    "\n",
    "    ),\n",
    "    link=dict(\n",
    "        source=[0, 1, 2, 2, 4, 4, 4, 4, 4, 5, 5, 5],\n",
    "        target=[2, 2, 3, 4, 5, 6, 7, 8, 9, 10, 11, 12],\n",
    "        value=values,\n",
    "        color=[\n",
    "            'rgba(57,180,74,0.4)', 'rgba(57,180,74,0.4)', \n",
    "            'rgba(0,122,62,0.4)', 'rgba(227,82,5,0.4)', \n",
    "            'rgba(227,82,5,0.4)', 'rgba(227,82,5,0.4)', \n",
    "            'rgba(227,82,5,0.4)', 'rgba(227,82,5,0.4)','rgba(227,82,5,0.4)',\n",
    "            'rgba(227,82,5,0.4)', 'rgba(227,82,5,0.4)','rgba(227,82,5,0.4)'\n",
    "        ]\n",
    "    ), textfont=dict(color='#383838', family='Arial', size=10)\n",
    ")])\n",
    "\n",
    "# Update layout for A4 landscape\n",
    "fig.update_layout(\n",
    "    title_text='Dallas IPA Financials',\n",
    "    font_size=9,  # Reduced font size for labels\n",
    "    width=842,  # A4 width in pixels\n",
    "    height=500 #595\n",
    ")\n",
    "\n",
    "fig.show()\n"
   ]
  },
  {
   "cell_type": "markdown",
   "metadata": {},
   "source": [
    "## Using Bokeh with HoloViews"
   ]
  },
  {
   "cell_type": "code",
   "execution_count": 21,
   "metadata": {},
   "outputs": [
    {
     "data": {
      "text/html": [
       "<script type=\"esms-options\">{\"shimMode\": true}</script><style>*[data-root-id],\n",
       "*[data-root-id] > * {\n",
       "  box-sizing: border-box;\n",
       "  font-family: var(--jp-ui-font-family);\n",
       "  font-size: var(--jp-ui-font-size1);\n",
       "  color: var(--vscode-editor-foreground, var(--jp-ui-font-color1));\n",
       "}\n",
       "\n",
       "/* Override VSCode background color */\n",
       ".cell-output-ipywidget-background:has(\n",
       "    > .cell-output-ipywidget-background > .lm-Widget > *[data-root-id]\n",
       "  ),\n",
       ".cell-output-ipywidget-background:has(> .lm-Widget > *[data-root-id]) {\n",
       "  background-color: transparent !important;\n",
       "}\n",
       "</style>"
      ]
     },
     "metadata": {},
     "output_type": "display_data"
    },
    {
     "data": {
      "application/javascript": "(function(root) {\n  function now() {\n    return new Date();\n  }\n\n  const force = true;\n  const py_version = '3.6.2'.replace('rc', '-rc.').replace('.dev', '-dev.');\n  const reloading = false;\n  const Bokeh = root.Bokeh;\n\n  // Set a timeout for this load but only if we are not already initializing\n  if (typeof (root._bokeh_timeout) === \"undefined\" || (force || !root._bokeh_is_initializing)) {\n    root._bokeh_timeout = Date.now() + 5000;\n    root._bokeh_failed_load = false;\n  }\n\n  function run_callbacks() {\n    try {\n      root._bokeh_onload_callbacks.forEach(function(callback) {\n        if (callback != null)\n          callback();\n      });\n    } finally {\n      delete root._bokeh_onload_callbacks;\n    }\n    console.debug(\"Bokeh: all callbacks have finished\");\n  }\n\n  function load_libs(css_urls, js_urls, js_modules, js_exports, callback) {\n    if (css_urls == null) css_urls = [];\n    if (js_urls == null) js_urls = [];\n    if (js_modules == null) js_modules = [];\n    if (js_exports == null) js_exports = {};\n\n    root._bokeh_onload_callbacks.push(callback);\n\n    if (root._bokeh_is_loading > 0) {\n      // Don't load bokeh if it is still initializing\n      console.debug(\"Bokeh: BokehJS is being loaded, scheduling callback at\", now());\n      return null;\n    } else if (js_urls.length === 0 && js_modules.length === 0 && Object.keys(js_exports).length === 0) {\n      // There is nothing to load\n      run_callbacks();\n      return null;\n    }\n\n    function on_load() {\n      root._bokeh_is_loading--;\n      if (root._bokeh_is_loading === 0) {\n        console.debug(\"Bokeh: all BokehJS libraries/stylesheets loaded\");\n        run_callbacks()\n      }\n    }\n    window._bokeh_on_load = on_load\n\n    function on_error(e) {\n      const src_el = e.srcElement\n      console.error(\"failed to load \" + (src_el.href || src_el.src));\n    }\n\n    const skip = [];\n    if (window.requirejs) {\n      window.requirejs.config({'packages': {}, 'paths': {}, 'shim': {}});\n      root._bokeh_is_loading = css_urls.length + 0;\n    } else {\n      root._bokeh_is_loading = css_urls.length + js_urls.length + js_modules.length + Object.keys(js_exports).length;\n    }\n\n    const existing_stylesheets = []\n    const links = document.getElementsByTagName('link')\n    for (let i = 0; i < links.length; i++) {\n      const link = links[i]\n      if (link.href != null) {\n        existing_stylesheets.push(link.href)\n      }\n    }\n    for (let i = 0; i < css_urls.length; i++) {\n      const url = css_urls[i];\n      const escaped = encodeURI(url)\n      if (existing_stylesheets.indexOf(escaped) !== -1) {\n        on_load()\n        continue;\n      }\n      const element = document.createElement(\"link\");\n      element.onload = on_load;\n      element.onerror = on_error;\n      element.rel = \"stylesheet\";\n      element.type = \"text/css\";\n      element.href = url;\n      console.debug(\"Bokeh: injecting link tag for BokehJS stylesheet: \", url);\n      document.body.appendChild(element);\n    }    var existing_scripts = []\n    const scripts = document.getElementsByTagName('script')\n    for (let i = 0; i < scripts.length; i++) {\n      var script = scripts[i]\n      if (script.src != null) {\n        existing_scripts.push(script.src)\n      }\n    }\n    for (let i = 0; i < js_urls.length; i++) {\n      const url = js_urls[i];\n      const escaped = encodeURI(url)\n      if (skip.indexOf(escaped) !== -1 || existing_scripts.indexOf(escaped) !== -1) {\n        if (!window.requirejs) {\n          on_load();\n        }\n        continue;\n      }\n      const element = document.createElement('script');\n      element.onload = on_load;\n      element.onerror = on_error;\n      element.async = false;\n      element.src = url;\n      console.debug(\"Bokeh: injecting script tag for BokehJS library: \", url);\n      document.head.appendChild(element);\n    }\n    for (let i = 0; i < js_modules.length; i++) {\n      const url = js_modules[i];\n      const escaped = encodeURI(url)\n      if (skip.indexOf(escaped) !== -1 || existing_scripts.indexOf(escaped) !== -1) {\n        if (!window.requirejs) {\n          on_load();\n        }\n        continue;\n      }\n      var element = document.createElement('script');\n      element.onload = on_load;\n      element.onerror = on_error;\n      element.async = false;\n      element.src = url;\n      element.type = \"module\";\n      console.debug(\"Bokeh: injecting script tag for BokehJS library: \", url);\n      document.head.appendChild(element);\n    }\n    for (const name in js_exports) {\n      const url = js_exports[name];\n      const escaped = encodeURI(url)\n      if (skip.indexOf(escaped) >= 0 || root[name] != null) {\n        if (!window.requirejs) {\n          on_load();\n        }\n        continue;\n      }\n      var element = document.createElement('script');\n      element.onerror = on_error;\n      element.async = false;\n      element.type = \"module\";\n      console.debug(\"Bokeh: injecting script tag for BokehJS library: \", url);\n      element.textContent = `\n      import ${name} from \"${url}\"\n      window.${name} = ${name}\n      window._bokeh_on_load()\n      `\n      document.head.appendChild(element);\n    }\n    if (!js_urls.length && !js_modules.length) {\n      on_load()\n    }\n  };\n\n  function inject_raw_css(css) {\n    const element = document.createElement(\"style\");\n    element.appendChild(document.createTextNode(css));\n    document.body.appendChild(element);\n  }\n\n  const js_urls = [\"https://cdn.holoviz.org/panel/1.5.5/dist/bundled/reactiveesm/es-module-shims@^1.10.0/dist/es-module-shims.min.js\", \"https://cdn.bokeh.org/bokeh/release/bokeh-3.6.2.min.js\", \"https://cdn.bokeh.org/bokeh/release/bokeh-gl-3.6.2.min.js\", \"https://cdn.bokeh.org/bokeh/release/bokeh-widgets-3.6.2.min.js\", \"https://cdn.bokeh.org/bokeh/release/bokeh-tables-3.6.2.min.js\", \"https://cdn.holoviz.org/panel/1.5.5/dist/panel.min.js\"];\n  const js_modules = [];\n  const js_exports = {};\n  const css_urls = [];\n  const inline_js = [    function(Bokeh) {\n      Bokeh.set_log_level(\"info\");\n    },\nfunction(Bokeh) {} // ensure no trailing comma for IE\n  ];\n\n  function run_inline_js() {\n    if ((root.Bokeh !== undefined) || (force === true)) {\n      for (let i = 0; i < inline_js.length; i++) {\n        try {\n          inline_js[i].call(root, root.Bokeh);\n        } catch(e) {\n          if (!reloading) {\n            throw e;\n          }\n        }\n      }\n      // Cache old bokeh versions\n      if (Bokeh != undefined && !reloading) {\n        var NewBokeh = root.Bokeh;\n        if (Bokeh.versions === undefined) {\n          Bokeh.versions = new Map();\n        }\n        if (NewBokeh.version !== Bokeh.version) {\n          Bokeh.versions.set(NewBokeh.version, NewBokeh)\n        }\n        root.Bokeh = Bokeh;\n      }\n    } else if (Date.now() < root._bokeh_timeout) {\n      setTimeout(run_inline_js, 100);\n    } else if (!root._bokeh_failed_load) {\n      console.log(\"Bokeh: BokehJS failed to load within specified timeout.\");\n      root._bokeh_failed_load = true;\n    }\n    root._bokeh_is_initializing = false\n  }\n\n  function load_or_wait() {\n    // Implement a backoff loop that tries to ensure we do not load multiple\n    // versions of Bokeh and its dependencies at the same time.\n    // In recent versions we use the root._bokeh_is_initializing flag\n    // to determine whether there is an ongoing attempt to initialize\n    // bokeh, however for backward compatibility we also try to ensure\n    // that we do not start loading a newer (Panel>=1.0 and Bokeh>3) version\n    // before older versions are fully initialized.\n    if (root._bokeh_is_initializing && Date.now() > root._bokeh_timeout) {\n      // If the timeout and bokeh was not successfully loaded we reset\n      // everything and try loading again\n      root._bokeh_timeout = Date.now() + 5000;\n      root._bokeh_is_initializing = false;\n      root._bokeh_onload_callbacks = undefined;\n      root._bokeh_is_loading = 0\n      console.log(\"Bokeh: BokehJS was loaded multiple times but one version failed to initialize.\");\n      load_or_wait();\n    } else if (root._bokeh_is_initializing || (typeof root._bokeh_is_initializing === \"undefined\" && root._bokeh_onload_callbacks !== undefined)) {\n      setTimeout(load_or_wait, 100);\n    } else {\n      root._bokeh_is_initializing = true\n      root._bokeh_onload_callbacks = []\n      const bokeh_loaded = root.Bokeh != null && (root.Bokeh.version === py_version || (root.Bokeh.versions !== undefined && root.Bokeh.versions.has(py_version)));\n      if (!reloading && !bokeh_loaded) {\n        if (root.Bokeh) {\n          root.Bokeh = undefined;\n        }\n        console.debug(\"Bokeh: BokehJS not loaded, scheduling load and callback at\", now());\n      }\n      load_libs(css_urls, js_urls, js_modules, js_exports, function() {\n        console.debug(\"Bokeh: BokehJS plotting callback run at\", now());\n        run_inline_js();\n      });\n    }\n  }\n  // Give older versions of the autoload script a head-start to ensure\n  // they initialize before we start loading newer version.\n  setTimeout(load_or_wait, 100)\n}(window));",
      "application/vnd.holoviews_load.v0+json": ""
     },
     "metadata": {},
     "output_type": "display_data"
    },
    {
     "data": {
      "application/javascript": "\nif ((window.PyViz === undefined) || (window.PyViz instanceof HTMLElement)) {\n  window.PyViz = {comms: {}, comm_status:{}, kernels:{}, receivers: {}, plot_index: []}\n}\n\n\n    function JupyterCommManager() {\n    }\n\n    JupyterCommManager.prototype.register_target = function(plot_id, comm_id, msg_handler) {\n      if (window.comm_manager || ((window.Jupyter !== undefined) && (Jupyter.notebook.kernel != null))) {\n        var comm_manager = window.comm_manager || Jupyter.notebook.kernel.comm_manager;\n        comm_manager.register_target(comm_id, function(comm) {\n          comm.on_msg(msg_handler);\n        });\n      } else if ((plot_id in window.PyViz.kernels) && (window.PyViz.kernels[plot_id])) {\n        window.PyViz.kernels[plot_id].registerCommTarget(comm_id, function(comm) {\n          comm.onMsg = msg_handler;\n        });\n      } else if (typeof google != 'undefined' && google.colab.kernel != null) {\n        google.colab.kernel.comms.registerTarget(comm_id, (comm) => {\n          var messages = comm.messages[Symbol.asyncIterator]();\n          function processIteratorResult(result) {\n            var message = result.value;\n            console.log(message)\n            var content = {data: message.data, comm_id};\n            var buffers = []\n            for (var buffer of message.buffers || []) {\n              buffers.push(new DataView(buffer))\n            }\n            var metadata = message.metadata || {};\n            var msg = {content, buffers, metadata}\n            msg_handler(msg);\n            return messages.next().then(processIteratorResult);\n          }\n          return messages.next().then(processIteratorResult);\n        })\n      }\n    }\n\n    JupyterCommManager.prototype.get_client_comm = function(plot_id, comm_id, msg_handler) {\n      if (comm_id in window.PyViz.comms) {\n        return window.PyViz.comms[comm_id];\n      } else if (window.comm_manager || ((window.Jupyter !== undefined) && (Jupyter.notebook.kernel != null))) {\n        var comm_manager = window.comm_manager || Jupyter.notebook.kernel.comm_manager;\n        var comm = comm_manager.new_comm(comm_id, {}, {}, {}, comm_id);\n        if (msg_handler) {\n          comm.on_msg(msg_handler);\n        }\n      } else if ((plot_id in window.PyViz.kernels) && (window.PyViz.kernels[plot_id])) {\n        var comm = window.PyViz.kernels[plot_id].connectToComm(comm_id);\n        comm.open();\n        if (msg_handler) {\n          comm.onMsg = msg_handler;\n        }\n      } else if (typeof google != 'undefined' && google.colab.kernel != null) {\n        var comm_promise = google.colab.kernel.comms.open(comm_id)\n        comm_promise.then((comm) => {\n          window.PyViz.comms[comm_id] = comm;\n          if (msg_handler) {\n            var messages = comm.messages[Symbol.asyncIterator]();\n            function processIteratorResult(result) {\n              var message = result.value;\n              var content = {data: message.data};\n              var metadata = message.metadata || {comm_id};\n              var msg = {content, metadata}\n              msg_handler(msg);\n              return messages.next().then(processIteratorResult);\n            }\n            return messages.next().then(processIteratorResult);\n          }\n        }) \n        var sendClosure = (data, metadata, buffers, disposeOnDone) => {\n          return comm_promise.then((comm) => {\n            comm.send(data, metadata, buffers, disposeOnDone);\n          });\n        };\n        var comm = {\n          send: sendClosure\n        };\n      }\n      window.PyViz.comms[comm_id] = comm;\n      return comm;\n    }\n    window.PyViz.comm_manager = new JupyterCommManager();\n    \n\n\nvar JS_MIME_TYPE = 'application/javascript';\nvar HTML_MIME_TYPE = 'text/html';\nvar EXEC_MIME_TYPE = 'application/vnd.holoviews_exec.v0+json';\nvar CLASS_NAME = 'output';\n\n/**\n * Render data to the DOM node\n */\nfunction render(props, node) {\n  var div = document.createElement(\"div\");\n  var script = document.createElement(\"script\");\n  node.appendChild(div);\n  node.appendChild(script);\n}\n\n/**\n * Handle when a new output is added\n */\nfunction handle_add_output(event, handle) {\n  var output_area = handle.output_area;\n  var output = handle.output;\n  if ((output.data == undefined) || (!output.data.hasOwnProperty(EXEC_MIME_TYPE))) {\n    return\n  }\n  var id = output.metadata[EXEC_MIME_TYPE][\"id\"];\n  var toinsert = output_area.element.find(\".\" + CLASS_NAME.split(' ')[0]);\n  if (id !== undefined) {\n    var nchildren = toinsert.length;\n    var html_node = toinsert[nchildren-1].children[0];\n    html_node.innerHTML = output.data[HTML_MIME_TYPE];\n    var scripts = [];\n    var nodelist = html_node.querySelectorAll(\"script\");\n    for (var i in nodelist) {\n      if (nodelist.hasOwnProperty(i)) {\n        scripts.push(nodelist[i])\n      }\n    }\n\n    scripts.forEach( function (oldScript) {\n      var newScript = document.createElement(\"script\");\n      var attrs = [];\n      var nodemap = oldScript.attributes;\n      for (var j in nodemap) {\n        if (nodemap.hasOwnProperty(j)) {\n          attrs.push(nodemap[j])\n        }\n      }\n      attrs.forEach(function(attr) { newScript.setAttribute(attr.name, attr.value) });\n      newScript.appendChild(document.createTextNode(oldScript.innerHTML));\n      oldScript.parentNode.replaceChild(newScript, oldScript);\n    });\n    if (JS_MIME_TYPE in output.data) {\n      toinsert[nchildren-1].children[1].textContent = output.data[JS_MIME_TYPE];\n    }\n    output_area._hv_plot_id = id;\n    if ((window.Bokeh !== undefined) && (id in Bokeh.index)) {\n      window.PyViz.plot_index[id] = Bokeh.index[id];\n    } else {\n      window.PyViz.plot_index[id] = null;\n    }\n  } else if (output.metadata[EXEC_MIME_TYPE][\"server_id\"] !== undefined) {\n    var bk_div = document.createElement(\"div\");\n    bk_div.innerHTML = output.data[HTML_MIME_TYPE];\n    var script_attrs = bk_div.children[0].attributes;\n    for (var i = 0; i < script_attrs.length; i++) {\n      toinsert[toinsert.length - 1].childNodes[1].setAttribute(script_attrs[i].name, script_attrs[i].value);\n    }\n    // store reference to server id on output_area\n    output_area._bokeh_server_id = output.metadata[EXEC_MIME_TYPE][\"server_id\"];\n  }\n}\n\n/**\n * Handle when an output is cleared or removed\n */\nfunction handle_clear_output(event, handle) {\n  var id = handle.cell.output_area._hv_plot_id;\n  var server_id = handle.cell.output_area._bokeh_server_id;\n  if (((id === undefined) || !(id in PyViz.plot_index)) && (server_id !== undefined)) { return; }\n  var comm = window.PyViz.comm_manager.get_client_comm(\"hv-extension-comm\", \"hv-extension-comm\", function () {});\n  if (server_id !== null) {\n    comm.send({event_type: 'server_delete', 'id': server_id});\n    return;\n  } else if (comm !== null) {\n    comm.send({event_type: 'delete', 'id': id});\n  }\n  delete PyViz.plot_index[id];\n  if ((window.Bokeh !== undefined) & (id in window.Bokeh.index)) {\n    var doc = window.Bokeh.index[id].model.document\n    doc.clear();\n    const i = window.Bokeh.documents.indexOf(doc);\n    if (i > -1) {\n      window.Bokeh.documents.splice(i, 1);\n    }\n  }\n}\n\n/**\n * Handle kernel restart event\n */\nfunction handle_kernel_cleanup(event, handle) {\n  delete PyViz.comms[\"hv-extension-comm\"];\n  window.PyViz.plot_index = {}\n}\n\n/**\n * Handle update_display_data messages\n */\nfunction handle_update_output(event, handle) {\n  handle_clear_output(event, {cell: {output_area: handle.output_area}})\n  handle_add_output(event, handle)\n}\n\nfunction register_renderer(events, OutputArea) {\n  function append_mime(data, metadata, element) {\n    // create a DOM node to render to\n    var toinsert = this.create_output_subarea(\n    metadata,\n    CLASS_NAME,\n    EXEC_MIME_TYPE\n    );\n    this.keyboard_manager.register_events(toinsert);\n    // Render to node\n    var props = {data: data, metadata: metadata[EXEC_MIME_TYPE]};\n    render(props, toinsert[0]);\n    element.append(toinsert);\n    return toinsert\n  }\n\n  events.on('output_added.OutputArea', handle_add_output);\n  events.on('output_updated.OutputArea', handle_update_output);\n  events.on('clear_output.CodeCell', handle_clear_output);\n  events.on('delete.Cell', handle_clear_output);\n  events.on('kernel_ready.Kernel', handle_kernel_cleanup);\n\n  OutputArea.prototype.register_mime_type(EXEC_MIME_TYPE, append_mime, {\n    safe: true,\n    index: 0\n  });\n}\n\nif (window.Jupyter !== undefined) {\n  try {\n    var events = require('base/js/events');\n    var OutputArea = require('notebook/js/outputarea').OutputArea;\n    if (OutputArea.prototype.mime_types().indexOf(EXEC_MIME_TYPE) == -1) {\n      register_renderer(events, OutputArea);\n    }\n  } catch(err) {\n  }\n}\n",
      "application/vnd.holoviews_load.v0+json": ""
     },
     "metadata": {},
     "output_type": "display_data"
    },
    {
     "data": {
      "application/vnd.holoviews_exec.v0+json": "",
      "text/html": [
       "<div id='e17dc238-a1e6-4b56-a79e-963465bc3368'>\n",
       "  <div id=\"d3b62de2-343d-4608-a86b-dbba151ba772\" data-root-id=\"e17dc238-a1e6-4b56-a79e-963465bc3368\" style=\"display: contents;\"></div>\n",
       "</div>\n",
       "<script type=\"application/javascript\">(function(root) {\n",
       "  var docs_json = {\"ef30ad6b-dc02-4836-9d48-f07288792bdc\":{\"version\":\"3.6.2\",\"title\":\"Bokeh Application\",\"roots\":[{\"type\":\"object\",\"name\":\"panel.models.browser.BrowserInfo\",\"id\":\"e17dc238-a1e6-4b56-a79e-963465bc3368\"},{\"type\":\"object\",\"name\":\"panel.models.comm_manager.CommManager\",\"id\":\"e05c8475-5eca-4dce-a49b-f7b6f83e82e5\",\"attributes\":{\"plot_id\":\"e17dc238-a1e6-4b56-a79e-963465bc3368\",\"comm_id\":\"a2a291bd6fd4423b9f0610610d9a28c4\",\"client_comm_id\":\"6d8bdd9d7cac4a10a76382637a5ca575\"}}],\"defs\":[{\"type\":\"model\",\"name\":\"ReactiveHTML1\"},{\"type\":\"model\",\"name\":\"FlexBox1\",\"properties\":[{\"name\":\"align_content\",\"kind\":\"Any\",\"default\":\"flex-start\"},{\"name\":\"align_items\",\"kind\":\"Any\",\"default\":\"flex-start\"},{\"name\":\"flex_direction\",\"kind\":\"Any\",\"default\":\"row\"},{\"name\":\"flex_wrap\",\"kind\":\"Any\",\"default\":\"wrap\"},{\"name\":\"gap\",\"kind\":\"Any\",\"default\":\"\"},{\"name\":\"justify_content\",\"kind\":\"Any\",\"default\":\"flex-start\"}]},{\"type\":\"model\",\"name\":\"FloatPanel1\",\"properties\":[{\"name\":\"config\",\"kind\":\"Any\",\"default\":{\"type\":\"map\"}},{\"name\":\"contained\",\"kind\":\"Any\",\"default\":true},{\"name\":\"position\",\"kind\":\"Any\",\"default\":\"right-top\"},{\"name\":\"offsetx\",\"kind\":\"Any\",\"default\":null},{\"name\":\"offsety\",\"kind\":\"Any\",\"default\":null},{\"name\":\"theme\",\"kind\":\"Any\",\"default\":\"primary\"},{\"name\":\"status\",\"kind\":\"Any\",\"default\":\"normalized\"}]},{\"type\":\"model\",\"name\":\"GridStack1\",\"properties\":[{\"name\":\"mode\",\"kind\":\"Any\",\"default\":\"warn\"},{\"name\":\"ncols\",\"kind\":\"Any\",\"default\":null},{\"name\":\"nrows\",\"kind\":\"Any\",\"default\":null},{\"name\":\"allow_resize\",\"kind\":\"Any\",\"default\":true},{\"name\":\"allow_drag\",\"kind\":\"Any\",\"default\":true},{\"name\":\"state\",\"kind\":\"Any\",\"default\":[]}]},{\"type\":\"model\",\"name\":\"drag1\",\"properties\":[{\"name\":\"slider_width\",\"kind\":\"Any\",\"default\":5},{\"name\":\"slider_color\",\"kind\":\"Any\",\"default\":\"black\"},{\"name\":\"value\",\"kind\":\"Any\",\"default\":50}]},{\"type\":\"model\",\"name\":\"click1\",\"properties\":[{\"name\":\"terminal_output\",\"kind\":\"Any\",\"default\":\"\"},{\"name\":\"debug_name\",\"kind\":\"Any\",\"default\":\"\"},{\"name\":\"clears\",\"kind\":\"Any\",\"default\":0}]},{\"type\":\"model\",\"name\":\"FastWrapper1\",\"properties\":[{\"name\":\"object\",\"kind\":\"Any\",\"default\":null},{\"name\":\"style\",\"kind\":\"Any\",\"default\":null}]},{\"type\":\"model\",\"name\":\"NotificationAreaBase1\",\"properties\":[{\"name\":\"js_events\",\"kind\":\"Any\",\"default\":{\"type\":\"map\"}},{\"name\":\"position\",\"kind\":\"Any\",\"default\":\"bottom-right\"},{\"name\":\"_clear\",\"kind\":\"Any\",\"default\":0}]},{\"type\":\"model\",\"name\":\"NotificationArea1\",\"properties\":[{\"name\":\"js_events\",\"kind\":\"Any\",\"default\":{\"type\":\"map\"}},{\"name\":\"notifications\",\"kind\":\"Any\",\"default\":[]},{\"name\":\"position\",\"kind\":\"Any\",\"default\":\"bottom-right\"},{\"name\":\"_clear\",\"kind\":\"Any\",\"default\":0},{\"name\":\"types\",\"kind\":\"Any\",\"default\":[{\"type\":\"map\",\"entries\":[[\"type\",\"warning\"],[\"background\",\"#ffc107\"],[\"icon\",{\"type\":\"map\",\"entries\":[[\"className\",\"fas fa-exclamation-triangle\"],[\"tagName\",\"i\"],[\"color\",\"white\"]]}]]},{\"type\":\"map\",\"entries\":[[\"type\",\"info\"],[\"background\",\"#007bff\"],[\"icon\",{\"type\":\"map\",\"entries\":[[\"className\",\"fas fa-info-circle\"],[\"tagName\",\"i\"],[\"color\",\"white\"]]}]]}]}]},{\"type\":\"model\",\"name\":\"Notification\",\"properties\":[{\"name\":\"background\",\"kind\":\"Any\",\"default\":null},{\"name\":\"duration\",\"kind\":\"Any\",\"default\":3000},{\"name\":\"icon\",\"kind\":\"Any\",\"default\":null},{\"name\":\"message\",\"kind\":\"Any\",\"default\":\"\"},{\"name\":\"notification_type\",\"kind\":\"Any\",\"default\":null},{\"name\":\"_rendered\",\"kind\":\"Any\",\"default\":false},{\"name\":\"_destroyed\",\"kind\":\"Any\",\"default\":false}]},{\"type\":\"model\",\"name\":\"TemplateActions1\",\"properties\":[{\"name\":\"open_modal\",\"kind\":\"Any\",\"default\":0},{\"name\":\"close_modal\",\"kind\":\"Any\",\"default\":0}]},{\"type\":\"model\",\"name\":\"BootstrapTemplateActions1\",\"properties\":[{\"name\":\"open_modal\",\"kind\":\"Any\",\"default\":0},{\"name\":\"close_modal\",\"kind\":\"Any\",\"default\":0}]},{\"type\":\"model\",\"name\":\"TemplateEditor1\",\"properties\":[{\"name\":\"layout\",\"kind\":\"Any\",\"default\":[]}]},{\"type\":\"model\",\"name\":\"MaterialTemplateActions1\",\"properties\":[{\"name\":\"open_modal\",\"kind\":\"Any\",\"default\":0},{\"name\":\"close_modal\",\"kind\":\"Any\",\"default\":0}]},{\"type\":\"model\",\"name\":\"ReactiveESM1\",\"properties\":[{\"name\":\"esm_constants\",\"kind\":\"Any\",\"default\":{\"type\":\"map\"}}]},{\"type\":\"model\",\"name\":\"JSComponent1\",\"properties\":[{\"name\":\"esm_constants\",\"kind\":\"Any\",\"default\":{\"type\":\"map\"}}]},{\"type\":\"model\",\"name\":\"ReactComponent1\",\"properties\":[{\"name\":\"esm_constants\",\"kind\":\"Any\",\"default\":{\"type\":\"map\"}}]},{\"type\":\"model\",\"name\":\"AnyWidgetComponent1\",\"properties\":[{\"name\":\"esm_constants\",\"kind\":\"Any\",\"default\":{\"type\":\"map\"}}]},{\"type\":\"model\",\"name\":\"request_value1\",\"properties\":[{\"name\":\"fill\",\"kind\":\"Any\",\"default\":\"none\"},{\"name\":\"_synced\",\"kind\":\"Any\",\"default\":null},{\"name\":\"_request_sync\",\"kind\":\"Any\",\"default\":0}]}]}};\n",
       "  var render_items = [{\"docid\":\"ef30ad6b-dc02-4836-9d48-f07288792bdc\",\"roots\":{\"e17dc238-a1e6-4b56-a79e-963465bc3368\":\"d3b62de2-343d-4608-a86b-dbba151ba772\"},\"root_ids\":[\"e17dc238-a1e6-4b56-a79e-963465bc3368\"]}];\n",
       "  var docs = Object.values(docs_json)\n",
       "  if (!docs) {\n",
       "    return\n",
       "  }\n",
       "  const py_version = docs[0].version.replace('rc', '-rc.').replace('.dev', '-dev.')\n",
       "  async function embed_document(root) {\n",
       "    var Bokeh = get_bokeh(root)\n",
       "    await Bokeh.embed.embed_items_notebook(docs_json, render_items);\n",
       "    for (const render_item of render_items) {\n",
       "      for (const root_id of render_item.root_ids) {\n",
       "\tconst id_el = document.getElementById(root_id)\n",
       "\tif (id_el.children.length && id_el.children[0].hasAttribute('data-root-id')) {\n",
       "\t  const root_el = id_el.children[0]\n",
       "\t  root_el.id = root_el.id + '-rendered'\n",
       "\t  for (const child of root_el.children) {\n",
       "            // Ensure JupyterLab does not capture keyboard shortcuts\n",
       "            // see: https://jupyterlab.readthedocs.io/en/4.1.x/extension/notebook.html#keyboard-interaction-model\n",
       "\t    child.setAttribute('data-lm-suppress-shortcuts', 'true')\n",
       "\t  }\n",
       "\t}\n",
       "      }\n",
       "    }\n",
       "  }\n",
       "  function get_bokeh(root) {\n",
       "    if (root.Bokeh === undefined) {\n",
       "      return null\n",
       "    } else if (root.Bokeh.version !== py_version) {\n",
       "      if (root.Bokeh.versions === undefined || !root.Bokeh.versions.has(py_version)) {\n",
       "\treturn null\n",
       "      }\n",
       "      return root.Bokeh.versions.get(py_version);\n",
       "    } else if (root.Bokeh.version === py_version) {\n",
       "      return root.Bokeh\n",
       "    }\n",
       "    return null\n",
       "  }\n",
       "  function is_loaded(root) {\n",
       "    var Bokeh = get_bokeh(root)\n",
       "    return (Bokeh != null && Bokeh.Panel !== undefined)\n",
       "  }\n",
       "  if (is_loaded(root)) {\n",
       "    embed_document(root);\n",
       "  } else {\n",
       "    var attempts = 0;\n",
       "    var timer = setInterval(function(root) {\n",
       "      if (is_loaded(root)) {\n",
       "        clearInterval(timer);\n",
       "        embed_document(root);\n",
       "      } else if (document.readyState == \"complete\") {\n",
       "        attempts++;\n",
       "        if (attempts > 200) {\n",
       "          clearInterval(timer);\n",
       "\t  var Bokeh = get_bokeh(root)\n",
       "\t  if (Bokeh == null || Bokeh.Panel == null) {\n",
       "            console.warn(\"Panel: ERROR: Unable to run Panel code because Bokeh or Panel library is missing\");\n",
       "\t  } else {\n",
       "\t    console.warn(\"Panel: WARNING: Attempting to render but not all required libraries could be resolved.\")\n",
       "\t    embed_document(root)\n",
       "\t  }\n",
       "        }\n",
       "      }\n",
       "    }, 25, root)\n",
       "  }\n",
       "})(window);</script>"
      ]
     },
     "metadata": {
      "application/vnd.holoviews_exec.v0+json": {
       "id": "e17dc238-a1e6-4b56-a79e-963465bc3368"
      }
     },
     "output_type": "display_data"
    },
    {
     "data": {
      "text/html": [
       "\n",
       "<div class=\"logo-block\">\n",
       "<img src='data:image/png;base64,iVBORw0KGgoAAAANSUhEUgAAAEAAAABACAYAAACqaXHeAAAABHNCSVQICAgIfAhkiAAAAAlwSFlz\n",
       "AAAB+wAAAfsBxc2miwAAABl0RVh0U29mdHdhcmUAd3d3Lmlua3NjYXBlLm9yZ5vuPBoAAA6zSURB\n",
       "VHic7ZtpeFRVmsf/5966taWqUlUJ2UioBBJiIBAwCZtog9IOgjqACsogKtqirT2ttt069nQ/zDzt\n",
       "tI4+CrJIREFaFgWhBXpUNhHZQoKBkIUASchWla1S+3ar7r1nPkDaCAnZKoQP/D7mnPOe9/xy76n3\n",
       "nFSAW9ziFoPFNED2LLK5wcyBDObkb8ZkxuaoSYlI6ZcOKq1eWFdedqNzGHQBk9RMEwFAASkk0Xw3\n",
       "ETacDNi2vtvc7L0ROdw0AjoSotQVkKSvHQz/wRO1lScGModBFbDMaNRN1A4tUBCS3lk7BWhQkgpD\n",
       "lG4852/+7DWr1R3uHAZVQDsbh6ZPN7CyxUrCzJMRouusj0ipRwD2uKm0Zn5d2dFwzX1TCGhnmdGo\n",
       "G62Nna+isiUqhkzuKrkQaJlPEv5mFl2fvGg2t/VnzkEV8F5ioioOEWkLG86fvbpthynjdhXYZziQ\n",
       "x1hC9J2NFyi8vCTt91Fh04KGip0AaG9zuCk2wQCVyoNU3Hjezee9bq92duzzTmxsRJoy+jEZZZYo\n",
       "GTKJ6SJngdJqAfRzpze0+jHreUtPc7gpBLQnIYK6BYp/uGhw9YK688eu7v95ysgshcg9qSLMo3JC\n",
       "4jqLKQFBgdKDPoQ+Pltb8dUyQLpeDjeVgI6EgLIQFT5tEl3rn2losHVsexbZ3EyT9wE1uGdkIPcy\n",
       "BGxn8QUq1QrA5nqW5i2tLqvrrM9NK6AdkVIvL9E9bZL/oyfMVd/jqvc8LylzRBKDJSzIExwhQzuL\n",
       "QYGQj4rHfFTc8mUdu3E7yoLtbTe9gI4EqVgVkug2i5+uXGo919ixbRog+3fTbQ8qJe4ZOYNfMoTI\n",
       "OoshUNosgO60AisX15aeI2PSIp5KiFLI9ubb1vV3Qb2ltwLakUCDAkWX7/nHKRmmGIl9VgYsUhJm\n",
       "2NXjKYADtM1ygne9QQDIXlk49FBstMKx66D1v4+XuQr7vqTe0VcBHQlRWiOCbmmSYe2SqtL6q5rJ\n",
       "zsTb7lKx3FKOYC4DoqyS/B5bvLPxvD9Qtf6saxYLQGJErmDOdOMr/zo96km1nElr8bmPOBwI9COv\n",
       "HnFPRIwmkSOv9kcAS4heRsidOkpeWBgZM+UBrTFAXNYL5Vf2ii9c1trNzpYdaoVil3WIc+wdk+gQ\n",
       "noie3ecCcxt9ITcLAPWt/laGEO/9U6PmzZkenTtsSMQ8uYywJVW+grCstAvCIaAdArAsIWkRDDs/\n",
       "KzLm2YcjY1Lv0UdW73HabE9n6V66cxSzfEmuJssTpKGVp+0vHq73FwL46eOjpMpbRAnNmJFrGJNu\n",
       "Ukf9Yrz+3rghiumCKNXXWPhLYcjxGsIpoCMsIRoFITkW8AuyM8jC1+/QLx4bozCEJIq38+1rtpR6\n",
       "V/yzb8eBlRb3fo5l783N0CWolAzJHaVNzkrTzlEp2bQ2q3TC5gn6wpnoQAmwSiGh2GitnTmVMc5O\n",
       "UyfKWUKCIsU7+fZDKwqdT6DDpvkzAX4/+AMFjk0tDp5GRXLpQ2MUmhgDp5gxQT8+Y7hyPsMi8uxF\n",
       "71H0oebujHALECjFKaW9Lm68n18wXp2kVzIcABytD5iXFzg+WVXkegpAsOOYziqo0OkK76GyquC3\n",
       "ltZAzMhhqlSNmmWTE5T6e3IN05ITFLM4GdN0vtZ3ob8Jh1NAKXFbm5PtLU/eqTSlGjkNAJjdgn/N\n",
       "aedXa0tdi7+t9G0FIF49rtMSEgAs1kDLkTPO7ebm4IUWeyh1bKomXqlgMG6kJmHcSM0clYLJ8XtR\n",
       "1GTnbV3F6I5wCGikAb402npp1h1s7LQUZZSMIfALFOuL3UUrfnS8+rez7v9qcold5tilgHbO1fjK\n",
       "9ubb17u9oshxzMiUBKXWqJNxd+fqb0tLVs4lILFnK71H0Ind7uiPgACVcFJlrb0tV6DzxqqTIhUM\n",
       "CwDf1/rrVhTa33/3pGPxJYdQ2l2cbgVcQSosdx8uqnDtbGjh9SlDVSMNWhlnilfqZk42Th2ZpLpf\n",
       "xrHec5e815zrr0dfBZSwzkZfqsv+1FS1KUknUwPARVvItfKUY+cn57yP7qv07UE3p8B2uhUwLk09\n",
       "e0SCOrK+hbdYHYLjRIl71wWzv9jpEoeOHhGRrJAzyEyNiJuUqX0g2sBN5kGK6y2Blp5M3lsB9Qh4\n",
       "y2Ja6x6+i0ucmKgwMATwhSjdUu49tKrQ/pvN5d53ml2CGwCmJipmKjgmyuaXzNeL2a0AkQ01Th5j\n",
       "2DktO3Jyk8f9vcOBQHV94OK+fPumJmvQHxJoWkaKWq9Vs+yUsbq0zGT1I4RgeH2b5wef7+c7bl8F\n",
       "eKgoHVVZa8ZPEORzR6sT1BzDUAD/d9F78e2Tzv99v8D+fLVTqAKAsbGamKey1Mt9Ann4eH3gTXTz\n",
       "idWtAJ8PQWOk7NzSeQn/OTHDuEikVF1R4z8BQCy+6D1aWRfY0tTGG2OM8rRoPaeIj5ZHzJxszElN\n",
       "VM8K8JS5WOfv8mzRnQAKoEhmt8gyPM4lU9SmBK1MCQBnW4KONT86v1hZ1PbwSXPw4JWussVjtH9Y\n",
       "NCoiL9UoH/6PSu8jFrfY2t36erQHXLIEakMi1SydmzB31h3GGXFDFNPaK8Rme9B79Ixrd0WN+1ij\n",
       "NRQ/doRmuFLBkHSTOm5GruG+pFjFdAmorG4IXH1Qua6ASniclfFtDYt+oUjKipPrCQB7QBQ2lrgP\n",
       "fFzm+9XWUtcqJ3/5vDLDpJ79XHZk3u8nGZ42qlj1+ydtbxysCezrydp6ugmipNJ7WBPB5tydY0jP\n",
       "HaVNzs3QzeE4ZpTbI+ZbnSFPbVOw9vsfnVvqWnirPyCNGD08IlqtYkh2hjZ5dErEQzoNm+6ykyOt\n",
       "Lt5/PQEuSRRKo22VkydK+vvS1XEKlhCJAnsqvcVvH7f/ZU2R67eXbMEGAMiIV5oWZWiWvz5Fv2xG\n",
       "sjqNJQRvn3Rs2lji/lNP19VjAQDgD7FHhujZB9OGqYxRkZxixgRDVlqS6uEOFaJUVu0rPFzctrnF\n",
       "JqijImVp8dEKVWyUXDk92zAuMZ6bFwpBU1HrOw6AdhQgUooChb0+ItMbWJitSo5Ws3IAOGEOtL53\n",
       "0vHZih9sC4vtofZ7Qu6523V/fmGcds1TY3V36pUsBwAbSlxnVh2xLfAD/IAIMDf7XYIkNmXfpp2l\n",
       "18rkAJAy9HKFaIr/qULkeQQKy9zf1JgDB2uaeFNGijo5QsUyacNUUTOnGO42xSnv4oOwpDi1zYkc\n",
       "efUc3I5Gk6PhyTuVKaOGyLUAYPGIoY9Pu/atL/L92+4q9wbflRJ2Trpm/jPjdBtfnqB/dIThcl8A\n",
       "KG7hbRuKnb8qsQsVvVlTrwQAQMUlf3kwJI24Z4JhPMtcfng5GcH49GsrxJpGvvHIaeem2ma+KSjQ\n",
       "lIwUdYyCY8j4dE1KzijNnIP2llF2wcXNnsoapw9XxsgYAl6k+KzUXbi2yP3KR2ecf6z3BFsBICdW\n",
       "nvnIaG3eHybqX7vbpEqUMT+9OL4Qpe8VON7dXuFd39v19FoAABRVePbGGuXTszO0P7tu6lghUonE\n",
       "llRdrhArLvmKdh9u29jcFiRRkfLUxBiFNiqSU9icoZQHo5mYBI1MBgBH6wMNb+U7Pnw337H4gi1Y\n",
       "ciWs+uks3Z9fztUvfzxTm9Ne8XXkvQLHNytOOZeiD4e0PgkAIAYCYknKUNUDSXEKzdWNpnil7r4p\n",
       "xqkjTarZMtk/K8TQ6Qve78qqvXurGwIJqcOUKfUWHsm8KGvxSP68YudXq4pcj39X49uOK2X142O0\n",
       "Tz5/u/7TVybqH0rSya6ZBwD21/gubbrgWdDgEOx9WUhfBaC2ibcEBYm7a7x+ukrBMNcEZggyR0TE\n",
       "T8zUPjikQ4VosQZbTpS4vqizBKvqmvjsqnpfzaZyx9JPiz1/bfGKdgD45XB1zoIMzYbfTdS/NClB\n",
       "Gct0USiY3YL/g0LHy/uq/Ef6uo5+n0R/vyhp17Klpge763f8rMu6YU/zrn2nml+2WtH+Z+5IAAFc\n",
       "2bUTdTDOSNa9+cQY7YLsOIXhevEkCvzph7a8laecz/Un/z4/Ae04XeL3UQb57IwU9ZDr9UuKVajv\n",
       "nxp1+1UVIo/LjztZkKH59fO3G/JemqCfmaCRqbqbd90ZZ8FfjtkfAyD0J/9+C2h1hDwsSxvGjNDc\n",
       "b4zk5NfrSwiQblLHzZhg+Jf4aPlUwpDqkQqa9nimbt1/TDH8OitGMaQnj+RJS6B1fbF7SY1TqO5v\n",
       "/v0WAADl1f7zokgS7s7VT2DZ7pegUjBM7mjtiDZbcN4j0YrHH0rXpCtY0qPX0cVL0rv5jv/ZXend\n",
       "0u/EESYBAFBU4T4Qa5TflZOhTe7pmKpaP8kCVUVw1+yhXfJWvn1P3hnXi33JsTN6PnP3hHZ8Z3/h\n",
       "aLHzmkNPuPj7Bc/F/Q38CwjTpSwQXgE4Vmwry9tpfq/ZFgqFMy4AVDtCvi8rvMvOmv0N4YwbVgEA\n",
       "sPM72/KVnzfspmH7HQGCRLG2yL1+z8XwvPcdCbsAANh+xPzstgMtxeGKt+6MK3/tacfvwhWvIwMi\n",
       "oKEBtm0H7W+UVfkc/Y1V0BhoPlDr/w1w/eu1vjIgAgDg22OtX6/eYfnEz/focrZTHAFR+PSs56/7\n",
       "q32nwpjazxgwAQCwcU/T62t3WL7r6/jVRa6/byp1rei+Z98ZUAEAhEPHPc8fKnTU9nbgtnOe8h0l\n",
       "9hcGIqmODLQAHCy2Xti6v/XNRivf43f4fFvIteu854+VHnR7q9tfBlwAAGz+pnndB9vM26UebAe8\n",
       "SLHujPOTPVW+rwY+sxskAAC2HrA8t2Vvc7ffP1r9o+vwR2dcr92InIAbKKC1FZ5tB1tf+/G8p8sv\n",
       "N/9Q5zd/XR34LYCwV5JdccMEAMDBk45DH243r/X4xGvqxFa/GNpS7n6rwOwNWwHVE26oAADYurf1\n",
       "zx/utOzt+DMKYM0p17YtZZ5VNzqfsB2HewG1WXE8PoZ7gOclbTIvynZf9JV+fqZtfgs/8F/Nu5rB\n",
       "EIBmJ+8QRMmpU7EzGRsf2FzuePqYRbzh/zE26EwdrT10f6r6o8HOYzCJB9Dpff8tbnGLG8L/A/WE\n",
       "roTBs2RqAAAAAElFTkSuQmCC'\n",
       "     style='height:25px; border-radius:12px; display: inline-block; float: left; vertical-align: middle'></img>\n",
       "\n",
       "\n",
       "  <img src='data:image/png;base64,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'\n",
       "       style='height:15px; border-radius:12px; display: inline-block; float: left'></img>\n",
       "  \n",
       "\n",
       "\n",
       "\n",
       "\n",
       "</div>\n"
      ]
     },
     "metadata": {},
     "output_type": "display_data"
    },
    {
     "data": {
      "text/html": [
       "    <style>\n",
       "        .bk-notebook-logo {\n",
       "            display: block;\n",
       "            width: 20px;\n",
       "            height: 20px;\n",
       "            background-image: url(data:image/png;base64,iVBORw0KGgoAAAANSUhEUgAAABQAAAAUCAYAAACNiR0NAAAABHNCSVQICAgIfAhkiAAAAAlwSFlzAAALEgAACxIB0t1+/AAAABx0RVh0U29mdHdhcmUAQWRvYmUgRmlyZXdvcmtzIENTNui8sowAAAOkSURBVDiNjZRtaJVlGMd/1/08zzln5zjP1LWcU9N0NkN8m2CYjpgQYQXqSs0I84OLIC0hkEKoPtiH3gmKoiJDU7QpLgoLjLIQCpEsNJ1vqUOdO7ppbuec5+V+rj4ctwzd8IIbbi6u+8f1539dt3A78eXC7QizUF7gyV1fD1Yqg4JWz84yffhm0qkFqBogB9rM8tZdtwVsPUhWhGcFJngGeWrPzHm5oaMmkfEg1usvLFyc8jLRqDOMru7AyC8saQr7GG7f5fvDeH7Ej8CM66nIF+8yngt6HWaKh7k49Soy9nXurCi1o3qUbS3zWfrYeQDTB/Qj6kX6Ybhw4B+bOYoLKCC9H3Nu/leUTZ1JdRWkkn2ldcCamzrcf47KKXdAJllSlxAOkRgyHsGC/zRday5Qld9DyoM4/q/rUoy/CXh3jzOu3bHUVZeU+DEn8FInkPBFlu3+nW3Nw0mk6vCDiWg8CeJaxEwuHS3+z5RgY+YBR6V1Z1nxSOfoaPa4LASWxxdNp+VWTk7+4vzaou8v8PN+xo+KY2xsw6une2frhw05CTYOmQvsEhjhWjn0bmXPjpE1+kplmmkP3suftwTubK9Vq22qKmrBhpY4jvd5afdRA3wGjFAgcnTK2s4hY0/GPNIb0nErGMCRxWOOX64Z8RAC4oCXdklmEvcL8o0BfkNK4lUg9HTl+oPlQxdNo3Mg4Nv175e/1LDGzZen30MEjRUtmXSfiTVu1kK8W4txyV6BMKlbgk3lMwYCiusNy9fVfvvwMxv8Ynl6vxoByANLTWplvuj/nF9m2+PDtt1eiHPBr1oIfhCChQMBw6Aw0UulqTKZdfVvfG7VcfIqLG9bcldL/+pdWTLxLUy8Qq38heUIjh4XlzZxzQm19lLFlr8vdQ97rjZVOLf8nclzckbcD4wxXMidpX30sFd37Fv/GtwwhzhxGVAprjbg0gCAEeIgwCZyTV2Z1REEW8O4py0wsjeloKoMr6iCY6dP92H6Vw/oTyICIthibxjm/DfN9lVz8IqtqKYLUXfoKVMVQVVJOElGjrnnUt9T9wbgp8AyYKaGlqingHZU/uG2NTZSVqwHQTWkx9hxjkpWDaCg6Ckj5qebgBVbT3V3NNXMSiWSDdGV3hrtzla7J+duwPOToIg42ChPQOQjspnSlp1V+Gjdged7+8UN5CRAV7a5EdFNwCjEaBR27b3W890TE7g24NAP/mMDXRWrGoFPQI9ls/MWO2dWFAar/xcOIImbbpA3zgAAAABJRU5ErkJggg==);\n",
       "        }\n",
       "    </style>\n",
       "    <div>\n",
       "        <a href=\"https://bokeh.org\" target=\"_blank\" class=\"bk-notebook-logo\"></a>\n",
       "        <span id=\"d283cae2-8b91-47db-b489-e813683157ea\">Loading BokehJS ...</span>\n",
       "    </div>\n"
      ]
     },
     "metadata": {},
     "output_type": "display_data"
    },
    {
     "data": {
      "application/javascript": "'use strict';\n(function(root) {\n  function now() {\n    return new Date();\n  }\n\n  const force = true;\n\n  if (typeof root._bokeh_onload_callbacks === \"undefined\" || force === true) {\n    root._bokeh_onload_callbacks = [];\n    root._bokeh_is_loading = undefined;\n  }\n\nconst JS_MIME_TYPE = 'application/javascript';\n  const HTML_MIME_TYPE = 'text/html';\n  const EXEC_MIME_TYPE = 'application/vnd.bokehjs_exec.v0+json';\n  const CLASS_NAME = 'output_bokeh rendered_html';\n\n  /**\n   * Render data to the DOM node\n   */\n  function render(props, node) {\n    const script = document.createElement(\"script\");\n    node.appendChild(script);\n  }\n\n  /**\n   * Handle when an output is cleared or removed\n   */\n  function handleClearOutput(event, handle) {\n    function drop(id) {\n      const view = Bokeh.index.get_by_id(id)\n      if (view != null) {\n        view.model.document.clear()\n        Bokeh.index.delete(view)\n      }\n    }\n\n    const cell = handle.cell;\n\n    const id = cell.output_area._bokeh_element_id;\n    const server_id = cell.output_area._bokeh_server_id;\n\n    // Clean up Bokeh references\n    if (id != null) {\n      drop(id)\n    }\n\n    if (server_id !== undefined) {\n      // Clean up Bokeh references\n      const cmd_clean = \"from bokeh.io.state import curstate; print(curstate().uuid_to_server['\" + server_id + \"'].get_sessions()[0].document.roots[0]._id)\";\n      cell.notebook.kernel.execute(cmd_clean, {\n        iopub: {\n          output: function(msg) {\n            const id = msg.content.text.trim()\n            drop(id)\n          }\n        }\n      });\n      // Destroy server and session\n      const cmd_destroy = \"import bokeh.io.notebook as ion; ion.destroy_server('\" + server_id + \"')\";\n      cell.notebook.kernel.execute(cmd_destroy);\n    }\n  }\n\n  /**\n   * Handle when a new output is added\n   */\n  function handleAddOutput(event, handle) {\n    const output_area = handle.output_area;\n    const output = handle.output;\n\n    // limit handleAddOutput to display_data with EXEC_MIME_TYPE content only\n    if ((output.output_type != \"display_data\") || (!Object.prototype.hasOwnProperty.call(output.data, EXEC_MIME_TYPE))) {\n      return\n    }\n\n    const toinsert = output_area.element.find(\".\" + CLASS_NAME.split(' ')[0]);\n\n    if (output.metadata[EXEC_MIME_TYPE][\"id\"] !== undefined) {\n      toinsert[toinsert.length - 1].firstChild.textContent = output.data[JS_MIME_TYPE];\n      // store reference to embed id on output_area\n      output_area._bokeh_element_id = output.metadata[EXEC_MIME_TYPE][\"id\"];\n    }\n    if (output.metadata[EXEC_MIME_TYPE][\"server_id\"] !== undefined) {\n      const bk_div = document.createElement(\"div\");\n      bk_div.innerHTML = output.data[HTML_MIME_TYPE];\n      const script_attrs = bk_div.children[0].attributes;\n      for (let i = 0; i < script_attrs.length; i++) {\n        toinsert[toinsert.length - 1].firstChild.setAttribute(script_attrs[i].name, script_attrs[i].value);\n        toinsert[toinsert.length - 1].firstChild.textContent = bk_div.children[0].textContent\n      }\n      // store reference to server id on output_area\n      output_area._bokeh_server_id = output.metadata[EXEC_MIME_TYPE][\"server_id\"];\n    }\n  }\n\n  function register_renderer(events, OutputArea) {\n\n    function append_mime(data, metadata, element) {\n      // create a DOM node to render to\n      const toinsert = this.create_output_subarea(\n        metadata,\n        CLASS_NAME,\n        EXEC_MIME_TYPE\n      );\n      this.keyboard_manager.register_events(toinsert);\n      // Render to node\n      const props = {data: data, metadata: metadata[EXEC_MIME_TYPE]};\n      render(props, toinsert[toinsert.length - 1]);\n      element.append(toinsert);\n      return toinsert\n    }\n\n    /* Handle when an output is cleared or removed */\n    events.on('clear_output.CodeCell', handleClearOutput);\n    events.on('delete.Cell', handleClearOutput);\n\n    /* Handle when a new output is added */\n    events.on('output_added.OutputArea', handleAddOutput);\n\n    /**\n     * Register the mime type and append_mime function with output_area\n     */\n    OutputArea.prototype.register_mime_type(EXEC_MIME_TYPE, append_mime, {\n      /* Is output safe? */\n      safe: true,\n      /* Index of renderer in `output_area.display_order` */\n      index: 0\n    });\n  }\n\n  // register the mime type if in Jupyter Notebook environment and previously unregistered\n  if (root.Jupyter !== undefined) {\n    const events = require('base/js/events');\n    const OutputArea = require('notebook/js/outputarea').OutputArea;\n\n    if (OutputArea.prototype.mime_types().indexOf(EXEC_MIME_TYPE) == -1) {\n      register_renderer(events, OutputArea);\n    }\n  }\n  if (typeof (root._bokeh_timeout) === \"undefined\" || force === true) {\n    root._bokeh_timeout = Date.now() + 5000;\n    root._bokeh_failed_load = false;\n  }\n\n  const NB_LOAD_WARNING = {'data': {'text/html':\n     \"<div style='background-color: #fdd'>\\n\"+\n     \"<p>\\n\"+\n     \"BokehJS does not appear to have successfully loaded. If loading BokehJS from CDN, this \\n\"+\n     \"may be due to a slow or bad network connection. Possible fixes:\\n\"+\n     \"</p>\\n\"+\n     \"<ul>\\n\"+\n     \"<li>re-rerun `output_notebook()` to attempt to load from CDN again, or</li>\\n\"+\n     \"<li>use INLINE resources instead, as so:</li>\\n\"+\n     \"</ul>\\n\"+\n     \"<code>\\n\"+\n     \"from bokeh.resources import INLINE\\n\"+\n     \"output_notebook(resources=INLINE)\\n\"+\n     \"</code>\\n\"+\n     \"</div>\"}};\n\n  function display_loaded(error = null) {\n    const el = document.getElementById(\"d283cae2-8b91-47db-b489-e813683157ea\");\n    if (el != null) {\n      const html = (() => {\n        if (typeof root.Bokeh === \"undefined\") {\n          if (error == null) {\n            return \"BokehJS is loading ...\";\n          } else {\n            return \"BokehJS failed to load.\";\n          }\n        } else {\n          const prefix = `BokehJS ${root.Bokeh.version}`;\n          if (error == null) {\n            return `${prefix} successfully loaded.`;\n          } else {\n            return `${prefix} <b>encountered errors</b> while loading and may not function as expected.`;\n          }\n        }\n      })();\n      el.innerHTML = html;\n\n      if (error != null) {\n        const wrapper = document.createElement(\"div\");\n        wrapper.style.overflow = \"auto\";\n        wrapper.style.height = \"5em\";\n        wrapper.style.resize = \"vertical\";\n        const content = document.createElement(\"div\");\n        content.style.fontFamily = \"monospace\";\n        content.style.whiteSpace = \"pre-wrap\";\n        content.style.backgroundColor = \"rgb(255, 221, 221)\";\n        content.textContent = error.stack ?? error.toString();\n        wrapper.append(content);\n        el.append(wrapper);\n      }\n    } else if (Date.now() < root._bokeh_timeout) {\n      setTimeout(() => display_loaded(error), 100);\n    }\n  }\n\n  function run_callbacks() {\n    try {\n      root._bokeh_onload_callbacks.forEach(function(callback) {\n        if (callback != null)\n          callback();\n      });\n    } finally {\n      delete root._bokeh_onload_callbacks\n    }\n    console.debug(\"Bokeh: all callbacks have finished\");\n  }\n\n  function load_libs(css_urls, js_urls, callback) {\n    if (css_urls == null) css_urls = [];\n    if (js_urls == null) js_urls = [];\n\n    root._bokeh_onload_callbacks.push(callback);\n    if (root._bokeh_is_loading > 0) {\n      console.debug(\"Bokeh: BokehJS is being loaded, scheduling callback at\", now());\n      return null;\n    }\n    if (js_urls == null || js_urls.length === 0) {\n      run_callbacks();\n      return null;\n    }\n    console.debug(\"Bokeh: BokehJS not loaded, scheduling load and callback at\", now());\n    root._bokeh_is_loading = css_urls.length + js_urls.length;\n\n    function on_load() {\n      root._bokeh_is_loading--;\n      if (root._bokeh_is_loading === 0) {\n        console.debug(\"Bokeh: all BokehJS libraries/stylesheets loaded\");\n        run_callbacks()\n      }\n    }\n\n    function on_error(url) {\n      console.error(\"failed to load \" + url);\n    }\n\n    for (let i = 0; i < css_urls.length; i++) {\n      const url = css_urls[i];\n      const element = document.createElement(\"link\");\n      element.onload = on_load;\n      element.onerror = on_error.bind(null, url);\n      element.rel = \"stylesheet\";\n      element.type = \"text/css\";\n      element.href = url;\n      console.debug(\"Bokeh: injecting link tag for BokehJS stylesheet: \", url);\n      document.body.appendChild(element);\n    }\n\n    for (let i = 0; i < js_urls.length; i++) {\n      const url = js_urls[i];\n      const element = document.createElement('script');\n      element.onload = on_load;\n      element.onerror = on_error.bind(null, url);\n      element.async = false;\n      element.src = url;\n      console.debug(\"Bokeh: injecting script tag for BokehJS library: \", url);\n      document.head.appendChild(element);\n    }\n  };\n\n  function inject_raw_css(css) {\n    const element = document.createElement(\"style\");\n    element.appendChild(document.createTextNode(css));\n    document.body.appendChild(element);\n  }\n\n  const js_urls = [\"https://cdn.holoviz.org/panel/1.5.5/dist/bundled/reactiveesm/es-module-shims@^1.10.0/dist/es-module-shims.min.js\", \"https://cdn.bokeh.org/bokeh/release/bokeh-3.6.2.min.js\", \"https://cdn.bokeh.org/bokeh/release/bokeh-gl-3.6.2.min.js\", \"https://cdn.bokeh.org/bokeh/release/bokeh-widgets-3.6.2.min.js\", \"https://cdn.bokeh.org/bokeh/release/bokeh-tables-3.6.2.min.js\", \"https://cdn.bokeh.org/bokeh/release/bokeh-mathjax-3.6.2.min.js\", \"https://unpkg.com/@holoviz/panel@1.5.5/dist/panel.min.js\"];\n  const css_urls = [];\n\n  const inline_js = [    function(Bokeh) {\n      Bokeh.set_log_level(\"info\");\n    },\nfunction(Bokeh) {\n    }\n  ];\n\n  function run_inline_js() {\n    if (root.Bokeh !== undefined || force === true) {\n      try {\n            for (let i = 0; i < inline_js.length; i++) {\n      inline_js[i].call(root, root.Bokeh);\n    }\n\n      } catch (error) {display_loaded(error);throw error;\n      }if (force === true) {\n        display_loaded();\n      }} else if (Date.now() < root._bokeh_timeout) {\n      setTimeout(run_inline_js, 100);\n    } else if (!root._bokeh_failed_load) {\n      console.log(\"Bokeh: BokehJS failed to load within specified timeout.\");\n      root._bokeh_failed_load = true;\n    } else if (force !== true) {\n      const cell = $(document.getElementById(\"d283cae2-8b91-47db-b489-e813683157ea\")).parents('.cell').data().cell;\n      cell.output_area.append_execute_result(NB_LOAD_WARNING)\n    }\n  }\n\n  if (root._bokeh_is_loading === 0) {\n    console.debug(\"Bokeh: BokehJS loaded, going straight to plotting\");\n    run_inline_js();\n  } else {\n    load_libs(css_urls, js_urls, function() {\n      console.debug(\"Bokeh: BokehJS plotting callback run at\", now());\n      run_inline_js();\n    });\n  }\n}(window));",
      "application/vnd.bokehjs_load.v0+json": ""
     },
     "metadata": {},
     "output_type": "display_data"
    },
    {
     "data": {},
     "metadata": {},
     "output_type": "display_data"
    },
    {
     "data": {
      "application/vnd.holoviews_exec.v0+json": "",
      "text/html": [
       "<div id='86b50f51-8e25-4400-b550-aef65df7d903'>\n",
       "  <div id=\"f4c20586-d94e-4e98-98e0-be22b7957a6c\" data-root-id=\"86b50f51-8e25-4400-b550-aef65df7d903\" style=\"display: contents;\"></div>\n",
       "</div>\n",
       "<script type=\"application/javascript\">(function(root) {\n",
       "  var docs_json = {\"028eb48b-8079-4d88-9211-12f72ef38c29\":{\"version\":\"3.6.2\",\"title\":\"Bokeh Application\",\"roots\":[{\"type\":\"object\",\"name\":\"Row\",\"id\":\"86b50f51-8e25-4400-b550-aef65df7d903\",\"attributes\":{\"name\":\"Row03916\",\"tags\":[\"embedded\"],\"stylesheets\":[\"\\n:host(.pn-loading):before, .pn-loading:before {\\n  background-color: #c3c3c3;\\n  mask-size: auto calc(min(50%, 400px));\\n  -webkit-mask-size: auto calc(min(50%, 400px));\\n}\",{\"type\":\"object\",\"name\":\"ImportedStyleSheet\",\"id\":\"407fed2c-0542-4b13-818b-50c5a255cd67\",\"attributes\":{\"url\":\"https://cdn.holoviz.org/panel/1.5.5/dist/css/loading.css\"}},{\"type\":\"object\",\"name\":\"ImportedStyleSheet\",\"id\":\"ee9bb27f-36f0-409b-9c13-56936414f713\",\"attributes\":{\"url\":\"https://cdn.holoviz.org/panel/1.5.5/dist/css/listpanel.css\"}},{\"type\":\"object\",\"name\":\"ImportedStyleSheet\",\"id\":\"c5194614-eda1-41f5-b20c-41ee83850845\",\"attributes\":{\"url\":\"https://cdn.holoviz.org/panel/1.5.5/dist/bundled/theme/default.css\"}},{\"type\":\"object\",\"name\":\"ImportedStyleSheet\",\"id\":\"3b31ef77-40f5-4a96-964a-dcc19141cef3\",\"attributes\":{\"url\":\"https://cdn.holoviz.org/panel/1.5.5/dist/bundled/theme/native.css\"}}],\"min_width\":800,\"margin\":0,\"sizing_mode\":\"stretch_width\",\"align\":\"start\",\"children\":[{\"type\":\"object\",\"name\":\"Spacer\",\"id\":\"4714881a-d5f5-493a-a432-b47881cfa79b\",\"attributes\":{\"name\":\"HSpacer03920\",\"stylesheets\":[\"\\n:host(.pn-loading):before, .pn-loading:before {\\n  background-color: #c3c3c3;\\n  mask-size: auto calc(min(50%, 400px));\\n  -webkit-mask-size: auto calc(min(50%, 400px));\\n}\",{\"id\":\"407fed2c-0542-4b13-818b-50c5a255cd67\"},{\"id\":\"c5194614-eda1-41f5-b20c-41ee83850845\"},{\"id\":\"3b31ef77-40f5-4a96-964a-dcc19141cef3\"}],\"margin\":0,\"sizing_mode\":\"stretch_width\",\"align\":\"start\"}},{\"type\":\"object\",\"name\":\"Figure\",\"id\":\"badc7260-90df-457a-9420-6272e17e8141\",\"attributes\":{\"width\":800,\"margin\":[5,10],\"sizing_mode\":\"fixed\",\"align\":\"start\",\"x_range\":{\"type\":\"object\",\"name\":\"Range1d\",\"id\":\"76e58564-faa5-472c-90cf-50155103b316\",\"attributes\":{\"name\":\"x\",\"tags\":[[[\"x\",null]],[]],\"start\":-41.75,\"end\":1238.75,\"reset_start\":-41.75,\"reset_end\":1238.75}},\"y_range\":{\"type\":\"object\",\"name\":\"Range1d\",\"id\":\"c475f123-0dde-4499-ae87-7ffef2feb7ac\",\"attributes\":{\"name\":\"y\",\"tags\":[[[\"y\",null]],{\"type\":\"map\",\"entries\":[[\"invert_yaxis\",false],[\"autorange\",false]]}],\"start\":-24.999999999999996,\"end\":524.9999999999999,\"reset_start\":-24.999999999999996,\"reset_end\":524.9999999999999}},\"x_scale\":{\"type\":\"object\",\"name\":\"LinearScale\",\"id\":\"e8922daa-129c-4967-b2a2-bc542817933c\"},\"y_scale\":{\"type\":\"object\",\"name\":\"LinearScale\",\"id\":\"4d4b8faa-c408-4e61-9ff7-d03c48e1157e\"},\"title\":{\"type\":\"object\",\"name\":\"Title\",\"id\":\"a9878dfb-fc26-447d-9929-8324b33c2e26\",\"attributes\":{\"text\":\"Dallas IPA Financials\",\"text_color\":\"black\",\"text_font_size\":\"12pt\"}},\"outline_line_alpha\":0,\"renderers\":[{\"type\":\"object\",\"name\":\"GraphRenderer\",\"id\":\"612988dd-836e-45cc-844f-6ae9f5c13618\",\"attributes\":{\"layout_provider\":{\"type\":\"object\",\"name\":\"StaticLayoutProvider\",\"id\":\"f4cc040d-a558-4e90-a9c9-d379f0edfdf1\",\"attributes\":{\"graph_layout\":{\"type\":\"map\",\"entries\":[[0,[7.5,210.91136676354733]],[1,[7.5,432.11618587900415]],[2,[335.8333333333333,214.54775959380277]],[3,[992.5,39.931153]],[4,[664.1666666666666,267.15461208315213]],[5,[992.5,146.3339071841652]],[6,[992.5,259.6213423726334]],[7,[992.5,376.8674696402753]],[8,[992.5,456.93631673924256]],[9,[992.5,493.2874354561101]]]}}},\"node_renderer\":{\"type\":\"object\",\"name\":\"GlyphRenderer\",\"id\":\"47e361cf-9fca-4c84-a141-07c859fcd33a\",\"attributes\":{\"data_source\":{\"type\":\"object\",\"name\":\"ColumnDataSource\",\"id\":\"ee261a67-02e1-42d0-9d58-c6345dd4d99f\",\"attributes\":{\"selected\":{\"type\":\"object\",\"name\":\"Selection\",\"id\":\"accf92a6-322a-4dfd-9fa0-e86c4ba37ec4\",\"attributes\":{\"indices\":[],\"line_indices\":[]}},\"selection_policy\":{\"type\":\"object\",\"name\":\"UnionRenderers\",\"id\":\"c16c23ef-f2c4-4e38-a668-e81ade931a86\"},\"data\":{\"type\":\"map\",\"entries\":[[\"index\",{\"type\":\"ndarray\",\"array\":{\"type\":\"bytes\",\"data\":\"AAAAAAEAAAACAAAAAwAAAAQAAAAFAAAABgAAAAcAAAAIAAAACQAAAA==\"},\"shape\":[10],\"dtype\":\"int32\",\"order\":\"little\"}],[\"index_str__\",[\"0\",\"1\",\"2\",\"3\",\"4\",\"5\",\"6\",\"7\",\"8\",\"9\"]],[\"x0\",[0.0,0.0,328.3333333333333,985.0,656.6666666666666,985.0,985.0,985.0,985.0,985.0]],[\"x1\",[15.0,15.0,343.3333333333333,1000.0,671.6666666666666,1000.0,1000.0,1000.0,1000.0,1000.0]],[\"y0\",[10.395015527094667,431.42771775800827,13.342940187605532,0.0,107.08576516630424,99.86230636833042,212.8055077452668,326.4371772805506,447.2977624784852,486.57487091222015]],[\"y1\",[411.427718,432.804654,415.752579,79.862306,427.223459,192.805508,306.437177,427.297762,466.574871,500.0]]]}}},\"view\":{\"type\":\"object\",\"name\":\"CDSView\",\"id\":\"9210c572-b346-4cab-bc8b-cc247ee08e05\",\"attributes\":{\"filter\":{\"type\":\"object\",\"name\":\"AllIndices\",\"id\":\"855f439d-2d23-436c-aad5-6edc0003ce87\"}}},\"glyph\":{\"type\":\"object\",\"name\":\"Scatter\",\"id\":\"620de56d-cd98-4938-b80d-56d60f390745\",\"attributes\":{\"size\":{\"type\":\"value\",\"value\":10},\"fill_color\":{\"type\":\"field\",\"field\":\"index_str__\",\"transform\":{\"type\":\"object\",\"name\":\"CategoricalColorMapper\",\"id\":\"948e30a3-e372-4d03-bc7b-cff84b9837b2\",\"attributes\":{\"palette\":[\"#1f77b4\",\"#aec7e8\",\"#ff7f0e\",\"#ffbb78\",\"#2ca02c\",\"#98df8a\",\"#d62728\",\"#ff9896\",\"#9467bd\",\"#c5b0d5\"],\"factors\":[\"0\",\"1\",\"2\",\"3\",\"4\",\"5\",\"6\",\"7\",\"8\",\"9\"]}}}}},\"selection_glyph\":{\"type\":\"object\",\"name\":\"Scatter\",\"id\":\"34766608-e786-4055-9fad-2f8c62786117\",\"attributes\":{\"size\":{\"type\":\"value\",\"value\":10},\"fill_color\":{\"type\":\"field\",\"field\":\"index_str__\",\"transform\":{\"id\":\"948e30a3-e372-4d03-bc7b-cff84b9837b2\"}}}},\"nonselection_glyph\":{\"type\":\"object\",\"name\":\"Scatter\",\"id\":\"77150ff0-fe46-42fb-9ab3-07af46b55777\",\"attributes\":{\"size\":{\"type\":\"value\",\"value\":10},\"line_alpha\":{\"type\":\"value\",\"value\":0.2},\"fill_color\":{\"type\":\"field\",\"field\":\"index_str__\",\"transform\":{\"id\":\"948e30a3-e372-4d03-bc7b-cff84b9837b2\"}},\"fill_alpha\":{\"type\":\"value\",\"value\":0.2},\"hatch_alpha\":{\"type\":\"value\",\"value\":0.2}}},\"hover_glyph\":{\"type\":\"object\",\"name\":\"Scatter\",\"id\":\"463bdfe7-f548-4052-b435-af659b8d8a76\",\"attributes\":{\"size\":{\"type\":\"value\",\"value\":10},\"fill_color\":{\"type\":\"field\",\"field\":\"index_str__\",\"transform\":{\"id\":\"948e30a3-e372-4d03-bc7b-cff84b9837b2\"}}}},\"muted_glyph\":{\"type\":\"object\",\"name\":\"Scatter\",\"id\":\"98356e48-8c76-4f0d-aa9e-20ba13eee64c\",\"attributes\":{\"size\":{\"type\":\"value\",\"value\":10},\"line_alpha\":{\"type\":\"value\",\"value\":0.2},\"fill_color\":{\"type\":\"field\",\"field\":\"index_str__\",\"transform\":{\"id\":\"948e30a3-e372-4d03-bc7b-cff84b9837b2\"}},\"fill_alpha\":{\"type\":\"value\",\"value\":0.2},\"hatch_alpha\":{\"type\":\"value\",\"value\":0.2}}}}},\"edge_renderer\":{\"type\":\"object\",\"name\":\"GlyphRenderer\",\"id\":\"e29e1670-7236-4b86-9360-b47fc930fa31\",\"attributes\":{\"data_source\":{\"type\":\"object\",\"name\":\"ColumnDataSource\",\"id\":\"21e961b1-6eb1-40ab-8bff-686b25e95ba4\",\"attributes\":{\"selected\":{\"type\":\"object\",\"name\":\"Selection\",\"id\":\"57b6dc20-a61e-4bc8-b649-1542a1abe210\",\"attributes\":{\"indices\":[],\"line_indices\":[]}},\"selection_policy\":{\"type\":\"object\",\"name\":\"UnionRenderers\",\"id\":\"9433f166-fcc1-4375-9b1c-b76928054ac4\"},\"data\":{\"type\":\"map\",\"entries\":[[\"start\",{\"type\":\"ndarray\",\"array\":{\"type\":\"bytes\",\"data\":\"AAAAAAEAAAACAAAAAgAAAAQAAAAEAAAABAAAAAQAAAAEAAAA\"},\"shape\":[9],\"dtype\":\"int32\",\"order\":\"little\"}],[\"end\",{\"type\":\"ndarray\",\"array\":{\"type\":\"bytes\",\"data\":\"AgAAAAIAAAADAAAABAAAAAUAAAAGAAAABwAAAAgAAAAJAAAA\"},\"shape\":[9],\"dtype\":\"int32\",\"order\":\"little\"}],[\"source_str__\",[\"0\",\"1\",\"2\",\"2\",\"4\",\"4\",\"4\",\"4\",\"4\"]],[\"xs\",[{\"type\":\"ndarray\",\"array\":{\"type\":\"bytes\",\"data\":\"AAAAAAAALkAAAAAAAAAuQAAAAAAAAC5APTaWXRRmOEBh/pkzA7ZAQAMkK672CkVAMQY9PvAzSUAjH46D+zJNQIh07g4ShVBAF+9z1rpdUkBUvDbofSRUQF0ZFhRh2lVATUPxKWqAV0A+d6f5nhdZQEzyF1MFoVpAjfEhBqMdXEAhsqTifY5dQB1xf7ib9F5A0LXIK4EoYEBh79zHW9JgQM0DbJhgeGFApZFlhRIbYkBzN7l29LpiQMaTVlSJWGNALEUtBlT0Y0Av6ix0145kQGAhRYaWKGVASollJBTCZUB4wH0201tmQH5lfaRW9mZA5BZUViGSZ0A2c/Ezti9oQAQZRSWYz2hA3KY+EkpyaUBJu83iThhqQNv04X4pwmpAHPJqzlxwa0CaUVi5ayNsQOKxmSfZ22xAhLEeASiabUAK79Yt215uQAIJspV1Km9A+p2fIHr9b0BApkfbNWxwQJBZuJ/m3XBAMriZ0RBUcUBwkePk9c5xQI60jU3XTnJA1PCPf/bTckCJFeLulF5zQPHxew/07nNAVVVVVVWFdEBVVVVVVYV0QFVVVVVVhXRAVVVVVVWFdEDy8XsP9O5zQIgV4u6UXnNA1vCPf/bTckCQtI1N105yQHGR4+T1znFAMriZ0RBUcUCQWbif5t1wQEGmR9s1bHBA/Z2fIHr9b0ADCbKVdSpvQAnv1i3bXm5Ag7EeASiabUDisZkn2dtsQJpRWLlrI2xAHfJqzlxwa0Db9OF+KcJqQEy7zeJOGGpA3KY+EkpyaUAFGUUlmM9oQDZz8TO2L2hA4hZUViGSZ0B+ZX2kVvZmQHrAfTbTW2ZASollJBTCZUBgIUWGlihlQDHqLHTXjmRALEUtBlT0Y0DJk1ZUiVhjQHQ3uXb0umJAppFlhRIbYkDOA2yYYHhhQGDv3Mdb0mBA0LXIK4EoYEAecX+4m/ReQCOypOJ9jl1AkfEhBqMdXEBO8hdTBaFaQEB3p/meF1lAUUPxKWqAV0BgGRYUYdpVQFW8Nuh9JFRAFu9z1rpdUkCIdO4OEoVQQCofjoP7Mk1ANgY9PvAzSUAGJCuu9gpFQGb+mTMDtkBAQTaWXRRmOEAAAAAAAAAuQA==\"},\"shape\":[104],\"dtype\":\"float64\",\"order\":\"little\"},{\"type\":\"ndarray\",\"array\":{\"type\":\"bytes\",\"data\":\"AAAAAAAALkAAAAAAAAAuQAAAAAAAAC5APTaWXRRmOEBh/pkzA7ZAQAMkK672CkVAMQY9PvAzSUAjH46D+zJNQIh07g4ShVBAF+9z1rpdUkBUvDbofSRUQF0ZFhRh2lVATUPxKWqAV0A+d6f5nhdZQEzyF1MFoVpAjfEhBqMdXEAhsqTifY5dQB1xf7ib9F5A0LXIK4EoYEBh79zHW9JgQM0DbJhgeGFApZFlhRIbYkBzN7l29LpiQMaTVlSJWGNALEUtBlT0Y0Av6ix0145kQGAhRYaWKGVASollJBTCZUB4wH0201tmQH5lfaRW9mZA5BZUViGSZ0A2c/Ezti9oQAQZRSWYz2hA3KY+EkpyaUBJu83iThhqQNv04X4pwmpAHPJqzlxwa0CaUVi5ayNsQOKxmSfZ22xAhLEeASiabUAK79Yt215uQAIJspV1Km9A+p2fIHr9b0BApkfbNWxwQJBZuJ/m3XBAMriZ0RBUcUBwkePk9c5xQI60jU3XTnJA1PCPf/bTckCJFeLulF5zQPHxew/07nNAVVVVVVWFdEBVVVVVVYV0QFVVVVVVhXRAVVVVVVWFdEDy8XsP9O5zQIgV4u6UXnNA1vCPf/bTckCQtI1N105yQHGR4+T1znFAMriZ0RBUcUCQWbif5t1wQEGmR9s1bHBA/Z2fIHr9b0ADCbKVdSpvQAnv1i3bXm5Ag7EeASiabUDisZkn2dtsQJpRWLlrI2xAHfJqzlxwa0Db9OF+KcJqQEy7zeJOGGpA3KY+EkpyaUAFGUUlmM9oQDZz8TO2L2hA4hZUViGSZ0B+ZX2kVvZmQHrAfTbTW2ZASollJBTCZUBgIUWGlihlQDHqLHTXjmRALEUtBlT0Y0DJk1ZUiVhjQHQ3uXb0umJAppFlhRIbYkDOA2yYYHhhQGDv3Mdb0mBA0LXIK4EoYEAecX+4m/ReQCOypOJ9jl1AkfEhBqMdXEBO8hdTBaFaQEB3p/meF1lAUUPxKWqAV0BgGRYUYdpVQFW8Nuh9JFRAFu9z1rpdUkCIdO4OEoVQQCofjoP7Mk1ANgY9PvAzSUAGJCuu9gpFQGb+mTMDtkBAQTaWXRRmOEAAAAAAAAAuQA==\"},\"shape\":[104],\"dtype\":\"float64\",\"order\":\"little\"},{\"type\":\"ndarray\",\"array\":{\"type\":\"bytes\",\"data\":\"VVVVVVV1dUBVVVVVVXV1QFVVVVVVdXVAnZRl1UqpdkC//H9o8tB3QJjouRjS7HhAALMo8G/9eUDVtuH4UQN7QPJO+jz+/ntANdaHxvrwfEB1p5+fzdl9QI0dV9L8uX5AXJPDaA6Sf0DfMX02RDGAQMZ0iHT4lYBA0T+O82b3gEBwQJm40lWBQA0ktMh+sYFAF5jpKK4KgkD9SUTeo2GCQCrnzu2itoJAEB2UXO4Jg0AYmZ4vyVuDQLQI+Wt2rINAURmuFjn8g0BaeMg0VEuEQD/TUssKmoRAbNdX35/ohEBPMuJ1VjeFQFqR/JNxhoVA9qGxPjTWhUCSEQx74SaGQJqNFk68eIZAgMPbvAfMhkCuYGbMBiGHQJQSwYH8d4dAnob24SvRh0A7ahHy1yyIQNhqHLdDi4hA5DUiNrLsiEDKeC10ZlGJQPvgSHajuYlA5Bt/QawlikDw1traw5WKQJC/ZkctCotAMYMtjCuDi0A+zzmuAQGMQCpRlrLyg4xAX7ZNnkEMjUBLrGp2MZqNQFzg9z8FLo5AAAAAAADIjkAAAAAAAMiOQAAAAAAAyI5AAAAAAADIjkBb4Pc/BS6OQEmsanYxmo1AX7ZNnkEMjUAqUZay8oOMQEDPOa4BAYxAMIMtjCuDi0CSv2ZHLQqLQPLW2trDlYpA5Rt/QawlikD74Eh2o7mJQMl4LXRmUYlA4jUiNrLsiEDYahy3Q4uIQDxqEfLXLIhAn4b24SvRh0CVEsGB/HeHQK5gZswGIYdAf8PbvAfMhkCajRZOvHiGQJARDHvhJoZA9aGxPjTWhUBakfyTcYaFQFEy4nVWN4VAbddX35/ohEA+01LLCpqEQFp4yDRUS4RAUBmuFjn8g0C1CPlrdqyDQBmZni/JW4NADx2UXO4Jg0As587toraCQPxJRN6jYYJAF5jpKK4KgkAMJLTIfrGBQHBAmbjSVYFA0j+O82b3gEDHdIh0+JWAQOAxfTZEMYBAXpPDaA6Sf0CPHVfS/Ll+QHSnn5/N2X1ANdaHxvrwfEDyTvo8/v57QNe24fhRA3tAAbMo8G/9eUCY6LkY0ux4QMD8f2jy0HdAnpRl1UqpdkBVVVVVVXV1QA==\"},\"shape\":[104],\"dtype\":\"float64\",\"order\":\"little\"},{\"type\":\"ndarray\",\"array\":{\"type\":\"bytes\",\"data\":\"VVVVVVV1dUBVVVVVVXV1QFVVVVVVdXVAuLgum7YLdkAflci7FZx2QNa5Giu0JndAG/YcXdOrd0A6GcfFtCt4QHbyENmZpnhAHFHyCsQceUBrBGPPdI55QK3bWprt+3lAJ6bR329lekAlM78TPct6QOhRG6qWLXtAudHdFr6Me0Degf7N9Oh7QJ4xdUN8QnxAPrA565WZfEAGzUM5g+58QDxXi6GFQX1AKB4ImN6SfUAN8bGQz+J9QDifgP+ZMX5A7PdrWH9/fkBtymsPwcx+QAbmd5igGX9A+hmIZ19mf0CSNZTwPrN/QAoEylNAAIBAY7A/ADMngEB4B6c3mE6AQOzw+7OQdoBAYlQ6Lz2fgEB8GV5jvsiAQOInYwo184BAMWdF3sEegUARvwCZhUuBQCQXkfSgeYFADFfyqjSpgUBuZiB2YdqBQOssFxBIDYJAKZLSMglCgkDLfU6YxXiCQHLXhvqdsYJAxIZ3E7PsgkBicxydJSqDQPKEcVEWaoNAFKNy6qWsg0BvtRsi9fGDQKOjaLIkOoRAVVVVVVWFhEBVVVVVVYWEQFVVVVVVhYRAVVVVVVWFhECko2iyJDqEQG61GyL18YNAFqNy6qWsg0DyhHFRFmqDQGJzHJ0lKoNAxIZ3E7PsgkBz14b6nbGCQMt9TpjFeIJAKpLSMglCgkDsLBcQSA2CQGxmIHZh2oFAC1fyqjSpgUAjF5H0oHmBQBG/AJmFS4FAMmdF3sEegUDiJ2MKNfOAQH4ZXmO+yIBAYVQ6Lz2fgEDs8PuzkHaAQHgHpzeYToBAY7A/ADMngEAKBMpTQACAQJM1lPA+s39A+hmIZ19mf0AG5neYoBl/QG7Kaw/BzH5A6/drWH9/fkA6n4D/mTF+QA/xsZDP4n1AKR4ImN6SfUA9V4uhhUF9QAXNQzmD7nxAPbA565WZfECcMXVDfEJ8QN+B/s306HtAutHdFr6Me0DpURuqli17QCYzvxM9y3pAKqbR329lekCt21qa7ft5QGoEY890jnlAGlHyCsQceUB28hDZmaZ4QDoZx8W0K3hAHPYcXdOrd0DWuRortCZ3QCGVyLsVnHZAubgum7YLdkBVVVVVVXV1QA==\"},\"shape\":[104],\"dtype\":\"float64\",\"order\":\"little\"},{\"type\":\"ndarray\",\"array\":{\"type\":\"bytes\",\"data\":\"VVVVVVX9hEBVVVVVVf2EQFVVVVVV/YRABgdC+IVIhUA79Y6ItZCFQJYHOMAE1oVAtyU5WZQYhkBIN44NhViGQOYjM5f3lYZAOtMjsAzRhkDhLFwS5QmHQIIY2HehQIdAvX2TmmJ1h0A8RIo0SaiHQJ1TuP912YdAhpMZtgkJiECZ66kRJTeIQHpDZczoY4hAyYJHoHWPiEAukUxH7LmIQEhWcHtt44hAv7mu9hkMiUAwowNzEjSJQEb6aqp3W4lAoabgVmqCiUDhj2AyC6mJQK2d5vZ6z4lAp7duXtr1iUBzxfQiShyKQLSudP7qQopADlvqqt1pikAislHiQpGKQJabpl47uYpADf/k2efhikAnxAgOaQuLQIzSDbXfNYtA3BHwiGxhi0C8aatDMI6LQM7BO59LvItAtgGdVd/ri0AYEcsgDB2MQJbXwbryT4xA1Dx93bOEjEB1KPlCcLuMQB2CMaVI9IxAbzEivl0vjUANHsdH0GyNQJwvHPzArI1AwE0dlVDvjUAaYMbMnzSOQE5OE13PfI5AAAAAAADIjkAAAAAAAMiOQAAAAAAAyI5AAAAAAADIjkBNThNdz3yOQBlgxsyfNI5AwE0dlVDvjUCcLxz8wKyNQA4ex0fQbI1AbzEivl0vjUAfgjGlSPSMQHgo+UJwu4xA1Dx93bOEjECU18G68k+MQBYRyyAMHYxAtAGdVd/ri0DOwTufS7yLQLxpq0MwjotA3RHwiGxhi0CN0g213zWLQCjECA5pC4tADP/k2efhikCXm6ZeO7mKQCGyUeJCkYpADFvqqt1pikC1rnT+6kKKQHPF9CJKHIpAqLduXtr1iUCsneb2es+JQOCPYDILqYlAoKbgVmqCiUBI+mqqd1uJQDKjA3MSNIlAv7mu9hkMiUBIVnB7beOIQC2RTEfsuYhAyYJHoHWPiEB5Q2XM6GOIQJrrqRElN4hAiJMZtgkJiECfU7j/ddmHQD1EijRJqIdAv32TmmJ1h0CBGNh3oUCHQOAsXBLlCYdAONMjsAzRhkDmIzOX95WGQEc3jg2FWIZAuCU5WZQYhkCVBzjABNaFQDz1joi1kIVABwdC+IVIhUBVVVVVVf2EQA==\"},\"shape\":[104],\"dtype\":\"float64\",\"order\":\"little\"},{\"type\":\"ndarray\",\"array\":{\"type\":\"bytes\",\"data\":\"VVVVVVX9hEBVVVVVVf2EQFVVVVVV/YRABgdC+IVIhUA79Y6ItZCFQJYHOMAE1oVAtyU5WZQYhkBIN44NhViGQOYjM5f3lYZAOtMjsAzRhkDhLFwS5QmHQIIY2HehQIdAvX2TmmJ1h0A8RIo0SaiHQJ1TuP912YdAhpMZtgkJiECZ66kRJTeIQHpDZczoY4hAyYJHoHWPiEAukUxH7LmIQEhWcHtt44hAv7mu9hkMiUAwowNzEjSJQEb6aqp3W4lAoabgVmqCiUDhj2AyC6mJQK2d5vZ6z4lAp7duXtr1iUBzxfQiShyKQLSudP7qQopADlvqqt1pikAislHiQpGKQJabpl47uYpADf/k2efhikAnxAgOaQuLQIzSDbXfNYtA3BHwiGxhi0C8aatDMI6LQM7BO59LvItAtgGdVd/ri0AYEcsgDB2MQJbXwbryT4xA1Dx93bOEjEB1KPlCcLuMQB2CMaVI9IxAbzEivl0vjUANHsdH0GyNQJwvHPzArI1AwE0dlVDvjUAaYMbMnzSOQE5OE13PfI5AAAAAAADIjkAAAAAAAMiOQAAAAAAAyI5AAAAAAADIjkBNThNdz3yOQBlgxsyfNI5AwE0dlVDvjUCcLxz8wKyNQA4ex0fQbI1AbzEivl0vjUAfgjGlSPSMQHgo+UJwu4xA1Dx93bOEjECU18G68k+MQBYRyyAMHYxAtAGdVd/ri0DOwTufS7yLQLxpq0MwjotA3RHwiGxhi0CN0g213zWLQCjECA5pC4tADP/k2efhikCXm6ZeO7mKQCGyUeJCkYpADFvqqt1pikC1rnT+6kKKQHPF9CJKHIpAqLduXtr1iUCsneb2es+JQOCPYDILqYlAoKbgVmqCiUBI+mqqd1uJQDKjA3MSNIlAv7mu9hkMiUBIVnB7beOIQC2RTEfsuYhAyYJHoHWPiEB5Q2XM6GOIQJrrqRElN4hAiJMZtgkJiECfU7j/ddmHQD1EijRJqIdAv32TmmJ1h0CBGNh3oUCHQOAsXBLlCYdAONMjsAzRhkDmIzOX95WGQEc3jg2FWIZAuCU5WZQYhkCVBzjABNaFQDz1joi1kIVABwdC+IVIhUBVVVVVVf2EQA==\"},\"shape\":[104],\"dtype\":\"float64\",\"order\":\"little\"},{\"type\":\"ndarray\",\"array\":{\"type\":\"bytes\",\"data\":\"VVVVVVX9hEBVVVVVVf2EQFVVVVVV/YRABgdC+IVIhUA79Y6ItZCFQJYHOMAE1oVAtyU5WZQYhkBIN44NhViGQOYjM5f3lYZAOtMjsAzRhkDhLFwS5QmHQIIY2HehQIdAvX2TmmJ1h0A8RIo0SaiHQJ1TuP912YdAhpMZtgkJiECZ66kRJTeIQHpDZczoY4hAyYJHoHWPiEAukUxH7LmIQEhWcHtt44hAv7mu9hkMiUAwowNzEjSJQEb6aqp3W4lAoabgVmqCiUDhj2AyC6mJQK2d5vZ6z4lAp7duXtr1iUBzxfQiShyKQLSudP7qQopADlvqqt1pikAislHiQpGKQJabpl47uYpADf/k2efhikAnxAgOaQuLQIzSDbXfNYtA3BHwiGxhi0C8aatDMI6LQM7BO59LvItAtgGdVd/ri0AYEcsgDB2MQJbXwbryT4xA1Dx93bOEjEB1KPlCcLuMQB2CMaVI9IxAbzEivl0vjUANHsdH0GyNQJwvHPzArI1AwE0dlVDvjUAaYMbMnzSOQE5OE13PfI5AAAAAAADIjkAAAAAAAMiOQAAAAAAAyI5AAAAAAADIjkBNThNdz3yOQBlgxsyfNI5AwE0dlVDvjUCcLxz8wKyNQA4ex0fQbI1AbzEivl0vjUAfgjGlSPSMQHgo+UJwu4xA1Dx93bOEjECU18G68k+MQBYRyyAMHYxAtAGdVd/ri0DOwTufS7yLQLxpq0MwjotA3RHwiGxhi0CN0g213zWLQCjECA5pC4tADP/k2efhikCXm6ZeO7mKQCGyUeJCkYpADFvqqt1pikC1rnT+6kKKQHPF9CJKHIpAqLduXtr1iUCsneb2es+JQOCPYDILqYlAoKbgVmqCiUBI+mqqd1uJQDKjA3MSNIlAv7mu9hkMiUBIVnB7beOIQC2RTEfsuYhAyYJHoHWPiEB5Q2XM6GOIQJrrqRElN4hAiJMZtgkJiECfU7j/ddmHQD1EijRJqIdAv32TmmJ1h0CBGNh3oUCHQOAsXBLlCYdAONMjsAzRhkDmIzOX95WGQEc3jg2FWIZAuCU5WZQYhkCVBzjABNaFQDz1joi1kIVABwdC+IVIhUBVVVVVVf2EQA==\"},\"shape\":[104],\"dtype\":\"float64\",\"order\":\"little\"},{\"type\":\"ndarray\",\"array\":{\"type\":\"bytes\",\"data\":\"VVVVVVX9hEBVVVVVVf2EQFVVVVVV/YRABgdC+IVIhUA79Y6ItZCFQJYHOMAE1oVAtyU5WZQYhkBIN44NhViGQOYjM5f3lYZAOtMjsAzRhkDhLFwS5QmHQIIY2HehQIdAvX2TmmJ1h0A8RIo0SaiHQJ1TuP912YdAhpMZtgkJiECZ66kRJTeIQHpDZczoY4hAyYJHoHWPiEAukUxH7LmIQEhWcHtt44hAv7mu9hkMiUAwowNzEjSJQEb6aqp3W4lAoabgVmqCiUDhj2AyC6mJQK2d5vZ6z4lAp7duXtr1iUBzxfQiShyKQLSudP7qQopADlvqqt1pikAislHiQpGKQJabpl47uYpADf/k2efhikAnxAgOaQuLQIzSDbXfNYtA3BHwiGxhi0C8aatDMI6LQM7BO59LvItAtgGdVd/ri0AYEcsgDB2MQJbXwbryT4xA1Dx93bOEjEB1KPlCcLuMQB2CMaVI9IxAbzEivl0vjUANHsdH0GyNQJwvHPzArI1AwE0dlVDvjUAaYMbMnzSOQE5OE13PfI5AAAAAAADIjkAAAAAAAMiOQAAAAAAAyI5AAAAAAADIjkBNThNdz3yOQBlgxsyfNI5AwE0dlVDvjUCcLxz8wKyNQA4ex0fQbI1AbzEivl0vjUAfgjGlSPSMQHgo+UJwu4xA1Dx93bOEjECU18G68k+MQBYRyyAMHYxAtAGdVd/ri0DOwTufS7yLQLxpq0MwjotA3RHwiGxhi0CN0g213zWLQCjECA5pC4tADP/k2efhikCXm6ZeO7mKQCGyUeJCkYpADFvqqt1pikC1rnT+6kKKQHPF9CJKHIpAqLduXtr1iUCsneb2es+JQOCPYDILqYlAoKbgVmqCiUBI+mqqd1uJQDKjA3MSNIlAv7mu9hkMiUBIVnB7beOIQC2RTEfsuYhAyYJHoHWPiEB5Q2XM6GOIQJrrqRElN4hAiJMZtgkJiECfU7j/ddmHQD1EijRJqIdAv32TmmJ1h0CBGNh3oUCHQOAsXBLlCYdAONMjsAzRhkDmIzOX95WGQEc3jg2FWIZAuCU5WZQYhkCVBzjABNaFQDz1joi1kIVABwdC+IVIhUBVVVVVVf2EQA==\"},\"shape\":[104],\"dtype\":\"float64\",\"order\":\"little\"},{\"type\":\"ndarray\",\"array\":{\"type\":\"bytes\",\"data\":\"VVVVVVX9hEBVVVVVVf2EQFVVVVVV/YRABgdC+IVIhUA79Y6ItZCFQJYHOMAE1oVAtyU5WZQYhkBIN44NhViGQOYjM5f3lYZAOtMjsAzRhkDhLFwS5QmHQIIY2HehQIdAvX2TmmJ1h0A8RIo0SaiHQJ1TuP912YdAhpMZtgkJiECZ66kRJTeIQHpDZczoY4hAyYJHoHWPiEAukUxH7LmIQEhWcHtt44hAv7mu9hkMiUAwowNzEjSJQEb6aqp3W4lAoabgVmqCiUDhj2AyC6mJQK2d5vZ6z4lAp7duXtr1iUBzxfQiShyKQLSudP7qQopADlvqqt1pikAislHiQpGKQJabpl47uYpADf/k2efhikAnxAgOaQuLQIzSDbXfNYtA3BHwiGxhi0C8aatDMI6LQM7BO59LvItAtgGdVd/ri0AYEcsgDB2MQJbXwbryT4xA1Dx93bOEjEB1KPlCcLuMQB2CMaVI9IxAbzEivl0vjUANHsdH0GyNQJwvHPzArI1AwE0dlVDvjUAaYMbMnzSOQE5OE13PfI5AAAAAAADIjkAAAAAAAMiOQAAAAAAAyI5AAAAAAADIjkBNThNdz3yOQBlgxsyfNI5AwE0dlVDvjUCcLxz8wKyNQA4ex0fQbI1AbzEivl0vjUAfgjGlSPSMQHgo+UJwu4xA1Dx93bOEjECU18G68k+MQBYRyyAMHYxAtAGdVd/ri0DOwTufS7yLQLxpq0MwjotA3RHwiGxhi0CN0g213zWLQCjECA5pC4tADP/k2efhikCXm6ZeO7mKQCGyUeJCkYpADFvqqt1pikC1rnT+6kKKQHPF9CJKHIpAqLduXtr1iUCsneb2es+JQOCPYDILqYlAoKbgVmqCiUBI+mqqd1uJQDKjA3MSNIlAv7mu9hkMiUBIVnB7beOIQC2RTEfsuYhAyYJHoHWPiEB5Q2XM6GOIQJrrqRElN4hAiJMZtgkJiECfU7j/ddmHQD1EijRJqIdAv32TmmJ1h0CBGNh3oUCHQOAsXBLlCYdAONMjsAzRhkDmIzOX95WGQEc3jg2FWIZAuCU5WZQYhkCVBzjABNaFQDz1joi1kIVABwdC+IVIhUBVVVVVVf2EQA==\"},\"shape\":[104],\"dtype\":\"float64\",\"order\":\"little\"}]],[\"ys\",[{\"type\":\"ndarray\",\"array\":{\"type\":\"bytes\",\"data\":\"Hi+V7te2eUBQkaR5P8okQFCRpHk/yiRAQjuGsRvMJEBI/v4SltEkQC2CzDSH2iRAtm6srcfmJECua1wUMPYkQNsgmv+YCCVADDYjBtsdJUACU7W+zjUlQIofDsBMUCVAakProC1tJUBvZgr4SYwlQF4wKVx6rSVAAUkFZJfQJUAhWFymefUlQIYF7Ln5GyZA+fhxNfBDJkBB2quvNW0mQChRV7+ilyZAdwUy+w/DJkD2nvn5Ve8mQG/Fa1JNHCdAqiBGm85JJ0BuWEZrsncnQIYUKlnRpSdAuvyu+wPUJ0DQuJLpIgIoQJbwkrkGMChA0EttAohdKEBJct9af4ooQMgLp1nFtihAGMCBlTLiKEAANy2lnwwpQEgYZx/lNSlAugvtmttdKUAeuXyuW4QpQD7I0/A9qSlA4eCv+FrMKUDQqs5ci+0pQNXN7bOnDCpAtvHKlIgpKkA+viOWBkQqQDbbtU76WypAZPA+VTxxKkCTpXxApYMqQIqiLKcNkypAFI8MIE6fKkD4EtpBP6gqQP7VUqO5rSpA8H8025WvKkDwfzTbla8qQJKuoaEC5nlAkq6hoQLmeUBCoeK/8+V5QCrb1uzH5XlADG/IY4DleUCnbwFgHuV5QL/vyxyj5HlAFQJy1Q/keUBvuT3FZeN5QIYoeSem4nlAIWJuN9LheUAAeWcw6+B5QOh/rk3y33lAmYmNyujeeUDUqE7iz915QFzwO9Co3HlA8nKfz3TbeUBVQ8MbNdp5QEx08e/q2HlAkxh0h5fXeUDyQpUdPNZ5QCMGn+3Z1HlA8XTbMnLTeUAXopQoBtJ5QFmgFAqX0HlAeYKlEibPeUA3W5F9tM15QFU9IoZDzHlAmDuiZ9TKeUC/aFtdaMl5QIzXl6IAyHlAvpqhcp7GeUAexcIIQ8V5QGRpRaDvw3lAW5pzdKXCeUDAapfAZcF5QFTt+r8xwHlA3DTorQq/eUAWVKnF8b15QMZdiELovHlAr2TPX++7eUCQe8hYCLt5QCy1vWg0unlARCT5ynS5eUCa28S6yrh5QPDtanM3uHlACm41MLy3eUCmbm4sWrd5QIYCYKMSt3lAbjxU0Oa2eUAeL5Xu17Z5QA==\"},\"shape\":[104],\"dtype\":\"float64\",\"order\":\"little\"},{\"type\":\"ndarray\",\"array\":{\"type\":\"bytes\",\"data\":\"IHfz3N8Me0AGaZPu1/Z6QAZpk+7X9npA0aZZ2YH2ekCoMIVZhPV6QDs/247m83pAMQshma/xekA+zRuY5u56QAy+kKuS63pAThZF87rnekCrDv6OZuN6QNTfgJ6c3npAeMKSQWTZekBD7/iXxNN6QOWeeMHEzXpACgrX3WvHekBhadkMwcB6QJb1RG7LuXpAWOfeIZKyekBUd2xHHKt6QDnesv5wo3pAs1R3Z5ebekBwE3+hlpN6QCFTj8x1i3pAc0xtCDyDekARON508Hp6QKtOpzGacnpA7ciNXkBqekCG31Yb6mF6QCXLx4eeWXpAdsSlw2RRekAmBLbuQ0l6QOXCvShDQXpAYTmCkWk5ekBEoMhIvjF6QEIwVm5IKnpAAiLwIQ8jekA4rluDGRx6QI4NXrJuFXpAsni8zhUPekBUKDz4FQl6QCBVok52A3pAxDe08T3+eUDuCDcBdPl5QEwB8Jwf9XlAi1mk5EfxeUBaShn48+15QGcMFPcq63lAXthZAfToeUDw5q82Vud5QMZw27ZY5nlAkq6hoQLmeUCSrqGhAuZ5QKy8AZAK/HlArLwBkAr8eUDhfjulYPx5QAn1DyVe/XlAeua57/v+eUCBGnTlMgF6QHRYeeb7A3pApmcE008HekBnD1CLJwt6QAkXl+97D3pA30UU4EUUekA4YwI9fhl6QGw2nOYdH3pAy4YcvR0lekCoG76gdit6QFC8u3EhMnpAHTBQEBc5ekBaPrZcUEB6QGCuKDfGR3pAekfif3FPekD/0B0XS1d6QD4SFt1LX3pAjtIFsmxnekA/2Sd2pm96QKHttgnyd3pAB9ftTEiAekDEXAcgooh6QCpGPmP4kHpAjlrN9kOZekA+Ye+6faF6QI0h34+eqXpAzGLXVZ+xekBS7BLteLl6QGyFzDUkwXpAcfU+EJrIekCwA6Vc0896QHp3OfvI1npAJRg3zHPdekAArdivzON6QF79WIbM6XpAk9DyL2zvekDu7eCMpPR6QMQcXn1u+XpAZiSl4cL9ekAmzPCZmgF7QFfbe4buBHtASxmBh7cHe0BTTTt97gl7QMM+5UeMC3tA7LS5x4kMe0Agd/Pc3wx7QA==\"},\"shape\":[104],\"dtype\":\"float64\",\"order\":\"little\"},{\"type\":\"ndarray\",\"array\":{\"type\":\"bytes\",\"data\":\"JldzwiJNV0DsfzTbla8qQOx/NNuVrypAWCrYYyqnKkBrcd3pXo4qQODAa8/lZSpAa4SqdnEuKkDEJ8FBtOgpQKQW15JglSlAxLwTzCg1KUDUhZ5Pv8goQJLdnn/WUChAsy88viDOJ0Dx551tUEEnQAJy6+8XqyZAnjlMpykMJkB6quf1N2UlQFMw5T31tiRA2jZs4RMCJEDJKaRCRkcjQNh0tMM+hyJAv4PExq/CIUA0wvutS/ogQPCbgdvELiBAV/n6YpvBHkA1oC0kMSIdQOwD6r6vgBtA7ft+93veGUCmXzuS+jwYQIQGblOQnRZA+Mdl/6EBFUBwe3FalGoTQF343yjM2RFAKRYAL65QEECQWEFiPqENQE4kIecHtgpAaz49dYLiB0DJVTOVdykFQDwZoc+wjQJAqDckrfcRAEDUv7RsK3L7P8eBwueoC/c/2hKt3Pr18j+XoV+5aG3uP7IyDPLQpuc/gJTWhVSj4T/6BGsuM9zYPyJwP5GMJNA/9cIv8gJswj/KP4ereJuwP58nq7ju1pA/AAAAAAAAAAAAAAAAAAAAACnHDAcw91NAKccMBzD3U0DbUfh1PfhTQPeoN+VW+1NAC9+FCGYAVECYBp6TVAdUQC4yOzoMEFRAUnQYsHYaVECQ3/CofSZUQG2Gf9gKNFRAdXt/8gdDVEAv0auqXlNUQCiav7T4ZFRA5uh1xL93VEDyz4mNnYtUQNdhtsN7oFRAHbG2GkS2VEBM0EVG4MxUQO7RHvo55FRAi8j86Tr8VECvxprJzBRVQN7es0zZLVVAqCMDJ0pHVUCRp0MMCWFVQCN9MLD/elVA6LaExheVVUBnZ/sCO69VQCyhTxlTyVVAvnY8vUnjVUCn+nyiCP1VQHA/zHx5FlZAoVfl/4UvVkDEVYPfF0hWQGFMYc8YYFZABE46g3J3VkAybcmuDo5WQHi8yQXXo1ZAXE72O7W4VkBpNQoFk8xWQCeEwBRa31ZAH03UHvTwVkDbogDXSgFXQOOXAPFHEFdAwj6PINUdV0D9qWcZ3ClXQCHsRI9GNFdAthfiNf48V0BEP/rA7ENXQFZ1SOT7SFdAc8yHUxVMV0AmV3PCIk1XQA==\"},\"shape\":[104],\"dtype\":\"float64\",\"order\":\"little\"},{\"type\":\"ndarray\",\"array\":{\"type\":\"bytes\",\"data\":\"/qPZrnzVeUAmV3PCIk1XQCZXc8IiTVdA3VRTDDtOV0B/rR1zdFFXQDrwkcS3VldAP6xvzu1dV0DDcHZe/2ZXQPfMZULVcVdAD1D9R1h+V0A4ifw8cYxXQKkHI+8InFdAj1owLAitV0AiEeTBV79XQJG6/X3g0ldAEOY8LovnV0DOImGgQP1XQP//KaLpE1hA1AxXAW8rWECA2KeLuUNYQDLy2w6yXFhAIumyWEF2WEB7TOw2UJBYQHarR3fHqlhAQ5WE54/FWEAQmWJVkuBYQBNGoY63+1hAfSsAYegWWUB/2D6aDTJZQE7cHAgQTVlAGcZZeNhnWUATJbW4T4JZQG6I7pZenFlAXX/F4O21WUARmflj5s5ZQL1kSu4w51lAknF3Tbb+WUDCTkBPXxVaQICLZMEUK1pA/rajcb8/WkBtYL0tSFNaQAAXccOXZVpA6Gl+AJd2WkBY6KSyLoZaQIMhpKdHlFpAmKQ7rcqgWkDMACuRoKtaQFHFMSGytFpAV4EPK+i7WkARxIN8K8FaQLEcTuNkxFpAahouLX3FWkBqGi4tfcVaQNBUiEmTs3pA0FSISZOzekBhVRA3TbN6QDm/Xd1+snpAja4ACS6xekCJP4mGYK96QGmOhyIcrXpAW7eLqWaqekCY1iXoRad6QE0I5qq/o3pAsGhcvtmfekD0ExnvmZt6QFAmrAkGl3pA87ul2iOSekAV8ZUu+Yx6QObhDNKLh3pAmqqakeGBekBlZ885AHx6QHo0O5ftdXpADS5udq9vekBQcPijS2l6QHkXauzHYnpAuj9THCpcekBJBUQAeFV6QFSEzGS3TnpAFNl8Fu5HekC6H+XhIUF6QHh0lZNYOnpAhfMd+JczekAUuQ7c5Sx6QFTh9wtIJnpAfohpVMQfekDCyvOBYBl6QFTEJmEiE3pAapGSvg8NekA0TsdmLgd6QOgWVSaEAXpAuQfMyRb8eUDaPLwd7PZ5QH7Ste4J8nlA2ORICXbteUAfkAU6Nul5QILwe01Q5XlAOCI8EMrheUByQdZOqd55QGVq2tXz23lARbnYca/ZeUBDSmHv4dd5QJQ5BBuR1nlAbKNRwcLVeUD+o9mufNV5QA==\"},\"shape\":[104],\"dtype\":\"float64\",\"order\":\"little\"},{\"type\":\"ndarray\",\"array\":{\"type\":\"bytes\",\"data\":\"r3w+S+0AaUBqGi4tfcVaQGoaLi19xVpAS9JFUOvEWkAnGr3FPcNaQFsi3J+AwFpANxvr8L+8WkAVNTLLB7haQE2g+UBkslpAOY2JZOGrWkAqLCpIi6RaQHytI/5tnFpAg0G+mJWTWkCaGEIqDopaQBVj98Tjf1pAT1EmeyJ1WkCcExdf1mlaQFbaEYMLXlpAz9Ve+c1RWkBkNkbUKUVaQGosECYrOFpAOegEAd4qWkAmmmx3Th1aQIxyj5uID1pAwaG1f5gBWkAbWCc2ivNZQPPFLNFp5VlAnhsOY0PXWUB1iRP+IslZQM4/hbQUu1lABG+rmCStWUBpR868Xp9ZQFj5NTPPkVlAJrUqDoKEWUAsq/Rfg3dZQMIL3DrfallAOwcpsaFeWUD0zSPV1lJZQEGQFLmKR1lAen5Db8k8WUD2yPgJnzJZQAygfJsXKVlAFTQXNj8gWUBmtRDsIRhZQFhUsc/LEFlAQkFB80gKWUB6rAhppQRZQFrGT0Pt/1hANr9elCz8WEBnx31ub/lYQEQP9ePB91hAJscMBzD3WEAmxwwHMPdYQA3TLbjGGWhADdMtuMYZaEAc96GmDxpoQC1T5mvmGmhAFs/W/kQcaECnUk9WJR5oQLbFK2mBIGhAGhBILlMjaECnGYCclCZoQC3Kr6o/KmhAhgmzT04uaEB/v2WCujJoQPTTozl+N2hAty5JbJM8aECatzER9EFoQHRWOR+aR2hAGvM7jX9NaEBcdRVSnlNoQBHFoWTwWWhADcq8u29gaEAlbEJOFmdoQC2TDhPebWhA+yb9AMF0aEBhD+oOuXtoQDQ0sTPAgmhASX0uZtCJaEBy0j2d45BoQIgbu8/zl2hAW0CC9PqeaEDBKG8C86VoQI68XfDVrGhAluMptZ2zaECwha9HRLpoQKyKyp7DwGhAYtpWsRXHaECjXDB2NM1oQEj5MuQZ02hAIpg68r/YaEAFISOXIN5oQMh7yMk142hAPJAGgfnnaEA4RrmzZexoQI6FvFh08GhAFjbsZh/0aEChPyTVYPdoQAWKQJoy+mhAFf0crY78aECngJUEb/5oQI78hZfN/2hAoFjKXKQAaUCvfD5L7QBpQA==\"},\"shape\":[104],\"dtype\":\"float64\",\"order\":\"little\"},{\"type\":\"ndarray\",\"array\":{\"type\":\"bytes\",\"data\":\"If0i95FackCvfD5L7QBpQK98PkvtAGlAxvi7Sm4BaUCAGDgr6gJpQBpduD9WBWlAwUdC26cIaUCrWdtQ1AxpQBAUifPQEWlAJvhQFpMXaUAZhzgMEB5pQChCRSg9JWlAgqp8vQ8taUBdQeQefTVpQO+HgZ96PmlAbv9Zkv1HaUAMKXNK+1FpQAGG0hppXGlAfpd9VjxnaUC43nlQanJpQOjczFvofWlAQBN8y6uJaUDzAo3yqZVpQDstBSTYoWlASRPqsiuuaUBTNkHymbppQI8XEDUYx2lALzhczpvTaUBpGSsRGuBpQHQ8glCI7GlAgiJn39v4aUDITN8QCgVqQH088DcIEWpA1nKfp8scakAEcfKySShqQEC47qx3M2pAvsmZ6Eo+akCwJvm4uEhqQE9QEnG2UmpAzMfqYzlcakBfDojkNmVqQDyl70WkbWpAlg0n23Z1akCkyDP3o3xqQJpXG+0gg2pArDvjD+OIakAQ9pCy341qQP0HKigMkmpApPKzw12VakA7NzTYyZdqQPdWsLhFmWpADtMtuMaZakAO0y24xplqQFGomq3+JnNAUaiarf4mc0BE6tstviZzQGbanT0AJnNAHLhdM8okc0DJwphlISNzQNM5zCoLIXNAoFx12Ywec0CYahHIqxtzQB2jHU1tGHNAlUUXv9YUc0BnkXt07RBzQPnFx8O2DHNAsCJ5AzgIc0Dx5gyKdgNzQCNSAK53/nJAqqPQxUD5ckDrGvsn1/NyQE33/CpA7nJANXhTJYHockAJ3Xttn+JyQC1l81mg3HJAClA3QYnWckAE3cR5X9ByQH5LGVooynJA4dqxOOnDckCRygtsp71yQPNZpEpot3JAb8j4KjGxckBoVYZjB6tyQERAykrwpHJAachBN/GeckA+LWp/D5lyQCauwHlQk3JAiIrCfLmNckDJAe3eT4hyQFBTvfYYg3JAgb6wGhp+ckDCgkShWHlyQHjf9eDZdHJAChRCMKNwckDeX6bluWxyQFYCoFcjaXJA3Dqs3ORlckDSSEjLA2NyQKBr8XmFYHJAquIkP29eckBX7V9xxlxyQArLH2eQW3JALLvhdtJackAh/SL3kVpyQA==\"},\"shape\":[104],\"dtype\":\"float64\",\"order\":\"little\"},{\"type\":\"ndarray\",\"array\":{\"type\":\"bytes\",\"data\":\"8QUf7FaoeEAh/SL3kVpyQCH9IveRWnJAP4vabTdbckAE2fiwHl1yQJBb8Q46YHJA/4c31ntkckBz0z5V1mlyQAmzeto7cHJA45tetJ53ckAbA14x8X9yQNVd7J8liXJALCF9Ti6TckBDwoOL/Z1yQDa2c6WFqXJAJ3LA6ri1ckAya92picJyQHcWPjHqz3JAFelVz8zdckAsWJjSI+xyQNfYeInh+nJAPeBqQvgJc0B14+FLWhlzQKNXUfT5KHNA5LEsisk4c0BYZ+dbu0hzQB7t9LfBWHNAUrjI7M5oc0AXPtZI1XhzQIvzkBrHiHNAzE1ssJaYc0D6wdtYNqhzQDLFUmKYt3NAlsxEG6/Gc0BETSXSbNVzQFq8Z9XD43NA+Y5/c6bxc0A+OuD6Bv9zQEgz/bnXC3RAOO9J/woYdEAs4zkZkyN0QEKEQFZiLnRAmkfRBGs4dEBUol9zn0F0QI4JX/DxSXRAZvJCylRRdED80X5Puld0QHAdhs4UXXRA4EnMlVZhdEBrzMTzcWR0QDAa4zZZZnRATqiarf5mdEBOqJqt/mZ0QB6xlqLDtHpAHrGWosO0ekD/It8rHrR6QDnVwOg2snpAsFLIihuvekA/JoLD2ap6QMzaekR/pXpANfs+vxmfekBgElvltpd6QCSrW2hkj3pAa1DN+S+GekAQjTxLJ3x6QPrrNQ5YcXpAB/hF9M9lekAYPPmunFl6QA9D3O/LTHpAypd7aGs/ekArxWPKiDF6QBVWIccxI3pAZtVAEHQUekADzk5XXQV6QMnK10379XlAm1ZopVvmeUBa/IwPjNZ5QOZG0j2axnlAIsHE4ZO2eUDt9fCshqZ5QChw41CAlnlAtboof46GeUB0YE3pvnZ5QEbs3UAfZ3lADOlmN71XeUCp4XR+pkh5QPpglMfoOXlA5PFRxJEreUBGHzomrx15QAJ02Z5OEHlA9nq8330DeUAIv2+aSvd4QBTLf4DC63hA/Sl5Q/PgeEClZuiU6tZ4QOwLWia2zXhAsqRaqWPFeEDZu3bPAL54QEPcOkqbt3hA0JAzy0CyeEBfZO0D/614QNXh9KXjqnhAD5TWYvyoeEDxBR/sVqh4QA==\"},\"shape\":[104],\"dtype\":\"float64\",\"order\":\"little\"},{\"type\":\"ndarray\",\"array\":{\"type\":\"bytes\",\"data\":\"V8tf9cXceUDxBR/sVqh4QPEFH+xWqHhAIWTPWWGpeEDN783vcax4QJnSfqFysXhAJTZGYk24eEAWRIgl7MB4QBAmqd44y3hAugUNgR3XeECxDBgAhOR4QJ1kLk9W83hAIDe0YX4DeUDerQ0r5hR5QHzynp53J3lAnC7Mrxw7eUDki/lRv095QPUzi3hJZXlAclDlFqV7eUABC2wgvJJ5QEWNg4h4qnlA4QCQQsTCeUB4j/VBidt5QK9iGHqx9HlAK6Rc3iYOekCNfSZi0yd6QHsY2vigQXpAlZ7blXlbekCBOY8sR3V6QOQSWbDzjnpAX1SdFGmoekCWJ8BMkcF6QC62JUxW2npAyikyBqLyekAOrEluXgp7QJ1m0Hd1IXtAGoMqFtE3e0ArK7w8W017QHKI6d79YXtAk8QW8KJ1e0AwCahjNIh7QO9/AS2cmXtAc1KHP8Spe0Beqp2Olrh7QFexqA39xXtA/pAMsOHRe0D5ci1pLtx7QOqAbyzN5HtAduQ27afre0BAx+eeqPB7QOxS5jS583tAHrGWosP0e0AesZaiw/R7QIR216syKX1AhHbXqzIpfUBRGCc+KCh9QKWMKKgXJX1A3al39hYgfUBRRrA1PBl9QF84bnKdEH1AY1ZNuVAGfUC+dukWbPp8QMVv3pcF7XxA2RfISDPefEBURUI2C858QJbO6GyjvHxA+IlX+RGqfEDXTSrobJZ8QJHw/EXKgXxAg0hrH0BsfEADLBGB5FV8QHVxinfNPnxAMO9yDxEnfECVe2ZVxQ58QPzsAFYA9ntAxBneHdjce0BK2Jm5YsN7QOf+zzW2qXtA+2Mcn+iPe0Dg3RoCEHZ7QPRCZ2tCXHtAkmmd55VCe0AXKFmDICl7QN5UNkv4D3tAR8bQSzP3ekCsUsSR5956QGjQrCkrx3pA2BUmIBSwekBa+cuBuJl6QEpROlsuhHpAA/QMuYtvekDjt9+n5lt6QERzTjRVSXpAhvz0au03ekACKm9YxSd6QBbSWAnzGHpAH8tNiowLekB36+nnp/95QHwJyS5b9XlAi/uGa7zseUD/l7+q4eV5QDW1Dvng4HlAiCkQY9DdeUBXy1/1xdx5QA==\"},\"shape\":[104],\"dtype\":\"float64\",\"order\":\"little\"},{\"type\":\"ndarray\",\"array\":{\"type\":\"bytes\",\"data\":\"0VSISZOzekBXy1/1xdx5QFfLX/XF3HlAmfkIWjXeeUAuw+dCb+J5QDkGUUhV6XlA4aCZAsnyeUBQcRYKrP55QK5VHPffDHpAJywAYkYdekDd0hbjwC96QPontRIxRHpAqAkwiXhaekAPVtzeeHJ6QFfrDqwTjHpAqqcciSqnekAraVoOn8N6QAkOHdRS4XpAZnS5cicAe0BueoSC/h97QEb+0pu5QHtAGt75Vjpie0AQ+E1MYoR7QFIqJBQTp3tACVPRRi7Ke0BZUKp8le17QG0ABE4qEXxAbkEzU840fECA8YwkY1h8QNLuZVrKe3xAiBcTjeWefEDJSelUlsF8QMBjPUq+43xAlUNkBT8FfUBux7Ie+iV9QHbNfS7RRX1A1DMazaVkfUCv2NySWYJ9QDKaGhjOnn1AglYo9eS5fUDM61rCf9N9QDI4BxiA631A4hmCjscBfkAAbyC+NxZ+QLYVNz+yKH5ALOwaqhg5fkCM0CCXTEd+QPugnZ4vU35AozvmWKNcfkCtfk9eiWN+QEBILkfDZ35AhHbXqzJpfkCEdterMml+QP7/////P39A/v////8/f0C50VabkD5/QCUIeLJWOn9AH8UOrXAzf0B1Ksby/Cl/QARaSesZHn9ApXVD/uUPf0Ayn1+Tf/9+QHr4SBIF7X5AW6Oq4pTYfkCrwS9sTcJ+QER1gxZNqn5A+99QSbKQfkCrI0Nsm3V+QCpiBecmWX5AT71CIXM7fkDxVqaCnhx+QOlQ23LH/H1AD82MWQzcfUA67WWei7p9QELTEaljmH1AAKE74bJ1fUBNeI6ul1J9QPx6tXgwL31A6Mpbp5sLfUDniSyi9+d8QNLZ0tBixHxAg9z5mvugfEDOs0xo4H18QIyBdqAvW3xAlWciqwc5fEDCh/vvhhd8QOYDrdbL9ntA4P3hxvTWe0CCl0UoILh7QKbygmJsmntAJDFF3fd9e0DSdDcA4WJ7QIrfBDNGSXtAI5NY3UUxe0B0sd1m/hp7QFZcPzeOBntAoLUothP0ekAp30RLreN6QMn6Pl551XpAWirCVpbJekCyj3mcIsB6QKlMEJc8uXpAFoMxrgK1ekDRVIhJk7N6QA==\"},\"shape\":[104],\"dtype\":\"float64\",\"order\":\"little\"}]],[\"source\",[\"CMS Paid Revenue ($1,165)\",\"Other Revenue ($4)\",\"Total Revenue ($1,169)\",\"Total Revenue ($1,169)\",\"Total Expenses ($930)\",\"Total Expenses ($930)\",\"Total Expenses ($930)\",\"Total Expenses ($930)\",\"Total Expenses ($930)\"]],[\"target\",[\"Total Revenue ($1,169)\",\"Total Revenue ($1,169)\",\"Profit ($232)\",\"Total Expenses ($930)\",\"Inpatient Claims ($270)\",\"Outpatient Claims ($272)\",\"Professional Expenses ($293)\",\"Supplemental Expenses ($56)\",\"Other Expenses ($39)\"]],[\"value\",{\"type\":\"ndarray\",\"array\":{\"type\":\"bytes\",\"data\":\"jQQAAAQAAADoAAAAogMAAA4BAAAQAQAAJQEAADgAAAAnAAAA\"},\"shape\":[9],\"dtype\":\"int32\",\"order\":\"little\"}]]}}},\"view\":{\"type\":\"object\",\"name\":\"CDSView\",\"id\":\"b2b39e88-60b2-4e73-aad0-ad376168a11d\",\"attributes\":{\"filter\":{\"type\":\"object\",\"name\":\"AllIndices\",\"id\":\"b10a83fd-6e06-40cb-81cb-f05654465deb\"}}},\"glyph\":{\"type\":\"object\",\"name\":\"Patches\",\"id\":\"b126f1cc-526c-40dc-a24c-9e5875553da2\",\"attributes\":{\"xs\":{\"type\":\"field\",\"field\":\"xs\"},\"ys\":{\"type\":\"field\",\"field\":\"ys\"},\"fill_color\":{\"type\":\"field\",\"field\":\"source_str__\",\"transform\":{\"type\":\"object\",\"name\":\"CategoricalColorMapper\",\"id\":\"1362cc88-eede-493c-bd21-6fa9eb1b51f4\",\"attributes\":{\"palette\":[\"#1f77b4\",\"#ff7f0e\",\"#2ca02c\",\"#d62728\",\"#9467bd\",\"#c49c94\",\"#f7b6d2\",\"#c7c7c7\",\"#dbdb8d\",\"#9edae5\"],\"factors\":[\"0\",\"1\",\"2\",\"3\",\"4\",\"5\",\"6\",\"7\",\"8\",\"9\"]}}},\"fill_alpha\":{\"type\":\"value\",\"value\":0.6}}},\"selection_glyph\":{\"type\":\"object\",\"name\":\"Patches\",\"id\":\"72255dc5-1500-4d21-947d-f300d0834535\",\"attributes\":{\"xs\":{\"type\":\"field\",\"field\":\"xs\"},\"ys\":{\"type\":\"field\",\"field\":\"ys\"},\"fill_color\":{\"type\":\"field\",\"field\":\"source_str__\",\"transform\":{\"id\":\"1362cc88-eede-493c-bd21-6fa9eb1b51f4\"}},\"fill_alpha\":{\"type\":\"value\",\"value\":0.6}}},\"nonselection_glyph\":{\"type\":\"object\",\"name\":\"Patches\",\"id\":\"1acc4c21-218b-4325-b526-be87625c3620\",\"attributes\":{\"xs\":{\"type\":\"field\",\"field\":\"xs\"},\"ys\":{\"type\":\"field\",\"field\":\"ys\"},\"line_alpha\":{\"type\":\"value\",\"value\":0.2},\"fill_color\":{\"type\":\"field\",\"field\":\"source_str__\",\"transform\":{\"id\":\"1362cc88-eede-493c-bd21-6fa9eb1b51f4\"}},\"fill_alpha\":{\"type\":\"value\",\"value\":0.2}}},\"hover_glyph\":{\"type\":\"object\",\"name\":\"Patches\",\"id\":\"a4163be5-cfef-4bc1-a44e-1377dc331297\",\"attributes\":{\"xs\":{\"type\":\"field\",\"field\":\"xs\"},\"ys\":{\"type\":\"field\",\"field\":\"ys\"},\"line_alpha\":{\"type\":\"value\",\"value\":0.9},\"fill_color\":{\"type\":\"field\",\"field\":\"source_str__\",\"transform\":{\"id\":\"1362cc88-eede-493c-bd21-6fa9eb1b51f4\"}},\"fill_alpha\":{\"type\":\"value\",\"value\":0.9}}},\"muted_glyph\":{\"type\":\"object\",\"name\":\"Patches\",\"id\":\"f73fdb38-a85f-4dc0-8cb7-e4229a0ae7c6\",\"attributes\":{\"xs\":{\"type\":\"field\",\"field\":\"xs\"},\"ys\":{\"type\":\"field\",\"field\":\"ys\"},\"fill_color\":{\"type\":\"field\",\"field\":\"source_str__\",\"transform\":{\"id\":\"1362cc88-eede-493c-bd21-6fa9eb1b51f4\"}},\"fill_alpha\":{\"type\":\"value\",\"value\":0.6}}}}},\"selection_policy\":{\"type\":\"object\",\"name\":\"NodesAndLinkedEdges\",\"id\":\"7a06a5e2-336d-4ccb-88a3-d8457db7a703\"},\"inspection_policy\":{\"type\":\"object\",\"name\":\"EdgesAndLinkedNodes\",\"id\":\"0a88fb7e-8d4c-4965-8ff0-f559769d29c5\"}}},{\"type\":\"object\",\"name\":\"GlyphRenderer\",\"id\":\"c2f1f8f3-01ed-465c-ba0d-25e62b0eb47c\",\"attributes\":{\"data_source\":{\"id\":\"ee261a67-02e1-42d0-9d58-c6345dd4d99f\"},\"view\":{\"id\":\"9210c572-b346-4cab-bc8b-cc247ee08e05\"},\"glyph\":{\"type\":\"object\",\"name\":\"Quad\",\"id\":\"99c13450-b483-4719-81f1-0ae9f7a25d3f\",\"attributes\":{\"left\":{\"type\":\"field\",\"field\":\"x0\"},\"right\":{\"type\":\"field\",\"field\":\"x1\"},\"bottom\":{\"type\":\"field\",\"field\":\"y0\"},\"top\":{\"type\":\"field\",\"field\":\"y1\"},\"fill_color\":{\"type\":\"field\",\"field\":\"index_str__\",\"transform\":{\"id\":\"948e30a3-e372-4d03-bc7b-cff84b9837b2\"}}}},\"selection_glyph\":{\"type\":\"object\",\"name\":\"Quad\",\"id\":\"0b461313-4dfe-4520-8505-99d291e04ad7\",\"attributes\":{\"left\":{\"type\":\"field\",\"field\":\"x0\"},\"right\":{\"type\":\"field\",\"field\":\"x1\"},\"bottom\":{\"type\":\"field\",\"field\":\"y0\"},\"top\":{\"type\":\"field\",\"field\":\"y1\"},\"fill_color\":{\"type\":\"field\",\"field\":\"index_str__\",\"transform\":{\"id\":\"948e30a3-e372-4d03-bc7b-cff84b9837b2\"}}}},\"nonselection_glyph\":{\"type\":\"object\",\"name\":\"Quad\",\"id\":\"24d541bf-938d-4fde-92f4-9b5b83a25979\",\"attributes\":{\"left\":{\"type\":\"field\",\"field\":\"x0\"},\"right\":{\"type\":\"field\",\"field\":\"x1\"},\"bottom\":{\"type\":\"field\",\"field\":\"y0\"},\"top\":{\"type\":\"field\",\"field\":\"y1\"},\"line_alpha\":{\"type\":\"value\",\"value\":0.2},\"fill_color\":{\"type\":\"field\",\"field\":\"index_str__\",\"transform\":{\"id\":\"948e30a3-e372-4d03-bc7b-cff84b9837b2\"}},\"fill_alpha\":{\"type\":\"value\",\"value\":0.2},\"hatch_alpha\":{\"type\":\"value\",\"value\":0.2}}},\"hover_glyph\":{\"type\":\"object\",\"name\":\"Quad\",\"id\":\"52132850-a3f6-47a5-9acd-8fdcff1ef61b\",\"attributes\":{\"left\":{\"type\":\"field\",\"field\":\"x0\"},\"right\":{\"type\":\"field\",\"field\":\"x1\"},\"bottom\":{\"type\":\"field\",\"field\":\"y0\"},\"top\":{\"type\":\"field\",\"field\":\"y1\"},\"fill_color\":{\"type\":\"field\",\"field\":\"index_str__\",\"transform\":{\"id\":\"948e30a3-e372-4d03-bc7b-cff84b9837b2\"}}}},\"muted_glyph\":{\"type\":\"object\",\"name\":\"Quad\",\"id\":\"470a8778-f68b-42e9-9c41-a3fcb7366ded\",\"attributes\":{\"left\":{\"type\":\"field\",\"field\":\"x0\"},\"right\":{\"type\":\"field\",\"field\":\"x1\"},\"bottom\":{\"type\":\"field\",\"field\":\"y0\"},\"top\":{\"type\":\"field\",\"field\":\"y1\"},\"line_alpha\":{\"type\":\"value\",\"value\":0.2},\"fill_color\":{\"type\":\"field\",\"field\":\"index_str__\",\"transform\":{\"id\":\"948e30a3-e372-4d03-bc7b-cff84b9837b2\"}},\"fill_alpha\":{\"type\":\"value\",\"value\":0.2},\"hatch_alpha\":{\"type\":\"value\",\"value\":0.2}}}}},{\"type\":\"object\",\"name\":\"GlyphRenderer\",\"id\":\"476ca06e-26ca-4157-b043-81de5deb4422\",\"attributes\":{\"data_source\":{\"type\":\"object\",\"name\":\"ColumnDataSource\",\"id\":\"b93ce36c-2ee4-4f0f-a3d0-1540032bbec8\",\"attributes\":{\"selected\":{\"type\":\"object\",\"name\":\"Selection\",\"id\":\"51a9c0ad-576a-451f-899e-ce823498399b\",\"attributes\":{\"indices\":[],\"line_indices\":[]}},\"selection_policy\":{\"type\":\"object\",\"name\":\"UnionRenderers\",\"id\":\"fc32f49d-d4fc-4ebb-864c-769ea60a1703\"},\"data\":{\"type\":\"map\",\"entries\":[[\"x\",{\"type\":\"ndarray\",\"array\":{\"type\":\"bytes\",\"data\":\"AAAAAADAMkAAAAAAAMAyQFVVVVVVsXVAAAAAAABej0BVVVVVVRuFQAAAAAAAXo9AAAAAAABej0AAAAAAAF6PQAAAAAAAXo9AAAAAAABej0A=\"},\"shape\":[10],\"dtype\":\"float64\",\"order\":\"little\"}],[\"y\",{\"type\":\"ndarray\",\"array\":{\"type\":\"bytes\",\"data\":\"HIOh6ildakBHabnl2wF7QICuID+H0WpAQUmBBTD3Q0BHC4VKebJwQHN8Hl6vSmJARiGzBPE5cEAWdNgn4Y13QOjbQif7jnxAQrvrVZnUfkA=\"},\"shape\":[10],\"dtype\":\"float64\",\"order\":\"little\"}],[\"text\",[\"CMS Paid Revenue ($1,165) - 1165\",\"Other Revenue ($4) - 4\",\"Total Revenue ($1,169) - 1169\",\"Profit ($232) - 232\",\"Total Expenses ($930) - 930\",\"Inpatient Claims ($270) - 270\",\"Outpatient Claims ($272) - 272\",\"Professional Expenses ($293) - 293\",\"Supplemental Expenses ($56) - 56\",\"Other Expenses ($39) - 39\"]]]}}},\"view\":{\"type\":\"object\",\"name\":\"CDSView\",\"id\":\"ef457a5c-0149-4b75-b09e-815a50223206\",\"attributes\":{\"filter\":{\"type\":\"object\",\"name\":\"AllIndices\",\"id\":\"b22cbf1b-80fa-4fae-9802-a12cc301130a\"}}},\"glyph\":{\"type\":\"object\",\"name\":\"Text\",\"id\":\"93d38794-d1a6-40bc-8090-a35914112ba3\",\"attributes\":{\"x\":{\"type\":\"field\",\"field\":\"x\"},\"y\":{\"type\":\"field\",\"field\":\"y\"},\"text\":{\"type\":\"field\",\"field\":\"text\"},\"text_color\":{\"type\":\"value\",\"value\":\"black\"},\"text_font_size\":{\"type\":\"value\",\"value\":\"8pt\"},\"text_baseline\":{\"type\":\"value\",\"value\":\"middle\"}}},\"selection_glyph\":{\"type\":\"object\",\"name\":\"Text\",\"id\":\"87749608-3949-4de9-81f1-a51121d0e612\",\"attributes\":{\"x\":{\"type\":\"field\",\"field\":\"x\"},\"y\":{\"type\":\"field\",\"field\":\"y\"},\"text\":{\"type\":\"field\",\"field\":\"text\"},\"angle\":{\"type\":\"value\",\"value\":0},\"x_offset\":{\"type\":\"value\",\"value\":0},\"y_offset\":{\"type\":\"value\",\"value\":0},\"outline_shape\":{\"type\":\"value\",\"value\":\"box\"},\"text_color\":{\"type\":\"value\",\"value\":\"black\"},\"text_outline_color\":{\"type\":\"value\",\"value\":null},\"text_alpha\":{\"type\":\"value\",\"value\":1.0},\"text_font_size\":{\"type\":\"value\",\"value\":\"8pt\"},\"text_font_style\":{\"type\":\"value\",\"value\":\"normal\"},\"text_align\":{\"type\":\"value\",\"value\":\"left\"},\"text_baseline\":{\"type\":\"value\",\"value\":\"middle\"},\"text_line_height\":{\"type\":\"value\",\"value\":1.2},\"background_fill_color\":{\"type\":\"value\",\"value\":null},\"background_fill_alpha\":{\"type\":\"value\",\"value\":1.0},\"background_hatch_color\":{\"type\":\"value\",\"value\":null},\"background_hatch_alpha\":{\"type\":\"value\",\"value\":1.0},\"background_hatch_scale\":{\"type\":\"value\",\"value\":12.0},\"background_hatch_pattern\":{\"type\":\"value\",\"value\":null},\"background_hatch_weight\":{\"type\":\"value\",\"value\":1.0},\"border_line_color\":{\"type\":\"value\",\"value\":null},\"border_line_alpha\":{\"type\":\"value\",\"value\":1.0},\"border_line_width\":{\"type\":\"value\",\"value\":1},\"border_line_join\":{\"type\":\"value\",\"value\":\"bevel\"},\"border_line_cap\":{\"type\":\"value\",\"value\":\"butt\"},\"border_line_dash\":{\"type\":\"value\",\"value\":[]},\"border_line_dash_offset\":{\"type\":\"value\",\"value\":0}}},\"nonselection_glyph\":{\"type\":\"object\",\"name\":\"Text\",\"id\":\"8f1784e0-e2c9-4487-89c4-067b1c1d15e4\",\"attributes\":{\"x\":{\"type\":\"field\",\"field\":\"x\"},\"y\":{\"type\":\"field\",\"field\":\"y\"},\"text\":{\"type\":\"field\",\"field\":\"text\"},\"text_color\":{\"type\":\"value\",\"value\":\"black\"},\"text_alpha\":{\"type\":\"value\",\"value\":0.1},\"text_font_size\":{\"type\":\"value\",\"value\":\"8pt\"},\"text_baseline\":{\"type\":\"value\",\"value\":\"middle\"}}},\"muted_glyph\":{\"type\":\"object\",\"name\":\"Text\",\"id\":\"555cbb4e-f438-42ca-aec8-bde4c3a617d7\",\"attributes\":{\"x\":{\"type\":\"field\",\"field\":\"x\"},\"y\":{\"type\":\"field\",\"field\":\"y\"},\"text\":{\"type\":\"field\",\"field\":\"text\"},\"text_color\":{\"type\":\"value\",\"value\":\"black\"},\"text_alpha\":{\"type\":\"value\",\"value\":0.2},\"text_font_size\":{\"type\":\"value\",\"value\":\"8pt\"},\"text_baseline\":{\"type\":\"value\",\"value\":\"middle\"}}}}}],\"toolbar\":{\"type\":\"object\",\"name\":\"Toolbar\",\"id\":\"6930f523-ada5-440b-8171-12fc31c581dc\",\"attributes\":{\"tools\":[{\"type\":\"object\",\"name\":\"WheelZoomTool\",\"id\":\"e5777f43-e3b7-4d39-8cf9-a8957ac9e51b\",\"attributes\":{\"tags\":[\"hv_created\"],\"renderers\":\"auto\",\"zoom_together\":\"none\"}},{\"type\":\"object\",\"name\":\"HoverTool\",\"id\":\"ddfbec00-5659-435e-a3e0-e548636181fc\",\"attributes\":{\"tags\":[\"hv_created\"],\"renderers\":[{\"id\":\"612988dd-836e-45cc-844f-6ae9f5c13618\"}],\"tooltips\":[[\"source\",\"@{source}\"],[\"target\",\"@{target}\"],[\"value\",\"@{value}\"]]}},{\"type\":\"object\",\"name\":\"SaveTool\",\"id\":\"de6f53ca-553a-49c1-9bfa-88d2c61c6456\"},{\"type\":\"object\",\"name\":\"PanTool\",\"id\":\"66012144-f5c4-4e5f-b587-a509ee0cda35\"},{\"type\":\"object\",\"name\":\"BoxZoomTool\",\"id\":\"77f1b5a6-2d68-4168-8b86-7c76ec1c84ef\",\"attributes\":{\"overlay\":{\"type\":\"object\",\"name\":\"BoxAnnotation\",\"id\":\"9e0c23c5-714e-4ee4-9793-f240c5cd75d0\",\"attributes\":{\"syncable\":false,\"line_color\":\"black\",\"line_alpha\":1.0,\"line_width\":2,\"line_dash\":[4,4],\"fill_color\":\"lightgrey\",\"fill_alpha\":0.5,\"level\":\"overlay\",\"visible\":false,\"left\":{\"type\":\"number\",\"value\":\"nan\"},\"right\":{\"type\":\"number\",\"value\":\"nan\"},\"top\":{\"type\":\"number\",\"value\":\"nan\"},\"bottom\":{\"type\":\"number\",\"value\":\"nan\"},\"left_units\":\"canvas\",\"right_units\":\"canvas\",\"top_units\":\"canvas\",\"bottom_units\":\"canvas\",\"handles\":{\"type\":\"object\",\"name\":\"BoxInteractionHandles\",\"id\":\"e554a5b9-9a6c-4e61-9f99-831ff4d72ebd\",\"attributes\":{\"all\":{\"type\":\"object\",\"name\":\"AreaVisuals\",\"id\":\"21df302c-2974-4957-b260-4e9c8e5387fb\",\"attributes\":{\"fill_color\":\"white\",\"hover_fill_color\":\"lightgray\"}}}}}}}},{\"type\":\"object\",\"name\":\"ResetTool\",\"id\":\"fb82625e-d9eb-4bd1-991c-315640fcc0dc\"},{\"type\":\"object\",\"name\":\"TapTool\",\"id\":\"fe68d300-4a83-4766-916a-5ee0bc46de36\",\"attributes\":{\"renderers\":\"auto\"}}],\"active_drag\":{\"id\":\"66012144-f5c4-4e5f-b587-a509ee0cda35\"},\"active_scroll\":{\"id\":\"e5777f43-e3b7-4d39-8cf9-a8957ac9e51b\"}}},\"left\":[{\"type\":\"object\",\"name\":\"LinearAxis\",\"id\":\"8b6b3525-d328-41e9-a968-06c294f0ebfb\",\"attributes\":{\"visible\":false,\"ticker\":{\"type\":\"object\",\"name\":\"BasicTicker\",\"id\":\"d3081ed9-8ba3-4ce2-96d6-3728a011b367\",\"attributes\":{\"mantissas\":[1,2,5]}},\"formatter\":{\"type\":\"object\",\"name\":\"BasicTickFormatter\",\"id\":\"5c933450-a322-4406-bc7b-fc1d708e0466\"},\"axis_label\":\"y\",\"major_label_policy\":{\"type\":\"object\",\"name\":\"AllLabels\",\"id\":\"9ac5e676-41a0-450d-ab50-8278d7575206\"}}}],\"below\":[{\"type\":\"object\",\"name\":\"LinearAxis\",\"id\":\"4215f6ee-5dea-42ea-a631-0851c98b1dea\",\"attributes\":{\"visible\":false,\"ticker\":{\"type\":\"object\",\"name\":\"BasicTicker\",\"id\":\"9c665627-4654-4d1c-9380-8ca8b5e19e97\",\"attributes\":{\"mantissas\":[1,2,5]}},\"formatter\":{\"type\":\"object\",\"name\":\"BasicTickFormatter\",\"id\":\"942e9e40-3efd-43a1-bc8e-dfec72479b3c\"},\"axis_label\":\"x\",\"major_label_policy\":{\"type\":\"object\",\"name\":\"AllLabels\",\"id\":\"40e51862-8a36-4971-8392-a4dfe04f6ffa\"}}}],\"center\":[{\"type\":\"object\",\"name\":\"Grid\",\"id\":\"48d3340a-0485-4146-ae69-e6cd4168e8e6\",\"attributes\":{\"axis\":{\"id\":\"4215f6ee-5dea-42ea-a631-0851c98b1dea\"},\"grid_line_color\":null}},{\"type\":\"object\",\"name\":\"Grid\",\"id\":\"7137a452-89b2-4c8e-b1ad-05dec7c2e856\",\"attributes\":{\"dimension\":1,\"axis\":{\"id\":\"8b6b3525-d328-41e9-a968-06c294f0ebfb\"},\"grid_line_color\":null}}],\"background_fill_color\":\"white\",\"min_border_top\":10,\"min_border_bottom\":10,\"min_border_left\":10,\"min_border_right\":10,\"output_backend\":\"webgl\"}},{\"type\":\"object\",\"name\":\"Spacer\",\"id\":\"a4eb476f-ebf5-4afe-8de6-5803a3730c44\",\"attributes\":{\"name\":\"HSpacer03921\",\"stylesheets\":[\"\\n:host(.pn-loading):before, .pn-loading:before {\\n  background-color: #c3c3c3;\\n  mask-size: auto calc(min(50%, 400px));\\n  -webkit-mask-size: auto calc(min(50%, 400px));\\n}\",{\"id\":\"407fed2c-0542-4b13-818b-50c5a255cd67\"},{\"id\":\"c5194614-eda1-41f5-b20c-41ee83850845\"},{\"id\":\"3b31ef77-40f5-4a96-964a-dcc19141cef3\"}],\"margin\":0,\"sizing_mode\":\"stretch_width\",\"align\":\"start\"}}]}}],\"defs\":[{\"type\":\"model\",\"name\":\"ReactiveHTML1\"},{\"type\":\"model\",\"name\":\"FlexBox1\",\"properties\":[{\"name\":\"align_content\",\"kind\":\"Any\",\"default\":\"flex-start\"},{\"name\":\"align_items\",\"kind\":\"Any\",\"default\":\"flex-start\"},{\"name\":\"flex_direction\",\"kind\":\"Any\",\"default\":\"row\"},{\"name\":\"flex_wrap\",\"kind\":\"Any\",\"default\":\"wrap\"},{\"name\":\"gap\",\"kind\":\"Any\",\"default\":\"\"},{\"name\":\"justify_content\",\"kind\":\"Any\",\"default\":\"flex-start\"}]},{\"type\":\"model\",\"name\":\"FloatPanel1\",\"properties\":[{\"name\":\"config\",\"kind\":\"Any\",\"default\":{\"type\":\"map\"}},{\"name\":\"contained\",\"kind\":\"Any\",\"default\":true},{\"name\":\"position\",\"kind\":\"Any\",\"default\":\"right-top\"},{\"name\":\"offsetx\",\"kind\":\"Any\",\"default\":null},{\"name\":\"offsety\",\"kind\":\"Any\",\"default\":null},{\"name\":\"theme\",\"kind\":\"Any\",\"default\":\"primary\"},{\"name\":\"status\",\"kind\":\"Any\",\"default\":\"normalized\"}]},{\"type\":\"model\",\"name\":\"GridStack1\",\"properties\":[{\"name\":\"mode\",\"kind\":\"Any\",\"default\":\"warn\"},{\"name\":\"ncols\",\"kind\":\"Any\",\"default\":null},{\"name\":\"nrows\",\"kind\":\"Any\",\"default\":null},{\"name\":\"allow_resize\",\"kind\":\"Any\",\"default\":true},{\"name\":\"allow_drag\",\"kind\":\"Any\",\"default\":true},{\"name\":\"state\",\"kind\":\"Any\",\"default\":[]}]},{\"type\":\"model\",\"name\":\"drag1\",\"properties\":[{\"name\":\"slider_width\",\"kind\":\"Any\",\"default\":5},{\"name\":\"slider_color\",\"kind\":\"Any\",\"default\":\"black\"},{\"name\":\"value\",\"kind\":\"Any\",\"default\":50}]},{\"type\":\"model\",\"name\":\"click1\",\"properties\":[{\"name\":\"terminal_output\",\"kind\":\"Any\",\"default\":\"\"},{\"name\":\"debug_name\",\"kind\":\"Any\",\"default\":\"\"},{\"name\":\"clears\",\"kind\":\"Any\",\"default\":0}]},{\"type\":\"model\",\"name\":\"FastWrapper1\",\"properties\":[{\"name\":\"object\",\"kind\":\"Any\",\"default\":null},{\"name\":\"style\",\"kind\":\"Any\",\"default\":null}]},{\"type\":\"model\",\"name\":\"NotificationAreaBase1\",\"properties\":[{\"name\":\"js_events\",\"kind\":\"Any\",\"default\":{\"type\":\"map\"}},{\"name\":\"position\",\"kind\":\"Any\",\"default\":\"bottom-right\"},{\"name\":\"_clear\",\"kind\":\"Any\",\"default\":0}]},{\"type\":\"model\",\"name\":\"NotificationArea1\",\"properties\":[{\"name\":\"js_events\",\"kind\":\"Any\",\"default\":{\"type\":\"map\"}},{\"name\":\"notifications\",\"kind\":\"Any\",\"default\":[]},{\"name\":\"position\",\"kind\":\"Any\",\"default\":\"bottom-right\"},{\"name\":\"_clear\",\"kind\":\"Any\",\"default\":0},{\"name\":\"types\",\"kind\":\"Any\",\"default\":[{\"type\":\"map\",\"entries\":[[\"type\",\"warning\"],[\"background\",\"#ffc107\"],[\"icon\",{\"type\":\"map\",\"entries\":[[\"className\",\"fas fa-exclamation-triangle\"],[\"tagName\",\"i\"],[\"color\",\"white\"]]}]]},{\"type\":\"map\",\"entries\":[[\"type\",\"info\"],[\"background\",\"#007bff\"],[\"icon\",{\"type\":\"map\",\"entries\":[[\"className\",\"fas fa-info-circle\"],[\"tagName\",\"i\"],[\"color\",\"white\"]]}]]}]}]},{\"type\":\"model\",\"name\":\"Notification\",\"properties\":[{\"name\":\"background\",\"kind\":\"Any\",\"default\":null},{\"name\":\"duration\",\"kind\":\"Any\",\"default\":3000},{\"name\":\"icon\",\"kind\":\"Any\",\"default\":null},{\"name\":\"message\",\"kind\":\"Any\",\"default\":\"\"},{\"name\":\"notification_type\",\"kind\":\"Any\",\"default\":null},{\"name\":\"_rendered\",\"kind\":\"Any\",\"default\":false},{\"name\":\"_destroyed\",\"kind\":\"Any\",\"default\":false}]},{\"type\":\"model\",\"name\":\"TemplateActions1\",\"properties\":[{\"name\":\"open_modal\",\"kind\":\"Any\",\"default\":0},{\"name\":\"close_modal\",\"kind\":\"Any\",\"default\":0}]},{\"type\":\"model\",\"name\":\"BootstrapTemplateActions1\",\"properties\":[{\"name\":\"open_modal\",\"kind\":\"Any\",\"default\":0},{\"name\":\"close_modal\",\"kind\":\"Any\",\"default\":0}]},{\"type\":\"model\",\"name\":\"TemplateEditor1\",\"properties\":[{\"name\":\"layout\",\"kind\":\"Any\",\"default\":[]}]},{\"type\":\"model\",\"name\":\"MaterialTemplateActions1\",\"properties\":[{\"name\":\"open_modal\",\"kind\":\"Any\",\"default\":0},{\"name\":\"close_modal\",\"kind\":\"Any\",\"default\":0}]},{\"type\":\"model\",\"name\":\"ReactiveESM1\",\"properties\":[{\"name\":\"esm_constants\",\"kind\":\"Any\",\"default\":{\"type\":\"map\"}}]},{\"type\":\"model\",\"name\":\"JSComponent1\",\"properties\":[{\"name\":\"esm_constants\",\"kind\":\"Any\",\"default\":{\"type\":\"map\"}}]},{\"type\":\"model\",\"name\":\"ReactComponent1\",\"properties\":[{\"name\":\"esm_constants\",\"kind\":\"Any\",\"default\":{\"type\":\"map\"}}]},{\"type\":\"model\",\"name\":\"AnyWidgetComponent1\",\"properties\":[{\"name\":\"esm_constants\",\"kind\":\"Any\",\"default\":{\"type\":\"map\"}}]},{\"type\":\"model\",\"name\":\"request_value1\",\"properties\":[{\"name\":\"fill\",\"kind\":\"Any\",\"default\":\"none\"},{\"name\":\"_synced\",\"kind\":\"Any\",\"default\":null},{\"name\":\"_request_sync\",\"kind\":\"Any\",\"default\":0}]}]}};\n",
       "  var render_items = [{\"docid\":\"028eb48b-8079-4d88-9211-12f72ef38c29\",\"roots\":{\"86b50f51-8e25-4400-b550-aef65df7d903\":\"f4c20586-d94e-4e98-98e0-be22b7957a6c\"},\"root_ids\":[\"86b50f51-8e25-4400-b550-aef65df7d903\"]}];\n",
       "  var docs = Object.values(docs_json)\n",
       "  if (!docs) {\n",
       "    return\n",
       "  }\n",
       "  const py_version = docs[0].version.replace('rc', '-rc.').replace('.dev', '-dev.')\n",
       "  async function embed_document(root) {\n",
       "    var Bokeh = get_bokeh(root)\n",
       "    await Bokeh.embed.embed_items_notebook(docs_json, render_items);\n",
       "    for (const render_item of render_items) {\n",
       "      for (const root_id of render_item.root_ids) {\n",
       "\tconst id_el = document.getElementById(root_id)\n",
       "\tif (id_el.children.length && id_el.children[0].hasAttribute('data-root-id')) {\n",
       "\t  const root_el = id_el.children[0]\n",
       "\t  root_el.id = root_el.id + '-rendered'\n",
       "\t  for (const child of root_el.children) {\n",
       "            // Ensure JupyterLab does not capture keyboard shortcuts\n",
       "            // see: https://jupyterlab.readthedocs.io/en/4.1.x/extension/notebook.html#keyboard-interaction-model\n",
       "\t    child.setAttribute('data-lm-suppress-shortcuts', 'true')\n",
       "\t  }\n",
       "\t}\n",
       "      }\n",
       "    }\n",
       "  }\n",
       "  function get_bokeh(root) {\n",
       "    if (root.Bokeh === undefined) {\n",
       "      return null\n",
       "    } else if (root.Bokeh.version !== py_version) {\n",
       "      if (root.Bokeh.versions === undefined || !root.Bokeh.versions.has(py_version)) {\n",
       "\treturn null\n",
       "      }\n",
       "      return root.Bokeh.versions.get(py_version);\n",
       "    } else if (root.Bokeh.version === py_version) {\n",
       "      return root.Bokeh\n",
       "    }\n",
       "    return null\n",
       "  }\n",
       "  function is_loaded(root) {\n",
       "    var Bokeh = get_bokeh(root)\n",
       "    return (Bokeh != null && Bokeh.Panel !== undefined)\n",
       "  }\n",
       "  if (is_loaded(root)) {\n",
       "    embed_document(root);\n",
       "  } else {\n",
       "    var attempts = 0;\n",
       "    var timer = setInterval(function(root) {\n",
       "      if (is_loaded(root)) {\n",
       "        clearInterval(timer);\n",
       "        embed_document(root);\n",
       "      } else if (document.readyState == \"complete\") {\n",
       "        attempts++;\n",
       "        if (attempts > 200) {\n",
       "          clearInterval(timer);\n",
       "\t  var Bokeh = get_bokeh(root)\n",
       "\t  if (Bokeh == null || Bokeh.Panel == null) {\n",
       "            console.warn(\"Panel: ERROR: Unable to run Panel code because Bokeh or Panel library is missing\");\n",
       "\t  } else {\n",
       "\t    console.warn(\"Panel: WARNING: Attempting to render but not all required libraries could be resolved.\")\n",
       "\t    embed_document(root)\n",
       "\t  }\n",
       "        }\n",
       "      }\n",
       "    }, 25, root)\n",
       "  }\n",
       "})(window);</script>"
      ],
      "text/plain": [
       ":Sankey   [source,target]   (value)"
      ]
     },
     "execution_count": 21,
     "metadata": {
      "application/vnd.holoviews_exec.v0+json": {
       "id": "86b50f51-8e25-4400-b550-aef65df7d903"
      }
     },
     "output_type": "execute_result"
    }
   ],
   "source": [
    "import holoviews as hv\n",
    "from bokeh.plotting import output_notebook\n",
    "from bokeh.palettes import Category20\n",
    "hv.extension('bokeh')\n",
    "output_notebook()\n",
    "\n",
    "# Data for Sankey diagram\n",
    "nodes = [\n",
    "    (0, 'CMS Paid Revenue ($1,165)'),\n",
    "    (1, 'Other Revenue ($4)'),\n",
    "    (2, 'Total Revenue ($1,169)'),\n",
    "    (3, 'Profit ($232)'),\n",
    "    (4, 'Total Expenses ($930)'),\n",
    "    (5, 'Inpatient Claims ($270)'),\n",
    "    (6, 'Outpatient Claims ($272)'),\n",
    "    (7, 'Professional Expenses ($293)'),\n",
    "    (8, 'Supplemental Expenses ($56)'),\n",
    "    (9, 'Other Expenses ($39)')\n",
    "]\n",
    "\n",
    "links = [\n",
    "    (0, 2, 1165),\n",
    "    (1, 2, 4),\n",
    "    (2, 3, 232),\n",
    "    (2, 4, 930),\n",
    "    (4, 5, 270),\n",
    "    (4, 6, 272),\n",
    "    (4, 7, 293),\n",
    "    (4, 8, 56),\n",
    "    (4, 9, 39)\n",
    "]\n",
    "\n",
    "# Create HoloViews data structure\n",
    "sankey_nodes = hv.Dataset(nodes, 'index', 'label')\n",
    "sankey_edges = hv.Dataset(links, ['source', 'target'], 'value')\n",
    "\n",
    "# Define the Sankey diagram\n",
    "sankey = hv.Sankey((sankey_edges, sankey_nodes)).options(\n",
    "    label_index='label',\n",
    "    edge_color_index='source',  # Color edges by source node\n",
    "    node_color=Category20[10],  # Use a categorical palette for nodes\n",
    "    width=800,\n",
    "    height=600,\n",
    "    bgcolor='white',\n",
    "    show_frame=False,\n",
    "    title='Dallas IPA Financials'\n",
    ")\n",
    "\n",
    "# Display the Sankey diagram\n",
    "sankey\n"
   ]
  },
  {
   "cell_type": "markdown",
   "metadata": {},
   "source": [
    "# Icicle Chart"
   ]
  },
  {
   "cell_type": "code",
   "execution_count": 7,
   "metadata": {},
   "outputs": [
    {
     "data": {
      "application/vnd.plotly.v1+json": {
       "config": {
        "plotlyServerURL": "https://plot.ly"
       },
       "data": [
        {
         "labels": [
          "Total Expenses",
          "Profit/Loss",
          "Inpatient Claims",
          "Outpatient Claims",
          "Professional Expenses",
          "Supplemental Expenses",
          "Other Expenses"
         ],
         "marker": {
          "colors": [
           "#007A3E",
           "#39B44A",
           "#39B44A",
           "#E35205",
           "#F68621",
           "#F68621",
           "#F68621",
           "#F68621",
           "#F68621",
           "#002850"
          ]
         },
         "parents": [
          "Total Revenue",
          "Total Revenue",
          "Total Expenses",
          "Total Expenses",
          "Total Expenses",
          "Total Expenses",
          "Total Expenses",
          "Total Revenue"
         ],
         "root": {
          "color": "lightgrey"
         },
         "textinfo": "label+value",
         "type": "icicle",
         "values": [
          1199,
          930,
          270,
          272,
          293,
          56,
          39,
          232
         ]
        }
       ],
       "layout": {
        "height": 900,
        "template": {
         "data": {
          "bar": [
           {
            "error_x": {
             "color": "#2a3f5f"
            },
            "error_y": {
             "color": "#2a3f5f"
            },
            "marker": {
             "line": {
              "color": "#E5ECF6",
              "width": 0.5
             },
             "pattern": {
              "fillmode": "overlay",
              "size": 10,
              "solidity": 0.2
             }
            },
            "type": "bar"
           }
          ],
          "barpolar": [
           {
            "marker": {
             "line": {
              "color": "#E5ECF6",
              "width": 0.5
             },
             "pattern": {
              "fillmode": "overlay",
              "size": 10,
              "solidity": 0.2
             }
            },
            "type": "barpolar"
           }
          ],
          "carpet": [
           {
            "aaxis": {
             "endlinecolor": "#2a3f5f",
             "gridcolor": "white",
             "linecolor": "white",
             "minorgridcolor": "white",
             "startlinecolor": "#2a3f5f"
            },
            "baxis": {
             "endlinecolor": "#2a3f5f",
             "gridcolor": "white",
             "linecolor": "white",
             "minorgridcolor": "white",
             "startlinecolor": "#2a3f5f"
            },
            "type": "carpet"
           }
          ],
          "choropleth": [
           {
            "colorbar": {
             "outlinewidth": 0,
             "ticks": ""
            },
            "type": "choropleth"
           }
          ],
          "contour": [
           {
            "colorbar": {
             "outlinewidth": 0,
             "ticks": ""
            },
            "colorscale": [
             [
              0,
              "#0d0887"
             ],
             [
              0.1111111111111111,
              "#46039f"
             ],
             [
              0.2222222222222222,
              "#7201a8"
             ],
             [
              0.3333333333333333,
              "#9c179e"
             ],
             [
              0.4444444444444444,
              "#bd3786"
             ],
             [
              0.5555555555555556,
              "#d8576b"
             ],
             [
              0.6666666666666666,
              "#ed7953"
             ],
             [
              0.7777777777777778,
              "#fb9f3a"
             ],
             [
              0.8888888888888888,
              "#fdca26"
             ],
             [
              1,
              "#f0f921"
             ]
            ],
            "type": "contour"
           }
          ],
          "contourcarpet": [
           {
            "colorbar": {
             "outlinewidth": 0,
             "ticks": ""
            },
            "type": "contourcarpet"
           }
          ],
          "heatmap": [
           {
            "colorbar": {
             "outlinewidth": 0,
             "ticks": ""
            },
            "colorscale": [
             [
              0,
              "#0d0887"
             ],
             [
              0.1111111111111111,
              "#46039f"
             ],
             [
              0.2222222222222222,
              "#7201a8"
             ],
             [
              0.3333333333333333,
              "#9c179e"
             ],
             [
              0.4444444444444444,
              "#bd3786"
             ],
             [
              0.5555555555555556,
              "#d8576b"
             ],
             [
              0.6666666666666666,
              "#ed7953"
             ],
             [
              0.7777777777777778,
              "#fb9f3a"
             ],
             [
              0.8888888888888888,
              "#fdca26"
             ],
             [
              1,
              "#f0f921"
             ]
            ],
            "type": "heatmap"
           }
          ],
          "heatmapgl": [
           {
            "colorbar": {
             "outlinewidth": 0,
             "ticks": ""
            },
            "colorscale": [
             [
              0,
              "#0d0887"
             ],
             [
              0.1111111111111111,
              "#46039f"
             ],
             [
              0.2222222222222222,
              "#7201a8"
             ],
             [
              0.3333333333333333,
              "#9c179e"
             ],
             [
              0.4444444444444444,
              "#bd3786"
             ],
             [
              0.5555555555555556,
              "#d8576b"
             ],
             [
              0.6666666666666666,
              "#ed7953"
             ],
             [
              0.7777777777777778,
              "#fb9f3a"
             ],
             [
              0.8888888888888888,
              "#fdca26"
             ],
             [
              1,
              "#f0f921"
             ]
            ],
            "type": "heatmapgl"
           }
          ],
          "histogram": [
           {
            "marker": {
             "pattern": {
              "fillmode": "overlay",
              "size": 10,
              "solidity": 0.2
             }
            },
            "type": "histogram"
           }
          ],
          "histogram2d": [
           {
            "colorbar": {
             "outlinewidth": 0,
             "ticks": ""
            },
            "colorscale": [
             [
              0,
              "#0d0887"
             ],
             [
              0.1111111111111111,
              "#46039f"
             ],
             [
              0.2222222222222222,
              "#7201a8"
             ],
             [
              0.3333333333333333,
              "#9c179e"
             ],
             [
              0.4444444444444444,
              "#bd3786"
             ],
             [
              0.5555555555555556,
              "#d8576b"
             ],
             [
              0.6666666666666666,
              "#ed7953"
             ],
             [
              0.7777777777777778,
              "#fb9f3a"
             ],
             [
              0.8888888888888888,
              "#fdca26"
             ],
             [
              1,
              "#f0f921"
             ]
            ],
            "type": "histogram2d"
           }
          ],
          "histogram2dcontour": [
           {
            "colorbar": {
             "outlinewidth": 0,
             "ticks": ""
            },
            "colorscale": [
             [
              0,
              "#0d0887"
             ],
             [
              0.1111111111111111,
              "#46039f"
             ],
             [
              0.2222222222222222,
              "#7201a8"
             ],
             [
              0.3333333333333333,
              "#9c179e"
             ],
             [
              0.4444444444444444,
              "#bd3786"
             ],
             [
              0.5555555555555556,
              "#d8576b"
             ],
             [
              0.6666666666666666,
              "#ed7953"
             ],
             [
              0.7777777777777778,
              "#fb9f3a"
             ],
             [
              0.8888888888888888,
              "#fdca26"
             ],
             [
              1,
              "#f0f921"
             ]
            ],
            "type": "histogram2dcontour"
           }
          ],
          "mesh3d": [
           {
            "colorbar": {
             "outlinewidth": 0,
             "ticks": ""
            },
            "type": "mesh3d"
           }
          ],
          "parcoords": [
           {
            "line": {
             "colorbar": {
              "outlinewidth": 0,
              "ticks": ""
             }
            },
            "type": "parcoords"
           }
          ],
          "pie": [
           {
            "automargin": true,
            "type": "pie"
           }
          ],
          "scatter": [
           {
            "fillpattern": {
             "fillmode": "overlay",
             "size": 10,
             "solidity": 0.2
            },
            "type": "scatter"
           }
          ],
          "scatter3d": [
           {
            "line": {
             "colorbar": {
              "outlinewidth": 0,
              "ticks": ""
             }
            },
            "marker": {
             "colorbar": {
              "outlinewidth": 0,
              "ticks": ""
             }
            },
            "type": "scatter3d"
           }
          ],
          "scattercarpet": [
           {
            "marker": {
             "colorbar": {
              "outlinewidth": 0,
              "ticks": ""
             }
            },
            "type": "scattercarpet"
           }
          ],
          "scattergeo": [
           {
            "marker": {
             "colorbar": {
              "outlinewidth": 0,
              "ticks": ""
             }
            },
            "type": "scattergeo"
           }
          ],
          "scattergl": [
           {
            "marker": {
             "colorbar": {
              "outlinewidth": 0,
              "ticks": ""
             }
            },
            "type": "scattergl"
           }
          ],
          "scattermapbox": [
           {
            "marker": {
             "colorbar": {
              "outlinewidth": 0,
              "ticks": ""
             }
            },
            "type": "scattermapbox"
           }
          ],
          "scatterpolar": [
           {
            "marker": {
             "colorbar": {
              "outlinewidth": 0,
              "ticks": ""
             }
            },
            "type": "scatterpolar"
           }
          ],
          "scatterpolargl": [
           {
            "marker": {
             "colorbar": {
              "outlinewidth": 0,
              "ticks": ""
             }
            },
            "type": "scatterpolargl"
           }
          ],
          "scatterternary": [
           {
            "marker": {
             "colorbar": {
              "outlinewidth": 0,
              "ticks": ""
             }
            },
            "type": "scatterternary"
           }
          ],
          "surface": [
           {
            "colorbar": {
             "outlinewidth": 0,
             "ticks": ""
            },
            "colorscale": [
             [
              0,
              "#0d0887"
             ],
             [
              0.1111111111111111,
              "#46039f"
             ],
             [
              0.2222222222222222,
              "#7201a8"
             ],
             [
              0.3333333333333333,
              "#9c179e"
             ],
             [
              0.4444444444444444,
              "#bd3786"
             ],
             [
              0.5555555555555556,
              "#d8576b"
             ],
             [
              0.6666666666666666,
              "#ed7953"
             ],
             [
              0.7777777777777778,
              "#fb9f3a"
             ],
             [
              0.8888888888888888,
              "#fdca26"
             ],
             [
              1,
              "#f0f921"
             ]
            ],
            "type": "surface"
           }
          ],
          "table": [
           {
            "cells": {
             "fill": {
              "color": "#EBF0F8"
             },
             "line": {
              "color": "white"
             }
            },
            "header": {
             "fill": {
              "color": "#C8D4E3"
             },
             "line": {
              "color": "white"
             }
            },
            "type": "table"
           }
          ]
         },
         "layout": {
          "annotationdefaults": {
           "arrowcolor": "#2a3f5f",
           "arrowhead": 0,
           "arrowwidth": 1
          },
          "autotypenumbers": "strict",
          "coloraxis": {
           "colorbar": {
            "outlinewidth": 0,
            "ticks": ""
           }
          },
          "colorscale": {
           "diverging": [
            [
             0,
             "#8e0152"
            ],
            [
             0.1,
             "#c51b7d"
            ],
            [
             0.2,
             "#de77ae"
            ],
            [
             0.3,
             "#f1b6da"
            ],
            [
             0.4,
             "#fde0ef"
            ],
            [
             0.5,
             "#f7f7f7"
            ],
            [
             0.6,
             "#e6f5d0"
            ],
            [
             0.7,
             "#b8e186"
            ],
            [
             0.8,
             "#7fbc41"
            ],
            [
             0.9,
             "#4d9221"
            ],
            [
             1,
             "#276419"
            ]
           ],
           "sequential": [
            [
             0,
             "#0d0887"
            ],
            [
             0.1111111111111111,
             "#46039f"
            ],
            [
             0.2222222222222222,
             "#7201a8"
            ],
            [
             0.3333333333333333,
             "#9c179e"
            ],
            [
             0.4444444444444444,
             "#bd3786"
            ],
            [
             0.5555555555555556,
             "#d8576b"
            ],
            [
             0.6666666666666666,
             "#ed7953"
            ],
            [
             0.7777777777777778,
             "#fb9f3a"
            ],
            [
             0.8888888888888888,
             "#fdca26"
            ],
            [
             1,
             "#f0f921"
            ]
           ],
           "sequentialminus": [
            [
             0,
             "#0d0887"
            ],
            [
             0.1111111111111111,
             "#46039f"
            ],
            [
             0.2222222222222222,
             "#7201a8"
            ],
            [
             0.3333333333333333,
             "#9c179e"
            ],
            [
             0.4444444444444444,
             "#bd3786"
            ],
            [
             0.5555555555555556,
             "#d8576b"
            ],
            [
             0.6666666666666666,
             "#ed7953"
            ],
            [
             0.7777777777777778,
             "#fb9f3a"
            ],
            [
             0.8888888888888888,
             "#fdca26"
            ],
            [
             1,
             "#f0f921"
            ]
           ]
          },
          "colorway": [
           "#636efa",
           "#EF553B",
           "#00cc96",
           "#ab63fa",
           "#FFA15A",
           "#19d3f3",
           "#FF6692",
           "#B6E880",
           "#FF97FF",
           "#FECB52"
          ],
          "font": {
           "color": "#2a3f5f"
          },
          "geo": {
           "bgcolor": "white",
           "lakecolor": "white",
           "landcolor": "#E5ECF6",
           "showlakes": true,
           "showland": true,
           "subunitcolor": "white"
          },
          "hoverlabel": {
           "align": "left"
          },
          "hovermode": "closest",
          "mapbox": {
           "style": "light"
          },
          "paper_bgcolor": "white",
          "plot_bgcolor": "#E5ECF6",
          "polar": {
           "angularaxis": {
            "gridcolor": "white",
            "linecolor": "white",
            "ticks": ""
           },
           "bgcolor": "#E5ECF6",
           "radialaxis": {
            "gridcolor": "white",
            "linecolor": "white",
            "ticks": ""
           }
          },
          "scene": {
           "xaxis": {
            "backgroundcolor": "#E5ECF6",
            "gridcolor": "white",
            "gridwidth": 2,
            "linecolor": "white",
            "showbackground": true,
            "ticks": "",
            "zerolinecolor": "white"
           },
           "yaxis": {
            "backgroundcolor": "#E5ECF6",
            "gridcolor": "white",
            "gridwidth": 2,
            "linecolor": "white",
            "showbackground": true,
            "ticks": "",
            "zerolinecolor": "white"
           },
           "zaxis": {
            "backgroundcolor": "#E5ECF6",
            "gridcolor": "white",
            "gridwidth": 2,
            "linecolor": "white",
            "showbackground": true,
            "ticks": "",
            "zerolinecolor": "white"
           }
          },
          "shapedefaults": {
           "line": {
            "color": "#2a3f5f"
           }
          },
          "ternary": {
           "aaxis": {
            "gridcolor": "white",
            "linecolor": "white",
            "ticks": ""
           },
           "baxis": {
            "gridcolor": "white",
            "linecolor": "white",
            "ticks": ""
           },
           "bgcolor": "#E5ECF6",
           "caxis": {
            "gridcolor": "white",
            "linecolor": "white",
            "ticks": ""
           }
          },
          "title": {
           "x": 0.05
          },
          "xaxis": {
           "automargin": true,
           "gridcolor": "white",
           "linecolor": "white",
           "ticks": "",
           "title": {
            "standoff": 15
           },
           "zerolinecolor": "white",
           "zerolinewidth": 2
          },
          "yaxis": {
           "automargin": true,
           "gridcolor": "white",
           "linecolor": "white",
           "ticks": "",
           "title": {
            "standoff": 15
           },
           "zerolinecolor": "white",
           "zerolinewidth": 2
          }
         }
        },
        "title": {
         "text": "Icicle Chart Representation of Revenue and Expenses"
        },
        "width": 1169
       }
      }
     },
     "metadata": {},
     "output_type": "display_data"
    }
   ],
   "source": [
    "import plotly.graph_objects as go\n",
    "\n",
    "# Define labels and hierarchy\n",
    "labels = [\n",
    "\n",
    "    \"Total Expenses\",\"Profit/Loss\" ,\n",
    "      \"Inpatient Claims\", \"Outpatient Claims\", \"Professional Expenses\",\n",
    "    \"Supplemental Expenses\", \"Other Expenses\",  # Expense nodes\n",
    "     # Profit/Loss node\n",
    "]\n",
    "parents = [\n",
    "    \"Total Revenue\", \"Total Revenue\",  # Revenue hierarchy\n",
    "     \"Total Expenses\", \"Total Expenses\", \"Total Expenses\", \n",
    "    \"Total Expenses\", \"Total Expenses\",  # Expense hierarchy\n",
    "    \"Total Revenue\"  # Profit/Loss from revenue\n",
    "]\n",
    "\n",
    "values = [1199, 930, 270, 272, 293, 56, 39, 232]\n",
    "\n",
    "# Create icicle chart\n",
    "fig = go.Figure(go.Icicle(\n",
    "    labels=labels,\n",
    "    parents=parents,\n",
    "    values=values,\n",
    "    root_color=\"lightgrey\",\n",
    "    textinfo=\"label+value\",  # Show labels and values\n",
    "    marker=dict(\n",
    "        colors=['#007A3E', '#39B44A', '#39B44A', '#E35205', '#F68621', \n",
    "                '#F68621', '#F68621', '#F68621', '#F68621', '#002850']\n",
    "    )\n",
    "))\n",
    "\n",
    "# Update layout for A4 landscape size\n",
    "fig.update_layout(\n",
    "    title=\"Icicle Chart Representation of Revenue and Expenses\",\n",
    "    width=1169,\n",
    "    height=900\n",
    ")\n",
    "\n",
    "fig.show()"
   ]
  },
  {
   "cell_type": "code",
   "execution_count": null,
   "metadata": {},
   "outputs": [],
   "source": []
  }
 ],
 "metadata": {
  "kernelspec": {
   "display_name": "Python 3",
   "language": "python",
   "name": "python3"
  },
  "language_info": {
   "codemirror_mode": {
    "name": "ipython",
    "version": 3
   },
   "file_extension": ".py",
   "mimetype": "text/x-python",
   "name": "python",
   "nbconvert_exporter": "python",
   "pygments_lexer": "ipython3",
   "version": "3.11.3"
  }
 },
 "nbformat": 4,
 "nbformat_minor": 2
}
