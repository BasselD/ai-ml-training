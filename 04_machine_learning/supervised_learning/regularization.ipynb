{
 "cells": [
  {
   "cell_type": "markdown",
   "metadata": {},
   "source": [
    "# Regularization in ML\n",
    "- It is a technique used in Machine Learning to prevent or reduce overfitting, as well as improve the generalization performance of a model.\n",
    "- It adds a penalty component to the model's formula: $y = B_0 + B_1X_1 + \\epsilon$ ($\\epsilon$ here is the penalty level).\n",
    "- There's no one good value of Regularization level. You can control its intensity using hyperparameter tuning to get the best outcome.\n",
    "- Types of Regularization:\n",
    "    - L1 Regularization (Lasso)\n",
    "         - **Technique** It applies a penalty with absolute value of coefficients\n",
    "         - **Effect** It encourages sparsity in the model, meaning ti can shrink some coefficients to exactly zero. Therefore, it makes Lasso efficient for feature selection, as it only selects the most important features with low overfitting.\n",
    "    - L2 Regularization (Ridge)\n",
    "        - **Technique**  It applies a penalty with squared value of coefficients\n",
    "        - **Effect** It prevents the coefficients from growing too large, thereby reducing the variance in the model. Unlike L1, L2 regularization doesn't make the coefficient go to zero, but shrinks close to zero.\n",
    "    - ElasticNet\n",
    "        - **Technique** Using weighted average, it combines both L1 and L2 regularization by adding both penalties to the loss function\n",
    "        - **Effect** Because you can control the level of both L1 and L2, it's recommended when you have highly correlated features.\n",
    "- Applying Regularization: \n",
    "    - To apply it for Linear Regression, you need to switch from `LinearRegression()` to `Lasso()` or `Ridge()`. \n",
    "    - However, in other algorithms, you need to use hyperparameters. For example, `LogisticRegression(penalty={‘l1’, ‘l2’, ‘elasticnet’, None}, default=’l2’)`"
   ]
  },
  {
   "cell_type": "markdown",
   "metadata": {},
   "source": [
    "- Coefficient minimization formula: $\\beta = \\beta - \\lambda * sign(\\beta)$\n",
    "- Where: $\\beta$ is the coefficient, $\\lambda$ is the regularization intensity/parameter,  $sign(\\beta)$ is the sign of the coefficient (negative vs positive)"
   ]
  },
  {
   "cell_type": "markdown",
   "metadata": {},
   "source": [
    "![reg](https://www.googleapis.com/download/storage/v1/b/kaggle-forum-message-attachments/o/inbox%2F17277811%2F75f6d401b8efcc9329cde3ffe0bf6d71%2Fridge2.png?generation=1723038136194204&alt=media)"
   ]
  },
  {
   "cell_type": "markdown",
   "metadata": {},
   "source": [
    "# Regression Models Fit Automation with Hyperparameter Tuning And Evaluation "
   ]
  },
  {
   "cell_type": "code",
   "execution_count": 32,
   "metadata": {},
   "outputs": [],
   "source": [
    "import pandas as pd\n",
    "\n",
    "from sklearn.model_selection import train_test_split, GridSearchCV\n",
    "from sklearn.linear_model import LinearRegression, Lasso, Ridge, ElasticNet\n",
    "\n",
    "#model evaluation\n",
    "from sklearn.metrics import mean_squared_error, r2_score"
   ]
  },
  {
   "cell_type": "code",
   "execution_count": 33,
   "metadata": {},
   "outputs": [
    {
     "data": {
      "text/html": [
       "<div>\n",
       "<style scoped>\n",
       "    .dataframe tbody tr th:only-of-type {\n",
       "        vertical-align: middle;\n",
       "    }\n",
       "\n",
       "    .dataframe tbody tr th {\n",
       "        vertical-align: top;\n",
       "    }\n",
       "\n",
       "    .dataframe thead th {\n",
       "        text-align: right;\n",
       "    }\n",
       "</style>\n",
       "<table border=\"1\" class=\"dataframe\">\n",
       "  <thead>\n",
       "    <tr style=\"text-align: right;\">\n",
       "      <th></th>\n",
       "      <th>age</th>\n",
       "      <th>sex</th>\n",
       "      <th>bmi</th>\n",
       "      <th>children</th>\n",
       "      <th>smoker</th>\n",
       "      <th>region</th>\n",
       "      <th>expenses</th>\n",
       "    </tr>\n",
       "  </thead>\n",
       "  <tbody>\n",
       "    <tr>\n",
       "      <th>0</th>\n",
       "      <td>19</td>\n",
       "      <td>female</td>\n",
       "      <td>27.9</td>\n",
       "      <td>0</td>\n",
       "      <td>yes</td>\n",
       "      <td>southwest</td>\n",
       "      <td>16884.92</td>\n",
       "    </tr>\n",
       "    <tr>\n",
       "      <th>1</th>\n",
       "      <td>18</td>\n",
       "      <td>male</td>\n",
       "      <td>33.8</td>\n",
       "      <td>1</td>\n",
       "      <td>no</td>\n",
       "      <td>southeast</td>\n",
       "      <td>1725.55</td>\n",
       "    </tr>\n",
       "    <tr>\n",
       "      <th>2</th>\n",
       "      <td>28</td>\n",
       "      <td>male</td>\n",
       "      <td>33.0</td>\n",
       "      <td>3</td>\n",
       "      <td>no</td>\n",
       "      <td>southeast</td>\n",
       "      <td>4449.46</td>\n",
       "    </tr>\n",
       "    <tr>\n",
       "      <th>3</th>\n",
       "      <td>33</td>\n",
       "      <td>male</td>\n",
       "      <td>22.7</td>\n",
       "      <td>0</td>\n",
       "      <td>no</td>\n",
       "      <td>northwest</td>\n",
       "      <td>21984.47</td>\n",
       "    </tr>\n",
       "    <tr>\n",
       "      <th>4</th>\n",
       "      <td>32</td>\n",
       "      <td>male</td>\n",
       "      <td>28.9</td>\n",
       "      <td>0</td>\n",
       "      <td>no</td>\n",
       "      <td>northwest</td>\n",
       "      <td>3866.86</td>\n",
       "    </tr>\n",
       "  </tbody>\n",
       "</table>\n",
       "</div>"
      ],
      "text/plain": [
       "   age     sex   bmi  children smoker     region  expenses\n",
       "0   19  female  27.9         0    yes  southwest  16884.92\n",
       "1   18    male  33.8         1     no  southeast   1725.55\n",
       "2   28    male  33.0         3     no  southeast   4449.46\n",
       "3   33    male  22.7         0     no  northwest  21984.47\n",
       "4   32    male  28.9         0     no  northwest   3866.86"
      ]
     },
     "execution_count": 33,
     "metadata": {},
     "output_type": "execute_result"
    }
   ],
   "source": [
    "path = '/Users/bassel_instructor/Documents/Datasets/'\n",
    "\n",
    "df = pd.read_csv(path+'insurance.csv')\n",
    "df.head()"
   ]
  },
  {
   "cell_type": "markdown",
   "metadata": {},
   "source": [
    "Expenses represents the target, which is the amount of medical expenses."
   ]
  },
  {
   "cell_type": "code",
   "execution_count": 34,
   "metadata": {},
   "outputs": [
    {
     "data": {
      "text/plain": [
       "age         0\n",
       "sex         0\n",
       "bmi         0\n",
       "children    0\n",
       "smoker      0\n",
       "region      0\n",
       "expenses    0\n",
       "dtype: int64"
      ]
     },
     "execution_count": 34,
     "metadata": {},
     "output_type": "execute_result"
    }
   ],
   "source": [
    "df.isna().sum()"
   ]
  },
  {
   "cell_type": "code",
   "execution_count": 35,
   "metadata": {},
   "outputs": [
    {
     "name": "stdout",
     "output_type": "stream",
     "text": [
      "sex : ['female' 'male']\n",
      "smoker : ['yes' 'no']\n",
      "region : ['southwest' 'southeast' 'northwest' 'northeast']\n"
     ]
    }
   ],
   "source": [
    "for col in ['sex', 'smoker', 'region']:\n",
    "    print(col, ':',df[col].unique())"
   ]
  },
  {
   "cell_type": "markdown",
   "metadata": {},
   "source": [
    "- region is not ordinal so we use One Hot Encoding (`get_dummies()`)\n",
    "- sex and smoker are binary so we use either One Hot Encoding or label encoding (`map()` or `factorize()`)"
   ]
  },
  {
   "cell_type": "code",
   "execution_count": 36,
   "metadata": {},
   "outputs": [],
   "source": [
    "df_org = df.copy()"
   ]
  },
  {
   "cell_type": "code",
   "execution_count": 37,
   "metadata": {},
   "outputs": [
    {
     "data": {
      "text/html": [
       "<div>\n",
       "<style scoped>\n",
       "    .dataframe tbody tr th:only-of-type {\n",
       "        vertical-align: middle;\n",
       "    }\n",
       "\n",
       "    .dataframe tbody tr th {\n",
       "        vertical-align: top;\n",
       "    }\n",
       "\n",
       "    .dataframe thead th {\n",
       "        text-align: right;\n",
       "    }\n",
       "</style>\n",
       "<table border=\"1\" class=\"dataframe\">\n",
       "  <thead>\n",
       "    <tr style=\"text-align: right;\">\n",
       "      <th></th>\n",
       "      <th>age</th>\n",
       "      <th>sex</th>\n",
       "      <th>bmi</th>\n",
       "      <th>children</th>\n",
       "      <th>smoker</th>\n",
       "      <th>expenses</th>\n",
       "      <th>region_northeast</th>\n",
       "      <th>region_northwest</th>\n",
       "      <th>region_southeast</th>\n",
       "      <th>region_southwest</th>\n",
       "    </tr>\n",
       "  </thead>\n",
       "  <tbody>\n",
       "    <tr>\n",
       "      <th>0</th>\n",
       "      <td>19</td>\n",
       "      <td>female</td>\n",
       "      <td>27.9</td>\n",
       "      <td>0</td>\n",
       "      <td>yes</td>\n",
       "      <td>16884.92</td>\n",
       "      <td>0</td>\n",
       "      <td>0</td>\n",
       "      <td>0</td>\n",
       "      <td>1</td>\n",
       "    </tr>\n",
       "    <tr>\n",
       "      <th>1</th>\n",
       "      <td>18</td>\n",
       "      <td>male</td>\n",
       "      <td>33.8</td>\n",
       "      <td>1</td>\n",
       "      <td>no</td>\n",
       "      <td>1725.55</td>\n",
       "      <td>0</td>\n",
       "      <td>0</td>\n",
       "      <td>1</td>\n",
       "      <td>0</td>\n",
       "    </tr>\n",
       "    <tr>\n",
       "      <th>2</th>\n",
       "      <td>28</td>\n",
       "      <td>male</td>\n",
       "      <td>33.0</td>\n",
       "      <td>3</td>\n",
       "      <td>no</td>\n",
       "      <td>4449.46</td>\n",
       "      <td>0</td>\n",
       "      <td>0</td>\n",
       "      <td>1</td>\n",
       "      <td>0</td>\n",
       "    </tr>\n",
       "    <tr>\n",
       "      <th>3</th>\n",
       "      <td>33</td>\n",
       "      <td>male</td>\n",
       "      <td>22.7</td>\n",
       "      <td>0</td>\n",
       "      <td>no</td>\n",
       "      <td>21984.47</td>\n",
       "      <td>0</td>\n",
       "      <td>1</td>\n",
       "      <td>0</td>\n",
       "      <td>0</td>\n",
       "    </tr>\n",
       "    <tr>\n",
       "      <th>4</th>\n",
       "      <td>32</td>\n",
       "      <td>male</td>\n",
       "      <td>28.9</td>\n",
       "      <td>0</td>\n",
       "      <td>no</td>\n",
       "      <td>3866.86</td>\n",
       "      <td>0</td>\n",
       "      <td>1</td>\n",
       "      <td>0</td>\n",
       "      <td>0</td>\n",
       "    </tr>\n",
       "  </tbody>\n",
       "</table>\n",
       "</div>"
      ],
      "text/plain": [
       "   age     sex   bmi  children smoker  expenses  region_northeast  \\\n",
       "0   19  female  27.9         0    yes  16884.92                 0   \n",
       "1   18    male  33.8         1     no   1725.55                 0   \n",
       "2   28    male  33.0         3     no   4449.46                 0   \n",
       "3   33    male  22.7         0     no  21984.47                 0   \n",
       "4   32    male  28.9         0     no   3866.86                 0   \n",
       "\n",
       "   region_northwest  region_southeast  region_southwest  \n",
       "0                 0                 0                 1  \n",
       "1                 0                 1                 0  \n",
       "2                 0                 1                 0  \n",
       "3                 1                 0                 0  \n",
       "4                 1                 0                 0  "
      ]
     },
     "execution_count": 37,
     "metadata": {},
     "output_type": "execute_result"
    }
   ],
   "source": [
    "df = pd.get_dummies(data=df, columns=['region'], dtype=int)\n",
    "df.head()"
   ]
  },
  {
   "cell_type": "code",
   "execution_count": 38,
   "metadata": {},
   "outputs": [
    {
     "data": {
      "text/html": [
       "<div>\n",
       "<style scoped>\n",
       "    .dataframe tbody tr th:only-of-type {\n",
       "        vertical-align: middle;\n",
       "    }\n",
       "\n",
       "    .dataframe tbody tr th {\n",
       "        vertical-align: top;\n",
       "    }\n",
       "\n",
       "    .dataframe thead th {\n",
       "        text-align: right;\n",
       "    }\n",
       "</style>\n",
       "<table border=\"1\" class=\"dataframe\">\n",
       "  <thead>\n",
       "    <tr style=\"text-align: right;\">\n",
       "      <th></th>\n",
       "      <th>age</th>\n",
       "      <th>sex</th>\n",
       "      <th>bmi</th>\n",
       "      <th>children</th>\n",
       "      <th>smoker</th>\n",
       "      <th>expenses</th>\n",
       "      <th>region_northeast</th>\n",
       "      <th>region_northwest</th>\n",
       "      <th>region_southeast</th>\n",
       "      <th>region_southwest</th>\n",
       "    </tr>\n",
       "  </thead>\n",
       "  <tbody>\n",
       "    <tr>\n",
       "      <th>0</th>\n",
       "      <td>19</td>\n",
       "      <td>0</td>\n",
       "      <td>27.9</td>\n",
       "      <td>0</td>\n",
       "      <td>0</td>\n",
       "      <td>16884.92</td>\n",
       "      <td>0</td>\n",
       "      <td>0</td>\n",
       "      <td>0</td>\n",
       "      <td>1</td>\n",
       "    </tr>\n",
       "    <tr>\n",
       "      <th>1</th>\n",
       "      <td>18</td>\n",
       "      <td>1</td>\n",
       "      <td>33.8</td>\n",
       "      <td>1</td>\n",
       "      <td>1</td>\n",
       "      <td>1725.55</td>\n",
       "      <td>0</td>\n",
       "      <td>0</td>\n",
       "      <td>1</td>\n",
       "      <td>0</td>\n",
       "    </tr>\n",
       "    <tr>\n",
       "      <th>2</th>\n",
       "      <td>28</td>\n",
       "      <td>1</td>\n",
       "      <td>33.0</td>\n",
       "      <td>3</td>\n",
       "      <td>1</td>\n",
       "      <td>4449.46</td>\n",
       "      <td>0</td>\n",
       "      <td>0</td>\n",
       "      <td>1</td>\n",
       "      <td>0</td>\n",
       "    </tr>\n",
       "    <tr>\n",
       "      <th>3</th>\n",
       "      <td>33</td>\n",
       "      <td>1</td>\n",
       "      <td>22.7</td>\n",
       "      <td>0</td>\n",
       "      <td>1</td>\n",
       "      <td>21984.47</td>\n",
       "      <td>0</td>\n",
       "      <td>1</td>\n",
       "      <td>0</td>\n",
       "      <td>0</td>\n",
       "    </tr>\n",
       "    <tr>\n",
       "      <th>4</th>\n",
       "      <td>32</td>\n",
       "      <td>1</td>\n",
       "      <td>28.9</td>\n",
       "      <td>0</td>\n",
       "      <td>1</td>\n",
       "      <td>3866.86</td>\n",
       "      <td>0</td>\n",
       "      <td>1</td>\n",
       "      <td>0</td>\n",
       "      <td>0</td>\n",
       "    </tr>\n",
       "  </tbody>\n",
       "</table>\n",
       "</div>"
      ],
      "text/plain": [
       "   age  sex   bmi  children  smoker  expenses  region_northeast  \\\n",
       "0   19    0  27.9         0       0  16884.92                 0   \n",
       "1   18    1  33.8         1       1   1725.55                 0   \n",
       "2   28    1  33.0         3       1   4449.46                 0   \n",
       "3   33    1  22.7         0       1  21984.47                 0   \n",
       "4   32    1  28.9         0       1   3866.86                 0   \n",
       "\n",
       "   region_northwest  region_southeast  region_southwest  \n",
       "0                 0                 0                 1  \n",
       "1                 0                 1                 0  \n",
       "2                 0                 1                 0  \n",
       "3                 1                 0                 0  \n",
       "4                 1                 0                 0  "
      ]
     },
     "execution_count": 38,
     "metadata": {},
     "output_type": "execute_result"
    }
   ],
   "source": [
    "df['sex'], sex_mapping = pd.factorize(df['sex'])\n",
    "df['smoker'], smoker_mapping = pd.factorize(df['smoker'])\n",
    "df.head()"
   ]
  },
  {
   "cell_type": "markdown",
   "metadata": {},
   "source": [
    "> We can perform further data preprocessing and wrangling, but we'll skip this to jump straight to our topic."
   ]
  },
  {
   "cell_type": "code",
   "execution_count": 39,
   "metadata": {},
   "outputs": [],
   "source": [
    "X = df.drop(columns='expenses', axis=1) \n",
    "y = df['expenses']"
   ]
  },
  {
   "cell_type": "code",
   "execution_count": null,
   "metadata": {},
   "outputs": [],
   "source": [
    "# Optional - hold off\n",
    "# X_train, X_test, y_train, y_test = train_test_split(X, y, test_size=0.2)"
   ]
  },
  {
   "cell_type": "markdown",
   "metadata": {},
   "source": [
    "### Define The Models and Their Hyperparameters To Test"
   ]
  },
  {
   "cell_type": "code",
   "execution_count": 40,
   "metadata": {},
   "outputs": [],
   "source": [
    "models = [\n",
    "    {'name':'Linear Regression', 'model':LinearRegression()}, #basic linear regression no hyperparameters\n",
    "    {'name':'Ridge Regression', 'model': Ridge(), 'params':{'alpha': [0.01, 0.1, 1, 10 , 100]}}, # experimenting with diff regularization intensity values\n",
    "    {'name':'Lasso Regression', 'model': Lasso(), 'params':{'alpha': [0.01, 0.1, 1, 10 , 100]}},\n",
    "    {'name':'ElasticNet Regression', 'model': ElasticNet(), 'params':{'alpha': [0.01, 0.1, 1], 'l1_ratio':[0.2, 0.3,0.5]}} # experimenting with 2 diff hyperparameters\n",
    "]"
   ]
  },
  {
   "cell_type": "code",
   "execution_count": 11,
   "metadata": {},
   "outputs": [
    {
     "name": "stdout",
     "output_type": "stream",
     "text": [
      "{'name': 'Linear Regression', 'model': LinearRegression()}\n",
      "{'name': 'Ridge Regression', 'model': Ridge(), 'params': {'alpha': [0.01, 0.1, 1, 10, 100]}}\n",
      "{'name': 'Lasso Regression', 'model': Lasso(), 'params': {'alpha': [0.01, 0.1, 1, 10, 100]}}\n",
      "{'name': 'ElasticNet Regression', 'model': ElasticNet(), 'params': {'alpha': [0.01, 0.1, 1], 'l1_ratio': [0.2, 0.3, 0.5]}}\n"
     ]
    }
   ],
   "source": [
    "for model_info in models:\n",
    "    print(model_info)"
   ]
  },
  {
   "cell_type": "markdown",
   "metadata": {},
   "source": [
    "Two methods:\n",
    "- **Method 1**: Use if you want a quick and easy `GridSearchCV` and a small dataset\n",
    "    - No pre-split\n",
    "    - Choose a specific metric\n",
    "    - Let the `GridSearchCv` run the simulation based on specified metric\n",
    "    - Get the `best_estimator_` \n",
    "- **Method 2**: Use if you want to do double evaluation and with multiple metrics. Also, if you have data enough to cover for multiple splits\n",
    "    - Pre-split the data (train vs test)\n",
    "    - Let the `GridSearchCv` run the simulation and pick the evaluation metric by default\n",
    "    - Run additional evaluation on test data with multiple metrics\n",
    "    - Decide which model is the best based on 2 metrics:\n",
    "        - `mean_squared_error`\n",
    "        - `r2_score`"
   ]
  },
  {
   "cell_type": "markdown",
   "metadata": {},
   "source": [
    "#### Method 1"
   ]
  },
  {
   "cell_type": "code",
   "execution_count": 42,
   "metadata": {},
   "outputs": [
    {
     "name": "stderr",
     "output_type": "stream",
     "text": [
      "/Library/Frameworks/Python.framework/Versions/3.11/lib/python3.11/site-packages/sklearn/linear_model/_coordinate_descent.py:631: ConvergenceWarning: Objective did not converge. You might want to increase the number of iterations, check the scale of the features or consider increasing regularisation. Duality gap: 1.330e+09, tolerance: 1.564e+07\n",
      "  model = cd_fast.enet_coordinate_descent(\n"
     ]
    },
    {
     "name": "stdout",
     "output_type": "stream",
     "text": [
      "Best parameters: {'alpha': 0.01, 'l1_ratio': 0.5}\n",
      "Best cross-validation score: -36985204.79887968\n"
     ]
    }
   ],
   "source": [
    "\n",
    "for model_info in models:\n",
    "    model_gs = GridSearchCV(model_info['model'] #grab the model function\n",
    "                            , model_info.get('params', {})\n",
    "                            , cv = 5  # number of folds in cross-validation\n",
    "                            , scoring='neg_mean_squared_error'\n",
    "                            \n",
    "                            )\n",
    "    \n",
    "    model_gs.fit(X, y) # you can use X_train, y_train if you want to preserve another slide of the data for additional evaluation\n",
    "\n",
    "print(\"Best parameters:\", model_gs.best_params_)\n",
    "print(\"Best cross-validation score:\", model_gs.best_score_)"
   ]
  },
  {
   "cell_type": "markdown",
   "metadata": {},
   "source": [
    "#### Method 2"
   ]
  },
  {
   "cell_type": "code",
   "execution_count": 14,
   "metadata": {},
   "outputs": [],
   "source": [
    "X_train, X_test, y_train, y_test = train_test_split(X, y, test_size=0.2)"
   ]
  },
  {
   "cell_type": "code",
   "execution_count": 25,
   "metadata": {},
   "outputs": [
    {
     "name": "stderr",
     "output_type": "stream",
     "text": [
      "/Library/Frameworks/Python.framework/Versions/3.11/lib/python3.11/site-packages/sklearn/linear_model/_coordinate_descent.py:631: ConvergenceWarning: Objective did not converge. You might want to increase the number of iterations, check the scale of the features or consider increasing regularisation. Duality gap: 1.066e+09, tolerance: 1.256e+07\n",
      "  model = cd_fast.enet_coordinate_descent(\n",
      "/Library/Frameworks/Python.framework/Versions/3.11/lib/python3.11/site-packages/sklearn/linear_model/_coordinate_descent.py:631: ConvergenceWarning: Objective did not converge. You might want to increase the number of iterations, check the scale of the features or consider increasing regularisation. Duality gap: 1.037e+09, tolerance: 1.245e+07\n",
      "  model = cd_fast.enet_coordinate_descent(\n",
      "/Library/Frameworks/Python.framework/Versions/3.11/lib/python3.11/site-packages/sklearn/linear_model/_coordinate_descent.py:631: ConvergenceWarning: Objective did not converge. You might want to increase the number of iterations, check the scale of the features or consider increasing regularisation. Duality gap: 1.067e+09, tolerance: 1.248e+07\n",
      "  model = cd_fast.enet_coordinate_descent(\n"
     ]
    }
   ],
   "source": [
    "# track needed parameters for final evaluation\n",
    "model_names = []\n",
    "best_parameters = []\n",
    "mean_sq_err_scores = []\n",
    "r_sq_scores = []\n",
    "\n",
    "for model_info in models:\n",
    "    model_gs = GridSearchCV(model_info['model'] #grab the model function\n",
    "                            , model_info.get('params', {})\n",
    "                            , cv = 5  # number of folds in cross-validation\n",
    "                            # if you don't choose the scoring technique, GridSearchCv will pick the default for each\n",
    "                            )\n",
    "    \n",
    "    model_gs.fit(X_train, y_train) # you can use X_train, y_train if you want to preserve another slide of the data for additional evaluation\n",
    "\n",
    "    #Calculate the predicted values for evluation\n",
    "    gs_best_model = model_gs.best_estimator_\n",
    "    y_pred = gs_best_model.predict(X_test)\n",
    "\n",
    "    #calculate evaluation metrics\n",
    "    mse_val = mean_squared_error(y_test, y_pred)\n",
    "    r2_val = r2_score(y_test, y_pred)\n",
    "\n",
    "    #append insights to the empty lists\n",
    "    model_names.append(model_info['name'])\n",
    "    best_parameters.append(model_gs.best_params_)\n",
    "    mean_sq_err_scores.append(mse_val)\n",
    "    r_sq_scores.append(r2_val)\n",
    "    "
   ]
  },
  {
   "cell_type": "code",
   "execution_count": 21,
   "metadata": {},
   "outputs": [],
   "source": [
    "results_dict = {'model_names':model_names,\n",
    "'best_parameters':best_parameters,\n",
    "'mean_sq_err_scores':mean_sq_err_scores,\n",
    "'r_sq_scores':r_sq_scores}"
   ]
  },
  {
   "cell_type": "code",
   "execution_count": 22,
   "metadata": {},
   "outputs": [
    {
     "data": {
      "text/html": [
       "<div>\n",
       "<style scoped>\n",
       "    .dataframe tbody tr th:only-of-type {\n",
       "        vertical-align: middle;\n",
       "    }\n",
       "\n",
       "    .dataframe tbody tr th {\n",
       "        vertical-align: top;\n",
       "    }\n",
       "\n",
       "    .dataframe thead th {\n",
       "        text-align: right;\n",
       "    }\n",
       "</style>\n",
       "<table border=\"1\" class=\"dataframe\">\n",
       "  <thead>\n",
       "    <tr style=\"text-align: right;\">\n",
       "      <th></th>\n",
       "      <th>model_names</th>\n",
       "      <th>best_parameters</th>\n",
       "      <th>mean_sq_err_scores</th>\n",
       "      <th>r_sq_scores</th>\n",
       "    </tr>\n",
       "  </thead>\n",
       "  <tbody>\n",
       "    <tr>\n",
       "      <th>0</th>\n",
       "      <td>Linear Regression</td>\n",
       "      <td>{}</td>\n",
       "      <td>3.912992e+07</td>\n",
       "      <td>0.742771</td>\n",
       "    </tr>\n",
       "    <tr>\n",
       "      <th>1</th>\n",
       "      <td>Ridge Regression</td>\n",
       "      <td>{'alpha': 1}</td>\n",
       "      <td>3.915550e+07</td>\n",
       "      <td>0.742602</td>\n",
       "    </tr>\n",
       "    <tr>\n",
       "      <th>2</th>\n",
       "      <td>Lasso Regression</td>\n",
       "      <td>{'alpha': 0.1}</td>\n",
       "      <td>3.912982e+07</td>\n",
       "      <td>0.742771</td>\n",
       "    </tr>\n",
       "    <tr>\n",
       "      <th>3</th>\n",
       "      <td>ElasticNet Regression</td>\n",
       "      <td>{'alpha': 0.01, 'l1_ratio': 0.5}</td>\n",
       "      <td>3.932799e+07</td>\n",
       "      <td>0.741469</td>\n",
       "    </tr>\n",
       "  </tbody>\n",
       "</table>\n",
       "</div>"
      ],
      "text/plain": [
       "             model_names                   best_parameters  \\\n",
       "0      Linear Regression                                {}   \n",
       "1       Ridge Regression                      {'alpha': 1}   \n",
       "2       Lasso Regression                    {'alpha': 0.1}   \n",
       "3  ElasticNet Regression  {'alpha': 0.01, 'l1_ratio': 0.5}   \n",
       "\n",
       "   mean_sq_err_scores  r_sq_scores  \n",
       "0        3.912992e+07     0.742771  \n",
       "1        3.915550e+07     0.742602  \n",
       "2        3.912982e+07     0.742771  \n",
       "3        3.932799e+07     0.741469  "
      ]
     },
     "execution_count": 22,
     "metadata": {},
     "output_type": "execute_result"
    }
   ],
   "source": [
    "pd.DataFrame(results_dict)"
   ]
  },
  {
   "cell_type": "markdown",
   "metadata": {},
   "source": [
    "What we're looking for:\n",
    "- The highest `r2_score` and closest to 1\n",
    "- The lowest `mean_squared_error`. Note: unlike `r2_score`, there's no baseline. Your goal is to always find the lowest value possible."
   ]
  },
  {
   "cell_type": "code",
   "execution_count": 23,
   "metadata": {},
   "outputs": [
    {
     "data": {
      "text/plain": [
       "[39129920.26774458, 39155503.99207848, 39129820.88042316, 39327986.12157916]"
      ]
     },
     "execution_count": 23,
     "metadata": {},
     "output_type": "execute_result"
    }
   ],
   "source": [
    "mean_sq_err_scores"
   ]
  },
  {
   "cell_type": "code",
   "execution_count": 26,
   "metadata": {},
   "outputs": [
    {
     "data": {
      "text/plain": [
       "800.0"
      ]
     },
     "execution_count": 26,
     "metadata": {},
     "output_type": "execute_result"
    }
   ],
   "source": [
    "1000 * .8 # cross-validation"
   ]
  },
  {
   "cell_type": "code",
   "execution_count": 27,
   "metadata": {},
   "outputs": [
    {
     "data": {
      "text/plain": [
       "640.0"
      ]
     },
     "execution_count": 27,
     "metadata": {},
     "output_type": "execute_result"
    }
   ],
   "source": [
    "1000 * .8 * .8 #pre-split and cross-validation"
   ]
  },
  {
   "cell_type": "markdown",
   "metadata": {},
   "source": [
    "Overall, we're getting an r2 score around .75, we can go back. We have multiple options to improve this:\n",
    "- Go back to your hyperparameter list and tweak them and rerun\n",
    "- Consider different models that are non-linear `DecisionTreeRegressor()`\n",
    "- Go back to the data prep stage and improve feature engineering. e.g. data scaling, outlier treatment, etc..."
   ]
  },
  {
   "cell_type": "markdown",
   "metadata": {},
   "source": [
    "### Checking for Overfitting"
   ]
  },
  {
   "cell_type": "markdown",
   "metadata": {},
   "source": [
    "You need to add `return_train_score`"
   ]
  },
  {
   "cell_type": "code",
   "execution_count": 51,
   "metadata": {},
   "outputs": [
    {
     "name": "stderr",
     "output_type": "stream",
     "text": [
      "/Library/Frameworks/Python.framework/Versions/3.11/lib/python3.11/site-packages/sklearn/linear_model/_coordinate_descent.py:631: ConvergenceWarning: Objective did not converge. You might want to increase the number of iterations, check the scale of the features or consider increasing regularisation. Duality gap: 1.330e+09, tolerance: 1.564e+07\n",
      "  model = cd_fast.enet_coordinate_descent(\n"
     ]
    },
    {
     "name": "stdout",
     "output_type": "stream",
     "text": [
      "Best parameters: {'alpha': 0.01, 'l1_ratio': 0.5}\n",
      "Best cross-validation score: -36985204.79887968\n"
     ]
    }
   ],
   "source": [
    "\n",
    "for model_info in models:\n",
    "    model_gs = GridSearchCV(model_info['model'] #grab the model function\n",
    "                            , model_info.get('params', {})\n",
    "                            , cv = 5  # number of folds in cross-validation\n",
    "                            , scoring='neg_mean_squared_error'\n",
    "                            , return_train_score=True\n",
    "                            )\n",
    "    \n",
    "    model_gs.fit(X, y) # you can use X_train, y_train if you want to preserve another slide of the data for additional evaluation\n",
    "\n",
    "print(\"Best parameters:\", model_gs.best_params_)\n",
    "print(\"Best cross-validation score:\", model_gs.best_score_)"
   ]
  },
  {
   "cell_type": "code",
   "execution_count": 52,
   "metadata": {},
   "outputs": [
    {
     "name": "stdout",
     "output_type": "stream",
     "text": [
      "\n",
      "Train vs Test Scores:\n",
      "Parameters: {'alpha': 0.01, 'l1_ratio': 0.2}\n",
      "Train Score: 36,660,505.825, Test Score: 37,103,700.203\n",
      "Difference: 443,194.378\n",
      "\n",
      "Parameters: {'alpha': 0.01, 'l1_ratio': 0.3}\n",
      "Train Score: 36,614,113.254, Test Score: 37,058,579.050\n",
      "Difference: 444,465.795\n",
      "\n",
      "Parameters: {'alpha': 0.01, 'l1_ratio': 0.5}\n",
      "Train Score: 36,537,902.763, Test Score: 36,985,204.799\n",
      "Difference: 447,302.035\n",
      "\n",
      "Parameters: {'alpha': 0.1, 'l1_ratio': 0.2}\n",
      "Train Score: 46,542,647.353, Test Score: 47,004,015.953\n",
      "Difference: 461,368.600\n",
      "\n",
      "Parameters: {'alpha': 0.1, 'l1_ratio': 0.3}\n",
      "Train Score: 44,864,073.852, Test Score: 45,317,968.531\n",
      "Difference: 453,894.679\n",
      "\n",
      "Parameters: {'alpha': 0.1, 'l1_ratio': 0.5}\n",
      "Train Score: 41,601,533.171, Test Score: 42,041,992.423\n",
      "Difference: 440,459.252\n",
      "\n",
      "Parameters: {'alpha': 1, 'l1_ratio': 0.2}\n",
      "Train Score: 100,146,532.713, Test Score: 100,692,685.882\n",
      "Difference: 546,153.169\n",
      "\n",
      "Parameters: {'alpha': 1, 'l1_ratio': 0.3}\n",
      "Train Score: 97,166,582.592, Test Score: 97,719,361.001\n",
      "Difference: 552,778.409\n",
      "\n",
      "Parameters: {'alpha': 1, 'l1_ratio': 0.5}\n",
      "Train Score: 88,934,255.777, Test Score: 89,497,272.245\n",
      "Difference: 563,016.468\n",
      "\n"
     ]
    }
   ],
   "source": [
    "# Extract results\n",
    "results = model_gs.cv_results_\n",
    "train_scores = results['mean_train_score']\n",
    "test_scores = results['mean_test_score']\n",
    "\n",
    "# Compare train and test scores\n",
    "print(\"\\nTrain vs Test Scores:\")\n",
    "for params, train_score, test_score in zip(results['params'], train_scores, test_scores):\n",
    "    print(f\"Parameters: {params}\")\n",
    "    print(f\"Train Score: {-train_score:,.3f}, Test Score: {-test_score:,.3f}\")\n",
    "    print(f\"Difference: {train_score - test_score:,.3f}\")\n",
    "    print()"
   ]
  },
  {
   "cell_type": "code",
   "execution_count": null,
   "metadata": {},
   "outputs": [],
   "source": []
  }
 ],
 "metadata": {
  "kernelspec": {
   "display_name": "Python 3",
   "language": "python",
   "name": "python3"
  },
  "language_info": {
   "codemirror_mode": {
    "name": "ipython",
    "version": 3
   },
   "file_extension": ".py",
   "mimetype": "text/x-python",
   "name": "python",
   "nbconvert_exporter": "python",
   "pygments_lexer": "ipython3",
   "version": "3.11.3"
  }
 },
 "nbformat": 4,
 "nbformat_minor": 2
}
