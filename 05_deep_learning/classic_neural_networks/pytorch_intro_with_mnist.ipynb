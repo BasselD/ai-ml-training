{
 "cells": [
  {
   "cell_type": "markdown",
   "metadata": {},
   "source": [
    "# PyTorch\n",
    "![pyt](https://miro.medium.com/v2/resize:fit:691/1*VSQ0XEywxSgZBwW05GsZtw.png)\n",
    "\n",
    "PyTorch is an open-source machine learning library developed by Facebook's AI Research Lab (FAIR). It provides a dynamic computation graph and automatic differentiation for rapid prototyping, research, and production deployment. PyTorch is particularly popular in the field of deep learning.\n",
    "Key Features\n",
    "1. Dynamic Computation Graph\n",
    "PyTorch's computation graph is built on the fly, allowing for more flexible and efficient computation. This is in contrast to static computation graphs used in other frameworks like TensorFlow.\n",
    "2. Automatic Differentiation\n",
    "PyTorch provides automatic differentiation, which enables the computation of gradients, a crucial step in training neural networks.\n",
    "3. Modular Architecture\n",
    "PyTorch's architecture is modular, making it easy to integrate with other frameworks and libraries.\n",
    "4. Pythonic API\n",
    "PyTorch's API is designed to be intuitive and Pythonic, making it easy to learn and use.\n",
    "5. GPU Acceleration\n",
    "PyTorch supports GPU acceleration, allowing for fast computation on NVIDIA GPUs.\n",
    "6. Extensive Libraries and Tools\n",
    "PyTorch has an extensive set of libraries and tools, including:\n",
    "torch.nn: a neural network module\n",
    "torch.optim: an optimization module\n",
    "torch.utils.data: a data loading module\n",
    "torchvision: a computer vision module\n",
    "Use Cases\n",
    "PyTorch is widely used in various domains, including:\n",
    "1. Computer Vision\n",
    "PyTorch is used in computer vision tasks such as image classification, object detection, segmentation, and generation.\n",
    "2. Natural Language Processing (NLP)\n",
    "PyTorch is used in NLP tasks such as language modeling, text classification, sentiment analysis, and machine translation.\n",
    "3. Speech Recognition\n",
    "PyTorch is used in speech recognition tasks such as speech-to-text and voice recognition.\n",
    "4. Reinforcement Learning\n",
    "PyTorch is used in reinforcement learning tasks such as game playing and robotics.\n"
   ]
  },
  {
   "cell_type": "code",
   "execution_count": 1,
   "metadata": {
    "id": "I5MYHEnaJKna"
   },
   "outputs": [
    {
     "name": "stderr",
     "output_type": "stream",
     "text": [
      "/Library/Frameworks/Python.framework/Versions/3.11/lib/python3.11/site-packages/tqdm/auto.py:21: TqdmWarning: IProgress not found. Please update jupyter and ipywidgets. See https://ipywidgets.readthedocs.io/en/stable/user_install.html\n",
      "  from .autonotebook import tqdm as notebook_tqdm\n"
     ]
    },
    {
     "name": "stdout",
     "output_type": "stream",
     "text": [
      "Downloading http://yann.lecun.com/exdb/mnist/train-images-idx3-ubyte.gz\n",
      "Failed to download (trying next):\n",
      "<urlopen error [SSL: CERTIFICATE_VERIFY_FAILED] certificate verify failed: certificate has expired (_ssl.c:1002)>\n",
      "\n",
      "Downloading https://ossci-datasets.s3.amazonaws.com/mnist/train-images-idx3-ubyte.gz\n",
      "Downloading https://ossci-datasets.s3.amazonaws.com/mnist/train-images-idx3-ubyte.gz to ./data/MNIST/raw/train-images-idx3-ubyte.gz\n"
     ]
    },
    {
     "name": "stderr",
     "output_type": "stream",
     "text": [
      "100%|██████████| 9912422/9912422 [00:00<00:00, 27927678.29it/s]\n"
     ]
    },
    {
     "name": "stdout",
     "output_type": "stream",
     "text": [
      "Extracting ./data/MNIST/raw/train-images-idx3-ubyte.gz to ./data/MNIST/raw\n",
      "\n",
      "Downloading http://yann.lecun.com/exdb/mnist/train-labels-idx1-ubyte.gz\n",
      "Failed to download (trying next):\n",
      "<urlopen error [SSL: CERTIFICATE_VERIFY_FAILED] certificate verify failed: certificate has expired (_ssl.c:1002)>\n",
      "\n",
      "Downloading https://ossci-datasets.s3.amazonaws.com/mnist/train-labels-idx1-ubyte.gz\n",
      "Downloading https://ossci-datasets.s3.amazonaws.com/mnist/train-labels-idx1-ubyte.gz to ./data/MNIST/raw/train-labels-idx1-ubyte.gz\n"
     ]
    },
    {
     "name": "stderr",
     "output_type": "stream",
     "text": [
      "100%|██████████| 28881/28881 [00:00<00:00, 1041812.39it/s]"
     ]
    },
    {
     "name": "stdout",
     "output_type": "stream",
     "text": [
      "Extracting ./data/MNIST/raw/train-labels-idx1-ubyte.gz to ./data/MNIST/raw\n",
      "\n",
      "Downloading http://yann.lecun.com/exdb/mnist/t10k-images-idx3-ubyte.gz\n"
     ]
    },
    {
     "name": "stderr",
     "output_type": "stream",
     "text": [
      "\n"
     ]
    },
    {
     "name": "stdout",
     "output_type": "stream",
     "text": [
      "Failed to download (trying next):\n",
      "<urlopen error [SSL: CERTIFICATE_VERIFY_FAILED] certificate verify failed: certificate has expired (_ssl.c:1002)>\n",
      "\n",
      "Downloading https://ossci-datasets.s3.amazonaws.com/mnist/t10k-images-idx3-ubyte.gz\n",
      "Downloading https://ossci-datasets.s3.amazonaws.com/mnist/t10k-images-idx3-ubyte.gz to ./data/MNIST/raw/t10k-images-idx3-ubyte.gz\n"
     ]
    },
    {
     "name": "stderr",
     "output_type": "stream",
     "text": [
      "100%|██████████| 1648877/1648877 [00:00<00:00, 10859955.87it/s]\n"
     ]
    },
    {
     "name": "stdout",
     "output_type": "stream",
     "text": [
      "Extracting ./data/MNIST/raw/t10k-images-idx3-ubyte.gz to ./data/MNIST/raw\n",
      "\n",
      "Downloading http://yann.lecun.com/exdb/mnist/t10k-labels-idx1-ubyte.gz\n",
      "Failed to download (trying next):\n",
      "<urlopen error [SSL: CERTIFICATE_VERIFY_FAILED] certificate verify failed: certificate has expired (_ssl.c:1002)>\n",
      "\n",
      "Downloading https://ossci-datasets.s3.amazonaws.com/mnist/t10k-labels-idx1-ubyte.gz\n",
      "Downloading https://ossci-datasets.s3.amazonaws.com/mnist/t10k-labels-idx1-ubyte.gz to ./data/MNIST/raw/t10k-labels-idx1-ubyte.gz\n"
     ]
    },
    {
     "name": "stderr",
     "output_type": "stream",
     "text": [
      "100%|██████████| 4542/4542 [00:00<00:00, 3567514.75it/s]"
     ]
    },
    {
     "name": "stdout",
     "output_type": "stream",
     "text": [
      "Extracting ./data/MNIST/raw/t10k-labels-idx1-ubyte.gz to ./data/MNIST/raw\n",
      "\n"
     ]
    },
    {
     "name": "stderr",
     "output_type": "stream",
     "text": [
      "\n"
     ]
    }
   ],
   "source": [
    "# Import necessary libraries for deep learning and dataset handling\n",
    "import torch\n",
    "import torchvision\n",
    "from torchvision import transforms\n",
    "\n",
    "# Define a transform to normalize the data\n",
    "# 1. transforms.ToTensor(): Converts the images into PyTorch tensors.\n",
    "# 2. transforms.Normalize(): Normalizes the image by shifting the mean to 0.5 and scaling to a 0.5 standard deviation.\n",
    "transform = transforms.Compose([transforms.ToTensor(), transforms.Normalize((0.5,), (0.5,))])\n",
    "\n",
    "# Download and load the training dataset (MNIST) with transformations applied\n",
    "train_dataset = torchvision.datasets.MNIST(root='./data', train=True, transform=transform, download=True)\n",
    "\n",
    "# Create a DataLoader for the training data with batch size of 64 and shuffling enabled\n",
    "train_loader = torch.utils.data.DataLoader(dataset=train_dataset, batch_size=64, shuffle=True)\n",
    "\n",
    "# Download and load the testing dataset (MNIST) with transformations applied\n",
    "test_dataset = torchvision.datasets.MNIST(root='./data', train=False, transform=transform)\n",
    "\n",
    "# Create a DataLoader for the testing data with batch size of 64 and no shuffling\n",
    "test_loader = torch.utils.data.DataLoader(dataset=test_dataset, batch_size=64, shuffle=False)\n"
   ]
  },
  {
   "cell_type": "code",
   "execution_count": 2,
   "metadata": {
    "colab": {
     "base_uri": "https://localhost:8080/",
     "height": 447
    },
    "id": "jROz8T2NJUDh",
    "outputId": "a361b576-9197-4017-86a5-72d7a93faee4"
   },
   "outputs": [
    {
     "data": {
      "image/png": "[encoded data removed]",
      "text/plain": [
       "<Figure size 640x480 with 1 Axes>"
      ]
     },
     "metadata": {},
     "output_type": "display_data"
    },
    {
     "name": "stdout",
     "output_type": "stream",
     "text": [
      "tensor(5)\n"
     ]
    }
   ],
   "source": [
    "import matplotlib.pyplot as plt\n",
    "\n",
    "dataiter = iter(train_loader)\n",
    "images, labels = next(dataiter)\n",
    "\n",
    "plt.imshow(images[6].numpy().squeeze(), cmap='gray')\n",
    "plt.show()\n",
    "\n",
    "print(labels[6])"
   ]
  },
  {
   "cell_type": "code",
   "execution_count": 3,
   "metadata": {
    "id": "XWh_rtgkJdXw"
   },
   "outputs": [],
   "source": [
    "# Import libraries for defining neural networks and their operations\n",
    "import torch.nn as nn\n",
    "import torch.nn.functional as F\n",
    "\n",
    "# Define a neural network class inheriting from nn.Module\n",
    "class Net(nn.Module):\n",
    "    def __init__(self):\n",
    "        super(Net, self).__init__()\n",
    "        # Define three fully connected (dense) layers:\n",
    "        # fc1: Input layer, takes in 28x28 pixels (MNIST image size) and outputs 128 features.\n",
    "        self.fc1 = nn.Linear(28*28, 128)\n",
    "        # fc2: Hidden layer, takes in 128 features and outputs 128 features.\n",
    "        self.fc2 = nn.Linear(128, 128)\n",
    "        # fc3: Output layer, takes in 128 features and outputs 10 features (corresponding to 10 digits in MNIST).\n",
    "        self.fc3 = nn.Linear(128, 10)\n",
    "\n",
    "    # Define the forward pass of the neural network\n",
    "    def forward(self, x):\n",
    "        # Flatten the input image to a vector of 28*28 = 784 features\n",
    "        x = x.view(-1, 28*28)\n",
    "        # Pass through the first fully connected layer and apply ReLU activation function\n",
    "        x = F.relu(self.fc1(x))\n",
    "        # Pass through the second fully connected layer and apply ReLU activation function\n",
    "        x = F.relu(self.fc2(x))\n",
    "        # Pass through the third fully connected layer and apply softmax for classification over 10 classes\n",
    "        x = F.softmax(self.fc3(x), dim=1)\n",
    "        return x\n",
    "\n",
    "# Instantiate the neural network model\n",
    "model = Net()"
   ]
  },
  {
   "cell_type": "code",
   "execution_count": 4,
   "metadata": {
    "id": "aerqDox8KcFF"
   },
   "outputs": [],
   "source": [
    "# Import the optimizer module from PyTorch\n",
    "import torch.optim as optim\n",
    "\n",
    "# Define the loss function (CrossEntropyLoss) which is suitable for multi-class classification problems\n",
    "criterion = nn.CrossEntropyLoss()\n",
    "\n",
    "# Define the optimizer (Adam) with the model's parameters and a learning rate of 0.001\n",
    "optimizer = optim.Adam(model.parameters(), lr=0.001)\n"
   ]
  },
  {
   "cell_type": "code",
   "execution_count": 5,
   "metadata": {
    "colab": {
     "base_uri": "https://localhost:8080/"
    },
    "id": "M-MHTEEwKfY5",
    "outputId": "33f4c38f-59f0-427a-b69f-56abeafe4e4f"
   },
   "outputs": [
    {
     "name": "stdout",
     "output_type": "stream",
     "text": [
      "Epoch [1/10], Loss: 1.6488\n",
      "Epoch [2/10], Loss: 1.5423\n",
      "Epoch [3/10], Loss: 1.5255\n",
      "Epoch [4/10], Loss: 1.5154\n",
      "Epoch [5/10], Loss: 1.5103\n",
      "Epoch [6/10], Loss: 1.5053\n",
      "Epoch [7/10], Loss: 1.5028\n",
      "Epoch [8/10], Loss: 1.5005\n",
      "Epoch [9/10], Loss: 1.4983\n",
      "Epoch [10/10], Loss: 1.4980\n"
     ]
    }
   ],
   "source": [
    "\n",
    "# Set the number of epochs (full passes through the training data)\n",
    "epochs = 10\n",
    "\n",
    "# Start the training loop\n",
    "for epoch in range(epochs):\n",
    "    running_loss = 0.0  # Initialize running loss to accumulate the loss for each epoch\n",
    "    for i, (images, labels) in enumerate(train_loader, 1):  # Loop over the batches in train_loader\n",
    "        optimizer.zero_grad()  # Reset gradients to zero for each batch\n",
    "        outputs = model(images)  # Forward pass: compute the network output for the current batch\n",
    "        loss = criterion(outputs, labels)  # Compute the loss between predictions and actual labels\n",
    "        loss.backward()  # Backpropagate the loss to compute gradients for the weights\n",
    "        optimizer.step()  # Update the weights using the optimizer\n",
    "        running_loss += loss.item()  # Accumulate the batch loss\n",
    "\n",
    "    # Print the average loss for the epoch\n",
    "    print(f\"Epoch [{epoch+1}/{epochs}], Loss: {running_loss/i:.4f}\")"
   ]
  },
  {
   "cell_type": "code",
   "execution_count": 6,
   "metadata": {
    "colab": {
     "base_uri": "https://localhost:8080/"
    },
    "id": "1zEPRY82KiIP",
    "outputId": "b700d24b-b37c-4bb8-9e9d-bf7bb59e31b0"
   },
   "outputs": [
    {
     "name": "stdout",
     "output_type": "stream",
     "text": [
      "Test Accuracy: 95.78%\n"
     ]
    }
   ],
   "source": [
    "correct = 0\n",
    "total = 0\n",
    "with torch.no_grad():\n",
    "    for images, labels in test_loader:\n",
    "        outputs = model(images)\n",
    "        _, predicted = torch.max(outputs.data, 1)\n",
    "        total += labels.size(0)\n",
    "        correct += (predicted == labels).sum().item()\n",
    "\n",
    "print(f'Test Accuracy: {100 * correct / total}%')"
   ]
  },
  {
   "cell_type": "code",
   "execution_count": 7,
   "metadata": {
    "colab": {
     "base_uri": "https://localhost:8080/",
     "height": 452
    },
    "id": "NrHKRJ0SK3Nr",
    "outputId": "71b54860-4ba5-4f1c-89bd-67775e30d588"
   },
   "outputs": [
    {
     "data": {
      "image/png": "[encoded data removed]",
      "text/plain": [
       "<Figure size 640x480 with 1 Axes>"
      ]
     },
     "metadata": {},
     "output_type": "display_data"
    }
   ],
   "source": [
    "dataiter = iter(train_loader)\n",
    "images, labels = next(dataiter)\n",
    "\n",
    "outputs = model(images[1:2])\n",
    "_, predicted = torch.max(outputs.data, 1)\n",
    "\n",
    "plt.imshow(images[1].numpy().squeeze(), cmap='gray')\n",
    "plt.title(f\"Predicted Label: {predicted.item()}\")\n",
    "plt.show()"
   ]
  },
  {
   "cell_type": "code",
   "execution_count": null,
   "metadata": {
    "id": "64nI7QJtLHKI"
   },
   "outputs": [],
   "source": []
  }
 ],
 "metadata": {
  "colab": {
   "provenance": []
  },
  "kernelspec": {
   "display_name": "Python 3",
   "language": "python",
   "name": "python3"
  },
  "language_info": {
   "codemirror_mode": {
    "name": "ipython",
    "version": 3
   },
   "file_extension": ".py",
   "mimetype": "text/x-python",
   "name": "python",
   "nbconvert_exporter": "python",
   "pygments_lexer": "ipython3",
   "version": "3.11.3"
  }
 },
 "nbformat": 4,
 "nbformat_minor": 4
}
