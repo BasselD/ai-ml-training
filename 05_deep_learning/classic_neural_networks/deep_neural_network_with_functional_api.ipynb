{
 "cells": [
  {
   "cell_type": "markdown",
   "metadata": {},
   "source": [
    "# Deep Neural Networks with TensorFlow [Sequential vs Functional API]"
   ]
  },
  {
   "cell_type": "markdown",
   "metadata": {},
   "source": [
    "- We'll be using the Fashion MNIST Dataset (Clothing Classification)\n",
    "- The Fashion-MNIST dataset is proposed as a more challenging replacement dataset for the MNIST dataset.\n",
    "- It is a dataset comprised of 60,000 small square 28×28 pixel grayscale images of items of 10 types of clothing, such as shoes, t-shirts, dresses, and more. - The mapping of all 0-9 integers to class labels is listed below.\n",
    "    - 0: T-shirt/top\n",
    "    - 1: Trouser\n",
    "    - 2: Pullover\n",
    "    - 3: Dress\n",
    "    - 4: Coat\n",
    "    - 5: Sandal\n",
    "    - 6: Shirt\n",
    "    - 7: Sneaker\n",
    "    - 8: Bag\n",
    "    - 9: Ankle boot"
   ]
  },
  {
   "cell_type": "code",
   "execution_count": 1,
   "metadata": {},
   "outputs": [],
   "source": [
    "import numpy as np\n",
    "import pandas as pd\n",
    "import matplotlib.pyplot as plt\n",
    "\n",
    "#deep learning libraries\n",
    "import tensorflow as tf\n",
    "from tensorflow.keras import layers, models\n",
    "#data\n",
    "from tensorflow.keras.datasets import fashion_mnist"
   ]
  },
  {
   "cell_type": "markdown",
   "metadata": {},
   "source": [
    "## Step 1: Loading The Data + EDA"
   ]
  },
  {
   "cell_type": "code",
   "execution_count": 3,
   "metadata": {},
   "outputs": [],
   "source": [
    "#load\n",
    "(X_train, y_train), (X_test, y_test) = fashion_mnist.load_data()\n",
    "\n",
    "#normalize\n",
    "X_train, X_test = X_train/255.0, X_test/255.0"
   ]
  },
  {
   "cell_type": "code",
   "execution_count": 4,
   "metadata": {},
   "outputs": [
    {
     "name": "stdout",
     "output_type": "stream",
     "text": [
      "Shape of training data: (60000, 28, 28)\n",
      "Shape of test data: (10000, 28, 28)\n",
      "Number of classes: 10\n"
     ]
    }
   ],
   "source": [
    "# EDA\n",
    "print('Shape of training data:', X_train.shape)\n",
    "print('Shape of test data:', X_test.shape)\n",
    "print('Number of classes:', len(np.unique(y_train)))"
   ]
  },
  {
   "cell_type": "markdown",
   "metadata": {},
   "source": [
    "To make visualization and data interpretation easier, let's build a df with encoded labels and their text names."
   ]
  },
  {
   "cell_type": "code",
   "execution_count": 5,
   "metadata": {},
   "outputs": [
    {
     "data": {
      "text/html": [
       "<div>\n",
       "<style scoped>\n",
       "    .dataframe tbody tr th:only-of-type {\n",
       "        vertical-align: middle;\n",
       "    }\n",
       "\n",
       "    .dataframe tbody tr th {\n",
       "        vertical-align: top;\n",
       "    }\n",
       "\n",
       "    .dataframe thead th {\n",
       "        text-align: right;\n",
       "    }\n",
       "</style>\n",
       "<table border=\"1\" class=\"dataframe\">\n",
       "  <thead>\n",
       "    <tr style=\"text-align: right;\">\n",
       "      <th></th>\n",
       "      <th>label</th>\n",
       "    </tr>\n",
       "  </thead>\n",
       "  <tbody>\n",
       "    <tr>\n",
       "      <th>0</th>\n",
       "      <td>9</td>\n",
       "    </tr>\n",
       "    <tr>\n",
       "      <th>1</th>\n",
       "      <td>0</td>\n",
       "    </tr>\n",
       "    <tr>\n",
       "      <th>2</th>\n",
       "      <td>0</td>\n",
       "    </tr>\n",
       "    <tr>\n",
       "      <th>3</th>\n",
       "      <td>3</td>\n",
       "    </tr>\n",
       "    <tr>\n",
       "      <th>4</th>\n",
       "      <td>0</td>\n",
       "    </tr>\n",
       "  </tbody>\n",
       "</table>\n",
       "</div>"
      ],
      "text/plain": [
       "   label\n",
       "0      9\n",
       "1      0\n",
       "2      0\n",
       "3      3\n",
       "4      0"
      ]
     },
     "execution_count": 5,
     "metadata": {},
     "output_type": "execute_result"
    }
   ],
   "source": [
    "train_label = pd.DataFrame(y_train, columns=['label'])\n",
    "train_label.head()"
   ]
  },
  {
   "cell_type": "code",
   "execution_count": 6,
   "metadata": {},
   "outputs": [
    {
     "data": {
      "text/html": [
       "<div>\n",
       "<style scoped>\n",
       "    .dataframe tbody tr th:only-of-type {\n",
       "        vertical-align: middle;\n",
       "    }\n",
       "\n",
       "    .dataframe tbody tr th {\n",
       "        vertical-align: top;\n",
       "    }\n",
       "\n",
       "    .dataframe thead th {\n",
       "        text-align: right;\n",
       "    }\n",
       "</style>\n",
       "<table border=\"1\" class=\"dataframe\">\n",
       "  <thead>\n",
       "    <tr style=\"text-align: right;\">\n",
       "      <th></th>\n",
       "      <th>label</th>\n",
       "      <th>clothing_name</th>\n",
       "    </tr>\n",
       "  </thead>\n",
       "  <tbody>\n",
       "    <tr>\n",
       "      <th>0</th>\n",
       "      <td>9</td>\n",
       "      <td>Ankle boot</td>\n",
       "    </tr>\n",
       "    <tr>\n",
       "      <th>1</th>\n",
       "      <td>0</td>\n",
       "      <td>T-shirt/top</td>\n",
       "    </tr>\n",
       "    <tr>\n",
       "      <th>2</th>\n",
       "      <td>0</td>\n",
       "      <td>T-shirt/top</td>\n",
       "    </tr>\n",
       "    <tr>\n",
       "      <th>3</th>\n",
       "      <td>3</td>\n",
       "      <td>Dress</td>\n",
       "    </tr>\n",
       "    <tr>\n",
       "      <th>4</th>\n",
       "      <td>0</td>\n",
       "      <td>T-shirt/top</td>\n",
       "    </tr>\n",
       "  </tbody>\n",
       "</table>\n",
       "</div>"
      ],
      "text/plain": [
       "   label clothing_name\n",
       "0      9    Ankle boot\n",
       "1      0   T-shirt/top\n",
       "2      0   T-shirt/top\n",
       "3      3         Dress\n",
       "4      0   T-shirt/top"
      ]
     },
     "execution_count": 6,
     "metadata": {},
     "output_type": "execute_result"
    }
   ],
   "source": [
    "clothing_ref = {0: 'T-shirt/top'\n",
    "                ,1: 'Trouser'\n",
    "                ,2: 'Pullover'\n",
    "                ,3: 'Dress'\n",
    "                ,4: 'Coat'\n",
    "                ,5: 'Sandal'\n",
    "                ,6: 'Shirt'\n",
    "                ,7: 'Sneaker'\n",
    "                ,8: 'Bag'\n",
    "                ,9: 'Ankle boot'}\n",
    "\n",
    "train_label['clothing_name'] = train_label['label'].map(clothing_ref)\n",
    "train_label.head()"
   ]
  },
  {
   "cell_type": "markdown",
   "metadata": {},
   "source": [
    "Using the dataframe above, we can plot a grid of a sample (25 items)"
   ]
  },
  {
   "cell_type": "code",
   "execution_count": 7,
   "metadata": {},
   "outputs": [
    {
     "data": {
      "image/png": "[encoded data removed]",
      "text/plain": [
       "<Figure size 1000x1000 with 25 Axes>"
      ]
     },
     "metadata": {},
     "output_type": "display_data"
    }
   ],
   "source": [
    "plt.figure(figsize=(10,10))\n",
    "\n",
    "for img in range(25):\n",
    "    plt.subplot(5, 5, img+1) # 5x5 is compatible with 25 image grid\n",
    "    plt.imshow(-X_train[img], cmap='gray') #using negative to get the colors reversed for visualization purposes\n",
    "    plt.title(train_label['clothing_name'][img], fontsize=8)\n",
    "    plt.axis('off')"
   ]
  },
  {
   "cell_type": "markdown",
   "metadata": {},
   "source": [
    "- It's recommended to validate the data quality before building and training the model. The data above looks good.\n",
    "- Let's also check the distribution of the labels to make sure we don't have imbalanced data as it could impact the accuracy of the minority class."
   ]
  },
  {
   "cell_type": "code",
   "execution_count": 8,
   "metadata": {},
   "outputs": [
    {
     "data": {
      "text/plain": [
       "Text(0, 0.5, 'Frequency')"
      ]
     },
     "execution_count": 8,
     "metadata": {},
     "output_type": "execute_result"
    },
    {
     "data": {
      "image/png": "[encoded data removed]",
      "text/plain": [
       "<Figure size 640x480 with 1 Axes>"
      ]
     },
     "metadata": {},
     "output_type": "display_data"
    }
   ],
   "source": [
    "plt.hist(y_train,bins=np.arange(11)-0.5, rwidth=0.8)\n",
    "plt.xticks(range(10))\n",
    "plt.xlabel('Clothing Class')\n",
    "plt.ylabel('Frequency')"
   ]
  },
  {
   "cell_type": "markdown",
   "metadata": {},
   "source": [
    "## Step 2: Building The Neural Network with Different Styles"
   ]
  },
  {
   "cell_type": "markdown",
   "metadata": {},
   "source": [
    "Architecture:\n",
    "- Input and Flatten layers\n",
    "- Hidden Layer 1: 80 neurons with ReLU\n",
    "- Hidden Layer 2: 160 neurons with ReLU\n",
    "- Output Layer: 10 neurons with Softmax"
   ]
  },
  {
   "cell_type": "markdown",
   "metadata": {},
   "source": [
    "### Style 1-A: **Sequential** with Listed Components"
   ]
  },
  {
   "cell_type": "code",
   "execution_count": 9,
   "metadata": {},
   "outputs": [],
   "source": [
    "nn_model = models.Sequential([\n",
    "            layers.Input(shape=(28,28)),\n",
    "            layers.Flatten(),\n",
    "            layers.Dense(80, activation='relu', name='hidden_layer_1'),\n",
    "            layers.Dense(160, activation='relu', name='hidden_layer_2'),\n",
    "            layers.Dense(10, activation='softmax', name='output_layer')\n",
    "            ])"
   ]
  },
  {
   "cell_type": "markdown",
   "metadata": {},
   "source": [
    "### Style 1-B: **Sequential** with Appended List"
   ]
  },
  {
   "cell_type": "markdown",
   "metadata": {},
   "source": [
    "- Build a blank sequential item\n",
    "- Add elements in the subsequent rows"
   ]
  },
  {
   "cell_type": "code",
   "execution_count": 9,
   "metadata": {},
   "outputs": [],
   "source": [
    "nn_model = models.Sequential() # build a blank list\n",
    "\n",
    "nn_model.add(layers.Input(shape=(28,28)))\n",
    "nn_model.add(layers.Flatten())\n",
    "nn_model.add(layers.Dense(80, activation='relu', name='hidden_layer_1'))\n",
    "nn_model.add(layers.Dense(160, activation='relu', name='hidden_layer_2'))\n",
    "nn_model.add(layers.Dense(10, activation='softmax', name='output_layer'))"
   ]
  },
  {
   "cell_type": "markdown",
   "metadata": {},
   "source": [
    "The main advantage of Style 2 is modularity. For example, suppose we want to build a paramater that controls the complexity of the NN:"
   ]
  },
  {
   "cell_type": "code",
   "execution_count": 10,
   "metadata": {},
   "outputs": [],
   "source": [
    "#parameter\n",
    "complexity_score = 8\n",
    "\n",
    "nn_model = models.Sequential() \n",
    "\n",
    "nn_model.add(layers.Input(shape=(28,28)))\n",
    "nn_model.add(layers.Flatten())\n",
    "nn_model.add(layers.Dense(80, activation='relu', name='hidden_layer_1'))\n",
    "\n",
    "if complexity_score > 5:\n",
    "    nn_model.add(layers.Dense(300, activation='relu', name='hidden_layer_2'))\n",
    "    nn_model.add(layers.Dense(250, activation='relu', name='hidden_layer_3'))\n",
    "else:\n",
    "    nn_model.add(layers.Dense(160, activation='relu', name='hidden_layer_2'))\n",
    "\n",
    "nn_model.add(layers.Dense(10, activation='softmax', name='output_layer'))"
   ]
  },
  {
   "cell_type": "markdown",
   "metadata": {},
   "source": [
    "### Style 2: **Functional API**"
   ]
  },
  {
   "cell_type": "code",
   "execution_count": 10,
   "metadata": {},
   "outputs": [],
   "source": [
    "#input layer\n",
    "my_inputs = layers.Input(shape=(28,28))\n",
    "\n",
    "#flattening layer joined with input\n",
    "fl = (layers.Flatten())(my_inputs)\n",
    "\n",
    "# hidden layers\n",
    "h1 = (layers.Dense(80, activation='relu', name='hidden_layer_1'))(fl)\n",
    "h2 = (layers.Dense(160, activation='relu', name='hidden_layer_2'))(h1)\n",
    "\n",
    "#output layer\n",
    "my_outputs = (layers.Dense(10, activation='softmax', name='output_layer'))(h2)\n",
    "\n",
    "#put all the pieces together in the model\n",
    "nn_model = models.Model(inputs=my_inputs, outputs=my_outputs)\n"
   ]
  },
  {
   "cell_type": "markdown",
   "metadata": {},
   "source": [
    "Comparison between Sequential and Functional:\n",
    "- Functional API:\n",
    "    - Pros:\n",
    "        - Provides more modularity - ability to rearrange the model components and order\n",
    "        - Allows for complex network architecture\n",
    "        - Handles multi input/output\n",
    "    - Cons: more code and hard to read\n",
    "\n",
    "- Sequential:\n",
    "    - Pros:\n",
    "        - Easy to implement\n",
    "        - Small learning curve\n",
    "        - Less code\n",
    "    - Cons: Limited flexibility compared to Functional with linear stack of layers"
   ]
  },
  {
   "cell_type": "markdown",
   "metadata": {},
   "source": [
    "#### Example of Functional API Modularity"
   ]
  },
  {
   "cell_type": "markdown",
   "metadata": {},
   "source": [
    "Define Static Components"
   ]
  },
  {
   "cell_type": "code",
   "execution_count": null,
   "metadata": {},
   "outputs": [],
   "source": [
    "# hidden layers\n",
    "h1 = (layers.Dense(80, activation='relu', name='hidden_layer_1'))(fl)\n",
    "h2 = (layers.Dense(160, activation='relu', name='hidden_layer_2'))(h1)\n",
    "h3 = (layers.Dense(320, activation='relu', name='hidden_layer_3'))(h2)"
   ]
  },
  {
   "cell_type": "markdown",
   "metadata": {},
   "source": [
    "Define Dynamic Components"
   ]
  },
  {
   "cell_type": "code",
   "execution_count": null,
   "metadata": {},
   "outputs": [],
   "source": [
    "#input layer\n",
    "my_inputs_low = layers.Input(shape=(28,28)) # image style 1 \n",
    "my_inputs_high = layers.Input(shape=(300,300)) # image style 2\n",
    "\n",
    "#flattening layer joined with input\n",
    "fl_low = (layers.Flatten())(my_inputs_low)\n",
    "fl_high = (layers.Flatten())(my_inputs_high)\n",
    "\n",
    "#output layer\n",
    "my_outputs_low_10 = (layers.Dense(10, activation='softmax', name='output_layer'))(h2)\n",
    "my_outputs_high_3 = (layers.Dense(10, activation='softmax', name='output_layer'))(h3)\n"
   ]
  },
  {
   "cell_type": "markdown",
   "metadata": {},
   "source": [
    "after defining the components, we apply 2 integration architectures"
   ]
  },
  {
   "cell_type": "code",
   "execution_count": null,
   "metadata": {},
   "outputs": [],
   "source": [
    "nn_model_low = models.Model(inputs=my_inputs_low, outputs=my_outputs_low_10)\n",
    "nn_model_high = models.Model(inputs=my_outputs_low_10, outputs=my_outputs_high_3)"
   ]
  },
  {
   "cell_type": "markdown",
   "metadata": {},
   "source": [
    "> Note: we'll be using the model defined from Style 2 (Functional)"
   ]
  },
  {
   "cell_type": "code",
   "execution_count": 30,
   "metadata": {},
   "outputs": [
    {
     "data": {
      "text/html": [
       "<pre style=\"white-space:pre;overflow-x:auto;line-height:normal;font-family:Menlo,'DejaVu Sans Mono',consolas,'Courier New',monospace\"><span style=\"font-weight: bold\">Model: \"sequential_3\"</span>\n",
       "</pre>\n"
      ],
      "text/plain": [
       "\u001b[1mModel: \"sequential_3\"\u001b[0m\n"
      ]
     },
     "metadata": {},
     "output_type": "display_data"
    },
    {
     "data": {
      "text/html": [
       "<pre style=\"white-space:pre;overflow-x:auto;line-height:normal;font-family:Menlo,'DejaVu Sans Mono',consolas,'Courier New',monospace\">┏━━━━━━━━━━━━━━━━━━━━━━━━━━━━━━━━━┳━━━━━━━━━━━━━━━━━━━━━━━━┳━━━━━━━━━━━━━━━┓\n",
       "┃<span style=\"font-weight: bold\"> Layer (type)                    </span>┃<span style=\"font-weight: bold\"> Output Shape           </span>┃<span style=\"font-weight: bold\">       Param # </span>┃\n",
       "┡━━━━━━━━━━━━━━━━━━━━━━━━━━━━━━━━━╇━━━━━━━━━━━━━━━━━━━━━━━━╇━━━━━━━━━━━━━━━┩\n",
       "│ flatten_5 (<span style=\"color: #0087ff; text-decoration-color: #0087ff\">Flatten</span>)             │ (<span style=\"color: #00d7ff; text-decoration-color: #00d7ff\">None</span>, <span style=\"color: #00af00; text-decoration-color: #00af00\">784</span>)            │             <span style=\"color: #00af00; text-decoration-color: #00af00\">0</span> │\n",
       "├─────────────────────────────────┼────────────────────────┼───────────────┤\n",
       "│ hidden_layer_1 (<span style=\"color: #0087ff; text-decoration-color: #0087ff\">Dense</span>)          │ (<span style=\"color: #00d7ff; text-decoration-color: #00d7ff\">None</span>, <span style=\"color: #00af00; text-decoration-color: #00af00\">80</span>)             │        <span style=\"color: #00af00; text-decoration-color: #00af00\">62,800</span> │\n",
       "├─────────────────────────────────┼────────────────────────┼───────────────┤\n",
       "│ hidden_layer_2 (<span style=\"color: #0087ff; text-decoration-color: #0087ff\">Dense</span>)          │ (<span style=\"color: #00d7ff; text-decoration-color: #00d7ff\">None</span>, <span style=\"color: #00af00; text-decoration-color: #00af00\">160</span>)            │        <span style=\"color: #00af00; text-decoration-color: #00af00\">12,960</span> │\n",
       "├─────────────────────────────────┼────────────────────────┼───────────────┤\n",
       "│ output_layer (<span style=\"color: #0087ff; text-decoration-color: #0087ff\">Dense</span>)            │ (<span style=\"color: #00d7ff; text-decoration-color: #00d7ff\">None</span>, <span style=\"color: #00af00; text-decoration-color: #00af00\">10</span>)             │         <span style=\"color: #00af00; text-decoration-color: #00af00\">1,610</span> │\n",
       "└─────────────────────────────────┴────────────────────────┴───────────────┘\n",
       "</pre>\n"
      ],
      "text/plain": [
       "┏━━━━━━━━━━━━━━━━━━━━━━━━━━━━━━━━━┳━━━━━━━━━━━━━━━━━━━━━━━━┳━━━━━━━━━━━━━━━┓\n",
       "┃\u001b[1m \u001b[0m\u001b[1mLayer (type)                   \u001b[0m\u001b[1m \u001b[0m┃\u001b[1m \u001b[0m\u001b[1mOutput Shape          \u001b[0m\u001b[1m \u001b[0m┃\u001b[1m \u001b[0m\u001b[1m      Param #\u001b[0m\u001b[1m \u001b[0m┃\n",
       "┡━━━━━━━━━━━━━━━━━━━━━━━━━━━━━━━━━╇━━━━━━━━━━━━━━━━━━━━━━━━╇━━━━━━━━━━━━━━━┩\n",
       "│ flatten_5 (\u001b[38;5;33mFlatten\u001b[0m)             │ (\u001b[38;5;45mNone\u001b[0m, \u001b[38;5;34m784\u001b[0m)            │             \u001b[38;5;34m0\u001b[0m │\n",
       "├─────────────────────────────────┼────────────────────────┼───────────────┤\n",
       "│ hidden_layer_1 (\u001b[38;5;33mDense\u001b[0m)          │ (\u001b[38;5;45mNone\u001b[0m, \u001b[38;5;34m80\u001b[0m)             │        \u001b[38;5;34m62,800\u001b[0m │\n",
       "├─────────────────────────────────┼────────────────────────┼───────────────┤\n",
       "│ hidden_layer_2 (\u001b[38;5;33mDense\u001b[0m)          │ (\u001b[38;5;45mNone\u001b[0m, \u001b[38;5;34m160\u001b[0m)            │        \u001b[38;5;34m12,960\u001b[0m │\n",
       "├─────────────────────────────────┼────────────────────────┼───────────────┤\n",
       "│ output_layer (\u001b[38;5;33mDense\u001b[0m)            │ (\u001b[38;5;45mNone\u001b[0m, \u001b[38;5;34m10\u001b[0m)             │         \u001b[38;5;34m1,610\u001b[0m │\n",
       "└─────────────────────────────────┴────────────────────────┴───────────────┘\n"
      ]
     },
     "metadata": {},
     "output_type": "display_data"
    },
    {
     "data": {
      "text/html": [
       "<pre style=\"white-space:pre;overflow-x:auto;line-height:normal;font-family:Menlo,'DejaVu Sans Mono',consolas,'Courier New',monospace\"><span style=\"font-weight: bold\"> Total params: </span><span style=\"color: #00af00; text-decoration-color: #00af00\">77,370</span> (302.23 KB)\n",
       "</pre>\n"
      ],
      "text/plain": [
       "\u001b[1m Total params: \u001b[0m\u001b[38;5;34m77,370\u001b[0m (302.23 KB)\n"
      ]
     },
     "metadata": {},
     "output_type": "display_data"
    },
    {
     "data": {
      "text/html": [
       "<pre style=\"white-space:pre;overflow-x:auto;line-height:normal;font-family:Menlo,'DejaVu Sans Mono',consolas,'Courier New',monospace\"><span style=\"font-weight: bold\"> Trainable params: </span><span style=\"color: #00af00; text-decoration-color: #00af00\">77,370</span> (302.23 KB)\n",
       "</pre>\n"
      ],
      "text/plain": [
       "\u001b[1m Trainable params: \u001b[0m\u001b[38;5;34m77,370\u001b[0m (302.23 KB)\n"
      ]
     },
     "metadata": {},
     "output_type": "display_data"
    },
    {
     "data": {
      "text/html": [
       "<pre style=\"white-space:pre;overflow-x:auto;line-height:normal;font-family:Menlo,'DejaVu Sans Mono',consolas,'Courier New',monospace\"><span style=\"font-weight: bold\"> Non-trainable params: </span><span style=\"color: #00af00; text-decoration-color: #00af00\">0</span> (0.00 B)\n",
       "</pre>\n"
      ],
      "text/plain": [
       "\u001b[1m Non-trainable params: \u001b[0m\u001b[38;5;34m0\u001b[0m (0.00 B)\n"
      ]
     },
     "metadata": {},
     "output_type": "display_data"
    }
   ],
   "source": [
    "nn_model.summary()"
   ]
  },
  {
   "cell_type": "markdown",
   "metadata": {},
   "source": [
    "## Step 3: Compiling And Training The Model"
   ]
  },
  {
   "cell_type": "markdown",
   "metadata": {},
   "source": [
    "- We'll be using the default hyperparameters for the loss function and customize the ones for the optimizer (learning_rate)\n",
    "- The learning rate is an important hyperparameter that controls the step size at which the model's weights are updated to reach the global minima in the direction of minimizing the loss function.\n",
    "- Keras documentation recommend starting with 0.001 value and then test other values to fine tune."
   ]
  },
  {
   "cell_type": "markdown",
   "metadata": {},
   "source": [
    "![LR](https://www.jeremyjordan.me/content/images/2018/02/Screen-Shot-2018-02-24-at-11.47.09-AM.png)"
   ]
  },
  {
   "cell_type": "code",
   "execution_count": 11,
   "metadata": {},
   "outputs": [],
   "source": [
    "#using default for loss function\n",
    "loss_fn = 'sparse_categorical_crossentropy'\n",
    "\n",
    "#customize the optimizer\n",
    "from tensorflow.keras import optimizers\n",
    "opt_algo = optimizers.Adam(learning_rate=0.001)"
   ]
  },
  {
   "cell_type": "code",
   "execution_count": 12,
   "metadata": {},
   "outputs": [],
   "source": [
    "nn_model.compile(optimizer=opt_algo,\n",
    "                 loss=loss_fn,\n",
    "                 metrics=['accuracy'])"
   ]
  },
  {
   "cell_type": "code",
   "execution_count": 13,
   "metadata": {},
   "outputs": [
    {
     "name": "stdout",
     "output_type": "stream",
     "text": [
      "Epoch 1/12\n",
      "\u001b[1m2000/2000\u001b[0m \u001b[32m━━━━━━━━━━━━━━━━━━━━\u001b[0m\u001b[37m\u001b[0m \u001b[1m2s\u001b[0m 716us/step - accuracy: 0.7739 - loss: 0.6493 - val_accuracy: 0.8598 - val_loss: 0.3869\n",
      "Epoch 2/12\n",
      "\u001b[1m2000/2000\u001b[0m \u001b[32m━━━━━━━━━━━━━━━━━━━━\u001b[0m\u001b[37m\u001b[0m \u001b[1m1s\u001b[0m 710us/step - accuracy: 0.8599 - loss: 0.3878 - val_accuracy: 0.8393 - val_loss: 0.4256\n",
      "Epoch 3/12\n",
      "\u001b[1m2000/2000\u001b[0m \u001b[32m━━━━━━━━━━━━━━━━━━━━\u001b[0m\u001b[37m\u001b[0m \u001b[1m2s\u001b[0m 796us/step - accuracy: 0.8713 - loss: 0.3406 - val_accuracy: 0.8641 - val_loss: 0.3675\n",
      "Epoch 4/12\n",
      "\u001b[1m2000/2000\u001b[0m \u001b[32m━━━━━━━━━━━━━━━━━━━━\u001b[0m\u001b[37m\u001b[0m \u001b[1m1s\u001b[0m 700us/step - accuracy: 0.8834 - loss: 0.3124 - val_accuracy: 0.8643 - val_loss: 0.3738\n",
      "Epoch 5/12\n",
      "\u001b[1m2000/2000\u001b[0m \u001b[32m━━━━━━━━━━━━━━━━━━━━\u001b[0m\u001b[37m\u001b[0m \u001b[1m1s\u001b[0m 679us/step - accuracy: 0.8902 - loss: 0.2909 - val_accuracy: 0.8733 - val_loss: 0.3416\n",
      "Epoch 6/12\n",
      "\u001b[1m2000/2000\u001b[0m \u001b[32m━━━━━━━━━━━━━━━━━━━━\u001b[0m\u001b[37m\u001b[0m \u001b[1m1s\u001b[0m 682us/step - accuracy: 0.8937 - loss: 0.2797 - val_accuracy: 0.8807 - val_loss: 0.3377\n",
      "Epoch 7/12\n",
      "\u001b[1m2000/2000\u001b[0m \u001b[32m━━━━━━━━━━━━━━━━━━━━\u001b[0m\u001b[37m\u001b[0m \u001b[1m1s\u001b[0m 676us/step - accuracy: 0.8998 - loss: 0.2667 - val_accuracy: 0.8734 - val_loss: 0.3499\n",
      "Epoch 8/12\n",
      "\u001b[1m2000/2000\u001b[0m \u001b[32m━━━━━━━━━━━━━━━━━━━━\u001b[0m\u001b[37m\u001b[0m \u001b[1m1s\u001b[0m 683us/step - accuracy: 0.9037 - loss: 0.2573 - val_accuracy: 0.8788 - val_loss: 0.3523\n",
      "Epoch 9/12\n",
      "\u001b[1m2000/2000\u001b[0m \u001b[32m━━━━━━━━━━━━━━━━━━━━\u001b[0m\u001b[37m\u001b[0m \u001b[1m2s\u001b[0m 757us/step - accuracy: 0.9084 - loss: 0.2440 - val_accuracy: 0.8804 - val_loss: 0.3292\n",
      "Epoch 10/12\n",
      "\u001b[1m2000/2000\u001b[0m \u001b[32m━━━━━━━━━━━━━━━━━━━━\u001b[0m\u001b[37m\u001b[0m \u001b[1m1s\u001b[0m 697us/step - accuracy: 0.9091 - loss: 0.2401 - val_accuracy: 0.8853 - val_loss: 0.3343\n",
      "Epoch 11/12\n",
      "\u001b[1m2000/2000\u001b[0m \u001b[32m━━━━━━━━━━━━━━━━━━━━\u001b[0m\u001b[37m\u001b[0m \u001b[1m1s\u001b[0m 689us/step - accuracy: 0.9134 - loss: 0.2294 - val_accuracy: 0.8841 - val_loss: 0.3296\n",
      "Epoch 12/12\n",
      "\u001b[1m2000/2000\u001b[0m \u001b[32m━━━━━━━━━━━━━━━━━━━━\u001b[0m\u001b[37m\u001b[0m \u001b[1m1s\u001b[0m 699us/step - accuracy: 0.9149 - loss: 0.2263 - val_accuracy: 0.8889 - val_loss: 0.3269\n"
     ]
    },
    {
     "data": {
      "text/plain": [
       "<keras.src.callbacks.history.History at 0x2d975c290>"
      ]
     },
     "execution_count": 13,
     "metadata": {},
     "output_type": "execute_result"
    }
   ],
   "source": [
    "nn_model.fit(X_train, y_train, epochs=12, validation_split=0.2, batch_size=24)"
   ]
  },
  {
   "cell_type": "markdown",
   "metadata": {},
   "source": [
    "## Evaluation"
   ]
  },
  {
   "cell_type": "code",
   "execution_count": 14,
   "metadata": {},
   "outputs": [
    {
     "name": "stdout",
     "output_type": "stream",
     "text": [
      "\u001b[1m313/313\u001b[0m \u001b[32m━━━━━━━━━━━━━━━━━━━━\u001b[0m\u001b[37m\u001b[0m \u001b[1m0s\u001b[0m 399us/step - accuracy: 0.8842 - loss: 0.3440\n"
     ]
    },
    {
     "data": {
      "text/plain": [
       "[0.34806060791015625, 0.8862000107765198]"
      ]
     },
     "execution_count": 14,
     "metadata": {},
     "output_type": "execute_result"
    }
   ],
   "source": [
    "nn_model.evaluate(X_test,y_test)"
   ]
  },
  {
   "cell_type": "code",
   "execution_count": 17,
   "metadata": {},
   "outputs": [
    {
     "name": "stdout",
     "output_type": "stream",
     "text": [
      "\u001b[1m313/313\u001b[0m \u001b[32m━━━━━━━━━━━━━━━━━━━━\u001b[0m\u001b[37m\u001b[0m \u001b[1m0s\u001b[0m 301us/step\n"
     ]
    },
    {
     "data": {
      "text/plain": [
       "array([[1.0544125e-07, 1.2433155e-07, 1.0063401e-08, 1.9827304e-10,\n",
       "        9.7709867e-09, 1.8877933e-04, 7.0889357e-08, 1.6015291e-02,\n",
       "        7.7182172e-09, 9.8379558e-01],\n",
       "       [1.5807536e-06, 1.2557273e-14, 9.9819332e-01, 4.2799950e-09,\n",
       "        1.0643749e-03, 1.1758229e-11, 7.4073492e-04, 2.0518217e-13,\n",
       "        1.5679868e-08, 3.2544697e-14]], dtype=float32)"
      ]
     },
     "execution_count": 17,
     "metadata": {},
     "output_type": "execute_result"
    }
   ],
   "source": [
    "predictions = nn_model.predict(X_test)\n",
    "predictions[:2]"
   ]
  },
  {
   "cell_type": "code",
   "execution_count": 18,
   "metadata": {},
   "outputs": [
    {
     "data": {
      "text/plain": [
       "<tf.Tensor: shape=(), dtype=int64, numpy=9>"
      ]
     },
     "execution_count": 18,
     "metadata": {},
     "output_type": "execute_result"
    }
   ],
   "source": [
    "tf.math.argmax(predictions[0])"
   ]
  },
  {
   "cell_type": "code",
   "execution_count": null,
   "metadata": {},
   "outputs": [],
   "source": [
    "from sklearn.metrics import "
   ]
  },
  {
   "cell_type": "markdown",
   "metadata": {},
   "source": [
    "## Bonus:  Functional API with Defined Function"
   ]
  },
  {
   "cell_type": "code",
   "execution_count": null,
   "metadata": {},
   "outputs": [],
   "source": [
    "def build_model_with_functional_api(input_shape,layer_c_n, complexity_score):\n",
    "  # input layer\n",
    "  my_input = layers.Input(shape=input_shape)\n",
    "\n",
    "  a = (Flatten())(my_input)\n",
    "\n",
    "  #hidden layer\n",
    "  b = (Dense(80, activation='relu', name='1st_hidden_layer'))(a)\n",
    "  c = (Dense(layer_c_n, activation='relu', name='2nd_hidden_layer'))(b)\n",
    "  \n",
    "  if complexity_score > 5:\n",
    "    print('The model is complex and needs a large NN')\n",
    "    d = (Dense(200, activation='relu', name='3rd_hidden_layer'))(c)\n",
    "    #output layer\n",
    "    my_output = (Dense(10, activation='softmax', name='output_layer'))(d)\n",
    "\n",
    "  else:\n",
    "    #output layer\n",
    "    my_output = (Dense(10, activation='softmax', name='output_layer'))(c)\n",
    "\n",
    "\n",
    "  #put all the components together\n",
    "  nn_model = models.Model(inputs=my_input, outputs=my_output)\n",
    "\n",
    "  return nn_model\n"
   ]
  }
 ],
 "metadata": {
  "kernelspec": {
   "display_name": "Python 3",
   "language": "python",
   "name": "python3"
  },
  "language_info": {
   "codemirror_mode": {
    "name": "ipython",
    "version": 3
   },
   "file_extension": ".py",
   "mimetype": "text/x-python",
   "name": "python",
   "nbconvert_exporter": "python",
   "pygments_lexer": "ipython3",
   "version": "3.11.3"
  }
 },
 "nbformat": 4,
 "nbformat_minor": 2
}
