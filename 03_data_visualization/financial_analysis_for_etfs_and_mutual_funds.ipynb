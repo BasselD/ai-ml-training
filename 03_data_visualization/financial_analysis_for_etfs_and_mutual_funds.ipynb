{
 "cells": [
  {
   "cell_type": "markdown",
   "metadata": {},
   "source": [
    "# Financial Analysis for ETFs and Mutual Funds"
   ]
  },
  {
   "cell_type": "markdown",
   "metadata": {},
   "source": [
    "## ETFs (Exchange-Traded Funds) vs Mutual Funds \n",
    "\n",
    "Both popular investment vehicles that pool money from multiple investors to invest in a diversified portfolio of assets. \n",
    " \n",
    "Key differences:\n",
    "\n",
    "1. Trading:\n",
    "   - ETFs: Traded on stock exchanges throughout the day at market prices.\n",
    "   - Mutual Funds: Priced and traded once per day after market close.\n",
    "\n",
    "2. Pricing:\n",
    "   - ETFs: Prices fluctuate throughout the trading day.\n",
    "   - Mutual Funds: Priced at the Net Asset Value (NAV) calculated at the end of each trading day.\n",
    "\n",
    "3. Minimum Investment:\n",
    "   - ETFs: Can be purchased for the price of a single share.\n",
    "   - Mutual Funds: Often have minimum initial investment requirements.\n",
    "\n",
    "4. Management:\n",
    "   - ETFs: Mostly passively managed, tracking an index.\n",
    "   - Mutual Funds: Can be actively or passively managed.\n",
    "\n",
    "5. Expense Ratios:\n",
    "   - ETFs: Generally have lower expense ratios.\n",
    "   - Mutual Funds: Often have higher expense ratios, especially for actively managed funds.\n",
    "\n",
    "6. Tax Efficiency:\n",
    "   - ETFs: Usually more tax-efficient due to their structure and lower turnover.\n",
    "   - Mutual Funds: May be less tax-efficient, particularly actively managed funds.\n",
    "\n",
    "7. Transparency:\n",
    "   - ETFs: Holdings are typically disclosed daily.\n",
    "   - Mutual Funds: Holdings are usually disclosed quarterly or semi-annually.\n"
   ]
  },
  {
   "cell_type": "markdown",
   "metadata": {},
   "source": [
    "## Types of Fees\n",
    "\n",
    "1. Expense Ratio:\n",
    "   - This is the annual fee that all funds charge their shareholders.\n",
    "   - It expresses the percentage of assets deducted each fiscal year for fund expenses.\n",
    "   - Includes management fees, administrative fees, and most operating costs.\n",
    "   - Generally, ETFs have lower expense ratios than mutual funds.\n",
    "\n",
    "2. Management Fees:\n",
    "   - Compensation for the fund manager, included in the expense ratio.\n",
    "   - Generally higher for actively managed funds.\n",
    "\n",
    "3. Sales Loads (more common in mutual funds):\n",
    "   - Front-end load: A fee paid when you buy shares.\n",
    "   - Back-end load: A fee paid when you sell shares.\n",
    "   - Many funds now offer no-load options.\n",
    "\n",
    "4. Transaction Fees:\n",
    "   - For ETFs: Brokerage commissions when buying or selling shares.\n",
    "   - For Mutual Funds: Some brokers charge a fee to buy or sell certain mutual funds.\n",
    "\n",
    "5. Trading Costs:\n",
    "   - Costs incurred by the fund when buying and selling securities.\n",
    "   - Not included in the expense ratio but affects returns.\n"
   ]
  },
  {
   "cell_type": "markdown",
   "metadata": {},
   "source": [
    "## Expense Ratio Charge\n",
    "- The expense ratio is charged daily, not annually or monthly.\n",
    "- It's calculated as a percentage of the fund's average net assets for the year, divided by 365 (or 366 in a leap year).\n",
    "- It's not visible on the account statement. Instead, it reduces the fund's overall return, which in turn affects the value of your investment."
   ]
  },
  {
   "cell_type": "markdown",
   "metadata": {},
   "source": [
    "## Simulation"
   ]
  },
  {
   "cell_type": "code",
   "execution_count": 1,
   "metadata": {},
   "outputs": [],
   "source": [
    "import pandas as pd\n",
    "import numpy as np\n",
    "import plotly.graph_objects as go\n",
    "import requests"
   ]
  },
  {
   "cell_type": "code",
   "execution_count": 2,
   "metadata": {},
   "outputs": [
    {
     "name": "stdout",
     "output_type": "stream",
     "text": [
      "0.0972\n"
     ]
    }
   ],
   "source": [
    "ticker ='VPC'\n",
    "api_key = 'M66ZYA8XASEVDYE6'\n",
    "url = 'https://www.alphavantage.co/query?function=ETF_PROFILE&symbol=QQQ&apikey=demo'\n",
    "url = url.replace('QQQ', ticker).replace('demo',api_key)\n",
    "r = requests.get(url)\n",
    "data = r.json()\n",
    "\n",
    "print(data['net_expense_ratio'])"
   ]
  },
  {
   "cell_type": "markdown",
   "metadata": {},
   "source": [
    "$${Net Return} = {Annual Return} - (Expense Ratio + Management Fee)$$\n",
    "$${Investment Value} = {Initial Investment} * (1 + {Net Return})^{Number of Periods}$$"
   ]
  },
  {
   "cell_type": "code",
   "execution_count": 3,
   "metadata": {},
   "outputs": [],
   "source": [
    "\n",
    "\n",
    "# Function to simulate investment growth with expense ratio and management fee\n",
    "def simulate_investment(initial_investment, years, annual_return, expense_ratio, management_fee):\n",
    "    # Create a DataFrame to store investment values for each year\n",
    "    data = {'Year': np.arange(0, years + 1)}\n",
    "    df = pd.DataFrame(data)\n",
    "    \n",
    "    # Calculate net return \n",
    "    net_return = annual_return - (expense_ratio + management_fee)\n",
    "    \n",
    "    # Calculate the investment value over time\n",
    "    df['Investment Value'] = initial_investment * (1 + net_return) ** df['Year']\n",
    "    \n",
    "    return df\n"
   ]
  },
  {
   "cell_type": "code",
   "execution_count": 4,
   "metadata": {},
   "outputs": [
    {
     "data": {
      "text/html": [
       "<div>\n",
       "<style scoped>\n",
       "    .dataframe tbody tr th:only-of-type {\n",
       "        vertical-align: middle;\n",
       "    }\n",
       "\n",
       "    .dataframe tbody tr th {\n",
       "        vertical-align: top;\n",
       "    }\n",
       "\n",
       "    .dataframe thead th {\n",
       "        text-align: right;\n",
       "    }\n",
       "</style>\n",
       "<table border=\"1\" class=\"dataframe\">\n",
       "  <thead>\n",
       "    <tr style=\"text-align: right;\">\n",
       "      <th></th>\n",
       "      <th>Year</th>\n",
       "      <th>Investment Value</th>\n",
       "    </tr>\n",
       "  </thead>\n",
       "  <tbody>\n",
       "    <tr>\n",
       "      <th>0</th>\n",
       "      <td>0</td>\n",
       "      <td>10000.0000</td>\n",
       "    </tr>\n",
       "    <tr>\n",
       "      <th>1</th>\n",
       "      <td>1</td>\n",
       "      <td>10500.0000</td>\n",
       "    </tr>\n",
       "    <tr>\n",
       "      <th>2</th>\n",
       "      <td>2</td>\n",
       "      <td>11025.0000</td>\n",
       "    </tr>\n",
       "    <tr>\n",
       "      <th>3</th>\n",
       "      <td>3</td>\n",
       "      <td>11576.2500</td>\n",
       "    </tr>\n",
       "    <tr>\n",
       "      <th>4</th>\n",
       "      <td>4</td>\n",
       "      <td>12155.0625</td>\n",
       "    </tr>\n",
       "  </tbody>\n",
       "</table>\n",
       "</div>"
      ],
      "text/plain": [
       "   Year  Investment Value\n",
       "0     0        10000.0000\n",
       "1     1        10500.0000\n",
       "2     2        11025.0000\n",
       "3     3        11576.2500\n",
       "4     4        12155.0625"
      ]
     },
     "execution_count": 4,
     "metadata": {},
     "output_type": "execute_result"
    }
   ],
   "source": [
    "\n",
    "# Adjustable parameters\n",
    "initial_investment = 10000  \n",
    "years = 20  # Investment period\n",
    "annual_return = 0.07  # % annual return before fees\n",
    "baseline_expense_ratio = 0.01  # Fixed baseline expense ratio at 1%\n",
    "management_fee = 0.01  # Fixed management fee (1%)\n",
    "\n",
    "# Simulate investment for baseline expense ratio\n",
    "baseline_df = simulate_investment(initial_investment, years, annual_return, baseline_expense_ratio, management_fee)\n",
    "baseline_df.head()"
   ]
  },
  {
   "cell_type": "code",
   "execution_count": 5,
   "metadata": {},
   "outputs": [
    {
     "data": {
      "application/vnd.plotly.v1+json": {
       "config": {
        "plotlyServerURL": "https://plot.ly"
       },
       "data": [
        {
         "line": {
          "color": "royalblue"
         },
         "mode": "lines",
         "name": "Baseline (1%)",
         "type": "scatter",
         "x": [
          0,
          1,
          2,
          3,
          4,
          5,
          6,
          7,
          8,
          9,
          10,
          11,
          12,
          13,
          14,
          15,
          16,
          17,
          18,
          19,
          20
         ],
         "y": [
          10000,
          10500,
          11025,
          11576.250000000002,
          12155.062500000002,
          12762.815625000003,
          13400.956406250005,
          14071.004226562505,
          14774.55443789063,
          15513.282159785162,
          16288.94626777442,
          17103.39358116314,
          17958.5632602213,
          18856.491423232368,
          19799.315994393986,
          20789.28179411369,
          21828.74588381937,
          22920.183178010342,
          24066.192336910855,
          25269.501953756404,
          26532.97705144422
         ]
        },
        {
         "mode": "lines",
         "name": "Expense Ratio: 0.5%",
         "type": "scatter",
         "visible": false,
         "x": [
          0,
          1,
          2,
          3,
          4,
          5,
          6,
          7,
          8,
          9,
          10,
          11,
          12,
          13,
          14,
          15,
          16,
          17,
          18,
          19,
          20
         ],
         "y": [
          10000,
          10550,
          11130.25,
          11742.413749999998,
          12388.246506249998,
          13069.600064093747,
          13788.428067618901,
          14546.79161133794,
          15346.865149961526,
          16190.942733209407,
          17081.444583535926,
          18020.9240356304,
          19012.074857590072,
          20057.738974757525,
          21160.914618369185,
          22324.76492237949,
          23552.62699311036,
          24848.02147773143,
          26214.66265900666,
          27656.46910525202,
          29177.574906040878
         ]
        },
        {
         "mode": "lines",
         "name": "Expense Ratio: 1.0%",
         "type": "scatter",
         "visible": false,
         "x": [
          0,
          1,
          2,
          3,
          4,
          5,
          6,
          7,
          8,
          9,
          10,
          11,
          12,
          13,
          14,
          15,
          16,
          17,
          18,
          19,
          20
         ],
         "y": [
          10000,
          10500,
          11025,
          11576.250000000002,
          12155.062500000002,
          12762.815625000003,
          13400.956406250005,
          14071.004226562505,
          14774.55443789063,
          15513.282159785162,
          16288.94626777442,
          17103.39358116314,
          17958.5632602213,
          18856.491423232368,
          19799.315994393986,
          20789.28179411369,
          21828.74588381937,
          22920.183178010342,
          24066.192336910855,
          25269.501953756404,
          26532.97705144422
         ]
        },
        {
         "mode": "lines",
         "name": "Expense Ratio: 1.5%",
         "type": "scatter",
         "visible": false,
         "x": [
          0,
          1,
          2,
          3,
          4,
          5,
          6,
          7,
          8,
          9,
          10,
          11,
          12,
          13,
          14,
          15,
          16,
          17,
          18,
          19,
          20
         ],
         "y": [
          10000,
          10450,
          10920.249999999998,
          11411.661249999997,
          11925.186006249996,
          12461.819376531246,
          13022.601248475152,
          13608.618304656533,
          14221.006128366074,
          14860.951404142546,
          15529.694217328959,
          16228.530457108764,
          16958.814327678654,
          17721.960972424193,
          18519.449216183282,
          19352.82443091153,
          20223.701530302547,
          21133.76809916616,
          22084.787663628635,
          23078.60310849192,
          24117.140248374057
         ]
        },
        {
         "mode": "lines",
         "name": "Expense Ratio: 2.0%",
         "type": "scatter",
         "visible": false,
         "x": [
          0,
          1,
          2,
          3,
          4,
          5,
          6,
          7,
          8,
          9,
          10,
          11,
          12,
          13,
          14,
          15,
          16,
          17,
          18,
          19,
          20
         ],
         "y": [
          10000,
          10400,
          10816.000000000002,
          11248.640000000001,
          11698.585600000002,
          12166.529024000001,
          12653.190184960004,
          13159.317792358403,
          13685.690504052738,
          14233.11812421485,
          14802.442849183444,
          15394.540563150782,
          16010.322185676816,
          16650.73507310389,
          17316.764476028045,
          18009.435055069163,
          18729.81245727193,
          19479.00495556281,
          20258.165153785325,
          21068.49175993674,
          21911.231430334206
         ]
        },
        {
         "mode": "lines",
         "name": "Expense Ratio: 2.5%",
         "type": "scatter",
         "visible": false,
         "x": [
          0,
          1,
          2,
          3,
          4,
          5,
          6,
          7,
          8,
          9,
          10,
          11,
          12,
          13,
          14,
          15,
          16,
          17,
          18,
          19,
          20
         ],
         "y": [
          10000,
          10350,
          10712.249999999998,
          11087.178749999997,
          11475.230006249996,
          11876.863056468745,
          12292.55326344515,
          12722.792627665729,
          13168.090369634028,
          13628.97353257122,
          14105.98760621121,
          14599.697172428603,
          15110.686573463603,
          15639.560603534828,
          16186.945224658544,
          16753.488307521595,
          17339.860398284847,
          17946.755512224816,
          18574.89195515268,
          19225.013173583025,
          19897.88863465843
         ]
        }
       ],
       "layout": {
        "legend": {
         "orientation": "h",
         "x": 1,
         "xanchor": "right",
         "y": 1.02,
         "yanchor": "bottom"
        },
        "template": {
         "data": {
          "bar": [
           {
            "error_x": {
             "color": "#f2f5fa"
            },
            "error_y": {
             "color": "#f2f5fa"
            },
            "marker": {
             "line": {
              "color": "rgb(17,17,17)",
              "width": 0.5
             },
             "pattern": {
              "fillmode": "overlay",
              "size": 10,
              "solidity": 0.2
             }
            },
            "type": "bar"
           }
          ],
          "barpolar": [
           {
            "marker": {
             "line": {
              "color": "rgb(17,17,17)",
              "width": 0.5
             },
             "pattern": {
              "fillmode": "overlay",
              "size": 10,
              "solidity": 0.2
             }
            },
            "type": "barpolar"
           }
          ],
          "carpet": [
           {
            "aaxis": {
             "endlinecolor": "#A2B1C6",
             "gridcolor": "#506784",
             "linecolor": "#506784",
             "minorgridcolor": "#506784",
             "startlinecolor": "#A2B1C6"
            },
            "baxis": {
             "endlinecolor": "#A2B1C6",
             "gridcolor": "#506784",
             "linecolor": "#506784",
             "minorgridcolor": "#506784",
             "startlinecolor": "#A2B1C6"
            },
            "type": "carpet"
           }
          ],
          "choropleth": [
           {
            "colorbar": {
             "outlinewidth": 0,
             "ticks": ""
            },
            "type": "choropleth"
           }
          ],
          "contour": [
           {
            "colorbar": {
             "outlinewidth": 0,
             "ticks": ""
            },
            "colorscale": [
             [
              0,
              "#0d0887"
             ],
             [
              0.1111111111111111,
              "#46039f"
             ],
             [
              0.2222222222222222,
              "#7201a8"
             ],
             [
              0.3333333333333333,
              "#9c179e"
             ],
             [
              0.4444444444444444,
              "#bd3786"
             ],
             [
              0.5555555555555556,
              "#d8576b"
             ],
             [
              0.6666666666666666,
              "#ed7953"
             ],
             [
              0.7777777777777778,
              "#fb9f3a"
             ],
             [
              0.8888888888888888,
              "#fdca26"
             ],
             [
              1,
              "#f0f921"
             ]
            ],
            "type": "contour"
           }
          ],
          "contourcarpet": [
           {
            "colorbar": {
             "outlinewidth": 0,
             "ticks": ""
            },
            "type": "contourcarpet"
           }
          ],
          "heatmap": [
           {
            "colorbar": {
             "outlinewidth": 0,
             "ticks": ""
            },
            "colorscale": [
             [
              0,
              "#0d0887"
             ],
             [
              0.1111111111111111,
              "#46039f"
             ],
             [
              0.2222222222222222,
              "#7201a8"
             ],
             [
              0.3333333333333333,
              "#9c179e"
             ],
             [
              0.4444444444444444,
              "#bd3786"
             ],
             [
              0.5555555555555556,
              "#d8576b"
             ],
             [
              0.6666666666666666,
              "#ed7953"
             ],
             [
              0.7777777777777778,
              "#fb9f3a"
             ],
             [
              0.8888888888888888,
              "#fdca26"
             ],
             [
              1,
              "#f0f921"
             ]
            ],
            "type": "heatmap"
           }
          ],
          "heatmapgl": [
           {
            "colorbar": {
             "outlinewidth": 0,
             "ticks": ""
            },
            "colorscale": [
             [
              0,
              "#0d0887"
             ],
             [
              0.1111111111111111,
              "#46039f"
             ],
             [
              0.2222222222222222,
              "#7201a8"
             ],
             [
              0.3333333333333333,
              "#9c179e"
             ],
             [
              0.4444444444444444,
              "#bd3786"
             ],
             [
              0.5555555555555556,
              "#d8576b"
             ],
             [
              0.6666666666666666,
              "#ed7953"
             ],
             [
              0.7777777777777778,
              "#fb9f3a"
             ],
             [
              0.8888888888888888,
              "#fdca26"
             ],
             [
              1,
              "#f0f921"
             ]
            ],
            "type": "heatmapgl"
           }
          ],
          "histogram": [
           {
            "marker": {
             "pattern": {
              "fillmode": "overlay",
              "size": 10,
              "solidity": 0.2
             }
            },
            "type": "histogram"
           }
          ],
          "histogram2d": [
           {
            "colorbar": {
             "outlinewidth": 0,
             "ticks": ""
            },
            "colorscale": [
             [
              0,
              "#0d0887"
             ],
             [
              0.1111111111111111,
              "#46039f"
             ],
             [
              0.2222222222222222,
              "#7201a8"
             ],
             [
              0.3333333333333333,
              "#9c179e"
             ],
             [
              0.4444444444444444,
              "#bd3786"
             ],
             [
              0.5555555555555556,
              "#d8576b"
             ],
             [
              0.6666666666666666,
              "#ed7953"
             ],
             [
              0.7777777777777778,
              "#fb9f3a"
             ],
             [
              0.8888888888888888,
              "#fdca26"
             ],
             [
              1,
              "#f0f921"
             ]
            ],
            "type": "histogram2d"
           }
          ],
          "histogram2dcontour": [
           {
            "colorbar": {
             "outlinewidth": 0,
             "ticks": ""
            },
            "colorscale": [
             [
              0,
              "#0d0887"
             ],
             [
              0.1111111111111111,
              "#46039f"
             ],
             [
              0.2222222222222222,
              "#7201a8"
             ],
             [
              0.3333333333333333,
              "#9c179e"
             ],
             [
              0.4444444444444444,
              "#bd3786"
             ],
             [
              0.5555555555555556,
              "#d8576b"
             ],
             [
              0.6666666666666666,
              "#ed7953"
             ],
             [
              0.7777777777777778,
              "#fb9f3a"
             ],
             [
              0.8888888888888888,
              "#fdca26"
             ],
             [
              1,
              "#f0f921"
             ]
            ],
            "type": "histogram2dcontour"
           }
          ],
          "mesh3d": [
           {
            "colorbar": {
             "outlinewidth": 0,
             "ticks": ""
            },
            "type": "mesh3d"
           }
          ],
          "parcoords": [
           {
            "line": {
             "colorbar": {
              "outlinewidth": 0,
              "ticks": ""
             }
            },
            "type": "parcoords"
           }
          ],
          "pie": [
           {
            "automargin": true,
            "type": "pie"
           }
          ],
          "scatter": [
           {
            "marker": {
             "line": {
              "color": "#283442"
             }
            },
            "type": "scatter"
           }
          ],
          "scatter3d": [
           {
            "line": {
             "colorbar": {
              "outlinewidth": 0,
              "ticks": ""
             }
            },
            "marker": {
             "colorbar": {
              "outlinewidth": 0,
              "ticks": ""
             }
            },
            "type": "scatter3d"
           }
          ],
          "scattercarpet": [
           {
            "marker": {
             "colorbar": {
              "outlinewidth": 0,
              "ticks": ""
             }
            },
            "type": "scattercarpet"
           }
          ],
          "scattergeo": [
           {
            "marker": {
             "colorbar": {
              "outlinewidth": 0,
              "ticks": ""
             }
            },
            "type": "scattergeo"
           }
          ],
          "scattergl": [
           {
            "marker": {
             "line": {
              "color": "#283442"
             }
            },
            "type": "scattergl"
           }
          ],
          "scattermapbox": [
           {
            "marker": {
             "colorbar": {
              "outlinewidth": 0,
              "ticks": ""
             }
            },
            "type": "scattermapbox"
           }
          ],
          "scatterpolar": [
           {
            "marker": {
             "colorbar": {
              "outlinewidth": 0,
              "ticks": ""
             }
            },
            "type": "scatterpolar"
           }
          ],
          "scatterpolargl": [
           {
            "marker": {
             "colorbar": {
              "outlinewidth": 0,
              "ticks": ""
             }
            },
            "type": "scatterpolargl"
           }
          ],
          "scatterternary": [
           {
            "marker": {
             "colorbar": {
              "outlinewidth": 0,
              "ticks": ""
             }
            },
            "type": "scatterternary"
           }
          ],
          "surface": [
           {
            "colorbar": {
             "outlinewidth": 0,
             "ticks": ""
            },
            "colorscale": [
             [
              0,
              "#0d0887"
             ],
             [
              0.1111111111111111,
              "#46039f"
             ],
             [
              0.2222222222222222,
              "#7201a8"
             ],
             [
              0.3333333333333333,
              "#9c179e"
             ],
             [
              0.4444444444444444,
              "#bd3786"
             ],
             [
              0.5555555555555556,
              "#d8576b"
             ],
             [
              0.6666666666666666,
              "#ed7953"
             ],
             [
              0.7777777777777778,
              "#fb9f3a"
             ],
             [
              0.8888888888888888,
              "#fdca26"
             ],
             [
              1,
              "#f0f921"
             ]
            ],
            "type": "surface"
           }
          ],
          "table": [
           {
            "cells": {
             "fill": {
              "color": "#506784"
             },
             "line": {
              "color": "rgb(17,17,17)"
             }
            },
            "header": {
             "fill": {
              "color": "#2a3f5f"
             },
             "line": {
              "color": "rgb(17,17,17)"
             }
            },
            "type": "table"
           }
          ]
         },
         "layout": {
          "annotationdefaults": {
           "arrowcolor": "#f2f5fa",
           "arrowhead": 0,
           "arrowwidth": 1
          },
          "autotypenumbers": "strict",
          "coloraxis": {
           "colorbar": {
            "outlinewidth": 0,
            "ticks": ""
           }
          },
          "colorscale": {
           "diverging": [
            [
             0,
             "#8e0152"
            ],
            [
             0.1,
             "#c51b7d"
            ],
            [
             0.2,
             "#de77ae"
            ],
            [
             0.3,
             "#f1b6da"
            ],
            [
             0.4,
             "#fde0ef"
            ],
            [
             0.5,
             "#f7f7f7"
            ],
            [
             0.6,
             "#e6f5d0"
            ],
            [
             0.7,
             "#b8e186"
            ],
            [
             0.8,
             "#7fbc41"
            ],
            [
             0.9,
             "#4d9221"
            ],
            [
             1,
             "#276419"
            ]
           ],
           "sequential": [
            [
             0,
             "#0d0887"
            ],
            [
             0.1111111111111111,
             "#46039f"
            ],
            [
             0.2222222222222222,
             "#7201a8"
            ],
            [
             0.3333333333333333,
             "#9c179e"
            ],
            [
             0.4444444444444444,
             "#bd3786"
            ],
            [
             0.5555555555555556,
             "#d8576b"
            ],
            [
             0.6666666666666666,
             "#ed7953"
            ],
            [
             0.7777777777777778,
             "#fb9f3a"
            ],
            [
             0.8888888888888888,
             "#fdca26"
            ],
            [
             1,
             "#f0f921"
            ]
           ],
           "sequentialminus": [
            [
             0,
             "#0d0887"
            ],
            [
             0.1111111111111111,
             "#46039f"
            ],
            [
             0.2222222222222222,
             "#7201a8"
            ],
            [
             0.3333333333333333,
             "#9c179e"
            ],
            [
             0.4444444444444444,
             "#bd3786"
            ],
            [
             0.5555555555555556,
             "#d8576b"
            ],
            [
             0.6666666666666666,
             "#ed7953"
            ],
            [
             0.7777777777777778,
             "#fb9f3a"
            ],
            [
             0.8888888888888888,
             "#fdca26"
            ],
            [
             1,
             "#f0f921"
            ]
           ]
          },
          "colorway": [
           "#636efa",
           "#EF553B",
           "#00cc96",
           "#ab63fa",
           "#FFA15A",
           "#19d3f3",
           "#FF6692",
           "#B6E880",
           "#FF97FF",
           "#FECB52"
          ],
          "font": {
           "color": "#f2f5fa"
          },
          "geo": {
           "bgcolor": "rgb(17,17,17)",
           "lakecolor": "rgb(17,17,17)",
           "landcolor": "rgb(17,17,17)",
           "showlakes": true,
           "showland": true,
           "subunitcolor": "#506784"
          },
          "hoverlabel": {
           "align": "left"
          },
          "hovermode": "closest",
          "mapbox": {
           "style": "dark"
          },
          "paper_bgcolor": "rgb(17,17,17)",
          "plot_bgcolor": "rgb(17,17,17)",
          "polar": {
           "angularaxis": {
            "gridcolor": "#506784",
            "linecolor": "#506784",
            "ticks": ""
           },
           "bgcolor": "rgb(17,17,17)",
           "radialaxis": {
            "gridcolor": "#506784",
            "linecolor": "#506784",
            "ticks": ""
           }
          },
          "scene": {
           "xaxis": {
            "backgroundcolor": "rgb(17,17,17)",
            "gridcolor": "#506784",
            "gridwidth": 2,
            "linecolor": "#506784",
            "showbackground": true,
            "ticks": "",
            "zerolinecolor": "#C8D4E3"
           },
           "yaxis": {
            "backgroundcolor": "rgb(17,17,17)",
            "gridcolor": "#506784",
            "gridwidth": 2,
            "linecolor": "#506784",
            "showbackground": true,
            "ticks": "",
            "zerolinecolor": "#C8D4E3"
           },
           "zaxis": {
            "backgroundcolor": "rgb(17,17,17)",
            "gridcolor": "#506784",
            "gridwidth": 2,
            "linecolor": "#506784",
            "showbackground": true,
            "ticks": "",
            "zerolinecolor": "#C8D4E3"
           }
          },
          "shapedefaults": {
           "line": {
            "color": "#f2f5fa"
           }
          },
          "sliderdefaults": {
           "bgcolor": "#C8D4E3",
           "bordercolor": "rgb(17,17,17)",
           "borderwidth": 1,
           "tickwidth": 0
          },
          "ternary": {
           "aaxis": {
            "gridcolor": "#506784",
            "linecolor": "#506784",
            "ticks": ""
           },
           "baxis": {
            "gridcolor": "#506784",
            "linecolor": "#506784",
            "ticks": ""
           },
           "bgcolor": "rgb(17,17,17)",
           "caxis": {
            "gridcolor": "#506784",
            "linecolor": "#506784",
            "ticks": ""
           }
          },
          "title": {
           "x": 0.05
          },
          "updatemenudefaults": {
           "bgcolor": "#506784",
           "borderwidth": 0
          },
          "xaxis": {
           "automargin": true,
           "gridcolor": "#283442",
           "linecolor": "#506784",
           "ticks": "",
           "title": {
            "standoff": 15
           },
           "zerolinecolor": "#283442",
           "zerolinewidth": 2
          },
          "yaxis": {
           "automargin": true,
           "gridcolor": "#283442",
           "linecolor": "#506784",
           "ticks": "",
           "title": {
            "standoff": 15
           },
           "zerolinecolor": "#283442",
           "zerolinewidth": 2
          }
         }
        },
        "title": {
         "text": "Impact of Expense Ratio on a $10,000 Investment"
        },
        "updatemenus": [
         {
          "active": 0,
          "buttons": [
           {
            "args": [
             {
              "visible": [
               true,
               true,
               false,
               false,
               false,
               false
              ]
             }
            ],
            "label": "Exp. Ratio: 0.5%",
            "method": "update"
           },
           {
            "args": [
             {
              "visible": [
               true,
               false,
               true,
               false,
               false,
               false
              ]
             }
            ],
            "label": "Exp. Ratio: 1.0%",
            "method": "update"
           },
           {
            "args": [
             {
              "visible": [
               true,
               false,
               false,
               true,
               false,
               false
              ]
             }
            ],
            "label": "Exp. Ratio: 1.5%",
            "method": "update"
           },
           {
            "args": [
             {
              "visible": [
               true,
               false,
               false,
               false,
               true,
               false
              ]
             }
            ],
            "label": "Exp. Ratio: 2.0%",
            "method": "update"
           },
           {
            "args": [
             {
              "visible": [
               true,
               false,
               false,
               false,
               false,
               true
              ]
             }
            ],
            "label": "Exp. Ratio: 2.5%",
            "method": "update"
           }
          ],
          "x": 0.01,
          "xanchor": "left",
          "y": 1.15
         }
        ],
        "xaxis": {
         "title": {
          "text": "Years"
         }
        },
        "yaxis": {
         "title": {
          "text": "Investment Value (USD)"
         }
        }
       }
      }
     },
     "metadata": {},
     "output_type": "display_data"
    }
   ],
   "source": [
    "\n",
    "# Expense ratios to include in the dropdown\n",
    "expense_ratios = [0.005, 0.01, 0.015, 0.02, 0.025]  # Different expense ratios (0.5% to 2.5%)\n",
    "\n",
    "# Create a figure\n",
    "fig = go.Figure()\n",
    "\n",
    "# Add the baseline line (fixed expense ratio)\n",
    "fig.add_trace(go.Scatter(\n",
    "    x=baseline_df['Year'],\n",
    "    y=baseline_df['Investment Value'],\n",
    "    mode='lines',\n",
    "    name=f'Baseline (1%)',\n",
    "    line=dict(color='royalblue')\n",
    "))\n",
    "\n",
    "# Add traces for each expense ratio for comparison (only one will be visible at a time)\n",
    "for ratio in expense_ratios:\n",
    "    df = simulate_investment(initial_investment, years, annual_return, ratio, management_fee)\n",
    "    fig.add_trace(go.Scatter(\n",
    "        x=df['Year'],\n",
    "        y=df['Investment Value'],\n",
    "        mode='lines',\n",
    "        name=f'Expense Ratio: {ratio*100:.1f}%',\n",
    "        visible=False  # Initially, only the baseline is visible\n",
    "    ))\n",
    "\n",
    "# Create drop-down menu\n",
    "dropdown_buttons = [\n",
    "    dict(\n",
    "        args=[{'visible': [True] + [i == idx for i in range(len(expense_ratios))]}],  # Toggle visibility\n",
    "        label=f'Exp. Ratio: {expense_ratios[idx]*100}%',\n",
    "        method='update'\n",
    "    ) for idx in range(len(expense_ratios))\n",
    "]\n",
    "\n",
    "# Update layout with drop-down\n",
    "fig.update_layout(\n",
    "    updatemenus=[{\n",
    "        'active': 0,  # Baseline is initially active\n",
    "        'buttons': dropdown_buttons,\n",
    "        'xanchor':'left',\n",
    "        'x': 0.01, 'y': 1.15  # Position of the drop-down menu\n",
    "        \n",
    "    }],\n",
    "    legend=dict(\n",
    "        orientation=\"h\",  # Make legend horizontal\n",
    "        yanchor=\"bottom\",  # Anchor the legend to the top\n",
    "        y=1.02,  # Position it above the plot\n",
    "        xanchor=\"right\",  # Align legend to the right\n",
    "        x=1,  # Place the legend to the right of the title\n",
    "    ),\n",
    "    title=\"Impact of Expense Ratio on a $10,000 Investment\",\n",
    "    xaxis_title=\"Years\",\n",
    "    yaxis_title=\"Investment Value (USD)\",\n",
    "    template=\"plotly_dark\"\n",
    ")\n",
    "\n",
    "# Show plot\n",
    "fig.show()\n"
   ]
  },
  {
   "cell_type": "markdown",
   "metadata": {},
   "source": [
    "## With Annual Return Rate Simulation Added"
   ]
  },
  {
   "cell_type": "code",
   "execution_count": 8,
   "metadata": {},
   "outputs": [
    {
     "data": {
      "application/vnd.plotly.v1+json": {
       "config": {
        "plotlyServerURL": "https://plot.ly"
       },
       "data": [
        {
         "line": {
          "color": "royalblue"
         },
         "mode": "lines",
         "name": "Baseline (7% return, 1% exp. ratio)",
         "type": "scatter",
         "x": [
          0,
          1,
          2,
          3,
          4,
          5,
          6,
          7,
          8,
          9,
          10,
          11,
          12,
          13,
          14,
          15,
          16,
          17,
          18,
          19,
          20
         ],
         "y": [
          10000,
          10500,
          11025,
          11576.250000000002,
          12155.062500000002,
          12762.815625000003,
          13400.956406250005,
          14071.004226562505,
          14774.55443789063,
          15513.282159785162,
          16288.94626777442,
          17103.39358116314,
          17958.5632602213,
          18856.491423232368,
          19799.315994393986,
          20789.28179411369,
          21828.74588381937,
          22920.183178010342,
          24066.192336910855,
          25269.501953756404,
          26532.97705144422
         ]
        },
        {
         "mode": "lines",
         "name": "Exp. Ratio: 0.5%, Return: 6.0%",
         "type": "scatter",
         "visible": false,
         "x": [
          0,
          1,
          2,
          3,
          4,
          5,
          6,
          7,
          8,
          9,
          10,
          11,
          12,
          13,
          14,
          15,
          16,
          17,
          18,
          19,
          20
         ],
         "y": [
          10000,
          10450,
          10920.249999999998,
          11411.661249999997,
          11925.186006249996,
          12461.819376531246,
          13022.601248475152,
          13608.618304656533,
          14221.006128366074,
          14860.951404142546,
          15529.694217328959,
          16228.530457108764,
          16958.814327678654,
          17721.960972424193,
          18519.449216183282,
          19352.82443091153,
          20223.701530302547,
          21133.76809916616,
          22084.787663628635,
          23078.60310849192,
          24117.140248374057
         ]
        },
        {
         "mode": "lines",
         "name": "Exp. Ratio: 0.5%, Return: 7.0%",
         "type": "scatter",
         "visible": false,
         "x": [
          0,
          1,
          2,
          3,
          4,
          5,
          6,
          7,
          8,
          9,
          10,
          11,
          12,
          13,
          14,
          15,
          16,
          17,
          18,
          19,
          20
         ],
         "y": [
          10000,
          10550,
          11130.25,
          11742.413749999998,
          12388.246506249998,
          13069.600064093747,
          13788.428067618901,
          14546.79161133794,
          15346.865149961526,
          16190.942733209407,
          17081.444583535926,
          18020.9240356304,
          19012.074857590072,
          20057.738974757525,
          21160.914618369185,
          22324.76492237949,
          23552.62699311036,
          24848.02147773143,
          26214.66265900666,
          27656.46910525202,
          29177.574906040878
         ]
        },
        {
         "mode": "lines",
         "name": "Exp. Ratio: 0.5%, Return: 8.0%",
         "type": "scatter",
         "visible": false,
         "x": [
          0,
          1,
          2,
          3,
          4,
          5,
          6,
          7,
          8,
          9,
          10,
          11,
          12,
          13,
          14,
          15,
          16,
          17,
          18,
          19,
          20
         ],
         "y": [
          10000,
          10650,
          11342.249999999998,
          12079.496249999998,
          12864.663506249997,
          13700.866634156246,
          14591.422965376401,
          15539.865458125867,
          16549.956712904048,
          17625.70389924281,
          18771.37465269359,
          19991.51400511867,
          21290.962415451388,
          22674.874972455727,
          24148.741845665347,
          25718.410065633594,
          27390.106719899773,
          29170.46365669326,
          31066.54379437832,
          33085.86914101291,
          35236.45063517875
         ]
        },
        {
         "mode": "lines",
         "name": "Exp. Ratio: 0.5%, Return: 9.0%",
         "type": "scatter",
         "visible": false,
         "x": [
          0,
          1,
          2,
          3,
          4,
          5,
          6,
          7,
          8,
          9,
          10,
          11,
          12,
          13,
          14,
          15,
          16,
          17,
          18,
          19,
          20
         ],
         "y": [
          10000,
          10750,
          11556.249999999998,
          12422.968749999998,
          13354.691406249998,
          14356.293261718747,
          15433.015256347653,
          16590.491400573726,
          17834.778255616755,
          19172.38662478801,
          20610.31562164711,
          22156.08929327064,
          23817.79599026594,
          25604.130689535883,
          27524.440491251073,
          29588.773528094902,
          31807.93154270202,
          34193.52640840467,
          36758.040889035015,
          39514.89395571264,
          42478.51100239109
         ]
        },
        {
         "mode": "lines",
         "name": "Exp. Ratio: 0.5%, Return: 10.0%",
         "type": "scatter",
         "visible": false,
         "x": [
          0,
          1,
          2,
          3,
          4,
          5,
          6,
          7,
          8,
          9,
          10,
          11,
          12,
          13,
          14,
          15,
          16,
          17,
          18,
          19,
          20
         ],
         "y": [
          10000,
          10850,
          11772.25,
          12772.891249999999,
          13858.587006249998,
          15036.566901781247,
          16314.675088432654,
          17701.42247094943,
          19206.04338098013,
          20838.55706836344,
          22609.834419174327,
          24531.670344804144,
          26616.8623241125,
          28879.295621662062,
          31334.035749503335,
          33997.42878821112,
          36887.210235209066,
          40022.62310520183,
          43424.54606914399,
          47115.63248502122,
          51120.46124624802
         ]
        },
        {
         "mode": "lines",
         "name": "Exp. Ratio: 0.5%, Return: 15.0%",
         "type": "scatter",
         "visible": false,
         "x": [
          0,
          1,
          2,
          3,
          4,
          5,
          6,
          7,
          8,
          9,
          10,
          11,
          12,
          13,
          14,
          15,
          16,
          17,
          18,
          19,
          20
         ],
         "y": [
          10000,
          11350,
          12882.25,
          14621.353750000002,
          16595.23650625,
          18835.593434593753,
          21378.398548263907,
          24264.482352279534,
          27540.18746983727,
          31258.112778265302,
          35477.95800333112,
          40267.48233378083,
          45703.592448841235,
          51873.57742943481,
          58876.510382408494,
          66824.83928403365,
          75846.19258737819,
          86085.42858667426,
          97706.96144587526,
          110897.40124106842,
          125868.55040861267
         ]
        },
        {
         "mode": "lines",
         "name": "Exp. Ratio: 1.0%, Return: 6.0%",
         "type": "scatter",
         "visible": false,
         "x": [
          0,
          1,
          2,
          3,
          4,
          5,
          6,
          7,
          8,
          9,
          10,
          11,
          12,
          13,
          14,
          15,
          16,
          17,
          18,
          19,
          20
         ],
         "y": [
          10000,
          10400,
          10816.000000000002,
          11248.640000000001,
          11698.585600000002,
          12166.529024000001,
          12653.190184960004,
          13159.317792358403,
          13685.690504052738,
          14233.11812421485,
          14802.442849183444,
          15394.540563150782,
          16010.322185676816,
          16650.73507310389,
          17316.764476028045,
          18009.435055069163,
          18729.81245727193,
          19479.00495556281,
          20258.165153785325,
          21068.49175993674,
          21911.231430334206
         ]
        },
        {
         "mode": "lines",
         "name": "Exp. Ratio: 1.0%, Return: 7.0%",
         "type": "scatter",
         "visible": false,
         "x": [
          0,
          1,
          2,
          3,
          4,
          5,
          6,
          7,
          8,
          9,
          10,
          11,
          12,
          13,
          14,
          15,
          16,
          17,
          18,
          19,
          20
         ],
         "y": [
          10000,
          10500,
          11025,
          11576.250000000002,
          12155.062500000002,
          12762.815625000003,
          13400.956406250005,
          14071.004226562505,
          14774.55443789063,
          15513.282159785162,
          16288.94626777442,
          17103.39358116314,
          17958.5632602213,
          18856.491423232368,
          19799.315994393986,
          20789.28179411369,
          21828.74588381937,
          22920.183178010342,
          24066.192336910855,
          25269.501953756404,
          26532.97705144422
         ]
        },
        {
         "mode": "lines",
         "name": "Exp. Ratio: 1.0%, Return: 8.0%",
         "type": "scatter",
         "visible": false,
         "x": [
          0,
          1,
          2,
          3,
          4,
          5,
          6,
          7,
          8,
          9,
          10,
          11,
          12,
          13,
          14,
          15,
          16,
          17,
          18,
          19,
          20
         ],
         "y": [
          10000,
          10600,
          11236.000000000002,
          11910.16,
          12624.769600000003,
          13382.255776000004,
          14185.191122560003,
          15036.302589913606,
          15938.480745308423,
          16894.78959002693,
          17908.476965428545,
          18982.98558335426,
          20121.964718355513,
          21329.282601456845,
          22609.03955754426,
          23965.581930996916,
          25403.51684685673,
          26927.727857668135,
          28543.39152912823,
          30255.995020875922,
          32071.35472212848
         ]
        },
        {
         "mode": "lines",
         "name": "Exp. Ratio: 1.0%, Return: 9.0%",
         "type": "scatter",
         "visible": false,
         "x": [
          0,
          1,
          2,
          3,
          4,
          5,
          6,
          7,
          8,
          9,
          10,
          11,
          12,
          13,
          14,
          15,
          16,
          17,
          18,
          19,
          20
         ],
         "y": [
          10000,
          10700,
          11449,
          12250.43,
          13107.960100000002,
          14025.517307000004,
          15007.303518490005,
          16057.814764784307,
          17181.86179831921,
          18384.592124201554,
          19671.513572895663,
          21048.519522998362,
          22521.915889608248,
          24098.45000188083,
          25785.341502012485,
          27590.315407153365,
          29521.6374856541,
          31588.152109649887,
          33799.32275732538,
          36165.27535033816,
          38696.844624861835
         ]
        },
        {
         "mode": "lines",
         "name": "Exp. Ratio: 1.0%, Return: 10.0%",
         "type": "scatter",
         "visible": false,
         "x": [
          0,
          1,
          2,
          3,
          4,
          5,
          6,
          7,
          8,
          9,
          10,
          11,
          12,
          13,
          14,
          15,
          16,
          17,
          18,
          19,
          20
         ],
         "y": [
          10000,
          10800,
          11664.000000000002,
          12597.12,
          13604.889600000002,
          14693.280768000006,
          15868.743229440006,
          17138.24268779521,
          18509.302102818827,
          19990.04627104433,
          21589.24997272788,
          23316.38997054611,
          25181.701168189804,
          27196.23726164499,
          29371.93624257659,
          31721.69114198272,
          34259.42643334134,
          37000.180548008655,
          39960.19499184934,
          43157.01059119729,
          46609.57143849308
         ]
        },
        {
         "mode": "lines",
         "name": "Exp. Ratio: 1.0%, Return: 15.0%",
         "type": "scatter",
         "visible": false,
         "x": [
          0,
          1,
          2,
          3,
          4,
          5,
          6,
          7,
          8,
          9,
          10,
          11,
          12,
          13,
          14,
          15,
          16,
          17,
          18,
          19,
          20
         ],
         "y": [
          10000,
          11299.999999999998,
          12768.999999999996,
          14428.969999999996,
          16304.736099999995,
          18424.35179299999,
          20819.51752608999,
          23526.054804481682,
          26584.4419290643,
          30040.419379842657,
          33945.673899222194,
          38358.61150612108,
          43345.231001916814,
          48980.111032166,
          55347.52546634757,
          62542.703776972754,
          70673.2552679792,
          79860.77845281649,
          90242.67965168263,
          101974.22800640136,
          115230.87764723353
         ]
        },
        {
         "mode": "lines",
         "name": "Exp. Ratio: 1.5%, Return: 6.0%",
         "type": "scatter",
         "visible": false,
         "x": [
          0,
          1,
          2,
          3,
          4,
          5,
          6,
          7,
          8,
          9,
          10,
          11,
          12,
          13,
          14,
          15,
          16,
          17,
          18,
          19,
          20
         ],
         "y": [
          10000,
          10350,
          10712.249999999998,
          11087.178749999997,
          11475.230006249996,
          11876.863056468745,
          12292.55326344515,
          12722.792627665729,
          13168.090369634028,
          13628.97353257122,
          14105.98760621121,
          14599.697172428603,
          15110.686573463603,
          15639.560603534828,
          16186.945224658544,
          16753.488307521595,
          17339.860398284847,
          17946.755512224816,
          18574.89195515268,
          19225.013173583025,
          19897.88863465843
         ]
        },
        {
         "mode": "lines",
         "name": "Exp. Ratio: 1.5%, Return: 7.0%",
         "type": "scatter",
         "visible": false,
         "x": [
          0,
          1,
          2,
          3,
          4,
          5,
          6,
          7,
          8,
          9,
          10,
          11,
          12,
          13,
          14,
          15,
          16,
          17,
          18,
          19,
          20
         ],
         "y": [
          10000,
          10450,
          10920.249999999998,
          11411.661249999997,
          11925.186006249996,
          12461.819376531246,
          13022.601248475152,
          13608.618304656533,
          14221.006128366074,
          14860.951404142546,
          15529.694217328959,
          16228.530457108764,
          16958.814327678654,
          17721.960972424193,
          18519.449216183282,
          19352.82443091153,
          20223.701530302547,
          21133.76809916616,
          22084.787663628635,
          23078.60310849192,
          24117.140248374057
         ]
        },
        {
         "mode": "lines",
         "name": "Exp. Ratio: 1.5%, Return: 8.0%",
         "type": "scatter",
         "visible": false,
         "x": [
          0,
          1,
          2,
          3,
          4,
          5,
          6,
          7,
          8,
          9,
          10,
          11,
          12,
          13,
          14,
          15,
          16,
          17,
          18,
          19,
          20
         ],
         "y": [
          10000,
          10550,
          11130.25,
          11742.413749999998,
          12388.246506249998,
          13069.600064093747,
          13788.428067618901,
          14546.79161133794,
          15346.865149961526,
          16190.942733209407,
          17081.444583535926,
          18020.9240356304,
          19012.074857590072,
          20057.738974757525,
          21160.914618369185,
          22324.76492237949,
          23552.62699311036,
          24848.02147773143,
          26214.66265900666,
          27656.46910525202,
          29177.574906040878
         ]
        },
        {
         "mode": "lines",
         "name": "Exp. Ratio: 1.5%, Return: 9.0%",
         "type": "scatter",
         "visible": false,
         "x": [
          0,
          1,
          2,
          3,
          4,
          5,
          6,
          7,
          8,
          9,
          10,
          11,
          12,
          13,
          14,
          15,
          16,
          17,
          18,
          19,
          20
         ],
         "y": [
          10000,
          10650,
          11342.249999999998,
          12079.496249999998,
          12864.663506249997,
          13700.866634156246,
          14591.422965376401,
          15539.865458125867,
          16549.956712904048,
          17625.70389924281,
          18771.37465269359,
          19991.51400511867,
          21290.962415451388,
          22674.874972455727,
          24148.741845665347,
          25718.410065633594,
          27390.106719899773,
          29170.46365669326,
          31066.54379437832,
          33085.86914101291,
          35236.45063517875
         ]
        },
        {
         "mode": "lines",
         "name": "Exp. Ratio: 1.5%, Return: 10.0%",
         "type": "scatter",
         "visible": false,
         "x": [
          0,
          1,
          2,
          3,
          4,
          5,
          6,
          7,
          8,
          9,
          10,
          11,
          12,
          13,
          14,
          15,
          16,
          17,
          18,
          19,
          20
         ],
         "y": [
          10000,
          10750,
          11556.249999999998,
          12422.968749999998,
          13354.691406249998,
          14356.293261718747,
          15433.015256347653,
          16590.491400573726,
          17834.778255616755,
          19172.38662478801,
          20610.31562164711,
          22156.08929327064,
          23817.79599026594,
          25604.130689535883,
          27524.440491251073,
          29588.773528094902,
          31807.93154270202,
          34193.52640840467,
          36758.040889035015,
          39514.89395571264,
          42478.51100239109
         ]
        },
        {
         "mode": "lines",
         "name": "Exp. Ratio: 1.5%, Return: 15.0%",
         "type": "scatter",
         "visible": false,
         "x": [
          0,
          1,
          2,
          3,
          4,
          5,
          6,
          7,
          8,
          9,
          10,
          11,
          12,
          13,
          14,
          15,
          16,
          17,
          18,
          19,
          20
         ],
         "y": [
          10000,
          11250,
          12656.25,
          14238.28125,
          16018.06640625,
          18020.32470703125,
          20272.865295410156,
          22806.973457336426,
          25657.84513950348,
          28865.075781941414,
          32473.21025468409,
          36532.3615365196,
          41098.90672858455,
          46236.27006965762,
          52015.80382836482,
          58517.77930691043,
          65832.50172027423,
          74061.56443530851,
          83319.25998972208,
          93734.16748843732,
          105450.938424492
         ]
        },
        {
         "mode": "lines",
         "name": "Exp. Ratio: 2.0%, Return: 6.0%",
         "type": "scatter",
         "visible": false,
         "x": [
          0,
          1,
          2,
          3,
          4,
          5,
          6,
          7,
          8,
          9,
          10,
          11,
          12,
          13,
          14,
          15,
          16,
          17,
          18,
          19,
          20
         ],
         "y": [
          10000,
          10300,
          10609,
          10927.27,
          11255.0881,
          11592.740743,
          11940.522965290002,
          12298.738654248702,
          12667.700813876163,
          13047.73183829245,
          13439.163793441223,
          13842.338707244458,
          14257.608868461793,
          14685.337134515648,
          15125.897248551119,
          15579.674166007651,
          16047.064390987882,
          16528.476322717517,
          17024.330612399044,
          17535.060530771018,
          18061.11234669415
         ]
        },
        {
         "mode": "lines",
         "name": "Exp. Ratio: 2.0%, Return: 7.0%",
         "type": "scatter",
         "visible": false,
         "x": [
          0,
          1,
          2,
          3,
          4,
          5,
          6,
          7,
          8,
          9,
          10,
          11,
          12,
          13,
          14,
          15,
          16,
          17,
          18,
          19,
          20
         ],
         "y": [
          10000,
          10400,
          10816.000000000002,
          11248.640000000001,
          11698.585600000002,
          12166.529024000001,
          12653.190184960004,
          13159.317792358403,
          13685.690504052738,
          14233.11812421485,
          14802.442849183444,
          15394.540563150782,
          16010.322185676816,
          16650.73507310389,
          17316.764476028045,
          18009.435055069163,
          18729.81245727193,
          19479.00495556281,
          20258.165153785325,
          21068.49175993674,
          21911.231430334206
         ]
        },
        {
         "mode": "lines",
         "name": "Exp. Ratio: 2.0%, Return: 8.0%",
         "type": "scatter",
         "visible": false,
         "x": [
          0,
          1,
          2,
          3,
          4,
          5,
          6,
          7,
          8,
          9,
          10,
          11,
          12,
          13,
          14,
          15,
          16,
          17,
          18,
          19,
          20
         ],
         "y": [
          10000,
          10500,
          11025,
          11576.250000000002,
          12155.062500000002,
          12762.815625000003,
          13400.956406250005,
          14071.004226562505,
          14774.55443789063,
          15513.282159785162,
          16288.94626777442,
          17103.39358116314,
          17958.5632602213,
          18856.491423232368,
          19799.315994393986,
          20789.28179411369,
          21828.74588381937,
          22920.183178010342,
          24066.192336910855,
          25269.501953756404,
          26532.97705144422
         ]
        },
        {
         "mode": "lines",
         "name": "Exp. Ratio: 2.0%, Return: 9.0%",
         "type": "scatter",
         "visible": false,
         "x": [
          0,
          1,
          2,
          3,
          4,
          5,
          6,
          7,
          8,
          9,
          10,
          11,
          12,
          13,
          14,
          15,
          16,
          17,
          18,
          19,
          20
         ],
         "y": [
          10000,
          10600,
          11236.000000000002,
          11910.16,
          12624.769600000003,
          13382.255776000004,
          14185.191122560003,
          15036.302589913606,
          15938.480745308423,
          16894.78959002693,
          17908.476965428545,
          18982.98558335426,
          20121.964718355513,
          21329.282601456845,
          22609.03955754426,
          23965.581930996916,
          25403.51684685673,
          26927.727857668135,
          28543.39152912823,
          30255.995020875922,
          32071.35472212848
         ]
        },
        {
         "mode": "lines",
         "name": "Exp. Ratio: 2.0%, Return: 10.0%",
         "type": "scatter",
         "visible": false,
         "x": [
          0,
          1,
          2,
          3,
          4,
          5,
          6,
          7,
          8,
          9,
          10,
          11,
          12,
          13,
          14,
          15,
          16,
          17,
          18,
          19,
          20
         ],
         "y": [
          10000,
          10700,
          11449,
          12250.43,
          13107.960100000002,
          14025.517307000004,
          15007.303518490005,
          16057.814764784307,
          17181.86179831921,
          18384.592124201554,
          19671.513572895663,
          21048.519522998362,
          22521.915889608248,
          24098.45000188083,
          25785.341502012485,
          27590.315407153365,
          29521.6374856541,
          31588.152109649887,
          33799.32275732538,
          36165.27535033816,
          38696.844624861835
         ]
        },
        {
         "mode": "lines",
         "name": "Exp. Ratio: 2.0%, Return: 15.0%",
         "type": "scatter",
         "visible": false,
         "x": [
          0,
          1,
          2,
          3,
          4,
          5,
          6,
          7,
          8,
          9,
          10,
          11,
          12,
          13,
          14,
          15,
          16,
          17,
          18,
          19,
          20
         ],
         "y": [
          10000,
          11200.000000000002,
          12544.000000000002,
          14049.280000000004,
          15735.193600000006,
          17623.416832000006,
          19738.226851840012,
          22106.814074060814,
          24759.631762948113,
          27730.78757450189,
          31058.48208344212,
          34785.49993345518,
          38959.75992546981,
          43634.93111652619,
          48871.12285050933,
          54735.65759257045,
          61303.93650367892,
          68660.40888412039,
          76899.65795021485,
          86127.61690424064,
          96462.93093274953
         ]
        },
        {
         "mode": "lines",
         "name": "Exp. Ratio: 2.5%, Return: 6.0%",
         "type": "scatter",
         "visible": false,
         "x": [
          0,
          1,
          2,
          3,
          4,
          5,
          6,
          7,
          8,
          9,
          10,
          11,
          12,
          13,
          14,
          15,
          16,
          17,
          18,
          19,
          20
         ],
         "y": [
          10000,
          10250,
          10506.25,
          10768.906249999996,
          11038.128906249995,
          11314.082128906244,
          11596.9341821289,
          11886.857536682122,
          12184.028975099172,
          12488.629699476653,
          12800.845441963567,
          13120.866578012656,
          13448.88824246297,
          13785.110448524543,
          14129.738209737658,
          14482.981664981096,
          14845.056206605623,
          15216.18261177076,
          15596.587177065028,
          15986.501856491654,
          16386.16440290394
         ]
        },
        {
         "mode": "lines",
         "name": "Exp. Ratio: 2.5%, Return: 7.0%",
         "type": "scatter",
         "visible": false,
         "x": [
          0,
          1,
          2,
          3,
          4,
          5,
          6,
          7,
          8,
          9,
          10,
          11,
          12,
          13,
          14,
          15,
          16,
          17,
          18,
          19,
          20
         ],
         "y": [
          10000,
          10350,
          10712.249999999998,
          11087.178749999997,
          11475.230006249996,
          11876.863056468745,
          12292.55326344515,
          12722.792627665729,
          13168.090369634028,
          13628.97353257122,
          14105.98760621121,
          14599.697172428603,
          15110.686573463603,
          15639.560603534828,
          16186.945224658544,
          16753.488307521595,
          17339.860398284847,
          17946.755512224816,
          18574.89195515268,
          19225.013173583025,
          19897.88863465843
         ]
        },
        {
         "mode": "lines",
         "name": "Exp. Ratio: 2.5%, Return: 8.0%",
         "type": "scatter",
         "visible": false,
         "x": [
          0,
          1,
          2,
          3,
          4,
          5,
          6,
          7,
          8,
          9,
          10,
          11,
          12,
          13,
          14,
          15,
          16,
          17,
          18,
          19,
          20
         ],
         "y": [
          10000,
          10450,
          10920.249999999998,
          11411.661249999997,
          11925.186006249996,
          12461.819376531246,
          13022.601248475152,
          13608.618304656533,
          14221.006128366074,
          14860.951404142546,
          15529.694217328959,
          16228.530457108764,
          16958.814327678654,
          17721.960972424193,
          18519.449216183282,
          19352.82443091153,
          20223.701530302547,
          21133.76809916616,
          22084.787663628635,
          23078.60310849192,
          24117.140248374057
         ]
        },
        {
         "mode": "lines",
         "name": "Exp. Ratio: 2.5%, Return: 9.0%",
         "type": "scatter",
         "visible": false,
         "x": [
          0,
          1,
          2,
          3,
          4,
          5,
          6,
          7,
          8,
          9,
          10,
          11,
          12,
          13,
          14,
          15,
          16,
          17,
          18,
          19,
          20
         ],
         "y": [
          10000,
          10550,
          11130.25,
          11742.413749999998,
          12388.246506249998,
          13069.600064093747,
          13788.428067618901,
          14546.79161133794,
          15346.865149961526,
          16190.942733209407,
          17081.444583535926,
          18020.9240356304,
          19012.074857590072,
          20057.738974757525,
          21160.914618369185,
          22324.76492237949,
          23552.62699311036,
          24848.02147773143,
          26214.66265900666,
          27656.46910525202,
          29177.574906040878
         ]
        },
        {
         "mode": "lines",
         "name": "Exp. Ratio: 2.5%, Return: 10.0%",
         "type": "scatter",
         "visible": false,
         "x": [
          0,
          1,
          2,
          3,
          4,
          5,
          6,
          7,
          8,
          9,
          10,
          11,
          12,
          13,
          14,
          15,
          16,
          17,
          18,
          19,
          20
         ],
         "y": [
          10000,
          10650,
          11342.249999999998,
          12079.496249999998,
          12864.663506249997,
          13700.866634156246,
          14591.422965376401,
          15539.865458125867,
          16549.956712904048,
          17625.70389924281,
          18771.37465269359,
          19991.51400511867,
          21290.962415451388,
          22674.874972455727,
          24148.741845665347,
          25718.410065633594,
          27390.106719899773,
          29170.46365669326,
          31066.54379437832,
          33085.86914101291,
          35236.45063517875
         ]
        },
        {
         "mode": "lines",
         "name": "Exp. Ratio: 2.5%, Return: 15.0%",
         "type": "scatter",
         "visible": false,
         "x": [
          0,
          1,
          2,
          3,
          4,
          5,
          6,
          7,
          8,
          9,
          10,
          11,
          12,
          13,
          14,
          15,
          16,
          17,
          18,
          19,
          20
         ],
         "y": [
          10000,
          11150,
          12432.25,
          13861.958750000002,
          15456.08400625,
          17233.53366696875,
          19215.390038670153,
          21425.159893117223,
          23889.0532808257,
          26636.29440812066,
          29699.468265054536,
          33114.9071155358,
          36923.12143382242,
          41169.280398712006,
          45903.74764456389,
          51182.67862368873,
          57068.68666541293,
          63631.58563193542,
          70949.21797960799,
          79108.37804726292,
          88205.84152269815
         ]
        }
       ],
       "layout": {
        "legend": {
         "orientation": "h",
         "x": 1,
         "xanchor": "right",
         "y": 1.02,
         "yanchor": "bottom"
        },
        "template": {
         "data": {
          "bar": [
           {
            "error_x": {
             "color": "#f2f5fa"
            },
            "error_y": {
             "color": "#f2f5fa"
            },
            "marker": {
             "line": {
              "color": "rgb(17,17,17)",
              "width": 0.5
             },
             "pattern": {
              "fillmode": "overlay",
              "size": 10,
              "solidity": 0.2
             }
            },
            "type": "bar"
           }
          ],
          "barpolar": [
           {
            "marker": {
             "line": {
              "color": "rgb(17,17,17)",
              "width": 0.5
             },
             "pattern": {
              "fillmode": "overlay",
              "size": 10,
              "solidity": 0.2
             }
            },
            "type": "barpolar"
           }
          ],
          "carpet": [
           {
            "aaxis": {
             "endlinecolor": "#A2B1C6",
             "gridcolor": "#506784",
             "linecolor": "#506784",
             "minorgridcolor": "#506784",
             "startlinecolor": "#A2B1C6"
            },
            "baxis": {
             "endlinecolor": "#A2B1C6",
             "gridcolor": "#506784",
             "linecolor": "#506784",
             "minorgridcolor": "#506784",
             "startlinecolor": "#A2B1C6"
            },
            "type": "carpet"
           }
          ],
          "choropleth": [
           {
            "colorbar": {
             "outlinewidth": 0,
             "ticks": ""
            },
            "type": "choropleth"
           }
          ],
          "contour": [
           {
            "colorbar": {
             "outlinewidth": 0,
             "ticks": ""
            },
            "colorscale": [
             [
              0,
              "#0d0887"
             ],
             [
              0.1111111111111111,
              "#46039f"
             ],
             [
              0.2222222222222222,
              "#7201a8"
             ],
             [
              0.3333333333333333,
              "#9c179e"
             ],
             [
              0.4444444444444444,
              "#bd3786"
             ],
             [
              0.5555555555555556,
              "#d8576b"
             ],
             [
              0.6666666666666666,
              "#ed7953"
             ],
             [
              0.7777777777777778,
              "#fb9f3a"
             ],
             [
              0.8888888888888888,
              "#fdca26"
             ],
             [
              1,
              "#f0f921"
             ]
            ],
            "type": "contour"
           }
          ],
          "contourcarpet": [
           {
            "colorbar": {
             "outlinewidth": 0,
             "ticks": ""
            },
            "type": "contourcarpet"
           }
          ],
          "heatmap": [
           {
            "colorbar": {
             "outlinewidth": 0,
             "ticks": ""
            },
            "colorscale": [
             [
              0,
              "#0d0887"
             ],
             [
              0.1111111111111111,
              "#46039f"
             ],
             [
              0.2222222222222222,
              "#7201a8"
             ],
             [
              0.3333333333333333,
              "#9c179e"
             ],
             [
              0.4444444444444444,
              "#bd3786"
             ],
             [
              0.5555555555555556,
              "#d8576b"
             ],
             [
              0.6666666666666666,
              "#ed7953"
             ],
             [
              0.7777777777777778,
              "#fb9f3a"
             ],
             [
              0.8888888888888888,
              "#fdca26"
             ],
             [
              1,
              "#f0f921"
             ]
            ],
            "type": "heatmap"
           }
          ],
          "heatmapgl": [
           {
            "colorbar": {
             "outlinewidth": 0,
             "ticks": ""
            },
            "colorscale": [
             [
              0,
              "#0d0887"
             ],
             [
              0.1111111111111111,
              "#46039f"
             ],
             [
              0.2222222222222222,
              "#7201a8"
             ],
             [
              0.3333333333333333,
              "#9c179e"
             ],
             [
              0.4444444444444444,
              "#bd3786"
             ],
             [
              0.5555555555555556,
              "#d8576b"
             ],
             [
              0.6666666666666666,
              "#ed7953"
             ],
             [
              0.7777777777777778,
              "#fb9f3a"
             ],
             [
              0.8888888888888888,
              "#fdca26"
             ],
             [
              1,
              "#f0f921"
             ]
            ],
            "type": "heatmapgl"
           }
          ],
          "histogram": [
           {
            "marker": {
             "pattern": {
              "fillmode": "overlay",
              "size": 10,
              "solidity": 0.2
             }
            },
            "type": "histogram"
           }
          ],
          "histogram2d": [
           {
            "colorbar": {
             "outlinewidth": 0,
             "ticks": ""
            },
            "colorscale": [
             [
              0,
              "#0d0887"
             ],
             [
              0.1111111111111111,
              "#46039f"
             ],
             [
              0.2222222222222222,
              "#7201a8"
             ],
             [
              0.3333333333333333,
              "#9c179e"
             ],
             [
              0.4444444444444444,
              "#bd3786"
             ],
             [
              0.5555555555555556,
              "#d8576b"
             ],
             [
              0.6666666666666666,
              "#ed7953"
             ],
             [
              0.7777777777777778,
              "#fb9f3a"
             ],
             [
              0.8888888888888888,
              "#fdca26"
             ],
             [
              1,
              "#f0f921"
             ]
            ],
            "type": "histogram2d"
           }
          ],
          "histogram2dcontour": [
           {
            "colorbar": {
             "outlinewidth": 0,
             "ticks": ""
            },
            "colorscale": [
             [
              0,
              "#0d0887"
             ],
             [
              0.1111111111111111,
              "#46039f"
             ],
             [
              0.2222222222222222,
              "#7201a8"
             ],
             [
              0.3333333333333333,
              "#9c179e"
             ],
             [
              0.4444444444444444,
              "#bd3786"
             ],
             [
              0.5555555555555556,
              "#d8576b"
             ],
             [
              0.6666666666666666,
              "#ed7953"
             ],
             [
              0.7777777777777778,
              "#fb9f3a"
             ],
             [
              0.8888888888888888,
              "#fdca26"
             ],
             [
              1,
              "#f0f921"
             ]
            ],
            "type": "histogram2dcontour"
           }
          ],
          "mesh3d": [
           {
            "colorbar": {
             "outlinewidth": 0,
             "ticks": ""
            },
            "type": "mesh3d"
           }
          ],
          "parcoords": [
           {
            "line": {
             "colorbar": {
              "outlinewidth": 0,
              "ticks": ""
             }
            },
            "type": "parcoords"
           }
          ],
          "pie": [
           {
            "automargin": true,
            "type": "pie"
           }
          ],
          "scatter": [
           {
            "marker": {
             "line": {
              "color": "#283442"
             }
            },
            "type": "scatter"
           }
          ],
          "scatter3d": [
           {
            "line": {
             "colorbar": {
              "outlinewidth": 0,
              "ticks": ""
             }
            },
            "marker": {
             "colorbar": {
              "outlinewidth": 0,
              "ticks": ""
             }
            },
            "type": "scatter3d"
           }
          ],
          "scattercarpet": [
           {
            "marker": {
             "colorbar": {
              "outlinewidth": 0,
              "ticks": ""
             }
            },
            "type": "scattercarpet"
           }
          ],
          "scattergeo": [
           {
            "marker": {
             "colorbar": {
              "outlinewidth": 0,
              "ticks": ""
             }
            },
            "type": "scattergeo"
           }
          ],
          "scattergl": [
           {
            "marker": {
             "line": {
              "color": "#283442"
             }
            },
            "type": "scattergl"
           }
          ],
          "scattermapbox": [
           {
            "marker": {
             "colorbar": {
              "outlinewidth": 0,
              "ticks": ""
             }
            },
            "type": "scattermapbox"
           }
          ],
          "scatterpolar": [
           {
            "marker": {
             "colorbar": {
              "outlinewidth": 0,
              "ticks": ""
             }
            },
            "type": "scatterpolar"
           }
          ],
          "scatterpolargl": [
           {
            "marker": {
             "colorbar": {
              "outlinewidth": 0,
              "ticks": ""
             }
            },
            "type": "scatterpolargl"
           }
          ],
          "scatterternary": [
           {
            "marker": {
             "colorbar": {
              "outlinewidth": 0,
              "ticks": ""
             }
            },
            "type": "scatterternary"
           }
          ],
          "surface": [
           {
            "colorbar": {
             "outlinewidth": 0,
             "ticks": ""
            },
            "colorscale": [
             [
              0,
              "#0d0887"
             ],
             [
              0.1111111111111111,
              "#46039f"
             ],
             [
              0.2222222222222222,
              "#7201a8"
             ],
             [
              0.3333333333333333,
              "#9c179e"
             ],
             [
              0.4444444444444444,
              "#bd3786"
             ],
             [
              0.5555555555555556,
              "#d8576b"
             ],
             [
              0.6666666666666666,
              "#ed7953"
             ],
             [
              0.7777777777777778,
              "#fb9f3a"
             ],
             [
              0.8888888888888888,
              "#fdca26"
             ],
             [
              1,
              "#f0f921"
             ]
            ],
            "type": "surface"
           }
          ],
          "table": [
           {
            "cells": {
             "fill": {
              "color": "#506784"
             },
             "line": {
              "color": "rgb(17,17,17)"
             }
            },
            "header": {
             "fill": {
              "color": "#2a3f5f"
             },
             "line": {
              "color": "rgb(17,17,17)"
             }
            },
            "type": "table"
           }
          ]
         },
         "layout": {
          "annotationdefaults": {
           "arrowcolor": "#f2f5fa",
           "arrowhead": 0,
           "arrowwidth": 1
          },
          "autotypenumbers": "strict",
          "coloraxis": {
           "colorbar": {
            "outlinewidth": 0,
            "ticks": ""
           }
          },
          "colorscale": {
           "diverging": [
            [
             0,
             "#8e0152"
            ],
            [
             0.1,
             "#c51b7d"
            ],
            [
             0.2,
             "#de77ae"
            ],
            [
             0.3,
             "#f1b6da"
            ],
            [
             0.4,
             "#fde0ef"
            ],
            [
             0.5,
             "#f7f7f7"
            ],
            [
             0.6,
             "#e6f5d0"
            ],
            [
             0.7,
             "#b8e186"
            ],
            [
             0.8,
             "#7fbc41"
            ],
            [
             0.9,
             "#4d9221"
            ],
            [
             1,
             "#276419"
            ]
           ],
           "sequential": [
            [
             0,
             "#0d0887"
            ],
            [
             0.1111111111111111,
             "#46039f"
            ],
            [
             0.2222222222222222,
             "#7201a8"
            ],
            [
             0.3333333333333333,
             "#9c179e"
            ],
            [
             0.4444444444444444,
             "#bd3786"
            ],
            [
             0.5555555555555556,
             "#d8576b"
            ],
            [
             0.6666666666666666,
             "#ed7953"
            ],
            [
             0.7777777777777778,
             "#fb9f3a"
            ],
            [
             0.8888888888888888,
             "#fdca26"
            ],
            [
             1,
             "#f0f921"
            ]
           ],
           "sequentialminus": [
            [
             0,
             "#0d0887"
            ],
            [
             0.1111111111111111,
             "#46039f"
            ],
            [
             0.2222222222222222,
             "#7201a8"
            ],
            [
             0.3333333333333333,
             "#9c179e"
            ],
            [
             0.4444444444444444,
             "#bd3786"
            ],
            [
             0.5555555555555556,
             "#d8576b"
            ],
            [
             0.6666666666666666,
             "#ed7953"
            ],
            [
             0.7777777777777778,
             "#fb9f3a"
            ],
            [
             0.8888888888888888,
             "#fdca26"
            ],
            [
             1,
             "#f0f921"
            ]
           ]
          },
          "colorway": [
           "#636efa",
           "#EF553B",
           "#00cc96",
           "#ab63fa",
           "#FFA15A",
           "#19d3f3",
           "#FF6692",
           "#B6E880",
           "#FF97FF",
           "#FECB52"
          ],
          "font": {
           "color": "#f2f5fa"
          },
          "geo": {
           "bgcolor": "rgb(17,17,17)",
           "lakecolor": "rgb(17,17,17)",
           "landcolor": "rgb(17,17,17)",
           "showlakes": true,
           "showland": true,
           "subunitcolor": "#506784"
          },
          "hoverlabel": {
           "align": "left"
          },
          "hovermode": "closest",
          "mapbox": {
           "style": "dark"
          },
          "paper_bgcolor": "rgb(17,17,17)",
          "plot_bgcolor": "rgb(17,17,17)",
          "polar": {
           "angularaxis": {
            "gridcolor": "#506784",
            "linecolor": "#506784",
            "ticks": ""
           },
           "bgcolor": "rgb(17,17,17)",
           "radialaxis": {
            "gridcolor": "#506784",
            "linecolor": "#506784",
            "ticks": ""
           }
          },
          "scene": {
           "xaxis": {
            "backgroundcolor": "rgb(17,17,17)",
            "gridcolor": "#506784",
            "gridwidth": 2,
            "linecolor": "#506784",
            "showbackground": true,
            "ticks": "",
            "zerolinecolor": "#C8D4E3"
           },
           "yaxis": {
            "backgroundcolor": "rgb(17,17,17)",
            "gridcolor": "#506784",
            "gridwidth": 2,
            "linecolor": "#506784",
            "showbackground": true,
            "ticks": "",
            "zerolinecolor": "#C8D4E3"
           },
           "zaxis": {
            "backgroundcolor": "rgb(17,17,17)",
            "gridcolor": "#506784",
            "gridwidth": 2,
            "linecolor": "#506784",
            "showbackground": true,
            "ticks": "",
            "zerolinecolor": "#C8D4E3"
           }
          },
          "shapedefaults": {
           "line": {
            "color": "#f2f5fa"
           }
          },
          "sliderdefaults": {
           "bgcolor": "#C8D4E3",
           "bordercolor": "rgb(17,17,17)",
           "borderwidth": 1,
           "tickwidth": 0
          },
          "ternary": {
           "aaxis": {
            "gridcolor": "#506784",
            "linecolor": "#506784",
            "ticks": ""
           },
           "baxis": {
            "gridcolor": "#506784",
            "linecolor": "#506784",
            "ticks": ""
           },
           "bgcolor": "rgb(17,17,17)",
           "caxis": {
            "gridcolor": "#506784",
            "linecolor": "#506784",
            "ticks": ""
           }
          },
          "title": {
           "x": 0.05
          },
          "updatemenudefaults": {
           "bgcolor": "#506784",
           "borderwidth": 0
          },
          "xaxis": {
           "automargin": true,
           "gridcolor": "#283442",
           "linecolor": "#506784",
           "ticks": "",
           "title": {
            "standoff": 15
           },
           "zerolinecolor": "#283442",
           "zerolinewidth": 2
          },
          "yaxis": {
           "automargin": true,
           "gridcolor": "#283442",
           "linecolor": "#506784",
           "ticks": "",
           "title": {
            "standoff": 15
           },
           "zerolinecolor": "#283442",
           "zerolinewidth": 2
          }
         }
        },
        "title": {
         "text": "Impact of Expense Ratio and Return Rate on a $10,000 Investment"
        },
        "updatemenus": [
         {
          "buttons": [
           {
            "args": [
             {
              "visible": [
               true,
               true,
               false,
               false,
               false,
               false,
               false,
               false,
               false,
               false,
               false,
               false,
               false,
               false,
               false,
               false,
               false,
               false,
               false,
               false,
               false,
               false,
               false,
               false,
               false,
               false,
               false,
               false,
               false,
               false,
               false
              ]
             }
            ],
            "label": "Exp. Ratio: 0.5%",
            "method": "update"
           },
           {
            "args": [
             {
              "visible": [
               true,
               false,
               true,
               false,
               false,
               false,
               false,
               false,
               false,
               false,
               false,
               false,
               false,
               false,
               false,
               false,
               false,
               false,
               false,
               false,
               false,
               false,
               false,
               false,
               false,
               false,
               false,
               false,
               false,
               false,
               false
              ]
             }
            ],
            "label": "Exp. Ratio: 1.0%",
            "method": "update"
           },
           {
            "args": [
             {
              "visible": [
               true,
               false,
               false,
               true,
               false,
               false,
               false,
               false,
               false,
               false,
               false,
               false,
               false,
               false,
               false,
               false,
               false,
               false,
               false,
               false,
               false,
               false,
               false,
               false,
               false,
               false,
               false,
               false,
               false,
               false,
               false
              ]
             }
            ],
            "label": "Exp. Ratio: 1.5%",
            "method": "update"
           },
           {
            "args": [
             {
              "visible": [
               true,
               false,
               false,
               false,
               true,
               false,
               false,
               false,
               false,
               false,
               false,
               false,
               false,
               false,
               false,
               false,
               false,
               false,
               false,
               false,
               false,
               false,
               false,
               false,
               false,
               false,
               false,
               false,
               false,
               false,
               false
              ]
             }
            ],
            "label": "Exp. Ratio: 2.0%",
            "method": "update"
           },
           {
            "args": [
             {
              "visible": [
               true,
               false,
               false,
               false,
               false,
               true,
               false,
               false,
               false,
               false,
               false,
               false,
               false,
               false,
               false,
               false,
               false,
               false,
               false,
               false,
               false,
               false,
               false,
               false,
               false,
               false,
               false,
               false,
               false,
               false,
               false
              ]
             }
            ],
            "label": "Exp. Ratio: 2.5%",
            "method": "update"
           }
          ],
          "direction": "down",
          "showactive": true,
          "x": 0.01,
          "xanchor": "left",
          "y": 1.15
         },
         {
          "buttons": [
           {
            "args": [
             {
              "visible": [
               true,
               true,
               false,
               false,
               false,
               false,
               false,
               true,
               false,
               false,
               false,
               false,
               false,
               true,
               false,
               false,
               false,
               false,
               false,
               true,
               false,
               false,
               false,
               false,
               false,
               true,
               false,
               false,
               false,
               false,
               false
              ]
             }
            ],
            "label": "Annual Return: 6.0%",
            "method": "update"
           },
           {
            "args": [
             {
              "visible": [
               true,
               false,
               true,
               false,
               false,
               false,
               false,
               false,
               true,
               false,
               false,
               false,
               false,
               false,
               true,
               false,
               false,
               false,
               false,
               false,
               true,
               false,
               false,
               false,
               false,
               false,
               true,
               false,
               false,
               false,
               false
              ]
             }
            ],
            "label": "Annual Return: 7.0%",
            "method": "update"
           },
           {
            "args": [
             {
              "visible": [
               true,
               false,
               false,
               true,
               false,
               false,
               false,
               false,
               false,
               true,
               false,
               false,
               false,
               false,
               false,
               true,
               false,
               false,
               false,
               false,
               false,
               true,
               false,
               false,
               false,
               false,
               false,
               true,
               false,
               false,
               false
              ]
             }
            ],
            "label": "Annual Return: 8.0%",
            "method": "update"
           },
           {
            "args": [
             {
              "visible": [
               true,
               false,
               false,
               false,
               true,
               false,
               false,
               false,
               false,
               false,
               true,
               false,
               false,
               false,
               false,
               false,
               true,
               false,
               false,
               false,
               false,
               false,
               true,
               false,
               false,
               false,
               false,
               false,
               true,
               false,
               false
              ]
             }
            ],
            "label": "Annual Return: 9.0%",
            "method": "update"
           },
           {
            "args": [
             {
              "visible": [
               true,
               false,
               false,
               false,
               false,
               true,
               false,
               false,
               false,
               false,
               false,
               true,
               false,
               false,
               false,
               false,
               false,
               true,
               false,
               false,
               false,
               false,
               false,
               true,
               false,
               false,
               false,
               false,
               false,
               true,
               false
              ]
             }
            ],
            "label": "Annual Return: 10.0%",
            "method": "update"
           },
           {
            "args": [
             {
              "visible": [
               true,
               false,
               false,
               false,
               false,
               false,
               true,
               false,
               false,
               false,
               false,
               false,
               true,
               false,
               false,
               false,
               false,
               false,
               true,
               false,
               false,
               false,
               false,
               false,
               true,
               false,
               false,
               false,
               false,
               false,
               true
              ]
             }
            ],
            "label": "Annual Return: 15.0%",
            "method": "update"
           }
          ],
          "direction": "down",
          "showactive": true,
          "x": 0.2,
          "xanchor": "left",
          "y": 1.15
         }
        ],
        "xaxis": {
         "title": {
          "text": "Years"
         }
        },
        "yaxis": {
         "title": {
          "text": "Investment Value (USD)"
         }
        }
       }
      }
     },
     "metadata": {},
     "output_type": "display_data"
    }
   ],
   "source": [
    "import numpy as np\n",
    "import pandas as pd\n",
    "import plotly.graph_objects as go\n",
    "\n",
    "# Function to simulate investment growth with expense ratio and management fee\n",
    "def simulate_investment(initial_investment, years, annual_return, expense_ratio, management_fee):\n",
    "    # Create a DataFrame to store investment values for each year\n",
    "    data = {'Year': np.arange(0, years + 1)}\n",
    "    df = pd.DataFrame(data)\n",
    "    \n",
    "    # Calculate net return \n",
    "    net_return = annual_return - (expense_ratio + management_fee)\n",
    "    \n",
    "    # Calculate the investment value over time\n",
    "    df['Investment Value'] = initial_investment * (1 + net_return) ** df['Year']\n",
    "    \n",
    "    return df\n",
    "\n",
    "# Adjustable parameters\n",
    "initial_investment = 10000  \n",
    "years = 20  # Investment period\n",
    "baseline_annual_return = 0.07  # Baseline annual return (7%)\n",
    "baseline_expense_ratio = 0.01  # Baseline expense ratio (1%)\n",
    "management_fee = 0.01  # Fixed management fee (1%)\n",
    "\n",
    "# Simulate investment for baseline\n",
    "baseline_df = simulate_investment(initial_investment, years, baseline_annual_return, baseline_expense_ratio, management_fee)\n",
    "\n",
    "# Expense ratios and annual returns to include in the dropdowns\n",
    "expense_ratios = [0.005, 0.01, 0.015, 0.02, 0.025]  # Different expense ratios (0.5% to 2.5%)\n",
    "annual_returns = [0.06, 0.07, 0.08, 0.09, 0.10, 0.15]  # Different annual returns (5% to 9%)\n",
    "\n",
    "# Create a figure\n",
    "fig = go.Figure()\n",
    "\n",
    "# Add the baseline line (7% return, 1% expense ratio)\n",
    "fig.add_trace(go.Scatter(\n",
    "    x=baseline_df['Year'],\n",
    "    y=baseline_df['Investment Value'],\n",
    "    mode='lines',\n",
    "    name=f'Baseline (7% return, 1% exp. ratio)',\n",
    "    line=dict(color='royalblue')\n",
    "))\n",
    "\n",
    "# Add traces for each expense ratio and return rate (hidden by default)\n",
    "for ratio in expense_ratios:\n",
    "    for ret in annual_returns:\n",
    "        df = simulate_investment(initial_investment, years, ret, ratio, management_fee)\n",
    "        fig.add_trace(go.Scatter(\n",
    "            x=df['Year'],\n",
    "            y=df['Investment Value'],\n",
    "            mode='lines',\n",
    "            name=f'Exp. Ratio: {ratio*100:.1f}%, Return: {ret*100:.1f}%',\n",
    "            visible=False  # Initially hidden\n",
    "        ))\n",
    "\n",
    "# Create drop-down menu for expense ratios\n",
    "expense_ratio_dropdown = [\n",
    "    dict(\n",
    "        args=[{'visible': [True] + [i == idx for i in range(len(expense_ratios) * len(annual_returns))]}],  # Toggle visibility\n",
    "        label=f'Exp. Ratio: {expense_ratios[idx]*100}%',\n",
    "        method='update'\n",
    "    ) for idx in range(len(expense_ratios))\n",
    "]\n",
    "\n",
    "# Create drop-down menu for annual returns\n",
    "annual_return_dropdown = [\n",
    "    dict(\n",
    "        args=[{'visible': [True] + [i % len(annual_returns) == idx for i in range(len(expense_ratios) * len(annual_returns))]}],\n",
    "        label=f'Annual Return: {annual_returns[idx]*100:.1f}%',\n",
    "        method='update'\n",
    "    ) for idx in range(len(annual_returns))\n",
    "]\n",
    "\n",
    "# Update layout with two drop-down menus\n",
    "fig.update_layout(\n",
    "    updatemenus=[\n",
    "        {\n",
    "            'buttons': expense_ratio_dropdown,\n",
    "            'xanchor': 'left',\n",
    "            'x': 0.01, 'y': 1.15,  # Position of the expense ratio drop-down\n",
    "            'direction': 'down',\n",
    "            'showactive': True\n",
    "        },\n",
    "        {\n",
    "            'buttons': annual_return_dropdown,\n",
    "            'xanchor': 'left',\n",
    "            'x': 0.2, 'y': 1.15,  # Position of the annual return drop-down\n",
    "            'direction': 'down',\n",
    "            'showactive': True\n",
    "        }\n",
    "    ],\n",
    "    legend=dict(\n",
    "        orientation=\"h\",  # Make legend horizontal\n",
    "        yanchor=\"bottom\",  # Anchor the legend to the top\n",
    "        y=1.02,  # Position it above the plot\n",
    "        xanchor=\"right\",  # Align legend to the right\n",
    "        x=1,  # Place the legend to the right of the title\n",
    "    ),\n",
    "    title=\"Impact of Expense Ratio and Return Rate on a $10,000 Investment\",\n",
    "    xaxis_title=\"Years\",\n",
    "    yaxis_title=\"Investment Value (USD)\",\n",
    "    template=\"plotly_dark\"\n",
    ")\n",
    "\n",
    "# Show plot\n",
    "fig.show()\n"
   ]
  },
  {
   "cell_type": "code",
   "execution_count": null,
   "metadata": {},
   "outputs": [],
   "source": []
  }
 ],
 "metadata": {
  "kernelspec": {
   "display_name": "Python 3",
   "language": "python",
   "name": "python3"
  },
  "language_info": {
   "codemirror_mode": {
    "name": "ipython",
    "version": 3
   },
   "file_extension": ".py",
   "mimetype": "text/x-python",
   "name": "python",
   "nbconvert_exporter": "python",
   "pygments_lexer": "ipython3",
   "version": "3.11.3"
  }
 },
 "nbformat": 4,
 "nbformat_minor": 2
}
