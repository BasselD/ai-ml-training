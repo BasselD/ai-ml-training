{
 "cells": [
  {
   "cell_type": "code",
   "execution_count": 1,
   "metadata": {},
   "outputs": [
    {
     "name": "stdout",
     "output_type": "stream",
     "text": [
      "Feature Means for Each Cluster:\n",
      "         feature_0  feature_1  feature_2  feature_3\n",
      "cluster                                            \n",
      "0         2.081282   4.081350  -9.654618   9.438292\n",
      "1        -2.479722   9.036261   4.681010   2.024284\n",
      "2        -6.883695  -6.744685  -8.852820   7.315158\n",
      "\n",
      "Feature Importance for Each Cluster:\n",
      "         feature_0  feature_1  feature_2  feature_3\n",
      "cluster                                            \n",
      "0         2.081282   4.081350  -9.654618   9.438292\n",
      "1        -2.479722   9.036261   4.681010   2.024284\n",
      "2        -6.883695  -6.744685  -8.852820   7.315158\n"
     ]
    },
    {
     "name": "stderr",
     "output_type": "stream",
     "text": [
      "/Library/Frameworks/Python.framework/Versions/3.11/lib/python3.11/site-packages/sklearn/cluster/_kmeans.py:870: FutureWarning: The default value of `n_init` will change from 10 to 'auto' in 1.4. Set the value of `n_init` explicitly to suppress the warning\n",
      "  warnings.warn(\n"
     ]
    }
   ],
   "source": [
    "from sklearn.datasets import make_blobs\n",
    "from sklearn.cluster import KMeans\n",
    "import pandas as pd\n",
    "\n",
    "# Generate synthetic data\n",
    "X, _ = make_blobs(n_samples=1000, centers=3, n_features=4, random_state=42)\n",
    "\n",
    "# Fit KMeans clustering model\n",
    "kmeans = KMeans(n_clusters=3, random_state=42)\n",
    "kmeans.fit(X)\n",
    "\n",
    "# Get cluster labels and add them to the original data\n",
    "cluster_labels = kmeans.labels_\n",
    "data_with_clusters = pd.DataFrame(X, columns=[f\"feature_{i}\" for i in range(X.shape[1])])\n",
    "data_with_clusters['cluster'] = cluster_labels\n",
    "\n",
    "# Analyze feature means for each cluster\n",
    "cluster_means = data_with_clusters.groupby('cluster').mean()\n",
    "print(\"Feature Means for Each Cluster:\")\n",
    "print(cluster_means)\n",
    "\n",
    "# Calculate feature importance for each cluster\n",
    "cluster_centers = kmeans.cluster_centers_\n",
    "feature_importance = pd.DataFrame(cluster_centers, columns=[f\"feature_{i}\" for i in range(X.shape[1])])\n",
    "feature_importance.index.name = 'cluster'\n",
    "print(\"\\nFeature Importance for Each Cluster:\")\n",
    "print(feature_importance)\n"
   ]
  },
  {
   "cell_type": "markdown",
   "metadata": {},
   "source": [
    "\n",
    "This code generates synthetic data with four features and three clusters using `make_blobs`. Then, it fits a KMeans clustering model to the data. After clustering, it calculates the mean feature values for each cluster and the cluster centers (centroid coordinates), which represent the average feature values within each cluster.\n",
    "\n",
    "The `cluster_means` DataFrame provides the mean feature values for each cluster, allowing you to understand the typical values of each feature within each cluster.\n",
    "\n",
    "The `feature_importance` DataFrame represents the cluster centers, where each row corresponds to a cluster and each column represents a feature. The values in this DataFrame indicate the importance of each feature for distinguishing between clusters. Higher values indicate that the feature contributes more to the definition of that cluster.\n",
    "\n",
    "By analyzing these results, you can interpret the characteristics of each cluster and understand which features are most important for defining each cluster. This information can provide valuable insights into the underlying structure of your data and help in making informed decisions or further analysis."
   ]
  },
  {
   "cell_type": "markdown",
   "metadata": {},
   "source": [
    "## Cohen's D Clustering Analysis"
   ]
  },
  {
   "cell_type": "markdown",
   "metadata": {},
   "source": [
    "The Cohen's d statistic is a measure of effect size that quantifies the difference between the means of two groups in terms of standard deviation units. While it's commonly used in hypothesis testing to determine the significance of differences between groups, it can also be applied to assess the importance of differences between clusters in a clustering analysis.\n",
    "\n",
    "Here's how you can use Cohen's d statistic to assess the importance of differences between clusters based on feature values:\n",
    "\n",
    "1. **Calculate Cluster Means and Standard Deviations:**\n",
    "   - For each feature, calculate the mean and standard deviation within each cluster.\n",
    "\n",
    "2. **Compute Cohen's d for Each Feature:**\n",
    "   - For each feature, compute Cohen's d statistic between pairs of clusters.\n",
    "   - Cohen's d is calculated as the difference between the means of two clusters divided by the pooled standard deviation.\n",
    "\n",
    "3. **Interpretation:**\n",
    "   - Large Cohen's d values (typically > 0.8) indicate substantial differences between clusters for that feature.\n",
    "   - Small Cohen's d values suggest minimal differences between clusters.\n",
    "\n",
    "4. **Significance Testing (Optional):**\n",
    "   - You can optionally perform significance testing to determine if the differences between clusters are statistically significant. This typically involves conducting t-tests or non-parametric tests, depending on the distribution of the data.\n",
    "\n",
    "Here's a simplified example code demonstrating how to calculate Cohen's d statistic for each feature between pairs of clusters:\n"
   ]
  },
  {
   "cell_type": "code",
   "execution_count": 3,
   "metadata": {},
   "outputs": [
    {
     "name": "stdout",
     "output_type": "stream",
     "text": [
      "feature_0_(1, 0): -4.6567512673119795\n",
      "feature_0_(1, 2): 4.689583509913727\n",
      "feature_0_(0, 2): 9.162977574582701\n",
      "feature_1_(1, 0): 4.765364823116116\n",
      "feature_1_(1, 2): 15.921366443059682\n",
      "feature_1_(0, 2): 10.871355828924463\n",
      "feature_2_(1, 0): 14.412185361468007\n",
      "feature_2_(1, 2): 13.484863049433713\n",
      "feature_2_(0, 2): -0.7812998043968105\n",
      "feature_3_(1, 0): -7.4411647366494\n",
      "feature_3_(1, 2): -5.250361978068482\n",
      "feature_3_(0, 2): 2.090582126467888\n"
     ]
    }
   ],
   "source": [
    "from scipy import stats\n",
    "import numpy as np\n",
    "\n",
    "def cohen_d(x, y):\n",
    "    \"\"\"\n",
    "    Compute Cohen's d statistic between two groups.\n",
    "    \"\"\"\n",
    "    nx = len(x)\n",
    "    ny = len(y)\n",
    "    dof = nx + ny - 2\n",
    "    pooled_std = ((nx - 1) * np.var(x, ddof=1) + (ny - 1) * np.var(y, ddof=1)) / dof\n",
    "    d = (np.mean(x) - np.mean(y)) / np.sqrt(pooled_std)\n",
    "    return d\n",
    "\n",
    "# Assuming 'data_with_clusters' contains feature data with cluster labels\n",
    "clusters = data_with_clusters['cluster'].unique()\n",
    "\n",
    "# Calculate Cohen's d for each feature between pairs of clusters\n",
    "cohen_d_values = {}\n",
    "for feature in data_with_clusters.columns[:-1]:  # Exclude the 'cluster' column\n",
    "    for i, cluster1 in enumerate(clusters):\n",
    "        for cluster2 in clusters[i+1:]:\n",
    "            group1 = data_with_clusters[data_with_clusters['cluster'] == cluster1][feature]\n",
    "            group2 = data_with_clusters[data_with_clusters['cluster'] == cluster2][feature]\n",
    "            d = cohen_d(group1, group2)\n",
    "            key = f\"{feature}_({cluster1}, {cluster2})\"\n",
    "            cohen_d_values[key] = d\n",
    "\n",
    "# Print Cohen's d values\n",
    "for key, value in cohen_d_values.items():\n",
    "    print(f\"{key}: {value}\")\n"
   ]
  },
  {
   "cell_type": "markdown",
   "metadata": {},
   "source": [
    "\n",
    "\n",
    "In this code:\n",
    "- We define a function `cohen_d` to compute Cohen's d statistic between two groups.\n",
    "- We iterate over each feature and each pair of clusters, computing Cohen's d statistic for each pair of clusters and each feature.\n",
    "- The resulting `cohen_d_values` dictionary contains Cohen's d values for each feature between pairs of clusters.\n",
    "\n",
    "By analyzing the Cohen's d values, you can identify which features contribute the most to the differences between clusters, helping you interpret the importance of these differences in your clustering analysis."
   ]
  },
  {
   "cell_type": "code",
   "execution_count": null,
   "metadata": {},
   "outputs": [],
   "source": []
  }
 ],
 "metadata": {
  "kernelspec": {
   "display_name": "Python 3",
   "language": "python",
   "name": "python3"
  },
  "language_info": {
   "codemirror_mode": {
    "name": "ipython",
    "version": 3
   },
   "file_extension": ".py",
   "mimetype": "text/x-python",
   "name": "python",
   "nbconvert_exporter": "python",
   "pygments_lexer": "ipython3",
   "version": "3.11.3"
  }
 },
 "nbformat": 4,
 "nbformat_minor": 2
}
