{
 "cells": [
  {
   "cell_type": "markdown",
   "metadata": {},
   "source": [
    "# 1. Install and Import Dependencies"
   ]
  },
  {
   "cell_type": "code",
   "execution_count": 1,
   "metadata": {},
   "outputs": [],
   "source": [
    "#!pip install torch==1.8.1+cu111 torchvision==0.9.1+cu111 torchaudio===0.8.1 -f https://download.pytorch.org/whl/torch_stable.html"
   ]
  },
  {
   "cell_type": "code",
   "execution_count": 2,
   "metadata": {},
   "outputs": [],
   "source": [
    "#!pip install transformers requests beautifulsoup4 pandas numpy"
   ]
  },
  {
   "cell_type": "code",
   "execution_count": 3,
   "metadata": {},
   "outputs": [
    {
     "name": "stderr",
     "output_type": "stream",
     "text": [
      "/Library/Frameworks/Python.framework/Versions/3.11/lib/python3.11/site-packages/tqdm/auto.py:21: TqdmWarning: IProgress not found. Please update jupyter and ipywidgets. See https://ipywidgets.readthedocs.io/en/stable/user_install.html\n",
      "  from .autonotebook import tqdm as notebook_tqdm\n"
     ]
    }
   ],
   "source": [
    "from transformers import AutoTokenizer, AutoModelForSequenceClassification #string to sequence of nums + load into NLP and transformer\n",
    "import torch\n",
    "import requests\n",
    "from bs4 import BeautifulSoup #extract data\n",
    "import re #regex to cleanup text"
   ]
  },
  {
   "cell_type": "markdown",
   "metadata": {},
   "source": [
    "https://huggingface.co/nlptown/bert-base-multilingual-uncased-sentiment"
   ]
  },
  {
   "cell_type": "markdown",
   "metadata": {},
   "source": [
    "# 2. Instantiate Model"
   ]
  },
  {
   "cell_type": "code",
   "execution_count": 4,
   "metadata": {},
   "outputs": [],
   "source": [
    "#instantiate the BERT model - get the tokenizer and model from BERT huggingface website\n",
    "link = 'nlptown/bert-base-multilingual-uncased-sentiment'\n",
    "\n",
    "tokenizer = AutoTokenizer.from_pretrained(link)\n",
    "model = AutoModelForSequenceClassification.from_pretrained(link)\n"
   ]
  },
  {
   "cell_type": "markdown",
   "metadata": {},
   "source": [
    "# 3. Encode and Calculate Sentiment"
   ]
  },
  {
   "cell_type": "markdown",
   "metadata": {},
   "source": [
    "### Testing on a  small sample"
   ]
  },
  {
   "cell_type": "code",
   "execution_count": 24,
   "metadata": {},
   "outputs": [],
   "source": [
    "my_review = 'It was good spot but couldve been better experience if the service was faster'\n",
    "tokens = tokenizer.encode(my_review, return_tensors='pt')"
   ]
  },
  {
   "cell_type": "code",
   "execution_count": 25,
   "metadata": {},
   "outputs": [],
   "source": [
    "result = model(tokens)"
   ]
  },
  {
   "cell_type": "code",
   "execution_count": 27,
   "metadata": {},
   "outputs": [
    {
     "data": {
      "text/plain": [
       "SequenceClassifierOutput(loss=None, logits=tensor([[-1.7396,  0.2251,  2.1218,  1.2335, -1.5565]],\n",
       "       grad_fn=<AddmmBackward0>), hidden_states=None, attentions=None)"
      ]
     },
     "execution_count": 27,
     "metadata": {},
     "output_type": "execute_result"
    }
   ],
   "source": [
    "result"
   ]
  },
  {
   "cell_type": "code",
   "execution_count": 21,
   "metadata": {},
   "outputs": [
    {
     "data": {
      "text/plain": [
       "tensor([[-1.7396,  0.2251,  2.1218,  1.2335, -1.5565]],\n",
       "       grad_fn=<AddmmBackward0>)"
      ]
     },
     "execution_count": 21,
     "metadata": {},
     "output_type": "execute_result"
    }
   ],
   "source": [
    "result.logits #results are raw from the nn - sequence classifier represent the prob of the sentiments"
   ]
  },
  {
   "cell_type": "code",
   "execution_count": 22,
   "metadata": {},
   "outputs": [
    {
     "data": {
      "text/plain": [
       "3"
      ]
     },
     "execution_count": 22,
     "metadata": {},
     "output_type": "execute_result"
    }
   ],
   "source": [
    "# convert results into readable format\n",
    "# plus 1 here helps because counting start from 0 (for 1 to 5 scale)\n",
    "int(torch.argmax(result.logits))+1 "
   ]
  },
  {
   "cell_type": "markdown",
   "metadata": {},
   "source": [
    "# 4. Collect Reviews"
   ]
  },
  {
   "cell_type": "code",
   "execution_count": 28,
   "metadata": {},
   "outputs": [],
   "source": [
    "url = 'https://www.yelp.com/biz/social-brew-cafe-pyrmont'\n",
    "url = 'https://www.yelp.com/biz/the-feed-co-table-and-tavern-chattanooga-4?osq=Restaurants'\n",
    "r = requests.get(url)\n",
    "\n",
    "soup = BeautifulSoup(r.text, 'html.parser')\n",
    "regex = re.compile('.*comment.*')\n",
    "results = soup.find_all('p', {'class':regex})\n",
    "reviews = [result.text for result in results]"
   ]
  },
  {
   "cell_type": "code",
   "execution_count": 29,
   "metadata": {},
   "outputs": [
    {
     "data": {
      "text/plain": [
       "[\"We went to Feed for brunch yesterday and were blown away. Joel was our server and we will totally ask for him every time we go back. He recommended the hot pimento and honey chicken biscuit and it was phenomenal!!! My husband got his other recommendation, the wagyu smash burger. Ridiculously good!!! Food and bloody Mary's came out quickly. We will definitely be back!!!\",\n",
       " 'Great food and service! Our server Noal, he  was amazing!  He was funny and entertaining!',\n",
       " \"Honestly this was one of the best meals I've had in Chattanooga. I met a coworker for lunch based on her recommendation and recommendation from several others. And boy they were not wrong!  The food was phenomenal. After going back and forth about several options, I finally settled on catfish with a corn salsa, mash potatoes and changed up the green beans for greens based on a recommendation from the waitress. (I wish I did the brussel sprouts because my coworker ordered them and they were beyond phenomenal!The catfish was a nice size and was fresh and crispy!  This meal would have me back regularly!!If your looking for where to go in Chattanooga- come here!!!\",\n",
       " 'What a lovely little snack we had! I decided to test some of our southern favorites and my partner tried the wings. Let me tell you...the greens melted in my mouth. They were cooked and seasoned perfectly. The pinto beans were delicious. And the coleslaw was so fresh. The wings were amazing.    The service was friendly and fast!      The restaurant was cute, clean, and very open. We sat on the heated outdoor deck and we were comfortable and warm.',\n",
       " \"We ran into some traffic between Nashville and Macon and figured that we should stop for the night in Chattanooga.  Not that this is where you would expect a Hotel review the Hotel Bo in Chattanooga is a nice bit of nostalgia close to the city center.  Anyway, we needed to get dinner and given the review we saw here it made the cut.I don't know if they accept reservations but we didn't look and arrived to a 45 minute wait.  No big deal. We went to the Bar and 20 minutes later we had a seat at the bar.It turns out that we arrived for Bingo Night and even better, we won! We'll, we along with another couple won an there ended up being a  Rock Paper Scissors run off to determine the eventual winner.  We won that contest too but don't worry, Jhanna made sure that the other party did not go home without something and she bought them a piece of Key Lime Pie.For an appetizer we had the Short Rib Tips along with the Mussels with PBR Sauce and the Short Rib Roast.   Both were great!\",\n",
       " 'Another great find on the road, courtesy of Yelp. Stopped in for lunch and had great food, service and a totally comfy seat. I opted for a French dip - made with brisket and so tender - love the whole thing and it was accompanied by yummy slaw. Wayne enjoyed a roasted veggie sandwich, and thanks to our server sharing that the sauce is better on the side! Fries were also perfect and we headed back to the road fulfilled.',\n",
       " 'Went on a Saturday night.Had to wait 35 minutes. Had a nice place to sit while waiting The restaurant is in a 1900 building. It is nicely done . Much of the historic structure remains. We had cubed steak and fried fish filet. Dessert was chocolate brownie with ice cream. Staff was excellent.',\n",
       " \"Nice spot for a good, well-rounded meal at a reasonable price. I have some favorites, the chicken sandwich, the sloppy Joe's are favorites and this is the only restaurant I know that offers succotash, I love succotash! Great beer selection, good drinks, great bar and outdoor seating. I mark them down for the service being spotty. I go here with some frequency as there are good options for the kids, so I like feed. I just wish the service was more consistent.\",\n",
       " \"We ate here last night with our 3 kids. The wait was long because of a party they were having, so our kids were HANGRY. Our waitress was wonderful- got the kid's food put in right away. The live music on the enclosed and temp controlled patio was great entertainment. We wanted to get the meatloaf- it looked AMAZING- but they ran out. So go early and get the meatloaf if you go! We got the country fried steak and the French dip sandwich. Both were excellent. Even the kid's food was awesome. Draft beer was extra cold. The restaurant was decorated nicely and appeared to be in a nice part of town. I'm glad we waited!\",\n",
       " \"Definitely don't miss this place. The food was outstanding everything we had was prepared Perfect. great service . ambience could use step up, but still cute enough ..all the vegetables had something special done to them,  whiskey glaze Carrots, garlic, green beans. The southern fried chicken everything was just perfect and delicious. I did not have the pork chop, but he said it was prepared. Perfect one of the best he's ever had.Enough vegetarian items to keep the vegetarian in your life happy .\"]"
      ]
     },
     "execution_count": 29,
     "metadata": {},
     "output_type": "execute_result"
    }
   ],
   "source": [
    "reviews"
   ]
  },
  {
   "cell_type": "markdown",
   "metadata": {},
   "source": [
    "# 5. Load Reviews into DataFrame and Score"
   ]
  },
  {
   "cell_type": "code",
   "execution_count": 30,
   "metadata": {},
   "outputs": [],
   "source": [
    "import numpy as np\n",
    "import pandas as pd"
   ]
  },
  {
   "cell_type": "code",
   "execution_count": 31,
   "metadata": {},
   "outputs": [],
   "source": [
    "df = pd.DataFrame(np.array(reviews), columns=['review'])"
   ]
  },
  {
   "cell_type": "code",
   "execution_count": 32,
   "metadata": {},
   "outputs": [
    {
     "data": {
      "text/plain": [
       "\"We went to Feed for brunch yesterday and were blown away. Joel was our server and we will totally ask for him every time we go back. He recommended the hot pimento and honey chicken biscuit and it was phenomenal!!! My husband got his other recommendation, the wagyu smash burger. Ridiculously good!!! Food and bloody Mary's came out quickly. We will definitely be back!!!\""
      ]
     },
     "execution_count": 32,
     "metadata": {},
     "output_type": "execute_result"
    }
   ],
   "source": [
    "df['review'].iloc[0]"
   ]
  },
  {
   "cell_type": "code",
   "execution_count": 33,
   "metadata": {},
   "outputs": [],
   "source": [
    "def sentiment_score(review):\n",
    "    tokens = tokenizer.encode(review, return_tensors='pt')\n",
    "    result = model(tokens)\n",
    "    return int(torch.argmax(result.logits))+1"
   ]
  },
  {
   "cell_type": "markdown",
   "metadata": {},
   "source": []
  },
  {
   "cell_type": "code",
   "execution_count": 34,
   "metadata": {},
   "outputs": [
    {
     "data": {
      "text/plain": [
       "5"
      ]
     },
     "execution_count": 34,
     "metadata": {},
     "output_type": "execute_result"
    }
   ],
   "source": [
    "sentiment_score(df['review'].iloc[1])"
   ]
  },
  {
   "cell_type": "code",
   "execution_count": 35,
   "metadata": {},
   "outputs": [],
   "source": [
    "df['sentiment'] = df['review'].apply(lambda x: sentiment_score(x[:512]))"
   ]
  },
  {
   "cell_type": "code",
   "execution_count": 17,
   "metadata": {},
   "outputs": [
    {
     "data": {
      "text/html": [
       "<div>\n",
       "<style scoped>\n",
       "    .dataframe tbody tr th:only-of-type {\n",
       "        vertical-align: middle;\n",
       "    }\n",
       "\n",
       "    .dataframe tbody tr th {\n",
       "        vertical-align: top;\n",
       "    }\n",
       "\n",
       "    .dataframe thead th {\n",
       "        text-align: right;\n",
       "    }\n",
       "</style>\n",
       "<table border=\"1\" class=\"dataframe\">\n",
       "  <thead>\n",
       "    <tr style=\"text-align: right;\">\n",
       "      <th></th>\n",
       "      <th>review</th>\n",
       "      <th>sentiment</th>\n",
       "    </tr>\n",
       "  </thead>\n",
       "  <tbody>\n",
       "    <tr>\n",
       "      <th>0</th>\n",
       "      <td>Very cute coffee shop and restaurant. They hav...</td>\n",
       "      <td>4</td>\n",
       "    </tr>\n",
       "    <tr>\n",
       "      <th>1</th>\n",
       "      <td>Six of us met here for breakfast before our wa...</td>\n",
       "      <td>4</td>\n",
       "    </tr>\n",
       "    <tr>\n",
       "      <th>2</th>\n",
       "      <td>The food was delicious. The ricotta pancakes w...</td>\n",
       "      <td>4</td>\n",
       "    </tr>\n",
       "    <tr>\n",
       "      <th>3</th>\n",
       "      <td>Great place with delicious food and friendly s...</td>\n",
       "      <td>5</td>\n",
       "    </tr>\n",
       "    <tr>\n",
       "      <th>4</th>\n",
       "      <td>Great service, lovely location, and really ama...</td>\n",
       "      <td>5</td>\n",
       "    </tr>\n",
       "    <tr>\n",
       "      <th>5</th>\n",
       "      <td>Great food amazing coffee and tea. Short walk ...</td>\n",
       "      <td>5</td>\n",
       "    </tr>\n",
       "    <tr>\n",
       "      <th>6</th>\n",
       "      <td>Ricotta hot cakes! These were so yummy. I ate ...</td>\n",
       "      <td>5</td>\n",
       "    </tr>\n",
       "    <tr>\n",
       "      <th>7</th>\n",
       "      <td>It was ok. Had coffee with my friends. I'm new...</td>\n",
       "      <td>3</td>\n",
       "    </tr>\n",
       "    <tr>\n",
       "      <th>8</th>\n",
       "      <td>We came for brunch twice in our week-long visi...</td>\n",
       "      <td>4</td>\n",
       "    </tr>\n",
       "    <tr>\n",
       "      <th>9</th>\n",
       "      <td>I came to Social brew cafe for brunch while ex...</td>\n",
       "      <td>5</td>\n",
       "    </tr>\n",
       "  </tbody>\n",
       "</table>\n",
       "</div>"
      ],
      "text/plain": [
       "                                              review  sentiment\n",
       "0  Very cute coffee shop and restaurant. They hav...          4\n",
       "1  Six of us met here for breakfast before our wa...          4\n",
       "2  The food was delicious. The ricotta pancakes w...          4\n",
       "3  Great place with delicious food and friendly s...          5\n",
       "4  Great service, lovely location, and really ama...          5\n",
       "5  Great food amazing coffee and tea. Short walk ...          5\n",
       "6  Ricotta hot cakes! These were so yummy. I ate ...          5\n",
       "7  It was ok. Had coffee with my friends. I'm new...          3\n",
       "8  We came for brunch twice in our week-long visi...          4\n",
       "9  I came to Social brew cafe for brunch while ex...          5"
      ]
     },
     "execution_count": 17,
     "metadata": {},
     "output_type": "execute_result"
    }
   ],
   "source": [
    "df"
   ]
  },
  {
   "cell_type": "code",
   "execution_count": 18,
   "metadata": {},
   "outputs": [
    {
     "data": {
      "text/plain": [
       "'Great place with delicious food and friendly staff. It is small but has outdoor seating and a relaxed ambiance. Perfect place to enjoy a cup of coffee. I am visiting Sydney for the first time but this place seems like is a local favorite.'"
      ]
     },
     "execution_count": 18,
     "metadata": {},
     "output_type": "execute_result"
    }
   ],
   "source": [
    "df['review'].iloc[3]"
   ]
  },
  {
   "cell_type": "code",
   "execution_count": null,
   "metadata": {},
   "outputs": [],
   "source": []
  }
 ],
 "metadata": {
  "kernelspec": {
   "display_name": "Python 3",
   "language": "python",
   "name": "python3"
  },
  "language_info": {
   "codemirror_mode": {
    "name": "ipython",
    "version": 3
   },
   "file_extension": ".py",
   "mimetype": "text/x-python",
   "name": "python",
   "nbconvert_exporter": "python",
   "pygments_lexer": "ipython3",
   "version": "3.11.3"
  }
 },
 "nbformat": 4,
 "nbformat_minor": 2
}
