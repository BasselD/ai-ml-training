{
 "cells": [
  {
   "cell_type": "markdown",
   "metadata": {},
   "source": [
    "# Advanced Statistics and Hypothesis Testing"
   ]
  },
  {
   "cell_type": "markdown",
   "metadata": {},
   "source": [
    "## What is a Hypothesis?"
   ]
  },
  {
   "cell_type": "markdown",
   "metadata": {},
   "source": [
    "It's a statistical method used to determine whether there's enough evidence in a sample of data to infer whether a certain condition holds true or not.\n",
    "\n",
    "Hypothesis Testing Process:\n",
    "- Clear research question\n",
    "- Well-defined Hypothesis\n",
    "- Appropriate data collection\n",
    "- Choose the right statistical test\n",
    "- Repetition for reproducibility\n"
   ]
  },
  {
   "cell_type": "markdown",
   "metadata": {},
   "source": [
    "## Hypothesis Components\n",
    "We have 2 components:\n",
    "- Independent Variable\n",
    "- Dependent Variable"
   ]
  },
  {
   "cell_type": "markdown",
   "metadata": {},
   "source": [
    "**Example** If you don't clean the fish tank once every 3 days, the fish will probably not survive for more than 3 months:\n",
    "- Independent variable: \"you don't clean the fish tank once every 3 days\"\n",
    "- Dependent variable: \"the fish will probably not survive for more than 3 months\""
   ]
  },
  {
   "cell_type": "markdown",
   "metadata": {},
   "source": [
    "A good hypothesis must:\n",
    "1. Explicitly state the **independent** and **dependent** variables\n",
    "2. Must be testable/reproducible \n",
    "3. Be based on authentic research work and sample collection. This means the sample must be a good representative of the population."
   ]
  },
  {
   "cell_type": "markdown",
   "metadata": {},
   "source": [
    "## Hypothesis Testing\n",
    "- A statistical method used to determine whether there is enough evidence in a sample of data to infer that a certain condition holds true for the entire population.\n",
    "- Key concepts in Hypothesis Testing:\n",
    "    - **Null Hypothesis** ($H_0$):\n",
    "        - It's a statement of no effect or no difference\n",
    "        - It's the default assumption that there's no change, difference, or relationship\n",
    "        - example: \n",
    "            - there's no correlation between age and income\n",
    "            - there's no difference in the average score between two teaching methods\n",
    "    - **Alternative Hypothesis** ($H_a$ or $H_1$):\n",
    "        - It's a statement that you want to prove where there's a statistically significant evidence.\n",
    "        - It's what you want to prove to be correct or what you want to test for.\n",
    "        - example: \n",
    "            - there's a correlation between age and income\n",
    "            - there's a difference in the average score between two teaching methods\n",
    "    - **Significance Level** ($\\alpha$) (critical value)\n",
    "        - Is the probability for rejecting the null hypothesis\n",
    "        - In the industry, we usually use 0.05 or 5% (sometimes 0.01 or 1%)\n",
    "    - **p-value** ($p$)\n",
    "        - Is the probability of statement form the sample being true\n",
    "-  Once we have the components above, we can perform the Hypothesis Evaluation using the following steps:\n",
    "    1. Define the statement of the hypothesis\n",
    "    2. Format the statement into $H_0$ and $H_a$ ($H_0$ is always against our statement)\n",
    "    3. Choose the appropriate statistical test:\n",
    "        - t-test (deals with averages $\\mu$)\n",
    "        - z-test (deals with averages $\\mu$)\n",
    "        - chi-square test\n",
    "        - ANOVA (deals with averages $\\mu$)\n",
    "        - Other tests: MANOVA, Mann-Whitney U, and Kruskal-Wallis tests\n",
    "    4. Set a $\\alpha$ value (0.05 or 0.01). Note: it can be set by you, stakeholders, managers, or you org.\n",
    "    5. Calculate $p-value$ using the statistical function in python and the given dataset\n",
    "    6. based on $p-value$ and $\\alpha$:\n",
    "        - If the p-value is **greater** than alpha, we **do not reject the null hypothesis**. in other words, **we accept the null hypothesis**\n",
    "        - If the p-value is **less** than alpha, we **do reject the null hypothesis**. in other words, **we accept the alternative hypothesis**\n"
   ]
  },
  {
   "cell_type": "markdown",
   "metadata": {},
   "source": []
  },
  {
   "cell_type": "markdown",
   "metadata": {},
   "source": [
    "![h](https://userpage.fu-berlin.de/soga/soga-py/200/2070_hypothesis_tests/img/Generalized_figure_of_two_sided_test.png)"
   ]
  },
  {
   "cell_type": "markdown",
   "metadata": {},
   "source": [
    "\n",
    "**Conclusion** The goal of hypothesis testing is to determine if there is enough statistical evidence to reject the null hypothesis in favor of the alternative hypothesis. If there isn't sufficient evidence, we fail to reject Ho​, meaning we do not have enough proof to claim Ha​ is true."
   ]
  },
  {
   "cell_type": "markdown",
   "metadata": {},
   "source": [
    "Common Pitfalls:\n",
    "\n",
    "- Type I Error (False Positive): Rejecting the null hypothesis when it’s true.\n",
    "- Type II Error (False Negative): Failing to reject the null hypothesis when it’s false.\n",
    "- P-hacking: Manipulating data or tests to achieve a significant p-value."
   ]
  },
  {
   "cell_type": "markdown",
   "metadata": {},
   "source": [
    "## t-test"
   ]
  },
  {
   "cell_type": "markdown",
   "metadata": {},
   "source": [
    "### When to use?\n",
    "- For comparing 2 segments of the sample using 1 numeric measure\n",
    "- When the sample size is very small (<=30>) **OR** the population standard deviation is unknown\n",
    "- Applications: t-test can help with comparing 2 independent variables, 1 variable against the population mean, and 2 dependent variables (before and after effect)"
   ]
  },
  {
   "cell_type": "markdown",
   "metadata": {},
   "source": [
    "## t-test\n",
    "### When to use?\n",
    "- For comparing 2 segments of the sample using 1 numeric measure\n",
    "- When the sample size is very small (<=30>) **OR** the population standard deviation is unknown\n",
    "\n",
    "### Types of t-tests\n",
    "- **Independent Sample t-test**: evaluating if 2 _independent, unrelated_ groups are the same or not. Example: a group of people that eat bananas have change in levels of potassium vs a different group of people that don't eat bananas.\n",
    "    - For Group 1 vs Group 2 potassium levels:\n",
    "        - $H_0$: $\\mu_1 = \\mu_2$ (there's no difference)\n",
    "        - $H_a$: $\\mu_1 \\neq \\mu_2$ (the bananas are causing an impact)\n",
    "- **Paired-Sample t-test**: (aka relationship test) evaluating if 2 samples taken from _same group_ are the same or not. It's mainly used for _before_ vs _after_ comparison. Example: students that took an extra math session had a different outcome on their second exam compared to the first one. We're comparing the same group of students before vs after taking the extra session.\n",
    "    - For same group before (bef) and after (aft):\n",
    "        - $H_0$: $\\mu_{bef} = \\mu_{aft}$ (there's no difference)\n",
    "        - $H_a$: $\\mu_{bef} \\neq \\mu_{aft}$ (the extra session is making an impact)\n",
    "\n",
    "- **One-Sample t-test**: evaluating if the average of a single group is different from the known population average (X). The population mean is usually a supposed mean from an article, publishing, old research, etc... So, you're trying to evaluate against the fact that it's the population mean. Example: An article states that the average IQ of US adults is 108. We collect a sample from US population (_all states_ + _adults_). Then, we evaluate against known population average (against the article's claims).\n",
    "    - For population ($X$) vs sample ($\\mu_{s}$):\n",
    "        - $H_0$: $\\mu_{s} = X$ (there's no difference - the article's claim is true)\n",
    "        - $H_a$: $\\mu_{s} \\neq X$ (there's a difference - the article's claim is untrue)"
   ]
  },
  {
   "cell_type": "code",
   "execution_count": 1,
   "metadata": {},
   "outputs": [],
   "source": [
    "import pandas as pd\n",
    "import numpy as np\n",
    "import scipy.stats as sts"
   ]
  },
  {
   "cell_type": "markdown",
   "metadata": {},
   "source": [
    "#### Independent Sample t-test"
   ]
  },
  {
   "cell_type": "markdown",
   "metadata": {},
   "source": [
    "**Scenario: A/B Testing for New Website Functionality**\n",
    "\n",
    "Imagine you work for an e-commerce company, and your team is responsible for optimizing the company's website to increase user engagement and, ultimately, sales. The current design of the \"Buy Now\" button on the website is being tested against a new design to see if it leads to a higher conversion rate (or change in conversion rate)."
   ]
  },
  {
   "cell_type": "markdown",
   "metadata": {},
   "source": [
    "Data Collection and Evaluation Methodology - for placebo effect and having a control group\n",
    "1. Randomly select website users broken into group A and group B (independent groups)\n",
    "2. Give group A the old website and group B the new website (new button)\n",
    "3. Measure usage score\n",
    "4. Perform an independent statistical test whether there's a difference in the engagement or not"
   ]
  },
  {
   "cell_type": "markdown",
   "metadata": {},
   "source": [
    "- $H_0$: $\\mu_A = \\mu_B$ (there's no impact on conversion)\n",
    "- $H_a$: $\\mu_A \\neq \\mu_B$ (the new website has an impact of conversion)"
   ]
  },
  {
   "cell_type": "code",
   "execution_count": 2,
   "metadata": {},
   "outputs": [],
   "source": [
    "path = '/Users/bassel_instructor/Documents/Datasets/'"
   ]
  },
  {
   "cell_type": "code",
   "execution_count": 3,
   "metadata": {},
   "outputs": [
    {
     "data": {
      "application/vnd.microsoft.datawrangler.viewer.v0+json": {
       "columns": [
        {
         "name": "index",
         "rawType": "int64",
         "type": "integer"
        },
        {
         "name": "Group_A",
         "rawType": "int64",
         "type": "integer"
        },
        {
         "name": "Group_B",
         "rawType": "int64",
         "type": "integer"
        }
       ],
       "conversionMethod": "pd.DataFrame",
       "ref": "33c4f1bb-69ef-4c2f-952e-ee71f3ea8fc4",
       "rows": [
        [
         "0",
         "38",
         "47"
        ],
        [
         "1",
         "34",
         "48"
        ],
        [
         "2",
         "35",
         "50"
        ],
        [
         "3",
         "35",
         "49"
        ],
        [
         "4",
         "35",
         "46"
        ]
       ],
       "shape": {
        "columns": 2,
        "rows": 5
       }
      },
      "text/html": [
       "<div>\n",
       "<style scoped>\n",
       "    .dataframe tbody tr th:only-of-type {\n",
       "        vertical-align: middle;\n",
       "    }\n",
       "\n",
       "    .dataframe tbody tr th {\n",
       "        vertical-align: top;\n",
       "    }\n",
       "\n",
       "    .dataframe thead th {\n",
       "        text-align: right;\n",
       "    }\n",
       "</style>\n",
       "<table border=\"1\" class=\"dataframe\">\n",
       "  <thead>\n",
       "    <tr style=\"text-align: right;\">\n",
       "      <th></th>\n",
       "      <th>Group_A</th>\n",
       "      <th>Group_B</th>\n",
       "    </tr>\n",
       "  </thead>\n",
       "  <tbody>\n",
       "    <tr>\n",
       "      <th>0</th>\n",
       "      <td>38</td>\n",
       "      <td>47</td>\n",
       "    </tr>\n",
       "    <tr>\n",
       "      <th>1</th>\n",
       "      <td>34</td>\n",
       "      <td>48</td>\n",
       "    </tr>\n",
       "    <tr>\n",
       "      <th>2</th>\n",
       "      <td>35</td>\n",
       "      <td>50</td>\n",
       "    </tr>\n",
       "    <tr>\n",
       "      <th>3</th>\n",
       "      <td>35</td>\n",
       "      <td>49</td>\n",
       "    </tr>\n",
       "    <tr>\n",
       "      <th>4</th>\n",
       "      <td>35</td>\n",
       "      <td>46</td>\n",
       "    </tr>\n",
       "  </tbody>\n",
       "</table>\n",
       "</div>"
      ],
      "text/plain": [
       "   Group_A  Group_B\n",
       "0       38       47\n",
       "1       34       48\n",
       "2       35       50\n",
       "3       35       49\n",
       "4       35       46"
      ]
     },
     "execution_count": 3,
     "metadata": {},
     "output_type": "execute_result"
    }
   ],
   "source": [
    "df = pd.read_csv(path+'AB_Testing_Website.csv')\n",
    "df.head()"
   ]
  },
  {
   "cell_type": "code",
   "execution_count": 4,
   "metadata": {},
   "outputs": [
    {
     "data": {
      "text/plain": [
       "8.2568977246166655e-22"
      ]
     },
     "execution_count": 4,
     "metadata": {},
     "output_type": "execute_result"
    }
   ],
   "source": [
    "# run the t-test analysis\n",
    "# t-test function gives 2 values\n",
    "p_val = sts.ttest_ind(df['Group_A'], df['Group_B'])[1] #p value comes as second item in the output. So, use index 1\n",
    "\n",
    "#print('t statistic:',t_stat, ' | p value:',p_val) \n",
    "p_val"
   ]
  },
  {
   "cell_type": "code",
   "execution_count": 5,
   "metadata": {},
   "outputs": [],
   "source": [
    "# the critical value was not specified. Therefore, we have the option to choose it\n",
    "alpha = 0.05"
   ]
  },
  {
   "cell_type": "code",
   "execution_count": 6,
   "metadata": {},
   "outputs": [
    {
     "name": "stdout",
     "output_type": "stream",
     "text": [
      "We reject the null hypothesis (we accept the alternative). Therefore, there is a change in the engagement for the new button\n"
     ]
    }
   ],
   "source": [
    "#evaluation\n",
    "if p_val > alpha:\n",
    "    print('We do not reject the null hypothesis (we accept it). Therefore, There is no impact on the usage from the new button')\n",
    "else:\n",
    "    print('We reject the null hypothesis (we accept the alternative). Therefore, there is a change in the engagement for the new button')"
   ]
  },
  {
   "cell_type": "markdown",
   "metadata": {},
   "source": [
    "> p-value  for $H_0$ is so low where $\\alpha=0.01$ can still work (99% confidence to reject the null hypothesis)"
   ]
  },
  {
   "cell_type": "markdown",
   "metadata": {},
   "source": []
  },
  {
   "cell_type": "markdown",
   "metadata": {},
   "source": [
    "- What if we want to perform an evaluation with a direction? e.g. the results are higher or lower\n",
    "- This is basically called One-Sided test or one-tailed (the one we just did is called Two-Sided)\n",
    "- You do not need to split the alpha in half for one-tailed (e.g. it remains 5%) \n",
    "- When you perform a one-tailed t-test, you ar eonly considering one direction (upper or lower tail)\n",
    "- For the `ttest_ind()`, you need to specify the `alternative=` attribute\n",
    "\n",
    "![hy](https://mverbakel.github.io/assets/one_vs_two_sided.png)"
   ]
  },
  {
   "cell_type": "markdown",
   "metadata": {},
   "source": [
    "Therefore, the null and alternative hypotheses become:\n",
    "- $H_0$: $\\mu_B <= \\mu_A$ (the new button is performing similar or worse than the old one)\n",
    "- $H_a$: $\\mu_B > \\mu_A$ ((the new button is performing better)"
   ]
  },
  {
   "cell_type": "markdown",
   "metadata": {},
   "source": [
    "> If we choose 'greater', then the order matter. B needs to be mentioned first. "
   ]
  },
  {
   "cell_type": "code",
   "execution_count": 7,
   "metadata": {},
   "outputs": [
    {
     "name": "stdout",
     "output_type": "stream",
     "text": [
      "We reject the null hypothesis. Group B has a positive impact on engagement \n"
     ]
    }
   ],
   "source": [
    "t_stat, p_val = sts.ttest_ind(df['Group_B'], df['Group_A'],alternative='greater') # make sure you mention Group B first \n",
    "#evaluation\n",
    "if p_val < alpha:\n",
    "    print('We reject the null hypothesis. Group B has a positive impact on engagement ')\n",
    "else:\n",
    "    print('Fail to reject the null hypothesis. Group B has no impact or less')"
   ]
  },
  {
   "cell_type": "markdown",
   "metadata": {},
   "source": [
    "**Building a generalized custom function for our Hypothesis Evaluation**"
   ]
  },
  {
   "cell_type": "code",
   "execution_count": 8,
   "metadata": {},
   "outputs": [],
   "source": [
    "def HypoTesting(p_val, alpha=0.05): #default to alpha = 5%, but can be changed by the user\n",
    "    if p_val > alpha:\n",
    "        print('We do not reject (or accept) the null hypothesis.')\n",
    "    else:\n",
    "        print('We reject the null hypothesis.')"
   ]
  },
  {
   "cell_type": "markdown",
   "metadata": {},
   "source": [
    "#### Paired-Sample t-test:"
   ]
  },
  {
   "cell_type": "markdown",
   "metadata": {},
   "source": [
    "**Example** </br>\n",
    "For a particular hospital, it is advertised that a particular chemotherapy session does not affect the patient's health \n",
    "based on blood pressure (BP).\n",
    "It is to be checked if the BP before the treatment is equivalent to the BP after the treatment for the same patients.\n",
    "Perform a statistical significance at alpha=0.05 to help validate the claim."
   ]
  },
  {
   "cell_type": "markdown",
   "metadata": {},
   "source": [
    "- $H_0$: $\\mu_{bef} = \\mu_{aft}$ (there's no impact with chemo) \n",
    "    - note: some textbooks express this as $\\mu_d = 0$ (d: the difference between before and after)\n",
    "- $H_a$: $\\mu_{bef} \\neq \\mu_{aft}$ (blood pressure is changing after chemo)"
   ]
  },
  {
   "cell_type": "code",
   "execution_count": 9,
   "metadata": {},
   "outputs": [
    {
     "data": {
      "application/vnd.microsoft.datawrangler.viewer.v0+json": {
       "columns": [
        {
         "name": "index",
         "rawType": "int64",
         "type": "integer"
        },
        {
         "name": "patient",
         "rawType": "int64",
         "type": "integer"
        },
        {
         "name": "sex",
         "rawType": "object",
         "type": "string"
        },
        {
         "name": "agegrp",
         "rawType": "object",
         "type": "string"
        },
        {
         "name": "bp_before",
         "rawType": "int64",
         "type": "integer"
        },
        {
         "name": "bp_after",
         "rawType": "int64",
         "type": "integer"
        }
       ],
       "conversionMethod": "pd.DataFrame",
       "ref": "2e4ecebd-d7dc-4b06-b0d1-6eafa284972f",
       "rows": [
        [
         "0",
         "1",
         "Male",
         "30-45",
         "143",
         "153"
        ],
        [
         "1",
         "2",
         "Male",
         "30-45",
         "163",
         "170"
        ],
        [
         "2",
         "3",
         "Male",
         "30-45",
         "153",
         "168"
        ],
        [
         "3",
         "4",
         "Male",
         "30-45",
         "153",
         "142"
        ],
        [
         "4",
         "5",
         "Male",
         "30-45",
         "146",
         "141"
        ]
       ],
       "shape": {
        "columns": 5,
        "rows": 5
       }
      },
      "text/html": [
       "<div>\n",
       "<style scoped>\n",
       "    .dataframe tbody tr th:only-of-type {\n",
       "        vertical-align: middle;\n",
       "    }\n",
       "\n",
       "    .dataframe tbody tr th {\n",
       "        vertical-align: top;\n",
       "    }\n",
       "\n",
       "    .dataframe thead th {\n",
       "        text-align: right;\n",
       "    }\n",
       "</style>\n",
       "<table border=\"1\" class=\"dataframe\">\n",
       "  <thead>\n",
       "    <tr style=\"text-align: right;\">\n",
       "      <th></th>\n",
       "      <th>patient</th>\n",
       "      <th>sex</th>\n",
       "      <th>agegrp</th>\n",
       "      <th>bp_before</th>\n",
       "      <th>bp_after</th>\n",
       "    </tr>\n",
       "  </thead>\n",
       "  <tbody>\n",
       "    <tr>\n",
       "      <th>0</th>\n",
       "      <td>1</td>\n",
       "      <td>Male</td>\n",
       "      <td>30-45</td>\n",
       "      <td>143</td>\n",
       "      <td>153</td>\n",
       "    </tr>\n",
       "    <tr>\n",
       "      <th>1</th>\n",
       "      <td>2</td>\n",
       "      <td>Male</td>\n",
       "      <td>30-45</td>\n",
       "      <td>163</td>\n",
       "      <td>170</td>\n",
       "    </tr>\n",
       "    <tr>\n",
       "      <th>2</th>\n",
       "      <td>3</td>\n",
       "      <td>Male</td>\n",
       "      <td>30-45</td>\n",
       "      <td>153</td>\n",
       "      <td>168</td>\n",
       "    </tr>\n",
       "    <tr>\n",
       "      <th>3</th>\n",
       "      <td>4</td>\n",
       "      <td>Male</td>\n",
       "      <td>30-45</td>\n",
       "      <td>153</td>\n",
       "      <td>142</td>\n",
       "    </tr>\n",
       "    <tr>\n",
       "      <th>4</th>\n",
       "      <td>5</td>\n",
       "      <td>Male</td>\n",
       "      <td>30-45</td>\n",
       "      <td>146</td>\n",
       "      <td>141</td>\n",
       "    </tr>\n",
       "  </tbody>\n",
       "</table>\n",
       "</div>"
      ],
      "text/plain": [
       "   patient   sex agegrp  bp_before  bp_after\n",
       "0        1  Male  30-45        143       153\n",
       "1        2  Male  30-45        163       170\n",
       "2        3  Male  30-45        153       168\n",
       "3        4  Male  30-45        153       142\n",
       "4        5  Male  30-45        146       141"
      ]
     },
     "execution_count": 9,
     "metadata": {},
     "output_type": "execute_result"
    }
   ],
   "source": [
    "df = pd.read_csv('/Users/bassel_instructor/Documents/Datasets/blood_pressure.csv')\n",
    "df.head()"
   ]
  },
  {
   "cell_type": "code",
   "execution_count": 10,
   "metadata": {},
   "outputs": [],
   "source": [
    "t_stat, p_val = sts.ttest_rel(df['bp_before'], df['bp_after'])"
   ]
  },
  {
   "cell_type": "code",
   "execution_count": 11,
   "metadata": {},
   "outputs": [
    {
     "name": "stdout",
     "output_type": "stream",
     "text": [
      "We reject the null hypothesis.\n"
     ]
    }
   ],
   "source": [
    "HypoTesting(p_val)"
   ]
  },
  {
   "cell_type": "markdown",
   "metadata": {},
   "source": [
    "**Result** We reject the null hypothesis. There's a statistically significant impact on the blood pressure after chemotherapy."
   ]
  },
  {
   "cell_type": "markdown",
   "metadata": {},
   "source": [
    "#### One-Sample t-test"
   ]
  },
  {
   "cell_type": "markdown",
   "metadata": {},
   "source": [
    "**Example**\n",
    "For a particular organization, the average age of the employees was claimed 30 years.\n",
    "The authorities collected a random sample of 10 employees' age data to check the claim made by the organization.\n",
    "Construct a hypothesis test to validate the hypothesis at a significance level of 5%."
   ]
  },
  {
   "cell_type": "markdown",
   "metadata": {},
   "source": [
    "For $X = 30$:\n",
    "- $H_0$: $\\mu_s = X$ (there's no difference/change)\n",
    "- $H_a$: $\\mu_s \\neq X$     "
   ]
  },
  {
   "cell_type": "code",
   "execution_count": 12,
   "metadata": {},
   "outputs": [
    {
     "data": {
      "application/vnd.microsoft.datawrangler.viewer.v0+json": {
       "columns": [
        {
         "name": "index",
         "rawType": "int64",
         "type": "integer"
        },
        {
         "name": "ages",
         "rawType": "int64",
         "type": "integer"
        }
       ],
       "conversionMethod": "pd.DataFrame",
       "ref": "b6c833c0-eb73-4555-ba91-fc5ca989e39c",
       "rows": [
        [
         "0",
         "34"
        ],
        [
         "1",
         "45"
        ],
        [
         "2",
         "65"
        ],
        [
         "3",
         "78"
        ],
        [
         "4",
         "32"
        ]
       ],
       "shape": {
        "columns": 1,
        "rows": 5
       }
      },
      "text/html": [
       "<div>\n",
       "<style scoped>\n",
       "    .dataframe tbody tr th:only-of-type {\n",
       "        vertical-align: middle;\n",
       "    }\n",
       "\n",
       "    .dataframe tbody tr th {\n",
       "        vertical-align: top;\n",
       "    }\n",
       "\n",
       "    .dataframe thead th {\n",
       "        text-align: right;\n",
       "    }\n",
       "</style>\n",
       "<table border=\"1\" class=\"dataframe\">\n",
       "  <thead>\n",
       "    <tr style=\"text-align: right;\">\n",
       "      <th></th>\n",
       "      <th>ages</th>\n",
       "    </tr>\n",
       "  </thead>\n",
       "  <tbody>\n",
       "    <tr>\n",
       "      <th>0</th>\n",
       "      <td>34</td>\n",
       "    </tr>\n",
       "    <tr>\n",
       "      <th>1</th>\n",
       "      <td>45</td>\n",
       "    </tr>\n",
       "    <tr>\n",
       "      <th>2</th>\n",
       "      <td>65</td>\n",
       "    </tr>\n",
       "    <tr>\n",
       "      <th>3</th>\n",
       "      <td>78</td>\n",
       "    </tr>\n",
       "    <tr>\n",
       "      <th>4</th>\n",
       "      <td>32</td>\n",
       "    </tr>\n",
       "  </tbody>\n",
       "</table>\n",
       "</div>"
      ],
      "text/plain": [
       "   ages\n",
       "0    34\n",
       "1    45\n",
       "2    65\n",
       "3    78\n",
       "4    32"
      ]
     },
     "execution_count": 12,
     "metadata": {},
     "output_type": "execute_result"
    }
   ],
   "source": [
    "df = pd.read_csv('/Users/bassel_instructor/Documents/Datasets/Ages.csv')\n",
    "df.head()"
   ]
  },
  {
   "cell_type": "code",
   "execution_count": 13,
   "metadata": {},
   "outputs": [],
   "source": [
    "t_stat, p_val = sts.ttest_1samp(df, popmean=30)"
   ]
  },
  {
   "cell_type": "code",
   "execution_count": 14,
   "metadata": {},
   "outputs": [
    {
     "name": "stdout",
     "output_type": "stream",
     "text": [
      "We reject the null hypothesis.\n"
     ]
    }
   ],
   "source": [
    "HypoTesting(p_val, alpha=0.05)"
   ]
  },
  {
   "cell_type": "markdown",
   "metadata": {},
   "source": [
    "**Result** We reject (or do not accept) the null hypothesis. The organization's claim is false (or no longer applicable)."
   ]
  },
  {
   "cell_type": "markdown",
   "metadata": {},
   "source": [
    "## z-test"
   ]
  },
  {
   "cell_type": "markdown",
   "metadata": {},
   "source": [
    "### When to use?\n",
    "- For 2 numerical variables or 1 numerical variable against population parameters (mean)\n",
    "- When the sample size is large (>30) **AND** the standard deviation of the population is known"
   ]
  },
  {
   "cell_type": "markdown",
   "metadata": {},
   "source": [
    "**Example**</br>\n",
    "A school principal claims that the students in his school are more intelligent than those of other schools. A random sample of 50 students' IQ scores has a mean score of 110. The mean population IQ is 100 with a Standard deviation of 15. State whether the claim of the principal is right or not at a 5% significance level.\n"
   ]
  },
  {
   "cell_type": "markdown",
   "metadata": {},
   "source": [
    "**Solution**\n",
    "1. Define the Hypothesis Statements\n",
    "    - $H_0$: $\\mu_s = X$ \n",
    "        - there's no difference/change OR The average IQ of the sample is equal to the one for population \n",
    "        - OR _we disagree with the principal_\n",
    "    - $H_a$: $\\mu_s \\neq X$  \n",
    "        - _we partially agree with the principal that the IQ is different_ \n",
    "        - we're not sure if it's higher or lower"
   ]
  },
  {
   "cell_type": "markdown",
   "metadata": {},
   "source": [
    "2. Extract information/givens"
   ]
  },
  {
   "cell_type": "code",
   "execution_count": 15,
   "metadata": {},
   "outputs": [],
   "source": [
    "# list of givens\n",
    "\n",
    "# sample info - statistics\n",
    "sam_mean = 110\n",
    "sam_size = 50\n",
    "\n",
    "# population info - parameters\n",
    "pop_mean = 100\n",
    "pop_sd = 15\n",
    "\n",
    "# evaluation info\n",
    "alpha = 0.05"
   ]
  },
  {
   "cell_type": "markdown",
   "metadata": {},
   "source": [
    "- Since we know the standard deviation of the population and the size > 50, then we use z-test\n",
    "- We don't have access to the actual data\n",
    "- However, we have access to its parameters and statistics\n",
    "- Therefore, we can use them to artificially generate (mimic) the data for students' IQ - _assuming the data follows a normal distribution_\n",
    "- Another piece of info that's missing here in order to generate the sample data, wich is the **Standard Deviation of the sample ($\\sigma_x$)**\n",
    "    - formula below helps calculate that. It states SD of the Sample equals to the SD of the population divided by the square root of the sample size\n",
    "    - In other words, we need to do reverse engineering of the data"
   ]
  },
  {
   "cell_type": "markdown",
   "metadata": {},
   "source": [
    "![Sd](https://uedufy.com/wp-content/uploads/2022/03/image-3.png)"
   ]
  },
  {
   "cell_type": "markdown",
   "metadata": {},
   "source": [
    "$\\sigma$ = population standard deviation\n",
    " \n",
    "$\\N$ = sample size"
   ]
  },
  {
   "cell_type": "code",
   "execution_count": 16,
   "metadata": {},
   "outputs": [
    {
     "name": "stdout",
     "output_type": "stream",
     "text": [
      "SD of the sample: 2.1213203435596424\n"
     ]
    }
   ],
   "source": [
    "import math\n",
    "\n",
    "sam_sd = pop_sd/math.sqrt(sam_size)\n",
    "print('SD of the sample:', sam_sd)"
   ]
  },
  {
   "cell_type": "markdown",
   "metadata": {},
   "source": [
    "3. Generate the sample data: Use NumPy's `normal()` \n",
    "3. Generate a normally distributed sample data based on the derived or given statistics"
   ]
  },
  {
   "cell_type": "code",
   "execution_count": 17,
   "metadata": {},
   "outputs": [
    {
     "data": {
      "text/plain": [
       "array([110.95377392, 109.40538193, 109.72894246, 113.09597468,\n",
       "       105.8484773 , 106.76009949, 109.66138303, 111.43122236,\n",
       "       107.12946723, 110.13425595, 110.95604881, 109.87716073,\n",
       "       110.74771482, 109.29371036, 107.64699645, 111.87655292,\n",
       "       109.42978532, 107.47471355, 109.43166805, 113.39593207,\n",
       "       114.36306707, 107.93943056, 110.37125262, 109.54549646,\n",
       "       110.28745368, 113.36699073, 113.01089741, 105.56033781,\n",
       "       106.53787024, 108.76653101, 109.52709243, 110.71146551,\n",
       "       105.26124611, 109.0079908 , 111.33248233, 105.83144005,\n",
       "       108.09571801, 109.37734313, 110.00912905, 109.69571246,\n",
       "       111.8533326 , 109.34501912, 110.44586259, 110.62359389,\n",
       "       106.92188901, 109.77721629, 112.04961804, 109.09251823,\n",
       "       110.28354139, 113.278113  ])"
      ]
     },
     "execution_count": 17,
     "metadata": {},
     "output_type": "execute_result"
    }
   ],
   "source": [
    "student_sample = np.random.normal(loc=sam_mean, scale=sam_sd, size=sam_size)\n",
    "student_sample"
   ]
  },
  {
   "cell_type": "markdown",
   "metadata": {},
   "source": [
    "The data set above can be generated randomly, but along the guidelines of the size, mean, and SD."
   ]
  },
  {
   "cell_type": "code",
   "execution_count": 18,
   "metadata": {},
   "outputs": [
    {
     "data": {
      "text/plain": [
       "50"
      ]
     },
     "execution_count": 18,
     "metadata": {},
     "output_type": "execute_result"
    }
   ],
   "source": [
    "# qa checks\n",
    "len(student_sample)"
   ]
  },
  {
   "cell_type": "code",
   "execution_count": 19,
   "metadata": {},
   "outputs": [
    {
     "data": {
      "text/plain": [
       "109.73097826096254"
      ]
     },
     "execution_count": 19,
     "metadata": {},
     "output_type": "execute_result"
    }
   ],
   "source": [
    "np.mean(student_sample)"
   ]
  },
  {
   "cell_type": "markdown",
   "metadata": {},
   "source": [
    "`pip install statsmodels`"
   ]
  },
  {
   "cell_type": "code",
   "execution_count": 20,
   "metadata": {},
   "outputs": [],
   "source": [
    "from statsmodels.stats.weightstats import ztest \n",
    "\n",
    "z_stat, p_val = ztest(student_sample, value=pop_mean)"
   ]
  },
  {
   "cell_type": "code",
   "execution_count": 21,
   "metadata": {},
   "outputs": [
    {
     "name": "stdout",
     "output_type": "stream",
     "text": [
      "We reject the null hypothesis.\n"
     ]
    }
   ],
   "source": [
    "HypoTesting(p_val, alpha)"
   ]
  },
  {
   "cell_type": "markdown",
   "metadata": {},
   "source": [
    "**Result** We reject (or do not accept) the null hypothesis. Therefore, the principal's claim might be true (or there's a difference in the IQ)"
   ]
  },
  {
   "cell_type": "markdown",
   "metadata": {},
   "source": [
    "**Evaluate whether it's larger or not**\n",
    " \n",
    "- $H_0$: $\\mu_s <> X$ \n",
    "    - The sample IQ is not larger than the population\n",
    "    - OR _we disagree with the principal_\n",
    "- $H_a$: $\\mu_s > X$  \n",
    "    - The IQ sample is larger \n",
    "    - OR _we agree with the principal_"
   ]
  },
  {
   "cell_type": "code",
   "execution_count": 22,
   "metadata": {},
   "outputs": [
    {
     "name": "stdout",
     "output_type": "stream",
     "text": [
      "We reject the null hypothesis.\n"
     ]
    }
   ],
   "source": [
    "z_stat, p_val = ztest(student_sample, value=pop_mean, alternative='larger')\n",
    "HypoTesting(p_val, alpha)"
   ]
  },
  {
   "cell_type": "markdown",
   "metadata": {},
   "source": [
    "**Final Result:** We reject (or do not accept) the null hypothesis. Therefore, the principal's claim is true. His students have higher IQ than others."
   ]
  },
  {
   "cell_type": "markdown",
   "metadata": {},
   "source": [
    "## Chi-square Distribution and Test"
   ]
  },
  {
   "cell_type": "markdown",
   "metadata": {},
   "source": [
    "![c](https://www.easysevens.com/wp-content/uploads/2024/01/Chi-Squared-Distribution.png)"
   ]
  },
  {
   "cell_type": "markdown",
   "metadata": {},
   "source": [
    "- Chi-square distribution ($\\chi^2$) is a continuous probability distribution (Normal Distribution is also continuous)\n",
    "- It's used for hypothesis testing and construction of confidence intervals\n",
    "- Characteristics:\n",
    "    - Non-negative values\n",
    "    - Degrees of Freedom (DoF) it defines the shape of the chi-square distribution\n",
    "    - Positively/right skewed. However, as the DoF increase, it becomes more symmetrical\n",
    "\n",
    "- Chi-Square Test: used to determine whether there is a significant association between categorical variables.\n",
    "    - Chi-square Test of Independence: determines whether two categorical variables have a relationship\n",
    "    - Chi-square Goodness of Fit Test:\n",
    "- The statistical result of the Chi-Square is called chi-statistic"
   ]
  },
  {
   "cell_type": "markdown",
   "metadata": {},
   "source": [
    "Steps to perform Chi-Square Relationship Test:\n",
    "1. Define the null and alternative hypotheses:\n",
    "    - $H_0$: There is no relationship between the two variables\n",
    "    - $H_a$: There is a relationship between the two variables (e.g. A and B are associated with each other)\n",
    "\n",
    "2. Build a contingency table (count pivot)\n",
    "3. Calculate the p-value using `chi2` function (*optional:* you can obtain the expected frequencies table for double confirmation)\n",
    "4. Compare $p-value$ to $\\alpha$"
   ]
  },
  {
   "cell_type": "markdown",
   "metadata": {},
   "source": [
    "![dof](https://saylordotorg.github.io/text_introductory-statistics/section_15/5a0c7bbacb4242555e8a85c9767c03ee.jpg)"
   ]
  },
  {
   "cell_type": "markdown",
   "metadata": {},
   "source": [
    "**Example**\n",
    " \n",
    "Let's say we gathered a survey for favorite car color between men and women. We want to find out if there's an association between gender and favorite car color."
   ]
  },
  {
   "cell_type": "markdown",
   "metadata": {},
   "source": [
    "**Solution**\n",
    " \n",
    " Step 1\n",
    "- $H_0$: There is no relationship between gender and favorite car color\n",
    "- $H_a$: There is a relationship between gender and favorite car color"
   ]
  },
  {
   "cell_type": "code",
   "execution_count": 23,
   "metadata": {},
   "outputs": [
    {
     "data": {
      "application/vnd.microsoft.datawrangler.viewer.v0+json": {
       "columns": [
        {
         "name": "index",
         "rawType": "int64",
         "type": "integer"
        },
        {
         "name": "Gender",
         "rawType": "object",
         "type": "string"
        },
        {
         "name": "Car Color",
         "rawType": "object",
         "type": "string"
        }
       ],
       "conversionMethod": "pd.DataFrame",
       "ref": "46ac5dba-6849-4079-9d74-d105ca0736c9",
       "rows": [
        [
         "0",
         "M",
         "Black"
        ],
        [
         "1",
         "M",
         "Silver"
        ],
        [
         "2",
         "M",
         "Red"
        ],
        [
         "3",
         "M",
         "Black"
        ],
        [
         "4",
         "M",
         "Black"
        ]
       ],
       "shape": {
        "columns": 2,
        "rows": 5
       }
      },
      "text/html": [
       "<div>\n",
       "<style scoped>\n",
       "    .dataframe tbody tr th:only-of-type {\n",
       "        vertical-align: middle;\n",
       "    }\n",
       "\n",
       "    .dataframe tbody tr th {\n",
       "        vertical-align: top;\n",
       "    }\n",
       "\n",
       "    .dataframe thead th {\n",
       "        text-align: right;\n",
       "    }\n",
       "</style>\n",
       "<table border=\"1\" class=\"dataframe\">\n",
       "  <thead>\n",
       "    <tr style=\"text-align: right;\">\n",
       "      <th></th>\n",
       "      <th>Gender</th>\n",
       "      <th>Car Color</th>\n",
       "    </tr>\n",
       "  </thead>\n",
       "  <tbody>\n",
       "    <tr>\n",
       "      <th>0</th>\n",
       "      <td>M</td>\n",
       "      <td>Black</td>\n",
       "    </tr>\n",
       "    <tr>\n",
       "      <th>1</th>\n",
       "      <td>M</td>\n",
       "      <td>Silver</td>\n",
       "    </tr>\n",
       "    <tr>\n",
       "      <th>2</th>\n",
       "      <td>M</td>\n",
       "      <td>Red</td>\n",
       "    </tr>\n",
       "    <tr>\n",
       "      <th>3</th>\n",
       "      <td>M</td>\n",
       "      <td>Black</td>\n",
       "    </tr>\n",
       "    <tr>\n",
       "      <th>4</th>\n",
       "      <td>M</td>\n",
       "      <td>Black</td>\n",
       "    </tr>\n",
       "  </tbody>\n",
       "</table>\n",
       "</div>"
      ],
      "text/plain": [
       "  Gender Car Color\n",
       "0      M     Black\n",
       "1      M    Silver\n",
       "2      M       Red\n",
       "3      M     Black\n",
       "4      M     Black"
      ]
     },
     "execution_count": 23,
     "metadata": {},
     "output_type": "execute_result"
    }
   ],
   "source": [
    "df = pd.read_csv('/Users/bassel_instructor/Documents/Datasets/Shopping.csv')\n",
    "df.head()"
   ]
  },
  {
   "cell_type": "code",
   "execution_count": 24,
   "metadata": {},
   "outputs": [
    {
     "data": {
      "text/plain": [
       "Gender\n",
       "F    55\n",
       "M    49\n",
       "Name: count, dtype: int64"
      ]
     },
     "execution_count": 24,
     "metadata": {},
     "output_type": "execute_result"
    }
   ],
   "source": [
    "#use value counts to confirm we have both M and F with equal/close distribution\n",
    "df['Gender'].value_counts()"
   ]
  },
  {
   "cell_type": "code",
   "execution_count": 25,
   "metadata": {},
   "outputs": [
    {
     "data": {
      "text/plain": [
       "Car Color\n",
       "Black     31\n",
       "Silver    24\n",
       "Pink      24\n",
       "White     16\n",
       "Red        9\n",
       "Name: count, dtype: int64"
      ]
     },
     "execution_count": 25,
     "metadata": {},
     "output_type": "execute_result"
    }
   ],
   "source": [
    "df['Car Color'].value_counts()"
   ]
  },
  {
   "cell_type": "markdown",
   "metadata": {},
   "source": [
    "Step 2"
   ]
  },
  {
   "cell_type": "code",
   "execution_count": 26,
   "metadata": {},
   "outputs": [
    {
     "data": {
      "application/vnd.microsoft.datawrangler.viewer.v0+json": {
       "columns": [
        {
         "name": "Gender",
         "rawType": "object",
         "type": "string"
        },
        {
         "name": "Black",
         "rawType": "int64",
         "type": "integer"
        },
        {
         "name": "Pink",
         "rawType": "int64",
         "type": "integer"
        },
        {
         "name": "Red",
         "rawType": "int64",
         "type": "integer"
        },
        {
         "name": "Silver",
         "rawType": "int64",
         "type": "integer"
        },
        {
         "name": "White",
         "rawType": "int64",
         "type": "integer"
        }
       ],
       "conversionMethod": "pd.DataFrame",
       "ref": "c481f4c7-043c-496e-829e-0c828300b33c",
       "rows": [
        [
         "F",
         "9",
         "22",
         "2",
         "8",
         "14"
        ],
        [
         "M",
         "22",
         "2",
         "7",
         "16",
         "2"
        ]
       ],
       "shape": {
        "columns": 5,
        "rows": 2
       }
      },
      "text/html": [
       "<div>\n",
       "<style scoped>\n",
       "    .dataframe tbody tr th:only-of-type {\n",
       "        vertical-align: middle;\n",
       "    }\n",
       "\n",
       "    .dataframe tbody tr th {\n",
       "        vertical-align: top;\n",
       "    }\n",
       "\n",
       "    .dataframe thead th {\n",
       "        text-align: right;\n",
       "    }\n",
       "</style>\n",
       "<table border=\"1\" class=\"dataframe\">\n",
       "  <thead>\n",
       "    <tr style=\"text-align: right;\">\n",
       "      <th>Car Color</th>\n",
       "      <th>Black</th>\n",
       "      <th>Pink</th>\n",
       "      <th>Red</th>\n",
       "      <th>Silver</th>\n",
       "      <th>White</th>\n",
       "    </tr>\n",
       "    <tr>\n",
       "      <th>Gender</th>\n",
       "      <th></th>\n",
       "      <th></th>\n",
       "      <th></th>\n",
       "      <th></th>\n",
       "      <th></th>\n",
       "    </tr>\n",
       "  </thead>\n",
       "  <tbody>\n",
       "    <tr>\n",
       "      <th>F</th>\n",
       "      <td>9</td>\n",
       "      <td>22</td>\n",
       "      <td>2</td>\n",
       "      <td>8</td>\n",
       "      <td>14</td>\n",
       "    </tr>\n",
       "    <tr>\n",
       "      <th>M</th>\n",
       "      <td>22</td>\n",
       "      <td>2</td>\n",
       "      <td>7</td>\n",
       "      <td>16</td>\n",
       "      <td>2</td>\n",
       "    </tr>\n",
       "  </tbody>\n",
       "</table>\n",
       "</div>"
      ],
      "text/plain": [
       "Car Color  Black  Pink  Red  Silver  White\n",
       "Gender                                    \n",
       "F              9    22    2       8     14\n",
       "M             22     2    7      16      2"
      ]
     },
     "execution_count": 26,
     "metadata": {},
     "output_type": "execute_result"
    }
   ],
   "source": [
    "cont_table = pd.crosstab(df['Gender'], df['Car Color'])\n",
    "cont_table"
   ]
  },
  {
   "cell_type": "markdown",
   "metadata": {},
   "source": [
    "- Pink is the most popular color for F and Black is for M\n",
    "- Lest popular color is Red for F\n",
    "- For population overall, the least popular color is Red"
   ]
  },
  {
   "cell_type": "markdown",
   "metadata": {},
   "source": [
    "Step 3 (using `scipy.stats` `ch2_contingency` function)"
   ]
  },
  {
   "cell_type": "markdown",
   "metadata": {},
   "source": [
    "Chi2Contingency Result:\n",
    "1. statistic (float) - The test statistic.\n",
    "2. pvalue (float) - The p-value of the test.\n",
    "3. dof (int) - The degrees of freedom.\n",
    "4. expected_freq (ndArray) - same shape as observed. The expected frequencies, based on the marginal sums of the table."
   ]
  },
  {
   "cell_type": "code",
   "execution_count": 27,
   "metadata": {},
   "outputs": [],
   "source": [
    "chi_stat, p_val, dof, exp_freq = sts.chi2_contingency(cont_table)"
   ]
  },
  {
   "cell_type": "code",
   "execution_count": 28,
   "metadata": {},
   "outputs": [
    {
     "data": {
      "text/plain": [
       "2.466054233511132e-07"
      ]
     },
     "execution_count": 28,
     "metadata": {},
     "output_type": "execute_result"
    }
   ],
   "source": [
    "p_val"
   ]
  },
  {
   "cell_type": "code",
   "execution_count": 29,
   "metadata": {},
   "outputs": [
    {
     "name": "stdout",
     "output_type": "stream",
     "text": [
      "We reject the null hypothesis.\n"
     ]
    }
   ],
   "source": [
    "alpha = 0.05\n",
    "HypoTesting(p_val, alpha)"
   ]
  },
  {
   "cell_type": "markdown",
   "metadata": {},
   "source": [
    "**Result** \n",
    "- We reject the null hypothesis. Therefore, there's a relationship between Gender and Car Color.\n",
    "- We can double check our findings when we inspect the expected value table"
   ]
  },
  {
   "cell_type": "markdown",
   "metadata": {},
   "source": [
    "Optional Step:"
   ]
  },
  {
   "cell_type": "code",
   "execution_count": 30,
   "metadata": {},
   "outputs": [
    {
     "data": {
      "text/plain": [
       "array([[16.39423077, 12.69230769,  4.75961538, 12.69230769,  8.46153846],\n",
       "       [14.60576923, 11.30769231,  4.24038462, 11.30769231,  7.53846154]])"
      ]
     },
     "execution_count": 30,
     "metadata": {},
     "output_type": "execute_result"
    }
   ],
   "source": [
    "exp_freq"
   ]
  },
  {
   "cell_type": "code",
   "execution_count": 31,
   "metadata": {},
   "outputs": [
    {
     "data": {
      "application/vnd.microsoft.datawrangler.viewer.v0+json": {
       "columns": [
        {
         "name": "index",
         "rawType": "object",
         "type": "string"
        },
        {
         "name": "Black",
         "rawType": "float64",
         "type": "float"
        },
        {
         "name": "Silver",
         "rawType": "float64",
         "type": "float"
        },
        {
         "name": "Red",
         "rawType": "float64",
         "type": "float"
        },
        {
         "name": "White",
         "rawType": "float64",
         "type": "float"
        },
        {
         "name": "Pink",
         "rawType": "float64",
         "type": "float"
        }
       ],
       "conversionMethod": "pd.DataFrame",
       "ref": "8b4ad318-61e3-4107-9da0-3716cb0f87ec",
       "rows": [
        [
         "M",
         "16.39423076923077",
         "12.692307692307692",
         "4.759615384615385",
         "12.692307692307692",
         "8.461538461538462"
        ],
        [
         "F",
         "14.60576923076923",
         "11.307692307692308",
         "4.240384615384615",
         "11.307692307692308",
         "7.538461538461538"
        ]
       ],
       "shape": {
        "columns": 5,
        "rows": 2
       }
      },
      "text/html": [
       "<div>\n",
       "<style scoped>\n",
       "    .dataframe tbody tr th:only-of-type {\n",
       "        vertical-align: middle;\n",
       "    }\n",
       "\n",
       "    .dataframe tbody tr th {\n",
       "        vertical-align: top;\n",
       "    }\n",
       "\n",
       "    .dataframe thead th {\n",
       "        text-align: right;\n",
       "    }\n",
       "</style>\n",
       "<table border=\"1\" class=\"dataframe\">\n",
       "  <thead>\n",
       "    <tr style=\"text-align: right;\">\n",
       "      <th></th>\n",
       "      <th>Black</th>\n",
       "      <th>Silver</th>\n",
       "      <th>Red</th>\n",
       "      <th>White</th>\n",
       "      <th>Pink</th>\n",
       "    </tr>\n",
       "  </thead>\n",
       "  <tbody>\n",
       "    <tr>\n",
       "      <th>M</th>\n",
       "      <td>16.394231</td>\n",
       "      <td>12.692308</td>\n",
       "      <td>4.759615</td>\n",
       "      <td>12.692308</td>\n",
       "      <td>8.461538</td>\n",
       "    </tr>\n",
       "    <tr>\n",
       "      <th>F</th>\n",
       "      <td>14.605769</td>\n",
       "      <td>11.307692</td>\n",
       "      <td>4.240385</td>\n",
       "      <td>11.307692</td>\n",
       "      <td>7.538462</td>\n",
       "    </tr>\n",
       "  </tbody>\n",
       "</table>\n",
       "</div>"
      ],
      "text/plain": [
       "       Black     Silver       Red      White      Pink\n",
       "M  16.394231  12.692308  4.759615  12.692308  8.461538\n",
       "F  14.605769  11.307692  4.240385  11.307692  7.538462"
      ]
     },
     "execution_count": 31,
     "metadata": {},
     "output_type": "execute_result"
    }
   ],
   "source": [
    "exp_freq_df = pd.DataFrame(data=exp_freq,\n",
    "                           index=df['Gender'].unique(),\n",
    "                           columns=df['Car Color'].unique())\n",
    "\n",
    "exp_freq_df"
   ]
  },
  {
   "cell_type": "markdown",
   "metadata": {},
   "source": [
    "- The expected freq table states: The values above satisfy the Null Hypothesis (there's no relationship between Car Color and Gender).\n",
    "- The fact that the expected freq table is so different from the actual contingency table proves that our hypothesis evaluation (rejecting $H_0$) is valid."
   ]
  },
  {
   "cell_type": "markdown",
   "metadata": {},
   "source": [
    "## ANOVA"
   ]
  },
  {
   "cell_type": "markdown",
   "metadata": {},
   "source": [
    "- **An**alysis **o**f **Va**riance\n",
    "- It assesses whthere the means of multiple groups are statistically significant from each other or not.\n",
    "- t-test and z-test are limited to 2 variables/groups for evaluation. ANOVA can do 2 or more.\n",
    "- The statistical result of the ANOVA is called f-statistic (Fischer the mathematician)\n",
    "- Types:\n",
    "    - **One-way ANOVA** deals with one factor/measure for multiple groups. e.g. student IQ (factor) for 3 different classes.\n",
    "    - **Two-way ANOVA** deals with two factors/measures for multiple groups. e.g. _student IQ_ and _age_ (factors) for 3 different classes.\n",
    "    - **Multi-Way ANOVA (MANOVA)** deals with more than 2 factors for multiple groups.\n",
    "- Steps:\n",
    "    1. Define the hypothesis statements:\n",
    "        - $H_0$: There is no statistically significant difference between all groups\n",
    "        - $H_a$: There is at least one group with a significant difference compared to others\n",
    "    2. Calculate the p-value\n",
    "    3. Run the evaluation between $p-value$ and $\\alpha$\n",
    "\n",
    "- Note:\n",
    "    - Although ANOVA can analyze 2 groups, it's recommended to sue t-test/z-test because (1) simpler and easier to interpret. (2) provides a direction (e.g. Group A > Group B) \n",
    "    - To check for direction: So when you start with 3 groups, for example, check if they are different. Then, use t-test to check which combo has the greater effect."
   ]
  },
  {
   "cell_type": "markdown",
   "metadata": {},
   "source": [
    "**Example** </br>\n",
    "Suppose you are a researcher conducting an agricultural study to compare the yield of three different fertilizer treatments (Treatment A, Treatment B, and Treatment C) on a specific type of crop. You want to determine if there are significant differences in crop yields among the treatments."
   ]
  },
  {
   "cell_type": "code",
   "execution_count": 32,
   "metadata": {},
   "outputs": [
    {
     "data": {
      "application/vnd.microsoft.datawrangler.viewer.v0+json": {
       "columns": [
        {
         "name": "index",
         "rawType": "int64",
         "type": "integer"
        },
        {
         "name": "Treatment_A",
         "rawType": "int64",
         "type": "integer"
        },
        {
         "name": "Treatment_B",
         "rawType": "int64",
         "type": "integer"
        },
        {
         "name": "Treatment_C",
         "rawType": "int64",
         "type": "integer"
        }
       ],
       "conversionMethod": "pd.DataFrame",
       "ref": "b3eefe95-3a74-4059-9e7d-19561b475f4c",
       "rows": [
        [
         "0",
         "50",
         "56",
         "49"
        ],
        [
         "1",
         "54",
         "47",
         "57"
        ],
        [
         "2",
         "57",
         "55",
         "46"
        ],
        [
         "3",
         "49",
         "41",
         "40"
        ],
        [
         "4",
         "46",
         "56",
         "54"
        ]
       ],
       "shape": {
        "columns": 3,
        "rows": 5
       }
      },
      "text/html": [
       "<div>\n",
       "<style scoped>\n",
       "    .dataframe tbody tr th:only-of-type {\n",
       "        vertical-align: middle;\n",
       "    }\n",
       "\n",
       "    .dataframe tbody tr th {\n",
       "        vertical-align: top;\n",
       "    }\n",
       "\n",
       "    .dataframe thead th {\n",
       "        text-align: right;\n",
       "    }\n",
       "</style>\n",
       "<table border=\"1\" class=\"dataframe\">\n",
       "  <thead>\n",
       "    <tr style=\"text-align: right;\">\n",
       "      <th></th>\n",
       "      <th>Treatment_A</th>\n",
       "      <th>Treatment_B</th>\n",
       "      <th>Treatment_C</th>\n",
       "    </tr>\n",
       "  </thead>\n",
       "  <tbody>\n",
       "    <tr>\n",
       "      <th>0</th>\n",
       "      <td>50</td>\n",
       "      <td>56</td>\n",
       "      <td>49</td>\n",
       "    </tr>\n",
       "    <tr>\n",
       "      <th>1</th>\n",
       "      <td>54</td>\n",
       "      <td>47</td>\n",
       "      <td>57</td>\n",
       "    </tr>\n",
       "    <tr>\n",
       "      <th>2</th>\n",
       "      <td>57</td>\n",
       "      <td>55</td>\n",
       "      <td>46</td>\n",
       "    </tr>\n",
       "    <tr>\n",
       "      <th>3</th>\n",
       "      <td>49</td>\n",
       "      <td>41</td>\n",
       "      <td>40</td>\n",
       "    </tr>\n",
       "    <tr>\n",
       "      <th>4</th>\n",
       "      <td>46</td>\n",
       "      <td>56</td>\n",
       "      <td>54</td>\n",
       "    </tr>\n",
       "  </tbody>\n",
       "</table>\n",
       "</div>"
      ],
      "text/plain": [
       "   Treatment_A  Treatment_B  Treatment_C\n",
       "0           50           56           49\n",
       "1           54           47           57\n",
       "2           57           55           46\n",
       "3           49           41           40\n",
       "4           46           56           54"
      ]
     },
     "execution_count": 32,
     "metadata": {},
     "output_type": "execute_result"
    }
   ],
   "source": [
    "df = pd.read_csv('/Users/bassel_instructor/Documents/Datasets/crop_yield_treatment.csv')\n",
    "df.head()"
   ]
  },
  {
   "cell_type": "markdown",
   "metadata": {},
   "source": [
    "Step 1\n",
    "- $H_0$: There is no statistically significant difference between all fertilizer treatments\n",
    "- $H_a$: There is at least one fertilizer treatment has a significant difference compared to others"
   ]
  },
  {
   "cell_type": "markdown",
   "metadata": {},
   "source": [
    "Step 2"
   ]
  },
  {
   "cell_type": "code",
   "execution_count": 33,
   "metadata": {},
   "outputs": [],
   "source": [
    "f_stat, p_val = sts.f_oneway(df['Treatment_A'], df['Treatment_B'], df['Treatment_C'],)"
   ]
  },
  {
   "cell_type": "markdown",
   "metadata": {},
   "source": [
    "Step 3"
   ]
  },
  {
   "cell_type": "code",
   "execution_count": 34,
   "metadata": {},
   "outputs": [
    {
     "name": "stdout",
     "output_type": "stream",
     "text": [
      "We do not reject (or accept) the null hypothesis.\n"
     ]
    }
   ],
   "source": [
    "HypoTesting(p_val, alpha)"
   ]
  },
  {
   "cell_type": "markdown",
   "metadata": {},
   "source": [
    "**Result** We accept (do not reject) the null hypothesis. Therefore, There isn't a statistically significant difference between the treatments - all treatments are equal (same crop yield overall output)"
   ]
  },
  {
   "cell_type": "code",
   "execution_count": 36,
   "metadata": {},
   "outputs": [
    {
     "data": {
      "text/plain": [
       "<Axes: xlabel='Treatment_A', ylabel='Density'>"
      ]
     },
     "execution_count": 36,
     "metadata": {},
     "output_type": "execute_result"
    },
    {
     "data": {
      "image/png": "[encoded data removed]",
      "text/plain": [
       "<Figure size 640x480 with 1 Axes>"
      ]
     },
     "metadata": {},
     "output_type": "display_data"
    }
   ],
   "source": [
    "import seaborn as sns\n",
    "sns.kdeplot(df['Treatment_A'])\n",
    "sns.kdeplot(df['Treatment_B'])\n",
    "sns.kdeplot(df['Treatment_C'])\n",
    "\n"
   ]
  },
  {
   "cell_type": "markdown",
   "metadata": {},
   "source": [
    "![anova](https://www.leansixsigmadefinition.com/wp-content/uploads/2019/03/anova_charts-e1578120944898.jpg)"
   ]
  },
  {
   "cell_type": "markdown",
   "metadata": {},
   "source": [
    "## Mann-Whitney U Test"
   ]
  },
  {
   "cell_type": "markdown",
   "metadata": {},
   "source": [
    "- There's a weakness with using z-test and t-test if the data is not normally distributed (light skewness is ok)\n",
    "- In a scenario where the distribution is inconsistent and far from a bell curve, we can use a **non-parametric** statistical evaluation. (hence, Mann-Whitney U test)\n",
    "- Non-parametric evaluation means:\n",
    "    - You cannot rely on statistical measure to interpret the data, such as mean, median, and standard deviation.\n",
    "    - The distribution doesn't follow a normal distribution or resemble a bell curve\n",
    "\n",
    "- The statistic value is called u-test\n",
    "- Steps: same as t-test/z-test\n",
    "    - $H_0$ there's no difference between Group A and B\n",
    "    - $H_a$ there's a difference between Group A and B"
   ]
  },
  {
   "cell_type": "markdown",
   "metadata": {},
   "source": [
    "**Example**</br>\n",
    "Evaluate  the salaries of post-graduate students from 2 different universities and check if they are different from each other (based on 5% critical value).\n"
   ]
  },
  {
   "cell_type": "code",
   "execution_count": 38,
   "metadata": {},
   "outputs": [
    {
     "data": {
      "text/html": [
       "<div>\n",
       "<style scoped>\n",
       "    .dataframe tbody tr th:only-of-type {\n",
       "        vertical-align: middle;\n",
       "    }\n",
       "\n",
       "    .dataframe tbody tr th {\n",
       "        vertical-align: top;\n",
       "    }\n",
       "\n",
       "    .dataframe thead th {\n",
       "        text-align: right;\n",
       "    }\n",
       "</style>\n",
       "<table border=\"1\" class=\"dataframe\">\n",
       "  <thead>\n",
       "    <tr style=\"text-align: right;\">\n",
       "      <th></th>\n",
       "      <th>UnivOfDallas</th>\n",
       "      <th>ArizonaStateUniv</th>\n",
       "    </tr>\n",
       "  </thead>\n",
       "  <tbody>\n",
       "    <tr>\n",
       "      <th>0</th>\n",
       "      <td>71555</td>\n",
       "      <td>73589</td>\n",
       "    </tr>\n",
       "    <tr>\n",
       "      <th>1</th>\n",
       "      <td>67887</td>\n",
       "      <td>83621</td>\n",
       "    </tr>\n",
       "    <tr>\n",
       "      <th>2</th>\n",
       "      <td>84334</td>\n",
       "      <td>74681</td>\n",
       "    </tr>\n",
       "    <tr>\n",
       "      <th>3</th>\n",
       "      <td>70133</td>\n",
       "      <td>83873</td>\n",
       "    </tr>\n",
       "    <tr>\n",
       "      <th>4</th>\n",
       "      <td>89304</td>\n",
       "      <td>72350</td>\n",
       "    </tr>\n",
       "  </tbody>\n",
       "</table>\n",
       "</div>"
      ],
      "text/plain": [
       "   UnivOfDallas  ArizonaStateUniv\n",
       "0         71555             73589\n",
       "1         67887             83621\n",
       "2         84334             74681\n",
       "3         70133             83873\n",
       "4         89304             72350"
      ]
     },
     "execution_count": 38,
     "metadata": {},
     "output_type": "execute_result"
    }
   ],
   "source": [
    "df = pd.read_csv('/Users/bassel_instructor/Documents/Datasets/Mann-Whitney_U_Salaries.csv')\n",
    "df.head()"
   ]
  },
  {
   "cell_type": "markdown",
   "metadata": {},
   "source": [
    "Let's inspect the distribution"
   ]
  },
  {
   "cell_type": "code",
   "execution_count": 40,
   "metadata": {},
   "outputs": [
    {
     "data": {
      "text/plain": [
       "array([[<Axes: title={'center': 'UnivOfDallas'}>,\n",
       "        <Axes: title={'center': 'ArizonaStateUniv'}>]], dtype=object)"
      ]
     },
     "execution_count": 40,
     "metadata": {},
     "output_type": "execute_result"
    },
    {
     "data": {
      "image/png": "[encoded data removed]",
      "text/plain": [
       "<Figure size 1200x500 with 2 Axes>"
      ]
     },
     "metadata": {},
     "output_type": "display_data"
    }
   ],
   "source": [
    "df.hist(figsize=(12,5))"
   ]
  },
  {
   "cell_type": "markdown",
   "metadata": {},
   "source": [
    "Since the distribution is not normal/Gaussian, we cannot rely on parametric tests (z-test and t-test). Therefore, we need to use Mann-Whitney U test."
   ]
  },
  {
   "cell_type": "code",
   "execution_count": 41,
   "metadata": {},
   "outputs": [],
   "source": [
    "u_stat, p_val = sts.mannwhitneyu(df['UnivOfDallas'], df['ArizonaStateUniv'])"
   ]
  },
  {
   "cell_type": "code",
   "execution_count": 42,
   "metadata": {},
   "outputs": [
    {
     "name": "stdout",
     "output_type": "stream",
     "text": [
      "We do not reject (or accept) the null hypothesis.\n"
     ]
    }
   ],
   "source": [
    "HypoTesting(p_val, alpha)"
   ]
  },
  {
   "cell_type": "markdown",
   "metadata": {},
   "source": [
    "**Outcome** We accept the null hypothesis. Therefore, there's no significant difference between the 2 salary data of the universities"
   ]
  },
  {
   "cell_type": "markdown",
   "metadata": {},
   "source": [
    "> Mann-Whitney u-test only works for 2 variables. To apply on more than 2 variables, you can use the Kruskal-Wallis test.  "
   ]
  },
  {
   "cell_type": "code",
   "execution_count": null,
   "metadata": {},
   "outputs": [],
   "source": []
  },
  {
   "cell_type": "markdown",
   "metadata": {},
   "source": [
    "![fh](https://leanmanufacturing.online/wp-content/uploads/2020/10/Hypothesis-test-decision-tree-1024x612.png)"
   ]
  },
  {
   "cell_type": "markdown",
   "metadata": {},
   "source": []
  }
 ],
 "metadata": {
  "kernelspec": {
   "display_name": "Python 3",
   "language": "python",
   "name": "python3"
  },
  "language_info": {
   "codemirror_mode": {
    "name": "ipython",
    "version": 3
   },
   "file_extension": ".py",
   "mimetype": "text/x-python",
   "name": "python",
   "nbconvert_exporter": "python",
   "pygments_lexer": "ipython3",
   "version": "3.11.3"
  }
 },
 "nbformat": 4,
 "nbformat_minor": 2
}
