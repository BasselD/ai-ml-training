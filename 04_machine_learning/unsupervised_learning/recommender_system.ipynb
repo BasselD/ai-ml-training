{
 "cells": [
  {
   "cell_type": "markdown",
   "metadata": {},
   "source": [
    "I'll provide a concise overview of recommender systems and their main types.\n",
    "\n",
    "Recommender systems are machine learning algorithms that suggest relevant items to users based on patterns in data. They're used extensively by companies like Netflix, Amazon, and Spotify to suggest content, products, and music.\n",
    "\n",
    "Here are the main types:\n",
    "\n",
    "1. Collaborative Filtering\n",
    "   - User-Based: Recommends items based on preferences of similar users\n",
    "   - Item-Based: Recommends items similar to ones the user already likes\n",
    "   - Advantages: Works well with user preference data\n",
    "   - Disadvantages: Cold start problem for new users/items\n",
    "\n",
    "2. Content-Based Filtering\n",
    "   - Uses item features/attributes to make recommendations\n",
    "   - Example: Recommending movies based on genre, actors, director\n",
    "   - Advantages: No cold start problem for items\n",
    "   - Disadvantages: Limited to known item features\n",
    "\n",
    "3. Hybrid Recommender Systems\n",
    "   - Combines multiple approaches\n",
    "   - Can overcome limitations of individual methods\n",
    "   - Example: Netflix combines viewing history (collaborative) with content features (content-based)\n",
    "\n",
    "4. Knowledge-Based\n",
    "   - Uses explicit rules and domain knowledge\n",
    "   - Good for complex items like cars or houses\n",
    "   - Advantages: Works well for infrequently purchased items\n",
    "\n",
    "5. Context-Aware\n",
    "   - Considers situational context (time, location, device)\n",
    "   - Example: Recommending restaurants based on time of day and location\n",
    "\n",
    "Would you like me to elaborate on any of these types or explain specific algorithms used within them?"
   ]
  },
  {
   "cell_type": "code",
   "execution_count": 2,
   "metadata": {},
   "outputs": [],
   "source": [
    "import pandas as pd\n",
    "import matplotlib.pyplot as plt\n",
    "import seaborn as sns\n",
    "import catppuccin\n",
    "import matplotlib as mpl\n",
    "mpl.style.use(catppuccin.PALETTE.mocha.identifier)\n",
    "\n",
    "from sklearn.metrics.pairwise import cosine_similarity\n"
   ]
  },
  {
   "cell_type": "markdown",
   "metadata": {},
   "source": [
    "![cos](https://kdb.ai/files/2024/01/similarity-768x348.png)"
   ]
  },
  {
   "cell_type": "code",
   "execution_count": 3,
   "metadata": {},
   "outputs": [
    {
     "data": {
      "text/html": [
       "<div>\n",
       "<style scoped>\n",
       "    .dataframe tbody tr th:only-of-type {\n",
       "        vertical-align: middle;\n",
       "    }\n",
       "\n",
       "    .dataframe tbody tr th {\n",
       "        vertical-align: top;\n",
       "    }\n",
       "\n",
       "    .dataframe thead th {\n",
       "        text-align: right;\n",
       "    }\n",
       "</style>\n",
       "<table border=\"1\" class=\"dataframe\">\n",
       "  <thead>\n",
       "    <tr style=\"text-align: right;\">\n",
       "      <th></th>\n",
       "      <th>user_id</th>\n",
       "      <th>anime_id</th>\n",
       "      <th>rating</th>\n",
       "    </tr>\n",
       "  </thead>\n",
       "  <tbody>\n",
       "    <tr>\n",
       "      <th>0</th>\n",
       "      <td>1</td>\n",
       "      <td>20</td>\n",
       "      <td>-1</td>\n",
       "    </tr>\n",
       "    <tr>\n",
       "      <th>1</th>\n",
       "      <td>1</td>\n",
       "      <td>24</td>\n",
       "      <td>-1</td>\n",
       "    </tr>\n",
       "    <tr>\n",
       "      <th>2</th>\n",
       "      <td>1</td>\n",
       "      <td>79</td>\n",
       "      <td>-1</td>\n",
       "    </tr>\n",
       "    <tr>\n",
       "      <th>3</th>\n",
       "      <td>1</td>\n",
       "      <td>226</td>\n",
       "      <td>-1</td>\n",
       "    </tr>\n",
       "    <tr>\n",
       "      <th>4</th>\n",
       "      <td>1</td>\n",
       "      <td>241</td>\n",
       "      <td>-1</td>\n",
       "    </tr>\n",
       "  </tbody>\n",
       "</table>\n",
       "</div>"
      ],
      "text/plain": [
       "   user_id  anime_id  rating\n",
       "0        1        20      -1\n",
       "1        1        24      -1\n",
       "2        1        79      -1\n",
       "3        1       226      -1\n",
       "4        1       241      -1"
      ]
     },
     "execution_count": 3,
     "metadata": {},
     "output_type": "execute_result"
    }
   ],
   "source": [
    "path = '/Users/bassel_instructor/Documents/Datasets/'\n",
    "df = pd.read_csv(path+'rating.csv')\n",
    "df.head()"
   ]
  },
  {
   "cell_type": "code",
   "execution_count": 4,
   "metadata": {},
   "outputs": [
    {
     "data": {
      "text/plain": [
       "<Axes: xlabel='rating', ylabel='count'>"
      ]
     },
     "execution_count": 4,
     "metadata": {},
     "output_type": "execute_result"
    },
    {
     "data": {
      "image/png": "[encoded data removed]",
      "text/plain": [
       "<Figure size 640x480 with 1 Axes>"
      ]
     },
     "metadata": {},
     "output_type": "display_data"
    }
   ],
   "source": [
    "sns.countplot(data=df, x='rating')"
   ]
  },
  {
   "cell_type": "code",
   "execution_count": 5,
   "metadata": {},
   "outputs": [
    {
     "data": {
      "text/html": [
       "<div>\n",
       "<style scoped>\n",
       "    .dataframe tbody tr th:only-of-type {\n",
       "        vertical-align: middle;\n",
       "    }\n",
       "\n",
       "    .dataframe tbody tr th {\n",
       "        vertical-align: top;\n",
       "    }\n",
       "\n",
       "    .dataframe thead th {\n",
       "        text-align: right;\n",
       "    }\n",
       "</style>\n",
       "<table border=\"1\" class=\"dataframe\">\n",
       "  <thead>\n",
       "    <tr style=\"text-align: right;\">\n",
       "      <th></th>\n",
       "      <th>user_id</th>\n",
       "      <th>anime_id</th>\n",
       "      <th>rating</th>\n",
       "    </tr>\n",
       "  </thead>\n",
       "  <tbody>\n",
       "    <tr>\n",
       "      <th>47</th>\n",
       "      <td>1</td>\n",
       "      <td>8074</td>\n",
       "      <td>10</td>\n",
       "    </tr>\n",
       "    <tr>\n",
       "      <th>81</th>\n",
       "      <td>1</td>\n",
       "      <td>11617</td>\n",
       "      <td>10</td>\n",
       "    </tr>\n",
       "    <tr>\n",
       "      <th>83</th>\n",
       "      <td>1</td>\n",
       "      <td>11757</td>\n",
       "      <td>10</td>\n",
       "    </tr>\n",
       "    <tr>\n",
       "      <th>101</th>\n",
       "      <td>1</td>\n",
       "      <td>15451</td>\n",
       "      <td>10</td>\n",
       "    </tr>\n",
       "    <tr>\n",
       "      <th>153</th>\n",
       "      <td>2</td>\n",
       "      <td>11771</td>\n",
       "      <td>10</td>\n",
       "    </tr>\n",
       "  </tbody>\n",
       "</table>\n",
       "</div>"
      ],
      "text/plain": [
       "     user_id  anime_id  rating\n",
       "47         1      8074      10\n",
       "81         1     11617      10\n",
       "83         1     11757      10\n",
       "101        1     15451      10\n",
       "153        2     11771      10"
      ]
     },
     "execution_count": 5,
     "metadata": {},
     "output_type": "execute_result"
    }
   ],
   "source": [
    "# Exclude rows where the rating is -1 (implying missing or few ratings from individuals)\n",
    "df = df[df['rating'] != -1]\n",
    "df.head()"
   ]
  },
  {
   "cell_type": "code",
   "execution_count": 6,
   "metadata": {},
   "outputs": [
    {
     "data": {
      "text/plain": [
       "<Axes: xlabel='rating', ylabel='count'>"
      ]
     },
     "execution_count": 6,
     "metadata": {},
     "output_type": "execute_result"
    },
    {
     "data": {
      "image/png": "[encoded data removed]",
      "text/plain": [
       "<Figure size 640x480 with 1 Axes>"
      ]
     },
     "metadata": {},
     "output_type": "display_data"
    }
   ],
   "source": [
    "sns.countplot(data=df, x='rating')"
   ]
  },
  {
   "cell_type": "code",
   "execution_count": 7,
   "metadata": {},
   "outputs": [
    {
     "data": {
      "text/plain": [
       "user_id     0\n",
       "anime_id    0\n",
       "rating      0\n",
       "dtype: int64"
      ]
     },
     "execution_count": 7,
     "metadata": {},
     "output_type": "execute_result"
    }
   ],
   "source": [
    "df.isna().sum()"
   ]
  },
  {
   "cell_type": "code",
   "execution_count": 8,
   "metadata": {},
   "outputs": [
    {
     "data": {
      "text/plain": [
       "(6337241, 3)"
      ]
     },
     "execution_count": 8,
     "metadata": {},
     "output_type": "execute_result"
    }
   ],
   "source": [
    "df.shape"
   ]
  },
  {
   "cell_type": "code",
   "execution_count": 9,
   "metadata": {},
   "outputs": [
    {
     "data": {
      "text/plain": [
       "69600"
      ]
     },
     "execution_count": 9,
     "metadata": {},
     "output_type": "execute_result"
    }
   ],
   "source": [
    "# Calculate the number of unique user IDs in the filtered ratings dataset\n",
    "len(df['user_id'].unique())"
   ]
  },
  {
   "cell_type": "code",
   "execution_count": 10,
   "metadata": {},
   "outputs": [
    {
     "data": {
      "text/plain": [
       "9927"
      ]
     },
     "execution_count": 10,
     "metadata": {},
     "output_type": "execute_result"
    }
   ],
   "source": [
    "# Calculate the number of unique anime IDs in the 'animes' dataset\n",
    "len(df['anime_id'].unique())"
   ]
  },
  {
   "cell_type": "code",
   "execution_count": 11,
   "metadata": {},
   "outputs": [
    {
     "data": {
      "text/html": [
       "<div>\n",
       "<style scoped>\n",
       "    .dataframe tbody tr th:only-of-type {\n",
       "        vertical-align: middle;\n",
       "    }\n",
       "\n",
       "    .dataframe tbody tr th {\n",
       "        vertical-align: top;\n",
       "    }\n",
       "\n",
       "    .dataframe thead th {\n",
       "        text-align: right;\n",
       "    }\n",
       "</style>\n",
       "<table border=\"1\" class=\"dataframe\">\n",
       "  <thead>\n",
       "    <tr style=\"text-align: right;\">\n",
       "      <th></th>\n",
       "      <th>rating</th>\n",
       "    </tr>\n",
       "    <tr>\n",
       "      <th>user_id</th>\n",
       "      <th></th>\n",
       "    </tr>\n",
       "  </thead>\n",
       "  <tbody>\n",
       "    <tr>\n",
       "      <th>1</th>\n",
       "      <td>4</td>\n",
       "    </tr>\n",
       "    <tr>\n",
       "      <th>2</th>\n",
       "      <td>1</td>\n",
       "    </tr>\n",
       "    <tr>\n",
       "      <th>3</th>\n",
       "      <td>92</td>\n",
       "    </tr>\n",
       "    <tr>\n",
       "      <th>5</th>\n",
       "      <td>459</td>\n",
       "    </tr>\n",
       "    <tr>\n",
       "      <th>7</th>\n",
       "      <td>343</td>\n",
       "    </tr>\n",
       "  </tbody>\n",
       "</table>\n",
       "</div>"
      ],
      "text/plain": [
       "         rating\n",
       "user_id        \n",
       "1             4\n",
       "2             1\n",
       "3            92\n",
       "5           459\n",
       "7           343"
      ]
     },
     "execution_count": 11,
     "metadata": {},
     "output_type": "execute_result"
    }
   ],
   "source": [
    "# Calculate the number of ratings per user\n",
    "ratings_per_user = df.groupby('user_id')[['rating']].count()\n",
    "ratings_per_user.head()"
   ]
  },
  {
   "cell_type": "code",
   "execution_count": 12,
   "metadata": {},
   "outputs": [
    {
     "data": {
      "text/plain": [
       "rating    91.052313\n",
       "dtype: float64"
      ]
     },
     "execution_count": 12,
     "metadata": {},
     "output_type": "execute_result"
    }
   ],
   "source": [
    "# Calculate the mean number of ratings per user\n",
    "ratings_per_user.mean()"
   ]
  },
  {
   "cell_type": "markdown",
   "metadata": {},
   "source": [
    "__Observations:__\n",
    "- The average user has rated about 91 items, indicating a moderately active engagement in rating items within the dataset.\n",
    "- With an average of 91 ratings per user, the dataset shows a balance of user activity that is not skewed by extremely active users."
   ]
  },
  {
   "cell_type": "code",
   "execution_count": 13,
   "metadata": {},
   "outputs": [
    {
     "data": {
      "image/png": "[encoded data removed]",
      "text/plain": [
       "<Figure size 640x480 with 1 Axes>"
      ]
     },
     "metadata": {},
     "output_type": "display_data"
    }
   ],
   "source": [
    "#Plot a histogram of the number of ratings per user\n",
    "ratings_per_user.hist(bins=20, range=(0,500))\n",
    "plt.xlabel('Number of Ratings per User')\n",
    "plt.ylabel('Frequency')\n",
    "plt.title('Distribution of Ratings per User')\n",
    "plt.show()"
   ]
  },
  {
   "cell_type": "code",
   "execution_count": 14,
   "metadata": {},
   "outputs": [
    {
     "data": {
      "text/plain": [
       "<Axes: xlabel='rating'>"
      ]
     },
     "execution_count": 14,
     "metadata": {},
     "output_type": "execute_result"
    },
    {
     "data": {
      "image/png": "[encoded data removed]",
      "text/plain": [
       "<Figure size 640x480 with 1 Axes>"
      ]
     },
     "metadata": {},
     "output_type": "display_data"
    }
   ],
   "source": [
    "sns.boxplot(x=ratings_per_user['rating'])"
   ]
  },
  {
   "cell_type": "markdown",
   "metadata": {},
   "source": [
    "__Observations:__\n",
    "- The histogram displays a right-skewed distribution, indicating that most users have rated fewer than 100 items.\n",
    "- A very small number of users have rated between 100 and 500 items, with the frequency decreasing as the number of ratings increases.\n",
    "- As shown by the bars approaching zero frequency, users providing a high number of ratings are exceedingly rare."
   ]
  },
  {
   "cell_type": "code",
   "execution_count": 15,
   "metadata": {},
   "outputs": [
    {
     "data": {
      "text/plain": [
       "rating    638.384305\n",
       "dtype: float64"
      ]
     },
     "execution_count": 15,
     "metadata": {},
     "output_type": "execute_result"
    }
   ],
   "source": [
    "# Calculate the number of ratings per anime\n",
    "ratings_per_anime = df.groupby('anime_id')[['rating']].count()\n",
    "\n",
    "# Calculate the mean number of ratings per anime\n",
    "ratings_per_anime.mean()"
   ]
  },
  {
   "cell_type": "markdown",
   "metadata": {},
   "source": [
    "__Observations:__\n",
    "- On average, each anime title receives approximately 638 ratings, which implies a diverse range of viewer engagement levels.\n",
    "- The mean of 638 ratings per anime suggests that while some receive more attention, many others have far fewer ratings."
   ]
  },
  {
   "cell_type": "code",
   "execution_count": 16,
   "metadata": {},
   "outputs": [
    {
     "data": {
      "text/plain": [
       "Text(0.5, 1.0, 'Distribution of Ratings per Anime')"
      ]
     },
     "execution_count": 16,
     "metadata": {},
     "output_type": "execute_result"
    },
    {
     "data": {
      "image/png": "[encoded data removed]",
      "text/plain": [
       "<Figure size 640x480 with 1 Axes>"
      ]
     },
     "metadata": {},
     "output_type": "display_data"
    }
   ],
   "source": [
    "import matplotlib.pyplot as plt\n",
    "\n",
    "# Plot a histogram of the number of ratings per anime\n",
    "ratings_per_anime.hist(bins=20, range=(0,2500))\n",
    "plt.xlabel('Number of Ratings per Anime')\n",
    "plt.ylabel('Frequency')\n",
    "plt.title('Distribution of Ratings per Anime')"
   ]
  },
  {
   "cell_type": "markdown",
   "metadata": {},
   "source": [
    "__Observations:__\n",
    "- The highest frequency of anime titles has between 0 and 250 ratings, as depicted by the first bar in the histogram.\n",
    "- Very few anime titles receive more than 1500 ratings, highlighting a significant drop-off in frequency as the number of ratings increases."
   ]
  },
  {
   "cell_type": "markdown",
   "metadata": {},
   "source": [
    "Filter ratings greater than 1000 to find a popular anime and extract the anime IDs of popular anime."
   ]
  },
  {
   "cell_type": "code",
   "execution_count": 17,
   "metadata": {},
   "outputs": [
    {
     "data": {
      "text/plain": [
       "(1462, 1)"
      ]
     },
     "execution_count": 17,
     "metadata": {},
     "output_type": "execute_result"
    }
   ],
   "source": [
    "# Filter the DataFrame to include only anime with 1000 or more ratings\n",
    "filtered_ratings_per_anime_df = ratings_per_anime[ratings_per_anime['rating'] >= 1000]\n",
    "filtered_ratings_per_anime_df.shape"
   ]
  },
  {
   "cell_type": "code",
   "execution_count": 18,
   "metadata": {},
   "outputs": [
    {
     "data": {
      "text/plain": [
       "[1, 5, 6, 7, 15, 16, 18, 19, 20, 22, 24, 25, 26, 27, 28, 30, 31, 32, 33, 43]"
      ]
     },
     "execution_count": 18,
     "metadata": {},
     "output_type": "execute_result"
    }
   ],
   "source": [
    "# Extract the indices (anime IDs) of popular anime\n",
    "popular_anime = filtered_ratings_per_anime_df.index.tolist()\n",
    "popular_anime[:20]"
   ]
  },
  {
   "cell_type": "markdown",
   "metadata": {},
   "source": [
    "Filter ratings greater than 500 and create an index to list prolific users."
   ]
  },
  {
   "cell_type": "code",
   "execution_count": 19,
   "metadata": {},
   "outputs": [
    {
     "data": {
      "text/plain": [
       "(1365, 1)"
      ]
     },
     "execution_count": 19,
     "metadata": {},
     "output_type": "execute_result"
    }
   ],
   "source": [
    "# Filter the DataFrame to include only users with 500 or more ratings\n",
    "filtered_ratings_per_user_df = ratings_per_user[ratings_per_user.rating >= 500]\n",
    "filtered_ratings_per_user_df.shape"
   ]
  },
  {
   "cell_type": "code",
   "execution_count": 20,
   "metadata": {},
   "outputs": [
    {
     "data": {
      "text/plain": [
       "[226, 271, 294, 392, 446, 478, 661, 741, 771, 786]"
      ]
     },
     "execution_count": 20,
     "metadata": {},
     "output_type": "execute_result"
    }
   ],
   "source": [
    "\n",
    "# Extract the indices (user IDs) of prolific users\n",
    "prolific_users = filtered_ratings_per_user_df.index.tolist()\n",
    "prolific_users[:10]"
   ]
  },
  {
   "cell_type": "code",
   "execution_count": 21,
   "metadata": {},
   "outputs": [
    {
     "name": "stdout",
     "output_type": "stream",
     "text": [
      "5,192,794\n"
     ]
    }
   ],
   "source": [
    "# Filter the ratings dataset to include only ratings for popular anime\n",
    "filtered_ratings = df[df['anime_id'].isin(popular_anime)]\n",
    "print(f'{len(filtered_ratings):,}')"
   ]
  },
  {
   "cell_type": "code",
   "execution_count": 22,
   "metadata": {},
   "outputs": [
    {
     "name": "stdout",
     "output_type": "stream",
     "text": [
      "1,005,314\n"
     ]
    }
   ],
   "source": [
    "\n",
    "# Further filter the ratings dataset to include only ratings from prolific users\n",
    "filtered_ratings = df[df['user_id'].isin(prolific_users)]\n",
    "\n",
    "# Calculate the length of the filtered ratings dataset\n",
    "print(f'{len(filtered_ratings):,}')"
   ]
  },
  {
   "cell_type": "code",
   "execution_count": 27,
   "metadata": {},
   "outputs": [
    {
     "data": {
      "text/html": [
       "<div>\n",
       "<style scoped>\n",
       "    .dataframe tbody tr th:only-of-type {\n",
       "        vertical-align: middle;\n",
       "    }\n",
       "\n",
       "    .dataframe tbody tr th {\n",
       "        vertical-align: top;\n",
       "    }\n",
       "\n",
       "    .dataframe thead th {\n",
       "        text-align: right;\n",
       "    }\n",
       "</style>\n",
       "<table border=\"1\" class=\"dataframe\">\n",
       "  <thead>\n",
       "    <tr style=\"text-align: right;\">\n",
       "      <th>anime_id</th>\n",
       "      <th>1</th>\n",
       "      <th>5</th>\n",
       "      <th>6</th>\n",
       "      <th>7</th>\n",
       "      <th>8</th>\n",
       "      <th>15</th>\n",
       "      <th>16</th>\n",
       "      <th>17</th>\n",
       "      <th>18</th>\n",
       "      <th>19</th>\n",
       "      <th>...</th>\n",
       "      <th>34238</th>\n",
       "      <th>34239</th>\n",
       "      <th>34240</th>\n",
       "      <th>34252</th>\n",
       "      <th>34283</th>\n",
       "      <th>34324</th>\n",
       "      <th>34325</th>\n",
       "      <th>34349</th>\n",
       "      <th>34367</th>\n",
       "      <th>34475</th>\n",
       "    </tr>\n",
       "    <tr>\n",
       "      <th>user_id</th>\n",
       "      <th></th>\n",
       "      <th></th>\n",
       "      <th></th>\n",
       "      <th></th>\n",
       "      <th></th>\n",
       "      <th></th>\n",
       "      <th></th>\n",
       "      <th></th>\n",
       "      <th></th>\n",
       "      <th></th>\n",
       "      <th></th>\n",
       "      <th></th>\n",
       "      <th></th>\n",
       "      <th></th>\n",
       "      <th></th>\n",
       "      <th></th>\n",
       "      <th></th>\n",
       "      <th></th>\n",
       "      <th></th>\n",
       "      <th></th>\n",
       "      <th></th>\n",
       "    </tr>\n",
       "  </thead>\n",
       "  <tbody>\n",
       "    <tr>\n",
       "      <th>226</th>\n",
       "      <td>8</td>\n",
       "      <td>0</td>\n",
       "      <td>8</td>\n",
       "      <td>0</td>\n",
       "      <td>0</td>\n",
       "      <td>0</td>\n",
       "      <td>0</td>\n",
       "      <td>0</td>\n",
       "      <td>0</td>\n",
       "      <td>0</td>\n",
       "      <td>...</td>\n",
       "      <td>0</td>\n",
       "      <td>0</td>\n",
       "      <td>0</td>\n",
       "      <td>0</td>\n",
       "      <td>0</td>\n",
       "      <td>0</td>\n",
       "      <td>0</td>\n",
       "      <td>0</td>\n",
       "      <td>0</td>\n",
       "      <td>0</td>\n",
       "    </tr>\n",
       "    <tr>\n",
       "      <th>271</th>\n",
       "      <td>0</td>\n",
       "      <td>0</td>\n",
       "      <td>0</td>\n",
       "      <td>0</td>\n",
       "      <td>0</td>\n",
       "      <td>0</td>\n",
       "      <td>0</td>\n",
       "      <td>0</td>\n",
       "      <td>0</td>\n",
       "      <td>0</td>\n",
       "      <td>...</td>\n",
       "      <td>0</td>\n",
       "      <td>0</td>\n",
       "      <td>10</td>\n",
       "      <td>0</td>\n",
       "      <td>0</td>\n",
       "      <td>0</td>\n",
       "      <td>0</td>\n",
       "      <td>0</td>\n",
       "      <td>0</td>\n",
       "      <td>0</td>\n",
       "    </tr>\n",
       "    <tr>\n",
       "      <th>294</th>\n",
       "      <td>7</td>\n",
       "      <td>7</td>\n",
       "      <td>0</td>\n",
       "      <td>0</td>\n",
       "      <td>0</td>\n",
       "      <td>0</td>\n",
       "      <td>0</td>\n",
       "      <td>0</td>\n",
       "      <td>0</td>\n",
       "      <td>0</td>\n",
       "      <td>...</td>\n",
       "      <td>0</td>\n",
       "      <td>0</td>\n",
       "      <td>0</td>\n",
       "      <td>0</td>\n",
       "      <td>0</td>\n",
       "      <td>0</td>\n",
       "      <td>0</td>\n",
       "      <td>0</td>\n",
       "      <td>0</td>\n",
       "      <td>0</td>\n",
       "    </tr>\n",
       "    <tr>\n",
       "      <th>392</th>\n",
       "      <td>7</td>\n",
       "      <td>0</td>\n",
       "      <td>7</td>\n",
       "      <td>0</td>\n",
       "      <td>0</td>\n",
       "      <td>0</td>\n",
       "      <td>0</td>\n",
       "      <td>0</td>\n",
       "      <td>7</td>\n",
       "      <td>0</td>\n",
       "      <td>...</td>\n",
       "      <td>0</td>\n",
       "      <td>0</td>\n",
       "      <td>0</td>\n",
       "      <td>0</td>\n",
       "      <td>0</td>\n",
       "      <td>0</td>\n",
       "      <td>0</td>\n",
       "      <td>0</td>\n",
       "      <td>0</td>\n",
       "      <td>0</td>\n",
       "    </tr>\n",
       "    <tr>\n",
       "      <th>446</th>\n",
       "      <td>9</td>\n",
       "      <td>8</td>\n",
       "      <td>9</td>\n",
       "      <td>0</td>\n",
       "      <td>0</td>\n",
       "      <td>0</td>\n",
       "      <td>0</td>\n",
       "      <td>0</td>\n",
       "      <td>0</td>\n",
       "      <td>10</td>\n",
       "      <td>...</td>\n",
       "      <td>0</td>\n",
       "      <td>0</td>\n",
       "      <td>9</td>\n",
       "      <td>0</td>\n",
       "      <td>0</td>\n",
       "      <td>0</td>\n",
       "      <td>0</td>\n",
       "      <td>0</td>\n",
       "      <td>0</td>\n",
       "      <td>0</td>\n",
       "    </tr>\n",
       "  </tbody>\n",
       "</table>\n",
       "<p>5 rows × 9591 columns</p>\n",
       "</div>"
      ],
      "text/plain": [
       "anime_id  1      5      6      7      8      15     16     17     18     \\\n",
       "user_id                                                                   \n",
       "226           8      0      8      0      0      0      0      0      0   \n",
       "271           0      0      0      0      0      0      0      0      0   \n",
       "294           7      7      0      0      0      0      0      0      0   \n",
       "392           7      0      7      0      0      0      0      0      7   \n",
       "446           9      8      9      0      0      0      0      0      0   \n",
       "\n",
       "anime_id  19     ...  34238  34239  34240  34252  34283  34324  34325  34349  \\\n",
       "user_id          ...                                                           \n",
       "226           0  ...      0      0      0      0      0      0      0      0   \n",
       "271           0  ...      0      0     10      0      0      0      0      0   \n",
       "294           0  ...      0      0      0      0      0      0      0      0   \n",
       "392           0  ...      0      0      0      0      0      0      0      0   \n",
       "446          10  ...      0      0      9      0      0      0      0      0   \n",
       "\n",
       "anime_id  34367  34475  \n",
       "user_id                 \n",
       "226           0      0  \n",
       "271           0      0  \n",
       "294           0      0  \n",
       "392           0      0  \n",
       "446           0      0  \n",
       "\n",
       "[5 rows x 9591 columns]"
      ]
     },
     "execution_count": 27,
     "metadata": {},
     "output_type": "execute_result"
    }
   ],
   "source": [
    "# Create a pivot table to construct the user-item rating matrix\n",
    "rating_matrix = filtered_ratings.pivot_table(index='user_id', columns='anime_id', values='rating', fill_value=0)\n",
    "\n",
    "# or Fill missing values (NaN) with 0\n",
    "#rating_matrix = rating_matrix.fillna(0)\n",
    "\n",
    "# Display the first few rows of the user-item rating matrix\n",
    "rating_matrix.head()"
   ]
  },
  {
   "cell_type": "markdown",
   "metadata": {},
   "source": [
    "Make sure your rating on a scale that starts from 1 so you can use 0 to replace missing values"
   ]
  },
  {
   "cell_type": "code",
   "execution_count": 29,
   "metadata": {},
   "outputs": [
    {
     "data": {
      "text/plain": [
       "array([[1.        , 0.31052381, 0.36980954, ..., 0.36236069, 0.33636818,\n",
       "        0.30650698],\n",
       "       [0.31052381, 1.        , 0.268366  , ..., 0.290322  , 0.2870974 ,\n",
       "        0.22791986],\n",
       "       [0.36980954, 0.268366  , 1.        , ..., 0.3498557 , 0.41170536,\n",
       "        0.37794637],\n",
       "       ...,\n",
       "       [0.36236069, 0.290322  , 0.3498557 , ..., 1.        , 0.34721124,\n",
       "        0.31961904],\n",
       "       [0.33636818, 0.2870974 , 0.41170536, ..., 0.34721124, 1.        ,\n",
       "        0.42175493],\n",
       "       [0.30650698, 0.22791986, 0.37794637, ..., 0.31961904, 0.42175493,\n",
       "        1.        ]])"
      ]
     },
     "execution_count": 29,
     "metadata": {},
     "output_type": "execute_result"
    }
   ],
   "source": [
    "\n",
    "# Compute cosine similarity between users\n",
    "user_similarity = cosine_similarity(rating_matrix)\n",
    "user_similarity"
   ]
  },
  {
   "cell_type": "code",
   "execution_count": 30,
   "metadata": {},
   "outputs": [
    {
     "data": {
      "text/html": [
       "<div>\n",
       "<style scoped>\n",
       "    .dataframe tbody tr th:only-of-type {\n",
       "        vertical-align: middle;\n",
       "    }\n",
       "\n",
       "    .dataframe tbody tr th {\n",
       "        vertical-align: top;\n",
       "    }\n",
       "\n",
       "    .dataframe thead th {\n",
       "        text-align: right;\n",
       "    }\n",
       "</style>\n",
       "<table border=\"1\" class=\"dataframe\">\n",
       "  <thead>\n",
       "    <tr style=\"text-align: right;\">\n",
       "      <th>user_id</th>\n",
       "      <th>226</th>\n",
       "      <th>271</th>\n",
       "      <th>294</th>\n",
       "      <th>392</th>\n",
       "      <th>446</th>\n",
       "      <th>478</th>\n",
       "      <th>661</th>\n",
       "      <th>741</th>\n",
       "      <th>771</th>\n",
       "      <th>786</th>\n",
       "      <th>...</th>\n",
       "      <th>73234</th>\n",
       "      <th>73272</th>\n",
       "      <th>73286</th>\n",
       "      <th>73340</th>\n",
       "      <th>73356</th>\n",
       "      <th>73362</th>\n",
       "      <th>73378</th>\n",
       "      <th>73395</th>\n",
       "      <th>73499</th>\n",
       "      <th>73502</th>\n",
       "    </tr>\n",
       "    <tr>\n",
       "      <th>user_id</th>\n",
       "      <th></th>\n",
       "      <th></th>\n",
       "      <th></th>\n",
       "      <th></th>\n",
       "      <th></th>\n",
       "      <th></th>\n",
       "      <th></th>\n",
       "      <th></th>\n",
       "      <th></th>\n",
       "      <th></th>\n",
       "      <th></th>\n",
       "      <th></th>\n",
       "      <th></th>\n",
       "      <th></th>\n",
       "      <th></th>\n",
       "      <th></th>\n",
       "      <th></th>\n",
       "      <th></th>\n",
       "      <th></th>\n",
       "      <th></th>\n",
       "      <th></th>\n",
       "    </tr>\n",
       "  </thead>\n",
       "  <tbody>\n",
       "    <tr>\n",
       "      <th>226</th>\n",
       "      <td>1.000000</td>\n",
       "      <td>0.310524</td>\n",
       "      <td>0.369810</td>\n",
       "      <td>0.368844</td>\n",
       "      <td>0.479172</td>\n",
       "      <td>0.351496</td>\n",
       "      <td>0.339471</td>\n",
       "      <td>0.453386</td>\n",
       "      <td>0.397297</td>\n",
       "      <td>0.384594</td>\n",
       "      <td>...</td>\n",
       "      <td>0.290858</td>\n",
       "      <td>0.362299</td>\n",
       "      <td>0.413587</td>\n",
       "      <td>0.434253</td>\n",
       "      <td>0.309391</td>\n",
       "      <td>0.288167</td>\n",
       "      <td>0.453607</td>\n",
       "      <td>0.362361</td>\n",
       "      <td>0.336368</td>\n",
       "      <td>0.306507</td>\n",
       "    </tr>\n",
       "    <tr>\n",
       "      <th>271</th>\n",
       "      <td>0.310524</td>\n",
       "      <td>1.000000</td>\n",
       "      <td>0.268366</td>\n",
       "      <td>0.221096</td>\n",
       "      <td>0.342823</td>\n",
       "      <td>0.376454</td>\n",
       "      <td>0.306231</td>\n",
       "      <td>0.345585</td>\n",
       "      <td>0.357868</td>\n",
       "      <td>0.493646</td>\n",
       "      <td>...</td>\n",
       "      <td>0.272166</td>\n",
       "      <td>0.159041</td>\n",
       "      <td>0.307801</td>\n",
       "      <td>0.289110</td>\n",
       "      <td>0.096752</td>\n",
       "      <td>0.346684</td>\n",
       "      <td>0.357435</td>\n",
       "      <td>0.290322</td>\n",
       "      <td>0.287097</td>\n",
       "      <td>0.227920</td>\n",
       "    </tr>\n",
       "    <tr>\n",
       "      <th>294</th>\n",
       "      <td>0.369810</td>\n",
       "      <td>0.268366</td>\n",
       "      <td>1.000000</td>\n",
       "      <td>0.358606</td>\n",
       "      <td>0.387980</td>\n",
       "      <td>0.394491</td>\n",
       "      <td>0.360027</td>\n",
       "      <td>0.419455</td>\n",
       "      <td>0.361109</td>\n",
       "      <td>0.470477</td>\n",
       "      <td>...</td>\n",
       "      <td>0.361611</td>\n",
       "      <td>0.282967</td>\n",
       "      <td>0.362801</td>\n",
       "      <td>0.413025</td>\n",
       "      <td>0.353574</td>\n",
       "      <td>0.340823</td>\n",
       "      <td>0.451359</td>\n",
       "      <td>0.349856</td>\n",
       "      <td>0.411705</td>\n",
       "      <td>0.377946</td>\n",
       "    </tr>\n",
       "    <tr>\n",
       "      <th>392</th>\n",
       "      <td>0.368844</td>\n",
       "      <td>0.221096</td>\n",
       "      <td>0.358606</td>\n",
       "      <td>1.000000</td>\n",
       "      <td>0.397043</td>\n",
       "      <td>0.307310</td>\n",
       "      <td>0.293243</td>\n",
       "      <td>0.316196</td>\n",
       "      <td>0.396577</td>\n",
       "      <td>0.314374</td>\n",
       "      <td>...</td>\n",
       "      <td>0.286049</td>\n",
       "      <td>0.340013</td>\n",
       "      <td>0.342345</td>\n",
       "      <td>0.465727</td>\n",
       "      <td>0.322202</td>\n",
       "      <td>0.266032</td>\n",
       "      <td>0.434801</td>\n",
       "      <td>0.360945</td>\n",
       "      <td>0.304120</td>\n",
       "      <td>0.242900</td>\n",
       "    </tr>\n",
       "    <tr>\n",
       "      <th>446</th>\n",
       "      <td>0.479172</td>\n",
       "      <td>0.342823</td>\n",
       "      <td>0.387980</td>\n",
       "      <td>0.397043</td>\n",
       "      <td>1.000000</td>\n",
       "      <td>0.377938</td>\n",
       "      <td>0.405816</td>\n",
       "      <td>0.430414</td>\n",
       "      <td>0.404201</td>\n",
       "      <td>0.430761</td>\n",
       "      <td>...</td>\n",
       "      <td>0.357724</td>\n",
       "      <td>0.353429</td>\n",
       "      <td>0.402775</td>\n",
       "      <td>0.431481</td>\n",
       "      <td>0.314192</td>\n",
       "      <td>0.292046</td>\n",
       "      <td>0.481478</td>\n",
       "      <td>0.401871</td>\n",
       "      <td>0.340195</td>\n",
       "      <td>0.335937</td>\n",
       "    </tr>\n",
       "    <tr>\n",
       "      <th>...</th>\n",
       "      <td>...</td>\n",
       "      <td>...</td>\n",
       "      <td>...</td>\n",
       "      <td>...</td>\n",
       "      <td>...</td>\n",
       "      <td>...</td>\n",
       "      <td>...</td>\n",
       "      <td>...</td>\n",
       "      <td>...</td>\n",
       "      <td>...</td>\n",
       "      <td>...</td>\n",
       "      <td>...</td>\n",
       "      <td>...</td>\n",
       "      <td>...</td>\n",
       "      <td>...</td>\n",
       "      <td>...</td>\n",
       "      <td>...</td>\n",
       "      <td>...</td>\n",
       "      <td>...</td>\n",
       "      <td>...</td>\n",
       "      <td>...</td>\n",
       "    </tr>\n",
       "    <tr>\n",
       "      <th>73362</th>\n",
       "      <td>0.288167</td>\n",
       "      <td>0.346684</td>\n",
       "      <td>0.340823</td>\n",
       "      <td>0.266032</td>\n",
       "      <td>0.292046</td>\n",
       "      <td>0.450861</td>\n",
       "      <td>0.272566</td>\n",
       "      <td>0.358541</td>\n",
       "      <td>0.437512</td>\n",
       "      <td>0.412681</td>\n",
       "      <td>...</td>\n",
       "      <td>0.334768</td>\n",
       "      <td>0.207235</td>\n",
       "      <td>0.350239</td>\n",
       "      <td>0.349987</td>\n",
       "      <td>0.238223</td>\n",
       "      <td>1.000000</td>\n",
       "      <td>0.396227</td>\n",
       "      <td>0.318946</td>\n",
       "      <td>0.332661</td>\n",
       "      <td>0.355931</td>\n",
       "    </tr>\n",
       "    <tr>\n",
       "      <th>73378</th>\n",
       "      <td>0.453607</td>\n",
       "      <td>0.357435</td>\n",
       "      <td>0.451359</td>\n",
       "      <td>0.434801</td>\n",
       "      <td>0.481478</td>\n",
       "      <td>0.465542</td>\n",
       "      <td>0.359494</td>\n",
       "      <td>0.462871</td>\n",
       "      <td>0.504422</td>\n",
       "      <td>0.487243</td>\n",
       "      <td>...</td>\n",
       "      <td>0.431488</td>\n",
       "      <td>0.297537</td>\n",
       "      <td>0.450135</td>\n",
       "      <td>0.470631</td>\n",
       "      <td>0.343550</td>\n",
       "      <td>0.396227</td>\n",
       "      <td>1.000000</td>\n",
       "      <td>0.439854</td>\n",
       "      <td>0.456134</td>\n",
       "      <td>0.454755</td>\n",
       "    </tr>\n",
       "    <tr>\n",
       "      <th>73395</th>\n",
       "      <td>0.362361</td>\n",
       "      <td>0.290322</td>\n",
       "      <td>0.349856</td>\n",
       "      <td>0.360945</td>\n",
       "      <td>0.401871</td>\n",
       "      <td>0.404292</td>\n",
       "      <td>0.332429</td>\n",
       "      <td>0.377932</td>\n",
       "      <td>0.367900</td>\n",
       "      <td>0.397738</td>\n",
       "      <td>...</td>\n",
       "      <td>0.366442</td>\n",
       "      <td>0.264322</td>\n",
       "      <td>0.403430</td>\n",
       "      <td>0.380225</td>\n",
       "      <td>0.244898</td>\n",
       "      <td>0.318946</td>\n",
       "      <td>0.439854</td>\n",
       "      <td>1.000000</td>\n",
       "      <td>0.347211</td>\n",
       "      <td>0.319619</td>\n",
       "    </tr>\n",
       "    <tr>\n",
       "      <th>73499</th>\n",
       "      <td>0.336368</td>\n",
       "      <td>0.287097</td>\n",
       "      <td>0.411705</td>\n",
       "      <td>0.304120</td>\n",
       "      <td>0.340195</td>\n",
       "      <td>0.387321</td>\n",
       "      <td>0.285049</td>\n",
       "      <td>0.428791</td>\n",
       "      <td>0.391158</td>\n",
       "      <td>0.394896</td>\n",
       "      <td>...</td>\n",
       "      <td>0.378386</td>\n",
       "      <td>0.263148</td>\n",
       "      <td>0.392992</td>\n",
       "      <td>0.383892</td>\n",
       "      <td>0.307080</td>\n",
       "      <td>0.332661</td>\n",
       "      <td>0.456134</td>\n",
       "      <td>0.347211</td>\n",
       "      <td>1.000000</td>\n",
       "      <td>0.421755</td>\n",
       "    </tr>\n",
       "    <tr>\n",
       "      <th>73502</th>\n",
       "      <td>0.306507</td>\n",
       "      <td>0.227920</td>\n",
       "      <td>0.377946</td>\n",
       "      <td>0.242900</td>\n",
       "      <td>0.335937</td>\n",
       "      <td>0.389914</td>\n",
       "      <td>0.301600</td>\n",
       "      <td>0.413999</td>\n",
       "      <td>0.410354</td>\n",
       "      <td>0.343049</td>\n",
       "      <td>...</td>\n",
       "      <td>0.433633</td>\n",
       "      <td>0.239898</td>\n",
       "      <td>0.381860</td>\n",
       "      <td>0.349768</td>\n",
       "      <td>0.370379</td>\n",
       "      <td>0.355931</td>\n",
       "      <td>0.454755</td>\n",
       "      <td>0.319619</td>\n",
       "      <td>0.421755</td>\n",
       "      <td>1.000000</td>\n",
       "    </tr>\n",
       "  </tbody>\n",
       "</table>\n",
       "<p>1365 rows × 1365 columns</p>\n",
       "</div>"
      ],
      "text/plain": [
       "user_id     226       271       294       392       446       478       661    \\\n",
       "user_id                                                                         \n",
       "226      1.000000  0.310524  0.369810  0.368844  0.479172  0.351496  0.339471   \n",
       "271      0.310524  1.000000  0.268366  0.221096  0.342823  0.376454  0.306231   \n",
       "294      0.369810  0.268366  1.000000  0.358606  0.387980  0.394491  0.360027   \n",
       "392      0.368844  0.221096  0.358606  1.000000  0.397043  0.307310  0.293243   \n",
       "446      0.479172  0.342823  0.387980  0.397043  1.000000  0.377938  0.405816   \n",
       "...           ...       ...       ...       ...       ...       ...       ...   \n",
       "73362    0.288167  0.346684  0.340823  0.266032  0.292046  0.450861  0.272566   \n",
       "73378    0.453607  0.357435  0.451359  0.434801  0.481478  0.465542  0.359494   \n",
       "73395    0.362361  0.290322  0.349856  0.360945  0.401871  0.404292  0.332429   \n",
       "73499    0.336368  0.287097  0.411705  0.304120  0.340195  0.387321  0.285049   \n",
       "73502    0.306507  0.227920  0.377946  0.242900  0.335937  0.389914  0.301600   \n",
       "\n",
       "user_id     741       771       786    ...     73234     73272     73286  \\\n",
       "user_id                                ...                                 \n",
       "226      0.453386  0.397297  0.384594  ...  0.290858  0.362299  0.413587   \n",
       "271      0.345585  0.357868  0.493646  ...  0.272166  0.159041  0.307801   \n",
       "294      0.419455  0.361109  0.470477  ...  0.361611  0.282967  0.362801   \n",
       "392      0.316196  0.396577  0.314374  ...  0.286049  0.340013  0.342345   \n",
       "446      0.430414  0.404201  0.430761  ...  0.357724  0.353429  0.402775   \n",
       "...           ...       ...       ...  ...       ...       ...       ...   \n",
       "73362    0.358541  0.437512  0.412681  ...  0.334768  0.207235  0.350239   \n",
       "73378    0.462871  0.504422  0.487243  ...  0.431488  0.297537  0.450135   \n",
       "73395    0.377932  0.367900  0.397738  ...  0.366442  0.264322  0.403430   \n",
       "73499    0.428791  0.391158  0.394896  ...  0.378386  0.263148  0.392992   \n",
       "73502    0.413999  0.410354  0.343049  ...  0.433633  0.239898  0.381860   \n",
       "\n",
       "user_id     73340     73356     73362     73378     73395     73499     73502  \n",
       "user_id                                                                        \n",
       "226      0.434253  0.309391  0.288167  0.453607  0.362361  0.336368  0.306507  \n",
       "271      0.289110  0.096752  0.346684  0.357435  0.290322  0.287097  0.227920  \n",
       "294      0.413025  0.353574  0.340823  0.451359  0.349856  0.411705  0.377946  \n",
       "392      0.465727  0.322202  0.266032  0.434801  0.360945  0.304120  0.242900  \n",
       "446      0.431481  0.314192  0.292046  0.481478  0.401871  0.340195  0.335937  \n",
       "...           ...       ...       ...       ...       ...       ...       ...  \n",
       "73362    0.349987  0.238223  1.000000  0.396227  0.318946  0.332661  0.355931  \n",
       "73378    0.470631  0.343550  0.396227  1.000000  0.439854  0.456134  0.454755  \n",
       "73395    0.380225  0.244898  0.318946  0.439854  1.000000  0.347211  0.319619  \n",
       "73499    0.383892  0.307080  0.332661  0.456134  0.347211  1.000000  0.421755  \n",
       "73502    0.349768  0.370379  0.355931  0.454755  0.319619  0.421755  1.000000  \n",
       "\n",
       "[1365 rows x 1365 columns]"
      ]
     },
     "execution_count": 30,
     "metadata": {},
     "output_type": "execute_result"
    }
   ],
   "source": [
    "# Convert to a DataFrame for easier manipulation and interpretation\n",
    "user_similarity_df = pd.DataFrame(user_similarity, index=rating_matrix.index, columns=rating_matrix.index)\n",
    "user_similarity_df"
   ]
  },
  {
   "cell_type": "markdown",
   "metadata": {},
   "source": [
    "For ease of use, we'll build a function that derives the recommendation from the user cosine similarity matrix"
   ]
  },
  {
   "cell_type": "code",
   "execution_count": 31,
   "metadata": {},
   "outputs": [],
   "source": [
    "\n",
    "# Function to recommend anime based on similar users\n",
    "def recommend_anime(user_id, user_item_matrix, user_similarity_df, top_n=5):\n",
    "    # Get the user's ratings\n",
    "    user_ratings = user_item_matrix.loc[user_id]\n",
    "\n",
    "    # Find similar users based on cosine similarity\n",
    "    similar_users = user_similarity_df[user_id].sort_values(ascending=False)\n",
    "    \n",
    "    # Store anime recommendations\n",
    "    recommendations = pd.Series(dtype='float64')\n",
    "    \n",
    "    for similar_user in similar_users.index[1:]:  # Skip the first one as it's the user themselves\n",
    "        # Get ratings of the similar user\n",
    "        similar_user_ratings = user_item_matrix.loc[similar_user]\n",
    "        \n",
    "        # Find the anime the similar user has rated but the current user hasn't\n",
    "        recommended_anime = similar_user_ratings[similar_user_ratings > 0].index.difference(user_ratings[user_ratings > 0].index)\n",
    "        \n",
    "        # Append those anime to the recommendations\n",
    "        recommendations = pd.concat([recommendations, similar_user_ratings.loc[recommended_anime]])\n",
    "\n",
    "    # Sort recommendations by rating and return the top N\n",
    "    recommendations = recommendations.sort_values(ascending=False).drop_duplicates()\n",
    "    return recommendations.head(top_n)\n"
   ]
  },
  {
   "cell_type": "code",
   "execution_count": 39,
   "metadata": {},
   "outputs": [
    {
     "data": {
      "text/plain": [
       "Index([60171, 23715, 18683, 66024, 73286, 50625, 45097, 11250,  3657, 49520,\n",
       "        5504, 50671,   271, 73188, 32167, 34466, 37923, 17887, 57082, 69076],\n",
       "      dtype='int64', name='user_id')"
      ]
     },
     "execution_count": 39,
     "metadata": {},
     "output_type": "execute_result"
    }
   ],
   "source": [
    "user_similarity_df.sample(20).index[:20]"
   ]
  },
  {
   "cell_type": "code",
   "execution_count": 34,
   "metadata": {},
   "outputs": [
    {
     "name": "stdout",
     "output_type": "stream",
     "text": [
      "Anime recommendations for user 226:\n",
      "24031    10\n",
      "6964      9\n",
      "31964     8\n",
      "6951      7\n",
      "654       6\n",
      "dtype: int64\n"
     ]
    }
   ],
   "source": [
    "\n",
    "# Example usage:\n",
    "user_id = 226\n",
    "recommended_anime = recommend_anime(user_id, rating_matrix, user_similarity_df)\n",
    "print(f\"Anime recommendations for user {user_id}:\")\n",
    "print(recommended_anime)\n"
   ]
  },
  {
   "cell_type": "code",
   "execution_count": 40,
   "metadata": {},
   "outputs": [
    {
     "name": "stdout",
     "output_type": "stream",
     "text": [
      "Anime recommendations for user 50671:\n",
      "181      10\n",
      "31964     9\n",
      "10216     8\n",
      "32802     7\n",
      "9624      6\n",
      "dtype: int64\n"
     ]
    }
   ],
   "source": [
    "\n",
    "# Example usage:\n",
    "user_id = 50671\n",
    "recommended_anime = recommend_anime(user_id, rating_matrix, user_similarity_df)\n",
    "print(f\"Anime recommendations for user {user_id}:\")\n",
    "print(recommended_anime)\n"
   ]
  },
  {
   "cell_type": "markdown",
   "metadata": {},
   "source": [
    "The results you provided suggest a list of recommended anime for **User 50671**, along with the predicted ratings for each one. Here's how to interpret these recommendations:\n",
    "\n",
    "### 1. **Understanding the Recommendations**:\n",
    "   - **Anime ID 181 with a rating of 10**: This means that the recommendation system predicts that User 50671 would rate Anime ID 181 as a **10/10**, suggesting it’s a top recommendation for this user.\n",
    "   - **Anime ID 31964 with a rating of 9**: This anime is likely to be highly enjoyable to the user, with a predicted rating of **9/10**.\n",
    "   - **Anime ID 10216 with a rating of 8**: The system believes the user would rate this anime as an **8/10**, meaning they would still likely enjoy it.\n",
    "   - **Anime ID 32802 with a rating of 7**: The user may find this anime enjoyable but not exceptional, based on a predicted rating of **7/10**.\n",
    "   - **Anime ID 9624 with a rating of 6**: This anime is predicted to be just okay for the user, with a rating of **6/10**.\n",
    "\n",
    "### 2. **How the Recommendations Are Ranked**:\n",
    "   - The recommendations are sorted by **predicted user ratings**, with higher predicted ratings indicating the anime that the system believes the user would like the most.\n",
    "   - In this case, **Anime ID 181** is the most highly recommended for User 50671, followed by Anime IDs 31964, 10216, etc.\n",
    "\n",
    "### 3. **Predicted Rating Meaning**:\n",
    "   - **10 (for Anime 181)**: This anime is predicted to be a perfect match for the user’s tastes, similar to anime the user has highly rated in the past or similar to anime rated highly by other similar users.\n",
    "   - **9, 8, 7, 6**: These represent slightly lower predicted ratings but still suggest that the user will likely enjoy these anime. The rating reflects the confidence the system has in how much the user will enjoy each one.\n"
   ]
  },
  {
   "cell_type": "code",
   "execution_count": 41,
   "metadata": {},
   "outputs": [
    {
     "data": {
      "text/html": [
       "<div>\n",
       "<style scoped>\n",
       "    .dataframe tbody tr th:only-of-type {\n",
       "        vertical-align: middle;\n",
       "    }\n",
       "\n",
       "    .dataframe tbody tr th {\n",
       "        vertical-align: top;\n",
       "    }\n",
       "\n",
       "    .dataframe thead th {\n",
       "        text-align: right;\n",
       "    }\n",
       "</style>\n",
       "<table border=\"1\" class=\"dataframe\">\n",
       "  <thead>\n",
       "    <tr style=\"text-align: right;\">\n",
       "      <th></th>\n",
       "      <th>anime_id</th>\n",
       "      <th>name</th>\n",
       "      <th>genre</th>\n",
       "      <th>type</th>\n",
       "      <th>episodes</th>\n",
       "      <th>rating</th>\n",
       "      <th>members</th>\n",
       "    </tr>\n",
       "  </thead>\n",
       "  <tbody>\n",
       "    <tr>\n",
       "      <th>0</th>\n",
       "      <td>32281</td>\n",
       "      <td>Kimi no Na wa.</td>\n",
       "      <td>Drama, Romance, School, Supernatural</td>\n",
       "      <td>Movie</td>\n",
       "      <td>1</td>\n",
       "      <td>9.37</td>\n",
       "      <td>200630</td>\n",
       "    </tr>\n",
       "    <tr>\n",
       "      <th>1</th>\n",
       "      <td>5114</td>\n",
       "      <td>Fullmetal Alchemist: Brotherhood</td>\n",
       "      <td>Action, Adventure, Drama, Fantasy, Magic, Mili...</td>\n",
       "      <td>TV</td>\n",
       "      <td>64</td>\n",
       "      <td>9.26</td>\n",
       "      <td>793665</td>\n",
       "    </tr>\n",
       "    <tr>\n",
       "      <th>2</th>\n",
       "      <td>28977</td>\n",
       "      <td>Gintama°</td>\n",
       "      <td>Action, Comedy, Historical, Parody, Samurai, S...</td>\n",
       "      <td>TV</td>\n",
       "      <td>51</td>\n",
       "      <td>9.25</td>\n",
       "      <td>114262</td>\n",
       "    </tr>\n",
       "    <tr>\n",
       "      <th>3</th>\n",
       "      <td>9253</td>\n",
       "      <td>Steins;Gate</td>\n",
       "      <td>Sci-Fi, Thriller</td>\n",
       "      <td>TV</td>\n",
       "      <td>24</td>\n",
       "      <td>9.17</td>\n",
       "      <td>673572</td>\n",
       "    </tr>\n",
       "    <tr>\n",
       "      <th>4</th>\n",
       "      <td>9969</td>\n",
       "      <td>Gintama&amp;#039;</td>\n",
       "      <td>Action, Comedy, Historical, Parody, Samurai, S...</td>\n",
       "      <td>TV</td>\n",
       "      <td>51</td>\n",
       "      <td>9.16</td>\n",
       "      <td>151266</td>\n",
       "    </tr>\n",
       "  </tbody>\n",
       "</table>\n",
       "</div>"
      ],
      "text/plain": [
       "   anime_id                              name  \\\n",
       "0     32281                    Kimi no Na wa.   \n",
       "1      5114  Fullmetal Alchemist: Brotherhood   \n",
       "2     28977                          Gintama°   \n",
       "3      9253                       Steins;Gate   \n",
       "4      9969                     Gintama&#039;   \n",
       "\n",
       "                                               genre   type episodes  rating  \\\n",
       "0               Drama, Romance, School, Supernatural  Movie        1    9.37   \n",
       "1  Action, Adventure, Drama, Fantasy, Magic, Mili...     TV       64    9.26   \n",
       "2  Action, Comedy, Historical, Parody, Samurai, S...     TV       51    9.25   \n",
       "3                                   Sci-Fi, Thriller     TV       24    9.17   \n",
       "4  Action, Comedy, Historical, Parody, Samurai, S...     TV       51    9.16   \n",
       "\n",
       "   members  \n",
       "0   200630  \n",
       "1   793665  \n",
       "2   114262  \n",
       "3   673572  \n",
       "4   151266  "
      ]
     },
     "execution_count": 41,
     "metadata": {},
     "output_type": "execute_result"
    }
   ],
   "source": [
    "df_anime = pd.read_csv(path+'anime.csv')\n",
    "df_anime.head()"
   ]
  },
  {
   "cell_type": "code",
   "execution_count": 47,
   "metadata": {},
   "outputs": [
    {
     "name": "stdout",
     "output_type": "stream",
     "text": [
      "Recommended items for user 50671:\n",
      " 178                       Boku no Hero Academia\n",
      "1198             Yondemasu yo, Azazel-san. (TV)\n",
      "1461                 Vandread: The Second Stage\n",
      "2869    Cardfight!! Vanguard G: Stride Gate-hen\n",
      "3931                     30-sai no Hoken Taiiku\n",
      "Name: name, dtype: object\n"
     ]
    }
   ],
   "source": [
    "print(f\"Recommended items for user {user_id}:\\n {df_anime[df_anime['anime_id'].isin(recommended_anime.index)]['name']}\")"
   ]
  },
  {
   "cell_type": "code",
   "execution_count": null,
   "metadata": {},
   "outputs": [],
   "source": []
  },
  {
   "cell_type": "markdown",
   "metadata": {},
   "source": [
    "\n",
    "### 4. **Recommendations for Action**:\n",
    "   - **Watchlist**: The user can prioritize anime with higher predicted ratings (e.g., Anime ID 181 and 31964) for their watchlist.\n",
    "   - **Exploration**: Lower-rated recommendations, like Anime ID 9624 with a predicted rating of 6, could still be worth exploring, but they may not align as closely with the user’s typical preferences.\n",
    "\n",
    "### 5. **Possible Improvements**:\n",
    "   - **Filtering by minimum rating**: If User 50671 only wants to see highly recommended shows, you might filter out anime with predicted ratings below a certain threshold (e.g., 7 or 8).\n",
    "   - **Explore genres**: Consider adding genre filtering or weighting to better tailor the recommendations based on the user's favorite genres.\n",
    "\n",
    "### Final Thoughts:\n",
    "The results provide a clear picture of anime that the system thinks User 50671 will enjoy based on the preferences of other similar users. The higher the predicted rating, the more confident the system is that the user will like that particular anime.\n",
    "\n",
    "Would you like help with adding more filters or adjusting the recommendation algorithm further?"
   ]
  },
  {
   "cell_type": "markdown",
   "metadata": {},
   "source": []
  }
 ],
 "metadata": {
  "kernelspec": {
   "display_name": "Python 3",
   "language": "python",
   "name": "python3"
  },
  "language_info": {
   "codemirror_mode": {
    "name": "ipython",
    "version": 3
   },
   "file_extension": ".py",
   "mimetype": "text/x-python",
   "name": "python",
   "nbconvert_exporter": "python",
   "pygments_lexer": "ipython3",
   "version": "3.11.3"
  }
 },
 "nbformat": 4,
 "nbformat_minor": 2
}
