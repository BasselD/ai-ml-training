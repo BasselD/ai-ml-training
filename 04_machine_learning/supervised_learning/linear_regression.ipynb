{
 "cells": [
  {
   "cell_type": "markdown",
   "metadata": {
    "id": "Iz1N-R2_lZXU"
   },
   "source": [
    "## **Working with Linear Regression**"
   ]
  },
  {
   "cell_type": "markdown",
   "metadata": {
    "id": "q1QOfSodb3Nx"
   },
   "source": [
    "## Step 1: Data Preparation\n",
    "\n",
    "- Import the required libraries\n",
    "- Load the Boston housing data set\n",
    "- Prepare the data set\n"
   ]
  },
  {
   "cell_type": "code",
   "execution_count": 8,
   "metadata": {
    "id": "f2bWUm6Rb3N0"
   },
   "outputs": [],
   "source": [
    "import numpy as np\n",
    "import pandas as pd\n",
    "import matplotlib.pyplot as plt\n",
    "#import seaborn as sns\n",
    "from sklearn import datasets"
   ]
  },
  {
   "cell_type": "markdown",
   "metadata": {
    "id": "ibc51nHjd2CV"
   },
   "source": [
    "## Step 2: Create a DataFrame and Check for Missing Values\n",
    "\n",
    "- Create a DataFrame using the Boston housing data\n",
    "- Display basic statistics\n",
    "- Check for missing values\n"
   ]
  },
  {
   "cell_type": "code",
   "execution_count": 9,
   "metadata": {
    "collapsed": true,
    "id": "ZVV5gD0Cb3N1",
    "outputId": "a34b2108-60c7-435a-b484-dc3cc9a5554a"
   },
   "outputs": [
    {
     "data": {
      "text/html": [
       "<div>\n",
       "<style scoped>\n",
       "    .dataframe tbody tr th:only-of-type {\n",
       "        vertical-align: middle;\n",
       "    }\n",
       "\n",
       "    .dataframe tbody tr th {\n",
       "        vertical-align: top;\n",
       "    }\n",
       "\n",
       "    .dataframe thead th {\n",
       "        text-align: right;\n",
       "    }\n",
       "</style>\n",
       "<table border=\"1\" class=\"dataframe\">\n",
       "  <thead>\n",
       "    <tr style=\"text-align: right;\">\n",
       "      <th></th>\n",
       "      <th>CRIM</th>\n",
       "      <th>ZN</th>\n",
       "      <th>INDUS</th>\n",
       "      <th>CHAS</th>\n",
       "      <th>NOX</th>\n",
       "      <th>RM</th>\n",
       "      <th>AGE</th>\n",
       "      <th>DIS</th>\n",
       "      <th>RAD</th>\n",
       "      <th>TAX</th>\n",
       "      <th>PTRATIO</th>\n",
       "      <th>B</th>\n",
       "      <th>LSTAT</th>\n",
       "      <th>MEDV</th>\n",
       "    </tr>\n",
       "  </thead>\n",
       "  <tbody>\n",
       "    <tr>\n",
       "      <th>0</th>\n",
       "      <td>0.00632</td>\n",
       "      <td>18.0</td>\n",
       "      <td>2.31</td>\n",
       "      <td>0</td>\n",
       "      <td>0.538</td>\n",
       "      <td>6.575</td>\n",
       "      <td>65.2</td>\n",
       "      <td>4.0900</td>\n",
       "      <td>1</td>\n",
       "      <td>296.0</td>\n",
       "      <td>15.3</td>\n",
       "      <td>396.90</td>\n",
       "      <td>4.98</td>\n",
       "      <td>24.0</td>\n",
       "    </tr>\n",
       "    <tr>\n",
       "      <th>1</th>\n",
       "      <td>0.02731</td>\n",
       "      <td>0.0</td>\n",
       "      <td>7.07</td>\n",
       "      <td>0</td>\n",
       "      <td>0.469</td>\n",
       "      <td>6.421</td>\n",
       "      <td>78.9</td>\n",
       "      <td>4.9671</td>\n",
       "      <td>2</td>\n",
       "      <td>242.0</td>\n",
       "      <td>17.8</td>\n",
       "      <td>396.90</td>\n",
       "      <td>9.14</td>\n",
       "      <td>21.6</td>\n",
       "    </tr>\n",
       "    <tr>\n",
       "      <th>2</th>\n",
       "      <td>0.02729</td>\n",
       "      <td>0.0</td>\n",
       "      <td>7.07</td>\n",
       "      <td>0</td>\n",
       "      <td>0.469</td>\n",
       "      <td>7.185</td>\n",
       "      <td>61.1</td>\n",
       "      <td>4.9671</td>\n",
       "      <td>2</td>\n",
       "      <td>242.0</td>\n",
       "      <td>17.8</td>\n",
       "      <td>392.83</td>\n",
       "      <td>4.03</td>\n",
       "      <td>34.7</td>\n",
       "    </tr>\n",
       "    <tr>\n",
       "      <th>3</th>\n",
       "      <td>0.03237</td>\n",
       "      <td>0.0</td>\n",
       "      <td>2.18</td>\n",
       "      <td>0</td>\n",
       "      <td>0.458</td>\n",
       "      <td>6.998</td>\n",
       "      <td>45.8</td>\n",
       "      <td>6.0622</td>\n",
       "      <td>3</td>\n",
       "      <td>222.0</td>\n",
       "      <td>18.7</td>\n",
       "      <td>394.63</td>\n",
       "      <td>2.94</td>\n",
       "      <td>33.4</td>\n",
       "    </tr>\n",
       "    <tr>\n",
       "      <th>4</th>\n",
       "      <td>0.06905</td>\n",
       "      <td>0.0</td>\n",
       "      <td>2.18</td>\n",
       "      <td>0</td>\n",
       "      <td>0.458</td>\n",
       "      <td>7.147</td>\n",
       "      <td>54.2</td>\n",
       "      <td>6.0622</td>\n",
       "      <td>3</td>\n",
       "      <td>222.0</td>\n",
       "      <td>18.7</td>\n",
       "      <td>396.90</td>\n",
       "      <td>5.33</td>\n",
       "      <td>36.2</td>\n",
       "    </tr>\n",
       "  </tbody>\n",
       "</table>\n",
       "</div>"
      ],
      "text/plain": [
       "      CRIM    ZN   INDUS   CHAS    NOX     RM   AGE     DIS   RAD    TAX  \\\n",
       "0  0.00632  18.0    2.31      0  0.538  6.575  65.2  4.0900     1  296.0   \n",
       "1  0.02731   0.0    7.07      0  0.469  6.421  78.9  4.9671     2  242.0   \n",
       "2  0.02729   0.0    7.07      0  0.469  7.185  61.1  4.9671     2  242.0   \n",
       "3  0.03237   0.0    2.18      0  0.458  6.998  45.8  6.0622     3  222.0   \n",
       "4  0.06905   0.0    2.18      0  0.458  7.147  54.2  6.0622     3  222.0   \n",
       "\n",
       "    PTRATIO       B   LSTAT  MEDV  \n",
       "0      15.3  396.90    4.98  24.0  \n",
       "1      17.8  396.90    9.14  21.6  \n",
       "2      17.8  392.83    4.03  34.7  \n",
       "3      18.7  394.63    2.94  33.4  \n",
       "4      18.7  396.90    5.33  36.2  "
      ]
     },
     "execution_count": 9,
     "metadata": {},
     "output_type": "execute_result"
    }
   ],
   "source": [
    "df = pd.DataFrame(pd.read_csv('housing.csv'))\n",
    "df.head()"
   ]
  },
  {
   "cell_type": "markdown",
   "metadata": {
    "id": "1lRXzMVsRl3l"
   },
   "source": [
    "__Observation__:\n",
    "\n",
    "- This is the head of the data set."
   ]
  },
  {
   "cell_type": "code",
   "execution_count": 10,
   "metadata": {
    "id": "cwGH3zYVb3N2",
    "outputId": "86e47772-1a8f-4e9d-c8f3-e78cba8b405c"
   },
   "outputs": [
    {
     "data": {
      "text/html": [
       "<div>\n",
       "<style scoped>\n",
       "    .dataframe tbody tr th:only-of-type {\n",
       "        vertical-align: middle;\n",
       "    }\n",
       "\n",
       "    .dataframe tbody tr th {\n",
       "        vertical-align: top;\n",
       "    }\n",
       "\n",
       "    .dataframe thead th {\n",
       "        text-align: right;\n",
       "    }\n",
       "</style>\n",
       "<table border=\"1\" class=\"dataframe\">\n",
       "  <thead>\n",
       "    <tr style=\"text-align: right;\">\n",
       "      <th></th>\n",
       "      <th>CRIM</th>\n",
       "      <th>ZN</th>\n",
       "      <th>INDUS</th>\n",
       "      <th>CHAS</th>\n",
       "      <th>NOX</th>\n",
       "      <th>RM</th>\n",
       "      <th>AGE</th>\n",
       "      <th>DIS</th>\n",
       "      <th>RAD</th>\n",
       "      <th>TAX</th>\n",
       "      <th>PTRATIO</th>\n",
       "      <th>B</th>\n",
       "      <th>LSTAT</th>\n",
       "      <th>MEDV</th>\n",
       "    </tr>\n",
       "  </thead>\n",
       "  <tbody>\n",
       "    <tr>\n",
       "      <th>count</th>\n",
       "      <td>506.000000</td>\n",
       "      <td>506.000000</td>\n",
       "      <td>506.000000</td>\n",
       "      <td>506.000000</td>\n",
       "      <td>506.000000</td>\n",
       "      <td>506.000000</td>\n",
       "      <td>506.000000</td>\n",
       "      <td>506.000000</td>\n",
       "      <td>506.000000</td>\n",
       "      <td>506.000000</td>\n",
       "      <td>506.000000</td>\n",
       "      <td>506.000000</td>\n",
       "      <td>506.000000</td>\n",
       "      <td>506.000000</td>\n",
       "    </tr>\n",
       "    <tr>\n",
       "      <th>mean</th>\n",
       "      <td>3.613524</td>\n",
       "      <td>11.363636</td>\n",
       "      <td>11.136779</td>\n",
       "      <td>0.069170</td>\n",
       "      <td>0.554695</td>\n",
       "      <td>6.284634</td>\n",
       "      <td>68.574901</td>\n",
       "      <td>3.795043</td>\n",
       "      <td>9.549407</td>\n",
       "      <td>408.237154</td>\n",
       "      <td>18.455534</td>\n",
       "      <td>356.674032</td>\n",
       "      <td>12.653063</td>\n",
       "      <td>22.532806</td>\n",
       "    </tr>\n",
       "    <tr>\n",
       "      <th>std</th>\n",
       "      <td>8.601545</td>\n",
       "      <td>23.322453</td>\n",
       "      <td>6.860353</td>\n",
       "      <td>0.253994</td>\n",
       "      <td>0.115878</td>\n",
       "      <td>0.702617</td>\n",
       "      <td>28.148861</td>\n",
       "      <td>2.105710</td>\n",
       "      <td>8.707259</td>\n",
       "      <td>168.537116</td>\n",
       "      <td>2.164946</td>\n",
       "      <td>91.294864</td>\n",
       "      <td>7.141062</td>\n",
       "      <td>9.197104</td>\n",
       "    </tr>\n",
       "    <tr>\n",
       "      <th>min</th>\n",
       "      <td>0.006320</td>\n",
       "      <td>0.000000</td>\n",
       "      <td>0.460000</td>\n",
       "      <td>0.000000</td>\n",
       "      <td>0.385000</td>\n",
       "      <td>3.561000</td>\n",
       "      <td>2.900000</td>\n",
       "      <td>1.129600</td>\n",
       "      <td>1.000000</td>\n",
       "      <td>187.000000</td>\n",
       "      <td>12.600000</td>\n",
       "      <td>0.320000</td>\n",
       "      <td>1.730000</td>\n",
       "      <td>5.000000</td>\n",
       "    </tr>\n",
       "    <tr>\n",
       "      <th>25%</th>\n",
       "      <td>0.082045</td>\n",
       "      <td>0.000000</td>\n",
       "      <td>5.190000</td>\n",
       "      <td>0.000000</td>\n",
       "      <td>0.449000</td>\n",
       "      <td>5.885500</td>\n",
       "      <td>45.025000</td>\n",
       "      <td>2.100175</td>\n",
       "      <td>4.000000</td>\n",
       "      <td>279.000000</td>\n",
       "      <td>17.400000</td>\n",
       "      <td>375.377500</td>\n",
       "      <td>6.950000</td>\n",
       "      <td>17.025000</td>\n",
       "    </tr>\n",
       "    <tr>\n",
       "      <th>50%</th>\n",
       "      <td>0.256510</td>\n",
       "      <td>0.000000</td>\n",
       "      <td>9.690000</td>\n",
       "      <td>0.000000</td>\n",
       "      <td>0.538000</td>\n",
       "      <td>6.208500</td>\n",
       "      <td>77.500000</td>\n",
       "      <td>3.207450</td>\n",
       "      <td>5.000000</td>\n",
       "      <td>330.000000</td>\n",
       "      <td>19.050000</td>\n",
       "      <td>391.440000</td>\n",
       "      <td>11.360000</td>\n",
       "      <td>21.200000</td>\n",
       "    </tr>\n",
       "    <tr>\n",
       "      <th>75%</th>\n",
       "      <td>3.677083</td>\n",
       "      <td>12.500000</td>\n",
       "      <td>18.100000</td>\n",
       "      <td>0.000000</td>\n",
       "      <td>0.624000</td>\n",
       "      <td>6.623500</td>\n",
       "      <td>94.075000</td>\n",
       "      <td>5.188425</td>\n",
       "      <td>24.000000</td>\n",
       "      <td>666.000000</td>\n",
       "      <td>20.200000</td>\n",
       "      <td>396.225000</td>\n",
       "      <td>16.955000</td>\n",
       "      <td>25.000000</td>\n",
       "    </tr>\n",
       "    <tr>\n",
       "      <th>max</th>\n",
       "      <td>88.976200</td>\n",
       "      <td>100.000000</td>\n",
       "      <td>27.740000</td>\n",
       "      <td>1.000000</td>\n",
       "      <td>0.871000</td>\n",
       "      <td>8.780000</td>\n",
       "      <td>100.000000</td>\n",
       "      <td>12.126500</td>\n",
       "      <td>24.000000</td>\n",
       "      <td>711.000000</td>\n",
       "      <td>22.000000</td>\n",
       "      <td>396.900000</td>\n",
       "      <td>37.970000</td>\n",
       "      <td>50.000000</td>\n",
       "    </tr>\n",
       "  </tbody>\n",
       "</table>\n",
       "</div>"
      ],
      "text/plain": [
       "             CRIM          ZN       INDUS        CHAS         NOX          RM  \\\n",
       "count  506.000000  506.000000  506.000000  506.000000  506.000000  506.000000   \n",
       "mean     3.613524   11.363636   11.136779    0.069170    0.554695    6.284634   \n",
       "std      8.601545   23.322453    6.860353    0.253994    0.115878    0.702617   \n",
       "min      0.006320    0.000000    0.460000    0.000000    0.385000    3.561000   \n",
       "25%      0.082045    0.000000    5.190000    0.000000    0.449000    5.885500   \n",
       "50%      0.256510    0.000000    9.690000    0.000000    0.538000    6.208500   \n",
       "75%      3.677083   12.500000   18.100000    0.000000    0.624000    6.623500   \n",
       "max     88.976200  100.000000   27.740000    1.000000    0.871000    8.780000   \n",
       "\n",
       "              AGE         DIS         RAD         TAX     PTRATIO           B  \\\n",
       "count  506.000000  506.000000  506.000000  506.000000  506.000000  506.000000   \n",
       "mean    68.574901    3.795043    9.549407  408.237154   18.455534  356.674032   \n",
       "std     28.148861    2.105710    8.707259  168.537116    2.164946   91.294864   \n",
       "min      2.900000    1.129600    1.000000  187.000000   12.600000    0.320000   \n",
       "25%     45.025000    2.100175    4.000000  279.000000   17.400000  375.377500   \n",
       "50%     77.500000    3.207450    5.000000  330.000000   19.050000  391.440000   \n",
       "75%     94.075000    5.188425   24.000000  666.000000   20.200000  396.225000   \n",
       "max    100.000000   12.126500   24.000000  711.000000   22.000000  396.900000   \n",
       "\n",
       "            LSTAT        MEDV  \n",
       "count  506.000000  506.000000  \n",
       "mean    12.653063   22.532806  \n",
       "std      7.141062    9.197104  \n",
       "min      1.730000    5.000000  \n",
       "25%      6.950000   17.025000  \n",
       "50%     11.360000   21.200000  \n",
       "75%     16.955000   25.000000  \n",
       "max     37.970000   50.000000  "
      ]
     },
     "execution_count": 10,
     "metadata": {},
     "output_type": "execute_result"
    }
   ],
   "source": [
    "df.describe()"
   ]
  },
  {
   "cell_type": "markdown",
   "metadata": {
    "id": "Myu1DvhsR-tI"
   },
   "source": [
    "__Observation__:\n",
    "- Here, you can see the statistical analysis of the data set."
   ]
  },
  {
   "cell_type": "code",
   "execution_count": 11,
   "metadata": {
    "id": "E6HKwO5ub3N3",
    "outputId": "afb54069-c3fb-42d5-c6f8-ae27866af72c"
   },
   "outputs": [
    {
     "data": {
      "text/plain": [
       "CRIM        0\n",
       " ZN         0\n",
       " INDUS      0\n",
       " CHAS       0\n",
       " NOX        0\n",
       " RM         0\n",
       " AGE        0\n",
       " DIS        0\n",
       " RAD        0\n",
       " TAX        0\n",
       " PTRATIO    0\n",
       " B          0\n",
       " LSTAT      0\n",
       "MEDV        0\n",
       "dtype: int64"
      ]
     },
     "execution_count": 11,
     "metadata": {},
     "output_type": "execute_result"
    }
   ],
   "source": [
    "df.isna().sum()"
   ]
  },
  {
   "cell_type": "markdown",
   "metadata": {
    "id": "4oW0CDYQSRAF"
   },
   "source": [
    "__Observation__:\n",
    "\n",
    "- There are no empty rows in the data set"
   ]
  },
  {
   "cell_type": "markdown",
   "metadata": {
    "id": "M3K1ODY7d-1B"
   },
   "source": [
    "## Step 3: Remove Outliers from the HousePrice Column\n",
    "\n",
    "\n",
    "- Use a boxplot to visualize the outliers\n",
    "- Remove outliers from the __HousePrice__ column using the 1% and 99% quantiles\n"
   ]
  },
  {
   "cell_type": "code",
   "execution_count": 14,
   "metadata": {
    "id": "-k9RGwnZb3N3",
    "outputId": "22fc3226-cc45-40c8-ab5c-38eda94e2a0c"
   },
   "outputs": [
    {
     "data": {
      "text/plain": [
       "<Axes: xlabel='MEDV'>"
      ]
     },
     "execution_count": 14,
     "metadata": {},
     "output_type": "execute_result"
    },
    {
     "data": {
      "image/png": "[encoded data removed]",
      "text/plain": [
       "<Figure size 640x480 with 1 Axes>"
      ]
     },
     "metadata": {},
     "output_type": "display_data"
    }
   ],
   "source": [
    "import seaborn as sns\n",
    "sns.boxplot(x=df['MEDV'])"
   ]
  },
  {
   "cell_type": "markdown",
   "metadata": {
    "id": "BZp3K8QKSdZK"
   },
   "source": [
    "__Observation__:\n",
    "\n",
    "- There are outliers in the data set."
   ]
  },
  {
   "cell_type": "code",
   "execution_count": 15,
   "metadata": {
    "id": "yN1zIWAxb3N3"
   },
   "outputs": [],
   "source": [
    "upper_limit = df['MEDV'].quantile(0.95)\n",
    "lower_limit = df['MEDV'].quantile(0.03)"
   ]
  },
  {
   "cell_type": "code",
   "execution_count": null,
   "metadata": {
    "id": "GZRLEq0Ob3N4"
   },
   "outputs": [],
   "source": [
    "df['MEDV'] = np.where(df['MEDV'] < lower_limit, lower_limit, df['MEDV'])\n",
    "df['MEDV'] = np.where(df['MEDV'] > upper_limit, upper_limit, df['MEDV'])"
   ]
  },
  {
   "cell_type": "code",
   "execution_count": null,
   "metadata": {},
   "outputs": [
    {
     "data": {
      "text/plain": [
       "43.4"
      ]
     },
     "execution_count": 6,
     "metadata": {},
     "output_type": "execute_result"
    }
   ],
   "source": [
    "# or use the following\n",
    "mask = (df['MEDV'] < upper_limit) & (df['MEDV'] > lower_limit)\n",
    "\n",
    "df = df[mask]"
   ]
  },
  {
   "cell_type": "markdown",
   "metadata": {
    "id": "6mEcChrUb3N4"
   },
   "source": [
    "## Step 4: Test for Linearity of the Model\n",
    "- Most people will jump straight to demploying a LinearRegression Model. But it's always a good idea to check the linearity and get a comprehensive report using `statsmodels`\n",
    "- It'll basically explain how good of a fit your model is.\n",
    "- steps\n",
    "    - Fit the model and display the summary\n",
    "    - Define functions to calculate residuals and plot actual vs. predicted values\n",
    "    - Test for linearity\n"
   ]
  },
  {
   "cell_type": "code",
   "execution_count": 16,
   "metadata": {
    "collapsed": true,
    "id": "DAqXRl2Tb3N4",
    "outputId": "109dec1e-f200-423b-d549-ef7a0a6a5b83"
   },
   "outputs": [],
   "source": [
    "import statsmodels.api as sm\n",
    "#split the data\n",
    "X = df.drop(columns='MEDV')\n",
    "y = df['MEDV']\n"
   ]
  },
  {
   "cell_type": "markdown",
   "metadata": {},
   "source": [
    "`add_constant` is a function in the statsmodels.tools.tools module that adds a column of ones to an array-like input. This column represents a constant or an intercept term in the linear model. A constant or an intercept term is a coefficient that represents the value of the dependent variable when all the independent variables are zero. It is usually included in the model to improve the fit and interpretation of the model."
   ]
  },
  {
   "cell_type": "code",
   "execution_count": 18,
   "metadata": {},
   "outputs": [],
   "source": [
    "#define a constant\n",
    "X_constant = sm.add_constant(X)\n"
   ]
  },
  {
   "cell_type": "code",
   "execution_count": 21,
   "metadata": {},
   "outputs": [
    {
     "data": {
      "text/html": [
       "<table class=\"simpletable\">\n",
       "<caption>OLS Regression Results</caption>\n",
       "<tr>\n",
       "  <th>Dep. Variable:</th>          <td>MEDV</td>       <th>  R-squared:         </th> <td>   0.741</td> \n",
       "</tr>\n",
       "<tr>\n",
       "  <th>Model:</th>                   <td>OLS</td>       <th>  Adj. R-squared:    </th> <td>   0.734</td> \n",
       "</tr>\n",
       "<tr>\n",
       "  <th>Method:</th>             <td>Least Squares</td>  <th>  F-statistic:       </th> <td>   108.1</td> \n",
       "</tr>\n",
       "<tr>\n",
       "  <th>Date:</th>             <td>Thu, 18 Jan 2024</td> <th>  Prob (F-statistic):</th> <td>6.72e-135</td>\n",
       "</tr>\n",
       "<tr>\n",
       "  <th>Time:</th>                 <td>20:36:37</td>     <th>  Log-Likelihood:    </th> <td> -1498.8</td> \n",
       "</tr>\n",
       "<tr>\n",
       "  <th>No. Observations:</th>      <td>   506</td>      <th>  AIC:               </th> <td>   3026.</td> \n",
       "</tr>\n",
       "<tr>\n",
       "  <th>Df Residuals:</th>          <td>   492</td>      <th>  BIC:               </th> <td>   3085.</td> \n",
       "</tr>\n",
       "<tr>\n",
       "  <th>Df Model:</th>              <td>    13</td>      <th>                     </th>     <td> </td>    \n",
       "</tr>\n",
       "<tr>\n",
       "  <th>Covariance Type:</th>      <td>nonrobust</td>    <th>                     </th>     <td> </td>    \n",
       "</tr>\n",
       "</table>\n",
       "<table class=\"simpletable\">\n",
       "<tr>\n",
       "      <td></td>        <th>coef</th>     <th>std err</th>      <th>t</th>      <th>P>|t|</th>  <th>[0.025</th>    <th>0.975]</th>  \n",
       "</tr>\n",
       "<tr>\n",
       "  <th>const</th>    <td>   36.4595</td> <td>    5.103</td> <td>    7.144</td> <td> 0.000</td> <td>   26.432</td> <td>   46.487</td>\n",
       "</tr>\n",
       "<tr>\n",
       "  <th>CRIM</th>     <td>   -0.1080</td> <td>    0.033</td> <td>   -3.287</td> <td> 0.001</td> <td>   -0.173</td> <td>   -0.043</td>\n",
       "</tr>\n",
       "<tr>\n",
       "  <th> ZN</th>      <td>    0.0464</td> <td>    0.014</td> <td>    3.382</td> <td> 0.001</td> <td>    0.019</td> <td>    0.073</td>\n",
       "</tr>\n",
       "<tr>\n",
       "  <th> INDUS</th>   <td>    0.0206</td> <td>    0.061</td> <td>    0.334</td> <td> 0.738</td> <td>   -0.100</td> <td>    0.141</td>\n",
       "</tr>\n",
       "<tr>\n",
       "  <th> CHAS</th>    <td>    2.6867</td> <td>    0.862</td> <td>    3.118</td> <td> 0.002</td> <td>    0.994</td> <td>    4.380</td>\n",
       "</tr>\n",
       "<tr>\n",
       "  <th> NOX</th>     <td>  -17.7666</td> <td>    3.820</td> <td>   -4.651</td> <td> 0.000</td> <td>  -25.272</td> <td>  -10.262</td>\n",
       "</tr>\n",
       "<tr>\n",
       "  <th> RM</th>      <td>    3.8099</td> <td>    0.418</td> <td>    9.116</td> <td> 0.000</td> <td>    2.989</td> <td>    4.631</td>\n",
       "</tr>\n",
       "<tr>\n",
       "  <th> AGE</th>     <td>    0.0007</td> <td>    0.013</td> <td>    0.052</td> <td> 0.958</td> <td>   -0.025</td> <td>    0.027</td>\n",
       "</tr>\n",
       "<tr>\n",
       "  <th> DIS</th>     <td>   -1.4756</td> <td>    0.199</td> <td>   -7.398</td> <td> 0.000</td> <td>   -1.867</td> <td>   -1.084</td>\n",
       "</tr>\n",
       "<tr>\n",
       "  <th> RAD</th>     <td>    0.3060</td> <td>    0.066</td> <td>    4.613</td> <td> 0.000</td> <td>    0.176</td> <td>    0.436</td>\n",
       "</tr>\n",
       "<tr>\n",
       "  <th> TAX</th>     <td>   -0.0123</td> <td>    0.004</td> <td>   -3.280</td> <td> 0.001</td> <td>   -0.020</td> <td>   -0.005</td>\n",
       "</tr>\n",
       "<tr>\n",
       "  <th> PTRATIO</th> <td>   -0.9527</td> <td>    0.131</td> <td>   -7.283</td> <td> 0.000</td> <td>   -1.210</td> <td>   -0.696</td>\n",
       "</tr>\n",
       "<tr>\n",
       "  <th> B</th>       <td>    0.0093</td> <td>    0.003</td> <td>    3.467</td> <td> 0.001</td> <td>    0.004</td> <td>    0.015</td>\n",
       "</tr>\n",
       "<tr>\n",
       "  <th> LSTAT</th>   <td>   -0.5248</td> <td>    0.051</td> <td>  -10.347</td> <td> 0.000</td> <td>   -0.624</td> <td>   -0.425</td>\n",
       "</tr>\n",
       "</table>\n",
       "<table class=\"simpletable\">\n",
       "<tr>\n",
       "  <th>Omnibus:</th>       <td>178.041</td> <th>  Durbin-Watson:     </th> <td>   1.078</td> \n",
       "</tr>\n",
       "<tr>\n",
       "  <th>Prob(Omnibus):</th> <td> 0.000</td>  <th>  Jarque-Bera (JB):  </th> <td> 783.126</td> \n",
       "</tr>\n",
       "<tr>\n",
       "  <th>Skew:</th>          <td> 1.521</td>  <th>  Prob(JB):          </th> <td>8.84e-171</td>\n",
       "</tr>\n",
       "<tr>\n",
       "  <th>Kurtosis:</th>      <td> 8.281</td>  <th>  Cond. No.          </th> <td>1.51e+04</td> \n",
       "</tr>\n",
       "</table><br/><br/>Notes:<br/>[1] Standard Errors assume that the covariance matrix of the errors is correctly specified.<br/>[2] The condition number is large, 1.51e+04. This might indicate that there are<br/>strong multicollinearity or other numerical problems."
      ],
      "text/latex": [
       "\\begin{center}\n",
       "\\begin{tabular}{lclc}\n",
       "\\toprule\n",
       "\\textbf{Dep. Variable:}    &       MEDV       & \\textbf{  R-squared:         } &     0.741   \\\\\n",
       "\\textbf{Model:}            &       OLS        & \\textbf{  Adj. R-squared:    } &     0.734   \\\\\n",
       "\\textbf{Method:}           &  Least Squares   & \\textbf{  F-statistic:       } &     108.1   \\\\\n",
       "\\textbf{Date:}             & Thu, 18 Jan 2024 & \\textbf{  Prob (F-statistic):} & 6.72e-135   \\\\\n",
       "\\textbf{Time:}             &     20:36:37     & \\textbf{  Log-Likelihood:    } &   -1498.8   \\\\\n",
       "\\textbf{No. Observations:} &         506      & \\textbf{  AIC:               } &     3026.   \\\\\n",
       "\\textbf{Df Residuals:}     &         492      & \\textbf{  BIC:               } &     3085.   \\\\\n",
       "\\textbf{Df Model:}         &          13      & \\textbf{                     } &             \\\\\n",
       "\\textbf{Covariance Type:}  &    nonrobust     & \\textbf{                     } &             \\\\\n",
       "\\bottomrule\n",
       "\\end{tabular}\n",
       "\\begin{tabular}{lcccccc}\n",
       "                  & \\textbf{coef} & \\textbf{std err} & \\textbf{t} & \\textbf{P$> |$t$|$} & \\textbf{[0.025} & \\textbf{0.975]}  \\\\\n",
       "\\midrule\n",
       "\\textbf{const}    &      36.4595  &        5.103     &     7.144  &         0.000        &       26.432    &       46.487     \\\\\n",
       "\\textbf{CRIM}     &      -0.1080  &        0.033     &    -3.287  &         0.001        &       -0.173    &       -0.043     \\\\\n",
       "\\textbf{ ZN}      &       0.0464  &        0.014     &     3.382  &         0.001        &        0.019    &        0.073     \\\\\n",
       "\\textbf{ INDUS}   &       0.0206  &        0.061     &     0.334  &         0.738        &       -0.100    &        0.141     \\\\\n",
       "\\textbf{ CHAS}    &       2.6867  &        0.862     &     3.118  &         0.002        &        0.994    &        4.380     \\\\\n",
       "\\textbf{ NOX}     &     -17.7666  &        3.820     &    -4.651  &         0.000        &      -25.272    &      -10.262     \\\\\n",
       "\\textbf{ RM}      &       3.8099  &        0.418     &     9.116  &         0.000        &        2.989    &        4.631     \\\\\n",
       "\\textbf{ AGE}     &       0.0007  &        0.013     &     0.052  &         0.958        &       -0.025    &        0.027     \\\\\n",
       "\\textbf{ DIS}     &      -1.4756  &        0.199     &    -7.398  &         0.000        &       -1.867    &       -1.084     \\\\\n",
       "\\textbf{ RAD}     &       0.3060  &        0.066     &     4.613  &         0.000        &        0.176    &        0.436     \\\\\n",
       "\\textbf{ TAX}     &      -0.0123  &        0.004     &    -3.280  &         0.001        &       -0.020    &       -0.005     \\\\\n",
       "\\textbf{ PTRATIO} &      -0.9527  &        0.131     &    -7.283  &         0.000        &       -1.210    &       -0.696     \\\\\n",
       "\\textbf{ B}       &       0.0093  &        0.003     &     3.467  &         0.001        &        0.004    &        0.015     \\\\\n",
       "\\textbf{ LSTAT}   &      -0.5248  &        0.051     &   -10.347  &         0.000        &       -0.624    &       -0.425     \\\\\n",
       "\\bottomrule\n",
       "\\end{tabular}\n",
       "\\begin{tabular}{lclc}\n",
       "\\textbf{Omnibus:}       & 178.041 & \\textbf{  Durbin-Watson:     } &     1.078  \\\\\n",
       "\\textbf{Prob(Omnibus):} &   0.000 & \\textbf{  Jarque-Bera (JB):  } &   783.126  \\\\\n",
       "\\textbf{Skew:}          &   1.521 & \\textbf{  Prob(JB):          } & 8.84e-171  \\\\\n",
       "\\textbf{Kurtosis:}      &   8.281 & \\textbf{  Cond. No.          } &  1.51e+04  \\\\\n",
       "\\bottomrule\n",
       "\\end{tabular}\n",
       "%\\caption{OLS Regression Results}\n",
       "\\end{center}\n",
       "\n",
       "Notes: \\newline\n",
       " [1] Standard Errors assume that the covariance matrix of the errors is correctly specified. \\newline\n",
       " [2] The condition number is large, 1.51e+04. This might indicate that there are \\newline\n",
       " strong multicollinearity or other numerical problems."
      ],
      "text/plain": [
       "<class 'statsmodels.iolib.summary.Summary'>\n",
       "\"\"\"\n",
       "                            OLS Regression Results                            \n",
       "==============================================================================\n",
       "Dep. Variable:                   MEDV   R-squared:                       0.741\n",
       "Model:                            OLS   Adj. R-squared:                  0.734\n",
       "Method:                 Least Squares   F-statistic:                     108.1\n",
       "Date:                Thu, 18 Jan 2024   Prob (F-statistic):          6.72e-135\n",
       "Time:                        20:36:37   Log-Likelihood:                -1498.8\n",
       "No. Observations:                 506   AIC:                             3026.\n",
       "Df Residuals:                     492   BIC:                             3085.\n",
       "Df Model:                          13                                         \n",
       "Covariance Type:            nonrobust                                         \n",
       "==============================================================================\n",
       "                 coef    std err          t      P>|t|      [0.025      0.975]\n",
       "------------------------------------------------------------------------------\n",
       "const         36.4595      5.103      7.144      0.000      26.432      46.487\n",
       "CRIM          -0.1080      0.033     -3.287      0.001      -0.173      -0.043\n",
       " ZN            0.0464      0.014      3.382      0.001       0.019       0.073\n",
       " INDUS         0.0206      0.061      0.334      0.738      -0.100       0.141\n",
       " CHAS          2.6867      0.862      3.118      0.002       0.994       4.380\n",
       " NOX         -17.7666      3.820     -4.651      0.000     -25.272     -10.262\n",
       " RM            3.8099      0.418      9.116      0.000       2.989       4.631\n",
       " AGE           0.0007      0.013      0.052      0.958      -0.025       0.027\n",
       " DIS          -1.4756      0.199     -7.398      0.000      -1.867      -1.084\n",
       " RAD           0.3060      0.066      4.613      0.000       0.176       0.436\n",
       " TAX          -0.0123      0.004     -3.280      0.001      -0.020      -0.005\n",
       " PTRATIO      -0.9527      0.131     -7.283      0.000      -1.210      -0.696\n",
       " B             0.0093      0.003      3.467      0.001       0.004       0.015\n",
       " LSTAT        -0.5248      0.051    -10.347      0.000      -0.624      -0.425\n",
       "==============================================================================\n",
       "Omnibus:                      178.041   Durbin-Watson:                   1.078\n",
       "Prob(Omnibus):                  0.000   Jarque-Bera (JB):              783.126\n",
       "Skew:                           1.521   Prob(JB):                    8.84e-171\n",
       "Kurtosis:                       8.281   Cond. No.                     1.51e+04\n",
       "==============================================================================\n",
       "\n",
       "Notes:\n",
       "[1] Standard Errors assume that the covariance matrix of the errors is correctly specified.\n",
       "[2] The condition number is large, 1.51e+04. This might indicate that there are\n",
       "strong multicollinearity or other numerical problems.\n",
       "\"\"\""
      ]
     },
     "execution_count": 21,
     "metadata": {},
     "output_type": "execute_result"
    }
   ],
   "source": [
    "OLS_model = sm.OLS(y, X_constant).fit()\n",
    "OLS_model.summary()"
   ]
  },
  {
   "cell_type": "markdown",
   "metadata": {},
   "source": [
    "In Ordinary Least Squares (OLS) regression using `statsmodels` in Python, several metrics are crucial for assessing the goodness of fit and the performance of the regression model. Here are some of the most important metrics:\n",
    "\n",
    "1. **R-squared (`rsquared`):**\n",
    "   - **Purpose:** Measures the proportion of the variance in the dependent variable explained by the independent variables.\n",
    "   - **Interpretation:** Ranges from 0 to 1. Higher values indicate a better fit. A value of 1 means that the model explains all the variability, while 0 means it doesn't explain any.\n",
    "\n",
    "   ```python\n",
    "   print(\"R-squared:\", model.rsquared)\n",
    "   ```\n",
    "\n",
    "2. **Adjusted R-squared (`rsquared_adj`):**\n",
    "   - **Purpose:** Similar to R-squared but adjusts for the number of predictors in the model.\n",
    "   - **Interpretation:** It penalizes the model for adding irrelevant predictors, making it a more reliable metric for models with different numbers of predictors.\n",
    "\n",
    "   ```python\n",
    "   print(\"Adjusted R-squared:\", model.rsquared_adj)\n",
    "   ```\n",
    "\n",
    "3. **F-statistic (`fvalue`):**\n",
    "   - **Purpose:** Tests the overall significance of the model.\n",
    "   - **Interpretation:** A higher F-statistic suggests that the model is statistically significant.\n",
    "\n",
    "   ```python\n",
    "   print(\"F-statistic:\", model.fvalue)\n",
    "   ```\n",
    "\n",
    "4. **Prob (F-statistic) (`f_pvalue`):**\n",
    "   - **Purpose:** Provides the probability that the null hypothesis (the model is not significant) is true.\n",
    "   - **Interpretation:** A small p-value (typically < 0.05) suggests that the model is statistically significant.\n",
    "\n",
    "   ```python\n",
    "   print(\"Prob (F-statistic):\", model.f_pvalue)\n",
    "   ```\n",
    "\n",
    "5. **AIC (Akaike Information Criterion) (`aic`):**\n",
    "   - **Purpose:** A measure of the model's goodness of fit that penalizes the number of parameters.\n",
    "   - **Interpretation:** Lower values indicate a better fit.\n",
    "\n",
    "   ```python\n",
    "   print(\"AIC:\", model.aic)\n",
    "   ```\n",
    "\n",
    "6. **BIC (Bayesian Information Criterion) (`bic`):**\n",
    "   - **Purpose:** Similar to AIC but uses a stronger penalty for the number of parameters.\n",
    "   - **Interpretation:** Like AIC, lower values are better.\n",
    "\n",
    "   ```python\n",
    "   print(\"BIC:\", model.bic)\n",
    "   ```\n",
    "\n",
    "7. **Standard Errors (`bse`):**\n",
    "   - **Purpose:** Provides the standard errors of the coefficient estimates.\n",
    "   - **Interpretation:** Smaller standard errors indicate more precise estimates.\n",
    "\n",
    "   ```python\n",
    "   print(\"Standard Errors:\", model.bse)\n",
    "   ```\n",
    "\n",
    "8. **P-values (`pvalues`):**\n",
    "   - **Purpose:** Tests the null hypothesis that each coefficient is equal to zero.\n",
    "   - **Interpretation:** Small p-values (< 0.05) suggest that the corresponding coefficients are statistically significant.\n",
    "\n",
    "   ```python\n",
    "   print(\"P-values:\", model.pvalues)\n",
    "   ```\n",
    "\n",
    "These metrics collectively help you understand how well your OLS regression model fits the data, whether the model is statistically significant, and if any of the predictors contribute significantly to the model. It's important to consider these metrics in conjunction and use them to make informed decisions about your model's performance."
   ]
  },
  {
   "cell_type": "markdown",
   "metadata": {
    "id": "aguo5LjvoeXp"
   },
   "source": [
    "- Define a function to calculate residual values by taking the actual and predicted values\n",
    "- The value of residuals is equal to the difference between the actual and  predicted values.  "
   ]
  },
  {
   "cell_type": "code",
   "execution_count": null,
   "metadata": {
    "id": "cQUh_OUPb3N5"
   },
   "outputs": [],
   "source": [
    "def calculate_residuals(model, features, label):\n",
    "    predictions =  model.predict(features)\n",
    "    df_results = pd.DataFrame({'Actual' : label, 'Predicted' : predictions})\n",
    "    df_results['Residuals'] = abs(df_results['Actual']) - abs(df_results['Predicted'])\n",
    "    return df_results"
   ]
  },
  {
   "cell_type": "markdown",
   "metadata": {
    "id": "WJ1Cwq1oo3bH"
   },
   "source": [
    "- Next, define a function to plot the actual and predicted values using __lmplot__.\n",
    "- The orange line will show the fitted line created by the linear regression model."
   ]
  },
  {
   "cell_type": "code",
   "execution_count": null,
   "metadata": {
    "id": "9MK9yWdfb3N5"
   },
   "outputs": [],
   "source": [
    "def linear_assumptions(model, features, label):\n",
    "    df_results = calculate_residuals(model, features, label)\n",
    "    \n",
    "    sns.lmplot(x='Actual', y='Predicted', data=df_results, fit_reg=False, size=7)\n",
    "    line_coords = np.arange(df_results.min().min(), df_results.max().max())\n",
    "    plt.plot(line_coords, line_coords, color='darkorange', linestyle='--')\n",
    "    plt.title('Actual vs. Predicted')\n",
    "    plt.show()"
   ]
  },
  {
   "cell_type": "markdown",
   "metadata": {
    "id": "81fWml2JpgsP"
   },
   "source": [
    "- Now, run the function __linear_assumptions__ to show the graph with the model as __boston_model__, features as __boston.data__, and label as __boston.taget__ variables as arguments."
   ]
  },
  {
   "cell_type": "code",
   "execution_count": null,
   "metadata": {
    "id": "kSJXWOmqb3N5",
    "outputId": "72063509-c60c-4193-922b-9e41ef31e7e2"
   },
   "outputs": [
    {
     "name": "stderr",
     "output_type": "stream",
     "text": [
      "/usr/local/lib/python3.7/site-packages/seaborn/regression.py:581: UserWarning: The `size` parameter has been renamed to `height`; please update your code.\n",
      "  warnings.warn(msg, UserWarning)\n"
     ]
    },
    {
     "data": {
      "image/png": "[encoded data removed]",
      "text/plain": [
       "<Figure size 504x504 with 1 Axes>"
      ]
     },
     "metadata": {
      "needs_background": "light"
     },
     "output_type": "display_data"
    }
   ],
   "source": [
    "linear_assumptions(boston_model, boston.data, boston.target)"
   ]
  },
  {
   "cell_type": "markdown",
   "metadata": {
    "id": "H1QeMWd_Sx8D"
   },
   "source": [
    "__Observation__:\n",
    "\n",
    "- We can observe that the line does not represent all the data points."
   ]
  },
  {
   "cell_type": "markdown",
   "metadata": {
    "id": "xJ64i1QvebOr"
   },
   "source": [
    "## Step 5: Check for Multicollinearity\n",
    "\n",
    "- Let's check the correlation between the variables in the data set.\n",
    "\n"
   ]
  },
  {
   "cell_type": "markdown",
   "metadata": {},
   "source": [
    "tutorial: https://seaborn.pydata.org/examples/many_pairwise_correlations.html"
   ]
  },
  {
   "cell_type": "code",
   "execution_count": 32,
   "metadata": {
    "collapsed": true,
    "id": "c_Hez1HTb3N6",
    "outputId": "8f819fda-b933-4d20-8932-df6ecd9d93e0"
   },
   "outputs": [
    {
     "data": {
      "text/plain": [
       "<Axes: >"
      ]
     },
     "execution_count": 32,
     "metadata": {},
     "output_type": "execute_result"
    },
    {
     "data": {
      "text/plain": [
       "<Figure size 1000x800 with 0 Axes>"
      ]
     },
     "metadata": {},
     "output_type": "display_data"
    },
    {
     "data": {
      "image/png": "[encoded data removed]",
      "text/plain": [
       "<Figure size 1100x900 with 2 Axes>"
      ]
     },
     "metadata": {},
     "output_type": "display_data"
    }
   ],
   "source": [
    "corr = df.corr()\n",
    "plt.figure(figsize=(10,8))\n",
    "# Generate a mask for the upper triangle\n",
    "mask = np.triu(np.ones_like(corr, dtype=bool))\n",
    "\n",
    "# Set up the matplotlib figure\n",
    "f, ax = plt.subplots(figsize=(11, 9))\n",
    "\n",
    "# Generate a custom diverging colormap\n",
    "#cmap = sns.diverging_palette(230, 20, as_cmap=True)\n",
    "\n",
    "# Draw the heatmap with the mask and correct aspect ratio\n",
    "sns.heatmap(corr, mask=mask, cmap='PuOr', vmax=.3, center=0,\n",
    "            square=True, linewidths=.5, cbar_kws={\"shrink\": .5}, annot=True)"
   ]
  },
  {
   "cell_type": "markdown",
   "metadata": {},
   "source": [
    "### VIF"
   ]
  },
  {
   "cell_type": "markdown",
   "metadata": {},
   "source": [
    "- The Variance Inflation Factor (VIF) is a measure used in regression analysis to assess the extent of multicollinearity among predictor variables within a model. \n",
    "- Multicollinearity occurs when two or more independent variables in a regression model are highly correlated, making it difficult to separate their individual effects on the dependent variable. \n",
    "- VIF quantifies how much the variance of an estimated regression coefficient is increased due to multicollinearity."
   ]
  },
  {
   "cell_type": "markdown",
   "metadata": {},
   "source": [
    "Here's how VIF is interpreted:\n",
    "\n",
    "- **VIF = 1:** No multicollinearity. The variance of the estimated regression coefficient is not inflated.\n",
    "- **VIF > 1:** Some degree of multicollinearity. The variance of the estimated coefficient is inflated by a factor proportional to the VIF.\n",
    "\n",
    "In practical terms:\n",
    "\n",
    "- A VIF of 1 indicates no correlation among predictors.\n",
    "- A VIF between 1 and 5 suggests moderate correlation, but it is generally considered acceptable.\n",
    "- A VIF above 5 indicates high correlation and potential multicollinearity issues.\n",
    "\n",
    "**How to Use VIF:**\n",
    "\n",
    "1. **Calculate VIF:**\n",
    "   - For each predictor variable in your regression model, calculate its VIF using the formula mentioned above.\n",
    "\n",
    "2. **Check VIF Values:**\n",
    "   - Examine the VIF values for each predictor. If any VIF is significantly high (usually above 5 or 10, depending on conventions), it suggests multicollinearity.\n",
    "\n",
    "3. **Address Multicollinearity:**\n",
    "   - If high VIF values are detected, consider taking corrective actions such as:\n",
    "     - Dropping one of the highly correlated variables.\n",
    "     - Combining or transforming variables.\n",
    "     - Using regularization techniques (e.g., Ridge Regression) that automatically handle multicollinearity.\n",
    "\n",
    "4. **Reassess Model:**\n",
    "   - After addressing multicollinearity, reevaluate your regression model. The goal is to have a model with low VIF values, indicating that the predictor variables provide unique information to the model.\n",
    "\n",
    "**Python Example using `statsmodels`:**\n",
    "\n",
    "```python\n",
    "import statsmodels.api as sm\n",
    "from statsmodels.stats.outliers_influence import variance_inflation_factor\n",
    "\n",
    "# Assuming X is your design matrix (features)\n",
    "vif_data = pd.DataFrame()\n",
    "vif_data[\"Variable\"] = X.columns\n",
    "vif_data[\"VIF\"] = [variance_inflation_factor(X.values, i) for i in range(X.shape[1])]\n",
    "\n",
    "print(vif_data)\n",
    "```\n",
    "\n",
    "In this example, `X` is your design matrix, and the VIF values for each predictor variable are calculated using the `variance_inflation_factor` function from `statsmodels`."
   ]
  },
  {
   "cell_type": "markdown",
   "metadata": {
    "id": "oVjEhxwjp9fQ"
   },
   "source": [
    "- Calculate the variance inflation factor (VIF) for each feature\n",
    "- Import the __variance_inflation_factor__ module from the __statsmodels.stats.outliers_influence__ library\n",
    "- Set the features as the DataFrame, except the target variable\n",
    "- Assign the __vif_data__ to the feature columns"
   ]
  },
  {
   "cell_type": "code",
   "execution_count": 41,
   "metadata": {
    "id": "b7CHlcPYb3N6",
    "outputId": "643807fe-e355-4015-c028-84cfc515d0fb"
   },
   "outputs": [
    {
     "name": "stdout",
     "output_type": "stream",
     "text": [
      "   Features        vif\n",
      "0      CRIM   2.100373\n",
      "1        ZN   2.844013\n",
      "2     INDUS  14.485758\n",
      "3      CHAS   1.152952\n",
      "4       NOX  73.894947\n",
      "5        RM  77.948283\n",
      "6       AGE  21.386850\n",
      "7       DIS  14.699652\n",
      "8       RAD  15.167725\n",
      "9       TAX  61.227274\n",
      "10  PTRATIO  85.029547\n",
      "11        B  20.104943\n",
      "12    LSTAT  11.102025\n"
     ]
    }
   ],
   "source": [
    "from statsmodels.stats.outliers_influence import variance_inflation_factor\n",
    "x = df.drop(['MEDV'], axis =1 )\n",
    "vif_data = pd.DataFrame()\n",
    "vif_data['Features'] = x.columns\n",
    "\n",
    "vif_data['vif'] = [variance_inflation_factor(x.values, i) for i in range(len(x.columns))]\n",
    "print(vif_data)"
   ]
  },
  {
   "cell_type": "markdown",
   "metadata": {
    "id": "hL40hTUwTCBW"
   },
   "source": [
    "__Observation__:\n",
    "- From the above output, we can infer that the columns **NOX, RM, AGE,** and **PTRATIO** have higher multicollinearity. Hence, we can drop them. "
   ]
  },
  {
   "cell_type": "markdown",
   "metadata": {
    "id": "L1vuRpFCefRs"
   },
   "source": [
    "## Step 6: Remove Multicollinear Features and Split the Data set\n",
    "\n",
    "- Remove highly multicollinear features from the data set\n"
   ]
  },
  {
   "cell_type": "code",
   "execution_count": 42,
   "metadata": {},
   "outputs": [
    {
     "data": {
      "text/plain": [
       "Index(['CRIM', 'ZN', 'INDUS', 'CHAS', 'NOX', 'RM', 'AGE', 'DIS', 'RAD', 'TAX',\n",
       "       'PTRATIO', 'B', 'LSTAT', 'MEDV'],\n",
       "      dtype='object')"
      ]
     },
     "execution_count": 42,
     "metadata": {},
     "output_type": "execute_result"
    }
   ],
   "source": [
    "df.columns = df.columns.str.replace(' ', '')\n",
    "df.columns"
   ]
  },
  {
   "cell_type": "code",
   "execution_count": 47,
   "metadata": {
    "id": "qvyyBRtQb3N6"
   },
   "outputs": [],
   "source": [
    "#df1 = df.drop(['NOX', 'RM', 'AGE', 'PTRATIO'], axis = 1)\n",
    "df1 = df.drop(['NOX', 'RM'], axis = 1)"
   ]
  },
  {
   "cell_type": "markdown",
   "metadata": {
    "id": "Ph0xpq82qc-Q"
   },
   "source": [
    "- Now, set the feature and target variables."
   ]
  },
  {
   "cell_type": "code",
   "execution_count": 48,
   "metadata": {
    "id": "ehssSh0qb3N6"
   },
   "outputs": [],
   "source": [
    "x = df1.drop(['MEDV'], axis =1)\n",
    "y = df1['MEDV']"
   ]
  },
  {
   "cell_type": "markdown",
   "metadata": {
    "id": "qT81ot6jqiew"
   },
   "source": [
    "- Next, split the data into train and test sets."
   ]
  },
  {
   "cell_type": "code",
   "execution_count": 49,
   "metadata": {
    "id": "Z3U5AxGSb3N7"
   },
   "outputs": [],
   "source": [
    "from sklearn.model_selection import train_test_split\n",
    "X_train, X_test, y_train, y_test  = train_test_split(x, y, random_state=0, test_size=0.25)"
   ]
  },
  {
   "cell_type": "markdown",
   "metadata": {
    "id": "3UBAT-l1e19z"
   },
   "source": [
    "\n",
    "## Step 7: Fit the Model and Evaluate Performance\n",
    "\n",
    "- Fit the model using OLS and display the summary.\n"
   ]
  },
  {
   "cell_type": "code",
   "execution_count": 50,
   "metadata": {
    "collapsed": true,
    "id": "tz7MY5keb3N7",
    "outputId": "6eda9551-7764-448d-aeff-bad4ef5b0d17"
   },
   "outputs": [
    {
     "data": {
      "text/html": [
       "<table class=\"simpletable\">\n",
       "<caption>OLS Regression Results</caption>\n",
       "<tr>\n",
       "  <th>Dep. Variable:</th>          <td>MEDV</td>       <th>  R-squared:         </th> <td>   0.718</td>\n",
       "</tr>\n",
       "<tr>\n",
       "  <th>Model:</th>                   <td>OLS</td>       <th>  Adj. R-squared:    </th> <td>   0.709</td>\n",
       "</tr>\n",
       "<tr>\n",
       "  <th>Method:</th>             <td>Least Squares</td>  <th>  F-statistic:       </th> <td>   84.80</td>\n",
       "</tr>\n",
       "<tr>\n",
       "  <th>Date:</th>             <td>Thu, 18 Jan 2024</td> <th>  Prob (F-statistic):</th> <td>1.19e-93</td>\n",
       "</tr>\n",
       "<tr>\n",
       "  <th>Time:</th>                 <td>21:04:03</td>     <th>  Log-Likelihood:    </th> <td> -1140.7</td>\n",
       "</tr>\n",
       "<tr>\n",
       "  <th>No. Observations:</th>      <td>   379</td>      <th>  AIC:               </th> <td>   2305.</td>\n",
       "</tr>\n",
       "<tr>\n",
       "  <th>Df Residuals:</th>          <td>   367</td>      <th>  BIC:               </th> <td>   2353.</td>\n",
       "</tr>\n",
       "<tr>\n",
       "  <th>Df Model:</th>              <td>    11</td>      <th>                     </th>     <td> </td>   \n",
       "</tr>\n",
       "<tr>\n",
       "  <th>Covariance Type:</th>      <td>nonrobust</td>    <th>                     </th>     <td> </td>   \n",
       "</tr>\n",
       "</table>\n",
       "<table class=\"simpletable\">\n",
       "<tr>\n",
       "     <td></td>        <th>coef</th>     <th>std err</th>      <th>t</th>      <th>P>|t|</th>  <th>[0.025</th>    <th>0.975]</th>  \n",
       "</tr>\n",
       "<tr>\n",
       "  <th>const</th>   <td>   57.4828</td> <td>    3.114</td> <td>   18.458</td> <td> 0.000</td> <td>   51.359</td> <td>   63.607</td>\n",
       "</tr>\n",
       "<tr>\n",
       "  <th>CRIM</th>    <td>   -0.1016</td> <td>    0.041</td> <td>   -2.459</td> <td> 0.014</td> <td>   -0.183</td> <td>   -0.020</td>\n",
       "</tr>\n",
       "<tr>\n",
       "  <th>ZN</th>      <td>    0.0705</td> <td>    0.016</td> <td>    4.340</td> <td> 0.000</td> <td>    0.039</td> <td>    0.102</td>\n",
       "</tr>\n",
       "<tr>\n",
       "  <th>INDUS</th>   <td>   -0.1325</td> <td>    0.071</td> <td>   -1.875</td> <td> 0.062</td> <td>   -0.271</td> <td>    0.006</td>\n",
       "</tr>\n",
       "<tr>\n",
       "  <th>CHAS</th>    <td>    2.7220</td> <td>    1.061</td> <td>    2.564</td> <td> 0.011</td> <td>    0.635</td> <td>    4.809</td>\n",
       "</tr>\n",
       "<tr>\n",
       "  <th>AGE</th>     <td>   -0.0029</td> <td>    0.016</td> <td>   -0.188</td> <td> 0.851</td> <td>   -0.033</td> <td>    0.028</td>\n",
       "</tr>\n",
       "<tr>\n",
       "  <th>DIS</th>     <td>   -1.4993</td> <td>    0.237</td> <td>   -6.334</td> <td> 0.000</td> <td>   -1.965</td> <td>   -1.034</td>\n",
       "</tr>\n",
       "<tr>\n",
       "  <th>RAD</th>     <td>    0.2690</td> <td>    0.078</td> <td>    3.451</td> <td> 0.001</td> <td>    0.116</td> <td>    0.422</td>\n",
       "</tr>\n",
       "<tr>\n",
       "  <th>TAX</th>     <td>   -0.0147</td> <td>    0.004</td> <td>   -3.283</td> <td> 0.001</td> <td>   -0.023</td> <td>   -0.006</td>\n",
       "</tr>\n",
       "<tr>\n",
       "  <th>PTRATIO</th> <td>   -0.9444</td> <td>    0.150</td> <td>   -6.302</td> <td> 0.000</td> <td>   -1.239</td> <td>   -0.650</td>\n",
       "</tr>\n",
       "<tr>\n",
       "  <th>B</th>       <td>    0.0065</td> <td>    0.003</td> <td>    1.962</td> <td> 0.051</td> <td>-1.57e-05</td> <td>    0.013</td>\n",
       "</tr>\n",
       "<tr>\n",
       "  <th>LSTAT</th>   <td>   -0.7731</td> <td>    0.053</td> <td>  -14.542</td> <td> 0.000</td> <td>   -0.878</td> <td>   -0.669</td>\n",
       "</tr>\n",
       "</table>\n",
       "<table class=\"simpletable\">\n",
       "<tr>\n",
       "  <th>Omnibus:</th>       <td>87.511</td> <th>  Durbin-Watson:     </th> <td>   2.032</td>\n",
       "</tr>\n",
       "<tr>\n",
       "  <th>Prob(Omnibus):</th> <td> 0.000</td> <th>  Jarque-Bera (JB):  </th> <td> 189.778</td>\n",
       "</tr>\n",
       "<tr>\n",
       "  <th>Skew:</th>          <td> 1.184</td> <th>  Prob(JB):          </th> <td>6.17e-42</td>\n",
       "</tr>\n",
       "<tr>\n",
       "  <th>Kurtosis:</th>      <td> 5.531</td> <th>  Cond. No.          </th> <td>6.79e+03</td>\n",
       "</tr>\n",
       "</table><br/><br/>Notes:<br/>[1] Standard Errors assume that the covariance matrix of the errors is correctly specified.<br/>[2] The condition number is large, 6.79e+03. This might indicate that there are<br/>strong multicollinearity or other numerical problems."
      ],
      "text/latex": [
       "\\begin{center}\n",
       "\\begin{tabular}{lclc}\n",
       "\\toprule\n",
       "\\textbf{Dep. Variable:}    &       MEDV       & \\textbf{  R-squared:         } &     0.718   \\\\\n",
       "\\textbf{Model:}            &       OLS        & \\textbf{  Adj. R-squared:    } &     0.709   \\\\\n",
       "\\textbf{Method:}           &  Least Squares   & \\textbf{  F-statistic:       } &     84.80   \\\\\n",
       "\\textbf{Date:}             & Thu, 18 Jan 2024 & \\textbf{  Prob (F-statistic):} &  1.19e-93   \\\\\n",
       "\\textbf{Time:}             &     21:04:03     & \\textbf{  Log-Likelihood:    } &   -1140.7   \\\\\n",
       "\\textbf{No. Observations:} &         379      & \\textbf{  AIC:               } &     2305.   \\\\\n",
       "\\textbf{Df Residuals:}     &         367      & \\textbf{  BIC:               } &     2353.   \\\\\n",
       "\\textbf{Df Model:}         &          11      & \\textbf{                     } &             \\\\\n",
       "\\textbf{Covariance Type:}  &    nonrobust     & \\textbf{                     } &             \\\\\n",
       "\\bottomrule\n",
       "\\end{tabular}\n",
       "\\begin{tabular}{lcccccc}\n",
       "                 & \\textbf{coef} & \\textbf{std err} & \\textbf{t} & \\textbf{P$> |$t$|$} & \\textbf{[0.025} & \\textbf{0.975]}  \\\\\n",
       "\\midrule\n",
       "\\textbf{const}   &      57.4828  &        3.114     &    18.458  &         0.000        &       51.359    &       63.607     \\\\\n",
       "\\textbf{CRIM}    &      -0.1016  &        0.041     &    -2.459  &         0.014        &       -0.183    &       -0.020     \\\\\n",
       "\\textbf{ZN}      &       0.0705  &        0.016     &     4.340  &         0.000        &        0.039    &        0.102     \\\\\n",
       "\\textbf{INDUS}   &      -0.1325  &        0.071     &    -1.875  &         0.062        &       -0.271    &        0.006     \\\\\n",
       "\\textbf{CHAS}    &       2.7220  &        1.061     &     2.564  &         0.011        &        0.635    &        4.809     \\\\\n",
       "\\textbf{AGE}     &      -0.0029  &        0.016     &    -0.188  &         0.851        &       -0.033    &        0.028     \\\\\n",
       "\\textbf{DIS}     &      -1.4993  &        0.237     &    -6.334  &         0.000        &       -1.965    &       -1.034     \\\\\n",
       "\\textbf{RAD}     &       0.2690  &        0.078     &     3.451  &         0.001        &        0.116    &        0.422     \\\\\n",
       "\\textbf{TAX}     &      -0.0147  &        0.004     &    -3.283  &         0.001        &       -0.023    &       -0.006     \\\\\n",
       "\\textbf{PTRATIO} &      -0.9444  &        0.150     &    -6.302  &         0.000        &       -1.239    &       -0.650     \\\\\n",
       "\\textbf{B}       &       0.0065  &        0.003     &     1.962  &         0.051        &    -1.57e-05    &        0.013     \\\\\n",
       "\\textbf{LSTAT}   &      -0.7731  &        0.053     &   -14.542  &         0.000        &       -0.878    &       -0.669     \\\\\n",
       "\\bottomrule\n",
       "\\end{tabular}\n",
       "\\begin{tabular}{lclc}\n",
       "\\textbf{Omnibus:}       & 87.511 & \\textbf{  Durbin-Watson:     } &    2.032  \\\\\n",
       "\\textbf{Prob(Omnibus):} &  0.000 & \\textbf{  Jarque-Bera (JB):  } &  189.778  \\\\\n",
       "\\textbf{Skew:}          &  1.184 & \\textbf{  Prob(JB):          } & 6.17e-42  \\\\\n",
       "\\textbf{Kurtosis:}      &  5.531 & \\textbf{  Cond. No.          } & 6.79e+03  \\\\\n",
       "\\bottomrule\n",
       "\\end{tabular}\n",
       "%\\caption{OLS Regression Results}\n",
       "\\end{center}\n",
       "\n",
       "Notes: \\newline\n",
       " [1] Standard Errors assume that the covariance matrix of the errors is correctly specified. \\newline\n",
       " [2] The condition number is large, 6.79e+03. This might indicate that there are \\newline\n",
       " strong multicollinearity or other numerical problems."
      ],
      "text/plain": [
       "<class 'statsmodels.iolib.summary.Summary'>\n",
       "\"\"\"\n",
       "                            OLS Regression Results                            \n",
       "==============================================================================\n",
       "Dep. Variable:                   MEDV   R-squared:                       0.718\n",
       "Model:                            OLS   Adj. R-squared:                  0.709\n",
       "Method:                 Least Squares   F-statistic:                     84.80\n",
       "Date:                Thu, 18 Jan 2024   Prob (F-statistic):           1.19e-93\n",
       "Time:                        21:04:03   Log-Likelihood:                -1140.7\n",
       "No. Observations:                 379   AIC:                             2305.\n",
       "Df Residuals:                     367   BIC:                             2353.\n",
       "Df Model:                          11                                         \n",
       "Covariance Type:            nonrobust                                         \n",
       "==============================================================================\n",
       "                 coef    std err          t      P>|t|      [0.025      0.975]\n",
       "------------------------------------------------------------------------------\n",
       "const         57.4828      3.114     18.458      0.000      51.359      63.607\n",
       "CRIM          -0.1016      0.041     -2.459      0.014      -0.183      -0.020\n",
       "ZN             0.0705      0.016      4.340      0.000       0.039       0.102\n",
       "INDUS         -0.1325      0.071     -1.875      0.062      -0.271       0.006\n",
       "CHAS           2.7220      1.061      2.564      0.011       0.635       4.809\n",
       "AGE           -0.0029      0.016     -0.188      0.851      -0.033       0.028\n",
       "DIS           -1.4993      0.237     -6.334      0.000      -1.965      -1.034\n",
       "RAD            0.2690      0.078      3.451      0.001       0.116       0.422\n",
       "TAX           -0.0147      0.004     -3.283      0.001      -0.023      -0.006\n",
       "PTRATIO       -0.9444      0.150     -6.302      0.000      -1.239      -0.650\n",
       "B              0.0065      0.003      1.962      0.051   -1.57e-05       0.013\n",
       "LSTAT         -0.7731      0.053    -14.542      0.000      -0.878      -0.669\n",
       "==============================================================================\n",
       "Omnibus:                       87.511   Durbin-Watson:                   2.032\n",
       "Prob(Omnibus):                  0.000   Jarque-Bera (JB):              189.778\n",
       "Skew:                           1.184   Prob(JB):                     6.17e-42\n",
       "Kurtosis:                       5.531   Cond. No.                     6.79e+03\n",
       "==============================================================================\n",
       "\n",
       "Notes:\n",
       "[1] Standard Errors assume that the covariance matrix of the errors is correctly specified.\n",
       "[2] The condition number is large, 6.79e+03. This might indicate that there are\n",
       "strong multicollinearity or other numerical problems.\n",
       "\"\"\""
      ]
     },
     "execution_count": 50,
     "metadata": {},
     "output_type": "execute_result"
    }
   ],
   "source": [
    "X_train_constant = sm.add_constant(X_train)\n",
    "model = sm.OLS(y_train, X_train_constant).fit()\n",
    "model.summary()"
   ]
  },
  {
   "cell_type": "markdown",
   "metadata": {},
   "source": [
    "- You're basically reducing the ability to predict better to trade off soe coeficients\n",
    "- because with a  high score and multicollinearity it's hard to derive coefficients"
   ]
  },
  {
   "cell_type": "code",
   "execution_count": null,
   "metadata": {
    "id": "z_oMwiNrq6wj"
   },
   "outputs": [],
   "source": [
    "from sklearn.metrics import mean_absolute_error, mean_squared_error, r2_score\n",
    "from sklearn import linear_model"
   ]
  },
  {
   "cell_type": "markdown",
   "metadata": {
    "id": "RRE4WtfLrR1I"
   },
   "source": [
    "- Now, fit the model using linear regression.\n"
   ]
  },
  {
   "cell_type": "code",
   "execution_count": null,
   "metadata": {
    "id": "LP9yZhRkb3N7"
   },
   "outputs": [],
   "source": [
    "reg = linear_model.LinearRegression()\n",
    "reg.fit(X_train, y_train)\n",
    "y_pred_train = reg.predict(X_train)\n",
    "y_pred_test = reg.predict(X_test)"
   ]
  },
  {
   "cell_type": "markdown",
   "metadata": {
    "id": "e6-F069arUDW"
   },
   "source": [
    "- Evaluate the model using various metrics such as the **r2_score, mean_absolute_error, and mean_squared_error**"
   ]
  },
  {
   "cell_type": "code",
   "execution_count": null,
   "metadata": {
    "id": "2k4xmEqeb3N8",
    "outputId": "65b17121-b20e-46ff-a536-25bdce70dc08"
   },
   "outputs": [
    {
     "name": "stdout",
     "output_type": "stream",
     "text": [
      "R Square: 0.6857716700262139\n",
      "MAE: 3.766238016784234\n",
      "MSE: 26.676235416618063\n"
     ]
    }
   ],
   "source": [
    "print(\"R Square: {}\".format(r2_score(y_train, y_pred_train)))\n",
    "print(\"MAE: {}\".format(mean_absolute_error(y_train, y_pred_train)))\n",
    "print(\"MSE: {}\".format(mean_squared_error(y_train, y_pred_train)))"
   ]
  },
  {
   "cell_type": "markdown",
   "metadata": {
    "id": "VhZgiVzgTc9b"
   },
   "source": [
    "__Observation__:\n",
    "\n",
    "- From the above output, we can observe that the model is a moderate fit for the given data."
   ]
  },
  {
   "cell_type": "code",
   "execution_count": null,
   "metadata": {
    "id": "SiYT-wChb3N8",
    "outputId": "8509410f-2c52-41ef-ca2a-afbb17152c60"
   },
   "outputs": [
    {
     "name": "stdout",
     "output_type": "stream",
     "text": [
      "R Square: 0.5257075212801087\n",
      "MAE: 4.179321963752527\n",
      "MSE: 38.58065185545448\n"
     ]
    }
   ],
   "source": [
    "print(\"R Square: {}\".format(r2_score(y_test, y_pred_test)))\n",
    "print(\"MAE: {}\".format(mean_absolute_error(y_test, y_pred_test)))\n",
    "print(\"MSE: {}\".format(mean_squared_error(y_test, y_pred_test)))"
   ]
  },
  {
   "cell_type": "markdown",
   "metadata": {
    "id": "8AxD0wfGUFPi"
   },
   "source": [
    "__Observation__:\n",
    "\n",
    "- The model moderately explains the testing data, as indicated by the **R** **Square** value. "
   ]
  },
  {
   "cell_type": "code",
   "execution_count": null,
   "metadata": {},
   "outputs": [],
   "source": [
    "##"
   ]
  },
  {
   "cell_type": "code",
   "execution_count": null,
   "metadata": {},
   "outputs": [],
   "source": [
    "import pandas as pd\n",
    "from sklearn.datasets import load_boston  # Example dataset from sklearn\n",
    "from sklearn.model_selection import GridSearchCV, train_test_split\n",
    "from sklearn.linear_model import LinearRegression, Ridge, Lasso\n",
    "from sklearn.svm import SVR  # Add SVM for regression\n",
    "from sklearn.linear_model import SGDRegressor  # Add SGD for regression\n",
    "from sklearn.metrics import mean_squared_error\n",
    "\n",
    "# ... (rest of the code as before)\n",
    "\n",
    "# 3. Define models and hyperparameter grids (updated)\n",
    "models = [\n",
    "    {\"name\": \"LinearRegression\", \"model\": LinearRegression()},\n",
    "    {\"name\": \"Ridge\", \"model\": Ridge(), \"params\": {\"alpha\": [0.1, 1, 10, 100]}},\n",
    "    {\"name\": \"Lasso\", \"model\": Lasso(), \"params\": {\"alpha\": [0.01, 0.1, 1]}},\n",
    "    {\"name\": \"SVR\", \"model\": SVR(), \"params\": {\"C\": [0.1, 1, 10], \"kernel\": [\"linear\", \"rbf\"]}},  # Add SVM\n",
    "    {\"name\": \"SGDRegressor\", \"model\": SGDRegressor(), \"params\": {\"alpha\": [0.001, 0.01, 0.1]}},  # Add SGD\n",
    "]\n",
    "\n",
    "# ... (rest of the code as before)\n"
   ]
  },
  {
   "cell_type": "markdown",
   "metadata": {},
   "source": [
    "Key changes:\n",
    "\n",
    "SVM inclusion: The SVR model from sklearn.svm is added to the list of models.\n",
    "SVM hyperparameters: The hyperparameter grid for SVM includes C (regularization parameter) and kernel (type of kernel function).\n",
    "SGD inclusion: The SGDRegressor model from sklearn.linear_model is added to the list of models.\n",
    "SGD hyperparameter: The hyperparameter grid for SGD includes alpha (learning rate).\n",
    "Remember:\n",
    "\n",
    "SVMs can be computationally expensive for large datasets, so consider their complexity when choosing models.\n",
    "SGD can be efficient for large datasets, but it's sensitive to hyperparameter tuning and feature scaling.\n",
    "Experiment with different hyperparameter combinations to find the best settings for each model.\n",
    "Evaluate model performance using appropriate metrics to select the most suitable model for your problem."
   ]
  }
 ],
 "metadata": {
  "colab": {
   "provenance": []
  },
  "kernelspec": {
   "display_name": "Python 3 (ipykernel)",
   "language": "python",
   "name": "python3"
  },
  "language_info": {
   "codemirror_mode": {
    "name": "ipython",
    "version": 3
   },
   "file_extension": ".py",
   "mimetype": "text/x-python",
   "name": "python",
   "nbconvert_exporter": "python",
   "pygments_lexer": "ipython3",
   "version": "3.11.3"
  }
 },
 "nbformat": 4,
 "nbformat_minor": 1
}
