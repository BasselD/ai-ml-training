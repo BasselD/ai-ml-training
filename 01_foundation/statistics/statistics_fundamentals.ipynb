{
 "cells": [
  {
   "cell_type": "markdown",
   "metadata": {},
   "source": [
    "# Statistics Fundamentals"
   ]
  },
  {
   "cell_type": "markdown",
   "metadata": {},
   "source": [
    "We'll cover:\n",
    "- Intro:\n",
    "    - Definition\n",
    "    - Importance of Statistics for Data Science\n",
    "    - Common Terms Used in Statistics\n",
    "    - Statistics Types\n",
    "- Types of Data\n",
    "- Statistical Measures:\n",
    "    - Univariate Analysis\n",
    "        - Measures of Central Tendency\n",
    "        - Measures of Dispersion\n",
    "        - Measures of Shape\n",
    "    - Multivariate Analysis\n",
    "        - Covariance and Correlation"
   ]
  },
  {
   "cell_type": "code",
   "execution_count": 37,
   "metadata": {},
   "outputs": [],
   "source": [
    "import pandas as pd\n",
    "import numpy as np"
   ]
  },
  {
   "cell_type": "markdown",
   "metadata": {},
   "source": [
    "## Intro\n",
    "### What is Statistics?\n",
    "- A part of mathematics that involves the collection, analysis, interpretation, presentation, and organization of data.\n",
    "- It's a discipline that deals with collection, description, analysis, and inference of conclusions from quantitative data and qualitative (notes: there are techniques to perform stats on categorical data - e.g. chi square test)\n",
    "- Along with the output that statistical analysis provides, we can also get confidence intervals that helps understand how certain we are about a conclusion."
   ]
  },
  {
   "cell_type": "markdown",
   "metadata": {},
   "source": [
    "### Importance of Statistics\n",
    "- The first step in every DS project is to explore and interpret the data\n",
    "- Statistics helps us extract impactful findings and define an object"
   ]
  },
  {
   "cell_type": "markdown",
   "metadata": {},
   "source": [
    "### Common Terms Used in Statistics\n",
    "- **Population and Sample:** \n",
    "    - A **population** is the complete pool from which the sample is drawn for further analysis. \n",
    "    - A **sample** is a subset of the **population**\n",
    "    - We cannot perform analysis on the full population. It's costly and time consuming. e.g. studying the rate of obesity in the US. It's nearly impossible to record data for every US Citizen (330 M people) Instead, we can use a subset from each state.\n",
    "    - Therefore, it's essential to have a good sample at hand. The sample should be **good representative** of the population.\n",
    "- **Measurement:** it's a number or attribute calculated or measured for each member of the sample.e.g. Weight, Blood Pressure, Vehicle Speed, etc..\n",
    "- **Parameter** it's a characteristic of the population. e.g. population mean\n",
    "- **Statistic** it's a characteristic of the sample. e.g. sample mean\n",
    "- **Distribution** it refers to how the sample data is spread across a range of values \n"
   ]
  },
  {
   "cell_type": "code",
   "execution_count": 38,
   "metadata": {},
   "outputs": [
    {
     "data": {
      "application/vnd.microsoft.datawrangler.viewer.v0+json": {
       "columns": [
        {
         "name": "index",
         "rawType": "int64",
         "type": "integer"
        },
        {
         "name": "name",
         "rawType": "object",
         "type": "string"
        },
        {
         "name": "age",
         "rawType": "int64",
         "type": "integer"
        },
        {
         "name": "score",
         "rawType": "int64",
         "type": "integer"
        },
        {
         "name": "city",
         "rawType": "object",
         "type": "string"
        }
       ],
       "conversionMethod": "pd.DataFrame",
       "ref": "41b576d2-0d79-4fa3-b3a7-883af5275b65",
       "rows": [
        [
         "0",
         "John",
         "45",
         "99",
         "Atlanta"
        ],
        [
         "1",
         "Becky",
         "32",
         "87",
         "Chicago"
        ],
        [
         "2",
         "Tammy",
         "27",
         "92",
         "Los Angeles"
        ],
        [
         "3",
         "Chad",
         "36",
         "80",
         "Chicago"
        ],
        [
         "4",
         "Mark",
         "32",
         "84",
         "Atlanta"
        ],
        [
         "5",
         "Nancy",
         "30",
         "75",
         "Atlanta"
        ]
       ],
       "shape": {
        "columns": 4,
        "rows": 6
       }
      },
      "text/html": [
       "<div>\n",
       "<style scoped>\n",
       "    .dataframe tbody tr th:only-of-type {\n",
       "        vertical-align: middle;\n",
       "    }\n",
       "\n",
       "    .dataframe tbody tr th {\n",
       "        vertical-align: top;\n",
       "    }\n",
       "\n",
       "    .dataframe thead th {\n",
       "        text-align: right;\n",
       "    }\n",
       "</style>\n",
       "<table border=\"1\" class=\"dataframe\">\n",
       "  <thead>\n",
       "    <tr style=\"text-align: right;\">\n",
       "      <th></th>\n",
       "      <th>name</th>\n",
       "      <th>age</th>\n",
       "      <th>score</th>\n",
       "      <th>city</th>\n",
       "    </tr>\n",
       "  </thead>\n",
       "  <tbody>\n",
       "    <tr>\n",
       "      <th>0</th>\n",
       "      <td>John</td>\n",
       "      <td>45</td>\n",
       "      <td>99</td>\n",
       "      <td>Atlanta</td>\n",
       "    </tr>\n",
       "    <tr>\n",
       "      <th>1</th>\n",
       "      <td>Becky</td>\n",
       "      <td>32</td>\n",
       "      <td>87</td>\n",
       "      <td>Chicago</td>\n",
       "    </tr>\n",
       "    <tr>\n",
       "      <th>2</th>\n",
       "      <td>Tammy</td>\n",
       "      <td>27</td>\n",
       "      <td>92</td>\n",
       "      <td>Los Angeles</td>\n",
       "    </tr>\n",
       "    <tr>\n",
       "      <th>3</th>\n",
       "      <td>Chad</td>\n",
       "      <td>36</td>\n",
       "      <td>80</td>\n",
       "      <td>Chicago</td>\n",
       "    </tr>\n",
       "    <tr>\n",
       "      <th>4</th>\n",
       "      <td>Mark</td>\n",
       "      <td>32</td>\n",
       "      <td>84</td>\n",
       "      <td>Atlanta</td>\n",
       "    </tr>\n",
       "    <tr>\n",
       "      <th>5</th>\n",
       "      <td>Nancy</td>\n",
       "      <td>30</td>\n",
       "      <td>75</td>\n",
       "      <td>Atlanta</td>\n",
       "    </tr>\n",
       "  </tbody>\n",
       "</table>\n",
       "</div>"
      ],
      "text/plain": [
       "    name  age  score         city\n",
       "0   John   45     99      Atlanta\n",
       "1  Becky   32     87      Chicago\n",
       "2  Tammy   27     92  Los Angeles\n",
       "3   Chad   36     80      Chicago\n",
       "4   Mark   32     84      Atlanta\n",
       "5  Nancy   30     75      Atlanta"
      ]
     },
     "execution_count": 38,
     "metadata": {},
     "output_type": "execute_result"
    }
   ],
   "source": [
    "data = {\n",
    "    #'key':'value'\n",
    "    'name':['John', 'Becky','Tammy', 'Chad', 'Mark', 'Nancy'],\n",
    "    'age':[45,32,27,36, 32, 30],\n",
    "    'score':[99,87,92,80, 84, 75],\n",
    "    'city':['Atlanta','Chicago','Los Angeles', 'Chicago', 'Atlanta', 'Atlanta']\n",
    "}\n",
    "\n",
    "df = pd.DataFrame(data)\n",
    "df"
   ]
  },
  {
   "cell_type": "markdown",
   "metadata": {},
   "source": [
    "- df is a sample from all the students of school (population)\n",
    "- row 0, for example, is a record or a member of the sample"
   ]
  },
  {
   "cell_type": "markdown",
   "metadata": {},
   "source": [
    "### Sampling Techniques:\n",
    "- Random Sampling: every member of the population has an equal chance of being selected\n",
    "- Stratified Sampling: Divide the population into subgroups (strata) and sample from each subgroup (stratum)\n",
    "- Snowball Sampling: For example, using a survey recruit initial participants to respond, who can also recruit others"
   ]
  },
  {
   "cell_type": "markdown",
   "metadata": {},
   "source": [
    "## Types of Statistics\n",
    "\n",
    "![link text](https://labcontent.simplicdn.net/data-content/content-assets/Data_and_AI/ADSP_Images/Lesson_06_Maths_and_Stats/Statistics_Fundamentals/Image_1.png)"
   ]
  },
  {
   "cell_type": "markdown",
   "metadata": {},
   "source": [
    "\n",
    "- **Descriptive** it involves displaying, analyzing, and describing the data e.g. average BMI, max HP for a car, lowest school grade, etc.. \n",
    "- **Inferential** it involves building conclusions (inferences) about the population based on the sample. e.g. increase of blood pressure is causing a heart attack. In other words, hypothesize if the trend or behavior of a sample is true for population\n",
    "- **Predictive** it involves extracting information from the data and using it to predict trends, behavior, patterns, or relationships between attributes. e.g. predicting the cost of goods when inflation is high or predicting the demand os pare parts when we observe a rise in car sales\n",
    "\n",
    "- descriptive tells you \"what is,\" inferential tells you \"what likely is\" based on a sample, and predictive tells you \"what might be\" in the future."
   ]
  },
  {
   "cell_type": "markdown",
   "metadata": {},
   "source": [
    "## Types of Data\n",
    "\n",
    "- Categorical Data:  It represents characteristics, such as gender, blood type, country, marital status, car model, age group, etc...\n",
    "\n",
    "- Numerical(Numeric) Data: It represents the data as a measurement, such as height, age, weight, blood pressure, sales"
   ]
  },
  {
   "cell_type": "markdown",
   "metadata": {},
   "source": [
    "### Is date considered categorical or numerical?\n",
    "- It depends on the context of the date element\n",
    "- If we extract seconds from a date-timestamp -> numeric\n",
    "- Date by default can be considered categorical if we're using it group the data by month, year, week, etc...\n",
    "- It's a packaged data element where you can extract both numerical and categorical data"
   ]
  },
  {
   "cell_type": "markdown",
   "metadata": {},
   "source": [
    "## Statistical Measures"
   ]
  },
  {
   "cell_type": "markdown",
   "metadata": {},
   "source": [
    "### Measures of Central Tendency\n",
    "- A measure of central tendency is a summary that describes the central position of the dataseet. \n",
    "- Keep in mind, if the data is skewed, those measures do not represent the exact center on the x-axis.\n",
    "- They are also called the 3Ms: Mean, Median, and Mode"
   ]
  },
  {
   "cell_type": "markdown",
   "metadata": {},
   "source": [
    "#### Mean\n",
    "- The most popular statistical measure \n",
    "- mean = total of all data points divided by the count of the data points"
   ]
  },
  {
   "cell_type": "code",
   "execution_count": 39,
   "metadata": {},
   "outputs": [
    {
     "data": {
      "text/plain": [
       "33.666666666666664"
      ]
     },
     "execution_count": 39,
     "metadata": {},
     "output_type": "execute_result"
    }
   ],
   "source": [
    "# using pandas \n",
    "df['age'].mean(skipna=True) #use skip na to avoid counting for nulls"
   ]
  },
  {
   "cell_type": "code",
   "execution_count": 40,
   "metadata": {},
   "outputs": [
    {
     "data": {
      "text/plain": [
       "33.666666666666664"
      ]
     },
     "execution_count": 40,
     "metadata": {},
     "output_type": "execute_result"
    }
   ],
   "source": [
    "#using numpy\n",
    "np.mean(df['age'])"
   ]
  },
  {
   "cell_type": "code",
   "execution_count": 41,
   "metadata": {},
   "outputs": [
    {
     "data": {
      "text/plain": [
       "33.666666666666664"
      ]
     },
     "execution_count": 41,
     "metadata": {},
     "output_type": "execute_result"
    }
   ],
   "source": [
    "#using statistics\n",
    "\n",
    "import statistics as stat\n",
    "\n",
    "stat.mean(df['age'])"
   ]
  },
  {
   "cell_type": "markdown",
   "metadata": {},
   "source": [
    "> Using NumPy or Pandas is the recommended way for best performance."
   ]
  },
  {
   "cell_type": "markdown",
   "metadata": {},
   "source": [
    "#### Median"
   ]
  },
  {
   "cell_type": "markdown",
   "metadata": {},
   "source": [
    "- The middle number obtained after arranging the data in ascending or descending order\n",
    "- For an odd number of items in the list, it's straightforward to select the number in the middle\n",
    "- For an even number of items in the list, you need to take the average of the 2 numbers in the middle. For example, for array `[4, 5, 6, 7, 8, 9, 10, 11]` we take the average of 7 and 8."
   ]
  },
  {
   "cell_type": "code",
   "execution_count": 42,
   "metadata": {},
   "outputs": [
    {
     "data": {
      "text/plain": [
       "32.0"
      ]
     },
     "execution_count": 42,
     "metadata": {},
     "output_type": "execute_result"
    }
   ],
   "source": [
    "#using pandas\n",
    "df['age'].median()"
   ]
  },
  {
   "cell_type": "code",
   "execution_count": 43,
   "metadata": {},
   "outputs": [
    {
     "data": {
      "text/plain": [
       "32.0"
      ]
     },
     "execution_count": 43,
     "metadata": {},
     "output_type": "execute_result"
    }
   ],
   "source": [
    "#using numpy\n",
    "np.median(df['age'])"
   ]
  },
  {
   "cell_type": "markdown",
   "metadata": {},
   "source": [
    "#### Mode\n",
    "- It's the most frequent item on the list\n",
    "- It's the only measure of central tendency that works with both categorical and numeric data"
   ]
  },
  {
   "cell_type": "code",
   "execution_count": 44,
   "metadata": {},
   "outputs": [
    {
     "data": {
      "text/plain": [
       "'Red'"
      ]
     },
     "execution_count": 44,
     "metadata": {},
     "output_type": "execute_result"
    }
   ],
   "source": [
    "# using statistics\n",
    "x = ['Red', 'Blue', 'Green', 'Red', 'Red', 'Blue']\n",
    "stat.mode(x) "
   ]
  },
  {
   "cell_type": "markdown",
   "metadata": {},
   "source": [
    "Numerical data:"
   ]
  },
  {
   "cell_type": "code",
   "execution_count": 45,
   "metadata": {},
   "outputs": [
    {
     "data": {
      "text/plain": [
       "0    Atlanta\n",
       "Name: city, dtype: object"
      ]
     },
     "execution_count": 45,
     "metadata": {},
     "output_type": "execute_result"
    }
   ],
   "source": [
    "df['city'].mode()"
   ]
  },
  {
   "cell_type": "code",
   "execution_count": 46,
   "metadata": {},
   "outputs": [
    {
     "data": {
      "text/plain": [
       "0    75\n",
       "1    80\n",
       "2    84\n",
       "3    87\n",
       "4    92\n",
       "5    99\n",
       "Name: score, dtype: int64"
      ]
     },
     "execution_count": 46,
     "metadata": {},
     "output_type": "execute_result"
    }
   ],
   "source": [
    "df['score'].mode()"
   ]
  },
  {
   "cell_type": "markdown",
   "metadata": {},
   "source": [
    "If all numbers have the same occurance, pandas will list all the options."
   ]
  },
  {
   "cell_type": "code",
   "execution_count": 47,
   "metadata": {},
   "outputs": [
    {
     "data": {
      "text/plain": [
       "0    32\n",
       "Name: age, dtype: int64"
      ]
     },
     "execution_count": 47,
     "metadata": {},
     "output_type": "execute_result"
    }
   ],
   "source": [
    "df['age'].mode()"
   ]
  },
  {
   "cell_type": "markdown",
   "metadata": {},
   "source": [
    "### Measures of Dispersion"
   ]
  },
  {
   "cell_type": "markdown",
   "metadata": {},
   "source": [
    "- The mean may pose problems in terms of describing the data. It could be unrliable on its own for 2 reasons:\n",
    "    1. It's sensitive to ourliers\n",
    "    2. It may not be enough to describe the difference and full characteristics of datasets\n",
    "- Measure of Dispersion can help explain the differences between datasets if they share the same mean\n",
    "- It is also known as the measures of variability because they're used to understand the extend of spread or diversity"
   ]
  },
  {
   "cell_type": "code",
   "execution_count": 48,
   "metadata": {},
   "outputs": [],
   "source": [
    "# Dataset 1\n",
    "data1 = np.array([3,5,6,7,8])\n",
    "\n",
    "# Dataset 2\n",
    "data2 = np.array([2,5,5,8,9])\n",
    "\n",
    "# Dataset 3\n",
    "data3 = np.array([2,4,4,9,10])"
   ]
  },
  {
   "cell_type": "code",
   "execution_count": 49,
   "metadata": {},
   "outputs": [
    {
     "name": "stdout",
     "output_type": "stream",
     "text": [
      "Data 1 mean: 5.8\n",
      "Data 2 mean: 5.8\n",
      "Data 3 mean: 5.8\n"
     ]
    }
   ],
   "source": [
    "print('Data 1 mean:',np.mean(data1))\n",
    "print('Data 2 mean:',np.mean(data2))\n",
    "print('Data 3 mean:',np.mean(data3))"
   ]
  },
  {
   "cell_type": "markdown",
   "metadata": {},
   "source": [
    "**Observation** \n",
    "- Despite the fact all 3 datasets don't look the same, they have the same average. \n",
    "- The average/mean is not giving the full picture.\n",
    "- Therefore, we need another measure that explains that all 3 datasets are different"
   ]
  },
  {
   "cell_type": "code",
   "execution_count": 50,
   "metadata": {},
   "outputs": [
    {
     "name": "stdout",
     "output_type": "stream",
     "text": [
      "Data 1 Standard Deviation: 1.7204650534085253\n",
      "Data 2 Standard Deviation: 2.4819347291981715\n",
      "Data 3 Standard Deviation: 3.1240998703626617\n"
     ]
    }
   ],
   "source": [
    "print('Data 1 Standard Deviation:',np.std(data1))\n",
    "print('Data 2 Standard Deviation:',np.std(data2))\n",
    "print('Data 3 Standard Deviation:',np.std(data3))"
   ]
  },
  {
   "cell_type": "markdown",
   "metadata": {},
   "source": [
    "#### Standard Deviation\n",
    "![link text](https://labcontent.simplicdn.net/data-content/content-assets/Data_and_AI/ADSP_Images/Lesson_05_Data_Visualization/standard_deviation.png)\n"
   ]
  },
  {
   "cell_type": "markdown",
   "metadata": {},
   "source": [
    "\n",
    "- Explains the dispersion of the data. For example, it shows that all 3 datasets are dispersed differently.\n",
    "- It's the most popular measure of dispersion\n",
    "- It measures the spread of data around the mean\n",
    "- It's defined as the square root of sum of squares of the deviation around the mean divided by the number of observations\n"
   ]
  },
  {
   "cell_type": "markdown",
   "metadata": {},
   "source": [
    "#### Variance\n",
    "- It's the expected value of the squared deviation from the mean\n",
    "- In other words, it's the squared value of the Standard Deviation"
   ]
  },
  {
   "cell_type": "markdown",
   "metadata": {},
   "source": [
    "#### Range\n",
    "- It's the difference between the largest and smallest data points in the dataset.\n",
    "- It's sensitive to outliers"
   ]
  },
  {
   "cell_type": "code",
   "execution_count": 51,
   "metadata": {},
   "outputs": [
    {
     "data": {
      "text/plain": [
       "18"
      ]
     },
     "execution_count": 51,
     "metadata": {},
     "output_type": "execute_result"
    }
   ],
   "source": [
    "df['age'].max() - df['age'].min()"
   ]
  },
  {
   "cell_type": "code",
   "execution_count": 52,
   "metadata": {},
   "outputs": [
    {
     "data": {
      "text/plain": [
       "4"
      ]
     },
     "execution_count": 52,
     "metadata": {},
     "output_type": "execute_result"
    }
   ],
   "source": [
    "#method 2\n",
    "x = [ 2,3,4,3,2,6,2,3]\n",
    "\n",
    "np.max(x) - np.min(x)"
   ]
  },
  {
   "cell_type": "markdown",
   "metadata": {},
   "source": [
    "### Percentiles, Quintiles, and Quartiles\n",
    "They are statical concepts used to divide the data into equal parts, helping understand the position of a single data point and distribution of the data"
   ]
  },
  {
   "cell_type": "markdown",
   "metadata": {},
   "source": [
    "- **Percentiles** divide data into 100 equal parts, with each part representing a percentage of the data. Common percentiles include:\n",
    "    - 25th percentile (Q1 or P25): 25% of data falls below this value.\n",
    "    - 50th percentile (Q2 or P50, also known as the median): 50% of data falls below this value.\n",
    "    - 75th percentile (Q3 or P75): 75% of data falls below this value.\n",
    "    - 90th percentile (P90): 90% of data falls below this value.\n",
    "- **Quartiles** divide the data into 4 equal parts\n",
    "- **Quintiles** divide the data into 5 equal parts\n",
    "- There are no data points above the 100th percentile. It's basically the max value"
   ]
  },
  {
   "cell_type": "markdown",
   "metadata": {},
   "source": [
    "- Percentiles show the percentage of data below a certain value.\n",
    "- Percentiles are useful for understanding the distribution of data.\n",
    "- Percentiles can help identify outliers or extreme values.\n",
    "- Example: Suppose you have exam scores from 100 students:\n",
    "    - 25th percentile (Q1): 60 (25% of students scored below 60)\n",
    "    - 50th percentile (Q2 or median): 75 (50% of students scored below 75)\n",
    "    - 75th percentile (Q3): 85 (75% of students scored below 85)\n",
    "    - 90th percentile: 92 (90% of students scored below 92)"
   ]
  },
  {
   "cell_type": "markdown",
   "metadata": {},
   "source": [
    "![perc](https://healthdataviz.com/uploads-from-previous-versions/wordpress/wp-content/uploads/2019/05/score-key-01.png)"
   ]
  },
  {
   "cell_type": "code",
   "execution_count": 53,
   "metadata": {},
   "outputs": [
    {
     "data": {
      "text/plain": [
       "4.8"
      ]
     },
     "execution_count": 53,
     "metadata": {},
     "output_type": "execute_result"
    }
   ],
   "source": [
    "x = np.array([1,2,3,6,8,9,12,23,10,11,5,3,17,14])\n",
    "percentile_30th = np.percentile(x, 30)\n",
    "percentile_30th"
   ]
  },
  {
   "cell_type": "code",
   "execution_count": 54,
   "metadata": {},
   "outputs": [
    {
     "data": {
      "text/plain": [
       "14"
      ]
     },
     "execution_count": 54,
     "metadata": {},
     "output_type": "execute_result"
    }
   ],
   "source": [
    "len(x)"
   ]
  },
  {
   "cell_type": "markdown",
   "metadata": {},
   "source": [
    "- 4.8 is the threshold where 70% of my data exists on the right side and 30% of my data exists on the left side\n",
    "- all data points above 4.8 are considered in the top 70 by value\n",
    "- all data points below 4.8 are considered in the bottom 30 by value"
   ]
  },
  {
   "cell_type": "code",
   "execution_count": 55,
   "metadata": {},
   "outputs": [
    {
     "data": {
      "text/plain": [
       "0    137\n",
       "1     69\n",
       "2     99\n",
       "3    157\n",
       "4    141\n",
       "dtype: int64"
      ]
     },
     "execution_count": 55,
     "metadata": {},
     "output_type": "execute_result"
    }
   ],
   "source": [
    "my_ser = pd.Series(np.random.randint(45,200,600))\n",
    "my_ser.head()"
   ]
  },
  {
   "cell_type": "code",
   "execution_count": 56,
   "metadata": {},
   "outputs": [
    {
     "data": {
      "text/plain": [
       "199"
      ]
     },
     "execution_count": 56,
     "metadata": {},
     "output_type": "execute_result"
    }
   ],
   "source": [
    "my_ser.max()"
   ]
  },
  {
   "cell_type": "code",
   "execution_count": 57,
   "metadata": {},
   "outputs": [
    {
     "data": {
      "text/plain": [
       "count    600.000000\n",
       "mean     120.678333\n",
       "std       45.439000\n",
       "min       45.000000\n",
       "25%       82.000000\n",
       "50%      119.000000\n",
       "75%      161.250000\n",
       "max      199.000000\n",
       "dtype: float64"
      ]
     },
     "execution_count": 57,
     "metadata": {},
     "output_type": "execute_result"
    }
   ],
   "source": [
    "my_ser.describe()"
   ]
  },
  {
   "cell_type": "code",
   "execution_count": 58,
   "metadata": {},
   "outputs": [
    {
     "data": {
      "text/plain": [
       "<Axes: >"
      ]
     },
     "execution_count": 58,
     "metadata": {},
     "output_type": "execute_result"
    },
    {
     "data": {
      "image/png": "[encoded data removed]",
      "text/plain": [
       "<Figure size 640x480 with 1 Axes>"
      ]
     },
     "metadata": {},
     "output_type": "display_data"
    }
   ],
   "source": [
    "my_ser.plot.box()"
   ]
  },
  {
   "cell_type": "markdown",
   "metadata": {},
   "source": [
    "- 50% of my population is below 154. This point is also called the **median**.\n",
    "- a quarter of my population is below 77 (25th percentile).\n",
    "- 3 quarters of my population is below 221 (75th percentile).\n",
    "- 299.85 is the max - also called the 100th percentile.\n",
    "- 25, 50, and 75 are also called **quartiles** because they divide the data into 4 quarters."
   ]
  },
  {
   "cell_type": "markdown",
   "metadata": {},
   "source": [
    "#### Interquartile Range\n",
    "\n",
    "![link text](https://online.stat.psu.edu/stat200/sites/stat200_fa21/files/inline-images/Boxplotwithdescriptions.png)"
   ]
  },
  {
   "cell_type": "markdown",
   "metadata": {},
   "source": [
    "- The interquartile range is the distance between Q1 and Q3 (25th and 75th percentiles)\n",
    "- It describes the middle 50% of the observations\n",
    "- It is used to derive formulas for upper and lower ranges for outlier treatment"
   ]
  },
  {
   "cell_type": "code",
   "execution_count": 59,
   "metadata": {},
   "outputs": [
    {
     "data": {
      "text/plain": [
       "array([184., 191.])"
      ]
     },
     "execution_count": 59,
     "metadata": {},
     "output_type": "execute_result"
    }
   ],
   "source": [
    "np.percentile(my_ser, [90,95])"
   ]
  },
  {
   "cell_type": "markdown",
   "metadata": {},
   "source": [
    "### Measures of Shape"
   ]
  },
  {
   "cell_type": "markdown",
   "metadata": {},
   "source": [
    "#### Skewness\n",
    "\n",
    "![link text](https://labcontent.simplicdn.net/data-content/content-assets/Data_and_AI/ADSP_Images/Lesson_05_Data_Visualization/skew.png)"
   ]
  },
  {
   "cell_type": "markdown",
   "metadata": {},
   "source": [
    "- Skewness is a measure of asymmetry or distortion of symmetric distribution. \n",
    "- It measures the deviation of the given distribution of a random variable from a symmetric distribution, such as normal distribution. \n",
    "- A normal distribution is without any skewness, as it is symmetrical on both sides.\n",
    "- Having outliers causes skewness"
   ]
  },
  {
   "cell_type": "code",
   "execution_count": 1,
   "metadata": {},
   "outputs": [
    {
     "data": {
      "text/plain": [
       "<Axes: >"
      ]
     },
     "execution_count": 1,
     "metadata": {},
     "output_type": "execute_result"
    },
    {
     "data": {
      "image/png": "[encoded data removed]",
      "text/plain": [
       "<Figure size 640x480 with 1 Axes>"
      ]
     },
     "metadata": {},
     "output_type": "display_data"
    }
   ],
   "source": [
    "import pandas as pd\n",
    "import numpy as np\n",
    "\n",
    "df = pd.read_csv('/Users/bassel_instructor/Documents/Datasets/school_grades.csv')\n",
    "\n",
    "df['math score'].hist()"
   ]
  },
  {
   "cell_type": "code",
   "execution_count": null,
   "metadata": {},
   "outputs": [],
   "source": [
    "sns.histplot(df[df['math score']>30]['math score'], kde=True)"
   ]
  },
  {
   "cell_type": "code",
   "execution_count": 52,
   "metadata": {},
   "outputs": [
    {
     "data": {
      "text/plain": [
       "8.5"
      ]
     },
     "execution_count": 52,
     "metadata": {},
     "output_type": "execute_result"
    }
   ],
   "source": [
    "a = [5,7,10,12]\n",
    "np.mean(a)"
   ]
  },
  {
   "cell_type": "code",
   "execution_count": 54,
   "metadata": {},
   "outputs": [
    {
     "data": {
      "text/plain": [
       "18.0"
      ]
     },
     "execution_count": 54,
     "metadata": {},
     "output_type": "execute_result"
    }
   ],
   "source": [
    "b = [5,7,10,50]\n",
    "np.mean(b)"
   ]
  },
  {
   "cell_type": "markdown",
   "metadata": {},
   "source": [
    "- in array a, the average is giving a good representation of the center of the data\n",
    "- array b, on the other hand, has extreme values and the average is not a good representation of the center of the data\n",
    "- b is skewed because of it's extreme value or long tail"
   ]
  },
  {
   "cell_type": "code",
   "execution_count": 56,
   "metadata": {},
   "outputs": [
    {
     "data": {
      "text/plain": [
       "1.1232115519647907"
      ]
     },
     "execution_count": 56,
     "metadata": {},
     "output_type": "execute_result"
    }
   ],
   "source": [
    "from scipy.stats import skew\n",
    "skew(b)"
   ]
  },
  {
   "cell_type": "markdown",
   "metadata": {},
   "source": [
    "B is positively skewed because the number is higher than 0"
   ]
  },
  {
   "cell_type": "markdown",
   "metadata": {},
   "source": [
    "![meanmedianmode.png](https://images.shiksha.com/mediadata/ugcDocuments/images/wordpressImages/2021_12_art11-1.jpg)"
   ]
  },
  {
   "cell_type": "markdown",
   "metadata": {},
   "source": [
    "- Positive Skew (Right Skew): if the skewness value > 0 (positive), the distribution tail is stretched more to the **right** side of the x-axis\n",
    "- Negative Skew (Left Skew): if the skewness value <> 0 (negative), the distribution tail is stretched more to the **left** side of the x-axis\n",
    "- Zero Skewness: the value is or very close to zero. The distribution is fairly symmetric.\n"
   ]
  },
  {
   "cell_type": "code",
   "execution_count": 59,
   "metadata": {},
   "outputs": [
    {
     "data": {
      "text/plain": [
       "-0.6832289141093296"
      ]
     },
     "execution_count": 59,
     "metadata": {},
     "output_type": "execute_result"
    }
   ],
   "source": [
    "#example of negative skew\n",
    "\n",
    "c = [0.04,7,12,11]\n",
    "skew(c)"
   ]
  },
  {
   "cell_type": "markdown",
   "metadata": {},
   "source": [
    "#### Kurtosis\n"
   ]
  },
  {
   "cell_type": "markdown",
   "metadata": {},
   "source": [
    "- Data with high kurtosis tend to have heavy tails or outliers\n",
    "- If Kurtosis is low, there will be minimum outliers\n",
    "- A minimum kurotsis shows that the data is normally distributed"
   ]
  },
  {
   "cell_type": "markdown",
   "metadata": {},
   "source": [
    "![positivenegativekurt.PNG](https://s3.us-east-1.amazonaws.com/static2.simplilearn.com/lms/testpaper_images/ADSP/Advanced_Statistics/Probimages/Statistics_Fundamentals/Statistics_Notebookupdated/positivenegativekurt.PNG)"
   ]
  },
  {
   "cell_type": "markdown",
   "metadata": {},
   "source": [
    "\n",
    "##### **What is Kurtosis?**\n",
    "Kurtosis is a statistical measure that describes the **shape of a distribution’s tails** in relation to its overall shape. Specifically, it measures the **tailedness** of the distribution—how much of the data is in the tails compared to the center.\n",
    "\n",
    "- **Kurtosis is often compared to the normal distribution** (which has a kurtosis of 3, also called **mesokurtic**).\n",
    "- It helps you understand whether the data has **heavy tails** (outliers) or **light tails** (lack of outliers) compared to a normal distribution.\n",
    "\n",
    "---\n",
    "\n",
    "##### **Types of Kurtosis**\n",
    "1. **Mesokurtic (Kurtosis = 3)**:\n",
    "   - The distribution has tails similar to a normal distribution.\n",
    "   - Example: A perfectly normal distribution.\n",
    "\n",
    "2. **Leptokurtic (Kurtosis > 3)**:\n",
    "   - The distribution has **fatter tails** and a **sharper peak** than a normal distribution.\n",
    "   - Indicates more data in the tails (more outliers).\n",
    "   - Example: Financial returns data often has high kurtosis because of extreme values.\n",
    "\n",
    "3. **Platykurtic (Kurtosis < 3)**:\n",
    "   - The distribution has **thinner tails** and a **flatter peak** than a normal distribution.\n",
    "   - Indicates less data in the tails (fewer outliers).\n",
    "   - Example: Uniform distributions have low kurtosis.\n",
    "\n",
    "---\n",
    "\n",
    "**How to Calculate Kurtosis**\n",
    "In Python, you can calculate kurtosis using libraries like `pandas` or `scipy`:\n",
    "\n",
    "```python\n",
    "import pandas as pd\n",
    "\n",
    "# Example: Calculate kurtosis for a column in a DataFrame\n",
    "data = pd.Series([1, 2, 2, 3, 3, 3, 4, 4, 5])\n",
    "kurtosis_value = data.kurtosis()\n",
    "print(\"Kurtosis:\", kurtosis_value)\n",
    "```\n",
    "\n",
    "- In `pandas` the threshold is different  **Interpretation**:\n",
    "  - If `kurtosis > 0`, the distribution is **leptokurtic** (heavy tails).\n",
    "  - If `kurtosis < 0`, the distribution is **platykurtic** (light tails).\n",
    "  - If `kurtosis = 0`, the distribution is **mesokurtic** (normal tails).\n",
    "\n",
    "---\n",
    "\n",
    "##### **How Kurtosis is Used in Data Analysis**\n",
    "1. **Identifying Outliers**:\n",
    "   - High kurtosis (leptokurtic) indicates the presence of outliers or extreme values in the dataset.\n",
    "   - Example: In financial data, high kurtosis might indicate the risk of extreme losses or gains.\n",
    "\n",
    "2. **Assessing Normality**:\n",
    "   - Kurtosis is used in conjunction with skewness to assess whether a dataset is normally distributed.\n",
    "   - Many statistical tests (e.g., t-tests, ANOVA) assume normality, so kurtosis helps validate this assumption.\n",
    "\n",
    "3. **Risk Management**:\n",
    "   - In finance, kurtosis is used to measure the risk of investments. High kurtosis indicates a higher probability of extreme returns (both positive and negative).\n",
    "\n",
    "4. **Quality Control**:\n",
    "   - In manufacturing, kurtosis can help identify variations in product quality. A leptokurtic distribution might indicate inconsistent production processes.\n",
    "\n",
    "5. **Comparing Distributions**:\n",
    "   - Kurtosis helps compare the tail behavior of different datasets. For example, comparing the kurtosis of two financial assets can reveal which one has more extreme returns.\n",
    "\n",
    "\n",
    "##### **Key Takeaways**\n",
    "- Kurtosis measures the **tailedness** of a distribution.\n",
    "- It helps identify **outliers**, assess **normality**, and compare distributions.\n",
    "- High kurtosis indicates heavy tails (more outliers), while low kurtosis indicates light tails (fewer outliers).\n",
    "\n",
    "By combining kurtosis with skewness, you can get a complete picture of the shape of your data distribution and make more informed decisions in your analysis. Let me know if you’d like further clarification or examples!"
   ]
  },
  {
   "cell_type": "markdown",
   "metadata": {},
   "source": [
    "#### Covariance and Correlation\n",
    "- Previous measures fall under the category of **Univariate** Analysis as it deals with a single variable/array/column/series.\n",
    "- Covariance and Correlation, on the other hand, deal with **Multivariate** Analysis (Relationship between 2 or more variables)\n",
    "- They measure the relationship and dependency between two variables.\n",
    "- numerical variables only"
   ]
  },
  {
   "cell_type": "markdown",
   "metadata": {},
   "source": [
    "#### Covariance"
   ]
  },
  {
   "cell_type": "markdown",
   "metadata": {},
   "source": [
    "![covsample.PNG](https://s3.us-east-1.amazonaws.com/static2.simplilearn.com/lms/testpaper_images/ADSP/Advanced_Statistics/Probimages/Statistics_Fundamentals/Statistics_Notebookupdated/covsample.PNG)\n",
    "- It gives the direction of the relationship\n",
    "- The direction value can be interpreted as:\n",
    "    - Negative means if x goes up, y goes down (and vice-versa)\n",
    "    - Positive means if x goes up, y goes up (and vice-versa)"
   ]
  },
  {
   "cell_type": "markdown",
   "metadata": {},
   "source": [
    "#### Correlation\n",
    "![corelation.PNG](https://s3.us-east-1.amazonaws.com/static2.simplilearn.com/lms/testpaper_images/ADSP/Advanced_Statistics/Probimages/Statistics_Fundamentals/Statistics_Notebookupdated/corelation.PNG)\n",
    "- Correlation is the most common measure of the two and most useful\n",
    "- Also called the Pearson correlation\n",
    "- It provides both relationship direction and magnitude (correlation coefficient)\n",
    "- Correlation Coefficient Value Interpretation: It ranges between -1 and 1\n",
    "    - 0 or close to 0 means no or very low correlation\n",
    "    - close to -1 means the two variables are highly negatively correlated\n",
    "    - close to 1 means the two variables are highly positively correlated"
   ]
  },
  {
   "cell_type": "code",
   "execution_count": null,
   "metadata": {},
   "outputs": [
    {
     "data": {
      "text/html": [
       "<div>\n",
       "<style scoped>\n",
       "    .dataframe tbody tr th:only-of-type {\n",
       "        vertical-align: middle;\n",
       "    }\n",
       "\n",
       "    .dataframe tbody tr th {\n",
       "        vertical-align: top;\n",
       "    }\n",
       "\n",
       "    .dataframe thead th {\n",
       "        text-align: right;\n",
       "    }\n",
       "</style>\n",
       "<table border=\"1\" class=\"dataframe\">\n",
       "  <thead>\n",
       "    <tr style=\"text-align: right;\">\n",
       "      <th></th>\n",
       "      <th>income</th>\n",
       "      <th>age</th>\n",
       "      <th>health_score</th>\n",
       "      <th>movies_watched</th>\n",
       "    </tr>\n",
       "  </thead>\n",
       "  <tbody>\n",
       "    <tr>\n",
       "      <th>0</th>\n",
       "      <td>10000</td>\n",
       "      <td>25</td>\n",
       "      <td>95</td>\n",
       "      <td>7</td>\n",
       "    </tr>\n",
       "    <tr>\n",
       "      <th>1</th>\n",
       "      <td>20000</td>\n",
       "      <td>34</td>\n",
       "      <td>60</td>\n",
       "      <td>4</td>\n",
       "    </tr>\n",
       "    <tr>\n",
       "      <th>2</th>\n",
       "      <td>15000</td>\n",
       "      <td>27</td>\n",
       "      <td>90</td>\n",
       "      <td>4</td>\n",
       "    </tr>\n",
       "    <tr>\n",
       "      <th>3</th>\n",
       "      <td>25000</td>\n",
       "      <td>37</td>\n",
       "      <td>57</td>\n",
       "      <td>9</td>\n",
       "    </tr>\n",
       "  </tbody>\n",
       "</table>\n",
       "</div>"
      ],
      "text/plain": [
       "   income  age  health_score  movies_watched\n",
       "0   10000   25            95               7\n",
       "1   20000   34            60               4\n",
       "2   15000   27            90               4\n",
       "3   25000   37            57               9"
      ]
     },
     "execution_count": 62,
     "metadata": {},
     "output_type": "execute_result"
    }
   ],
   "source": [
    "data = {\n",
    "            'income':[10000, 20000, 15000, 25000],\n",
    "            'age': [25, 34, 27, 37],\n",
    "            'stress_score': [95, 60, 90, 57],\n",
    "            'movies_watched': [7,4,4,9] \n",
    "}\n",
    "\n",
    "df = pd.DataFrame(data)\n",
    "df"
   ]
  },
  {
   "cell_type": "code",
   "execution_count": 63,
   "metadata": {},
   "outputs": [
    {
     "data": {
      "text/html": [
       "<div>\n",
       "<style scoped>\n",
       "    .dataframe tbody tr th:only-of-type {\n",
       "        vertical-align: middle;\n",
       "    }\n",
       "\n",
       "    .dataframe tbody tr th {\n",
       "        vertical-align: top;\n",
       "    }\n",
       "\n",
       "    .dataframe thead th {\n",
       "        text-align: right;\n",
       "    }\n",
       "</style>\n",
       "<table border=\"1\" class=\"dataframe\">\n",
       "  <thead>\n",
       "    <tr style=\"text-align: right;\">\n",
       "      <th></th>\n",
       "      <th>income</th>\n",
       "      <th>age</th>\n",
       "      <th>health_score</th>\n",
       "      <th>movies_watched</th>\n",
       "    </tr>\n",
       "  </thead>\n",
       "  <tbody>\n",
       "    <tr>\n",
       "      <th>income</th>\n",
       "      <td>1.000000</td>\n",
       "      <td>0.977525</td>\n",
       "      <td>-0.940153</td>\n",
       "      <td>0.316228</td>\n",
       "    </tr>\n",
       "    <tr>\n",
       "      <th>age</th>\n",
       "      <td>0.977525</td>\n",
       "      <td>1.000000</td>\n",
       "      <td>-0.987000</td>\n",
       "      <td>0.335480</td>\n",
       "    </tr>\n",
       "    <tr>\n",
       "      <th>health_score</th>\n",
       "      <td>-0.940153</td>\n",
       "      <td>-0.987000</td>\n",
       "      <td>1.000000</td>\n",
       "      <td>-0.233988</td>\n",
       "    </tr>\n",
       "    <tr>\n",
       "      <th>movies_watched</th>\n",
       "      <td>0.316228</td>\n",
       "      <td>0.335480</td>\n",
       "      <td>-0.233988</td>\n",
       "      <td>1.000000</td>\n",
       "    </tr>\n",
       "  </tbody>\n",
       "</table>\n",
       "</div>"
      ],
      "text/plain": [
       "                  income       age  health_score  movies_watched\n",
       "income          1.000000  0.977525     -0.940153        0.316228\n",
       "age             0.977525  1.000000     -0.987000        0.335480\n",
       "health_score   -0.940153 -0.987000      1.000000       -0.233988\n",
       "movies_watched  0.316228  0.335480     -0.233988        1.000000"
      ]
     },
     "execution_count": 63,
     "metadata": {},
     "output_type": "execute_result"
    }
   ],
   "source": [
    "df.corr()"
   ]
  },
  {
   "cell_type": "markdown",
   "metadata": {},
   "source": [
    "- Column `movies_watched` has no relationship with other column (low positive correlation with other columns)\n",
    "- Columns `income` and `age` have **high positive correlation**. If `age` goes up, `income` does too.\n",
    "- Columns `age` and `health_score` have **high negative correlation**. If `age` goes up, `health_score` goes down"
   ]
  },
  {
   "cell_type": "markdown",
   "metadata": {},
   "source": [
    "> Commonly, you want to find variables with absolute score higher than 60% or 0.6 (in both negative or positive directions) to say they are highly correlated"
   ]
  },
  {
   "cell_type": "code",
   "execution_count": null,
   "metadata": {},
   "outputs": [],
   "source": [
    "df.plot.scatter(x='reading score', y='writing score')"
   ]
  },
  {
   "cell_type": "markdown",
   "metadata": {},
   "source": [
    "Yes, **using a correlation matrix for a classification problem is generally not very useful**, but it depends on the context. Here's why:  \n",
    "\n",
    "### **Why a Correlation Matrix Isn't Ideal for Classification**\n",
    "1. **Correlation Measures Linear Relationships Between Continuous Variables**  \n",
    "   - A **correlation matrix** (typically Pearson correlation) measures how **continuous numeric variables** move together.  \n",
    "   - **Classification problems** often involve **categorical target variables**, making correlation less meaningful.  \n",
    "\n",
    "2. **Doesn't Work Well with Categorical Labels**  \n",
    "   - A correlation matrix can't directly handle a categorical target (`0/1`, `A/B/C` labels).  \n",
    "   - Example: Trying to find correlation between `income` and `loan_approval (yes/no)` isn’t straightforward.  \n",
    "\n",
    "3. **Better Alternatives Exist**  \n",
    "   - Instead of a correlation matrix, use:  \n",
    "     ✅ **Chi-Square Test** → Measures dependence between categorical variables.  \n",
    "     ✅ **ANOVA/F-test** → Measures variance between groups.  \n",
    "     ✅ **Mutual Information** → Measures information gain between features and target.  \n",
    "     ✅ **Feature Importance from a Model** → Helps rank feature relevance.\n",
    "\n",
    "---\n",
    "\n",
    "### **When Can Correlation Be Useful in Classification?**\n",
    "🚀 **If your features are continuous**, you **can** still use a correlation matrix to:  \n",
    "✅ Identify **multicollinearity** (e.g., if two features are highly correlated, one may be redundant).  \n",
    "✅ Explore relationships between **numeric features** before training a model.  \n",
    "\n",
    "---\n",
    "\n",
    "### **Conclusion**  \n",
    "❌ **A correlation matrix isn't useful for directly analyzing a categorical target.**  \n",
    "✅ **It can help find feature relationships in numeric data before modeling.**  \n",
    "For classification tasks, use **mutual information, chi-square tests, or feature importance scores** instead. 🚀"
   ]
  },
  {
   "cell_type": "markdown",
   "metadata": {},
   "source": []
  }
 ],
 "metadata": {
  "kernelspec": {
   "display_name": "Python 3",
   "language": "python",
   "name": "python3"
  },
  "language_info": {
   "codemirror_mode": {
    "name": "ipython",
    "version": 3
   },
   "file_extension": ".py",
   "mimetype": "text/x-python",
   "name": "python",
   "nbconvert_exporter": "python",
   "pygments_lexer": "ipython3",
   "version": "3.11.3"
  }
 },
 "nbformat": 4,
 "nbformat_minor": 2
}
