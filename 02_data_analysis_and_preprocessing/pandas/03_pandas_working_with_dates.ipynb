{
 "cells": [
  {
   "cell_type": "markdown",
   "metadata": {},
   "source": [
    "# Dates in Pandas"
   ]
  },
  {
   "cell_type": "markdown",
   "metadata": {},
   "source": [
    "- Pandas can parse dates either during import or after import\n",
    "- Pandas provides 2 primary date types for working with dates and times\n",
    "    - `datetime64[ns]` represents a specific moment in time, with nanosecond precision\n",
    "    - `timedelta64[ns]` represents a duration, such as time difference between 2 dates"
   ]
  },
  {
   "cell_type": "code",
   "execution_count": 27,
   "metadata": {},
   "outputs": [],
   "source": [
    "import pandas as pd\n",
    "import numpy as np"
   ]
  },
  {
   "cell_type": "markdown",
   "metadata": {},
   "source": [
    "## Basic Concepts"
   ]
  },
  {
   "cell_type": "markdown",
   "metadata": {},
   "source": [
    "### Creating a Date Range"
   ]
  },
  {
   "cell_type": "code",
   "execution_count": 28,
   "metadata": {},
   "outputs": [
    {
     "data": {
      "text/plain": [
       "DatetimeIndex(['2023-01-01', '2023-01-02', '2023-01-03', '2023-01-04',\n",
       "               '2023-01-05', '2023-01-06', '2023-01-07', '2023-01-08',\n",
       "               '2023-01-09', '2023-01-10',\n",
       "               ...\n",
       "               '2024-12-22', '2024-12-23', '2024-12-24', '2024-12-25',\n",
       "               '2024-12-26', '2024-12-27', '2024-12-28', '2024-12-29',\n",
       "               '2024-12-30', '2024-12-31'],\n",
       "              dtype='datetime64[ns]', length=731, freq='D')"
      ]
     },
     "execution_count": 28,
     "metadata": {},
     "output_type": "execute_result"
    }
   ],
   "source": [
    "my_date_range = pd.date_range(start='2023-01-01',end='2024-12-31')\n",
    "my_date_range"
   ]
  },
  {
   "cell_type": "markdown",
   "metadata": {},
   "source": [
    "You can adjust start, end, periods, frequency (week, day, 5h)\n"
   ]
  },
  {
   "cell_type": "code",
   "execution_count": 29,
   "metadata": {},
   "outputs": [],
   "source": [
    "my_date_range = pd.date_range(start='2023-01-01', end='2024-12-31', freq='W')\n"
   ]
  },
  {
   "cell_type": "markdown",
   "metadata": {},
   "source": [
    "### Parsing Dates"
   ]
  },
  {
   "cell_type": "code",
   "execution_count": 30,
   "metadata": {},
   "outputs": [
    {
     "data": {
      "text/plain": [
       "DatetimeIndex(['2023-01-01', '2023-01-02', '2023-01-03', '2023-01-04',\n",
       "               '2023-01-05', '2023-01-06'],\n",
       "              dtype='datetime64[ns]', freq=None)"
      ]
     },
     "execution_count": 30,
     "metadata": {},
     "output_type": "execute_result"
    }
   ],
   "source": [
    "date_list = ['2023-01-01', '2023-01-02', '2023-01-03', '2023-01-04',\n",
    "               '2023-01-05', '2023-01-06']\n",
    "\n",
    "date_series = pd.to_datetime(date_list)\n",
    "date_series"
   ]
  },
  {
   "cell_type": "markdown",
   "metadata": {},
   "source": [
    "You can specify:\n",
    "- input format e.g. '%Y/%m/%d'\n",
    "- utc\n",
    "- origin for unix based format\n",
    "- errors tells pandas what to do if there's a bad date format"
   ]
  },
  {
   "cell_type": "markdown",
   "metadata": {},
   "source": [
    "Parsing dates with different format example (to learn about the date part syntax use https://strftime.org/)"
   ]
  },
  {
   "cell_type": "code",
   "execution_count": 31,
   "metadata": {},
   "outputs": [
    {
     "data": {
      "text/plain": [
       "DatetimeIndex(['2023-01-01', '2023-01-02'], dtype='datetime64[ns]', freq=None)"
      ]
     },
     "execution_count": 31,
     "metadata": {},
     "output_type": "execute_result"
    }
   ],
   "source": [
    "date_list = ['01/01/2023', '01/02/2023'] #this format has US-based format\n",
    "\n",
    "date_series = pd.to_datetime(date_list, format='%m/%d/%Y')\n",
    "date_series"
   ]
  },
  {
   "cell_type": "markdown",
   "metadata": {},
   "source": [
    "To view the output as the original input, you need to convert it to a string, but you are no longer able to run date operations. "
   ]
  },
  {
   "cell_type": "code",
   "execution_count": 32,
   "metadata": {},
   "outputs": [
    {
     "data": {
      "text/plain": [
       "Index(['01/01/2023', '01/02/2023'], dtype='object')"
      ]
     },
     "execution_count": 32,
     "metadata": {},
     "output_type": "execute_result"
    }
   ],
   "source": [
    "date_series.strftime('%m/%d/%Y')"
   ]
  },
  {
   "cell_type": "markdown",
   "metadata": {},
   "source": [
    "### Date Arithmetic"
   ]
  },
  {
   "cell_type": "markdown",
   "metadata": {},
   "source": [
    "Pandas allows you to perform date arithmetic using `timedelta`"
   ]
  },
  {
   "cell_type": "code",
   "execution_count": 33,
   "metadata": {},
   "outputs": [
    {
     "data": {
      "text/plain": [
       "DatetimeIndex(['2023-01-01', '2023-01-02', '2023-01-03', '2023-01-04',\n",
       "               '2023-01-05', '2023-01-06'],\n",
       "              dtype='datetime64[ns]', freq=None)"
      ]
     },
     "execution_count": 33,
     "metadata": {},
     "output_type": "execute_result"
    }
   ],
   "source": [
    "date_list = ['2023-01-01', '2023-01-02', '2023-01-03', '2023-01-04',\n",
    "               '2023-01-05', '2023-01-06']\n",
    "\n",
    "date_series = pd.to_datetime(date_list)\n",
    "date_series"
   ]
  },
  {
   "cell_type": "code",
   "execution_count": 34,
   "metadata": {},
   "outputs": [
    {
     "data": {
      "text/plain": [
       "DatetimeIndex(['2023-01-04', '2023-01-05', '2023-01-06', '2023-01-07',\n",
       "               '2023-01-08', '2023-01-09'],\n",
       "              dtype='datetime64[ns]', freq=None)"
      ]
     },
     "execution_count": 34,
     "metadata": {},
     "output_type": "execute_result"
    }
   ],
   "source": [
    "# add 3 days to the dates\n",
    "date_series = date_series + pd.Timedelta(days=3)\n",
    "date_series"
   ]
  },
  {
   "cell_type": "markdown",
   "metadata": {},
   "source": [
    "you can add/subtract days, seconds, hours, months, etc..."
   ]
  },
  {
   "cell_type": "markdown",
   "metadata": {},
   "source": [
    "With date vs date operations, no need to use timedelta as long as both have datetime format."
   ]
  },
  {
   "cell_type": "code",
   "execution_count": 35,
   "metadata": {},
   "outputs": [
    {
     "data": {
      "text/plain": [
       "Timedelta('700 days 00:00:00')"
      ]
     },
     "execution_count": 35,
     "metadata": {},
     "output_type": "execute_result"
    }
   ],
   "source": [
    "date1 = pd.to_datetime('2023-01-04')\n",
    "date2 = pd.to_datetime('2024-12-04')\n",
    "\n",
    "diff = date2 - date1\n",
    "diff"
   ]
  },
  {
   "cell_type": "markdown",
   "metadata": {},
   "source": [
    "### Date Functions"
   ]
  },
  {
   "cell_type": "markdown",
   "metadata": {},
   "source": [
    "#### Extracting Date Components"
   ]
  },
  {
   "cell_type": "code",
   "execution_count": 36,
   "metadata": {},
   "outputs": [
    {
     "name": "stdout",
     "output_type": "stream",
     "text": [
      "2023 \n",
      " 1 \n",
      " 4\n"
     ]
    }
   ],
   "source": [
    "# extract year, month, and day\n",
    "\n",
    "my_year = date1.year\n",
    "my_month = date1.month\n",
    "my_day = date1.day\n",
    "\n",
    "print(my_year,'\\n',my_month,'\\n',my_day)"
   ]
  },
  {
   "cell_type": "markdown",
   "metadata": {},
   "source": [
    "This becomes useful with feature engineering to extract date parts and disregard using the full date."
   ]
  },
  {
   "cell_type": "markdown",
   "metadata": {},
   "source": [
    "#### Find the day of the Week"
   ]
  },
  {
   "cell_type": "code",
   "execution_count": 37,
   "metadata": {},
   "outputs": [
    {
     "data": {
      "text/plain": [
       "2"
      ]
     },
     "execution_count": 37,
     "metadata": {},
     "output_type": "execute_result"
    }
   ],
   "source": [
    "dow = date1.day_of_week\n",
    "dow"
   ]
  },
  {
   "cell_type": "code",
   "execution_count": 38,
   "metadata": {},
   "outputs": [
    {
     "data": {
      "text/plain": [
       "'Wednesday'"
      ]
     },
     "execution_count": 38,
     "metadata": {},
     "output_type": "execute_result"
    }
   ],
   "source": [
    "date1.strftime('%A')"
   ]
  },
  {
   "cell_type": "markdown",
   "metadata": {},
   "source": [
    "#### Unix Time"
   ]
  },
  {
   "cell_type": "code",
   "execution_count": 39,
   "metadata": {},
   "outputs": [
    {
     "data": {
      "text/plain": [
       "1747961865.409131"
      ]
     },
     "execution_count": 39,
     "metadata": {},
     "output_type": "execute_result"
    }
   ],
   "source": [
    "import time\n",
    "\n",
    "time.time()"
   ]
  },
  {
   "cell_type": "markdown",
   "metadata": {},
   "source": [
    "## Exercise"
   ]
  },
  {
   "cell_type": "code",
   "execution_count": 40,
   "metadata": {},
   "outputs": [
    {
     "data": {
      "application/vnd.microsoft.datawrangler.viewer.v0+json": {
       "columns": [
        {
         "name": "index",
         "rawType": "int64",
         "type": "integer"
        },
        {
         "name": "Date",
         "rawType": "object",
         "type": "string"
        },
        {
         "name": "Drug1",
         "rawType": "float64",
         "type": "float"
        },
        {
         "name": "Drug2",
         "rawType": "float64",
         "type": "float"
        },
        {
         "name": "Drug3",
         "rawType": "float64",
         "type": "float"
        },
        {
         "name": "Drug4",
         "rawType": "float64",
         "type": "float"
        },
        {
         "name": "Drug5",
         "rawType": "float64",
         "type": "float"
        },
        {
         "name": "Drug6",
         "rawType": "float64",
         "type": "float"
        },
        {
         "name": "Drug7",
         "rawType": "float64",
         "type": "float"
        },
        {
         "name": "Drug8",
         "rawType": "float64",
         "type": "float"
        },
        {
         "name": "Drug1_Sales",
         "rawType": "float64",
         "type": "float"
        },
        {
         "name": "Drug2_Sales",
         "rawType": "float64",
         "type": "float"
        },
        {
         "name": "Drug3_Sales",
         "rawType": "float64",
         "type": "float"
        },
        {
         "name": "Drug4_Sales",
         "rawType": "float64",
         "type": "float"
        },
        {
         "name": "Drug5_Sales",
         "rawType": "float64",
         "type": "float"
        },
        {
         "name": "Drug6_Sales",
         "rawType": "float64",
         "type": "float"
        },
        {
         "name": "Drug7_Sales",
         "rawType": "float64",
         "type": "float"
        },
        {
         "name": "Drug8_Sales",
         "rawType": "float64",
         "type": "float"
        }
       ],
       "conversionMethod": "pd.DataFrame",
       "ref": "5262d17a-3d07-4fbf-b046-15772729c559",
       "rows": [
        [
         "0",
         "2019-09-01",
         "2.0",
         "4.36",
         "5.0",
         "17.0",
         "8.2",
         "1.0",
         "5.0",
         "4.0",
         "2000.0",
         "3488.0000000000005",
         "7500.0",
         "10200.0",
         "4510.0",
         "10000.0",
         "2250.0",
         "3600.0"
        ],
        [
         "1",
         "2019-09-02",
         "5.33",
         "2.087",
         "2.5",
         "18.0",
         "7.0",
         "0.0",
         "1.0",
         "9.0",
         "5330.0",
         "1669.6",
         "3750.0",
         "10800.0",
         "3850.0",
         "0.0",
         "450.0",
         "8100.0"
        ],
        [
         "2",
         "2019-09-03",
         "9.36",
         "2.35",
         "3.1",
         "12.125",
         "8.0",
         "3.0",
         "1.0",
         "2.0",
         "9360.0",
         "1880.0",
         "4650.0",
         "7275.0",
         "4400.0",
         "30000.0",
         "450.0",
         "1800.0"
        ],
        [
         "3",
         "2019-09-04",
         "2.0",
         "0.373",
         "2.15",
         "29.23",
         "7.0",
         "0.0",
         "3.0",
         "3.0",
         "2000.0",
         "298.4",
         "3225.0",
         "17538.0",
         "3850.0",
         "0.0",
         "1350.0",
         "2700.0"
        ],
        [
         "4",
         "2019-09-05",
         "7.0",
         "9.53",
         "2.0",
         "14.0",
         "1.0",
         "0.0",
         "1.0",
         "8.0",
         "7000.0",
         "7623.999999999999",
         "3000.0",
         "8400.0",
         "550.0",
         "0.0",
         "450.0",
         "7200.0"
        ]
       ],
       "shape": {
        "columns": 17,
        "rows": 5
       }
      },
      "text/html": [
       "<div>\n",
       "<style scoped>\n",
       "    .dataframe tbody tr th:only-of-type {\n",
       "        vertical-align: middle;\n",
       "    }\n",
       "\n",
       "    .dataframe tbody tr th {\n",
       "        vertical-align: top;\n",
       "    }\n",
       "\n",
       "    .dataframe thead th {\n",
       "        text-align: right;\n",
       "    }\n",
       "</style>\n",
       "<table border=\"1\" class=\"dataframe\">\n",
       "  <thead>\n",
       "    <tr style=\"text-align: right;\">\n",
       "      <th></th>\n",
       "      <th>Date</th>\n",
       "      <th>Drug1</th>\n",
       "      <th>Drug2</th>\n",
       "      <th>Drug3</th>\n",
       "      <th>Drug4</th>\n",
       "      <th>Drug5</th>\n",
       "      <th>Drug6</th>\n",
       "      <th>Drug7</th>\n",
       "      <th>Drug8</th>\n",
       "      <th>Drug1_Sales</th>\n",
       "      <th>Drug2_Sales</th>\n",
       "      <th>Drug3_Sales</th>\n",
       "      <th>Drug4_Sales</th>\n",
       "      <th>Drug5_Sales</th>\n",
       "      <th>Drug6_Sales</th>\n",
       "      <th>Drug7_Sales</th>\n",
       "      <th>Drug8_Sales</th>\n",
       "    </tr>\n",
       "  </thead>\n",
       "  <tbody>\n",
       "    <tr>\n",
       "      <th>0</th>\n",
       "      <td>2019-09-01</td>\n",
       "      <td>2.00</td>\n",
       "      <td>4.360</td>\n",
       "      <td>5.00</td>\n",
       "      <td>17.000</td>\n",
       "      <td>8.2</td>\n",
       "      <td>1.0</td>\n",
       "      <td>5.0</td>\n",
       "      <td>4.0</td>\n",
       "      <td>2000.0</td>\n",
       "      <td>3488.0</td>\n",
       "      <td>7500.0</td>\n",
       "      <td>10200.0</td>\n",
       "      <td>4510.0</td>\n",
       "      <td>10000.0</td>\n",
       "      <td>2250.0</td>\n",
       "      <td>3600.0</td>\n",
       "    </tr>\n",
       "    <tr>\n",
       "      <th>1</th>\n",
       "      <td>2019-09-02</td>\n",
       "      <td>5.33</td>\n",
       "      <td>2.087</td>\n",
       "      <td>2.50</td>\n",
       "      <td>18.000</td>\n",
       "      <td>7.0</td>\n",
       "      <td>0.0</td>\n",
       "      <td>1.0</td>\n",
       "      <td>9.0</td>\n",
       "      <td>5330.0</td>\n",
       "      <td>1669.6</td>\n",
       "      <td>3750.0</td>\n",
       "      <td>10800.0</td>\n",
       "      <td>3850.0</td>\n",
       "      <td>0.0</td>\n",
       "      <td>450.0</td>\n",
       "      <td>8100.0</td>\n",
       "    </tr>\n",
       "    <tr>\n",
       "      <th>2</th>\n",
       "      <td>2019-09-03</td>\n",
       "      <td>9.36</td>\n",
       "      <td>2.350</td>\n",
       "      <td>3.10</td>\n",
       "      <td>12.125</td>\n",
       "      <td>8.0</td>\n",
       "      <td>3.0</td>\n",
       "      <td>1.0</td>\n",
       "      <td>2.0</td>\n",
       "      <td>9360.0</td>\n",
       "      <td>1880.0</td>\n",
       "      <td>4650.0</td>\n",
       "      <td>7275.0</td>\n",
       "      <td>4400.0</td>\n",
       "      <td>30000.0</td>\n",
       "      <td>450.0</td>\n",
       "      <td>1800.0</td>\n",
       "    </tr>\n",
       "    <tr>\n",
       "      <th>3</th>\n",
       "      <td>2019-09-04</td>\n",
       "      <td>2.00</td>\n",
       "      <td>0.373</td>\n",
       "      <td>2.15</td>\n",
       "      <td>29.230</td>\n",
       "      <td>7.0</td>\n",
       "      <td>0.0</td>\n",
       "      <td>3.0</td>\n",
       "      <td>3.0</td>\n",
       "      <td>2000.0</td>\n",
       "      <td>298.4</td>\n",
       "      <td>3225.0</td>\n",
       "      <td>17538.0</td>\n",
       "      <td>3850.0</td>\n",
       "      <td>0.0</td>\n",
       "      <td>1350.0</td>\n",
       "      <td>2700.0</td>\n",
       "    </tr>\n",
       "    <tr>\n",
       "      <th>4</th>\n",
       "      <td>2019-09-05</td>\n",
       "      <td>7.00</td>\n",
       "      <td>9.530</td>\n",
       "      <td>2.00</td>\n",
       "      <td>14.000</td>\n",
       "      <td>1.0</td>\n",
       "      <td>0.0</td>\n",
       "      <td>1.0</td>\n",
       "      <td>8.0</td>\n",
       "      <td>7000.0</td>\n",
       "      <td>7624.0</td>\n",
       "      <td>3000.0</td>\n",
       "      <td>8400.0</td>\n",
       "      <td>550.0</td>\n",
       "      <td>0.0</td>\n",
       "      <td>450.0</td>\n",
       "      <td>7200.0</td>\n",
       "    </tr>\n",
       "  </tbody>\n",
       "</table>\n",
       "</div>"
      ],
      "text/plain": [
       "         Date  Drug1  Drug2  Drug3   Drug4  Drug5  Drug6  Drug7  Drug8  \\\n",
       "0  2019-09-01   2.00  4.360   5.00  17.000    8.2    1.0    5.0    4.0   \n",
       "1  2019-09-02   5.33  2.087   2.50  18.000    7.0    0.0    1.0    9.0   \n",
       "2  2019-09-03   9.36  2.350   3.10  12.125    8.0    3.0    1.0    2.0   \n",
       "3  2019-09-04   2.00  0.373   2.15  29.230    7.0    0.0    3.0    3.0   \n",
       "4  2019-09-05   7.00  9.530   2.00  14.000    1.0    0.0    1.0    8.0   \n",
       "\n",
       "   Drug1_Sales  Drug2_Sales  Drug3_Sales  Drug4_Sales  Drug5_Sales  \\\n",
       "0       2000.0       3488.0       7500.0      10200.0       4510.0   \n",
       "1       5330.0       1669.6       3750.0      10800.0       3850.0   \n",
       "2       9360.0       1880.0       4650.0       7275.0       4400.0   \n",
       "3       2000.0        298.4       3225.0      17538.0       3850.0   \n",
       "4       7000.0       7624.0       3000.0       8400.0        550.0   \n",
       "\n",
       "   Drug6_Sales  Drug7_Sales  Drug8_Sales  \n",
       "0      10000.0       2250.0       3600.0  \n",
       "1          0.0        450.0       8100.0  \n",
       "2      30000.0        450.0       1800.0  \n",
       "3          0.0       1350.0       2700.0  \n",
       "4          0.0        450.0       7200.0  "
      ]
     },
     "execution_count": 40,
     "metadata": {},
     "output_type": "execute_result"
    }
   ],
   "source": [
    "path = '/Users/bassel_instructor/Documents/Datasets/'\n",
    "\n",
    "df = pd.read_csv(path+'Drug_Sales.csv')\n",
    "df.head()"
   ]
  },
  {
   "cell_type": "markdown",
   "metadata": {},
   "source": [
    "In pandas you have to options to parse dates:\n",
    "- Method1: After importing the data, use `to_datetime()`\n",
    "- Method2 (easier): Importing the data using `parse_dates` in `read_csv()`\n"
   ]
  },
  {
   "cell_type": "code",
   "execution_count": 41,
   "metadata": {},
   "outputs": [
    {
     "data": {
      "text/plain": [
       "Date            object\n",
       "Drug1          float64\n",
       "Drug2          float64\n",
       "Drug3          float64\n",
       "Drug4          float64\n",
       "Drug5          float64\n",
       "Drug6          float64\n",
       "Drug7          float64\n",
       "Drug8          float64\n",
       "Drug1_Sales    float64\n",
       "Drug2_Sales    float64\n",
       "Drug3_Sales    float64\n",
       "Drug4_Sales    float64\n",
       "Drug5_Sales    float64\n",
       "Drug6_Sales    float64\n",
       "Drug7_Sales    float64\n",
       "Drug8_Sales    float64\n",
       "dtype: object"
      ]
     },
     "execution_count": 41,
     "metadata": {},
     "output_type": "execute_result"
    }
   ],
   "source": [
    "df.dtypes"
   ]
  },
  {
   "cell_type": "markdown",
   "metadata": {},
   "source": [
    "The date above is in object data type"
   ]
  },
  {
   "cell_type": "code",
   "execution_count": 42,
   "metadata": {},
   "outputs": [
    {
     "data": {
      "text/plain": [
       "Date           datetime64[ns]\n",
       "Drug1                 float64\n",
       "Drug2                 float64\n",
       "Drug3                 float64\n",
       "Drug4                 float64\n",
       "Drug5                 float64\n",
       "Drug6                 float64\n",
       "Drug7                 float64\n",
       "Drug8                 float64\n",
       "Drug1_Sales           float64\n",
       "Drug2_Sales           float64\n",
       "Drug3_Sales           float64\n",
       "Drug4_Sales           float64\n",
       "Drug5_Sales           float64\n",
       "Drug6_Sales           float64\n",
       "Drug7_Sales           float64\n",
       "Drug8_Sales           float64\n",
       "dtype: object"
      ]
     },
     "execution_count": 42,
     "metadata": {},
     "output_type": "execute_result"
    }
   ],
   "source": [
    "df['Date'] = pd.to_datetime(df['Date'])\n",
    "df.dtypes"
   ]
  },
  {
   "cell_type": "markdown",
   "metadata": {},
   "source": [
    "Method 2"
   ]
  },
  {
   "cell_type": "code",
   "execution_count": 43,
   "metadata": {},
   "outputs": [
    {
     "data": {
      "text/plain": [
       "Date           datetime64[ns]\n",
       "Drug1                 float64\n",
       "Drug2                 float64\n",
       "Drug3                 float64\n",
       "Drug4                 float64\n",
       "Drug5                 float64\n",
       "Drug6                 float64\n",
       "Drug7                 float64\n",
       "Drug8                 float64\n",
       "Drug1_Sales           float64\n",
       "Drug2_Sales           float64\n",
       "Drug3_Sales           float64\n",
       "Drug4_Sales           float64\n",
       "Drug5_Sales           float64\n",
       "Drug6_Sales           float64\n",
       "Drug7_Sales           float64\n",
       "Drug8_Sales           float64\n",
       "dtype: object"
      ]
     },
     "execution_count": 43,
     "metadata": {},
     "output_type": "execute_result"
    }
   ],
   "source": [
    "path = '/Users/bassel_instructor/Documents/Datasets/'\n",
    "\n",
    "df = pd.read_csv(path+'Drug_Sales.csv', parse_dates=['Date'])\n",
    "df.dtypes"
   ]
  },
  {
   "cell_type": "markdown",
   "metadata": {},
   "source": [
    "### Feature Extraction\n",
    "- After we convert the date column to datetime format, we're able to run different date operations and extract date parts\n",
    "- It's a good practice to define new columns and insert them next to the date format for readability (using `insert()` function)\n",
    "- `insert(position, name of the column, your function)`"
   ]
  },
  {
   "cell_type": "code",
   "execution_count": 44,
   "metadata": {},
   "outputs": [
    {
     "data": {
      "application/vnd.microsoft.datawrangler.viewer.v0+json": {
       "columns": [
        {
         "name": "index",
         "rawType": "int64",
         "type": "integer"
        },
        {
         "name": "Date",
         "rawType": "datetime64[ns]",
         "type": "datetime"
        },
        {
         "name": "Year",
         "rawType": "int32",
         "type": "integer"
        },
        {
         "name": "Month",
         "rawType": "int32",
         "type": "integer"
        },
        {
         "name": "Day",
         "rawType": "int32",
         "type": "integer"
        },
        {
         "name": "Drug1",
         "rawType": "float64",
         "type": "float"
        },
        {
         "name": "Drug2",
         "rawType": "float64",
         "type": "float"
        },
        {
         "name": "Drug3",
         "rawType": "float64",
         "type": "float"
        },
        {
         "name": "Drug4",
         "rawType": "float64",
         "type": "float"
        },
        {
         "name": "Drug5",
         "rawType": "float64",
         "type": "float"
        },
        {
         "name": "Drug6",
         "rawType": "float64",
         "type": "float"
        },
        {
         "name": "Drug7",
         "rawType": "float64",
         "type": "float"
        },
        {
         "name": "Drug8",
         "rawType": "float64",
         "type": "float"
        },
        {
         "name": "Drug1_Sales",
         "rawType": "float64",
         "type": "float"
        },
        {
         "name": "Drug2_Sales",
         "rawType": "float64",
         "type": "float"
        },
        {
         "name": "Drug3_Sales",
         "rawType": "float64",
         "type": "float"
        },
        {
         "name": "Drug4_Sales",
         "rawType": "float64",
         "type": "float"
        },
        {
         "name": "Drug5_Sales",
         "rawType": "float64",
         "type": "float"
        },
        {
         "name": "Drug6_Sales",
         "rawType": "float64",
         "type": "float"
        },
        {
         "name": "Drug7_Sales",
         "rawType": "float64",
         "type": "float"
        },
        {
         "name": "Drug8_Sales",
         "rawType": "float64",
         "type": "float"
        }
       ],
       "conversionMethod": "pd.DataFrame",
       "ref": "cd38c863-b551-447b-bc4d-3a090f7638b4",
       "rows": [
        [
         "0",
         "2019-09-01 00:00:00",
         "2019",
         "9",
         "1",
         "2.0",
         "4.36",
         "5.0",
         "17.0",
         "8.2",
         "1.0",
         "5.0",
         "4.0",
         "2000.0",
         "3488.0000000000005",
         "7500.0",
         "10200.0",
         "4510.0",
         "10000.0",
         "2250.0",
         "3600.0"
        ],
        [
         "1",
         "2019-09-02 00:00:00",
         "2019",
         "9",
         "2",
         "5.33",
         "2.087",
         "2.5",
         "18.0",
         "7.0",
         "0.0",
         "1.0",
         "9.0",
         "5330.0",
         "1669.6",
         "3750.0",
         "10800.0",
         "3850.0",
         "0.0",
         "450.0",
         "8100.0"
        ],
        [
         "2",
         "2019-09-03 00:00:00",
         "2019",
         "9",
         "3",
         "9.36",
         "2.35",
         "3.1",
         "12.125",
         "8.0",
         "3.0",
         "1.0",
         "2.0",
         "9360.0",
         "1880.0",
         "4650.0",
         "7275.0",
         "4400.0",
         "30000.0",
         "450.0",
         "1800.0"
        ],
        [
         "3",
         "2019-09-04 00:00:00",
         "2019",
         "9",
         "4",
         "2.0",
         "0.373",
         "2.15",
         "29.23",
         "7.0",
         "0.0",
         "3.0",
         "3.0",
         "2000.0",
         "298.4",
         "3225.0",
         "17538.0",
         "3850.0",
         "0.0",
         "1350.0",
         "2700.0"
        ],
        [
         "4",
         "2019-09-05 00:00:00",
         "2019",
         "9",
         "5",
         "7.0",
         "9.53",
         "2.0",
         "14.0",
         "1.0",
         "0.0",
         "1.0",
         "8.0",
         "7000.0",
         "7623.999999999999",
         "3000.0",
         "8400.0",
         "550.0",
         "0.0",
         "450.0",
         "7200.0"
        ]
       ],
       "shape": {
        "columns": 20,
        "rows": 5
       }
      },
      "text/html": [
       "<div>\n",
       "<style scoped>\n",
       "    .dataframe tbody tr th:only-of-type {\n",
       "        vertical-align: middle;\n",
       "    }\n",
       "\n",
       "    .dataframe tbody tr th {\n",
       "        vertical-align: top;\n",
       "    }\n",
       "\n",
       "    .dataframe thead th {\n",
       "        text-align: right;\n",
       "    }\n",
       "</style>\n",
       "<table border=\"1\" class=\"dataframe\">\n",
       "  <thead>\n",
       "    <tr style=\"text-align: right;\">\n",
       "      <th></th>\n",
       "      <th>Date</th>\n",
       "      <th>Year</th>\n",
       "      <th>Month</th>\n",
       "      <th>Day</th>\n",
       "      <th>Drug1</th>\n",
       "      <th>Drug2</th>\n",
       "      <th>Drug3</th>\n",
       "      <th>Drug4</th>\n",
       "      <th>Drug5</th>\n",
       "      <th>Drug6</th>\n",
       "      <th>Drug7</th>\n",
       "      <th>Drug8</th>\n",
       "      <th>Drug1_Sales</th>\n",
       "      <th>Drug2_Sales</th>\n",
       "      <th>Drug3_Sales</th>\n",
       "      <th>Drug4_Sales</th>\n",
       "      <th>Drug5_Sales</th>\n",
       "      <th>Drug6_Sales</th>\n",
       "      <th>Drug7_Sales</th>\n",
       "      <th>Drug8_Sales</th>\n",
       "    </tr>\n",
       "  </thead>\n",
       "  <tbody>\n",
       "    <tr>\n",
       "      <th>0</th>\n",
       "      <td>2019-09-01</td>\n",
       "      <td>2019</td>\n",
       "      <td>9</td>\n",
       "      <td>1</td>\n",
       "      <td>2.00</td>\n",
       "      <td>4.360</td>\n",
       "      <td>5.00</td>\n",
       "      <td>17.000</td>\n",
       "      <td>8.2</td>\n",
       "      <td>1.0</td>\n",
       "      <td>5.0</td>\n",
       "      <td>4.0</td>\n",
       "      <td>2000.0</td>\n",
       "      <td>3488.0</td>\n",
       "      <td>7500.0</td>\n",
       "      <td>10200.0</td>\n",
       "      <td>4510.0</td>\n",
       "      <td>10000.0</td>\n",
       "      <td>2250.0</td>\n",
       "      <td>3600.0</td>\n",
       "    </tr>\n",
       "    <tr>\n",
       "      <th>1</th>\n",
       "      <td>2019-09-02</td>\n",
       "      <td>2019</td>\n",
       "      <td>9</td>\n",
       "      <td>2</td>\n",
       "      <td>5.33</td>\n",
       "      <td>2.087</td>\n",
       "      <td>2.50</td>\n",
       "      <td>18.000</td>\n",
       "      <td>7.0</td>\n",
       "      <td>0.0</td>\n",
       "      <td>1.0</td>\n",
       "      <td>9.0</td>\n",
       "      <td>5330.0</td>\n",
       "      <td>1669.6</td>\n",
       "      <td>3750.0</td>\n",
       "      <td>10800.0</td>\n",
       "      <td>3850.0</td>\n",
       "      <td>0.0</td>\n",
       "      <td>450.0</td>\n",
       "      <td>8100.0</td>\n",
       "    </tr>\n",
       "    <tr>\n",
       "      <th>2</th>\n",
       "      <td>2019-09-03</td>\n",
       "      <td>2019</td>\n",
       "      <td>9</td>\n",
       "      <td>3</td>\n",
       "      <td>9.36</td>\n",
       "      <td>2.350</td>\n",
       "      <td>3.10</td>\n",
       "      <td>12.125</td>\n",
       "      <td>8.0</td>\n",
       "      <td>3.0</td>\n",
       "      <td>1.0</td>\n",
       "      <td>2.0</td>\n",
       "      <td>9360.0</td>\n",
       "      <td>1880.0</td>\n",
       "      <td>4650.0</td>\n",
       "      <td>7275.0</td>\n",
       "      <td>4400.0</td>\n",
       "      <td>30000.0</td>\n",
       "      <td>450.0</td>\n",
       "      <td>1800.0</td>\n",
       "    </tr>\n",
       "    <tr>\n",
       "      <th>3</th>\n",
       "      <td>2019-09-04</td>\n",
       "      <td>2019</td>\n",
       "      <td>9</td>\n",
       "      <td>4</td>\n",
       "      <td>2.00</td>\n",
       "      <td>0.373</td>\n",
       "      <td>2.15</td>\n",
       "      <td>29.230</td>\n",
       "      <td>7.0</td>\n",
       "      <td>0.0</td>\n",
       "      <td>3.0</td>\n",
       "      <td>3.0</td>\n",
       "      <td>2000.0</td>\n",
       "      <td>298.4</td>\n",
       "      <td>3225.0</td>\n",
       "      <td>17538.0</td>\n",
       "      <td>3850.0</td>\n",
       "      <td>0.0</td>\n",
       "      <td>1350.0</td>\n",
       "      <td>2700.0</td>\n",
       "    </tr>\n",
       "    <tr>\n",
       "      <th>4</th>\n",
       "      <td>2019-09-05</td>\n",
       "      <td>2019</td>\n",
       "      <td>9</td>\n",
       "      <td>5</td>\n",
       "      <td>7.00</td>\n",
       "      <td>9.530</td>\n",
       "      <td>2.00</td>\n",
       "      <td>14.000</td>\n",
       "      <td>1.0</td>\n",
       "      <td>0.0</td>\n",
       "      <td>1.0</td>\n",
       "      <td>8.0</td>\n",
       "      <td>7000.0</td>\n",
       "      <td>7624.0</td>\n",
       "      <td>3000.0</td>\n",
       "      <td>8400.0</td>\n",
       "      <td>550.0</td>\n",
       "      <td>0.0</td>\n",
       "      <td>450.0</td>\n",
       "      <td>7200.0</td>\n",
       "    </tr>\n",
       "  </tbody>\n",
       "</table>\n",
       "</div>"
      ],
      "text/plain": [
       "        Date  Year  Month  Day  Drug1  Drug2  Drug3   Drug4  Drug5  Drug6  \\\n",
       "0 2019-09-01  2019      9    1   2.00  4.360   5.00  17.000    8.2    1.0   \n",
       "1 2019-09-02  2019      9    2   5.33  2.087   2.50  18.000    7.0    0.0   \n",
       "2 2019-09-03  2019      9    3   9.36  2.350   3.10  12.125    8.0    3.0   \n",
       "3 2019-09-04  2019      9    4   2.00  0.373   2.15  29.230    7.0    0.0   \n",
       "4 2019-09-05  2019      9    5   7.00  9.530   2.00  14.000    1.0    0.0   \n",
       "\n",
       "   Drug7  Drug8  Drug1_Sales  Drug2_Sales  Drug3_Sales  Drug4_Sales  \\\n",
       "0    5.0    4.0       2000.0       3488.0       7500.0      10200.0   \n",
       "1    1.0    9.0       5330.0       1669.6       3750.0      10800.0   \n",
       "2    1.0    2.0       9360.0       1880.0       4650.0       7275.0   \n",
       "3    3.0    3.0       2000.0        298.4       3225.0      17538.0   \n",
       "4    1.0    8.0       7000.0       7624.0       3000.0       8400.0   \n",
       "\n",
       "   Drug5_Sales  Drug6_Sales  Drug7_Sales  Drug8_Sales  \n",
       "0       4510.0      10000.0       2250.0       3600.0  \n",
       "1       3850.0          0.0        450.0       8100.0  \n",
       "2       4400.0      30000.0        450.0       1800.0  \n",
       "3       3850.0          0.0       1350.0       2700.0  \n",
       "4        550.0          0.0        450.0       7200.0  "
      ]
     },
     "execution_count": 44,
     "metadata": {},
     "output_type": "execute_result"
    }
   ],
   "source": [
    "\n",
    "df.insert(1, 'Year', df['Date'].dt.year)\n",
    "df.insert(2, 'Month', df['Date'].dt.month)\n",
    "df.insert(3, 'Day', df['Date'].dt.day)\n",
    "\n",
    "df.head()"
   ]
  },
  {
   "cell_type": "markdown",
   "metadata": {},
   "source": [
    "If you don't know the index location, and want to insert after a specific column, use the following to get the index location."
   ]
  },
  {
   "cell_type": "code",
   "execution_count": 45,
   "metadata": {},
   "outputs": [
    {
     "data": {
      "text/plain": [
       "1"
      ]
     },
     "execution_count": 45,
     "metadata": {},
     "output_type": "execute_result"
    }
   ],
   "source": [
    "position_after_date = df.columns.get_loc('Date')+1\n",
    "position_after_date"
   ]
  },
  {
   "cell_type": "markdown",
   "metadata": {},
   "source": [
    "Use `strftime` to extract other date parts. e.g. use abbreviated day name"
   ]
  },
  {
   "cell_type": "code",
   "execution_count": 46,
   "metadata": {},
   "outputs": [
    {
     "data": {
      "application/vnd.microsoft.datawrangler.viewer.v0+json": {
       "columns": [
        {
         "name": "index",
         "rawType": "int64",
         "type": "integer"
        },
        {
         "name": "Date",
         "rawType": "datetime64[ns]",
         "type": "datetime"
        },
        {
         "name": "Year",
         "rawType": "int32",
         "type": "integer"
        },
        {
         "name": "Month",
         "rawType": "int32",
         "type": "integer"
        },
        {
         "name": "Day",
         "rawType": "int32",
         "type": "integer"
        },
        {
         "name": "DayName",
         "rawType": "object",
         "type": "string"
        },
        {
         "name": "Drug1",
         "rawType": "float64",
         "type": "float"
        },
        {
         "name": "Drug2",
         "rawType": "float64",
         "type": "float"
        },
        {
         "name": "Drug3",
         "rawType": "float64",
         "type": "float"
        },
        {
         "name": "Drug4",
         "rawType": "float64",
         "type": "float"
        },
        {
         "name": "Drug5",
         "rawType": "float64",
         "type": "float"
        },
        {
         "name": "Drug6",
         "rawType": "float64",
         "type": "float"
        },
        {
         "name": "Drug7",
         "rawType": "float64",
         "type": "float"
        },
        {
         "name": "Drug8",
         "rawType": "float64",
         "type": "float"
        },
        {
         "name": "Drug1_Sales",
         "rawType": "float64",
         "type": "float"
        },
        {
         "name": "Drug2_Sales",
         "rawType": "float64",
         "type": "float"
        },
        {
         "name": "Drug3_Sales",
         "rawType": "float64",
         "type": "float"
        },
        {
         "name": "Drug4_Sales",
         "rawType": "float64",
         "type": "float"
        },
        {
         "name": "Drug5_Sales",
         "rawType": "float64",
         "type": "float"
        },
        {
         "name": "Drug6_Sales",
         "rawType": "float64",
         "type": "float"
        },
        {
         "name": "Drug7_Sales",
         "rawType": "float64",
         "type": "float"
        },
        {
         "name": "Drug8_Sales",
         "rawType": "float64",
         "type": "float"
        }
       ],
       "conversionMethod": "pd.DataFrame",
       "ref": "1ffb54c7-07c6-4757-af86-8c25c1ed4a31",
       "rows": [
        [
         "0",
         "2019-09-01 00:00:00",
         "2019",
         "9",
         "1",
         "Sun",
         "2.0",
         "4.36",
         "5.0",
         "17.0",
         "8.2",
         "1.0",
         "5.0",
         "4.0",
         "2000.0",
         "3488.0000000000005",
         "7500.0",
         "10200.0",
         "4510.0",
         "10000.0",
         "2250.0",
         "3600.0"
        ],
        [
         "1",
         "2019-09-02 00:00:00",
         "2019",
         "9",
         "2",
         "Mon",
         "5.33",
         "2.087",
         "2.5",
         "18.0",
         "7.0",
         "0.0",
         "1.0",
         "9.0",
         "5330.0",
         "1669.6",
         "3750.0",
         "10800.0",
         "3850.0",
         "0.0",
         "450.0",
         "8100.0"
        ],
        [
         "2",
         "2019-09-03 00:00:00",
         "2019",
         "9",
         "3",
         "Tue",
         "9.36",
         "2.35",
         "3.1",
         "12.125",
         "8.0",
         "3.0",
         "1.0",
         "2.0",
         "9360.0",
         "1880.0",
         "4650.0",
         "7275.0",
         "4400.0",
         "30000.0",
         "450.0",
         "1800.0"
        ],
        [
         "3",
         "2019-09-04 00:00:00",
         "2019",
         "9",
         "4",
         "Wed",
         "2.0",
         "0.373",
         "2.15",
         "29.23",
         "7.0",
         "0.0",
         "3.0",
         "3.0",
         "2000.0",
         "298.4",
         "3225.0",
         "17538.0",
         "3850.0",
         "0.0",
         "1350.0",
         "2700.0"
        ],
        [
         "4",
         "2019-09-05 00:00:00",
         "2019",
         "9",
         "5",
         "Thu",
         "7.0",
         "9.53",
         "2.0",
         "14.0",
         "1.0",
         "0.0",
         "1.0",
         "8.0",
         "7000.0",
         "7623.999999999999",
         "3000.0",
         "8400.0",
         "550.0",
         "0.0",
         "450.0",
         "7200.0"
        ]
       ],
       "shape": {
        "columns": 21,
        "rows": 5
       }
      },
      "text/html": [
       "<div>\n",
       "<style scoped>\n",
       "    .dataframe tbody tr th:only-of-type {\n",
       "        vertical-align: middle;\n",
       "    }\n",
       "\n",
       "    .dataframe tbody tr th {\n",
       "        vertical-align: top;\n",
       "    }\n",
       "\n",
       "    .dataframe thead th {\n",
       "        text-align: right;\n",
       "    }\n",
       "</style>\n",
       "<table border=\"1\" class=\"dataframe\">\n",
       "  <thead>\n",
       "    <tr style=\"text-align: right;\">\n",
       "      <th></th>\n",
       "      <th>Date</th>\n",
       "      <th>Year</th>\n",
       "      <th>Month</th>\n",
       "      <th>Day</th>\n",
       "      <th>DayName</th>\n",
       "      <th>Drug1</th>\n",
       "      <th>Drug2</th>\n",
       "      <th>Drug3</th>\n",
       "      <th>Drug4</th>\n",
       "      <th>Drug5</th>\n",
       "      <th>...</th>\n",
       "      <th>Drug7</th>\n",
       "      <th>Drug8</th>\n",
       "      <th>Drug1_Sales</th>\n",
       "      <th>Drug2_Sales</th>\n",
       "      <th>Drug3_Sales</th>\n",
       "      <th>Drug4_Sales</th>\n",
       "      <th>Drug5_Sales</th>\n",
       "      <th>Drug6_Sales</th>\n",
       "      <th>Drug7_Sales</th>\n",
       "      <th>Drug8_Sales</th>\n",
       "    </tr>\n",
       "  </thead>\n",
       "  <tbody>\n",
       "    <tr>\n",
       "      <th>0</th>\n",
       "      <td>2019-09-01</td>\n",
       "      <td>2019</td>\n",
       "      <td>9</td>\n",
       "      <td>1</td>\n",
       "      <td>Sun</td>\n",
       "      <td>2.00</td>\n",
       "      <td>4.360</td>\n",
       "      <td>5.00</td>\n",
       "      <td>17.000</td>\n",
       "      <td>8.2</td>\n",
       "      <td>...</td>\n",
       "      <td>5.0</td>\n",
       "      <td>4.0</td>\n",
       "      <td>2000.0</td>\n",
       "      <td>3488.0</td>\n",
       "      <td>7500.0</td>\n",
       "      <td>10200.0</td>\n",
       "      <td>4510.0</td>\n",
       "      <td>10000.0</td>\n",
       "      <td>2250.0</td>\n",
       "      <td>3600.0</td>\n",
       "    </tr>\n",
       "    <tr>\n",
       "      <th>1</th>\n",
       "      <td>2019-09-02</td>\n",
       "      <td>2019</td>\n",
       "      <td>9</td>\n",
       "      <td>2</td>\n",
       "      <td>Mon</td>\n",
       "      <td>5.33</td>\n",
       "      <td>2.087</td>\n",
       "      <td>2.50</td>\n",
       "      <td>18.000</td>\n",
       "      <td>7.0</td>\n",
       "      <td>...</td>\n",
       "      <td>1.0</td>\n",
       "      <td>9.0</td>\n",
       "      <td>5330.0</td>\n",
       "      <td>1669.6</td>\n",
       "      <td>3750.0</td>\n",
       "      <td>10800.0</td>\n",
       "      <td>3850.0</td>\n",
       "      <td>0.0</td>\n",
       "      <td>450.0</td>\n",
       "      <td>8100.0</td>\n",
       "    </tr>\n",
       "    <tr>\n",
       "      <th>2</th>\n",
       "      <td>2019-09-03</td>\n",
       "      <td>2019</td>\n",
       "      <td>9</td>\n",
       "      <td>3</td>\n",
       "      <td>Tue</td>\n",
       "      <td>9.36</td>\n",
       "      <td>2.350</td>\n",
       "      <td>3.10</td>\n",
       "      <td>12.125</td>\n",
       "      <td>8.0</td>\n",
       "      <td>...</td>\n",
       "      <td>1.0</td>\n",
       "      <td>2.0</td>\n",
       "      <td>9360.0</td>\n",
       "      <td>1880.0</td>\n",
       "      <td>4650.0</td>\n",
       "      <td>7275.0</td>\n",
       "      <td>4400.0</td>\n",
       "      <td>30000.0</td>\n",
       "      <td>450.0</td>\n",
       "      <td>1800.0</td>\n",
       "    </tr>\n",
       "    <tr>\n",
       "      <th>3</th>\n",
       "      <td>2019-09-04</td>\n",
       "      <td>2019</td>\n",
       "      <td>9</td>\n",
       "      <td>4</td>\n",
       "      <td>Wed</td>\n",
       "      <td>2.00</td>\n",
       "      <td>0.373</td>\n",
       "      <td>2.15</td>\n",
       "      <td>29.230</td>\n",
       "      <td>7.0</td>\n",
       "      <td>...</td>\n",
       "      <td>3.0</td>\n",
       "      <td>3.0</td>\n",
       "      <td>2000.0</td>\n",
       "      <td>298.4</td>\n",
       "      <td>3225.0</td>\n",
       "      <td>17538.0</td>\n",
       "      <td>3850.0</td>\n",
       "      <td>0.0</td>\n",
       "      <td>1350.0</td>\n",
       "      <td>2700.0</td>\n",
       "    </tr>\n",
       "    <tr>\n",
       "      <th>4</th>\n",
       "      <td>2019-09-05</td>\n",
       "      <td>2019</td>\n",
       "      <td>9</td>\n",
       "      <td>5</td>\n",
       "      <td>Thu</td>\n",
       "      <td>7.00</td>\n",
       "      <td>9.530</td>\n",
       "      <td>2.00</td>\n",
       "      <td>14.000</td>\n",
       "      <td>1.0</td>\n",
       "      <td>...</td>\n",
       "      <td>1.0</td>\n",
       "      <td>8.0</td>\n",
       "      <td>7000.0</td>\n",
       "      <td>7624.0</td>\n",
       "      <td>3000.0</td>\n",
       "      <td>8400.0</td>\n",
       "      <td>550.0</td>\n",
       "      <td>0.0</td>\n",
       "      <td>450.0</td>\n",
       "      <td>7200.0</td>\n",
       "    </tr>\n",
       "  </tbody>\n",
       "</table>\n",
       "<p>5 rows × 21 columns</p>\n",
       "</div>"
      ],
      "text/plain": [
       "        Date  Year  Month  Day DayName  Drug1  Drug2  Drug3   Drug4  Drug5  \\\n",
       "0 2019-09-01  2019      9    1     Sun   2.00  4.360   5.00  17.000    8.2   \n",
       "1 2019-09-02  2019      9    2     Mon   5.33  2.087   2.50  18.000    7.0   \n",
       "2 2019-09-03  2019      9    3     Tue   9.36  2.350   3.10  12.125    8.0   \n",
       "3 2019-09-04  2019      9    4     Wed   2.00  0.373   2.15  29.230    7.0   \n",
       "4 2019-09-05  2019      9    5     Thu   7.00  9.530   2.00  14.000    1.0   \n",
       "\n",
       "   ...  Drug7  Drug8  Drug1_Sales  Drug2_Sales  Drug3_Sales  Drug4_Sales  \\\n",
       "0  ...    5.0    4.0       2000.0       3488.0       7500.0      10200.0   \n",
       "1  ...    1.0    9.0       5330.0       1669.6       3750.0      10800.0   \n",
       "2  ...    1.0    2.0       9360.0       1880.0       4650.0       7275.0   \n",
       "3  ...    3.0    3.0       2000.0        298.4       3225.0      17538.0   \n",
       "4  ...    1.0    8.0       7000.0       7624.0       3000.0       8400.0   \n",
       "\n",
       "   Drug5_Sales  Drug6_Sales  Drug7_Sales  Drug8_Sales  \n",
       "0       4510.0      10000.0       2250.0       3600.0  \n",
       "1       3850.0          0.0        450.0       8100.0  \n",
       "2       4400.0      30000.0        450.0       1800.0  \n",
       "3       3850.0          0.0       1350.0       2700.0  \n",
       "4        550.0          0.0        450.0       7200.0  \n",
       "\n",
       "[5 rows x 21 columns]"
      ]
     },
     "execution_count": 46,
     "metadata": {},
     "output_type": "execute_result"
    }
   ],
   "source": [
    "df.insert(4, 'DayName', df['Date'].dt.strftime('%a'))\n",
    "df.head()"
   ]
  },
  {
   "cell_type": "markdown",
   "metadata": {},
   "source": [
    "### Date Filtering"
   ]
  },
  {
   "cell_type": "code",
   "execution_count": 47,
   "metadata": {},
   "outputs": [
    {
     "data": {
      "application/vnd.microsoft.datawrangler.viewer.v0+json": {
       "columns": [
        {
         "name": "index",
         "rawType": "int64",
         "type": "integer"
        },
        {
         "name": "Date",
         "rawType": "datetime64[ns]",
         "type": "datetime"
        },
        {
         "name": "Year",
         "rawType": "int32",
         "type": "integer"
        },
        {
         "name": "Month",
         "rawType": "int32",
         "type": "integer"
        },
        {
         "name": "Day",
         "rawType": "int32",
         "type": "integer"
        },
        {
         "name": "DayName",
         "rawType": "object",
         "type": "string"
        },
        {
         "name": "Drug1",
         "rawType": "float64",
         "type": "float"
        },
        {
         "name": "Drug2",
         "rawType": "float64",
         "type": "float"
        },
        {
         "name": "Drug3",
         "rawType": "float64",
         "type": "float"
        },
        {
         "name": "Drug4",
         "rawType": "float64",
         "type": "float"
        },
        {
         "name": "Drug5",
         "rawType": "float64",
         "type": "float"
        },
        {
         "name": "Drug6",
         "rawType": "float64",
         "type": "float"
        },
        {
         "name": "Drug7",
         "rawType": "float64",
         "type": "float"
        },
        {
         "name": "Drug8",
         "rawType": "float64",
         "type": "float"
        },
        {
         "name": "Drug1_Sales",
         "rawType": "float64",
         "type": "float"
        },
        {
         "name": "Drug2_Sales",
         "rawType": "float64",
         "type": "float"
        },
        {
         "name": "Drug3_Sales",
         "rawType": "float64",
         "type": "float"
        },
        {
         "name": "Drug4_Sales",
         "rawType": "float64",
         "type": "float"
        },
        {
         "name": "Drug5_Sales",
         "rawType": "float64",
         "type": "float"
        },
        {
         "name": "Drug6_Sales",
         "rawType": "float64",
         "type": "float"
        },
        {
         "name": "Drug7_Sales",
         "rawType": "float64",
         "type": "float"
        },
        {
         "name": "Drug8_Sales",
         "rawType": "float64",
         "type": "float"
        }
       ],
       "conversionMethod": "pd.DataFrame",
       "ref": "f9ca230c-817c-4bc5-a75d-1e857edca033",
       "rows": [
        [
         "1",
         "2019-09-02 00:00:00",
         "2019",
         "9",
         "2",
         "Mon",
         "5.33",
         "2.087",
         "2.5",
         "18.0",
         "7.0",
         "0.0",
         "1.0",
         "9.0",
         "5330.0",
         "1669.6",
         "3750.0",
         "10800.0",
         "3850.0",
         "0.0",
         "450.0",
         "8100.0"
        ],
        [
         "2",
         "2019-09-03 00:00:00",
         "2019",
         "9",
         "3",
         "Tue",
         "9.36",
         "2.35",
         "3.1",
         "12.125",
         "8.0",
         "3.0",
         "1.0",
         "2.0",
         "9360.0",
         "1880.0",
         "4650.0",
         "7275.0",
         "4400.0",
         "30000.0",
         "450.0",
         "1800.0"
        ],
        [
         "3",
         "2019-09-04 00:00:00",
         "2019",
         "9",
         "4",
         "Wed",
         "2.0",
         "0.373",
         "2.15",
         "29.23",
         "7.0",
         "0.0",
         "3.0",
         "3.0",
         "2000.0",
         "298.4",
         "3225.0",
         "17538.0",
         "3850.0",
         "0.0",
         "1350.0",
         "2700.0"
        ],
        [
         "4",
         "2019-09-05 00:00:00",
         "2019",
         "9",
         "5",
         "Thu",
         "7.0",
         "9.53",
         "2.0",
         "14.0",
         "1.0",
         "0.0",
         "1.0",
         "8.0",
         "7000.0",
         "7623.999999999999",
         "3000.0",
         "8400.0",
         "550.0",
         "0.0",
         "450.0",
         "7200.0"
        ],
        [
         "5",
         "2019-09-06 00:00:00",
         "2019",
         "9",
         "6",
         "Fri",
         "1.68",
         "2.67",
         "1.0",
         "28.4",
         "7.0",
         "0.0",
         "0.0",
         "1.5",
         "1680.0",
         "2136.0",
         "1500.0",
         "17040.0",
         "3850.0",
         "0.0",
         "0.0",
         "1350.0"
        ]
       ],
       "shape": {
        "columns": 21,
        "rows": 5
       }
      },
      "text/html": [
       "<div>\n",
       "<style scoped>\n",
       "    .dataframe tbody tr th:only-of-type {\n",
       "        vertical-align: middle;\n",
       "    }\n",
       "\n",
       "    .dataframe tbody tr th {\n",
       "        vertical-align: top;\n",
       "    }\n",
       "\n",
       "    .dataframe thead th {\n",
       "        text-align: right;\n",
       "    }\n",
       "</style>\n",
       "<table border=\"1\" class=\"dataframe\">\n",
       "  <thead>\n",
       "    <tr style=\"text-align: right;\">\n",
       "      <th></th>\n",
       "      <th>Date</th>\n",
       "      <th>Year</th>\n",
       "      <th>Month</th>\n",
       "      <th>Day</th>\n",
       "      <th>DayName</th>\n",
       "      <th>Drug1</th>\n",
       "      <th>Drug2</th>\n",
       "      <th>Drug3</th>\n",
       "      <th>Drug4</th>\n",
       "      <th>Drug5</th>\n",
       "      <th>...</th>\n",
       "      <th>Drug7</th>\n",
       "      <th>Drug8</th>\n",
       "      <th>Drug1_Sales</th>\n",
       "      <th>Drug2_Sales</th>\n",
       "      <th>Drug3_Sales</th>\n",
       "      <th>Drug4_Sales</th>\n",
       "      <th>Drug5_Sales</th>\n",
       "      <th>Drug6_Sales</th>\n",
       "      <th>Drug7_Sales</th>\n",
       "      <th>Drug8_Sales</th>\n",
       "    </tr>\n",
       "  </thead>\n",
       "  <tbody>\n",
       "    <tr>\n",
       "      <th>1</th>\n",
       "      <td>2019-09-02</td>\n",
       "      <td>2019</td>\n",
       "      <td>9</td>\n",
       "      <td>2</td>\n",
       "      <td>Mon</td>\n",
       "      <td>5.33</td>\n",
       "      <td>2.087</td>\n",
       "      <td>2.50</td>\n",
       "      <td>18.000</td>\n",
       "      <td>7.0</td>\n",
       "      <td>...</td>\n",
       "      <td>1.0</td>\n",
       "      <td>9.0</td>\n",
       "      <td>5330.0</td>\n",
       "      <td>1669.6</td>\n",
       "      <td>3750.0</td>\n",
       "      <td>10800.0</td>\n",
       "      <td>3850.0</td>\n",
       "      <td>0.0</td>\n",
       "      <td>450.0</td>\n",
       "      <td>8100.0</td>\n",
       "    </tr>\n",
       "    <tr>\n",
       "      <th>2</th>\n",
       "      <td>2019-09-03</td>\n",
       "      <td>2019</td>\n",
       "      <td>9</td>\n",
       "      <td>3</td>\n",
       "      <td>Tue</td>\n",
       "      <td>9.36</td>\n",
       "      <td>2.350</td>\n",
       "      <td>3.10</td>\n",
       "      <td>12.125</td>\n",
       "      <td>8.0</td>\n",
       "      <td>...</td>\n",
       "      <td>1.0</td>\n",
       "      <td>2.0</td>\n",
       "      <td>9360.0</td>\n",
       "      <td>1880.0</td>\n",
       "      <td>4650.0</td>\n",
       "      <td>7275.0</td>\n",
       "      <td>4400.0</td>\n",
       "      <td>30000.0</td>\n",
       "      <td>450.0</td>\n",
       "      <td>1800.0</td>\n",
       "    </tr>\n",
       "    <tr>\n",
       "      <th>3</th>\n",
       "      <td>2019-09-04</td>\n",
       "      <td>2019</td>\n",
       "      <td>9</td>\n",
       "      <td>4</td>\n",
       "      <td>Wed</td>\n",
       "      <td>2.00</td>\n",
       "      <td>0.373</td>\n",
       "      <td>2.15</td>\n",
       "      <td>29.230</td>\n",
       "      <td>7.0</td>\n",
       "      <td>...</td>\n",
       "      <td>3.0</td>\n",
       "      <td>3.0</td>\n",
       "      <td>2000.0</td>\n",
       "      <td>298.4</td>\n",
       "      <td>3225.0</td>\n",
       "      <td>17538.0</td>\n",
       "      <td>3850.0</td>\n",
       "      <td>0.0</td>\n",
       "      <td>1350.0</td>\n",
       "      <td>2700.0</td>\n",
       "    </tr>\n",
       "    <tr>\n",
       "      <th>4</th>\n",
       "      <td>2019-09-05</td>\n",
       "      <td>2019</td>\n",
       "      <td>9</td>\n",
       "      <td>5</td>\n",
       "      <td>Thu</td>\n",
       "      <td>7.00</td>\n",
       "      <td>9.530</td>\n",
       "      <td>2.00</td>\n",
       "      <td>14.000</td>\n",
       "      <td>1.0</td>\n",
       "      <td>...</td>\n",
       "      <td>1.0</td>\n",
       "      <td>8.0</td>\n",
       "      <td>7000.0</td>\n",
       "      <td>7624.0</td>\n",
       "      <td>3000.0</td>\n",
       "      <td>8400.0</td>\n",
       "      <td>550.0</td>\n",
       "      <td>0.0</td>\n",
       "      <td>450.0</td>\n",
       "      <td>7200.0</td>\n",
       "    </tr>\n",
       "    <tr>\n",
       "      <th>5</th>\n",
       "      <td>2019-09-06</td>\n",
       "      <td>2019</td>\n",
       "      <td>9</td>\n",
       "      <td>6</td>\n",
       "      <td>Fri</td>\n",
       "      <td>1.68</td>\n",
       "      <td>2.670</td>\n",
       "      <td>1.00</td>\n",
       "      <td>28.400</td>\n",
       "      <td>7.0</td>\n",
       "      <td>...</td>\n",
       "      <td>0.0</td>\n",
       "      <td>1.5</td>\n",
       "      <td>1680.0</td>\n",
       "      <td>2136.0</td>\n",
       "      <td>1500.0</td>\n",
       "      <td>17040.0</td>\n",
       "      <td>3850.0</td>\n",
       "      <td>0.0</td>\n",
       "      <td>0.0</td>\n",
       "      <td>1350.0</td>\n",
       "    </tr>\n",
       "  </tbody>\n",
       "</table>\n",
       "<p>5 rows × 21 columns</p>\n",
       "</div>"
      ],
      "text/plain": [
       "        Date  Year  Month  Day DayName  Drug1  Drug2  Drug3   Drug4  Drug5  \\\n",
       "1 2019-09-02  2019      9    2     Mon   5.33  2.087   2.50  18.000    7.0   \n",
       "2 2019-09-03  2019      9    3     Tue   9.36  2.350   3.10  12.125    8.0   \n",
       "3 2019-09-04  2019      9    4     Wed   2.00  0.373   2.15  29.230    7.0   \n",
       "4 2019-09-05  2019      9    5     Thu   7.00  9.530   2.00  14.000    1.0   \n",
       "5 2019-09-06  2019      9    6     Fri   1.68  2.670   1.00  28.400    7.0   \n",
       "\n",
       "   ...  Drug7  Drug8  Drug1_Sales  Drug2_Sales  Drug3_Sales  Drug4_Sales  \\\n",
       "1  ...    1.0    9.0       5330.0       1669.6       3750.0      10800.0   \n",
       "2  ...    1.0    2.0       9360.0       1880.0       4650.0       7275.0   \n",
       "3  ...    3.0    3.0       2000.0        298.4       3225.0      17538.0   \n",
       "4  ...    1.0    8.0       7000.0       7624.0       3000.0       8400.0   \n",
       "5  ...    0.0    1.5       1680.0       2136.0       1500.0      17040.0   \n",
       "\n",
       "   Drug5_Sales  Drug6_Sales  Drug7_Sales  Drug8_Sales  \n",
       "1       3850.0          0.0        450.0       8100.0  \n",
       "2       4400.0      30000.0        450.0       1800.0  \n",
       "3       3850.0          0.0       1350.0       2700.0  \n",
       "4        550.0          0.0        450.0       7200.0  \n",
       "5       3850.0          0.0          0.0       1350.0  \n",
       "\n",
       "[5 rows x 21 columns]"
      ]
     },
     "execution_count": 47,
     "metadata": {},
     "output_type": "execute_result"
    }
   ],
   "source": [
    "my_filter = (df['Date']>'2019-09-01') & (df['Date']<='2019-09-06')\n",
    "\n",
    "df_filtered = df[my_filter]\n",
    "\n",
    "df_filtered"
   ]
  },
  {
   "cell_type": "markdown",
   "metadata": {},
   "source": [
    "### Aggregating Dates\n",
    "- If you already have date parts extracted, use those columns (e.g. Year, Day, etc..)\n",
    "- If you don't have date parts, you can use the `resample()` function"
   ]
  },
  {
   "cell_type": "markdown",
   "metadata": {},
   "source": [
    "Example 1: Get total sales by day for Drug1"
   ]
  },
  {
   "cell_type": "code",
   "execution_count": 48,
   "metadata": {},
   "outputs": [
    {
     "data": {
      "text/plain": [
       "<Axes: ylabel='DayName'>"
      ]
     },
     "execution_count": 48,
     "metadata": {},
     "output_type": "execute_result"
    },
    {
     "data": {
      "image/png": "[encoded data removed]",
      "text/plain": [
       "<Figure size 640x480 with 1 Axes>"
      ]
     },
     "metadata": {},
     "output_type": "display_data"
    }
   ],
   "source": [
    "df.groupby('DayName')['Drug1'].sum().plot(kind='barh')"
   ]
  },
  {
   "cell_type": "markdown",
   "metadata": {},
   "source": [
    "Example 2: before using `resample()`, you need to convert the date column into an index "
   ]
  },
  {
   "cell_type": "code",
   "execution_count": 49,
   "metadata": {},
   "outputs": [
    {
     "data": {
      "application/vnd.microsoft.datawrangler.viewer.v0+json": {
       "columns": [
        {
         "name": "Date",
         "rawType": "datetime64[ns]",
         "type": "datetime"
        },
        {
         "name": "Year",
         "rawType": "int32",
         "type": "integer"
        },
        {
         "name": "Month",
         "rawType": "int32",
         "type": "integer"
        },
        {
         "name": "Day",
         "rawType": "int32",
         "type": "integer"
        },
        {
         "name": "DayName",
         "rawType": "object",
         "type": "string"
        },
        {
         "name": "Drug1",
         "rawType": "float64",
         "type": "float"
        },
        {
         "name": "Drug2",
         "rawType": "float64",
         "type": "float"
        },
        {
         "name": "Drug3",
         "rawType": "float64",
         "type": "float"
        },
        {
         "name": "Drug4",
         "rawType": "float64",
         "type": "float"
        },
        {
         "name": "Drug5",
         "rawType": "float64",
         "type": "float"
        },
        {
         "name": "Drug6",
         "rawType": "float64",
         "type": "float"
        },
        {
         "name": "Drug7",
         "rawType": "float64",
         "type": "float"
        },
        {
         "name": "Drug8",
         "rawType": "float64",
         "type": "float"
        },
        {
         "name": "Drug1_Sales",
         "rawType": "float64",
         "type": "float"
        },
        {
         "name": "Drug2_Sales",
         "rawType": "float64",
         "type": "float"
        },
        {
         "name": "Drug3_Sales",
         "rawType": "float64",
         "type": "float"
        },
        {
         "name": "Drug4_Sales",
         "rawType": "float64",
         "type": "float"
        },
        {
         "name": "Drug5_Sales",
         "rawType": "float64",
         "type": "float"
        },
        {
         "name": "Drug6_Sales",
         "rawType": "float64",
         "type": "float"
        },
        {
         "name": "Drug7_Sales",
         "rawType": "float64",
         "type": "float"
        },
        {
         "name": "Drug8_Sales",
         "rawType": "float64",
         "type": "float"
        }
       ],
       "conversionMethod": "pd.DataFrame",
       "ref": "dca979f2-a5ea-414e-9c2f-819161ca523b",
       "rows": [
        [
         "2019-09-01 00:00:00",
         "2019",
         "9",
         "1",
         "Sun",
         "2.0",
         "4.36",
         "5.0",
         "17.0",
         "8.2",
         "1.0",
         "5.0",
         "4.0",
         "2000.0",
         "3488.0000000000005",
         "7500.0",
         "10200.0",
         "4510.0",
         "10000.0",
         "2250.0",
         "3600.0"
        ],
        [
         "2019-09-02 00:00:00",
         "2019",
         "9",
         "2",
         "Mon",
         "5.33",
         "2.087",
         "2.5",
         "18.0",
         "7.0",
         "0.0",
         "1.0",
         "9.0",
         "5330.0",
         "1669.6",
         "3750.0",
         "10800.0",
         "3850.0",
         "0.0",
         "450.0",
         "8100.0"
        ],
        [
         "2019-09-03 00:00:00",
         "2019",
         "9",
         "3",
         "Tue",
         "9.36",
         "2.35",
         "3.1",
         "12.125",
         "8.0",
         "3.0",
         "1.0",
         "2.0",
         "9360.0",
         "1880.0",
         "4650.0",
         "7275.0",
         "4400.0",
         "30000.0",
         "450.0",
         "1800.0"
        ],
        [
         "2019-09-04 00:00:00",
         "2019",
         "9",
         "4",
         "Wed",
         "2.0",
         "0.373",
         "2.15",
         "29.23",
         "7.0",
         "0.0",
         "3.0",
         "3.0",
         "2000.0",
         "298.4",
         "3225.0",
         "17538.0",
         "3850.0",
         "0.0",
         "1350.0",
         "2700.0"
        ],
        [
         "2019-09-05 00:00:00",
         "2019",
         "9",
         "5",
         "Thu",
         "7.0",
         "9.53",
         "2.0",
         "14.0",
         "1.0",
         "0.0",
         "1.0",
         "8.0",
         "7000.0",
         "7623.999999999999",
         "3000.0",
         "8400.0",
         "550.0",
         "0.0",
         "450.0",
         "7200.0"
        ]
       ],
       "shape": {
        "columns": 20,
        "rows": 5
       }
      },
      "text/html": [
       "<div>\n",
       "<style scoped>\n",
       "    .dataframe tbody tr th:only-of-type {\n",
       "        vertical-align: middle;\n",
       "    }\n",
       "\n",
       "    .dataframe tbody tr th {\n",
       "        vertical-align: top;\n",
       "    }\n",
       "\n",
       "    .dataframe thead th {\n",
       "        text-align: right;\n",
       "    }\n",
       "</style>\n",
       "<table border=\"1\" class=\"dataframe\">\n",
       "  <thead>\n",
       "    <tr style=\"text-align: right;\">\n",
       "      <th></th>\n",
       "      <th>Year</th>\n",
       "      <th>Month</th>\n",
       "      <th>Day</th>\n",
       "      <th>DayName</th>\n",
       "      <th>Drug1</th>\n",
       "      <th>Drug2</th>\n",
       "      <th>Drug3</th>\n",
       "      <th>Drug4</th>\n",
       "      <th>Drug5</th>\n",
       "      <th>Drug6</th>\n",
       "      <th>Drug7</th>\n",
       "      <th>Drug8</th>\n",
       "      <th>Drug1_Sales</th>\n",
       "      <th>Drug2_Sales</th>\n",
       "      <th>Drug3_Sales</th>\n",
       "      <th>Drug4_Sales</th>\n",
       "      <th>Drug5_Sales</th>\n",
       "      <th>Drug6_Sales</th>\n",
       "      <th>Drug7_Sales</th>\n",
       "      <th>Drug8_Sales</th>\n",
       "    </tr>\n",
       "    <tr>\n",
       "      <th>Date</th>\n",
       "      <th></th>\n",
       "      <th></th>\n",
       "      <th></th>\n",
       "      <th></th>\n",
       "      <th></th>\n",
       "      <th></th>\n",
       "      <th></th>\n",
       "      <th></th>\n",
       "      <th></th>\n",
       "      <th></th>\n",
       "      <th></th>\n",
       "      <th></th>\n",
       "      <th></th>\n",
       "      <th></th>\n",
       "      <th></th>\n",
       "      <th></th>\n",
       "      <th></th>\n",
       "      <th></th>\n",
       "      <th></th>\n",
       "      <th></th>\n",
       "    </tr>\n",
       "  </thead>\n",
       "  <tbody>\n",
       "    <tr>\n",
       "      <th>2019-09-01</th>\n",
       "      <td>2019</td>\n",
       "      <td>9</td>\n",
       "      <td>1</td>\n",
       "      <td>Sun</td>\n",
       "      <td>2.00</td>\n",
       "      <td>4.360</td>\n",
       "      <td>5.00</td>\n",
       "      <td>17.000</td>\n",
       "      <td>8.2</td>\n",
       "      <td>1.0</td>\n",
       "      <td>5.0</td>\n",
       "      <td>4.0</td>\n",
       "      <td>2000.0</td>\n",
       "      <td>3488.0</td>\n",
       "      <td>7500.0</td>\n",
       "      <td>10200.0</td>\n",
       "      <td>4510.0</td>\n",
       "      <td>10000.0</td>\n",
       "      <td>2250.0</td>\n",
       "      <td>3600.0</td>\n",
       "    </tr>\n",
       "    <tr>\n",
       "      <th>2019-09-02</th>\n",
       "      <td>2019</td>\n",
       "      <td>9</td>\n",
       "      <td>2</td>\n",
       "      <td>Mon</td>\n",
       "      <td>5.33</td>\n",
       "      <td>2.087</td>\n",
       "      <td>2.50</td>\n",
       "      <td>18.000</td>\n",
       "      <td>7.0</td>\n",
       "      <td>0.0</td>\n",
       "      <td>1.0</td>\n",
       "      <td>9.0</td>\n",
       "      <td>5330.0</td>\n",
       "      <td>1669.6</td>\n",
       "      <td>3750.0</td>\n",
       "      <td>10800.0</td>\n",
       "      <td>3850.0</td>\n",
       "      <td>0.0</td>\n",
       "      <td>450.0</td>\n",
       "      <td>8100.0</td>\n",
       "    </tr>\n",
       "    <tr>\n",
       "      <th>2019-09-03</th>\n",
       "      <td>2019</td>\n",
       "      <td>9</td>\n",
       "      <td>3</td>\n",
       "      <td>Tue</td>\n",
       "      <td>9.36</td>\n",
       "      <td>2.350</td>\n",
       "      <td>3.10</td>\n",
       "      <td>12.125</td>\n",
       "      <td>8.0</td>\n",
       "      <td>3.0</td>\n",
       "      <td>1.0</td>\n",
       "      <td>2.0</td>\n",
       "      <td>9360.0</td>\n",
       "      <td>1880.0</td>\n",
       "      <td>4650.0</td>\n",
       "      <td>7275.0</td>\n",
       "      <td>4400.0</td>\n",
       "      <td>30000.0</td>\n",
       "      <td>450.0</td>\n",
       "      <td>1800.0</td>\n",
       "    </tr>\n",
       "    <tr>\n",
       "      <th>2019-09-04</th>\n",
       "      <td>2019</td>\n",
       "      <td>9</td>\n",
       "      <td>4</td>\n",
       "      <td>Wed</td>\n",
       "      <td>2.00</td>\n",
       "      <td>0.373</td>\n",
       "      <td>2.15</td>\n",
       "      <td>29.230</td>\n",
       "      <td>7.0</td>\n",
       "      <td>0.0</td>\n",
       "      <td>3.0</td>\n",
       "      <td>3.0</td>\n",
       "      <td>2000.0</td>\n",
       "      <td>298.4</td>\n",
       "      <td>3225.0</td>\n",
       "      <td>17538.0</td>\n",
       "      <td>3850.0</td>\n",
       "      <td>0.0</td>\n",
       "      <td>1350.0</td>\n",
       "      <td>2700.0</td>\n",
       "    </tr>\n",
       "    <tr>\n",
       "      <th>2019-09-05</th>\n",
       "      <td>2019</td>\n",
       "      <td>9</td>\n",
       "      <td>5</td>\n",
       "      <td>Thu</td>\n",
       "      <td>7.00</td>\n",
       "      <td>9.530</td>\n",
       "      <td>2.00</td>\n",
       "      <td>14.000</td>\n",
       "      <td>1.0</td>\n",
       "      <td>0.0</td>\n",
       "      <td>1.0</td>\n",
       "      <td>8.0</td>\n",
       "      <td>7000.0</td>\n",
       "      <td>7624.0</td>\n",
       "      <td>3000.0</td>\n",
       "      <td>8400.0</td>\n",
       "      <td>550.0</td>\n",
       "      <td>0.0</td>\n",
       "      <td>450.0</td>\n",
       "      <td>7200.0</td>\n",
       "    </tr>\n",
       "  </tbody>\n",
       "</table>\n",
       "</div>"
      ],
      "text/plain": [
       "            Year  Month  Day DayName  Drug1  Drug2  Drug3   Drug4  Drug5  \\\n",
       "Date                                                                       \n",
       "2019-09-01  2019      9    1     Sun   2.00  4.360   5.00  17.000    8.2   \n",
       "2019-09-02  2019      9    2     Mon   5.33  2.087   2.50  18.000    7.0   \n",
       "2019-09-03  2019      9    3     Tue   9.36  2.350   3.10  12.125    8.0   \n",
       "2019-09-04  2019      9    4     Wed   2.00  0.373   2.15  29.230    7.0   \n",
       "2019-09-05  2019      9    5     Thu   7.00  9.530   2.00  14.000    1.0   \n",
       "\n",
       "            Drug6  Drug7  Drug8  Drug1_Sales  Drug2_Sales  Drug3_Sales  \\\n",
       "Date                                                                     \n",
       "2019-09-01    1.0    5.0    4.0       2000.0       3488.0       7500.0   \n",
       "2019-09-02    0.0    1.0    9.0       5330.0       1669.6       3750.0   \n",
       "2019-09-03    3.0    1.0    2.0       9360.0       1880.0       4650.0   \n",
       "2019-09-04    0.0    3.0    3.0       2000.0        298.4       3225.0   \n",
       "2019-09-05    0.0    1.0    8.0       7000.0       7624.0       3000.0   \n",
       "\n",
       "            Drug4_Sales  Drug5_Sales  Drug6_Sales  Drug7_Sales  Drug8_Sales  \n",
       "Date                                                                         \n",
       "2019-09-01      10200.0       4510.0      10000.0       2250.0       3600.0  \n",
       "2019-09-02      10800.0       3850.0          0.0        450.0       8100.0  \n",
       "2019-09-03       7275.0       4400.0      30000.0        450.0       1800.0  \n",
       "2019-09-04      17538.0       3850.0          0.0       1350.0       2700.0  \n",
       "2019-09-05       8400.0        550.0          0.0        450.0       7200.0  "
      ]
     },
     "execution_count": 49,
     "metadata": {},
     "output_type": "execute_result"
    }
   ],
   "source": [
    "df.set_index('Date', drop=True, inplace=True) #drop=True is used to get rid of the Date column and have only the index\n",
    "df.head() "
   ]
  },
  {
   "cell_type": "code",
   "execution_count": 50,
   "metadata": {},
   "outputs": [
    {
     "data": {
      "text/plain": [
       "DatetimeIndex(['2019-09-01', '2019-09-02', '2019-09-03', '2019-09-04',\n",
       "               '2019-09-05', '2019-09-06', '2019-09-07', '2019-09-08',\n",
       "               '2019-09-09', '2019-09-10', '2019-09-11', '2019-09-12',\n",
       "               '2019-09-13', '2019-09-14', '2019-09-15', '2019-09-16',\n",
       "               '2019-09-17', '2019-09-18', '2019-09-19', '2019-09-20',\n",
       "               '2019-09-21', '2019-09-22', '2019-09-23', '2019-09-24',\n",
       "               '2019-09-25', '2019-09-26', '2019-09-27', '2019-09-28',\n",
       "               '2019-09-29', '2019-09-30'],\n",
       "              dtype='datetime64[ns]', name='Date', freq=None)"
      ]
     },
     "execution_count": 50,
     "metadata": {},
     "output_type": "execute_result"
    }
   ],
   "source": [
    "df.index"
   ]
  },
  {
   "cell_type": "markdown",
   "metadata": {},
   "source": [
    "From here, we can resample (group by) date parts (e.g. month, weeks, 3 days, etc..)"
   ]
  },
  {
   "cell_type": "markdown",
   "metadata": {},
   "source": [
    "- Below, we'll sum all numeric values by week.\n",
    "- We'll drop the 'Year','Day','Month','DayName' columns because it doesn't make sense to aggregate them."
   ]
  },
  {
   "cell_type": "code",
   "execution_count": 51,
   "metadata": {},
   "outputs": [
    {
     "data": {
      "application/vnd.microsoft.datawrangler.viewer.v0+json": {
       "columns": [
        {
         "name": "Date",
         "rawType": "datetime64[ns]",
         "type": "datetime"
        },
        {
         "name": "Drug1",
         "rawType": "float64",
         "type": "float"
        },
        {
         "name": "Drug2",
         "rawType": "float64",
         "type": "float"
        },
        {
         "name": "Drug3",
         "rawType": "float64",
         "type": "float"
        },
        {
         "name": "Drug4",
         "rawType": "float64",
         "type": "float"
        },
        {
         "name": "Drug5",
         "rawType": "float64",
         "type": "float"
        },
        {
         "name": "Drug6",
         "rawType": "float64",
         "type": "float"
        },
        {
         "name": "Drug7",
         "rawType": "float64",
         "type": "float"
        },
        {
         "name": "Drug8",
         "rawType": "float64",
         "type": "float"
        },
        {
         "name": "Drug1_Sales",
         "rawType": "float64",
         "type": "float"
        },
        {
         "name": "Drug2_Sales",
         "rawType": "float64",
         "type": "float"
        },
        {
         "name": "Drug3_Sales",
         "rawType": "float64",
         "type": "float"
        },
        {
         "name": "Drug4_Sales",
         "rawType": "float64",
         "type": "float"
        },
        {
         "name": "Drug5_Sales",
         "rawType": "float64",
         "type": "float"
        },
        {
         "name": "Drug6_Sales",
         "rawType": "float64",
         "type": "float"
        },
        {
         "name": "Drug7_Sales",
         "rawType": "float64",
         "type": "float"
        },
        {
         "name": "Drug8_Sales",
         "rawType": "float64",
         "type": "float"
        }
       ],
       "conversionMethod": "pd.DataFrame",
       "ref": "d90de781-8f63-4550-b9b6-90c846d1d5ee",
       "rows": [
        [
         "2019-09-01 00:00:00",
         "2.0",
         "4.36",
         "5.0",
         "17.0",
         "8.2",
         "1.0",
         "5.0",
         "4.0",
         "2000.0",
         "3488.0000000000005",
         "7500.0",
         "10200.0",
         "4510.0",
         "10000.0",
         "2250.0",
         "3600.0"
        ],
        [
         "2019-09-08 00:00:00",
         "40.71",
         "26.767",
         "15.75",
         "154.755",
         "51.0",
         "6.0",
         "15.0",
         "28.5",
         "40710.0",
         "21413.6",
         "23625.0",
         "92853.0",
         "28050.0",
         "60000.0",
         "6750.0",
         "25650.0"
        ],
        [
         "2019-09-15 00:00:00",
         "35.51",
         "30.977",
         "19.65",
         "178.375",
         "67.2",
         "5.0",
         "30.0",
         "30.5",
         "35510.0",
         "24781.6",
         "29475.0",
         "107025.0",
         "36960.0",
         "50000.0",
         "13500.0",
         "27450.0"
        ],
        [
         "2019-09-22 00:00:00",
         "46.84",
         "25.396",
         "24.4",
         "248.25",
         "31.2",
         "3.0",
         "26.0",
         "21.0",
         "46840.0",
         "20316.8",
         "36600.0",
         "148950.0",
         "17160.0",
         "30000.0",
         "11700.0",
         "18900.0"
        ],
        [
         "2019-09-29 00:00:00",
         "34.01",
         "22.498",
         "26.6",
         "336.7",
         "61.2",
         "1.0",
         "40.416666667",
         "23.1",
         "34010.0",
         "17998.4",
         "39900.0",
         "202020.0",
         "33660.0",
         "10000.0",
         "18187.50000015",
         "20790.0"
        ]
       ],
       "shape": {
        "columns": 16,
        "rows": 5
       }
      },
      "text/html": [
       "<div>\n",
       "<style scoped>\n",
       "    .dataframe tbody tr th:only-of-type {\n",
       "        vertical-align: middle;\n",
       "    }\n",
       "\n",
       "    .dataframe tbody tr th {\n",
       "        vertical-align: top;\n",
       "    }\n",
       "\n",
       "    .dataframe thead th {\n",
       "        text-align: right;\n",
       "    }\n",
       "</style>\n",
       "<table border=\"1\" class=\"dataframe\">\n",
       "  <thead>\n",
       "    <tr style=\"text-align: right;\">\n",
       "      <th></th>\n",
       "      <th>Drug1</th>\n",
       "      <th>Drug2</th>\n",
       "      <th>Drug3</th>\n",
       "      <th>Drug4</th>\n",
       "      <th>Drug5</th>\n",
       "      <th>Drug6</th>\n",
       "      <th>Drug7</th>\n",
       "      <th>Drug8</th>\n",
       "      <th>Drug1_Sales</th>\n",
       "      <th>Drug2_Sales</th>\n",
       "      <th>Drug3_Sales</th>\n",
       "      <th>Drug4_Sales</th>\n",
       "      <th>Drug5_Sales</th>\n",
       "      <th>Drug6_Sales</th>\n",
       "      <th>Drug7_Sales</th>\n",
       "      <th>Drug8_Sales</th>\n",
       "    </tr>\n",
       "    <tr>\n",
       "      <th>Date</th>\n",
       "      <th></th>\n",
       "      <th></th>\n",
       "      <th></th>\n",
       "      <th></th>\n",
       "      <th></th>\n",
       "      <th></th>\n",
       "      <th></th>\n",
       "      <th></th>\n",
       "      <th></th>\n",
       "      <th></th>\n",
       "      <th></th>\n",
       "      <th></th>\n",
       "      <th></th>\n",
       "      <th></th>\n",
       "      <th></th>\n",
       "      <th></th>\n",
       "    </tr>\n",
       "  </thead>\n",
       "  <tbody>\n",
       "    <tr>\n",
       "      <th>2019-09-01</th>\n",
       "      <td>2.00</td>\n",
       "      <td>4.360</td>\n",
       "      <td>5.00</td>\n",
       "      <td>17.000</td>\n",
       "      <td>8.2</td>\n",
       "      <td>1.0</td>\n",
       "      <td>5.000000</td>\n",
       "      <td>4.0</td>\n",
       "      <td>2000.0</td>\n",
       "      <td>3488.0</td>\n",
       "      <td>7500.0</td>\n",
       "      <td>10200.0</td>\n",
       "      <td>4510.0</td>\n",
       "      <td>10000.0</td>\n",
       "      <td>2250.0</td>\n",
       "      <td>3600.0</td>\n",
       "    </tr>\n",
       "    <tr>\n",
       "      <th>2019-09-08</th>\n",
       "      <td>40.71</td>\n",
       "      <td>26.767</td>\n",
       "      <td>15.75</td>\n",
       "      <td>154.755</td>\n",
       "      <td>51.0</td>\n",
       "      <td>6.0</td>\n",
       "      <td>15.000000</td>\n",
       "      <td>28.5</td>\n",
       "      <td>40710.0</td>\n",
       "      <td>21413.6</td>\n",
       "      <td>23625.0</td>\n",
       "      <td>92853.0</td>\n",
       "      <td>28050.0</td>\n",
       "      <td>60000.0</td>\n",
       "      <td>6750.0</td>\n",
       "      <td>25650.0</td>\n",
       "    </tr>\n",
       "    <tr>\n",
       "      <th>2019-09-15</th>\n",
       "      <td>35.51</td>\n",
       "      <td>30.977</td>\n",
       "      <td>19.65</td>\n",
       "      <td>178.375</td>\n",
       "      <td>67.2</td>\n",
       "      <td>5.0</td>\n",
       "      <td>30.000000</td>\n",
       "      <td>30.5</td>\n",
       "      <td>35510.0</td>\n",
       "      <td>24781.6</td>\n",
       "      <td>29475.0</td>\n",
       "      <td>107025.0</td>\n",
       "      <td>36960.0</td>\n",
       "      <td>50000.0</td>\n",
       "      <td>13500.0</td>\n",
       "      <td>27450.0</td>\n",
       "    </tr>\n",
       "    <tr>\n",
       "      <th>2019-09-22</th>\n",
       "      <td>46.84</td>\n",
       "      <td>25.396</td>\n",
       "      <td>24.40</td>\n",
       "      <td>248.250</td>\n",
       "      <td>31.2</td>\n",
       "      <td>3.0</td>\n",
       "      <td>26.000000</td>\n",
       "      <td>21.0</td>\n",
       "      <td>46840.0</td>\n",
       "      <td>20316.8</td>\n",
       "      <td>36600.0</td>\n",
       "      <td>148950.0</td>\n",
       "      <td>17160.0</td>\n",
       "      <td>30000.0</td>\n",
       "      <td>11700.0</td>\n",
       "      <td>18900.0</td>\n",
       "    </tr>\n",
       "    <tr>\n",
       "      <th>2019-09-29</th>\n",
       "      <td>34.01</td>\n",
       "      <td>22.498</td>\n",
       "      <td>26.60</td>\n",
       "      <td>336.700</td>\n",
       "      <td>61.2</td>\n",
       "      <td>1.0</td>\n",
       "      <td>40.416667</td>\n",
       "      <td>23.1</td>\n",
       "      <td>34010.0</td>\n",
       "      <td>17998.4</td>\n",
       "      <td>39900.0</td>\n",
       "      <td>202020.0</td>\n",
       "      <td>33660.0</td>\n",
       "      <td>10000.0</td>\n",
       "      <td>18187.5</td>\n",
       "      <td>20790.0</td>\n",
       "    </tr>\n",
       "  </tbody>\n",
       "</table>\n",
       "</div>"
      ],
      "text/plain": [
       "            Drug1   Drug2  Drug3    Drug4  Drug5  Drug6      Drug7  Drug8  \\\n",
       "Date                                                                        \n",
       "2019-09-01   2.00   4.360   5.00   17.000    8.2    1.0   5.000000    4.0   \n",
       "2019-09-08  40.71  26.767  15.75  154.755   51.0    6.0  15.000000   28.5   \n",
       "2019-09-15  35.51  30.977  19.65  178.375   67.2    5.0  30.000000   30.5   \n",
       "2019-09-22  46.84  25.396  24.40  248.250   31.2    3.0  26.000000   21.0   \n",
       "2019-09-29  34.01  22.498  26.60  336.700   61.2    1.0  40.416667   23.1   \n",
       "\n",
       "            Drug1_Sales  Drug2_Sales  Drug3_Sales  Drug4_Sales  Drug5_Sales  \\\n",
       "Date                                                                          \n",
       "2019-09-01       2000.0       3488.0       7500.0      10200.0       4510.0   \n",
       "2019-09-08      40710.0      21413.6      23625.0      92853.0      28050.0   \n",
       "2019-09-15      35510.0      24781.6      29475.0     107025.0      36960.0   \n",
       "2019-09-22      46840.0      20316.8      36600.0     148950.0      17160.0   \n",
       "2019-09-29      34010.0      17998.4      39900.0     202020.0      33660.0   \n",
       "\n",
       "            Drug6_Sales  Drug7_Sales  Drug8_Sales  \n",
       "Date                                               \n",
       "2019-09-01      10000.0       2250.0       3600.0  \n",
       "2019-09-08      60000.0       6750.0      25650.0  \n",
       "2019-09-15      50000.0      13500.0      27450.0  \n",
       "2019-09-22      30000.0      11700.0      18900.0  \n",
       "2019-09-29      10000.0      18187.5      20790.0  "
      ]
     },
     "execution_count": 51,
     "metadata": {},
     "output_type": "execute_result"
    }
   ],
   "source": [
    "weekly_sum = df.drop(columns=['Year','Day','Month','DayName']).resample('W').sum()\n",
    "weekly_sum.head()"
   ]
  },
  {
   "cell_type": "markdown",
   "metadata": {},
   "source": [
    "Compare Drug 1 and Drug 2 sales"
   ]
  },
  {
   "cell_type": "code",
   "execution_count": 52,
   "metadata": {},
   "outputs": [
    {
     "data": {
      "text/plain": [
       "<Axes: xlabel='Date'>"
      ]
     },
     "execution_count": 52,
     "metadata": {},
     "output_type": "execute_result"
    },
    {
     "data": {
      "image/png": "[encoded data removed]",
      "text/plain": [
       "<Figure size 640x480 with 1 Axes>"
      ]
     },
     "metadata": {},
     "output_type": "display_data"
    }
   ],
   "source": [
    "weekly_sum[['Drug1', 'Drug2']].plot(kind='bar', rot=45)"
   ]
  },
  {
   "cell_type": "code",
   "execution_count": 56,
   "metadata": {},
   "outputs": [
    {
     "data": {
      "image/png": "[encoded data removed]",
      "text/plain": [
       "<Figure size 640x480 with 1 Axes>"
      ]
     },
     "metadata": {},
     "output_type": "display_data"
    }
   ],
   "source": [
    "import matplotlib.pyplot as plt\n",
    "\n",
    "weekly_sum[['Drug1', 'Drug2']].plot(kind='bar', stacked=True, rot=45)\n",
    "plt.title('Weekly Drug Usage')\n",
    "plt.xlabel('Week')\n",
    "plt.ylabel('Total Usage')\n",
    "plt.tight_layout()\n",
    "plt.show()\n"
   ]
  },
  {
   "cell_type": "code",
   "execution_count": null,
   "metadata": {},
   "outputs": [],
   "source": []
  }
 ],
 "metadata": {
  "kernelspec": {
   "display_name": "Python 3",
   "language": "python",
   "name": "python3"
  },
  "language_info": {
   "codemirror_mode": {
    "name": "ipython",
    "version": 3
   },
   "file_extension": ".py",
   "mimetype": "text/x-python",
   "name": "python",
   "nbconvert_exporter": "python",
   "pygments_lexer": "ipython3",
   "version": "3.11.3"
  }
 },
 "nbformat": 4,
 "nbformat_minor": 2
}
