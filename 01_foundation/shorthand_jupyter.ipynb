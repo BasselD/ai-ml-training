{
 "cells": [
  {
   "cell_type": "markdown",
   "metadata": {},
   "source": [
    "## Jupiter Notebook Shorthand Reference\n",
    "\n",
    "#### Reference Link: \n",
    "#### **_https://www.dataschool.io/jupyter-notebook-keyboard-shortcuts/#:~:text=Cmd%20%2B%20Enter%20(Mac)%2C,move%20to%20the%20cell%20below_**\n",
    "\n",
    "### Command and Edit Modes 🎛\n",
    "Before we begin, it's critical that you're aware of the difference between Command Mode and Edit Mode, since different shortcuts work for each mode.\n",
    "\n",
    "In **_Command Mode_**, there's a gray border with a blue bar, whereas in Edit **_Mode_**, there's a blinking cursor and a green border:\n",
    "\n",
    "Command and Edit modes\n",
    "\n",
    "## How to switch modes:\n",
    "\n",
    "#### - **_Esc_**: Switch to Command Mode\n",
    "#### - **_Enter_**: Switch to Edit Mode\n",
    "\n",
    "## Command Mode:\n",
    "\n",
    "  - **_up / down arrows_**: Navigate up and down\n",
    "\n",
    "  - **_a / b_**: Create a cell above (a) or below (b) the current cell\n",
    "  \n",
    "  - **_m / y_**: Change the cell type to Markdown (m) or code (y)\n",
    "  \n",
    "  - **_Shift+up or Shift+down_**: Select multiple cells\n",
    " \n",
    "  - **_Shift+m_**: Merge cells\n",
    "  \n",
    "  - **_x / c / v_**: Cut **_(x)_**, copy **_(c)_**, or paste **_(v)_** cells\n",
    " \n",
    "  - **_s_**: Save the notebook\n",
    "    - JupyterLab: **_Cmd+s_** (Mac), **_Ctrl+s_** (Windows)\n",
    " \n",
    "  - **_Cmd+Enter_**: run the selected cell and add a new cell below it\n",
    "\n",
    "  - **_dd_** (meaning d twice) to delete cells, or  I just use **_x_** instead.\n",
    "\n",
    "  - **_h_**: Show all keyboard shortcuts\n",
    "    - JupyterLab: not available\n",
    "\n",
    "## Edit Mode:\n",
    "  - Ctrl+Shift+-: Split the current cell at the cursor\n",
    "  - Cmd+z (Mac), Ctrl+z (Windows): Undo text edits or deletions\n",
    "  - Tab: Code completion (when writing code) or indent (at the start of a line)\n",
    "You can also use standard text editor keyboard shortcuts for cut, copy, and paste.\n",
    "\n",
    "You can also use standard text editor keyboard shortcuts for cut, copy, and paste.\n",
    "\n",
    "## Either Mode:\n",
    "  - **Cmd+Enter (Mac)**, Ctrl+Enter (Windows): Run the selected cell\n",
    "  - **Shift+Enter:** Run the selected cell and move to the cell below"
   ]
  },
  {
   "cell_type": "code",
   "execution_count": null,
   "metadata": {
    "vscode": {
     "languageId": "plaintext"
    }
   },
   "outputs": [],
   "source": []
  }
 ],
 "metadata": {
  "kernelspec": {
   "display_name": "Python 3",
   "language": "python",
   "name": "python3"
  },
  "language_info": {
   "name": "python",
   "version": "3.11.6"
  }
 },
 "nbformat": 4,
 "nbformat_minor": 2
}
