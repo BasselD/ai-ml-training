{
 "cells": [
  {
   "cell_type": "markdown",
   "metadata": {},
   "source": [
    "- load the data using `loadtxt`\n",
    "- get the shape\n",
    "- convert the array into a 2d array\n",
    "- build a new array with values less than 100\n",
    "- calculate the mean, median, and SD\n"
   ]
  },
  {
   "cell_type": "code",
   "execution_count": 12,
   "metadata": {},
   "outputs": [
    {
     "data": {
      "text/plain": [
       "array([  9., 167.,  30.,  71., 102.,  87., 229., 227.,  91.,  78.,  84.,\n",
       "       177.,  91.,  26., 226.,   7.,  92., 215., 185.,  86., 119., 191.,\n",
       "        21., 182.,  53.,  70., 185., 129., 232.,  28., 106., 136.,  62.,\n",
       "       168., 139., 154., 149., 125., 188.,  29., 180.,   7., 166., 228.,\n",
       "        72.,  25., 114., 135.,  54., 208.,  33., 228., 125.,  82.,  69.,\n",
       "        53., 218.,  90.,  52., 153., 101., 157., 160.,   9., 187.,  20.,\n",
       "        93.,  42.,  65., 225.,  56.,  55.])"
      ]
     },
     "execution_count": 12,
     "metadata": {},
     "output_type": "execute_result"
    }
   ],
   "source": [
    "import numpy as np\n",
    "\n",
    "# Reading a CSV file\n",
    "data = np.loadtxt('num_data.csv', delimiter=',')\n",
    "data\n"
   ]
  },
  {
   "cell_type": "code",
   "execution_count": 13,
   "metadata": {},
   "outputs": [
    {
     "data": {
      "text/plain": [
       "(72,)"
      ]
     },
     "execution_count": 13,
     "metadata": {},
     "output_type": "execute_result"
    }
   ],
   "source": [
    "np.shape(data)"
   ]
  },
  {
   "cell_type": "code",
   "execution_count": 18,
   "metadata": {},
   "outputs": [
    {
     "data": {
      "text/plain": [
       "array([[  9., 167.,  30.,  71., 102.,  87., 229., 227.],\n",
       "       [ 91.,  78.,  84., 177.,  91.,  26., 226.,   7.],\n",
       "       [ 92., 215., 185.,  86., 119., 191.,  21., 182.],\n",
       "       [ 53.,  70., 185., 129., 232.,  28., 106., 136.],\n",
       "       [ 62., 168., 139., 154., 149., 125., 188.,  29.],\n",
       "       [180.,   7., 166., 228.,  72.,  25., 114., 135.],\n",
       "       [ 54., 208.,  33., 228., 125.,  82.,  69.,  53.],\n",
       "       [218.,  90.,  52., 153., 101., 157., 160.,   9.],\n",
       "       [187.,  20.,  93.,  42.,  65., 225.,  56.,  55.]])"
      ]
     },
     "execution_count": 18,
     "metadata": {},
     "output_type": "execute_result"
    }
   ],
   "source": [
    "data.reshape(9,8) "
   ]
  },
  {
   "cell_type": "code",
   "execution_count": 19,
   "metadata": {},
   "outputs": [],
   "source": [
    "mask = np.where(data < 100)\n",
    "filtered_array = data[mask]\n",
    "\n"
   ]
  },
  {
   "cell_type": "code",
   "execution_count": 20,
   "metadata": {},
   "outputs": [
    {
     "data": {
      "text/plain": [
       "array([ 9., 30., 71., 87., 91., 78., 84., 91., 26.,  7., 92., 86., 21.,\n",
       "       53., 70., 28., 62., 29.,  7., 72., 25., 54., 33., 82., 69., 53.,\n",
       "       90., 52.,  9., 20., 93., 42., 65., 56., 55.])"
      ]
     },
     "execution_count": 20,
     "metadata": {},
     "output_type": "execute_result"
    }
   ],
   "source": [
    "filtered_array"
   ]
  },
  {
   "cell_type": "code",
   "execution_count": null,
   "metadata": {},
   "outputs": [],
   "source": []
  }
 ],
 "metadata": {
  "kernelspec": {
   "display_name": "Python 3",
   "language": "python",
   "name": "python3"
  },
  "language_info": {
   "codemirror_mode": {
    "name": "ipython",
    "version": 3
   },
   "file_extension": ".py",
   "mimetype": "text/x-python",
   "name": "python",
   "nbconvert_exporter": "python",
   "pygments_lexer": "ipython3",
   "version": "3.11.3"
  }
 },
 "nbformat": 4,
 "nbformat_minor": 2
}
