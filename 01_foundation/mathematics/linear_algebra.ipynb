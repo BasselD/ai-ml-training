{
 "cells": [
  {
   "cell_type": "markdown",
   "metadata": {},
   "source": [
    "# Linear Algebra"
   ]
  },
  {
   "cell_type": "markdown",
   "metadata": {},
   "source": [
    "1. Introduction\n",
    "2. Scalers and Vectors\n",
    "3. Vector Operations\n",
    "    - Arithmetics\n",
    "    - Norm of a vector\n",
    "4. Matrices\n",
    "    - Arithmetics\n",
    "    - Rank of a matrix\n",
    "    - Inverse\n",
    "    - Determinants\n",
    "    - Identity Matrix\n",
    "5. Eigenvectors and Eigenvalues"
   ]
  },
  {
   "cell_type": "code",
   "execution_count": 2,
   "metadata": {},
   "outputs": [],
   "source": [
    "import numpy as np"
   ]
  },
  {
   "cell_type": "markdown",
   "metadata": {},
   "source": [
    "## Introduction\n",
    "### What is Linear Algebra?\n",
    "- It's a branch of mathematics and helps with having a deep understanding of data science and machine learning concepts.\n",
    "- In Lin Alg data is represented by scalers, vectors, and matrices with linear equations"
   ]
  },
  {
   "cell_type": "markdown",
   "metadata": {},
   "source": [
    "## Scalers and Vectors\n",
    " - **Scalar** it's a 0-dimensional object and represents magnitude or measurement. e.g. length, area, weigth, speed, etc... geometrically, it's a point\n",
    " - **Vector** it's a 1-dimensional object and represents direction and magnitude. geometrically, it's a line with a direction. Examples:\n",
    "    - Wind velocity vector has speed (magnitude) and direction of the wind. 15 miles/hour northeast\n",
    "    - Gravity has a direction and magnitude\n",
    "- You can convert a vector ito a scalar (extract the magnitude) using the norm function"
   ]
  },
  {
   "cell_type": "markdown",
   "metadata": {},
   "source": [
    "### Vector operations\n",
    "#### Adding Vectors"
   ]
  },
  {
   "cell_type": "markdown",
   "metadata": {},
   "source": [
    "![link text](https://labcontent.simplicdn.net/data-content/content-assets/Data_and_AI/ADSP_Images/Lesson_06_Maths_and_Stats/Linear_Algebra/Image_3.png)\n"
   ]
  },
  {
   "cell_type": "markdown",
   "metadata": {},
   "source": [
    "#### Multiplying Vectors"
   ]
  },
  {
   "cell_type": "markdown",
   "metadata": {},
   "source": [
    "\n",
    "![link text](https://labcontent.simplicdn.net/data-content/content-assets/Data_and_AI/ADSP_Images/Lesson_06_Maths_and_Stats/Linear_Algebra/Image_4.png)"
   ]
  },
  {
   "cell_type": "markdown",
   "metadata": {},
   "source": [
    "> We have 2 types of vector multiplications: **Dot Product** and **Cross Product**"
   ]
  },
  {
   "cell_type": "markdown",
   "metadata": {},
   "source": [
    "![link text](https://labcontent.simplicdn.net/data-content/content-assets/Data_and_AI/ADSP_Images/Lesson_06_Maths_and_Stats/Linear_Algebra/Image_6.png)"
   ]
  },
  {
   "cell_type": "markdown",
   "metadata": {},
   "source": [
    "Comparison:\n",
    "- Dot Product:\n",
    "    - The result is always a scaler.\n",
    "    - Also called a scaler product.\n",
    "    - Mathematical Applications:\n",
    "        - Finding the angle between vectors\n",
    "        - Project one vector onto another\n",
    "    - Machine Learning Application:\n",
    "        - Cosine Similarity used in recommender systems\n",
    "        - Neural Networks - to process the weight values of a neuron\n",
    "        - Word Embeddings - tokenization (processing and encoding words into numeric representation in a vector)\n",
    "- Cross Product:\n",
    "    - The result is always a vector.\n",
    "    - The resulting vector is always perpendicular to both input vectors (it works in 3D space)\n",
    "    - ML Application:\n",
    "        - Computer Vision: cross product helps calculate the orientation of objects in 3D space\n",
    "        - Self-driving Cars: orientation and surrounding objects\n",
    "        - automation in making cars\n",
    "        - Drones for asset inspections\n",
    "\n",
    "> Both vectors have to be of the same size in order for the operations to work."
   ]
  },
  {
   "cell_type": "code",
   "execution_count": 3,
   "metadata": {},
   "outputs": [],
   "source": [
    "a = [4,6,7]\n",
    "b = [8,9,2]"
   ]
  },
  {
   "cell_type": "code",
   "execution_count": 4,
   "metadata": {},
   "outputs": [
    {
     "data": {
      "text/plain": [
       "100"
      ]
     },
     "execution_count": 4,
     "metadata": {},
     "output_type": "execute_result"
    }
   ],
   "source": [
    "np.dot(a,b)"
   ]
  },
  {
   "cell_type": "code",
   "execution_count": 5,
   "metadata": {},
   "outputs": [
    {
     "data": {
      "text/plain": [
       "array([-51,  48, -12])"
      ]
     },
     "execution_count": 5,
     "metadata": {},
     "output_type": "execute_result"
    }
   ],
   "source": [
    "np.cross(a,b)"
   ]
  },
  {
   "cell_type": "code",
   "execution_count": 6,
   "metadata": {},
   "outputs": [
    {
     "data": {
      "text/plain": [
       "array([12, 15,  9])"
      ]
     },
     "execution_count": 6,
     "metadata": {},
     "output_type": "execute_result"
    }
   ],
   "source": [
    "np.add(a,b)"
   ]
  },
  {
   "cell_type": "code",
   "execution_count": 7,
   "metadata": {},
   "outputs": [
    {
     "data": {
      "text/plain": [
       "[4, 6, 7, 8, 9, 2]"
      ]
     },
     "execution_count": 7,
     "metadata": {},
     "output_type": "execute_result"
    }
   ],
   "source": [
    "a + b # using + will concat the vectors"
   ]
  },
  {
   "cell_type": "code",
   "execution_count": 8,
   "metadata": {},
   "outputs": [
    {
     "data": {
      "text/plain": [
       "array([-4, -3,  5])"
      ]
     },
     "execution_count": 8,
     "metadata": {},
     "output_type": "execute_result"
    }
   ],
   "source": [
    "np.subtract(a,b)"
   ]
  },
  {
   "cell_type": "markdown",
   "metadata": {},
   "source": [
    "### Norm of a Vector"
   ]
  },
  {
   "cell_type": "markdown",
   "metadata": {},
   "source": [
    "- It calculates the magnitude of a vector (a measurement of length)\n",
    "- It's always a positive value\n",
    "- Machine Learning Applications:\n",
    "    - Regularization Process: L1 and L2 regularization use vector norms to penalize large weights to reduce overfitting.\n",
    "    - Distance Measurements: Between data points for clustering analysis.\n",
    " \n",
    "![link text](https://labcontent.simplicdn.net/data-content/content-assets/Data_and_AI/ADSP_Images/Lesson_06_Maths_and_Stats/Linear_Algebra/Image_8.png)"
   ]
  },
  {
   "cell_type": "code",
   "execution_count": 9,
   "metadata": {},
   "outputs": [
    {
     "data": {
      "text/plain": [
       "11.74734012447073"
      ]
     },
     "execution_count": 9,
     "metadata": {},
     "output_type": "execute_result"
    }
   ],
   "source": [
    "a = [7,5,8]\n",
    "#using linalg sub-module\n",
    "a_mag = np.linalg.norm(a)\n",
    "a_mag"
   ]
  },
  {
   "cell_type": "markdown",
   "metadata": {},
   "source": [
    "11.75 is the magnitude of vector [7,5,8]"
   ]
  },
  {
   "cell_type": "code",
   "execution_count": 10,
   "metadata": {},
   "outputs": [
    {
     "data": {
      "text/plain": [
       "array([0.59587957, 0.42562827, 0.68100522])"
      ]
     },
     "execution_count": 10,
     "metadata": {},
     "output_type": "execute_result"
    }
   ],
   "source": [
    "# calculate the direction\n",
    "a_dir = a/a_mag\n",
    "a_dir"
   ]
  },
  {
   "cell_type": "markdown",
   "metadata": {},
   "source": [
    "Wind Speed and Direction Vector Example"
   ]
  },
  {
   "cell_type": "code",
   "execution_count": 11,
   "metadata": {},
   "outputs": [
    {
     "name": "stdout",
     "output_type": "stream",
     "text": [
      "speed: 8.06225774829855\n",
      "Direction (Unit Vector): [0.49613894 0.86824314]\n"
     ]
    }
   ],
   "source": [
    "#vector\n",
    "v = [4, 7]\n",
    "\n",
    "#magnitude (speed)\n",
    "print('speed:',np.linalg.norm(v))\n",
    "print('Direction (Unit Vector):', np.array(v)/np.linalg.norm(v))\n",
    "#for angle, get the arctan between 2 vectors"
   ]
  },
  {
   "cell_type": "markdown",
   "metadata": {},
   "source": [
    "## Matrices"
   ]
  },
  {
   "cell_type": "markdown",
   "metadata": {},
   "source": [
    "- It's a rectangular array of numbers or expressions, arranged in columns or rows (2D)."
   ]
  },
  {
   "cell_type": "markdown",
   "metadata": {},
   "source": [
    "![sh](https://res.cloudinary.com/practicaldev/image/fetch/s--8pw60d5S--/c_limit%2Cf_auto%2Cfl_progressive%2Cq_auto%2Cw_800/https://raw.githubusercontent.com/adhiraiyan/DeepLearningWithTF2.0/master/notebooks/figures/fig0201a.png)"
   ]
  },
  {
   "cell_type": "code",
   "execution_count": 12,
   "metadata": {},
   "outputs": [
    {
     "data": {
      "text/plain": [
       "array([[5, 6, 3],\n",
       "       [9, 4, 2]])"
      ]
     },
     "execution_count": 12,
     "metadata": {},
     "output_type": "execute_result"
    }
   ],
   "source": [
    "m = np.array([[5,6,3],[9,4,2]])\n",
    "m"
   ]
  },
  {
   "cell_type": "code",
   "execution_count": 13,
   "metadata": {},
   "outputs": [
    {
     "data": {
      "text/plain": [
       "2"
      ]
     },
     "execution_count": 13,
     "metadata": {},
     "output_type": "execute_result"
    }
   ],
   "source": [
    "m.ndim"
   ]
  },
  {
   "cell_type": "code",
   "execution_count": 14,
   "metadata": {},
   "outputs": [
    {
     "data": {
      "text/plain": [
       "(2, 3)"
      ]
     },
     "execution_count": 14,
     "metadata": {},
     "output_type": "execute_result"
    }
   ],
   "source": [
    "m.shape"
   ]
  },
  {
   "cell_type": "markdown",
   "metadata": {},
   "source": [
    "### Matrix Operations\n",
    "\n",
    "- Dot Product and Element-Wise Product of Matrices Application:\n",
    "    - Neural Network Operations\n",
    "    - Attention Mechanism and Transform Operations in GPT-based models"
   ]
  },
  {
   "cell_type": "markdown",
   "metadata": {},
   "source": [
    "![m](https://i.ytimg.com/vi/d6lIaqQI0UE/sddefault.jpg)"
   ]
  },
  {
   "cell_type": "markdown",
   "metadata": {},
   "source": [
    "![matrizmulti1.PNG](https://s3.us-east-1.amazonaws.com/static2.simplilearn.com/lms/testpaper_images/ADSP/Advanced_Statistics/LinearRegression/matrizmulti1.PNG)"
   ]
  },
  {
   "cell_type": "markdown",
   "metadata": {},
   "source": [
    "Square Matrix: num of rows = num of columns"
   ]
  },
  {
   "cell_type": "code",
   "execution_count": 15,
   "metadata": {},
   "outputs": [],
   "source": [
    "a = np.array([[5,6,7],[3,4,7], [6,6,2]])\n",
    "b = np.array([[3,4,1],[3,2,2], [4,6,9]])"
   ]
  },
  {
   "cell_type": "code",
   "execution_count": null,
   "metadata": {},
   "outputs": [
    {
     "data": {
      "text/plain": [
       "array([[61, 74, 80],\n",
       "       [49, 62, 74],\n",
       "       [44, 48, 36]])"
      ]
     },
     "execution_count": 16,
     "metadata": {},
     "output_type": "execute_result"
    }
   ],
   "source": [
    "#dot prod\n",
    "np.matmul(a,b)"
   ]
  },
  {
   "cell_type": "code",
   "execution_count": 17,
   "metadata": {},
   "outputs": [
    {
     "data": {
      "text/plain": [
       "array([[61, 74, 80],\n",
       "       [49, 62, 74],\n",
       "       [44, 48, 36]])"
      ]
     },
     "execution_count": 17,
     "metadata": {},
     "output_type": "execute_result"
    }
   ],
   "source": [
    "#different syntax\n",
    "a @ b"
   ]
  },
  {
   "cell_type": "code",
   "execution_count": 18,
   "metadata": {},
   "outputs": [
    {
     "data": {
      "text/plain": [
       "array([[61, 74, 80],\n",
       "       [49, 62, 74],\n",
       "       [44, 48, 36]])"
      ]
     },
     "execution_count": 18,
     "metadata": {},
     "output_type": "execute_result"
    }
   ],
   "source": [
    "np.dot(a,b)"
   ]
  },
  {
   "cell_type": "code",
   "execution_count": null,
   "metadata": {},
   "outputs": [
    {
     "data": {
      "text/plain": [
       "array([[15, 24,  7],\n",
       "       [ 9,  8, 14],\n",
       "       [24, 36, 18]])"
      ]
     },
     "execution_count": 19,
     "metadata": {},
     "output_type": "execute_result"
    }
   ],
   "source": [
    "#element wise\n",
    "a * b"
   ]
  },
  {
   "cell_type": "markdown",
   "metadata": {},
   "source": [
    "### Rank of A Matrix"
   ]
  },
  {
   "cell_type": "markdown",
   "metadata": {},
   "source": [
    "- Machine Learning Applications:\n",
    "    - Dimensionality Reduction: PCA \n",
    "    - Feature Selection: Rank-based method for selecting the most impactful features in the data based on an ML model\n",
    "    - Image Compression\n",
    "- To calculate the rank of a matrix, you do 2 steps:\n",
    "    1. Transform the matrix into a row-echelon form\n",
    "    2. Count the number of non-zero rows "
   ]
  },
  {
   "cell_type": "markdown",
   "metadata": {},
   "source": [
    "![link text](https://labcontent.simplicdn.net/data-content/content-assets/Data_and_AI/ADSP_Images/Lesson_06_Maths_and_Stats/Linear_Algebra/Image_11.png)"
   ]
  },
  {
   "cell_type": "markdown",
   "metadata": {},
   "source": [
    "__Example__\n",
    "\n",
    "![link text](https://labcontent.simplicdn.net/data-content/content-assets/Data_and_AI/ADSP_Images/Lesson_06_Maths_and_Stats/Linear_Algebra/Image_12.png)\n",
    "\n",
    "The output, after using elementary transformations, is shown below:\n",
    "\n",
    "**R2 → R2 – 2R1**\n",
    "\n",
    "**R3 → R3 – 3R1**\n",
    "\n",
    "![link text](https://labcontent.simplicdn.net/data-content/content-assets/Data_and_AI/ADSP_Images/Lesson_06_Maths_and_Stats/Linear_Algebra/Image_13.png)\n",
    "\n",
    "**R3 → R3 – 2R2**\n",
    "\n",
    "![link text](https://labcontent.simplicdn.net/data-content/content-assets/Data_and_AI/ADSP_Images/Lesson_06_Maths_and_Stats/Linear_Algebra/Image_14.png)\n",
    "\n",
    "The above matrix is in row-echelon form.\n",
    "\n",
    "Since the number of non-zero rows is 2,\n",
    "\n",
    "\n",
    "\n",
    "**The rank of the matrix is 2.**"
   ]
  },
  {
   "cell_type": "code",
   "execution_count": 20,
   "metadata": {},
   "outputs": [],
   "source": [
    "m = np.array([[1,2,3],\n",
    "            [2,1,4],\n",
    "            [3,0,5]])"
   ]
  },
  {
   "cell_type": "code",
   "execution_count": 21,
   "metadata": {},
   "outputs": [
    {
     "name": "stdout",
     "output_type": "stream",
     "text": [
      "Rank of the matrix: 2\n"
     ]
    }
   ],
   "source": [
    "print('Rank of the matrix:',np.linalg.matrix_rank(m))"
   ]
  },
  {
   "cell_type": "markdown",
   "metadata": {},
   "source": [
    "### Determinant and Trace of A Matrix"
   ]
  },
  {
   "cell_type": "markdown",
   "metadata": {},
   "source": [
    "- The determinant of a matrix is a scaler representation (quantity) that is a function of the elements of the matrix.\n",
    "- Applications:\n",
    "    - They are used to solve for linear equations\n",
    "    - Used for optimization\n",
    "- For 2x2 and 3x3 matrices:\n",
    " \n",
    "![link text](https://labcontent.simplicdn.net/data-content/content-assets/Data_and_AI/ADSP_Images/Lesson_06_Maths_and_Stats/Linear_Algebra/Image_16.png)"
   ]
  },
  {
   "cell_type": "code",
   "execution_count": 29,
   "metadata": {},
   "outputs": [],
   "source": [
    "m = np.array([[[5,6,7],[3,4,8],[6,6,9]]])"
   ]
  },
  {
   "cell_type": "code",
   "execution_count": 30,
   "metadata": {},
   "outputs": [
    {
     "name": "stdout",
     "output_type": "stream",
     "text": [
      "Determinant of the matrix: [24.]\n"
     ]
    }
   ],
   "source": [
    "print('Determinant of the matrix:', np.linalg.det(m))"
   ]
  },
  {
   "cell_type": "markdown",
   "metadata": {},
   "source": [
    "The trace of a square matrix is the sum of its diagonal entries.</br>\n",
    "![tr](https://media.geeksforgeeks.org/wp-content/uploads/20221119211255/tm2.jpg)"
   ]
  },
  {
   "cell_type": "code",
   "execution_count": 31,
   "metadata": {},
   "outputs": [
    {
     "name": "stdout",
     "output_type": "stream",
     "text": [
      "Trace of the matrix: [5 6 7]\n"
     ]
    }
   ],
   "source": [
    "print('Trace of the matrix:', np.trace(m))"
   ]
  },
  {
   "cell_type": "markdown",
   "metadata": {},
   "source": [
    "### Identity Matrix"
   ]
  },
  {
   "cell_type": "markdown",
   "metadata": {},
   "source": [
    "- An identity matrix (I) is a square matrix that, when multiplied by another matrix M, it gives the same results as M.\n",
    "$$I*M = M*I = M$$\n",
    "- This is similar to multiplying a number by 1. 5 x 1  = 5\n",
    "- The diagonal elements of I are all 1, and the non-diagonal elements are all zeroes.\n",
    "- Application in ML:\n",
    "    - Neural Networks: they use identity matrices to initialize weight values.\n",
    "    - Residual Connection in Neural Networks"
   ]
  },
  {
   "cell_type": "markdown",
   "metadata": {},
   "source": [
    "Example:\n",
    " \n",
    "![det4.PNG](https://s3.us-east-1.amazonaws.com/static2.simplilearn.com/lms/testpaper_images/ADSP/Advanced_Statistics/LinearRegression/det4.PNG)"
   ]
  },
  {
   "cell_type": "code",
   "execution_count": 32,
   "metadata": {},
   "outputs": [
    {
     "data": {
      "text/plain": [
       "array([[1., 0., 0.],\n",
       "       [0., 1., 0.],\n",
       "       [0., 0., 1.]])"
      ]
     },
     "execution_count": 32,
     "metadata": {},
     "output_type": "execute_result"
    }
   ],
   "source": [
    "# create a 3x3 ident matrix\n",
    "np.identity(3)"
   ]
  },
  {
   "cell_type": "markdown",
   "metadata": {},
   "source": [
    "### The Inverse of A Matrix\n",
    "- symbol: $A^{-1}$\n",
    "- It's a matrix when multiplied by its original matrix, you get an identity matrix\n",
    "    - Note: The rank of a matrix should match the number of rows and columns (3x3 matrix should have rank 3)\n",
    "- if the inverse of a matrix is not possible, it means the matrix is singular. To find out if it's singular or not, calculate the determinant and if it's zero, then it's singular.\n"
   ]
  },
  {
   "cell_type": "markdown",
   "metadata": {},
   "source": []
  },
  {
   "cell_type": "code",
   "execution_count": 33,
   "metadata": {},
   "outputs": [
    {
     "data": {
      "text/plain": [
       "array([[[-0.5       , -0.5       ,  0.83333333],\n",
       "        [ 0.875     ,  0.125     , -0.79166667],\n",
       "        [-0.25      ,  0.25      ,  0.08333333]]])"
      ]
     },
     "execution_count": 33,
     "metadata": {},
     "output_type": "execute_result"
    }
   ],
   "source": [
    "\n",
    "a_inv = np.linalg.inv(a)\n",
    "a_inv"
   ]
  },
  {
   "cell_type": "code",
   "execution_count": 34,
   "metadata": {},
   "outputs": [
    {
     "data": {
      "text/plain": [
       "array([[[ 1.00000000e+00, -2.77555756e-16,  2.49800181e-16],\n",
       "        [ 2.22044605e-16,  1.00000000e+00, -2.22044605e-16],\n",
       "        [ 4.99600361e-16,  5.55111512e-17,  1.00000000e+00]]])"
      ]
     },
     "execution_count": 34,
     "metadata": {},
     "output_type": "execute_result"
    }
   ],
   "source": [
    "Iden = np.matmul(a,a_inv).astype('float64')\n",
    "Iden"
   ]
  },
  {
   "cell_type": "markdown",
   "metadata": {},
   "source": [
    "## Eigenvectors and Eigenvalues"
   ]
  },
  {
   "cell_type": "markdown",
   "metadata": {},
   "source": [
    "- Think of a matrix as a machine that transforms a vector when multiplied by it. Some special vectors, called eigenvectors, don’t change their direction when this transformation happens. They only get stretched or shrunk by a special number called an eigenvalue.\n",
    "- Eigenvalues are a set of scaler values used to represent the linear equations in matrix operations.\n",
    "- Imagine having a box and you're asked to stretch or compress everything inside the box, but only in a certain direction. Eigenvalues tell you how much everything stretches or compresses along the specified direction.\n",
    "- Another analogy, eigenvectors and eigenvalues can be used to reduce a cube into a square that represents the original magnitude (with a certain level of information loss).\n",
    "- Application:\n",
    "    - Principal Component Analysis"
   ]
  },
  {
   "cell_type": "markdown",
   "metadata": {},
   "source": [
    "![ev](https://i.ytimg.com/vi/TQvxWaQnrqI/hqdefault.jpg)"
   ]
  },
  {
   "cell_type": "code",
   "execution_count": 26,
   "metadata": {},
   "outputs": [
    {
     "data": {
      "text/plain": [
       "(array([ 7.27491722e+00, -2.74917218e-01,  2.33606334e-15]),\n",
       " array([[-0.49488135, -0.85437274, -0.81110711],\n",
       "        [-0.57374795, -0.18423296, -0.32444284],\n",
       "        [-0.65261454,  0.48590682,  0.48666426]]))"
      ]
     },
     "execution_count": 26,
     "metadata": {},
     "output_type": "execute_result"
    }
   ],
   "source": [
    "np.linalg.eig(m)"
   ]
  },
  {
   "cell_type": "code",
   "execution_count": null,
   "metadata": {},
   "outputs": [],
   "source": []
  }
 ],
 "metadata": {
  "kernelspec": {
   "display_name": "Python 3",
   "language": "python",
   "name": "python3"
  },
  "language_info": {
   "codemirror_mode": {
    "name": "ipython",
    "version": 3
   },
   "file_extension": ".py",
   "mimetype": "text/x-python",
   "name": "python",
   "nbconvert_exporter": "python",
   "pygments_lexer": "ipython3",
   "version": "3.11.3"
  }
 },
 "nbformat": 4,
 "nbformat_minor": 2
}
