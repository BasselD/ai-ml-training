{
 "cells": [
  {
   "cell_type": "markdown",
   "metadata": {},
   "source": [
    "# Advanced Statistical Analysis and Hypothesis Testing"
   ]
  },
  {
   "cell_type": "markdown",
   "metadata": {},
   "source": [
    "### What is a Hypothesis?\n",
    "It is a statement that proposes a possible explanation for an observed phenomenon or relationship, which scientists can test through investigation.\n",
    "\n",
    "![involves.PNG](https://s3.us-east-1.amazonaws.com/static2.simplilearn.com/lms/testpaper_images/ADSP/Advanced_Statistics/involves.PNG)\n",
    "\n",
    "### Hypothesis Components\n",
    "A hypothesis has two components:\n",
    "    \n",
    "![Linear1hypothes.png](https://s3.us-east-1.amazonaws.com/static2.simplilearn.com/lms/testpaper_images/ADSP/Advanced_Statistics/Linear1hypothes.png)\n",
    "\n",
    "\n",
    "**Example**\n",
    "\n",
    "If you do not clean the fish tank once every three days, the fish will probably not survive for more than three months.\n",
    "\n",
    "- __Do not clean the fish tank once every three days__ is the independent variable.\n",
    "- __Fish will probably not survive for more than three months__ is the dependent variable.\n",
    "\n",
    "\n"
   ]
  },
  {
   "cell_type": "markdown",
   "metadata": {},
   "source": [
    "A good hypothesis must:\n",
    "1. Explicitly include the **independent** and **dependent** variables\n",
    "2. Must be testable (reproducibility) for testing \n",
    "3. Be based on authentic research work and sample collection (good representative of the population)"
   ]
  },
  {
   "cell_type": "markdown",
   "metadata": {},
   "source": [
    "### Null and Alternative Hypothesis\n",
    "Commonly, there are 2 main types:\n",
    "1. Null Hypothesis $H_0$\n",
    "2. Alternative Hypothesis $H_a$ (sometimes $H_1$)"
   ]
  },
  {
   "cell_type": "markdown",
   "metadata": {},
   "source": [
    "### Hypothesis Testing Outcomes: Type I and Type II Errors\n",
    "There are four decisions and outcomes for hypothesis testing:\n",
    "\n",
    "![type12.PNG](https://s3.us-east-1.amazonaws.com/static2.simplilearn.com/lms/testpaper_images/ADSP/Advanced_Statistics/type12.PNG)"
   ]
  },
  {
   "cell_type": "markdown",
   "metadata": {},
   "source": [
    "1. $H_0$ (null hypothesis) is TRUE and it is rejected: **this is a Type I error**\n",
    "\n",
    "2. $H_0$ (null hypothesis) is TRUE and it is accepted: **correct decision**\n",
    "\n",
    "3. $H_0$ (null hypothesis) is FALSE and it is rejected: **correct decision**\n",
    "\n",
    "4. $H_0$ (null hypothesis) is FALSE and it is accepted: **this is a Type II error**\n"
   ]
  },
  {
   "cell_type": "markdown",
   "metadata": {},
   "source": [
    "## Decision Making Using p-value and critical value for Hypothesis Testing"
   ]
  },
  {
   "cell_type": "markdown",
   "metadata": {},
   "source": [
    "### p-value and alpha"
   ]
  },
  {
   "cell_type": "markdown",
   "metadata": {},
   "source": [
    "1. Define the statement of the hypothesis (clearly showing dependent and independent variables)\n",
    "2. Establish the Null and Alternative Hypotheses ($H_0$ vs $H_a$)\n",
    "3. Choose the appropriate type of statistical test based on sample size, data type, distribution, and objective:\n",
    "    - t-test\n",
    "    - z-test\n",
    "    - chi-square test\n",
    "    - ANOVA\n",
    "    - Other: MANOVA and Kruskal–Wallis tests\n",
    "4. If not mentioned/specified, define the level of significance (critical value or alpha) - most of the time it is 5% or 1 %\n",
    "5. Calculate the p-value\n",
    "6. Run the evaluation based of item 4 and 5:\n",
    "    - If the p-value is **greater** than alpha, we **do NOT reject the null hypothesis**\n",
    "    - If the p-value is **less** than alpha, we **do reject the null hypothesis** \n"
   ]
  },
  {
   "cell_type": "markdown",
   "metadata": {},
   "source": [
    "![pv](https://www.automacaodedados.com.br/en/stories/estatistica-em-testes-para-nao-matematicos-parte-5/images/figure3-p-value-greater-than-alpha-en.webp)"
   ]
  },
  {
   "cell_type": "markdown",
   "metadata": {},
   "source": [
    "![h](https://userpage.fu-berlin.de/soga/soga-py/200/2070_hypothesis_tests/img/Generalized_figure_of_two_sided_test.png)"
   ]
  },
  {
   "cell_type": "markdown",
   "metadata": {},
   "source": [
    "### t-test\n",
    "#### When to use t-test?\n",
    "- When the sample size if very small (<=30)\n",
    "- When the data is close to normal distribution\n",
    "- When comparing the means of 2 groups to evaluate if they differ or not\n",
    "- When you want to compare the effect of a variable before or after an event"
   ]
  },
  {
   "cell_type": "markdown",
   "metadata": {},
   "source": [
    "### Types of t-tests\n",
    "- **Independent sample t-test** check the aver of 2 independent, unrelated groups. e.f. people that eat banans have a stomach ache vs a different group of people who do not eat bananas\n",
    "    - $H_0$: $\\mu_x$ = $\\mu_y$ there's no difference between the groups\n",
    "    - $H_a$: $\\mu_x$ $\\neq$ $\\mu_y$ there's a difference between the groups\n",
    "\n",
    "- **Paird-sample t-test** relationship test. checks if the averages of 2 samples taken from the same group are equal or not. Mainly used for before vs after an event analysis. Patient BP before and after treatment. Same population, different point in time.\n",
    "    - $H_0$: $\\mu_b$ = $\\mu_a$ there's no difference between before and after on the same group\n",
    "    - $H_a$: $\\mu_b$ $\\neq$ $\\mu_a$ there's a difference between before and after\n",
    "\n",
    "- **One-sample t-test** It evaluates if the average of a single group is different than the known population average (X). e.g average IQ of US adult is 108. We collect a sample from the population and evaluate it against the claim.\n",
    "    - $H_0$: $\\mu_s$ = X there's no difference between the average of the sample and the claimed population average\n",
    "    - $H_a$: $\\mu_s$ $\\neq$ X there's a difference between the average of the sample and the claimed population average"
   ]
  },
  {
   "cell_type": "markdown",
   "metadata": {},
   "source": [
    "#### Independent Sample t-test"
   ]
  },
  {
   "cell_type": "markdown",
   "metadata": {},
   "source": [
    "**Scenario: A/B Testing for New Website Functionality**\n",
    "\n",
    "Imagine you work for an e-commerce company, and your team is responsible for optimizing the company's website to increase user engagement and, ultimately, sales. The current design of the \"Buy Now\" button on the website is being tested against a new design to see if it leads to a higher conversion rate.\n",
    "\n",
    " \n",
    "Methodology:\n",
    "- randomly selected website users broken into 2 independent groups (groups A and B)\n",
    "- give group A the old website (old functionality) and group B the new website (new button)\n",
    "- measure the usage score\n",
    "- perform a statistical analysis to evaluate whether there's a difference in engagement between group A and B"
   ]
  },
  {
   "cell_type": "markdown",
   "metadata": {},
   "source": [
    "**Solution**\n",
    "- $H_0$: $\\mu_x$ = $\\mu_y$ there's no difference between the groups (the new button doesn't affect usage)\n",
    "- $H_a$: $\\mu_x$ $\\neq$ $\\mu_y$ there's a difference between the groups (the new button does affect usage)"
   ]
  },
  {
   "cell_type": "markdown",
   "metadata": {},
   "source": []
  },
  {
   "cell_type": "code",
   "execution_count": 1,
   "metadata": {},
   "outputs": [],
   "source": [
    "import pandas as pd\n",
    "import scipy.stats as sts"
   ]
  },
  {
   "cell_type": "code",
   "execution_count": 2,
   "metadata": {},
   "outputs": [
    {
     "data": {
      "text/html": [
       "<div>\n",
       "<style scoped>\n",
       "    .dataframe tbody tr th:only-of-type {\n",
       "        vertical-align: middle;\n",
       "    }\n",
       "\n",
       "    .dataframe tbody tr th {\n",
       "        vertical-align: top;\n",
       "    }\n",
       "\n",
       "    .dataframe thead th {\n",
       "        text-align: right;\n",
       "    }\n",
       "</style>\n",
       "<table border=\"1\" class=\"dataframe\">\n",
       "  <thead>\n",
       "    <tr style=\"text-align: right;\">\n",
       "      <th></th>\n",
       "      <th>Group_A</th>\n",
       "      <th>Group_B</th>\n",
       "    </tr>\n",
       "  </thead>\n",
       "  <tbody>\n",
       "    <tr>\n",
       "      <th>0</th>\n",
       "      <td>38</td>\n",
       "      <td>47</td>\n",
       "    </tr>\n",
       "    <tr>\n",
       "      <th>1</th>\n",
       "      <td>34</td>\n",
       "      <td>48</td>\n",
       "    </tr>\n",
       "    <tr>\n",
       "      <th>2</th>\n",
       "      <td>35</td>\n",
       "      <td>50</td>\n",
       "    </tr>\n",
       "    <tr>\n",
       "      <th>3</th>\n",
       "      <td>35</td>\n",
       "      <td>49</td>\n",
       "    </tr>\n",
       "    <tr>\n",
       "      <th>4</th>\n",
       "      <td>35</td>\n",
       "      <td>46</td>\n",
       "    </tr>\n",
       "  </tbody>\n",
       "</table>\n",
       "</div>"
      ],
      "text/plain": [
       "   Group_A  Group_B\n",
       "0       38       47\n",
       "1       34       48\n",
       "2       35       50\n",
       "3       35       49\n",
       "4       35       46"
      ]
     },
     "execution_count": 2,
     "metadata": {},
     "output_type": "execute_result"
    }
   ],
   "source": [
    "df = pd.read_csv('/Users/bassel_instructor/Documents/Datasets/AB_Testing_Website.csv')\n",
    "df.head()"
   ]
  },
  {
   "cell_type": "code",
   "execution_count": 3,
   "metadata": {},
   "outputs": [],
   "source": [
    "# run a t-test analysis\n",
    "# it gives 2 values: t-statistic and p-value\n",
    "t_stat, p_val = sts.ttest_ind(df['Group_A'], df['Group_B'])"
   ]
  },
  {
   "cell_type": "code",
   "execution_count": 4,
   "metadata": {},
   "outputs": [
    {
     "name": "stdout",
     "output_type": "stream",
     "text": [
      "t-statistic: -15.418485894752864 | p-value: 8.2568977246166655e-22\n"
     ]
    }
   ],
   "source": [
    "print(f't-statistic: {t_stat} | p-value: {p_val}')"
   ]
  },
  {
   "cell_type": "code",
   "execution_count": 5,
   "metadata": {},
   "outputs": [
    {
     "name": "stdout",
     "output_type": "stream",
     "text": [
      "We reject the null hypothesis. There is an impact on the usage from the new button/functionality\n"
     ]
    }
   ],
   "source": [
    "# so we can set alpha to the common value 5%\n",
    "\n",
    "alpha = .05\n",
    "\n",
    "if p_val>alpha:\n",
    "    print('We accept (do not reject) the null hypothesis. There is no impact on the usage from the new button/functionality')\n",
    "else:\n",
    "    print('We reject the null hypothesis. There is an impact on the usage from the new button/functionality')"
   ]
  },
  {
   "cell_type": "code",
   "execution_count": 6,
   "metadata": {},
   "outputs": [
    {
     "name": "stdout",
     "output_type": "stream",
     "text": [
      "Group A is not greater than group B. Therefore, the new button has better usage\n"
     ]
    }
   ],
   "source": [
    "# to evaluate if the impact was positive\n",
    "t_stat, p_val = sts.ttest_ind(df['Group_A'], df['Group_B'], alternative='greater')\n",
    "# because we chose Group A first, then the evaluation is Group A > Group B\n",
    "\n",
    "if p_val>alpha:\n",
    "    print('Group A is not greater than group B. Therefore, the new button has better usage') \n",
    "else:\n",
    "    print('Group A is greater than group B')"
   ]
  },
  {
   "cell_type": "code",
   "execution_count": 7,
   "metadata": {},
   "outputs": [],
   "source": [
    "# build a function to run the evaluation for all problems below\n",
    "def HypoTesting(p_val, alpha):\n",
    "    if p_val>alpha:\n",
    "        print('We accept (do not reject) the null hypothesis.')\n",
    "    else:\n",
    "        print('We reject the null hypothesis.')"
   ]
  },
  {
   "cell_type": "code",
   "execution_count": 1,
   "metadata": {},
   "outputs": [
    {
     "name": "stdout",
     "output_type": "stream",
     "text": [
      "t-statistic: 3.291276458777703\n",
      "p-value: 0.0005904212684486109\n"
     ]
    },
    {
     "data": {
      "image/png": "[encoded data removed]",
      "text/plain": [
       "<Figure size 1000x600 with 1 Axes>"
      ]
     },
     "metadata": {},
     "output_type": "display_data"
    }
   ],
   "source": [
    "import numpy as np\n",
    "from scipy.stats import ttest_ind\n",
    "import matplotlib.pyplot as plt\n",
    "import seaborn as sns\n",
    "\n",
    "# Generate sample data for group A and group B\n",
    "np.random.seed(0)\n",
    "group_A = np.random.normal(loc=5, scale=1, size=100)  # mean=5, std=1\n",
    "group_B = np.random.normal(loc=4.5, scale=1, size=100)  # mean=4.5, std=1\n",
    "\n",
    "# Perform the t-test with the alternative hypothesis 'greater'\n",
    "t_stat, p_value = ttest_ind(group_A, group_B, alternative='greater')\n",
    "\n",
    "print(\"t-statistic:\", t_stat)\n",
    "print(\"p-value:\", p_value)\n",
    "\n",
    "# Plot the data distributions\n",
    "plt.figure(figsize=(10, 6))\n",
    "sns.histplot(group_A, kde=True, color='blue', label='Group A')\n",
    "sns.histplot(group_B, kde=True, color='red', label='Group B')\n",
    "\n",
    "# Add lines for the means of group A and group B\n",
    "plt.axvline(np.mean(group_A), color='blue', linestyle='dashed', linewidth=2, label='Mean of Group A')\n",
    "plt.axvline(np.mean(group_B), color='red', linestyle='dashed', linewidth=2, label='Mean of Group B')\n",
    "\n",
    "# Add titles and labels\n",
    "plt.title('Distribution of Group A and Group B')\n",
    "plt.xlabel('Value')\n",
    "plt.ylabel('Frequency')\n",
    "plt.legend()\n",
    "\n",
    "# Show the plot\n",
    "plt.show()\n"
   ]
  },
  {
   "cell_type": "markdown",
   "metadata": {},
   "source": [
    "#### Paired Sample t-test"
   ]
  },
  {
   "cell_type": "markdown",
   "metadata": {},
   "source": [
    "**Example** </br>\n",
    "For a particular hospital, it is advertised that a particular chemotherapy session does not affect the patient's health \n",
    "based on blood pressure (BP).\n",
    "It is to be checked if the BP before the treatment is equivalent to the BP after the treatment.\n",
    "Perform a statistical significance at alpha=0.05 to help validate the claim."
   ]
  },
  {
   "cell_type": "code",
   "execution_count": 8,
   "metadata": {},
   "outputs": [
    {
     "data": {
      "text/html": [
       "<div>\n",
       "<style scoped>\n",
       "    .dataframe tbody tr th:only-of-type {\n",
       "        vertical-align: middle;\n",
       "    }\n",
       "\n",
       "    .dataframe tbody tr th {\n",
       "        vertical-align: top;\n",
       "    }\n",
       "\n",
       "    .dataframe thead th {\n",
       "        text-align: right;\n",
       "    }\n",
       "</style>\n",
       "<table border=\"1\" class=\"dataframe\">\n",
       "  <thead>\n",
       "    <tr style=\"text-align: right;\">\n",
       "      <th></th>\n",
       "      <th>patient</th>\n",
       "      <th>sex</th>\n",
       "      <th>agegrp</th>\n",
       "      <th>bp_before</th>\n",
       "      <th>bp_after</th>\n",
       "    </tr>\n",
       "  </thead>\n",
       "  <tbody>\n",
       "    <tr>\n",
       "      <th>0</th>\n",
       "      <td>1</td>\n",
       "      <td>Male</td>\n",
       "      <td>30-45</td>\n",
       "      <td>143</td>\n",
       "      <td>153</td>\n",
       "    </tr>\n",
       "    <tr>\n",
       "      <th>1</th>\n",
       "      <td>2</td>\n",
       "      <td>Male</td>\n",
       "      <td>30-45</td>\n",
       "      <td>163</td>\n",
       "      <td>170</td>\n",
       "    </tr>\n",
       "    <tr>\n",
       "      <th>2</th>\n",
       "      <td>3</td>\n",
       "      <td>Male</td>\n",
       "      <td>30-45</td>\n",
       "      <td>153</td>\n",
       "      <td>168</td>\n",
       "    </tr>\n",
       "    <tr>\n",
       "      <th>3</th>\n",
       "      <td>4</td>\n",
       "      <td>Male</td>\n",
       "      <td>30-45</td>\n",
       "      <td>153</td>\n",
       "      <td>142</td>\n",
       "    </tr>\n",
       "    <tr>\n",
       "      <th>4</th>\n",
       "      <td>5</td>\n",
       "      <td>Male</td>\n",
       "      <td>30-45</td>\n",
       "      <td>146</td>\n",
       "      <td>141</td>\n",
       "    </tr>\n",
       "  </tbody>\n",
       "</table>\n",
       "</div>"
      ],
      "text/plain": [
       "   patient   sex agegrp  bp_before  bp_after\n",
       "0        1  Male  30-45        143       153\n",
       "1        2  Male  30-45        163       170\n",
       "2        3  Male  30-45        153       168\n",
       "3        4  Male  30-45        153       142\n",
       "4        5  Male  30-45        146       141"
      ]
     },
     "execution_count": 8,
     "metadata": {},
     "output_type": "execute_result"
    }
   ],
   "source": [
    "bp_df = pd.read_csv('/Users/bassel_instructor/Documents/Datasets/blood_pressure.csv')\n",
    "bp_df.head()"
   ]
  },
  {
   "cell_type": "markdown",
   "metadata": {},
   "source": [
    "- $H_0$ : difference between the averages is 0. There's no impact on blood pressure after chemo\n",
    "- $H_a$ : difference between the averages is not 0. There's an impact on blood pressure after chemo"
   ]
  },
  {
   "cell_type": "code",
   "execution_count": 9,
   "metadata": {},
   "outputs": [],
   "source": [
    "t_test, p_val = sts.ttest_rel(bp_df['bp_before'], bp_df['bp_after'])"
   ]
  },
  {
   "cell_type": "code",
   "execution_count": 10,
   "metadata": {},
   "outputs": [
    {
     "name": "stdout",
     "output_type": "stream",
     "text": [
      "We reject the null hypothesis.\n"
     ]
    }
   ],
   "source": [
    "alpha = 0.05\n",
    "HypoTesting(p_val, alpha)"
   ]
  },
  {
   "cell_type": "markdown",
   "metadata": {},
   "source": [
    "Because we reject the null hypothesis, the hospital's claim is incorrect. The chemo therapy does increase blood pressure."
   ]
  },
  {
   "cell_type": "markdown",
   "metadata": {},
   "source": [
    "**Homework** Split the population into M and F and see if the hypothesis is rejected or accepted for both"
   ]
  },
  {
   "cell_type": "markdown",
   "metadata": {},
   "source": [
    "#### One-sample t-test"
   ]
  },
  {
   "cell_type": "markdown",
   "metadata": {},
   "source": [
    "**Example**\n",
    "For a particular organization, the average age of the employees was claimed 30 years.\n",
    "The authorities collected a random sample of 10 employees' age data to check the claim made by the organization.\n",
    "Construct a hypothesis test to validate the hypothesis at a significance level of 0.05."
   ]
  },
  {
   "cell_type": "markdown",
   "metadata": {},
   "source": [
    "- $H_0$: $\\mu_s$ = 30 there's no difference between the average of the sample and the claimed population average\n",
    "- $H_a$: $\\mu_s$ $\\neq$ 30 there's a difference between the average of the sample and the claimed population average"
   ]
  },
  {
   "cell_type": "code",
   "execution_count": 11,
   "metadata": {},
   "outputs": [
    {
     "data": {
      "text/html": [
       "<div>\n",
       "<style scoped>\n",
       "    .dataframe tbody tr th:only-of-type {\n",
       "        vertical-align: middle;\n",
       "    }\n",
       "\n",
       "    .dataframe tbody tr th {\n",
       "        vertical-align: top;\n",
       "    }\n",
       "\n",
       "    .dataframe thead th {\n",
       "        text-align: right;\n",
       "    }\n",
       "</style>\n",
       "<table border=\"1\" class=\"dataframe\">\n",
       "  <thead>\n",
       "    <tr style=\"text-align: right;\">\n",
       "      <th></th>\n",
       "      <th>ages</th>\n",
       "    </tr>\n",
       "  </thead>\n",
       "  <tbody>\n",
       "    <tr>\n",
       "      <th>0</th>\n",
       "      <td>34</td>\n",
       "    </tr>\n",
       "    <tr>\n",
       "      <th>1</th>\n",
       "      <td>45</td>\n",
       "    </tr>\n",
       "    <tr>\n",
       "      <th>2</th>\n",
       "      <td>65</td>\n",
       "    </tr>\n",
       "    <tr>\n",
       "      <th>3</th>\n",
       "      <td>78</td>\n",
       "    </tr>\n",
       "    <tr>\n",
       "      <th>4</th>\n",
       "      <td>32</td>\n",
       "    </tr>\n",
       "  </tbody>\n",
       "</table>\n",
       "</div>"
      ],
      "text/plain": [
       "   ages\n",
       "0    34\n",
       "1    45\n",
       "2    65\n",
       "3    78\n",
       "4    32"
      ]
     },
     "execution_count": 11,
     "metadata": {},
     "output_type": "execute_result"
    }
   ],
   "source": [
    "ages_df = pd.read_csv('/Users/bassel_instructor/Documents/Datasets/Ages.csv')\n",
    "ages_df.head()"
   ]
  },
  {
   "cell_type": "code",
   "execution_count": 12,
   "metadata": {},
   "outputs": [],
   "source": [
    "t_test, p_val = sts.ttest_1samp(ages_df, 30)"
   ]
  },
  {
   "cell_type": "code",
   "execution_count": 13,
   "metadata": {},
   "outputs": [
    {
     "name": "stdout",
     "output_type": "stream",
     "text": [
      "We reject the null hypothesis.\n"
     ]
    }
   ],
   "source": [
    "HypoTesting(p_val, alpha)"
   ]
  },
  {
   "cell_type": "markdown",
   "metadata": {},
   "source": [
    "We reject the null hypothesis. Therefore, the 30 years average age in the organization is not valid."
   ]
  },
  {
   "cell_type": "markdown",
   "metadata": {},
   "source": [
    "### z-test"
   ]
  },
  {
   "cell_type": "markdown",
   "metadata": {},
   "source": [
    "When to use:\n",
    "- The population variance is know\n",
    "- If the population variance is unknown, but the sample size is large."
   ]
  },
  {
   "cell_type": "markdown",
   "metadata": {},
   "source": [
    "**Example**</br>\n",
    "A school principal claims that the students in his school are more intelligent than those of other schools. A random sample of 50 students' IQ scores has a mean score of 110. The mean population IQ is 100 with a Standard deviation of 15. State whether the claim of the principal is right or not at a 5% significance level.\n"
   ]
  },
  {
   "cell_type": "markdown",
   "metadata": {},
   "source": [
    "- $H_0$ The average IQ of the sample is equal to the population (equal to 100) -> disagreeing with the principal's statement\n",
    "- $H_a$ The average IQ of the sample does not equal to the population (equal to 100) "
   ]
  },
  {
   "cell_type": "code",
   "execution_count": 14,
   "metadata": {},
   "outputs": [],
   "source": [
    "# sample info\n",
    "size_sm = 50\n",
    "mean_sm = 110\n",
    "\n",
    "# population info\n",
    "sd_pop = 15\n",
    "mean_pop = 100\n",
    "\n",
    "alpha = 0.05"
   ]
  },
  {
   "cell_type": "markdown",
   "metadata": {},
   "source": [
    "- We're missing the data to run the analysis\n",
    "- We can generate the data of the students based on the givens (mean, size, and SD) assuming they follow a normal distribution\n",
    "- However, we're missing the SD of the sample. Therefore, we need to derive it from the population"
   ]
  },
  {
   "cell_type": "markdown",
   "metadata": {},
   "source": [
    "![Sd](https://uedufy.com/wp-content/uploads/2022/03/image-3.png)"
   ]
  },
  {
   "cell_type": "code",
   "execution_count": 15,
   "metadata": {},
   "outputs": [
    {
     "data": {
      "text/plain": [
       "2.1213203435596424"
      ]
     },
     "execution_count": 15,
     "metadata": {},
     "output_type": "execute_result"
    }
   ],
   "source": [
    "import math\n",
    "sd_sm = sd_pop/math.sqrt(size_sm)\n",
    "sd_sm"
   ]
  },
  {
   "cell_type": "code",
   "execution_count": 16,
   "metadata": {},
   "outputs": [
    {
     "data": {
      "text/plain": [
       "array([109.79462458, 108.8183422 , 109.48634272, 104.87929624,\n",
       "       111.28279652, 111.41623144, 109.03513745, 109.55710036,\n",
       "       107.94026986, 110.18096753, 109.61991889, 111.15681391,\n",
       "       108.55852933, 109.3427375 , 110.79153874, 108.01880156,\n",
       "       109.60637208, 110.12175545, 110.54016574, 108.16873159,\n",
       "       107.9767357 , 105.86496051, 109.97667629, 110.88577645,\n",
       "       111.63281551, 111.64098768, 107.34939516, 110.25627464,\n",
       "       110.52365959, 109.17085399, 108.65060055, 109.51760278,\n",
       "       110.94178984, 109.65574895, 109.49005383, 109.35299415,\n",
       "       107.15120742, 107.08748576, 107.23218156, 111.5726628 ,\n",
       "       110.97818462, 112.65053438, 109.60387895, 108.94169683,\n",
       "       108.31904752, 112.75736235, 111.87684416, 111.65524817,\n",
       "       112.63368118, 111.25575208])"
      ]
     },
     "execution_count": 16,
     "metadata": {},
     "output_type": "execute_result"
    }
   ],
   "source": [
    "# now we can generate our synthetic data based on the statistics\n",
    "import numpy as np\n",
    "# pass the mean, sd, size\n",
    "student_sample = np.random.normal(loc=mean_sm, scale=sd_sm, size=size_sm)\n",
    "student_sample"
   ]
  },
  {
   "cell_type": "code",
   "execution_count": 17,
   "metadata": {},
   "outputs": [
    {
     "data": {
      "text/plain": [
       "50"
      ]
     },
     "execution_count": 17,
     "metadata": {},
     "output_type": "execute_result"
    }
   ],
   "source": [
    "#check the size\n",
    "len(student_sample)"
   ]
  },
  {
   "cell_type": "code",
   "execution_count": 18,
   "metadata": {},
   "outputs": [
    {
     "data": {
      "text/plain": [
       "109.69838334252795"
      ]
     },
     "execution_count": 18,
     "metadata": {},
     "output_type": "execute_result"
    }
   ],
   "source": [
    "np.mean(student_sample)"
   ]
  },
  {
   "cell_type": "code",
   "execution_count": 19,
   "metadata": {},
   "outputs": [],
   "source": [
    "#now we're ready to tun z test on the sample\n",
    "\n",
    "from statsmodels.stats.weightstats import ztest\n",
    "\n",
    "z_stat, p_val = ztest(student_sample, value=mean_pop)"
   ]
  },
  {
   "cell_type": "code",
   "execution_count": 20,
   "metadata": {},
   "outputs": [
    {
     "name": "stdout",
     "output_type": "stream",
     "text": [
      "We reject the null hypothesis.\n"
     ]
    }
   ],
   "source": [
    "HypoTesting(p_val, alpha)"
   ]
  },
  {
   "cell_type": "markdown",
   "metadata": {},
   "source": [
    "- $H_0$ : difference in means equals to value (disagree with the principal)\n",
    "- $H_a$ : The sample mean is significantly different from the population mean (agree with principal)"
   ]
  },
  {
   "cell_type": "markdown",
   "metadata": {},
   "source": [
    "For larger:\n",
    "-  $H_0$ : difference in means is not larger than value\n",
    "-  $H_a$ : the sample mean is larger than the one for population"
   ]
  },
  {
   "cell_type": "code",
   "execution_count": 21,
   "metadata": {},
   "outputs": [
    {
     "name": "stdout",
     "output_type": "stream",
     "text": [
      "We reject the null hypothesis.\n"
     ]
    }
   ],
   "source": [
    "z_stat, p_val = ztest(student_sample, value=mean_pop, alternative='larger')\n",
    "HypoTesting(p_val, alpha)"
   ]
  },
  {
   "cell_type": "code",
   "execution_count": 23,
   "metadata": {},
   "outputs": [
    {
     "name": "stdout",
     "output_type": "stream",
     "text": [
      "Reject the null hypothesis. The principal's claim is supported.\n"
     ]
    }
   ],
   "source": [
    "if p_val < alpha:\n",
    "    print(\"Reject the null hypothesis. The principal's claim is supported.\")\n",
    "else:\n",
    "    print(\"Fail to reject the null hypothesis. The principal's claim is not supported.\")"
   ]
  },
  {
   "cell_type": "markdown",
   "metadata": {},
   "source": [
    "### Alternative Approach"
   ]
  },
  {
   "cell_type": "code",
   "execution_count": 22,
   "metadata": {},
   "outputs": [
    {
     "name": "stdout",
     "output_type": "stream",
     "text": [
      "Z-score: 4.714045207910317\n",
      "p-value: 1.2142337364462463e-06\n",
      "Reject the null hypothesis. The principal's claim is supported.\n"
     ]
    }
   ],
   "source": [
    "from scipy.stats import norm\n",
    "\n",
    "# Given data\n",
    "sample_mean = 110\n",
    "population_mean = 100\n",
    "population_std = 15\n",
    "sample_size = 50\n",
    "\n",
    "# Calculate the Z-score\n",
    "z_score = (sample_mean - population_mean) / (population_std / (sample_size ** 0.5))\n",
    "\n",
    "# Calculate the p-value\n",
    "p_value = 1 - norm.cdf(z_score)\n",
    "\n",
    "# Print the results\n",
    "print(\"Z-score:\", z_score)\n",
    "print(\"p-value:\", p_value)\n",
    "\n",
    "# Determine if we reject the null hypothesis at the 5% significance level\n",
    "alpha = 0.05\n",
    "if p_value < alpha:\n",
    "    print(\"Reject the null hypothesis. The principal's claim is supported.\")\n",
    "else:\n",
    "    print(\"Fail to reject the null hypothesis. The principal's claim is not supported.\")\n"
   ]
  },
  {
   "cell_type": "markdown",
   "metadata": {},
   "source": [
    "To test the principal's claim, we can perform a one-sample z-test. Here, we will compare the sample mean IQ score to the population mean IQ score to determine if the sample mean is significantly higher.\n",
    "\n",
    "### Steps to Perform the Z-Test:\n",
    "1. **State the Hypotheses**:\n",
    "   - Null Hypothesis (\\(H_0\\)): The mean IQ of students in the principal's school is equal to the population mean IQ (\\(\\mu = 100\\)).\n",
    "   - Alternative Hypothesis (\\(H_1\\)): The mean IQ of students in the principal's school is greater than the population mean IQ (\\(\\mu > 100\\)).\n",
    "\n",
    "2. **Calculate the Z-Score**:\n",
    "   - The Z-score formula for a sample mean is:\n",
    "     \\[\n",
    "     Z = \\frac{\\bar{X} - \\mu}{\\sigma / \\sqrt{n}}\n",
    "     \\]\n",
    "     where:\n",
    "     - \\(\\bar{X}\\) is the sample mean.\n",
    "     - \\(\\mu\\) is the population mean.\n",
    "     - \\(\\sigma\\) is the population standard deviation.\n",
    "     - \\(n\\) is the sample size.\n",
    "\n",
    "3. **Determine the Critical Z-Value and p-Value**:\n",
    "   - For a one-tailed test at a 5% significance level (\\(\\alpha = 0.05\\)), the critical Z-value is approximately 1.645.\n",
    "\n",
    "4. **Compare the Calculated Z-Score with the Critical Z-Value**:\n",
    "   - If the calculated Z-score is greater than the critical Z-value, we reject the null hypothesis.\n",
    "\n",
    "Let's perform these calculations in Python using `scipy`:\n",
    "\n",
    "\n",
    "### Interpretation of the Results:\n",
    "- **Z-score**: This tells us how many standard deviations the sample mean is from the population mean.\n",
    "- **p-value**: This represents the probability of observing a sample mean as extreme as 110 if the null hypothesis is true.\n",
    "- If the p-value is less than the significance level (0.05), we reject the null hypothesis, indicating that the students' IQ scores in the principal's school are significantly higher than the population mean.\n",
    "\n",
    "Let's execute the code to see the results.\n",
    "\n",
    "### Results:\n",
    "- **Z-score**: 4.714\n",
    "- **p-value**: \\(1.214 \\times 10^{-6}\\)\n",
    "\n",
    "Since the p-value is significantly less than the significance level of 0.05, we reject the null hypothesis.\n",
    "\n",
    "### Conclusion:\n",
    "The Z-score of 4.714 indicates that the sample mean is 4.714 standard deviations above the population mean. The extremely low p-value (\\(1.214 \\times 10^{-6}\\)) provides strong evidence against the null hypothesis. \n",
    "\n",
    "Therefore, we reject the null hypothesis and conclude that the principal's claim that the students in his school are more intelligent than those of other schools is supported at the 5% significance level."
   ]
  },
  {
   "cell_type": "markdown",
   "metadata": {},
   "source": [
    "### Chi-Square Distribution and Test"
   ]
  },
  {
   "cell_type": "markdown",
   "metadata": {},
   "source": [
    "![c](https://www.easysevens.com/wp-content/uploads/2024/01/Chi-Squared-Distribution.png)"
   ]
  },
  {
   "cell_type": "markdown",
   "metadata": {},
   "source": [
    "- The Chi Square ($X^2$) a statistical method used to determent if there is a relationship/association between **two categorical variables**\n",
    "- It measures the expected frequencies for one of more categories\n",
    "- it is mainly usd for 2 types of tests:\n",
    "    - Test for Independence: if there's a relationship between 2 categorical variables/arrays\n",
    "    - Goodness-of-fit: if a sample data matches a population with a specific distribution\n",
    "- Steps to perform the chi-square test:\n",
    "    1. Define the null and alternative hypothesis\n",
    "    2. Build a contingency table between the 2 variables\n",
    "    3. Calculate the chi2 values and expected frequencies \n",
    "    4. Compare the critical value to p-value"
   ]
  },
  {
   "cell_type": "markdown",
   "metadata": {},
   "source": [
    "- $H_0$ there's no relationship between the 2 variables\n",
    "- $H_a$ there's a relationship between the 2 variables"
   ]
  },
  {
   "cell_type": "markdown",
   "metadata": {},
   "source": [
    "## Example\n",
    "Let's say we gathered a survey for favorite car color between men and women. We want to find out if there's an association between gender and car color."
   ]
  },
  {
   "cell_type": "markdown",
   "metadata": {},
   "source": [
    "- $H_0$ there's no relationship between the choice of color and gender\n",
    "- $H_a$ there's a relationship between the choice of color and gender"
   ]
  },
  {
   "cell_type": "code",
   "execution_count": 28,
   "metadata": {},
   "outputs": [
    {
     "data": {
      "text/html": [
       "<div>\n",
       "<style scoped>\n",
       "    .dataframe tbody tr th:only-of-type {\n",
       "        vertical-align: middle;\n",
       "    }\n",
       "\n",
       "    .dataframe tbody tr th {\n",
       "        vertical-align: top;\n",
       "    }\n",
       "\n",
       "    .dataframe thead th {\n",
       "        text-align: right;\n",
       "    }\n",
       "</style>\n",
       "<table border=\"1\" class=\"dataframe\">\n",
       "  <thead>\n",
       "    <tr style=\"text-align: right;\">\n",
       "      <th></th>\n",
       "      <th>Gender</th>\n",
       "      <th>Car Color</th>\n",
       "    </tr>\n",
       "  </thead>\n",
       "  <tbody>\n",
       "    <tr>\n",
       "      <th>0</th>\n",
       "      <td>M</td>\n",
       "      <td>Black</td>\n",
       "    </tr>\n",
       "    <tr>\n",
       "      <th>1</th>\n",
       "      <td>M</td>\n",
       "      <td>Silver</td>\n",
       "    </tr>\n",
       "    <tr>\n",
       "      <th>2</th>\n",
       "      <td>M</td>\n",
       "      <td>Red</td>\n",
       "    </tr>\n",
       "    <tr>\n",
       "      <th>3</th>\n",
       "      <td>M</td>\n",
       "      <td>Black</td>\n",
       "    </tr>\n",
       "    <tr>\n",
       "      <th>4</th>\n",
       "      <td>M</td>\n",
       "      <td>Black</td>\n",
       "    </tr>\n",
       "  </tbody>\n",
       "</table>\n",
       "</div>"
      ],
      "text/plain": [
       "  Gender Car Color\n",
       "0      M     Black\n",
       "1      M    Silver\n",
       "2      M       Red\n",
       "3      M     Black\n",
       "4      M     Black"
      ]
     },
     "execution_count": 28,
     "metadata": {},
     "output_type": "execute_result"
    }
   ],
   "source": [
    "df_shop = pd.read_csv('/Users/bassel_instructor/Documents/Datasets/Shopping.csv')\n",
    "df_shop.head()"
   ]
  },
  {
   "cell_type": "markdown",
   "metadata": {},
   "source": [
    "**Exploratory Data Analysis**"
   ]
  },
  {
   "cell_type": "code",
   "execution_count": 30,
   "metadata": {},
   "outputs": [
    {
     "data": {
      "text/plain": [
       "Gender\n",
       "F    55\n",
       "M    49\n",
       "Name: count, dtype: int64"
      ]
     },
     "execution_count": 30,
     "metadata": {},
     "output_type": "execute_result"
    }
   ],
   "source": [
    "# let's check if there's a balance between gender and color\n",
    "df_shop['Gender'].value_counts()"
   ]
  },
  {
   "cell_type": "code",
   "execution_count": 31,
   "metadata": {},
   "outputs": [
    {
     "data": {
      "text/plain": [
       "Car Color\n",
       "Black     31\n",
       "Silver    24\n",
       "Pink      24\n",
       "White     16\n",
       "Red        9\n",
       "Name: count, dtype: int64"
      ]
     },
     "execution_count": 31,
     "metadata": {},
     "output_type": "execute_result"
    }
   ],
   "source": [
    "df_shop['Car Color'].value_counts()"
   ]
  },
  {
   "cell_type": "code",
   "execution_count": 32,
   "metadata": {},
   "outputs": [
    {
     "data": {
      "text/html": [
       "<div>\n",
       "<style scoped>\n",
       "    .dataframe tbody tr th:only-of-type {\n",
       "        vertical-align: middle;\n",
       "    }\n",
       "\n",
       "    .dataframe tbody tr th {\n",
       "        vertical-align: top;\n",
       "    }\n",
       "\n",
       "    .dataframe thead th {\n",
       "        text-align: right;\n",
       "    }\n",
       "</style>\n",
       "<table border=\"1\" class=\"dataframe\">\n",
       "  <thead>\n",
       "    <tr style=\"text-align: right;\">\n",
       "      <th>Car Color</th>\n",
       "      <th>Black</th>\n",
       "      <th>Pink</th>\n",
       "      <th>Red</th>\n",
       "      <th>Silver</th>\n",
       "      <th>White</th>\n",
       "    </tr>\n",
       "    <tr>\n",
       "      <th>Gender</th>\n",
       "      <th></th>\n",
       "      <th></th>\n",
       "      <th></th>\n",
       "      <th></th>\n",
       "      <th></th>\n",
       "    </tr>\n",
       "  </thead>\n",
       "  <tbody>\n",
       "    <tr>\n",
       "      <th>F</th>\n",
       "      <td>9</td>\n",
       "      <td>22</td>\n",
       "      <td>2</td>\n",
       "      <td>8</td>\n",
       "      <td>14</td>\n",
       "    </tr>\n",
       "    <tr>\n",
       "      <th>M</th>\n",
       "      <td>22</td>\n",
       "      <td>2</td>\n",
       "      <td>7</td>\n",
       "      <td>16</td>\n",
       "      <td>2</td>\n",
       "    </tr>\n",
       "  </tbody>\n",
       "</table>\n",
       "</div>"
      ],
      "text/plain": [
       "Car Color  Black  Pink  Red  Silver  White\n",
       "Gender                                    \n",
       "F              9    22    2       8     14\n",
       "M             22     2    7      16      2"
      ]
     },
     "execution_count": 32,
     "metadata": {},
     "output_type": "execute_result"
    }
   ],
   "source": [
    "#step 2\n",
    "# contingency table means pivot/crosstab of the occurrences of each category with the other\n",
    "\n",
    "cont_table = pd.crosstab(df_shop['Gender'], df_shop['Car Color'])\n",
    "cont_table"
   ]
  },
  {
   "cell_type": "markdown",
   "metadata": {},
   "source": [
    "- Pink color is more popular for females\n",
    "- Black is the most popular for males\n",
    "- There's not really a color that's equal across genders\n",
    "- pink (M) and red (F) are the least liked "
   ]
  },
  {
   "cell_type": "code",
   "execution_count": 33,
   "metadata": {},
   "outputs": [
    {
     "data": {
      "text/plain": [
       "Chi2ContingencyResult(statistic=36.33751604258517, pvalue=2.466054233511132e-07, dof=4, expected_freq=array([[16.39423077, 12.69230769,  4.75961538, 12.69230769,  8.46153846],\n",
       "       [14.60576923, 11.30769231,  4.24038462, 11.30769231,  7.53846154]]))"
      ]
     },
     "execution_count": 33,
     "metadata": {},
     "output_type": "execute_result"
    }
   ],
   "source": [
    "# step 3\n",
    "chi_results = sts.chi2_contingency(cont_table)\n",
    "chi_results"
   ]
  },
  {
   "cell_type": "markdown",
   "metadata": {},
   "source": [
    "The results are packaged as the following:\n",
    "- statistic: float - The test statistic.\n",
    "- pvalue: float - The p-value of the test.\n",
    "- dof: int - The degrees of freedom.\n",
    "- expected_freq: ndarray - same shape as observed. The expected frequencies, based on the marginal sums of the table."
   ]
  },
  {
   "cell_type": "code",
   "execution_count": 34,
   "metadata": {},
   "outputs": [
    {
     "data": {
      "text/plain": [
       "2.466054233511132e-07"
      ]
     },
     "execution_count": 34,
     "metadata": {},
     "output_type": "execute_result"
    }
   ],
   "source": [
    "p_val = chi_results[1]\n",
    "p_val"
   ]
  },
  {
   "cell_type": "code",
   "execution_count": 35,
   "metadata": {},
   "outputs": [],
   "source": [
    "# method 2\n",
    "\n",
    "chi_stat, p_val, dof, ex_freq = sts.chi2_contingency(cont_table)"
   ]
  },
  {
   "cell_type": "code",
   "execution_count": 36,
   "metadata": {},
   "outputs": [
    {
     "name": "stdout",
     "output_type": "stream",
     "text": [
      "We reject the null hypothesis.\n"
     ]
    }
   ],
   "source": [
    "# evaluation\n",
    "HypoTesting(p_val, alpha)"
   ]
  },
  {
   "cell_type": "markdown",
   "metadata": {},
   "source": [
    "- We reject the null hypothesis. Therefore, there's a relationship between Gender and Car Color.\n",
    "- The expected values is basically what the data should look like if there's no relationship (to satisfy the $H_0$)"
   ]
  },
  {
   "cell_type": "code",
   "execution_count": 38,
   "metadata": {},
   "outputs": [
    {
     "data": {
      "text/html": [
       "<div>\n",
       "<style scoped>\n",
       "    .dataframe tbody tr th:only-of-type {\n",
       "        vertical-align: middle;\n",
       "    }\n",
       "\n",
       "    .dataframe tbody tr th {\n",
       "        vertical-align: top;\n",
       "    }\n",
       "\n",
       "    .dataframe thead th {\n",
       "        text-align: right;\n",
       "    }\n",
       "</style>\n",
       "<table border=\"1\" class=\"dataframe\">\n",
       "  <thead>\n",
       "    <tr style=\"text-align: right;\">\n",
       "      <th></th>\n",
       "      <th>Black</th>\n",
       "      <th>Pink</th>\n",
       "      <th>Red</th>\n",
       "      <th>Silver</th>\n",
       "      <th>White</th>\n",
       "    </tr>\n",
       "  </thead>\n",
       "  <tbody>\n",
       "    <tr>\n",
       "      <th>F</th>\n",
       "      <td>16.394231</td>\n",
       "      <td>12.692308</td>\n",
       "      <td>4.759615</td>\n",
       "      <td>12.692308</td>\n",
       "      <td>8.461538</td>\n",
       "    </tr>\n",
       "    <tr>\n",
       "      <th>M</th>\n",
       "      <td>14.605769</td>\n",
       "      <td>11.307692</td>\n",
       "      <td>4.240385</td>\n",
       "      <td>11.307692</td>\n",
       "      <td>7.538462</td>\n",
       "    </tr>\n",
       "  </tbody>\n",
       "</table>\n",
       "</div>"
      ],
      "text/plain": [
       "       Black       Pink       Red     Silver     White\n",
       "F  16.394231  12.692308  4.759615  12.692308  8.461538\n",
       "M  14.605769  11.307692  4.240385  11.307692  7.538462"
      ]
     },
     "execution_count": 38,
     "metadata": {},
     "output_type": "execute_result"
    }
   ],
   "source": [
    "exp_freq_df = pd.DataFrame(data= ex_freq,\n",
    "                           index=['F', 'M'],\n",
    "                           columns=['Black', 'Pink', 'Red', 'Silver', 'White'])\n",
    "exp_freq_df"
   ]
  },
  {
   "cell_type": "markdown",
   "metadata": {},
   "source": [
    "### ANOVA"
   ]
  },
  {
   "cell_type": "markdown",
   "metadata": {},
   "source": [
    "- ANOVA: Analysis of Variance \n",
    "- It assesses whether the means of multiple groups are statistically significant from each other or not\n",
    "- t-test and z-test are limited to 2 groups evaluation. ANOVA can do 2 or more\n",
    "- The statistical result of ANOVA is called f-statistic. Fischer statistic\n",
    "- Types:\n",
    "    - one-way ANOVA: deals with one factor for multiple groups. e.g. student IQ evaluation for 3 different classes\n",
    "    - two-way ANOVA: deals with two factors for multiple groups. e.g. student IQ and age evaluation for 3 different classes\n",
    "    - MANOVA: multiple factors with multiple groups"
   ]
  },
  {
   "cell_type": "markdown",
   "metadata": {},
   "source": [
    "**Example** </br>\n",
    "Suppose you are a researcher conducting an agricultural study to compare the yield of three different fertilizer treatments (Treatment A, Treatment B, and Treatment C) on a specific type of crop. You want to determine if there are significant differences in crop yields among the treatments."
   ]
  },
  {
   "cell_type": "markdown",
   "metadata": {},
   "source": [
    "Solution:\n",
    "- We have multiple groups with 1 factor: one-way ANOVA\n",
    "- Let's define the Hypotheses:\n",
    "    - $H_0$ the means of all treatments are equal (no difference or change)\n",
    "    - $H_a$ at least one of the treatments (A, B, or C) has a significantly different mean"
   ]
  },
  {
   "cell_type": "code",
   "execution_count": 39,
   "metadata": {},
   "outputs": [
    {
     "data": {
      "text/html": [
       "<div>\n",
       "<style scoped>\n",
       "    .dataframe tbody tr th:only-of-type {\n",
       "        vertical-align: middle;\n",
       "    }\n",
       "\n",
       "    .dataframe tbody tr th {\n",
       "        vertical-align: top;\n",
       "    }\n",
       "\n",
       "    .dataframe thead th {\n",
       "        text-align: right;\n",
       "    }\n",
       "</style>\n",
       "<table border=\"1\" class=\"dataframe\">\n",
       "  <thead>\n",
       "    <tr style=\"text-align: right;\">\n",
       "      <th></th>\n",
       "      <th>Treatment_A</th>\n",
       "      <th>Treatment_B</th>\n",
       "      <th>Treatment_C</th>\n",
       "    </tr>\n",
       "  </thead>\n",
       "  <tbody>\n",
       "    <tr>\n",
       "      <th>0</th>\n",
       "      <td>50</td>\n",
       "      <td>56</td>\n",
       "      <td>49</td>\n",
       "    </tr>\n",
       "    <tr>\n",
       "      <th>1</th>\n",
       "      <td>54</td>\n",
       "      <td>47</td>\n",
       "      <td>57</td>\n",
       "    </tr>\n",
       "    <tr>\n",
       "      <th>2</th>\n",
       "      <td>57</td>\n",
       "      <td>55</td>\n",
       "      <td>46</td>\n",
       "    </tr>\n",
       "    <tr>\n",
       "      <th>3</th>\n",
       "      <td>49</td>\n",
       "      <td>41</td>\n",
       "      <td>40</td>\n",
       "    </tr>\n",
       "    <tr>\n",
       "      <th>4</th>\n",
       "      <td>46</td>\n",
       "      <td>56</td>\n",
       "      <td>54</td>\n",
       "    </tr>\n",
       "  </tbody>\n",
       "</table>\n",
       "</div>"
      ],
      "text/plain": [
       "   Treatment_A  Treatment_B  Treatment_C\n",
       "0           50           56           49\n",
       "1           54           47           57\n",
       "2           57           55           46\n",
       "3           49           41           40\n",
       "4           46           56           54"
      ]
     },
     "execution_count": 39,
     "metadata": {},
     "output_type": "execute_result"
    }
   ],
   "source": [
    "df_crop = pd.read_csv('/Users/bassel_instructor/Documents/Datasets/crop_yield_treatment.csv')\n",
    "df_crop.head()"
   ]
  },
  {
   "cell_type": "code",
   "execution_count": 40,
   "metadata": {},
   "outputs": [],
   "source": [
    "f_stat, p_val = sts.f_oneway(df_crop['Treatment_A'],df_crop['Treatment_B'],df_crop['Treatment_C'])"
   ]
  },
  {
   "cell_type": "code",
   "execution_count": 41,
   "metadata": {},
   "outputs": [
    {
     "name": "stdout",
     "output_type": "stream",
     "text": [
      "We accept (do not reject) the null hypothesis.\n"
     ]
    }
   ],
   "source": [
    "HypoTesting(p_val, alpha)"
   ]
  },
  {
   "cell_type": "markdown",
   "metadata": {},
   "source": [
    "We accept (do not reject) the null hypothesis. Therefore, all treatments are equal (no difference to crop yield)"
   ]
  },
  {
   "cell_type": "markdown",
   "metadata": {},
   "source": [
    "### Mann-Whitney U Test"
   ]
  },
  {
   "cell_type": "markdown",
   "metadata": {},
   "source": [
    "- There's a weakness with using z-test if the data is not normally distributed\n",
    "- In this case, we need to use \"non-parametric\" evaluation (aka Mann-Whitney U test)\n",
    "- Non-parametric evaluation means \n",
    "    - it doesn't rely on statistical measures, such as mean and standard deviation\n",
    "    - it doesn't use normal distribution assumptions\n",
    "- The test statistic is called u-statistic"
   ]
  },
  {
   "cell_type": "markdown",
   "metadata": {},
   "source": [
    "**Example**</br>\n",
    "Evaluate of the salaries of post-graduate students from 2 different universities are different from each other."
   ]
  },
  {
   "cell_type": "code",
   "execution_count": 43,
   "metadata": {},
   "outputs": [
    {
     "data": {
      "text/html": [
       "<div>\n",
       "<style scoped>\n",
       "    .dataframe tbody tr th:only-of-type {\n",
       "        vertical-align: middle;\n",
       "    }\n",
       "\n",
       "    .dataframe tbody tr th {\n",
       "        vertical-align: top;\n",
       "    }\n",
       "\n",
       "    .dataframe thead th {\n",
       "        text-align: right;\n",
       "    }\n",
       "</style>\n",
       "<table border=\"1\" class=\"dataframe\">\n",
       "  <thead>\n",
       "    <tr style=\"text-align: right;\">\n",
       "      <th></th>\n",
       "      <th>UnivOfDallas</th>\n",
       "      <th>ArizonaStateUniv</th>\n",
       "    </tr>\n",
       "  </thead>\n",
       "  <tbody>\n",
       "    <tr>\n",
       "      <th>0</th>\n",
       "      <td>71555</td>\n",
       "      <td>73589</td>\n",
       "    </tr>\n",
       "    <tr>\n",
       "      <th>1</th>\n",
       "      <td>67887</td>\n",
       "      <td>83621</td>\n",
       "    </tr>\n",
       "    <tr>\n",
       "      <th>2</th>\n",
       "      <td>84334</td>\n",
       "      <td>74681</td>\n",
       "    </tr>\n",
       "    <tr>\n",
       "      <th>3</th>\n",
       "      <td>70133</td>\n",
       "      <td>83873</td>\n",
       "    </tr>\n",
       "    <tr>\n",
       "      <th>4</th>\n",
       "      <td>89304</td>\n",
       "      <td>72350</td>\n",
       "    </tr>\n",
       "  </tbody>\n",
       "</table>\n",
       "</div>"
      ],
      "text/plain": [
       "   UnivOfDallas  ArizonaStateUniv\n",
       "0         71555             73589\n",
       "1         67887             83621\n",
       "2         84334             74681\n",
       "3         70133             83873\n",
       "4         89304             72350"
      ]
     },
     "execution_count": 43,
     "metadata": {},
     "output_type": "execute_result"
    }
   ],
   "source": [
    "df_sal = pd.read_csv('/Users/bassel_instructor/Documents/Datasets/Mann-Whitney_U_Salaires.csv')\n",
    "df_sal.head()"
   ]
  },
  {
   "cell_type": "code",
   "execution_count": 44,
   "metadata": {},
   "outputs": [
    {
     "data": {
      "text/plain": [
       "UnivOfDallas       -0.270814\n",
       "ArizonaStateUniv   -0.489069\n",
       "dtype: float64"
      ]
     },
     "execution_count": 44,
     "metadata": {},
     "output_type": "execute_result"
    }
   ],
   "source": [
    "# let's inspect the distribution\n",
    "\n",
    "df_sal.skew()"
   ]
  },
  {
   "cell_type": "code",
   "execution_count": 47,
   "metadata": {},
   "outputs": [
    {
     "data": {
      "text/plain": [
       "array([[<Axes: title={'center': 'UnivOfDallas'}>,\n",
       "        <Axes: title={'center': 'ArizonaStateUniv'}>]], dtype=object)"
      ]
     },
     "execution_count": 47,
     "metadata": {},
     "output_type": "execute_result"
    },
    {
     "data": {
      "image/png": "[encoded data removed]",
      "text/plain": [
       "<Figure size 1200x500 with 2 Axes>"
      ]
     },
     "metadata": {},
     "output_type": "display_data"
    }
   ],
   "source": [
    "df_sal.hist(figsize=(12,5))"
   ]
  },
  {
   "cell_type": "code",
   "execution_count": 48,
   "metadata": {},
   "outputs": [
    {
     "name": "stdout",
     "output_type": "stream",
     "text": [
      "We accept (do not reject) the null hypothesis.\n"
     ]
    }
   ],
   "source": [
    "u_stat, p_val = sts.mannwhitneyu(df_sal['UnivOfDallas'], df_sal['ArizonaStateUniv'])\n",
    "\n",
    "HypoTesting(p_val, alpha)"
   ]
  },
  {
   "cell_type": "code",
   "execution_count": 49,
   "metadata": {},
   "outputs": [
    {
     "data": {
      "text/plain": [
       "0.33264564230490734"
      ]
     },
     "execution_count": 49,
     "metadata": {},
     "output_type": "execute_result"
    }
   ],
   "source": [
    "p_val"
   ]
  },
  {
   "cell_type": "markdown",
   "metadata": {},
   "source": [
    "Since We accept (do not reject) the null hypothesis, there's no significant difference between the salaries of the universities' post grads."
   ]
  },
  {
   "cell_type": "markdown",
   "metadata": {},
   "source": [
    "## Kruskal-Wallis Test"
   ]
  },
  {
   "cell_type": "markdown",
   "metadata": {},
   "source": [
    "- When the data is not normally distributed\n",
    "- When you have more than 2 independent groups/variables"
   ]
  },
  {
   "cell_type": "markdown",
   "metadata": {},
   "source": [
    "**Example**</br>\n",
    "We have 3 different diets, and we want to compare their effects on weight loss."
   ]
  },
  {
   "cell_type": "code",
   "execution_count": 50,
   "metadata": {},
   "outputs": [],
   "source": [
    "diet_A = [2.5, 3.0, 3.5, 3.2]\n",
    "diet_B = [3.6, 3.9, 4.2, 4.0]\n",
    "diet_C = [2.8, 3.1, 3.3, 3.7]"
   ]
  },
  {
   "cell_type": "code",
   "execution_count": 51,
   "metadata": {},
   "outputs": [
    {
     "name": "stdout",
     "output_type": "stream",
     "text": [
      "We reject the null hypothesis.\n"
     ]
    }
   ],
   "source": [
    "h_stat, p_val = sts.kruskal(diet_A, diet_B, diet_C)\n",
    "\n",
    "HypoTesting(p_val, alpha)"
   ]
  },
  {
   "cell_type": "markdown",
   "metadata": {},
   "source": [
    "We reject the null hypothesis. Therefore, there's a significant difference between the groups."
   ]
  },
  {
   "cell_type": "code",
   "execution_count": null,
   "metadata": {},
   "outputs": [],
   "source": []
  }
 ],
 "metadata": {
  "kernelspec": {
   "display_name": "Python 3",
   "language": "python",
   "name": "python3"
  },
  "language_info": {
   "codemirror_mode": {
    "name": "ipython",
    "version": 3
   },
   "file_extension": ".py",
   "mimetype": "text/x-python",
   "name": "python",
   "nbconvert_exporter": "python",
   "pygments_lexer": "ipython3",
   "version": "3.11.3"
  }
 },
 "nbformat": 4,
 "nbformat_minor": 2
}
