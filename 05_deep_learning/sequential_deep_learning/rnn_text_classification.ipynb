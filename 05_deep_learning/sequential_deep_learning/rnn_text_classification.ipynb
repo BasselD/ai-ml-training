{
 "cells": [
  {
   "cell_type": "markdown",
   "metadata": {},
   "source": [
    "# Recurrent Neural Networks"
   ]
  },
  {
   "cell_type": "markdown",
   "metadata": {},
   "source": [
    "- RNNs are special kind of neural networks that are designed to handle sequential data.\n",
    "- Unlike traditional NN that processes individual inputs (fixed number), RNNs can analyze information that changes over time, such as text, speech, or time-series data.\n",
    "- This is achieved by incorporating a loop within the network architecture, allowing the network to consider past information when processing the current input."
   ]
  },
  {
   "cell_type": "markdown",
   "metadata": {},
   "source": [
    "![RNNs](https://miro.medium.com/v2/resize:fit:751/1*dznTsiaHCvRc70fxWWEcgw.png)"
   ]
  },
  {
   "cell_type": "markdown",
   "metadata": {},
   "source": [
    "Types of RNNs:\n",
    "- One-to-One e.g. Traditional Neural Network (1-phase RNN)\n",
    "- One-to-Many e.g. Music generation \n",
    "- Many-to-One e.g. Text classification or sentiment analysis\n",
    "- Many-to-Many e.g. Language translation\n",
    "- Many-to-Many e.g. Name entity recognition "
   ]
  },
  {
   "cell_type": "markdown",
   "metadata": {},
   "source": [
    "![RNNType](https://i.sstatic.net/6VAOt.jpg)"
   ]
  },
  {
   "cell_type": "markdown",
   "metadata": {},
   "source": [
    "![rnns](https://db0dce98.rocketcdn.me/es/files/2021/07/Sans-titre-1-Recupere-07-1024x429.png)"
   ]
  },
  {
   "cell_type": "markdown",
   "metadata": {},
   "source": [
    "## Text Classification\n",
    "We have multiple RNN models to choose from:\n",
    "- **Vanilla RNN** The simplest architecture. The disadvantage is it suffers from the vanishing gradient problem, where the information from distant past sequences can become insignificant (memory loss). In other words, it doesn't work well with long text.\n",
    "- **Long Short-Term Memory (LSTM)** It addresses the vanishing gradient problem by introducing gates that control the flow of information within the network. Therefore, they're effective for long-term dependencies.\n",
    "- **Gated Recurrent Unit (GRU)** Similar to LSTM, they overcome the vanishing gradient problem, but they use a different mechanism - simpler gating mechanism compared to LSTMs. So, it's computationally more efficient.\n"
   ]
  },
  {
   "cell_type": "markdown",
   "metadata": {},
   "source": [
    "> Before we jump into deploying RNNs, we need to understand how to preprocess language/text data using NLP (Natural Language Processing)"
   ]
  },
  {
   "cell_type": "markdown",
   "metadata": {},
   "source": [
    "## Natural Language Processing"
   ]
  },
  {
   "cell_type": "markdown",
   "metadata": {},
   "source": [
    "- For text or audio data that deals with human language, we need to pre-process the data using NLP (Natural Language Processing) techniques.\n",
    "- We'll be using `nltk` (Natural Language Toolkit), which is a popular open-source python library for working with human language data.\n",
    "- Capabilities:\n",
    "    - Text Preprocessing: NLTK offers modules for tokenization (splitting the text into words or sentences), stop word removal, etc... these steps are necessary to have clean data\n",
    "    - Corpus Handling: NLTK gives access to a variety of corpora (collection fo text data), such as Brown Corpus, Reuters Corpus, etc... \n",
    "    - Feature Extraction: it has tools for extracting linguistic features from text, such as part-of-speech tags, named entities, and more. \n",
    "    - Evaluation Metrics: it offers various evaluation metrics.\n",
    "- Concepts in NLP and Text Preprocessing:\n",
    "    - Text Cleaning:\n",
    "        - **Tokenization** refers to breaking down text into smaller units called **tokens**, such as words, phrases, or sentences.\n",
    "            - **Word Tokenization** split the text into individual words. For example, \"I study Machine Learning\" -> `['I', 'study', 'Machine', 'Learning']`\n",
    "            - **Sentence Tokenization** split the text into individual sentences. For example, \"I study Machine Learning. Currently, we are covering NLP.\" -> `[\"I study Machine Learning.\", \"Currently, we are covering NLP.\"]`\n",
    "\n",
    "        - **Special Characters Removal** Depending on the application, remove punctuation and other special characters if they're not needed.\n",
    "            - `re.sub(r'[^a-zA-Z0-9\\s]', '', text)`\n",
    "        - **Whitespace Removal**\n",
    "            - `text.strip()`\n",
    "        - **Stop Words Removal**: \n",
    "            - Stop words (e.g. the, and, is, etc...) don't contribute much to the meaning of a sentence. Removing them, helps clean data and achieve better performance.\n",
    "            - `nltk` provides a list of English stop words (other languages are available)\n",
    "            - `nltk.corpus.stopwords`\n",
    "        \n",
    "\n",
    "            - WordNet Lemmatizer: Dictionary-based lemmatization `nltk.stem.WordNetLemmatizer()`\n",
    "    - Text Normalization:\n",
    "        - Remove short words e.g. `len(word)<3`\n",
    "        - Remove long words e,g, `len(word)>15`\n",
    "        - Remove infrequent words\n",
    "        - **Lower Case Conversion**:\n",
    "            - To avoid redundancy in token lists, we convert all the words to lowercase. It ensures the model doesn't treat same words different case differently.\n",
    "            - `text.lower()`\n",
    "        - **Stemming and Lemmatization** Reducing the word to its base form. e.g. changing, changed, changes -> change\n",
    "            - Porter Stemmer: reduce the words to base form `nltk.stem.PorterStemmer()`\n",
    "            - Snowball Stemmer: Another alternative `nltk.stem.SnowballStemmer()`\n",
    "- Lexicon:\n",
    "    - A lexicon is a collection of words and their special meaning that are unique to the language. It can also be part of speech (noun, verb, etc...)\n",
    "    - `nltk` provides access to various lexicons\n",
    "    - Examples:\n",
    "        - \"Tsunami\"\n",
    "        - \"Run can be a verb or noun\n",
    "        - \"Dog\" refers to a domesticated mammal\n",
    "        - shortened words\n",
    "        - idioms \n",
    "\n"
   ]
  },
  {
   "cell_type": "markdown",
   "metadata": {},
   "source": [
    "`pip install nltk`"
   ]
  },
  {
   "cell_type": "markdown",
   "metadata": {},
   "source": [
    "**Exercise:** </br>\n",
    "Build an RNN model that predicts the class/genre of articles from BBC website."
   ]
  },
  {
   "cell_type": "markdown",
   "metadata": {},
   "source": [
    "1. Import the required libraries and configs\n",
    "2. Load the data and preprocessing it\n",
    "3. Define our hyperparameters\n",
    "4. Initialize a tokenizer and fit it to the train data\n",
    "5. Convert the train date articles into sequences using our defined tokenizer\n",
    "6. Pad the sequences\n",
    "7. Repeat the same process for label data\n",
    "8. Split the data into train and test\n",
    "9. Build, compile, and train the model\n",
    "10. Model evaluation"
   ]
  },
  {
   "cell_type": "markdown",
   "metadata": {},
   "source": [
    "#### Step 1"
   ]
  },
  {
   "cell_type": "code",
   "execution_count": 1,
   "metadata": {},
   "outputs": [
    {
     "name": "stderr",
     "output_type": "stream",
     "text": [
      "[nltk_data] Downloading package stopwords to\n",
      "[nltk_data]     /Users/bassel_instructor/nltk_data...\n",
      "[nltk_data]   Package stopwords is already up-to-date!\n"
     ]
    },
    {
     "data": {
      "text/plain": [
       "True"
      ]
     },
     "execution_count": 1,
     "metadata": {},
     "output_type": "execute_result"
    }
   ],
   "source": [
    "import nltk\n",
    "nltk.download('stopwords')"
   ]
  },
  {
   "cell_type": "code",
   "execution_count": 2,
   "metadata": {},
   "outputs": [],
   "source": [
    "import csv\n",
    "import numpy as np\n",
    "import matplotlib.pyplot as plt\n",
    "\n",
    "import tensorflow as tf\n",
    "from tensorflow.keras.preprocessing.text import Tokenizer\n",
    "#for compatibility, we use pad seq to transform a list into a 2D array of shape (num_samples, num_timesteps)\n",
    "from tensorflow.keras.preprocessing.sequence import pad_sequences\n",
    "# for the model components\n",
    "from tensorflow.keras.layers import Embedding, Bidirectional, Dense, SimpleRNN, Dropout, LSTM\n",
    "\n",
    "from nltk.corpus import stopwords\n",
    "STOPWORDS = set(stopwords.words('english'))\n",
    "\n",
    "from sklearn.model_selection import train_test_split\n",
    "\n"
   ]
  },
  {
   "cell_type": "markdown",
   "metadata": {},
   "source": [
    "#### Step 2 - Read The Data from A File, Split It Into Articles and Labels Lists, Remove StopWords"
   ]
  },
  {
   "cell_type": "markdown",
   "metadata": {},
   "source": [
    "> We'll use csv file read functionality to import and clean the data using STOPWORDS"
   ]
  },
  {
   "cell_type": "code",
   "execution_count": 3,
   "metadata": {},
   "outputs": [],
   "source": [
    "articles, labels = list(), list()\n",
    "\n",
    "data_path = '/Users/bassel_instructor/Documents/Datasets/'\n",
    "data_file = 'bbc-text.csv'\n",
    "\n",
    "with open(data_path+data_file, 'r') as bbc_file: #open in read mode\n",
    "    reader = csv.reader(bbc_file)\n",
    "    next(reader) # skip the first row of the csv file because we have columns headers\n",
    "\n",
    "    #a loop to iterate for each row\n",
    "    for row in reader:\n",
    "        # append to lables list\n",
    "        labels.append(row[0])\n",
    "\n",
    "        #for articles, we can apply text cleansing here\n",
    "        article = row[1]\n",
    "        # for each article, loop through the pre-defined STOPWORDS and remove them\n",
    "        # we wrap each stop word with spaces to avoid having extra spaces\n",
    "        for word in STOPWORDS:\n",
    "            token = ' ' + word + ' '\n",
    "            article = article.replace(token, ' ')\n",
    "            \n",
    "        #once the cleansing is done, append to the articles list\n",
    "        articles.append(article)"
   ]
  },
  {
   "cell_type": "markdown",
   "metadata": {},
   "source": [
    "We can check the num of articles and lables"
   ]
  },
  {
   "cell_type": "code",
   "execution_count": 4,
   "metadata": {},
   "outputs": [
    {
     "data": {
      "text/plain": [
       "True"
      ]
     },
     "execution_count": 4,
     "metadata": {},
     "output_type": "execute_result"
    }
   ],
   "source": [
    "len(articles) == len(labels)"
   ]
  },
  {
   "cell_type": "code",
   "execution_count": 5,
   "metadata": {},
   "outputs": [
    {
     "data": {
      "text/plain": [
       "['tech',\n",
       " 'business',\n",
       " 'sport',\n",
       " 'sport',\n",
       " 'entertainment',\n",
       " 'politics',\n",
       " 'politics',\n",
       " 'sport',\n",
       " 'sport']"
      ]
     },
     "execution_count": 5,
     "metadata": {},
     "output_type": "execute_result"
    }
   ],
   "source": [
    "labels[:9] # top 9 results"
   ]
  },
  {
   "cell_type": "code",
   "execution_count": 6,
   "metadata": {},
   "outputs": [
    {
     "name": "stdout",
     "output_type": "stream",
     "text": [
      "We have 5 classes: {'entertainment', 'tech', 'politics', 'business', 'sport'}\n"
     ]
    }
   ],
   "source": [
    "# get unique values for labels \n",
    "print(f'We have {len(set(labels))} classes: {set(labels)}')"
   ]
  },
  {
   "cell_type": "code",
   "execution_count": 7,
   "metadata": {},
   "outputs": [
    {
     "data": {
      "text/plain": [
       "['tv future hands viewers home theatre systems  plasma high-definition tvs  digital video recorders moving living room  way people watch tv radically different five years  time.  according expert panel gathered annual consumer electronics show las vegas discuss new technologies impact one favourite pastimes. us leading trend  programmes content delivered viewers via home networks  cable  satellite  telecoms companies  broadband service providers front rooms portable devices.  one talked-about technologies ces digital personal video recorders (dvr pvr). set-top boxes  like us tivo uk sky+ system  allow people record  store  play  pause forward wind tv programmes want.  essentially  technology allows much personalised tv. also built-in high-definition tv sets  big business japan us  slower take europe lack high-definition programming. people forward wind adverts  also forget abiding network channel schedules  putting together a-la-carte entertainment. us networks cable satellite companies worried means terms advertising revenues well  brand identity  viewer loyalty channels. although us leads technology moment  also concern raised europe  particularly growing uptake services like sky+.  happens today  see nine months years  time uk   adam hume  bbc broadcast futurologist told bbc news website. likes bbc  issues lost advertising revenue yet. pressing issue moment commercial uk broadcasters  brand loyalty important everyone.  talking content brands rather network brands   said tim hanlon  brand communications firm starcom mediavest.  reality broadband connections  anybody producer content.  added:  challenge hard promote programme much choice.   means  said stacey jolna  senior vice president tv guide tv group  way people find content want watch simplified tv viewers. means networks  us terms  channels could take leaf google book search engine future  instead scheduler help people find want watch. kind channel model might work younger ipod generation used taking control gadgets play them. might suit everyone  panel recognised. older generations comfortable familiar schedules channel brands know getting. perhaps want much choice put hands  mr hanlon suggested.  end  kids diapers pushing buttons already - everything possible available   said mr hanlon.  ultimately  consumer tell market want.   50 000 new gadgets technologies showcased ces  many enhancing tv-watching experience. high-definition tv sets everywhere many new models lcd (liquid crystal display) tvs launched dvr capability built  instead external boxes. one example launched show humax 26-inch lcd tv 80-hour tivo dvr dvd recorder. one us biggest satellite tv companies  directtv  even launched branded dvr show 100-hours recording capability  instant replay  search function. set pause rewind tv 90 hours. microsoft chief bill gates announced pre-show keynote speech partnership tivo  called tivotogo  means people play recorded programmes windows pcs mobile devices. reflect increasing trend freeing multimedia people watch want  want.',\n",
       " 'worldcom boss  left books alone  former worldcom boss bernie ebbers  accused overseeing $11bn (£5.8bn) fraud  never made accounting decisions  witness told jurors.  david myers made comments questioning defence lawyers arguing mr ebbers responsible worldcom problems. phone company collapsed 2002 prosecutors claim losses hidden protect firm shares. mr myers already pleaded guilty fraud assisting prosecutors.  monday  defence lawyer reid weingarten tried distance client allegations. cross examination  asked mr myers ever knew mr ebbers  make accounting decision  .  aware   mr myers replied.  ever know mr ebbers make accounting entry worldcom books   mr weingarten pressed.    replied witness. mr myers admitted ordered false accounting entries request former worldcom chief financial officer scott sullivan. defence lawyers trying paint mr sullivan  admitted fraud testify later trial  mastermind behind worldcom accounting house cards.  mr ebbers  team  meanwhile  looking portray affable boss  admission pe graduate economist. whatever abilities  mr ebbers transformed worldcom relative unknown $160bn telecoms giant investor darling late 1990s. worldcom problems mounted  however  competition increased telecoms boom petered out. firm finally collapsed  shareholders lost $180bn 20 000 workers lost jobs. mr ebbers  trial expected last two months found guilty former ceo faces substantial jail sentence. firmly declared innocence.',\n",
       " 'tigers wary farrell  gamble  leicester say rushed making bid andy farrell great britain rugby league captain decide switch codes.   anybody else involved process still way away going next stage   tigers boss john wells told bbc radio leicester.  moment  still lot unknowns andy farrell  least medical situation.  whoever take going take big  big gamble.  farrell  persistent knee problems  operation knee five weeks ago expected another three months. leicester saracens believed head list rugby union clubs interested signing farrell decides move 15-man game.  move across union  wells believes would better playing backs  least initially.  sure could make step league union involved centre   said wells.  think england would prefer progress position back row make use rugby league skills within forwards.  jury whether cross divide.  club  balance struck cost gamble option bringing ready-made replacement.',\n",
       " 'yeading face newcastle fa cup premiership side newcastle united face trip ryman premier league leaders yeading fa cup third round.  game - arguably highlight draw - potential money-spinner non-league yeading  beat slough second round. conference side exeter city  knocked doncaster saturday  travel old trafford meet holders manchester united january. arsenal drawn home stoke chelsea play host scunthorpe. non-league side draw hinckley united  held brentford goalless draw sunday. meet league one leaders luton win replay martin allen team griffin park.  number premiership teams face difficult away games championship sides weekend 8/9 january. third-placed everton visit plymouth  liverpool travel burnley  crystal palace go sunderland  fulham face carling cup semi-finalists watford  bolton meet ipswich  aston villa drawn sheffield united. premiership strugglers norwich  blackburn  west brom away west ham  cardiff preston north end respectively. southampton visit northampton  already beaten league two side carling cup earlier season. middlesbrough drawn away either swindon notts county  spurs entertain brighton white hart lane.  arsenal v stoke  swindon/notts co v middlesbrough  man utd v exeter  plymouth v everton  leicester v blackpool  derby v wigan  sunderland v crystal palace  wolves v millwall  yeading v newcastle  hull v colchester  tottenham v brighton  reading v stockport/swansea  birmingham v leeds  hartlepool v boston  milton keynes dons v peterborough  oldham v man city  chelsea v scunthorpe  cardiff v blackburn  charlton v rochdale  west ham v norwich  sheff utd v aston villa  preston v west brom  rotherham v yeovil  burnley v liverpool  bournemouth v chester  coventry v crewe  watford v fulham  ipswich v bolton  portsmouth v gillingham  northampton v southampton  qpr v nottm forest  luton v hinckley/brentford  matches played weekend 8/9 january.',\n",
       " 'ocean twelve raids box office ocean twelve  crime caper sequel starring george clooney  brad pitt julia roberts  gone straight number one us box office chart.  took $40.8m (£21m) weekend ticket sales  according studio estimates. sequel follows master criminals try pull three major heists across europe. knocked last week number one  national treasure  third place. wesley snipes  blade: trinity second  taking $16.1m (£8.4m). rounding top five animated fable polar express  starring tom hanks  festive comedy christmas kranks.  ocean twelve box office triumph marks fourth-biggest opening december release us  three films lord rings trilogy. sequel narrowly beat 2001 predecessor  ocean eleven took $38.1m (£19.8m) opening weekend $184m (£95.8m) total. remake 1960s film  starring frank sinatra rat pack  ocean eleven directed oscar-winning director steven soderbergh. soderbergh returns direct hit sequel reunites clooney  pitt roberts matt damon  andy garcia elliott gould. catherine zeta-jones joins all-star cast.  fun  good holiday movie   said dan fellman  president distribution warner bros. however  us critics less complimentary $110m (£57.2m) project  los angeles times labelling  dispiriting vanity project . milder review new york times dubbed sequel  unabashedly trivial .',\n",
       " 'howard hits back mongrel jibe michael howard said claim peter hain tory leader acting like  attack mongrel  shows labour  rattled  opposition.  upbeat speech party spring conference brighton  said labour campaigning tactics proved tories hitting home. mr hain made claim tory tactics anti-terror bill debate.  something tells someone  somewhere little bit rattled   mr howard said. mr hain  leader commons  told bbc radio four today programme mr howard stance government anti-terrorism legislation putting country risk. accused tory leader behaving like  attack mongrel   playing opposition opposition sake .  mr howard told party labour would  anything  say anything  claim anything cling office costs .  far year compared fagin  shylock flying pig. morning peter hain even called mongrel.  know  something tells someone  somewhere little bit rattled.  environment secretary margaret beckett rejected mr howard comment  telling radio 4 pm programme labour  rattled .  real duty try get people focus michael howard record  proposals trying put forward country also many examples seeing believe really poor judgement behalf.   mr howard said tory policies schools  taxes  immigration crime striking chord voters.   since beginning year - election year - making political weather   told party conference. mr howard denied  playing politics  raising case margaret dixon  whose operation cancelled seven times  grabbed headlines party two weeks ago. hit back labour claims used mrs dixon  human shield .  human shield mr blair  human being.  mr howard said party plans immigration quotas  also focus much media coverage   racist  -  common sense .  pledged cleaner hospitals better school discipline  promise get rid  political correctness  national curriculum give everyone chance  decent  state education had.  come ordinary family. teenage michael howard applying cambridge today  gordon brown would love me.   stressed party commitment cut taxes red tape increase basic state pension line earnings. finished personal appeal party activists go win next election.  one day able tell children grandchildren tell mine   there. bit. played part. helped win famous election - election transformed country better .  labour election co-ordinator alan milburn said:  michael howard speech today confirms always said - strategy opportunism forward vision country. reference appearance mr howard family conference stage  mr milburn said:  michael howard perfectly entitled pose family today.  hard working families across britain damaged plan cut £35bn public spending.',\n",
       " 'blair prepares name poll date tony blair likely name 5 may election day parliament returns easter break  bbc political editor learned.  andrew marr says mr blair ask queen 4 5 april dissolve parliament end week. mr blair far resisted calls name day parties stepped campaigning recently. downing street would drawn claim  saying election timing matter prime minister.  number 10 spokeswoman would say:  announce election wants announce election.  move signal frantic week westminster government likely try get key legislation parliament. government needs finance bill  covering budget plans  passed commons closes business end session 7 april.  also seek push serious organised crime bill id cards bill. mr marr said wednesday today programme:  almost nobody senior level inside government parliament expect election called 4 5 april.  soon commons back short easter recess  tony blair whips palace  asks queen dissolve parliament ... going.  labour government officially june 2006 hold general election  recent years governments favoured four-year terms.',\n",
       " 'henman hopes ended dubai third seed tim henman slumped straight sets defeat rain-interrupted dubai open quarter-final ivan ljubicic.  croatian eighth seed booked place last four 7-5 6-4 victory british number one. henman looked course level match going 2-0 second set  progress halted rain intervened again. ljubicic hit back break seal fourth straight win henman. earlier day  spanish fifth seed tommy robredo secured semi-final place beat nicolas kiefer germany 6-4 6-4. afterwards  henman left cursing weather umpire seven breaks rain match.  incredibly frustrating   henman said.  raining umpire take control.  kept telling us play till end game. raining  come - score irrelevant.  frustrating happy form now. expect desert.',\n",
       " 'wilkinson fit face edinburgh england captain jonny wilkinson make long-awaited return injury edinburgh saturday.  wilkinson  played since injuring bicep 17 october  took part full-contact training newcastle falcons wednesday. 25-year-old fly-half start saturday heineken cup match murrayfield bench. newcastle director rugby rob andrew said:  fine hope get game stage.  25-year-old missed england autumn internationals aggravating haematoma upper right arm saracens. subsequently replaced england captain full-back jason robinson. sale charlie hodgson took number 10 shirt internationals canada  south africa australia. wilkinson year disrupted injury muscle problem followed eight months sidelines shoulder injury sustained world cup final.']"
      ]
     },
     "execution_count": 7,
     "metadata": {},
     "output_type": "execute_result"
    }
   ],
   "source": [
    "articles[:9]"
   ]
  },
  {
   "cell_type": "markdown",
   "metadata": {},
   "source": [
    "#### Step 3"
   ]
  },
  {
   "cell_type": "markdown",
   "metadata": {},
   "source": [
    "#### Step 4: Define The Hyperparameters"
   ]
  },
  {
   "cell_type": "markdown",
   "metadata": {},
   "source": [
    "- For `Tokenizer`:\n",
    "    - **Vocabulary Size:** for efficiency, it's recommended to set a max size of vocabulary. For example, if we set it to 5000, that means only the top 4,999 words (by occurrence frequency) are included. It can help reduce the complexity of the model and address overfitting..\n",
    "    - **Out-of_Vocabulary Token** All other words (outside of top 4,999 words) are ignored and treated as OOV. they are replaced by a placeholder/arbitrary token. e.g. `<OOV>`\n",
    "- For `pad_sequences`: It's an NLP function that preprocess variable-length sequences for model efficiency. It also helps with having a uniform input and preserving meaning.\n",
    "    - `max_len` maximum length of a sequence. If a sequence is longer than `maxlen` it will be truncated - either at the start or end, based on `truncating` argument.\n",
    "    - `truncating` the truncation method whether at the beginning or end of a sequence (length is based on `max_len`)\n",
    "    - `padding` specifies whether padding should be added to the beginning or end of a sequence ('pre' vs 'post')\n",
    "\n",
    "> Increase the values of the hyperparameters based on the type and complexity of the task, as well as the performance consideration.\n"
   ]
  },
  {
   "cell_type": "markdown",
   "metadata": {},
   "source": [
    "Padding Example: \n",
    "- 'Hello'\n",
    "- 'Hello World'\n",
    "- 'Hello World this is the 3d example'\n",
    " \n",
    "with 'post', it becomes:\n",
    "- `'Hello <pad> <pad> <pad> <pad> <pad> <pad>'`\n",
    "- `'Hello World <pad> <pad> <pad> <pad> <pad>'`\n",
    "- `'Hello World this is the third example'`"
   ]
  },
  {
   "cell_type": "code",
   "execution_count": 8,
   "metadata": {},
   "outputs": [],
   "source": [
    "# for tokenizer\n",
    "vocab_size = 5000\n",
    "oov_tok = '<OOV>'\n",
    "\n",
    "# for pad sequences\n",
    "max_length = 200\n",
    "trunc_type = 'post'\n",
    "padding_type = 'post'\n",
    "\n",
    "# for the model\n",
    "embedding_dim = 64 #higher number may cause overfitting\n",
    "num_epochs = 5\n"
   ]
  },
  {
   "cell_type": "markdown",
   "metadata": {},
   "source": [
    "#### Step 5"
   ]
  },
  {
   "cell_type": "code",
   "execution_count": 9,
   "metadata": {},
   "outputs": [],
   "source": [
    "tokenizer = Tokenizer(num_words=vocab_size, oov_token=oov_tok)"
   ]
  },
  {
   "cell_type": "markdown",
   "metadata": {},
   "source": [
    "We'll fit the tokenizer on our data, which will:\n",
    "1. Build the word index by analyzing the `train_articles` data\n",
    "2. Create a mapping of words to integers based on the word frequency in the data"
   ]
  },
  {
   "cell_type": "code",
   "execution_count": 10,
   "metadata": {},
   "outputs": [],
   "source": [
    "tokenizer.fit_on_texts(articles)"
   ]
  },
  {
   "cell_type": "markdown",
   "metadata": {},
   "source": [
    "1. Retrieve the word index created by the `fit_on_texts` method\n",
    "2. If we print the word index, we should see the assigned mapping"
   ]
  },
  {
   "cell_type": "code",
   "execution_count": 11,
   "metadata": {},
   "outputs": [],
   "source": [
    "model_word_index = tokenizer.word_index"
   ]
  },
  {
   "cell_type": "code",
   "execution_count": 12,
   "metadata": {},
   "outputs": [
    {
     "data": {
      "text/plain": [
       "{'<OOV>': 1,\n",
       " 'said': 2,\n",
       " 'mr': 3,\n",
       " 'would': 4,\n",
       " 'year': 5,\n",
       " 'also': 6,\n",
       " 'people': 7,\n",
       " 'new': 8,\n",
       " 'us': 9,\n",
       " 'one': 10,\n",
       " 'could': 11,\n",
       " 'last': 12,\n",
       " 'first': 13,\n",
       " 'time': 14,\n",
       " 'two': 15,\n",
       " 'world': 16,\n",
       " 'government': 17,\n",
       " 'uk': 18,\n",
       " 'years': 19,\n",
       " 'best': 20,\n",
       " 'make': 21,\n",
       " 'told': 22,\n",
       " 'get': 23,\n",
       " 'film': 24,\n",
       " 'like': 25,\n",
       " 'game': 26,\n",
       " 'made': 27,\n",
       " 'back': 28,\n",
       " 'music': 29,\n",
       " 'many': 30,\n",
       " 'three': 31,\n",
       " '000': 32,\n",
       " 'labour': 33,\n",
       " 'next': 34,\n",
       " '1': 35,\n",
       " 'bbc': 36,\n",
       " 'well': 37,\n",
       " 'set': 38,\n",
       " 'number': 39,\n",
       " 'take': 40,\n",
       " 'way': 41,\n",
       " 'added': 42,\n",
       " 'market': 43,\n",
       " '2': 44,\n",
       " 'may': 45,\n",
       " 'says': 46,\n",
       " 'company': 47,\n",
       " 'home': 48,\n",
       " 'election': 49,\n",
       " 'good': 50,\n",
       " '2004': 51,\n",
       " 'going': 52,\n",
       " 'party': 53,\n",
       " 'still': 54,\n",
       " 'games': 55,\n",
       " 'much': 56,\n",
       " 'england': 57,\n",
       " 'win': 58,\n",
       " '6': 59,\n",
       " 'go': 60,\n",
       " 'work': 61,\n",
       " 'since': 62,\n",
       " 'firm': 63,\n",
       " 'second': 64,\n",
       " 'show': 65,\n",
       " 'top': 66,\n",
       " 'blair': 67,\n",
       " 'think': 68,\n",
       " 'week': 69,\n",
       " 'use': 70,\n",
       " 'say': 71,\n",
       " 'million': 72,\n",
       " 'part': 73,\n",
       " 'play': 74,\n",
       " 'technology': 75,\n",
       " 'minister': 76,\n",
       " 'high': 77,\n",
       " 'public': 78,\n",
       " 'want': 79,\n",
       " '3': 80,\n",
       " 'mobile': 81,\n",
       " 'see': 82,\n",
       " 'british': 83,\n",
       " 'five': 84,\n",
       " '10': 85,\n",
       " 'used': 86,\n",
       " 'country': 87,\n",
       " 'tv': 88,\n",
       " 'european': 89,\n",
       " 'players': 90,\n",
       " 'news': 91,\n",
       " 'end': 92,\n",
       " 'however': 93,\n",
       " 'expected': 94,\n",
       " '4': 95,\n",
       " 'four': 96,\n",
       " 'group': 97,\n",
       " 'even': 98,\n",
       " 'sales': 99,\n",
       " '5': 100,\n",
       " 'plans': 101,\n",
       " 'six': 102,\n",
       " 'old': 103,\n",
       " 'half': 104,\n",
       " 'already': 105,\n",
       " 'put': 106,\n",
       " 'brown': 107,\n",
       " 'growth': 108,\n",
       " 'months': 109,\n",
       " 'come': 110,\n",
       " 'day': 111,\n",
       " 'london': 112,\n",
       " 'chief': 113,\n",
       " 'service': 114,\n",
       " 'net': 115,\n",
       " 'britain': 116,\n",
       " 'economy': 117,\n",
       " 'former': 118,\n",
       " 'long': 119,\n",
       " '2005': 120,\n",
       " 'money': 121,\n",
       " 'director': 122,\n",
       " 'tax': 123,\n",
       " 'deal': 124,\n",
       " 'companies': 125,\n",
       " 'services': 126,\n",
       " 'right': 127,\n",
       " 'record': 128,\n",
       " 'industry': 129,\n",
       " 'according': 130,\n",
       " 'help': 131,\n",
       " 'based': 132,\n",
       " 'need': 133,\n",
       " 'month': 134,\n",
       " 'system': 135,\n",
       " 'users': 136,\n",
       " 'digital': 137,\n",
       " 'big': 138,\n",
       " 'europe': 139,\n",
       " 'including': 140,\n",
       " 'international': 141,\n",
       " 'place': 142,\n",
       " 'team': 143,\n",
       " 'third': 144,\n",
       " 'around': 145,\n",
       " 'firms': 146,\n",
       " '2003': 147,\n",
       " 'report': 148,\n",
       " 'business': 149,\n",
       " 'economic': 150,\n",
       " 'wales': 151,\n",
       " 'called': 152,\n",
       " 'great': 153,\n",
       " 'really': 154,\n",
       " 'phone': 155,\n",
       " 'move': 156,\n",
       " 'software': 157,\n",
       " 'another': 158,\n",
       " 'open': 159,\n",
       " 'life': 160,\n",
       " 'bank': 161,\n",
       " 'final': 162,\n",
       " '7': 163,\n",
       " 'got': 164,\n",
       " 'future': 165,\n",
       " 'hit': 166,\n",
       " 'start': 167,\n",
       " 'club': 168,\n",
       " 'took': 169,\n",
       " 'general': 170,\n",
       " 'up': 171,\n",
       " 'howard': 172,\n",
       " 'video': 173,\n",
       " 'know': 174,\n",
       " 'came': 175,\n",
       " 'france': 176,\n",
       " 'better': 177,\n",
       " 'spokesman': 178,\n",
       " 'information': 179,\n",
       " 'radio': 180,\n",
       " 'state': 181,\n",
       " 'office': 182,\n",
       " 'law': 183,\n",
       " 'online': 184,\n",
       " 'without': 185,\n",
       " 'court': 186,\n",
       " 'decision': 187,\n",
       " 'side': 188,\n",
       " 'real': 189,\n",
       " 'united': 190,\n",
       " 'ireland': 191,\n",
       " 'computer': 192,\n",
       " 'despite': 193,\n",
       " 'president': 194,\n",
       " 'found': 195,\n",
       " 'far': 196,\n",
       " 'making': 197,\n",
       " 'campaign': 198,\n",
       " 'action': 199,\n",
       " 'using': 200,\n",
       " 'likely': 201,\n",
       " 'prime': 202,\n",
       " 'data': 203,\n",
       " 'security': 204,\n",
       " 'seen': 205,\n",
       " 'figures': 206,\n",
       " 'china': 207,\n",
       " 'give': 208,\n",
       " 'media': 209,\n",
       " 'saying': 210,\n",
       " 'line': 211,\n",
       " 'lot': 212,\n",
       " 'given': 213,\n",
       " 'national': 214,\n",
       " 'run': 215,\n",
       " 'awards': 216,\n",
       " 'away': 217,\n",
       " 'executive': 218,\n",
       " 'able': 219,\n",
       " 'offer': 220,\n",
       " 'countries': 221,\n",
       " 'foreign': 222,\n",
       " 'every': 223,\n",
       " 'january': 224,\n",
       " 'star': 225,\n",
       " 'it': 226,\n",
       " 'player': 227,\n",
       " 'internet': 228,\n",
       " 'oil': 229,\n",
       " 'lost': 230,\n",
       " 'times': 231,\n",
       " 'become': 232,\n",
       " 'december': 233,\n",
       " 'rise': 234,\n",
       " 'biggest': 235,\n",
       " 'match': 236,\n",
       " 'cup': 237,\n",
       " 'although': 238,\n",
       " 'left': 239,\n",
       " 'look': 240,\n",
       " 'anti': 241,\n",
       " 'man': 242,\n",
       " 'nations': 243,\n",
       " 'playing': 244,\n",
       " 'cost': 245,\n",
       " 'secretary': 246,\n",
       " 'later': 247,\n",
       " 'whether': 248,\n",
       " 'taking': 249,\n",
       " 'research': 250,\n",
       " 'early': 251,\n",
       " 'eu': 252,\n",
       " 'case': 253,\n",
       " 'award': 254,\n",
       " 'past': 255,\n",
       " 'pay': 256,\n",
       " 'hard': 257,\n",
       " 'earlier': 258,\n",
       " 'prices': 259,\n",
       " 'e': 260,\n",
       " 'less': 261,\n",
       " 'leader': 262,\n",
       " 'michael': 263,\n",
       " '20': 264,\n",
       " 'recent': 265,\n",
       " 'legal': 266,\n",
       " 'cut': 267,\n",
       " 'interest': 268,\n",
       " 'due': 269,\n",
       " 'role': 270,\n",
       " 'analysts': 271,\n",
       " 'house': 272,\n",
       " 'spending': 273,\n",
       " 'bill': 274,\n",
       " 'played': 275,\n",
       " 'days': 276,\n",
       " '12': 277,\n",
       " 'lord': 278,\n",
       " 'little': 279,\n",
       " 'children': 280,\n",
       " 'never': 281,\n",
       " 'strong': 282,\n",
       " 'microsoft': 283,\n",
       " 'important': 284,\n",
       " 'shares': 285,\n",
       " 'control': 286,\n",
       " 'current': 287,\n",
       " 'tory': 288,\n",
       " '0': 289,\n",
       " 'support': 290,\n",
       " 'season': 291,\n",
       " 'believe': 292,\n",
       " 'went': 293,\n",
       " 'increase': 294,\n",
       " 'chancellor': 295,\n",
       " 'face': 296,\n",
       " 'working': 297,\n",
       " 'following': 298,\n",
       " 'free': 299,\n",
       " 'major': 300,\n",
       " 'local': 301,\n",
       " 'quarter': 302,\n",
       " 'ahead': 303,\n",
       " 'budget': 304,\n",
       " 'financial': 305,\n",
       " 'must': 306,\n",
       " 'looking': 307,\n",
       " 'currently': 308,\n",
       " 'police': 309,\n",
       " 'thought': 310,\n",
       " 'john': 311,\n",
       " 'change': 312,\n",
       " 'issue': 313,\n",
       " 'held': 314,\n",
       " 'south': 315,\n",
       " 'different': 316,\n",
       " 'films': 317,\n",
       " 'return': 318,\n",
       " 'rights': 319,\n",
       " 'broadband': 320,\n",
       " 'david': 321,\n",
       " 'full': 322,\n",
       " 'something': 323,\n",
       " 'latest': 324,\n",
       " 'scotland': 325,\n",
       " 'try': 326,\n",
       " 'series': 327,\n",
       " 'yet': 328,\n",
       " 'access': 329,\n",
       " 'ms': 330,\n",
       " 'announced': 331,\n",
       " 'sunday': 332,\n",
       " 'among': 333,\n",
       " 'trade': 334,\n",
       " 'always': 335,\n",
       " 'power': 336,\n",
       " 'dollar': 337,\n",
       " 'personal': 338,\n",
       " 'find': 339,\n",
       " 'winning': 340,\n",
       " 'rate': 341,\n",
       " 'key': 342,\n",
       " 'almost': 343,\n",
       " 'sale': 344,\n",
       " 'women': 345,\n",
       " 'tories': 346,\n",
       " 'chance': 347,\n",
       " '30': 348,\n",
       " 'website': 349,\n",
       " 'meeting': 350,\n",
       " 'lead': 351,\n",
       " '8': 352,\n",
       " 'programme': 353,\n",
       " 'point': 354,\n",
       " 'might': 355,\n",
       " 'keep': 356,\n",
       " 'low': 357,\n",
       " 'american': 358,\n",
       " 'include': 359,\n",
       " 'ever': 360,\n",
       " 'behind': 361,\n",
       " 'ago': 362,\n",
       " 'share': 363,\n",
       " 'problem': 364,\n",
       " 'claims': 365,\n",
       " 'injury': 366,\n",
       " 'taken': 367,\n",
       " 'band': 368,\n",
       " 'phones': 369,\n",
       " 'problems': 370,\n",
       " 'political': 371,\n",
       " 'performance': 372,\n",
       " 'clear': 373,\n",
       " 'statement': 374,\n",
       " 'sold': 375,\n",
       " 'coach': 376,\n",
       " 'men': 377,\n",
       " 'march': 378,\n",
       " 'demand': 379,\n",
       " 'chairman': 380,\n",
       " 'enough': 381,\n",
       " 'getting': 382,\n",
       " 'across': 383,\n",
       " 'things': 384,\n",
       " 'done': 385,\n",
       " 'released': 386,\n",
       " 'rather': 387,\n",
       " 'tony': 388,\n",
       " '11': 389,\n",
       " 'search': 390,\n",
       " 'jobs': 391,\n",
       " 'head': 392,\n",
       " 'mark': 393,\n",
       " 'job': 394,\n",
       " 'mail': 395,\n",
       " 'february': 396,\n",
       " 'means': 397,\n",
       " 'minutes': 398,\n",
       " 'network': 399,\n",
       " 'manager': 400,\n",
       " 'content': 401,\n",
       " '9': 402,\n",
       " 'wednesday': 403,\n",
       " 'tuesday': 404,\n",
       " 'continue': 405,\n",
       " 'consumer': 406,\n",
       " 'japan': 407,\n",
       " 'needed': 408,\n",
       " '25': 409,\n",
       " 'title': 410,\n",
       " 'term': 411,\n",
       " '50': 412,\n",
       " 'price': 413,\n",
       " 'war': 414,\n",
       " 'list': 415,\n",
       " 'costs': 416,\n",
       " 'rugby': 417,\n",
       " 'november': 418,\n",
       " 'result': 419,\n",
       " 'bid': 420,\n",
       " 'young': 421,\n",
       " 'possible': 422,\n",
       " 'least': 423,\n",
       " 'actor': 424,\n",
       " 'act': 425,\n",
       " 'india': 426,\n",
       " 'available': 427,\n",
       " 'weeks': 428,\n",
       " 'within': 429,\n",
       " 'huge': 430,\n",
       " 'coming': 431,\n",
       " 'today': 432,\n",
       " 'plan': 433,\n",
       " 'victory': 434,\n",
       " 'warned': 435,\n",
       " '18': 436,\n",
       " 'williams': 437,\n",
       " 'chelsea': 438,\n",
       " 'fans': 439,\n",
       " 'council': 440,\n",
       " 'allow': 441,\n",
       " 'monday': 442,\n",
       " 'level': 443,\n",
       " 'members': 444,\n",
       " 'asked': 445,\n",
       " 'hold': 446,\n",
       " 'investment': 447,\n",
       " 'saturday': 448,\n",
       " 'friday': 449,\n",
       " 'apple': 450,\n",
       " 'issues': 451,\n",
       " 'union': 452,\n",
       " 'running': 453,\n",
       " 'mps': 454,\n",
       " 'thing': 455,\n",
       " 'yukos': 456,\n",
       " 'centre': 457,\n",
       " 'vote': 458,\n",
       " 'policy': 459,\n",
       " 'form': 460,\n",
       " 'close': 461,\n",
       " 'global': 462,\n",
       " 'league': 463,\n",
       " 'known': 464,\n",
       " 'main': 465,\n",
       " 'web': 466,\n",
       " 'production': 467,\n",
       " 'success': 468,\n",
       " 'wanted': 469,\n",
       " 'cash': 470,\n",
       " 'beat': 471,\n",
       " 'total': 472,\n",
       " 'site': 473,\n",
       " 'forward': 474,\n",
       " '15': 475,\n",
       " 'album': 476,\n",
       " 'to': 477,\n",
       " 'small': 478,\n",
       " 'french': 479,\n",
       " 'pc': 480,\n",
       " 'live': 481,\n",
       " 'rates': 482,\n",
       " 'trying': 483,\n",
       " 'several': 484,\n",
       " 'let': 485,\n",
       " 'sony': 486,\n",
       " '100': 487,\n",
       " 'buy': 488,\n",
       " 'networks': 489,\n",
       " 'competition': 490,\n",
       " '2001': 491,\n",
       " 'human': 492,\n",
       " 'though': 493,\n",
       " 'career': 494,\n",
       " 'higher': 495,\n",
       " 'recently': 496,\n",
       " 'previous': 497,\n",
       " 'saw': 498,\n",
       " 'version': 499,\n",
       " 'consumers': 500,\n",
       " 'health': 501,\n",
       " 'break': 502,\n",
       " 'committee': 503,\n",
       " 'single': 504,\n",
       " 'comes': 505,\n",
       " 'reports': 506,\n",
       " 'rules': 507,\n",
       " 'commission': 508,\n",
       " 'iraq': 509,\n",
       " 'city': 510,\n",
       " 'aid': 511,\n",
       " 'agreed': 512,\n",
       " 'led': 513,\n",
       " 'eight': 514,\n",
       " 'football': 515,\n",
       " 'song': 516,\n",
       " 'hope': 517,\n",
       " 'customers': 518,\n",
       " 'development': 519,\n",
       " 'stock': 520,\n",
       " 'evidence': 521,\n",
       " 'wants': 522,\n",
       " 'short': 523,\n",
       " 'reported': 524,\n",
       " 'showed': 525,\n",
       " 'ministers': 526,\n",
       " 'lib': 527,\n",
       " 'difficult': 528,\n",
       " 'sir': 529,\n",
       " 'christmas': 530,\n",
       " 'others': 531,\n",
       " 'race': 532,\n",
       " 'book': 533,\n",
       " 'profits': 534,\n",
       " 'failed': 535,\n",
       " 'fourth': 536,\n",
       " 'project': 537,\n",
       " 'york': 538,\n",
       " 'goal': 539,\n",
       " 'call': 540,\n",
       " 'liberal': 541,\n",
       " 'meet': 542,\n",
       " 'popular': 543,\n",
       " 'event': 544,\n",
       " 'trial': 545,\n",
       " 'rose': 546,\n",
       " 'name': 547,\n",
       " 'sport': 548,\n",
       " 'virus': 549,\n",
       " 'points': 550,\n",
       " 'fact': 551,\n",
       " 'thursday': 552,\n",
       " 'russian': 553,\n",
       " 'late': 554,\n",
       " 'september': 555,\n",
       " 'nothing': 556,\n",
       " 'italy': 557,\n",
       " 'choice': 558,\n",
       " 'instead': 559,\n",
       " 'family': 560,\n",
       " 'gaming': 561,\n",
       " 'charles': 562,\n",
       " 'annual': 563,\n",
       " 'growing': 564,\n",
       " 'co': 565,\n",
       " 'jones': 566,\n",
       " 'parties': 567,\n",
       " 'prize': 568,\n",
       " 'sites': 569,\n",
       " 'out': 570,\n",
       " 'shows': 571,\n",
       " 'champion': 572,\n",
       " 'dvd': 573,\n",
       " 'movie': 574,\n",
       " 'calls': 575,\n",
       " 'feel': 576,\n",
       " 'board': 577,\n",
       " 'received': 578,\n",
       " '17': 579,\n",
       " 'mean': 580,\n",
       " 'television': 581,\n",
       " 'stop': 582,\n",
       " 'cannot': 583,\n",
       " 'release': 584,\n",
       " 'october': 585,\n",
       " 'on': 586,\n",
       " 'box': 587,\n",
       " 'tour': 588,\n",
       " 'claim': 589,\n",
       " 'sure': 590,\n",
       " 'liverpool': 591,\n",
       " 'summer': 592,\n",
       " 'age': 593,\n",
       " 'test': 594,\n",
       " 'devices': 595,\n",
       " 'boss': 596,\n",
       " 'large': 597,\n",
       " 'them': 598,\n",
       " 'fall': 599,\n",
       " 'debt': 600,\n",
       " 'paid': 601,\n",
       " 'together': 602,\n",
       " 'conference': 603,\n",
       " 'arsenal': 604,\n",
       " 'order': 605,\n",
       " 'in': 606,\n",
       " 'giant': 607,\n",
       " 'involved': 608,\n",
       " '40': 609,\n",
       " 'parliament': 610,\n",
       " 'launch': 611,\n",
       " 'actress': 612,\n",
       " '2002': 613,\n",
       " 'denied': 614,\n",
       " 'education': 615,\n",
       " 'boost': 616,\n",
       " 'attacks': 617,\n",
       " 'changes': 618,\n",
       " 'car': 619,\n",
       " 'africa': 620,\n",
       " 'fell': 621,\n",
       " 'products': 622,\n",
       " 'singer': 623,\n",
       " 'round': 624,\n",
       " 'school': 625,\n",
       " 'street': 626,\n",
       " 'australian': 627,\n",
       " 'pressure': 628,\n",
       " 'similar': 629,\n",
       " 'paul': 630,\n",
       " 'black': 631,\n",
       " 'euros': 632,\n",
       " 'launched': 633,\n",
       " 'position': 634,\n",
       " 'weekend': 635,\n",
       " '16': 636,\n",
       " 'needs': 637,\n",
       " 'olympic': 638,\n",
       " 'sent': 639,\n",
       " 'range': 640,\n",
       " 'leading': 641,\n",
       " 'pre': 642,\n",
       " 'love': 643,\n",
       " 'association': 644,\n",
       " 'stars': 645,\n",
       " 'talks': 646,\n",
       " 'accused': 647,\n",
       " 'potential': 648,\n",
       " 'chart': 649,\n",
       " 'oscar': 650,\n",
       " 'bit': 651,\n",
       " 'date': 652,\n",
       " 'largest': 653,\n",
       " 'create': 654,\n",
       " 'idea': 655,\n",
       " 'senior': 656,\n",
       " 'cards': 657,\n",
       " 'manchester': 658,\n",
       " 'gordon': 659,\n",
       " 'ensure': 660,\n",
       " 'remain': 661,\n",
       " 'special': 662,\n",
       " 'irish': 663,\n",
       " 'results': 664,\n",
       " 'stage': 665,\n",
       " 'believes': 666,\n",
       " 'opening': 667,\n",
       " 'started': 668,\n",
       " 'anything': 669,\n",
       " 'appeal': 670,\n",
       " 'germany': 671,\n",
       " 'turn': 672,\n",
       " 'quite': 673,\n",
       " 'claimed': 674,\n",
       " 'voters': 675,\n",
       " 'seven': 676,\n",
       " 'festival': 677,\n",
       " 'dr': 678,\n",
       " 'makes': 679,\n",
       " 'simply': 680,\n",
       " 'per': 681,\n",
       " 'martin': 682,\n",
       " '13': 683,\n",
       " 'german': 684,\n",
       " 'whole': 685,\n",
       " 'official': 686,\n",
       " 'west': 687,\n",
       " 'value': 688,\n",
       " 'stand': 689,\n",
       " 'exchange': 690,\n",
       " '14': 691,\n",
       " 'ball': 692,\n",
       " 'grand': 693,\n",
       " 'provide': 694,\n",
       " 'conservative': 695,\n",
       " '24': 696,\n",
       " 'hours': 697,\n",
       " 'either': 698,\n",
       " 'immigration': 699,\n",
       " 'hopes': 700,\n",
       " 'independent': 701,\n",
       " 'night': 702,\n",
       " 'russia': 703,\n",
       " 'drive': 704,\n",
       " 'helped': 705,\n",
       " 'survey': 706,\n",
       " '2000': 707,\n",
       " 'bt': 708,\n",
       " 'squad': 709,\n",
       " 'rock': 710,\n",
       " 'scottish': 711,\n",
       " 'taxes': 712,\n",
       " 'bush': 713,\n",
       " 'comedy': 714,\n",
       " 'proposals': 715,\n",
       " 'fight': 716,\n",
       " 'period': 717,\n",
       " 'gave': 718,\n",
       " 'bring': 719,\n",
       " 'everyone': 720,\n",
       " 'meanwhile': 721,\n",
       " 'force': 722,\n",
       " 'included': 723,\n",
       " 'kennedy': 724,\n",
       " 'speed': 725,\n",
       " 'systems': 726,\n",
       " 'compared': 727,\n",
       " 'university': 728,\n",
       " 'average': 729,\n",
       " 'press': 730,\n",
       " 'wrong': 731,\n",
       " 'ban': 732,\n",
       " 'sell': 733,\n",
       " 'extra': 734,\n",
       " '2006': 735,\n",
       " 'that': 736,\n",
       " 'forced': 737,\n",
       " 'agency': 738,\n",
       " 'numbers': 739,\n",
       " 'impact': 740,\n",
       " 'entertainment': 741,\n",
       " 'fraud': 742,\n",
       " 'attack': 743,\n",
       " 'robinson': 744,\n",
       " 'worked': 745,\n",
       " 'standard': 746,\n",
       " 'speech': 747,\n",
       " 'admitted': 748,\n",
       " 'workers': 749,\n",
       " 'areas': 750,\n",
       " 'private': 751,\n",
       " 'groups': 752,\n",
       " 'sector': 753,\n",
       " 'everything': 754,\n",
       " 'soon': 755,\n",
       " 'card': 756,\n",
       " 'history': 757,\n",
       " 'charge': 758,\n",
       " 'tsunami': 759,\n",
       " 'target': 760,\n",
       " 'officials': 761,\n",
       " 'named': 762,\n",
       " 're': 763,\n",
       " 'via': 764,\n",
       " 'commons': 765,\n",
       " 'happy': 766,\n",
       " 'opportunity': 767,\n",
       " 'investors': 768,\n",
       " 'fund': 769,\n",
       " 'view': 770,\n",
       " 'ukip': 771,\n",
       " 'generation': 772,\n",
       " 'process': 773,\n",
       " 'poor': 774,\n",
       " 'course': 775,\n",
       " 'original': 776,\n",
       " 'staff': 777,\n",
       " 'cuts': 778,\n",
       " 'department': 779,\n",
       " 'download': 780,\n",
       " 'laws': 781,\n",
       " 'community': 782,\n",
       " 'particularly': 783,\n",
       " 'charges': 784,\n",
       " 'became': 785,\n",
       " 'energy': 786,\n",
       " 'spent': 787,\n",
       " 'turned': 788,\n",
       " 'outside': 789,\n",
       " 'screen': 790,\n",
       " 'comments': 791,\n",
       " 'v': 792,\n",
       " 'tough': 793,\n",
       " 'america': 794,\n",
       " 'concerns': 795,\n",
       " 'brought': 796,\n",
       " 'bought': 797,\n",
       " 'markets': 798,\n",
       " 'smith': 799,\n",
       " 'takes': 800,\n",
       " 'double': 801,\n",
       " 'drugs': 802,\n",
       " 'front': 803,\n",
       " 'moment': 804,\n",
       " 'june': 805,\n",
       " 'australia': 806,\n",
       " 'newspaper': 807,\n",
       " 'winner': 808,\n",
       " 'decided': 809,\n",
       " 'windows': 810,\n",
       " 'shot': 811,\n",
       " 'amount': 812,\n",
       " 'off': 813,\n",
       " 'remains': 814,\n",
       " 'authorities': 815,\n",
       " 'spam': 816,\n",
       " 'situation': 817,\n",
       " 'step': 818,\n",
       " 'focus': 819,\n",
       " 'whose': 820,\n",
       " 'quality': 821,\n",
       " 'battle': 822,\n",
       " 'bad': 823,\n",
       " 'created': 824,\n",
       " 'spend': 825,\n",
       " 'area': 826,\n",
       " 'member': 827,\n",
       " 'euro': 828,\n",
       " 'concerned': 829,\n",
       " 'speaking': 830,\n",
       " 'hand': 831,\n",
       " 'often': 832,\n",
       " 'shown': 833,\n",
       " 'lords': 834,\n",
       " 'widely': 835,\n",
       " 'kilroy': 836,\n",
       " 'google': 837,\n",
       " 'experience': 838,\n",
       " 'lower': 839,\n",
       " 'body': 840,\n",
       " 'majority': 841,\n",
       " 'audience': 842,\n",
       " 'challenge': 843,\n",
       " 'defence': 844,\n",
       " 'roddick': 845,\n",
       " 'analyst': 846,\n",
       " 'easy': 847,\n",
       " 'selling': 848,\n",
       " 'civil': 849,\n",
       " 'non': 850,\n",
       " 'all': 851,\n",
       " 'schools': 852,\n",
       " 'poll': 853,\n",
       " 'april': 854,\n",
       " 'davis': 855,\n",
       " 'message': 856,\n",
       " 'revealed': 857,\n",
       " 'confirmed': 858,\n",
       " 'longer': 859,\n",
       " 'air': 860,\n",
       " 'pcs': 861,\n",
       " 'training': 862,\n",
       " 'story': 863,\n",
       " 'lives': 864,\n",
       " 'levels': 865,\n",
       " 'unit': 866,\n",
       " 'offered': 867,\n",
       " 'signed': 868,\n",
       " 'robert': 869,\n",
       " 'mike': 870,\n",
       " 'mobiles': 871,\n",
       " 'cross': 872,\n",
       " 'andy': 873,\n",
       " 'host': 874,\n",
       " 'gone': 875,\n",
       " 'states': 876,\n",
       " 'credit': 877,\n",
       " 'websites': 878,\n",
       " 'raise': 879,\n",
       " 'james': 880,\n",
       " 'technologies': 881,\n",
       " 'terms': 882,\n",
       " 'finance': 883,\n",
       " 'mp': 884,\n",
       " 'stay': 885,\n",
       " 'trust': 886,\n",
       " 'insisted': 887,\n",
       " 'worth': 888,\n",
       " 'increased': 889,\n",
       " 'reach': 890,\n",
       " 'messages': 891,\n",
       " 'johnson': 892,\n",
       " 'ways': 893,\n",
       " '£1': 894,\n",
       " 'hollywood': 895,\n",
       " 'post': 896,\n",
       " 'example': 897,\n",
       " 'critics': 898,\n",
       " 'debate': 899,\n",
       " 'risk': 900,\n",
       " 'alan': 901,\n",
       " 'looked': 902,\n",
       " 'debut': 903,\n",
       " 'reached': 904,\n",
       " 'fast': 905,\n",
       " 'leave': 906,\n",
       " 'track': 907,\n",
       " 'positive': 908,\n",
       " 'so': 909,\n",
       " 'response': 910,\n",
       " 'silk': 911,\n",
       " 'file': 912,\n",
       " 'captain': 913,\n",
       " 'north': 914,\n",
       " 'device': 915,\n",
       " 'indian': 916,\n",
       " 'ray': 917,\n",
       " 'confidence': 918,\n",
       " 'looks': 919,\n",
       " 'build': 920,\n",
       " 'champions': 921,\n",
       " 'gadget': 922,\n",
       " 'row': 923,\n",
       " 'serious': 924,\n",
       " 'previously': 925,\n",
       " 'central': 926,\n",
       " 'care': 927,\n",
       " 'millions': 928,\n",
       " 'details': 929,\n",
       " 'account': 930,\n",
       " 'images': 931,\n",
       " 'conservatives': 932,\n",
       " 'deutsche': 933,\n",
       " 'campbell': 934,\n",
       " 'watch': 935,\n",
       " '19': 936,\n",
       " '22': 937,\n",
       " 'management': 938,\n",
       " 'designed': 939,\n",
       " 'favourite': 940,\n",
       " 'nine': 941,\n",
       " 'white': 942,\n",
       " 'followed': 943,\n",
       " 'spain': 944,\n",
       " 'argued': 945,\n",
       " 'banks': 946,\n",
       " 'becoming': 947,\n",
       " 'anyone': 948,\n",
       " 'madrid': 949,\n",
       " 'social': 950,\n",
       " 'programs': 951,\n",
       " 'crime': 952,\n",
       " 'opposition': 953,\n",
       " 'profit': 954,\n",
       " 'allowed': 955,\n",
       " 'attempt': 956,\n",
       " 'titles': 957,\n",
       " 'deficit': 958,\n",
       " 'files': 959,\n",
       " 'computers': 960,\n",
       " 'suggested': 961,\n",
       " 'east': 962,\n",
       " 'nominated': 963,\n",
       " 'trading': 964,\n",
       " 'agreement': 965,\n",
       " 'met': 966,\n",
       " 'society': 967,\n",
       " 'minute': 968,\n",
       " 'began': 969,\n",
       " 'threat': 970,\n",
       " 'ceremony': 971,\n",
       " 'figure': 972,\n",
       " 'english': 973,\n",
       " 'probably': 974,\n",
       " 'ask': 975,\n",
       " 'rival': 976,\n",
       " 'songs': 977,\n",
       " 'nearly': 978,\n",
       " 'politics': 979,\n",
       " 'moved': 980,\n",
       " 'rest': 981,\n",
       " 'felt': 982,\n",
       " 'person': 983,\n",
       " 'death': 984,\n",
       " 'pop': 985,\n",
       " 'organisation': 986,\n",
       " 'wireless': 987,\n",
       " 'scheme': 988,\n",
       " 'peer': 989,\n",
       " 'blunkett': 990,\n",
       " 'mini': 991,\n",
       " 'fear': 992,\n",
       " 'hour': 993,\n",
       " 'matter': 994,\n",
       " 'parents': 995,\n",
       " 'him': 996,\n",
       " 'effort': 997,\n",
       " 'individual': 998,\n",
       " 'illegal': 999,\n",
       " 'nominations': 1000,\n",
       " ...}"
      ]
     },
     "execution_count": 12,
     "metadata": {},
     "output_type": "execute_result"
    }
   ],
   "source": [
    "# view a sample\n",
    "model_word_index"
   ]
  },
  {
   "cell_type": "markdown",
   "metadata": {},
   "source": [
    "#### Step 6 - Convert the Train Articles into Sequences Using The Tokenizer"
   ]
  },
  {
   "cell_type": "markdown",
   "metadata": {},
   "source": [
    "- Using `texts_to_sequences`, we'll convert the train data text into a list of integer sequences using the word index we just created \n",
    "- Each word in the text is replaced by its corresponding integer in the article (i.e. encoding)"
   ]
  },
  {
   "cell_type": "code",
   "execution_count": 13,
   "metadata": {},
   "outputs": [
    {
     "data": {
      "text/plain": [
       "[2629,\n",
       " 1,\n",
       " 241,\n",
       " 4789,\n",
       " 24,\n",
       " 684,\n",
       " 574,\n",
       " 241,\n",
       " 4789,\n",
       " 1,\n",
       " 1,\n",
       " 1783,\n",
       " 1,\n",
       " 1,\n",
       " 2629,\n",
       " 24,\n",
       " 677,\n",
       " 1,\n",
       " 1,\n",
       " 162,\n",
       " 276,\n",
       " 1,\n",
       " 162,\n",
       " 276,\n",
       " 827,\n",
       " 942,\n",
       " 546,\n",
       " 2251,\n",
       " 1,\n",
       " 1225,\n",
       " 1847,\n",
       " 1,\n",
       " 1872,\n",
       " 1,\n",
       " 1,\n",
       " 4991,\n",
       " 1,\n",
       " 1,\n",
       " 1,\n",
       " 1,\n",
       " 1,\n",
       " 1,\n",
       " 122,\n",
       " 4790,\n",
       " 1,\n",
       " 2,\n",
       " 2572,\n",
       " 1466,\n",
       " 356,\n",
       " 1,\n",
       " 1,\n",
       " 52,\n",
       " 306,\n",
       " 1,\n",
       " 356,\n",
       " 2031,\n",
       " 4120,\n",
       " 42,\n",
       " 24,\n",
       " 3844,\n",
       " 1,\n",
       " 1,\n",
       " 1,\n",
       " 1,\n",
       " 545,\n",
       " 1,\n",
       " 1,\n",
       " 1,\n",
       " 962,\n",
       " 671,\n",
       " 2510,\n",
       " 309,\n",
       " 4791,\n",
       " 1,\n",
       " 361,\n",
       " 24,\n",
       " 1,\n",
       " 745,\n",
       " 2291,\n",
       " 1,\n",
       " 4792,\n",
       " 140,\n",
       " 10,\n",
       " 1,\n",
       " 3845,\n",
       " 660,\n",
       " 3396,\n",
       " 1,\n",
       " 24,\n",
       " 1,\n",
       " 444,\n",
       " 942,\n",
       " 546,\n",
       " 1,\n",
       " 97,\n",
       " 13,\n",
       " 668,\n",
       " 4991,\n",
       " 241,\n",
       " 4789,\n",
       " 1,\n",
       " 592,\n",
       " 1,\n",
       " 1847,\n",
       " 1028,\n",
       " 1,\n",
       " 4260,\n",
       " 728,\n",
       " 2032,\n",
       " 111,\n",
       " 1,\n",
       " 1,\n",
       " 1,\n",
       " 2801,\n",
       " 24,\n",
       " 1,\n",
       " 102,\n",
       " 276,\n",
       " 1,\n",
       " 1811,\n",
       " 4594,\n",
       " 545,\n",
       " 498,\n",
       " 1,\n",
       " 1659,\n",
       " 3620,\n",
       " 784,\n",
       " 1267,\n",
       " 1,\n",
       " 1870,\n",
       " 10,\n",
       " 31,\n",
       " 684,\n",
       " 317,\n",
       " 1,\n",
       " 66,\n",
       " 568,\n",
       " 677,\n",
       " 315,\n",
       " 1613,\n",
       " 24,\n",
       " 499,\n",
       " 1,\n",
       " 1,\n",
       " 1716,\n",
       " 1,\n",
       " 811,\n",
       " 1,\n",
       " 3213,\n",
       " 1,\n",
       " 1268,\n",
       " 6,\n",
       " 1,\n",
       " 2629,\n",
       " 677,\n",
       " 24,\n",
       " 2866,\n",
       " 1,\n",
       " 1,\n",
       " 1,\n",
       " 1,\n",
       " 1,\n",
       " 1,\n",
       " 863,\n",
       " 38,\n",
       " 1932,\n",
       " 609,\n",
       " 282,\n",
       " 29,\n",
       " 1108,\n",
       " 1,\n",
       " 903,\n",
       " 24,\n",
       " 372,\n",
       " 24,\n",
       " 13,\n",
       " 315,\n",
       " 1613,\n",
       " 1306,\n",
       " 409,\n",
       " 19,\n",
       " 64,\n",
       " 963,\n",
       " 1086,\n",
       " 4406,\n",
       " 254]"
      ]
     },
     "execution_count": 13,
     "metadata": {},
     "output_type": "execute_result"
    }
   ],
   "source": [
    "X = tokenizer.texts_to_sequences(articles)\n",
    "\n",
    "X[10] # the 11th article"
   ]
  },
  {
   "cell_type": "markdown",
   "metadata": {},
   "source": [
    "#### Step 7 - Sequences Padding"
   ]
  },
  {
   "cell_type": "markdown",
   "metadata": {},
   "source": [
    "- We'll pad the sequences based on our pre-defined hyperparameters\n",
    "- It's a crucial step in text data prep, especially for training text classification models when dealing with variable-length input, such as the BBC Articles project we're working on. "
   ]
  },
  {
   "cell_type": "code",
   "execution_count": 14,
   "metadata": {},
   "outputs": [],
   "source": [
    "X = pad_sequences(X\n",
    "                    , maxlen=max_length\n",
    "                    , padding=padding_type\n",
    "                    , truncating=trunc_type)"
   ]
  },
  {
   "cell_type": "code",
   "execution_count": 15,
   "metadata": {},
   "outputs": [
    {
     "data": {
      "text/plain": [
       "array([2629,    1,  241, 4789,   24,  684,  574,  241, 4789,    1,    1,\n",
       "       1783,    1,    1, 2629,   24,  677,    1,    1,  162,  276,    1,\n",
       "        162,  276,  827,  942,  546, 2251,    1, 1225, 1847,    1, 1872,\n",
       "          1,    1, 4991,    1,    1,    1,    1,    1,    1,  122, 4790,\n",
       "          1,    2, 2572, 1466,  356,    1,    1,   52,  306,    1,  356,\n",
       "       2031, 4120,   42,   24, 3844,    1,    1,    1,    1,  545,    1,\n",
       "          1,    1,  962,  671, 2510,  309, 4791,    1,  361,   24,    1,\n",
       "        745, 2291,    1, 4792,  140,   10,    1, 3845,  660, 3396,    1,\n",
       "         24,    1,  444,  942,  546,    1,   97,   13,  668, 4991,  241,\n",
       "       4789,    1,  592,    1, 1847, 1028,    1, 4260,  728, 2032,  111,\n",
       "          1,    1,    1, 2801,   24,    1,  102,  276,    1, 1811, 4594,\n",
       "        545,  498,    1, 1659, 3620,  784, 1267,    1, 1870,   10,   31,\n",
       "        684,  317,    1,   66,  568,  677,  315, 1613,   24,  499,    1,\n",
       "          1, 1716,    1,  811,    1, 3213,    1, 1268,    6,    1, 2629,\n",
       "        677,   24, 2866,    1,    1,    1,    1,    1,    1,  863,   38,\n",
       "       1932,  609,  282,   29, 1108,    1,  903,   24,  372,   24,   13,\n",
       "        315, 1613, 1306,  409,   19,   64,  963, 1086, 4406,  254,    0,\n",
       "          0,    0,    0,    0,    0,    0,    0,    0,    0,    0,    0,\n",
       "          0,    0], dtype=int32)"
      ]
     },
     "execution_count": 15,
     "metadata": {},
     "output_type": "execute_result"
    }
   ],
   "source": [
    "X[10]"
   ]
  },
  {
   "cell_type": "markdown",
   "metadata": {},
   "source": [
    "We can see the padding above from the 11th article (multiple zeroes)."
   ]
  },
  {
   "cell_type": "code",
   "execution_count": 16,
   "metadata": {},
   "outputs": [
    {
     "data": {
      "text/plain": [
       "4999"
      ]
     },
     "execution_count": 16,
     "metadata": {},
     "output_type": "execute_result"
    }
   ],
   "source": [
    "np.max(X)"
   ]
  },
  {
   "cell_type": "markdown",
   "metadata": {},
   "source": [
    "Repeat the same steps for Lables"
   ]
  },
  {
   "cell_type": "code",
   "execution_count": 17,
   "metadata": {},
   "outputs": [],
   "source": [
    "label_tokenizer = Tokenizer()\n",
    "label_tokenizer.fit_on_texts(labels)\n",
    "\n",
    "y = np.array(label_tokenizer.texts_to_sequences(labels))"
   ]
  },
  {
   "cell_type": "code",
   "execution_count": 18,
   "metadata": {},
   "outputs": [
    {
     "data": {
      "text/plain": [
       "array([[4],\n",
       "       [2],\n",
       "       [1],\n",
       "       ...,\n",
       "       [5],\n",
       "       [3],\n",
       "       [1]])"
      ]
     },
     "execution_count": 18,
     "metadata": {},
     "output_type": "execute_result"
    }
   ],
   "source": [
    "y"
   ]
  },
  {
   "cell_type": "code",
   "execution_count": 19,
   "metadata": {},
   "outputs": [
    {
     "data": {
      "text/plain": [
       "array([1, 2, 3, 4, 5])"
      ]
     },
     "execution_count": 19,
     "metadata": {},
     "output_type": "execute_result"
    }
   ],
   "source": [
    "np.unique(y)"
   ]
  },
  {
   "cell_type": "markdown",
   "metadata": {},
   "source": [
    "### Split The Data"
   ]
  },
  {
   "cell_type": "code",
   "execution_count": 20,
   "metadata": {},
   "outputs": [],
   "source": [
    "X_train, X_test, y_train, y_test = train_test_split(X, y, test_size=0.2, random_state=42)"
   ]
  },
  {
   "cell_type": "markdown",
   "metadata": {},
   "source": [
    "### Step 8a Build The Model"
   ]
  },
  {
   "cell_type": "markdown",
   "metadata": {},
   "source": [
    "##### Using Vanilla RNN"
   ]
  },
  {
   "cell_type": "code",
   "execution_count": 22,
   "metadata": {},
   "outputs": [],
   "source": [
    "\n",
    "simple_rnn_model = tf.keras.Sequential([\n",
    "          Embedding(vocab_size, embedding_dim),\n",
    "          Bidirectional(SimpleRNN(embedding_dim)),\n",
    "          Dense(embedding_dim, activation='relu'),\n",
    "          #output layer\n",
    "          Dense(6, activation='softmax') #exception for num of categories add one of 'unknown'\n",
    "])"
   ]
  },
  {
   "cell_type": "code",
   "execution_count": 23,
   "metadata": {},
   "outputs": [
    {
     "data": {
      "text/html": [
       "<pre style=\"white-space:pre;overflow-x:auto;line-height:normal;font-family:Menlo,'DejaVu Sans Mono',consolas,'Courier New',monospace\"><span style=\"font-weight: bold\">Model: \"sequential\"</span>\n",
       "</pre>\n"
      ],
      "text/plain": [
       "\u001b[1mModel: \"sequential\"\u001b[0m\n"
      ]
     },
     "metadata": {},
     "output_type": "display_data"
    },
    {
     "data": {
      "text/html": [
       "<pre style=\"white-space:pre;overflow-x:auto;line-height:normal;font-family:Menlo,'DejaVu Sans Mono',consolas,'Courier New',monospace\">┏━━━━━━━━━━━━━━━━━━━━━━━━━━━━━━━━━┳━━━━━━━━━━━━━━━━━━━━━━━━┳━━━━━━━━━━━━━━━┓\n",
       "┃<span style=\"font-weight: bold\"> Layer (type)                    </span>┃<span style=\"font-weight: bold\"> Output Shape           </span>┃<span style=\"font-weight: bold\">       Param # </span>┃\n",
       "┡━━━━━━━━━━━━━━━━━━━━━━━━━━━━━━━━━╇━━━━━━━━━━━━━━━━━━━━━━━━╇━━━━━━━━━━━━━━━┩\n",
       "│ embedding (<span style=\"color: #0087ff; text-decoration-color: #0087ff\">Embedding</span>)           │ ?                      │   <span style=\"color: #00af00; text-decoration-color: #00af00\">0</span> (unbuilt) │\n",
       "├─────────────────────────────────┼────────────────────────┼───────────────┤\n",
       "│ bidirectional (<span style=\"color: #0087ff; text-decoration-color: #0087ff\">Bidirectional</span>)   │ ?                      │   <span style=\"color: #00af00; text-decoration-color: #00af00\">0</span> (unbuilt) │\n",
       "├─────────────────────────────────┼────────────────────────┼───────────────┤\n",
       "│ dense (<span style=\"color: #0087ff; text-decoration-color: #0087ff\">Dense</span>)                   │ ?                      │   <span style=\"color: #00af00; text-decoration-color: #00af00\">0</span> (unbuilt) │\n",
       "├─────────────────────────────────┼────────────────────────┼───────────────┤\n",
       "│ dense_1 (<span style=\"color: #0087ff; text-decoration-color: #0087ff\">Dense</span>)                 │ ?                      │   <span style=\"color: #00af00; text-decoration-color: #00af00\">0</span> (unbuilt) │\n",
       "└─────────────────────────────────┴────────────────────────┴───────────────┘\n",
       "</pre>\n"
      ],
      "text/plain": [
       "┏━━━━━━━━━━━━━━━━━━━━━━━━━━━━━━━━━┳━━━━━━━━━━━━━━━━━━━━━━━━┳━━━━━━━━━━━━━━━┓\n",
       "┃\u001b[1m \u001b[0m\u001b[1mLayer (type)                   \u001b[0m\u001b[1m \u001b[0m┃\u001b[1m \u001b[0m\u001b[1mOutput Shape          \u001b[0m\u001b[1m \u001b[0m┃\u001b[1m \u001b[0m\u001b[1m      Param #\u001b[0m\u001b[1m \u001b[0m┃\n",
       "┡━━━━━━━━━━━━━━━━━━━━━━━━━━━━━━━━━╇━━━━━━━━━━━━━━━━━━━━━━━━╇━━━━━━━━━━━━━━━┩\n",
       "│ embedding (\u001b[38;5;33mEmbedding\u001b[0m)           │ ?                      │   \u001b[38;5;34m0\u001b[0m (unbuilt) │\n",
       "├─────────────────────────────────┼────────────────────────┼───────────────┤\n",
       "│ bidirectional (\u001b[38;5;33mBidirectional\u001b[0m)   │ ?                      │   \u001b[38;5;34m0\u001b[0m (unbuilt) │\n",
       "├─────────────────────────────────┼────────────────────────┼───────────────┤\n",
       "│ dense (\u001b[38;5;33mDense\u001b[0m)                   │ ?                      │   \u001b[38;5;34m0\u001b[0m (unbuilt) │\n",
       "├─────────────────────────────────┼────────────────────────┼───────────────┤\n",
       "│ dense_1 (\u001b[38;5;33mDense\u001b[0m)                 │ ?                      │   \u001b[38;5;34m0\u001b[0m (unbuilt) │\n",
       "└─────────────────────────────────┴────────────────────────┴───────────────┘\n"
      ]
     },
     "metadata": {},
     "output_type": "display_data"
    },
    {
     "data": {
      "text/html": [
       "<pre style=\"white-space:pre;overflow-x:auto;line-height:normal;font-family:Menlo,'DejaVu Sans Mono',consolas,'Courier New',monospace\"><span style=\"font-weight: bold\"> Total params: </span><span style=\"color: #00af00; text-decoration-color: #00af00\">0</span> (0.00 B)\n",
       "</pre>\n"
      ],
      "text/plain": [
       "\u001b[1m Total params: \u001b[0m\u001b[38;5;34m0\u001b[0m (0.00 B)\n"
      ]
     },
     "metadata": {},
     "output_type": "display_data"
    },
    {
     "data": {
      "text/html": [
       "<pre style=\"white-space:pre;overflow-x:auto;line-height:normal;font-family:Menlo,'DejaVu Sans Mono',consolas,'Courier New',monospace\"><span style=\"font-weight: bold\"> Trainable params: </span><span style=\"color: #00af00; text-decoration-color: #00af00\">0</span> (0.00 B)\n",
       "</pre>\n"
      ],
      "text/plain": [
       "\u001b[1m Trainable params: \u001b[0m\u001b[38;5;34m0\u001b[0m (0.00 B)\n"
      ]
     },
     "metadata": {},
     "output_type": "display_data"
    },
    {
     "data": {
      "text/html": [
       "<pre style=\"white-space:pre;overflow-x:auto;line-height:normal;font-family:Menlo,'DejaVu Sans Mono',consolas,'Courier New',monospace\"><span style=\"font-weight: bold\"> Non-trainable params: </span><span style=\"color: #00af00; text-decoration-color: #00af00\">0</span> (0.00 B)\n",
       "</pre>\n"
      ],
      "text/plain": [
       "\u001b[1m Non-trainable params: \u001b[0m\u001b[38;5;34m0\u001b[0m (0.00 B)\n"
      ]
     },
     "metadata": {},
     "output_type": "display_data"
    }
   ],
   "source": [
    "simple_rnn_model.summary()"
   ]
  },
  {
   "cell_type": "markdown",
   "metadata": {},
   "source": [
    "#### Step 8b - Compile"
   ]
  },
  {
   "cell_type": "code",
   "execution_count": 24,
   "metadata": {},
   "outputs": [],
   "source": [
    "simple_rnn_model.compile(loss='sparse_categorical_crossentropy',\n",
    "                  optimizer='adam',\n",
    "                  metrics=['accuracy'])"
   ]
  },
  {
   "cell_type": "markdown",
   "metadata": {},
   "source": [
    "Step 8c - Model Training"
   ]
  },
  {
   "cell_type": "code",
   "execution_count": 25,
   "metadata": {},
   "outputs": [
    {
     "name": "stdout",
     "output_type": "stream",
     "text": [
      "Epoch 1/5\n",
      "\u001b[1m56/56\u001b[0m \u001b[32m━━━━━━━━━━━━━━━━━━━━\u001b[0m\u001b[37m\u001b[0m \u001b[1m3s\u001b[0m 26ms/step - accuracy: 0.2575 - loss: 1.6795 - val_accuracy: 0.3146 - val_loss: 1.5680\n",
      "Epoch 2/5\n",
      "\u001b[1m56/56\u001b[0m \u001b[32m━━━━━━━━━━━━━━━━━━━━\u001b[0m\u001b[37m\u001b[0m \u001b[1m1s\u001b[0m 26ms/step - accuracy: 0.4456 - loss: 1.4318 - val_accuracy: 0.5798 - val_loss: 1.1051\n",
      "Epoch 3/5\n",
      "\u001b[1m56/56\u001b[0m \u001b[32m━━━━━━━━━━━━━━━━━━━━\u001b[0m\u001b[37m\u001b[0m \u001b[1m2s\u001b[0m 35ms/step - accuracy: 0.8396 - loss: 0.7548 - val_accuracy: 0.7146 - val_loss: 0.7834\n",
      "Epoch 4/5\n",
      "\u001b[1m56/56\u001b[0m \u001b[32m━━━━━━━━━━━━━━━━━━━━\u001b[0m\u001b[37m\u001b[0m \u001b[1m2s\u001b[0m 37ms/step - accuracy: 0.9774 - loss: 0.2200 - val_accuracy: 0.7708 - val_loss: 0.5647\n",
      "Epoch 5/5\n",
      "\u001b[1m56/56\u001b[0m \u001b[32m━━━━━━━━━━━━━━━━━━━━\u001b[0m\u001b[37m\u001b[0m \u001b[1m2s\u001b[0m 36ms/step - accuracy: 0.9939 - loss: 0.0425 - val_accuracy: 0.7708 - val_loss: 0.5811\n"
     ]
    }
   ],
   "source": [
    "model_hist = simple_rnn_model.fit(X_train,\n",
    "                           y_train,\n",
    "                           epochs=num_epochs,\n",
    "                           validation_data=(X_test, y_test))"
   ]
  },
  {
   "cell_type": "code",
   "execution_count": 26,
   "metadata": {},
   "outputs": [],
   "source": [
    "plt.style.use('bmh')"
   ]
  },
  {
   "cell_type": "code",
   "execution_count": 27,
   "metadata": {},
   "outputs": [],
   "source": [
    "def plot_training_history(history):\n",
    "    # Create a figure with two subplots\n",
    "    fig, (ax1, ax2) = plt.subplots(1, 2, figsize=(12, 6))\n",
    "    \n",
    "    # Get the number of epochs\n",
    "    epochs = len(history.history['accuracy'])\n",
    "    \n",
    "    # Create x-axis values\n",
    "    x_values = np.arange(1, epochs + 1)\n",
    "    \n",
    "    # Plot accuracy vs. val_accuracy\n",
    "    ax1.plot(x_values, history.history['accuracy'], label='Training Accuracy')\n",
    "    ax1.plot(x_values, history.history['val_accuracy'], label='Validation Accuracy')\n",
    "    ax1.set_title('Model Accuracy')\n",
    "    ax1.set_xlabel('Epoch')\n",
    "    ax1.set_ylabel('Accuracy')\n",
    "    ax1.legend()\n",
    "    ax1.set_xticks(x_values)  # Set x-ticks to be integer epochs\n",
    "    \n",
    "    # Plot loss vs. val_loss\n",
    "    ax2.plot(x_values, history.history['loss'], label='Training Loss')\n",
    "    ax2.plot(x_values, history.history['val_loss'], label='Validation Loss')\n",
    "    ax2.set_title('Model Loss')\n",
    "    ax2.set_xlabel('Epoch')\n",
    "    ax2.set_ylabel('Loss')\n",
    "    ax2.legend()\n",
    "    ax2.set_xticks(x_values)  # Set x-ticks to be integer epochs\n",
    "    \n",
    "    # Adjust layout and display the plot\n",
    "    plt.tight_layout()\n",
    "    plt.show()"
   ]
  },
  {
   "cell_type": "code",
   "execution_count": 28,
   "metadata": {},
   "outputs": [
    {
     "data": {
      "image/png": "[encoded data removed]",
      "text/plain": [
       "<Figure size 1200x600 with 2 Axes>"
      ]
     },
     "metadata": {},
     "output_type": "display_data"
    }
   ],
   "source": [
    "plot_training_history(model_hist)"
   ]
  },
  {
   "cell_type": "markdown",
   "metadata": {},
   "source": [
    "Suggestion for improvement:\n",
    "- Adding regularization\n",
    "- More epochs after regularization\n",
    "- Using LSTM instead of vanilla RNN"
   ]
  },
  {
   "cell_type": "code",
   "execution_count": 29,
   "metadata": {},
   "outputs": [
    {
     "name": "stdout",
     "output_type": "stream",
     "text": [
      "Epoch 1/10\n",
      "\u001b[1m56/56\u001b[0m \u001b[32m━━━━━━━━━━━━━━━━━━━━\u001b[0m\u001b[37m\u001b[0m \u001b[1m2s\u001b[0m 22ms/step - accuracy: 0.2123 - loss: 1.7390 - val_accuracy: 0.3236 - val_loss: 1.5785\n",
      "Epoch 2/10\n",
      "\u001b[1m56/56\u001b[0m \u001b[32m━━━━━━━━━━━━━━━━━━━━\u001b[0m\u001b[37m\u001b[0m \u001b[1m2s\u001b[0m 27ms/step - accuracy: 0.3139 - loss: 1.5585 - val_accuracy: 0.3551 - val_loss: 1.5143\n",
      "Epoch 3/10\n",
      "\u001b[1m56/56\u001b[0m \u001b[32m━━━━━━━━━━━━━━━━━━━━\u001b[0m\u001b[37m\u001b[0m \u001b[1m2s\u001b[0m 35ms/step - accuracy: 0.4967 - loss: 1.3307 - val_accuracy: 0.5640 - val_loss: 1.2493\n",
      "Epoch 4/10\n",
      "\u001b[1m56/56\u001b[0m \u001b[32m━━━━━━━━━━━━━━━━━━━━\u001b[0m\u001b[37m\u001b[0m \u001b[1m2s\u001b[0m 34ms/step - accuracy: 0.7910 - loss: 0.7405 - val_accuracy: 0.5506 - val_loss: 1.0326\n",
      "Epoch 5/10\n",
      "\u001b[1m56/56\u001b[0m \u001b[32m━━━━━━━━━━━━━━━━━━━━\u001b[0m\u001b[37m\u001b[0m \u001b[1m2s\u001b[0m 36ms/step - accuracy: 0.9568 - loss: 0.2494 - val_accuracy: 0.7326 - val_loss: 0.6632\n",
      "Epoch 6/10\n",
      "\u001b[1m56/56\u001b[0m \u001b[32m━━━━━━━━━━━━━━━━━━━━\u001b[0m\u001b[37m\u001b[0m \u001b[1m2s\u001b[0m 35ms/step - accuracy: 0.9965 - loss: 0.0602 - val_accuracy: 0.7573 - val_loss: 0.6172\n",
      "Epoch 7/10\n",
      "\u001b[1m56/56\u001b[0m \u001b[32m━━━━━━━━━━━━━━━━━━━━\u001b[0m\u001b[37m\u001b[0m \u001b[1m2s\u001b[0m 34ms/step - accuracy: 0.9969 - loss: 0.0301 - val_accuracy: 0.6989 - val_loss: 0.8278\n",
      "Epoch 8/10\n",
      "\u001b[1m56/56\u001b[0m \u001b[32m━━━━━━━━━━━━━━━━━━━━\u001b[0m\u001b[37m\u001b[0m \u001b[1m2s\u001b[0m 35ms/step - accuracy: 0.9990 - loss: 0.0201 - val_accuracy: 0.7551 - val_loss: 0.7007\n",
      "Epoch 9/10\n",
      "\u001b[1m56/56\u001b[0m \u001b[32m━━━━━━━━━━━━━━━━━━━━\u001b[0m\u001b[37m\u001b[0m \u001b[1m2s\u001b[0m 35ms/step - accuracy: 0.9988 - loss: 0.0151 - val_accuracy: 0.7596 - val_loss: 0.7082\n",
      "Epoch 10/10\n",
      "\u001b[1m56/56\u001b[0m \u001b[32m━━━━━━━━━━━━━━━━━━━━\u001b[0m\u001b[37m\u001b[0m \u001b[1m2s\u001b[0m 37ms/step - accuracy: 0.9988 - loss: 0.0144 - val_accuracy: 0.6831 - val_loss: 0.9602\n"
     ]
    }
   ],
   "source": [
    "\n",
    "rnn_model_v2 = tf.keras.Sequential([\n",
    "    Embedding(vocab_size, embedding_dim),\n",
    "    Bidirectional(SimpleRNN(embedding_dim)),\n",
    "    Dense(embedding_dim, activation='relu'),\n",
    "    Dropout(0.5),\n",
    "    #output layer\n",
    "    Dense(6, activation='softmax')\n",
    "])\n",
    "\n",
    "rnn_model_v2.compile(loss='sparse_categorical_crossentropy',\n",
    "                  optimizer='adam',\n",
    "                  metrics=['accuracy'])\n",
    "\n",
    "num_epochs = 10\n",
    "rnn_model_v2_hist = rnn_model_v2.fit(X_train,\n",
    "                           y_train,\n",
    "                           epochs=num_epochs,\n",
    "                           validation_data=(X_test, y_test))"
   ]
  },
  {
   "cell_type": "markdown",
   "metadata": {},
   "source": [
    "##### Using LSTM"
   ]
  },
  {
   "cell_type": "code",
   "execution_count": 30,
   "metadata": {},
   "outputs": [
    {
     "name": "stdout",
     "output_type": "stream",
     "text": [
      "Epoch 1/10\n",
      "\u001b[1m56/56\u001b[0m \u001b[32m━━━━━━━━━━━━━━━━━━━━\u001b[0m\u001b[37m\u001b[0m \u001b[1m4s\u001b[0m 56ms/step - accuracy: 0.2360 - loss: 1.7112 - val_accuracy: 0.5326 - val_loss: 1.3737\n",
      "Epoch 2/10\n",
      "\u001b[1m56/56\u001b[0m \u001b[32m━━━━━━━━━━━━━━━━━━━━\u001b[0m\u001b[37m\u001b[0m \u001b[1m4s\u001b[0m 67ms/step - accuracy: 0.4873 - loss: 1.2417 - val_accuracy: 0.7820 - val_loss: 0.6270\n",
      "Epoch 3/10\n",
      "\u001b[1m56/56\u001b[0m \u001b[32m━━━━━━━━━━━━━━━━━━━━\u001b[0m\u001b[37m\u001b[0m \u001b[1m5s\u001b[0m 90ms/step - accuracy: 0.8021 - loss: 0.5931 - val_accuracy: 0.9191 - val_loss: 0.3622\n",
      "Epoch 4/10\n",
      "\u001b[1m56/56\u001b[0m \u001b[32m━━━━━━━━━━━━━━━━━━━━\u001b[0m\u001b[37m\u001b[0m \u001b[1m5s\u001b[0m 90ms/step - accuracy: 0.9211 - loss: 0.3085 - val_accuracy: 0.8112 - val_loss: 0.5332\n",
      "Epoch 5/10\n",
      "\u001b[1m56/56\u001b[0m \u001b[32m━━━━━━━━━━━━━━━━━━━━\u001b[0m\u001b[37m\u001b[0m \u001b[1m5s\u001b[0m 89ms/step - accuracy: 0.8847 - loss: 0.3152 - val_accuracy: 0.9326 - val_loss: 0.2792\n",
      "Epoch 6/10\n",
      "\u001b[1m56/56\u001b[0m \u001b[32m━━━━━━━━━━━━━━━━━━━━\u001b[0m\u001b[37m\u001b[0m \u001b[1m5s\u001b[0m 92ms/step - accuracy: 0.9856 - loss: 0.0770 - val_accuracy: 0.9416 - val_loss: 0.2110\n",
      "Epoch 7/10\n",
      "\u001b[1m56/56\u001b[0m \u001b[32m━━━━━━━━━━━━━━━━━━━━\u001b[0m\u001b[37m\u001b[0m \u001b[1m5s\u001b[0m 95ms/step - accuracy: 0.9931 - loss: 0.0458 - val_accuracy: 0.9371 - val_loss: 0.2441\n",
      "Epoch 8/10\n",
      "\u001b[1m56/56\u001b[0m \u001b[32m━━━━━━━━━━━━━━━━━━━━\u001b[0m\u001b[37m\u001b[0m \u001b[1m8s\u001b[0m 136ms/step - accuracy: 0.9958 - loss: 0.0274 - val_accuracy: 0.9236 - val_loss: 0.2921\n",
      "Epoch 9/10\n",
      "\u001b[1m56/56\u001b[0m \u001b[32m━━━━━━━━━━━━━━━━━━━━\u001b[0m\u001b[37m\u001b[0m \u001b[1m7s\u001b[0m 127ms/step - accuracy: 0.9997 - loss: 0.0181 - val_accuracy: 0.9483 - val_loss: 0.2405\n",
      "Epoch 10/10\n",
      "\u001b[1m56/56\u001b[0m \u001b[32m━━━━━━━━━━━━━━━━━━━━\u001b[0m\u001b[37m\u001b[0m \u001b[1m8s\u001b[0m 139ms/step - accuracy: 0.9984 - loss: 0.0096 - val_accuracy: 0.9483 - val_loss: 0.2032\n"
     ]
    }
   ],
   "source": [
    "\n",
    "rnn_model_lstm = tf.keras.Sequential([\n",
    "    Embedding(vocab_size, embedding_dim),\n",
    "    Bidirectional(LSTM(embedding_dim)), #only adjustment\n",
    "    Dense(embedding_dim, activation='relu'),\n",
    "    Dropout(0.5),\n",
    "    #output layer\n",
    "    Dense(6, activation='softmax')\n",
    "])\n",
    "\n",
    "rnn_model_lstm.compile(loss='sparse_categorical_crossentropy',\n",
    "                  optimizer='adam',\n",
    "                  metrics=['accuracy'])\n",
    "\n",
    "num_epochs = 10\n",
    "rnn_model_lstm_hist = rnn_model_lstm.fit(X_train,\n",
    "                           y_train,\n",
    "                           epochs=num_epochs,\n",
    "                           validation_data=(X_test, y_test))"
   ]
  },
  {
   "cell_type": "code",
   "execution_count": 31,
   "metadata": {},
   "outputs": [
    {
     "data": {
      "image/png": "[encoded data removed]",
      "text/plain": [
       "<Figure size 1200x600 with 2 Axes>"
      ]
     },
     "metadata": {},
     "output_type": "display_data"
    }
   ],
   "source": [
    "plot_training_history(rnn_model_lstm_hist)"
   ]
  },
  {
   "cell_type": "markdown",
   "metadata": {},
   "source": [
    "## Additional Evaluation - Confusion Matrix"
   ]
  },
  {
   "cell_type": "code",
   "execution_count": 32,
   "metadata": {},
   "outputs": [
    {
     "name": "stdout",
     "output_type": "stream",
     "text": [
      "\u001b[1m14/14\u001b[0m \u001b[32m━━━━━━━━━━━━━━━━━━━━\u001b[0m\u001b[37m\u001b[0m \u001b[1m0s\u001b[0m 15ms/step\n",
      "\u001b[1m14/14\u001b[0m \u001b[32m━━━━━━━━━━━━━━━━━━━━\u001b[0m\u001b[37m\u001b[0m \u001b[1m0s\u001b[0m 22ms/step\n"
     ]
    }
   ],
   "source": [
    "# Making predictions\n",
    "y_pred_rnn = simple_rnn_model.predict(X_test)\n",
    "y_pred_lstm = rnn_model_lstm.predict(X_test)"
   ]
  },
  {
   "cell_type": "code",
   "execution_count": 33,
   "metadata": {},
   "outputs": [
    {
     "data": {
      "text/plain": [
       "((445, 6), (445, 6), (445, 1))"
      ]
     },
     "execution_count": 33,
     "metadata": {},
     "output_type": "execute_result"
    }
   ],
   "source": [
    "y_pred_lstm.shape, y_pred_rnn.shape, y_test.shape"
   ]
  },
  {
   "cell_type": "code",
   "execution_count": 34,
   "metadata": {},
   "outputs": [],
   "source": [
    "# Convert the probabilities to class labels\n",
    "y_pred_rnn_labels = np.argmax(y_pred_rnn, axis=1)\n",
    "y_pred_lstm_labels = np.argmax(y_pred_lstm, axis=1)\n"
   ]
  },
  {
   "cell_type": "code",
   "execution_count": 39,
   "metadata": {},
   "outputs": [
    {
     "data": {
      "text/plain": [
       "dict_keys(['sport', 'business', 'politics', 'tech', 'entertainment'])"
      ]
     },
     "execution_count": 39,
     "metadata": {},
     "output_type": "execute_result"
    }
   ],
   "source": [
    "label_tokenizer.word_index.keys()"
   ]
  },
  {
   "cell_type": "code",
   "execution_count": 38,
   "metadata": {},
   "outputs": [
    {
     "data": {
      "image/png": "[encoded data removed]",
      "text/plain": [
       "<Figure size 1000x500 with 2 Axes>"
      ]
     },
     "metadata": {},
     "output_type": "display_data"
    }
   ],
   "source": [
    "from sklearn.metrics import confusion_matrix, ConfusionMatrixDisplay\n",
    "plt.style.use('default')\n",
    "\n",
    "# Create a subplot with 1 row and 2 columns\n",
    "fig, ax = plt.subplots(1, 2, figsize=(10, 5))\n",
    "\n",
    "# Confusion Matrix for RNN model\n",
    "cm_rnn = confusion_matrix(y_test, y_pred_rnn_labels)\n",
    "disp_rnn = ConfusionMatrixDisplay(confusion_matrix=cm_rnn)\n",
    "disp_rnn.plot(ax=ax[0], colorbar=False, cmap='YlGn')  \n",
    "ax[0].set_title(\"Confusion Matrix - RNN Model\")\n",
    "ax[0].set_xticklabels(label_tokenizer.word_index.keys())\n",
    "\n",
    "# Confusion Matrix for LSTM model\n",
    "cm_lstm = confusion_matrix(y_test, y_pred_lstm_labels)\n",
    "disp_lstm = ConfusionMatrixDisplay(confusion_matrix=cm_lstm)\n",
    "disp_lstm.plot(ax=ax[1], colorbar=False, cmap='YlGn')  \n",
    "ax[1].set_title(\"Confusion Matrix - LSTM Model & Regularization\")\n",
    "ax[1].set_xticklabels(label_tokenizer.word_index.keys())\n",
    "\n",
    "# Adjust layout and show the plots side by side\n",
    "plt.tight_layout(w_pad=1.7)\n",
    "plt.show()"
   ]
  },
  {
   "cell_type": "code",
   "execution_count": null,
   "metadata": {},
   "outputs": [],
   "source": []
  }
 ],
 "metadata": {
  "kernelspec": {
   "display_name": "Python 3",
   "language": "python",
   "name": "python3"
  },
  "language_info": {
   "codemirror_mode": {
    "name": "ipython",
    "version": 3
   },
   "file_extension": ".py",
   "mimetype": "text/x-python",
   "name": "python",
   "nbconvert_exporter": "python",
   "pygments_lexer": "ipython3",
   "version": "3.11.3"
  }
 },
 "nbformat": 4,
 "nbformat_minor": 2
}
