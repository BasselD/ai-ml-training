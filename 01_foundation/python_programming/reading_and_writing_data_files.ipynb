{
 "cells": [
  {
   "cell_type": "markdown",
   "metadata": {},
   "source": [
    "# __Reading and Writing CSV Files__\n",
    "\n",
    "Let's look at how to read and write CSV files. There are several methods that we can use. One is by using the CSV library and the other is by using pandas. \n"
   ]
  },
  {
   "cell_type": "markdown",
   "metadata": {},
   "source": [
    "## Method 1 - Using `csv` Library"
   ]
  },
  {
   "cell_type": "code",
   "execution_count": 1,
   "metadata": {},
   "outputs": [],
   "source": [
    "import csv\n",
    "csvFile = open('Sample_File.csv')\n",
    "csvReader = csv.reader(csvFile)"
   ]
  },
  {
   "cell_type": "markdown",
   "metadata": {},
   "source": [
    "- csvReader is an object of csv.reader()\n",
    "- Check the type of csvReader object\n",
    "- This step is not necessary but can be helpful for verifying that the file was loaded correctly"
   ]
  },
  {
   "cell_type": "markdown",
   "metadata": {},
   "source": [
    "Now let us print the contents of the file using a for loop\n",
    "* Declare a variable that iterates through the csvReader\n",
    "* Print the line"
   ]
  },
  {
   "cell_type": "code",
   "execution_count": 2,
   "metadata": {},
   "outputs": [
    {
     "name": "stdout",
     "output_type": "stream",
     "text": [
      "['Name', 'Age', 'Gender']\n",
      "['Mark', '24', 'Male']\n",
      "['Manish', '30', 'Male']\n",
      "['Mary', '28', 'Female']\n",
      "['Mike', '44', 'Male']\n",
      "['Becky', '18', 'Female']\n"
     ]
    }
   ],
   "source": [
    "# Reading a CSV file\n",
    "with open('Sample_File.csv', 'r') as file:\n",
    "    csv_reader = csv.reader(file)\n",
    "    for row in csv_reader:\n",
    "        print(row)"
   ]
  },
  {
   "cell_type": "markdown",
   "metadata": {},
   "source": [
    "### Step 2: Distinguish the Header and the Rows in the CSV File\n",
    "\n",
    "- Open the CSV file for reading using the **with** and **open()** function\n",
    "- Read the CSV file using the **reader()** function \n",
    "- Initiate the variable to **count** the rows\n",
    "- Traverse through the lines in csvReader\n",
    "- Check if the **count** is 0 and print the line as header if it is\n",
    "- Else, print it as a row\n",
    "- Increment the **count** by one\n",
    "\n"
   ]
  },
  {
   "cell_type": "code",
   "execution_count": 3,
   "metadata": {},
   "outputs": [
    {
     "name": "stdout",
     "output_type": "stream",
     "text": [
      "Header: ['Name', 'Age', 'Gender']\n",
      "Row: ['Mark', '24', 'Male']\n",
      "Row: ['Manish', '30', 'Male']\n",
      "Row: ['Mary', '28', 'Female']\n",
      "Row: ['Mike', '44', 'Male']\n",
      "Row: ['Becky', '18', 'Female']\n"
     ]
    }
   ],
   "source": [
    "with open('Sample_File.csv','r') as csvFile:\n",
    "    csvReader = csv.reader(csvFile)\n",
    "    count = 0\n",
    "    for line in csvReader:\n",
    "        if count == 0:\n",
    "            print('Header: '+str(line))\n",
    "        else:\n",
    "            print('Row: '+str(line))\n",
    "        count+=1"
   ]
  },
  {
   "cell_type": "markdown",
   "metadata": {},
   "source": [
    "### Step 3: Write a New Row to the CSV File\n",
    "\n",
    "- Open the CSV file for writing using **with** and **open()** functions\n",
    "- Create a writer object using the **writer()** function\n",
    "- Write a new row to the CSV file using the **writerow()** function, and mention the row to be written as an argument to the **writerow()** function\n"
   ]
  },
  {
   "cell_type": "code",
   "execution_count": 4,
   "metadata": {},
   "outputs": [],
   "source": [
    "with open('Sample_File.csv','a') as csvFile:\n",
    "    csvWriter = csv.writer(csvFile)\n",
    "    csvWriter.writerow(['Caitlin',27,'Female'])"
   ]
  },
  {
   "cell_type": "markdown",
   "metadata": {},
   "source": [
    "### Building a CSV"
   ]
  },
  {
   "cell_type": "code",
   "execution_count": 5,
   "metadata": {},
   "outputs": [],
   "source": [
    "# Writing to a CSV file\n",
    "data = [['Name', 'Age'], ['John', 30], ['Jane', 25], ['Bob', 35]]\n",
    "\n",
    "with open('output.csv', 'w', newline='') as file:\n",
    "    csv_writer = csv.writer(file)\n",
    "    csv_writer.writerows(data)\n"
   ]
  },
  {
   "cell_type": "markdown",
   "metadata": {},
   "source": [
    "## Method 2 - Using `NumPy`"
   ]
  },
  {
   "cell_type": "markdown",
   "metadata": {},
   "source": [
    "### A. Using `loadtxt`"
   ]
  },
  {
   "cell_type": "code",
   "execution_count": 6,
   "metadata": {},
   "outputs": [
    {
     "data": {
      "text/plain": [
       "array([  9., 167.,  30.,  71., 102.,  87., 229., 227.,  91.,  78.,  84.,\n",
       "       177.,  91.,  26., 226.,   7.,  92., 215., 185.,  86., 119., 191.,\n",
       "        21., 182.,  53.,  70., 185., 129., 232.,  28., 106., 136.,  62.,\n",
       "       168., 139., 154., 149., 125., 188.,  29., 180.,   7., 166., 228.,\n",
       "        72.,  25., 114., 135.,  54., 208.,  33., 228., 125.,  82.,  69.,\n",
       "        53., 218.,  90.,  52., 153., 101., 157., 160.,   9., 187.,  20.,\n",
       "        93.,  42.,  65., 225.,  56.,  55.])"
      ]
     },
     "execution_count": 6,
     "metadata": {},
     "output_type": "execute_result"
    }
   ],
   "source": [
    "import numpy as np\n",
    "\n",
    "# for numerical data only\n",
    "array = np.loadtxt('num_data.csv', delimiter=',')\n",
    "array"
   ]
  },
  {
   "cell_type": "code",
   "execution_count": 7,
   "metadata": {},
   "outputs": [
    {
     "data": {
      "text/plain": [
       "array([['Name', 'Age', 'Gender'],\n",
       "       ['Mark', '24', 'Male'],\n",
       "       ['Manish', '30', 'Male'],\n",
       "       ['Mary', '28', 'Female'],\n",
       "       ['Mike', '44', 'Male'],\n",
       "       ['Becky', '18', 'Female'],\n",
       "       ['Caitlin', '27', 'Female']], dtype='<U7')"
      ]
     },
     "execution_count": 7,
     "metadata": {},
     "output_type": "execute_result"
    }
   ],
   "source": [
    "# for csv file with text type\n",
    "arr = np.loadtxt('Sample_File.csv'\n",
    "                    ,delimiter = ','\n",
    "                    ,dtype = str\n",
    "                    #, skiprows=1 to skip the first row(header)\n",
    "                    )\n",
    "arr"
   ]
  },
  {
   "cell_type": "markdown",
   "metadata": {},
   "source": [
    "### B. Using `genfromtxt`"
   ]
  },
  {
   "cell_type": "code",
   "execution_count": 8,
   "metadata": {},
   "outputs": [
    {
     "name": "stdout",
     "output_type": "stream",
     "text": [
      "[['Name' 'Age' 'Gender']\n",
      " ['Mark' '24' 'Male']\n",
      " ['Manish' '30' 'Male']\n",
      " ['Mary' '28' 'Female']\n",
      " ['Mike' '44' 'Male']\n",
      " ['Becky' '18' 'Female']\n",
      " ['Caitlin' '27' 'Female']]\n"
     ]
    }
   ],
   "source": [
    "import numpy as np\n",
    "\n",
    "# Reading a CSV file\n",
    "data = np.genfromtxt('Sample_File.csv', delimiter=','\n",
    "                     , dtype=str\n",
    "                     #, encoding=None\n",
    "                     )\n",
    "print(data)\n"
   ]
  },
  {
   "cell_type": "code",
   "execution_count": 9,
   "metadata": {},
   "outputs": [
    {
     "data": {
      "text/plain": [
       "array([['Mark', '24', 'Male'],\n",
       "       ['Manish', '30', 'Male'],\n",
       "       ['Mary', '28', 'Female'],\n",
       "       ['Mike', '44', 'Male'],\n",
       "       ['Becky', '18', 'Female'],\n",
       "       ['Caitlin', '27', 'Female']], dtype='<U7')"
      ]
     },
     "execution_count": 9,
     "metadata": {},
     "output_type": "execute_result"
    }
   ],
   "source": [
    "# to skip the header \n",
    "data[1:]"
   ]
  },
  {
   "cell_type": "markdown",
   "metadata": {},
   "source": [
    "#### Saving a NumPy Array As A CSV File"
   ]
  },
  {
   "cell_type": "code",
   "execution_count": 10,
   "metadata": {},
   "outputs": [],
   "source": [
    "arr = np.array([[1,2,3],[4,5,6]])\n",
    "np.savetxt('sample_numpy.csv',arr,delimiter=',')"
   ]
  },
  {
   "cell_type": "markdown",
   "metadata": {},
   "source": [
    "### Saving as NumPy File"
   ]
  },
  {
   "cell_type": "code",
   "execution_count": 11,
   "metadata": {},
   "outputs": [],
   "source": [
    "arr = np.array([1,2,3,4,6,7])"
   ]
  },
  {
   "cell_type": "code",
   "execution_count": 12,
   "metadata": {},
   "outputs": [],
   "source": [
    "# as a numpy file\n",
    "np.save('file.npy',arr)"
   ]
  },
  {
   "cell_type": "code",
   "execution_count": 13,
   "metadata": {},
   "outputs": [],
   "source": [
    "arr = np.load('file.npy')"
   ]
  },
  {
   "cell_type": "code",
   "execution_count": 22,
   "metadata": {},
   "outputs": [
    {
     "data": {
      "text/plain": [
       "array([1, 2, 3, 4, 6, 7])"
      ]
     },
     "execution_count": 22,
     "metadata": {},
     "output_type": "execute_result"
    }
   ],
   "source": [
    "arr"
   ]
  },
  {
   "cell_type": "markdown",
   "metadata": {},
   "source": [
    "# Method 3 - Using Pandas"
   ]
  },
  {
   "cell_type": "code",
   "execution_count": 14,
   "metadata": {},
   "outputs": [],
   "source": [
    "import pandas as pd\n",
    "\n",
    "df = pd.read_csv('Sample_File.csv')"
   ]
  },
  {
   "cell_type": "code",
   "execution_count": 15,
   "metadata": {},
   "outputs": [
    {
     "data": {
      "text/html": [
       "<div>\n",
       "<style scoped>\n",
       "    .dataframe tbody tr th:only-of-type {\n",
       "        vertical-align: middle;\n",
       "    }\n",
       "\n",
       "    .dataframe tbody tr th {\n",
       "        vertical-align: top;\n",
       "    }\n",
       "\n",
       "    .dataframe thead th {\n",
       "        text-align: right;\n",
       "    }\n",
       "</style>\n",
       "<table border=\"1\" class=\"dataframe\">\n",
       "  <thead>\n",
       "    <tr style=\"text-align: right;\">\n",
       "      <th></th>\n",
       "      <th>Name</th>\n",
       "      <th>Age</th>\n",
       "      <th>Gender</th>\n",
       "    </tr>\n",
       "  </thead>\n",
       "  <tbody>\n",
       "    <tr>\n",
       "      <th>0</th>\n",
       "      <td>Mark</td>\n",
       "      <td>24</td>\n",
       "      <td>Male</td>\n",
       "    </tr>\n",
       "    <tr>\n",
       "      <th>1</th>\n",
       "      <td>Manish</td>\n",
       "      <td>30</td>\n",
       "      <td>Male</td>\n",
       "    </tr>\n",
       "    <tr>\n",
       "      <th>2</th>\n",
       "      <td>Mary</td>\n",
       "      <td>28</td>\n",
       "      <td>Female</td>\n",
       "    </tr>\n",
       "    <tr>\n",
       "      <th>3</th>\n",
       "      <td>Mike</td>\n",
       "      <td>44</td>\n",
       "      <td>Male</td>\n",
       "    </tr>\n",
       "    <tr>\n",
       "      <th>4</th>\n",
       "      <td>Becky</td>\n",
       "      <td>18</td>\n",
       "      <td>Female</td>\n",
       "    </tr>\n",
       "    <tr>\n",
       "      <th>5</th>\n",
       "      <td>Caitlin</td>\n",
       "      <td>27</td>\n",
       "      <td>Female</td>\n",
       "    </tr>\n",
       "  </tbody>\n",
       "</table>\n",
       "</div>"
      ],
      "text/plain": [
       "      Name  Age  Gender\n",
       "0     Mark   24    Male\n",
       "1   Manish   30    Male\n",
       "2     Mary   28  Female\n",
       "3     Mike   44    Male\n",
       "4    Becky   18  Female\n",
       "5  Caitlin   27  Female"
      ]
     },
     "execution_count": 15,
     "metadata": {},
     "output_type": "execute_result"
    }
   ],
   "source": [
    "df"
   ]
  },
  {
   "cell_type": "markdown",
   "metadata": {},
   "source": [
    "Add a new row"
   ]
  },
  {
   "cell_type": "code",
   "execution_count": 16,
   "metadata": {},
   "outputs": [],
   "source": [
    "df.loc[len(df.index)] = ['Ganesh',20,'Male']"
   ]
  },
  {
   "cell_type": "code",
   "execution_count": 17,
   "metadata": {},
   "outputs": [
    {
     "data": {
      "text/html": [
       "<div>\n",
       "<style scoped>\n",
       "    .dataframe tbody tr th:only-of-type {\n",
       "        vertical-align: middle;\n",
       "    }\n",
       "\n",
       "    .dataframe tbody tr th {\n",
       "        vertical-align: top;\n",
       "    }\n",
       "\n",
       "    .dataframe thead th {\n",
       "        text-align: right;\n",
       "    }\n",
       "</style>\n",
       "<table border=\"1\" class=\"dataframe\">\n",
       "  <thead>\n",
       "    <tr style=\"text-align: right;\">\n",
       "      <th></th>\n",
       "      <th>Name</th>\n",
       "      <th>Age</th>\n",
       "      <th>Gender</th>\n",
       "    </tr>\n",
       "  </thead>\n",
       "  <tbody>\n",
       "    <tr>\n",
       "      <th>0</th>\n",
       "      <td>Mark</td>\n",
       "      <td>24</td>\n",
       "      <td>Male</td>\n",
       "    </tr>\n",
       "    <tr>\n",
       "      <th>1</th>\n",
       "      <td>Manish</td>\n",
       "      <td>30</td>\n",
       "      <td>Male</td>\n",
       "    </tr>\n",
       "    <tr>\n",
       "      <th>2</th>\n",
       "      <td>Mary</td>\n",
       "      <td>28</td>\n",
       "      <td>Female</td>\n",
       "    </tr>\n",
       "    <tr>\n",
       "      <th>3</th>\n",
       "      <td>Mike</td>\n",
       "      <td>44</td>\n",
       "      <td>Male</td>\n",
       "    </tr>\n",
       "    <tr>\n",
       "      <th>4</th>\n",
       "      <td>Becky</td>\n",
       "      <td>18</td>\n",
       "      <td>Female</td>\n",
       "    </tr>\n",
       "    <tr>\n",
       "      <th>5</th>\n",
       "      <td>Caitlin</td>\n",
       "      <td>27</td>\n",
       "      <td>Female</td>\n",
       "    </tr>\n",
       "    <tr>\n",
       "      <th>6</th>\n",
       "      <td>Ganesh</td>\n",
       "      <td>20</td>\n",
       "      <td>Male</td>\n",
       "    </tr>\n",
       "  </tbody>\n",
       "</table>\n",
       "</div>"
      ],
      "text/plain": [
       "      Name  Age  Gender\n",
       "0     Mark   24    Male\n",
       "1   Manish   30    Male\n",
       "2     Mary   28  Female\n",
       "3     Mike   44    Male\n",
       "4    Becky   18  Female\n",
       "5  Caitlin   27  Female\n",
       "6   Ganesh   20    Male"
      ]
     },
     "execution_count": 17,
     "metadata": {},
     "output_type": "execute_result"
    }
   ],
   "source": [
    "df"
   ]
  },
  {
   "cell_type": "markdown",
   "metadata": {},
   "source": [
    "Write the Updated DataFrame Back to the CSV File"
   ]
  },
  {
   "cell_type": "code",
   "execution_count": 18,
   "metadata": {},
   "outputs": [],
   "source": [
    "#The \"index = False\" argument is used to skip writing the index that has been created by pandas internally to the CSV file.\n",
    "df.to_csv('Sample_File.csv',index = False)"
   ]
  },
  {
   "cell_type": "markdown",
   "metadata": {},
   "source": [
    "## JSON Data"
   ]
  },
  {
   "cell_type": "code",
   "execution_count": 19,
   "metadata": {},
   "outputs": [
    {
     "name": "stdout",
     "output_type": "stream",
     "text": [
      "       name age      city\n",
      "0  John Doe  30  New York\n"
     ]
    }
   ],
   "source": [
    "import pandas as pd\n",
    "\n",
    "# Example JSON data\n",
    "json_data = '''\n",
    "{\n",
    "    \"name\": \"John Doe\",\n",
    "    \"age\": 30,\n",
    "    \"city\": \"New York\"\n",
    "}\n",
    "'''\n",
    "\n",
    "# Load JSON data into a DataFrame\n",
    "df = pd.read_json(json_data, orient='index')\n",
    "\n",
    "# Transpose the DataFrame for a more structured view\n",
    "df = df.transpose()\n",
    "\n",
    "# Print the DataFrame\n",
    "print(df)\n"
   ]
  },
  {
   "cell_type": "code",
   "execution_count": 20,
   "metadata": {},
   "outputs": [
    {
     "data": {
      "text/html": [
       "<div>\n",
       "<style scoped>\n",
       "    .dataframe tbody tr th:only-of-type {\n",
       "        vertical-align: middle;\n",
       "    }\n",
       "\n",
       "    .dataframe tbody tr th {\n",
       "        vertical-align: top;\n",
       "    }\n",
       "\n",
       "    .dataframe thead th {\n",
       "        text-align: right;\n",
       "    }\n",
       "</style>\n",
       "<table border=\"1\" class=\"dataframe\">\n",
       "  <thead>\n",
       "    <tr style=\"text-align: right;\">\n",
       "      <th></th>\n",
       "      <th>0</th>\n",
       "    </tr>\n",
       "  </thead>\n",
       "  <tbody>\n",
       "    <tr>\n",
       "      <th>name</th>\n",
       "      <td>John Doe</td>\n",
       "    </tr>\n",
       "    <tr>\n",
       "      <th>age</th>\n",
       "      <td>30</td>\n",
       "    </tr>\n",
       "    <tr>\n",
       "      <th>city</th>\n",
       "      <td>New York</td>\n",
       "    </tr>\n",
       "  </tbody>\n",
       "</table>\n",
       "</div>"
      ],
      "text/plain": [
       "             0\n",
       "name  John Doe\n",
       "age         30\n",
       "city  New York"
      ]
     },
     "execution_count": 20,
     "metadata": {},
     "output_type": "execute_result"
    }
   ],
   "source": [
    "# Transpose the DataFrame for a more structured view\n",
    "df = df.transpose()\n",
    "\n",
    "# Print the DataFrame\n",
    "df"
   ]
  },
  {
   "cell_type": "code",
   "execution_count": 21,
   "metadata": {},
   "outputs": [
    {
     "data": {
      "text/html": [
       "<div>\n",
       "<style scoped>\n",
       "    .dataframe tbody tr th:only-of-type {\n",
       "        vertical-align: middle;\n",
       "    }\n",
       "\n",
       "    .dataframe tbody tr th {\n",
       "        vertical-align: top;\n",
       "    }\n",
       "\n",
       "    .dataframe thead th {\n",
       "        text-align: right;\n",
       "    }\n",
       "</style>\n",
       "<table border=\"1\" class=\"dataframe\">\n",
       "  <thead>\n",
       "    <tr style=\"text-align: right;\">\n",
       "      <th></th>\n",
       "      <th>person</th>\n",
       "    </tr>\n",
       "  </thead>\n",
       "  <tbody>\n",
       "    <tr>\n",
       "      <th>name</th>\n",
       "      <td>John Doe</td>\n",
       "    </tr>\n",
       "    <tr>\n",
       "      <th>age</th>\n",
       "      <td>30</td>\n",
       "    </tr>\n",
       "    <tr>\n",
       "      <th>address</th>\n",
       "      <td>{'city': 'New York', 'state': 'NY'}</td>\n",
       "    </tr>\n",
       "    <tr>\n",
       "      <th>hobbies</th>\n",
       "      <td>[reading, traveling]</td>\n",
       "    </tr>\n",
       "  </tbody>\n",
       "</table>\n",
       "</div>"
      ],
      "text/plain": [
       "                                      person\n",
       "name                                John Doe\n",
       "age                                       30\n",
       "address  {'city': 'New York', 'state': 'NY'}\n",
       "hobbies                 [reading, traveling]"
      ]
     },
     "execution_count": 21,
     "metadata": {},
     "output_type": "execute_result"
    }
   ],
   "source": [
    "import pandas as pd\n",
    "\n",
    "# Example JSON data with multiple layers\n",
    "json_data = '''\n",
    "{\n",
    "    \"person\": {\n",
    "        \"name\": \"John Doe\",\n",
    "        \"age\": 30,\n",
    "        \"address\": {\n",
    "            \"city\": \"New York\",\n",
    "            \"state\": \"NY\"\n",
    "        },\n",
    "        \"hobbies\": [\"reading\", \"traveling\"]\n",
    "    }\n",
    "}\n",
    "'''\n",
    "\n",
    "# Load JSON data into a DataFrame\n",
    "df = pd.read_json(json_data, orient='index')\n",
    "\n",
    "# Transpose the DataFrame for a more structured view\n",
    "df = df.transpose()\n",
    "\n",
    "# Print the DataFrame\n",
    "df\n"
   ]
  },
  {
   "cell_type": "code",
   "execution_count": null,
   "metadata": {},
   "outputs": [],
   "source": []
  }
 ],
 "metadata": {
  "kernelspec": {
   "display_name": "Python 3",
   "language": "python",
   "name": "python3"
  },
  "language_info": {
   "codemirror_mode": {
    "name": "ipython",
    "version": 3
   },
   "file_extension": ".py",
   "mimetype": "text/x-python",
   "name": "python",
   "nbconvert_exporter": "python",
   "pygments_lexer": "ipython3",
   "version": "3.11.3"
  }
 },
 "nbformat": 4,
 "nbformat_minor": 2
}
