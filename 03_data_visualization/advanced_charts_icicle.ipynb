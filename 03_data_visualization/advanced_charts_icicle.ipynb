{
 "cells": [
  {
   "cell_type": "code",
   "execution_count": 1,
   "id": "94faba0a",
   "metadata": {},
   "outputs": [],
   "source": [
    "import pandas as pd\n",
    "import plotly.express as px"
   ]
  },
  {
   "cell_type": "code",
   "execution_count": 2,
   "id": "e7b2b56b",
   "metadata": {},
   "outputs": [
    {
     "data": {
      "application/vnd.microsoft.datawrangler.viewer.v0+json": {
       "columns": [
        {
         "name": "index",
         "rawType": "int64",
         "type": "integer"
        },
        {
         "name": "Payer",
         "rawType": "object",
         "type": "string"
        },
        {
         "name": "Program",
         "rawType": "object",
         "type": "string"
        },
        {
         "name": "PlanFundingSource",
         "rawType": "object",
         "type": "string"
        },
        {
         "name": "PCPGrouper1",
         "rawType": "object",
         "type": "string"
        },
        {
         "name": "PCPGrouper2",
         "rawType": "object",
         "type": "string"
        },
        {
         "name": "PCPGrouper3",
         "rawType": "object",
         "type": "string"
        },
        {
         "name": "PCPGrouper4",
         "rawType": "object",
         "type": "string"
        },
        {
         "name": "PCPGrouper5",
         "rawType": "object",
         "type": "string"
        },
        {
         "name": "PCPGrouper6",
         "rawType": "object",
         "type": "string"
        }
       ],
       "conversionMethod": "pd.DataFrame",
       "ref": "49c14d83-e58b-4adb-a785-f5981265fd64",
       "rows": [
        [
         "0",
         "Aetna",
         "Commercial",
         "Aetna | Comm | Masked",
         "Unknown",
         "Unknown",
         "Unknown",
         "Unknown",
         "Unknown",
         "Unknown"
        ],
        [
         "1",
         "Aetna",
         "Commercial",
         "Aetna | Risk | Comm: HMO - HMO (ACAS) | Fully-Ins",
         "Med Adv",
         "TX",
         "TXS",
         "RENAISSANCE (RPO)",
         "RPO CENTRAL",
         "RPO CENTRAL (Pod)"
        ],
        [
         "2",
         "Aetna",
         "Commercial",
         "Aetna | Risk | Comm: HMO - HMO (ACAS) | Fully-Ins",
         "Med Adv",
         "TX",
         "TXS",
         "RENAISSANCE (RPO)",
         "RPO WESTSIDE",
         "RPO WESTSIDE (Pod)"
        ],
        [
         "3",
         "Aetna",
         "Commercial",
         "Aetna | Risk | Comm: NON-HMO - Managed Choice | Fully-Ins",
         "Med Adv",
         "TX",
         "TXS",
         "RENAISSANCE (RPO)",
         "RPO CENTRAL",
         "RPO CENTRAL (Pod)"
        ],
        [
         "4",
         "Aetna",
         "Commercial",
         "Aetna | Risk | Comm: NON-HMO - Managed Choice | Fully-Ins",
         "Med Adv",
         "TX",
         "TXS",
         "RENAISSANCE (RPO)",
         "RPO EASTEX",
         "RPO EASTEX (Pod)"
        ]
       ],
       "shape": {
        "columns": 9,
        "rows": 5
       }
      },
      "text/html": [
       "<div>\n",
       "<style scoped>\n",
       "    .dataframe tbody tr th:only-of-type {\n",
       "        vertical-align: middle;\n",
       "    }\n",
       "\n",
       "    .dataframe tbody tr th {\n",
       "        vertical-align: top;\n",
       "    }\n",
       "\n",
       "    .dataframe thead th {\n",
       "        text-align: right;\n",
       "    }\n",
       "</style>\n",
       "<table border=\"1\" class=\"dataframe\">\n",
       "  <thead>\n",
       "    <tr style=\"text-align: right;\">\n",
       "      <th></th>\n",
       "      <th>Payer</th>\n",
       "      <th>Program</th>\n",
       "      <th>PlanFundingSource</th>\n",
       "      <th>PCPGrouper1</th>\n",
       "      <th>PCPGrouper2</th>\n",
       "      <th>PCPGrouper3</th>\n",
       "      <th>PCPGrouper4</th>\n",
       "      <th>PCPGrouper5</th>\n",
       "      <th>PCPGrouper6</th>\n",
       "    </tr>\n",
       "  </thead>\n",
       "  <tbody>\n",
       "    <tr>\n",
       "      <th>0</th>\n",
       "      <td>Aetna</td>\n",
       "      <td>Commercial</td>\n",
       "      <td>Aetna | Comm | Masked</td>\n",
       "      <td>Unknown</td>\n",
       "      <td>Unknown</td>\n",
       "      <td>Unknown</td>\n",
       "      <td>Unknown</td>\n",
       "      <td>Unknown</td>\n",
       "      <td>Unknown</td>\n",
       "    </tr>\n",
       "    <tr>\n",
       "      <th>1</th>\n",
       "      <td>Aetna</td>\n",
       "      <td>Commercial</td>\n",
       "      <td>Aetna | Risk | Comm: HMO - HMO (ACAS) | Fully-Ins</td>\n",
       "      <td>Med Adv</td>\n",
       "      <td>TX</td>\n",
       "      <td>TXS</td>\n",
       "      <td>RENAISSANCE (RPO)</td>\n",
       "      <td>RPO CENTRAL</td>\n",
       "      <td>RPO CENTRAL (Pod)</td>\n",
       "    </tr>\n",
       "    <tr>\n",
       "      <th>2</th>\n",
       "      <td>Aetna</td>\n",
       "      <td>Commercial</td>\n",
       "      <td>Aetna | Risk | Comm: HMO - HMO (ACAS) | Fully-Ins</td>\n",
       "      <td>Med Adv</td>\n",
       "      <td>TX</td>\n",
       "      <td>TXS</td>\n",
       "      <td>RENAISSANCE (RPO)</td>\n",
       "      <td>RPO WESTSIDE</td>\n",
       "      <td>RPO WESTSIDE (Pod)</td>\n",
       "    </tr>\n",
       "    <tr>\n",
       "      <th>3</th>\n",
       "      <td>Aetna</td>\n",
       "      <td>Commercial</td>\n",
       "      <td>Aetna | Risk | Comm: NON-HMO - Managed Choice ...</td>\n",
       "      <td>Med Adv</td>\n",
       "      <td>TX</td>\n",
       "      <td>TXS</td>\n",
       "      <td>RENAISSANCE (RPO)</td>\n",
       "      <td>RPO CENTRAL</td>\n",
       "      <td>RPO CENTRAL (Pod)</td>\n",
       "    </tr>\n",
       "    <tr>\n",
       "      <th>4</th>\n",
       "      <td>Aetna</td>\n",
       "      <td>Commercial</td>\n",
       "      <td>Aetna | Risk | Comm: NON-HMO - Managed Choice ...</td>\n",
       "      <td>Med Adv</td>\n",
       "      <td>TX</td>\n",
       "      <td>TXS</td>\n",
       "      <td>RENAISSANCE (RPO)</td>\n",
       "      <td>RPO EASTEX</td>\n",
       "      <td>RPO EASTEX (Pod)</td>\n",
       "    </tr>\n",
       "  </tbody>\n",
       "</table>\n",
       "</div>"
      ],
      "text/plain": [
       "   Payer     Program                                  PlanFundingSource  \\\n",
       "0  Aetna  Commercial                              Aetna | Comm | Masked   \n",
       "1  Aetna  Commercial  Aetna | Risk | Comm: HMO - HMO (ACAS) | Fully-Ins   \n",
       "2  Aetna  Commercial  Aetna | Risk | Comm: HMO - HMO (ACAS) | Fully-Ins   \n",
       "3  Aetna  Commercial  Aetna | Risk | Comm: NON-HMO - Managed Choice ...   \n",
       "4  Aetna  Commercial  Aetna | Risk | Comm: NON-HMO - Managed Choice ...   \n",
       "\n",
       "  PCPGrouper1 PCPGrouper2 PCPGrouper3        PCPGrouper4   PCPGrouper5  \\\n",
       "0     Unknown     Unknown     Unknown            Unknown       Unknown   \n",
       "1     Med Adv          TX         TXS  RENAISSANCE (RPO)   RPO CENTRAL   \n",
       "2     Med Adv          TX         TXS  RENAISSANCE (RPO)  RPO WESTSIDE   \n",
       "3     Med Adv          TX         TXS  RENAISSANCE (RPO)   RPO CENTRAL   \n",
       "4     Med Adv          TX         TXS  RENAISSANCE (RPO)    RPO EASTEX   \n",
       "\n",
       "          PCPGrouper6  \n",
       "0             Unknown  \n",
       "1   RPO CENTRAL (Pod)  \n",
       "2  RPO WESTSIDE (Pod)  \n",
       "3   RPO CENTRAL (Pod)  \n",
       "4    RPO EASTEX (Pod)  "
      ]
     },
     "execution_count": 2,
     "metadata": {},
     "output_type": "execute_result"
    }
   ],
   "source": [
    "path = '/Users/bassel_instructor/Documents/'\n",
    "\n",
    "df = pd.read_csv(path+'expanded_pcpgrouper_hierarchy.csv')\n",
    "df.head()"
   ]
  },
  {
   "cell_type": "code",
   "execution_count": 18,
   "id": "64bb1c13",
   "metadata": {},
   "outputs": [
    {
     "data": {
      "application/vnd.plotly.v1+json": {
       "config": {
        "plotlyServerURL": "https://plot.ly"
       },
       "data": [
        {
         "branchvalues": "total",
         "domain": {
          "x": [
           0,
           1
          ],
          "y": [
           0,
           1
          ]
         },
         "hovertemplate": "labels=%{label}<br>count=%{value}<br>parent=%{parent}<br>id=%{id}<extra></extra>",
         "ids": [
          "all/Cigna/AZ/(AZ NON-MA OTHER)/(AZ NON-MA OTHER)",
          "all/Aetna/TX/(TX NON-MA OTHER)/(TX NON-MA OTHER)",
          "all/Cigna/TX/(TX NON-MA OTHER)/(TX NON-MA OTHER)",
          "all/Humana/TX/(TX NON-MA OTHER)/(TX NON-MA OTHER)",
          "all/Cigna/TX/TXS INDEPENDENT/ACE POD",
          "all/Aetna/TX/ALPINE TX (ALPTX)/ALPINE TX SOUTH - GLOBAL (Pod)",
          "all/Cigna/DS/ENCG/APACHE JUNCTION",
          "all/Cigna/DS/ENCG/ARROWHEAD RANCH",
          "all/Cigna/TX/TXS INDEPENDENT/ASTRANA CARE PARTNERS- TEXAS (Pod)",
          "all/Cigna/TX/CAREMAX TX/CAREMAX TX (Pod)",
          "all/Cigna/DS/IPN/CENTERWELL (Pod)",
          "all/Cigna/TX/CENTERWELL SENIOR PRIMARY CARE - TX(CENTERTX)/CENTERWELL SENIOR PRIMARY CARE (Pod)",
          "all/Cigna/TX/TXS INDEPENDENT/CHI ST LUKES HEALTH NETWORK (Pod)",
          "all/Cigna/DS/ENCG/CJ HARRIS",
          "all/Cigna/TX/TXS INDEPENDENT/DIRECT CORPUS (Pod)",
          "all/Aetna/TX/VALLEY ORGANIZED PHYSICIANS LLC (VOP)/DOCTORS ORGANIZE CARE (Pod)",
          "all/Aetna/TX/EL PASO INTEGRAL CARE (EPIC)/EL PASO INTEGRAL CARE LLC",
          "all/Cigna/TX/TXS INDEPENDENT/GENESIS STX (Pod)",
          "all/Aetna/TX/VALLEY ORGANIZED PHYSICIANS LLC (VOP)/HIDALGO OFFERS PHYSICIAN EXCELLENCE (Pod)",
          "all/Cigna/TX/TXS INDEPENDENT/INTEGRANET HOUSTON POD",
          "all/Aetna/TX/VALLEY ORGANIZED PHYSICIANS LLC (VOP)/LOWER VALLEY PHYSICIAN ALLIANCE (Pod)",
          "all/Unknown/MSSP/MSSP - FL/NAPLES COMMUNITY HEALTH",
          "all/Cigna/DS/ENCG/PALM VALLEY",
          "all/Aetna/TX/RENAISSANCE (RPO)/RPO CENTRAL (Pod)",
          "all/Cigna/TX/RENAISSANCE (RPO)/RPO CENTRAL (Pod)",
          "all/Cigna/TX/RENAISSANCE (RPO)/RPO EASTEX (Pod)",
          "all/Cigna/TX/RENAISSANCE (RPO)/RPO EASTSIDE (Pod)",
          "all/Cigna/TX/RENAISSANCE (RPO)/RPO NORTHSIDE (Pod)",
          "all/Aetna/TX/RENAISSANCE (RPO)/RPO SOUTHSIDE (Pod)",
          "all/Cigna/TX/RENAISSANCE (RPO)/RPO SOUTHSIDE (Pod)",
          "all/Aetna/TX/RENAISSANCE (RPO)/RPO WESTSIDE (Pod)",
          "all/Cigna/TX/RENAISSANCE (RPO)/RPO WESTSIDE (Pod)",
          "all/Cigna/DS/ENCG/SCOTTSDALE",
          "all/Cigna/DS/ENCG/STAPLEY",
          "all/Cigna/DS/ENCG/SUN CITY",
          "all/Aetna/Med Adv/TX/TXS",
          "all/Humana/Med Adv/TX/TXS",
          "all/Aetna/CAC/CAC - TX/TXS (CAC)",
          "all/Cigna/TX/TXS INDEPENDENT/UTPHYSICIANS POD",
          "all/Aetna/Unknown/Unknown/Unknown",
          "all/Cigna/Unknown/Unknown/Unknown",
          "all/Humana/Unknown/Unknown/Unknown",
          "all/Unknown/Unknown/Unknown/Unknown",
          "all/Aetna/TX/VALLEY ORGANIZED PHYSICIANS LLC (VOP)/VALLEY INTEGRATED PHYSICIANS",
          "all/Cigna/TX/VILLAGEMD - HOUSTON (VMDHSTN)/VILLAGE MD (Pod)",
          "all/Cigna/TX/WELLMED IPA (WNI)/WELLMED ELPASO (Pod)",
          "all/Aetna/TX/WELLMED IPA (WNI)/WELLMED VALLEY (Pod)",
          "all/Cigna/DS/ENCG/WESTRIDGE",
          "all/Cigna/AZ/(AZ NON-MA OTHER)",
          "all/Aetna/TX/(TX NON-MA OTHER)",
          "all/Cigna/TX/(TX NON-MA OTHER)",
          "all/Humana/TX/(TX NON-MA OTHER)",
          "all/Aetna/TX/ALPINE TX (ALPTX)",
          "all/Aetna/CAC/CAC - TX",
          "all/Cigna/TX/CAREMAX TX",
          "all/Cigna/TX/CENTERWELL SENIOR PRIMARY CARE - TX(CENTERTX)",
          "all/Aetna/TX/EL PASO INTEGRAL CARE (EPIC)",
          "all/Cigna/DS/ENCG",
          "all/Cigna/DS/IPN",
          "all/Unknown/MSSP/MSSP - FL",
          "all/Aetna/TX/RENAISSANCE (RPO)",
          "all/Cigna/TX/RENAISSANCE (RPO)",
          "all/Aetna/Med Adv/TX",
          "all/Humana/Med Adv/TX",
          "all/Cigna/TX/TXS INDEPENDENT",
          "all/Aetna/Unknown/Unknown",
          "all/Cigna/Unknown/Unknown",
          "all/Humana/Unknown/Unknown",
          "all/Unknown/Unknown/Unknown",
          "all/Aetna/TX/VALLEY ORGANIZED PHYSICIANS LLC (VOP)",
          "all/Cigna/TX/VILLAGEMD - HOUSTON (VMDHSTN)",
          "all/Aetna/TX/WELLMED IPA (WNI)",
          "all/Cigna/TX/WELLMED IPA (WNI)",
          "all/Cigna/AZ",
          "all/Aetna/CAC",
          "all/Cigna/DS",
          "all/Unknown/MSSP",
          "all/Aetna/Med Adv",
          "all/Humana/Med Adv",
          "all/Aetna/TX",
          "all/Cigna/TX",
          "all/Humana/TX",
          "all/Aetna/Unknown",
          "all/Cigna/Unknown",
          "all/Humana/Unknown",
          "all/Unknown/Unknown",
          "all/Aetna",
          "all/Cigna",
          "all/Humana",
          "all/Unknown",
          "all"
         ],
         "labels": [
          "(AZ NON-MA OTHER)",
          "(TX NON-MA OTHER)",
          "(TX NON-MA OTHER)",
          "(TX NON-MA OTHER)",
          "ACE POD",
          "ALPINE TX SOUTH - GLOBAL (Pod)",
          "APACHE JUNCTION",
          "ARROWHEAD RANCH",
          "ASTRANA CARE PARTNERS- TEXAS (Pod)",
          "CAREMAX TX (Pod)",
          "CENTERWELL (Pod)",
          "CENTERWELL SENIOR PRIMARY CARE (Pod)",
          "CHI ST LUKES HEALTH NETWORK (Pod)",
          "CJ HARRIS",
          "DIRECT CORPUS (Pod)",
          "DOCTORS ORGANIZE CARE (Pod)",
          "EL PASO INTEGRAL CARE LLC",
          "GENESIS STX (Pod)",
          "HIDALGO OFFERS PHYSICIAN EXCELLENCE (Pod)",
          "INTEGRANET HOUSTON POD",
          "LOWER VALLEY PHYSICIAN ALLIANCE (Pod)",
          "NAPLES COMMUNITY HEALTH",
          "PALM VALLEY",
          "RPO CENTRAL (Pod)",
          "RPO CENTRAL (Pod)",
          "RPO EASTEX (Pod)",
          "RPO EASTSIDE (Pod)",
          "RPO NORTHSIDE (Pod)",
          "RPO SOUTHSIDE (Pod)",
          "RPO SOUTHSIDE (Pod)",
          "RPO WESTSIDE (Pod)",
          "RPO WESTSIDE (Pod)",
          "SCOTTSDALE",
          "STAPLEY",
          "SUN CITY",
          "TXS",
          "TXS",
          "TXS (CAC)",
          "UTPHYSICIANS POD",
          "Unknown",
          "Unknown",
          "Unknown",
          "Unknown",
          "VALLEY INTEGRATED PHYSICIANS",
          "VILLAGE MD (Pod)",
          "WELLMED ELPASO (Pod)",
          "WELLMED VALLEY (Pod)",
          "WESTRIDGE",
          "(AZ NON-MA OTHER)",
          "(TX NON-MA OTHER)",
          "(TX NON-MA OTHER)",
          "(TX NON-MA OTHER)",
          "ALPINE TX (ALPTX)",
          "CAC - TX",
          "CAREMAX TX",
          "CENTERWELL SENIOR PRIMARY CARE - TX(CENTERTX)",
          "EL PASO INTEGRAL CARE (EPIC)",
          "ENCG",
          "IPN",
          "MSSP - FL",
          "RENAISSANCE (RPO)",
          "RENAISSANCE (RPO)",
          "TX",
          "TX",
          "TXS INDEPENDENT",
          "Unknown",
          "Unknown",
          "Unknown",
          "Unknown",
          "VALLEY ORGANIZED PHYSICIANS LLC (VOP)",
          "VILLAGEMD - HOUSTON (VMDHSTN)",
          "WELLMED IPA (WNI)",
          "WELLMED IPA (WNI)",
          "AZ",
          "CAC",
          "DS",
          "MSSP",
          "Med Adv",
          "Med Adv",
          "TX",
          "TX",
          "TX",
          "Unknown",
          "Unknown",
          "Unknown",
          "Unknown",
          "Aetna",
          "Cigna",
          "Humana",
          "Unknown",
          "all"
         ],
         "name": "",
         "parents": [
          "all/Cigna/AZ/(AZ NON-MA OTHER)",
          "all/Aetna/TX/(TX NON-MA OTHER)",
          "all/Cigna/TX/(TX NON-MA OTHER)",
          "all/Humana/TX/(TX NON-MA OTHER)",
          "all/Cigna/TX/TXS INDEPENDENT",
          "all/Aetna/TX/ALPINE TX (ALPTX)",
          "all/Cigna/DS/ENCG",
          "all/Cigna/DS/ENCG",
          "all/Cigna/TX/TXS INDEPENDENT",
          "all/Cigna/TX/CAREMAX TX",
          "all/Cigna/DS/IPN",
          "all/Cigna/TX/CENTERWELL SENIOR PRIMARY CARE - TX(CENTERTX)",
          "all/Cigna/TX/TXS INDEPENDENT",
          "all/Cigna/DS/ENCG",
          "all/Cigna/TX/TXS INDEPENDENT",
          "all/Aetna/TX/VALLEY ORGANIZED PHYSICIANS LLC (VOP)",
          "all/Aetna/TX/EL PASO INTEGRAL CARE (EPIC)",
          "all/Cigna/TX/TXS INDEPENDENT",
          "all/Aetna/TX/VALLEY ORGANIZED PHYSICIANS LLC (VOP)",
          "all/Cigna/TX/TXS INDEPENDENT",
          "all/Aetna/TX/VALLEY ORGANIZED PHYSICIANS LLC (VOP)",
          "all/Unknown/MSSP/MSSP - FL",
          "all/Cigna/DS/ENCG",
          "all/Aetna/TX/RENAISSANCE (RPO)",
          "all/Cigna/TX/RENAISSANCE (RPO)",
          "all/Cigna/TX/RENAISSANCE (RPO)",
          "all/Cigna/TX/RENAISSANCE (RPO)",
          "all/Cigna/TX/RENAISSANCE (RPO)",
          "all/Aetna/TX/RENAISSANCE (RPO)",
          "all/Cigna/TX/RENAISSANCE (RPO)",
          "all/Aetna/TX/RENAISSANCE (RPO)",
          "all/Cigna/TX/RENAISSANCE (RPO)",
          "all/Cigna/DS/ENCG",
          "all/Cigna/DS/ENCG",
          "all/Cigna/DS/ENCG",
          "all/Aetna/Med Adv/TX",
          "all/Humana/Med Adv/TX",
          "all/Aetna/CAC/CAC - TX",
          "all/Cigna/TX/TXS INDEPENDENT",
          "all/Aetna/Unknown/Unknown",
          "all/Cigna/Unknown/Unknown",
          "all/Humana/Unknown/Unknown",
          "all/Unknown/Unknown/Unknown",
          "all/Aetna/TX/VALLEY ORGANIZED PHYSICIANS LLC (VOP)",
          "all/Cigna/TX/VILLAGEMD - HOUSTON (VMDHSTN)",
          "all/Cigna/TX/WELLMED IPA (WNI)",
          "all/Aetna/TX/WELLMED IPA (WNI)",
          "all/Cigna/DS/ENCG",
          "all/Cigna/AZ",
          "all/Aetna/TX",
          "all/Cigna/TX",
          "all/Humana/TX",
          "all/Aetna/TX",
          "all/Aetna/CAC",
          "all/Cigna/TX",
          "all/Cigna/TX",
          "all/Aetna/TX",
          "all/Cigna/DS",
          "all/Cigna/DS",
          "all/Unknown/MSSP",
          "all/Aetna/TX",
          "all/Cigna/TX",
          "all/Aetna/Med Adv",
          "all/Humana/Med Adv",
          "all/Cigna/TX",
          "all/Aetna/Unknown",
          "all/Cigna/Unknown",
          "all/Humana/Unknown",
          "all/Unknown/Unknown",
          "all/Aetna/TX",
          "all/Cigna/TX",
          "all/Aetna/TX",
          "all/Cigna/TX",
          "all/Cigna",
          "all/Aetna",
          "all/Cigna",
          "all/Unknown",
          "all/Aetna",
          "all/Humana",
          "all/Aetna",
          "all/Cigna",
          "all/Humana",
          "all/Aetna",
          "all/Cigna",
          "all/Humana",
          "all/Unknown",
          "all",
          "all",
          "all",
          "all",
          ""
         ],
         "root": {
          "color": "lightgrey"
         },
         "tiling": {
          "orientation": "v",
          "pad": 0.01
         },
         "type": "icicle",
         "values": [
          3,
          12,
          6,
          1,
          1,
          1,
          1,
          1,
          3,
          2,
          1,
          1,
          1,
          1,
          2,
          4,
          10,
          5,
          4,
          5,
          5,
          94,
          2,
          2,
          6,
          5,
          6,
          5,
          2,
          6,
          1,
          5,
          1,
          1,
          3,
          31,
          14,
          28,
          2,
          14,
          22,
          1,
          1,
          4,
          1,
          1,
          10,
          1,
          3,
          12,
          6,
          1,
          1,
          28,
          2,
          1,
          10,
          11,
          1,
          94,
          5,
          33,
          31,
          14,
          19,
          14,
          22,
          1,
          1,
          17,
          1,
          10,
          1,
          3,
          28,
          12,
          94,
          31,
          14,
          55,
          63,
          1,
          14,
          22,
          1,
          1,
          128,
          100,
          16,
          95,
          339
         ]
        }
       ],
       "layout": {
        "height": 600,
        "legend": {
         "tracegroupgap": 0
        },
        "margin": {
         "b": 25,
         "l": 25,
         "r": 25,
         "t": 50
        },
        "template": {
         "data": {
          "bar": [
           {
            "error_x": {
             "color": "#2a3f5f"
            },
            "error_y": {
             "color": "#2a3f5f"
            },
            "marker": {
             "line": {
              "color": "#E5ECF6",
              "width": 0.5
             },
             "pattern": {
              "fillmode": "overlay",
              "size": 10,
              "solidity": 0.2
             }
            },
            "type": "bar"
           }
          ],
          "barpolar": [
           {
            "marker": {
             "line": {
              "color": "#E5ECF6",
              "width": 0.5
             },
             "pattern": {
              "fillmode": "overlay",
              "size": 10,
              "solidity": 0.2
             }
            },
            "type": "barpolar"
           }
          ],
          "carpet": [
           {
            "aaxis": {
             "endlinecolor": "#2a3f5f",
             "gridcolor": "white",
             "linecolor": "white",
             "minorgridcolor": "white",
             "startlinecolor": "#2a3f5f"
            },
            "baxis": {
             "endlinecolor": "#2a3f5f",
             "gridcolor": "white",
             "linecolor": "white",
             "minorgridcolor": "white",
             "startlinecolor": "#2a3f5f"
            },
            "type": "carpet"
           }
          ],
          "choropleth": [
           {
            "colorbar": {
             "outlinewidth": 0,
             "ticks": ""
            },
            "type": "choropleth"
           }
          ],
          "contour": [
           {
            "colorbar": {
             "outlinewidth": 0,
             "ticks": ""
            },
            "colorscale": [
             [
              0,
              "#0d0887"
             ],
             [
              0.1111111111111111,
              "#46039f"
             ],
             [
              0.2222222222222222,
              "#7201a8"
             ],
             [
              0.3333333333333333,
              "#9c179e"
             ],
             [
              0.4444444444444444,
              "#bd3786"
             ],
             [
              0.5555555555555556,
              "#d8576b"
             ],
             [
              0.6666666666666666,
              "#ed7953"
             ],
             [
              0.7777777777777778,
              "#fb9f3a"
             ],
             [
              0.8888888888888888,
              "#fdca26"
             ],
             [
              1,
              "#f0f921"
             ]
            ],
            "type": "contour"
           }
          ],
          "contourcarpet": [
           {
            "colorbar": {
             "outlinewidth": 0,
             "ticks": ""
            },
            "type": "contourcarpet"
           }
          ],
          "heatmap": [
           {
            "colorbar": {
             "outlinewidth": 0,
             "ticks": ""
            },
            "colorscale": [
             [
              0,
              "#0d0887"
             ],
             [
              0.1111111111111111,
              "#46039f"
             ],
             [
              0.2222222222222222,
              "#7201a8"
             ],
             [
              0.3333333333333333,
              "#9c179e"
             ],
             [
              0.4444444444444444,
              "#bd3786"
             ],
             [
              0.5555555555555556,
              "#d8576b"
             ],
             [
              0.6666666666666666,
              "#ed7953"
             ],
             [
              0.7777777777777778,
              "#fb9f3a"
             ],
             [
              0.8888888888888888,
              "#fdca26"
             ],
             [
              1,
              "#f0f921"
             ]
            ],
            "type": "heatmap"
           }
          ],
          "heatmapgl": [
           {
            "colorbar": {
             "outlinewidth": 0,
             "ticks": ""
            },
            "colorscale": [
             [
              0,
              "#0d0887"
             ],
             [
              0.1111111111111111,
              "#46039f"
             ],
             [
              0.2222222222222222,
              "#7201a8"
             ],
             [
              0.3333333333333333,
              "#9c179e"
             ],
             [
              0.4444444444444444,
              "#bd3786"
             ],
             [
              0.5555555555555556,
              "#d8576b"
             ],
             [
              0.6666666666666666,
              "#ed7953"
             ],
             [
              0.7777777777777778,
              "#fb9f3a"
             ],
             [
              0.8888888888888888,
              "#fdca26"
             ],
             [
              1,
              "#f0f921"
             ]
            ],
            "type": "heatmapgl"
           }
          ],
          "histogram": [
           {
            "marker": {
             "pattern": {
              "fillmode": "overlay",
              "size": 10,
              "solidity": 0.2
             }
            },
            "type": "histogram"
           }
          ],
          "histogram2d": [
           {
            "colorbar": {
             "outlinewidth": 0,
             "ticks": ""
            },
            "colorscale": [
             [
              0,
              "#0d0887"
             ],
             [
              0.1111111111111111,
              "#46039f"
             ],
             [
              0.2222222222222222,
              "#7201a8"
             ],
             [
              0.3333333333333333,
              "#9c179e"
             ],
             [
              0.4444444444444444,
              "#bd3786"
             ],
             [
              0.5555555555555556,
              "#d8576b"
             ],
             [
              0.6666666666666666,
              "#ed7953"
             ],
             [
              0.7777777777777778,
              "#fb9f3a"
             ],
             [
              0.8888888888888888,
              "#fdca26"
             ],
             [
              1,
              "#f0f921"
             ]
            ],
            "type": "histogram2d"
           }
          ],
          "histogram2dcontour": [
           {
            "colorbar": {
             "outlinewidth": 0,
             "ticks": ""
            },
            "colorscale": [
             [
              0,
              "#0d0887"
             ],
             [
              0.1111111111111111,
              "#46039f"
             ],
             [
              0.2222222222222222,
              "#7201a8"
             ],
             [
              0.3333333333333333,
              "#9c179e"
             ],
             [
              0.4444444444444444,
              "#bd3786"
             ],
             [
              0.5555555555555556,
              "#d8576b"
             ],
             [
              0.6666666666666666,
              "#ed7953"
             ],
             [
              0.7777777777777778,
              "#fb9f3a"
             ],
             [
              0.8888888888888888,
              "#fdca26"
             ],
             [
              1,
              "#f0f921"
             ]
            ],
            "type": "histogram2dcontour"
           }
          ],
          "mesh3d": [
           {
            "colorbar": {
             "outlinewidth": 0,
             "ticks": ""
            },
            "type": "mesh3d"
           }
          ],
          "parcoords": [
           {
            "line": {
             "colorbar": {
              "outlinewidth": 0,
              "ticks": ""
             }
            },
            "type": "parcoords"
           }
          ],
          "pie": [
           {
            "automargin": true,
            "type": "pie"
           }
          ],
          "scatter": [
           {
            "fillpattern": {
             "fillmode": "overlay",
             "size": 10,
             "solidity": 0.2
            },
            "type": "scatter"
           }
          ],
          "scatter3d": [
           {
            "line": {
             "colorbar": {
              "outlinewidth": 0,
              "ticks": ""
             }
            },
            "marker": {
             "colorbar": {
              "outlinewidth": 0,
              "ticks": ""
             }
            },
            "type": "scatter3d"
           }
          ],
          "scattercarpet": [
           {
            "marker": {
             "colorbar": {
              "outlinewidth": 0,
              "ticks": ""
             }
            },
            "type": "scattercarpet"
           }
          ],
          "scattergeo": [
           {
            "marker": {
             "colorbar": {
              "outlinewidth": 0,
              "ticks": ""
             }
            },
            "type": "scattergeo"
           }
          ],
          "scattergl": [
           {
            "marker": {
             "colorbar": {
              "outlinewidth": 0,
              "ticks": ""
             }
            },
            "type": "scattergl"
           }
          ],
          "scattermapbox": [
           {
            "marker": {
             "colorbar": {
              "outlinewidth": 0,
              "ticks": ""
             }
            },
            "type": "scattermapbox"
           }
          ],
          "scatterpolar": [
           {
            "marker": {
             "colorbar": {
              "outlinewidth": 0,
              "ticks": ""
             }
            },
            "type": "scatterpolar"
           }
          ],
          "scatterpolargl": [
           {
            "marker": {
             "colorbar": {
              "outlinewidth": 0,
              "ticks": ""
             }
            },
            "type": "scatterpolargl"
           }
          ],
          "scatterternary": [
           {
            "marker": {
             "colorbar": {
              "outlinewidth": 0,
              "ticks": ""
             }
            },
            "type": "scatterternary"
           }
          ],
          "surface": [
           {
            "colorbar": {
             "outlinewidth": 0,
             "ticks": ""
            },
            "colorscale": [
             [
              0,
              "#0d0887"
             ],
             [
              0.1111111111111111,
              "#46039f"
             ],
             [
              0.2222222222222222,
              "#7201a8"
             ],
             [
              0.3333333333333333,
              "#9c179e"
             ],
             [
              0.4444444444444444,
              "#bd3786"
             ],
             [
              0.5555555555555556,
              "#d8576b"
             ],
             [
              0.6666666666666666,
              "#ed7953"
             ],
             [
              0.7777777777777778,
              "#fb9f3a"
             ],
             [
              0.8888888888888888,
              "#fdca26"
             ],
             [
              1,
              "#f0f921"
             ]
            ],
            "type": "surface"
           }
          ],
          "table": [
           {
            "cells": {
             "fill": {
              "color": "#EBF0F8"
             },
             "line": {
              "color": "white"
             }
            },
            "header": {
             "fill": {
              "color": "#C8D4E3"
             },
             "line": {
              "color": "white"
             }
            },
            "type": "table"
           }
          ]
         },
         "layout": {
          "annotationdefaults": {
           "arrowcolor": "#2a3f5f",
           "arrowhead": 0,
           "arrowwidth": 1
          },
          "autotypenumbers": "strict",
          "coloraxis": {
           "colorbar": {
            "outlinewidth": 0,
            "ticks": ""
           }
          },
          "colorscale": {
           "diverging": [
            [
             0,
             "#8e0152"
            ],
            [
             0.1,
             "#c51b7d"
            ],
            [
             0.2,
             "#de77ae"
            ],
            [
             0.3,
             "#f1b6da"
            ],
            [
             0.4,
             "#fde0ef"
            ],
            [
             0.5,
             "#f7f7f7"
            ],
            [
             0.6,
             "#e6f5d0"
            ],
            [
             0.7,
             "#b8e186"
            ],
            [
             0.8,
             "#7fbc41"
            ],
            [
             0.9,
             "#4d9221"
            ],
            [
             1,
             "#276419"
            ]
           ],
           "sequential": [
            [
             0,
             "#0d0887"
            ],
            [
             0.1111111111111111,
             "#46039f"
            ],
            [
             0.2222222222222222,
             "#7201a8"
            ],
            [
             0.3333333333333333,
             "#9c179e"
            ],
            [
             0.4444444444444444,
             "#bd3786"
            ],
            [
             0.5555555555555556,
             "#d8576b"
            ],
            [
             0.6666666666666666,
             "#ed7953"
            ],
            [
             0.7777777777777778,
             "#fb9f3a"
            ],
            [
             0.8888888888888888,
             "#fdca26"
            ],
            [
             1,
             "#f0f921"
            ]
           ],
           "sequentialminus": [
            [
             0,
             "#0d0887"
            ],
            [
             0.1111111111111111,
             "#46039f"
            ],
            [
             0.2222222222222222,
             "#7201a8"
            ],
            [
             0.3333333333333333,
             "#9c179e"
            ],
            [
             0.4444444444444444,
             "#bd3786"
            ],
            [
             0.5555555555555556,
             "#d8576b"
            ],
            [
             0.6666666666666666,
             "#ed7953"
            ],
            [
             0.7777777777777778,
             "#fb9f3a"
            ],
            [
             0.8888888888888888,
             "#fdca26"
            ],
            [
             1,
             "#f0f921"
            ]
           ]
          },
          "colorway": [
           "#636efa",
           "#EF553B",
           "#00cc96",
           "#ab63fa",
           "#FFA15A",
           "#19d3f3",
           "#FF6692",
           "#B6E880",
           "#FF97FF",
           "#FECB52"
          ],
          "font": {
           "color": "#2a3f5f"
          },
          "geo": {
           "bgcolor": "white",
           "lakecolor": "white",
           "landcolor": "#E5ECF6",
           "showlakes": true,
           "showland": true,
           "subunitcolor": "white"
          },
          "hoverlabel": {
           "align": "left"
          },
          "hovermode": "closest",
          "mapbox": {
           "style": "light"
          },
          "paper_bgcolor": "white",
          "plot_bgcolor": "#E5ECF6",
          "polar": {
           "angularaxis": {
            "gridcolor": "white",
            "linecolor": "white",
            "ticks": ""
           },
           "bgcolor": "#E5ECF6",
           "radialaxis": {
            "gridcolor": "white",
            "linecolor": "white",
            "ticks": ""
           }
          },
          "scene": {
           "xaxis": {
            "backgroundcolor": "#E5ECF6",
            "gridcolor": "white",
            "gridwidth": 2,
            "linecolor": "white",
            "showbackground": true,
            "ticks": "",
            "zerolinecolor": "white"
           },
           "yaxis": {
            "backgroundcolor": "#E5ECF6",
            "gridcolor": "white",
            "gridwidth": 2,
            "linecolor": "white",
            "showbackground": true,
            "ticks": "",
            "zerolinecolor": "white"
           },
           "zaxis": {
            "backgroundcolor": "#E5ECF6",
            "gridcolor": "white",
            "gridwidth": 2,
            "linecolor": "white",
            "showbackground": true,
            "ticks": "",
            "zerolinecolor": "white"
           }
          },
          "shapedefaults": {
           "line": {
            "color": "#2a3f5f"
           }
          },
          "ternary": {
           "aaxis": {
            "gridcolor": "white",
            "linecolor": "white",
            "ticks": ""
           },
           "baxis": {
            "gridcolor": "white",
            "linecolor": "white",
            "ticks": ""
           },
           "bgcolor": "#E5ECF6",
           "caxis": {
            "gridcolor": "white",
            "linecolor": "white",
            "ticks": ""
           }
          },
          "title": {
           "x": 0.05
          },
          "xaxis": {
           "automargin": true,
           "gridcolor": "white",
           "linecolor": "white",
           "ticks": "",
           "title": {
            "standoff": 15
           },
           "zerolinecolor": "white",
           "zerolinewidth": 2
          },
          "yaxis": {
           "automargin": true,
           "gridcolor": "white",
           "linecolor": "white",
           "ticks": "",
           "title": {
            "standoff": 15
           },
           "zerolinecolor": "white",
           "zerolinewidth": 2
          }
         }
        },
        "width": 1000
       }
      }
     },
     "metadata": {},
     "output_type": "display_data"
    }
   ],
   "source": [
    "fig = px.icicle(df, path=[px.Constant(\"all\"), 'Payer', 'PCPGrouper1', 'PCPGrouper2', 'PCPGrouper3'])\n",
    "fig.update_traces(root_color=\"lightgrey\")\n",
    "#fig.update_layout(margin = dict(t=50, l=25, r=25, b=25))\n",
    "fig.update_layout(\n",
    "    width=1000,  \n",
    "    height=600,  \n",
    "    margin=dict(t=50, l=25, r=25, b=25)\n",
    ")\n",
    "fig.update_traces(\n",
    "    root_color=\"lightgrey\",\n",
    "    tiling=dict(\n",
    "        orientation=\"v\",\n",
    "        pad=0.01,  # Key: Smaller pad = narrower root\n",
    "    ))\n"
   ]
  },
  {
   "cell_type": "code",
   "execution_count": null,
   "id": "1a297931",
   "metadata": {},
   "outputs": [],
   "source": []
  }
 ],
 "metadata": {
  "kernelspec": {
   "display_name": "Python 3",
   "language": "python",
   "name": "python3"
  },
  "language_info": {
   "codemirror_mode": {
    "name": "ipython",
    "version": 3
   },
   "file_extension": ".py",
   "mimetype": "text/x-python",
   "name": "python",
   "nbconvert_exporter": "python",
   "pygments_lexer": "ipython3",
   "version": "3.11.3"
  }
 },
 "nbformat": 4,
 "nbformat_minor": 5
}
