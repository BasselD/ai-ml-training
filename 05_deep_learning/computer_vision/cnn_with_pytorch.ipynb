{
  "cells": [
    {
      "cell_type": "code",
      "execution_count": 2,
      "metadata": {
        "id": "dbhIGhSZHPD-"
      },
      "outputs": [
        {
          "name": "stderr",
          "output_type": "stream",
          "text": [
            "/Library/Frameworks/Python.framework/Versions/3.11/lib/python3.11/site-packages/tqdm/auto.py:21: TqdmWarning: IProgress not found. Please update jupyter and ipywidgets. See https://ipywidgets.readthedocs.io/en/stable/user_install.html\n",
            "  from .autonotebook import tqdm as notebook_tqdm\n"
          ]
        }
      ],
      "source": [
        "import torch\n",
        "import torch.nn as nn\n",
        "import torch.optim as optim\n",
        "import torchvision\n",
        "from torchvision import datasets, transforms\n",
        "import matplotlib.pyplot as plt\n"
      ]
    },
    {
      "cell_type": "code",
      "execution_count": 3,
      "metadata": {
        "colab": {
          "base_uri": "https://localhost:8080/"
        },
        "id": "sbFO3iXEHQI3",
        "outputId": "3dee6f98-7779-4a83-c8cf-3cce86b4d19c"
      },
      "outputs": [
        {
          "name": "stdout",
          "output_type": "stream",
          "text": [
            "Downloading http://fashion-mnist.s3-website.eu-central-1.amazonaws.com/train-images-idx3-ubyte.gz\n",
            "Downloading http://fashion-mnist.s3-website.eu-central-1.amazonaws.com/train-images-idx3-ubyte.gz to ./data/FashionMNIST/raw/train-images-idx3-ubyte.gz\n"
          ]
        },
        {
          "name": "stderr",
          "output_type": "stream",
          "text": [
            "100%|██████████| 26421880/26421880 [00:03<00:00, 7740550.32it/s] \n"
          ]
        },
        {
          "name": "stdout",
          "output_type": "stream",
          "text": [
            "Extracting ./data/FashionMNIST/raw/train-images-idx3-ubyte.gz to ./data/FashionMNIST/raw\n",
            "\n",
            "Downloading http://fashion-mnist.s3-website.eu-central-1.amazonaws.com/train-labels-idx1-ubyte.gz\n",
            "Downloading http://fashion-mnist.s3-website.eu-central-1.amazonaws.com/train-labels-idx1-ubyte.gz to ./data/FashionMNIST/raw/train-labels-idx1-ubyte.gz\n"
          ]
        },
        {
          "name": "stderr",
          "output_type": "stream",
          "text": [
            "100%|██████████| 29515/29515 [00:00<00:00, 254799.57it/s]\n"
          ]
        },
        {
          "name": "stdout",
          "output_type": "stream",
          "text": [
            "Extracting ./data/FashionMNIST/raw/train-labels-idx1-ubyte.gz to ./data/FashionMNIST/raw\n",
            "\n",
            "Downloading http://fashion-mnist.s3-website.eu-central-1.amazonaws.com/t10k-images-idx3-ubyte.gz\n",
            "Downloading http://fashion-mnist.s3-website.eu-central-1.amazonaws.com/t10k-images-idx3-ubyte.gz to ./data/FashionMNIST/raw/t10k-images-idx3-ubyte.gz\n"
          ]
        },
        {
          "name": "stderr",
          "output_type": "stream",
          "text": [
            "100%|██████████| 4422102/4422102 [00:00<00:00, 4638570.64it/s]\n"
          ]
        },
        {
          "name": "stdout",
          "output_type": "stream",
          "text": [
            "Extracting ./data/FashionMNIST/raw/t10k-images-idx3-ubyte.gz to ./data/FashionMNIST/raw\n",
            "\n",
            "Downloading http://fashion-mnist.s3-website.eu-central-1.amazonaws.com/t10k-labels-idx1-ubyte.gz\n",
            "Downloading http://fashion-mnist.s3-website.eu-central-1.amazonaws.com/t10k-labels-idx1-ubyte.gz to ./data/FashionMNIST/raw/t10k-labels-idx1-ubyte.gz\n"
          ]
        },
        {
          "name": "stderr",
          "output_type": "stream",
          "text": [
            "100%|██████████| 5148/5148 [00:00<00:00, 10277142.79it/s]"
          ]
        },
        {
          "name": "stdout",
          "output_type": "stream",
          "text": [
            "Extracting ./data/FashionMNIST/raw/t10k-labels-idx1-ubyte.gz to ./data/FashionMNIST/raw\n",
            "\n",
            "Training data: 60000 samples\n",
            "Testing data: 10000 samples\n"
          ]
        },
        {
          "name": "stderr",
          "output_type": "stream",
          "text": [
            "\n"
          ]
        }
      ],
      "source": [
        "# Data preprocessing: normalization\n",
        "transform = transforms.Compose([\n",
        "    transforms.ToTensor(),\n",
        "    transforms.Normalize((0.5,), (0.5,))\n",
        "])\n",
        "\n",
        "# Loading the dataset\n",
        "train_dataset = datasets.FashionMNIST(root='./data', train=True, download=True, transform=transform)\n",
        "test_dataset = datasets.FashionMNIST(root='./data', train=False, download=True, transform=transform)\n",
        "\n",
        "train_loader = torch.utils.data.DataLoader(train_dataset, batch_size=32, shuffle=True)\n",
        "test_loader = torch.utils.data.DataLoader(test_dataset, batch_size=32, shuffle=False)\n",
        "\n",
        "# Printing the shape of the datasets\n",
        "print(f'Training data: {len(train_dataset)} samples')\n",
        "print(f'Testing data: {len(test_dataset)} samples')\n"
      ]
    },
    {
      "cell_type": "code",
      "execution_count": 9,
      "metadata": {},
      "outputs": [
        {
          "name": "stdout",
          "output_type": "stream",
          "text": [
            "tensor([[[-1.0000, -1.0000, -1.0000, -1.0000, -1.0000, -1.0000, -1.0000,\n",
            "          -1.0000, -0.7412, -0.2471,  0.3725,  0.2235, -0.4980, -0.8902,\n",
            "          -0.5765,  0.0745,  0.6000,  0.5216, -0.2000, -1.0000, -1.0000,\n",
            "          -1.0000, -1.0000, -1.0000, -1.0000, -1.0000, -1.0000, -1.0000],\n",
            "         [-1.0000, -1.0000, -1.0000, -1.0000, -1.0000, -1.0000, -0.4275,\n",
            "           0.4588,  0.3882,  0.4353,  0.3725,  0.4745,  0.8196,  1.0000,\n",
            "           0.7490,  0.7176,  0.5216,  0.4039,  0.4588,  0.6706,  0.1451,\n",
            "          -1.0000, -1.0000, -1.0000, -1.0000, -1.0000, -1.0000, -1.0000],\n",
            "         [-1.0000, -1.0000, -1.0000, -1.0000, -1.0000, -0.7255,  0.2784,\n",
            "           0.0980,  0.1765,  0.1922,  0.1765,  0.1451,  0.3725,  0.3725,\n",
            "           0.3569,  0.3412,  0.2235,  0.1922,  0.1608,  0.0118,  0.2235,\n",
            "           0.0980, -1.0000, -1.0000, -1.0000, -1.0000, -1.0000, -1.0000],\n",
            "         [-1.0000, -1.0000, -1.0000, -1.0000, -1.0000,  0.1765,  0.1137,\n",
            "           0.0980,  0.1922,  0.2549,  0.2235,  0.1451,  0.1137, -0.0039,\n",
            "           0.0588,  0.0431,  0.0980,  0.0980,  0.0745,  0.0431, -0.0196,\n",
            "           0.3255, -0.4118, -1.0000, -1.0000, -1.0000, -1.0000, -1.0000],\n",
            "         [-1.0000, -1.0000, -1.0000, -1.0000, -1.0000, -0.5765,  0.3098,\n",
            "           0.1451,  0.0118,  0.1137,  0.0745,  0.0745,  0.0275,  0.1608,\n",
            "           0.1608,  0.0431,  0.0275,  0.0275,  0.0275, -0.0196,  0.0980,\n",
            "           0.0980, -1.0000, -1.0000, -1.0000, -1.0000, -1.0000, -1.0000],\n",
            "         [-1.0000, -1.0000, -1.0000, -1.0000, -1.0000, -1.0000, -0.1373,\n",
            "           0.4745,  0.0431,  0.1451,  0.1922,  0.0431, -0.0196, -0.0039,\n",
            "          -0.0667,  0.0118,  0.0431, -0.0667,  0.0980,  0.0275,  0.1765,\n",
            "          -0.8902, -1.0000, -1.0000, -1.0000, -1.0000, -1.0000, -1.0000],\n",
            "         [-1.0000, -1.0000, -1.0000, -1.0000, -1.0000, -1.0000, -1.0000,\n",
            "           0.7333,  0.2392,  0.0745,  0.0588, -0.0353, -0.1373, -0.1373,\n",
            "          -0.1059, -0.1529, -0.1216, -0.0824, -0.0039,  0.1137, -0.3961,\n",
            "          -1.0000, -1.0000, -1.0000, -1.0000, -1.0000, -1.0000, -1.0000],\n",
            "         [-1.0000, -1.0000, -1.0000, -1.0000, -1.0000, -0.9686, -1.0000,\n",
            "          -0.8039,  0.2392,  0.0745, -0.0196, -0.0667, -0.0667, -0.1373,\n",
            "          -0.0824, -0.0824, -0.1373, -0.0667, -0.0039,  0.1294, -1.0000,\n",
            "          -1.0000, -1.0000, -1.0000, -1.0000, -1.0000, -1.0000, -1.0000],\n",
            "         [-1.0000, -1.0000, -1.0000, -1.0000, -1.0000, -1.0000, -1.0000,\n",
            "          -1.0000, -0.0353,  0.2235,  0.0118, -0.1216, -0.1373, -0.2000,\n",
            "          -0.1216, -0.2157, -0.0510, -0.0824,  0.0118, -0.1059, -1.0000,\n",
            "          -1.0000, -1.0000, -1.0000, -1.0000, -1.0000, -1.0000, -1.0000],\n",
            "         [-1.0000, -1.0000, -1.0000, -1.0000, -1.0000, -1.0000, -1.0000,\n",
            "          -1.0000, -0.0196,  0.3255, -0.0039, -0.0667, -0.1686, -0.1529,\n",
            "          -0.1843, -0.2627, -0.0510, -0.1059,  0.0118, -0.2863, -1.0000,\n",
            "          -1.0000, -1.0000, -1.0000, -1.0000, -1.0000, -1.0000, -1.0000],\n",
            "         [-1.0000, -1.0000, -1.0000, -1.0000, -1.0000, -1.0000, -0.9843,\n",
            "          -1.0000, -0.2314,  0.3412,  0.0118, -0.1216, -0.1843, -0.1059,\n",
            "          -0.1686, -0.2000, -0.1216, -0.1843,  0.0431, -0.4980, -1.0000,\n",
            "          -0.9686, -1.0000, -1.0000, -1.0000, -1.0000, -1.0000, -1.0000],\n",
            "         [-1.0000, -1.0000, -1.0000, -1.0000, -1.0000, -1.0000, -0.9843,\n",
            "          -1.0000, -0.4824,  0.3569,  0.0588,  0.0118, -0.2314, -0.2157,\n",
            "          -0.0667, -0.2000, -0.1529, -0.2314,  0.0588, -0.5294, -1.0000,\n",
            "          -0.9686, -1.0000, -1.0000, -1.0000, -1.0000, -1.0000, -1.0000],\n",
            "         [-1.0000, -1.0000, -1.0000, -1.0000, -1.0000, -1.0000, -0.9843,\n",
            "          -1.0000, -0.5608,  0.3412,  0.0588, -0.0039, -0.2157, -0.1529,\n",
            "          -0.0824, -0.3333, -0.1686, -0.1373,  0.0588, -0.4824, -1.0000,\n",
            "          -0.9686, -1.0000, -1.0000, -1.0000, -1.0000, -1.0000, -1.0000],\n",
            "         [-1.0000, -1.0000, -1.0000, -1.0000, -1.0000, -1.0000, -1.0000,\n",
            "          -1.0000, -0.5922,  0.1765,  0.0118, -0.1373, -0.2157, -0.2863,\n",
            "          -0.2000, -0.2627, -0.3490, -0.1843, -0.0353, -0.4824, -1.0000,\n",
            "          -0.9686, -1.0000, -1.0000, -1.0000, -1.0000, -1.0000, -1.0000],\n",
            "         [-1.0000, -1.0000, -1.0000, -1.0000, -1.0000, -1.0000, -0.9843,\n",
            "          -1.0000, -0.4824,  0.3098,  0.0980,  0.1608,  0.1608, -0.0039,\n",
            "           0.0745,  0.1922,  0.1451,  0.1451,  0.1608, -0.2471, -1.0000,\n",
            "          -1.0000, -1.0000, -1.0000, -1.0000, -1.0000, -1.0000, -1.0000],\n",
            "         [-1.0000, -1.0000, -1.0000, -1.0000, -1.0000, -1.0000, -1.0000,\n",
            "          -1.0000, -0.6471, -0.0353, -0.2627, -0.1843, -0.2471, -0.0667,\n",
            "          -0.0510, -0.1686, -0.2314, -0.1216, -0.3176, -0.1059, -1.0000,\n",
            "          -1.0000, -1.0000, -1.0000, -1.0000, -1.0000, -1.0000, -1.0000],\n",
            "         [-1.0000, -1.0000, -1.0000, -1.0000, -1.0000, -1.0000, -1.0000,\n",
            "          -1.0000, -0.1686, -0.3020, -0.5451, -0.6078, -0.7098, -0.6078,\n",
            "          -0.4824, -0.5608, -0.6078, -0.4118, -0.4118,  0.0745, -0.8275,\n",
            "          -1.0000, -0.9843, -1.0000, -1.0000, -1.0000, -1.0000, -1.0000],\n",
            "         [-1.0000, -1.0000, -1.0000, -1.0000, -1.0000, -0.9843, -1.0000,\n",
            "          -0.7725,  0.1608, -0.1059, -0.1686, -0.0196, -0.3020, -0.2157,\n",
            "           0.0431, -0.0824,  0.0275,  0.0275,  0.0275, -0.0196, -0.1216,\n",
            "          -1.0000, -1.0000, -1.0000, -1.0000, -1.0000, -1.0000, -1.0000],\n",
            "         [-1.0000, -1.0000, -1.0000, -1.0000, -1.0000, -1.0000, -1.0000,\n",
            "          -0.2157, -0.1686, -0.1059, -0.2863,  0.0745, -0.5137, -0.2000,\n",
            "           0.0275, -0.3020,  0.0588, -0.1216,  0.0275, -0.1529,  0.0588,\n",
            "          -0.7098, -1.0000, -1.0000, -1.0000, -1.0000, -1.0000, -1.0000],\n",
            "         [-1.0000, -1.0000, -1.0000, -1.0000, -1.0000, -1.0000, -1.0000,\n",
            "           0.1451, -0.2157, -0.1529, -0.2314,  0.1294, -0.5137, -0.1686,\n",
            "           0.0275, -0.3176,  0.0431, -0.1843,  0.2549, -0.0824, -0.0510,\n",
            "          -0.4667, -1.0000, -1.0000, -1.0000, -1.0000, -1.0000, -1.0000],\n",
            "         [-1.0000, -1.0000, -1.0000, -1.0000, -1.0000, -1.0000, -0.7412,\n",
            "          -0.0510, -0.1529, -0.2471, -0.2157,  0.0980, -0.4431, -0.1686,\n",
            "          -0.0039, -0.3333,  0.0980, -0.1843,  0.1765,  0.0980, -0.1059,\n",
            "          -0.3020, -1.0000, -1.0000, -1.0000, -1.0000, -1.0000, -1.0000],\n",
            "         [-1.0000, -1.0000, -1.0000, -1.0000, -1.0000, -1.0000, -0.5137,\n",
            "          -0.0667, -0.1216, -0.2000, -0.1373,  0.0745, -0.4118, -0.1686,\n",
            "           0.1294, -0.3647,  0.1294, -0.1529, -0.0824,  0.2078, -0.0824,\n",
            "          -0.1843, -0.8588, -1.0000, -1.0000, -1.0000, -1.0000, -1.0000],\n",
            "         [-1.0000, -1.0000, -1.0000, -1.0000, -1.0000, -1.0000, -0.4824,\n",
            "          -0.0510, -0.2000, -0.1216, -0.0824,  0.0275, -0.4275, -0.1843,\n",
            "           0.2235, -0.3961,  0.0745,  0.0588, -0.3490,  0.4039,  0.0118,\n",
            "          -0.0510, -0.7255, -1.0000, -1.0000, -1.0000, -1.0000, -1.0000],\n",
            "         [-1.0000, -1.0000, -1.0000, -1.0000, -1.0000, -1.0000, -0.3333,\n",
            "          -0.0039, -0.3647, -0.0196,  0.0431, -0.0667, -0.3804, -0.2157,\n",
            "           0.3255, -0.3490,  0.0118,  0.3725, -0.5294,  0.2784,  0.0588,\n",
            "           0.1451, -0.6941, -1.0000, -1.0000, -1.0000, -1.0000, -1.0000],\n",
            "         [-1.0000, -1.0000, -1.0000, -1.0000, -1.0000, -1.0000, -0.1686,\n",
            "           0.0118, -0.5137,  0.0980,  0.1294, -0.1529, -0.3333, -0.3490,\n",
            "           0.2392, -0.3333,  0.0118,  0.3725, -0.6235,  0.1451,  0.0431,\n",
            "           0.0588, -0.4980, -1.0000, -1.0000, -1.0000, -1.0000, -1.0000],\n",
            "         [-1.0000, -1.0000, -1.0000, -1.0000, -1.0000, -1.0000, -0.0824,\n",
            "          -0.0667, -0.3804,  0.0980,  0.1922, -0.2000, -0.3020, -0.1373,\n",
            "           0.0745, -0.2471,  0.1765,  0.5373, -0.3490,  0.1294,  0.0588,\n",
            "           0.0431, -0.3961, -1.0000, -1.0000, -1.0000, -1.0000, -1.0000],\n",
            "         [-1.0000, -1.0000, -1.0000, -1.0000, -1.0000, -1.0000,  0.2078,\n",
            "          -0.0510, -0.3176,  0.0980,  0.2078, -0.1216, -0.2627, -0.5922,\n",
            "           0.1137, -0.2157, -0.3490,  0.1922, -0.3333,  0.2549,  0.0431,\n",
            "          -0.2157, -0.9059, -1.0000, -1.0000, -1.0000, -1.0000, -1.0000],\n",
            "         [-1.0000, -1.0000, -1.0000, -1.0000, -1.0000, -1.0000, -0.9686,\n",
            "          -1.0000, -0.9843, -1.0000, -0.7255, -0.9686, -0.7412, -1.0000,\n",
            "          -1.0000, -1.0000, -1.0000, -1.0000, -1.0000, -1.0000, -1.0000,\n",
            "          -1.0000, -1.0000, -1.0000, -1.0000, -1.0000, -1.0000, -1.0000]]]) 3\n"
          ]
        }
      ],
      "source": [
        "\n",
        "image, label = train_dataset[3]  # Replace 'random_index' with an actual integer index\n",
        "print(image, label)"
      ]
    },
    {
      "cell_type": "code",
      "execution_count": 11,
      "metadata": {},
      "outputs": [
        {
          "data": {
            "image/png": "[encoded data removed]",
            "text/plain": [
              "<Figure size 640x480 with 1 Axes>"
            ]
          },
          "metadata": {},
          "output_type": "display_data"
        }
      ],
      "source": [
        "# Transform image back to a format suitable for display\n",
        "image = image.squeeze(0)  \n",
        "\n",
        "# Get clothing type based on label\n",
        "clothing_types = ['T-shirt/top', 'Trouser', 'Pullover', 'Dress', 'Coat', \n",
        "                  'Sandal', 'Shirt', 'Sneaker', 'Bag', 'Ankle boot']\n",
        "clothing_type = clothing_types[label]\n",
        "\n",
        "# Plot the image with label\n",
        "plt.imshow(image, cmap='gray')\n",
        "plt.title(f\"Clothing Type: {clothing_type}\")\n",
        "plt.axis('off')\n",
        "plt.show()"
      ]
    },
    {
      "cell_type": "code",
      "execution_count": 5,
      "metadata": {
        "id": "M7B9NI0GHW6N"
      },
      "outputs": [],
      "source": [
        "class CNN(nn.Module): #The CNN class inherits from nn.Module and defines the architecture of the neural network.\n",
        "    def __init__(self):\n",
        "        # we'll build 1 conv layer with max pooling\n",
        "        super(CNN, self).__init__()\n",
        "        self.conv1 = nn.Conv2d(1, 32, 3, 1)  # 1 input channel, 32 output channels, 3x3 kernel\n",
        "        self.pool = nn.MaxPool2d(2, 2)  # 2x2 pooling\n",
        "        self.fc1 = nn.Linear(13*13*32, 100)  # Flattened dimensions after pooling\n",
        "        self.fc2 = nn.Linear(100, 10)  # 10 classes for FashionMNIST\n",
        "#The forward method defines the forward pass of the network, specifying how input data flows through the layers\n",
        "    def forward(self, x):\n",
        "        x = self.conv1(x)\n",
        "        x = nn.ReLU()(x)\n",
        "        x = self.pool(x)\n",
        "        x = x.view(-1, 13*13*32)  # Flatten\n",
        "        x = self.fc1(x)\n",
        "        x = nn.ReLU()(x)\n",
        "        x = self.fc2(x)\n",
        "        return nn.Softmax(dim=1)(x)\n",
        "\n",
        "model = CNN()"
      ]
    },
    {
      "cell_type": "code",
      "execution_count": 6,
      "metadata": {
        "colab": {
          "base_uri": "https://localhost:8080/"
        },
        "id": "lYQXFP23HcoL",
        "outputId": "37e1b1d4-db21-43ad-d51b-53d6912b4033"
      },
      "outputs": [
        {
          "name": "stdout",
          "output_type": "stream",
          "text": [
            "Epoch 1/10, Loss: 1.7287398681640624\n",
            "Epoch 2/10, Loss: 1.6681228606541951\n",
            "Epoch 3/10, Loss: 1.6129674882888794\n",
            "Epoch 4/10, Loss: 1.5715553172429402\n",
            "Epoch 5/10, Loss: 1.559471510887146\n",
            "Epoch 6/10, Loss: 1.553053243192037\n",
            "Epoch 7/10, Loss: 1.5483681617736818\n",
            "Epoch 8/10, Loss: 1.5442821836471559\n",
            "Epoch 9/10, Loss: 1.540566241900126\n",
            "Epoch 10/10, Loss: 1.5361587794621785\n"
          ]
        }
      ],
      "source": [
        "# Setting up the loss and optimizer\n",
        "#The loss function is defined using nn.CrossEntropyLoss(), which is suitable for multi-class classification tasks.\n",
        "criterion = nn.CrossEntropyLoss()\n",
        "optimizer = optim.Adam(model.parameters(), lr=0.001)\n",
        "\n",
        "# Training the model for 10 epochs\n",
        "num_epochs = 10\n",
        "for epoch in range(num_epochs):\n",
        "    model.train()\n",
        "    running_loss = 0.0\n",
        "    for images, labels in train_loader: #The training data is iterated over in batches using a data loader (train_loader).\n",
        "\n",
        "        # Zero the parameter gradients\n",
        "        optimizer.zero_grad()\n",
        "\n",
        "        # Forward + backward + optimize\n",
        "        outputs = model(images)\n",
        "        loss = criterion(outputs, labels)\n",
        "        loss.backward()\n",
        "        optimizer.step()\n",
        "\n",
        "        running_loss += loss.item()\n",
        "\n",
        "    print(f\"Epoch {epoch+1}/{num_epochs}, Loss: {running_loss/len(train_loader)}\")"
      ]
    },
    {
      "cell_type": "code",
      "execution_count": 8,
      "metadata": {
        "colab": {
          "base_uri": "https://localhost:8080/"
        },
        "id": "zFubvmv-Hfmx",
        "outputId": "17fbbc41-c4ee-4f3c-d57e-55638e4b6384"
      },
      "outputs": [
        {
          "name": "stdout",
          "output_type": "stream",
          "text": [
            "Model accuracy on test set: 90.08%\n"
          ]
        }
      ],
      "source": [
        "model.eval()\n",
        "correct = 0\n",
        "total = 0\n",
        "with torch.no_grad():\n",
        "    for images, labels in test_loader:\n",
        "        outputs = model(images)\n",
        "        _, predicted = torch.max(outputs.data, 1)\n",
        "        total += labels.size(0)\n",
        "        correct += (predicted == labels).sum().item()\n",
        "\n",
        "accuracy = 100 * correct / total\n",
        "print(f\"Model accuracy on test set: {accuracy}%\")"
      ]
    },
    {
      "cell_type": "markdown",
      "metadata": {},
      "source": [
        "## Saving The Model"
      ]
    },
    {
      "cell_type": "code",
      "execution_count": null,
      "metadata": {
        "id": "o8yRZqjlJ5HY"
      },
      "outputs": [],
      "source": [
        "\n",
        "# Save the model (optional)\n",
        "torch.save(model.state_dict(), 'fashion_mnist_cnn.pt')"
      ]
    },
    {
      "cell_type": "code",
      "execution_count": null,
      "metadata": {},
      "outputs": [],
      "source": [
        "# Load the saved model\n",
        "model = FashionCNN()  # Create a new model instance\n",
        "model.load_state_dict(torch.load('fashion_mnist_cnn.pt'))\n",
        "model.eval()  # Set the model to evaluation mode (optional)"
      ]
    },
    {
      "cell_type": "markdown",
      "metadata": {},
      "source": [
        "# Flowers Data"
      ]
    },
    {
      "cell_type": "code",
      "execution_count": null,
      "metadata": {},
      "outputs": [],
      "source": [
        "import torch\n",
        "import torch.nn as nn\n",
        "import torch.optim as optim\n",
        "from torchvision import datasets, transforms\n",
        "\n",
        "# Define the device (GPU or CPU)\n",
        "device = torch.device(\"cuda:0\" if torch.cuda.is_available() else \"cpu\")\n",
        "\n",
        "# Define the data transforms\n",
        "data_transforms = {\n",
        "    'train': transforms.Compose([\n",
        "        transforms.RandomResizedCrop(224),\n",
        "        transforms.RandomHorizontalFlip(),\n",
        "        transforms.ToTensor(),\n",
        "        transforms.Normalize([0.485, 0.456, 0.406], [0.229, 0.224, 0.225])\n",
        "    ]),\n",
        "    'val': transforms.Compose([\n",
        "        transforms.Resize(256),\n",
        "        transforms.CenterCrop(224),\n",
        "        transforms.ToTensor(),\n",
        "        transforms.Normalize([0.485, 0.456, 0.406], [0.229, 0.224, 0.225])\n",
        "    ]),\n",
        "}\n",
        "\n",
        "# Load the Flowers dataset\n",
        "train_dataset = datasets.ImageFolder('flowers/train', data_transforms['train'])\n",
        "val_dataset = datasets.ImageFolder('flowers/val', data_transforms['val'])\n",
        "\n",
        "# Create data loaders\n",
        "train_loader = torch.utils.data.DataLoader(train_dataset, batch_size=32, shuffle=True)\n",
        "val_loader = torch.utils.data.DataLoader(val_dataset, batch_size=32, shuffle=False)\n",
        "\n",
        "# Define the CNN model\n",
        "class FlowerCNN(nn.Module):\n",
        "    def __init__(self):\n",
        "        super(FlowerCNN, self).__init__()\n",
        "        self.conv1 = nn.Conv2d(3, 64, kernel_size=3, padding=1)\n",
        "        self.conv2 = nn.Conv2d(64, 128, kernel_size=3, padding=1)\n",
        "        self.conv3 = nn.Conv2d(128, 256, kernel_size=3, padding=1)\n",
        "        self.max_pool = nn.MaxPool2d(2, 2)\n",
        "        self.fc1 = nn.Linear(256*56*56, 128)\n",
        "        self.fc2 = nn.Linear(128, 5)  # 5 classes: daisy, dandelion, roses, sunflowers, tulips\n",
        "\n",
        "    def forward(self, x):\n",
        "        x = torch.relu(self.conv1(x))\n",
        "        x = self.max_pool(x)\n",
        "        x = torch.relu(self.conv2(x))\n",
        "        x = self.max_pool(x)\n",
        "        x = torch.relu(self.conv3(x))\n",
        "        x = self.max_pool(x)\n",
        "        x = x.view(-1, 256*56*56)\n",
        "        x = torch.relu(self.fc1(x))\n",
        "        x = self.fc2(x)\n",
        "        return x\n",
        "\n",
        "# Initialize the model, optimizer, and loss function\n",
        "model = FlowerCNN()\n",
        "model.to(device)\n",
        "criterion = nn.CrossEntropyLoss()\n",
        "optimizer = optim.Adam(model.parameters(), lr=0.001)\n",
        "\n",
        "# Train the model\n",
        "for epoch in range(10):\n",
        "    model.train()\n",
        "    for batch_idx, (inputs, labels) in enumerate(train_loader):\n",
        "        inputs, labels = inputs.to(device), labels.to(device)\n",
        "        optimizer.zero_grad()\n",
        "        outputs = model(inputs)\n",
        "        loss = criterion(outputs, labels)\n",
        "        loss.backward()\n",
        "        optimizer.step()\n",
        "        if batch_idx % 100 == 0:\n",
        "            print(f'Epoch {epoch+1}, Batch {batch_idx+1}, Loss: {loss.item()}')\n",
        "\n",
        "    model.eval()\n",
        "    val_loss = 0\n",
        "    correct = 0\n",
        "    with torch.no_grad():\n",
        "        for inputs, labels in val_loader:\n",
        "            inputs, labels = inputs.to(device), labels.to(device)\n",
        "            outputs = model(inputs)\n",
        "            loss = criterion(outputs, labels)\n",
        "            val_loss += loss.item()\n",
        "            _, predicted = torch.max(outputs, 1)\n",
        "            correct += (predicted == labels).sum().item()\n",
        "\n",
        "    accuracy = correct / len(val_loader.dataset)\n",
        "    print(f'Epoch {epoch+1}, Val Loss: {val_loss / len(val_loader)}, Val Acc: {accuracy:.2f}%')"
      ]
    }
  ],
  "metadata": {
    "colab": {
      "provenance": []
    },
    "kernelspec": {
      "display_name": "Python 3",
      "name": "python3"
    },
    "language_info": {
      "codemirror_mode": {
        "name": "ipython",
        "version": 3
      },
      "file_extension": ".py",
      "mimetype": "text/x-python",
      "name": "python",
      "nbconvert_exporter": "python",
      "pygments_lexer": "ipython3",
      "version": "3.11.3"
    }
  },
  "nbformat": 4,
  "nbformat_minor": 0
}
