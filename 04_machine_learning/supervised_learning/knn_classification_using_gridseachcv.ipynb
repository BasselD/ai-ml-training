{
 "cells": [
  {
   "cell_type": "code",
   "execution_count": 1,
   "id": "sound-channel",
   "metadata": {
    "execution": {
     "iopub.execute_input": "2021-04-18T10:58:50.569248Z",
     "iopub.status.busy": "2021-04-18T10:58:50.568605Z",
     "iopub.status.idle": "2021-04-18T10:58:51.354204Z",
     "shell.execute_reply": "2021-04-18T10:58:51.353294Z"
    },
    "papermill": {
     "duration": 0.828517,
     "end_time": "2021-04-18T10:58:51.354332",
     "exception": false,
     "start_time": "2021-04-18T10:58:50.525815",
     "status": "completed"
    },
    "tags": []
   },
   "outputs": [],
   "source": [
    "import pandas as pd\n",
    "import numpy as np\n",
    "import matplotlib.pyplot as plt\n",
    "import seaborn as sns\n"
   ]
  },
  {
   "cell_type": "code",
   "execution_count": 2,
   "id": "metric-survival",
   "metadata": {
    "execution": {
     "iopub.execute_input": "2021-04-18T10:58:51.518364Z",
     "iopub.status.busy": "2021-04-18T10:58:51.517853Z",
     "iopub.status.idle": "2021-04-18T10:58:51.554539Z",
     "shell.execute_reply": "2021-04-18T10:58:51.554032Z"
    },
    "papermill": {
     "duration": 0.081088,
     "end_time": "2021-04-18T10:58:51.554662",
     "exception": false,
     "start_time": "2021-04-18T10:58:51.473574",
     "status": "completed"
    },
    "tags": []
   },
   "outputs": [
    {
     "data": {
      "text/html": [
       "<div>\n",
       "<style scoped>\n",
       "    .dataframe tbody tr th:only-of-type {\n",
       "        vertical-align: middle;\n",
       "    }\n",
       "\n",
       "    .dataframe tbody tr th {\n",
       "        vertical-align: top;\n",
       "    }\n",
       "\n",
       "    .dataframe thead th {\n",
       "        text-align: right;\n",
       "    }\n",
       "</style>\n",
       "<table border=\"1\" class=\"dataframe\">\n",
       "  <thead>\n",
       "    <tr style=\"text-align: right;\">\n",
       "      <th></th>\n",
       "      <th>Pregnancies</th>\n",
       "      <th>Glucose</th>\n",
       "      <th>BloodPressure</th>\n",
       "      <th>SkinThickness</th>\n",
       "      <th>Insulin</th>\n",
       "      <th>BMI</th>\n",
       "      <th>DiabetesPedigreeFunction</th>\n",
       "      <th>Age</th>\n",
       "      <th>Outcome</th>\n",
       "    </tr>\n",
       "  </thead>\n",
       "  <tbody>\n",
       "    <tr>\n",
       "      <th>0</th>\n",
       "      <td>6</td>\n",
       "      <td>148</td>\n",
       "      <td>72</td>\n",
       "      <td>35</td>\n",
       "      <td>0</td>\n",
       "      <td>33.6</td>\n",
       "      <td>0.627</td>\n",
       "      <td>50</td>\n",
       "      <td>1</td>\n",
       "    </tr>\n",
       "    <tr>\n",
       "      <th>1</th>\n",
       "      <td>1</td>\n",
       "      <td>85</td>\n",
       "      <td>66</td>\n",
       "      <td>29</td>\n",
       "      <td>0</td>\n",
       "      <td>26.6</td>\n",
       "      <td>0.351</td>\n",
       "      <td>31</td>\n",
       "      <td>0</td>\n",
       "    </tr>\n",
       "    <tr>\n",
       "      <th>2</th>\n",
       "      <td>8</td>\n",
       "      <td>183</td>\n",
       "      <td>64</td>\n",
       "      <td>0</td>\n",
       "      <td>0</td>\n",
       "      <td>23.3</td>\n",
       "      <td>0.672</td>\n",
       "      <td>32</td>\n",
       "      <td>1</td>\n",
       "    </tr>\n",
       "    <tr>\n",
       "      <th>3</th>\n",
       "      <td>1</td>\n",
       "      <td>89</td>\n",
       "      <td>66</td>\n",
       "      <td>23</td>\n",
       "      <td>94</td>\n",
       "      <td>28.1</td>\n",
       "      <td>0.167</td>\n",
       "      <td>21</td>\n",
       "      <td>0</td>\n",
       "    </tr>\n",
       "    <tr>\n",
       "      <th>4</th>\n",
       "      <td>0</td>\n",
       "      <td>137</td>\n",
       "      <td>40</td>\n",
       "      <td>35</td>\n",
       "      <td>168</td>\n",
       "      <td>43.1</td>\n",
       "      <td>2.288</td>\n",
       "      <td>33</td>\n",
       "      <td>1</td>\n",
       "    </tr>\n",
       "  </tbody>\n",
       "</table>\n",
       "</div>"
      ],
      "text/plain": [
       "   Pregnancies  Glucose  BloodPressure  SkinThickness  Insulin   BMI  \\\n",
       "0            6      148             72             35        0  33.6   \n",
       "1            1       85             66             29        0  26.6   \n",
       "2            8      183             64              0        0  23.3   \n",
       "3            1       89             66             23       94  28.1   \n",
       "4            0      137             40             35      168  43.1   \n",
       "\n",
       "   DiabetesPedigreeFunction  Age  Outcome  \n",
       "0                     0.627   50        1  \n",
       "1                     0.351   31        0  \n",
       "2                     0.672   32        1  \n",
       "3                     0.167   21        0  \n",
       "4                     2.288   33        1  "
      ]
     },
     "execution_count": 2,
     "metadata": {},
     "output_type": "execute_result"
    }
   ],
   "source": [
    "df = pd.read_excel('datasets/pima-indians-diabetes.xlsx')\n",
    "df.head()"
   ]
  },
  {
   "cell_type": "code",
   "execution_count": 3,
   "id": "ancient-blanket",
   "metadata": {
    "execution": {
     "iopub.execute_input": "2021-04-18T10:58:51.640287Z",
     "iopub.status.busy": "2021-04-18T10:58:51.639501Z",
     "iopub.status.idle": "2021-04-18T10:58:51.643129Z",
     "shell.execute_reply": "2021-04-18T10:58:51.642729Z"
    },
    "papermill": {
     "duration": 0.047324,
     "end_time": "2021-04-18T10:58:51.643237",
     "exception": false,
     "start_time": "2021-04-18T10:58:51.595913",
     "status": "completed"
    },
    "tags": []
   },
   "outputs": [
    {
     "data": {
      "text/plain": [
       "(768, 9)"
      ]
     },
     "execution_count": 3,
     "metadata": {},
     "output_type": "execute_result"
    }
   ],
   "source": [
    "df.shape"
   ]
  },
  {
   "cell_type": "code",
   "execution_count": 4,
   "id": "trained-jenny",
   "metadata": {
    "execution": {
     "iopub.execute_input": "2021-04-18T10:58:51.728258Z",
     "iopub.status.busy": "2021-04-18T10:58:51.727436Z",
     "iopub.status.idle": "2021-04-18T10:58:51.731140Z",
     "shell.execute_reply": "2021-04-18T10:58:51.730739Z"
    },
    "papermill": {
     "duration": 0.048048,
     "end_time": "2021-04-18T10:58:51.731253",
     "exception": false,
     "start_time": "2021-04-18T10:58:51.683205",
     "status": "completed"
    },
    "tags": []
   },
   "outputs": [
    {
     "data": {
      "text/plain": [
       "Index(['Pregnancies', 'Glucose', 'BloodPressure', 'SkinThickness', 'Insulin',\n",
       "       'BMI', 'DiabetesPedigreeFunction', 'Age', 'Outcome'],\n",
       "      dtype='object')"
      ]
     },
     "execution_count": 4,
     "metadata": {},
     "output_type": "execute_result"
    }
   ],
   "source": [
    "df.columns"
   ]
  },
  {
   "cell_type": "code",
   "execution_count": 5,
   "id": "seven-concept",
   "metadata": {
    "execution": {
     "iopub.execute_input": "2021-04-18T10:58:51.826260Z",
     "iopub.status.busy": "2021-04-18T10:58:51.825637Z",
     "iopub.status.idle": "2021-04-18T10:58:51.829331Z",
     "shell.execute_reply": "2021-04-18T10:58:51.829971Z"
    },
    "papermill": {
     "duration": 0.058716,
     "end_time": "2021-04-18T10:58:51.830160",
     "exception": false,
     "start_time": "2021-04-18T10:58:51.771444",
     "status": "completed"
    },
    "tags": []
   },
   "outputs": [
    {
     "name": "stdout",
     "output_type": "stream",
     "text": [
      "<class 'pandas.core.frame.DataFrame'>\n",
      "RangeIndex: 768 entries, 0 to 767\n",
      "Data columns (total 9 columns):\n",
      " #   Column                    Non-Null Count  Dtype  \n",
      "---  ------                    --------------  -----  \n",
      " 0   Pregnancies               768 non-null    int64  \n",
      " 1   Glucose                   768 non-null    int64  \n",
      " 2   BloodPressure             768 non-null    int64  \n",
      " 3   SkinThickness             768 non-null    int64  \n",
      " 4   Insulin                   768 non-null    int64  \n",
      " 5   BMI                       768 non-null    float64\n",
      " 6   DiabetesPedigreeFunction  768 non-null    float64\n",
      " 7   Age                       768 non-null    int64  \n",
      " 8   Outcome                   768 non-null    int64  \n",
      "dtypes: float64(2), int64(7)\n",
      "memory usage: 54.1 KB\n"
     ]
    }
   ],
   "source": [
    "df.info()"
   ]
  },
  {
   "cell_type": "markdown",
   "id": "hindu-circumstances",
   "metadata": {
    "papermill": {
     "duration": 0.041623,
     "end_time": "2021-04-18T10:58:51.917302",
     "exception": false,
     "start_time": "2021-04-18T10:58:51.875679",
     "status": "completed"
    },
    "tags": []
   },
   "source": [
    "# Finding the Null Value"
   ]
  },
  {
   "cell_type": "code",
   "execution_count": 6,
   "id": "meaning-budapest",
   "metadata": {
    "execution": {
     "iopub.execute_input": "2021-04-18T10:58:52.007125Z",
     "iopub.status.busy": "2021-04-18T10:58:52.006384Z",
     "iopub.status.idle": "2021-04-18T10:58:52.009996Z",
     "shell.execute_reply": "2021-04-18T10:58:52.009591Z"
    },
    "papermill": {
     "duration": 0.051334,
     "end_time": "2021-04-18T10:58:52.010110",
     "exception": false,
     "start_time": "2021-04-18T10:58:51.958776",
     "status": "completed"
    },
    "tags": []
   },
   "outputs": [
    {
     "data": {
      "text/plain": [
       "Pregnancies                 0\n",
       "Glucose                     0\n",
       "BloodPressure               0\n",
       "SkinThickness               0\n",
       "Insulin                     0\n",
       "BMI                         0\n",
       "DiabetesPedigreeFunction    0\n",
       "Age                         0\n",
       "Outcome                     0\n",
       "dtype: int64"
      ]
     },
     "execution_count": 6,
     "metadata": {},
     "output_type": "execute_result"
    }
   ],
   "source": [
    "df.isna().sum()"
   ]
  },
  {
   "cell_type": "markdown",
   "id": "funded-assault",
   "metadata": {
    "papermill": {
     "duration": 0.041802,
     "end_time": "2021-04-18T10:58:52.093948",
     "exception": false,
     "start_time": "2021-04-18T10:58:52.052146",
     "status": "completed"
    },
    "tags": []
   },
   "source": [
    "# Statistical Table"
   ]
  },
  {
   "cell_type": "code",
   "execution_count": 7,
   "id": "recovered-point",
   "metadata": {
    "execution": {
     "iopub.execute_input": "2021-04-18T10:58:52.184696Z",
     "iopub.status.busy": "2021-04-18T10:58:52.183957Z",
     "iopub.status.idle": "2021-04-18T10:58:52.212166Z",
     "shell.execute_reply": "2021-04-18T10:58:52.212668Z"
    },
    "papermill": {
     "duration": 0.077279,
     "end_time": "2021-04-18T10:58:52.212842",
     "exception": false,
     "start_time": "2021-04-18T10:58:52.135563",
     "status": "completed"
    },
    "tags": []
   },
   "outputs": [
    {
     "data": {
      "text/html": [
       "<div>\n",
       "<style scoped>\n",
       "    .dataframe tbody tr th:only-of-type {\n",
       "        vertical-align: middle;\n",
       "    }\n",
       "\n",
       "    .dataframe tbody tr th {\n",
       "        vertical-align: top;\n",
       "    }\n",
       "\n",
       "    .dataframe thead th {\n",
       "        text-align: right;\n",
       "    }\n",
       "</style>\n",
       "<table border=\"1\" class=\"dataframe\">\n",
       "  <thead>\n",
       "    <tr style=\"text-align: right;\">\n",
       "      <th></th>\n",
       "      <th>Pregnancies</th>\n",
       "      <th>Glucose</th>\n",
       "      <th>BloodPressure</th>\n",
       "      <th>SkinThickness</th>\n",
       "      <th>Insulin</th>\n",
       "      <th>BMI</th>\n",
       "      <th>DiabetesPedigreeFunction</th>\n",
       "      <th>Age</th>\n",
       "      <th>Outcome</th>\n",
       "    </tr>\n",
       "  </thead>\n",
       "  <tbody>\n",
       "    <tr>\n",
       "      <th>count</th>\n",
       "      <td>768.000000</td>\n",
       "      <td>768.000000</td>\n",
       "      <td>768.000000</td>\n",
       "      <td>768.000000</td>\n",
       "      <td>768.000000</td>\n",
       "      <td>768.000000</td>\n",
       "      <td>768.000000</td>\n",
       "      <td>768.000000</td>\n",
       "      <td>768.000000</td>\n",
       "    </tr>\n",
       "    <tr>\n",
       "      <th>mean</th>\n",
       "      <td>3.845052</td>\n",
       "      <td>120.894531</td>\n",
       "      <td>69.105469</td>\n",
       "      <td>20.536458</td>\n",
       "      <td>79.799479</td>\n",
       "      <td>31.992578</td>\n",
       "      <td>0.471876</td>\n",
       "      <td>33.240885</td>\n",
       "      <td>0.348958</td>\n",
       "    </tr>\n",
       "    <tr>\n",
       "      <th>std</th>\n",
       "      <td>3.369578</td>\n",
       "      <td>31.972618</td>\n",
       "      <td>19.355807</td>\n",
       "      <td>15.952218</td>\n",
       "      <td>115.244002</td>\n",
       "      <td>7.884160</td>\n",
       "      <td>0.331329</td>\n",
       "      <td>11.760232</td>\n",
       "      <td>0.476951</td>\n",
       "    </tr>\n",
       "    <tr>\n",
       "      <th>min</th>\n",
       "      <td>0.000000</td>\n",
       "      <td>0.000000</td>\n",
       "      <td>0.000000</td>\n",
       "      <td>0.000000</td>\n",
       "      <td>0.000000</td>\n",
       "      <td>0.000000</td>\n",
       "      <td>0.078000</td>\n",
       "      <td>21.000000</td>\n",
       "      <td>0.000000</td>\n",
       "    </tr>\n",
       "    <tr>\n",
       "      <th>25%</th>\n",
       "      <td>1.000000</td>\n",
       "      <td>99.000000</td>\n",
       "      <td>62.000000</td>\n",
       "      <td>0.000000</td>\n",
       "      <td>0.000000</td>\n",
       "      <td>27.300000</td>\n",
       "      <td>0.243750</td>\n",
       "      <td>24.000000</td>\n",
       "      <td>0.000000</td>\n",
       "    </tr>\n",
       "    <tr>\n",
       "      <th>50%</th>\n",
       "      <td>3.000000</td>\n",
       "      <td>117.000000</td>\n",
       "      <td>72.000000</td>\n",
       "      <td>23.000000</td>\n",
       "      <td>30.500000</td>\n",
       "      <td>32.000000</td>\n",
       "      <td>0.372500</td>\n",
       "      <td>29.000000</td>\n",
       "      <td>0.000000</td>\n",
       "    </tr>\n",
       "    <tr>\n",
       "      <th>75%</th>\n",
       "      <td>6.000000</td>\n",
       "      <td>140.250000</td>\n",
       "      <td>80.000000</td>\n",
       "      <td>32.000000</td>\n",
       "      <td>127.250000</td>\n",
       "      <td>36.600000</td>\n",
       "      <td>0.626250</td>\n",
       "      <td>41.000000</td>\n",
       "      <td>1.000000</td>\n",
       "    </tr>\n",
       "    <tr>\n",
       "      <th>max</th>\n",
       "      <td>17.000000</td>\n",
       "      <td>199.000000</td>\n",
       "      <td>122.000000</td>\n",
       "      <td>99.000000</td>\n",
       "      <td>846.000000</td>\n",
       "      <td>67.100000</td>\n",
       "      <td>2.420000</td>\n",
       "      <td>81.000000</td>\n",
       "      <td>1.000000</td>\n",
       "    </tr>\n",
       "  </tbody>\n",
       "</table>\n",
       "</div>"
      ],
      "text/plain": [
       "       Pregnancies     Glucose  BloodPressure  SkinThickness     Insulin  \\\n",
       "count   768.000000  768.000000     768.000000     768.000000  768.000000   \n",
       "mean      3.845052  120.894531      69.105469      20.536458   79.799479   \n",
       "std       3.369578   31.972618      19.355807      15.952218  115.244002   \n",
       "min       0.000000    0.000000       0.000000       0.000000    0.000000   \n",
       "25%       1.000000   99.000000      62.000000       0.000000    0.000000   \n",
       "50%       3.000000  117.000000      72.000000      23.000000   30.500000   \n",
       "75%       6.000000  140.250000      80.000000      32.000000  127.250000   \n",
       "max      17.000000  199.000000     122.000000      99.000000  846.000000   \n",
       "\n",
       "              BMI  DiabetesPedigreeFunction         Age     Outcome  \n",
       "count  768.000000                768.000000  768.000000  768.000000  \n",
       "mean    31.992578                  0.471876   33.240885    0.348958  \n",
       "std      7.884160                  0.331329   11.760232    0.476951  \n",
       "min      0.000000                  0.078000   21.000000    0.000000  \n",
       "25%     27.300000                  0.243750   24.000000    0.000000  \n",
       "50%     32.000000                  0.372500   29.000000    0.000000  \n",
       "75%     36.600000                  0.626250   41.000000    1.000000  \n",
       "max     67.100000                  2.420000   81.000000    1.000000  "
      ]
     },
     "execution_count": 7,
     "metadata": {},
     "output_type": "execute_result"
    }
   ],
   "source": [
    "df.describe()"
   ]
  },
  {
   "cell_type": "markdown",
   "id": "british-reputation",
   "metadata": {
    "papermill": {
     "duration": 0.045274,
     "end_time": "2021-04-18T10:58:52.303731",
     "exception": false,
     "start_time": "2021-04-18T10:58:52.258457",
     "status": "completed"
    },
    "tags": []
   },
   "source": [
    "# Correlation Matrix"
   ]
  },
  {
   "cell_type": "code",
   "execution_count": 8,
   "id": "ecological-surprise",
   "metadata": {
    "execution": {
     "iopub.execute_input": "2021-04-18T10:58:52.404012Z",
     "iopub.status.busy": "2021-04-18T10:58:52.403177Z",
     "iopub.status.idle": "2021-04-18T10:58:53.072139Z",
     "shell.execute_reply": "2021-04-18T10:58:53.071282Z"
    },
    "papermill": {
     "duration": 0.721431,
     "end_time": "2021-04-18T10:58:53.072269",
     "exception": false,
     "start_time": "2021-04-18T10:58:52.350838",
     "status": "completed"
    },
    "tags": []
   },
   "outputs": [
    {
     "data": {
      "image/png": "[encoded data removed]",
      "text/plain": [
       "<Figure size 2000x2000 with 2 Axes>"
      ]
     },
     "metadata": {},
     "output_type": "display_data"
    }
   ],
   "source": [
    "# Generate and visualize the correlation matrix\n",
    "corr = df.corr().round(2)\n",
    "\n",
    "# Mask for the upper triangle\n",
    "mask = np.zeros_like(corr)\n",
    "mask[np.triu_indices_from(mask)] = True\n",
    "\n",
    "# Set figure size\n",
    "f, ax = plt.subplots(figsize=(20, 20))\n",
    "\n",
    "# Define custom colormap\n",
    "cmap = sns.diverging_palette(220, 10, as_cmap=True)\n",
    "\n",
    "# Draw the heatmap\n",
    "sns.heatmap(corr, mask=mask, cmap=cmap, vmin=-1, vmax=1, center=0,\n",
    "            square=True, linewidths=.5, cbar_kws={\"shrink\": .5}, annot=True)\n",
    "\n",
    "plt.tight_layout()"
   ]
  },
  {
   "cell_type": "markdown",
   "id": "worst-paste",
   "metadata": {
    "papermill": {
     "duration": 0.043704,
     "end_time": "2021-04-18T10:58:53.161163",
     "exception": false,
     "start_time": "2021-04-18T10:58:53.117459",
     "status": "completed"
    },
    "tags": []
   },
   "source": [
    "# Heatmap \n"
   ]
  },
  {
   "cell_type": "code",
   "execution_count": 9,
   "id": "worldwide-kennedy",
   "metadata": {
    "execution": {
     "iopub.execute_input": "2021-04-18T10:58:53.255268Z",
     "iopub.status.busy": "2021-04-18T10:58:53.254391Z",
     "iopub.status.idle": "2021-04-18T10:58:53.992232Z",
     "shell.execute_reply": "2021-04-18T10:58:53.992807Z"
    },
    "papermill": {
     "duration": 0.787971,
     "end_time": "2021-04-18T10:58:53.992973",
     "exception": false,
     "start_time": "2021-04-18T10:58:53.205002",
     "status": "completed"
    },
    "tags": []
   },
   "outputs": [
    {
     "data": {
      "image/png": "[encoded data removed]",
      "text/plain": [
       "<Figure size 1000x1000 with 2 Axes>"
      ]
     },
     "metadata": {},
     "output_type": "display_data"
    }
   ],
   "source": [
    "plt.figure(figsize=(10,10))\n",
    "sns.heatmap(df.corr(), cmap='Blues', annot=True)\n",
    "plt.tight_layout()"
   ]
  },
  {
   "cell_type": "markdown",
   "id": "knowing-italian",
   "metadata": {
    "papermill": {
     "duration": 0.045908,
     "end_time": "2021-04-18T10:58:54.086569",
     "exception": false,
     "start_time": "2021-04-18T10:58:54.040661",
     "status": "completed"
    },
    "tags": []
   },
   "source": [
    "# Kde Plot for Visualization"
   ]
  },
  {
   "cell_type": "code",
   "execution_count": 10,
   "id": "distinct-trunk",
   "metadata": {
    "execution": {
     "iopub.execute_input": "2021-04-18T10:58:54.186115Z",
     "iopub.status.busy": "2021-04-18T10:58:54.185283Z",
     "iopub.status.idle": "2021-04-18T10:58:54.372404Z",
     "shell.execute_reply": "2021-04-18T10:58:54.371591Z"
    },
    "papermill": {
     "duration": 0.240124,
     "end_time": "2021-04-18T10:58:54.372571",
     "exception": false,
     "start_time": "2021-04-18T10:58:54.132447",
     "status": "completed"
    },
    "tags": []
   },
   "outputs": [
    {
     "name": "stderr",
     "output_type": "stream",
     "text": [
      "/var/folders/3x/ds4ljhhn611fn_glg6pp102h0000gq/T/ipykernel_65751/3697849890.py:2: FutureWarning: \n",
      "\n",
      "`shade` is now deprecated in favor of `fill`; setting `fill=True`.\n",
      "This will become an error in seaborn v0.14.0; please update your code.\n",
      "\n",
      "  sns.kdeplot(df['Age'], shade=True)\n"
     ]
    },
    {
     "data": {
      "image/png": "[encoded data removed]",
      "text/plain": [
       "<Figure size 1000x1000 with 1 Axes>"
      ]
     },
     "metadata": {},
     "output_type": "display_data"
    }
   ],
   "source": [
    "plt.figure(figsize=(10,10))\n",
    "sns.kdeplot(df['Age'], shade=True)\n",
    "plt.xlabel('Age')\n",
    "plt.ylabel('Probability Density')\n",
    "plt.show()"
   ]
  },
  {
   "cell_type": "markdown",
   "id": "amazing-vitamin",
   "metadata": {
    "papermill": {
     "duration": 0.049443,
     "end_time": "2021-04-18T10:58:54.472491",
     "exception": false,
     "start_time": "2021-04-18T10:58:54.423048",
     "status": "completed"
    },
    "tags": []
   },
   "source": [
    "* Inference- Age is within 20 to 37 years "
   ]
  },
  {
   "cell_type": "markdown",
   "id": "passive-regular",
   "metadata": {
    "papermill": {
     "duration": 0.05108,
     "end_time": "2021-04-18T10:58:54.574653",
     "exception": false,
     "start_time": "2021-04-18T10:58:54.523573",
     "status": "completed"
    },
    "tags": []
   },
   "source": [
    "# Age Statistical Value"
   ]
  },
  {
   "cell_type": "code",
   "execution_count": 11,
   "id": "plastic-honor",
   "metadata": {
    "execution": {
     "iopub.execute_input": "2021-04-18T10:58:54.682340Z",
     "iopub.status.busy": "2021-04-18T10:58:54.681409Z",
     "iopub.status.idle": "2021-04-18T10:58:54.689280Z",
     "shell.execute_reply": "2021-04-18T10:58:54.688712Z"
    },
    "papermill": {
     "duration": 0.065118,
     "end_time": "2021-04-18T10:58:54.689405",
     "exception": false,
     "start_time": "2021-04-18T10:58:54.624287",
     "status": "completed"
    },
    "tags": []
   },
   "outputs": [
    {
     "data": {
      "text/plain": [
       "count    768.000000\n",
       "mean      33.240885\n",
       "std       11.760232\n",
       "min       21.000000\n",
       "10%       22.000000\n",
       "20%       23.000000\n",
       "30%       25.000000\n",
       "40%       27.000000\n",
       "50%       29.000000\n",
       "60%       33.000000\n",
       "70%       38.000000\n",
       "80%       42.600000\n",
       "90%       51.000000\n",
       "95%       58.000000\n",
       "100%      81.000000\n",
       "max       81.000000\n",
       "Name: Age, dtype: float64"
      ]
     },
     "execution_count": 11,
     "metadata": {},
     "output_type": "execute_result"
    }
   ],
   "source": [
    "df['Age'].describe(percentiles=[0.1,0.2,0.3,0.4,0.5,0.6,0.7,0.8,0.9,0.95,1])"
   ]
  },
  {
   "cell_type": "code",
   "execution_count": 12,
   "id": "exposed-extraction",
   "metadata": {
    "execution": {
     "iopub.execute_input": "2021-04-18T10:58:54.809321Z",
     "iopub.status.busy": "2021-04-18T10:58:54.808451Z",
     "iopub.status.idle": "2021-04-18T10:58:54.817755Z",
     "shell.execute_reply": "2021-04-18T10:58:54.817260Z"
    },
    "papermill": {
     "duration": 0.077538,
     "end_time": "2021-04-18T10:58:54.817892",
     "exception": false,
     "start_time": "2021-04-18T10:58:54.740354",
     "status": "completed"
    },
    "tags": []
   },
   "outputs": [
    {
     "data": {
      "text/plain": [
       "Outcome\n",
       "0    500\n",
       "1    268\n",
       "Name: count, dtype: int64"
      ]
     },
     "execution_count": 12,
     "metadata": {},
     "output_type": "execute_result"
    }
   ],
   "source": [
    "df['Outcome'].value_counts()"
   ]
  },
  {
   "cell_type": "markdown",
   "id": "local-incidence",
   "metadata": {
    "papermill": {
     "duration": 0.106247,
     "end_time": "2021-04-18T10:58:55.017917",
     "exception": false,
     "start_time": "2021-04-18T10:58:54.911670",
     "status": "completed"
    },
    "tags": []
   },
   "source": [
    "# Visualization of the Outcomes"
   ]
  },
  {
   "cell_type": "code",
   "execution_count": 13,
   "id": "forbidden-father",
   "metadata": {
    "execution": {
     "iopub.execute_input": "2021-04-18T10:58:55.226391Z",
     "iopub.status.busy": "2021-04-18T10:58:55.225563Z",
     "iopub.status.idle": "2021-04-18T10:58:55.373701Z",
     "shell.execute_reply": "2021-04-18T10:58:55.374354Z"
    },
    "papermill": {
     "duration": 0.25475,
     "end_time": "2021-04-18T10:58:55.374561",
     "exception": false,
     "start_time": "2021-04-18T10:58:55.119811",
     "status": "completed"
    },
    "tags": []
   },
   "outputs": [
    {
     "name": "stdout",
     "output_type": "stream",
     "text": [
      "The outcome values Outcome\n",
      "0    500\n",
      "1    268\n",
      "Name: count, dtype: int64\n"
     ]
    },
    {
     "data": {
      "image/png": "[encoded data removed]",
      "text/plain": [
       "<Figure size 1000x500 with 1 Axes>"
      ]
     },
     "metadata": {},
     "output_type": "display_data"
    }
   ],
   "source": [
    "print(\"The outcome values\",df['Outcome'].value_counts())\n",
    "plt.figure(figsize=(10,5))\n",
    "sns.countplot(x='Outcome', data=df)\n",
    "plt.show()"
   ]
  },
  {
   "cell_type": "markdown",
   "id": "accurate-works",
   "metadata": {
    "papermill": {
     "duration": 0.076043,
     "end_time": "2021-04-18T10:58:55.625294",
     "exception": false,
     "start_time": "2021-04-18T10:58:55.549251",
     "status": "completed"
    },
    "tags": []
   },
   "source": [
    "# Getting the arrya of the feature and Target columns"
   ]
  },
  {
   "cell_type": "code",
   "execution_count": 14,
   "id": "involved-county",
   "metadata": {
    "execution": {
     "iopub.execute_input": "2021-04-18T10:58:55.854471Z",
     "iopub.status.busy": "2021-04-18T10:58:55.853677Z",
     "iopub.status.idle": "2021-04-18T10:58:55.856481Z",
     "shell.execute_reply": "2021-04-18T10:58:55.856087Z"
    },
    "papermill": {
     "duration": 0.069171,
     "end_time": "2021-04-18T10:58:55.856645",
     "exception": false,
     "start_time": "2021-04-18T10:58:55.787474",
     "status": "completed"
    },
    "tags": []
   },
   "outputs": [],
   "source": [
    "X=df.drop(['Outcome'], axis=1).values\n",
    "y=df['Outcome'].values"
   ]
  },
  {
   "cell_type": "code",
   "execution_count": 15,
   "id": "prepared-disco",
   "metadata": {
    "execution": {
     "iopub.execute_input": "2021-04-18T10:58:56.024034Z",
     "iopub.status.busy": "2021-04-18T10:58:56.023161Z",
     "iopub.status.idle": "2021-04-18T10:58:56.221427Z",
     "shell.execute_reply": "2021-04-18T10:58:56.220425Z"
    },
    "papermill": {
     "duration": 0.294755,
     "end_time": "2021-04-18T10:58:56.221611",
     "exception": false,
     "start_time": "2021-04-18T10:58:55.926856",
     "status": "completed"
    },
    "tags": []
   },
   "outputs": [],
   "source": [
    "from sklearn.model_selection import train_test_split"
   ]
  },
  {
   "cell_type": "code",
   "execution_count": 16,
   "id": "quality-manor",
   "metadata": {
    "execution": {
     "iopub.execute_input": "2021-04-18T10:58:56.331368Z",
     "iopub.status.busy": "2021-04-18T10:58:56.330434Z",
     "iopub.status.idle": "2021-04-18T10:58:56.335256Z",
     "shell.execute_reply": "2021-04-18T10:58:56.335723Z"
    },
    "papermill": {
     "duration": 0.064134,
     "end_time": "2021-04-18T10:58:56.335878",
     "exception": false,
     "start_time": "2021-04-18T10:58:56.271744",
     "status": "completed"
    },
    "tags": []
   },
   "outputs": [],
   "source": [
    "X_train, X_test, y_train, y_test=train_test_split(X,y, test_size=0.45, random_state=45, stratify=y)"
   ]
  },
  {
   "cell_type": "markdown",
   "id": "amino-hampshire",
   "metadata": {
    "papermill": {
     "duration": 0.05314,
     "end_time": "2021-04-18T10:58:56.443184",
     "exception": false,
     "start_time": "2021-04-18T10:58:56.390044",
     "status": "completed"
    },
    "tags": []
   },
   "source": [
    "Some classification problems can exhibit a large imbalance in the distribution of the target classes: for instance there could be several times more negative samples than positive samples. In such cases it is recommended to use stratified sampling "
   ]
  },
  {
   "cell_type": "markdown",
   "id": "developing-annex",
   "metadata": {
    "papermill": {
     "duration": 0.048741,
     "end_time": "2021-04-18T10:58:56.543278",
     "exception": false,
     "start_time": "2021-04-18T10:58:56.494537",
     "status": "completed"
    },
    "tags": []
   },
   "source": [
    "# KNeighbours Classification"
   ]
  },
  {
   "cell_type": "code",
   "execution_count": 17,
   "id": "described-aerospace",
   "metadata": {
    "execution": {
     "iopub.execute_input": "2021-04-18T10:58:56.647119Z",
     "iopub.status.busy": "2021-04-18T10:58:56.646381Z",
     "iopub.status.idle": "2021-04-18T10:58:57.030130Z",
     "shell.execute_reply": "2021-04-18T10:58:57.029657Z"
    },
    "papermill": {
     "duration": 0.437948,
     "end_time": "2021-04-18T10:58:57.030267",
     "exception": false,
     "start_time": "2021-04-18T10:58:56.592319",
     "status": "completed"
    },
    "tags": []
   },
   "outputs": [],
   "source": [
    "from sklearn.neighbors import KNeighborsClassifier\n",
    "\n",
    "neighbors=np.arange(1,9)\n",
    "train_accuracy=np.empty(len(neighbors))\n",
    "test_accuracy=np.empty(len(neighbors))\n",
    "\n",
    "for i,k in enumerate(neighbors):\n",
    "    knn=KNeighborsClassifier(n_neighbors=k)\n",
    "    \n",
    "    knn.fit(X_train, y_train)\n",
    "    \n",
    "    train_accuracy[i]=knn.score(X_train, y_train)\n",
    "    \n",
    "    test_accuracy[i]=knn.score(X_test, y_test)"
   ]
  },
  {
   "cell_type": "code",
   "execution_count": 18,
   "id": "inside-presence",
   "metadata": {
    "execution": {
     "iopub.execute_input": "2021-04-18T10:58:57.159766Z",
     "iopub.status.busy": "2021-04-18T10:58:57.158788Z",
     "iopub.status.idle": "2021-04-18T10:58:57.325058Z",
     "shell.execute_reply": "2021-04-18T10:58:57.325519Z"
    },
    "papermill": {
     "duration": 0.244232,
     "end_time": "2021-04-18T10:58:57.325709",
     "exception": false,
     "start_time": "2021-04-18T10:58:57.081477",
     "status": "completed"
    },
    "tags": []
   },
   "outputs": [
    {
     "data": {
      "image/png": "[encoded data removed]",
      "text/plain": [
       "<Figure size 1000x1000 with 1 Axes>"
      ]
     },
     "metadata": {},
     "output_type": "display_data"
    }
   ],
   "source": [
    "plt.figure(figsize=(10,10))\n",
    "plt.title(\"K-NN varying number of neighbour\")\n",
    "plt.plot(neighbors, test_accuracy, label=\"Testing Accuracy\")\n",
    "plt.plot(neighbors, train_accuracy, label=\"Train Accuracy\")\n",
    "plt.legend()\n",
    "plt.xlabel(\"Number of Neighbour\")\n",
    "plt.ylabel(\"Accuracy\")\n",
    "plt.show()"
   ]
  },
  {
   "cell_type": "markdown",
   "id": "national-processing",
   "metadata": {
    "papermill": {
     "duration": 0.050986,
     "end_time": "2021-04-18T10:58:57.432019",
     "exception": false,
     "start_time": "2021-04-18T10:58:57.381033",
     "status": "completed"
    },
    "tags": []
   },
   "source": [
    "# Inference \n",
    "As test accracy is high at k=7, We adopt the KNeighborsClassifier with number of neighbours as 7"
   ]
  },
  {
   "cell_type": "code",
   "execution_count": 19,
   "id": "traditional-arthritis",
   "metadata": {
    "execution": {
     "iopub.execute_input": "2021-04-18T10:58:57.538679Z",
     "iopub.status.busy": "2021-04-18T10:58:57.537993Z",
     "iopub.status.idle": "2021-04-18T10:58:57.544064Z",
     "shell.execute_reply": "2021-04-18T10:58:57.543663Z"
    },
    "papermill": {
     "duration": 0.061784,
     "end_time": "2021-04-18T10:58:57.544178",
     "exception": false,
     "start_time": "2021-04-18T10:58:57.482394",
     "status": "completed"
    },
    "tags": []
   },
   "outputs": [
    {
     "data": {
      "text/html": [
       "<style>#sk-container-id-1 {color: black;background-color: white;}#sk-container-id-1 pre{padding: 0;}#sk-container-id-1 div.sk-toggleable {background-color: white;}#sk-container-id-1 label.sk-toggleable__label {cursor: pointer;display: block;width: 100%;margin-bottom: 0;padding: 0.3em;box-sizing: border-box;text-align: center;}#sk-container-id-1 label.sk-toggleable__label-arrow:before {content: \"▸\";float: left;margin-right: 0.25em;color: #696969;}#sk-container-id-1 label.sk-toggleable__label-arrow:hover:before {color: black;}#sk-container-id-1 div.sk-estimator:hover label.sk-toggleable__label-arrow:before {color: black;}#sk-container-id-1 div.sk-toggleable__content {max-height: 0;max-width: 0;overflow: hidden;text-align: left;background-color: #f0f8ff;}#sk-container-id-1 div.sk-toggleable__content pre {margin: 0.2em;color: black;border-radius: 0.25em;background-color: #f0f8ff;}#sk-container-id-1 input.sk-toggleable__control:checked~div.sk-toggleable__content {max-height: 200px;max-width: 100%;overflow: auto;}#sk-container-id-1 input.sk-toggleable__control:checked~label.sk-toggleable__label-arrow:before {content: \"▾\";}#sk-container-id-1 div.sk-estimator input.sk-toggleable__control:checked~label.sk-toggleable__label {background-color: #d4ebff;}#sk-container-id-1 div.sk-label input.sk-toggleable__control:checked~label.sk-toggleable__label {background-color: #d4ebff;}#sk-container-id-1 input.sk-hidden--visually {border: 0;clip: rect(1px 1px 1px 1px);clip: rect(1px, 1px, 1px, 1px);height: 1px;margin: -1px;overflow: hidden;padding: 0;position: absolute;width: 1px;}#sk-container-id-1 div.sk-estimator {font-family: monospace;background-color: #f0f8ff;border: 1px dotted black;border-radius: 0.25em;box-sizing: border-box;margin-bottom: 0.5em;}#sk-container-id-1 div.sk-estimator:hover {background-color: #d4ebff;}#sk-container-id-1 div.sk-parallel-item::after {content: \"\";width: 100%;border-bottom: 1px solid gray;flex-grow: 1;}#sk-container-id-1 div.sk-label:hover label.sk-toggleable__label {background-color: #d4ebff;}#sk-container-id-1 div.sk-serial::before {content: \"\";position: absolute;border-left: 1px solid gray;box-sizing: border-box;top: 0;bottom: 0;left: 50%;z-index: 0;}#sk-container-id-1 div.sk-serial {display: flex;flex-direction: column;align-items: center;background-color: white;padding-right: 0.2em;padding-left: 0.2em;position: relative;}#sk-container-id-1 div.sk-item {position: relative;z-index: 1;}#sk-container-id-1 div.sk-parallel {display: flex;align-items: stretch;justify-content: center;background-color: white;position: relative;}#sk-container-id-1 div.sk-item::before, #sk-container-id-1 div.sk-parallel-item::before {content: \"\";position: absolute;border-left: 1px solid gray;box-sizing: border-box;top: 0;bottom: 0;left: 50%;z-index: -1;}#sk-container-id-1 div.sk-parallel-item {display: flex;flex-direction: column;z-index: 1;position: relative;background-color: white;}#sk-container-id-1 div.sk-parallel-item:first-child::after {align-self: flex-end;width: 50%;}#sk-container-id-1 div.sk-parallel-item:last-child::after {align-self: flex-start;width: 50%;}#sk-container-id-1 div.sk-parallel-item:only-child::after {width: 0;}#sk-container-id-1 div.sk-dashed-wrapped {border: 1px dashed gray;margin: 0 0.4em 0.5em 0.4em;box-sizing: border-box;padding-bottom: 0.4em;background-color: white;}#sk-container-id-1 div.sk-label label {font-family: monospace;font-weight: bold;display: inline-block;line-height: 1.2em;}#sk-container-id-1 div.sk-label-container {text-align: center;}#sk-container-id-1 div.sk-container {/* jupyter's `normalize.less` sets `[hidden] { display: none; }` but bootstrap.min.css set `[hidden] { display: none !important; }` so we also need the `!important` here to be able to override the default hidden behavior on the sphinx rendered scikit-learn.org. See: https://github.com/scikit-learn/scikit-learn/issues/21755 */display: inline-block !important;position: relative;}#sk-container-id-1 div.sk-text-repr-fallback {display: none;}</style><div id=\"sk-container-id-1\" class=\"sk-top-container\"><div class=\"sk-text-repr-fallback\"><pre>KNeighborsClassifier(n_neighbors=7)</pre><b>In a Jupyter environment, please rerun this cell to show the HTML representation or trust the notebook. <br />On GitHub, the HTML representation is unable to render, please try loading this page with nbviewer.org.</b></div><div class=\"sk-container\" hidden><div class=\"sk-item\"><div class=\"sk-estimator sk-toggleable\"><input class=\"sk-toggleable__control sk-hidden--visually\" id=\"sk-estimator-id-1\" type=\"checkbox\" checked><label for=\"sk-estimator-id-1\" class=\"sk-toggleable__label sk-toggleable__label-arrow\">KNeighborsClassifier</label><div class=\"sk-toggleable__content\"><pre>KNeighborsClassifier(n_neighbors=7)</pre></div></div></div></div></div>"
      ],
      "text/plain": [
       "KNeighborsClassifier(n_neighbors=7)"
      ]
     },
     "execution_count": 19,
     "metadata": {},
     "output_type": "execute_result"
    }
   ],
   "source": [
    "knn=KNeighborsClassifier(n_neighbors=7)\n",
    "knn.fit(X_train, y_train)"
   ]
  },
  {
   "cell_type": "code",
   "execution_count": 20,
   "id": "turkish-basement",
   "metadata": {
    "execution": {
     "iopub.execute_input": "2021-04-18T10:58:57.652697Z",
     "iopub.status.busy": "2021-04-18T10:58:57.651918Z",
     "iopub.status.idle": "2021-04-18T10:58:57.670222Z",
     "shell.execute_reply": "2021-04-18T10:58:57.669710Z"
    },
    "papermill": {
     "duration": 0.074537,
     "end_time": "2021-04-18T10:58:57.670351",
     "exception": false,
     "start_time": "2021-04-18T10:58:57.595814",
     "status": "completed"
    },
    "tags": []
   },
   "outputs": [
    {
     "name": "stdout",
     "output_type": "stream",
     "text": [
      "74.56647398843931\n"
     ]
    }
   ],
   "source": [
    "print(knn.score(X_test, y_test)*100)"
   ]
  },
  {
   "cell_type": "markdown",
   "id": "environmental-gospel",
   "metadata": {
    "papermill": {
     "duration": 0.051737,
     "end_time": "2021-04-18T10:58:57.778747",
     "exception": false,
     "start_time": "2021-04-18T10:58:57.727010",
     "status": "completed"
    },
    "tags": []
   },
   "source": [
    "# Confusion Matrix"
   ]
  },
  {
   "cell_type": "code",
   "execution_count": 21,
   "id": "expressed-burner",
   "metadata": {
    "execution": {
     "iopub.execute_input": "2021-04-18T10:58:57.889114Z",
     "iopub.status.busy": "2021-04-18T10:58:57.888321Z",
     "iopub.status.idle": "2021-04-18T10:58:57.890871Z",
     "shell.execute_reply": "2021-04-18T10:58:57.891318Z"
    },
    "papermill": {
     "duration": 0.060076,
     "end_time": "2021-04-18T10:58:57.891467",
     "exception": false,
     "start_time": "2021-04-18T10:58:57.831391",
     "status": "completed"
    },
    "tags": []
   },
   "outputs": [],
   "source": [
    "from sklearn.metrics import confusion_matrix\n",
    "from sklearn import metrics"
   ]
  },
  {
   "cell_type": "code",
   "execution_count": 22,
   "id": "ecological-administrator",
   "metadata": {
    "execution": {
     "iopub.execute_input": "2021-04-18T10:58:58.000283Z",
     "iopub.status.busy": "2021-04-18T10:58:57.999561Z",
     "iopub.status.idle": "2021-04-18T10:58:58.018570Z",
     "shell.execute_reply": "2021-04-18T10:58:58.018120Z"
    },
    "papermill": {
     "duration": 0.075599,
     "end_time": "2021-04-18T10:58:58.018697",
     "exception": false,
     "start_time": "2021-04-18T10:58:57.943098",
     "status": "completed"
    },
    "tags": []
   },
   "outputs": [],
   "source": [
    "y_pred=knn.predict(X_train)"
   ]
  },
  {
   "cell_type": "markdown",
   "id": "indoor-airline",
   "metadata": {
    "papermill": {
     "duration": 0.052652,
     "end_time": "2021-04-18T10:58:58.124056",
     "exception": false,
     "start_time": "2021-04-18T10:58:58.071404",
     "status": "completed"
    },
    "tags": []
   },
   "source": [
    "# Evaluation of the model"
   ]
  },
  {
   "cell_type": "code",
   "execution_count": 23,
   "id": "brown-confidentiality",
   "metadata": {
    "execution": {
     "iopub.execute_input": "2021-04-18T10:58:58.234005Z",
     "iopub.status.busy": "2021-04-18T10:58:58.233153Z",
     "iopub.status.idle": "2021-04-18T10:58:58.248413Z",
     "shell.execute_reply": "2021-04-18T10:58:58.248918Z"
    },
    "papermill": {
     "duration": 0.073962,
     "end_time": "2021-04-18T10:58:58.249069",
     "exception": false,
     "start_time": "2021-04-18T10:58:58.175107",
     "status": "completed"
    },
    "tags": []
   },
   "outputs": [
    {
     "name": "stdout",
     "output_type": "stream",
     "text": [
      "Accuracy Score:- 0.8199052132701422\n",
      "F1 Score:- 0.7285714285714285\n",
      "Average Precision Score:- 0.6387817643538191\n",
      "Log Loss:- 6.491274070077972\n",
      "Precision Score:- 0.7669172932330827\n",
      "Recall Score:- 0.6938775510204082\n",
      "ROC-AUC Score:- 0.7905751391465676\n"
     ]
    }
   ],
   "source": [
    "print(\"Accuracy Score:-\", metrics.accuracy_score(y_train, y_pred))\n",
    "print(\"F1 Score:-\", metrics.f1_score(y_train, y_pred))\n",
    "print(\"Average Precision Score:-\", metrics.average_precision_score(y_train, y_pred))\n",
    "print(\"Log Loss:-\", metrics.log_loss(y_train, y_pred))\n",
    "print(\"Precision Score:-\", metrics.precision_score(y_train, y_pred))\n",
    "print(\"Recall Score:-\", metrics.recall_score(y_train, y_pred))\n",
    "print(\"ROC-AUC Score:-\", metrics.roc_auc_score(y_train, y_pred))"
   ]
  },
  {
   "cell_type": "markdown",
   "id": "beneficial-lafayette",
   "metadata": {
    "papermill": {
     "duration": 0.05257,
     "end_time": "2021-04-18T10:58:58.354469",
     "exception": false,
     "start_time": "2021-04-18T10:58:58.301899",
     "status": "completed"
    },
    "tags": []
   },
   "source": [
    "# Evaluation of the test dataset"
   ]
  },
  {
   "cell_type": "code",
   "execution_count": 24,
   "id": "recent-disco",
   "metadata": {
    "execution": {
     "iopub.execute_input": "2021-04-18T10:58:58.466710Z",
     "iopub.status.busy": "2021-04-18T10:58:58.465825Z",
     "iopub.status.idle": "2021-04-18T10:58:58.483935Z",
     "shell.execute_reply": "2021-04-18T10:58:58.483367Z"
    },
    "papermill": {
     "duration": 0.076636,
     "end_time": "2021-04-18T10:58:58.484087",
     "exception": false,
     "start_time": "2021-04-18T10:58:58.407451",
     "status": "completed"
    },
    "tags": []
   },
   "outputs": [],
   "source": [
    "# Predicting the Test data with model \n",
    "y_test_pred=knn.predict(X_test)"
   ]
  },
  {
   "cell_type": "markdown",
   "id": "desperate-egypt",
   "metadata": {
    "papermill": {
     "duration": 0.057096,
     "end_time": "2021-04-18T10:58:58.601049",
     "exception": false,
     "start_time": "2021-04-18T10:58:58.543953",
     "status": "completed"
    },
    "tags": []
   },
   "source": [
    "# Evaluation Model"
   ]
  },
  {
   "cell_type": "code",
   "execution_count": 25,
   "id": "treated-institution",
   "metadata": {
    "execution": {
     "iopub.execute_input": "2021-04-18T10:58:58.723673Z",
     "iopub.status.busy": "2021-04-18T10:58:58.722687Z",
     "iopub.status.idle": "2021-04-18T10:58:58.738183Z",
     "shell.execute_reply": "2021-04-18T10:58:58.737722Z"
    },
    "papermill": {
     "duration": 0.08022,
     "end_time": "2021-04-18T10:58:58.738305",
     "exception": false,
     "start_time": "2021-04-18T10:58:58.658085",
     "status": "completed"
    },
    "tags": []
   },
   "outputs": [
    {
     "name": "stdout",
     "output_type": "stream",
     "text": [
      "Accuracy Score:- 0.7456647398843931\n",
      "F1 Score:- 0.6036036036036037\n",
      "Average Precision Score:- 0.5233879141986716\n",
      "Log Loss:- 9.167171960237889\n",
      "Precision Score:- 0.6633663366336634\n",
      "Recall Score:- 0.5537190082644629\n",
      "ROC-AUC Score:- 0.701303948576676\n"
     ]
    }
   ],
   "source": [
    "knn_acc=metrics.accuracy_score(y_test, y_test_pred)\n",
    "print(\"Accuracy Score:-\",knn_acc)\n",
    "print(\"F1 Score:-\", metrics.f1_score(y_test, y_test_pred))\n",
    "print(\"Average Precision Score:-\", metrics.average_precision_score(y_test, y_test_pred))\n",
    "print(\"Log Loss:-\", metrics.log_loss(y_test, y_test_pred))\n",
    "print(\"Precision Score:-\", metrics.precision_score(y_test, y_test_pred))\n",
    "print(\"Recall Score:-\", metrics.recall_score(y_test, y_test_pred))\n",
    "print(\"ROC-AUC Score:-\", metrics.roc_auc_score(y_test, y_test_pred))"
   ]
  },
  {
   "cell_type": "markdown",
   "id": "realistic-scratch",
   "metadata": {
    "papermill": {
     "duration": 0.055342,
     "end_time": "2021-04-18T10:58:58.849910",
     "exception": false,
     "start_time": "2021-04-18T10:58:58.794568",
     "status": "completed"
    },
    "tags": []
   },
   "source": [
    "# Confusion Matrix\n",
    "* Calculation"
   ]
  },
  {
   "cell_type": "code",
   "execution_count": 26,
   "id": "scheduled-cross",
   "metadata": {
    "execution": {
     "iopub.execute_input": "2021-04-18T10:58:58.973352Z",
     "iopub.status.busy": "2021-04-18T10:58:58.972640Z",
     "iopub.status.idle": "2021-04-18T10:58:58.977869Z",
     "shell.execute_reply": "2021-04-18T10:58:58.978423Z"
    },
    "papermill": {
     "duration": 0.069441,
     "end_time": "2021-04-18T10:58:58.978576",
     "exception": false,
     "start_time": "2021-04-18T10:58:58.909135",
     "status": "completed"
    },
    "tags": []
   },
   "outputs": [],
   "source": [
    "cfm=confusion_matrix(y_test, y_test_pred)\n",
    "trueNegative=cfm[0][0]\n",
    "falsePossitive=cfm[0][1]\n",
    "false_negative=cfm[1][0]\n",
    "truePositive=cfm[1][1]"
   ]
  },
  {
   "cell_type": "code",
   "execution_count": 27,
   "id": "orange-mechanics",
   "metadata": {
    "execution": {
     "iopub.execute_input": "2021-04-18T10:58:59.091603Z",
     "iopub.status.busy": "2021-04-18T10:58:59.090885Z",
     "iopub.status.idle": "2021-04-18T10:58:59.094949Z",
     "shell.execute_reply": "2021-04-18T10:58:59.094481Z"
    },
    "papermill": {
     "duration": 0.062715,
     "end_time": "2021-04-18T10:58:59.095060",
     "exception": false,
     "start_time": "2021-04-18T10:58:59.032345",
     "status": "completed"
    },
    "tags": []
   },
   "outputs": [
    {
     "name": "stdout",
     "output_type": "stream",
     "text": [
      "Confusion Matrix [[191  34]\n",
      " [ 54  67]]\n"
     ]
    }
   ],
   "source": [
    "print(\"Confusion Matrix\", cfm)"
   ]
  },
  {
   "cell_type": "markdown",
   "id": "supreme-brown",
   "metadata": {
    "papermill": {
     "duration": 0.052605,
     "end_time": "2021-04-18T10:58:59.200848",
     "exception": false,
     "start_time": "2021-04-18T10:58:59.148243",
     "status": "completed"
    },
    "tags": []
   },
   "source": [
    "# Visulalize the Confusion Matrix"
   ]
  },
  {
   "cell_type": "code",
   "execution_count": 28,
   "id": "corrected-phoenix",
   "metadata": {
    "execution": {
     "iopub.execute_input": "2021-04-18T10:58:59.344134Z",
     "iopub.status.busy": "2021-04-18T10:58:59.343066Z",
     "iopub.status.idle": "2021-04-18T10:58:59.558815Z",
     "shell.execute_reply": "2021-04-18T10:58:59.558309Z"
    },
    "papermill": {
     "duration": 0.304603,
     "end_time": "2021-04-18T10:58:59.558956",
     "exception": false,
     "start_time": "2021-04-18T10:58:59.254353",
     "status": "completed"
    },
    "tags": []
   },
   "outputs": [
    {
     "data": {
      "image/png": "[encoded data removed]",
      "text/plain": [
       "<Figure size 600x500 with 2 Axes>"
      ]
     },
     "metadata": {},
     "output_type": "display_data"
    }
   ],
   "source": [
    "cfm_df=pd.DataFrame(cfm, range(2), range(2))\n",
    "plt.figure(figsize=(6,5))\n",
    "sns.heatmap(cfm_df, cmap='Reds', annot=True)\n",
    "plt.show()"
   ]
  },
  {
   "cell_type": "markdown",
   "id": "fabulous-sacramento",
   "metadata": {
    "papermill": {
     "duration": 0.054943,
     "end_time": "2021-04-18T10:58:59.672857",
     "exception": false,
     "start_time": "2021-04-18T10:58:59.617914",
     "status": "completed"
    },
    "tags": []
   },
   "source": [
    "# Table of confusion Matrix"
   ]
  },
  {
   "cell_type": "code",
   "execution_count": 29,
   "id": "light-familiar",
   "metadata": {
    "execution": {
     "iopub.execute_input": "2021-04-18T10:58:59.795417Z",
     "iopub.status.busy": "2021-04-18T10:58:59.794559Z",
     "iopub.status.idle": "2021-04-18T10:58:59.934666Z",
     "shell.execute_reply": "2021-04-18T10:58:59.935082Z"
    },
    "papermill": {
     "duration": 0.20769,
     "end_time": "2021-04-18T10:58:59.935229",
     "exception": false,
     "start_time": "2021-04-18T10:58:59.727539",
     "status": "completed"
    },
    "tags": []
   },
   "outputs": [
    {
     "data": {
      "text/html": [
       "<div>\n",
       "<style scoped>\n",
       "    .dataframe tbody tr th:only-of-type {\n",
       "        vertical-align: middle;\n",
       "    }\n",
       "\n",
       "    .dataframe tbody tr th {\n",
       "        vertical-align: top;\n",
       "    }\n",
       "\n",
       "    .dataframe thead th {\n",
       "        text-align: right;\n",
       "    }\n",
       "</style>\n",
       "<table border=\"1\" class=\"dataframe\">\n",
       "  <thead>\n",
       "    <tr style=\"text-align: right;\">\n",
       "      <th>Predicted</th>\n",
       "      <th>0</th>\n",
       "      <th>1</th>\n",
       "      <th>All</th>\n",
       "    </tr>\n",
       "    <tr>\n",
       "      <th>True</th>\n",
       "      <th></th>\n",
       "      <th></th>\n",
       "      <th></th>\n",
       "    </tr>\n",
       "  </thead>\n",
       "  <tbody>\n",
       "    <tr>\n",
       "      <th>0</th>\n",
       "      <td>191</td>\n",
       "      <td>34</td>\n",
       "      <td>225</td>\n",
       "    </tr>\n",
       "    <tr>\n",
       "      <th>1</th>\n",
       "      <td>54</td>\n",
       "      <td>67</td>\n",
       "      <td>121</td>\n",
       "    </tr>\n",
       "    <tr>\n",
       "      <th>All</th>\n",
       "      <td>245</td>\n",
       "      <td>101</td>\n",
       "      <td>346</td>\n",
       "    </tr>\n",
       "  </tbody>\n",
       "</table>\n",
       "</div>"
      ],
      "text/plain": [
       "Predicted    0    1  All\n",
       "True                    \n",
       "0          191   34  225\n",
       "1           54   67  121\n",
       "All        245  101  346"
      ]
     },
     "execution_count": 29,
     "metadata": {},
     "output_type": "execute_result"
    }
   ],
   "source": [
    "pd.crosstab(y_test, y_test_pred, rownames=['True'], colnames=['Predicted'], margins=True)\n"
   ]
  },
  {
   "cell_type": "code",
   "execution_count": 30,
   "id": "guided-latino",
   "metadata": {
    "execution": {
     "iopub.execute_input": "2021-04-18T10:59:00.062692Z",
     "iopub.status.busy": "2021-04-18T10:59:00.061729Z",
     "iopub.status.idle": "2021-04-18T10:59:00.066680Z",
     "shell.execute_reply": "2021-04-18T10:59:00.066192Z"
    },
    "papermill": {
     "duration": 0.072925,
     "end_time": "2021-04-18T10:59:00.066815",
     "exception": false,
     "start_time": "2021-04-18T10:58:59.993890",
     "status": "completed"
    },
    "tags": []
   },
   "outputs": [
    {
     "name": "stdout",
     "output_type": "stream",
     "text": [
      "true negative 191\n",
      "False Positive 34\n",
      "false Negative 54\n",
      "True Positive 67\n"
     ]
    }
   ],
   "source": [
    "print(\"true negative\", trueNegative)\n",
    "print(\"False Positive\", falsePossitive)\n",
    "print(\"false Negative\", false_negative)\n",
    "print(\"True Positive\", truePositive)"
   ]
  },
  {
   "cell_type": "markdown",
   "id": "superior-friendly",
   "metadata": {
    "papermill": {
     "duration": 0.060491,
     "end_time": "2021-04-18T10:59:00.185067",
     "exception": false,
     "start_time": "2021-04-18T10:59:00.124576",
     "status": "completed"
    },
    "tags": []
   },
   "source": [
    "# Accuracy "
   ]
  },
  {
   "cell_type": "code",
   "execution_count": 31,
   "id": "stopped-curve",
   "metadata": {
    "execution": {
     "iopub.execute_input": "2021-04-18T10:59:00.316996Z",
     "iopub.status.busy": "2021-04-18T10:59:00.316198Z",
     "iopub.status.idle": "2021-04-18T10:59:00.320090Z",
     "shell.execute_reply": "2021-04-18T10:59:00.320503Z"
    },
    "papermill": {
     "duration": 0.072388,
     "end_time": "2021-04-18T10:59:00.320678",
     "exception": false,
     "start_time": "2021-04-18T10:59:00.248290",
     "status": "completed"
    },
    "tags": []
   },
   "outputs": [
    {
     "name": "stdout",
     "output_type": "stream",
     "text": [
      "correct prediction 74.6 %\n"
     ]
    }
   ],
   "source": [
    "print(\"correct prediction\", \n",
    "      round((trueNegative+truePositive)/len(y_test_pred)*100, 1),'%')"
   ]
  },
  {
   "cell_type": "code",
   "execution_count": 32,
   "id": "packed-sapphire",
   "metadata": {
    "execution": {
     "iopub.execute_input": "2021-04-18T10:59:00.454868Z",
     "iopub.status.busy": "2021-04-18T10:59:00.454037Z",
     "iopub.status.idle": "2021-04-18T10:59:00.457377Z",
     "shell.execute_reply": "2021-04-18T10:59:00.456878Z"
    },
    "papermill": {
     "duration": 0.072229,
     "end_time": "2021-04-18T10:59:00.457534",
     "exception": false,
     "start_time": "2021-04-18T10:59:00.385305",
     "status": "completed"
    },
    "tags": []
   },
   "outputs": [],
   "source": [
    "from sklearn.metrics import classification_report"
   ]
  },
  {
   "cell_type": "markdown",
   "id": "abstract-belief",
   "metadata": {
    "papermill": {
     "duration": 0.062952,
     "end_time": "2021-04-18T10:59:00.585100",
     "exception": false,
     "start_time": "2021-04-18T10:59:00.522148",
     "status": "completed"
    },
    "tags": []
   },
   "source": [
    "* There are four ways to check if the predictions are right or wrong:\n",
    "* TN / True Negative: the case was negative and predicted negative\n",
    "* TP / True Positive: the case was positive and predicted positive\n",
    "* FN / False Negative: the case was positive but predicted negative\n",
    "* FP / False Positive: the case was negative but predicted positive\n",
    "* Precision — What percent of your predictions were correct?\n",
    "* Precision is the ability of a classifier not to label an instance positive that is actually negative. For each class, it is defined as the ratio of true positives to the sum of a true positive and false positive.\n",
    "* Precision:- Accuracy of positive predictions.\n",
    "* Precision = TP/(TP + FP)\n",
    "* Recall — What percent of the positive cases did you catch?\n",
    "* Recall is the ability of a classifier to find all positive instances. For each class it is defined as the ratio of true positives to the sum of true positives and false negatives.\n",
    "* Recall:- Fraction of positives that were correctly identified.\n",
    "* Recall = TP/(TP+FN)\n",
    "* F1 score — What percent of positive predictions were correct?\n",
    "* The F1 score is a weighted harmonic mean of precision and recall such that the best score is 1.0 and the worst is 0.0. F1 scores are lower than accuracy measures as they embed precision and recall into their computation. As a rule of thumb, the weighted average of F1 should be used to compare classifier models, not global accuracy.\n",
    "* F1 Score = 2*(Recall * Precision) / (Recall + Precision)\n",
    "* Support\n",
    "* Support is the number of actual occurrences of the class in the specified dataset. Imbalanced support in the training data may indicate structural weaknesses in the reported scores of the classifier and could indicate the need for stratified sampling or rebalancing. Support doesn’t change between models but instead diagnoses the evaluation process.\n",
    "* "
   ]
  },
  {
   "cell_type": "markdown",
   "id": "english-timer",
   "metadata": {
    "papermill": {
     "duration": 0.061205,
     "end_time": "2021-04-18T10:59:00.712470",
     "exception": false,
     "start_time": "2021-04-18T10:59:00.651265",
     "status": "completed"
    },
    "tags": []
   },
   "source": [
    "# Summary table of Precision, Recall, F1-Score, Support"
   ]
  },
  {
   "cell_type": "code",
   "execution_count": 33,
   "id": "happy-taste",
   "metadata": {
    "execution": {
     "iopub.execute_input": "2021-04-18T10:59:00.837458Z",
     "iopub.status.busy": "2021-04-18T10:59:00.836606Z",
     "iopub.status.idle": "2021-04-18T10:59:00.846170Z",
     "shell.execute_reply": "2021-04-18T10:59:00.845708Z"
    },
    "papermill": {
     "duration": 0.072366,
     "end_time": "2021-04-18T10:59:00.846300",
     "exception": false,
     "start_time": "2021-04-18T10:59:00.773934",
     "status": "completed"
    },
    "tags": []
   },
   "outputs": [
    {
     "name": "stdout",
     "output_type": "stream",
     "text": [
      "              precision    recall  f1-score   support\n",
      "\n",
      "           0       0.78      0.85      0.81       225\n",
      "           1       0.66      0.55      0.60       121\n",
      "\n",
      "    accuracy                           0.75       346\n",
      "   macro avg       0.72      0.70      0.71       346\n",
      "weighted avg       0.74      0.75      0.74       346\n",
      "\n"
     ]
    }
   ],
   "source": [
    "print(classification_report(y_test, y_test_pred))"
   ]
  },
  {
   "cell_type": "markdown",
   "id": "interesting-office",
   "metadata": {
    "papermill": {
     "duration": 0.05719,
     "end_time": "2021-04-18T10:59:00.961860",
     "exception": false,
     "start_time": "2021-04-18T10:59:00.904670",
     "status": "completed"
    },
    "tags": []
   },
   "source": [
    "# ROC(Reciever Operating Curve)"
   ]
  },
  {
   "cell_type": "code",
   "execution_count": 34,
   "id": "fifth-train",
   "metadata": {
    "execution": {
     "iopub.execute_input": "2021-04-18T10:59:01.080910Z",
     "iopub.status.busy": "2021-04-18T10:59:01.080092Z",
     "iopub.status.idle": "2021-04-18T10:59:01.085026Z",
     "shell.execute_reply": "2021-04-18T10:59:01.084520Z"
    },
    "papermill": {
     "duration": 0.066237,
     "end_time": "2021-04-18T10:59:01.085142",
     "exception": false,
     "start_time": "2021-04-18T10:59:01.018905",
     "status": "completed"
    },
    "tags": []
   },
   "outputs": [],
   "source": [
    "y_test_pred_prob=knn.predict_proba(X_test)[:,1]\n"
   ]
  },
  {
   "cell_type": "code",
   "execution_count": 35,
   "id": "chronic-producer",
   "metadata": {
    "execution": {
     "iopub.execute_input": "2021-04-18T10:59:01.204341Z",
     "iopub.status.busy": "2021-04-18T10:59:01.203621Z",
     "iopub.status.idle": "2021-04-18T10:59:01.206534Z",
     "shell.execute_reply": "2021-04-18T10:59:01.206098Z"
    },
    "papermill": {
     "duration": 0.06257,
     "end_time": "2021-04-18T10:59:01.206657",
     "exception": false,
     "start_time": "2021-04-18T10:59:01.144087",
     "status": "completed"
    },
    "tags": []
   },
   "outputs": [],
   "source": [
    "from sklearn.metrics import roc_curve"
   ]
  },
  {
   "cell_type": "code",
   "execution_count": 36,
   "id": "sacred-credit",
   "metadata": {
    "execution": {
     "iopub.execute_input": "2021-04-18T10:59:01.328280Z",
     "iopub.status.busy": "2021-04-18T10:59:01.327374Z",
     "iopub.status.idle": "2021-04-18T10:59:01.329893Z",
     "shell.execute_reply": "2021-04-18T10:59:01.330302Z"
    },
    "papermill": {
     "duration": 0.066084,
     "end_time": "2021-04-18T10:59:01.330445",
     "exception": false,
     "start_time": "2021-04-18T10:59:01.264361",
     "status": "completed"
    },
    "tags": []
   },
   "outputs": [],
   "source": [
    "fpr, tpr,thresholds=roc_curve(y_test,y_test_pred_prob)"
   ]
  },
  {
   "cell_type": "code",
   "execution_count": 37,
   "id": "official-relations",
   "metadata": {
    "execution": {
     "iopub.execute_input": "2021-04-18T10:59:01.477033Z",
     "iopub.status.busy": "2021-04-18T10:59:01.475913Z",
     "iopub.status.idle": "2021-04-18T10:59:01.624921Z",
     "shell.execute_reply": "2021-04-18T10:59:01.625376Z"
    },
    "papermill": {
     "duration": 0.236685,
     "end_time": "2021-04-18T10:59:01.625562",
     "exception": false,
     "start_time": "2021-04-18T10:59:01.388877",
     "status": "completed"
    },
    "tags": []
   },
   "outputs": [
    {
     "data": {
      "image/png": "[encoded data removed]",
      "text/plain": [
       "<Figure size 700x700 with 1 Axes>"
      ]
     },
     "metadata": {},
     "output_type": "display_data"
    }
   ],
   "source": [
    "plt.figure(figsize=(7,7))\n",
    "plt.plot([0,1],[0,1],'k--')\n",
    "plt.plot(fpr, tpr, label='knn')\n",
    "plt.xlabel(\"fpr (False Possitive rate)\")\n",
    "plt.ylabel(\"tpr-(True Positive rate)\")\n",
    "plt.title(\"ROC_AUC (k_nn=7)\")\n",
    "plt.show()"
   ]
  },
  {
   "cell_type": "markdown",
   "id": "general-arrow",
   "metadata": {
    "papermill": {
     "duration": 0.05995,
     "end_time": "2021-04-18T10:59:01.747321",
     "exception": false,
     "start_time": "2021-04-18T10:59:01.687371",
     "status": "completed"
    },
    "tags": []
   },
   "source": [
    "# Inference\n",
    "* The k-nn is very godd as we can see that it is not dumb model as AUC is more than 0.5 , Hence it is performing very good."
   ]
  },
  {
   "cell_type": "code",
   "execution_count": 38,
   "id": "sunset-heater",
   "metadata": {
    "execution": {
     "iopub.execute_input": "2021-04-18T10:59:01.871373Z",
     "iopub.status.busy": "2021-04-18T10:59:01.870493Z",
     "iopub.status.idle": "2021-04-18T10:59:01.876686Z",
     "shell.execute_reply": "2021-04-18T10:59:01.877336Z"
    },
    "papermill": {
     "duration": 0.070573,
     "end_time": "2021-04-18T10:59:01.877560",
     "exception": false,
     "start_time": "2021-04-18T10:59:01.806987",
     "status": "completed"
    },
    "tags": []
   },
   "outputs": [
    {
     "name": "stdout",
     "output_type": "stream",
     "text": [
      "77.73553719008265\n"
     ]
    }
   ],
   "source": [
    "from sklearn.metrics import roc_auc_score\n",
    "print(roc_auc_score(y_test, y_test_pred_prob)*100)"
   ]
  },
  {
   "cell_type": "code",
   "execution_count": 39,
   "id": "employed-limit",
   "metadata": {
    "execution": {
     "iopub.execute_input": "2021-04-18T10:59:02.003279Z",
     "iopub.status.busy": "2021-04-18T10:59:02.002305Z",
     "iopub.status.idle": "2021-04-18T10:59:02.501141Z",
     "shell.execute_reply": "2021-04-18T10:59:02.501586Z"
    },
    "papermill": {
     "duration": 0.565185,
     "end_time": "2021-04-18T10:59:02.501741",
     "exception": false,
     "start_time": "2021-04-18T10:59:01.936556",
     "status": "completed"
    },
    "tags": []
   },
   "outputs": [
    {
     "data": {
      "image/png": "[encoded data removed]",
      "text/plain": [
       "<Figure size 640x480 with 1 Axes>"
      ]
     },
     "metadata": {},
     "output_type": "display_data"
    }
   ],
   "source": [
    "k_range = list(range(1, 26))\n",
    "scores = []\n",
    "for i in k_range:\n",
    "    knn = KNeighborsClassifier(n_neighbors=i)\n",
    "    knn.fit(X_train, y_train)\n",
    "    y_pred = knn.predict(X_test)\n",
    "    scores.append(metrics.accuracy_score(y_test, y_pred))\n",
    "plt.plot(k_range, scores)\n",
    "plt.show()"
   ]
  },
  {
   "cell_type": "markdown",
   "id": "offensive-disorder",
   "metadata": {
    "papermill": {
     "duration": 0.058931,
     "end_time": "2021-04-18T10:59:02.621141",
     "exception": false,
     "start_time": "2021-04-18T10:59:02.562210",
     "status": "completed"
    },
    "tags": []
   },
   "source": [
    "# Cross Validation\n",
    "\n",
    "Now before getting into the details of Hyperparamter tuning, let us understand the concept of Cross validation.\n",
    "\n",
    "The trained model's performance is dependent on way the data is split. It might not representative of the model’s ability to generalize.\n",
    "\n",
    "The solution is cross validation.\n",
    "\n",
    "Cross-validation is a technique to evaluate predictive models by partitioning the original sample into a training set to train the model, and a test set to evaluate it.\n",
    "# K-fold cross-validation\n",
    "In k-fold cross-validation, the original sample is randomly partitioned into k equal size subsamples. Of the k subsamples, a single subsample is retained as the validation data for testing the model, and the remaining k-1 subsamples are used as training data. The cross-validation process is then repeated k times (the folds), with each of the k subsamples used exactly once as the validation data. The k results from the folds can then be averaged (or otherwise combined) to produce a single estimation. The advantage of this method is that all observations are used for both training and validation, and each observation is used for validation exactly once."
   ]
  },
  {
   "cell_type": "markdown",
   "id": "completed-marathon",
   "metadata": {
    "papermill": {
     "duration": 0.059863,
     "end_time": "2021-04-18T10:59:02.740585",
     "exception": false,
     "start_time": "2021-04-18T10:59:02.680722",
     "status": "completed"
    },
    "tags": []
   },
   "source": [
    "# Hyperparameter Tuning\n",
    "\n",
    "The value of k (i.e 7) we selected above was selected by observing the curve of accuracy vs number of neighbors. This is a primitive way of hyperparameter tuning.\n",
    "\n",
    "There is a better way of doing it which involves:\n",
    "\n",
    "1) Trying a bunch of different hyperparameter values\n",
    "\n",
    "2) Fitting all of them separately\n",
    "\n",
    "3) Checking how well each performs\n",
    "\n",
    "4) Choosing the best performing one\n",
    "\n",
    "5) Using cross-validation every time\n",
    "\n",
    "Scikit-learn provides a simple way of achieving this using GridSearchCV i.e Grid Search cross-validation."
   ]
  },
  {
   "cell_type": "markdown",
   "id": "compound-zealand",
   "metadata": {
    "papermill": {
     "duration": 0.059312,
     "end_time": "2021-04-18T10:59:02.868308",
     "exception": false,
     "start_time": "2021-04-18T10:59:02.808996",
     "status": "completed"
    },
    "tags": []
   },
   "source": [
    "In almost any Machine Learning project, we train different models on the dataset and selecting the one with the best performance. However, there is almost a room for improvement as we cannot say for sure that this particular model is best for the problem at hand, hence our aim is to improve the model in any way possible. One important factor in the performances of these models are their hyperparameters, once we set appropriate values for these hyperparameters, the performance of a model can improve significantly. In this article, we will find out how we can find optimal values for the hyperparameters of a model by using GridSearchCV."
   ]
  },
  {
   "cell_type": "markdown",
   "id": "legendary-start",
   "metadata": {
    "papermill": {
     "duration": 0.059611,
     "end_time": "2021-04-18T10:59:02.986682",
     "exception": false,
     "start_time": "2021-04-18T10:59:02.927071",
     "status": "completed"
    },
    "tags": []
   },
   "source": [
    "# GridSearchCV\n",
    "* It is the process of performing hyperparameter tuning in order to determine the optimal values for a given model\n",
    "* As mentioned above, the performance of a model significantly depends on the value of hyperparameters.\n",
    "*  Note that there is no way to know in advance the best values for hyperparameters so ideally, we need to try all possible values to know the optimal values.\n",
    "* Doing this manually could take a considerable amount of time and resources and thus we use GridSearchCV to automate the tuning of hyperparameters.\n",
    "* This method of classifier is optimized by cross-validation, which is done using the GridSearchCV object on a development set that comprises only half of the available labeled data.\n",
    "* The performance of the selected hyper-parameters and trained model is then measured on a dedicated evaluation set that was not used during the model selection step.\n"
   ]
  },
  {
   "cell_type": "markdown",
   "id": "consolidated-mozambique",
   "metadata": {
    "papermill": {
     "duration": 0.061457,
     "end_time": "2021-04-18T10:59:03.112236",
     "exception": false,
     "start_time": "2021-04-18T10:59:03.050779",
     "status": "completed"
    },
    "tags": []
   },
   "source": [
    "# How does GridSearchCV work?\n",
    "* GridSearchCV tries all the combinations of the values passed in the dictionary and evaluates the model for each combination using the Cross-Validation method. \n",
    "* Hence after using this function we get accuracy/loss for every combination of hyperparameters and we can choose the one with the best performance."
   ]
  },
  {
   "cell_type": "markdown",
   "id": "alone-albert",
   "metadata": {
    "papermill": {
     "duration": 0.058281,
     "end_time": "2021-04-18T10:59:03.232001",
     "exception": false,
     "start_time": "2021-04-18T10:59:03.173720",
     "status": "completed"
    },
    "tags": []
   },
   "source": [
    "# Use of GridSearch done below"
   ]
  },
  {
   "cell_type": "code",
   "execution_count": 40,
   "id": "respective-savannah",
   "metadata": {
    "execution": {
     "iopub.execute_input": "2021-04-18T10:59:03.355437Z",
     "iopub.status.busy": "2021-04-18T10:59:03.354722Z",
     "iopub.status.idle": "2021-04-18T10:59:03.357659Z",
     "shell.execute_reply": "2021-04-18T10:59:03.357237Z"
    },
    "papermill": {
     "duration": 0.066437,
     "end_time": "2021-04-18T10:59:03.357776",
     "exception": false,
     "start_time": "2021-04-18T10:59:03.291339",
     "status": "completed"
    },
    "tags": []
   },
   "outputs": [],
   "source": [
    "from sklearn.model_selection import  GridSearchCV"
   ]
  },
  {
   "cell_type": "code",
   "execution_count": 41,
   "id": "internal-shelf",
   "metadata": {
    "execution": {
     "iopub.execute_input": "2021-04-18T10:59:03.482352Z",
     "iopub.status.busy": "2021-04-18T10:59:03.481456Z",
     "iopub.status.idle": "2021-04-18T10:59:03.484489Z",
     "shell.execute_reply": "2021-04-18T10:59:03.484064Z"
    },
    "papermill": {
     "duration": 0.067969,
     "end_time": "2021-04-18T10:59:03.484633",
     "exception": false,
     "start_time": "2021-04-18T10:59:03.416664",
     "status": "completed"
    },
    "tags": []
   },
   "outputs": [],
   "source": [
    "param_grid={'n_neighbours':np.arange(1,50)}"
   ]
  },
  {
   "cell_type": "code",
   "execution_count": 42,
   "id": "together-biotechnology",
   "metadata": {
    "execution": {
     "iopub.execute_input": "2021-04-18T10:59:03.615635Z",
     "iopub.status.busy": "2021-04-18T10:59:03.615002Z",
     "iopub.status.idle": "2021-04-18T10:59:03.618352Z",
     "shell.execute_reply": "2021-04-18T10:59:03.618988Z"
    },
    "papermill": {
     "duration": 0.070626,
     "end_time": "2021-04-18T10:59:03.619212",
     "exception": false,
     "start_time": "2021-04-18T10:59:03.548586",
     "status": "completed"
    },
    "tags": []
   },
   "outputs": [
    {
     "name": "stdout",
     "output_type": "stream",
     "text": [
      "[1, 2, 3, 4, 5, 6, 7, 8, 9, 10, 11, 12, 13, 14, 15, 16, 17, 18, 19, 20, 21, 22, 23, 24, 25, 26, 27, 28, 29, 30]\n"
     ]
    }
   ],
   "source": [
    "k_range = list(range(1, 31))\n",
    "print(k_range)"
   ]
  },
  {
   "cell_type": "code",
   "execution_count": 43,
   "id": "municipal-caution",
   "metadata": {
    "execution": {
     "iopub.execute_input": "2021-04-18T10:59:03.753312Z",
     "iopub.status.busy": "2021-04-18T10:59:03.752642Z",
     "iopub.status.idle": "2021-04-18T10:59:03.755958Z",
     "shell.execute_reply": "2021-04-18T10:59:03.756732Z"
    },
    "papermill": {
     "duration": 0.072312,
     "end_time": "2021-04-18T10:59:03.756923",
     "exception": false,
     "start_time": "2021-04-18T10:59:03.684611",
     "status": "completed"
    },
    "tags": []
   },
   "outputs": [
    {
     "name": "stdout",
     "output_type": "stream",
     "text": [
      "{'n_neighbors': [1, 2, 3, 4, 5, 6, 7, 8, 9, 10, 11, 12, 13, 14, 15, 16, 17, 18, 19, 20, 21, 22, 23, 24, 25, 26, 27, 28, 29, 30]}\n"
     ]
    }
   ],
   "source": [
    "param_grid = dict(n_neighbors=k_range)\n",
    "print(param_grid)"
   ]
  },
  {
   "cell_type": "code",
   "execution_count": 44,
   "id": "tribal-edition",
   "metadata": {
    "execution": {
     "iopub.execute_input": "2021-04-18T10:59:03.885914Z",
     "iopub.status.busy": "2021-04-18T10:59:03.885075Z",
     "iopub.status.idle": "2021-04-18T10:59:05.460884Z",
     "shell.execute_reply": "2021-04-18T10:59:05.460079Z"
    },
    "papermill": {
     "duration": 1.640291,
     "end_time": "2021-04-18T10:59:05.461057",
     "exception": false,
     "start_time": "2021-04-18T10:59:03.820766",
     "status": "completed"
    },
    "tags": []
   },
   "outputs": [
    {
     "data": {
      "text/html": [
       "<style>#sk-container-id-2 {color: black;background-color: white;}#sk-container-id-2 pre{padding: 0;}#sk-container-id-2 div.sk-toggleable {background-color: white;}#sk-container-id-2 label.sk-toggleable__label {cursor: pointer;display: block;width: 100%;margin-bottom: 0;padding: 0.3em;box-sizing: border-box;text-align: center;}#sk-container-id-2 label.sk-toggleable__label-arrow:before {content: \"▸\";float: left;margin-right: 0.25em;color: #696969;}#sk-container-id-2 label.sk-toggleable__label-arrow:hover:before {color: black;}#sk-container-id-2 div.sk-estimator:hover label.sk-toggleable__label-arrow:before {color: black;}#sk-container-id-2 div.sk-toggleable__content {max-height: 0;max-width: 0;overflow: hidden;text-align: left;background-color: #f0f8ff;}#sk-container-id-2 div.sk-toggleable__content pre {margin: 0.2em;color: black;border-radius: 0.25em;background-color: #f0f8ff;}#sk-container-id-2 input.sk-toggleable__control:checked~div.sk-toggleable__content {max-height: 200px;max-width: 100%;overflow: auto;}#sk-container-id-2 input.sk-toggleable__control:checked~label.sk-toggleable__label-arrow:before {content: \"▾\";}#sk-container-id-2 div.sk-estimator input.sk-toggleable__control:checked~label.sk-toggleable__label {background-color: #d4ebff;}#sk-container-id-2 div.sk-label input.sk-toggleable__control:checked~label.sk-toggleable__label {background-color: #d4ebff;}#sk-container-id-2 input.sk-hidden--visually {border: 0;clip: rect(1px 1px 1px 1px);clip: rect(1px, 1px, 1px, 1px);height: 1px;margin: -1px;overflow: hidden;padding: 0;position: absolute;width: 1px;}#sk-container-id-2 div.sk-estimator {font-family: monospace;background-color: #f0f8ff;border: 1px dotted black;border-radius: 0.25em;box-sizing: border-box;margin-bottom: 0.5em;}#sk-container-id-2 div.sk-estimator:hover {background-color: #d4ebff;}#sk-container-id-2 div.sk-parallel-item::after {content: \"\";width: 100%;border-bottom: 1px solid gray;flex-grow: 1;}#sk-container-id-2 div.sk-label:hover label.sk-toggleable__label {background-color: #d4ebff;}#sk-container-id-2 div.sk-serial::before {content: \"\";position: absolute;border-left: 1px solid gray;box-sizing: border-box;top: 0;bottom: 0;left: 50%;z-index: 0;}#sk-container-id-2 div.sk-serial {display: flex;flex-direction: column;align-items: center;background-color: white;padding-right: 0.2em;padding-left: 0.2em;position: relative;}#sk-container-id-2 div.sk-item {position: relative;z-index: 1;}#sk-container-id-2 div.sk-parallel {display: flex;align-items: stretch;justify-content: center;background-color: white;position: relative;}#sk-container-id-2 div.sk-item::before, #sk-container-id-2 div.sk-parallel-item::before {content: \"\";position: absolute;border-left: 1px solid gray;box-sizing: border-box;top: 0;bottom: 0;left: 50%;z-index: -1;}#sk-container-id-2 div.sk-parallel-item {display: flex;flex-direction: column;z-index: 1;position: relative;background-color: white;}#sk-container-id-2 div.sk-parallel-item:first-child::after {align-self: flex-end;width: 50%;}#sk-container-id-2 div.sk-parallel-item:last-child::after {align-self: flex-start;width: 50%;}#sk-container-id-2 div.sk-parallel-item:only-child::after {width: 0;}#sk-container-id-2 div.sk-dashed-wrapped {border: 1px dashed gray;margin: 0 0.4em 0.5em 0.4em;box-sizing: border-box;padding-bottom: 0.4em;background-color: white;}#sk-container-id-2 div.sk-label label {font-family: monospace;font-weight: bold;display: inline-block;line-height: 1.2em;}#sk-container-id-2 div.sk-label-container {text-align: center;}#sk-container-id-2 div.sk-container {/* jupyter's `normalize.less` sets `[hidden] { display: none; }` but bootstrap.min.css set `[hidden] { display: none !important; }` so we also need the `!important` here to be able to override the default hidden behavior on the sphinx rendered scikit-learn.org. See: https://github.com/scikit-learn/scikit-learn/issues/21755 */display: inline-block !important;position: relative;}#sk-container-id-2 div.sk-text-repr-fallback {display: none;}</style><div id=\"sk-container-id-2\" class=\"sk-top-container\"><div class=\"sk-text-repr-fallback\"><pre>GridSearchCV(cv=10, estimator=KNeighborsClassifier(n_neighbors=25),\n",
       "             param_grid={&#x27;n_neighbors&#x27;: [1, 2, 3, 4, 5, 6, 7, 8, 9, 10, 11, 12,\n",
       "                                         13, 14, 15, 16, 17, 18, 19, 20, 21, 22,\n",
       "                                         23, 24, 25, 26, 27, 28, 29, 30]},\n",
       "             scoring=&#x27;accuracy&#x27;)</pre><b>In a Jupyter environment, please rerun this cell to show the HTML representation or trust the notebook. <br />On GitHub, the HTML representation is unable to render, please try loading this page with nbviewer.org.</b></div><div class=\"sk-container\" hidden><div class=\"sk-item sk-dashed-wrapped\"><div class=\"sk-label-container\"><div class=\"sk-label sk-toggleable\"><input class=\"sk-toggleable__control sk-hidden--visually\" id=\"sk-estimator-id-2\" type=\"checkbox\" ><label for=\"sk-estimator-id-2\" class=\"sk-toggleable__label sk-toggleable__label-arrow\">GridSearchCV</label><div class=\"sk-toggleable__content\"><pre>GridSearchCV(cv=10, estimator=KNeighborsClassifier(n_neighbors=25),\n",
       "             param_grid={&#x27;n_neighbors&#x27;: [1, 2, 3, 4, 5, 6, 7, 8, 9, 10, 11, 12,\n",
       "                                         13, 14, 15, 16, 17, 18, 19, 20, 21, 22,\n",
       "                                         23, 24, 25, 26, 27, 28, 29, 30]},\n",
       "             scoring=&#x27;accuracy&#x27;)</pre></div></div></div><div class=\"sk-parallel\"><div class=\"sk-parallel-item\"><div class=\"sk-item\"><div class=\"sk-label-container\"><div class=\"sk-label sk-toggleable\"><input class=\"sk-toggleable__control sk-hidden--visually\" id=\"sk-estimator-id-3\" type=\"checkbox\" ><label for=\"sk-estimator-id-3\" class=\"sk-toggleable__label sk-toggleable__label-arrow\">estimator: KNeighborsClassifier</label><div class=\"sk-toggleable__content\"><pre>KNeighborsClassifier(n_neighbors=25)</pre></div></div></div><div class=\"sk-serial\"><div class=\"sk-item\"><div class=\"sk-estimator sk-toggleable\"><input class=\"sk-toggleable__control sk-hidden--visually\" id=\"sk-estimator-id-4\" type=\"checkbox\" ><label for=\"sk-estimator-id-4\" class=\"sk-toggleable__label sk-toggleable__label-arrow\">KNeighborsClassifier</label><div class=\"sk-toggleable__content\"><pre>KNeighborsClassifier(n_neighbors=25)</pre></div></div></div></div></div></div></div></div></div></div>"
      ],
      "text/plain": [
       "GridSearchCV(cv=10, estimator=KNeighborsClassifier(n_neighbors=25),\n",
       "             param_grid={'n_neighbors': [1, 2, 3, 4, 5, 6, 7, 8, 9, 10, 11, 12,\n",
       "                                         13, 14, 15, 16, 17, 18, 19, 20, 21, 22,\n",
       "                                         23, 24, 25, 26, 27, 28, 29, 30]},\n",
       "             scoring='accuracy')"
      ]
     },
     "execution_count": 44,
     "metadata": {},
     "output_type": "execute_result"
    }
   ],
   "source": [
    "grid = GridSearchCV(knn, param_grid, cv=10, scoring='accuracy', return_train_score=False)\n",
    "grid.fit(X, y)"
   ]
  },
  {
   "cell_type": "markdown",
   "id": "present-president",
   "metadata": {
    "papermill": {
     "duration": 0.06742,
     "end_time": "2021-04-18T10:59:05.596401",
     "exception": false,
     "start_time": "2021-04-18T10:59:05.528981",
     "status": "completed"
    },
    "tags": []
   },
   "source": [
    "1. estimator: Pass the model instance for which you want to check the hyperparameters.\n",
    "2. params_grid: the dictionary object that holds the hyperparameters you want to try\n",
    "3. scoring: evaluation metric that you want to use, you can simply pass a valid string/ object of evaluation metric\n",
    "4. cv: number of cross-validation you have to try for each selected set of hyperparameters\n",
    "5. verbose: you can set it to 1 to get the detailed print out while you fit the data to GridSearchCV\n",
    "6. n_jobs: number of processes you wish to run in parallel for this task if it -1 it will use all available processors. "
   ]
  },
  {
   "cell_type": "code",
   "execution_count": 45,
   "id": "studied-annex",
   "metadata": {
    "execution": {
     "iopub.execute_input": "2021-04-18T10:59:05.736941Z",
     "iopub.status.busy": "2021-04-18T10:59:05.736131Z",
     "iopub.status.idle": "2021-04-18T10:59:05.740292Z",
     "shell.execute_reply": "2021-04-18T10:59:05.740957Z"
    },
    "papermill": {
     "duration": 0.071993,
     "end_time": "2021-04-18T10:59:05.741156",
     "exception": false,
     "start_time": "2021-04-18T10:59:05.669163",
     "status": "completed"
    },
    "tags": []
   },
   "outputs": [
    {
     "name": "stdout",
     "output_type": "stream",
     "text": [
      "[0.67966507 0.71223513 0.70305878 0.71871155 0.72137731 0.73571429\n",
      " 0.73962748 0.73831169 0.73834586 0.74347232 0.73694463 0.74736842\n",
      " 0.74220779 0.75391319 0.74480519 0.75261449 0.75529733 0.75528025\n",
      " 0.74747095 0.74618934 0.75006835 0.75011962 0.74752221 0.74359193\n",
      " 0.74620643 0.73316815 0.73708134 0.73053657 0.73185236 0.72535885]\n"
     ]
    }
   ],
   "source": [
    "grid_mean_scores = grid.cv_results_['mean_test_score']\n",
    "print(grid_mean_scores)"
   ]
  },
  {
   "cell_type": "code",
   "execution_count": 46,
   "id": "according-stuff",
   "metadata": {
    "execution": {
     "iopub.execute_input": "2021-04-18T10:59:05.940859Z",
     "iopub.status.busy": "2021-04-18T10:59:05.939820Z",
     "iopub.status.idle": "2021-04-18T10:59:05.947055Z",
     "shell.execute_reply": "2021-04-18T10:59:05.947688Z"
    },
    "papermill": {
     "duration": 0.119807,
     "end_time": "2021-04-18T10:59:05.947924",
     "exception": false,
     "start_time": "2021-04-18T10:59:05.828117",
     "status": "completed"
    },
    "tags": []
   },
   "outputs": [
    {
     "data": {
      "text/plain": [
       "0.7552973342447027"
      ]
     },
     "execution_count": 46,
     "metadata": {},
     "output_type": "execute_result"
    }
   ],
   "source": [
    "grid.best_score_"
   ]
  },
  {
   "cell_type": "code",
   "execution_count": 47,
   "id": "creative-recycling",
   "metadata": {
    "execution": {
     "iopub.execute_input": "2021-04-18T10:59:06.207054Z",
     "iopub.status.busy": "2021-04-18T10:59:06.206134Z",
     "iopub.status.idle": "2021-04-18T10:59:06.209970Z",
     "shell.execute_reply": "2021-04-18T10:59:06.207833Z"
    },
    "papermill": {
     "duration": 0.131504,
     "end_time": "2021-04-18T10:59:06.210132",
     "exception": false,
     "start_time": "2021-04-18T10:59:06.078628",
     "status": "completed"
    },
    "tags": []
   },
   "outputs": [
    {
     "data": {
      "text/plain": [
       "{'n_neighbors': 17}"
      ]
     },
     "execution_count": 47,
     "metadata": {},
     "output_type": "execute_result"
    }
   ],
   "source": [
    "grid.best_params_"
   ]
  },
  {
   "cell_type": "markdown",
   "id": "pressed-clinic",
   "metadata": {
    "papermill": {
     "duration": 0.120845,
     "end_time": "2021-04-18T10:59:06.445714",
     "exception": false,
     "start_time": "2021-04-18T10:59:06.324869",
     "status": "completed"
    },
    "tags": []
   },
   "source": [
    "# Conclusion\n",
    "* As we can see that the accuracy score after the GridSerach is a bit high\n",
    "* Gridseach worked in our case\n",
    "* ROC-AUC is more than 0.5 , hence it is very good\n"
   ]
  },
  {
   "cell_type": "code",
   "execution_count": null,
   "id": "boxed-zoning",
   "metadata": {
    "papermill": {
     "duration": 0.098922,
     "end_time": "2021-04-18T10:59:06.641623",
     "exception": false,
     "start_time": "2021-04-18T10:59:06.542701",
     "status": "completed"
    },
    "tags": []
   },
   "outputs": [],
   "source": []
  }
 ],
 "metadata": {
  "kernelspec": {
   "display_name": "Python 3",
   "language": "python",
   "name": "python3"
  },
  "language_info": {
   "codemirror_mode": {
    "name": "ipython",
    "version": 3
   },
   "file_extension": ".py",
   "mimetype": "text/x-python",
   "name": "python",
   "nbconvert_exporter": "python",
   "pygments_lexer": "ipython3",
   "version": "3.11.3"
  },
  "papermill": {
   "default_parameters": {},
   "duration": 22.135482,
   "end_time": "2021-04-18T10:59:07.337146",
   "environment_variables": {},
   "exception": null,
   "input_path": "__notebook__.ipynb",
   "output_path": "__notebook__.ipynb",
   "parameters": {},
   "start_time": "2021-04-18T10:58:45.201664",
   "version": "2.3.2"
  }
 },
 "nbformat": 4,
 "nbformat_minor": 5
}
