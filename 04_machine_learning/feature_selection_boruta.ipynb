{
  "cells": [
    {
      "cell_type": "markdown",
      "metadata": {
        "id": "MIA-iA0sF89F"
      },
      "source": [
        "#__Automatic Feature Selection with Boruta__\n",
        "\n",
        "Let's use Boruta to learn about automatic feature selection."
      ]
    },
    {
      "cell_type": "markdown",
      "metadata": {
        "id": "fxRuMjS-lQKV"
      },
      "source": [
        "## Step 1: Import Required Libraries\n",
        "\n",
        "- Import pandas, NumPy, RandomForestClassifier, BorutaPy, train_test_split, and accuracy_score\n"
      ]
    },
    {
      "cell_type": "markdown",
      "metadata": {
        "colab": {
          "base_uri": "https://localhost:8080/"
        },
        "id": "3jQtxhyeKgFe",
        "outputId": "09fe49f2-8c67-4782-e00a-502ffa05c706"
      },
      "source": [
        "`pip install boruta`"
      ]
    },
    {
      "cell_type": "code",
      "execution_count": 10,
      "metadata": {
        "id": "v_wlY368kvsO"
      },
      "outputs": [],
      "source": [
        "import pandas as pd\n",
        "import numpy as np\n",
        "from sklearn.ensemble import RandomForestClassifier\n",
        "from boruta import BorutaPy\n",
        "from sklearn.model_selection import train_test_split\n",
        "from sklearn.metrics import accuracy_score"
      ]
    },
    {
      "cell_type": "markdown",
      "metadata": {
        "id": "Txd2tDValSdO"
      },
      "source": [
        "## Step 2: Load and Prepare the Dataset\n",
        "\n",
        "- Load the dataset using pandas\n",
        "- Split the dataset into features and target variables\n",
        "- Split the data into training and testing sets\n"
      ]
    },
    {
      "cell_type": "code",
      "execution_count": 11,
      "metadata": {
        "id": "VoCCfDbZ1dT4"
      },
      "outputs": [],
      "source": [
        "import ssl\n",
        "ssl._create_default_https_context = ssl._create_unverified_context\n"
      ]
    },
    {
      "cell_type": "markdown",
      "metadata": {
        "id": "BxptjgJqaeUU"
      },
      "source": []
    },
    {
      "cell_type": "markdown",
      "metadata": {
        "id": "_kHFN5c_LtVY"
      },
      "source": [
        "__Obeservations__\n",
        "- As you can see above, we have 35 columns and 1793 observations.\n",
        "- There are no missing values, and all are non-null values."
      ]
    },
    {
      "cell_type": "code",
      "execution_count": 12,
      "metadata": {
        "colab": {
          "base_uri": "https://localhost:8080/"
        },
        "id": "G6gr1JkhkvsQ",
        "outputId": "e535405b-3b4a-4e5d-a802-e21bd606d099"
      },
      "outputs": [
        {
          "name": "stdout",
          "output_type": "stream",
          "text": [
            "<class 'pandas.core.frame.DataFrame'>\n",
            "RangeIndex: 1793 entries, 0 to 1792\n",
            "Data columns (total 35 columns):\n",
            " #   Column               Non-Null Count  Dtype  \n",
            "---  ------               --------------  -----  \n",
            " 0   Position             1793 non-null   object \n",
            " 1   Clean sheets         1793 non-null   float64\n",
            " 2   Goals conceded       1793 non-null   float64\n",
            " 3   Tackles              1793 non-null   float64\n",
            " 4   Tackle success %     1793 non-null   int64  \n",
            " 5   Blocked shots        1793 non-null   float64\n",
            " 6   Interceptions        1793 non-null   float64\n",
            " 7   Clearances           1793 non-null   float64\n",
            " 8   Recoveries           1793 non-null   float64\n",
            " 9   Successful 50/50s    1793 non-null   float64\n",
            " 10  Own goals            1793 non-null   float64\n",
            " 11  Assists              1793 non-null   int64  \n",
            " 12  Passes               1793 non-null   int64  \n",
            " 13  Passes per match     1793 non-null   float64\n",
            " 14  Big chances created  1793 non-null   float64\n",
            " 15  Crosses              1793 non-null   float64\n",
            " 16  Cross accuracy %     1793 non-null   int64  \n",
            " 17  Through balls        1793 non-null   float64\n",
            " 18  Accurate long balls  1793 non-null   float64\n",
            " 19  Yellow cards         1793 non-null   int64  \n",
            " 20  Red cards            1793 non-null   int64  \n",
            " 21  Fouls                1793 non-null   int64  \n",
            " 22  Offsides             1793 non-null   float64\n",
            " 23  Goals                1793 non-null   int64  \n",
            " 24  Goals per match      1793 non-null   float64\n",
            " 25  Shots                1793 non-null   float64\n",
            " 26  Shooting accuracy %  1793 non-null   int64  \n",
            " 27  Saves                1793 non-null   float64\n",
            " 28  Penalties saved      1793 non-null   float64\n",
            " 29  age                  1793 non-null   int64  \n",
            " 30  value_eur            1793 non-null   int64  \n",
            " 31  overall              1793 non-null   int64  \n",
            " 32  Arial Saves          1793 non-null   float64\n",
            " 33  Duels %              1793 non-null   float64\n",
            " 34  Aerial battles %     1793 non-null   float64\n",
            "dtypes: float64(22), int64(12), object(1)\n",
            "memory usage: 490.4+ KB\n"
          ]
        }
      ],
      "source": [
        "URL = \"http://raw.githubusercontent.com/Aditya1001001/English-Premier-League/master/pos_modelling_data.csv\"\n",
        "data = pd.read_csv(URL)\n",
        "data.info()\n",
        "X = data.drop('Position', axis = 1)\n",
        "y = data['Position']\n",
        "X_train, X_test, y_train, y_test = train_test_split(X, y, test_size = .2, random_state = 1)"
      ]
    },
    {
      "cell_type": "markdown",
      "metadata": {
        "id": "sdIx49l9M1MR"
      },
      "source": [
        "Now, lets split the data into X and y columns."
      ]
    },
    {
      "cell_type": "code",
      "execution_count": 13,
      "metadata": {
        "id": "B-_zmkGfNC7J"
      },
      "outputs": [],
      "source": [
        "X = data.drop('Position', axis = 1)\n",
        "y = data['Position']\n",
        "X_train, X_test, y_train, y_test = train_test_split(X, y, test_size=0.2, random_state=1)"
      ]
    },
    {
      "cell_type": "markdown",
      "metadata": {
        "id": "xsy-_Q4jlznf"
      },
      "source": [
        "## Step 4: Train a RandomForest Classifier\n",
        "\n",
        "- Train a RandomForest classifier using all features\n",
        "- Calculate the accuracy score on the test set\n"
      ]
    },
    {
      "cell_type": "code",
      "execution_count": 14,
      "metadata": {
        "colab": {
          "base_uri": "https://localhost:8080/"
        },
        "id": "WK29d6VUkvsR",
        "outputId": "e223511e-276d-4c0d-b986-8f7f6f6a91bd"
      },
      "outputs": [
        {
          "data": {
            "text/plain": [
              "0.7298050139275766"
            ]
          },
          "execution_count": 14,
          "metadata": {},
          "output_type": "execute_result"
        }
      ],
      "source": [
        "rf_all_features = RandomForestClassifier(random_state=1, n_estimators=1000, max_depth=5)\n",
        "rf_all_features.fit(X_train, y_train)\n",
        "\n",
        "accuracy_score(y_test, rf_all_features.predict(X_test))"
      ]
    },
    {
      "cell_type": "markdown",
      "metadata": {
        "id": "Q9Vhps1vOVn6"
      },
      "source": [
        "__Observation__\n",
        "- The accuracy score for the model is  72.9%."
      ]
    },
    {
      "cell_type": "markdown",
      "metadata": {
        "id": "NQoLa-aVl6DS"
      },
      "source": [
        "## Step 5: Perform Feature Selection Using Boruta\n",
        "\n",
        "- Train a RandomForest classifier for Boruta feature selection\n",
        "- Perform feature selection using Boruta\n",
        "- Display the ranking and the number of significant features\n"
      ]
    },
    {
      "cell_type": "code",
      "execution_count": 15,
      "metadata": {
        "id": "ZAgdkQmkkvsS"
      },
      "outputs": [],
      "source": [
        "rfc = RandomForestClassifier(random_state=1, n_estimators=1000, max_depth=5)\n",
        "boruta_selector = BorutaPy(rfc, n_estimators='auto', verbose=2, random_state=1)"
      ]
    },
    {
      "cell_type": "code",
      "execution_count": 16,
      "metadata": {},
      "outputs": [],
      "source": [
        "#compatibility fix - from https://github.com/scikit-learn-contrib/boruta_py/issues/122\n",
        "np.int = np.int32\n",
        "np.float = np.float64\n",
        "np.bool = np.bool_\n"
      ]
    },
    {
      "cell_type": "code",
      "execution_count": 17,
      "metadata": {
        "id": "CGfL2Fo91dT5"
      },
      "outputs": [
        {
          "name": "stdout",
          "output_type": "stream",
          "text": [
            "Iteration: \t1 / 100\n",
            "Confirmed: \t0\n",
            "Tentative: \t34\n",
            "Rejected: \t0\n",
            "Iteration: \t2 / 100\n",
            "Confirmed: \t0\n",
            "Tentative: \t34\n",
            "Rejected: \t0\n",
            "Iteration: \t3 / 100\n",
            "Confirmed: \t0\n",
            "Tentative: \t34\n",
            "Rejected: \t0\n",
            "Iteration: \t4 / 100\n",
            "Confirmed: \t0\n",
            "Tentative: \t34\n",
            "Rejected: \t0\n",
            "Iteration: \t5 / 100\n",
            "Confirmed: \t0\n",
            "Tentative: \t34\n",
            "Rejected: \t0\n",
            "Iteration: \t6 / 100\n",
            "Confirmed: \t0\n",
            "Tentative: \t34\n",
            "Rejected: \t0\n",
            "Iteration: \t7 / 100\n",
            "Confirmed: \t0\n",
            "Tentative: \t34\n",
            "Rejected: \t0\n",
            "Iteration: \t8 / 100\n",
            "Confirmed: \t29\n",
            "Tentative: \t5\n",
            "Rejected: \t0\n",
            "Iteration: \t9 / 100\n",
            "Confirmed: \t29\n",
            "Tentative: \t3\n",
            "Rejected: \t2\n",
            "Iteration: \t10 / 100\n",
            "Confirmed: \t29\n",
            "Tentative: \t3\n",
            "Rejected: \t2\n",
            "Iteration: \t11 / 100\n",
            "Confirmed: \t29\n",
            "Tentative: \t3\n",
            "Rejected: \t2\n",
            "Iteration: \t12 / 100\n",
            "Confirmed: \t30\n",
            "Tentative: \t2\n",
            "Rejected: \t2\n",
            "Iteration: \t13 / 100\n",
            "Confirmed: \t30\n",
            "Tentative: \t2\n",
            "Rejected: \t2\n",
            "Iteration: \t14 / 100\n",
            "Confirmed: \t30\n",
            "Tentative: \t2\n",
            "Rejected: \t2\n",
            "Iteration: \t15 / 100\n",
            "Confirmed: \t30\n",
            "Tentative: \t2\n",
            "Rejected: \t2\n",
            "Iteration: \t16 / 100\n",
            "Confirmed: \t30\n",
            "Tentative: \t2\n",
            "Rejected: \t2\n",
            "Iteration: \t17 / 100\n",
            "Confirmed: \t30\n",
            "Tentative: \t2\n",
            "Rejected: \t2\n",
            "Iteration: \t18 / 100\n",
            "Confirmed: \t30\n",
            "Tentative: \t2\n",
            "Rejected: \t2\n",
            "Iteration: \t19 / 100\n",
            "Confirmed: \t30\n",
            "Tentative: \t2\n",
            "Rejected: \t2\n",
            "Iteration: \t20 / 100\n",
            "Confirmed: \t30\n",
            "Tentative: \t2\n",
            "Rejected: \t2\n",
            "Iteration: \t21 / 100\n",
            "Confirmed: \t30\n",
            "Tentative: \t2\n",
            "Rejected: \t2\n",
            "Iteration: \t22 / 100\n",
            "Confirmed: \t30\n",
            "Tentative: \t2\n",
            "Rejected: \t2\n",
            "Iteration: \t23 / 100\n",
            "Confirmed: \t30\n",
            "Tentative: \t2\n",
            "Rejected: \t2\n",
            "Iteration: \t24 / 100\n",
            "Confirmed: \t30\n",
            "Tentative: \t2\n",
            "Rejected: \t2\n",
            "Iteration: \t25 / 100\n",
            "Confirmed: \t30\n",
            "Tentative: \t2\n",
            "Rejected: \t2\n",
            "Iteration: \t26 / 100\n",
            "Confirmed: \t30\n",
            "Tentative: \t2\n",
            "Rejected: \t2\n",
            "Iteration: \t27 / 100\n",
            "Confirmed: \t30\n",
            "Tentative: \t2\n",
            "Rejected: \t2\n",
            "Iteration: \t28 / 100\n",
            "Confirmed: \t30\n",
            "Tentative: \t2\n",
            "Rejected: \t2\n",
            "Iteration: \t29 / 100\n",
            "Confirmed: \t30\n",
            "Tentative: \t2\n",
            "Rejected: \t2\n",
            "Iteration: \t30 / 100\n",
            "Confirmed: \t30\n",
            "Tentative: \t2\n",
            "Rejected: \t2\n",
            "Iteration: \t31 / 100\n",
            "Confirmed: \t30\n",
            "Tentative: \t2\n",
            "Rejected: \t2\n",
            "Iteration: \t32 / 100\n",
            "Confirmed: \t30\n",
            "Tentative: \t2\n",
            "Rejected: \t2\n",
            "Iteration: \t33 / 100\n",
            "Confirmed: \t30\n",
            "Tentative: \t2\n",
            "Rejected: \t2\n",
            "Iteration: \t34 / 100\n",
            "Confirmed: \t30\n",
            "Tentative: \t2\n",
            "Rejected: \t2\n",
            "Iteration: \t35 / 100\n",
            "Confirmed: \t30\n",
            "Tentative: \t2\n",
            "Rejected: \t2\n",
            "Iteration: \t36 / 100\n",
            "Confirmed: \t30\n",
            "Tentative: \t2\n",
            "Rejected: \t2\n",
            "Iteration: \t37 / 100\n",
            "Confirmed: \t30\n",
            "Tentative: \t2\n",
            "Rejected: \t2\n",
            "Iteration: \t38 / 100\n",
            "Confirmed: \t30\n",
            "Tentative: \t2\n",
            "Rejected: \t2\n",
            "Iteration: \t39 / 100\n",
            "Confirmed: \t30\n",
            "Tentative: \t2\n",
            "Rejected: \t2\n",
            "Iteration: \t40 / 100\n",
            "Confirmed: \t30\n",
            "Tentative: \t2\n",
            "Rejected: \t2\n",
            "Iteration: \t41 / 100\n",
            "Confirmed: \t30\n",
            "Tentative: \t2\n",
            "Rejected: \t2\n",
            "Iteration: \t42 / 100\n",
            "Confirmed: \t30\n",
            "Tentative: \t2\n",
            "Rejected: \t2\n",
            "Iteration: \t43 / 100\n",
            "Confirmed: \t30\n",
            "Tentative: \t2\n",
            "Rejected: \t2\n",
            "Iteration: \t44 / 100\n",
            "Confirmed: \t30\n",
            "Tentative: \t2\n",
            "Rejected: \t2\n",
            "Iteration: \t45 / 100\n",
            "Confirmed: \t30\n",
            "Tentative: \t2\n",
            "Rejected: \t2\n",
            "Iteration: \t46 / 100\n",
            "Confirmed: \t30\n",
            "Tentative: \t2\n",
            "Rejected: \t2\n",
            "Iteration: \t47 / 100\n",
            "Confirmed: \t30\n",
            "Tentative: \t2\n",
            "Rejected: \t2\n",
            "Iteration: \t48 / 100\n",
            "Confirmed: \t30\n",
            "Tentative: \t2\n",
            "Rejected: \t2\n",
            "Iteration: \t49 / 100\n",
            "Confirmed: \t30\n",
            "Tentative: \t2\n",
            "Rejected: \t2\n",
            "Iteration: \t50 / 100\n",
            "Confirmed: \t30\n",
            "Tentative: \t2\n",
            "Rejected: \t2\n",
            "Iteration: \t51 / 100\n",
            "Confirmed: \t30\n",
            "Tentative: \t2\n",
            "Rejected: \t2\n",
            "Iteration: \t52 / 100\n",
            "Confirmed: \t30\n",
            "Tentative: \t2\n",
            "Rejected: \t2\n",
            "Iteration: \t53 / 100\n",
            "Confirmed: \t30\n",
            "Tentative: \t2\n",
            "Rejected: \t2\n",
            "Iteration: \t54 / 100\n",
            "Confirmed: \t30\n",
            "Tentative: \t2\n",
            "Rejected: \t2\n",
            "Iteration: \t55 / 100\n",
            "Confirmed: \t30\n",
            "Tentative: \t2\n",
            "Rejected: \t2\n",
            "Iteration: \t56 / 100\n",
            "Confirmed: \t30\n",
            "Tentative: \t2\n",
            "Rejected: \t2\n",
            "Iteration: \t57 / 100\n",
            "Confirmed: \t30\n",
            "Tentative: \t2\n",
            "Rejected: \t2\n",
            "Iteration: \t58 / 100\n",
            "Confirmed: \t30\n",
            "Tentative: \t2\n",
            "Rejected: \t2\n",
            "Iteration: \t59 / 100\n",
            "Confirmed: \t30\n",
            "Tentative: \t2\n",
            "Rejected: \t2\n",
            "Iteration: \t60 / 100\n",
            "Confirmed: \t30\n",
            "Tentative: \t2\n",
            "Rejected: \t2\n",
            "Iteration: \t61 / 100\n",
            "Confirmed: \t30\n",
            "Tentative: \t2\n",
            "Rejected: \t2\n",
            "Iteration: \t62 / 100\n",
            "Confirmed: \t30\n",
            "Tentative: \t2\n",
            "Rejected: \t2\n",
            "Iteration: \t63 / 100\n",
            "Confirmed: \t30\n",
            "Tentative: \t2\n",
            "Rejected: \t2\n",
            "Iteration: \t64 / 100\n",
            "Confirmed: \t30\n",
            "Tentative: \t2\n",
            "Rejected: \t2\n",
            "Iteration: \t65 / 100\n",
            "Confirmed: \t30\n",
            "Tentative: \t2\n",
            "Rejected: \t2\n",
            "Iteration: \t66 / 100\n",
            "Confirmed: \t30\n",
            "Tentative: \t2\n",
            "Rejected: \t2\n",
            "Iteration: \t67 / 100\n",
            "Confirmed: \t30\n",
            "Tentative: \t2\n",
            "Rejected: \t2\n",
            "Iteration: \t68 / 100\n",
            "Confirmed: \t30\n",
            "Tentative: \t2\n",
            "Rejected: \t2\n",
            "Iteration: \t69 / 100\n",
            "Confirmed: \t30\n",
            "Tentative: \t2\n",
            "Rejected: \t2\n",
            "Iteration: \t70 / 100\n",
            "Confirmed: \t30\n",
            "Tentative: \t2\n",
            "Rejected: \t2\n",
            "Iteration: \t71 / 100\n",
            "Confirmed: \t30\n",
            "Tentative: \t2\n",
            "Rejected: \t2\n",
            "Iteration: \t72 / 100\n",
            "Confirmed: \t30\n",
            "Tentative: \t2\n",
            "Rejected: \t2\n",
            "Iteration: \t73 / 100\n",
            "Confirmed: \t30\n",
            "Tentative: \t2\n",
            "Rejected: \t2\n",
            "Iteration: \t74 / 100\n",
            "Confirmed: \t30\n",
            "Tentative: \t2\n",
            "Rejected: \t2\n",
            "Iteration: \t75 / 100\n",
            "Confirmed: \t30\n",
            "Tentative: \t2\n",
            "Rejected: \t2\n",
            "Iteration: \t76 / 100\n",
            "Confirmed: \t30\n",
            "Tentative: \t2\n",
            "Rejected: \t2\n",
            "Iteration: \t77 / 100\n",
            "Confirmed: \t31\n",
            "Tentative: \t1\n",
            "Rejected: \t2\n",
            "Iteration: \t78 / 100\n",
            "Confirmed: \t31\n",
            "Tentative: \t1\n",
            "Rejected: \t2\n",
            "Iteration: \t79 / 100\n",
            "Confirmed: \t31\n",
            "Tentative: \t1\n",
            "Rejected: \t2\n",
            "Iteration: \t80 / 100\n",
            "Confirmed: \t31\n",
            "Tentative: \t1\n",
            "Rejected: \t2\n",
            "Iteration: \t81 / 100\n",
            "Confirmed: \t31\n",
            "Tentative: \t1\n",
            "Rejected: \t2\n",
            "Iteration: \t82 / 100\n",
            "Confirmed: \t31\n",
            "Tentative: \t1\n",
            "Rejected: \t2\n",
            "Iteration: \t83 / 100\n",
            "Confirmed: \t31\n",
            "Tentative: \t1\n",
            "Rejected: \t2\n",
            "Iteration: \t84 / 100\n",
            "Confirmed: \t31\n",
            "Tentative: \t1\n",
            "Rejected: \t2\n",
            "Iteration: \t85 / 100\n",
            "Confirmed: \t31\n",
            "Tentative: \t1\n",
            "Rejected: \t2\n",
            "Iteration: \t86 / 100\n",
            "Confirmed: \t31\n",
            "Tentative: \t1\n",
            "Rejected: \t2\n",
            "Iteration: \t87 / 100\n",
            "Confirmed: \t31\n",
            "Tentative: \t1\n",
            "Rejected: \t2\n",
            "Iteration: \t88 / 100\n",
            "Confirmed: \t31\n",
            "Tentative: \t1\n",
            "Rejected: \t2\n",
            "Iteration: \t89 / 100\n",
            "Confirmed: \t31\n",
            "Tentative: \t1\n",
            "Rejected: \t2\n",
            "Iteration: \t90 / 100\n",
            "Confirmed: \t31\n",
            "Tentative: \t1\n",
            "Rejected: \t2\n",
            "Iteration: \t91 / 100\n",
            "Confirmed: \t31\n",
            "Tentative: \t1\n",
            "Rejected: \t2\n",
            "Iteration: \t92 / 100\n",
            "Confirmed: \t31\n",
            "Tentative: \t1\n",
            "Rejected: \t2\n",
            "Iteration: \t93 / 100\n",
            "Confirmed: \t31\n",
            "Tentative: \t1\n",
            "Rejected: \t2\n",
            "Iteration: \t94 / 100\n",
            "Confirmed: \t31\n",
            "Tentative: \t1\n",
            "Rejected: \t2\n",
            "Iteration: \t95 / 100\n",
            "Confirmed: \t31\n",
            "Tentative: \t1\n",
            "Rejected: \t2\n",
            "Iteration: \t96 / 100\n",
            "Confirmed: \t31\n",
            "Tentative: \t1\n",
            "Rejected: \t2\n",
            "Iteration: \t97 / 100\n",
            "Confirmed: \t31\n",
            "Tentative: \t1\n",
            "Rejected: \t2\n",
            "Iteration: \t98 / 100\n",
            "Confirmed: \t31\n",
            "Tentative: \t1\n",
            "Rejected: \t2\n",
            "Iteration: \t99 / 100\n",
            "Confirmed: \t31\n",
            "Tentative: \t1\n",
            "Rejected: \t2\n",
            "\n",
            "\n",
            "BorutaPy finished running.\n",
            "\n",
            "Iteration: \t100 / 100\n",
            "Confirmed: \t31\n",
            "Tentative: \t1\n",
            "Rejected: \t2\n"
          ]
        },
        {
          "data": {
            "text/html": [
              "<style>#sk-container-id-2 {color: black;background-color: white;}#sk-container-id-2 pre{padding: 0;}#sk-container-id-2 div.sk-toggleable {background-color: white;}#sk-container-id-2 label.sk-toggleable__label {cursor: pointer;display: block;width: 100%;margin-bottom: 0;padding: 0.3em;box-sizing: border-box;text-align: center;}#sk-container-id-2 label.sk-toggleable__label-arrow:before {content: \"▸\";float: left;margin-right: 0.25em;color: #696969;}#sk-container-id-2 label.sk-toggleable__label-arrow:hover:before {color: black;}#sk-container-id-2 div.sk-estimator:hover label.sk-toggleable__label-arrow:before {color: black;}#sk-container-id-2 div.sk-toggleable__content {max-height: 0;max-width: 0;overflow: hidden;text-align: left;background-color: #f0f8ff;}#sk-container-id-2 div.sk-toggleable__content pre {margin: 0.2em;color: black;border-radius: 0.25em;background-color: #f0f8ff;}#sk-container-id-2 input.sk-toggleable__control:checked~div.sk-toggleable__content {max-height: 200px;max-width: 100%;overflow: auto;}#sk-container-id-2 input.sk-toggleable__control:checked~label.sk-toggleable__label-arrow:before {content: \"▾\";}#sk-container-id-2 div.sk-estimator input.sk-toggleable__control:checked~label.sk-toggleable__label {background-color: #d4ebff;}#sk-container-id-2 div.sk-label input.sk-toggleable__control:checked~label.sk-toggleable__label {background-color: #d4ebff;}#sk-container-id-2 input.sk-hidden--visually {border: 0;clip: rect(1px 1px 1px 1px);clip: rect(1px, 1px, 1px, 1px);height: 1px;margin: -1px;overflow: hidden;padding: 0;position: absolute;width: 1px;}#sk-container-id-2 div.sk-estimator {font-family: monospace;background-color: #f0f8ff;border: 1px dotted black;border-radius: 0.25em;box-sizing: border-box;margin-bottom: 0.5em;}#sk-container-id-2 div.sk-estimator:hover {background-color: #d4ebff;}#sk-container-id-2 div.sk-parallel-item::after {content: \"\";width: 100%;border-bottom: 1px solid gray;flex-grow: 1;}#sk-container-id-2 div.sk-label:hover label.sk-toggleable__label {background-color: #d4ebff;}#sk-container-id-2 div.sk-serial::before {content: \"\";position: absolute;border-left: 1px solid gray;box-sizing: border-box;top: 0;bottom: 0;left: 50%;z-index: 0;}#sk-container-id-2 div.sk-serial {display: flex;flex-direction: column;align-items: center;background-color: white;padding-right: 0.2em;padding-left: 0.2em;position: relative;}#sk-container-id-2 div.sk-item {position: relative;z-index: 1;}#sk-container-id-2 div.sk-parallel {display: flex;align-items: stretch;justify-content: center;background-color: white;position: relative;}#sk-container-id-2 div.sk-item::before, #sk-container-id-2 div.sk-parallel-item::before {content: \"\";position: absolute;border-left: 1px solid gray;box-sizing: border-box;top: 0;bottom: 0;left: 50%;z-index: -1;}#sk-container-id-2 div.sk-parallel-item {display: flex;flex-direction: column;z-index: 1;position: relative;background-color: white;}#sk-container-id-2 div.sk-parallel-item:first-child::after {align-self: flex-end;width: 50%;}#sk-container-id-2 div.sk-parallel-item:last-child::after {align-self: flex-start;width: 50%;}#sk-container-id-2 div.sk-parallel-item:only-child::after {width: 0;}#sk-container-id-2 div.sk-dashed-wrapped {border: 1px dashed gray;margin: 0 0.4em 0.5em 0.4em;box-sizing: border-box;padding-bottom: 0.4em;background-color: white;}#sk-container-id-2 div.sk-label label {font-family: monospace;font-weight: bold;display: inline-block;line-height: 1.2em;}#sk-container-id-2 div.sk-label-container {text-align: center;}#sk-container-id-2 div.sk-container {/* jupyter's `normalize.less` sets `[hidden] { display: none; }` but bootstrap.min.css set `[hidden] { display: none !important; }` so we also need the `!important` here to be able to override the default hidden behavior on the sphinx rendered scikit-learn.org. See: https://github.com/scikit-learn/scikit-learn/issues/21755 */display: inline-block !important;position: relative;}#sk-container-id-2 div.sk-text-repr-fallback {display: none;}</style><div id=\"sk-container-id-2\" class=\"sk-top-container\"><div class=\"sk-text-repr-fallback\"><pre>BorutaPy(estimator=RandomForestClassifier(max_depth=5, n_estimators=160,\n",
              "                                          random_state=RandomState(MT19937) at 0x177584640),\n",
              "         n_estimators=&#x27;auto&#x27;, random_state=RandomState(MT19937) at 0x177584640,\n",
              "         verbose=2)</pre><b>In a Jupyter environment, please rerun this cell to show the HTML representation or trust the notebook. <br />On GitHub, the HTML representation is unable to render, please try loading this page with nbviewer.org.</b></div><div class=\"sk-container\" hidden><div class=\"sk-item sk-dashed-wrapped\"><div class=\"sk-label-container\"><div class=\"sk-label sk-toggleable\"><input class=\"sk-toggleable__control sk-hidden--visually\" id=\"sk-estimator-id-4\" type=\"checkbox\" ><label for=\"sk-estimator-id-4\" class=\"sk-toggleable__label sk-toggleable__label-arrow\">BorutaPy</label><div class=\"sk-toggleable__content\"><pre>BorutaPy(estimator=RandomForestClassifier(max_depth=5, n_estimators=160,\n",
              "                                          random_state=RandomState(MT19937) at 0x177584640),\n",
              "         n_estimators=&#x27;auto&#x27;, random_state=RandomState(MT19937) at 0x177584640,\n",
              "         verbose=2)</pre></div></div></div><div class=\"sk-parallel\"><div class=\"sk-parallel-item\"><div class=\"sk-item\"><div class=\"sk-label-container\"><div class=\"sk-label sk-toggleable\"><input class=\"sk-toggleable__control sk-hidden--visually\" id=\"sk-estimator-id-5\" type=\"checkbox\" ><label for=\"sk-estimator-id-5\" class=\"sk-toggleable__label sk-toggleable__label-arrow\">estimator: RandomForestClassifier</label><div class=\"sk-toggleable__content\"><pre>RandomForestClassifier(max_depth=5, n_estimators=160,\n",
              "                       random_state=RandomState(MT19937) at 0x177584640)</pre></div></div></div><div class=\"sk-serial\"><div class=\"sk-item\"><div class=\"sk-estimator sk-toggleable\"><input class=\"sk-toggleable__control sk-hidden--visually\" id=\"sk-estimator-id-6\" type=\"checkbox\" ><label for=\"sk-estimator-id-6\" class=\"sk-toggleable__label sk-toggleable__label-arrow\">RandomForestClassifier</label><div class=\"sk-toggleable__content\"><pre>RandomForestClassifier(max_depth=5, n_estimators=160,\n",
              "                       random_state=RandomState(MT19937) at 0x177584640)</pre></div></div></div></div></div></div></div></div></div></div>"
            ],
            "text/plain": [
              "BorutaPy(estimator=RandomForestClassifier(max_depth=5, n_estimators=160,\n",
              "                                          random_state=RandomState(MT19937) at 0x177584640),\n",
              "         n_estimators='auto', random_state=RandomState(MT19937) at 0x177584640,\n",
              "         verbose=2)"
            ]
          },
          "execution_count": 17,
          "metadata": {},
          "output_type": "execute_result"
        }
      ],
      "source": [
        "boruta_selector.fit(X_train.values, y_train.values)"
      ]
    },
    {
      "cell_type": "markdown",
      "metadata": {
        "id": "F-Kr3zPuHH0G"
      },
      "source": [
        "__Observations__\n",
        "- As you can see here, we have iterations for every 100 samples.\n",
        "- It also shows how many variables are tentative and confirmed, and based on this, the ranking will be formed."
      ]
    },
    {
      "cell_type": "code",
      "execution_count": 18,
      "metadata": {
        "id": "JfPLAvRGkvsS"
      },
      "outputs": [
        {
          "name": "stdout",
          "output_type": "stream",
          "text": [
            "Ranking:  [1 1 1 1 1 1 1 1 1 3 1 1 1 1 1 1 1 1 1 4 1 1 1 1 1 1 1 2 1 1 1 1 1 1]\n",
            "No. of significant features:  31\n"
          ]
        }
      ],
      "source": [
        "print(\"Ranking: \",boruta_selector.ranking_)\n",
        "print(\"No. of significant features: \", boruta_selector.n_features_)"
      ]
    },
    {
      "cell_type": "markdown",
      "metadata": {
        "id": "mrTRt-MVPd6e"
      },
      "source": [
        "__Observation__\n",
        "\n",
        "- Out of 35 attributes, 31 have significant features and have ranking of 1."
      ]
    },
    {
      "cell_type": "markdown",
      "metadata": {
        "id": "Kmj2lMrjl87w"
      },
      "source": [
        "## Step 6: Display the Ranking of Features\n",
        "\n",
        "- Create a DataFrame with the feature ranking\n",
        "- Sort the DataFrame based on the ranking\n"
      ]
    },
    {
      "cell_type": "code",
      "execution_count": 19,
      "metadata": {
        "colab": {
          "base_uri": "https://localhost:8080/",
          "height": 1000
        },
        "id": "3m_x2FQakvsS",
        "outputId": "b2b231c3-d3e0-4835-9b9e-bcdbc74c4af7"
      },
      "outputs": [
        {
          "data": {
            "text/html": [
              "<div>\n",
              "<style scoped>\n",
              "    .dataframe tbody tr th:only-of-type {\n",
              "        vertical-align: middle;\n",
              "    }\n",
              "\n",
              "    .dataframe tbody tr th {\n",
              "        vertical-align: top;\n",
              "    }\n",
              "\n",
              "    .dataframe thead th {\n",
              "        text-align: right;\n",
              "    }\n",
              "</style>\n",
              "<table border=\"1\" class=\"dataframe\">\n",
              "  <thead>\n",
              "    <tr style=\"text-align: right;\">\n",
              "      <th></th>\n",
              "      <th>Feature</th>\n",
              "      <th>Ranking</th>\n",
              "    </tr>\n",
              "  </thead>\n",
              "  <tbody>\n",
              "    <tr>\n",
              "      <th>0</th>\n",
              "      <td>Clean sheets</td>\n",
              "      <td>1</td>\n",
              "    </tr>\n",
              "    <tr>\n",
              "      <th>31</th>\n",
              "      <td>Arial Saves</td>\n",
              "      <td>1</td>\n",
              "    </tr>\n",
              "    <tr>\n",
              "      <th>30</th>\n",
              "      <td>overall</td>\n",
              "      <td>1</td>\n",
              "    </tr>\n",
              "    <tr>\n",
              "      <th>29</th>\n",
              "      <td>value_eur</td>\n",
              "      <td>1</td>\n",
              "    </tr>\n",
              "    <tr>\n",
              "      <th>28</th>\n",
              "      <td>age</td>\n",
              "      <td>1</td>\n",
              "    </tr>\n",
              "    <tr>\n",
              "      <th>26</th>\n",
              "      <td>Saves</td>\n",
              "      <td>1</td>\n",
              "    </tr>\n",
              "    <tr>\n",
              "      <th>25</th>\n",
              "      <td>Shooting accuracy %</td>\n",
              "      <td>1</td>\n",
              "    </tr>\n",
              "    <tr>\n",
              "      <th>24</th>\n",
              "      <td>Shots</td>\n",
              "      <td>1</td>\n",
              "    </tr>\n",
              "    <tr>\n",
              "      <th>23</th>\n",
              "      <td>Goals per match</td>\n",
              "      <td>1</td>\n",
              "    </tr>\n",
              "    <tr>\n",
              "      <th>22</th>\n",
              "      <td>Goals</td>\n",
              "      <td>1</td>\n",
              "    </tr>\n",
              "    <tr>\n",
              "      <th>21</th>\n",
              "      <td>Offsides</td>\n",
              "      <td>1</td>\n",
              "    </tr>\n",
              "    <tr>\n",
              "      <th>20</th>\n",
              "      <td>Fouls</td>\n",
              "      <td>1</td>\n",
              "    </tr>\n",
              "    <tr>\n",
              "      <th>18</th>\n",
              "      <td>Yellow cards</td>\n",
              "      <td>1</td>\n",
              "    </tr>\n",
              "    <tr>\n",
              "      <th>17</th>\n",
              "      <td>Accurate long balls</td>\n",
              "      <td>1</td>\n",
              "    </tr>\n",
              "    <tr>\n",
              "      <th>32</th>\n",
              "      <td>Duels %</td>\n",
              "      <td>1</td>\n",
              "    </tr>\n",
              "    <tr>\n",
              "      <th>16</th>\n",
              "      <td>Through balls</td>\n",
              "      <td>1</td>\n",
              "    </tr>\n",
              "    <tr>\n",
              "      <th>14</th>\n",
              "      <td>Crosses</td>\n",
              "      <td>1</td>\n",
              "    </tr>\n",
              "    <tr>\n",
              "      <th>1</th>\n",
              "      <td>Goals conceded</td>\n",
              "      <td>1</td>\n",
              "    </tr>\n",
              "    <tr>\n",
              "      <th>2</th>\n",
              "      <td>Tackles</td>\n",
              "      <td>1</td>\n",
              "    </tr>\n",
              "    <tr>\n",
              "      <th>3</th>\n",
              "      <td>Tackle success %</td>\n",
              "      <td>1</td>\n",
              "    </tr>\n",
              "    <tr>\n",
              "      <th>4</th>\n",
              "      <td>Blocked shots</td>\n",
              "      <td>1</td>\n",
              "    </tr>\n",
              "    <tr>\n",
              "      <th>5</th>\n",
              "      <td>Interceptions</td>\n",
              "      <td>1</td>\n",
              "    </tr>\n",
              "    <tr>\n",
              "      <th>6</th>\n",
              "      <td>Clearances</td>\n",
              "      <td>1</td>\n",
              "    </tr>\n",
              "    <tr>\n",
              "      <th>15</th>\n",
              "      <td>Cross accuracy %</td>\n",
              "      <td>1</td>\n",
              "    </tr>\n",
              "    <tr>\n",
              "      <th>7</th>\n",
              "      <td>Recoveries</td>\n",
              "      <td>1</td>\n",
              "    </tr>\n",
              "    <tr>\n",
              "      <th>10</th>\n",
              "      <td>Assists</td>\n",
              "      <td>1</td>\n",
              "    </tr>\n",
              "    <tr>\n",
              "      <th>11</th>\n",
              "      <td>Passes</td>\n",
              "      <td>1</td>\n",
              "    </tr>\n",
              "    <tr>\n",
              "      <th>12</th>\n",
              "      <td>Passes per match</td>\n",
              "      <td>1</td>\n",
              "    </tr>\n",
              "    <tr>\n",
              "      <th>13</th>\n",
              "      <td>Big chances created</td>\n",
              "      <td>1</td>\n",
              "    </tr>\n",
              "    <tr>\n",
              "      <th>8</th>\n",
              "      <td>Successful 50/50s</td>\n",
              "      <td>1</td>\n",
              "    </tr>\n",
              "    <tr>\n",
              "      <th>33</th>\n",
              "      <td>Aerial battles %</td>\n",
              "      <td>1</td>\n",
              "    </tr>\n",
              "    <tr>\n",
              "      <th>27</th>\n",
              "      <td>Penalties saved</td>\n",
              "      <td>2</td>\n",
              "    </tr>\n",
              "    <tr>\n",
              "      <th>9</th>\n",
              "      <td>Own goals</td>\n",
              "      <td>3</td>\n",
              "    </tr>\n",
              "    <tr>\n",
              "      <th>19</th>\n",
              "      <td>Red cards</td>\n",
              "      <td>4</td>\n",
              "    </tr>\n",
              "  </tbody>\n",
              "</table>\n",
              "</div>"
            ],
            "text/plain": [
              "                Feature  Ranking\n",
              "0          Clean sheets        1\n",
              "31          Arial Saves        1\n",
              "30              overall        1\n",
              "29            value_eur        1\n",
              "28                  age        1\n",
              "26                Saves        1\n",
              "25  Shooting accuracy %        1\n",
              "24                Shots        1\n",
              "23      Goals per match        1\n",
              "22                Goals        1\n",
              "21             Offsides        1\n",
              "20                Fouls        1\n",
              "18         Yellow cards        1\n",
              "17  Accurate long balls        1\n",
              "32              Duels %        1\n",
              "16        Through balls        1\n",
              "14              Crosses        1\n",
              "1        Goals conceded        1\n",
              "2               Tackles        1\n",
              "3      Tackle success %        1\n",
              "4         Blocked shots        1\n",
              "5         Interceptions        1\n",
              "6            Clearances        1\n",
              "15     Cross accuracy %        1\n",
              "7            Recoveries        1\n",
              "10              Assists        1\n",
              "11               Passes        1\n",
              "12     Passes per match        1\n",
              "13  Big chances created        1\n",
              "8     Successful 50/50s        1\n",
              "33     Aerial battles %        1\n",
              "27      Penalties saved        2\n",
              "9             Own goals        3\n",
              "19            Red cards        4"
            ]
          },
          "execution_count": 19,
          "metadata": {},
          "output_type": "execute_result"
        }
      ],
      "source": [
        "selected_rf_features = pd.DataFrame({\n",
        "                                        'Feature':list(X_train.columns),\n",
        "                                        'Ranking':boruta_selector.ranking_\n",
        "                                        })\n",
        "selected_rf_features.sort_values(by='Ranking')"
      ]
    },
    {
      "cell_type": "markdown",
      "metadata": {
        "id": "y3pyYTkHHmHl"
      },
      "source": [
        "__Observation__\n",
        "- Now, we know the attributes apart from rank 1."
      ]
    },
    {
      "cell_type": "markdown",
      "metadata": {
        "id": "3_enUSv3l_HO"
      },
      "source": [
        "## Step 7: Train a RandomForest Classifier Using the Selected Features\n",
        "\n",
        "- Transform the training and testing sets using the Boruta selector\n",
        "- Train a RandomForest classifier using the selected features\n",
        "- Calculate the accuracy score on the test set"
      ]
    },
    {
      "cell_type": "code",
      "execution_count": 20,
      "metadata": {
        "id": "PZKrTWR8kvsT"
      },
      "outputs": [],
      "source": [
        "X_important_train = boruta_selector.transform(np.array(X_train))\n",
        "X_important_test = boruta_selector.transform(np.array(X_test))"
      ]
    },
    {
      "cell_type": "markdown",
      "metadata": {
        "id": "N7zH61FIICcn"
      },
      "source": [
        "- Using the important feature selection, let's fit the RandomForestClassifier model."
      ]
    },
    {
      "cell_type": "code",
      "execution_count": 21,
      "metadata": {
        "colab": {
          "base_uri": "https://localhost:8080/",
          "height": 75
        },
        "id": "fik5DaYYkvsT",
        "outputId": "b414f104-e870-4fa7-9bfe-6af034088618"
      },
      "outputs": [
        {
          "data": {
            "text/html": [
              "<style>#sk-container-id-3 {color: black;background-color: white;}#sk-container-id-3 pre{padding: 0;}#sk-container-id-3 div.sk-toggleable {background-color: white;}#sk-container-id-3 label.sk-toggleable__label {cursor: pointer;display: block;width: 100%;margin-bottom: 0;padding: 0.3em;box-sizing: border-box;text-align: center;}#sk-container-id-3 label.sk-toggleable__label-arrow:before {content: \"▸\";float: left;margin-right: 0.25em;color: #696969;}#sk-container-id-3 label.sk-toggleable__label-arrow:hover:before {color: black;}#sk-container-id-3 div.sk-estimator:hover label.sk-toggleable__label-arrow:before {color: black;}#sk-container-id-3 div.sk-toggleable__content {max-height: 0;max-width: 0;overflow: hidden;text-align: left;background-color: #f0f8ff;}#sk-container-id-3 div.sk-toggleable__content pre {margin: 0.2em;color: black;border-radius: 0.25em;background-color: #f0f8ff;}#sk-container-id-3 input.sk-toggleable__control:checked~div.sk-toggleable__content {max-height: 200px;max-width: 100%;overflow: auto;}#sk-container-id-3 input.sk-toggleable__control:checked~label.sk-toggleable__label-arrow:before {content: \"▾\";}#sk-container-id-3 div.sk-estimator input.sk-toggleable__control:checked~label.sk-toggleable__label {background-color: #d4ebff;}#sk-container-id-3 div.sk-label input.sk-toggleable__control:checked~label.sk-toggleable__label {background-color: #d4ebff;}#sk-container-id-3 input.sk-hidden--visually {border: 0;clip: rect(1px 1px 1px 1px);clip: rect(1px, 1px, 1px, 1px);height: 1px;margin: -1px;overflow: hidden;padding: 0;position: absolute;width: 1px;}#sk-container-id-3 div.sk-estimator {font-family: monospace;background-color: #f0f8ff;border: 1px dotted black;border-radius: 0.25em;box-sizing: border-box;margin-bottom: 0.5em;}#sk-container-id-3 div.sk-estimator:hover {background-color: #d4ebff;}#sk-container-id-3 div.sk-parallel-item::after {content: \"\";width: 100%;border-bottom: 1px solid gray;flex-grow: 1;}#sk-container-id-3 div.sk-label:hover label.sk-toggleable__label {background-color: #d4ebff;}#sk-container-id-3 div.sk-serial::before {content: \"\";position: absolute;border-left: 1px solid gray;box-sizing: border-box;top: 0;bottom: 0;left: 50%;z-index: 0;}#sk-container-id-3 div.sk-serial {display: flex;flex-direction: column;align-items: center;background-color: white;padding-right: 0.2em;padding-left: 0.2em;position: relative;}#sk-container-id-3 div.sk-item {position: relative;z-index: 1;}#sk-container-id-3 div.sk-parallel {display: flex;align-items: stretch;justify-content: center;background-color: white;position: relative;}#sk-container-id-3 div.sk-item::before, #sk-container-id-3 div.sk-parallel-item::before {content: \"\";position: absolute;border-left: 1px solid gray;box-sizing: border-box;top: 0;bottom: 0;left: 50%;z-index: -1;}#sk-container-id-3 div.sk-parallel-item {display: flex;flex-direction: column;z-index: 1;position: relative;background-color: white;}#sk-container-id-3 div.sk-parallel-item:first-child::after {align-self: flex-end;width: 50%;}#sk-container-id-3 div.sk-parallel-item:last-child::after {align-self: flex-start;width: 50%;}#sk-container-id-3 div.sk-parallel-item:only-child::after {width: 0;}#sk-container-id-3 div.sk-dashed-wrapped {border: 1px dashed gray;margin: 0 0.4em 0.5em 0.4em;box-sizing: border-box;padding-bottom: 0.4em;background-color: white;}#sk-container-id-3 div.sk-label label {font-family: monospace;font-weight: bold;display: inline-block;line-height: 1.2em;}#sk-container-id-3 div.sk-label-container {text-align: center;}#sk-container-id-3 div.sk-container {/* jupyter's `normalize.less` sets `[hidden] { display: none; }` but bootstrap.min.css set `[hidden] { display: none !important; }` so we also need the `!important` here to be able to override the default hidden behavior on the sphinx rendered scikit-learn.org. See: https://github.com/scikit-learn/scikit-learn/issues/21755 */display: inline-block !important;position: relative;}#sk-container-id-3 div.sk-text-repr-fallback {display: none;}</style><div id=\"sk-container-id-3\" class=\"sk-top-container\"><div class=\"sk-text-repr-fallback\"><pre>RandomForestClassifier(max_depth=5, n_estimators=1000, random_state=1)</pre><b>In a Jupyter environment, please rerun this cell to show the HTML representation or trust the notebook. <br />On GitHub, the HTML representation is unable to render, please try loading this page with nbviewer.org.</b></div><div class=\"sk-container\" hidden><div class=\"sk-item\"><div class=\"sk-estimator sk-toggleable\"><input class=\"sk-toggleable__control sk-hidden--visually\" id=\"sk-estimator-id-7\" type=\"checkbox\" checked><label for=\"sk-estimator-id-7\" class=\"sk-toggleable__label sk-toggleable__label-arrow\">RandomForestClassifier</label><div class=\"sk-toggleable__content\"><pre>RandomForestClassifier(max_depth=5, n_estimators=1000, random_state=1)</pre></div></div></div></div></div>"
            ],
            "text/plain": [
              "RandomForestClassifier(max_depth=5, n_estimators=1000, random_state=1)"
            ]
          },
          "execution_count": 21,
          "metadata": {},
          "output_type": "execute_result"
        }
      ],
      "source": [
        "rf_boruta = RandomForestClassifier(random_state=1, n_estimators=1000, max_depth=5)\n",
        "rf_boruta.fit(X_important_train, y_train)"
      ]
    },
    {
      "cell_type": "code",
      "execution_count": 22,
      "metadata": {
        "colab": {
          "base_uri": "https://localhost:8080/"
        },
        "id": "KeTF8Le_kvsT",
        "outputId": "ee447a0f-5ebc-4aba-d3fa-7b6e4c41a1b5"
      },
      "outputs": [
        {
          "data": {
            "text/plain": [
              "0.7325905292479109"
            ]
          },
          "execution_count": 22,
          "metadata": {},
          "output_type": "execute_result"
        }
      ],
      "source": [
        "accuracy_score(y_test, rf_boruta.predict(X_important_test))"
      ]
    },
    {
      "cell_type": "markdown",
      "metadata": {
        "id": "yBPvZbwjRb17"
      },
      "source": [
        "__Observation__\n",
        "\n",
        "- As seen above, the accuracy is better by a small fraction 73 even though we eliminated 4 variables.\n",
        "- the advantage here is we were able to determine which features can be removed without impacting the model performance. Therefore, we saved on computational consumption"
      ]
    },
    {
      "cell_type": "markdown",
      "metadata": {
        "id": "-GmzQUrEH0sm"
      },
      "source": [
        "___"
      ]
    },
    {
      "cell_type": "code",
      "execution_count": null,
      "metadata": {
        "id": "Jc9gEnnk2LYX"
      },
      "outputs": [],
      "source": []
    },
    {
      "cell_type": "code",
      "execution_count": 23,
      "metadata": {
        "id": "gGo3WMzEb00y"
      },
      "outputs": [],
      "source": [
        "\n",
        "import pandas as pd\n",
        "from matplotlib import pyplot as plt\n",
        "import seaborn as sns\n"
      ]
    },
    {
      "cell_type": "code",
      "execution_count": 24,
      "metadata": {
        "id": "_1r0Oj98cZwV"
      },
      "outputs": [
        {
          "ename": "FileNotFoundError",
          "evalue": "[Errno 2] No such file or directory: 'data/wisconsin_breast_cancer_dataset.csv'",
          "output_type": "error",
          "traceback": [
            "\u001b[0;31m---------------------------------------------------------------------------\u001b[0m",
            "\u001b[0;31mFileNotFoundError\u001b[0m                         Traceback (most recent call last)",
            "Cell \u001b[0;32mIn[24], line 1\u001b[0m\n\u001b[0;32m----> 1\u001b[0m df \u001b[38;5;241m=\u001b[39m \u001b[43mpd\u001b[49m\u001b[38;5;241;43m.\u001b[39;49m\u001b[43mread_csv\u001b[49m\u001b[43m(\u001b[49m\u001b[38;5;124;43m\"\u001b[39;49m\u001b[38;5;124;43mdata/wisconsin_breast_cancer_dataset.csv\u001b[39;49m\u001b[38;5;124;43m\"\u001b[39;49m\u001b[43m)\u001b[49m\n",
            "File \u001b[0;32m/Library/Frameworks/Python.framework/Versions/3.11/lib/python3.11/site-packages/pandas/io/parsers/readers.py:912\u001b[0m, in \u001b[0;36mread_csv\u001b[0;34m(filepath_or_buffer, sep, delimiter, header, names, index_col, usecols, dtype, engine, converters, true_values, false_values, skipinitialspace, skiprows, skipfooter, nrows, na_values, keep_default_na, na_filter, verbose, skip_blank_lines, parse_dates, infer_datetime_format, keep_date_col, date_parser, date_format, dayfirst, cache_dates, iterator, chunksize, compression, thousands, decimal, lineterminator, quotechar, quoting, doublequote, escapechar, comment, encoding, encoding_errors, dialect, on_bad_lines, delim_whitespace, low_memory, memory_map, float_precision, storage_options, dtype_backend)\u001b[0m\n\u001b[1;32m    899\u001b[0m kwds_defaults \u001b[38;5;241m=\u001b[39m _refine_defaults_read(\n\u001b[1;32m    900\u001b[0m     dialect,\n\u001b[1;32m    901\u001b[0m     delimiter,\n\u001b[0;32m   (...)\u001b[0m\n\u001b[1;32m    908\u001b[0m     dtype_backend\u001b[38;5;241m=\u001b[39mdtype_backend,\n\u001b[1;32m    909\u001b[0m )\n\u001b[1;32m    910\u001b[0m kwds\u001b[38;5;241m.\u001b[39mupdate(kwds_defaults)\n\u001b[0;32m--> 912\u001b[0m \u001b[38;5;28;01mreturn\u001b[39;00m \u001b[43m_read\u001b[49m\u001b[43m(\u001b[49m\u001b[43mfilepath_or_buffer\u001b[49m\u001b[43m,\u001b[49m\u001b[43m \u001b[49m\u001b[43mkwds\u001b[49m\u001b[43m)\u001b[49m\n",
            "File \u001b[0;32m/Library/Frameworks/Python.framework/Versions/3.11/lib/python3.11/site-packages/pandas/io/parsers/readers.py:577\u001b[0m, in \u001b[0;36m_read\u001b[0;34m(filepath_or_buffer, kwds)\u001b[0m\n\u001b[1;32m    574\u001b[0m _validate_names(kwds\u001b[38;5;241m.\u001b[39mget(\u001b[38;5;124m\"\u001b[39m\u001b[38;5;124mnames\u001b[39m\u001b[38;5;124m\"\u001b[39m, \u001b[38;5;28;01mNone\u001b[39;00m))\n\u001b[1;32m    576\u001b[0m \u001b[38;5;66;03m# Create the parser.\u001b[39;00m\n\u001b[0;32m--> 577\u001b[0m parser \u001b[38;5;241m=\u001b[39m \u001b[43mTextFileReader\u001b[49m\u001b[43m(\u001b[49m\u001b[43mfilepath_or_buffer\u001b[49m\u001b[43m,\u001b[49m\u001b[43m \u001b[49m\u001b[38;5;241;43m*\u001b[39;49m\u001b[38;5;241;43m*\u001b[39;49m\u001b[43mkwds\u001b[49m\u001b[43m)\u001b[49m\n\u001b[1;32m    579\u001b[0m \u001b[38;5;28;01mif\u001b[39;00m chunksize \u001b[38;5;129;01mor\u001b[39;00m iterator:\n\u001b[1;32m    580\u001b[0m     \u001b[38;5;28;01mreturn\u001b[39;00m parser\n",
            "File \u001b[0;32m/Library/Frameworks/Python.framework/Versions/3.11/lib/python3.11/site-packages/pandas/io/parsers/readers.py:1407\u001b[0m, in \u001b[0;36mTextFileReader.__init__\u001b[0;34m(self, f, engine, **kwds)\u001b[0m\n\u001b[1;32m   1404\u001b[0m     \u001b[38;5;28mself\u001b[39m\u001b[38;5;241m.\u001b[39moptions[\u001b[38;5;124m\"\u001b[39m\u001b[38;5;124mhas_index_names\u001b[39m\u001b[38;5;124m\"\u001b[39m] \u001b[38;5;241m=\u001b[39m kwds[\u001b[38;5;124m\"\u001b[39m\u001b[38;5;124mhas_index_names\u001b[39m\u001b[38;5;124m\"\u001b[39m]\n\u001b[1;32m   1406\u001b[0m \u001b[38;5;28mself\u001b[39m\u001b[38;5;241m.\u001b[39mhandles: IOHandles \u001b[38;5;241m|\u001b[39m \u001b[38;5;28;01mNone\u001b[39;00m \u001b[38;5;241m=\u001b[39m \u001b[38;5;28;01mNone\u001b[39;00m\n\u001b[0;32m-> 1407\u001b[0m \u001b[38;5;28mself\u001b[39m\u001b[38;5;241m.\u001b[39m_engine \u001b[38;5;241m=\u001b[39m \u001b[38;5;28;43mself\u001b[39;49m\u001b[38;5;241;43m.\u001b[39;49m\u001b[43m_make_engine\u001b[49m\u001b[43m(\u001b[49m\u001b[43mf\u001b[49m\u001b[43m,\u001b[49m\u001b[43m \u001b[49m\u001b[38;5;28;43mself\u001b[39;49m\u001b[38;5;241;43m.\u001b[39;49m\u001b[43mengine\u001b[49m\u001b[43m)\u001b[49m\n",
            "File \u001b[0;32m/Library/Frameworks/Python.framework/Versions/3.11/lib/python3.11/site-packages/pandas/io/parsers/readers.py:1661\u001b[0m, in \u001b[0;36mTextFileReader._make_engine\u001b[0;34m(self, f, engine)\u001b[0m\n\u001b[1;32m   1659\u001b[0m     \u001b[38;5;28;01mif\u001b[39;00m \u001b[38;5;124m\"\u001b[39m\u001b[38;5;124mb\u001b[39m\u001b[38;5;124m\"\u001b[39m \u001b[38;5;129;01mnot\u001b[39;00m \u001b[38;5;129;01min\u001b[39;00m mode:\n\u001b[1;32m   1660\u001b[0m         mode \u001b[38;5;241m+\u001b[39m\u001b[38;5;241m=\u001b[39m \u001b[38;5;124m\"\u001b[39m\u001b[38;5;124mb\u001b[39m\u001b[38;5;124m\"\u001b[39m\n\u001b[0;32m-> 1661\u001b[0m \u001b[38;5;28mself\u001b[39m\u001b[38;5;241m.\u001b[39mhandles \u001b[38;5;241m=\u001b[39m \u001b[43mget_handle\u001b[49m\u001b[43m(\u001b[49m\n\u001b[1;32m   1662\u001b[0m \u001b[43m    \u001b[49m\u001b[43mf\u001b[49m\u001b[43m,\u001b[49m\n\u001b[1;32m   1663\u001b[0m \u001b[43m    \u001b[49m\u001b[43mmode\u001b[49m\u001b[43m,\u001b[49m\n\u001b[1;32m   1664\u001b[0m \u001b[43m    \u001b[49m\u001b[43mencoding\u001b[49m\u001b[38;5;241;43m=\u001b[39;49m\u001b[38;5;28;43mself\u001b[39;49m\u001b[38;5;241;43m.\u001b[39;49m\u001b[43moptions\u001b[49m\u001b[38;5;241;43m.\u001b[39;49m\u001b[43mget\u001b[49m\u001b[43m(\u001b[49m\u001b[38;5;124;43m\"\u001b[39;49m\u001b[38;5;124;43mencoding\u001b[39;49m\u001b[38;5;124;43m\"\u001b[39;49m\u001b[43m,\u001b[49m\u001b[43m \u001b[49m\u001b[38;5;28;43;01mNone\u001b[39;49;00m\u001b[43m)\u001b[49m\u001b[43m,\u001b[49m\n\u001b[1;32m   1665\u001b[0m \u001b[43m    \u001b[49m\u001b[43mcompression\u001b[49m\u001b[38;5;241;43m=\u001b[39;49m\u001b[38;5;28;43mself\u001b[39;49m\u001b[38;5;241;43m.\u001b[39;49m\u001b[43moptions\u001b[49m\u001b[38;5;241;43m.\u001b[39;49m\u001b[43mget\u001b[49m\u001b[43m(\u001b[49m\u001b[38;5;124;43m\"\u001b[39;49m\u001b[38;5;124;43mcompression\u001b[39;49m\u001b[38;5;124;43m\"\u001b[39;49m\u001b[43m,\u001b[49m\u001b[43m \u001b[49m\u001b[38;5;28;43;01mNone\u001b[39;49;00m\u001b[43m)\u001b[49m\u001b[43m,\u001b[49m\n\u001b[1;32m   1666\u001b[0m \u001b[43m    \u001b[49m\u001b[43mmemory_map\u001b[49m\u001b[38;5;241;43m=\u001b[39;49m\u001b[38;5;28;43mself\u001b[39;49m\u001b[38;5;241;43m.\u001b[39;49m\u001b[43moptions\u001b[49m\u001b[38;5;241;43m.\u001b[39;49m\u001b[43mget\u001b[49m\u001b[43m(\u001b[49m\u001b[38;5;124;43m\"\u001b[39;49m\u001b[38;5;124;43mmemory_map\u001b[39;49m\u001b[38;5;124;43m\"\u001b[39;49m\u001b[43m,\u001b[49m\u001b[43m \u001b[49m\u001b[38;5;28;43;01mFalse\u001b[39;49;00m\u001b[43m)\u001b[49m\u001b[43m,\u001b[49m\n\u001b[1;32m   1667\u001b[0m \u001b[43m    \u001b[49m\u001b[43mis_text\u001b[49m\u001b[38;5;241;43m=\u001b[39;49m\u001b[43mis_text\u001b[49m\u001b[43m,\u001b[49m\n\u001b[1;32m   1668\u001b[0m \u001b[43m    \u001b[49m\u001b[43merrors\u001b[49m\u001b[38;5;241;43m=\u001b[39;49m\u001b[38;5;28;43mself\u001b[39;49m\u001b[38;5;241;43m.\u001b[39;49m\u001b[43moptions\u001b[49m\u001b[38;5;241;43m.\u001b[39;49m\u001b[43mget\u001b[49m\u001b[43m(\u001b[49m\u001b[38;5;124;43m\"\u001b[39;49m\u001b[38;5;124;43mencoding_errors\u001b[39;49m\u001b[38;5;124;43m\"\u001b[39;49m\u001b[43m,\u001b[49m\u001b[43m \u001b[49m\u001b[38;5;124;43m\"\u001b[39;49m\u001b[38;5;124;43mstrict\u001b[39;49m\u001b[38;5;124;43m\"\u001b[39;49m\u001b[43m)\u001b[49m\u001b[43m,\u001b[49m\n\u001b[1;32m   1669\u001b[0m \u001b[43m    \u001b[49m\u001b[43mstorage_options\u001b[49m\u001b[38;5;241;43m=\u001b[39;49m\u001b[38;5;28;43mself\u001b[39;49m\u001b[38;5;241;43m.\u001b[39;49m\u001b[43moptions\u001b[49m\u001b[38;5;241;43m.\u001b[39;49m\u001b[43mget\u001b[49m\u001b[43m(\u001b[49m\u001b[38;5;124;43m\"\u001b[39;49m\u001b[38;5;124;43mstorage_options\u001b[39;49m\u001b[38;5;124;43m\"\u001b[39;49m\u001b[43m,\u001b[49m\u001b[43m \u001b[49m\u001b[38;5;28;43;01mNone\u001b[39;49;00m\u001b[43m)\u001b[49m\u001b[43m,\u001b[49m\n\u001b[1;32m   1670\u001b[0m \u001b[43m\u001b[49m\u001b[43m)\u001b[49m\n\u001b[1;32m   1671\u001b[0m \u001b[38;5;28;01massert\u001b[39;00m \u001b[38;5;28mself\u001b[39m\u001b[38;5;241m.\u001b[39mhandles \u001b[38;5;129;01mis\u001b[39;00m \u001b[38;5;129;01mnot\u001b[39;00m \u001b[38;5;28;01mNone\u001b[39;00m\n\u001b[1;32m   1672\u001b[0m f \u001b[38;5;241m=\u001b[39m \u001b[38;5;28mself\u001b[39m\u001b[38;5;241m.\u001b[39mhandles\u001b[38;5;241m.\u001b[39mhandle\n",
            "File \u001b[0;32m/Library/Frameworks/Python.framework/Versions/3.11/lib/python3.11/site-packages/pandas/io/common.py:859\u001b[0m, in \u001b[0;36mget_handle\u001b[0;34m(path_or_buf, mode, encoding, compression, memory_map, is_text, errors, storage_options)\u001b[0m\n\u001b[1;32m    854\u001b[0m \u001b[38;5;28;01melif\u001b[39;00m \u001b[38;5;28misinstance\u001b[39m(handle, \u001b[38;5;28mstr\u001b[39m):\n\u001b[1;32m    855\u001b[0m     \u001b[38;5;66;03m# Check whether the filename is to be opened in binary mode.\u001b[39;00m\n\u001b[1;32m    856\u001b[0m     \u001b[38;5;66;03m# Binary mode does not support 'encoding' and 'newline'.\u001b[39;00m\n\u001b[1;32m    857\u001b[0m     \u001b[38;5;28;01mif\u001b[39;00m ioargs\u001b[38;5;241m.\u001b[39mencoding \u001b[38;5;129;01mand\u001b[39;00m \u001b[38;5;124m\"\u001b[39m\u001b[38;5;124mb\u001b[39m\u001b[38;5;124m\"\u001b[39m \u001b[38;5;129;01mnot\u001b[39;00m \u001b[38;5;129;01min\u001b[39;00m ioargs\u001b[38;5;241m.\u001b[39mmode:\n\u001b[1;32m    858\u001b[0m         \u001b[38;5;66;03m# Encoding\u001b[39;00m\n\u001b[0;32m--> 859\u001b[0m         handle \u001b[38;5;241m=\u001b[39m \u001b[38;5;28;43mopen\u001b[39;49m\u001b[43m(\u001b[49m\n\u001b[1;32m    860\u001b[0m \u001b[43m            \u001b[49m\u001b[43mhandle\u001b[49m\u001b[43m,\u001b[49m\n\u001b[1;32m    861\u001b[0m \u001b[43m            \u001b[49m\u001b[43mioargs\u001b[49m\u001b[38;5;241;43m.\u001b[39;49m\u001b[43mmode\u001b[49m\u001b[43m,\u001b[49m\n\u001b[1;32m    862\u001b[0m \u001b[43m            \u001b[49m\u001b[43mencoding\u001b[49m\u001b[38;5;241;43m=\u001b[39;49m\u001b[43mioargs\u001b[49m\u001b[38;5;241;43m.\u001b[39;49m\u001b[43mencoding\u001b[49m\u001b[43m,\u001b[49m\n\u001b[1;32m    863\u001b[0m \u001b[43m            \u001b[49m\u001b[43merrors\u001b[49m\u001b[38;5;241;43m=\u001b[39;49m\u001b[43merrors\u001b[49m\u001b[43m,\u001b[49m\n\u001b[1;32m    864\u001b[0m \u001b[43m            \u001b[49m\u001b[43mnewline\u001b[49m\u001b[38;5;241;43m=\u001b[39;49m\u001b[38;5;124;43m\"\u001b[39;49m\u001b[38;5;124;43m\"\u001b[39;49m\u001b[43m,\u001b[49m\n\u001b[1;32m    865\u001b[0m \u001b[43m        \u001b[49m\u001b[43m)\u001b[49m\n\u001b[1;32m    866\u001b[0m     \u001b[38;5;28;01melse\u001b[39;00m:\n\u001b[1;32m    867\u001b[0m         \u001b[38;5;66;03m# Binary mode\u001b[39;00m\n\u001b[1;32m    868\u001b[0m         handle \u001b[38;5;241m=\u001b[39m \u001b[38;5;28mopen\u001b[39m(handle, ioargs\u001b[38;5;241m.\u001b[39mmode)\n",
            "\u001b[0;31mFileNotFoundError\u001b[0m: [Errno 2] No such file or directory: 'data/wisconsin_breast_cancer_dataset.csv'"
          ]
        }
      ],
      "source": [
        "df = pd.read_csv(\"data/wisconsin_breast_cancer_dataset.csv\")\n"
      ]
    },
    {
      "cell_type": "code",
      "execution_count": null,
      "metadata": {
        "id": "5NiZIse_cZsy"
      },
      "outputs": [],
      "source": [
        "\n",
        "print(df.describe().T)  #Values need to be normalized before fitting.\n",
        "print(df.isnull().sum())\n",
        "#df = df.dropna()\n",
        "\n",
        "#Rename Dataset to Label to make it easy to understand\n",
        "df = df.rename(columns={'Diagnosis':'Label'})\n",
        "print(df.dtypes)\n",
        "\n",
        "#Understand the data\n",
        "#sns.countplot(x=\"Label\", data=df) #M - malignant   B - benign\n",
        "\n",
        "\n",
        "####### Replace categorical values with numbers########\n",
        "df['Label'].value_counts()\n",
        "\n",
        "#Define the dependent variable that needs to be predicted (labels)\n",
        "y = df[\"Label\"].values\n",
        "\n",
        "# Encoding categorical data\n",
        "from sklearn.preprocessing import LabelEncoder\n",
        "labelencoder = LabelEncoder()\n",
        "Y = labelencoder.fit_transform(y) # M=1 and B=0\n",
        "#################################################################\n",
        "#Define x and normalize values\n",
        "\n",
        "#Define the independent variables. Let's also drop Gender, so we can normalize other data\n",
        "X = df.drop(labels = [\"Label\", \"ID\"], axis=1)\n",
        "\n",
        "import numpy as np\n",
        "feature_names = np.array(X.columns)  #Convert dtype string?\n",
        "\n",
        "\n",
        "from sklearn.preprocessing import StandardScaler\n",
        "scaler = StandardScaler()\n",
        "scaler.fit(X)\n",
        "X = scaler.transform(X)\n",
        "\n",
        "##Split data into train and test to verify accuracy after fitting the model.\n",
        "from sklearn.model_selection import train_test_split\n",
        "X_train, X_test, y_train, y_test = train_test_split(X, Y, test_size=0.25, random_state=42)\n",
        "\n",
        "###########################################################################\n",
        "# Define XGBOOST classifier to be used by Boruta\n",
        "import xgboost as xgb\n",
        "model = xgb.XGBClassifier()  #For Boruta\n",
        "\n",
        "\"\"\"\n",
        "Create shadow features – random features and shuffle values in columns\n",
        "Train Random Forest / XGBoost and calculate feature importance via mean decrease impurity\n",
        "Check if real features have higher importance compared to shadow features\n",
        "Repeat this for every iteration\n",
        "If original feature performed better, then mark it as important\n",
        "\"\"\"\n",
        "\n",
        "from boruta import BorutaPy\n",
        "\n",
        "# define Boruta feature selection method\n",
        "feat_selector = BorutaPy(model, n_estimators='auto', verbose=2, random_state=1)\n",
        "\n",
        "# find all relevant features\n",
        "feat_selector.fit(X_train, y_train)\n",
        "\n",
        "\n",
        "# check selected features\n",
        "print(feat_selector.support_)  #Should we accept the feature\n",
        "\n",
        "# check ranking of features\n",
        "print(feat_selector.ranking_) #Rank 1 is the best\n",
        "\n",
        "# call transform() on X to filter it down to selected features\n",
        "X_filtered = feat_selector.transform(X_train)  #Apply feature selection and return transformed data\n",
        "\n",
        "\"\"\"\n",
        "Review the features\n",
        "\"\"\"\n",
        "# zip feature names, ranks, and decisions\n",
        "feature_ranks = list(zip(feature_names,\n",
        "                         feat_selector.ranking_,\n",
        "                         feat_selector.support_))\n",
        "\n",
        "# print the results\n",
        "for feat in feature_ranks:\n",
        "    print('Feature: {:<30} Rank: {},  Keep: {}'.format(feat[0], feat[1], feat[2]))\n",
        "\n",
        "\n",
        "############################################################\n",
        "#Now use the subset of features to fit XGBoost model on training data\n",
        "import xgboost as xgb\n",
        "xgb_model = xgb.XGBClassifier()\n",
        "\n",
        "xgb_model.fit(X_filtered, y_train)\n",
        "\n",
        "#Now predict on test data using the trained model.\n",
        "\n",
        "#First apply feature selector transform to make sure same features are selected from test data\n",
        "X_test_filtered = feat_selector.transform(X_test)\n",
        "prediction_xgb = xgb_model.predict(X_test_filtered)\n",
        "\n",
        "\n",
        "#Print overall accuracy\n",
        "from sklearn import metrics\n",
        "print (\"Accuracy = \", metrics.accuracy_score(y_test, prediction_xgb))\n",
        "\n",
        "#Confusion Matrix - verify accuracy of each class\n",
        "from sklearn.metrics import confusion_matrix\n",
        "cm = confusion_matrix(y_test, prediction_xgb)\n",
        "#print(cm)\n",
        "sns.heatmap(cm, annot=True)\n",
        "\n",
        "#######################################################\n",
        "\n",
        "\n"
      ]
    },
    {
      "cell_type": "code",
      "execution_count": null,
      "metadata": {
        "id": "Gr5Dk3t8cZlG"
      },
      "outputs": [],
      "source": []
    },
    {
      "cell_type": "code",
      "execution_count": null,
      "metadata": {
        "id": "Mzl97IhbcZbD"
      },
      "outputs": [],
      "source": []
    }
  ],
  "metadata": {
    "colab": {
      "provenance": []
    },
    "kernelspec": {
      "display_name": "Python 3",
      "language": "python",
      "name": "python3"
    },
    "language_info": {
      "codemirror_mode": {
        "name": "ipython",
        "version": 3
      },
      "file_extension": ".py",
      "mimetype": "text/x-python",
      "name": "python",
      "nbconvert_exporter": "python",
      "pygments_lexer": "ipython3",
      "version": "3.11.3"
    }
  },
  "nbformat": 4,
  "nbformat_minor": 0
}
