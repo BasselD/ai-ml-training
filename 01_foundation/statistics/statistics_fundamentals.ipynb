{
 "cells": [
  {
   "cell_type": "markdown",
   "metadata": {},
   "source": [
    "# Statistics Fundamentals"
   ]
  },
  {
   "cell_type": "markdown",
   "metadata": {},
   "source": [
    "We'll cover:\n",
    "- Intro:\n",
    "    - Definition\n",
    "    - Importance of Statistics for Data Science\n",
    "    - Common Terms Used in Statistics\n",
    "    - Statistics Types\n",
    "- Types of Data\n",
    "- Statistical Measures:\n",
    "    - Measures of Central Tendency\n",
    "    - Measures of Dispersion\n",
    "    - Measures of Shape\n",
    "    - Covariance and Correlation"
   ]
  },
  {
   "cell_type": "code",
   "execution_count": 1,
   "metadata": {},
   "outputs": [],
   "source": [
    "import pandas as pd\n",
    "import numpy as np"
   ]
  },
  {
   "cell_type": "markdown",
   "metadata": {},
   "source": [
    "## Intro\n",
    "### What is Statistics?\n",
    "- Another part of mathematics that involves the collection, analysis, interpretation, presentation, and organization of data.\n",
    "- It's a discipline that deals with collection, description, analysis, and inference of conclusions from quantitative data (notes: there are techniques to perform stats on categorical data - e.g. chi square test)"
   ]
  },
  {
   "cell_type": "markdown",
   "metadata": {},
   "source": [
    "### Importance of Statistics\n",
    "- The first step in every DS project is to explore and interpret the data\n",
    "- Statistics helps us extract impactful findings and define an object"
   ]
  },
  {
   "cell_type": "markdown",
   "metadata": {},
   "source": [
    "### Common Terms Used in Statistics\n",
    "- **Population and Sample:** \n",
    "    - Population is the complete pool from which the sample is drawn for further analysis. In other words, a sample is a subset of the population.\n",
    "    - We cannot perform analysis on the full population. It's costly and time consuming. e.g. studying the rate of obesity in the US. It's nearly impossible to record data for every US Citizen (330 M people) Instead, we can use a subset from each state.\n",
    "    - Therefore, it's essential to have a good sample at hand. The sample should be **good representative** of the population.\n",
    "- **Measurement:** it's a number or attribute calculated or measured for each member of the sample.\n",
    "- **Parameter** it's a characteristic of the population. e.g. population mean\n",
    "- **Statistic** it's a characteristic of the sample. e.g. sample mean\n",
    "- **Distribution** it refers to how the sample data is spread across a range of values \n"
   ]
  },
  {
   "cell_type": "code",
   "execution_count": 2,
   "metadata": {},
   "outputs": [
    {
     "data": {
      "text/html": [
       "<div>\n",
       "<style scoped>\n",
       "    .dataframe tbody tr th:only-of-type {\n",
       "        vertical-align: middle;\n",
       "    }\n",
       "\n",
       "    .dataframe tbody tr th {\n",
       "        vertical-align: top;\n",
       "    }\n",
       "\n",
       "    .dataframe thead th {\n",
       "        text-align: right;\n",
       "    }\n",
       "</style>\n",
       "<table border=\"1\" class=\"dataframe\">\n",
       "  <thead>\n",
       "    <tr style=\"text-align: right;\">\n",
       "      <th></th>\n",
       "      <th>name</th>\n",
       "      <th>age</th>\n",
       "      <th>score</th>\n",
       "      <th>city</th>\n",
       "    </tr>\n",
       "  </thead>\n",
       "  <tbody>\n",
       "    <tr>\n",
       "      <th>0</th>\n",
       "      <td>Mark</td>\n",
       "      <td>55</td>\n",
       "      <td>99</td>\n",
       "      <td>New York</td>\n",
       "    </tr>\n",
       "    <tr>\n",
       "      <th>1</th>\n",
       "      <td>Mike</td>\n",
       "      <td>43</td>\n",
       "      <td>78</td>\n",
       "      <td>Nashville</td>\n",
       "    </tr>\n",
       "    <tr>\n",
       "      <th>2</th>\n",
       "      <td>Tammy</td>\n",
       "      <td>27</td>\n",
       "      <td>83</td>\n",
       "      <td>San Diego</td>\n",
       "    </tr>\n",
       "    <tr>\n",
       "      <th>3</th>\n",
       "      <td>Becky</td>\n",
       "      <td>35</td>\n",
       "      <td>87</td>\n",
       "      <td>Atlanta</td>\n",
       "    </tr>\n",
       "    <tr>\n",
       "      <th>4</th>\n",
       "      <td>John</td>\n",
       "      <td>46</td>\n",
       "      <td>79</td>\n",
       "      <td>Boston</td>\n",
       "    </tr>\n",
       "  </tbody>\n",
       "</table>\n",
       "</div>"
      ],
      "text/plain": [
       "    name  age  score       city\n",
       "0   Mark   55     99   New York\n",
       "1   Mike   43     78  Nashville\n",
       "2  Tammy   27     83  San Diego\n",
       "3  Becky   35     87    Atlanta\n",
       "4   John   46     79     Boston"
      ]
     },
     "execution_count": 2,
     "metadata": {},
     "output_type": "execute_result"
    }
   ],
   "source": [
    "data = {\n",
    "    'name': ['Mark', 'Mike', 'Tammy', 'Becky', 'John'],\n",
    "    'age': [55,43,27,35, 46],\n",
    "    'score':[99,78,83,87, 79],\n",
    "    'city': ['New York', 'Nashville', 'San Diego', 'Atlanta', 'Boston']\n",
    "}\n",
    "\n",
    "df = pd.DataFrame(data)\n",
    "df"
   ]
  },
  {
   "cell_type": "markdown",
   "metadata": {},
   "source": [
    "- df is a sample of all the students of school (population)\n",
    "- row 0, for example, is a record or a member of the sample"
   ]
  },
  {
   "cell_type": "markdown",
   "metadata": {},
   "source": [
    "## Types of Statistics\n",
    "\n",
    "![link text](https://labcontent.simplicdn.net/data-content/content-assets/Data_and_AI/ADSP_Images/Lesson_06_Maths_and_Stats/Statistics_Fundamentals/Image_1.png)"
   ]
  },
  {
   "cell_type": "markdown",
   "metadata": {},
   "source": [
    "- **Descriptive Statistics:** it involves organizing, displaying, analyzing, and describing the data. e.g. avg  BMI, max strength, lowest score, correlation between A and B, etc... \n",
    "- **Inferential Statistics:** it involves building conclusions (inferences) about the population based on the sample. The increase of blodd pressure is causing a heart attack\n",
    "- **Predictive Statistics:** it involves extracting information from the data and using it predict trends, behavior, patterns, or relationships between attributes. e.g. predicting the price of goods when inflation is high"
   ]
  }
 ],
 "metadata": {
  "kernelspec": {
   "display_name": "Python 3",
   "language": "python",
   "name": "python3"
  },
  "language_info": {
   "codemirror_mode": {
    "name": "ipython",
    "version": 3
   },
   "file_extension": ".py",
   "mimetype": "text/x-python",
   "name": "python",
   "nbconvert_exporter": "python",
   "pygments_lexer": "ipython3",
   "version": "3.11.3"
  }
 },
 "nbformat": 4,
 "nbformat_minor": 2
}
