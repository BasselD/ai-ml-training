{
  "cells": [
    {
      "cell_type": "markdown",
      "metadata": {},
      "source": [
        "PyTorch is an open-source deep learning framework developed by Meta AI, widely recognized for its flexibility and Pythonic design. Here's a concise breakdown of its key features and applications:\n",
        "\n",
        "**Core Features**  \n",
        "- **Dynamic Computation Graphs**: Enables real-time graph modifications during execution, contrasting with static graph frameworks like TensorFlow[2][4]. This \"eager execution\" approach simplifies debugging using standard Python tools[4][6].  \n",
        "- **GPU Acceleration**: Leverages NVIDIA's cuDNN/cuBLAS libraries for high-performance tensor operations, matching or exceeding TensorFlow's speed in many benchmarks[3][4].  \n",
        "- **TorchScript**: Allows seamless conversion between eager mode (for development) and optimized graph mode (for production deployment)[1][3].  \n",
        "- **Autograd System**: Implements reverse-mode auto-differentiation through a tape-based mechanism for efficient gradient calculations[3][5].  \n",
        "\n",
        "**Development Advantages**  \n",
        "- **Python Integration**: Feels native to Python developers, with API similarities to NumPy and support for common scientific libraries[5][6].  \n",
        "- **Research Focus**: Preferred in academia for rapid prototyping due to its modular design and dynamic nature[2][4].  \n",
        "- **Mobile Deployment**: Supports end-to-end workflows from Python to iOS/Android applications[1][3].  \n",
        "\n",
        "**Ecosystem & Community**  \n",
        "- **Growing Adoption**: Has surpassed TensorFlow in popularity among researchers, with a 28% decline in TensorFlow usage reported in 2025[5][6].  \n",
        "- **Rich Resources**: Extensive official documentation, tutorials, and third-party libraries (e.g., torchvision, Hugging Face Transformers)[5][6].  \n",
        "\n",
        "**Performance Considerations**  \n",
        "- **Benchmarks**: Shows competitive training speeds for models like ResNet-50 and MobileNet compared to TensorFlow[4].  \n",
        "- **Scalability**: Supports distributed training and multi-GPU configurations for large-scale applications[3][6].  \n",
        "\n",
        "While TensorFlow remains strong in production environments, PyTorch dominates research contexts due to its intuitive interface and flexibility[2][4][6]. For new projects, its balance of usability and performance makes it a compelling choice across both academic and industrial applications[1][5].\n",
        "\n",
        "Citations:\n",
        "[1] https://ai.meta.com/tools/pytorch/\n",
        "[2] https://builtin.com/data-science/pytorch-vs-tensorflow\n",
        "[3] https://docs.nvidia.com/deeplearning/frameworks/pytorch-release-notes/overview.html\n",
        "[4] https://viso.ai/deep-learning/pytorch-vs-tensorflow/\n",
        "[5] https://www.dataquest.io/blog/pytorch-for-deep-learning/\n",
        "[6] https://opencv.org/blog/pytorch-vs-tensorflow/\n",
        "[7] https://www.usdsi.org/data-science-insights/resources/pytorch-deep-learning-framework\n",
        "[8] https://www.reddit.com/r/MLQuestions/comments/112sege/pytorch_vs_tensorflow/\n",
        "[9] https://www.techtarget.com/searchenterpriseai/definition/PyTorch\n"
      ]
    },
    {
      "cell_type": "markdown",
      "metadata": {},
      "source": [
        "**short summary comparing Keras (with TensorFlow backend) and PyTorch**:\n",
        "\n",
        "---\n",
        "\n",
        "| Feature              | **Keras (with TensorFlow)**                    | **PyTorch**                                |\n",
        "|----------------------|-----------------------------------------------|---------------------------------------------|\n",
        "| **Ease of Use**      | Very beginner-friendly, high-level API        | More code control, slightly steeper learning curve |\n",
        "| **Model Building**   | Functional/sequential API + subclassing       | Dynamic computation graph, very flexible     |\n",
        "| **Debugging**        | Harder (static graphs) — better with `tf.function` | Easier (eager execution by default)         |\n",
        "| **Community & Docs** | Large community, extensive documentation       | Strong research community, growing fast     |\n",
        "| **Deployment**       | Great support via TensorFlow Serving, TF Lite | TorchServe is improving but less mature     |\n",
        "| **Popularity**       | More used in production/enterprise (Google-backed) | More popular in research (Facebook-backed)  |\n",
        "\n",
        "---\n",
        "\n",
        "✅ **Use Keras/TensorFlow** for fast prototyping + production-ready workflows.  \n",
        "✅ **Use PyTorch** if you want low-level control and flexibility for research or custom training loops.\n",
        "\n",
        "Would you like a sample model in both to compare side-by-side?"
      ]
    },
    {
      "cell_type": "code",
      "execution_count": 1,
      "metadata": {
        "id": "dbhIGhSZHPD-"
      },
      "outputs": [],
      "source": [
        "import torch\n",
        "import torch.nn as nn\n",
        "import torch.optim as optim\n",
        "import torchvision\n",
        "from torchvision import datasets, transforms\n",
        "import matplotlib.pyplot as plt\n"
      ]
    },
    {
      "cell_type": "code",
      "execution_count": 2,
      "metadata": {
        "colab": {
          "base_uri": "https://localhost:8080/"
        },
        "id": "sbFO3iXEHQI3",
        "outputId": "3dee6f98-7779-4a83-c8cf-3cce86b4d19c"
      },
      "outputs": [],
      "source": [
        "# Data preprocessing: normalization\n",
        "transform = transforms.Compose([\n",
        "    transforms.ToTensor(),\n",
        "    transforms.Normalize((0.5,), (0.5,)) #using mean and std values of 0.5 applies 0 to 1 normalization\n",
        "])\n",
        "\n",
        "# Loading the dataset\n",
        "train_dataset = datasets.FashionMNIST(root='./data', train=True, download=True, transform=transform)\n",
        "test_dataset = datasets.FashionMNIST(root='./data', train=False, download=True, transform=transform)\n"
      ]
    },
    {
      "cell_type": "code",
      "execution_count": 3,
      "metadata": {},
      "outputs": [
        {
          "name": "stdout",
          "output_type": "stream",
          "text": [
            "Training data: 60,000 images\n"
          ]
        }
      ],
      "source": [
        "print(f'Training data: {len(train_dataset):,} images')"
      ]
    },
    {
      "cell_type": "code",
      "execution_count": 4,
      "metadata": {},
      "outputs": [
        {
          "name": "stdout",
          "output_type": "stream",
          "text": [
            "Training data: 60000 samples\n",
            "Testing data: 10000 samples\n"
          ]
        }
      ],
      "source": [
        "\n",
        "train_loader = torch.utils.data.DataLoader(train_dataset, batch_size=32, shuffle=True)\n",
        "test_loader = torch.utils.data.DataLoader(test_dataset, batch_size=32, shuffle=False)\n",
        "\n",
        "# Printing the shape of the datasets\n",
        "print(f'Training data: {len(train_dataset)} samples')\n",
        "print(f'Testing data: {len(test_dataset)} samples')\n"
      ]
    },
    {
      "cell_type": "code",
      "execution_count": 5,
      "metadata": {},
      "outputs": [
        {
          "name": "stdout",
          "output_type": "stream",
          "text": [
            "tensor([[[-1.0000, -1.0000, -1.0000, -1.0000, -1.0000, -1.0000, -1.0000,\n",
            "          -1.0000, -0.7412, -0.2471,  0.3725,  0.2235, -0.4980, -0.8902,\n",
            "          -0.5765,  0.0745,  0.6000,  0.5216, -0.2000, -1.0000, -1.0000,\n",
            "          -1.0000, -1.0000, -1.0000, -1.0000, -1.0000, -1.0000, -1.0000],\n",
            "         [-1.0000, -1.0000, -1.0000, -1.0000, -1.0000, -1.0000, -0.4275,\n",
            "           0.4588,  0.3882,  0.4353,  0.3725,  0.4745,  0.8196,  1.0000,\n",
            "           0.7490,  0.7176,  0.5216,  0.4039,  0.4588,  0.6706,  0.1451,\n",
            "          -1.0000, -1.0000, -1.0000, -1.0000, -1.0000, -1.0000, -1.0000],\n",
            "         [-1.0000, -1.0000, -1.0000, -1.0000, -1.0000, -0.7255,  0.2784,\n",
            "           0.0980,  0.1765,  0.1922,  0.1765,  0.1451,  0.3725,  0.3725,\n",
            "           0.3569,  0.3412,  0.2235,  0.1922,  0.1608,  0.0118,  0.2235,\n",
            "           0.0980, -1.0000, -1.0000, -1.0000, -1.0000, -1.0000, -1.0000],\n",
            "         [-1.0000, -1.0000, -1.0000, -1.0000, -1.0000,  0.1765,  0.1137,\n",
            "           0.0980,  0.1922,  0.2549,  0.2235,  0.1451,  0.1137, -0.0039,\n",
            "           0.0588,  0.0431,  0.0980,  0.0980,  0.0745,  0.0431, -0.0196,\n",
            "           0.3255, -0.4118, -1.0000, -1.0000, -1.0000, -1.0000, -1.0000],\n",
            "         [-1.0000, -1.0000, -1.0000, -1.0000, -1.0000, -0.5765,  0.3098,\n",
            "           0.1451,  0.0118,  0.1137,  0.0745,  0.0745,  0.0275,  0.1608,\n",
            "           0.1608,  0.0431,  0.0275,  0.0275,  0.0275, -0.0196,  0.0980,\n",
            "           0.0980, -1.0000, -1.0000, -1.0000, -1.0000, -1.0000, -1.0000],\n",
            "         [-1.0000, -1.0000, -1.0000, -1.0000, -1.0000, -1.0000, -0.1373,\n",
            "           0.4745,  0.0431,  0.1451,  0.1922,  0.0431, -0.0196, -0.0039,\n",
            "          -0.0667,  0.0118,  0.0431, -0.0667,  0.0980,  0.0275,  0.1765,\n",
            "          -0.8902, -1.0000, -1.0000, -1.0000, -1.0000, -1.0000, -1.0000],\n",
            "         [-1.0000, -1.0000, -1.0000, -1.0000, -1.0000, -1.0000, -1.0000,\n",
            "           0.7333,  0.2392,  0.0745,  0.0588, -0.0353, -0.1373, -0.1373,\n",
            "          -0.1059, -0.1529, -0.1216, -0.0824, -0.0039,  0.1137, -0.3961,\n",
            "          -1.0000, -1.0000, -1.0000, -1.0000, -1.0000, -1.0000, -1.0000],\n",
            "         [-1.0000, -1.0000, -1.0000, -1.0000, -1.0000, -0.9686, -1.0000,\n",
            "          -0.8039,  0.2392,  0.0745, -0.0196, -0.0667, -0.0667, -0.1373,\n",
            "          -0.0824, -0.0824, -0.1373, -0.0667, -0.0039,  0.1294, -1.0000,\n",
            "          -1.0000, -1.0000, -1.0000, -1.0000, -1.0000, -1.0000, -1.0000],\n",
            "         [-1.0000, -1.0000, -1.0000, -1.0000, -1.0000, -1.0000, -1.0000,\n",
            "          -1.0000, -0.0353,  0.2235,  0.0118, -0.1216, -0.1373, -0.2000,\n",
            "          -0.1216, -0.2157, -0.0510, -0.0824,  0.0118, -0.1059, -1.0000,\n",
            "          -1.0000, -1.0000, -1.0000, -1.0000, -1.0000, -1.0000, -1.0000],\n",
            "         [-1.0000, -1.0000, -1.0000, -1.0000, -1.0000, -1.0000, -1.0000,\n",
            "          -1.0000, -0.0196,  0.3255, -0.0039, -0.0667, -0.1686, -0.1529,\n",
            "          -0.1843, -0.2627, -0.0510, -0.1059,  0.0118, -0.2863, -1.0000,\n",
            "          -1.0000, -1.0000, -1.0000, -1.0000, -1.0000, -1.0000, -1.0000],\n",
            "         [-1.0000, -1.0000, -1.0000, -1.0000, -1.0000, -1.0000, -0.9843,\n",
            "          -1.0000, -0.2314,  0.3412,  0.0118, -0.1216, -0.1843, -0.1059,\n",
            "          -0.1686, -0.2000, -0.1216, -0.1843,  0.0431, -0.4980, -1.0000,\n",
            "          -0.9686, -1.0000, -1.0000, -1.0000, -1.0000, -1.0000, -1.0000],\n",
            "         [-1.0000, -1.0000, -1.0000, -1.0000, -1.0000, -1.0000, -0.9843,\n",
            "          -1.0000, -0.4824,  0.3569,  0.0588,  0.0118, -0.2314, -0.2157,\n",
            "          -0.0667, -0.2000, -0.1529, -0.2314,  0.0588, -0.5294, -1.0000,\n",
            "          -0.9686, -1.0000, -1.0000, -1.0000, -1.0000, -1.0000, -1.0000],\n",
            "         [-1.0000, -1.0000, -1.0000, -1.0000, -1.0000, -1.0000, -0.9843,\n",
            "          -1.0000, -0.5608,  0.3412,  0.0588, -0.0039, -0.2157, -0.1529,\n",
            "          -0.0824, -0.3333, -0.1686, -0.1373,  0.0588, -0.4824, -1.0000,\n",
            "          -0.9686, -1.0000, -1.0000, -1.0000, -1.0000, -1.0000, -1.0000],\n",
            "         [-1.0000, -1.0000, -1.0000, -1.0000, -1.0000, -1.0000, -1.0000,\n",
            "          -1.0000, -0.5922,  0.1765,  0.0118, -0.1373, -0.2157, -0.2863,\n",
            "          -0.2000, -0.2627, -0.3490, -0.1843, -0.0353, -0.4824, -1.0000,\n",
            "          -0.9686, -1.0000, -1.0000, -1.0000, -1.0000, -1.0000, -1.0000],\n",
            "         [-1.0000, -1.0000, -1.0000, -1.0000, -1.0000, -1.0000, -0.9843,\n",
            "          -1.0000, -0.4824,  0.3098,  0.0980,  0.1608,  0.1608, -0.0039,\n",
            "           0.0745,  0.1922,  0.1451,  0.1451,  0.1608, -0.2471, -1.0000,\n",
            "          -1.0000, -1.0000, -1.0000, -1.0000, -1.0000, -1.0000, -1.0000],\n",
            "         [-1.0000, -1.0000, -1.0000, -1.0000, -1.0000, -1.0000, -1.0000,\n",
            "          -1.0000, -0.6471, -0.0353, -0.2627, -0.1843, -0.2471, -0.0667,\n",
            "          -0.0510, -0.1686, -0.2314, -0.1216, -0.3176, -0.1059, -1.0000,\n",
            "          -1.0000, -1.0000, -1.0000, -1.0000, -1.0000, -1.0000, -1.0000],\n",
            "         [-1.0000, -1.0000, -1.0000, -1.0000, -1.0000, -1.0000, -1.0000,\n",
            "          -1.0000, -0.1686, -0.3020, -0.5451, -0.6078, -0.7098, -0.6078,\n",
            "          -0.4824, -0.5608, -0.6078, -0.4118, -0.4118,  0.0745, -0.8275,\n",
            "          -1.0000, -0.9843, -1.0000, -1.0000, -1.0000, -1.0000, -1.0000],\n",
            "         [-1.0000, -1.0000, -1.0000, -1.0000, -1.0000, -0.9843, -1.0000,\n",
            "          -0.7725,  0.1608, -0.1059, -0.1686, -0.0196, -0.3020, -0.2157,\n",
            "           0.0431, -0.0824,  0.0275,  0.0275,  0.0275, -0.0196, -0.1216,\n",
            "          -1.0000, -1.0000, -1.0000, -1.0000, -1.0000, -1.0000, -1.0000],\n",
            "         [-1.0000, -1.0000, -1.0000, -1.0000, -1.0000, -1.0000, -1.0000,\n",
            "          -0.2157, -0.1686, -0.1059, -0.2863,  0.0745, -0.5137, -0.2000,\n",
            "           0.0275, -0.3020,  0.0588, -0.1216,  0.0275, -0.1529,  0.0588,\n",
            "          -0.7098, -1.0000, -1.0000, -1.0000, -1.0000, -1.0000, -1.0000],\n",
            "         [-1.0000, -1.0000, -1.0000, -1.0000, -1.0000, -1.0000, -1.0000,\n",
            "           0.1451, -0.2157, -0.1529, -0.2314,  0.1294, -0.5137, -0.1686,\n",
            "           0.0275, -0.3176,  0.0431, -0.1843,  0.2549, -0.0824, -0.0510,\n",
            "          -0.4667, -1.0000, -1.0000, -1.0000, -1.0000, -1.0000, -1.0000],\n",
            "         [-1.0000, -1.0000, -1.0000, -1.0000, -1.0000, -1.0000, -0.7412,\n",
            "          -0.0510, -0.1529, -0.2471, -0.2157,  0.0980, -0.4431, -0.1686,\n",
            "          -0.0039, -0.3333,  0.0980, -0.1843,  0.1765,  0.0980, -0.1059,\n",
            "          -0.3020, -1.0000, -1.0000, -1.0000, -1.0000, -1.0000, -1.0000],\n",
            "         [-1.0000, -1.0000, -1.0000, -1.0000, -1.0000, -1.0000, -0.5137,\n",
            "          -0.0667, -0.1216, -0.2000, -0.1373,  0.0745, -0.4118, -0.1686,\n",
            "           0.1294, -0.3647,  0.1294, -0.1529, -0.0824,  0.2078, -0.0824,\n",
            "          -0.1843, -0.8588, -1.0000, -1.0000, -1.0000, -1.0000, -1.0000],\n",
            "         [-1.0000, -1.0000, -1.0000, -1.0000, -1.0000, -1.0000, -0.4824,\n",
            "          -0.0510, -0.2000, -0.1216, -0.0824,  0.0275, -0.4275, -0.1843,\n",
            "           0.2235, -0.3961,  0.0745,  0.0588, -0.3490,  0.4039,  0.0118,\n",
            "          -0.0510, -0.7255, -1.0000, -1.0000, -1.0000, -1.0000, -1.0000],\n",
            "         [-1.0000, -1.0000, -1.0000, -1.0000, -1.0000, -1.0000, -0.3333,\n",
            "          -0.0039, -0.3647, -0.0196,  0.0431, -0.0667, -0.3804, -0.2157,\n",
            "           0.3255, -0.3490,  0.0118,  0.3725, -0.5294,  0.2784,  0.0588,\n",
            "           0.1451, -0.6941, -1.0000, -1.0000, -1.0000, -1.0000, -1.0000],\n",
            "         [-1.0000, -1.0000, -1.0000, -1.0000, -1.0000, -1.0000, -0.1686,\n",
            "           0.0118, -0.5137,  0.0980,  0.1294, -0.1529, -0.3333, -0.3490,\n",
            "           0.2392, -0.3333,  0.0118,  0.3725, -0.6235,  0.1451,  0.0431,\n",
            "           0.0588, -0.4980, -1.0000, -1.0000, -1.0000, -1.0000, -1.0000],\n",
            "         [-1.0000, -1.0000, -1.0000, -1.0000, -1.0000, -1.0000, -0.0824,\n",
            "          -0.0667, -0.3804,  0.0980,  0.1922, -0.2000, -0.3020, -0.1373,\n",
            "           0.0745, -0.2471,  0.1765,  0.5373, -0.3490,  0.1294,  0.0588,\n",
            "           0.0431, -0.3961, -1.0000, -1.0000, -1.0000, -1.0000, -1.0000],\n",
            "         [-1.0000, -1.0000, -1.0000, -1.0000, -1.0000, -1.0000,  0.2078,\n",
            "          -0.0510, -0.3176,  0.0980,  0.2078, -0.1216, -0.2627, -0.5922,\n",
            "           0.1137, -0.2157, -0.3490,  0.1922, -0.3333,  0.2549,  0.0431,\n",
            "          -0.2157, -0.9059, -1.0000, -1.0000, -1.0000, -1.0000, -1.0000],\n",
            "         [-1.0000, -1.0000, -1.0000, -1.0000, -1.0000, -1.0000, -0.9686,\n",
            "          -1.0000, -0.9843, -1.0000, -0.7255, -0.9686, -0.7412, -1.0000,\n",
            "          -1.0000, -1.0000, -1.0000, -1.0000, -1.0000, -1.0000, -1.0000,\n",
            "          -1.0000, -1.0000, -1.0000, -1.0000, -1.0000, -1.0000, -1.0000]]]) 3\n"
          ]
        }
      ],
      "source": [
        "\n",
        "image, label = train_dataset[3]  # Replace 'random_index' with an actual integer index\n",
        "print(image, label)"
      ]
    },
    {
      "cell_type": "code",
      "execution_count": 6,
      "metadata": {},
      "outputs": [
        {
          "data": {
            "image/png": "[encoded data removed]",
            "text/plain": [
              "<Figure size 640x480 with 1 Axes>"
            ]
          },
          "metadata": {},
          "output_type": "display_data"
        }
      ],
      "source": [
        "# Transform image back to a format suitable for display\n",
        "image = image.squeeze(0)  \n",
        "\n",
        "# Get clothing type based on label\n",
        "clothing_types = ['T-shirt/top', 'Trouser', 'Pullover', 'Dress', 'Coat', \n",
        "                  'Sandal', 'Shirt', 'Sneaker', 'Bag', 'Ankle boot']\n",
        "clothing_type = clothing_types[label]\n",
        "\n",
        "# Plot the image with label\n",
        "plt.imshow(image, cmap='gray')\n",
        "plt.title(f\"Clothing Type: {clothing_type}\")\n",
        "plt.axis('off')\n",
        "plt.show()"
      ]
    },
    {
      "cell_type": "code",
      "execution_count": 7,
      "metadata": {
        "id": "M7B9NI0GHW6N"
      },
      "outputs": [],
      "source": [
        "class CNN(nn.Module): #The CNN class inherits from nn.Module and defines the architecture of the neural network.\n",
        "    def __init__(self):\n",
        "        # we'll build 1 conv layer with max pooling\n",
        "        super(CNN, self).__init__()\n",
        "        self.conv1 = nn.Conv2d(1, 32, 3, 1)  # 1 input channel, 32 output channels, 3x3 kernel\n",
        "        self.pool = nn.MaxPool2d(2, 2)  # 2x2 pooling\n",
        "        self.fc1 = nn.Linear(13*13*32, 100)  # Flattened dimensions after pooling - done manually\n",
        "        self.fc2 = nn.Linear(100, 10)  # 10 classes for FashionMNIST\n",
        "#The forward method defines the forward pass of the network, specifying how input data flows through the layers\n",
        "    def forward(self, x):\n",
        "        x = self.conv1(x)\n",
        "        x = nn.ReLU()(x)\n",
        "        x = self.pool(x)\n",
        "        x = x.view(-1, 13*13*32)  # Flatten\n",
        "        x = self.fc1(x)\n",
        "        x = nn.ReLU()(x)\n",
        "        x = self.fc2(x)\n",
        "        return nn.Softmax(dim=1)(x)\n",
        "\n",
        "model = CNN()"
      ]
    },
    {
      "cell_type": "markdown",
      "metadata": {},
      "source": [
        "The flattened dimensions in this CNN (13x13x32) are determined by calculating how the input image size changes after passing through the convolutional and pooling layers. Let me break down the calculation step by step:\n",
        "\n",
        "### Starting Dimensions\n",
        "For FashionMNIST dataset, the input images are 28×28 pixels with 1 channel.\n",
        "\n",
        "### After First Convolutional Layer (self.conv1)\n",
        "- Input: 28×28×1\n",
        "- Filter: 3×3 with stride 1, no padding\n",
        "- Output size calculation: (Input size - Filter size + 2×Padding)/Stride + 1\n",
        "- Width and height: (28 - 3 + 0)/1 + 1 = 26\n",
        "- Output: 26×26×32 (32 output channels defined in conv1)\n",
        "\n",
        "### After Pooling Layer (self.pool)\n",
        "- Input: 26×26×32\n",
        "- Pool size: 2×2\n",
        "- Output size calculation: Input size/Pool size\n",
        "- Width and height: 26/2 = 13\n",
        "- Output: 13×13×32\n",
        "\n",
        "### Flattening for Fully Connected Layer\n",
        "- The 3D tensor (13×13×32) is flattened into a 1D vector\n",
        "- Total elements: 13×13×32 = 5,408\n",
        "- This is why the input to fc1 is 13*13*32\n",
        "\n",
        "The dimensions could be calculated programmatically, but here they were likely worked out manually or through debugging. In more complex networks, developers often use print statements to check tensor dimensions at each step:\n",
        "\n",
        "```python\n",
        "def forward(self, x):\n",
        "    x = self.conv1(x)\n",
        "    print(\"After conv1:\", x.shape)\n",
        "    x = nn.ReLU()(x)\n",
        "    x = self.pool(x)\n",
        "    print(\"After pooling:\", x.shape)\n",
        "    # rest of the code\n",
        "```\n",
        "\n",
        "\n",
        "The dynamic approach makes the code more robust to input size changes or architecture modifications."
      ]
    },
    {
      "cell_type": "markdown",
      "metadata": {},
      "source": [
        "### Dynamic Approach"
      ]
    },
    {
      "cell_type": "code",
      "execution_count": 8,
      "metadata": {},
      "outputs": [],
      "source": [
        "def __init__(self):\n",
        "    super(CNN, self).__init__()\n",
        "    self.conv1 = nn.Conv2d(1, 32, 3, 1)  # 1 input channel, 32 output channels, 3x3 kernel, stride 1\n",
        "    self.pool = nn.MaxPool2d(2, 2)       # 2x2 pooling with stride 2\n",
        "    \n",
        "    # Calculate the flattened dimension dynamically\n",
        "    with torch.no_grad():  # Disable gradient tracking for this calculation\n",
        "        # Create a sample input tensor with the expected input dimensions\n",
        "        # (batch_size=1, channels=1, height=28, width=28) for FashionMNIST\n",
        "        dummy_input = torch.zeros(1, 1, 28, 28)\n",
        "        \n",
        "        # Apply convolution to the dummy input\n",
        "        x = self.conv1(dummy_input)  # Shape becomes [1, 32, 26, 26]\n",
        "        \n",
        "        # Apply pooling to the result\n",
        "        x = self.pool(x)  # Shape becomes [1, 32, 13, 13]\n",
        "        \n",
        "        # Calculate the total number of features after flattening\n",
        "        # Size(0) is batch dimension, so we multiply sizes 1, 2, and 3 (channels, height, width)\n",
        "        flattened_size = x.size(1) * x.size(2) * x.size(3)  # 32 * 13 * 13 = 5408\n",
        "        \n",
        "        print(f\"Dynamically calculated flattened size: {flattened_size}\")\n",
        "    \n",
        "    # Create fully connected layers using the dynamically calculated input size\n",
        "    self.fc1 = nn.Linear(flattened_size, 100)  # Connect flattened input to 100 neurons\n",
        "    self.fc2 = nn.Linear(100, 10)              # Connect to 10 output classes (FashionMNIST)\n",
        "\n",
        "def forward(self, x):\n",
        "    # Pass input through convolutional layer\n",
        "    x = self.conv1(x)            # Apply 32 convolutional filters\n",
        "    x = nn.ReLU()(x)             # Apply ReLU activation\n",
        "    x = self.pool(x)             # Apply max pooling\n",
        "    \n",
        "    # Flatten the 3D tensor (channels, height, width) to a 1D vector\n",
        "    # -1 in the first dimension means \"infer this dimension from the tensor's size\"\n",
        "    batch_size = x.size(0)       # Get the batch size\n",
        "    x = x.view(batch_size, -1)   # Reshape to [batch_size, flattened_size]\n",
        "    \n",
        "    # Pass through fully connected layers\n",
        "    x = self.fc1(x)              # First fully connected layer\n",
        "    x = nn.ReLU()(x)             # Apply ReLU activation\n",
        "    x = self.fc2(x)              # Output layer\n",
        "    return nn.Softmax(dim=1)(x)  # Apply softmax to get class probabilities"
      ]
    },
    {
      "cell_type": "code",
      "execution_count": 9,
      "metadata": {
        "colab": {
          "base_uri": "https://localhost:8080/"
        },
        "id": "lYQXFP23HcoL",
        "outputId": "37e1b1d4-db21-43ad-d51b-53d6912b4033"
      },
      "outputs": [
        {
          "name": "stdout",
          "output_type": "stream",
          "text": [
            "Epoch 1/10, Loss: 1.7087, Accuracy: 75.50%\n",
            "Epoch 2/10, Loss: 1.5818, Accuracy: 88.03%\n",
            "Epoch 3/10, Loss: 1.5669, Accuracy: 89.53%\n",
            "Epoch 4/10, Loss: 1.5576, Accuracy: 90.39%\n",
            "Epoch 5/10, Loss: 1.5505, Accuracy: 91.12%\n",
            "Epoch 6/10, Loss: 1.5468, Accuracy: 91.47%\n",
            "Epoch 7/10, Loss: 1.5409, Accuracy: 92.04%\n",
            "Epoch 8/10, Loss: 1.5372, Accuracy: 92.42%\n",
            "Epoch 9/10, Loss: 1.5343, Accuracy: 92.69%\n",
            "Epoch 10/10, Loss: 1.5316, Accuracy: 92.99%\n"
          ]
        }
      ],
      "source": [
        "# Setting up the loss and optimizer\n",
        "criterion = nn.CrossEntropyLoss()\n",
        "optimizer = optim.Adam(model.parameters(), lr=0.001)\n",
        "\n",
        "# Training the model for 10 epochs\n",
        "num_epochs = 10\n",
        "for epoch in range(num_epochs):\n",
        "    model.train()\n",
        "    running_loss = 0.0\n",
        "    correct_predictions = 0\n",
        "    total_predictions = 0\n",
        "    \n",
        "    for images, labels in train_loader:\n",
        "        # Zero the parameter gradients\n",
        "        optimizer.zero_grad()\n",
        "\n",
        "        # Forward + backward + optimize\n",
        "        outputs = model(images)\n",
        "        loss = criterion(outputs, labels)\n",
        "        loss.backward()\n",
        "        optimizer.step()\n",
        "\n",
        "        # Calculate loss\n",
        "        running_loss += loss.item()\n",
        "        \n",
        "        # Calculate accuracy\n",
        "        _, predicted = torch.max(outputs.data, 1)\n",
        "        total_predictions += labels.size(0)\n",
        "        correct_predictions += (predicted == labels).sum().item()\n",
        "\n",
        "    # Calculate epoch metrics\n",
        "    epoch_loss = running_loss / len(train_loader)\n",
        "    epoch_accuracy = 100 * correct_predictions / total_predictions\n",
        "    \n",
        "    print(f\"Epoch {epoch+1}/{num_epochs}, Loss: {epoch_loss:.4f}, Accuracy: {epoch_accuracy:.2f}%\")"
      ]
    },
    {
      "cell_type": "code",
      "execution_count": 8,
      "metadata": {
        "colab": {
          "base_uri": "https://localhost:8080/"
        },
        "id": "zFubvmv-Hfmx",
        "outputId": "17fbbc41-c4ee-4f3c-d57e-55638e4b6384"
      },
      "outputs": [
        {
          "name": "stdout",
          "output_type": "stream",
          "text": [
            "Model accuracy on test set: 90.08%\n"
          ]
        }
      ],
      "source": [
        "model.eval()\n",
        "correct = 0\n",
        "total = 0\n",
        "with torch.no_grad():\n",
        "    for images, labels in test_loader:\n",
        "        outputs = model(images)\n",
        "        _, predicted = torch.max(outputs.data, 1)\n",
        "        total += labels.size(0)\n",
        "        correct += (predicted == labels).sum().item()\n",
        "\n",
        "accuracy = 100 * correct / total\n",
        "print(f\"Model accuracy on test set: {accuracy}%\")"
      ]
    },
    {
      "cell_type": "markdown",
      "metadata": {},
      "source": [
        "## Saving The Model"
      ]
    },
    {
      "cell_type": "code",
      "execution_count": null,
      "metadata": {
        "id": "o8yRZqjlJ5HY"
      },
      "outputs": [],
      "source": [
        "\n",
        "# Save the model (optional)\n",
        "torch.save(model.state_dict(), 'fashion_mnist_cnn.pt')"
      ]
    },
    {
      "cell_type": "code",
      "execution_count": null,
      "metadata": {},
      "outputs": [],
      "source": [
        "# Load the saved model\n",
        "model = FashionCNN()  # Create a new model instance\n",
        "model.load_state_dict(torch.load('fashion_mnist_cnn.pt'))\n",
        "model.eval()  # Set the model to evaluation mode (optional)"
      ]
    },
    {
      "cell_type": "markdown",
      "metadata": {},
      "source": [
        "# Flowers Data"
      ]
    },
    {
      "cell_type": "code",
      "execution_count": null,
      "metadata": {},
      "outputs": [],
      "source": [
        "import torch\n",
        "import torch.nn as nn\n",
        "import torch.optim as optim\n",
        "from torchvision import datasets, transforms\n",
        "\n",
        "# Define the device (GPU or CPU)\n",
        "device = torch.device(\"cuda:0\" if torch.cuda.is_available() else \"cpu\")\n",
        "\n",
        "# Define the data transforms\n",
        "data_transforms = {\n",
        "    'train': transforms.Compose([\n",
        "        transforms.RandomResizedCrop(224),\n",
        "        transforms.RandomHorizontalFlip(),\n",
        "        transforms.ToTensor(),\n",
        "        transforms.Normalize([0.485, 0.456, 0.406], [0.229, 0.224, 0.225])\n",
        "    ]),\n",
        "    'val': transforms.Compose([\n",
        "        transforms.Resize(256),\n",
        "        transforms.CenterCrop(224),\n",
        "        transforms.ToTensor(),\n",
        "        transforms.Normalize([0.485, 0.456, 0.406], [0.229, 0.224, 0.225])\n",
        "    ]),\n",
        "}\n",
        "\n",
        "# Load the Flowers dataset\n",
        "train_dataset = datasets.ImageFolder('flowers/train', data_transforms['train'])\n",
        "val_dataset = datasets.ImageFolder('flowers/val', data_transforms['val'])\n",
        "\n",
        "# Create data loaders\n",
        "train_loader = torch.utils.data.DataLoader(train_dataset, batch_size=32, shuffle=True)\n",
        "val_loader = torch.utils.data.DataLoader(val_dataset, batch_size=32, shuffle=False)\n",
        "\n",
        "# Define the CNN model\n",
        "class FlowerCNN(nn.Module):\n",
        "    def __init__(self):\n",
        "        super(FlowerCNN, self).__init__()\n",
        "        self.conv1 = nn.Conv2d(3, 64, kernel_size=3, padding=1)\n",
        "        self.conv2 = nn.Conv2d(64, 128, kernel_size=3, padding=1)\n",
        "        self.conv3 = nn.Conv2d(128, 256, kernel_size=3, padding=1)\n",
        "        self.max_pool = nn.MaxPool2d(2, 2)\n",
        "        self.fc1 = nn.Linear(256*56*56, 128)\n",
        "        self.fc2 = nn.Linear(128, 5)  # 5 classes: daisy, dandelion, roses, sunflowers, tulips\n",
        "\n",
        "    def forward(self, x):\n",
        "        x = torch.relu(self.conv1(x))\n",
        "        x = self.max_pool(x)\n",
        "        x = torch.relu(self.conv2(x))\n",
        "        x = self.max_pool(x)\n",
        "        x = torch.relu(self.conv3(x))\n",
        "        x = self.max_pool(x)\n",
        "        x = x.view(-1, 256*56*56)\n",
        "        x = torch.relu(self.fc1(x))\n",
        "        x = self.fc2(x)\n",
        "        return x\n",
        "\n",
        "# Initialize the model, optimizer, and loss function\n",
        "model = FlowerCNN()\n",
        "model.to(device)\n",
        "criterion = nn.CrossEntropyLoss()\n",
        "optimizer = optim.Adam(model.parameters(), lr=0.001)\n",
        "\n",
        "# Train the model\n",
        "for epoch in range(10):\n",
        "    model.train()\n",
        "    for batch_idx, (inputs, labels) in enumerate(train_loader):\n",
        "        inputs, labels = inputs.to(device), labels.to(device)\n",
        "        optimizer.zero_grad()\n",
        "        outputs = model(inputs)\n",
        "        loss = criterion(outputs, labels)\n",
        "        loss.backward()\n",
        "        optimizer.step()\n",
        "        if batch_idx % 100 == 0:\n",
        "            print(f'Epoch {epoch+1}, Batch {batch_idx+1}, Loss: {loss.item()}')\n",
        "\n",
        "    model.eval()\n",
        "    val_loss = 0\n",
        "    correct = 0\n",
        "    with torch.no_grad():\n",
        "        for inputs, labels in val_loader:\n",
        "            inputs, labels = inputs.to(device), labels.to(device)\n",
        "            outputs = model(inputs)\n",
        "            loss = criterion(outputs, labels)\n",
        "            val_loss += loss.item()\n",
        "            _, predicted = torch.max(outputs, 1)\n",
        "            correct += (predicted == labels).sum().item()\n",
        "\n",
        "    accuracy = correct / len(val_loader.dataset)\n",
        "    print(f'Epoch {epoch+1}, Val Loss: {val_loss / len(val_loader)}, Val Acc: {accuracy:.2f}%')"
      ]
    }
  ],
  "metadata": {
    "colab": {
      "provenance": []
    },
    "kernelspec": {
      "display_name": "Python 3",
      "name": "python3"
    },
    "language_info": {
      "codemirror_mode": {
        "name": "ipython",
        "version": 3
      },
      "file_extension": ".py",
      "mimetype": "text/x-python",
      "name": "python",
      "nbconvert_exporter": "python",
      "pygments_lexer": "ipython3",
      "version": "3.11.3"
    }
  },
  "nbformat": 4,
  "nbformat_minor": 0
}
