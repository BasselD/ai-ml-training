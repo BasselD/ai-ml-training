{
 "cells": [
  {
   "cell_type": "markdown",
   "metadata": {},
   "source": [
    "# String Operations Using Regular Expressions"
   ]
  },
  {
   "cell_type": "markdown",
   "metadata": {},
   "source": [
    "Regular expressions (often abbreviated as **regex** or **regexp**) are sequences of characters used to define search patterns. They provide a concise and flexible way to match, search, and manipulate text based on specific patterns.\n",
    "\n",
    "Regular expressions consist of a combination of literal characters and special characters called metacharacters. The metacharacters have special meanings and allow you to define complex patterns. Here are some commonly used metacharacters:\n",
    "\n",
    "- `.` (dot): Matches any single character except a newline.\n",
    "- `^` (caret): Matches the start of a string.\n",
    "- `$` (dollar): Matches the end of a string.\n",
    "- `*` (asterisk): Matches zero or more occurrences of the previous character or group.\n",
    "- `+` (plus): Matches one or more occurrences of the previous character or group.\n",
    "- `?` (question mark): Matches zero or one occurrence of the previous character or group.\n",
    "- `[ ]` (square brackets): Matches any character within the brackets.\n",
    "- `[^ ]` (caret within square brackets): Matches any character not in the brackets.\n",
    "- `|` (pipe): Matches either the expression before or after the pipe.\n",
    "- `()` (parentheses): Groups patterns together.\n",
    "- `\\` backward slash explain special sequence.\n",
    "- `w` select words\n",
    "- `d` select digits\n",
    "\n",
    "Regular expressions allow you to perform various operations, such as:\n",
    "\n",
    "- Matching: Determine if a string matches a specific pattern.\n",
    "- Searching: Find the first occurrence of a pattern within a larger text.\n",
    "- Extraction: Extract specific portions of a text that match a pattern.\n",
    "- Substitution: Replace occurrences of a pattern with new text."
   ]
  },
  {
   "cell_type": "markdown",
   "metadata": {},
   "source": [
    "> very useful website for RegEx tips and experimentation https://regex101.com/"
   ]
  },
  {
   "cell_type": "code",
   "execution_count": 1,
   "metadata": {},
   "outputs": [],
   "source": [
    "import re"
   ]
  },
  {
   "cell_type": "markdown",
   "metadata": {},
   "source": [
    "### Find the first instance of a string using `search()`"
   ]
  },
  {
   "cell_type": "code",
   "execution_count": 2,
   "metadata": {},
   "outputs": [
    {
     "data": {
      "text/plain": [
       "<re.Match object; span=(2, 4), match='is'>"
      ]
     },
     "execution_count": 2,
     "metadata": {},
     "output_type": "execute_result"
    }
   ],
   "source": [
    "s = 'this is a sample string'\n",
    "pattern = 'is'\n",
    "\n",
    "re.search(pattern, s)"
   ]
  },
  {
   "cell_type": "code",
   "execution_count": 4,
   "metadata": {},
   "outputs": [
    {
     "data": {
      "text/plain": [
       "'is'"
      ]
     },
     "execution_count": 4,
     "metadata": {},
     "output_type": "execute_result"
    }
   ],
   "source": [
    "s[2:4]"
   ]
  },
  {
   "cell_type": "markdown",
   "metadata": {},
   "source": [
    "### Search and capture all instances of a string using `findall()`"
   ]
  },
  {
   "cell_type": "code",
   "execution_count": 5,
   "metadata": {},
   "outputs": [
    {
     "data": {
      "text/plain": [
       "['sentence', 'sentence', 'sentence']"
      ]
     },
     "execution_count": 5,
     "metadata": {},
     "output_type": "execute_result"
    }
   ],
   "source": [
    "s2 = 'This is a sentence. Here is my sentence. Lastly, I am showing my 3rd sentence'\n",
    "\n",
    "re.findall('sentence', s2)"
   ]
  },
  {
   "cell_type": "code",
   "execution_count": 7,
   "metadata": {},
   "outputs": [
    {
     "data": {
      "text/plain": [
       "['ain', 'ain', 'ain']"
      ]
     },
     "execution_count": 7,
     "metadata": {},
     "output_type": "execute_result"
    }
   ],
   "source": [
    "s3 = 'It is raining in Spain. Pain'\n",
    "\n",
    "re.findall('ain', s3)"
   ]
  },
  {
   "cell_type": "markdown",
   "metadata": {},
   "source": [
    "### Selecting words using `w` char"
   ]
  },
  {
   "cell_type": "code",
   "execution_count": 8,
   "metadata": {},
   "outputs": [],
   "source": [
    "emails = '''\n",
    "            bassel@gmail.com\n",
    "            mark@yahoo.com\n",
    "            betty@msn.net\n",
    "            john@gmail.com\n",
    "        '''"
   ]
  },
  {
   "cell_type": "code",
   "execution_count": 9,
   "metadata": {},
   "outputs": [
    {
     "data": {
      "text/plain": [
       "['bassel',\n",
       " 'gmail',\n",
       " 'com',\n",
       " 'mark',\n",
       " 'yahoo',\n",
       " 'com',\n",
       " 'betty',\n",
       " 'msn',\n",
       " 'net',\n",
       " 'john',\n",
       " 'gmail',\n",
       " 'com']"
      ]
     },
     "execution_count": 9,
     "metadata": {},
     "output_type": "execute_result"
    }
   ],
   "source": [
    "pattern = re.compile('\\w+') #select words only (no special chars)\n",
    "\n",
    "re.findall(pattern, emails)"
   ]
  },
  {
   "cell_type": "code",
   "execution_count": 10,
   "metadata": {},
   "outputs": [
    {
     "data": {
      "text/plain": [
       "{'bassel', 'betty', 'com', 'gmail', 'john', 'mark', 'msn', 'net', 'yahoo'}"
      ]
     },
     "execution_count": 10,
     "metadata": {},
     "output_type": "execute_result"
    }
   ],
   "source": [
    "# make the list unique\n",
    "set(re.findall(pattern, emails))"
   ]
  },
  {
   "cell_type": "markdown",
   "metadata": {},
   "source": [
    "Capture the domain of each email"
   ]
  },
  {
   "cell_type": "code",
   "execution_count": 11,
   "metadata": {},
   "outputs": [
    {
     "data": {
      "text/plain": [
       "['com', 'com', 'net', 'com']"
      ]
     },
     "execution_count": 11,
     "metadata": {},
     "output_type": "execute_result"
    }
   ],
   "source": [
    "pattern = re.compile('\\w+@\\w+.(\\w+)')  #here () act as a cursor to capture the targeted word\n",
    "\n",
    "re.findall(pattern, emails)"
   ]
  },
  {
   "cell_type": "markdown",
   "metadata": {},
   "source": [
    "### Splitting A String Using `split()`"
   ]
  },
  {
   "cell_type": "code",
   "execution_count": 12,
   "metadata": {},
   "outputs": [
    {
     "data": {
      "text/plain": [
       "['Apples ', ' Bananas ', ' Oranges ', ' Grapes']"
      ]
     },
     "execution_count": 12,
     "metadata": {},
     "output_type": "execute_result"
    }
   ],
   "source": [
    "text = 'Apples - Bananas - Oranges - Grapes'\n",
    "\n",
    "# split the text and convert it into a list\n",
    "\n",
    "fruit_list = re.split('-', text)\n",
    "fruit_list"
   ]
  },
  {
   "cell_type": "code",
   "execution_count": 13,
   "metadata": {},
   "outputs": [
    {
     "data": {
      "text/plain": [
       "['Apples', 'Bananas', 'Oranges', 'Grapes']"
      ]
     },
     "execution_count": 13,
     "metadata": {},
     "output_type": "execute_result"
    }
   ],
   "source": [
    "# strip the white spaces from the list items\n",
    "fruit_list = [fruit.strip() for fruit in fruit_list]\n",
    "fruit_list"
   ]
  },
  {
   "cell_type": "code",
   "execution_count": 14,
   "metadata": {},
   "outputs": [
    {
     "data": {
      "text/plain": [
       "['Apples', 'Bananas', 'Oranges', 'Grapes']"
      ]
     },
     "execution_count": 14,
     "metadata": {},
     "output_type": "execute_result"
    }
   ],
   "source": [
    "fruit_list = re.split(' - ', text)\n",
    "fruit_list"
   ]
  },
  {
   "cell_type": "markdown",
   "metadata": {},
   "source": [
    "What if the string has different characters to split?"
   ]
  },
  {
   "cell_type": "code",
   "execution_count": 18,
   "metadata": {},
   "outputs": [
    {
     "data": {
      "text/plain": [
       "['Apples', 'Bananas', 'Oranges', 'Grapes']"
      ]
     },
     "execution_count": 18,
     "metadata": {},
     "output_type": "execute_result"
    }
   ],
   "source": [
    "text = 'Apples-Bananas|Oranges,Grapes'\n",
    "\n",
    "fruit_list = re.split('[-|,]', text) # using brackets, we avoid using | as a reserved special character in RegEx (literal pipe char)\n",
    "fruit_list"
   ]
  },
  {
   "cell_type": "markdown",
   "metadata": {},
   "source": [
    "### Using RegEx with Digits (using `d`)"
   ]
  },
  {
   "cell_type": "code",
   "execution_count": 23,
   "metadata": {},
   "outputs": [],
   "source": [
    "phone_nums = '''\n",
    "            Bassel: 234-7890018\n",
    "            Mark: 564-9873254\n",
    "            Becky: 346-0981238\n",
    "            '''"
   ]
  },
  {
   "cell_type": "code",
   "execution_count": 22,
   "metadata": {},
   "outputs": [
    {
     "data": {
      "text/plain": [
       "['234-7890018', '564-9873254', '346-0981238']"
      ]
     },
     "execution_count": 22,
     "metadata": {},
     "output_type": "execute_result"
    }
   ],
   "source": [
    "pattern = re.compile('\\d\\d\\d-\\d\\d\\d\\d\\d\\d\\d')\n",
    "re.findall(pattern, phone_nums)"
   ]
  },
  {
   "cell_type": "code",
   "execution_count": 24,
   "metadata": {},
   "outputs": [
    {
     "data": {
      "text/plain": [
       "['234-7890018', '564-9873254', '346-0981238']"
      ]
     },
     "execution_count": 24,
     "metadata": {},
     "output_type": "execute_result"
    }
   ],
   "source": [
    "# more efficient way is to use multipliers\n",
    "\n",
    "pattern = re.compile('\\d{3}-\\d{7}')\n",
    "re.findall(pattern, phone_nums)"
   ]
  },
  {
   "cell_type": "markdown",
   "metadata": {},
   "source": [
    "Select the area code form the phone numbers"
   ]
  },
  {
   "cell_type": "code",
   "execution_count": 26,
   "metadata": {},
   "outputs": [
    {
     "data": {
      "text/plain": [
       "['234', '564', '346']"
      ]
     },
     "execution_count": 26,
     "metadata": {},
     "output_type": "execute_result"
    }
   ],
   "source": [
    "pattern = re.compile('(\\d{3})-\\d{7}')\n",
    "user_area_codes = re.findall(pattern, phone_nums)\n",
    "user_area_codes"
   ]
  },
  {
   "cell_type": "markdown",
   "metadata": {},
   "source": [
    "### Replacing Strings Using `sub()`"
   ]
  },
  {
   "cell_type": "markdown",
   "metadata": {},
   "source": [
    "**Exercise** clean the following text using RegEx"
   ]
  },
  {
   "cell_type": "code",
   "execution_count": 34,
   "metadata": {},
   "outputs": [],
   "source": [
    "text = ''' The BEST $mvie ever made about writer's block and one of the scariest tales ever made regarding cabin fever, \n",
    "        The Shining took a simple concept of a      haunted hotel and built it ~up into an unforgettable, \n",
    "        psychological ^horror mvie that will withstand the test of \n",
    "        time despite being slated by it's original creator. scary moovie ---!!!!'''\n"
   ]
  },
  {
   "cell_type": "markdown",
   "metadata": {},
   "source": [
    "1. remove misspelling of the word movie"
   ]
  },
  {
   "cell_type": "code",
   "execution_count": 35,
   "metadata": {},
   "outputs": [
    {
     "name": "stdout",
     "output_type": "stream",
     "text": [
      " The BEST $movie ever made about writer's block and one of the scariest tales ever made regarding cabin fever, \n",
      "        The Shining took a simple concept of a      haunted hotel and built it ~up into an unforgettable, \n",
      "        psychological ^horror movie that will withstand the test of \n",
      "        time despite being slated by it's original creator. scary movie ---!!!!\n"
     ]
    }
   ],
   "source": [
    "text = re.sub('mvie|moovie', 'movie', text) # or flag searches for both mvie and moovie\n",
    "print(text)"
   ]
  },
  {
   "cell_type": "markdown",
   "metadata": {},
   "source": [
    "2. get rid of special characters"
   ]
  },
  {
   "cell_type": "code",
   "execution_count": 36,
   "metadata": {},
   "outputs": [
    {
     "name": "stdout",
     "output_type": "stream",
     "text": [
      " The BEST movie ever made about writer's block and one of the scariest tales ever made regarding cabin fever \n",
      "        The Shining took a simple concept of a      haunted hotel and built it up into an unforgettable \n",
      "        psychological horror movie that will withstand the test of \n",
      "        time despite being slated by it's original creator. scary movie \n"
     ]
    }
   ],
   "source": [
    "pattern = '[^a-zA-Z0-9\\s.\\']' # preserve lowercase, uppercase, digits, spaces\n",
    "text = re.sub(pattern, '', text)\n",
    "print(text)"
   ]
  },
  {
   "cell_type": "markdown",
   "metadata": {},
   "source": [
    "3. get rid of extra spaces"
   ]
  },
  {
   "cell_type": "code",
   "execution_count": 37,
   "metadata": {},
   "outputs": [
    {
     "name": "stdout",
     "output_type": "stream",
     "text": [
      " The BEST movie ever made about writer's block and one of the scariest tales ever made regarding cabin fever The Shining took a simple concept of a haunted hotel and built it up into an unforgettable psychological horror movie that will withstand the test of time despite being slated by it's original creator. scary movie \n"
     ]
    }
   ],
   "source": [
    "text = re.sub('\\s+', ' ', text)\n",
    "print(text)"
   ]
  },
  {
   "cell_type": "code",
   "execution_count": 74,
   "metadata": {},
   "outputs": [
    {
     "data": {
      "text/plain": [
       "\"The BEST movie ever made about writer's block and one of the scariest tales ever made regarding cabin fever The Shining took a simple concept of a haunted hotel and built it up into an unforgettable psychological horror movie that will withstand the test of time despite being slated by it's original creator. scary movie \""
      ]
     },
     "execution_count": 74,
     "metadata": {},
     "output_type": "execute_result"
    }
   ],
   "source": [
    "# remove the first space \n",
    "text = re.sub('^\\s','',text)\n",
    "text"
   ]
  },
  {
   "cell_type": "code",
   "execution_count": 38,
   "metadata": {},
   "outputs": [
    {
     "data": {
      "text/plain": [
       "\" the best movie ever made about writer's block and one of the scariest tales ever made regarding cabin fever the shining took a simple concept of a haunted hotel and built it up into an unforgettable psychological horror movie that will withstand the test of time despite being slated by it's original creator. scary movie \""
      ]
     },
     "execution_count": 38,
     "metadata": {},
     "output_type": "execute_result"
    }
   ],
   "source": [
    "text.lower()"
   ]
  },
  {
   "cell_type": "markdown",
   "metadata": {},
   "source": [
    "## Using RegEx with Pandas"
   ]
  },
  {
   "cell_type": "markdown",
   "metadata": {},
   "source": [
    "In some cases you don't have to use the `re` libraries with `pandas` because `pandas` has builtin `re` functions"
   ]
  },
  {
   "cell_type": "markdown",
   "metadata": {},
   "source": [
    "### Using `contains()`"
   ]
  },
  {
   "cell_type": "code",
   "execution_count": 39,
   "metadata": {},
   "outputs": [],
   "source": [
    "import pandas as pd"
   ]
  },
  {
   "cell_type": "code",
   "execution_count": 41,
   "metadata": {},
   "outputs": [
    {
     "data": {
      "text/html": [
       "<div>\n",
       "<style scoped>\n",
       "    .dataframe tbody tr th:only-of-type {\n",
       "        vertical-align: middle;\n",
       "    }\n",
       "\n",
       "    .dataframe tbody tr th {\n",
       "        vertical-align: top;\n",
       "    }\n",
       "\n",
       "    .dataframe thead th {\n",
       "        text-align: right;\n",
       "    }\n",
       "</style>\n",
       "<table border=\"1\" class=\"dataframe\">\n",
       "  <thead>\n",
       "    <tr style=\"text-align: right;\">\n",
       "      <th></th>\n",
       "      <th>names</th>\n",
       "      <th>emails</th>\n",
       "    </tr>\n",
       "  </thead>\n",
       "  <tbody>\n",
       "    <tr>\n",
       "      <th>0</th>\n",
       "      <td>bassel</td>\n",
       "      <td>bassel@gmail.com</td>\n",
       "    </tr>\n",
       "    <tr>\n",
       "      <th>1</th>\n",
       "      <td>mark</td>\n",
       "      <td>mark@yahoo.com</td>\n",
       "    </tr>\n",
       "    <tr>\n",
       "      <th>2</th>\n",
       "      <td>betty</td>\n",
       "      <td>betty@msn.net</td>\n",
       "    </tr>\n",
       "    <tr>\n",
       "      <th>3</th>\n",
       "      <td>john</td>\n",
       "      <td>john@gmail.com</td>\n",
       "    </tr>\n",
       "  </tbody>\n",
       "</table>\n",
       "</div>"
      ],
      "text/plain": [
       "    names            emails\n",
       "0  bassel  bassel@gmail.com\n",
       "1    mark    mark@yahoo.com\n",
       "2   betty     betty@msn.net\n",
       "3    john    john@gmail.com"
      ]
     },
     "execution_count": 41,
     "metadata": {},
     "output_type": "execute_result"
    }
   ],
   "source": [
    "data = {\n",
    "    'names': [  'bassel'\n",
    "                ,'mark'\n",
    "                ,'betty'\n",
    "                ,'john'],\n",
    "    'emails': [ 'bassel@gmail.com'\n",
    "                ,'mark@yahoo.com'\n",
    "                ,'betty@msn.net'\n",
    "                ,'john@gmail.com']\n",
    "}\n",
    "\n",
    "df = pd.DataFrame(data)\n",
    "df"
   ]
  },
  {
   "cell_type": "markdown",
   "metadata": {},
   "source": [
    "Build a flag for gmail accounts"
   ]
  },
  {
   "cell_type": "code",
   "execution_count": 43,
   "metadata": {},
   "outputs": [
    {
     "data": {
      "text/html": [
       "<div>\n",
       "<style scoped>\n",
       "    .dataframe tbody tr th:only-of-type {\n",
       "        vertical-align: middle;\n",
       "    }\n",
       "\n",
       "    .dataframe tbody tr th {\n",
       "        vertical-align: top;\n",
       "    }\n",
       "\n",
       "    .dataframe thead th {\n",
       "        text-align: right;\n",
       "    }\n",
       "</style>\n",
       "<table border=\"1\" class=\"dataframe\">\n",
       "  <thead>\n",
       "    <tr style=\"text-align: right;\">\n",
       "      <th></th>\n",
       "      <th>names</th>\n",
       "      <th>emails</th>\n",
       "      <th>has_gmail</th>\n",
       "    </tr>\n",
       "  </thead>\n",
       "  <tbody>\n",
       "    <tr>\n",
       "      <th>0</th>\n",
       "      <td>bassel</td>\n",
       "      <td>bassel@gmail.com</td>\n",
       "      <td>True</td>\n",
       "    </tr>\n",
       "    <tr>\n",
       "      <th>1</th>\n",
       "      <td>mark</td>\n",
       "      <td>mark@yahoo.com</td>\n",
       "      <td>False</td>\n",
       "    </tr>\n",
       "    <tr>\n",
       "      <th>2</th>\n",
       "      <td>betty</td>\n",
       "      <td>betty@msn.net</td>\n",
       "      <td>False</td>\n",
       "    </tr>\n",
       "    <tr>\n",
       "      <th>3</th>\n",
       "      <td>john</td>\n",
       "      <td>john@gmail.com</td>\n",
       "      <td>True</td>\n",
       "    </tr>\n",
       "  </tbody>\n",
       "</table>\n",
       "</div>"
      ],
      "text/plain": [
       "    names            emails  has_gmail\n",
       "0  bassel  bassel@gmail.com       True\n",
       "1    mark    mark@yahoo.com      False\n",
       "2   betty     betty@msn.net      False\n",
       "3    john    john@gmail.com       True"
      ]
     },
     "execution_count": 43,
     "metadata": {},
     "output_type": "execute_result"
    }
   ],
   "source": [
    "df['has_gmail'] = df['emails'].str.contains('gmail')\n",
    "df"
   ]
  },
  {
   "cell_type": "markdown",
   "metadata": {},
   "source": [
    "### Using `split()`"
   ]
  },
  {
   "cell_type": "markdown",
   "metadata": {},
   "source": [
    "Extract domain and email service into 2 columns"
   ]
  },
  {
   "cell_type": "code",
   "execution_count": 46,
   "metadata": {},
   "outputs": [
    {
     "data": {
      "text/html": [
       "<div>\n",
       "<style scoped>\n",
       "    .dataframe tbody tr th:only-of-type {\n",
       "        vertical-align: middle;\n",
       "    }\n",
       "\n",
       "    .dataframe tbody tr th {\n",
       "        vertical-align: top;\n",
       "    }\n",
       "\n",
       "    .dataframe thead th {\n",
       "        text-align: right;\n",
       "    }\n",
       "</style>\n",
       "<table border=\"1\" class=\"dataframe\">\n",
       "  <thead>\n",
       "    <tr style=\"text-align: right;\">\n",
       "      <th></th>\n",
       "      <th>names</th>\n",
       "      <th>emails</th>\n",
       "      <th>has_gmail</th>\n",
       "      <th>email_domain</th>\n",
       "    </tr>\n",
       "  </thead>\n",
       "  <tbody>\n",
       "    <tr>\n",
       "      <th>0</th>\n",
       "      <td>bassel</td>\n",
       "      <td>bassel@gmail.com</td>\n",
       "      <td>True</td>\n",
       "      <td>com</td>\n",
       "    </tr>\n",
       "    <tr>\n",
       "      <th>1</th>\n",
       "      <td>mark</td>\n",
       "      <td>mark@yahoo.com</td>\n",
       "      <td>False</td>\n",
       "      <td>com</td>\n",
       "    </tr>\n",
       "    <tr>\n",
       "      <th>2</th>\n",
       "      <td>betty</td>\n",
       "      <td>betty@msn.net</td>\n",
       "      <td>False</td>\n",
       "      <td>net</td>\n",
       "    </tr>\n",
       "    <tr>\n",
       "      <th>3</th>\n",
       "      <td>john</td>\n",
       "      <td>john@gmail.com</td>\n",
       "      <td>True</td>\n",
       "      <td>com</td>\n",
       "    </tr>\n",
       "  </tbody>\n",
       "</table>\n",
       "</div>"
      ],
      "text/plain": [
       "    names            emails  has_gmail email_domain\n",
       "0  bassel  bassel@gmail.com       True          com\n",
       "1    mark    mark@yahoo.com      False          com\n",
       "2   betty     betty@msn.net      False          net\n",
       "3    john    john@gmail.com       True          com"
      ]
     },
     "execution_count": 46,
     "metadata": {},
     "output_type": "execute_result"
    }
   ],
   "source": [
    "df['email_domain'] = df['emails'].str.split('.').str[1] # split by @ and grab the second item after it\n",
    "df"
   ]
  },
  {
   "cell_type": "code",
   "execution_count": 50,
   "metadata": {},
   "outputs": [
    {
     "data": {
      "text/html": [
       "<div>\n",
       "<style scoped>\n",
       "    .dataframe tbody tr th:only-of-type {\n",
       "        vertical-align: middle;\n",
       "    }\n",
       "\n",
       "    .dataframe tbody tr th {\n",
       "        vertical-align: top;\n",
       "    }\n",
       "\n",
       "    .dataframe thead th {\n",
       "        text-align: right;\n",
       "    }\n",
       "</style>\n",
       "<table border=\"1\" class=\"dataframe\">\n",
       "  <thead>\n",
       "    <tr style=\"text-align: right;\">\n",
       "      <th></th>\n",
       "      <th>names</th>\n",
       "      <th>emails</th>\n",
       "      <th>has_gmail</th>\n",
       "      <th>email_domain</th>\n",
       "      <th>email_service</th>\n",
       "    </tr>\n",
       "  </thead>\n",
       "  <tbody>\n",
       "    <tr>\n",
       "      <th>0</th>\n",
       "      <td>bassel</td>\n",
       "      <td>bassel@gmail.com</td>\n",
       "      <td>True</td>\n",
       "      <td>com</td>\n",
       "      <td>gmail</td>\n",
       "    </tr>\n",
       "    <tr>\n",
       "      <th>1</th>\n",
       "      <td>mark</td>\n",
       "      <td>mark@yahoo.com</td>\n",
       "      <td>False</td>\n",
       "      <td>com</td>\n",
       "      <td>yahoo</td>\n",
       "    </tr>\n",
       "    <tr>\n",
       "      <th>2</th>\n",
       "      <td>betty</td>\n",
       "      <td>betty@msn.net</td>\n",
       "      <td>False</td>\n",
       "      <td>net</td>\n",
       "      <td>msn</td>\n",
       "    </tr>\n",
       "    <tr>\n",
       "      <th>3</th>\n",
       "      <td>john</td>\n",
       "      <td>john@gmail.com</td>\n",
       "      <td>True</td>\n",
       "      <td>com</td>\n",
       "      <td>gmail</td>\n",
       "    </tr>\n",
       "  </tbody>\n",
       "</table>\n",
       "</div>"
      ],
      "text/plain": [
       "    names            emails  has_gmail email_domain email_service\n",
       "0  bassel  bassel@gmail.com       True          com         gmail\n",
       "1    mark    mark@yahoo.com      False          com         yahoo\n",
       "2   betty     betty@msn.net      False          net           msn\n",
       "3    john    john@gmail.com       True          com         gmail"
      ]
     },
     "execution_count": 50,
     "metadata": {},
     "output_type": "execute_result"
    }
   ],
   "source": [
    "df['email_service'] = df['emails'].str.split('@').str[1].str.split('.').str[0]\n",
    "df"
   ]
  },
  {
   "cell_type": "markdown",
   "metadata": {},
   "source": [
    "#### Using `expand=True` with `split()`"
   ]
  },
  {
   "cell_type": "code",
   "execution_count": 51,
   "metadata": {},
   "outputs": [
    {
     "data": {
      "text/html": [
       "<div>\n",
       "<style scoped>\n",
       "    .dataframe tbody tr th:only-of-type {\n",
       "        vertical-align: middle;\n",
       "    }\n",
       "\n",
       "    .dataframe tbody tr th {\n",
       "        vertical-align: top;\n",
       "    }\n",
       "\n",
       "    .dataframe thead th {\n",
       "        text-align: right;\n",
       "    }\n",
       "</style>\n",
       "<table border=\"1\" class=\"dataframe\">\n",
       "  <thead>\n",
       "    <tr style=\"text-align: right;\">\n",
       "      <th></th>\n",
       "      <th>info</th>\n",
       "    </tr>\n",
       "  </thead>\n",
       "  <tbody>\n",
       "    <tr>\n",
       "      <th>0</th>\n",
       "      <td>Bassel-85</td>\n",
       "    </tr>\n",
       "    <tr>\n",
       "      <th>1</th>\n",
       "      <td>Mark-70</td>\n",
       "    </tr>\n",
       "    <tr>\n",
       "      <th>2</th>\n",
       "      <td>Becky-92</td>\n",
       "    </tr>\n",
       "    <tr>\n",
       "      <th>3</th>\n",
       "      <td>Mike-79</td>\n",
       "    </tr>\n",
       "  </tbody>\n",
       "</table>\n",
       "</div>"
      ],
      "text/plain": [
       "        info\n",
       "0  Bassel-85\n",
       "1    Mark-70\n",
       "2   Becky-92\n",
       "3    Mike-79"
      ]
     },
     "execution_count": 51,
     "metadata": {},
     "output_type": "execute_result"
    }
   ],
   "source": [
    "data = {'info':['Bassel-85', 'Mark-70', 'Becky-92', 'Mike-79']}\n",
    "\n",
    "\n",
    "df = pd.DataFrame(data)\n",
    "df"
   ]
  },
  {
   "cell_type": "markdown",
   "metadata": {},
   "source": [
    "Split the info values into 2 separate columns"
   ]
  },
  {
   "cell_type": "code",
   "execution_count": 52,
   "metadata": {},
   "outputs": [
    {
     "data": {
      "text/html": [
       "<div>\n",
       "<style scoped>\n",
       "    .dataframe tbody tr th:only-of-type {\n",
       "        vertical-align: middle;\n",
       "    }\n",
       "\n",
       "    .dataframe tbody tr th {\n",
       "        vertical-align: top;\n",
       "    }\n",
       "\n",
       "    .dataframe thead th {\n",
       "        text-align: right;\n",
       "    }\n",
       "</style>\n",
       "<table border=\"1\" class=\"dataframe\">\n",
       "  <thead>\n",
       "    <tr style=\"text-align: right;\">\n",
       "      <th></th>\n",
       "      <th>info</th>\n",
       "      <th>name</th>\n",
       "      <th>score</th>\n",
       "    </tr>\n",
       "  </thead>\n",
       "  <tbody>\n",
       "    <tr>\n",
       "      <th>0</th>\n",
       "      <td>Bassel-85</td>\n",
       "      <td>Bassel</td>\n",
       "      <td>85</td>\n",
       "    </tr>\n",
       "    <tr>\n",
       "      <th>1</th>\n",
       "      <td>Mark-70</td>\n",
       "      <td>Mark</td>\n",
       "      <td>70</td>\n",
       "    </tr>\n",
       "    <tr>\n",
       "      <th>2</th>\n",
       "      <td>Becky-92</td>\n",
       "      <td>Becky</td>\n",
       "      <td>92</td>\n",
       "    </tr>\n",
       "    <tr>\n",
       "      <th>3</th>\n",
       "      <td>Mike-79</td>\n",
       "      <td>Mike</td>\n",
       "      <td>79</td>\n",
       "    </tr>\n",
       "  </tbody>\n",
       "</table>\n",
       "</div>"
      ],
      "text/plain": [
       "        info    name score\n",
       "0  Bassel-85  Bassel    85\n",
       "1    Mark-70    Mark    70\n",
       "2   Becky-92   Becky    92\n",
       "3    Mike-79    Mike    79"
      ]
     },
     "execution_count": 52,
     "metadata": {},
     "output_type": "execute_result"
    }
   ],
   "source": [
    "df[['name','score']] = df['info'].str.split('-', expand=True)\n",
    "df"
   ]
  },
  {
   "cell_type": "markdown",
   "metadata": {},
   "source": [
    "### Using `re` with `pandas`"
   ]
  },
  {
   "cell_type": "code",
   "execution_count": 53,
   "metadata": {},
   "outputs": [
    {
     "name": "stdout",
     "output_type": "stream",
     "text": [
      "['gmail']\n"
     ]
    }
   ],
   "source": [
    "email_addr='catherine@gmail.com'\n",
    "email_service = re.findall('@(.+)[.]', email_addr)\n",
    "print(email_service)"
   ]
  },
  {
   "cell_type": "code",
   "execution_count": 54,
   "metadata": {},
   "outputs": [
    {
     "data": {
      "text/html": [
       "<div>\n",
       "<style scoped>\n",
       "    .dataframe tbody tr th:only-of-type {\n",
       "        vertical-align: middle;\n",
       "    }\n",
       "\n",
       "    .dataframe tbody tr th {\n",
       "        vertical-align: top;\n",
       "    }\n",
       "\n",
       "    .dataframe thead th {\n",
       "        text-align: right;\n",
       "    }\n",
       "</style>\n",
       "<table border=\"1\" class=\"dataframe\">\n",
       "  <thead>\n",
       "    <tr style=\"text-align: right;\">\n",
       "      <th></th>\n",
       "      <th>names</th>\n",
       "      <th>emails</th>\n",
       "    </tr>\n",
       "  </thead>\n",
       "  <tbody>\n",
       "    <tr>\n",
       "      <th>0</th>\n",
       "      <td>bassel</td>\n",
       "      <td>bassel@gmail.com</td>\n",
       "    </tr>\n",
       "    <tr>\n",
       "      <th>1</th>\n",
       "      <td>mark</td>\n",
       "      <td>mark@yahoo.com</td>\n",
       "    </tr>\n",
       "    <tr>\n",
       "      <th>2</th>\n",
       "      <td>betty</td>\n",
       "      <td>betty@msn.net</td>\n",
       "    </tr>\n",
       "    <tr>\n",
       "      <th>3</th>\n",
       "      <td>john</td>\n",
       "      <td>john@gmail.com</td>\n",
       "    </tr>\n",
       "  </tbody>\n",
       "</table>\n",
       "</div>"
      ],
      "text/plain": [
       "    names            emails\n",
       "0  bassel  bassel@gmail.com\n",
       "1    mark    mark@yahoo.com\n",
       "2   betty     betty@msn.net\n",
       "3    john    john@gmail.com"
      ]
     },
     "execution_count": 54,
     "metadata": {},
     "output_type": "execute_result"
    }
   ],
   "source": [
    "data = {\n",
    "    'names': [  'bassel'\n",
    "                ,'mark'\n",
    "                ,'betty'\n",
    "                ,'john'],\n",
    "    'emails': [ 'bassel@gmail.com'\n",
    "                ,'mark@yahoo.com'\n",
    "                ,'betty@msn.net'\n",
    "                ,'john@gmail.com']\n",
    "}\n",
    "\n",
    "df = pd.DataFrame(data)\n",
    "df"
   ]
  },
  {
   "cell_type": "code",
   "execution_count": 71,
   "metadata": {},
   "outputs": [],
   "source": [
    "def extract_dom(text):\n",
    "    text = re.findall('@(.+)[.]', text)\n",
    "    return text[0]"
   ]
  },
  {
   "cell_type": "code",
   "execution_count": 72,
   "metadata": {},
   "outputs": [
    {
     "data": {
      "text/html": [
       "<div>\n",
       "<style scoped>\n",
       "    .dataframe tbody tr th:only-of-type {\n",
       "        vertical-align: middle;\n",
       "    }\n",
       "\n",
       "    .dataframe tbody tr th {\n",
       "        vertical-align: top;\n",
       "    }\n",
       "\n",
       "    .dataframe thead th {\n",
       "        text-align: right;\n",
       "    }\n",
       "</style>\n",
       "<table border=\"1\" class=\"dataframe\">\n",
       "  <thead>\n",
       "    <tr style=\"text-align: right;\">\n",
       "      <th></th>\n",
       "      <th>names</th>\n",
       "      <th>emails</th>\n",
       "      <th>domain</th>\n",
       "    </tr>\n",
       "  </thead>\n",
       "  <tbody>\n",
       "    <tr>\n",
       "      <th>0</th>\n",
       "      <td>bassel</td>\n",
       "      <td>bassel@gmail.com</td>\n",
       "      <td>gmail</td>\n",
       "    </tr>\n",
       "    <tr>\n",
       "      <th>1</th>\n",
       "      <td>mark</td>\n",
       "      <td>mark@yahoo.com</td>\n",
       "      <td>yahoo</td>\n",
       "    </tr>\n",
       "    <tr>\n",
       "      <th>2</th>\n",
       "      <td>betty</td>\n",
       "      <td>betty@msn.net</td>\n",
       "      <td>msn</td>\n",
       "    </tr>\n",
       "    <tr>\n",
       "      <th>3</th>\n",
       "      <td>john</td>\n",
       "      <td>john@gmail.com</td>\n",
       "      <td>gmail</td>\n",
       "    </tr>\n",
       "  </tbody>\n",
       "</table>\n",
       "</div>"
      ],
      "text/plain": [
       "    names            emails domain\n",
       "0  bassel  bassel@gmail.com  gmail\n",
       "1    mark    mark@yahoo.com  yahoo\n",
       "2   betty     betty@msn.net    msn\n",
       "3    john    john@gmail.com  gmail"
      ]
     },
     "execution_count": 72,
     "metadata": {},
     "output_type": "execute_result"
    }
   ],
   "source": [
    "df['domain'] = df['emails'].apply(extract_dom)\n",
    "df"
   ]
  },
  {
   "cell_type": "code",
   "execution_count": null,
   "metadata": {},
   "outputs": [],
   "source": []
  },
  {
   "cell_type": "code",
   "execution_count": null,
   "metadata": {},
   "outputs": [],
   "source": []
  }
 ],
 "metadata": {
  "kernelspec": {
   "display_name": "Python 3",
   "language": "python",
   "name": "python3"
  },
  "language_info": {
   "codemirror_mode": {
    "name": "ipython",
    "version": 3
   },
   "file_extension": ".py",
   "mimetype": "text/x-python",
   "name": "python",
   "nbconvert_exporter": "python",
   "pygments_lexer": "ipython3",
   "version": "3.11.3"
  }
 },
 "nbformat": 4,
 "nbformat_minor": 2
}
