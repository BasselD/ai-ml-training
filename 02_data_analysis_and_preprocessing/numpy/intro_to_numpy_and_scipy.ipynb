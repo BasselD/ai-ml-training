{
 "cells": [
  {
   "cell_type": "markdown",
   "metadata": {},
   "source": [
    "# Intro to NumPy and SciPy"
   ]
  },
  {
   "cell_type": "markdown",
   "metadata": {},
   "source": [
    "## NumPy"
   ]
  },
  {
   "cell_type": "markdown",
   "metadata": {},
   "source": [
    "- Short for Numerical Python \n",
    "- It is a fundamental library in the DS ecosystem\n",
    "- It provides powerful tools for working with multidimensional arrays and matrices:\n",
    "    - n-dimension arrays (ndarray): core data structure. They offer efficient storage for various data types: strings, integers, floats, booleans, etc...\n",
    "    - Array Operations: it has a rich set of mathematical and statistical operations/functions\n",
    "    - Indexing, slicing, merging of arrays\n",
    "    - Linear Algebra\n",
    "    - Random array/matrix generation\n",
    "\n",
    "- Advantages:\n",
    "    - Performance\n",
    "    - Memory Efficiency\n",
    "    - Interoperability: it integrates easily with different DS modules, such as Pandas, SciPy, Scikit-Learn, Matplotlib, TesnorFlow, etc..\n",
    "    - It's the foundation of so many DS libraries"
   ]
  },
  {
   "cell_type": "markdown",
   "metadata": {},
   "source": [
    "### Basics"
   ]
  },
  {
   "cell_type": "markdown",
   "metadata": {},
   "source": [
    "`pip install numpy`"
   ]
  },
  {
   "cell_type": "code",
   "execution_count": 2,
   "metadata": {},
   "outputs": [],
   "source": [
    "import numpy as np"
   ]
  },
  {
   "cell_type": "code",
   "execution_count": 3,
   "metadata": {},
   "outputs": [
    {
     "data": {
      "text/plain": [
       "array([1, 2, 3])"
      ]
     },
     "execution_count": 3,
     "metadata": {},
     "output_type": "execute_result"
    }
   ],
   "source": [
    "#let's build our first array\n",
    "\n",
    "arr = np.array([1,2,3])\n",
    "arr"
   ]
  },
  {
   "cell_type": "code",
   "execution_count": 4,
   "metadata": {},
   "outputs": [
    {
     "data": {
      "text/plain": [
       "numpy.ndarray"
      ]
     },
     "execution_count": 4,
     "metadata": {},
     "output_type": "execute_result"
    }
   ],
   "source": [
    "type(arr)"
   ]
  },
  {
   "cell_type": "code",
   "execution_count": 5,
   "metadata": {},
   "outputs": [
    {
     "name": "stdout",
     "output_type": "stream",
     "text": [
      "<class 'list'>\n",
      "<class 'numpy.ndarray'>\n"
     ]
    }
   ],
   "source": [
    "#convert a list into an array\n",
    "\n",
    "my_list = [4,5,6,8,12]\n",
    "\n",
    "arr = np.array(my_list)\n",
    "\n",
    "print(type(my_list))\n",
    "print(type(arr))"
   ]
  },
  {
   "cell_type": "markdown",
   "metadata": {},
   "source": [
    "### `arange()` function"
   ]
  },
  {
   "cell_type": "code",
   "execution_count": 6,
   "metadata": {},
   "outputs": [
    {
     "data": {
      "text/plain": [
       "[0, 1, 2, 3, 4, 5, 6, 7, 8, 9, 10, 11, 12, 13, 14, 15, 16, 17, 18, 19]"
      ]
     },
     "execution_count": 6,
     "metadata": {},
     "output_type": "execute_result"
    }
   ],
   "source": [
    "list(range(0,20))"
   ]
  },
  {
   "cell_type": "code",
   "execution_count": 7,
   "metadata": {},
   "outputs": [
    {
     "data": {
      "text/plain": [
       "array([ 0,  1,  2,  3,  4,  5,  6,  7,  8,  9, 10, 11, 12, 13, 14, 15, 16,\n",
       "       17, 18, 19])"
      ]
     },
     "execution_count": 7,
     "metadata": {},
     "output_type": "execute_result"
    }
   ],
   "source": [
    "#in numpy\n",
    "np.arange(0,20)"
   ]
  },
  {
   "cell_type": "code",
   "execution_count": 9,
   "metadata": {},
   "outputs": [
    {
     "data": {
      "text/plain": [
       "array([0. , 0.5, 1. , 1.5, 2. , 2.5, 3. , 3.5, 4. , 4.5])"
      ]
     },
     "execution_count": 9,
     "metadata": {},
     "output_type": "execute_result"
    }
   ],
   "source": [
    "arr2 = np.arange(0, 5, 0.5) # fractional increments\n",
    "arr2"
   ]
  },
  {
   "cell_type": "code",
   "execution_count": 12,
   "metadata": {},
   "outputs": [
    {
     "data": {
      "text/plain": [
       "dtype('float64')"
      ]
     },
     "execution_count": 12,
     "metadata": {},
     "output_type": "execute_result"
    }
   ],
   "source": [
    "arr2.dtype"
   ]
  },
  {
   "cell_type": "markdown",
   "metadata": {},
   "source": [
    "### Speed Test Between `ndarray` and `list`"
   ]
  },
  {
   "cell_type": "code",
   "execution_count": 13,
   "metadata": {},
   "outputs": [
    {
     "name": "stdout",
     "output_type": "stream",
     "text": [
      "Time taken for list: 0.0642697811126709 seconds\n",
      "Time taken for NumPy array: 0.0008871555328369141 seconds\n"
     ]
    }
   ],
   "source": [
    "import time\n",
    "\n",
    "# Define the size of the data\n",
    "size = 10**6\n",
    "\n",
    "# Create a list and NumPy array with random data\n",
    "list_data = list(range(size))\n",
    "numpy_array = np.arange(size)\n",
    "\n",
    "# Perform element-wise multiplication using a loop (for list)\n",
    "start_time = time.time()\n",
    "for i in range(size):\n",
    "    list_data[i] *= 2\n",
    "end_time = time.time()\n",
    "list_time = end_time - start_time\n",
    "\n",
    "# Perform element-wise multiplication using NumPy\n",
    "start_time = time.time()\n",
    "numpy_array *= 2\n",
    "end_time = time.time()\n",
    "numpy_time = end_time - start_time\n",
    "\n",
    "print(f\"Time taken for list: {list_time} seconds\")\n",
    "print(f\"Time taken for NumPy array: {numpy_time} seconds\")\n"
   ]
  },
  {
   "cell_type": "markdown",
   "metadata": {},
   "source": [
    "### Array Dimensions"
   ]
  },
  {
   "cell_type": "code",
   "execution_count": 14,
   "metadata": {},
   "outputs": [
    {
     "data": {
      "text/plain": [
       "0"
      ]
     },
     "execution_count": 14,
     "metadata": {},
     "output_type": "execute_result"
    }
   ],
   "source": [
    "# 0-d array (scaler)\n",
    "a0 = np.array(50)\n",
    "a0.ndim"
   ]
  },
  {
   "cell_type": "code",
   "execution_count": 15,
   "metadata": {},
   "outputs": [
    {
     "data": {
      "text/plain": [
       "1"
      ]
     },
     "execution_count": 15,
     "metadata": {},
     "output_type": "execute_result"
    }
   ],
   "source": [
    "#1-d array - vector\n",
    "a1 = np.array([4,6,8])\n",
    "a1.ndim"
   ]
  },
  {
   "cell_type": "code",
   "execution_count": 16,
   "metadata": {},
   "outputs": [
    {
     "name": "stdout",
     "output_type": "stream",
     "text": [
      "[[10  5  7]\n",
      " [12  7 14]]\n"
     ]
    }
   ],
   "source": [
    "#2-d array (matrix)\n",
    "a2 = np.array([[10,5,7],\n",
    "               [12,7,14]])\n",
    "\n",
    "print(a2)"
   ]
  },
  {
   "cell_type": "code",
   "execution_count": 17,
   "metadata": {},
   "outputs": [
    {
     "data": {
      "text/plain": [
       "2"
      ]
     },
     "execution_count": 17,
     "metadata": {},
     "output_type": "execute_result"
    }
   ],
   "source": [
    "a2.ndim"
   ]
  },
  {
   "cell_type": "code",
   "execution_count": 18,
   "metadata": {},
   "outputs": [
    {
     "data": {
      "text/plain": [
       "(2, 3)"
      ]
     },
     "execution_count": 18,
     "metadata": {},
     "output_type": "execute_result"
    }
   ],
   "source": [
    "# get the shape of the array (2 x 3)\n",
    "# (num of rows, num of cols)\n",
    "a2.shape"
   ]
  },
  {
   "cell_type": "code",
   "execution_count": 22,
   "metadata": {},
   "outputs": [
    {
     "data": {
      "text/plain": [
       "6"
      ]
     },
     "execution_count": 22,
     "metadata": {},
     "output_type": "execute_result"
    }
   ],
   "source": [
    "a2.size #gives the number of elements in the array"
   ]
  },
  {
   "cell_type": "code",
   "execution_count": 24,
   "metadata": {},
   "outputs": [
    {
     "data": {
      "text/plain": [
       "3"
      ]
     },
     "execution_count": 24,
     "metadata": {},
     "output_type": "execute_result"
    }
   ],
   "source": [
    "# 3-d array (cube)\n",
    "a3 = np.array([[[1,2,3],\n",
    "                [4,5,6],\n",
    "                [4,5,6]],\n",
    "                [[6,8,5],\n",
    "                [0,5,3],\n",
    "                [4,5,6]]\n",
    "                ])\n",
    "a3.ndim"
   ]
  },
  {
   "cell_type": "markdown",
   "metadata": {},
   "source": [
    "![3d](https://miro.medium.com/v2/resize:fit:817/0*y04Nh3L0aSwyGaby.png)"
   ]
  },
  {
   "cell_type": "code",
   "execution_count": 25,
   "metadata": {},
   "outputs": [
    {
     "data": {
      "text/plain": [
       "(2, 3, 3)"
      ]
     },
     "execution_count": 25,
     "metadata": {},
     "output_type": "execute_result"
    }
   ],
   "source": [
    "a3.shape #(2 layers, 3 rows, 3 columns)"
   ]
  },
  {
   "cell_type": "code",
   "execution_count": 26,
   "metadata": {},
   "outputs": [
    {
     "name": "stdout",
     "output_type": "stream",
     "text": [
      "This array has 2 layers, 3 rows, and 3 columns\n"
     ]
    }
   ],
   "source": [
    "print(f'This array has {a3.shape[0]} layers, {a3.shape[1]} rows, and {a3.shape[2]} columns')"
   ]
  },
  {
   "cell_type": "markdown",
   "metadata": {},
   "source": [
    "### Arithmetic Operations in NumPy"
   ]
  },
  {
   "cell_type": "code",
   "execution_count": 49,
   "metadata": {},
   "outputs": [],
   "source": [
    "arr1 = np.array([3,3,6]) \n",
    "arr2 = np.array([4,5,10])"
   ]
  },
  {
   "cell_type": "code",
   "execution_count": 50,
   "metadata": {},
   "outputs": [
    {
     "data": {
      "text/plain": [
       "array([ 7,  8, 16])"
      ]
     },
     "execution_count": 50,
     "metadata": {},
     "output_type": "execute_result"
    }
   ],
   "source": [
    "arr1 + arr2"
   ]
  },
  {
   "cell_type": "code",
   "execution_count": 31,
   "metadata": {},
   "outputs": [
    {
     "data": {
      "text/plain": [
       "array([12, 15, 50])"
      ]
     },
     "execution_count": 31,
     "metadata": {},
     "output_type": "execute_result"
    }
   ],
   "source": [
    "arr1 * arr2"
   ]
  },
  {
   "cell_type": "code",
   "execution_count": 33,
   "metadata": {},
   "outputs": [
    {
     "data": {
      "text/plain": [
       "array([0.75, 0.6 , 0.5 ])"
      ]
     },
     "execution_count": 33,
     "metadata": {},
     "output_type": "execute_result"
    }
   ],
   "source": [
    "arr1 / arr2"
   ]
  },
  {
   "cell_type": "markdown",
   "metadata": {},
   "source": [
    "### Broadcasting"
   ]
  },
  {
   "cell_type": "markdown",
   "metadata": {},
   "source": [
    "The term broadcasting describes how NumPy treats arrays with different shapes during arithmetic operations."
   ]
  },
  {
   "cell_type": "code",
   "execution_count": 32,
   "metadata": {},
   "outputs": [
    {
     "data": {
      "text/plain": [
       "array([150, 150, 250])"
      ]
     },
     "execution_count": 32,
     "metadata": {},
     "output_type": "execute_result"
    }
   ],
   "source": [
    "# scaler * arr will use broadcasting\n",
    "50 * arr1"
   ]
  },
  {
   "cell_type": "markdown",
   "metadata": {},
   "source": [
    "![bc](https://numpy.org/doc/stable/_images/broadcasting_1.png)"
   ]
  },
  {
   "cell_type": "code",
   "execution_count": 35,
   "metadata": {},
   "outputs": [
    {
     "data": {
      "text/plain": [
       "array([[ 1.,  2.,  3.],\n",
       "       [11., 12., 13.],\n",
       "       [21., 22., 23.],\n",
       "       [31., 32., 33.]])"
      ]
     },
     "execution_count": 35,
     "metadata": {},
     "output_type": "execute_result"
    }
   ],
   "source": [
    "a = np.array([[ 0.0,  0.0,  0.0],\n",
    "              [10.0, 10.0, 10.0],\n",
    "              [20.0, 20.0, 20.0],\n",
    "              [30.0, 30.0, 30.0]])\n",
    "b = np.array([1.0, 2.0, 3.0])\n",
    "\n",
    "a + b"
   ]
  },
  {
   "cell_type": "markdown",
   "metadata": {},
   "source": [
    "![bc2](https://numpy.org/doc/stable/_images/broadcasting_2.png)"
   ]
  },
  {
   "cell_type": "code",
   "execution_count": 38,
   "metadata": {},
   "outputs": [
    {
     "data": {
      "text/plain": [
       "array([[1.],\n",
       "       [2.],\n",
       "       [3.]])"
      ]
     },
     "execution_count": 38,
     "metadata": {},
     "output_type": "execute_result"
    }
   ],
   "source": [
    "b_ver = np.array([[1.0, 2.0, 3.0]]).reshape(3,1)\n",
    "b_ver"
   ]
  },
  {
   "cell_type": "code",
   "execution_count": 42,
   "metadata": {},
   "outputs": [
    {
     "ename": "ValueError",
     "evalue": "operands could not be broadcast together with shapes (4,3) (4,) ",
     "output_type": "error",
     "traceback": [
      "\u001b[0;31m---------------------------------------------------------------------------\u001b[0m",
      "\u001b[0;31mValueError\u001b[0m                                Traceback (most recent call last)",
      "Cell \u001b[0;32mIn[42], line 7\u001b[0m\n\u001b[1;32m      1\u001b[0m a \u001b[38;5;241m=\u001b[39m np\u001b[38;5;241m.\u001b[39marray([[ \u001b[38;5;241m0.0\u001b[39m,  \u001b[38;5;241m0.0\u001b[39m,  \u001b[38;5;241m0.0\u001b[39m],\n\u001b[1;32m      2\u001b[0m               [\u001b[38;5;241m10.0\u001b[39m, \u001b[38;5;241m10.0\u001b[39m, \u001b[38;5;241m10.0\u001b[39m],\n\u001b[1;32m      3\u001b[0m               [\u001b[38;5;241m20.0\u001b[39m, \u001b[38;5;241m20.0\u001b[39m, \u001b[38;5;241m20.0\u001b[39m],\n\u001b[1;32m      4\u001b[0m               [\u001b[38;5;241m30.0\u001b[39m, \u001b[38;5;241m30.0\u001b[39m, \u001b[38;5;241m30.0\u001b[39m]])\n\u001b[1;32m      5\u001b[0m b \u001b[38;5;241m=\u001b[39m np\u001b[38;5;241m.\u001b[39marray([\u001b[38;5;241m1.0\u001b[39m, \u001b[38;5;241m2.0\u001b[39m, \u001b[38;5;241m3.0\u001b[39m, \u001b[38;5;241m5.7\u001b[39m])\n\u001b[0;32m----> 7\u001b[0m \u001b[43ma\u001b[49m\u001b[43m \u001b[49m\u001b[38;5;241;43m+\u001b[39;49m\u001b[43m \u001b[49m\u001b[43mb\u001b[49m\n",
      "\u001b[0;31mValueError\u001b[0m: operands could not be broadcast together with shapes (4,3) (4,) "
     ]
    }
   ],
   "source": [
    "a = np.array([[ 0.0,  0.0,  0.0],\n",
    "              [10.0, 10.0, 10.0],\n",
    "              [20.0, 20.0, 20.0],\n",
    "              [30.0, 30.0, 30.0]])\n",
    "b = np.array([1.0, 2.0, 3.0, 5.7])\n",
    "\n",
    "a + b"
   ]
  },
  {
   "cell_type": "markdown",
   "metadata": {},
   "source": [
    "![br3](https://numpy.org/doc/stable/_images/broadcasting_3.png)"
   ]
  },
  {
   "cell_type": "markdown",
   "metadata": {},
   "source": [
    "### NumPy Functions"
   ]
  },
  {
   "cell_type": "code",
   "execution_count": 58,
   "metadata": {},
   "outputs": [
    {
     "data": {
      "text/plain": [
       "array([1, 2, 3, 4, 5, 6, 7, 8, 9])"
      ]
     },
     "execution_count": 58,
     "metadata": {},
     "output_type": "execute_result"
    }
   ],
   "source": [
    "arr = np.arange(1,10)\n",
    "arr"
   ]
  },
  {
   "cell_type": "code",
   "execution_count": 59,
   "metadata": {},
   "outputs": [
    {
     "name": "stdout",
     "output_type": "stream",
     "text": [
      "[[1 2 3]\n",
      " [4 5 6]\n",
      " [7 8 9]]\n"
     ]
    }
   ],
   "source": [
    "print(arr.reshape(3,3))"
   ]
  },
  {
   "cell_type": "code",
   "execution_count": 61,
   "metadata": {},
   "outputs": [
    {
     "data": {
      "text/plain": [
       "2"
      ]
     },
     "execution_count": 61,
     "metadata": {},
     "output_type": "execute_result"
    }
   ],
   "source": [
    "my_arr_dim = arr.reshape(3,3).ndim\n",
    "my_arr_dim"
   ]
  },
  {
   "cell_type": "code",
   "execution_count": 62,
   "metadata": {},
   "outputs": [
    {
     "data": {
      "text/plain": [
       "array([ 1,  2,  3,  4,  5,  6,  7,  8,  9, 10, 11, 12])"
      ]
     },
     "execution_count": 62,
     "metadata": {},
     "output_type": "execute_result"
    }
   ],
   "source": [
    "arr_bef = np.arange(1,13)\n",
    "\n",
    "arr_bef"
   ]
  },
  {
   "cell_type": "code",
   "execution_count": 63,
   "metadata": {},
   "outputs": [],
   "source": [
    "arr_aft = arr_bef.reshape(2,2,3) # layer, row, col"
   ]
  },
  {
   "cell_type": "code",
   "execution_count": 64,
   "metadata": {},
   "outputs": [
    {
     "name": "stdout",
     "output_type": "stream",
     "text": [
      "Before\n",
      " [ 1  2  3  4  5  6  7  8  9 10 11 12]\n",
      "After\n",
      " [[[ 1  2  3]\n",
      "  [ 4  5  6]]\n",
      "\n",
      " [[ 7  8  9]\n",
      "  [10 11 12]]]\n"
     ]
    }
   ],
   "source": [
    "print('Before\\n',arr_bef)\n",
    "print('After\\n',arr_aft)"
   ]
  },
  {
   "cell_type": "code",
   "execution_count": 65,
   "metadata": {},
   "outputs": [
    {
     "data": {
      "text/plain": [
       "array([ 1,  2,  3,  4,  5,  6,  7,  8,  9, 10, 11, 12])"
      ]
     },
     "execution_count": 65,
     "metadata": {},
     "output_type": "execute_result"
    }
   ],
   "source": [
    "# convert back into 1d without specifying the dimensions (-1)\n",
    "# flatten the array\n",
    "arr_aft.reshape(-1)"
   ]
  },
  {
   "cell_type": "code",
   "execution_count": 66,
   "metadata": {},
   "outputs": [
    {
     "data": {
      "text/plain": [
       "0"
      ]
     },
     "execution_count": 66,
     "metadata": {},
     "output_type": "execute_result"
    }
   ],
   "source": [
    "#mod \n",
    "10 % 2"
   ]
  },
  {
   "cell_type": "code",
   "execution_count": 68,
   "metadata": {},
   "outputs": [
    {
     "data": {
      "text/plain": [
       "array([0, 0, 1])"
      ]
     },
     "execution_count": 68,
     "metadata": {},
     "output_type": "execute_result"
    }
   ],
   "source": [
    "arr1 = np.array([10,20,17]) \n",
    "arr2 = np.array([2,5,2])\n",
    "\n",
    "np.mod(arr1,arr2)"
   ]
  },
  {
   "cell_type": "code",
   "execution_count": 69,
   "metadata": {},
   "outputs": [
    {
     "data": {
      "text/plain": [
       "array([12, 25, 19])"
      ]
     },
     "execution_count": 69,
     "metadata": {},
     "output_type": "execute_result"
    }
   ],
   "source": [
    "np.add(arr1,arr2)"
   ]
  },
  {
   "cell_type": "markdown",
   "metadata": {},
   "source": [
    "### String/Text Arrays"
   ]
  },
  {
   "cell_type": "code",
   "execution_count": 71,
   "metadata": {},
   "outputs": [
    {
     "data": {
      "text/plain": [
       "array(['a', 'b', 'c'], dtype='<U1')"
      ]
     },
     "execution_count": 71,
     "metadata": {},
     "output_type": "execute_result"
    }
   ],
   "source": [
    "a = np.array(['a', 'b', 'c'])\n",
    "a"
   ]
  },
  {
   "cell_type": "code",
   "execution_count": 73,
   "metadata": {},
   "outputs": [
    {
     "data": {
      "text/plain": [
       "array(['Hello Learners', 'Welcome To The Class'], dtype='<U20')"
      ]
     },
     "execution_count": 73,
     "metadata": {},
     "output_type": "execute_result"
    }
   ],
   "source": [
    "# using the add function for string\n",
    "a = np.array(['Hello', 'Welcome'])\n",
    "b = np.array([' Learners', ' To The Class'])\n",
    "\n",
    "np.char.add(a,b) #to run functions text you need to use 'char' sub module"
   ]
  },
  {
   "cell_type": "code",
   "execution_count": 74,
   "metadata": {},
   "outputs": [
    {
     "data": {
      "text/plain": [
       "array(['Hello', 'Welcome', ' Learners', ' To The Class'], dtype='<U13')"
      ]
     },
     "execution_count": 74,
     "metadata": {},
     "output_type": "execute_result"
    }
   ],
   "source": [
    "# concat function will merge 2 lists\n",
    "np.concatenate((a,b))"
   ]
  },
  {
   "cell_type": "code",
   "execution_count": 76,
   "metadata": {},
   "outputs": [
    {
     "data": {
      "text/plain": [
       "array([[10, 20],\n",
       "       [ 4,  9],\n",
       "       [ 5,  7]])"
      ]
     },
     "execution_count": 76,
     "metadata": {},
     "output_type": "execute_result"
    }
   ],
   "source": [
    "# concat does the same for numbers - similar to union in SQL\n",
    "arr1 = np.array([[10,20],\n",
    "                 [4,9]])\n",
    "\n",
    "arr2 = np.array([[5,7]])\n",
    "\n",
    "np.concatenate((arr1,arr2), axis=0)\n"
   ]
  },
  {
   "cell_type": "code",
   "execution_count": 77,
   "metadata": {},
   "outputs": [
    {
     "data": {
      "text/plain": [
       "array([[10, 20,  8,  9],\n",
       "       [ 4,  9,  7,  3]])"
      ]
     },
     "execution_count": 77,
     "metadata": {},
     "output_type": "execute_result"
    }
   ],
   "source": [
    "arr1 = np.array([[10,20],\n",
    "                 [4,9]])\n",
    "\n",
    "arr2 = np.array([[8,9],\n",
    "                 [7,3]])\n",
    "\n",
    "np.concatenate((arr1,arr2), axis=1) # merge the 2 arrays horizontally (side by side)\n"
   ]
  },
  {
   "cell_type": "code",
   "execution_count": 78,
   "metadata": {},
   "outputs": [
    {
     "data": {
      "text/plain": [
       "array([[10, 20,  5,  5,  8,  9],\n",
       "       [ 4,  9,  2,  3,  7,  3]])"
      ]
     },
     "execution_count": 78,
     "metadata": {},
     "output_type": "execute_result"
    }
   ],
   "source": [
    "arr1 = np.array([[10,20, 5, 5],\n",
    "                 [4, 9, 2, 3]])\n",
    "arr2 = np.array([[8,9],\n",
    "                 [7,3]])\n",
    "np.concatenate((arr1,arr2), axis=1)"
   ]
  },
  {
   "cell_type": "code",
   "execution_count": 80,
   "metadata": {},
   "outputs": [
    {
     "data": {
      "text/plain": [
       "array(['HELLO', 'WELCOME', 'HELLO', 'HELLO'], dtype='<U7')"
      ]
     },
     "execution_count": 80,
     "metadata": {},
     "output_type": "execute_result"
    }
   ],
   "source": [
    "a = np.array(['Hello', 'Welcome', 'HELLO', 'hello'])\n",
    "np.char.upper(a)"
   ]
  },
  {
   "cell_type": "code",
   "execution_count": 82,
   "metadata": {},
   "outputs": [
    {
     "data": {
      "text/plain": [
       "array(['Design A', 'Design B', 'Design C'], dtype='<U8')"
      ]
     },
     "execution_count": 82,
     "metadata": {},
     "output_type": "execute_result"
    }
   ],
   "source": [
    "arr2 = np.array(['Model A', 'Model B', 'Model C'])\n",
    "\n",
    "np.char.replace(arr2,'Model','Design')"
   ]
  },
  {
   "cell_type": "markdown",
   "metadata": {},
   "source": [
    "### Statistical Functions in NumPy"
   ]
  },
  {
   "cell_type": "code",
   "execution_count": 83,
   "metadata": {},
   "outputs": [
    {
     "data": {
      "text/plain": [
       "array([ 1,  2,  3,  4,  5,  6,  7,  8,  9, 10, 11, 12, 13, 14, 15, 16, 17,\n",
       "       18, 19])"
      ]
     },
     "execution_count": 83,
     "metadata": {},
     "output_type": "execute_result"
    }
   ],
   "source": [
    "arr = np.arange(1,20)\n",
    "arr"
   ]
  },
  {
   "cell_type": "code",
   "execution_count": 84,
   "metadata": {},
   "outputs": [
    {
     "data": {
      "text/plain": [
       "10.0"
      ]
     },
     "execution_count": 84,
     "metadata": {},
     "output_type": "execute_result"
    }
   ],
   "source": [
    "# get the avg or mean\n",
    "np.mean(arr)"
   ]
  },
  {
   "cell_type": "code",
   "execution_count": 88,
   "metadata": {},
   "outputs": [],
   "source": [
    "a = np.array([[ 0.0,  0.0,  0.0],\n",
    "              [10.0, 10.0, 6.0],\n",
    "              [20.0, 3.0, 43.0],\n",
    "              [30.0, 9.0, 30.0]])"
   ]
  },
  {
   "cell_type": "code",
   "execution_count": 89,
   "metadata": {},
   "outputs": [
    {
     "data": {
      "text/plain": [
       "13.416666666666666"
      ]
     },
     "execution_count": 89,
     "metadata": {},
     "output_type": "execute_result"
    }
   ],
   "source": [
    "np.mean(a)"
   ]
  },
  {
   "cell_type": "markdown",
   "metadata": {},
   "source": [
    "![ax](https://www.sharpsightlabs.com/wp-content/uploads/2018/12/numpy-arrays-have-axes_updated_v2.png)"
   ]
  },
  {
   "cell_type": "code",
   "execution_count": 90,
   "metadata": {},
   "outputs": [
    {
     "data": {
      "text/plain": [
       "array([15.  ,  5.5 , 19.75])"
      ]
     },
     "execution_count": 90,
     "metadata": {},
     "output_type": "execute_result"
    }
   ],
   "source": [
    "# average by column\n",
    "np.mean(a, axis=0)"
   ]
  },
  {
   "cell_type": "code",
   "execution_count": 91,
   "metadata": {},
   "outputs": [
    {
     "data": {
      "text/plain": [
       "array([ 0.        ,  8.66666667, 22.        , 23.        ])"
      ]
     },
     "execution_count": 91,
     "metadata": {},
     "output_type": "execute_result"
    }
   ],
   "source": [
    "#average by row\n",
    "np.mean(a, axis=1)"
   ]
  },
  {
   "cell_type": "code",
   "execution_count": 92,
   "metadata": {},
   "outputs": [
    {
     "data": {
      "text/plain": [
       "array([[2.        , 5.        , 5.        ],\n",
       "       [6.33333333, 2.66666667, 5.        ]])"
      ]
     },
     "execution_count": 92,
     "metadata": {},
     "output_type": "execute_result"
    }
   ],
   "source": [
    "# 3-d array (cube)\n",
    "a3 = np.array([[[1,2,3],\n",
    "                [4,5,6],\n",
    "                [4,5,6]],\n",
    "                [[6,8,5],\n",
    "                [0,5,3],\n",
    "                [4,5,6]]\n",
    "                ])\n",
    "\n",
    "np.mean(a3, axis=2)"
   ]
  },
  {
   "cell_type": "code",
   "execution_count": 93,
   "metadata": {},
   "outputs": [
    {
     "data": {
      "text/plain": [
       "9.5"
      ]
     },
     "execution_count": 93,
     "metadata": {},
     "output_type": "execute_result"
    }
   ],
   "source": [
    "np.median(a)"
   ]
  },
  {
   "cell_type": "code",
   "execution_count": 94,
   "metadata": {},
   "outputs": [
    {
     "data": {
      "text/plain": [
       "13.585889330069229"
      ]
     },
     "execution_count": 94,
     "metadata": {},
     "output_type": "execute_result"
    }
   ],
   "source": [
    "np.std(a) #standard deviation"
   ]
  },
  {
   "cell_type": "code",
   "execution_count": 95,
   "metadata": {},
   "outputs": [
    {
     "data": {
      "text/plain": [
       "array([30., 10., 43.])"
      ]
     },
     "execution_count": 95,
     "metadata": {},
     "output_type": "execute_result"
    }
   ],
   "source": [
    "np.max(a,axis=0)"
   ]
  },
  {
   "cell_type": "markdown",
   "metadata": {},
   "source": [
    "### Filtering in NumPy"
   ]
  },
  {
   "cell_type": "code",
   "execution_count": 97,
   "metadata": {},
   "outputs": [
    {
     "data": {
      "text/plain": [
       "array([ 5,  6,  7,  2,  3, 12, 11,  6])"
      ]
     },
     "execution_count": 97,
     "metadata": {},
     "output_type": "execute_result"
    }
   ],
   "source": [
    "arr = np.array([5,6,7,2,3,22,12,14,11,6,23])\n",
    "\n",
    "# simple filtering with a condition bracket\n",
    "\n",
    "filtered_array = arr[arr<13]\n",
    "filtered_array"
   ]
  },
  {
   "cell_type": "code",
   "execution_count": 98,
   "metadata": {},
   "outputs": [
    {
     "data": {
      "text/plain": [
       "array([ 5,  6,  7, 12, 11,  6])"
      ]
     },
     "execution_count": 98,
     "metadata": {},
     "output_type": "execute_result"
    }
   ],
   "source": [
    "# using multiple conditions\n",
    "filtered_array = arr[(arr<13)&(arr>3)]\n",
    "filtered_array"
   ]
  },
  {
   "cell_type": "code",
   "execution_count": 100,
   "metadata": {},
   "outputs": [
    {
     "data": {
      "text/plain": [
       "array([ 5,  6,  7, 22, 12, 14, 11,  6, 23])"
      ]
     },
     "execution_count": 100,
     "metadata": {},
     "output_type": "execute_result"
    }
   ],
   "source": [
    "mask = np.where(arr>3)\n",
    "\n",
    "filtered_array = arr[mask]\n",
    "filtered_array"
   ]
  },
  {
   "cell_type": "code",
   "execution_count": 101,
   "metadata": {},
   "outputs": [
    {
     "data": {
      "text/plain": [
       "array([ True,  True,  True, False, False,  True,  True,  True,  True,\n",
       "        True,  True])"
      ]
     },
     "execution_count": 101,
     "metadata": {},
     "output_type": "execute_result"
    }
   ],
   "source": [
    "np.where(arr>3, True, False)"
   ]
  },
  {
   "cell_type": "code",
   "execution_count": 102,
   "metadata": {},
   "outputs": [
    {
     "data": {
      "text/plain": [
       "array(['more than 3', 'more than 3', 'more than 3', 'less than 3',\n",
       "       'less than 3', 'more than 3', 'more than 3', 'more than 3',\n",
       "       'more than 3', 'more than 3', 'more than 3'], dtype='<U11')"
      ]
     },
     "execution_count": 102,
     "metadata": {},
     "output_type": "execute_result"
    }
   ],
   "source": [
    "np.where(arr>3, 'more than 3', 'less than 3')"
   ]
  },
  {
   "cell_type": "markdown",
   "metadata": {},
   "source": [
    "### Slicing and Dicing Arrays Using Indices"
   ]
  },
  {
   "cell_type": "markdown",
   "metadata": {},
   "source": [
    "![tag](https://www.oreilly.com/api/v2/epubs/9781449323592/files/httpatomoreillycomsourceoreillyimages2172112.png)"
   ]
  },
  {
   "cell_type": "code",
   "execution_count": 104,
   "metadata": {},
   "outputs": [],
   "source": [
    "a = np.array([[ 4,  8,  0],\n",
    "              [10,  10, 6],\n",
    "              [20,  3,  43]\n",
    "              ])"
   ]
  },
  {
   "cell_type": "code",
   "execution_count": 105,
   "metadata": {},
   "outputs": [
    {
     "data": {
      "text/plain": [
       "8.0"
      ]
     },
     "execution_count": 105,
     "metadata": {},
     "output_type": "execute_result"
    }
   ],
   "source": [
    "a[0,1] # [row pos, col pos]"
   ]
  },
  {
   "cell_type": "code",
   "execution_count": 106,
   "metadata": {},
   "outputs": [
    {
     "data": {
      "text/plain": [
       "43.0"
      ]
     },
     "execution_count": 106,
     "metadata": {},
     "output_type": "execute_result"
    }
   ],
   "source": [
    "a[2,2]"
   ]
  },
  {
   "cell_type": "code",
   "execution_count": 107,
   "metadata": {},
   "outputs": [
    {
     "data": {
      "text/plain": [
       "array([10., 10.,  6.])"
      ]
     },
     "execution_count": 107,
     "metadata": {},
     "output_type": "execute_result"
    }
   ],
   "source": [
    "a[1]"
   ]
  },
  {
   "cell_type": "code",
   "execution_count": 109,
   "metadata": {},
   "outputs": [
    {
     "data": {
      "text/plain": [
       "array([[ 4.,  8.,  0.],\n",
       "       [10., 10.,  6.]])"
      ]
     },
     "execution_count": 109,
     "metadata": {},
     "output_type": "execute_result"
    }
   ],
   "source": [
    "# get the first 2 rows\n",
    "# ranges\n",
    "a[0:2] # start from index pos 0 and stop right before pos 2"
   ]
  },
  {
   "cell_type": "code",
   "execution_count": 113,
   "metadata": {},
   "outputs": [
    {
     "data": {
      "text/plain": [
       "array([[ 4.,  8.,  0.],\n",
       "       [10., 10.,  6.]])"
      ]
     },
     "execution_count": 113,
     "metadata": {},
     "output_type": "execute_result"
    }
   ],
   "source": [
    "a[:2] # start from index pos 0 and stop right before pos 2"
   ]
  },
  {
   "cell_type": "code",
   "execution_count": 111,
   "metadata": {},
   "outputs": [
    {
     "data": {
      "text/plain": [
       "array([[10., 10.,  6.]])"
      ]
     },
     "execution_count": 111,
     "metadata": {},
     "output_type": "execute_result"
    }
   ],
   "source": [
    "a[1:2]"
   ]
  },
  {
   "cell_type": "code",
   "execution_count": 112,
   "metadata": {},
   "outputs": [
    {
     "data": {
      "text/plain": [
       "array([20.,  3., 43.])"
      ]
     },
     "execution_count": 112,
     "metadata": {},
     "output_type": "execute_result"
    }
   ],
   "source": [
    "# grab the last row of the array\n",
    "a[-1]"
   ]
  },
  {
   "cell_type": "code",
   "execution_count": 114,
   "metadata": {},
   "outputs": [],
   "source": [
    "# ranges. slicing for rows and columns\n",
    "\n",
    "a = np.array([[ 0.0,  0.0,  0.0],\n",
    "              [10.0, 10.0, 6.0],\n",
    "              [20.0, 3.0, 43.0],\n",
    "              [30.0, 9.0, 30.0]])"
   ]
  },
  {
   "cell_type": "code",
   "execution_count": 115,
   "metadata": {},
   "outputs": [
    {
     "data": {
      "text/plain": [
       "array([[ 3., 43.],\n",
       "       [ 9., 30.]])"
      ]
     },
     "execution_count": 115,
     "metadata": {},
     "output_type": "execute_result"
    }
   ],
   "source": [
    "a[2:,1:]"
   ]
  },
  {
   "cell_type": "code",
   "execution_count": 117,
   "metadata": {},
   "outputs": [
    {
     "data": {
      "text/plain": [
       "46.0"
      ]
     },
     "execution_count": 117,
     "metadata": {},
     "output_type": "execute_result"
    }
   ],
   "source": [
    "a[2,1] + a[2,2]"
   ]
  },
  {
   "cell_type": "code",
   "execution_count": 119,
   "metadata": {},
   "outputs": [
    {
     "data": {
      "text/plain": [
       "array([[20.,  3.],\n",
       "       [30.,  9.]])"
      ]
     },
     "execution_count": 119,
     "metadata": {},
     "output_type": "execute_result"
    }
   ],
   "source": [
    "a[2:,:2]"
   ]
  },
  {
   "cell_type": "code",
   "execution_count": 120,
   "metadata": {},
   "outputs": [
    {
     "data": {
      "text/plain": [
       "[30.0, 9.0, 30.0]"
      ]
     },
     "execution_count": 120,
     "metadata": {},
     "output_type": "execute_result"
    }
   ],
   "source": [
    "# convert the last row of the array to a list\n",
    "a[-1].tolist()"
   ]
  },
  {
   "cell_type": "code",
   "execution_count": 122,
   "metadata": {},
   "outputs": [
    {
     "name": "stdout",
     "output_type": "stream",
     "text": [
      "<class 'numpy.ndarray'>\n",
      "<class 'list'>\n"
     ]
    }
   ],
   "source": [
    "print(type(a[-1]))\n",
    "print(type(a[-1].tolist()))"
   ]
  },
  {
   "cell_type": "code",
   "execution_count": 123,
   "metadata": {},
   "outputs": [
    {
     "data": {
      "text/plain": [
       "array([[[1, 2, 3],\n",
       "        [4, 5, 6],\n",
       "        [4, 5, 6]],\n",
       "\n",
       "       [[6, 8, 5],\n",
       "        [0, 5, 3],\n",
       "        [4, 5, 6]]])"
      ]
     },
     "execution_count": 123,
     "metadata": {},
     "output_type": "execute_result"
    }
   ],
   "source": [
    "a3 = np.array([[[1,2,3],\n",
    "                [4,5,6],\n",
    "                [4,5,6]],\n",
    "                [[6,8,5],\n",
    "                [0,5,3],\n",
    "                [4,5,6]]\n",
    "                ])\n",
    "\n",
    "a3"
   ]
  },
  {
   "cell_type": "code",
   "execution_count": 124,
   "metadata": {},
   "outputs": [
    {
     "data": {
      "text/plain": [
       "array([[8, 5],\n",
       "       [5, 3]])"
      ]
     },
     "execution_count": 124,
     "metadata": {},
     "output_type": "execute_result"
    }
   ],
   "source": [
    "a3[1,:2, 1:]"
   ]
  },
  {
   "cell_type": "code",
   "execution_count": 135,
   "metadata": {},
   "outputs": [
    {
     "data": {
      "text/plain": [
       "array([[4, 5, 6],\n",
       "       [6, 8, 5]])"
      ]
     },
     "execution_count": 135,
     "metadata": {},
     "output_type": "execute_result"
    }
   ],
   "source": [
    "np.concatenate(([a3[0,-1]],[a3[1,0]]),axis=0)"
   ]
  },
  {
   "cell_type": "code",
   "execution_count": 130,
   "metadata": {},
   "outputs": [
    {
     "data": {
      "text/plain": [
       "array([6, 8, 5])"
      ]
     },
     "execution_count": 130,
     "metadata": {},
     "output_type": "execute_result"
    }
   ],
   "source": [
    "a3[1,0]"
   ]
  },
  {
   "cell_type": "code",
   "execution_count": 131,
   "metadata": {},
   "outputs": [
    {
     "data": {
      "text/plain": [
       "array([4, 5, 6])"
      ]
     },
     "execution_count": 131,
     "metadata": {},
     "output_type": "execute_result"
    }
   ],
   "source": [
    "a3[0,-1]"
   ]
  },
  {
   "cell_type": "markdown",
   "metadata": {},
   "source": [
    "### Generating Data in NumPy"
   ]
  },
  {
   "cell_type": "code",
   "execution_count": 9,
   "metadata": {},
   "outputs": [
    {
     "data": {
      "text/plain": [
       "array([61, 64, 84, 48, 59, 49, 70, 98, 19, 35, 60, 72,  3,  4, 77, 24, 93,\n",
       "       59, 98, 72, 51, 51, 95, 95, 56, 45, 24, 21, 95, 11, 73, 97, 59, 73,\n",
       "        3, 27, 49, 71, 22, 30])"
      ]
     },
     "execution_count": 9,
     "metadata": {},
     "output_type": "execute_result"
    }
   ],
   "source": [
    "# using randint\n",
    "np.random.randint(1,101,size=40)"
   ]
  },
  {
   "cell_type": "code",
   "execution_count": 11,
   "metadata": {},
   "outputs": [
    {
     "data": {
      "text/plain": [
       "(array([0.        , 0.05263158, 0.10526316, 0.15789474, 0.21052632,\n",
       "        0.26315789, 0.31578947, 0.36842105, 0.42105263, 0.47368421,\n",
       "        0.52631579, 0.57894737, 0.63157895, 0.68421053, 0.73684211,\n",
       "        0.78947368, 0.84210526, 0.89473684, 0.94736842, 1.        ]),\n",
       " 0.05263157894736842)"
      ]
     },
     "execution_count": 11,
     "metadata": {},
     "output_type": "execute_result"
    }
   ],
   "source": [
    "# generate evenly spaced values using linspace\n",
    "np.linspace(0,1,20, retstep=True)"
   ]
  },
  {
   "cell_type": "code",
   "execution_count": 12,
   "metadata": {},
   "outputs": [
    {
     "data": {
      "text/plain": [
       "(array([2., 4., 6., 8.]), 2.0)"
      ]
     },
     "execution_count": 12,
     "metadata": {},
     "output_type": "execute_result"
    }
   ],
   "source": [
    "np.linspace(2,8,4, retstep=True)"
   ]
  },
  {
   "cell_type": "code",
   "execution_count": 14,
   "metadata": {},
   "outputs": [
    {
     "data": {
      "text/plain": [
       "array([[ 39,   2,  38,  66,   1,  64,  50,   3,  99,  23],\n",
       "       [ 42,  54,  99,  52,  64,   9,  22,  10,  13,  58],\n",
       "       [ 30,  70,   2,  20, 100,  81,  12,  50,  71,  41],\n",
       "       [ 54,  61,  95,  77,  73,  81,  58,   9,  29,   9],\n",
       "       [  1,  51,   2,  29,  61,  39,  54,  89,  75,  11],\n",
       "       [ 50,  97,  40,  74,  97,  60,  45,  94,  75,  23],\n",
       "       [ 80,  38,  45,  47,  77, 100,   8,  43,   7,  95],\n",
       "       [ 56,  52,  32, 100,  66,  46,  22,  26,  78,  97],\n",
       "       [ 13,  51,  88,  30,  46,  55,  78,  86,   8,   3],\n",
       "       [ 46,  65,  47,  16,  62,  56,  61,  12,  19,  20]])"
      ]
     },
     "execution_count": 14,
     "metadata": {},
     "output_type": "execute_result"
    }
   ],
   "source": [
    "arr = np.random.randint(1,101,(10,10))\n",
    "arr"
   ]
  },
  {
   "cell_type": "code",
   "execution_count": 18,
   "metadata": {},
   "outputs": [
    {
     "data": {
      "text/plain": [
       "array([  0,   1,   4,   9,  16,  25,  36,  49,  64,  81, 100, 121])"
      ]
     },
     "execution_count": 18,
     "metadata": {},
     "output_type": "execute_result"
    }
   ],
   "source": [
    "#using list comprehension\n",
    "arr = np.array([x**2 for x in range(12)])\n",
    "arr"
   ]
  },
  {
   "cell_type": "markdown",
   "metadata": {},
   "source": [
    "### Import Data In NumPy"
   ]
  },
  {
   "cell_type": "code",
   "execution_count": 35,
   "metadata": {},
   "outputs": [
    {
     "data": {
      "text/plain": [
       "array([[ 5.,  1.],\n",
       "       [ 5.,  3.],\n",
       "       [ 9.,  5.],\n",
       "       [ 5.,  7.],\n",
       "       [ 8.,  8.],\n",
       "       [ 5.,  9.],\n",
       "       [ 6.,  0.],\n",
       "       [ 5., 11.],\n",
       "       [ 4.,  5.]])"
      ]
     },
     "execution_count": 35,
     "metadata": {},
     "output_type": "execute_result"
    }
   ],
   "source": [
    "data = np.loadtxt('dummy_data.txt', delimiter=',')\n",
    "data"
   ]
  },
  {
   "cell_type": "markdown",
   "metadata": {},
   "source": [
    "# SciPy"
   ]
  },
  {
   "cell_type": "markdown",
   "metadata": {},
   "source": [
    "- Scientific Python\n",
    "- Powerful scientific and engineering library built on top of NumPy\n",
    "- It provides a wide range of applications, such as:\n",
    "    - Optimization: in calculous finding the min and max of functions\n",
    "    - Integration\n",
    "    - Linear Algebra\n",
    "    - Differentiation\n",
    "    - Clustering Algorithms\n",
    "    - Signal Processing\n",
    "    - Statistics: prob distribution, hypothesis testing, etc...\n",
    "    - Image Processing\n",
    "\n",
    "- `pip install scipy`"
   ]
  },
  {
   "cell_type": "code",
   "execution_count": 19,
   "metadata": {},
   "outputs": [],
   "source": [
    "from scipy import constants # offers all mathematical and physics constants"
   ]
  },
  {
   "cell_type": "code",
   "execution_count": 20,
   "metadata": {},
   "outputs": [
    {
     "data": {
      "text/plain": [
       "['Avogadro',\n",
       " 'Boltzmann',\n",
       " 'Btu',\n",
       " 'Btu_IT',\n",
       " 'Btu_th',\n",
       " 'ConstantWarning',\n",
       " 'G',\n",
       " 'Julian_year',\n",
       " 'N_A',\n",
       " 'Planck',\n",
       " 'R',\n",
       " 'Rydberg',\n",
       " 'Stefan_Boltzmann',\n",
       " 'Wien',\n",
       " '__all__',\n",
       " '__builtins__',\n",
       " '__cached__',\n",
       " '__doc__',\n",
       " '__file__',\n",
       " '__loader__',\n",
       " '__name__',\n",
       " '__package__',\n",
       " '__path__',\n",
       " '__spec__',\n",
       " '_codata',\n",
       " '_constants',\n",
       " '_obsolete_constants',\n",
       " 'acre',\n",
       " 'alpha',\n",
       " 'angstrom',\n",
       " 'arcmin',\n",
       " 'arcminute',\n",
       " 'arcsec',\n",
       " 'arcsecond',\n",
       " 'astronomical_unit',\n",
       " 'atm',\n",
       " 'atmosphere',\n",
       " 'atomic_mass',\n",
       " 'atto',\n",
       " 'au',\n",
       " 'bar',\n",
       " 'barrel',\n",
       " 'bbl',\n",
       " 'blob',\n",
       " 'c',\n",
       " 'calorie',\n",
       " 'calorie_IT',\n",
       " 'calorie_th',\n",
       " 'carat',\n",
       " 'centi',\n",
       " 'codata',\n",
       " 'constants',\n",
       " 'convert_temperature',\n",
       " 'day',\n",
       " 'deci',\n",
       " 'degree',\n",
       " 'degree_Fahrenheit',\n",
       " 'deka',\n",
       " 'dyn',\n",
       " 'dyne',\n",
       " 'e',\n",
       " 'eV',\n",
       " 'electron_mass',\n",
       " 'electron_volt',\n",
       " 'elementary_charge',\n",
       " 'epsilon_0',\n",
       " 'erg',\n",
       " 'exa',\n",
       " 'exbi',\n",
       " 'femto',\n",
       " 'fermi',\n",
       " 'find',\n",
       " 'fine_structure',\n",
       " 'fluid_ounce',\n",
       " 'fluid_ounce_US',\n",
       " 'fluid_ounce_imp',\n",
       " 'foot',\n",
       " 'g',\n",
       " 'gallon',\n",
       " 'gallon_US',\n",
       " 'gallon_imp',\n",
       " 'gas_constant',\n",
       " 'gibi',\n",
       " 'giga',\n",
       " 'golden',\n",
       " 'golden_ratio',\n",
       " 'grain',\n",
       " 'gram',\n",
       " 'gravitational_constant',\n",
       " 'h',\n",
       " 'hbar',\n",
       " 'hectare',\n",
       " 'hecto',\n",
       " 'horsepower',\n",
       " 'hour',\n",
       " 'hp',\n",
       " 'inch',\n",
       " 'k',\n",
       " 'kgf',\n",
       " 'kibi',\n",
       " 'kilo',\n",
       " 'kilogram_force',\n",
       " 'kmh',\n",
       " 'knot',\n",
       " 'lambda2nu',\n",
       " 'lb',\n",
       " 'lbf',\n",
       " 'light_year',\n",
       " 'liter',\n",
       " 'litre',\n",
       " 'long_ton',\n",
       " 'm_e',\n",
       " 'm_n',\n",
       " 'm_p',\n",
       " 'm_u',\n",
       " 'mach',\n",
       " 'mebi',\n",
       " 'mega',\n",
       " 'metric_ton',\n",
       " 'micro',\n",
       " 'micron',\n",
       " 'mil',\n",
       " 'mile',\n",
       " 'milli',\n",
       " 'minute',\n",
       " 'mmHg',\n",
       " 'mph',\n",
       " 'mu_0',\n",
       " 'nano',\n",
       " 'nautical_mile',\n",
       " 'neutron_mass',\n",
       " 'nu2lambda',\n",
       " 'ounce',\n",
       " 'oz',\n",
       " 'parsec',\n",
       " 'pebi',\n",
       " 'peta',\n",
       " 'physical_constants',\n",
       " 'pi',\n",
       " 'pico',\n",
       " 'point',\n",
       " 'pound',\n",
       " 'pound_force',\n",
       " 'precision',\n",
       " 'proton_mass',\n",
       " 'psi',\n",
       " 'pt',\n",
       " 'short_ton',\n",
       " 'sigma',\n",
       " 'slinch',\n",
       " 'slug',\n",
       " 'speed_of_light',\n",
       " 'speed_of_sound',\n",
       " 'stone',\n",
       " 'survey_foot',\n",
       " 'survey_mile',\n",
       " 'tebi',\n",
       " 'tera',\n",
       " 'test',\n",
       " 'ton_TNT',\n",
       " 'torr',\n",
       " 'troy_ounce',\n",
       " 'troy_pound',\n",
       " 'u',\n",
       " 'unit',\n",
       " 'value',\n",
       " 'week',\n",
       " 'yard',\n",
       " 'year',\n",
       " 'yobi',\n",
       " 'yocto',\n",
       " 'yotta',\n",
       " 'zebi',\n",
       " 'zepto',\n",
       " 'zero_Celsius',\n",
       " 'zetta']"
      ]
     },
     "execution_count": 20,
     "metadata": {},
     "output_type": "execute_result"
    }
   ],
   "source": [
    "dir(constants)"
   ]
  },
  {
   "cell_type": "code",
   "execution_count": 21,
   "metadata": {},
   "outputs": [
    {
     "data": {
      "text/plain": [
       "3.141592653589793"
      ]
     },
     "execution_count": 21,
     "metadata": {},
     "output_type": "execute_result"
    }
   ],
   "source": [
    "constants.pi"
   ]
  },
  {
   "cell_type": "code",
   "execution_count": 22,
   "metadata": {},
   "outputs": [
    {
     "data": {
      "text/plain": [
       "1000.0"
      ]
     },
     "execution_count": 22,
     "metadata": {},
     "output_type": "execute_result"
    }
   ],
   "source": [
    "constants.metric_ton"
   ]
  },
  {
   "cell_type": "code",
   "execution_count": 24,
   "metadata": {},
   "outputs": [
    {
     "data": {
      "text/plain": [
       "7456.998715822701"
      ]
     },
     "execution_count": 24,
     "metadata": {},
     "output_type": "execute_result"
    }
   ],
   "source": [
    "x = constants.hp\n",
    "\n",
    "final_hp = x *10\n",
    "final_hp"
   ]
  },
  {
   "cell_type": "code",
   "execution_count": 25,
   "metadata": {},
   "outputs": [],
   "source": [
    "from scipy import stats, mean #importing 2 submodule from scipy "
   ]
  },
  {
   "cell_type": "code",
   "execution_count": 26,
   "metadata": {},
   "outputs": [
    {
     "name": "stderr",
     "output_type": "stream",
     "text": [
      "/var/folders/3x/ds4ljhhn611fn_glg6pp102h0000gq/T/ipykernel_21419/1280932018.py:2: DeprecationWarning: scipy.mean is deprecated and will be removed in SciPy 2.0.0, use numpy.mean instead\n",
      "  mean(x)\n"
     ]
    },
    {
     "data": {
      "text/plain": [
       "6.0"
      ]
     },
     "execution_count": 26,
     "metadata": {},
     "output_type": "execute_result"
    }
   ],
   "source": [
    "x = [1,2,4,6,7,8,8,9,9]\n",
    "mean(x)"
   ]
  },
  {
   "cell_type": "code",
   "execution_count": 33,
   "metadata": {},
   "outputs": [
    {
     "data": {
      "text/plain": [
       "6.0"
      ]
     },
     "execution_count": 33,
     "metadata": {},
     "output_type": "execute_result"
    }
   ],
   "source": [
    "# mean is deprecated for recent versions  - use numpy instead\n",
    "np.mean(x)"
   ]
  },
  {
   "cell_type": "code",
   "execution_count": 27,
   "metadata": {},
   "outputs": [
    {
     "data": {
      "text/plain": [
       "4.936793014856867"
      ]
     },
     "execution_count": 27,
     "metadata": {},
     "output_type": "execute_result"
    }
   ],
   "source": [
    "# geometric mean\n",
    "stats.gmean(x)"
   ]
  },
  {
   "cell_type": "code",
   "execution_count": 28,
   "metadata": {},
   "outputs": [
    {
     "data": {
      "text/plain": [
       "-0.6187184335382291"
      ]
     },
     "execution_count": 28,
     "metadata": {},
     "output_type": "execute_result"
    }
   ],
   "source": [
    "stats.skew(x)"
   ]
  },
  {
   "cell_type": "code",
   "execution_count": 30,
   "metadata": {},
   "outputs": [
    {
     "data": {
      "text/plain": [
       "array([ 1.30413760e+00, -3.46652787e-02,  9.20150991e-01, -1.45240120e+00,\n",
       "        1.75379197e+00, -1.51213966e+00, -7.93906320e-01,  1.45178182e+00,\n",
       "        3.35745168e-01, -4.90789436e-01,  3.41640507e-01, -1.93148902e+00,\n",
       "        1.04826102e+00, -2.04897267e-01, -1.62884870e+00,  1.22193281e+00,\n",
       "        1.39032387e+00,  1.04436041e+00, -1.04639188e+00, -6.34202563e-01,\n",
       "       -6.32304487e-01, -2.19456109e-01, -2.25297493e-01, -7.37230070e-01,\n",
       "       -5.33135336e-01, -2.14187409e+00, -4.88774807e-01,  1.76265242e+00,\n",
       "       -1.40120236e+00,  5.96548126e-02,  6.94897981e-03, -4.35989925e-01,\n",
       "        8.89878146e-01, -1.41089443e+00, -1.61311467e-01, -5.94408208e-01,\n",
       "        2.12157918e+00,  1.25441241e+00,  8.40706867e-01, -7.79550626e-01,\n",
       "       -2.59186997e-01, -2.38929042e+00,  1.75930155e-01, -1.29021735e+00,\n",
       "        3.86891335e-01,  1.02828185e-01, -4.45801671e-01,  2.09327730e+00,\n",
       "        1.05385094e+00,  3.34869615e-01,  3.67711348e-01,  3.18398680e-01,\n",
       "       -9.00029640e-01, -1.89106424e-02, -7.52944062e-01, -5.15780573e-01,\n",
       "        9.31110910e-01,  2.77899186e-01, -1.65820369e-01,  2.55564649e+00,\n",
       "       -7.80356738e-01, -9.89008691e-01, -1.13417751e+00, -6.62554236e-01,\n",
       "        1.62024256e+00, -6.62016830e-01, -2.54309737e-01, -1.28065530e+00,\n",
       "        2.67411074e-01, -8.38771886e-01, -1.30222457e+00, -2.54758435e-01,\n",
       "        3.76967695e-01, -2.62567537e-01, -1.09136875e+00, -8.39958079e-01,\n",
       "        4.18279224e-01, -6.57065041e-02, -6.16016558e-01, -7.91494517e-01,\n",
       "        8.98095471e-01,  2.08598458e-01, -1.16174785e+00, -7.17845176e-01,\n",
       "        2.00594230e+00, -1.43071741e+00, -7.44630266e-01,  1.29822704e+00,\n",
       "        2.86438943e-01,  2.89005041e-01, -2.14935112e+00,  5.85767641e-01,\n",
       "       -3.93206762e-01,  1.39227887e-01, -3.12268153e-01, -3.97289411e-02,\n",
       "        1.94418174e-01,  2.02485239e+00, -9.41289624e-01, -3.63976003e-02,\n",
       "       -8.83835329e-02,  8.26781883e-01, -7.32239587e-01, -3.70087437e-02,\n",
       "        1.12903450e+00, -4.03831375e-01, -5.73681050e-01,  5.34613967e-01,\n",
       "        6.52528762e-02, -4.23458380e-01, -3.72434224e-01,  8.02064092e-02,\n",
       "       -4.16797037e-01,  3.10528158e-01, -1.00533116e+00,  1.75241537e+00,\n",
       "       -1.69021021e+00,  1.01087870e+00,  6.81776799e-01, -1.72077258e+00,\n",
       "        2.80623989e-01,  3.51648476e-01,  4.43574452e-01, -2.58087107e-01,\n",
       "       -1.06599042e+00, -1.63540192e+00, -1.66774597e-01,  8.10116076e-01,\n",
       "        9.31820560e-01,  9.72893309e-02, -2.67494901e-01,  8.42991380e-01,\n",
       "        9.16314195e-01,  3.12564206e-01, -1.44046100e+00,  4.07385690e-02,\n",
       "        5.35721749e-01,  7.87820914e-01, -3.06627023e-01,  3.03243316e-01,\n",
       "        1.81935137e+00, -6.65825556e-01,  5.13971305e-01,  2.65326381e-01,\n",
       "        1.07460806e-02, -1.86673498e+00, -4.40877023e-01, -5.38073951e-01,\n",
       "        1.69125104e+00, -1.49435072e-01,  2.30187066e+00,  2.68875892e-01,\n",
       "       -1.06416320e+00,  3.71921797e-01,  1.96443289e+00, -3.01805991e+00,\n",
       "        3.88997587e-01,  1.88492309e+00,  2.02778153e-01, -7.14231851e-01,\n",
       "       -7.79202583e-01,  1.89907107e+00, -1.63037414e-01, -5.70075259e-01,\n",
       "       -3.83765886e-01,  1.67429861e-01, -1.32663654e+00,  2.40201565e-01,\n",
       "       -6.10005934e-01,  1.41644159e+00,  1.90811445e-01, -1.98275055e-02,\n",
       "        2.74703522e-01,  9.22998976e-01, -1.44603626e+00,  1.21980058e+00,\n",
       "        1.17969032e+00, -5.95010239e-01, -2.13437547e-01, -1.35236844e+00,\n",
       "        3.84848941e-01, -2.45402869e+00, -6.70430752e-01,  1.17547743e+00,\n",
       "       -5.80497650e-03,  1.28267616e+00, -1.46382037e+00, -8.59470408e-01,\n",
       "        2.44559484e+00,  9.28125197e-01,  6.32762489e-01,  1.90708608e-01,\n",
       "        8.03347479e-01, -1.02207591e+00, -2.63553789e+00,  8.49560176e-01,\n",
       "        2.33793947e-01, -4.00723848e-01, -4.69011326e-01, -1.27686894e-01,\n",
       "       -5.97269969e-01, -1.10370257e+00, -1.69988351e-01, -1.12364117e+00,\n",
       "       -1.03136897e+00, -2.39484419e+00, -6.62036911e-02,  1.19271926e-01,\n",
       "        1.29402434e-02, -6.95481025e-01, -3.34850525e-01, -1.29541226e+00,\n",
       "        9.03132847e-01, -1.01991585e+00, -1.53632490e+00, -4.22169965e-01,\n",
       "       -1.30369087e+00,  4.89401942e-01,  8.15927847e-01,  3.41569530e-01,\n",
       "        9.18506140e-01, -6.71796892e-01, -3.19451949e-01,  4.95846342e-01,\n",
       "       -3.44563950e-01,  3.48328542e-01,  9.63122457e-02, -6.63325413e-01,\n",
       "       -1.39405472e-01,  9.22081461e-01,  5.15129733e-01,  8.17550424e-01,\n",
       "       -2.36852451e+00, -1.31670038e+00,  4.47628834e-01,  4.25134194e-01,\n",
       "        2.07093009e+00,  1.70844965e+00, -1.24767935e+00,  1.50846401e-01,\n",
       "        1.00939860e+00, -1.02767661e+00,  7.53209115e-01,  2.25812028e-01,\n",
       "       -1.54471339e-01,  4.30311824e-01, -1.14646579e+00, -7.76598037e-01,\n",
       "        2.28169068e+00,  6.72657424e-01, -7.63818805e-01, -4.42721063e-01,\n",
       "       -2.41354893e-01, -3.25552534e-01,  6.69761929e-01, -1.37020427e+00,\n",
       "        9.73527745e-01, -1.84033318e-01,  1.16714196e+00,  1.64362908e+00,\n",
       "        1.61553084e+00,  7.33269211e-02,  2.46429133e-02,  7.64135015e-01,\n",
       "       -8.99879491e-02,  6.86111045e-01, -8.53450640e-01, -1.65639915e+00,\n",
       "       -6.08528941e-01,  1.14382040e+00,  5.41660649e-01, -2.66393711e-01,\n",
       "       -2.19672469e-01, -1.39957847e-01,  2.70710110e-01, -6.13113325e-02,\n",
       "        5.02273074e-01,  1.44907017e+00,  5.06377313e-02, -1.09509850e+00,\n",
       "       -1.66421749e+00, -1.69178339e+00,  5.83218313e-01,  2.30575108e+00,\n",
       "        3.05641237e+00,  1.07582376e+00, -7.92613111e-01, -1.03995777e+00,\n",
       "       -6.63537413e-01, -6.38733588e-01,  1.10801177e+00, -1.12422543e+00,\n",
       "        2.79152231e-01, -3.61038345e-02, -2.53717309e-01,  1.49306931e+00,\n",
       "       -2.93640298e-02, -1.03016952e+00,  1.32657501e-01, -9.13694033e-02,\n",
       "       -1.27329842e+00, -8.55361443e-02,  8.16124593e-01,  5.28453467e-01,\n",
       "        2.24758800e-01, -6.63872426e-01,  3.77970973e-01,  1.64969525e-01,\n",
       "       -9.90394212e-01, -1.44749275e-01,  7.41070448e-01, -2.95302896e-01,\n",
       "        2.18833136e-01, -3.85150538e-01, -4.39014525e-01, -7.36643996e-02,\n",
       "       -6.50363000e-01,  1.11915455e+00, -3.37666003e-01, -2.15550776e+00,\n",
       "       -6.99360694e-02, -3.72562961e-01, -1.36785126e-01,  5.57988058e-01,\n",
       "        4.37693216e-01,  1.41188396e+00,  4.73266541e-01,  9.69607385e-01,\n",
       "        9.78391743e-01,  5.06739483e-01,  2.01468457e-02,  1.92108139e+00,\n",
       "        3.26133319e-01, -3.49057604e-01,  5.85143941e-01,  4.16074516e-01,\n",
       "       -9.32866293e-01,  1.00409221e-01,  1.29317465e+00, -3.65711695e-01,\n",
       "        9.54302098e-01, -9.96938071e-01,  2.72033963e+00,  2.08179937e-01,\n",
       "        1.90698396e+00,  1.02753267e+00, -7.30832771e-01, -1.74119221e+00,\n",
       "       -8.32159499e-01, -9.23014165e-02, -4.18471889e-01, -1.19779818e+00,\n",
       "        6.33907878e-01,  2.63428571e-01, -8.21948774e-01, -7.63707573e-01,\n",
       "       -4.99712152e-03,  9.01143093e-02,  1.34303770e+00,  1.25179800e+00,\n",
       "       -7.29024517e-01, -7.47658535e-01,  2.03918252e+00,  1.41473492e-01,\n",
       "        1.93361524e-01,  1.63813390e+00, -4.90271637e-01, -5.17768667e-01,\n",
       "       -1.18906840e-01, -1.02436525e+00, -1.05719959e+00,  1.25852142e+00,\n",
       "        1.56846602e-02,  1.24388031e+00,  2.10779781e-01,  2.06198123e+00,\n",
       "       -8.23030300e-01, -1.11717481e+00,  3.72066875e-01, -3.89490719e-01,\n",
       "        1.62968521e-01,  2.88457965e-01, -1.25997502e+00, -4.66183535e-01,\n",
       "       -1.08609315e+00,  1.12649010e+00,  1.35550492e+00, -2.94704509e-02,\n",
       "        2.87965056e-01,  5.48461769e-02, -4.13054144e-01, -3.53000480e-01,\n",
       "       -5.70764517e-01,  5.84856606e-01, -9.44603303e-01, -2.52837589e-01,\n",
       "       -9.80528455e-02,  1.07797916e+00, -4.68142041e-01,  4.03116056e-01,\n",
       "       -1.56309246e+00,  4.06320758e-01,  1.63310085e+00, -1.54832828e-01,\n",
       "        1.43703119e-01, -1.28601245e+00, -1.04963337e+00,  6.57703033e-01,\n",
       "       -1.43799864e+00,  8.65130991e-01, -7.06831975e-01,  1.05404741e+00,\n",
       "        1.12653922e-01, -9.00303562e-01, -8.74772889e-01, -2.16295757e+00,\n",
       "        7.87283372e-02, -7.58239258e-01, -1.77468353e+00, -5.36291397e-01,\n",
       "        1.72096515e+00,  6.19301265e-01, -2.30430237e-01, -1.76191675e+00,\n",
       "        2.19338167e+00, -5.89097827e-01,  1.45403015e-01, -1.49786296e+00,\n",
       "       -4.10631139e-01,  6.26063802e-01,  5.67682043e-01,  9.64446123e-02,\n",
       "        4.62518292e-01,  1.86944605e+00, -2.69285869e-01, -1.18523083e+00,\n",
       "        3.39975055e-01,  1.27408029e+00, -9.11523895e-02,  3.80243195e-01,\n",
       "        4.75709098e-01,  7.15834446e-01,  9.53572794e-01,  9.98002713e-01,\n",
       "        2.06887941e-01,  2.18850645e+00, -7.36637445e-01,  4.46621373e-02,\n",
       "        1.83638291e+00,  5.78378802e-01, -2.51639489e-01,  7.57004990e-02,\n",
       "       -9.68292952e-01,  3.19065800e-01,  7.97137639e-01,  5.80535610e-01,\n",
       "        1.63263985e+00, -8.79488634e-02,  1.08934455e+00,  1.16828288e+00,\n",
       "        3.00784557e-01,  8.11149437e-01,  6.98827444e-01, -1.42135702e+00,\n",
       "       -2.48936109e-01, -2.44580134e+00, -1.45169584e+00, -7.77730142e-01,\n",
       "       -6.12197366e-01, -2.95655679e-02,  4.30341580e-01,  2.48866372e-01,\n",
       "       -2.53655000e-01,  1.11532709e-01,  3.30086174e-01, -1.15569140e+00,\n",
       "       -1.84723566e+00, -4.76555946e-01, -3.68857066e-01, -5.71044832e-01,\n",
       "        5.87735507e-01,  3.50371294e-01, -1.51650745e-01,  6.09607370e-01,\n",
       "       -5.27336057e-02,  1.34150677e-01, -2.39247917e-01, -7.70479979e-01,\n",
       "        1.08106169e+00, -1.77967334e+00,  1.82741160e+00, -7.15149511e-01,\n",
       "        5.27899184e-01, -2.52693421e-02,  1.17894799e+00, -4.96442534e-01,\n",
       "       -6.11181147e-01,  1.30178684e+00, -7.76976171e-01, -1.04539633e+00,\n",
       "        1.62739389e+00, -4.14992687e-01, -6.80220562e-01, -5.70430156e-01,\n",
       "       -1.20509212e-01,  8.64316702e-01,  9.11801690e-01,  1.01895261e+00,\n",
       "        3.18878046e-01,  8.21528464e-01,  2.80000687e-01, -1.91744338e-01,\n",
       "       -1.39021217e+00,  1.72165512e+00,  1.98946096e-01,  1.23348667e+00,\n",
       "       -5.29794360e-01, -5.94334077e-02, -1.33725692e+00,  1.36096641e+00,\n",
       "        1.04528904e+00, -1.92536119e+00, -2.37947569e-01,  1.69781668e-01,\n",
       "       -7.92619720e-01,  5.25276304e-01,  1.10324763e-01, -1.24810738e+00,\n",
       "       -5.76390653e-01, -1.21566952e+00,  1.78502588e+00,  1.09518925e+00,\n",
       "        1.02612780e+00,  6.45326425e-02,  8.75529655e-01, -3.10256383e-01,\n",
       "        1.74368276e+00,  5.88939768e-01,  1.57310574e+00,  2.32752082e-01,\n",
       "        6.17389388e-01, -7.57888433e-01, -1.09132589e+00, -1.56875757e+00,\n",
       "       -9.69017024e-02, -1.05039408e+00, -6.20112498e-01, -4.06289955e-01,\n",
       "        1.90817013e-01, -1.60095218e+00,  4.98373822e-01, -1.77452436e-02,\n",
       "        1.22167134e+00,  1.21372799e+00, -8.30860906e-01,  9.37756768e-01,\n",
       "       -2.52011654e-01, -1.24544250e+00,  1.35217306e-01,  2.09339135e+00,\n",
       "       -3.58373272e-02, -6.51199612e-01,  1.22370432e-02,  1.43251079e-01,\n",
       "       -8.64845305e-03, -4.01011985e-01,  1.32848386e-01,  1.62029681e+00,\n",
       "       -1.31427037e+00, -3.83999496e-01, -1.89346920e-01,  1.01055089e+00,\n",
       "        2.32264371e-01, -4.82573700e-01, -1.01630864e+00, -5.17938949e-01,\n",
       "        1.03296881e+00, -5.13263066e-01, -5.56699458e-01,  2.09858450e-01,\n",
       "        7.64337490e-01, -3.48957359e-01, -1.32110022e+00,  2.95367163e+00,\n",
       "        1.94530465e+00, -6.21134810e-01,  8.99693795e-01,  4.27501688e-01,\n",
       "       -7.00049752e-01, -2.42732059e-01, -2.50662880e-02, -1.18615027e+00,\n",
       "       -1.35386277e+00, -2.82335748e-01,  1.04872761e+00, -1.41238308e+00,\n",
       "       -9.38471100e-01,  7.62931859e-02, -2.97495905e-02,  1.77337058e-01,\n",
       "       -9.46715689e-01, -8.62823265e-01, -2.46880900e+00,  2.37727248e-01,\n",
       "        1.84316833e-01,  7.23822896e-01, -2.72625298e+00,  9.49803839e-01,\n",
       "        1.75922911e+00,  9.07103895e-01, -8.52770907e-01,  2.02014820e+00,\n",
       "        2.32556293e-01, -1.39995183e+00,  1.76788214e+00, -2.82107592e+00,\n",
       "        3.25887743e-01, -4.67600598e-01,  6.83430716e-02, -9.35968310e-01,\n",
       "       -6.31335728e-01, -6.59279326e-01,  5.94352351e-01, -2.91706211e-01,\n",
       "        2.51438355e+00,  1.27038796e+00,  3.47736959e-01, -8.65896396e-01,\n",
       "       -9.18196085e-01,  2.42312584e-01, -4.48691730e-01, -4.77650069e-02,\n",
       "       -1.91428513e-01, -7.81953675e-01, -1.48367067e-01,  1.00087532e+00,\n",
       "        1.49575462e+00,  4.62694574e-01,  1.61231169e+00, -1.65548495e+00,\n",
       "       -1.43037143e+00, -1.24725795e+00, -1.19297013e+00, -3.40249435e-01,\n",
       "       -5.99603861e-01,  3.83285123e-01,  2.96287819e+00, -1.48498044e+00,\n",
       "       -2.52861334e-01,  1.12859367e+00, -1.24620623e+00, -6.24492686e-01,\n",
       "        1.43785066e+00,  6.42926343e-01, -4.32990866e-01,  1.46704202e-01,\n",
       "        1.44769532e+00, -1.80029504e+00,  5.26289206e-01,  6.02449108e-01,\n",
       "        1.38969513e+00, -2.96272508e-01, -2.43106330e-01,  8.05406096e-01,\n",
       "       -9.54963572e-01, -9.26875662e-01,  2.85660717e-02,  1.02607653e+00,\n",
       "       -1.20044464e-01,  1.25237299e+00,  8.81434034e-01, -1.35458711e-01,\n",
       "       -6.93280566e-01, -1.49458965e-03,  2.45017573e-01,  4.43785972e-01,\n",
       "        5.07417267e-01, -6.57488115e-01,  4.80504410e-01, -4.63594036e-01,\n",
       "       -7.98293326e-01, -8.81291503e-01, -9.24231784e-01, -5.37169308e-01,\n",
       "       -5.52928545e-01, -3.93765854e-01,  3.21699086e-01,  3.06582315e-02,\n",
       "        4.61549696e-01, -1.01543340e-01, -8.36239181e-02, -6.38622576e-01,\n",
       "       -4.45591637e-01,  3.46056720e-02, -1.13492419e+00, -3.12025665e-01,\n",
       "       -3.67536169e-01, -1.72635499e+00, -1.82501525e+00,  5.59203935e-01,\n",
       "        1.13304087e+00,  1.24633157e+00, -2.00163130e+00,  5.74994189e-01,\n",
       "        3.08152786e-02, -1.81670369e+00,  1.35006434e+00, -1.90509487e+00,\n",
       "       -1.13735671e-02, -2.24957802e-01, -2.25297912e-01,  8.78232362e-02,\n",
       "        5.14157195e-02, -6.27771180e-01, -7.98938537e-02, -2.08224697e-02,\n",
       "        7.00065163e-01, -1.16403653e+00, -8.40382210e-01,  1.00809735e-01,\n",
       "        1.83431139e-01, -1.71862457e-01,  1.83884108e+00,  1.70676106e+00,\n",
       "        4.80045601e-01,  1.53587067e+00, -4.94259866e-01, -1.46714770e+00,\n",
       "       -5.80368082e-01,  1.61940649e+00,  4.58804456e-01,  9.50255109e-01,\n",
       "        6.82946952e-01,  5.79165348e-01, -2.49311754e-02, -1.06709520e-01,\n",
       "       -1.48852722e-01, -1.18915618e-01,  9.58549940e-01,  6.17218450e-01,\n",
       "        2.69676195e-01,  3.19404118e-01, -1.15740322e+00, -3.09622310e-01,\n",
       "       -1.15966436e+00,  8.49322306e-01,  1.61512758e+00,  3.42977420e-01,\n",
       "        1.04984852e+00,  7.62524272e-01,  2.00481922e+00, -1.23735074e+00,\n",
       "       -7.92124340e-01, -7.15777948e-02, -1.19599361e+00,  1.13663991e+00,\n",
       "        4.19837164e-01,  2.72951729e-01,  4.28161271e-02, -8.43633525e-01,\n",
       "       -1.24541601e+00, -5.27589581e-01,  5.51059397e-02,  6.10222448e-01,\n",
       "       -6.84090806e-01, -1.03408216e+00,  1.07503358e-02,  1.04027663e+00,\n",
       "        4.01065243e-01, -3.83736473e-01,  3.55127575e-01,  1.13377036e+00,\n",
       "       -5.71190151e-01, -4.01327848e-01, -2.72871747e-01, -3.21425114e-02,\n",
       "       -1.71246812e+00, -1.14523179e+00,  7.81282188e-01, -9.06613896e-01,\n",
       "        1.46653985e+00,  2.24405067e-01,  1.13302101e+00,  1.31328560e+00,\n",
       "       -2.37781205e-01, -6.06397087e-01,  3.85928201e-01,  3.96408784e-01,\n",
       "       -1.57364878e+00,  1.84134989e+00,  2.15664260e-01,  3.54223993e-01,\n",
       "        6.34213300e-01,  1.25987898e+00, -9.99495637e-01, -4.71122594e-01,\n",
       "       -7.04393585e-01,  1.38904023e+00, -7.65583883e-02,  1.19306299e+00,\n",
       "        1.58394815e+00, -5.08497211e-01,  1.45526359e+00,  1.88303646e-01,\n",
       "       -4.70973263e-01, -3.59160298e-01, -9.70379340e-02, -1.40232865e+00,\n",
       "       -5.40249331e-01, -1.73150494e+00,  1.92104597e+00, -5.31225233e-01,\n",
       "        2.12456290e+00, -5.01841544e-01,  8.84068598e-01, -3.85003685e-01,\n",
       "       -3.53536311e-01, -1.42669359e+00,  3.16573228e-01,  6.09556202e-01,\n",
       "        7.65408803e-01, -6.10206380e-01, -6.39443779e-01,  2.49890783e-01,\n",
       "       -9.44389211e-01,  2.59058257e-01,  9.00665232e-01,  6.78231144e-01,\n",
       "        5.65639494e-02, -7.20138392e-01,  7.83323990e-02, -1.19841958e+00,\n",
       "       -1.22371035e+00,  6.48978094e-01,  6.91240720e-01,  8.13286746e-01,\n",
       "       -5.84929739e-01, -9.77856356e-01, -4.25066145e-01,  9.97732849e-01,\n",
       "       -6.08928968e-01, -4.87433510e-01,  1.96622436e-01,  8.09300441e-01,\n",
       "        5.79139074e-01, -4.53166004e-01,  2.90849113e-01, -7.02845726e-01,\n",
       "        9.90737142e-03, -3.29745170e-01,  4.92482555e-01,  7.02085607e-01,\n",
       "       -3.48009599e-01,  1.03046291e-01, -3.17218608e+00,  3.46998376e-01,\n",
       "        3.02349490e-01,  3.72879164e-01,  1.82920144e-01, -2.62950714e-01,\n",
       "       -8.94224362e-01, -3.20490438e-02,  1.28971305e+00,  2.31527367e-01,\n",
       "       -8.77384513e-01,  2.48182032e-01,  1.01424104e+00, -6.29213373e-01,\n",
       "        1.23186277e-01,  1.51190226e+00,  6.48605919e-01, -2.60055510e-01,\n",
       "        8.67328119e-01, -1.02478549e-01, -3.21911035e-01,  1.42423876e+00,\n",
       "        5.44602512e-01, -6.14358984e-02,  1.37255931e+00,  1.29946311e+00,\n",
       "        7.58793570e-01, -1.55805239e-01, -9.64521764e-01,  8.43485602e-01,\n",
       "        3.63199124e-01,  2.04992303e-01, -4.76742829e-01, -5.72241995e-01,\n",
       "        7.69137325e-01,  1.05118999e+00, -9.50696957e-01, -6.50242298e-01,\n",
       "       -5.02181875e-03,  6.72430153e-01, -2.14024419e+00, -5.26000473e-01,\n",
       "        1.63745931e-01,  5.80962859e-01,  9.62637392e-01, -1.50258753e+00,\n",
       "       -1.72761904e+00,  8.03415863e-04,  5.10306230e-02,  6.36280455e-01,\n",
       "       -8.96674442e-02, -6.09190633e-01, -6.44010514e-01, -4.29879044e-02,\n",
       "       -1.12979873e-01,  2.65691970e-01, -8.66222919e-01, -7.75377750e-01,\n",
       "       -3.82364689e-01, -4.18803684e-01, -5.35304274e-01, -2.14590774e-01,\n",
       "        7.22237821e-02,  5.25550758e-02, -7.32535297e-01, -2.14166302e-01,\n",
       "        8.88927299e-01,  1.80010617e+00, -5.38217838e-01,  2.83355550e-01,\n",
       "        9.28653699e-01, -1.39921025e+00, -2.83690940e-01,  1.94583703e+00,\n",
       "        2.73530107e-01,  3.96589403e-02,  2.97810124e-01,  7.64027580e-01,\n",
       "        8.26447526e-01, -3.49843484e-01, -8.00979751e-01,  2.54677956e-01,\n",
       "        1.24774078e-01, -1.39711206e+00, -3.21137332e-01,  1.20460394e+00,\n",
       "        5.37415445e-01,  4.36387955e-01, -1.15403633e+00,  6.35105062e-01,\n",
       "        2.73803704e-03, -6.30060811e-01,  1.60349324e+00,  1.74694269e+00,\n",
       "       -7.10156370e-01, -2.17152366e-01,  6.30842151e-01, -1.52810093e+00,\n",
       "        3.61855455e-01,  2.10969844e-01, -1.15288707e+00, -1.30769810e+00,\n",
       "       -9.03697940e-01, -1.18828296e-01,  5.17087188e-01,  7.56231056e-02,\n",
       "        3.90326827e-03, -2.81395750e-01, -4.75027848e-01, -1.17949400e+00,\n",
       "        1.86246381e-01,  4.46417475e-01, -1.52264923e+00,  6.95771941e-01,\n",
       "        9.73950201e-02,  2.02543194e-02, -2.65308533e-01, -1.16913189e+00,\n",
       "        1.27174850e+00,  6.71130026e-01, -1.31115547e+00,  4.75062879e-01,\n",
       "       -3.18131412e-01,  1.01452594e+00, -8.61118642e-01,  4.19094082e-01,\n",
       "        9.24889443e-01,  1.07978793e+00, -8.46874321e-01, -1.05997966e+00,\n",
       "       -3.00433502e-01, -1.57520241e-01,  1.04310863e-01, -1.85719911e+00,\n",
       "       -8.36463515e-01, -9.08503865e-01,  7.57713217e-01, -8.56700868e-01,\n",
       "       -2.12662840e-01,  1.28968949e+00,  5.77291878e-01,  5.41875332e-01,\n",
       "        1.35647367e+00, -1.39609651e+00, -9.00393301e-01,  6.98019103e-01])"
      ]
     },
     "execution_count": 30,
     "metadata": {},
     "output_type": "execute_result"
    }
   ],
   "source": [
    "# generate normal dist\n",
    "sample = stats.norm(0,1).rvs(1000)\n",
    "sample"
   ]
  },
  {
   "cell_type": "markdown",
   "metadata": {},
   "source": [
    "**exercise** Get the derivative of the following:\n",
    "$$ 3x^2 + 9 x -5 $$"
   ]
  },
  {
   "cell_type": "code",
   "execution_count": 31,
   "metadata": {},
   "outputs": [],
   "source": [
    "from scipy.misc import derivative\n",
    "\n",
    "# define a function to get the derivative of a num in the eq\n",
    "def eqn(x):\n",
    "    return 3 * x**2 + 9*x - 5\n"
   ]
  },
  {
   "cell_type": "code",
   "execution_count": 32,
   "metadata": {},
   "outputs": [
    {
     "name": "stderr",
     "output_type": "stream",
     "text": [
      "/var/folders/3x/ds4ljhhn611fn_glg6pp102h0000gq/T/ipykernel_21419/1830200527.py:1: DeprecationWarning: scipy.misc.derivative is deprecated in SciPy v1.10.0; and will be completely removed in SciPy v1.12.0. You may consider using findiff: https://github.com/maroba/findiff or numdifftools: https://github.com/pbrod/numdifftools\n",
      "  derivative(eqn, 1)\n"
     ]
    },
    {
     "data": {
      "text/plain": [
       "15.0"
      ]
     },
     "execution_count": 32,
     "metadata": {},
     "output_type": "execute_result"
    }
   ],
   "source": [
    "derivative(eqn, 1)"
   ]
  },
  {
   "cell_type": "code",
   "execution_count": null,
   "metadata": {},
   "outputs": [],
   "source": []
  }
 ],
 "metadata": {
  "kernelspec": {
   "display_name": "Python 3",
   "language": "python",
   "name": "python3"
  },
  "language_info": {
   "codemirror_mode": {
    "name": "ipython",
    "version": 3
   },
   "file_extension": ".py",
   "mimetype": "text/x-python",
   "name": "python",
   "nbconvert_exporter": "python",
   "pygments_lexer": "ipython3",
   "version": "3.11.3"
  }
 },
 "nbformat": 4,
 "nbformat_minor": 2
}
