{
  "cells": [
    {
      "cell_type": "markdown",
      "metadata": {
        "id": "B7PI2SQx_jt6"
      },
      "source": [
        "# __Introduction to Tensors__\n",
        "\n",
        "Tensors are fundamental data structures in deep learning and are similar to multi-dimensional arrays. They are a generalization of vectors and matrices to higher dimensions and provide a way to represent and manipulate numerical data efficiently.\n",
        "\n",
        "Tensors can be seen as containers for numerical data that can be organized into a specific shape or size."
      ]
    },
    {
      "cell_type": "markdown",
      "metadata": {},
      "source": [
        "Understanding tensor operations in TensorFlow is essential for effectively working with deep learning models in TensorFlow. Here's why:\n",
        "\n",
        "1. **Foundation of TensorFlow**: Tensors are the fundamental data structures used in TensorFlow. All data, including inputs, model parameters, and outputs, are represented as tensors. Understanding how to create, manipulate, and operate on tensors is crucial for building and training neural networks in TensorFlow.\n",
        "\n",
        "2. **Computation Graph**: TensorFlow uses a computation graph to represent the operations performed by a neural network. Tensors flow through the graph, undergoing various operations such as matrix multiplications, activations, and reductions. Understanding tensor operations allows you to construct and manipulate the computation graph effectively.\n",
        "\n",
        "3. **Customization and Optimization**: Deep learning models often require customization and optimization to achieve the desired performance. TensorFlow provides a rich set of tensor operations and APIs for building custom layers, loss functions, and optimization algorithms. Understanding tensor operations enables you to customize and optimize your models according to specific requirements.\n",
        "\n",
        "4. **Debugging and Troubleshooting**: When working with deep learning models, debugging and troubleshooting are common tasks. Understanding tensor operations allows you to inspect intermediate tensors, visualize the computation graph, and identify potential issues in your models.\n",
        "\n",
        "While understanding how to deploy neural networks is also important, it typically builds upon a solid foundation of tensor operations. Deployment involves tasks such as model serialization, inference optimization, and integration with production systems, which may not require as deep an understanding of tensor operations as model development and training do.\n",
        "\n",
        "In summary, learning tensor operations in TensorFlow is essential for effectively building, training, customizing, and troubleshooting deep learning models. It provides a solid foundation for working with TensorFlow and enables you to develop and deploy high-performance neural networks."
      ]
    },
    {
      "cell_type": "markdown",
      "metadata": {
        "id": "GBtOK10kGJ5w"
      },
      "source": [
        "\n",
        "## Steps to Be Followed:\n",
        "1. Importing the required libraries\n",
        "2. Creating the rank zero Tensor\n",
        "3. Creating the rank one Tensor\n",
        "4. Creating the rank two Tensor\n",
        "5. Creating the rank three Tensor\n",
        "6. Converting a Tensor to a NumPy array\n",
        "7. Performing basic mathematics with Tensors\n",
        "8. Initializing the Tensor\n",
        "9. Broadcasting the x and y variables"
      ]
    },
    {
      "cell_type": "markdown",
      "metadata": {
        "id": "isZckyAI9bz7"
      },
      "source": [
        "### Step 1: Importing the Required Libraries\n",
        "\n",
        "- Two libraries, TensorFlow and NumPy, should be imported.\n",
        "- TensorFlow is a popular open-source machine learning framework that provides a set of tools and functionalities for building and training machine learning models.\n",
        "- NumPy is a Python library for numerical computations that provide support for handling multi-dimensional arrays and mathematical operations on them."
      ]
    },
    {
      "cell_type": "code",
      "execution_count": 1,
      "metadata": {
        "id": "ach49P7l_juE"
      },
      "outputs": [],
      "source": [
        "import tensorflow as tf\n",
        "import numpy as np"
      ]
    },
    {
      "cell_type": "code",
      "execution_count": 18,
      "metadata": {},
      "outputs": [
        {
          "name": "stdout",
          "output_type": "stream",
          "text": [
            "2.13.0\n"
          ]
        }
      ],
      "source": [
        "print(tf.__version__) # find the version number (should be 2.x+)"
      ]
    },
    {
      "cell_type": "markdown",
      "metadata": {
        "id": "CYnY3-Y19k1J"
      },
      "source": [
        "### Step 2: Creating the Rank Zero Tensor\n",
        "- The rank is also known as order, degree, or ndims.\n",
        "- The **tf.constant(4)** creates a constant Tensor with a single value of **4**.\n",
        "- The **tf.constant()** function is used to create Tensors with fixed values that cannot be changed.\n",
        "- The **rank_0_tensor** variable holds the created Tensor.\n",
        "- The **print(rank_0_tensor)** prints the value of the Tensor, which,  in this case, is __4__."
      ]
    },
    {
      "cell_type": "code",
      "execution_count": 2,
      "metadata": {
        "colab": {
          "base_uri": "https://localhost:8080/"
        },
        "id": "HyyOZlU1_juG",
        "outputId": "36332a9f-ef5e-452c-c7c3-12fa34b9c706"
      },
      "outputs": [
        {
          "name": "stdout",
          "output_type": "stream",
          "text": [
            "tf.Tensor(4, shape=(), dtype=int32)\n"
          ]
        }
      ],
      "source": [
        "rank_0_tensor = tf.constant(4)\n",
        "print(rank_0_tensor)"
      ]
    },
    {
      "cell_type": "markdown",
      "metadata": {
        "id": "j1JI6EXlAZXy"
      },
      "source": [
        "**Observation:**\n",
        "\n",
        "- As seen above, the output represents a TensorFlow Tensor object with a value of 4, an empty shape, and an **int32** data type."
      ]
    },
    {
      "cell_type": "markdown",
      "metadata": {
        "id": "2afvyRhV-Oo6"
      },
      "source": [
        "### Step 3: Creating the Rank One Tensor\n",
        "- Define a rank one Tensor in TensorFlow with the values **[2.0, 4.0, 5.0]** and print the Tensor object"
      ]
    },
    {
      "cell_type": "code",
      "execution_count": 3,
      "metadata": {
        "colab": {
          "base_uri": "https://localhost:8080/"
        },
        "id": "wa5FzllE_juI",
        "outputId": "11d63aa7-d4ac-487a-a49f-db39e4b12b6c"
      },
      "outputs": [
        {
          "name": "stdout",
          "output_type": "stream",
          "text": [
            "tf.Tensor([2. 4. 5.], shape=(3,), dtype=float32)\n"
          ]
        }
      ],
      "source": [
        "rank_1_tensor = tf.constant([2.0, 4.0,5.0]) # creating a vector with 1 dimension\n",
        "print(rank_1_tensor)"
      ]
    },
    {
      "cell_type": "markdown",
      "metadata": {
        "id": "rSQrZqmR-l9q"
      },
      "source": [
        "**Observations:**\n",
        "\n",
        "- As seen above, the output represents a one-dimensional Tensor with three elements: **2.0**, **4.0**, and **5.0**.\n",
        "- The shape of the Tensor is **(3, ),** indicating that it has a size of 3 along the first dimension.\n",
        "- The dtype of the Tensor is **float32**, indicating that the elements are of type float."
      ]
    },
    {
      "cell_type": "code",
      "execution_count": 4,
      "metadata": {},
      "outputs": [
        {
          "name": "stdout",
          "output_type": "stream",
          "text": [
            "tf.Tensor([2. 4. 5.], shape=(3,), dtype=float64)\n"
          ]
        }
      ],
      "source": [
        "rank_1_tensor = tf.constant([2.0, 4.0,5.0], dtype='float64')\n",
        "print(rank_1_tensor)"
      ]
    },
    {
      "cell_type": "markdown",
      "metadata": {
        "id": "g25g1XP_An3y"
      },
      "source": [
        "### Step 4: Creating the Rank Two Tensor\n",
        "- It creates a rank two Tensor, which is a two-dimensional array, using the **tf.constant** function.\n",
        "- The Tensor has a shape of (3, 2), meaning it has three rows and two columns, and the elements of the Tensor are specified as [1, 2], [3, 4], and [5, 6]."
      ]
    },
    {
      "cell_type": "code",
      "execution_count": 5,
      "metadata": {
        "colab": {
          "base_uri": "https://localhost:8080/"
        },
        "id": "RhM6gM6G_juJ",
        "outputId": "2eb34c15-e457-4237-dd5f-427e6c2f3553"
      },
      "outputs": [
        {
          "name": "stdout",
          "output_type": "stream",
          "text": [
            "tf.Tensor(\n",
            "[[1. 2.]\n",
            " [3. 4.]\n",
            " [5. 6.]], shape=(3, 2), dtype=float16)\n"
          ]
        }
      ],
      "source": [
        "rank_2_tensor = tf.constant([[1, 2],\n",
        "                             [3, 4],\n",
        "                             [5, 6]], dtype=tf.float16)\n",
        "\n",
        "print(rank_2_tensor)"
      ]
    },
    {
      "cell_type": "markdown",
      "metadata": {
        "id": "a8JbUi77CaED"
      },
      "source": [
        "**Observations:**\n",
        "\n",
        "- The output represents a rank two Tensor with a shape of (3, 2) and a dtype of float16. The Tensor contains the following elements arranged in a 3x2 matrix, as seen above.\n",
        "- Each element of the Tensor is a floating-point number with a precision of 16 bits."
      ]
    },
    {
      "cell_type": "code",
      "execution_count": 6,
      "metadata": {},
      "outputs": [
        {
          "data": {
            "text/plain": [
              "TensorShape([3, 2])"
            ]
          },
          "execution_count": 6,
          "metadata": {},
          "output_type": "execute_result"
        }
      ],
      "source": [
        "rank_2_tensor.shape"
      ]
    },
    {
      "cell_type": "markdown",
      "metadata": {},
      "source": [
        "You can always tell the size form the bracket count"
      ]
    },
    {
      "cell_type": "markdown",
      "metadata": {
        "id": "OnXyU9HtClH8"
      },
      "source": [
        "### Step 5: Creating the Rank Three Tensor\n",
        "\n",
        "- It defines a rank three Tensor with a shape of (3, 2, 5), indicating three layers, each containing two rows and five columns.\n",
        "- The Tensor represents a 3D array of integers, where each element corresponds to a specific position within the layers, rows, and columns.\n",
        "- The values increase sequentially from __0__ to __29__, arranged in a structured pattern within the Tensor.\n",
        "\n"
      ]
    },
    {
      "cell_type": "code",
      "execution_count": 7,
      "metadata": {
        "colab": {
          "base_uri": "https://localhost:8080/"
        },
        "id": "170HM4-o_juK",
        "outputId": "d14cb78b-18fc-4af9-fe74-59eaf379f816"
      },
      "outputs": [
        {
          "name": "stdout",
          "output_type": "stream",
          "text": [
            "tf.Tensor(\n",
            "[[[ 0  1  2  3  4]\n",
            "  [ 5  6  7  8  9]]\n",
            "\n",
            " [[10 11 12 13 14]\n",
            "  [15 16 17 18 19]]\n",
            "\n",
            " [[20 21 22 23 24]\n",
            "  [25 26 27 28 29]]], shape=(3, 2, 5), dtype=int32)\n"
          ]
        }
      ],
      "source": [
        "rank_3_tensor = tf.constant([\n",
        "  [[0, 1, 2, 3, 4],\n",
        "   [5, 6, 7, 8, 9]],\n",
        "  [[10, 11, 12, 13, 14],\n",
        "   [15, 16, 17, 18, 19]],\n",
        "  [[20, 21, 22, 23, 24],\n",
        "   [25, 26, 27, 28, 29]],])\n",
        "\n",
        "print(rank_3_tensor)"
      ]
    },
    {
      "cell_type": "code",
      "execution_count": 17,
      "metadata": {},
      "outputs": [
        {
          "data": {
            "text/plain": [
              "3"
            ]
          },
          "execution_count": 17,
          "metadata": {},
          "output_type": "execute_result"
        }
      ],
      "source": [
        "rank_3_tensor.ndim"
      ]
    },
    {
      "cell_type": "markdown",
      "metadata": {
        "id": "ieyDUIv2C10S"
      },
      "source": [
        "**Observations:**\n",
        "- The output represents a rank three Tensor with a shape of (3, 2, 5) and a data type of int32.\n",
        "- It contains three layers, each consisting of two rows and five columns, with integer values ranging from 0 to 29 arranged in a structured pattern within the Tensor."
      ]
    },
    {
      "cell_type": "markdown",
      "metadata": {},
      "source": [
        "\n",
        "![difference between scalar, vector, matrix, tensor](https://raw.githubusercontent.com/mrdbourke/tensorflow-deep-learning/main/images/00-scalar-vector-matrix-tensor.png)"
      ]
    },
    {
      "cell_type": "markdown",
      "metadata": {
        "id": "POSaM8a6DMlW"
      },
      "source": [
        "### Step 6: Converting a Tensor to a NumPy Array\n",
        "\n",
        "- The rank two array present here is converted to a NumPy array.\n",
        "- The Tensors often contain float datatype."
      ]
    },
    {
      "cell_type": "code",
      "execution_count": 8,
      "metadata": {
        "colab": {
          "base_uri": "https://localhost:8080/"
        },
        "id": "xIPTAmNK_juM",
        "outputId": "32767fb4-8856-4ff9-a713-8362daadd82f"
      },
      "outputs": [
        {
          "data": {
            "text/plain": [
              "array([[1., 2.],\n",
              "       [3., 4.],\n",
              "       [5., 6.]], dtype=float16)"
            ]
          },
          "execution_count": 8,
          "metadata": {},
          "output_type": "execute_result"
        }
      ],
      "source": [
        "rank_2_tensor.numpy()"
      ]
    },
    {
      "cell_type": "markdown",
      "metadata": {
        "id": "CEYmU37bHsyW"
      },
      "source": [
        "**Observations:**\n",
        "- The output represents a two-dimensional array (matrix) with a shape of (3, 2) and a data type of float16.\n",
        "- It contains floating-point values ranging from 1.0 to 6.0, organized in three rows and two columns.\n",
        "- You might want to convert to numpy for applications that are not compatible with TensorFlow"
      ]
    },
    {
      "cell_type": "markdown",
      "metadata": {
        "id": "XTbYDaW1_juP"
      },
      "source": [
        "### Step 7: Performing Basic Mathematics on Tensors\n",
        "- Declare two variables **a** and **b**.\n",
        "- The **tf.add(a, b)** operation performs element-wise addition between Tensors a and b.\n",
        "- The **tf.multiply(a, b)** operation performs element-wise multiplication between Tensors a and b.\n",
        "- The **tf.matmul(a, b)** operation performs matrix multiplication between Tensors a and b.\n"
      ]
    },
    {
      "cell_type": "code",
      "execution_count": 9,
      "metadata": {
        "colab": {
          "base_uri": "https://localhost:8080/"
        },
        "id": "ny7yq2tC_juP",
        "outputId": "dce89a5e-c159-4792-d4d9-7688f7cf9b4d"
      },
      "outputs": [
        {
          "name": "stdout",
          "output_type": "stream",
          "text": [
            "tf.Tensor(\n",
            "[[2 3]\n",
            " [4 5]], shape=(2, 2), dtype=int32) \n",
            "\n",
            "tf.Tensor(\n",
            "[[1 2]\n",
            " [3 4]], shape=(2, 2), dtype=int32) \n",
            "\n",
            "tf.Tensor(\n",
            "[[3 3]\n",
            " [7 7]], shape=(2, 2), dtype=int32) \n",
            "\n"
          ]
        }
      ],
      "source": [
        "a = tf.constant([[1, 2],\n",
        "                 [3, 4]])\n",
        "b = tf.constant([[1, 1],\n",
        "                 [1, 1]])\n",
        "\n",
        "print(tf.add(a, b), \"\\n\")\n",
        "print(tf.multiply(a, b), \"\\n\")\n",
        "print(tf.matmul(a, b), \"\\n\")"
      ]
    },
    {
      "cell_type": "markdown",
      "metadata": {
        "id": "jhqr79suIiKq"
      },
      "source": [
        "**Observations:**\n",
        "- Tensors do element-wise addition and multiplication.\n",
        "- The given output consists of three TensorFlow Tensors, each representing a 2x2 matrix with integer values."
      ]
    },
    {
      "cell_type": "markdown",
      "metadata": {},
      "source": [
        "### Indexing Tensor"
      ]
    },
    {
      "cell_type": "code",
      "execution_count": 30,
      "metadata": {},
      "outputs": [
        {
          "data": {
            "text/plain": [
              "<tf.Tensor: shape=(2,), dtype=int32, numpy=array([1, 2], dtype=int32)>"
            ]
          },
          "execution_count": 30,
          "metadata": {},
          "output_type": "execute_result"
        }
      ],
      "source": [
        "a[0]"
      ]
    },
    {
      "cell_type": "code",
      "execution_count": 31,
      "metadata": {},
      "outputs": [
        {
          "data": {
            "text/plain": [
              "<tf.Tensor: shape=(), dtype=int32, numpy=1>"
            ]
          },
          "execution_count": 31,
          "metadata": {},
          "output_type": "execute_result"
        }
      ],
      "source": [
        "# Will error (requires the .assign() method)\n",
        "a[0][0]"
      ]
    },
    {
      "cell_type": "markdown",
      "metadata": {
        "id": "cm8YPfeSJG8e"
      },
      "source": [
        "  ### Step 8: Initializing the Tensor\n",
        "\n",
        "  - The **tf.reduce_max(c)** calculates the maximum value in Tensor c.\n",
        "  - The **tf.math.argmax(c)** returns the index of the maximum value in Tensor c.\n",
        "  - The **tf.nn.softmax(c)** applies the softmax activation function to Tensor c, which computes the probability distribution over the elements of c.\n"
      ]
    },
    {
      "cell_type": "code",
      "execution_count": 10,
      "metadata": {
        "colab": {
          "base_uri": "https://localhost:8080/"
        },
        "id": "Tw2QlcIo_juR",
        "outputId": "928f6bd9-c8bc-4090-b811-211e8f822f6f"
      },
      "outputs": [
        {
          "name": "stdout",
          "output_type": "stream",
          "text": [
            "tf.Tensor(10.0, shape=(), dtype=float32)\n",
            "tf.Tensor([1 0], shape=(2,), dtype=int64)\n",
            "tf.Tensor(\n",
            "[[2.6894143e-01 7.3105860e-01]\n",
            " [9.9987662e-01 1.2339458e-04]], shape=(2, 2), dtype=float32)\n"
          ]
        }
      ],
      "source": [
        "c = tf.constant([[4.0, 5.0], [10.0, 1.0]])\n",
        "print(tf.reduce_max(c))\n",
        "print(tf.math.argmax(c))\n",
        "print(tf.nn.softmax(c))"
      ]
    },
    {
      "cell_type": "markdown",
      "metadata": {
        "id": "Y4cvG_bjKElL"
      },
      "source": [
        "**Observation:**\n",
        "- It calculates the maximum value in Tensor c, finds the indices of the maximum values, and applies the softmax function to obtain a probability distribution Tensor."
      ]
    },
    {
      "cell_type": "markdown",
      "metadata": {
        "id": "HGITiYMuKhSK"
      },
      "source": [
        "### Step 9: Broadcasting the X and Y Variables\n",
        "- Broadcast the two variables **x** and **y**.\n",
        "- Smaller Tensors are stretched automatically to fit larger Tensors.\n",
        "- All of these are the same computation.\n",
        "- It performs element-wise multiplication between Tensors x and a scalar value of 2, between Tensors x and scalar y, and between Tensors x and Tensors z."
      ]
    },
    {
      "cell_type": "code",
      "execution_count": 11,
      "metadata": {
        "colab": {
          "base_uri": "https://localhost:8080/"
        },
        "id": "vb-uT7Nt_juS",
        "outputId": "c3ed681c-557c-4e9f-b165-803bf79de3f5"
      },
      "outputs": [
        {
          "name": "stdout",
          "output_type": "stream",
          "text": [
            "tf.Tensor([2 4 6], shape=(3,), dtype=int32)\n",
            "tf.Tensor([2 4 6], shape=(3,), dtype=int32)\n",
            "tf.Tensor([2 4 6], shape=(3,), dtype=int32)\n"
          ]
        }
      ],
      "source": [
        "x = tf.constant([1, 2, 3])\n",
        "\n",
        "y = tf.constant(2)\n",
        "z = tf.constant([2, 2, 2])\n",
        "print(tf.multiply(x, 2))\n",
        "print(x * y)\n",
        "print(x * z)"
      ]
    },
    {
      "cell_type": "markdown",
      "metadata": {
        "id": "rcdFpRN1LQKL"
      },
      "source": [
        "**Observations:**\n",
        "\n",
        "- We can see that even though the shape of y is not the same as that of x, we can still multiply these two variables.\n",
        "- So, this is an example of broadcasting, where smaller Tensors are stretched automatically to fit larger Tensors."
      ]
    },
    {
      "cell_type": "markdown",
      "metadata": {
        "id": "uW239xULLngI"
      },
      "source": [
        "#### Reshaping Tensors"
      ]
    },
    {
      "cell_type": "code",
      "execution_count": 12,
      "metadata": {
        "colab": {
          "base_uri": "https://localhost:8080/"
        },
        "id": "FStcPcKn_juT",
        "outputId": "ce183db9-d906-4586-81f7-614092abdc16"
      },
      "outputs": [
        {
          "name": "stdout",
          "output_type": "stream",
          "text": [
            "(3, 1)\n"
          ]
        }
      ],
      "source": [
        "x = tf.constant([[1], [2], [3]])\n",
        "print(x.shape)"
      ]
    },
    {
      "cell_type": "markdown",
      "metadata": {
        "id": "sf3hx84WMC5w"
      },
      "source": [
        "**Observation:**\n",
        "- So, the shape function; returns\n",
        "a tensor-shaped object that shows the size, along each axis."
      ]
    },
    {
      "cell_type": "code",
      "execution_count": 13,
      "metadata": {
        "id": "Gm40OfVM_juU"
      },
      "outputs": [],
      "source": [
        "reshaped = tf.reshape(x , [1,3])"
      ]
    },
    {
      "cell_type": "code",
      "execution_count": 32,
      "metadata": {},
      "outputs": [
        {
          "data": {
            "text/plain": [
              "<tf.Tensor: shape=(1, 3), dtype=int32, numpy=array([[1, 2, 3]], dtype=int32)>"
            ]
          },
          "execution_count": 32,
          "metadata": {},
          "output_type": "execute_result"
        }
      ],
      "source": [
        "reshaped"
      ]
    },
    {
      "cell_type": "code",
      "execution_count": 14,
      "metadata": {
        "colab": {
          "base_uri": "https://localhost:8080/"
        },
        "id": "d6SJVa9A_juV",
        "outputId": "20bea1ec-a6ea-44db-cf7c-77d82223e086"
      },
      "outputs": [
        {
          "name": "stdout",
          "output_type": "stream",
          "text": [
            "(3, 1)\n",
            "(1, 3)\n"
          ]
        }
      ],
      "source": [
        "print(x.shape)\n",
        "print(reshaped.shape)"
      ]
    },
    {
      "cell_type": "markdown",
      "metadata": {
        "id": "ObLFSB66MqbC"
      },
      "source": [
        "**Observation:**\n",
        "- The Tensor has been reshaped to the desired dimensions, providing the intended configuration."
      ]
    },
    {
      "cell_type": "markdown",
      "metadata": {},
      "source": [
        "### Generate Tensors"
      ]
    },
    {
      "cell_type": "code",
      "execution_count": 33,
      "metadata": {},
      "outputs": [
        {
          "data": {
            "text/plain": [
              "<tf.Tensor: shape=(2, 3, 4, 5), dtype=float32, numpy=\n",
              "array([[[[0., 0., 0., 0., 0.],\n",
              "         [0., 0., 0., 0., 0.],\n",
              "         [0., 0., 0., 0., 0.],\n",
              "         [0., 0., 0., 0., 0.]],\n",
              "\n",
              "        [[0., 0., 0., 0., 0.],\n",
              "         [0., 0., 0., 0., 0.],\n",
              "         [0., 0., 0., 0., 0.],\n",
              "         [0., 0., 0., 0., 0.]],\n",
              "\n",
              "        [[0., 0., 0., 0., 0.],\n",
              "         [0., 0., 0., 0., 0.],\n",
              "         [0., 0., 0., 0., 0.],\n",
              "         [0., 0., 0., 0., 0.]]],\n",
              "\n",
              "\n",
              "       [[[0., 0., 0., 0., 0.],\n",
              "         [0., 0., 0., 0., 0.],\n",
              "         [0., 0., 0., 0., 0.],\n",
              "         [0., 0., 0., 0., 0.]],\n",
              "\n",
              "        [[0., 0., 0., 0., 0.],\n",
              "         [0., 0., 0., 0., 0.],\n",
              "         [0., 0., 0., 0., 0.],\n",
              "         [0., 0., 0., 0., 0.]],\n",
              "\n",
              "        [[0., 0., 0., 0., 0.],\n",
              "         [0., 0., 0., 0., 0.],\n",
              "         [0., 0., 0., 0., 0.],\n",
              "         [0., 0., 0., 0., 0.]]]], dtype=float32)>"
            ]
          },
          "execution_count": 33,
          "metadata": {},
          "output_type": "execute_result"
        }
      ],
      "source": [
        "# Create a rank 4 tensor (4 dimensions)\n",
        "rank_4_tensor = tf.zeros([2, 3, 4, 5])\n",
        "rank_4_tensor"
      ]
    },
    {
      "cell_type": "code",
      "execution_count": 34,
      "metadata": {},
      "outputs": [
        {
          "data": {
            "text/plain": [
              "(array([ 1,  2,  3,  4,  5,  6,  7,  8,  9, 10, 11, 12, 13, 14, 15, 16, 17,\n",
              "        18, 19, 20, 21, 22, 23, 24], dtype=int32),\n",
              " <tf.Tensor: shape=(2, 4, 3), dtype=int32, numpy=\n",
              " array([[[ 1,  2,  3],\n",
              "         [ 4,  5,  6],\n",
              "         [ 7,  8,  9],\n",
              "         [10, 11, 12]],\n",
              " \n",
              "        [[13, 14, 15],\n",
              "         [16, 17, 18],\n",
              "         [19, 20, 21],\n",
              "         [22, 23, 24]]], dtype=int32)>)"
            ]
          },
          "execution_count": 34,
          "metadata": {},
          "output_type": "execute_result"
        }
      ],
      "source": [
        "import numpy as np\n",
        "numpy_A = np.arange(1, 25, dtype=np.int32) # create a NumPy array between 1 and 25\n",
        "A = tf.constant(numpy_A,  \n",
        "                shape=[2, 4, 3]) # note: the shape total (2*4*3) has to match the number of elements in the array\n",
        "numpy_A, A"
      ]
    },
    {
      "cell_type": "markdown",
      "metadata": {
        "id": "Q9oKHndBM7HV"
      },
      "source": [
        "#### Different Types of Tensors\n",
        "- Ragged Tensor: Tensor with the variable number of\n",
        "elements along some axes is called Ragged Tensor."
      ]
    },
    {
      "cell_type": "code",
      "execution_count": 35,
      "metadata": {
        "colab": {
          "base_uri": "https://localhost:8080/"
        },
        "id": "dctGbtQB_juW",
        "outputId": "8c901a8f-15f7-44c9-c405-df6ab93d4a46"
      },
      "outputs": [
        {
          "name": "stdout",
          "output_type": "stream",
          "text": [
            "<tf.RaggedTensor [[0, 1, 2, 3], [4, 5], [6, 7, 8], [9]]>\n"
          ]
        }
      ],
      "source": [
        "ragged_list = [\n",
        "    [0,1,2,3],\n",
        "    [4,5],\n",
        "    [6,7,8],\n",
        "    [9]]\n",
        "\n",
        "ragged_tensor = tf.ragged.constant(ragged_list)\n",
        "print(ragged_tensor)"
      ]
    },
    {
      "cell_type": "markdown",
      "metadata": {},
      "source": [
        "A ragged tensor is a type of tensor in TensorFlow that represents sequences of variable lengths. In contrast to regular tensors, which have fixed shapes for all dimensions, ragged tensors allow for dimensions to have varying lengths across different elements of the tensor. Ragged tensors are used to represent irregular or non-uniform data structures, such as sequences of different lengths, lists of varying sizes, or nested structures.\n",
        "\n",
        "Here are some common use cases for ragged tensors:\n",
        "\n",
        "1. **Natural Language Processing (NLP)**:\n",
        "   - Ragged tensors are commonly used in NLP tasks where input sequences have variable lengths, such as text classification, sentiment analysis, or machine translation. Each element of the tensor corresponds to a sequence of words or tokens, and the lengths of these sequences can vary from one element to another.\n",
        "\n",
        "2. **Time Series Data**:\n",
        "   - In time series analysis, ragged tensors can represent sequences of data points with variable lengths. For example, financial data or sensor readings collected at irregular intervals may be represented using ragged tensors, where each element corresponds to a time series of varying length.\n",
        "\n",
        "3. **Feature Representation**:\n",
        "   - Ragged tensors can be used to represent feature vectors with variable numbers of elements. For instance, in feature engineering tasks where each data point has a different number of features, ragged tensors allow for efficient storage and processing of such data.\n",
        "\n",
        "4. **Sparse Data**:\n",
        "   - Ragged tensors are useful for representing sparse data structures where most elements are zero or missing. By only storing non-zero or non-missing elements along with their indices, ragged tensors can efficiently represent sparse matrices or tensors.\n",
        "\n",
        "5. **Deep Learning Models**:\n",
        "   - Ragged tensors can be used as inputs or outputs of deep learning models, especially in architectures such as recurrent neural networks (RNNs) or transformer models. These models can handle sequences of variable lengths, and ragged tensors provide a natural way to represent such data.\n",
        "\n",
        "Overall, ragged tensors are a powerful tool in TensorFlow for working with irregular or non-uniform data structures, providing flexibility and efficiency in representing and processing data with variable lengths or shapes."
      ]
    },
    {
      "cell_type": "markdown",
      "metadata": {
        "id": "exVngalDNdw7"
      },
      "source": [
        "- Scalar String Tensor: It is a datatype, which means that data can be represented as strings (variable-length byte arrays) in Tensors."
      ]
    },
    {
      "cell_type": "code",
      "execution_count": 16,
      "metadata": {
        "colab": {
          "base_uri": "https://localhost:8080/"
        },
        "id": "vSgI8dbk_juW",
        "outputId": "1d381a55-b9b8-4e57-d19a-3d74185c4512"
      },
      "outputs": [
        {
          "name": "stdout",
          "output_type": "stream",
          "text": [
            "tf.Tensor(b'gray wolf', shape=(), dtype=string)\n"
          ]
        }
      ],
      "source": [
        "scalar_string_tensor = tf.constant(\"gray wolf\")\n",
        "print(scalar_string_tensor)"
      ]
    },
    {
      "cell_type": "markdown",
      "metadata": {
        "id": "iyrBuV0uOSRn"
      },
      "source": [
        "**Observation**\n",
        "- We can see that we can even represent\n",
        "the strings as Tensors.\n"
      ]
    }
  ],
  "metadata": {
    "colab": {
      "provenance": []
    },
    "kernelspec": {
      "display_name": "Python 3",
      "language": "python",
      "name": "python3"
    },
    "language_info": {
      "codemirror_mode": {
        "name": "ipython",
        "version": 3
      },
      "file_extension": ".py",
      "mimetype": "text/x-python",
      "name": "python",
      "nbconvert_exporter": "python",
      "pygments_lexer": "ipython3",
      "version": "3.11.3"
    }
  },
  "nbformat": 4,
  "nbformat_minor": 0
}
