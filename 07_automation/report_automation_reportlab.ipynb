{
 "cells": [
  {
   "cell_type": "code",
   "execution_count": 1,
   "metadata": {},
   "outputs": [],
   "source": [
    "import pandas as pd\n",
    "import matplotlib.pyplot as plt\n",
    "from reportlab.lib.pagesizes import letter\n",
    "from reportlab.pdfgen import canvas\n",
    "from reportlab.platypus import Table, TableStyle\n",
    "from reportlab.lib import colors\n"
   ]
  },
  {
   "cell_type": "code",
   "execution_count": 8,
   "metadata": {},
   "outputs": [],
   "source": [
    "\n",
    "# Database Connection\n",
    "#def fetch_data_from_teradata(query):\n",
    "#    with teradatasql.connect(host='your_host', user='your_user', password='your_password') as conn:\n",
    "#        return pd.read_sql(query, conn)\n",
    "\n",
    "# Generate Charts\n",
    "def generate_chart(data, filename):\n",
    "    plt.figure(figsize=(6, 4))\n",
    "    data.plot(kind='bar')\n",
    "    plt.savefig(filename)\n",
    "    plt.close()\n",
    "\n",
    "# Generate PDF Report\n",
    "def generate_pdf(provider_name, data, chart_filename, output_filename):\n",
    "    c = canvas.Canvas(output_filename, pagesize=letter)\n",
    "    c.drawString(100, 750, f'Report for {provider_name}')\n",
    "    \n",
    "    # Insert Chart\n",
    "    c.drawImage(chart_filename, 0, 0, width=400, height=200)\n",
    "    \n",
    "    # Insert Table\n",
    "    table_data = [data.columns.tolist()] + data.values.tolist()\n",
    "    table = Table(table_data)\n",
    "    table.setStyle(TableStyle([\n",
    "        ('BACKGROUND', (0, 0), (-1, 0), colors.grey),\n",
    "        ('TEXTCOLOR', (0, 0), (-1, 0), colors.whitesmoke),\n",
    "        ('ALIGN', (0, 0), (-1, -1), 'CENTER'),\n",
    "        ('GRID', (0, 0), (-1, -1), 1, colors.black)\n",
    "    ]))\n",
    "    table.wrapOn(c, 400, 300)\n",
    "    table.drawOn(c, 100, 300)\n",
    "    \n",
    "    c.showPage()\n",
    "    c.save()\n",
    "\n",
    "# Save Data to Excel\n",
    "def save_to_excel(data, filename):\n",
    "    data.to_excel(filename, index=False)\n"
   ]
  },
  {
   "cell_type": "code",
   "execution_count": 9,
   "metadata": {},
   "outputs": [
    {
     "data": {
      "text/plain": [
       "Index(['gender', 'class group', 'parental level of education', 'lunch',\n",
       "       'test preparation course', 'math score', 'reading score',\n",
       "       'writing score'],\n",
       "      dtype='object')"
      ]
     },
     "execution_count": 9,
     "metadata": {},
     "output_type": "execute_result"
    }
   ],
   "source": [
    "path = '/Users/bassel_instructor/Documents/Datasets/'\n",
    "df = pd.read_csv(path+'school_grades.csv')\n",
    "df.columns"
   ]
  },
  {
   "cell_type": "code",
   "execution_count": 10,
   "metadata": {},
   "outputs": [
    {
     "name": "stdout",
     "output_type": "stream",
     "text": [
      "Reports and Excel file generated successfully!\n"
     ]
    },
    {
     "data": {
      "text/plain": [
       "<Figure size 600x400 with 0 Axes>"
      ]
     },
     "metadata": {},
     "output_type": "display_data"
    },
    {
     "data": {
      "text/plain": [
       "<Figure size 600x400 with 0 Axes>"
      ]
     },
     "metadata": {},
     "output_type": "display_data"
    },
    {
     "data": {
      "text/plain": [
       "<Figure size 600x400 with 0 Axes>"
      ]
     },
     "metadata": {},
     "output_type": "display_data"
    },
    {
     "data": {
      "text/plain": [
       "<Figure size 600x400 with 0 Axes>"
      ]
     },
     "metadata": {},
     "output_type": "display_data"
    },
    {
     "data": {
      "text/plain": [
       "<Figure size 600x400 with 0 Axes>"
      ]
     },
     "metadata": {},
     "output_type": "display_data"
    }
   ],
   "source": [
    "\n",
    "# Main Execution\n",
    "def main():\n",
    "    query = \"SELECT provider_name, metric1, metric2 FROM healthcare_data\"\n",
    "    path = '/Users/bassel_instructor/Documents/Datasets/'\n",
    "    df = pd.read_csv(path+'school_grades.csv')\n",
    "    \n",
    "    for provider in df['class group'].unique():\n",
    "        provider_data = df[df['class group'] == provider]\n",
    "        chart_file = f'chart_{provider}.png'\n",
    "        pdf_file = f'report_{provider}.pdf'\n",
    "        excel_file = 'healthcare_data.xlsx'\n",
    "        \n",
    "        generate_chart(provider_data[['reading score', 'writing score']], chart_file)\n",
    "        generate_pdf(provider, provider_data, chart_file, pdf_file)\n",
    "    \n",
    "    save_to_excel(df, excel_file)\n",
    "    print(\"Reports and Excel file generated successfully!\")\n",
    "\n",
    "if __name__ == \"__main__\":\n",
    "    main()\n"
   ]
  },
  {
   "cell_type": "code",
   "execution_count": null,
   "metadata": {},
   "outputs": [],
   "source": []
  }
 ],
 "metadata": {
  "kernelspec": {
   "display_name": "Python 3",
   "language": "python",
   "name": "python3"
  },
  "language_info": {
   "codemirror_mode": {
    "name": "ipython",
    "version": 3
   },
   "file_extension": ".py",
   "mimetype": "text/x-python",
   "name": "python",
   "nbconvert_exporter": "python",
   "pygments_lexer": "ipython3",
   "version": "3.11.3"
  }
 },
 "nbformat": 4,
 "nbformat_minor": 2
}
