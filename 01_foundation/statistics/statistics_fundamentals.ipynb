{
 "cells": [
  {
   "cell_type": "markdown",
   "metadata": {},
   "source": [
    "# Statistics Fundamentals"
   ]
  },
  {
   "cell_type": "markdown",
   "metadata": {},
   "source": [
    "We'll cover:\n",
    "- Intro:\n",
    "    - Definition\n",
    "    - Importance of Statistics for Data Science\n",
    "    - Common Terms Used in Statistics\n",
    "    - Statistics Types\n",
    "- Types of Data\n",
    "- Statistical Measures:\n",
    "    - Univariate Analysis\n",
    "        - Measures of Central Tendency\n",
    "        - Measures of Dispersion\n",
    "        - Measures of Shape\n",
    "    - Multivariate Analysis\n",
    "        - Covariance and Correlation"
   ]
  },
  {
   "cell_type": "code",
   "execution_count": 2,
   "metadata": {},
   "outputs": [],
   "source": [
    "import pandas as pd\n",
    "import numpy as np"
   ]
  },
  {
   "cell_type": "markdown",
   "metadata": {},
   "source": [
    "## Intro\n",
    "### What is Statistics?\n",
    "- Another part of mathematics that involves the collection, analysis, interpretation, presentation, and organization of data.\n",
    "- It's a discipline that deals with collection, description, analysis, and inference of conclusions from quantitative data (notes: there are techniques to perform stats on categorical data - e.g. chi square test)"
   ]
  },
  {
   "cell_type": "markdown",
   "metadata": {},
   "source": [
    "### Importance of Statistics\n",
    "- The first step in every DS project is to explore and interpret the data\n",
    "- Statistics helps us extract impactful findings and define an object"
   ]
  },
  {
   "cell_type": "markdown",
   "metadata": {},
   "source": [
    "### Common Terms Used in Statistics\n",
    "- **Population and Sample:** \n",
    "    - Population is the complete pool from which the sample is drawn for further analysis. In other words, a sample is a subset of the population.\n",
    "    - We cannot perform analysis on the full population. It's costly and time consuming. e.g. studying the rate of obesity in the US. It's nearly impossible to record data for every US Citizen (330 M people) Instead, we can use a subset from each state.\n",
    "    - Therefore, it's essential to have a good sample at hand. The sample should be **good representative** of the population.\n",
    "- **Measurement:** it's a number or attribute calculated or measured for each member of the sample.\n",
    "- **Parameter** it's a characteristic of the population. e.g. population mean\n",
    "- **Statistic** it's a characteristic of the sample. e.g. sample mean\n",
    "- **Distribution** it refers to how the sample data is spread across a range of values \n"
   ]
  },
  {
   "cell_type": "code",
   "execution_count": 3,
   "metadata": {},
   "outputs": [
    {
     "data": {
      "text/html": [
       "<div>\n",
       "<style scoped>\n",
       "    .dataframe tbody tr th:only-of-type {\n",
       "        vertical-align: middle;\n",
       "    }\n",
       "\n",
       "    .dataframe tbody tr th {\n",
       "        vertical-align: top;\n",
       "    }\n",
       "\n",
       "    .dataframe thead th {\n",
       "        text-align: right;\n",
       "    }\n",
       "</style>\n",
       "<table border=\"1\" class=\"dataframe\">\n",
       "  <thead>\n",
       "    <tr style=\"text-align: right;\">\n",
       "      <th></th>\n",
       "      <th>name</th>\n",
       "      <th>age</th>\n",
       "      <th>score</th>\n",
       "      <th>city</th>\n",
       "    </tr>\n",
       "  </thead>\n",
       "  <tbody>\n",
       "    <tr>\n",
       "      <th>0</th>\n",
       "      <td>Mark</td>\n",
       "      <td>55</td>\n",
       "      <td>99</td>\n",
       "      <td>New York</td>\n",
       "    </tr>\n",
       "    <tr>\n",
       "      <th>1</th>\n",
       "      <td>Mike</td>\n",
       "      <td>43</td>\n",
       "      <td>78</td>\n",
       "      <td>Nashville</td>\n",
       "    </tr>\n",
       "    <tr>\n",
       "      <th>2</th>\n",
       "      <td>Tammy</td>\n",
       "      <td>27</td>\n",
       "      <td>83</td>\n",
       "      <td>San Diego</td>\n",
       "    </tr>\n",
       "    <tr>\n",
       "      <th>3</th>\n",
       "      <td>Becky</td>\n",
       "      <td>35</td>\n",
       "      <td>87</td>\n",
       "      <td>Atlanta</td>\n",
       "    </tr>\n",
       "    <tr>\n",
       "      <th>4</th>\n",
       "      <td>John</td>\n",
       "      <td>46</td>\n",
       "      <td>79</td>\n",
       "      <td>Boston</td>\n",
       "    </tr>\n",
       "  </tbody>\n",
       "</table>\n",
       "</div>"
      ],
      "text/plain": [
       "    name  age  score       city\n",
       "0   Mark   55     99   New York\n",
       "1   Mike   43     78  Nashville\n",
       "2  Tammy   27     83  San Diego\n",
       "3  Becky   35     87    Atlanta\n",
       "4   John   46     79     Boston"
      ]
     },
     "execution_count": 3,
     "metadata": {},
     "output_type": "execute_result"
    }
   ],
   "source": [
    "data = {\n",
    "    'name': ['Mark', 'Mike', 'Tammy', 'Becky', 'John'],\n",
    "    'age': [55,43,27,35, 46],\n",
    "    'score':[99,78,83,87, 79],\n",
    "    'city': ['New York', 'Nashville', 'San Diego', 'Atlanta', 'Boston']\n",
    "}\n",
    "\n",
    "df = pd.DataFrame(data)\n",
    "df"
   ]
  },
  {
   "cell_type": "markdown",
   "metadata": {},
   "source": [
    "- df is a sample from all the students of school (population)\n",
    "- row 0, for example, is a record or a member of the sample"
   ]
  },
  {
   "cell_type": "markdown",
   "metadata": {},
   "source": [
    "## Types of Statistics\n",
    "\n",
    "![link text](https://labcontent.simplicdn.net/data-content/content-assets/Data_and_AI/ADSP_Images/Lesson_06_Maths_and_Stats/Statistics_Fundamentals/Image_1.png)"
   ]
  },
  {
   "cell_type": "markdown",
   "metadata": {},
   "source": [
    "- **Descriptive Statistics:** it involves organizing, displaying, analyzing, and describing the data. e.g. avg  BMI, max strength, lowest score, correlation between A and B, etc... \n",
    "- **Inferential Statistics:** it involves building conclusions (inferences) about the population based on the sample. e.g. The increase of blood pressure is causing a heart attack\n",
    "- **Predictive Statistics:** it involves extracting information from the data and using it predict trends, behavior, patterns, or relationships between attributes. \n",
    "    - e.g. Predicting the price of goods when inflation is high\n",
    "    - e.g. Predicting the demand of spare parts can be determined by the number of cars sold"
   ]
  },
  {
   "cell_type": "markdown",
   "metadata": {},
   "source": [
    "## Types of Data\n",
    "\n",
    "- Categorical Data:  It represents characteristics, such as gender, blood type, country, marital status, car model, age group, etc...\n",
    "\n",
    "- Numerical(Numeric) Data: It represents the data as a measurement, such as height, age, weight, blood pressure, sales"
   ]
  },
  {
   "cell_type": "markdown",
   "metadata": {},
   "source": [
    "### Is date considered categorical or numerical?\n",
    "- It depends on the context of the date element\n",
    "- If we extract seconds from a date-timestamp -> numeric\n",
    "- Date by default can be considered categorical if we're using it group the data by month, year, week, etc...\n",
    "- It's a packaged data element where you can extract both numerical and categorical data"
   ]
  },
  {
   "cell_type": "markdown",
   "metadata": {},
   "source": [
    "## Statistical Measures"
   ]
  },
  {
   "cell_type": "markdown",
   "metadata": {},
   "source": [
    "### Measures of Central Tendency\n",
    "- A measure of central tendency is a summary that describes the central position of the dataseet. \n",
    "- Keep in mind, if the data is skewed, those measures do not represent the exact center on the x-axis.\n",
    "- They are also called the 3Ms: Mean, Median, and Mode"
   ]
  },
  {
   "cell_type": "markdown",
   "metadata": {},
   "source": [
    "#### Mean\n",
    "- The most popular statistical measure \n",
    "- mean = total of all data points divided by the count of the data points"
   ]
  },
  {
   "cell_type": "code",
   "execution_count": 4,
   "metadata": {},
   "outputs": [
    {
     "data": {
      "text/plain": [
       "41.2"
      ]
     },
     "execution_count": 4,
     "metadata": {},
     "output_type": "execute_result"
    }
   ],
   "source": [
    "# using pandas \n",
    "df['age'].mean(skipna=True) #use skip na to avoid counting for nulls"
   ]
  },
  {
   "cell_type": "code",
   "execution_count": 5,
   "metadata": {},
   "outputs": [
    {
     "data": {
      "text/plain": [
       "41.2"
      ]
     },
     "execution_count": 5,
     "metadata": {},
     "output_type": "execute_result"
    }
   ],
   "source": [
    "#using numpy\n",
    "np.mean(df['age'])"
   ]
  },
  {
   "cell_type": "code",
   "execution_count": 6,
   "metadata": {},
   "outputs": [
    {
     "data": {
      "text/plain": [
       "41.2"
      ]
     },
     "execution_count": 6,
     "metadata": {},
     "output_type": "execute_result"
    }
   ],
   "source": [
    "#using statistics\n",
    "\n",
    "import statistics as stat\n",
    "\n",
    "stat.mean(df['age'])"
   ]
  },
  {
   "cell_type": "markdown",
   "metadata": {},
   "source": [
    "> Using NumPy or Pandas is the recommended way for best performance."
   ]
  },
  {
   "cell_type": "markdown",
   "metadata": {},
   "source": [
    "#### Median"
   ]
  },
  {
   "cell_type": "markdown",
   "metadata": {},
   "source": [
    "- The middle number obtained after arranging the data in ascending or descending order\n",
    "- For an odd number of items in the list, it's straightforward to select the number in the middle\n",
    "- For an even number of items in the list, you need to take the average of the 2 numbers in the middle. For example, for array `[4, 5, 6, 7, 8, 9, 10, 11]` we take the average of 7 and 8."
   ]
  },
  {
   "cell_type": "code",
   "execution_count": 7,
   "metadata": {},
   "outputs": [
    {
     "data": {
      "text/plain": [
       "43.0"
      ]
     },
     "execution_count": 7,
     "metadata": {},
     "output_type": "execute_result"
    }
   ],
   "source": [
    "#using pandas\n",
    "df['age'].median()"
   ]
  },
  {
   "cell_type": "code",
   "execution_count": 8,
   "metadata": {},
   "outputs": [
    {
     "data": {
      "text/plain": [
       "43.0"
      ]
     },
     "execution_count": 8,
     "metadata": {},
     "output_type": "execute_result"
    }
   ],
   "source": [
    "#using numpy\n",
    "np.median(df['age'])"
   ]
  },
  {
   "cell_type": "markdown",
   "metadata": {},
   "source": [
    "#### Mode\n",
    "- It's the most frequent item on the list\n",
    "- It's the only measure of central tendency that works with both categorical and numeric data"
   ]
  },
  {
   "cell_type": "code",
   "execution_count": 9,
   "metadata": {},
   "outputs": [
    {
     "data": {
      "text/plain": [
       "'Red'"
      ]
     },
     "execution_count": 9,
     "metadata": {},
     "output_type": "execute_result"
    }
   ],
   "source": [
    "# using statistics\n",
    "x = ['Red', 'Blue', 'Green', 'Red', 'Red', 'Blue']\n",
    "stat.mode(x) "
   ]
  },
  {
   "cell_type": "code",
   "execution_count": 10,
   "metadata": {},
   "outputs": [
    {
     "name": "stderr",
     "output_type": "stream",
     "text": [
      "/var/folders/3x/ds4ljhhn611fn_glg6pp102h0000gq/T/ipykernel_16020/1283058046.py:4: FutureWarning: Unlike other reduction functions (e.g. `skew`, `kurtosis`), the default behavior of `mode` typically preserves the axis it acts along. In SciPy 1.11.0, this behavior will change: the default value of `keepdims` will become False, the `axis` over which the statistic is taken will be eliminated, and the value None will no longer be accepted. Set `keepdims` to True or False to avoid this warning.\n",
      "  scipy.stats.mode(x)\n",
      "/var/folders/3x/ds4ljhhn611fn_glg6pp102h0000gq/T/ipykernel_16020/1283058046.py:4: DeprecationWarning: Support for non-numeric arrays has been deprecated as of SciPy 1.9.0 and will be removed in 1.11.0. `pandas.DataFrame.mode` can be used instead, see https://pandas.pydata.org/docs/reference/api/pandas.DataFrame.mode.html.\n",
      "  scipy.stats.mode(x)\n"
     ]
    },
    {
     "data": {
      "text/plain": [
       "ModeResult(mode=array(['Red'], dtype='<U5'), count=array([3]))"
      ]
     },
     "execution_count": 10,
     "metadata": {},
     "output_type": "execute_result"
    }
   ],
   "source": [
    "#using scipy with numpy\n",
    "import scipy\n",
    "\n",
    "scipy.stats.mode(x)"
   ]
  },
  {
   "cell_type": "markdown",
   "metadata": {},
   "source": [
    "Numerical data:"
   ]
  },
  {
   "cell_type": "code",
   "execution_count": 13,
   "metadata": {},
   "outputs": [
    {
     "data": {
      "text/plain": [
       "0    2\n",
       "dtype: int64"
      ]
     },
     "execution_count": 13,
     "metadata": {},
     "output_type": "execute_result"
    }
   ],
   "source": [
    "# mode using pandas is recommended - it will be deprecated in scipy\n",
    "x = pd.Series([ 2,3,4,3,2,6,2])\n",
    "\n",
    "x.mode()"
   ]
  },
  {
   "cell_type": "code",
   "execution_count": 15,
   "metadata": {},
   "outputs": [
    {
     "data": {
      "text/plain": [
       "0    2\n",
       "1    3\n",
       "dtype: int64"
      ]
     },
     "execution_count": 15,
     "metadata": {},
     "output_type": "execute_result"
    }
   ],
   "source": [
    "x = pd.Series([ 2,3,4,3,2,6,2,3])\n",
    "x.mode()"
   ]
  },
  {
   "cell_type": "code",
   "execution_count": 16,
   "metadata": {},
   "outputs": [
    {
     "data": {
      "text/plain": [
       "0    27\n",
       "1    35\n",
       "2    43\n",
       "3    46\n",
       "4    55\n",
       "Name: age, dtype: int64"
      ]
     },
     "execution_count": 16,
     "metadata": {},
     "output_type": "execute_result"
    }
   ],
   "source": [
    "# if all numbers have the same occurence, mode shows all\n",
    "df['age'].mode()"
   ]
  },
  {
   "cell_type": "markdown",
   "metadata": {},
   "source": [
    "### Measures of Dispersion"
   ]
  },
  {
   "cell_type": "markdown",
   "metadata": {},
   "source": [
    "- The mean may pose problems in terms of describing the data. It could be unrliable on its own for 2 reasons:\n",
    "    1. It's sensitive to ourliers\n",
    "    2. It may not be enough to describe the difference and full characteristics of datasets\n",
    "- Measure of Dispersion can help explain the differences between datasets if they share the same mean\n",
    "- It is also known as the measures of variability because they're used to understand the extend of spread or diversity"
   ]
  },
  {
   "cell_type": "code",
   "execution_count": 18,
   "metadata": {},
   "outputs": [],
   "source": [
    "# Dataset 1\n",
    "data1 = np.array([3,5,6,7,8])\n",
    "\n",
    "# Dataset 2\n",
    "data2 = np.array([2,5,5,8,9])\n",
    "\n",
    "# Dataset 3\n",
    "data3 = np.array([2,4,4,9,10])"
   ]
  },
  {
   "cell_type": "code",
   "execution_count": 20,
   "metadata": {},
   "outputs": [
    {
     "name": "stdout",
     "output_type": "stream",
     "text": [
      "Data 1 mean: 5.8\n",
      "Data 2 mean: 5.8\n",
      "Data 3 mean: 5.8\n"
     ]
    }
   ],
   "source": [
    "print('Data 1 mean:',np.mean(data1))\n",
    "print('Data 2 mean:',np.mean(data2))\n",
    "print('Data 3 mean:',np.mean(data3))"
   ]
  },
  {
   "cell_type": "markdown",
   "metadata": {},
   "source": [
    "**Observation** \n",
    "- Despite the fact all 3 datasets don't look the same, they have the same average. \n",
    "- The average/mean is not giving the full picture.\n",
    "- Therefore, we need another measure that explains that all 3 datasets are different"
   ]
  },
  {
   "cell_type": "code",
   "execution_count": 21,
   "metadata": {},
   "outputs": [
    {
     "name": "stdout",
     "output_type": "stream",
     "text": [
      "Data 1 mean: 1.7204650534085253\n",
      "Data 2 mean: 2.4819347291981715\n",
      "Data 3 mean: 3.1240998703626617\n"
     ]
    }
   ],
   "source": [
    "print('Data 1 mean:',np.std(data1))\n",
    "print('Data 2 mean:',np.std(data2))\n",
    "print('Data 3 mean:',np.std(data3))"
   ]
  },
  {
   "cell_type": "markdown",
   "metadata": {},
   "source": [
    "#### Standard Deviation\n",
    "![link text](https://labcontent.simplicdn.net/data-content/content-assets/Data_and_AI/ADSP_Images/Lesson_05_Data_Visualization/standard_deviation.png)\n"
   ]
  },
  {
   "cell_type": "markdown",
   "metadata": {},
   "source": [
    "\n",
    "- explains the dispersion of the data and shows that all 3 datasets above are different\n",
    "- It's the most popular measure of dispersion\n",
    "- It measures the spread of data around the mean\n",
    "- It's defined as the sum of squares of the deviation around the mean divided by the number of observations\n"
   ]
  },
  {
   "cell_type": "markdown",
   "metadata": {},
   "source": [
    "#### Variance\n",
    "- It's the expected value of the squared deviation from the mean\n",
    "- In other words, it's the squared value of the Standard Deviation"
   ]
  },
  {
   "cell_type": "markdown",
   "metadata": {},
   "source": [
    "#### Range\n",
    "- It's the difference between the largest and smallest data points in the dataset.\n",
    "- It's sensitive to outliers"
   ]
  },
  {
   "cell_type": "code",
   "execution_count": 23,
   "metadata": {},
   "outputs": [
    {
     "data": {
      "text/plain": [
       "28"
      ]
     },
     "execution_count": 23,
     "metadata": {},
     "output_type": "execute_result"
    }
   ],
   "source": [
    "df['age'].max() - df['age'].min()"
   ]
  },
  {
   "cell_type": "code",
   "execution_count": 25,
   "metadata": {},
   "outputs": [
    {
     "data": {
      "text/plain": [
       "4"
      ]
     },
     "execution_count": 25,
     "metadata": {},
     "output_type": "execute_result"
    }
   ],
   "source": [
    "#method 2\n",
    "x = [ 2,3,4,3,2,6,2,3]\n",
    "\n",
    "np.max(x) - np.min(x)"
   ]
  },
  {
   "cell_type": "markdown",
   "metadata": {},
   "source": [
    "#### Percentile"
   ]
  },
  {
   "cell_type": "code",
   "execution_count": 33,
   "metadata": {},
   "outputs": [
    {
     "data": {
      "text/plain": [
       "array([  1,   2,   3,   4,   5,   6,   7,   8,   9,  10,  11,  12,  13,\n",
       "        14,  15,  16,  17,  18,  19,  20,  21,  22,  23,  24,  25,  26,\n",
       "        27,  28,  29,  30,  31,  32,  33,  34,  35,  36,  37,  38,  39,\n",
       "        40,  41,  42,  43,  44,  45,  46,  47,  48,  49,  50,  51,  52,\n",
       "        53,  54,  55,  56,  57,  58,  59,  60,  61,  62,  63,  64,  65,\n",
       "        66,  67,  68,  69,  70,  71,  72,  73,  74,  75,  76,  77,  78,\n",
       "        79,  80,  81,  82,  83,  84,  85,  86,  87,  88,  89,  90,  91,\n",
       "        92,  93,  94,  95,  96,  97,  98,  99, 100])"
      ]
     },
     "execution_count": 33,
     "metadata": {},
     "output_type": "execute_result"
    }
   ],
   "source": [
    "x = np.arange(1,101)\n",
    "x"
   ]
  },
  {
   "cell_type": "code",
   "execution_count": 32,
   "metadata": {},
   "outputs": [
    {
     "data": {
      "text/plain": [
       "<Axes: >"
      ]
     },
     "execution_count": 32,
     "metadata": {},
     "output_type": "execute_result"
    },
    {
     "data": {
      "image/png": "[encoded data removed]",
      "text/plain": [
       "<Figure size 640x480 with 1 Axes>"
      ]
     },
     "metadata": {},
     "output_type": "display_data"
    }
   ],
   "source": [
    "pd.Series(x).plot()"
   ]
  },
  {
   "cell_type": "code",
   "execution_count": 34,
   "metadata": {},
   "outputs": [
    {
     "data": {
      "text/plain": [
       "4.8"
      ]
     },
     "execution_count": 34,
     "metadata": {},
     "output_type": "execute_result"
    }
   ],
   "source": [
    "x = np.array([1,2,3,6,8,9,12,23,10,11,5,3,17,14])\n",
    "percentile_30th = np.percentile(x, 30)\n",
    "percentile_30th"
   ]
  },
  {
   "cell_type": "code",
   "execution_count": 35,
   "metadata": {},
   "outputs": [
    {
     "data": {
      "text/plain": [
       "14"
      ]
     },
     "execution_count": 35,
     "metadata": {},
     "output_type": "execute_result"
    }
   ],
   "source": [
    "len(x)"
   ]
  },
  {
   "cell_type": "markdown",
   "metadata": {},
   "source": [
    "- 4.8 is the threshold where 70% of my data exists on the right side and 30% of my data exists on the left side\n",
    "- all data points above 4.8 are considered in the top 70 by value\n",
    "- all data points below 4.8 are considered in the bottom 30 by value"
   ]
  },
  {
   "cell_type": "code",
   "execution_count": 48,
   "metadata": {},
   "outputs": [
    {
     "data": {
      "text/plain": [
       "array([261.81164894,  89.14355899,   2.00632453,  17.24330599,\n",
       "       127.71935934,   8.05246935,  99.31860987, 283.81039242,\n",
       "       168.23109463,  74.97064234, 223.49299408, 258.27341534,\n",
       "       263.30608047, 298.4874089 , 101.2559078 , 265.79473063,\n",
       "        87.78416547, 224.80610165,  99.2487343 ,  55.86804772,\n",
       "       252.94516754,  17.34692119,  12.97857515,   6.03174802,\n",
       "       170.61942757, 106.45632326,  10.51173035, 117.78580521,\n",
       "       118.421084  , 223.76839166, 270.10110575, 299.06718002,\n",
       "       231.11299705, 217.90726089, 169.09385082, 239.36382447,\n",
       "        78.97359453, 242.60197337,  16.84720952,  51.13015389,\n",
       "        27.41614295, 245.29019234, 128.86417868, 111.16702536,\n",
       "       159.58612129,  64.13344325,  91.32721081,   7.24714321,\n",
       "       201.81821145, 195.71190067, 146.70346438, 140.61003022,\n",
       "        97.79650756, 149.84509376, 254.53026153, 138.44818406,\n",
       "       104.73462874, 114.52345528,  37.66754883, 176.53621884,\n",
       "       249.03278489, 206.7853389 , 111.97288046,  86.28388951,\n",
       "       268.15725638, 220.20971438, 160.28162422, 237.80915608,\n",
       "        29.03691153,  31.09879587, 224.87645603, 235.08199607,\n",
       "       211.9621068 , 164.4187149 , 204.77077854, 160.28150439,\n",
       "       257.80907   , 256.9996275 ,  32.56916924, 281.51133429,\n",
       "        71.15557385, 264.86382327, 143.29914229, 124.22782443,\n",
       "       139.44299161,  51.07703691, 154.46178852, 241.34672597,\n",
       "       204.22911129,  95.29922928, 227.64444324,  17.10270166,\n",
       "       217.11827088, 296.74796195,  45.01500524, 278.35714019,\n",
       "       175.09379055, 222.53467355, 245.92811435, 158.5341275 ,\n",
       "       103.04809692, 190.87629837,  62.06061697, 222.75196019,\n",
       "       220.39329608,  91.68749208,  20.13135558, 266.69604999,\n",
       "        47.62067647,  77.6916543 , 291.19140255, 183.05575967,\n",
       "       173.70813023, 127.73799401, 155.43547175, 265.14272276,\n",
       "       226.37594638,  20.61041959,  48.91025733, 230.52900594,\n",
       "       202.12701786,  63.94588831, 173.83619416, 160.19972017,\n",
       "        15.90236589, 221.4223623 , 166.56086409, 147.45033502,\n",
       "       180.77167588,  13.7967304 ,  53.91936824, 205.15268997,\n",
       "       299.75357547,  91.05039421, 195.21609378,  51.18429081,\n",
       "       128.28130162, 169.19930365, 122.18735525,  19.80023904,\n",
       "       223.35571948,  31.64604315, 115.70471717,   2.23697665,\n",
       "       209.84927868, 166.42623046, 127.09142417,  90.34724595,\n",
       "        13.37725109,  91.07815592,  46.28638182, 173.61973095,\n",
       "       296.37175979, 143.49566586, 168.97656031, 145.71774493,\n",
       "       265.54848853, 129.47939398, 178.21473458, 232.37885398,\n",
       "       124.14794605, 290.31071489,   8.88846269,  69.99745854,\n",
       "        10.45114255, 169.44127703,  70.9941073 , 291.83874758,\n",
       "        72.93835987,  43.85612786,  36.4143909 ,  34.43598961,\n",
       "       176.04868898, 182.53102077,  34.95892773, 156.47467813,\n",
       "       226.41847643,  76.83799178,   2.46564099, 299.29040675,\n",
       "        32.251962  , 179.66076729,  85.80409472,  99.60950749,\n",
       "        71.54617879,  77.27373062,  24.60683184,  90.96285732,\n",
       "       286.91947858,  46.62505653, 206.60731385, 132.94748259,\n",
       "       235.6905903 ,  59.66588312, 201.78304862, 165.04451658,\n",
       "       142.74928313, 220.42646884, 239.79046233,  59.52294605,\n",
       "       154.95165848,  23.4991609 , 226.72948612, 200.83483731,\n",
       "       299.3039786 ,  82.39629134,  63.82709699, 130.08631208,\n",
       "       193.65626924, 115.08262678, 101.13232273, 218.29640218,\n",
       "         8.34400982,  55.11473991, 154.28031635, 121.98457176,\n",
       "       118.4205084 ,  99.79210688, 202.51581267, 234.55959682,\n",
       "        35.29797504,  44.37420754, 267.25284524, 284.22135847,\n",
       "       260.70950215,  63.6452234 , 230.365258  , 101.1053632 ,\n",
       "       154.92211765,  80.49121828,  94.35023125, 159.79213384,\n",
       "       227.09591433,  26.64331095,  41.55146088, 128.99653126,\n",
       "       106.98569488,  81.99016057, 268.01194629,  39.550289  ,\n",
       "       168.3648867 , 223.54940909,   8.62942265,  21.10023905,\n",
       "       285.36103771, 111.86636373, 134.15839045,  87.37074481,\n",
       "       194.70686747, 269.22298667, 216.07234863,  71.98548504,\n",
       "       180.49821418, 283.42763279, 223.81254882, 290.18520248,\n",
       "       299.8534308 ,  55.17792915,  94.54330875, 179.30614543,\n",
       "       281.1032843 , 134.86108475,  86.1149895 ,  23.55849124,\n",
       "       192.85245463, 124.14709382, 266.59751101, 126.75448582,\n",
       "       181.91069994,  53.31919161,  27.15887755,   1.80509881,\n",
       "       294.44806223,  75.31005344,  84.52521557, 235.66610156,\n",
       "        23.44393667, 168.30729728,  48.38708762, 196.68947369,\n",
       "        49.10110128,  74.43270072, 234.56113228,  28.89712439,\n",
       "       287.99814807, 141.38606748, 159.06865555, 177.80725395,\n",
       "       213.50965019,  65.09636321, 170.61408234,  26.57116017,\n",
       "        11.59239429, 286.29598927, 233.40661358,  19.57573348,\n",
       "       157.52579717, 256.22280053, 238.65376319,  80.47846223,\n",
       "       291.10038704, 104.81297715, 127.34299914,   8.73216105,\n",
       "       166.73036337,  42.31454928, 232.70428212, 144.15568238,\n",
       "       156.15834214,  25.58456273,  36.61286137, 181.30666492,\n",
       "         1.9821581 , 132.88154039,  98.81988442,  37.44403932,\n",
       "       239.74890229,  88.41242085, 289.36846611, 186.06895061,\n",
       "       120.85926203,  60.72030963,   9.35725546, 200.62191306,\n",
       "        61.2639606 , 211.15159283, 215.08885041,  40.14192305,\n",
       "       115.01467833, 111.98196923, 213.81423728, 122.28450474,\n",
       "       116.14348545, 276.82113741, 212.57406241, 294.24417964,\n",
       "       130.8942042 , 260.78337656,  95.00625049,  34.43915464,\n",
       "        58.53258494, 230.66136365, 137.35015581, 219.76512022,\n",
       "        14.94929842,  42.51191864, 155.31957226, 147.57861377,\n",
       "       150.66448161, 235.2408003 , 167.80286157, 183.32218032,\n",
       "         5.35543843, 201.07164051, 213.78268438, 226.03675478,\n",
       "       175.17828449, 155.08078551, 131.57999569, 181.63744976,\n",
       "       209.69327376, 137.92432672, 296.22004608, 299.70316234,\n",
       "       258.5968864 ,  63.24063793, 287.65065615,  64.6602043 ,\n",
       "        13.54784067, 191.89341186, 165.83332421, 214.4331624 ,\n",
       "         3.08347161,  84.16306771,  94.8874945 , 239.75592204,\n",
       "       159.84537559, 153.91847822, 217.82368268,  13.07994946,\n",
       "       180.45522733, 263.56644376, 222.37120654, 280.11165758,\n",
       "       247.32672276, 243.93152302,  69.24621696, 118.20858912,\n",
       "        84.52365612,  45.89553207, 236.69289183, 189.73785199,\n",
       "        98.46979295,  90.2608057 , 114.63422935, 219.54001757,\n",
       "         1.57990576,  59.92498318, 275.12989754, 161.96268446,\n",
       "       235.53464286,  95.22397496, 240.41433974,  97.31897857,\n",
       "       136.97435293, 124.33524171, 252.10313909, 289.91847776,\n",
       "       207.18484047,  95.09140972, 183.38447595, 131.22440243,\n",
       "       196.12815702,  65.66484091, 167.09346244, 260.81381295,\n",
       "       249.32258075,  46.61651557, 133.28913513, 175.67366907,\n",
       "       206.52363537, 128.50539093, 268.4120889 ,  56.940968  ,\n",
       "       177.90730292, 212.74636701, 157.75734551,  18.33180601,\n",
       "       116.53032817, 194.3110488 ,  35.69242734,  37.43655212,\n",
       "       277.11666227,  73.24380182, 260.0088529 ,  37.03247659,\n",
       "       194.36805187, 219.8587947 ,   2.15146508,  21.72819504,\n",
       "        28.28385989, 276.51347131, 233.92539836,  63.14585436,\n",
       "        57.5777999 , 252.60025219, 253.1801    ,  41.44666134,\n",
       "       254.30751613, 252.57652347,  97.3099856 , 162.59594147,\n",
       "       129.86405358, 101.1157979 , 122.76822736,  86.58141806,\n",
       "        63.77643331, 271.21413664, 260.59692439, 274.19677196,\n",
       "       206.33917338, 170.75890445, 183.84892193, 292.275997  ,\n",
       "        67.88763779, 284.45612535, 214.89703657, 246.26027214,\n",
       "       185.72032147, 208.75802646,  81.63002777,  63.80704472,\n",
       "        26.89325062, 229.00036078, 257.19060156, 177.9072763 ,\n",
       "        16.61677469,  30.0560614 ,  64.2916516 ,  21.23352613,\n",
       "       130.75532125, 217.90856931, 102.21869127, 288.41988833,\n",
       "        93.24146785, 193.08493324, 171.05615704,  55.52500928,\n",
       "       251.88718142,  55.23451956, 254.28306903,  94.83419656,\n",
       "        60.16468272,  87.31799211,  73.5122169 , 266.76362859,\n",
       "       257.21254049, 233.56691052, 279.84741163, 120.91976127,\n",
       "        52.51922556, 277.58654166, 140.6374354 , 124.45282592,\n",
       "       163.59627916, 234.54800224, 104.15977421, 161.13522837,\n",
       "       268.84861535,  18.36800766, 232.70836493,  90.9912696 ,\n",
       "        37.0268633 ,  88.88189899, 271.01148766, 261.55597917,\n",
       "        15.93624602,  57.7174413 , 120.08324586,  79.63063244,\n",
       "       218.11228204, 207.32698719,  54.19215899, 248.85476147,\n",
       "       115.72806836,  37.84442925, 265.39107838,  80.42498001,\n",
       "        74.84683409, 130.23078019,  67.39026708, 253.78893066,\n",
       "       266.27926025,  71.76216734, 152.03937768, 179.52854676,\n",
       "       222.93887589, 200.08613473, 257.09165159,  46.58311346,\n",
       "       153.138129  , 155.65927155, 179.74729016, 167.26812613,\n",
       "       186.66642972,  19.13263295,   4.53955446, 171.90601098,\n",
       "        14.38458007, 110.08297627, 219.3109328 , 124.33175989,\n",
       "       174.02766092, 169.99695405, 149.54831521, 177.39840167,\n",
       "        24.37909731, 161.68202431,  51.61209246,  42.57893634,\n",
       "       174.37414462, 272.91910374,  46.43493566, 109.26030273,\n",
       "       156.97078839, 194.10108622, 179.27542033, 274.69033564,\n",
       "        29.76939499,  98.01585557,  63.82682132, 225.61861215,\n",
       "        43.46297281,  13.05365619, 143.12684812,  84.75874579,\n",
       "       168.92468031, 241.91040682, 158.83592861, 158.76122371,\n",
       "       278.9532737 ,  86.19703141, 246.99850205,  95.67788649,\n",
       "       137.63945177, 170.2953259 , 193.20030008, 269.29254693,\n",
       "       208.29369906, 126.02556768,  75.89680237,  24.16477875,\n",
       "       208.23445694, 164.11966772, 224.5006203 ,  95.68638479,\n",
       "       185.26139946, 220.90427046, 154.40187323, 191.07097071,\n",
       "       116.26649199, 283.09043443, 149.26878173, 206.7799308 ,\n",
       "       171.25681438, 275.12610521, 279.55319992, 137.20153263,\n",
       "       295.12581637, 164.90141411, 217.81478424,  77.292517  ,\n",
       "        64.00142069, 115.81251513, 206.03680671,   5.98957914,\n",
       "       192.17056707,  56.05526671, 211.55766531, 149.08202194,\n",
       "       224.60632436,   6.4428669 ,   7.03839838, 137.46620857,\n",
       "        29.51193392,  31.32623037, 180.98299678, 290.09539331,\n",
       "       112.95172512, 184.36032558, 166.49519065,  39.30288601,\n",
       "       219.42116116, 225.74954696, 264.3647933 , 232.20033692,\n",
       "       252.38669538,  45.92931969, 166.62811533, 185.85324874,\n",
       "       292.2096787 , 114.01244684, 162.24293356, 281.03087666,\n",
       "       142.00978524, 212.13532653, 125.90411338, 273.82130675,\n",
       "       174.70575931, 212.0613509 , 254.54549758, 249.23460215,\n",
       "       119.64367602,  32.91469951, 192.77647166, 278.62872468,\n",
       "       293.92454813,  25.39283203,  14.5342229 , 136.18897126,\n",
       "        98.70674129, 104.9854874 , 203.24678413,  49.43947459,\n",
       "       143.50797291, 169.33437989, 116.91154719, 104.68622369,\n",
       "        94.23398363, 133.34055287, 171.16957145, 157.38473963,\n",
       "       276.21976435, 299.0382731 ,  72.57813703,   2.42828793,\n",
       "       194.67681309, 265.63880562,  83.62040222, 154.49989394,\n",
       "       277.6078564 , 133.81103232, 219.86921351, 140.41775933,\n",
       "        40.61440593, 144.37856117, 279.30363061,  24.13066575,\n",
       "        46.45270307, 121.11743711, 239.76241938, 291.29775429,\n",
       "       210.93790357, 132.08269296, 245.77736152,   5.38434667,\n",
       "        15.67590958,  88.06502753, 144.61329309,  68.11894244,\n",
       "        40.95044542,  68.13298389,  49.17165412,  68.32744165,\n",
       "        77.84599523,  40.90450073,  85.50838513,  96.60151507,\n",
       "       197.96905836, 209.63932836, 192.6255788 ,  80.35868472,\n",
       "       225.67029695, 200.05964316, 186.17391195, 286.35326108,\n",
       "       132.31930064, 277.81093595, 253.04300163, 127.65629209,\n",
       "       134.19262386, 225.71413633,  19.22234363, 114.16215724,\n",
       "       156.95922   , 241.51270503,  66.58036012,   2.74488365,\n",
       "       188.42297437, 237.6195801 ,  10.04373924, 261.3340207 ,\n",
       "       204.09694073,  25.32075762, 233.57723032, 284.06654208,\n",
       "       243.82944378,  89.98507607, 134.92985005,   2.49591108,\n",
       "       273.11035645,  37.68875415, 183.86532457, 192.60787552,\n",
       "       294.95685705, 253.08801392, 213.20717145, 129.97724752,\n",
       "        97.73920251, 126.75308318, 157.40951036,  58.44986167,\n",
       "       264.46455042, 256.44570132, 219.46443353,  30.53312912,\n",
       "       216.23273991,  90.93919606,  44.13741106, 144.28982367,\n",
       "       162.16807274,  95.3160174 , 134.91608704, 247.63586207,\n",
       "       201.5467638 , 294.42101588,  72.47444334, 125.2689475 ,\n",
       "       235.59720075, 111.05319109, 246.28190352,  84.98577367,\n",
       "        46.08936492,  99.215766  , 285.10766094, 232.93150212,\n",
       "       163.4297667 ,  96.86628293,  61.12837686, 151.9120765 ,\n",
       "       237.32031724,   4.90313227, 282.77370231, 154.14300621,\n",
       "       142.49128591,  92.50354759, 175.06392163, 109.06955044,\n",
       "       109.15620953,  21.72192851, 171.74751914,  31.42345749,\n",
       "        14.85372086,  85.28257557, 293.38635545, 175.6923699 ,\n",
       "       168.63106004,  45.24792636, 187.16540358, 163.51469735,\n",
       "       232.8875299 , 270.15881382,  62.63666737,  21.70736197,\n",
       "        84.92832555, 274.27839851, 176.58933005, 264.36482297,\n",
       "       111.07367555, 201.08609862, 272.25951303,  64.55621802,\n",
       "         1.63945265,  92.54482965,  30.13741397, 213.24973572,\n",
       "        12.89944184,  30.80324659, 273.15045531,  27.12884376,\n",
       "       109.46910877, 105.07026363, 247.33674272, 177.06486174,\n",
       "       218.01397792, 183.38886775, 298.97408818,  30.15144491,\n",
       "       187.80894081, 234.24419382,  95.30167056,  33.90787457,\n",
       "       241.60998272, 150.04303566, 141.98583688, 149.11710228,\n",
       "        77.91659759, 187.04217191,  78.58622853, 100.78303941,\n",
       "       101.64820425, 104.19387918, 113.41973001,  82.9464649 ,\n",
       "       258.36335293, 168.33108371, 231.56171755, 100.74276633,\n",
       "        75.85081163,  82.4705288 , 166.57446744, 243.20966872,\n",
       "       238.62544658,  53.83572244, 110.17475459, 252.62013454,\n",
       "       106.10751194,  61.28044685, 262.236738  ,  32.99857374,\n",
       "       156.20332296,  74.96528403, 243.47022481, 205.55308705,\n",
       "       269.67808269, 168.8013776 , 210.06148248, 106.91716042,\n",
       "        37.16388852, 112.04325357,  55.22697765, 154.87980609,\n",
       "        12.56353606, 157.75240318,  96.86056479,  93.01712711,\n",
       "        32.76825642, 171.81189581, 227.82750597,  94.47968891,\n",
       "       120.95066857, 146.32759778, 237.89890416,  96.19236706,\n",
       "       222.6832946 , 189.6894709 ,  17.22430967, 101.85726834,\n",
       "        35.86238775, 147.08124298, 263.19092446,  89.09968163,\n",
       "       281.72818562, 276.68685949, 297.37492705, 236.09023414,\n",
       "        74.89952384, 226.84788093,  46.11683725,   5.64552062,\n",
       "       249.44041465, 211.40038589,  26.76122785,  92.20430103,\n",
       "       180.36225066,  41.57545947,  15.72393157,  29.4801531 ,\n",
       "       183.61209744,  38.00302016,  36.50848284, 288.83253097,\n",
       "       170.96830105, 178.22606814, 139.72104896, 182.29346968,\n",
       "        52.52652689,  96.62373055, 178.57539111, 200.1852928 ,\n",
       "       285.33983216, 164.97864381, 165.5070948 , 204.28831642,\n",
       "       162.52716821, 264.20280493,  31.73838553, 297.39608019,\n",
       "        48.8008557 ,  38.07296797, 208.97115649,  52.81369336,\n",
       "       174.30044522,  28.49208613, 137.31163271,  51.98512454,\n",
       "       116.84790206,  20.07565678, 254.02906312, 242.98815245,\n",
       "       132.22330478, 158.58387299, 215.73756781,  82.13628054,\n",
       "       264.39715468,  11.74921872, 246.94684117, 104.71550596,\n",
       "       116.86216833, 246.12652068, 230.5045422 , 176.32783108,\n",
       "       209.12470568, 105.66398838, 210.70123645, 257.50484963,\n",
       "        79.09607744,  37.9226428 , 178.9464367 ,  27.03686968,\n",
       "       148.96352033, 121.88882653,  82.56101819, 169.25829819,\n",
       "         2.65547026, 187.18316592,  92.30945067, 217.33177145,\n",
       "        56.4349811 , 296.72071316, 246.64128722,  50.2553255 ,\n",
       "       161.77055325, 111.96149608,  39.53012356, 120.81842799,\n",
       "       233.02997121, 219.4421931 , 273.04980743, 257.25349186,\n",
       "       158.14777114, 270.56414454, 202.63642474, 116.54311888,\n",
       "       221.56663959, 183.10905004, 264.53129498, 115.03796803,\n",
       "       108.07592266, 181.94948261, 215.9660061 , 145.93778418,\n",
       "       244.05554352,  46.72737513,  73.1973945 ,  34.137386  ,\n",
       "       279.38423797,  67.51308258, 253.40733232, 275.79542541])"
      ]
     },
     "execution_count": 48,
     "metadata": {},
     "output_type": "execute_result"
    }
   ],
   "source": [
    "arr = np.random.uniform(1,300, 1000)\n",
    "arr"
   ]
  },
  {
   "cell_type": "code",
   "execution_count": 51,
   "metadata": {},
   "outputs": [
    {
     "data": {
      "text/plain": [
       "299.8534308004818"
      ]
     },
     "execution_count": 51,
     "metadata": {},
     "output_type": "execute_result"
    }
   ],
   "source": [
    "arr.max()"
   ]
  },
  {
   "cell_type": "code",
   "execution_count": 49,
   "metadata": {},
   "outputs": [
    {
     "data": {
      "text/plain": [
       "<Axes: >"
      ]
     },
     "execution_count": 49,
     "metadata": {},
     "output_type": "execute_result"
    },
    {
     "data": {
      "image/png": "[encoded data removed]",
      "text/plain": [
       "<Figure size 640x480 with 1 Axes>"
      ]
     },
     "metadata": {},
     "output_type": "display_data"
    }
   ],
   "source": [
    "pd.Series(arr).plot.box()"
   ]
  },
  {
   "cell_type": "code",
   "execution_count": 50,
   "metadata": {},
   "outputs": [
    {
     "data": {
      "text/plain": [
       "count    1000.000000\n",
       "mean      148.883806\n",
       "std        85.032274\n",
       "min         1.579906\n",
       "25%        77.287820\n",
       "50%       154.030742\n",
       "75%       221.033793\n",
       "max       299.853431\n",
       "dtype: float64"
      ]
     },
     "execution_count": 50,
     "metadata": {},
     "output_type": "execute_result"
    }
   ],
   "source": [
    "pd.Series(arr).describe()"
   ]
  },
  {
   "cell_type": "markdown",
   "metadata": {},
   "source": [
    "- 50% of my population is below 154. This point is also called the **median**.\n",
    "- a quarter of my population is below 77 (25th percentile).\n",
    "- 3 quarters of my population is below 221 (75th percentile).\n",
    "- 299.85 is the max - also called the 100th percentile.\n",
    "- 25, 50, and 75 are also called **quartiles** because they divide the data into 4 quarters."
   ]
  },
  {
   "cell_type": "markdown",
   "metadata": {},
   "source": [
    "#### Interquartile Range\n",
    "\n",
    "![link text](https://blogmedia.testbook.com/blog/wp-content/uploads/2022/07/interquartile-range_1-8412ebed.png)"
   ]
  },
  {
   "cell_type": "markdown",
   "metadata": {},
   "source": [
    "- The interquartile range is the distance between Q1 and Q3 (25th and 75th percentiles)\n",
    "- It describes the middle 50% of the observations\n",
    "- It is used to derive formulas for upper and lower ranges for outlier treatment"
   ]
  },
  {
   "cell_type": "markdown",
   "metadata": {},
   "source": [
    "### Measures of Shape"
   ]
  },
  {
   "cell_type": "markdown",
   "metadata": {},
   "source": [
    "#### Skewness\n",
    "\n",
    "![link text](https://labcontent.simplicdn.net/data-content/content-assets/Data_and_AI/ADSP_Images/Lesson_05_Data_Visualization/skew.png)"
   ]
  },
  {
   "cell_type": "code",
   "execution_count": 52,
   "metadata": {},
   "outputs": [
    {
     "data": {
      "text/plain": [
       "8.5"
      ]
     },
     "execution_count": 52,
     "metadata": {},
     "output_type": "execute_result"
    }
   ],
   "source": [
    "a = [5,7,10,12]\n",
    "np.mean(a)"
   ]
  },
  {
   "cell_type": "code",
   "execution_count": 54,
   "metadata": {},
   "outputs": [
    {
     "data": {
      "text/plain": [
       "18.0"
      ]
     },
     "execution_count": 54,
     "metadata": {},
     "output_type": "execute_result"
    }
   ],
   "source": [
    "b = [5,7,10,50]\n",
    "np.mean(b)"
   ]
  },
  {
   "cell_type": "markdown",
   "metadata": {},
   "source": [
    "- in array a, the average is giving a good representation of the center of the data\n",
    "- array b, on the other hand, has extreme values and the average is not a good representation of the center of the data\n",
    "- b is skewed because of it's extreme value or long tail"
   ]
  },
  {
   "cell_type": "code",
   "execution_count": 56,
   "metadata": {},
   "outputs": [
    {
     "data": {
      "text/plain": [
       "1.1232115519647907"
      ]
     },
     "execution_count": 56,
     "metadata": {},
     "output_type": "execute_result"
    }
   ],
   "source": [
    "from scipy.stats import skew\n",
    "skew(b)"
   ]
  },
  {
   "cell_type": "markdown",
   "metadata": {},
   "source": [
    "B is positively skewed because the number is higher than 0"
   ]
  },
  {
   "cell_type": "markdown",
   "metadata": {},
   "source": [
    "![meanmedianmode.png](https://s3.us-east-1.amazonaws.com/static2.simplilearn.com/lms/testpaper_images/ADSP/Advanced_Statistics/Probimages/Statistics_Fundamentals/Statistics_Notebookupdated/meanmedianmode.png)"
   ]
  },
  {
   "cell_type": "markdown",
   "metadata": {},
   "source": [
    "- Positive Skew (Right Skew): if the skewness value > 0 (positive), the distribution tail is stretched more to the **right** side of the x-axis\n",
    "- Negative Skew (Left Skew): if the skewness value <> 0 (negative), the distribution tail is stretched more to the **left** side of the x-axis\n",
    "- Zero Skewness: the value is or very close to zero. The distribution is fairly symmetric.\n"
   ]
  },
  {
   "cell_type": "code",
   "execution_count": 59,
   "metadata": {},
   "outputs": [
    {
     "data": {
      "text/plain": [
       "-0.6832289141093296"
      ]
     },
     "execution_count": 59,
     "metadata": {},
     "output_type": "execute_result"
    }
   ],
   "source": [
    "#example of negative skew\n",
    "\n",
    "c = [0.04,7,12,11]\n",
    "skew(c)"
   ]
  },
  {
   "cell_type": "markdown",
   "metadata": {},
   "source": [
    "#### Kurtosis\n",
    "![link text](https://labcontent.simplicdn.net/data-content/content-assets/Data_and_AI/ADSP_Images/Lesson_05_Data_Visualization/kurtosis.png)"
   ]
  },
  {
   "cell_type": "markdown",
   "metadata": {},
   "source": [
    "- Data with high kurtosis tend to have heavy tails or outliers\n",
    "- If Kurtosis is low, there will be minimum outliers\n",
    "- A minimum kurotsis shows that the data is normally distributed"
   ]
  },
  {
   "cell_type": "markdown",
   "metadata": {},
   "source": [
    "![positivenegativekurt.PNG](https://s3.us-east-1.amazonaws.com/static2.simplilearn.com/lms/testpaper_images/ADSP/Advanced_Statistics/Probimages/Statistics_Fundamentals/Statistics_Notebookupdated/positivenegativekurt.PNG)"
   ]
  },
  {
   "cell_type": "markdown",
   "metadata": {},
   "source": [
    "#### Covariance and Correlation\n",
    "- Previous measures fall under the category of **Univariate** Analysis as it deals with a single variable/array/column/series.\n",
    "- Covariance and Correlation, on the other hand, deal with **Multivariate** Analysis (Relationship between 2 or more variables)\n",
    "- They measure the relationship and dependency between two variables.\n",
    "- numerical variables only"
   ]
  },
  {
   "cell_type": "markdown",
   "metadata": {},
   "source": [
    "#### Covariance"
   ]
  },
  {
   "cell_type": "markdown",
   "metadata": {},
   "source": [
    "![covsample.PNG](https://s3.us-east-1.amazonaws.com/static2.simplilearn.com/lms/testpaper_images/ADSP/Advanced_Statistics/Probimages/Statistics_Fundamentals/Statistics_Notebookupdated/covsample.PNG)\n",
    "- It gives the direction of the relationship\n",
    "- The direction value can be interpreted as:\n",
    "    - Negative means if x goes up, y goes down (and vice-versa)\n",
    "    - Positive means if x goes up, y goes up (and vice-versa)"
   ]
  },
  {
   "cell_type": "markdown",
   "metadata": {},
   "source": [
    "#### Correlation\n",
    "![corelation.PNG](https://s3.us-east-1.amazonaws.com/static2.simplilearn.com/lms/testpaper_images/ADSP/Advanced_Statistics/Probimages/Statistics_Fundamentals/Statistics_Notebookupdated/corelation.PNG)\n",
    "- Correlation is the most common measure of the two and most useful\n",
    "- Also called the Pearson correlation\n",
    "- It provides both relationship direction and magnitude (correlation coefficient)\n",
    "- Correlation Coefficient Value Interpretation: It ranges between -1 and 1\n",
    "    - 0 or close to 0 means no or very low correlation\n",
    "    - close to -1 means the two variables are highly negatively correlated\n",
    "    - close to 1 means the two variables are highly positively correlated"
   ]
  },
  {
   "cell_type": "code",
   "execution_count": 62,
   "metadata": {},
   "outputs": [
    {
     "data": {
      "text/html": [
       "<div>\n",
       "<style scoped>\n",
       "    .dataframe tbody tr th:only-of-type {\n",
       "        vertical-align: middle;\n",
       "    }\n",
       "\n",
       "    .dataframe tbody tr th {\n",
       "        vertical-align: top;\n",
       "    }\n",
       "\n",
       "    .dataframe thead th {\n",
       "        text-align: right;\n",
       "    }\n",
       "</style>\n",
       "<table border=\"1\" class=\"dataframe\">\n",
       "  <thead>\n",
       "    <tr style=\"text-align: right;\">\n",
       "      <th></th>\n",
       "      <th>income</th>\n",
       "      <th>age</th>\n",
       "      <th>health_score</th>\n",
       "      <th>movies_watched</th>\n",
       "    </tr>\n",
       "  </thead>\n",
       "  <tbody>\n",
       "    <tr>\n",
       "      <th>0</th>\n",
       "      <td>10000</td>\n",
       "      <td>25</td>\n",
       "      <td>95</td>\n",
       "      <td>7</td>\n",
       "    </tr>\n",
       "    <tr>\n",
       "      <th>1</th>\n",
       "      <td>20000</td>\n",
       "      <td>34</td>\n",
       "      <td>60</td>\n",
       "      <td>4</td>\n",
       "    </tr>\n",
       "    <tr>\n",
       "      <th>2</th>\n",
       "      <td>15000</td>\n",
       "      <td>27</td>\n",
       "      <td>90</td>\n",
       "      <td>4</td>\n",
       "    </tr>\n",
       "    <tr>\n",
       "      <th>3</th>\n",
       "      <td>25000</td>\n",
       "      <td>37</td>\n",
       "      <td>57</td>\n",
       "      <td>9</td>\n",
       "    </tr>\n",
       "  </tbody>\n",
       "</table>\n",
       "</div>"
      ],
      "text/plain": [
       "   income  age  health_score  movies_watched\n",
       "0   10000   25            95               7\n",
       "1   20000   34            60               4\n",
       "2   15000   27            90               4\n",
       "3   25000   37            57               9"
      ]
     },
     "execution_count": 62,
     "metadata": {},
     "output_type": "execute_result"
    }
   ],
   "source": [
    "data = {\n",
    "            'income':[10000, 20000, 15000, 25000],\n",
    "            'age': [25, 34, 27, 37],\n",
    "            'health_score': [95, 60, 90, 57],\n",
    "            'movies_watched': [7,4,4,9] \n",
    "}\n",
    "\n",
    "df = pd.DataFrame(data)\n",
    "df"
   ]
  },
  {
   "cell_type": "code",
   "execution_count": 63,
   "metadata": {},
   "outputs": [
    {
     "data": {
      "text/html": [
       "<div>\n",
       "<style scoped>\n",
       "    .dataframe tbody tr th:only-of-type {\n",
       "        vertical-align: middle;\n",
       "    }\n",
       "\n",
       "    .dataframe tbody tr th {\n",
       "        vertical-align: top;\n",
       "    }\n",
       "\n",
       "    .dataframe thead th {\n",
       "        text-align: right;\n",
       "    }\n",
       "</style>\n",
       "<table border=\"1\" class=\"dataframe\">\n",
       "  <thead>\n",
       "    <tr style=\"text-align: right;\">\n",
       "      <th></th>\n",
       "      <th>income</th>\n",
       "      <th>age</th>\n",
       "      <th>health_score</th>\n",
       "      <th>movies_watched</th>\n",
       "    </tr>\n",
       "  </thead>\n",
       "  <tbody>\n",
       "    <tr>\n",
       "      <th>income</th>\n",
       "      <td>1.000000</td>\n",
       "      <td>0.977525</td>\n",
       "      <td>-0.940153</td>\n",
       "      <td>0.316228</td>\n",
       "    </tr>\n",
       "    <tr>\n",
       "      <th>age</th>\n",
       "      <td>0.977525</td>\n",
       "      <td>1.000000</td>\n",
       "      <td>-0.987000</td>\n",
       "      <td>0.335480</td>\n",
       "    </tr>\n",
       "    <tr>\n",
       "      <th>health_score</th>\n",
       "      <td>-0.940153</td>\n",
       "      <td>-0.987000</td>\n",
       "      <td>1.000000</td>\n",
       "      <td>-0.233988</td>\n",
       "    </tr>\n",
       "    <tr>\n",
       "      <th>movies_watched</th>\n",
       "      <td>0.316228</td>\n",
       "      <td>0.335480</td>\n",
       "      <td>-0.233988</td>\n",
       "      <td>1.000000</td>\n",
       "    </tr>\n",
       "  </tbody>\n",
       "</table>\n",
       "</div>"
      ],
      "text/plain": [
       "                  income       age  health_score  movies_watched\n",
       "income          1.000000  0.977525     -0.940153        0.316228\n",
       "age             0.977525  1.000000     -0.987000        0.335480\n",
       "health_score   -0.940153 -0.987000      1.000000       -0.233988\n",
       "movies_watched  0.316228  0.335480     -0.233988        1.000000"
      ]
     },
     "execution_count": 63,
     "metadata": {},
     "output_type": "execute_result"
    }
   ],
   "source": [
    "df.corr()"
   ]
  },
  {
   "cell_type": "markdown",
   "metadata": {},
   "source": [
    "- Column `movies_watched` has no relationship with other column (low positive correlation with other columns)\n",
    "- Columns `income` and `age` have **high positive correlation**. If `age` goes up, `income` does too.\n",
    "- Columns `age` and `health_score` have **high negative correlation**. If `age` goes up, `health_score` goes down"
   ]
  },
  {
   "cell_type": "markdown",
   "metadata": {},
   "source": [
    "> Commonly, you want to find variables with absolute score higher than 60% or 0.6 (in both negative or positive directions) to say they are highly correlated"
   ]
  },
  {
   "cell_type": "code",
   "execution_count": null,
   "metadata": {},
   "outputs": [],
   "source": []
  }
 ],
 "metadata": {
  "kernelspec": {
   "display_name": "Python 3",
   "language": "python",
   "name": "python3"
  },
  "language_info": {
   "codemirror_mode": {
    "name": "ipython",
    "version": 3
   },
   "file_extension": ".py",
   "mimetype": "text/x-python",
   "name": "python",
   "nbconvert_exporter": "python",
   "pygments_lexer": "ipython3",
   "version": "3.11.3"
  }
 },
 "nbformat": 4,
 "nbformat_minor": 2
}
