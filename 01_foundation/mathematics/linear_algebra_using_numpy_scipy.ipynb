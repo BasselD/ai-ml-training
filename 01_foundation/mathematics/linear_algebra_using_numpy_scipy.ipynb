{
 "cells": [
  {
   "attachments": {},
   "cell_type": "markdown",
   "metadata": {},
   "source": [
    "# Linear Algebra with NumPy and SciPy"
   ]
  },
  {
   "cell_type": "code",
   "execution_count": 2,
   "metadata": {},
   "outputs": [
    {
     "name": "stdout",
     "output_type": "stream",
     "text": [
      "Rank of A: 3\n"
     ]
    }
   ],
   "source": [
    "import numpy as np\n",
    " \n",
    "A = np.array([[6, 1, 1],\n",
    "              [4, -2, 5],\n",
    "              [2, 8, 7]])\n",
    " \n",
    "# Rank of a matrix\n",
    "print(\"Rank of A:\", np.linalg.matrix_rank(A))"
   ]
  },
  {
   "cell_type": "code",
   "execution_count": 3,
   "metadata": {},
   "outputs": [
    {
     "name": "stdout",
     "output_type": "stream",
     "text": [
      "\n",
      "Determinant of A: -306.0\n",
      "\n",
      "Inverse of A:\n",
      " [[ 0.17647059 -0.00326797 -0.02287582]\n",
      " [ 0.05882353 -0.13071895  0.08496732]\n",
      " [-0.11764706  0.1503268   0.05228758]]\n"
     ]
    }
   ],
   "source": [
    " \n",
    "# Determinant of a matrix\n",
    "print(\"\\nDeterminant of A:\", np.linalg.det(A))\n",
    " \n",
    "# Inverse of matrix A\n",
    "print(\"\\nInverse of A:\\n\", np.linalg.inv(A))\n",
    " \n",
    "#print(\"\\nMatrix A raised to power 3:\\n\",\n",
    "#           np.linalg.matrix_power(A, 3))"
   ]
  },
  {
   "attachments": {},
   "cell_type": "markdown",
   "metadata": {},
   "source": [
    "The trace of a square matrix is the sum of its diagonal entries."
   ]
  },
  {
   "attachments": {},
   "cell_type": "markdown",
   "metadata": {},
   "source": [
    "![tr](https://media.geeksforgeeks.org/wp-content/uploads/20221119211255/tm2.jpg)"
   ]
  },
  {
   "cell_type": "code",
   "execution_count": 4,
   "metadata": {},
   "outputs": [
    {
     "name": "stdout",
     "output_type": "stream",
     "text": [
      "\n",
      "Trace of A: 11\n"
     ]
    }
   ],
   "source": [
    "# Trace of matrix A\n",
    "print(\"\\nTrace of A:\", np.trace(A))"
   ]
  },
  {
   "cell_type": "code",
   "execution_count": 5,
   "metadata": {},
   "outputs": [
    {
     "data": {
      "text/plain": [
       "5"
      ]
     },
     "execution_count": 5,
     "metadata": {},
     "output_type": "execute_result"
    }
   ],
   "source": [
    "# dot product\n",
    "np.dot([3,2,6],[1,7,-2]) "
   ]
  },
  {
   "cell_type": "code",
   "execution_count": 6,
   "metadata": {},
   "outputs": [
    {
     "name": "stdout",
     "output_type": "stream",
     "text": [
      "[[1 2]\n",
      " [3 4]] \n",
      " [[11 12]\n",
      " [13 14]]\n"
     ]
    }
   ],
   "source": [
    "#bigger arrays\n",
    "\n",
    "a = np.array([[1,2],[3,4]]) \n",
    "b = np.array([[11,12],[13,14]]) \n",
    "print(a,'\\n',b)"
   ]
  },
  {
   "cell_type": "code",
   "execution_count": 7,
   "metadata": {},
   "outputs": [
    {
     "data": {
      "text/plain": [
       "array([[37, 40],\n",
       "       [85, 92]])"
      ]
     },
     "execution_count": 7,
     "metadata": {},
     "output_type": "execute_result"
    }
   ],
   "source": [
    "np.dot(a,b)"
   ]
  },
  {
   "cell_type": "code",
   "execution_count": 8,
   "metadata": {},
   "outputs": [
    {
     "name": "stdout",
     "output_type": "stream",
     "text": [
      "[[19 22]\n",
      " [43 50]]\n"
     ]
    }
   ],
   "source": [
    "# Create matrices a and b.\n",
    "a = np.array([[1, 2],\n",
    "              [3, 4]])\n",
    "\n",
    "b = np.array([[5, 6],\n",
    "              [7, 8]])\n",
    "\n",
    "# Matrix multiplication using numpy.matmul()\n",
    "result = np.matmul(a, b)\n",
    "\n",
    "# Print the result.\n",
    "print(result)"
   ]
  },
  {
   "attachments": {},
   "cell_type": "markdown",
   "metadata": {},
   "source": [
    "**Difference between `matmul` and regular multiplication**\n",
    "- `matmul` is a function, while the multiplication symbol is an operator. This means that matmul takes two arguments, while the multiplication symbol only takes one.\n",
    "- `matmul` can be used to perform matrix multiplication on any two arrays, regardless of their shape. The multiplication symbol can only be used to perform matrix multiplication on arrays that have the same shape.\n",
    "- `matmul` is more efficient than the multiplication symbol. This is because matmul uses a specialized algorithm to perform matrix multiplication."
   ]
  },
  {
   "attachments": {},
   "cell_type": "markdown",
   "metadata": {},
   "source": []
  },
  {
   "cell_type": "code",
   "execution_count": 9,
   "metadata": {},
   "outputs": [
    {
     "data": {
      "text/plain": [
       "array([[ 5, 12],\n",
       "       [21, 32]])"
      ]
     },
     "execution_count": 9,
     "metadata": {},
     "output_type": "execute_result"
    }
   ],
   "source": [
    "a * b"
   ]
  },
  {
   "cell_type": "code",
   "execution_count": 10,
   "metadata": {},
   "outputs": [
    {
     "name": "stdout",
     "output_type": "stream",
     "text": [
      "Original array:\n",
      "[[1 2 3]\n",
      " [4 5 6]]\n",
      "Transposed array:\n",
      "[[1 4]\n",
      " [2 5]\n",
      " [3 6]]\n"
     ]
    }
   ],
   "source": [
    "# Using the NumPy function to find the transpose\n",
    "\n",
    "arr = np.array([[1, 2, 3],\n",
    "                [4, 5, 6]])\n",
    "\n",
    "transposed_arr = np.transpose(arr)\n",
    "\n",
    "print(\"Original array:\")\n",
    "print(arr)\n",
    "\n",
    "print(\"Transposed array:\")\n",
    "print(transposed_arr)"
   ]
  },
  {
   "cell_type": "code",
   "execution_count": 11,
   "metadata": {},
   "outputs": [
    {
     "data": {
      "text/plain": [
       "array([[1, 4],\n",
       "       [2, 5],\n",
       "       [3, 6]])"
      ]
     },
     "execution_count": 11,
     "metadata": {},
     "output_type": "execute_result"
    }
   ],
   "source": [
    "#shortcut\n",
    "arr.T"
   ]
  },
  {
   "cell_type": "code",
   "execution_count": 12,
   "metadata": {},
   "outputs": [
    {
     "name": "stdout",
     "output_type": "stream",
     "text": [
      "[[1. 0. 0.]\n",
      " [0. 1. 0.]\n",
      " [0. 0. 1.]]\n"
     ]
    }
   ],
   "source": [
    "\n",
    "# Create a 3x3 identity matrix \n",
    "\n",
    "identity_matrix = np.identity(3) \n",
    "\n",
    "print(identity_matrix)"
   ]
  },
  {
   "cell_type": "code",
   "execution_count": 13,
   "metadata": {},
   "outputs": [
    {
     "data": {
      "text/plain": [
       "array([[-0.39977163, -0.15150347,  0.14701712],\n",
       "       [ 0.36599509,  1.00972339, -0.33945665]])"
      ]
     },
     "execution_count": 13,
     "metadata": {},
     "output_type": "execute_result"
    }
   ],
   "source": [
    "a = np.random.randn(2,3) #randomly gneerate 2 x 3 matrix\n",
    "a"
   ]
  },
  {
   "attachments": {},
   "cell_type": "markdown",
   "metadata": {},
   "source": [
    "## Using SciPy"
   ]
  },
  {
   "cell_type": "code",
   "execution_count": 14,
   "metadata": {},
   "outputs": [
    {
     "data": {
      "text/plain": [
       "7.416198487095663"
      ]
     },
     "execution_count": 14,
     "metadata": {},
     "output_type": "execute_result"
    }
   ],
   "source": [
    "#get the norm of a vector\n",
    "from scipy import linalg\n",
    "v = [-1, -2, 3, 4, 5]\n",
    "linalg.norm(v)"
   ]
  },
  {
   "cell_type": "code",
   "execution_count": 15,
   "metadata": {},
   "outputs": [
    {
     "data": {
      "text/plain": [
       "array([[4, 5],\n",
       "       [3, 2]])"
      ]
     },
     "execution_count": 15,
     "metadata": {},
     "output_type": "execute_result"
    }
   ],
   "source": [
    "tw_d_arr = np.array([[4,5], [3,2]])\n",
    "tw_d_arr"
   ]
  },
  {
   "cell_type": "code",
   "execution_count": 16,
   "metadata": {},
   "outputs": [
    {
     "data": {
      "text/plain": [
       "-7.0"
      ]
     },
     "execution_count": 16,
     "metadata": {},
     "output_type": "execute_result"
    }
   ],
   "source": [
    "#get the determeinant of the array\n",
    "linalg.det(tw_d_arr)"
   ]
  },
  {
   "cell_type": "markdown",
   "metadata": {},
   "source": [
    "## Determinant Exercise"
   ]
  },
  {
   "cell_type": "markdown",
   "metadata": {},
   "source": [
    "**Formulate the following** </br>\n",
    "We have a certification test with 30 questions that are in total worth 150 points. They consist of two parts:\n",
    "1. T or F questions are worth 4 points each\n",
    "2. Multiple-choice questions are worth 9 points each\n",
    "\n",
    "How many questions do we have for each type?\n"
   ]
  },
  {
   "cell_type": "markdown",
   "metadata": {},
   "source": [
    "Assumptions:\n",
    " \n",
    "- Let x be the num of T/F questions\n",
    "- Let y be the num of multi-choice questions\n",
    "\n",
    "Then:\n",
    " \n",
    "$x + y = 30$\n",
    " \n",
    "$4x + 9y = 150$"
   ]
  },
  {
   "cell_type": "code",
   "execution_count": 17,
   "metadata": {},
   "outputs": [
    {
     "name": "stdout",
     "output_type": "stream",
     "text": [
      "[[1 1]\n",
      " [4 9]]\n"
     ]
    }
   ],
   "source": [
    "#grab the constants of the left side of each equation and place them in a matrix\n",
    "VarM = np.array([[1,1], \n",
    "                 [4,9]])\n",
    "print(VarM)"
   ]
  },
  {
   "cell_type": "code",
   "execution_count": 18,
   "metadata": {},
   "outputs": [
    {
     "name": "stdout",
     "output_type": "stream",
     "text": [
      "[ 30 150]\n"
     ]
    }
   ],
   "source": [
    "# define the right side of the equation (values)\n",
    "ValM = np.array([30,150])\n",
    "print(ValM)"
   ]
  },
  {
   "cell_type": "code",
   "execution_count": 20,
   "metadata": {},
   "outputs": [
    {
     "data": {
      "text/plain": [
       "array([24.,  6.])"
      ]
     },
     "execution_count": 20,
     "metadata": {},
     "output_type": "execute_result"
    }
   ],
   "source": [
    "np.linalg.solve(VarM,ValM)"
   ]
  },
  {
   "cell_type": "code",
   "execution_count": 19,
   "metadata": {},
   "outputs": [
    {
     "data": {
      "text/plain": [
       "array([24.,  6.])"
      ]
     },
     "execution_count": 19,
     "metadata": {},
     "output_type": "execute_result"
    }
   ],
   "source": [
    "# using scipy\n",
    "linalg.solve(VarM,ValM)"
   ]
  },
  {
   "cell_type": "markdown",
   "metadata": {},
   "source": [
    "### Eigenvalues and Eigenvectors:"
   ]
  },
  {
   "cell_type": "code",
   "execution_count": 21,
   "metadata": {},
   "outputs": [
    {
     "name": "stdout",
     "output_type": "stream",
     "text": [
      "Eigenvalues of A: [ 1.61168440e+01 -1.11684397e+00 -8.58274334e-16]\n",
      "Eigenvectors of A:\n",
      "[[-0.23197069 -0.78583024  0.40824829]\n",
      " [-0.52532209 -0.08675134 -0.81649658]\n",
      " [-0.8186735   0.61232756  0.40824829]]\n"
     ]
    }
   ],
   "source": [
    "import numpy as np\n",
    "\n",
    "# Create a matrix A\n",
    "A = np.array([[1, 2, 3], [4, 5, 6], [7, 8, 9]])\n",
    "\n",
    "# Find the eigenvalues and eigenvectors of A\n",
    "eigenvalues, eigenvectors = np.linalg.eig(A)\n",
    "\n",
    "print(\"Eigenvalues of A:\", eigenvalues)\n",
    "print(\"Eigenvectors of A:\")\n",
    "print(eigenvectors)\n"
   ]
  },
  {
   "cell_type": "markdown",
   "metadata": {},
   "source": [
    "## Application in DS and ML (Advanced)"
   ]
  },
  {
   "cell_type": "markdown",
   "metadata": {},
   "source": [
    "Eigenvalues and eigenvectors are fundamental concepts in linear algebra that have a wide range of applications in artificial intelligence (AI). They are particularly useful in machine learning and signal processing tasks.\n",
    "\n",
    "**Eigenvalues** represent the scaling factors by which a linear transformation, such as a matrix multiplication, maps vectors to other vectors. They are analogous to the principal components of a dataset, indicating the directions of maximum variance in the data. In machine learning, eigenvalues are used for feature extraction, dimensionality reduction, and clustering. For instance, principal component analysis (PCA) utilizes eigenvalues to identify the most significant features in a dataset, reducing its dimensionality while preserving the most important information.\n",
    "\n",
    "**Eigenvectors**, on the other hand, represent the directions along which the linear transformation operates. They provide insights into the inherent structure of the data and can be used to identify patterns and relationships between different data points. In AI, eigenvectors are employed for various tasks, including:\n",
    "\n",
    "1. **Feature Extraction:** Eigenvectors can be used to extract the most important features from a dataset, helping to reduce noise and improve the performance of machine learning algorithms.\n",
    "\n",
    "2. **Dimensionality Reduction:** By identifying the eigenvectors corresponding to the largest eigenvalues, we can reduce the dimensionality of a dataset while retaining the most relevant information. This can be particularly useful for high-dimensional datasets where computational resources are limited.\n",
    "\n",
    "3. **Clustering:** Eigenvectors can be used to group data points into clusters based on their similarities, aiding in unsupervised learning tasks.\n",
    "\n",
    "4. **Pattern Recognition:** Eigenvectors can be used to identify patterns and relationships in data, which is crucial for tasks like image and speech recognition.\n",
    "\n",
    "5. **Signal Processing:** Eigenvectors play a vital role in signal processing techniques like filtering and compression.\n",
    "\n",
    "In summary, eigenvalues and eigenvectors are powerful tools for analyzing data and extracting meaningful information. Their applications in AI span a wide range of tasks, making them essential for various machine learning and signal processing applications."
   ]
  },
  {
   "cell_type": "markdown",
   "metadata": {},
   "source": [
    "**Example 1: Feature Extraction Using PCA**"
   ]
  },
  {
   "cell_type": "code",
   "execution_count": null,
   "metadata": {},
   "outputs": [],
   "source": [
    "import numpy as np\n",
    "from sklearn.decomposition import PCA\n",
    "\n",
    "# Create a dataset\n",
    "data = np.array([[1, 2, 3], [4, 5, 6], [7, 8, 9], [10, 11, 12]])\n",
    "\n",
    "# Perform PCA using 2 principal components\n",
    "pca = PCA(n_components=2)\n",
    "transformed_data = pca.fit_transform(data)\n",
    "\n",
    "# Extract the principal components\n",
    "principal_components = pca.components_\n",
    "\n",
    "print(\"Principal Components:\")\n",
    "print(principal_components)"
   ]
  },
  {
   "cell_type": "markdown",
   "metadata": {},
   "source": [
    "This example demonstrates how PCA, a technique based on eigenvalues and eigenvectors, is used to identify the two most significant features (principal components) in the dataset."
   ]
  },
  {
   "cell_type": "markdown",
   "metadata": {},
   "source": [
    "**Example 2: Dimensionality Reduction Using Eigenvectors**"
   ]
  },
  {
   "cell_type": "code",
   "execution_count": 3,
   "metadata": {},
   "outputs": [
    {
     "name": "stdout",
     "output_type": "stream",
     "text": [
      "Reduced Data:\n",
      "[[ -6.70820393  -0.32327544]\n",
      " [-17.88854382  -0.32327544]\n",
      " [-29.06888371  -0.32327544]]\n"
     ]
    }
   ],
   "source": [
    "import numpy as np\n",
    "\n",
    "# Create a dataset\n",
    "data = np.array([[1, 2, 3, 4, 5], [6, 7, 8, 9, 10], [11, 12, 13, 14, 15]])\n",
    "\n",
    "# Calculate the covariance matrix\n",
    "covariance_matrix = np.cov(data.T)\n",
    "\n",
    "# Compute the eigenvalues and eigenvectors of the covariance matrix\n",
    "w, v = np.linalg.eig(covariance_matrix)\n",
    "\n",
    "# Sort the eigenvalues and eigenvectors in descending order\n",
    "sorted_indices = w.argsort()[::-1]\n",
    "sorted_eigenvectors = v[:, sorted_indices]\n",
    "\n",
    "# Select the top 2 eigenvectors for dimensionality reduction\n",
    "reduced_data = data @ sorted_eigenvectors[:, :2]\n",
    "\n",
    "print(\"Reduced Data:\")\n",
    "print(reduced_data)"
   ]
  },
  {
   "cell_type": "markdown",
   "metadata": {},
   "source": [
    "This example illustrates how eigenvectors can be used to reduce the dimensionality of the dataset from five features to two, preserving the most important information.\n",
    "\n"
   ]
  },
  {
   "cell_type": "markdown",
   "metadata": {},
   "source": [
    "**Example 3: Clustering Using Eigenvectors**"
   ]
  },
  {
   "cell_type": "code",
   "execution_count": 2,
   "metadata": {},
   "outputs": [
    {
     "name": "stdout",
     "output_type": "stream",
     "text": [
      "Cluster Centroids:\n",
      "[[ 2.5  3.5  4.5]\n",
      " [ 8.5  9.5 10.5]]\n"
     ]
    }
   ],
   "source": [
    "import numpy as np\n",
    "from sklearn.cluster import KMeans\n",
    "\n",
    "# Create a dataset\n",
    "data = np.array([[1, 2, 3], [4, 5, 6], [7, 8, 9], [10, 11, 12]])\n",
    "\n",
    "# Perform k-means clustering using 2 clusters\n",
    "kmeans = KMeans(n_clusters=2, n_init='auto')\n",
    "kmeans.fit(data)\n",
    "\n",
    "# Extract the cluster centroids\n",
    "centroids = kmeans.cluster_centers_\n",
    "\n",
    "print(\"Cluster Centroids:\")\n",
    "print(centroids)"
   ]
  },
  {
   "cell_type": "markdown",
   "metadata": {},
   "source": [
    "This example demonstrates how eigenvectors can be used to initialize the cluster centroids in k-means clustering, which can improve the convergence and performance of the algorithm.\n",
    "\n",
    "These examples provide a glimpse into the diverse applications of eigenvalues and eigenvectors in Python and AI. They are powerful tools for extracting meaningful information from data and solving various machine learning and signal processing problems."
   ]
  },
  {
   "cell_type": "markdown",
   "metadata": {},
   "source": []
  }
 ],
 "metadata": {
  "kernelspec": {
   "display_name": "Python 3",
   "language": "python",
   "name": "python3"
  },
  "language_info": {
   "codemirror_mode": {
    "name": "ipython",
    "version": 3
   },
   "file_extension": ".py",
   "mimetype": "text/x-python",
   "name": "python",
   "nbconvert_exporter": "python",
   "pygments_lexer": "ipython3",
   "version": "3.11.3"
  },
  "orig_nbformat": 4
 },
 "nbformat": 4,
 "nbformat_minor": 2
}
