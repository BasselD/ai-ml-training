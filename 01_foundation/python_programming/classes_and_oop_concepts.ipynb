{
 "cells": [
  {
   "cell_type": "markdown",
   "metadata": {},
   "source": [
    "# Classes and Objects"
   ]
  },
  {
   "cell_type": "markdown",
   "metadata": {},
   "source": [
    "In Python, functions and classes are two fundamental constructs used for different purposes in programming. Here are the key differences between them:\n",
    "\n",
    "### Functions:\n",
    "\n",
    "1. **Purpose**:\n",
    "   - Functions are blocks of reusable code that perform a specific task or computation when called.\n",
    "   - They are used to encapsulate a set of instructions, making the code more modular and easier to manage.\n",
    "\n",
    "2. **Usage**:\n",
    "   - Functions are called with a set of arguments, which are values provided to the parameters defined in the function.\n",
    "   - They can be called from anywhere in the program as long as they are in scope.\n",
    "\n",
    "3. **Return Value**:\n",
    "   - Functions can return a value using the `return` statement. If no `return` statement is used, the function returns `None` by default.\n",
    "\n",
    "\n",
    "### Classes:\n",
    "\n",
    "1. **Purpose**:\n",
    "   - Classes are used to create objects that represent real-world entities, concepts, or data structures.\n",
    "   - They serve as blueprints for creating instances (objects) that share common attributes and behavior.\n",
    "\n",
    "2. **Syntax**:\n",
    "   - Defined using the `class` keyword, followed by the class name, a colon, and a suite of class-level statements.\n",
    "   - Example:\n",
    "     ```python\n",
    "     class MyClass:\n",
    "         # Class body\n",
    "         pass\n",
    "     ```\n",
    "\n",
    "3. **Attributes and Methods**:\n",
    "   - Classes have attributes (variables) and methods (functions) associated with them. These define the characteristics and behavior of the objects created from the class.\n",
    "\n",
    "4. **Usage**:\n",
    "   - Objects are instances of classes. They are created using the class name followed by parentheses, which can optionally contain arguments to initialize the object's state.\n",
    "\n",
    "5. **Example**:\n",
    "   ```python\n",
    "   class Person:\n",
    "       def __init__(self, name, age):\n",
    "           self.name = name\n",
    "           self.age = age\n",
    "\n",
    "       def greet(self):\n",
    "           return f\"Hello, my name is {self.name} and I am {self.age} years old.\"\n",
    "\n",
    "   alice = Person(\"Alice\", 30)  # Creating an instance of the class\n",
    "   greeting = alice.greet()    # Calling a method of the instance\n",
    "   ```\n",
    "\n",
    "In summary, functions are blocks of code that perform specific tasks, while classes are blueprints for creating objects with attributes and behavior. Functions are often used for procedural programming, while classes are fundamental to object-oriented programming (OOP) which emphasizes the organization of code around objects."
   ]
  },
  {
   "cell_type": "markdown",
   "metadata": {},
   "source": [
    "Classes are more like blueprints for creating objects, and they define the structure and behavior of those objects. They don't store data themselves, but they provide a template for creating instances (objects) that can store data in their attributes.\n",
    "\n",
    "Let's break it down:\n",
    "\n",
    "1. **Classes as Blueprints**:\n",
    "   - A class defines the structure and behavior of objects. It specifies what attributes (data) an object will have and what methods (functions) it can perform.\n",
    "\n",
    "2. **Creating Objects (Instances)**:\n",
    "   - When you create an object (also called an instance) from a class, you're essentially making a specific version of that blueprint with its own set of attributes and behavior.\n",
    "\n",
    "3. **Attributes**:\n",
    "   - Attributes are variables that belong to an object. They represent the state of an object. Each instance of a class can have its own unique set of attribute values.\n",
    "\n",
    "4. **Methods**:\n",
    "   - Methods are functions that are defined inside a class and can be called on instances of that class. They define the behavior of the objects created from the class.\n",
    "\n",
    "5. **Data Storage**:\n",
    "   - While classes define the structure of objects, they don't store data themselves. Instead, objects created from a class store data in their attributes.\n",
    "\n",
    "6. **Analogy**:\n",
    "   - If we were to draw an analogy to databases, classes would be more like the schema or table structure. They define what kind of data (attributes) an object can have. Instances of a class are like rows in a table; they hold the actual data.\n",
    "\n",
    "For example, consider a class `Person`:\n",
    "\n",
    "```python\n",
    "class Person:\n",
    "    def __init__(self, name, age):\n",
    "        self.name = name\n",
    "        self.age = age\n",
    "\n",
    "    def introduce(self):\n",
    "        return f\"My name is {self.name} and I am {self.age} years old.\"\n",
    "```\n",
    "\n",
    "In this class, `name` and `age` are attributes, and `introduce` is a method. When you create an instance of this class, like `alice = Person(\"Alice\", 30)`, `alice` will have its own `name` and `age` attributes.\n",
    "\n",
    "So, classes are not like tables or databases themselves. They are more like blueprints that define the structure and behavior of objects, which in turn can store data in their attributes."
   ]
  },
  {
   "cell_type": "code",
   "execution_count": 1,
   "metadata": {},
   "outputs": [],
   "source": [
    "class ABC:\n",
    "    pass"
   ]
  },
  {
   "cell_type": "code",
   "execution_count": 2,
   "metadata": {},
   "outputs": [],
   "source": [
    "class_obj = ABC()"
   ]
  },
  {
   "cell_type": "code",
   "execution_count": 3,
   "metadata": {},
   "outputs": [
    {
     "name": "stdout",
     "output_type": "stream",
     "text": [
      "<__main__.ABC object at 0x106582810>\n"
     ]
    }
   ],
   "source": [
    "print(class_obj)"
   ]
  },
  {
   "cell_type": "code",
   "execution_count": 4,
   "metadata": {},
   "outputs": [
    {
     "name": "stdout",
     "output_type": "stream",
     "text": [
      "Help on ABC in module __main__ object:\n",
      "\n",
      "class ABC(builtins.object)\n",
      " |  Data descriptors defined here:\n",
      " |  \n",
      " |  __dict__\n",
      " |      dictionary for instance variables (if defined)\n",
      " |  \n",
      " |  __weakref__\n",
      " |      list of weak references to the object (if defined)\n",
      "\n"
     ]
    }
   ],
   "source": [
    "help(class_obj)"
   ]
  },
  {
   "cell_type": "code",
   "execution_count": 5,
   "metadata": {},
   "outputs": [
    {
     "name": "stdout",
     "output_type": "stream",
     "text": [
      "Help on class str in module builtins:\n",
      "\n",
      "class str(object)\n",
      " |  str(object='') -> str\n",
      " |  str(bytes_or_buffer[, encoding[, errors]]) -> str\n",
      " |  \n",
      " |  Create a new string object from the given object. If encoding or\n",
      " |  errors is specified, then the object must expose a data buffer\n",
      " |  that will be decoded using the given encoding and error handler.\n",
      " |  Otherwise, returns the result of object.__str__() (if defined)\n",
      " |  or repr(object).\n",
      " |  encoding defaults to sys.getdefaultencoding().\n",
      " |  errors defaults to 'strict'.\n",
      " |  \n",
      " |  Methods defined here:\n",
      " |  \n",
      " |  __add__(self, value, /)\n",
      " |      Return self+value.\n",
      " |  \n",
      " |  __contains__(self, key, /)\n",
      " |      Return key in self.\n",
      " |  \n",
      " |  __eq__(self, value, /)\n",
      " |      Return self==value.\n",
      " |  \n",
      " |  __format__(self, format_spec, /)\n",
      " |      Return a formatted version of the string as described by format_spec.\n",
      " |  \n",
      " |  __ge__(self, value, /)\n",
      " |      Return self>=value.\n",
      " |  \n",
      " |  __getattribute__(self, name, /)\n",
      " |      Return getattr(self, name).\n",
      " |  \n",
      " |  __getitem__(self, key, /)\n",
      " |      Return self[key].\n",
      " |  \n",
      " |  __getnewargs__(...)\n",
      " |  \n",
      " |  __gt__(self, value, /)\n",
      " |      Return self>value.\n",
      " |  \n",
      " |  __hash__(self, /)\n",
      " |      Return hash(self).\n",
      " |  \n",
      " |  __iter__(self, /)\n",
      " |      Implement iter(self).\n",
      " |  \n",
      " |  __le__(self, value, /)\n",
      " |      Return self<=value.\n",
      " |  \n",
      " |  __len__(self, /)\n",
      " |      Return len(self).\n",
      " |  \n",
      " |  __lt__(self, value, /)\n",
      " |      Return self<value.\n",
      " |  \n",
      " |  __mod__(self, value, /)\n",
      " |      Return self%value.\n",
      " |  \n",
      " |  __mul__(self, value, /)\n",
      " |      Return self*value.\n",
      " |  \n",
      " |  __ne__(self, value, /)\n",
      " |      Return self!=value.\n",
      " |  \n",
      " |  __repr__(self, /)\n",
      " |      Return repr(self).\n",
      " |  \n",
      " |  __rmod__(self, value, /)\n",
      " |      Return value%self.\n",
      " |  \n",
      " |  __rmul__(self, value, /)\n",
      " |      Return value*self.\n",
      " |  \n",
      " |  __sizeof__(self, /)\n",
      " |      Return the size of the string in memory, in bytes.\n",
      " |  \n",
      " |  __str__(self, /)\n",
      " |      Return str(self).\n",
      " |  \n",
      " |  capitalize(self, /)\n",
      " |      Return a capitalized version of the string.\n",
      " |      \n",
      " |      More specifically, make the first character have upper case and the rest lower\n",
      " |      case.\n",
      " |  \n",
      " |  casefold(self, /)\n",
      " |      Return a version of the string suitable for caseless comparisons.\n",
      " |  \n",
      " |  center(self, width, fillchar=' ', /)\n",
      " |      Return a centered string of length width.\n",
      " |      \n",
      " |      Padding is done using the specified fill character (default is a space).\n",
      " |  \n",
      " |  count(...)\n",
      " |      S.count(sub[, start[, end]]) -> int\n",
      " |      \n",
      " |      Return the number of non-overlapping occurrences of substring sub in\n",
      " |      string S[start:end].  Optional arguments start and end are\n",
      " |      interpreted as in slice notation.\n",
      " |  \n",
      " |  encode(self, /, encoding='utf-8', errors='strict')\n",
      " |      Encode the string using the codec registered for encoding.\n",
      " |      \n",
      " |      encoding\n",
      " |        The encoding in which to encode the string.\n",
      " |      errors\n",
      " |        The error handling scheme to use for encoding errors.\n",
      " |        The default is 'strict' meaning that encoding errors raise a\n",
      " |        UnicodeEncodeError.  Other possible values are 'ignore', 'replace' and\n",
      " |        'xmlcharrefreplace' as well as any other name registered with\n",
      " |        codecs.register_error that can handle UnicodeEncodeErrors.\n",
      " |  \n",
      " |  endswith(...)\n",
      " |      S.endswith(suffix[, start[, end]]) -> bool\n",
      " |      \n",
      " |      Return True if S ends with the specified suffix, False otherwise.\n",
      " |      With optional start, test S beginning at that position.\n",
      " |      With optional end, stop comparing S at that position.\n",
      " |      suffix can also be a tuple of strings to try.\n",
      " |  \n",
      " |  expandtabs(self, /, tabsize=8)\n",
      " |      Return a copy where all tab characters are expanded using spaces.\n",
      " |      \n",
      " |      If tabsize is not given, a tab size of 8 characters is assumed.\n",
      " |  \n",
      " |  find(...)\n",
      " |      S.find(sub[, start[, end]]) -> int\n",
      " |      \n",
      " |      Return the lowest index in S where substring sub is found,\n",
      " |      such that sub is contained within S[start:end].  Optional\n",
      " |      arguments start and end are interpreted as in slice notation.\n",
      " |      \n",
      " |      Return -1 on failure.\n",
      " |  \n",
      " |  format(...)\n",
      " |      S.format(*args, **kwargs) -> str\n",
      " |      \n",
      " |      Return a formatted version of S, using substitutions from args and kwargs.\n",
      " |      The substitutions are identified by braces ('{' and '}').\n",
      " |  \n",
      " |  format_map(...)\n",
      " |      S.format_map(mapping) -> str\n",
      " |      \n",
      " |      Return a formatted version of S, using substitutions from mapping.\n",
      " |      The substitutions are identified by braces ('{' and '}').\n",
      " |  \n",
      " |  index(...)\n",
      " |      S.index(sub[, start[, end]]) -> int\n",
      " |      \n",
      " |      Return the lowest index in S where substring sub is found,\n",
      " |      such that sub is contained within S[start:end].  Optional\n",
      " |      arguments start and end are interpreted as in slice notation.\n",
      " |      \n",
      " |      Raises ValueError when the substring is not found.\n",
      " |  \n",
      " |  isalnum(self, /)\n",
      " |      Return True if the string is an alpha-numeric string, False otherwise.\n",
      " |      \n",
      " |      A string is alpha-numeric if all characters in the string are alpha-numeric and\n",
      " |      there is at least one character in the string.\n",
      " |  \n",
      " |  isalpha(self, /)\n",
      " |      Return True if the string is an alphabetic string, False otherwise.\n",
      " |      \n",
      " |      A string is alphabetic if all characters in the string are alphabetic and there\n",
      " |      is at least one character in the string.\n",
      " |  \n",
      " |  isascii(self, /)\n",
      " |      Return True if all characters in the string are ASCII, False otherwise.\n",
      " |      \n",
      " |      ASCII characters have code points in the range U+0000-U+007F.\n",
      " |      Empty string is ASCII too.\n",
      " |  \n",
      " |  isdecimal(self, /)\n",
      " |      Return True if the string is a decimal string, False otherwise.\n",
      " |      \n",
      " |      A string is a decimal string if all characters in the string are decimal and\n",
      " |      there is at least one character in the string.\n",
      " |  \n",
      " |  isdigit(self, /)\n",
      " |      Return True if the string is a digit string, False otherwise.\n",
      " |      \n",
      " |      A string is a digit string if all characters in the string are digits and there\n",
      " |      is at least one character in the string.\n",
      " |  \n",
      " |  isidentifier(self, /)\n",
      " |      Return True if the string is a valid Python identifier, False otherwise.\n",
      " |      \n",
      " |      Call keyword.iskeyword(s) to test whether string s is a reserved identifier,\n",
      " |      such as \"def\" or \"class\".\n",
      " |  \n",
      " |  islower(self, /)\n",
      " |      Return True if the string is a lowercase string, False otherwise.\n",
      " |      \n",
      " |      A string is lowercase if all cased characters in the string are lowercase and\n",
      " |      there is at least one cased character in the string.\n",
      " |  \n",
      " |  isnumeric(self, /)\n",
      " |      Return True if the string is a numeric string, False otherwise.\n",
      " |      \n",
      " |      A string is numeric if all characters in the string are numeric and there is at\n",
      " |      least one character in the string.\n",
      " |  \n",
      " |  isprintable(self, /)\n",
      " |      Return True if the string is printable, False otherwise.\n",
      " |      \n",
      " |      A string is printable if all of its characters are considered printable in\n",
      " |      repr() or if it is empty.\n",
      " |  \n",
      " |  isspace(self, /)\n",
      " |      Return True if the string is a whitespace string, False otherwise.\n",
      " |      \n",
      " |      A string is whitespace if all characters in the string are whitespace and there\n",
      " |      is at least one character in the string.\n",
      " |  \n",
      " |  istitle(self, /)\n",
      " |      Return True if the string is a title-cased string, False otherwise.\n",
      " |      \n",
      " |      In a title-cased string, upper- and title-case characters may only\n",
      " |      follow uncased characters and lowercase characters only cased ones.\n",
      " |  \n",
      " |  isupper(self, /)\n",
      " |      Return True if the string is an uppercase string, False otherwise.\n",
      " |      \n",
      " |      A string is uppercase if all cased characters in the string are uppercase and\n",
      " |      there is at least one cased character in the string.\n",
      " |  \n",
      " |  join(self, iterable, /)\n",
      " |      Concatenate any number of strings.\n",
      " |      \n",
      " |      The string whose method is called is inserted in between each given string.\n",
      " |      The result is returned as a new string.\n",
      " |      \n",
      " |      Example: '.'.join(['ab', 'pq', 'rs']) -> 'ab.pq.rs'\n",
      " |  \n",
      " |  ljust(self, width, fillchar=' ', /)\n",
      " |      Return a left-justified string of length width.\n",
      " |      \n",
      " |      Padding is done using the specified fill character (default is a space).\n",
      " |  \n",
      " |  lower(self, /)\n",
      " |      Return a copy of the string converted to lowercase.\n",
      " |  \n",
      " |  lstrip(self, chars=None, /)\n",
      " |      Return a copy of the string with leading whitespace removed.\n",
      " |      \n",
      " |      If chars is given and not None, remove characters in chars instead.\n",
      " |  \n",
      " |  partition(self, sep, /)\n",
      " |      Partition the string into three parts using the given separator.\n",
      " |      \n",
      " |      This will search for the separator in the string.  If the separator is found,\n",
      " |      returns a 3-tuple containing the part before the separator, the separator\n",
      " |      itself, and the part after it.\n",
      " |      \n",
      " |      If the separator is not found, returns a 3-tuple containing the original string\n",
      " |      and two empty strings.\n",
      " |  \n",
      " |  removeprefix(self, prefix, /)\n",
      " |      Return a str with the given prefix string removed if present.\n",
      " |      \n",
      " |      If the string starts with the prefix string, return string[len(prefix):].\n",
      " |      Otherwise, return a copy of the original string.\n",
      " |  \n",
      " |  removesuffix(self, suffix, /)\n",
      " |      Return a str with the given suffix string removed if present.\n",
      " |      \n",
      " |      If the string ends with the suffix string and that suffix is not empty,\n",
      " |      return string[:-len(suffix)]. Otherwise, return a copy of the original\n",
      " |      string.\n",
      " |  \n",
      " |  replace(self, old, new, count=-1, /)\n",
      " |      Return a copy with all occurrences of substring old replaced by new.\n",
      " |      \n",
      " |        count\n",
      " |          Maximum number of occurrences to replace.\n",
      " |          -1 (the default value) means replace all occurrences.\n",
      " |      \n",
      " |      If the optional argument count is given, only the first count occurrences are\n",
      " |      replaced.\n",
      " |  \n",
      " |  rfind(...)\n",
      " |      S.rfind(sub[, start[, end]]) -> int\n",
      " |      \n",
      " |      Return the highest index in S where substring sub is found,\n",
      " |      such that sub is contained within S[start:end].  Optional\n",
      " |      arguments start and end are interpreted as in slice notation.\n",
      " |      \n",
      " |      Return -1 on failure.\n",
      " |  \n",
      " |  rindex(...)\n",
      " |      S.rindex(sub[, start[, end]]) -> int\n",
      " |      \n",
      " |      Return the highest index in S where substring sub is found,\n",
      " |      such that sub is contained within S[start:end].  Optional\n",
      " |      arguments start and end are interpreted as in slice notation.\n",
      " |      \n",
      " |      Raises ValueError when the substring is not found.\n",
      " |  \n",
      " |  rjust(self, width, fillchar=' ', /)\n",
      " |      Return a right-justified string of length width.\n",
      " |      \n",
      " |      Padding is done using the specified fill character (default is a space).\n",
      " |  \n",
      " |  rpartition(self, sep, /)\n",
      " |      Partition the string into three parts using the given separator.\n",
      " |      \n",
      " |      This will search for the separator in the string, starting at the end. If\n",
      " |      the separator is found, returns a 3-tuple containing the part before the\n",
      " |      separator, the separator itself, and the part after it.\n",
      " |      \n",
      " |      If the separator is not found, returns a 3-tuple containing two empty strings\n",
      " |      and the original string.\n",
      " |  \n",
      " |  rsplit(self, /, sep=None, maxsplit=-1)\n",
      " |      Return a list of the substrings in the string, using sep as the separator string.\n",
      " |      \n",
      " |        sep\n",
      " |          The separator used to split the string.\n",
      " |      \n",
      " |          When set to None (the default value), will split on any whitespace\n",
      " |          character (including \\\\n \\\\r \\\\t \\\\f and spaces) and will discard\n",
      " |          empty strings from the result.\n",
      " |        maxsplit\n",
      " |          Maximum number of splits (starting from the left).\n",
      " |          -1 (the default value) means no limit.\n",
      " |      \n",
      " |      Splitting starts at the end of the string and works to the front.\n",
      " |  \n",
      " |  rstrip(self, chars=None, /)\n",
      " |      Return a copy of the string with trailing whitespace removed.\n",
      " |      \n",
      " |      If chars is given and not None, remove characters in chars instead.\n",
      " |  \n",
      " |  split(self, /, sep=None, maxsplit=-1)\n",
      " |      Return a list of the substrings in the string, using sep as the separator string.\n",
      " |      \n",
      " |        sep\n",
      " |          The separator used to split the string.\n",
      " |      \n",
      " |          When set to None (the default value), will split on any whitespace\n",
      " |          character (including \\\\n \\\\r \\\\t \\\\f and spaces) and will discard\n",
      " |          empty strings from the result.\n",
      " |        maxsplit\n",
      " |          Maximum number of splits (starting from the left).\n",
      " |          -1 (the default value) means no limit.\n",
      " |      \n",
      " |      Note, str.split() is mainly useful for data that has been intentionally\n",
      " |      delimited.  With natural text that includes punctuation, consider using\n",
      " |      the regular expression module.\n",
      " |  \n",
      " |  splitlines(self, /, keepends=False)\n",
      " |      Return a list of the lines in the string, breaking at line boundaries.\n",
      " |      \n",
      " |      Line breaks are not included in the resulting list unless keepends is given and\n",
      " |      true.\n",
      " |  \n",
      " |  startswith(...)\n",
      " |      S.startswith(prefix[, start[, end]]) -> bool\n",
      " |      \n",
      " |      Return True if S starts with the specified prefix, False otherwise.\n",
      " |      With optional start, test S beginning at that position.\n",
      " |      With optional end, stop comparing S at that position.\n",
      " |      prefix can also be a tuple of strings to try.\n",
      " |  \n",
      " |  strip(self, chars=None, /)\n",
      " |      Return a copy of the string with leading and trailing whitespace removed.\n",
      " |      \n",
      " |      If chars is given and not None, remove characters in chars instead.\n",
      " |  \n",
      " |  swapcase(self, /)\n",
      " |      Convert uppercase characters to lowercase and lowercase characters to uppercase.\n",
      " |  \n",
      " |  title(self, /)\n",
      " |      Return a version of the string where each word is titlecased.\n",
      " |      \n",
      " |      More specifically, words start with uppercased characters and all remaining\n",
      " |      cased characters have lower case.\n",
      " |  \n",
      " |  translate(self, table, /)\n",
      " |      Replace each character in the string using the given translation table.\n",
      " |      \n",
      " |        table\n",
      " |          Translation table, which must be a mapping of Unicode ordinals to\n",
      " |          Unicode ordinals, strings, or None.\n",
      " |      \n",
      " |      The table must implement lookup/indexing via __getitem__, for instance a\n",
      " |      dictionary or list.  If this operation raises LookupError, the character is\n",
      " |      left untouched.  Characters mapped to None are deleted.\n",
      " |  \n",
      " |  upper(self, /)\n",
      " |      Return a copy of the string converted to uppercase.\n",
      " |  \n",
      " |  zfill(self, width, /)\n",
      " |      Pad a numeric string with zeros on the left, to fill a field of the given width.\n",
      " |      \n",
      " |      The string is never truncated.\n",
      " |  \n",
      " |  ----------------------------------------------------------------------\n",
      " |  Static methods defined here:\n",
      " |  \n",
      " |  __new__(*args, **kwargs) from builtins.type\n",
      " |      Create and return a new object.  See help(type) for accurate signature.\n",
      " |  \n",
      " |  maketrans(...)\n",
      " |      Return a translation table usable for str.translate().\n",
      " |      \n",
      " |      If there is only one argument, it must be a dictionary mapping Unicode\n",
      " |      ordinals (integers) or characters to Unicode ordinals, strings or None.\n",
      " |      Character keys will be then converted to ordinals.\n",
      " |      If there are two arguments, they must be strings of equal length, and\n",
      " |      in the resulting dictionary, each character in x will be mapped to the\n",
      " |      character at the same position in y. If there is a third argument, it\n",
      " |      must be a string, whose characters will be mapped to None in the result.\n",
      "\n"
     ]
    }
   ],
   "source": [
    "help(str) #str(50)"
   ]
  },
  {
   "cell_type": "markdown",
   "metadata": {},
   "source": [
    "Why use classes?\n",
    "- It allows reproducebility (reuse of programs, functions, and methods)\n",
    "- allows us to build a clean structure with a blueprint of our process\n",
    "- prevents human error"
   ]
  },
  {
   "cell_type": "markdown",
   "metadata": {},
   "source": [
    "**Problem Statement** build an application for healthcare system that takes the name, age, and location of the person and prints out details"
   ]
  },
  {
   "cell_type": "code",
   "execution_count": 6,
   "metadata": {},
   "outputs": [],
   "source": [
    "class HealthSys :\n",
    "    '''This is class \"Health\" with information and functions related with our health. '''\n",
    "        \n",
    "    # another method to display data \n",
    "    def print_info(self):\n",
    "        print('Individual Helath Information :')\n",
    "        print('Name     : ', self.name)\n",
    "        print('Age      : ', self.age)\n",
    "        print('Location : ', self.location)"
   ]
  },
  {
   "cell_type": "code",
   "execution_count": 7,
   "metadata": {},
   "outputs": [],
   "source": [
    "#h1\n",
    "rec1 = HealthSys()\n",
    "rec1.name = 'Mark'\n",
    "rec1.age = 33\n",
    "rec1.location = 'Texas'\n",
    "\n",
    "rec2 = HealthSys()\n",
    "rec2.name = 'Mike'\n",
    "rec2.age = 40\n",
    "rec2.location = 'Tennessee'"
   ]
  },
  {
   "cell_type": "code",
   "execution_count": 8,
   "metadata": {},
   "outputs": [
    {
     "name": "stdout",
     "output_type": "stream",
     "text": [
      "Individual Helath Information :\n",
      "Name     :  Mark\n",
      "Age      :  33\n",
      "Location :  Texas\n"
     ]
    }
   ],
   "source": [
    "rec1.print_info()"
   ]
  },
  {
   "cell_type": "code",
   "execution_count": 9,
   "metadata": {},
   "outputs": [
    {
     "name": "stdout",
     "output_type": "stream",
     "text": [
      "Individual Helath Information :\n",
      "Name     :  Mike\n",
      "Age      :  40\n",
      "Location :  Tennessee\n"
     ]
    }
   ],
   "source": [
    "rec2.print_info()"
   ]
  },
  {
   "cell_type": "markdown",
   "metadata": {},
   "source": [
    "- code above is inefficient because you might have spelling errors like: `rec2.nameee = 'Mike'` you get an error\n",
    "- this is because it relies on `self.name``"
   ]
  },
  {
   "cell_type": "code",
   "execution_count": 10,
   "metadata": {},
   "outputs": [],
   "source": [
    "rec2 = HealthSys()\n",
    "rec2.name = 'Mike'\n",
    "rec2.age = 40\n",
    "rec2.location = 'Tennessee'"
   ]
  },
  {
   "cell_type": "code",
   "execution_count": 11,
   "metadata": {},
   "outputs": [
    {
     "name": "stdout",
     "output_type": "stream",
     "text": [
      "Individual Helath Information :\n",
      "Name     :  Mike\n",
      "Age      :  40\n",
      "Location :  Tennessee\n"
     ]
    }
   ],
   "source": [
    "rec2.print_info()"
   ]
  },
  {
   "cell_type": "markdown",
   "metadata": {},
   "source": [
    "The solution to this problem is by using a constructor"
   ]
  },
  {
   "cell_type": "code",
   "execution_count": 62,
   "metadata": {},
   "outputs": [],
   "source": [
    "class HealthSys:\n",
    "    '''this is an app that takes name, age, and location and prints out results'''\n",
    "\n",
    "    #step1 define init function (initialization) or constructor in other languages\n",
    "\n",
    "    def __init__(self, name, age, loc): #names of the attributes\n",
    "        self.name = name #given name\n",
    "        self.age = age # given age\n",
    "        self.loc = loc #given location\n",
    "\n",
    "       \n",
    "    # another method to display data \n",
    "    def print_info(self):\n",
    "        print('Individual Helath Information :')\n",
    "        print('Name     : ', self.name)\n",
    "        print('Age      : ', self.age)\n",
    "        print('Location : ', self.location)\n",
    "    "
   ]
  },
  {
   "cell_type": "code",
   "execution_count": null,
   "metadata": {},
   "outputs": [],
   "source": []
  },
  {
   "cell_type": "code",
   "execution_count": 63,
   "metadata": {},
   "outputs": [],
   "source": [
    "#now it's much easier and cleaner to insert a record\n",
    "# the init method will run automatically \n",
    "rec1 = HealthSys('mark', 40, 'Texas') # you have ot do it in order"
   ]
  },
  {
   "cell_type": "code",
   "execution_count": 64,
   "metadata": {},
   "outputs": [
    {
     "name": "stdout",
     "output_type": "stream",
     "text": [
      "<__main__.HealthSys object at 0x1066cea10>\n"
     ]
    }
   ],
   "source": [
    "print(rec1)"
   ]
  },
  {
   "cell_type": "code",
   "execution_count": 65,
   "metadata": {},
   "outputs": [
    {
     "data": {
      "text/plain": [
       "'mark'"
      ]
     },
     "execution_count": 65,
     "metadata": {},
     "output_type": "execute_result"
    }
   ],
   "source": [
    "#obtain name value for rec1\n",
    "rec1.name"
   ]
  },
  {
   "cell_type": "code",
   "execution_count": 10,
   "metadata": {},
   "outputs": [
    {
     "data": {
      "text/plain": [
       "40"
      ]
     },
     "execution_count": 10,
     "metadata": {},
     "output_type": "execute_result"
    }
   ],
   "source": [
    "rec1.age"
   ]
  },
  {
   "cell_type": "code",
   "execution_count": 16,
   "metadata": {},
   "outputs": [
    {
     "name": "stdout",
     "output_type": "stream",
     "text": [
      "My name is Mark and I am 40 years old\n"
     ]
    }
   ],
   "source": [
    "print('My name is',rec1.name, 'and I am', rec1.age, 'years old')"
   ]
  },
  {
   "cell_type": "code",
   "execution_count": 68,
   "metadata": {},
   "outputs": [],
   "source": [
    "#you can also customize the input\n",
    "class HealthSys:\n",
    "    '''this is an app that takes name, age, and location and prints out results'''\n",
    "\n",
    "    #step1 define init function (initialization) or constructor in other languages\n",
    "\n",
    "    def __init__(self, name, age, loc):\n",
    "        self.name = name.title()\n",
    "        self.age = int(age)\n",
    "        self.loc = loc.title()\n",
    "        self.email = name.title() + '@gmail.com' # notice that 4th object is not in the init because it's derived\n",
    "    \n",
    "    def introduce(self):\n",
    "        print(f'My name is {self.name}. I am {self.age} years old and I live in {self.loc}. My email is {self.email}')"
   ]
  },
  {
   "cell_type": "code",
   "execution_count": 69,
   "metadata": {},
   "outputs": [],
   "source": [
    "#create an instance variable \n",
    "rec1 = HealthSys('mark', 40, 'texas')"
   ]
  },
  {
   "cell_type": "code",
   "execution_count": 70,
   "metadata": {},
   "outputs": [
    {
     "name": "stdout",
     "output_type": "stream",
     "text": [
      "My name is Mark. I am 40 years old and I live in Texas. My email is Mark@gmail.com\n"
     ]
    }
   ],
   "source": [
    "rec1.introduce()"
   ]
  },
  {
   "cell_type": "markdown",
   "metadata": {},
   "source": [
    "What happens if we don't use initialize?"
   ]
  },
  {
   "cell_type": "code",
   "execution_count": 36,
   "metadata": {},
   "outputs": [],
   "source": [
    "class HealthSys:\n",
    "    '''this is an app that takes name, age, and location and prints out results'''\n",
    "\n",
    "    def introduce(name, age):\n",
    "        print('My name is',name, 'and I am', age, 'years old')"
   ]
  },
  {
   "cell_type": "code",
   "execution_count": 37,
   "metadata": {},
   "outputs": [
    {
     "name": "stdout",
     "output_type": "stream",
     "text": [
      "My name is Mark and I am 40 years old\n"
     ]
    }
   ],
   "source": [
    "obj1  = HealthSys.introduce('Mark', 40)"
   ]
  },
  {
   "cell_type": "code",
   "execution_count": 38,
   "metadata": {},
   "outputs": [
    {
     "ename": "AttributeError",
     "evalue": "'NoneType' object has no attribute 'name'",
     "output_type": "error",
     "traceback": [
      "\u001b[0;31m---------------------------------------------------------------------------\u001b[0m",
      "\u001b[0;31mAttributeError\u001b[0m                            Traceback (most recent call last)",
      "\u001b[1;32m/Users/bassel_instructor/Library/Mobile Documents/com~apple~CloudDocs/Documents/SimpliLearn/AI & ML Bootcamp 2023/02 Foundations - Programming Refresher/IPYNB/Classes_Bassel.ipynb Cell 24\u001b[0m line \u001b[0;36m1\n\u001b[0;32m----> <a href='vscode-notebook-cell:/Users/bassel_instructor/Library/Mobile%20Documents/com~apple~CloudDocs/Documents/SimpliLearn/AI%20%26%20ML%20Bootcamp%202023/02%20Foundations%20-%20Programming%20Refresher/IPYNB/Classes_Bassel.ipynb#X26sZmlsZQ%3D%3D?line=0'>1</a>\u001b[0m obj1\u001b[39m.\u001b[39;49mname\n\u001b[1;32m      <a href='vscode-notebook-cell:/Users/bassel_instructor/Library/Mobile%20Documents/com~apple~CloudDocs/Documents/SimpliLearn/AI%20%26%20ML%20Bootcamp%202023/02%20Foundations%20-%20Programming%20Refresher/IPYNB/Classes_Bassel.ipynb#X26sZmlsZQ%3D%3D?line=1'>2</a>\u001b[0m \u001b[39m#not available because you did not do self declariation\u001b[39;00m\n",
      "\u001b[0;31mAttributeError\u001b[0m: 'NoneType' object has no attribute 'name'"
     ]
    }
   ],
   "source": [
    "obj1.name\n",
    "#not available because you did not do self declariation"
   ]
  },
  {
   "cell_type": "code",
   "execution_count": null,
   "metadata": {},
   "outputs": [],
   "source": [
    "# to solve for this, we need to use a constructor\n",
    "\n",
    "class HealthSys:\n",
    "    ''' this is a Health Systems class that provides structure for health data'''\n",
    "\n",
    "    #define a constructor (initialization)\n",
    "    #make sure it has all of your attributes that will be used in the bundled methods\n",
    "    def __init__(self, name, age, location): # names of the attributes \n",
    "        self.name = name \n",
    "        self.age = age\n",
    "        self.location = location\n",
    "        self.email = name.title() + '@gmail.com' # this example shows how to derive and apply formatting if needed\n",
    "\n",
    "    #1 constructor per class\n",
    "    # you can have as many methods and attributes as you want\n",
    "\n",
    "    #define  a method\n",
    "    def print_info(self):\n",
    "        print('Patient Information:')\n",
    "        print('Name\\t\\t:', self.name)\n",
    "        print('Age\\t\\t:', self.age)\n",
    "        print('Location\\t:', self.location)\n",
    "\n",
    "    # define a second method that has a new attribute (obj)\n",
    "    def introduce_person(self):\n",
    "        print(f'Hi, my name is {self.name}. I am {self.age}. My email is {self.email}')"
   ]
  },
  {
   "cell_type": "markdown",
   "metadata": {},
   "source": [
    "### Access Modifiers"
   ]
  },
  {
   "cell_type": "markdown",
   "metadata": {},
   "source": [
    "Access modifiers are keywords in object-oriented programming languages that control the visibility and accessibility of a class's attributes (variables) and methods (functions) within the class itself, subclasses, and other parts of the program. They are essential for encapsulation, which is a key principle of object-oriented programming."
   ]
  },
  {
   "cell_type": "markdown",
   "metadata": {},
   "source": [
    "- **Public** declared as public are accessible from anywhere in the program, within the class itself, in subclasses, and in different modules.\n",
    "- **Private** attribute accessible within the class itself. Attempting to access them from outside the class will result in an error.\n",
    "- **Protected** accessible within the class itself and in subclasses, but not directly from outside the class or other modules."
   ]
  },
  {
   "cell_type": "code",
   "execution_count": 39,
   "metadata": {},
   "outputs": [],
   "source": [
    "class dog:\n",
    "    def __init__(self, name,age,weight):\n",
    "        #private variable\n",
    "        self.__name = name\n",
    "        #protected\n",
    "        self._age = age\n",
    "\n",
    "        #public\n",
    "        self.weight = weight"
   ]
  },
  {
   "cell_type": "code",
   "execution_count": 40,
   "metadata": {},
   "outputs": [],
   "source": [
    "#run an instance (outside the class)\n",
    "#(name, age, weight)\n",
    "D = dog('Rocky',5, 8)"
   ]
  },
  {
   "cell_type": "code",
   "execution_count": 41,
   "metadata": {},
   "outputs": [
    {
     "name": "stdout",
     "output_type": "stream",
     "text": [
      "Weight= 8\n"
     ]
    }
   ],
   "source": [
    "print('Weight=',D.weight)"
   ]
  },
  {
   "cell_type": "code",
   "execution_count": 42,
   "metadata": {},
   "outputs": [
    {
     "ename": "AttributeError",
     "evalue": "'dog' object has no attribute 'name'",
     "output_type": "error",
     "traceback": [
      "\u001b[0;31m---------------------------------------------------------------------------\u001b[0m",
      "\u001b[0;31mAttributeError\u001b[0m                            Traceback (most recent call last)",
      "\u001b[1;32m/Users/bassel_instructor/Library/Mobile Documents/com~apple~CloudDocs/Documents/SimpliLearn/AI & ML Bootcamp 2023/02 Foundations - Programming Refresher/IPYNB/Classes_Bassel.ipynb Cell 30\u001b[0m line \u001b[0;36m1\n\u001b[0;32m----> <a href='vscode-notebook-cell:/Users/bassel_instructor/Library/Mobile%20Documents/com~apple~CloudDocs/Documents/SimpliLearn/AI%20%26%20ML%20Bootcamp%202023/02%20Foundations%20-%20Programming%20Refresher/IPYNB/Classes_Bassel.ipynb#X35sZmlsZQ%3D%3D?line=0'>1</a>\u001b[0m \u001b[39mprint\u001b[39m(\u001b[39m'\u001b[39m\u001b[39mname=\u001b[39m\u001b[39m'\u001b[39m,D\u001b[39m.\u001b[39;49mname)\n",
      "\u001b[0;31mAttributeError\u001b[0m: 'dog' object has no attribute 'name'"
     ]
    }
   ],
   "source": [
    "print('name=',D.name)"
   ]
  },
  {
   "cell_type": "markdown",
   "metadata": {},
   "source": [
    "### Inheritence"
   ]
  },
  {
   "cell_type": "markdown",
   "metadata": {},
   "source": [
    "Inheritance allows a class to inherit attributes and methods from a parent class. This promotes reusability."
   ]
  },
  {
   "cell_type": "code",
   "execution_count": 43,
   "metadata": {},
   "outputs": [],
   "source": [
    "class Parent:\n",
    "    def __init___(self):\n",
    "        print('Welcome to Parent CLass')\n",
    "    \n",
    "    def func1(self):\n",
    "        print('This is a parent function')"
   ]
  },
  {
   "cell_type": "code",
   "execution_count": 44,
   "metadata": {},
   "outputs": [],
   "source": [
    "class Child(Parent):\n",
    "    pass"
   ]
  },
  {
   "cell_type": "code",
   "execution_count": 45,
   "metadata": {},
   "outputs": [],
   "source": [
    "obj = Child()"
   ]
  },
  {
   "cell_type": "code",
   "execution_count": 46,
   "metadata": {},
   "outputs": [
    {
     "data": {
      "text/plain": [
       "<bound method Parent.func1 of <__main__.Child object at 0x10ce09110>>"
      ]
     },
     "execution_count": 46,
     "metadata": {},
     "output_type": "execute_result"
    }
   ],
   "source": [
    "obj.func1"
   ]
  },
  {
   "cell_type": "markdown",
   "metadata": {},
   "source": [
    "### Demonstrate all OOPs features"
   ]
  },
  {
   "cell_type": "code",
   "execution_count": 5,
   "metadata": {},
   "outputs": [],
   "source": [
    "class Patient:\n",
    "\n",
    "    def __init__(self, name, age, location):\n",
    "        self.name = name\n",
    "        self.age = age \n",
    "        self.location = location\n",
    "\n",
    "    def introduce(self):\n",
    "        print(f\"Hello, my name is {self.name}, I am {self.age} years old and live in {self.location}.\")\n",
    "\n",
    "\n",
    "    def set_medications(self, medications):\n",
    "        self.medications = medications\n",
    "\n",
    "    def get_medications(self):\n",
    "        return self.medications \n"
   ]
  },
  {
   "cell_type": "code",
   "execution_count": 6,
   "metadata": {},
   "outputs": [],
   "source": [
    "# Create some patients   \n",
    "john = Patient(\"John Doe\", 25, \"New York\")\n",
    "jane = Patient(\"Jane Doe\", 32, \"Chicago\")\n",
    "\n"
   ]
  },
  {
   "cell_type": "code",
   "execution_count": 8,
   "metadata": {},
   "outputs": [
    {
     "name": "stdout",
     "output_type": "stream",
     "text": [
      "Hello, my name is John Doe, I am 25 years old and live in New York.\n"
     ]
    }
   ],
   "source": [
    "# Use methods\n",
    "john.introduce()\n"
   ]
  },
  {
   "cell_type": "code",
   "execution_count": 9,
   "metadata": {},
   "outputs": [
    {
     "name": "stdout",
     "output_type": "stream",
     "text": [
      "['Advil', 'Tylenol']\n"
     ]
    }
   ],
   "source": [
    "jane.set_medications([\"Advil\", \"Tylenol\"])\n",
    "print(jane.get_medications())"
   ]
  },
  {
   "cell_type": "markdown",
   "metadata": {},
   "source": [
    "This demonstrates:\n",
    "\n",
    "- **Encapsulation**: Patient data fields are encapsulated as class attributes.\n",
    "\n",
    "- **Abstraction**: The Patient class abstracts the details of an actual patient.\n",
    "\n",
    "- **Inheritance**: We can extend Patient for specific types of patients.\n",
    "\n",
    "- **Polymorphism**: introduce() method can act on any Patient instance.\n",
    "\n",
    "We can build on this example further by adding things like inheritance, associations to other classes like Doctor, data validation, and more methods that operate on Patient.\n",
    "\n",
    "Let me know if you need any clarification or have additional examples you'd like to walk through!"
   ]
  },
  {
   "cell_type": "markdown",
   "metadata": {},
   "source": [
    "### To demonstrate Inheritance"
   ]
  },
  {
   "cell_type": "code",
   "execution_count": null,
   "metadata": {},
   "outputs": [],
   "source": [
    "class ChildPatient(Patient):\n",
    "  \n",
    "  def __init__(self, name, age):\n",
    "    super().__init__(name, age)\n",
    "    self.vaccinations = []\n",
    "\n",
    "  def add_vaccination(self, vaccine):\n",
    "    self.vaccinations.append(vaccine) \n"
   ]
  },
  {
   "cell_type": "code",
   "execution_count": null,
   "metadata": {},
   "outputs": [],
   "source": [
    "john = Patient(\"John\", 25)\n",
    "john.introduce()\n",
    "\n",
    "emma = ChildPatient(\"Emma\", 5) \n",
    "emma.introduce()\n",
    "emma.add_vaccination(\"MMR\")\n",
    "print(emma.vaccinations)"
   ]
  },
  {
   "cell_type": "markdown",
   "metadata": {},
   "source": [
    "In this example:\n",
    "\n",
    "- ChildPatient inherits from Patient using parentheses after class name\n",
    "- The init constructor calls super() to initialize Parent attributes\n",
    "- ChildPatient defines an additional vaccinations attribute\n",
    "- Inherited methods like introduce() work on ChildPatient objects\n",
    "- Child-specific methods like add_vaccination() are defined\n",
    "This allows code reuse and polymorphism. The ChildPatient is a more specific Patient."
   ]
  },
  {
   "cell_type": "markdown",
   "metadata": {},
   "source": [
    "#### Single Inheritence"
   ]
  },
  {
   "cell_type": "code",
   "execution_count": 34,
   "metadata": {},
   "outputs": [],
   "source": [
    "# base(parent) class\n",
    "class information:\n",
    "    def __init__(self, name, age, gender):\n",
    "        self.name = name\n",
    "        self.age = age\n",
    "        self.gender = gender\n",
    "    \n",
    "    def print_info(self):\n",
    "        print('Name   : ', self.name)\n",
    "        print('Age    : ', self.age)\n",
    "        print('Gender : ', self.gender)"
   ]
  },
  {
   "cell_type": "code",
   "execution_count": 35,
   "metadata": {},
   "outputs": [],
   "source": [
    "# derived(child) class\n",
    "class learners(information):\n",
    "    def set_learner_data(self, exp = None, qual = None):\n",
    "        self.qual = qual\n",
    "        self.exp = exp\n",
    "   \n",
    "    def display(self):\n",
    "        self.print_info()\n",
    "        print('Qual   : ', self.qual)\n",
    "        print('Exp    : ', self.exp)\n",
    "    "
   ]
  },
  {
   "cell_type": "code",
   "execution_count": 36,
   "metadata": {},
   "outputs": [],
   "source": [
    "obj1 = learners('Mike', 40,'Male')"
   ]
  },
  {
   "cell_type": "code",
   "execution_count": 37,
   "metadata": {},
   "outputs": [
    {
     "name": "stdout",
     "output_type": "stream",
     "text": [
      "Name   :  Mike\n",
      "Age    :  40\n",
      "Gender :  Male\n"
     ]
    }
   ],
   "source": [
    "obj1.print_info()"
   ]
  },
  {
   "cell_type": "markdown",
   "metadata": {},
   "source": [
    "#### Multilevel Inheritence"
   ]
  },
  {
   "cell_type": "code",
   "execution_count": 38,
   "metadata": {},
   "outputs": [],
   "source": [
    "# base(parent) class\n",
    "class information:\n",
    "    def __init__(self, name, age, gender):\n",
    "        self.name = name\n",
    "        self.age = age\n",
    "        self.gender = gender\n",
    "    \n",
    "    def print_info(self):\n",
    "        print('Name   : ', self.name)\n",
    "        print('Age    : ', self.age)\n",
    "        print('Gender : ', self.gender)"
   ]
  },
  {
   "cell_type": "code",
   "execution_count": 39,
   "metadata": {},
   "outputs": [],
   "source": [
    "# derived class\n",
    "class learners(information):\n",
    "    def set_learner_data(self, exp = None, qual = None):\n",
    "        self.qual = qual\n",
    "        self.exp = exp\n",
    "   \n",
    "    def display(self):\n",
    "        self.print_info()\n",
    "        print('Qual   : ', self.qual)\n",
    "        print('Exp    : ', self.exp)"
   ]
  },
  {
   "cell_type": "code",
   "execution_count": 40,
   "metadata": {},
   "outputs": [],
   "source": [
    "class profile(learners):\n",
    "    pass"
   ]
  },
  {
   "cell_type": "code",
   "execution_count": 41,
   "metadata": {},
   "outputs": [],
   "source": [
    "obj3 = profile('John', 50, 'Male')"
   ]
  },
  {
   "cell_type": "code",
   "execution_count": 42,
   "metadata": {},
   "outputs": [
    {
     "name": "stdout",
     "output_type": "stream",
     "text": [
      "Name   :  John\n",
      "Age    :  50\n",
      "Gender :  Male\n"
     ]
    }
   ],
   "source": [
    "obj3.print_info()"
   ]
  },
  {
   "cell_type": "code",
   "execution_count": null,
   "metadata": {},
   "outputs": [],
   "source": [
    "obj3.set_learner_data(10, 'Test')"
   ]
  },
  {
   "cell_type": "markdown",
   "metadata": {},
   "source": [
    "#### Hierarchical Inheritance"
   ]
  },
  {
   "cell_type": "code",
   "execution_count": 43,
   "metadata": {},
   "outputs": [],
   "source": [
    "# base(parent) class\n",
    "class information:\n",
    "    def __init__(self, name, age, gender):\n",
    "        self.name = name\n",
    "        self.age = age\n",
    "        self.gender = gender\n",
    "    \n",
    "    def print_info(self):\n",
    "        print('Name   : ', self.name)\n",
    "        print('Age    : ', self.age)\n",
    "        print('Gender : ', self.gender)"
   ]
  },
  {
   "cell_type": "code",
   "execution_count": 44,
   "metadata": {},
   "outputs": [],
   "source": [
    "# derived class 1\n",
    "class learners(information):\n",
    "    def set_learner_data(self, exp = None, qual = None):\n",
    "        self.qual = qual\n",
    "        self.exp = exp\n",
    "   \n",
    "    def display(self):\n",
    "        self.print_info()\n",
    "        print('Qual   : ', self.qual)\n",
    "        print('Exp    : ', self.exp)"
   ]
  },
  {
   "cell_type": "code",
   "execution_count": 45,
   "metadata": {},
   "outputs": [],
   "source": [
    "# derived class 2\n",
    "class trainer(information):\n",
    "    def set_trainer_data(self, exp, charges ):\n",
    "        self.exp = exp\n",
    "        self.charges = charges\n",
    "    \n",
    "    def display_trainer(self):\n",
    "        self.print_info()\n",
    "        print('Experience        : ', self.exp)\n",
    "        print('Hourly Charges    : ', self.charges)"
   ]
  },
  {
   "cell_type": "markdown",
   "metadata": {},
   "source": [
    "## Encapsulation"
   ]
  },
  {
   "cell_type": "markdown",
   "metadata": {},
   "source": [
    "Encapsulation involves binding data and functions within a class, and restricting access using private attributes. This prevents external code from modifying internal state."
   ]
  },
  {
   "cell_type": "code",
   "execution_count": 47,
   "metadata": {},
   "outputs": [
    {
     "name": "stdout",
     "output_type": "stream",
     "text": [
      "Selling price: 900\n",
      "Selling price: 1000\n"
     ]
    }
   ],
   "source": [
    "class Computer:\n",
    "\n",
    "  def __init__(self):\n",
    "    self.__maxprice = 900\n",
    "\n",
    "  def sell(self): \n",
    "    print(f\"Selling price: {self.__maxprice}\")\n",
    "\n",
    "  def setMaxPrice(self, price):\n",
    "    self.__maxprice = price\n",
    "\n",
    "c = Computer() \n",
    "c.sell() # Selling price: 900\n",
    "\n",
    "# Can't directly change maxprice \n",
    "c.__maxprice = 1000 \n",
    "\n",
    "# Instead use set function  \n",
    "c.setMaxPrice(1000)  \n",
    "c.sell() # Selling price: 1000"
   ]
  },
  {
   "cell_type": "markdown",
   "metadata": {},
   "source": [
    "The __maxprice attribute is encapsulated and can only be changed via setMaxPrice.\n",
    "\n"
   ]
  },
  {
   "cell_type": "markdown",
   "metadata": {},
   "source": [
    "## Classes Connection"
   ]
  },
  {
   "cell_type": "markdown",
   "metadata": {},
   "source": [
    "- have a file for your class (separate module)\n",
    "    ```python\n",
    "    class HealthSystem:\n",
    "        #attributes\n",
    "        pass\n",
    "\n",
    "    ```\n",
    "- save the file in lower case e.g. healthsystem.py or main .py\n",
    "- `from healthsystem import HealthSystem` or main\n"
   ]
  },
  {
   "cell_type": "code",
   "execution_count": null,
   "metadata": {},
   "outputs": [],
   "source": []
  },
  {
   "cell_type": "markdown",
   "metadata": {},
   "source": [
    "## Summary"
   ]
  },
  {
   "cell_type": "markdown",
   "metadata": {},
   "source": [
    " **Here are examples of the OOP concepts encapsulation, polymorphism, and abstraction in Python, incorporating images:**\n",
    "\n",
    "**Encapsulation:**\n",
    "\n",
    "**Encapsulation refers to bundling data (attributes) and the methods that operate on that data within a single unit (class), protecting the data from direct external access.**\n",
    "\n",
    "**Example:**\n",
    "\n",
    "```python\n",
    "class BankAccount:\n",
    "    def __init__(self, name, balance):\n",
    "        self._name = name  # Private attribute (prefixed with _)\n",
    "        self._balance = balance  # Private attribute\n",
    "\n",
    "    def deposit(self, amount):\n",
    "        self._balance += amount\n",
    "        print(\"Deposited:\", amount)\n",
    "\n",
    "    def withdraw(self, amount):\n",
    "        if self._balance >= amount:\n",
    "            self._balance -= amount\n",
    "            print(\"Withdrew:\", amount)\n",
    "        else:\n",
    "            print(\"Insufficient funds\")\n",
    "\n",
    "    def get_balance(self):\n",
    "        return self._balance\n",
    "```\n",
    "\n",
    "**Key points:**\n",
    "\n",
    "- Data is hidden within the class, accessible only through its methods.\n",
    "- This protects data integrity and prevents accidental modifications.\n",
    "- It promotes modularity and makes code more maintainable.\n",
    "\n",
    "**Image:**\n",
    "[Image of a bank account class with private attributes and methods]\n",
    "\n",
    "**Polymorphism:**\n",
    "\n",
    "**Polymorphism means having multiple forms. In OOP, it allows objects of different classes to be treated as if they were objects of a common class, as long as they share a common interface (methods with the same names).**\n",
    "\n",
    "**Example:**\n",
    "\n",
    "```python\n",
    "class Shape:\n",
    "    def area(self):\n",
    "        raise NotImplementedError(\"Subclasses must implement this method\")\n",
    "\n",
    "class Rectangle(Shape):\n",
    "    def __init__(self, width, height):\n",
    "        self.width = width\n",
    "        self.height = height\n",
    "\n",
    "    def area(self):\n",
    "        return self.width * self.height\n",
    "\n",
    "class Circle(Shape):\n",
    "    def __init__(self, radius):\n",
    "        self.radius = radius\n",
    "\n",
    "    def area(self):\n",
    "        return 3.14 * self.radius ** 2\n",
    "\n",
    "shapes = [Rectangle(5, 4), Circle(3)]\n",
    "total_area = 0\n",
    "for shape in shapes:\n",
    "    total_area += shape.area()  # Polymorphic call to area() method\n",
    "print(\"Total area:\", total_area)\n",
    "```\n",
    "\n",
    "**Key points:**\n",
    "\n",
    "- Different classes can implement the same method in their own way.\n",
    "- Code can work with objects of different types without needing to know their specific classes.\n",
    "- This makes code more flexible and reusable.\n",
    "\n",
    "**Image:**\n",
    "[Image of a Shape class with subclasses Rectangle and Circle, demonstrating polymorphism]\n",
    "\n",
    "**Abstraction:**\n",
    "\n",
    "**Abstraction means focusing on essential features and hiding implementation details. In OOP, it involves creating abstract classes that define a general interface without providing concrete implementations.**\n",
    "\n",
    "**Example:**\n",
    "\n",
    "```python\n",
    "from abc import ABC, abstractmethod\n",
    "\n",
    "class Animal(ABC):\n",
    "    @abstractmethod\n",
    "    def make_sound(self):\n",
    "        pass\n",
    "\n",
    "class Dog(Animal):\n",
    "    def make_sound(self):\n",
    "        print(\"Woof!\")\n",
    "\n",
    "class Cat(Animal):\n",
    "    def make_sound(self):\n",
    "        print(\"Meow!\")\n",
    "```\n",
    "\n",
    "**Key points:**\n",
    "\n",
    "- Abstract classes cannot be instantiated directly.\n",
    "- Subclasses must implement the abstract methods to be concrete.\n",
    "- This promotes code reusability and flexibility by defining a common interface for related classes.\n",
    "\n",
    "**Image:**\n",
    "[Image of an Animal class with subclasses Dog and Cat, demonstrating abstraction]\n"
   ]
  },
  {
   "cell_type": "markdown",
   "metadata": {},
   "source": []
  },
  {
   "cell_type": "markdown",
   "metadata": {},
   "source": [
    "## Advanced"
   ]
  },
  {
   "cell_type": "markdown",
   "metadata": {},
   "source": [
    "### Dictate data types"
   ]
  },
  {
   "cell_type": "code",
   "execution_count": 24,
   "metadata": {},
   "outputs": [],
   "source": [
    "class HealthSys:\n",
    "    '''This is a class that governs and displays health information of patients'''\n",
    "\n",
    "    #step1 define inti function (initialization) or constructor\n",
    "    def __init__(self,name:str,age:int,location:str):\n",
    "        self.name: str = name\n",
    "        self.age: int = age\n",
    "        self.location: str = location\n",
    "\n",
    "    @property\n",
    "    def name(self) -> str:\n",
    "        return self._name\n",
    "\n",
    "    @name.setter\n",
    "    def name(self, value: str):\n",
    "        if isinstance(value, str):\n",
    "            raise TypeError('Name must be a string')\n",
    "        self.name = value\n",
    "\n",
    "    def print_info(self):\n",
    "        print('Individual Health Information:')\n",
    "        print('Name\\t\\t:', self.name)\n",
    "        print('Age\\t\\t:', self.age)\n",
    "        print('Location\\t:', self.location)\n",
    "\n",
    "    def introduce(self):\n",
    "        print(f'My name is {self.name} and I am {self.age} years old')\n"
   ]
  },
  {
   "cell_type": "code",
   "execution_count": 27,
   "metadata": {},
   "outputs": [],
   "source": [
    "class MyClass:\n",
    "    def __init__(self, name: str, age: int):\n",
    "        self.__dict__['name'] = name\n",
    "        self.__dict__['age'] = age\n",
    "\n",
    "    def __setattr__(self, name, value):\n",
    "        if name in self.__dict__:\n",
    "            self.__dict__[name] = value\n",
    "        else:\n",
    "            raise AttributeError(f\"Cannot add new attribute '{name}'\")\n",
    "\n",
    "    def __setitem__(self, key, value):\n",
    "        if key in self.__dict__:\n",
    "            self.__dict__[key] = value\n",
    "        else:\n",
    "            raise AttributeError(f\"Cannot add new method '{key}'\")\n",
    "\n",
    "    def greet(self):\n",
    "        return f\"Hello, my name is {self.name}.\"\n"
   ]
  },
  {
   "cell_type": "code",
   "execution_count": 28,
   "metadata": {},
   "outputs": [
    {
     "name": "stdout",
     "output_type": "stream",
     "text": [
      "Alice\n",
      "30\n"
     ]
    }
   ],
   "source": [
    "# Example usage\n",
    "obj = MyClass(\"Alice\", 30)\n",
    "print(obj.name)  # Output: Alice\n",
    "print(obj.age)   # Output: 30\n"
   ]
  },
  {
   "cell_type": "code",
   "execution_count": 29,
   "metadata": {},
   "outputs": [],
   "source": [
    "try:\n",
    "    obj.age = \"thirty\"  # This will raise a TypeError\n",
    "except TypeError as e:\n",
    "    print(e)  # Output: Age must be an integer"
   ]
  },
  {
   "cell_type": "code",
   "execution_count": 14,
   "metadata": {},
   "outputs": [
    {
     "data": {
      "text/plain": [
       "'Hello, my name is Alice.'"
      ]
     },
     "execution_count": 14,
     "metadata": {},
     "output_type": "execute_result"
    }
   ],
   "source": [
    "\n",
    "# Example usage\n",
    "obj = MyClass(\"Alice\", 30)\n",
    "obj.greet() # Output: Hello, my name is Alice.\n"
   ]
  },
  {
   "cell_type": "code",
   "execution_count": 17,
   "metadata": {},
   "outputs": [
    {
     "name": "stdout",
     "output_type": "stream",
     "text": [
      "Cannot add new attribute 'new_method'\n"
     ]
    }
   ],
   "source": [
    "\n",
    "try:\n",
    "    obj.new_method = lambda: \"This should not be allowed\"  # This will raise an AttributeError\n",
    "\n",
    "except AttributeError as e:\n",
    "    print(e)  # Output: Cannot add new attribute 'new_method'\n"
   ]
  },
  {
   "cell_type": "code",
   "execution_count": 32,
   "metadata": {},
   "outputs": [],
   "source": [
    "class Circle:\n",
    "  def __init__(self, radius):\n",
    "    self._radius = radius  # Private attribute\n",
    "\n",
    "  @property\n",
    "  def radius(self):\n",
    "    return self._radius\n",
    "\n",
    "  @radius.setter\n",
    "  def radius(self, value):\n",
    "    if not isinstance(value, (int, float)):\n",
    "      raise TypeError(\"radius must be a number\")\n",
    "    self._radius = value\n"
   ]
  },
  {
   "cell_type": "code",
   "execution_count": 34,
   "metadata": {},
   "outputs": [],
   "source": [
    "# This will pass type checking\n",
    "obj1 = Circle(23)"
   ]
  },
  {
   "cell_type": "code",
   "execution_count": 35,
   "metadata": {},
   "outputs": [],
   "source": [
    "# This will raise a warning during static type checking\n",
    "obj2 = Circle('23')\n"
   ]
  },
  {
   "cell_type": "code",
   "execution_count": 19,
   "metadata": {},
   "outputs": [],
   "source": [
    "class MyClass:\n",
    "  __slots__ = ('name', 'age')\n",
    "\n",
    "  def __init__(self, name, age):\n",
    "    self.name = name\n",
    "    self.age = age\n"
   ]
  },
  {
   "cell_type": "code",
   "execution_count": 20,
   "metadata": {},
   "outputs": [],
   "source": [
    "\n",
    "# This will work\n",
    "obj = MyClass(\"Bard\", 23)\n",
    "obj.name = \"Alice\"\n"
   ]
  },
  {
   "cell_type": "code",
   "execution_count": 21,
   "metadata": {},
   "outputs": [
    {
     "ename": "AttributeError",
     "evalue": "'MyClass' object has no attribute 'new_attribute'",
     "output_type": "error",
     "traceback": [
      "\u001b[0;31m---------------------------------------------------------------------------\u001b[0m",
      "\u001b[0;31mAttributeError\u001b[0m                            Traceback (most recent call last)",
      "Cell \u001b[0;32mIn[21], line 2\u001b[0m\n\u001b[1;32m      1\u001b[0m \u001b[38;5;66;03m# This will raise an AttributeError\u001b[39;00m\n\u001b[0;32m----> 2\u001b[0m \u001b[43mobj\u001b[49m\u001b[38;5;241;43m.\u001b[39;49m\u001b[43mnew_attribute\u001b[49m \u001b[38;5;241m=\u001b[39m \u001b[38;5;124m\"\u001b[39m\u001b[38;5;124mThis will fail\u001b[39m\u001b[38;5;124m\"\u001b[39m\n",
      "\u001b[0;31mAttributeError\u001b[0m: 'MyClass' object has no attribute 'new_attribute'"
     ]
    }
   ],
   "source": [
    "\n",
    "# This will raise an AttributeError\n",
    "obj.new_attribute = \"This will fail\"\n"
   ]
  },
  {
   "cell_type": "code",
   "execution_count": null,
   "metadata": {},
   "outputs": [],
   "source": [
    " def __setattr__(self, name, value):\n",
    "        if name not in ['name','age','location']:\n",
    "            raise AttributeError('Cannot set attribute')\n",
    "        super().__setattr__(name, value)"
   ]
  }
 ],
 "metadata": {
  "kernelspec": {
   "display_name": "Python 3.11.0 64-bit",
   "language": "python",
   "name": "python3"
  },
  "language_info": {
   "codemirror_mode": {
    "name": "ipython",
    "version": 3
   },
   "file_extension": ".py",
   "mimetype": "text/x-python",
   "name": "python",
   "nbconvert_exporter": "python",
   "pygments_lexer": "ipython3",
   "version": "3.11.3"
  },
  "orig_nbformat": 4,
  "vscode": {
   "interpreter": {
    "hash": "aee8b7b246df8f9039afb4144a1f6fd8d2ca17a180786b69acc140d282b71a49"
   }
  }
 },
 "nbformat": 4,
 "nbformat_minor": 2
}
