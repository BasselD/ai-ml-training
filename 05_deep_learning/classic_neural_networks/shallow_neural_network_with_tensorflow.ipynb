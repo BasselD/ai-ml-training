{
 "cells": [
  {
   "cell_type": "markdown",
   "metadata": {},
   "source": [
    "# Intro to DNN Using TensorFlow (Shallow Neural Networks)"
   ]
  },
  {
   "cell_type": "markdown",
   "metadata": {},
   "source": [
    "`pip install keras`"
   ]
  },
  {
   "cell_type": "code",
   "execution_count": 39,
   "metadata": {},
   "outputs": [],
   "source": [
    "import tensorflow as tf #will be used for activation functions\n",
    "from tensorflow.keras import models, layers #allow us to build our model and its components as layers\n",
    "from tensorflow.keras.datasets import mnist\n",
    "import matplotlib.pyplot as plt\n"
   ]
  },
  {
   "cell_type": "markdown",
   "metadata": {},
   "source": [
    "- The MNIST data comes in 2D format (we previously used already flattened format)\n",
    "- We need to flatten the dataset to use a traditional DNN"
   ]
  },
  {
   "cell_type": "markdown",
   "metadata": {},
   "source": [
    "![fl](https://testerstories.com/files/ai_and_ml/ml-mnist-2d-to-1d.png)"
   ]
  },
  {
   "cell_type": "markdown",
   "metadata": {},
   "source": [
    "## Step 1: Loading and Splitting The Data "
   ]
  },
  {
   "cell_type": "code",
   "execution_count": 3,
   "metadata": {},
   "outputs": [
    {
     "data": {
      "text/plain": [
       "((array([[[0, 0, 0, ..., 0, 0, 0],\n",
       "          [0, 0, 0, ..., 0, 0, 0],\n",
       "          [0, 0, 0, ..., 0, 0, 0],\n",
       "          ...,\n",
       "          [0, 0, 0, ..., 0, 0, 0],\n",
       "          [0, 0, 0, ..., 0, 0, 0],\n",
       "          [0, 0, 0, ..., 0, 0, 0]],\n",
       "  \n",
       "         [[0, 0, 0, ..., 0, 0, 0],\n",
       "          [0, 0, 0, ..., 0, 0, 0],\n",
       "          [0, 0, 0, ..., 0, 0, 0],\n",
       "          ...,\n",
       "          [0, 0, 0, ..., 0, 0, 0],\n",
       "          [0, 0, 0, ..., 0, 0, 0],\n",
       "          [0, 0, 0, ..., 0, 0, 0]],\n",
       "  \n",
       "         [[0, 0, 0, ..., 0, 0, 0],\n",
       "          [0, 0, 0, ..., 0, 0, 0],\n",
       "          [0, 0, 0, ..., 0, 0, 0],\n",
       "          ...,\n",
       "          [0, 0, 0, ..., 0, 0, 0],\n",
       "          [0, 0, 0, ..., 0, 0, 0],\n",
       "          [0, 0, 0, ..., 0, 0, 0]],\n",
       "  \n",
       "         ...,\n",
       "  \n",
       "         [[0, 0, 0, ..., 0, 0, 0],\n",
       "          [0, 0, 0, ..., 0, 0, 0],\n",
       "          [0, 0, 0, ..., 0, 0, 0],\n",
       "          ...,\n",
       "          [0, 0, 0, ..., 0, 0, 0],\n",
       "          [0, 0, 0, ..., 0, 0, 0],\n",
       "          [0, 0, 0, ..., 0, 0, 0]],\n",
       "  \n",
       "         [[0, 0, 0, ..., 0, 0, 0],\n",
       "          [0, 0, 0, ..., 0, 0, 0],\n",
       "          [0, 0, 0, ..., 0, 0, 0],\n",
       "          ...,\n",
       "          [0, 0, 0, ..., 0, 0, 0],\n",
       "          [0, 0, 0, ..., 0, 0, 0],\n",
       "          [0, 0, 0, ..., 0, 0, 0]],\n",
       "  \n",
       "         [[0, 0, 0, ..., 0, 0, 0],\n",
       "          [0, 0, 0, ..., 0, 0, 0],\n",
       "          [0, 0, 0, ..., 0, 0, 0],\n",
       "          ...,\n",
       "          [0, 0, 0, ..., 0, 0, 0],\n",
       "          [0, 0, 0, ..., 0, 0, 0],\n",
       "          [0, 0, 0, ..., 0, 0, 0]]], dtype=uint8),\n",
       "  array([5, 0, 4, ..., 5, 6, 8], dtype=uint8)),\n",
       " (array([[[0, 0, 0, ..., 0, 0, 0],\n",
       "          [0, 0, 0, ..., 0, 0, 0],\n",
       "          [0, 0, 0, ..., 0, 0, 0],\n",
       "          ...,\n",
       "          [0, 0, 0, ..., 0, 0, 0],\n",
       "          [0, 0, 0, ..., 0, 0, 0],\n",
       "          [0, 0, 0, ..., 0, 0, 0]],\n",
       "  \n",
       "         [[0, 0, 0, ..., 0, 0, 0],\n",
       "          [0, 0, 0, ..., 0, 0, 0],\n",
       "          [0, 0, 0, ..., 0, 0, 0],\n",
       "          ...,\n",
       "          [0, 0, 0, ..., 0, 0, 0],\n",
       "          [0, 0, 0, ..., 0, 0, 0],\n",
       "          [0, 0, 0, ..., 0, 0, 0]],\n",
       "  \n",
       "         [[0, 0, 0, ..., 0, 0, 0],\n",
       "          [0, 0, 0, ..., 0, 0, 0],\n",
       "          [0, 0, 0, ..., 0, 0, 0],\n",
       "          ...,\n",
       "          [0, 0, 0, ..., 0, 0, 0],\n",
       "          [0, 0, 0, ..., 0, 0, 0],\n",
       "          [0, 0, 0, ..., 0, 0, 0]],\n",
       "  \n",
       "         ...,\n",
       "  \n",
       "         [[0, 0, 0, ..., 0, 0, 0],\n",
       "          [0, 0, 0, ..., 0, 0, 0],\n",
       "          [0, 0, 0, ..., 0, 0, 0],\n",
       "          ...,\n",
       "          [0, 0, 0, ..., 0, 0, 0],\n",
       "          [0, 0, 0, ..., 0, 0, 0],\n",
       "          [0, 0, 0, ..., 0, 0, 0]],\n",
       "  \n",
       "         [[0, 0, 0, ..., 0, 0, 0],\n",
       "          [0, 0, 0, ..., 0, 0, 0],\n",
       "          [0, 0, 0, ..., 0, 0, 0],\n",
       "          ...,\n",
       "          [0, 0, 0, ..., 0, 0, 0],\n",
       "          [0, 0, 0, ..., 0, 0, 0],\n",
       "          [0, 0, 0, ..., 0, 0, 0]],\n",
       "  \n",
       "         [[0, 0, 0, ..., 0, 0, 0],\n",
       "          [0, 0, 0, ..., 0, 0, 0],\n",
       "          [0, 0, 0, ..., 0, 0, 0],\n",
       "          ...,\n",
       "          [0, 0, 0, ..., 0, 0, 0],\n",
       "          [0, 0, 0, ..., 0, 0, 0],\n",
       "          [0, 0, 0, ..., 0, 0, 0]]], dtype=uint8),\n",
       "  array([7, 2, 1, ..., 4, 5, 6], dtype=uint8)))"
      ]
     },
     "execution_count": 3,
     "metadata": {},
     "output_type": "execute_result"
    }
   ],
   "source": [
    "mnist.load_data()"
   ]
  },
  {
   "cell_type": "code",
   "execution_count": 4,
   "metadata": {},
   "outputs": [],
   "source": [
    "(X_train, y_train), (X_test, y_test) = mnist.load_data()\n"
   ]
  },
  {
   "cell_type": "code",
   "execution_count": 5,
   "metadata": {},
   "outputs": [
    {
     "data": {
      "text/plain": [
       "(0, 255)"
      ]
     },
     "execution_count": 5,
     "metadata": {},
     "output_type": "execute_result"
    }
   ],
   "source": [
    "X_train.min(), X_train.max()"
   ]
  },
  {
   "cell_type": "code",
   "execution_count": 6,
   "metadata": {},
   "outputs": [
    {
     "data": {
      "text/plain": [
       "((60000, 28, 28), (10000, 28, 28))"
      ]
     },
     "execution_count": 6,
     "metadata": {},
     "output_type": "execute_result"
    }
   ],
   "source": [
    "X_train.shape, X_test.shape"
   ]
  },
  {
   "cell_type": "code",
   "execution_count": 7,
   "metadata": {},
   "outputs": [
    {
     "data": {
      "text/plain": [
       "0.14285714285714285"
      ]
     },
     "execution_count": 7,
     "metadata": {},
     "output_type": "execute_result"
    }
   ],
   "source": [
    "X_test.shape[0]/(X_test.shape[0]+X_train.shape[0])"
   ]
  },
  {
   "cell_type": "code",
   "execution_count": 8,
   "metadata": {},
   "outputs": [
    {
     "data": {
      "text/plain": [
       "47.04"
      ]
     },
     "execution_count": 8,
     "metadata": {},
     "output_type": "execute_result"
    }
   ],
   "source": [
    "X_train.nbytes/1000000"
   ]
  },
  {
   "cell_type": "markdown",
   "metadata": {},
   "source": [
    "## Step 2: Building The Neural Network Model"
   ]
  },
  {
   "cell_type": "markdown",
   "metadata": {},
   "source": [
    "- In this stage, we make a decision about the architecture of our Neural Network and the components that will be used.\n",
    "- For this exercise, we'll be using `Sequential` to assemble the following:\n",
    "    - First Layer: Input Layer \n",
    "    - Second Layer: Flattening functionality\n",
    "    - Third Layer: Hidden Layer with RelU Activation Function and 128 neurons\n",
    "    - Fourth Layer: Output "
   ]
  },
  {
   "cell_type": "code",
   "execution_count": 9,
   "metadata": {},
   "outputs": [],
   "source": [
    "nn_model = models.Sequential(\n",
    "                        [\n",
    "                       layers.Input(shape=(28,28)),\n",
    "                       layers.Flatten(),\n",
    "                       layers.Dense(128, activation='relu'), # the choice of num of neurons is a hyperparameter and can be perfected via trial and error\n",
    "                       layers.Dense(10) # choosing 10 neurons that match the number of predicted classes\n",
    "                        ] \n",
    "                    )"
   ]
  },
  {
   "cell_type": "code",
   "execution_count": 10,
   "metadata": {},
   "outputs": [
    {
     "data": {
      "text/html": [
       "<pre style=\"white-space:pre;overflow-x:auto;line-height:normal;font-family:Menlo,'DejaVu Sans Mono',consolas,'Courier New',monospace\"><span style=\"font-weight: bold\">Model: \"sequential\"</span>\n",
       "</pre>\n"
      ],
      "text/plain": [
       "\u001b[1mModel: \"sequential\"\u001b[0m\n"
      ]
     },
     "metadata": {},
     "output_type": "display_data"
    },
    {
     "data": {
      "text/html": [
       "<pre style=\"white-space:pre;overflow-x:auto;line-height:normal;font-family:Menlo,'DejaVu Sans Mono',consolas,'Courier New',monospace\">┏━━━━━━━━━━━━━━━━━━━━━━━━━━━━━━━━━┳━━━━━━━━━━━━━━━━━━━━━━━━┳━━━━━━━━━━━━━━━┓\n",
       "┃<span style=\"font-weight: bold\"> Layer (type)                    </span>┃<span style=\"font-weight: bold\"> Output Shape           </span>┃<span style=\"font-weight: bold\">       Param # </span>┃\n",
       "┡━━━━━━━━━━━━━━━━━━━━━━━━━━━━━━━━━╇━━━━━━━━━━━━━━━━━━━━━━━━╇━━━━━━━━━━━━━━━┩\n",
       "│ flatten (<span style=\"color: #0087ff; text-decoration-color: #0087ff\">Flatten</span>)               │ (<span style=\"color: #00d7ff; text-decoration-color: #00d7ff\">None</span>, <span style=\"color: #00af00; text-decoration-color: #00af00\">784</span>)            │             <span style=\"color: #00af00; text-decoration-color: #00af00\">0</span> │\n",
       "├─────────────────────────────────┼────────────────────────┼───────────────┤\n",
       "│ dense (<span style=\"color: #0087ff; text-decoration-color: #0087ff\">Dense</span>)                   │ (<span style=\"color: #00d7ff; text-decoration-color: #00d7ff\">None</span>, <span style=\"color: #00af00; text-decoration-color: #00af00\">128</span>)            │       <span style=\"color: #00af00; text-decoration-color: #00af00\">100,480</span> │\n",
       "├─────────────────────────────────┼────────────────────────┼───────────────┤\n",
       "│ dense_1 (<span style=\"color: #0087ff; text-decoration-color: #0087ff\">Dense</span>)                 │ (<span style=\"color: #00d7ff; text-decoration-color: #00d7ff\">None</span>, <span style=\"color: #00af00; text-decoration-color: #00af00\">10</span>)             │         <span style=\"color: #00af00; text-decoration-color: #00af00\">1,290</span> │\n",
       "└─────────────────────────────────┴────────────────────────┴───────────────┘\n",
       "</pre>\n"
      ],
      "text/plain": [
       "┏━━━━━━━━━━━━━━━━━━━━━━━━━━━━━━━━━┳━━━━━━━━━━━━━━━━━━━━━━━━┳━━━━━━━━━━━━━━━┓\n",
       "┃\u001b[1m \u001b[0m\u001b[1mLayer (type)                   \u001b[0m\u001b[1m \u001b[0m┃\u001b[1m \u001b[0m\u001b[1mOutput Shape          \u001b[0m\u001b[1m \u001b[0m┃\u001b[1m \u001b[0m\u001b[1m      Param #\u001b[0m\u001b[1m \u001b[0m┃\n",
       "┡━━━━━━━━━━━━━━━━━━━━━━━━━━━━━━━━━╇━━━━━━━━━━━━━━━━━━━━━━━━╇━━━━━━━━━━━━━━━┩\n",
       "│ flatten (\u001b[38;5;33mFlatten\u001b[0m)               │ (\u001b[38;5;45mNone\u001b[0m, \u001b[38;5;34m784\u001b[0m)            │             \u001b[38;5;34m0\u001b[0m │\n",
       "├─────────────────────────────────┼────────────────────────┼───────────────┤\n",
       "│ dense (\u001b[38;5;33mDense\u001b[0m)                   │ (\u001b[38;5;45mNone\u001b[0m, \u001b[38;5;34m128\u001b[0m)            │       \u001b[38;5;34m100,480\u001b[0m │\n",
       "├─────────────────────────────────┼────────────────────────┼───────────────┤\n",
       "│ dense_1 (\u001b[38;5;33mDense\u001b[0m)                 │ (\u001b[38;5;45mNone\u001b[0m, \u001b[38;5;34m10\u001b[0m)             │         \u001b[38;5;34m1,290\u001b[0m │\n",
       "└─────────────────────────────────┴────────────────────────┴───────────────┘\n"
      ]
     },
     "metadata": {},
     "output_type": "display_data"
    },
    {
     "data": {
      "text/html": [
       "<pre style=\"white-space:pre;overflow-x:auto;line-height:normal;font-family:Menlo,'DejaVu Sans Mono',consolas,'Courier New',monospace\"><span style=\"font-weight: bold\"> Total params: </span><span style=\"color: #00af00; text-decoration-color: #00af00\">101,770</span> (397.54 KB)\n",
       "</pre>\n"
      ],
      "text/plain": [
       "\u001b[1m Total params: \u001b[0m\u001b[38;5;34m101,770\u001b[0m (397.54 KB)\n"
      ]
     },
     "metadata": {},
     "output_type": "display_data"
    },
    {
     "data": {
      "text/html": [
       "<pre style=\"white-space:pre;overflow-x:auto;line-height:normal;font-family:Menlo,'DejaVu Sans Mono',consolas,'Courier New',monospace\"><span style=\"font-weight: bold\"> Trainable params: </span><span style=\"color: #00af00; text-decoration-color: #00af00\">101,770</span> (397.54 KB)\n",
       "</pre>\n"
      ],
      "text/plain": [
       "\u001b[1m Trainable params: \u001b[0m\u001b[38;5;34m101,770\u001b[0m (397.54 KB)\n"
      ]
     },
     "metadata": {},
     "output_type": "display_data"
    },
    {
     "data": {
      "text/html": [
       "<pre style=\"white-space:pre;overflow-x:auto;line-height:normal;font-family:Menlo,'DejaVu Sans Mono',consolas,'Courier New',monospace\"><span style=\"font-weight: bold\"> Non-trainable params: </span><span style=\"color: #00af00; text-decoration-color: #00af00\">0</span> (0.00 B)\n",
       "</pre>\n"
      ],
      "text/plain": [
       "\u001b[1m Non-trainable params: \u001b[0m\u001b[38;5;34m0\u001b[0m (0.00 B)\n"
      ]
     },
     "metadata": {},
     "output_type": "display_data"
    }
   ],
   "source": [
    "nn_model.summary()"
   ]
  },
  {
   "cell_type": "code",
   "execution_count": 11,
   "metadata": {},
   "outputs": [
    {
     "data": {
      "text/plain": [
       "100480"
      ]
     },
     "execution_count": 11,
     "metadata": {},
     "output_type": "execute_result"
    }
   ],
   "source": [
    "784 * 128 + 128"
   ]
  },
  {
   "cell_type": "markdown",
   "metadata": {},
   "source": [
    "- The summary is useful to get info about the architecture and num of layers and neurons.\n",
    "- The first number  is the input (num of pixels)\n",
    "- Second row shows 100,480 parameters = (784 Inp neurons x 128 HL neurons) weight count + 128 biases. Or 100,352 weights + 128 biases\n",
    "- Third row 1,290 = 128 * 10 + 10"
   ]
  },
  {
   "cell_type": "markdown",
   "metadata": {},
   "source": [
    "## Step 3: Defining The Loss Function And The Optimizer"
   ]
  },
  {
   "cell_type": "markdown",
   "metadata": {},
   "source": [
    "- The loss function measures the difference between predicted outputs and actual outputs\n",
    "- We have different types:\n",
    "    - Regression:\n",
    "        - Mean Squared Error (MSE)\n",
    "        - Mean Absolute Error (MAE)\n",
    "    - Classification:\n",
    "        - Binary Cross-Entropy Loss\n",
    "        - Categorical Cross-Entropy\n",
    "- Since we have 10 categories, we need to use `SparseCategoricalCrossentropy`\n",
    "- It's always recommended to start with the Adam optimizer because it has been proven it's the best of the best.\n",
    "> Note 1: Although it was proven that Adam gives the best results, that doesn't mean we should ignore others. We can consider them if the model doesn't perform well. (aka Hyperparameter tuning)\n",
    "\n",
    "> Note 2: Since we don't have an activation function in the output layer, we need to enable `from_logits` functionality."
   ]
  },
  {
   "cell_type": "code",
   "execution_count": 12,
   "metadata": {},
   "outputs": [],
   "source": [
    "from tensorflow.keras import losses\n",
    "\n",
    "loss_fn = losses.SparseCategoricalCrossentropy(from_logits=True)"
   ]
  },
  {
   "cell_type": "code",
   "execution_count": 13,
   "metadata": {},
   "outputs": [],
   "source": [
    "opt_algo = 'adam'"
   ]
  },
  {
   "cell_type": "markdown",
   "metadata": {},
   "source": [
    "## Step 4: Compile The Model"
   ]
  },
  {
   "cell_type": "markdown",
   "metadata": {},
   "source": [
    "Compiling the model simply attaches the loss func, optimizer, and loss measurement into the main model."
   ]
  },
  {
   "cell_type": "code",
   "execution_count": 14,
   "metadata": {},
   "outputs": [],
   "source": [
    "nn_model.compile(optimizer=opt_algo,\n",
    "                 loss=loss_fn,\n",
    "                 metrics=['accuracy']\n",
    "                 )"
   ]
  },
  {
   "cell_type": "code",
   "execution_count": 15,
   "metadata": {},
   "outputs": [
    {
     "name": "stdout",
     "output_type": "stream",
     "text": [
      "Epoch 1/6\n",
      "\u001b[1m1500/1500\u001b[0m \u001b[32m━━━━━━━━━━━━━━━━━━━━\u001b[0m\u001b[37m\u001b[0m \u001b[1m2s\u001b[0m 921us/step - accuracy: 0.8175 - loss: 7.3567 - val_accuracy: 0.8829 - val_loss: 0.5453\n",
      "Epoch 2/6\n",
      "\u001b[1m1500/1500\u001b[0m \u001b[32m━━━━━━━━━━━━━━━━━━━━\u001b[0m\u001b[37m\u001b[0m \u001b[1m2s\u001b[0m 1ms/step - accuracy: 0.9033 - loss: 0.4318 - val_accuracy: 0.9120 - val_loss: 0.3748\n",
      "Epoch 3/6\n",
      "\u001b[1m1500/1500\u001b[0m \u001b[32m━━━━━━━━━━━━━━━━━━━━\u001b[0m\u001b[37m\u001b[0m \u001b[1m1s\u001b[0m 909us/step - accuracy: 0.9276 - loss: 0.2901 - val_accuracy: 0.9268 - val_loss: 0.3203\n",
      "Epoch 4/6\n",
      "\u001b[1m1500/1500\u001b[0m \u001b[32m━━━━━━━━━━━━━━━━━━━━\u001b[0m\u001b[37m\u001b[0m \u001b[1m1s\u001b[0m 944us/step - accuracy: 0.9348 - loss: 0.2570 - val_accuracy: 0.9332 - val_loss: 0.2985\n",
      "Epoch 5/6\n",
      "\u001b[1m1500/1500\u001b[0m \u001b[32m━━━━━━━━━━━━━━━━━━━━\u001b[0m\u001b[37m\u001b[0m \u001b[1m1s\u001b[0m 939us/step - accuracy: 0.9359 - loss: 0.2517 - val_accuracy: 0.9336 - val_loss: 0.2963\n",
      "Epoch 6/6\n",
      "\u001b[1m1500/1500\u001b[0m \u001b[32m━━━━━━━━━━━━━━━━━━━━\u001b[0m\u001b[37m\u001b[0m \u001b[1m1s\u001b[0m 890us/step - accuracy: 0.9461 - loss: 0.2099 - val_accuracy: 0.9369 - val_loss: 0.2636\n"
     ]
    }
   ],
   "source": [
    "epoch_num = 6\n",
    "#we define the fit as an object to preserve the training log history\n",
    "model_history = nn_model.fit(X_train,\n",
    "                             y_train,\n",
    "                             validation_split=0.2,\n",
    "                             epochs=epoch_num\n",
    "                                )"
   ]
  },
  {
   "cell_type": "markdown",
   "metadata": {},
   "source": [
    "- The model fits the data using 6 epochs\n",
    "- We can see that accuracy is improving over num of epochs and loss is decreasing for both Training and Validation.\n",
    "- Therefore, we don't have overfitting."
   ]
  },
  {
   "cell_type": "markdown",
   "metadata": {},
   "source": [
    "## Step 5: Final Evaluation"
   ]
  },
  {
   "cell_type": "code",
   "execution_count": 16,
   "metadata": {},
   "outputs": [
    {
     "name": "stdout",
     "output_type": "stream",
     "text": [
      "313/313 - 0s - 418us/step - accuracy: 0.9327 - loss: 0.2890\n"
     ]
    },
    {
     "data": {
      "text/plain": [
       "[0.2890131175518036, 0.932699978351593]"
      ]
     },
     "execution_count": 16,
     "metadata": {},
     "output_type": "execute_result"
    }
   ],
   "source": [
    "nn_model.evaluate(X_test, y_test, verbose=2)"
   ]
  },
  {
   "cell_type": "markdown",
   "metadata": {},
   "source": [
    "Another way to evaluate a mode, is to plot the history"
   ]
  },
  {
   "cell_type": "code",
   "execution_count": 17,
   "metadata": {},
   "outputs": [
    {
     "data": {
      "text/plain": [
       "{'accuracy': [0.8559374809265137,\n",
       "  0.9093124866485596,\n",
       "  0.9276458621025085,\n",
       "  0.9334999918937683,\n",
       "  0.9380208253860474,\n",
       "  0.9445833563804626],\n",
       " 'loss': [2.83634352684021,\n",
       "  0.40272167325019836,\n",
       "  0.2970728874206543,\n",
       "  0.2662530243396759,\n",
       "  0.2440980076789856,\n",
       "  0.22311528027057648],\n",
       " 'val_accuracy': [0.8829166889190674,\n",
       "  0.9120000004768372,\n",
       "  0.9267500042915344,\n",
       "  0.9331666827201843,\n",
       "  0.9335833191871643,\n",
       "  0.9369166493415833],\n",
       " 'val_loss': [0.5452569723129272,\n",
       "  0.37484583258628845,\n",
       "  0.32026591897010803,\n",
       "  0.2984551191329956,\n",
       "  0.2963266670703888,\n",
       "  0.26360493898391724]}"
      ]
     },
     "execution_count": 17,
     "metadata": {},
     "output_type": "execute_result"
    }
   ],
   "source": [
    "model_history.history #our log was captured in a dictionary"
   ]
  },
  {
   "cell_type": "code",
   "execution_count": 18,
   "metadata": {},
   "outputs": [],
   "source": [
    "plt.style.use('bmh')"
   ]
  },
  {
   "cell_type": "code",
   "execution_count": 19,
   "metadata": {},
   "outputs": [
    {
     "data": {
      "text/plain": [
       "<matplotlib.legend.Legend at 0x2f631ec90>"
      ]
     },
     "execution_count": 19,
     "metadata": {},
     "output_type": "execute_result"
    },
    {
     "data": {
      "image/png": "[encoded data removed]",
      "text/plain": [
       "<Figure size 640x480 with 1 Axes>"
      ]
     },
     "metadata": {},
     "output_type": "display_data"
    }
   ],
   "source": [
    "epoch_axis_val = range(1,epoch_num+1)\n",
    "plt.plot(epoch_axis_val,model_history.history['accuracy'], label = 'Training Accuracy')\n",
    "plt.plot(epoch_axis_val,model_history.history['val_accuracy'], label = 'Validation Accuracy')\n",
    "\n",
    "plt.xlabel('Epochs')\n",
    "plt.ylabel('Accuracy')\n",
    "plt.legend()"
   ]
  },
  {
   "cell_type": "markdown",
   "metadata": {},
   "source": [
    "- We can see that a gap starts to form between training and validation, which is an indicator of overfitting emerging\n",
    "- The difference is not substantial yet. Therefore, epoch of 5 or 6 is  a good number to use."
   ]
  },
  {
   "cell_type": "code",
   "execution_count": 20,
   "metadata": {},
   "outputs": [
    {
     "data": {
      "text/plain": [
       "<matplotlib.legend.Legend at 0x2f6383ad0>"
      ]
     },
     "execution_count": 20,
     "metadata": {},
     "output_type": "execute_result"
    },
    {
     "data": {
      "image/png": "[encoded data removed]",
      "text/plain": [
       "<Figure size 640x480 with 1 Axes>"
      ]
     },
     "metadata": {},
     "output_type": "display_data"
    }
   ],
   "source": [
    "plt.plot(epoch_axis_val,model_history.history['loss'], label = 'Training Loss')\n",
    "plt.plot(epoch_axis_val,model_history.history['val_loss'], label = 'Validation Loss')\n",
    "\n",
    "plt.xlabel('Epochs')\n",
    "plt.ylabel('Loss')\n",
    "plt.legend()"
   ]
  },
  {
   "cell_type": "markdown",
   "metadata": {},
   "source": [
    "## Optional Step: Visual Evaluation"
   ]
  },
  {
   "cell_type": "markdown",
   "metadata": {},
   "source": [
    "Make the prediction of the test data"
   ]
  },
  {
   "cell_type": "code",
   "execution_count": 21,
   "metadata": {},
   "outputs": [
    {
     "name": "stdout",
     "output_type": "stream",
     "text": [
      "\u001b[1m313/313\u001b[0m \u001b[32m━━━━━━━━━━━━━━━━━━━━\u001b[0m\u001b[37m\u001b[0m \u001b[1m0s\u001b[0m 317us/step\n"
     ]
    }
   ],
   "source": [
    "predictions = nn_model.predict(X_test)"
   ]
  },
  {
   "cell_type": "code",
   "execution_count": 22,
   "metadata": {},
   "outputs": [
    {
     "data": {
      "text/plain": [
       "array([[-41.724167  , -18.918526  , -13.663322  , ...,  15.169511  ,\n",
       "        -13.696757  , -18.4467    ],\n",
       "       [ 28.135765  ,  63.777653  ,  78.120575  , ...,  28.647732  ,\n",
       "         11.497649  , -45.014957  ],\n",
       "       [ -7.607715  ,  18.106054  ,   8.71617   , ...,  10.481345  ,\n",
       "          0.44736898,   1.0238554 ],\n",
       "       ...,\n",
       "       [-45.45288   , -35.849747  ,   9.467047  , ...,   7.1334667 ,\n",
       "          2.5849164 ,   4.5632586 ],\n",
       "       [ 46.427498  ,  43.1412    ,   5.948466  , ...,  28.232206  ,\n",
       "         45.271584  , -39.898987  ],\n",
       "       [-42.29484   , -48.063248  , -40.423153  , ..., -52.96675   ,\n",
       "        -57.610443  , -57.97733   ]], dtype=float32)"
      ]
     },
     "execution_count": 22,
     "metadata": {},
     "output_type": "execute_result"
    }
   ],
   "source": [
    "predictions"
   ]
  },
  {
   "cell_type": "markdown",
   "metadata": {},
   "source": [
    "Since we don't have an activation function in the output layer, the output is raw. Therefore, we need to convert it to readable output (10 classes) using `argmax()` function."
   ]
  },
  {
   "cell_type": "code",
   "execution_count": 45,
   "metadata": {},
   "outputs": [
    {
     "data": {
      "text/plain": [
       "<tf.Tensor: shape=(10,), dtype=float32, numpy=\n",
       "array([1.9560957e-25, 1.5694744e-15, 3.0064915e-13, 1.8426475e-09,\n",
       "       3.3302908e-16, 1.2141107e-11, 0.0000000e+00, 1.0000000e+00,\n",
       "       2.9076291e-13, 2.5157361e-15], dtype=float32)>"
      ]
     },
     "execution_count": 45,
     "metadata": {},
     "output_type": "execute_result"
    }
   ],
   "source": [
    "first_prediction = tf.math.softmax(predictions[0])\n",
    "first_prediction"
   ]
  },
  {
   "cell_type": "code",
   "execution_count": 50,
   "metadata": {},
   "outputs": [
    {
     "data": {
      "text/plain": [
       "<tf.Tensor: shape=(), dtype=float32, numpy=1.0>"
      ]
     },
     "execution_count": 50,
     "metadata": {},
     "output_type": "execute_result"
    }
   ],
   "source": [
    "# if you sum up the prob values above\n",
    "tf.reduce_sum(first_prediction)"
   ]
  },
  {
   "cell_type": "markdown",
   "metadata": {},
   "source": [
    "- You can see the probabilities above for each class.\n",
    "- They all add to 1"
   ]
  },
  {
   "cell_type": "code",
   "execution_count": 47,
   "metadata": {},
   "outputs": [
    {
     "data": {
      "text/plain": [
       "<tf.Tensor: shape=(), dtype=int64, numpy=7>"
      ]
     },
     "execution_count": 47,
     "metadata": {},
     "output_type": "execute_result"
    }
   ],
   "source": [
    "first_prediction_final = tf.math.argmax(first_prediction)\n",
    "first_prediction_final"
   ]
  },
  {
   "cell_type": "markdown",
   "metadata": {},
   "source": [
    "The first prediction is 7"
   ]
  },
  {
   "cell_type": "markdown",
   "metadata": {},
   "source": [
    "Get the results for all in one shot."
   ]
  },
  {
   "cell_type": "code",
   "execution_count": 51,
   "metadata": {},
   "outputs": [],
   "source": [
    "predicted_classes = tf.math.argmax(predictions, axis=1)"
   ]
  },
  {
   "cell_type": "code",
   "execution_count": 52,
   "metadata": {},
   "outputs": [
    {
     "data": {
      "text/plain": [
       "<tf.Tensor: shape=(20,), dtype=int64, numpy=array([7, 2, 1, 0, 4, 1, 4, 9, 5, 9, 0, 6, 9, 0, 1, 5, 9, 7, 8, 4])>"
      ]
     },
     "execution_count": 52,
     "metadata": {},
     "output_type": "execute_result"
    }
   ],
   "source": [
    "predicted_classes[:20]"
   ]
  },
  {
   "cell_type": "code",
   "execution_count": 53,
   "metadata": {},
   "outputs": [],
   "source": [
    "num_samples = 15\n",
    "sample_X = X_test[:num_samples]\n",
    "sample_images = sample_X.reshape(num_samples, 28, 28) \n",
    "sample_labels_pred = predicted_classes[:num_samples]\n"
   ]
  },
  {
   "cell_type": "code",
   "execution_count": 54,
   "metadata": {},
   "outputs": [
    {
     "data": {
      "image/png": "[encoded data removed]",
      "text/plain": [
       "<Figure size 2800x300 with 15 Axes>"
      ]
     },
     "metadata": {},
     "output_type": "display_data"
    }
   ],
   "source": [
    "plt.figure(figsize=(28, 3))\n",
    "plt.suptitle(\"Predicted vs Actual Images\", fontsize=18, color='Blue', y=0.9)\n",
    "\n",
    "\n",
    "for img in range(num_samples):\n",
    "    plt.subplot(1, num_samples, img +1)\n",
    "    plt.imshow(sample_images[img], cmap='gray')\n",
    "    plt.title(f'Pred: {sample_labels_pred[img]}', fontsize=16)\n",
    "    plt.axis('off')"
   ]
  },
  {
   "cell_type": "markdown",
   "metadata": {},
   "source": [
    "Take a look at the labels that did not match (pred vs actual)"
   ]
  },
  {
   "cell_type": "code",
   "execution_count": 55,
   "metadata": {},
   "outputs": [
    {
     "data": {
      "text/plain": [
       "<tf.Tensor: shape=(10000,), dtype=bool, numpy=array([False, False, False, ..., False, False, False])>"
      ]
     },
     "execution_count": 55,
     "metadata": {},
     "output_type": "execute_result"
    }
   ],
   "source": [
    "predicted_classes != y_test"
   ]
  },
  {
   "cell_type": "code",
   "execution_count": 56,
   "metadata": {},
   "outputs": [
    {
     "data": {
      "text/plain": [
       "(array([  18,   38,   62,   97,  111,  119,  149,  151,  158,  193,  195,\n",
       "         211,  217,  230,  241,  247,  259,  291,  300,  303,  320,  321,\n",
       "         326,  340,  352,  358,  359,  366,  381,  405,  445,  447,  448,\n",
       "         449,  450,  457,  468,  479,  492,  495,  507,  508,  511,  547,\n",
       "         548,  552,  569,  582,  583,  591,  605,  610,  619,  638,  659,\n",
       "         684,  691,  692,  699,  707,  715,  717,  720,  726,  734,  738,\n",
       "         810,  839,  882,  887,  890,  894,  898,  922,  924,  930,  938,\n",
       "         939,  950,  956,  962,  965,  982, 1012, 1014, 1032, 1039, 1045,\n",
       "        1050, 1107, 1112, 1122, 1157, 1178, 1181, 1182, 1191, 1194, 1204,\n",
       "        1206, 1212, 1226, 1228, 1232, 1234, 1239, 1242, 1247, 1253, 1256,\n",
       "        1260, 1273, 1281, 1282, 1283, 1290, 1292, 1299, 1315, 1326, 1328,\n",
       "        1337, 1388, 1393, 1404, 1413, 1414, 1436, 1444, 1458, 1465, 1469,\n",
       "        1482, 1490, 1494, 1500, 1522, 1525, 1527, 1530, 1531, 1549, 1553,\n",
       "        1554, 1559, 1569, 1587, 1607, 1609, 1616, 1617, 1626, 1634, 1671,\n",
       "        1678, 1681, 1696, 1709, 1717, 1732, 1737, 1754, 1781, 1790, 1800,\n",
       "        1828, 1838, 1843, 1878, 1883, 1901, 1903, 1941, 1952, 1955, 1982,\n",
       "        1989, 1992, 2004, 2016, 2024, 2040, 2043, 2044, 2052, 2070, 2098,\n",
       "        2109, 2118, 2129, 2135, 2153, 2162, 2174, 2182, 2186, 2189, 2197,\n",
       "        2198, 2215, 2266, 2272, 2293, 2299, 2320, 2325, 2371, 2387, 2393,\n",
       "        2404, 2406, 2408, 2422, 2426, 2454, 2478, 2488, 2511, 2582, 2594,\n",
       "        2607, 2618, 2636, 2639, 2648, 2654, 2689, 2713, 2720, 2730, 2750,\n",
       "        2758, 2760, 2770, 2771, 2810, 2860, 2863, 2907, 2915, 2921, 2926,\n",
       "        2927, 2938, 2939, 2945, 2952, 2953, 2995, 3005, 3023, 3030, 3060,\n",
       "        3062, 3073, 3108, 3110, 3115, 3117, 3130, 3136, 3138, 3206, 3218,\n",
       "        3240, 3251, 3260, 3269, 3280, 3284, 3316, 3329, 3341, 3342, 3369,\n",
       "        3377, 3392, 3422, 3425, 3469, 3488, 3503, 3520, 3533, 3534, 3543,\n",
       "        3549, 3550, 3558, 3559, 3567, 3575, 3578, 3597, 3702, 3723, 3751,\n",
       "        3755, 3757, 3766, 3767, 3772, 3776, 3780, 3806, 3808, 3811, 3817,\n",
       "        3821, 3825, 3838, 3848, 3853, 3856, 3869, 3876, 3902, 3906, 3926,\n",
       "        3941, 3943, 3946, 3953, 3984, 3985, 3995, 4007, 4018, 4027, 4044,\n",
       "        4063, 4065, 4078, 4102, 4156, 4163, 4176, 4201, 4205, 4211, 4212,\n",
       "        4224, 4228, 4238, 4242, 4248, 4255, 4265, 4271, 4276, 4284, 4289,\n",
       "        4297, 4306, 4311, 4317, 4321, 4344, 4350, 4355, 4359, 4369, 4380,\n",
       "        4400, 4433, 4439, 4444, 4449, 4451, 4498, 4500, 4505, 4528, 4534,\n",
       "        4536, 4540, 4552, 4571, 4575, 4578, 4601, 4615, 4619, 4664, 4690,\n",
       "        4699, 4731, 4736, 4740, 4751, 4755, 4761, 4798, 4807, 4808, 4814,\n",
       "        4823, 4833, 4837, 4838, 4856, 4861, 4874, 4879, 4880, 4882, 4886,\n",
       "        4890, 4911, 4943, 4950, 4952, 4966, 4987, 4990, 4995, 5001, 5046,\n",
       "        5067, 5068, 5078, 5089, 5138, 5140, 5165, 5183, 5268, 5269, 5278,\n",
       "        5288, 5331, 5457, 5573, 5600, 5611, 5634, 5642, 5676, 5734, 5749,\n",
       "        5832, 5835, 5851, 5887, 5888, 5955, 5973, 6011, 6023, 6030, 6035,\n",
       "        6045, 6059, 6065, 6071, 6081, 6091, 6109, 6112, 6115, 6124, 6126,\n",
       "        6151, 6157, 6166, 6168, 6172, 6173, 6174, 6213, 6272, 6347, 6365,\n",
       "        6390, 6391, 6392, 6426, 6455, 6474, 6505, 6511, 6555, 6560, 6574,\n",
       "        6575, 6576, 6597, 6603, 6608, 6624, 6625, 6636, 6645, 6651, 6658,\n",
       "        6710, 6718, 6721, 6725, 6741, 6742, 6744, 6761, 6783, 6785, 6796,\n",
       "        6802, 6817, 6867, 6906, 6926, 6988, 7075, 7089, 7094, 7210, 7216,\n",
       "        7233, 7243, 7249, 7338, 7349, 7401, 7432, 7459, 7476, 7489, 7505,\n",
       "        7511, 7539, 7551, 7558, 7692, 7738, 7746, 7783, 7790, 7798, 7800,\n",
       "        7806, 7812, 7821, 7839, 7847, 7851, 7856, 7896, 7899, 7900, 7905,\n",
       "        7916, 7928, 7945, 7983, 7990, 8010, 8020, 8061, 8071, 8081, 8091,\n",
       "        8092, 8094, 8095, 8107, 8115, 8181, 8182, 8196, 8227, 8259, 8272,\n",
       "        8273, 8276, 8288, 8292, 8311, 8320, 8322, 8325, 8332, 8339, 8375,\n",
       "        8383, 8416, 8453, 8502, 8504, 8509, 8519, 8523, 8527, 8928, 8998,\n",
       "        9006, 9008, 9009, 9010, 9015, 9016, 9019, 9023, 9024, 9026, 9036,\n",
       "        9045, 9062, 9071, 9103, 9104, 9128, 9209, 9245, 9252, 9280, 9423,\n",
       "        9530, 9536, 9538, 9554, 9560, 9561, 9572, 9587, 9634, 9642, 9664,\n",
       "        9669, 9679, 9686, 9697, 9698, 9700, 9713, 9716, 9723, 9729, 9733,\n",
       "        9735, 9738, 9740, 9741, 9745, 9749, 9752, 9754, 9762, 9764, 9768,\n",
       "        9770, 9777, 9779, 9782, 9783, 9792, 9793, 9794, 9804, 9829, 9839,\n",
       "        9840, 9847, 9858, 9867, 9879, 9882, 9891, 9893, 9904, 9905, 9922,\n",
       "        9944, 9982]),)"
      ]
     },
     "execution_count": 56,
     "metadata": {},
     "output_type": "execute_result"
    }
   ],
   "source": [
    "# use the nonzero in numpy to get the values that satisfy the condition above\n",
    "\n",
    "misclassified_indices = np.nonzero(predicted_classes != y_test)\n",
    "misclassified_indices # indices of the labels that did not match"
   ]
  },
  {
   "cell_type": "code",
   "execution_count": 57,
   "metadata": {},
   "outputs": [
    {
     "data": {
      "text/plain": [
       "673"
      ]
     },
     "execution_count": 57,
     "metadata": {},
     "output_type": "execute_result"
    }
   ],
   "source": [
    "len(misclassified_indices[0])"
   ]
  },
  {
   "cell_type": "markdown",
   "metadata": {},
   "source": [
    "665 errors out of 10K"
   ]
  },
  {
   "cell_type": "code",
   "execution_count": 58,
   "metadata": {},
   "outputs": [
    {
     "data": {
      "text/plain": [
       "array([ 18,  38,  62,  97, 111, 119, 149, 151, 158, 193, 195, 211, 217,\n",
       "       230, 241])"
      ]
     },
     "execution_count": 58,
     "metadata": {},
     "output_type": "execute_result"
    }
   ],
   "source": [
    "misclassified_indices[0][:15]"
   ]
  },
  {
   "cell_type": "code",
   "execution_count": 61,
   "metadata": {},
   "outputs": [
    {
     "data": {
      "image/png": "[encoded data removed]",
      "text/plain": [
       "<Figure size 2800x300 with 15 Axes>"
      ]
     },
     "metadata": {},
     "output_type": "display_data"
    }
   ],
   "source": [
    "sample_X = X_test[misclassified_indices[0][:15]]\n",
    "sample_images = sample_X.reshape(num_samples, 28, 28) \n",
    "sample_labels_pred = predicted_classes.numpy()[misclassified_indices[0][:15]] #converted to numpy for easier index reference\n",
    "\n",
    "plt.figure(figsize=(28, 3))\n",
    "plt.suptitle(\"Predicted vs Actual Images (Misclassified)\", fontsize=18, color='Blue', y=0.9)\n",
    "\n",
    "\n",
    "for img in range(num_samples):\n",
    "    plt.subplot(1, num_samples, img +1)\n",
    "    plt.imshow(sample_images[img], cmap='gray')\n",
    "    plt.title(f'Pred: {sample_labels_pred[img]}', fontsize=16)\n",
    "    plt.axis('off')\n"
   ]
  },
  {
   "cell_type": "markdown",
   "metadata": {},
   "source": [
    "## Saving and Loading The Model"
   ]
  },
  {
   "cell_type": "code",
   "execution_count": 62,
   "metadata": {},
   "outputs": [],
   "source": [
    "nn_model.save(\"nn_model_20241123.keras\")"
   ]
  },
  {
   "cell_type": "code",
   "execution_count": 35,
   "metadata": {},
   "outputs": [],
   "source": [
    "from tensorflow.keras import saving\n",
    "loaded_model = saving.load_model(\"nn_model_20241123.keras\")"
   ]
  },
  {
   "cell_type": "code",
   "execution_count": null,
   "metadata": {},
   "outputs": [],
   "source": []
  }
 ],
 "metadata": {
  "kernelspec": {
   "display_name": "Python 3",
   "language": "python",
   "name": "python3"
  },
  "language_info": {
   "codemirror_mode": {
    "name": "ipython",
    "version": 3
   },
   "file_extension": ".py",
   "mimetype": "text/x-python",
   "name": "python",
   "nbconvert_exporter": "python",
   "pygments_lexer": "ipython3",
   "version": "3.11.3"
  }
 },
 "nbformat": 4,
 "nbformat_minor": 2
}
