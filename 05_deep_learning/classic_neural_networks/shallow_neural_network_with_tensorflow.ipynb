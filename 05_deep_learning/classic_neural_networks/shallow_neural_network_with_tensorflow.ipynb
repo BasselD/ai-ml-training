{
 "cells": [
  {
   "cell_type": "markdown",
   "metadata": {},
   "source": [
    "# Intro to DNN Using TensorFlow (Shallow Neural Networks)"
   ]
  },
  {
   "cell_type": "markdown",
   "metadata": {},
   "source": [
    "`pip install keras`"
   ]
  },
  {
   "cell_type": "markdown",
   "metadata": {},
   "source": [
    "## TensorFlow with Keras\n",
    "- TensorFlow\n",
    "  - It is the main framework (developed and supported by Google)\n",
    "  - It provides a flexible and scalable platform for building and training machine learning and deep learning models (mainly neural nets)\n",
    "  - It enables distributed training across CPUs, TPUs, and GPUs.\n",
    "  - Complex syntax and suitable for advanced users.\n",
    "- Keras\n",
    "  - It is a high-level deep learning API designed for rapid prototyping.\n",
    "  - Originally it was its own dependent library. Today, it was merged with TensorFlow `tf.keras` as it became TF's official high-level interface.\n",
    "  - It offers user-friendly and intuitive methods and syntax.\n",
    "  - It's modular and Composable\n",
    "\n",
    "- **TensorFlow** provides the computational backbone and **Keras** offers a simplified way to build NN models.\n"
   ]
  },
  {
   "cell_type": "code",
   "execution_count": 1,
   "metadata": {},
   "outputs": [],
   "source": [
    "import tensorflow as tf #will be used for activation functions\n",
    "from tensorflow.keras import models, layers #allow us to build our model and its components as layers\n",
    "from tensorflow.keras.datasets import mnist\n",
    "import matplotlib.pyplot as plt\n"
   ]
  },
  {
   "cell_type": "markdown",
   "metadata": {},
   "source": [
    "- The MNIST data comes in 2D format (we previously used already flattened format)\n",
    "- We need to flatten the dataset to use a traditional DNN"
   ]
  },
  {
   "cell_type": "markdown",
   "metadata": {},
   "source": [
    "![fl](https://testerstories.com/files/ai_and_ml/ml-mnist-2d-to-1d.png)"
   ]
  },
  {
   "cell_type": "markdown",
   "metadata": {},
   "source": [
    "## Step 1: Loading and Splitting The Data "
   ]
  },
  {
   "cell_type": "markdown",
   "metadata": {},
   "source": [
    "- You can either flatten the data before training\n",
    "- OR keras has a flattening layer to process the data"
   ]
  },
  {
   "cell_type": "code",
   "execution_count": 2,
   "metadata": {},
   "outputs": [
    {
     "data": {
      "text/plain": [
       "((array([[[0, 0, 0, ..., 0, 0, 0],\n",
       "          [0, 0, 0, ..., 0, 0, 0],\n",
       "          [0, 0, 0, ..., 0, 0, 0],\n",
       "          ...,\n",
       "          [0, 0, 0, ..., 0, 0, 0],\n",
       "          [0, 0, 0, ..., 0, 0, 0],\n",
       "          [0, 0, 0, ..., 0, 0, 0]],\n",
       "  \n",
       "         [[0, 0, 0, ..., 0, 0, 0],\n",
       "          [0, 0, 0, ..., 0, 0, 0],\n",
       "          [0, 0, 0, ..., 0, 0, 0],\n",
       "          ...,\n",
       "          [0, 0, 0, ..., 0, 0, 0],\n",
       "          [0, 0, 0, ..., 0, 0, 0],\n",
       "          [0, 0, 0, ..., 0, 0, 0]],\n",
       "  \n",
       "         [[0, 0, 0, ..., 0, 0, 0],\n",
       "          [0, 0, 0, ..., 0, 0, 0],\n",
       "          [0, 0, 0, ..., 0, 0, 0],\n",
       "          ...,\n",
       "          [0, 0, 0, ..., 0, 0, 0],\n",
       "          [0, 0, 0, ..., 0, 0, 0],\n",
       "          [0, 0, 0, ..., 0, 0, 0]],\n",
       "  \n",
       "         ...,\n",
       "  \n",
       "         [[0, 0, 0, ..., 0, 0, 0],\n",
       "          [0, 0, 0, ..., 0, 0, 0],\n",
       "          [0, 0, 0, ..., 0, 0, 0],\n",
       "          ...,\n",
       "          [0, 0, 0, ..., 0, 0, 0],\n",
       "          [0, 0, 0, ..., 0, 0, 0],\n",
       "          [0, 0, 0, ..., 0, 0, 0]],\n",
       "  \n",
       "         [[0, 0, 0, ..., 0, 0, 0],\n",
       "          [0, 0, 0, ..., 0, 0, 0],\n",
       "          [0, 0, 0, ..., 0, 0, 0],\n",
       "          ...,\n",
       "          [0, 0, 0, ..., 0, 0, 0],\n",
       "          [0, 0, 0, ..., 0, 0, 0],\n",
       "          [0, 0, 0, ..., 0, 0, 0]],\n",
       "  \n",
       "         [[0, 0, 0, ..., 0, 0, 0],\n",
       "          [0, 0, 0, ..., 0, 0, 0],\n",
       "          [0, 0, 0, ..., 0, 0, 0],\n",
       "          ...,\n",
       "          [0, 0, 0, ..., 0, 0, 0],\n",
       "          [0, 0, 0, ..., 0, 0, 0],\n",
       "          [0, 0, 0, ..., 0, 0, 0]]], dtype=uint8),\n",
       "  array([5, 0, 4, ..., 5, 6, 8], dtype=uint8)),\n",
       " (array([[[0, 0, 0, ..., 0, 0, 0],\n",
       "          [0, 0, 0, ..., 0, 0, 0],\n",
       "          [0, 0, 0, ..., 0, 0, 0],\n",
       "          ...,\n",
       "          [0, 0, 0, ..., 0, 0, 0],\n",
       "          [0, 0, 0, ..., 0, 0, 0],\n",
       "          [0, 0, 0, ..., 0, 0, 0]],\n",
       "  \n",
       "         [[0, 0, 0, ..., 0, 0, 0],\n",
       "          [0, 0, 0, ..., 0, 0, 0],\n",
       "          [0, 0, 0, ..., 0, 0, 0],\n",
       "          ...,\n",
       "          [0, 0, 0, ..., 0, 0, 0],\n",
       "          [0, 0, 0, ..., 0, 0, 0],\n",
       "          [0, 0, 0, ..., 0, 0, 0]],\n",
       "  \n",
       "         [[0, 0, 0, ..., 0, 0, 0],\n",
       "          [0, 0, 0, ..., 0, 0, 0],\n",
       "          [0, 0, 0, ..., 0, 0, 0],\n",
       "          ...,\n",
       "          [0, 0, 0, ..., 0, 0, 0],\n",
       "          [0, 0, 0, ..., 0, 0, 0],\n",
       "          [0, 0, 0, ..., 0, 0, 0]],\n",
       "  \n",
       "         ...,\n",
       "  \n",
       "         [[0, 0, 0, ..., 0, 0, 0],\n",
       "          [0, 0, 0, ..., 0, 0, 0],\n",
       "          [0, 0, 0, ..., 0, 0, 0],\n",
       "          ...,\n",
       "          [0, 0, 0, ..., 0, 0, 0],\n",
       "          [0, 0, 0, ..., 0, 0, 0],\n",
       "          [0, 0, 0, ..., 0, 0, 0]],\n",
       "  \n",
       "         [[0, 0, 0, ..., 0, 0, 0],\n",
       "          [0, 0, 0, ..., 0, 0, 0],\n",
       "          [0, 0, 0, ..., 0, 0, 0],\n",
       "          ...,\n",
       "          [0, 0, 0, ..., 0, 0, 0],\n",
       "          [0, 0, 0, ..., 0, 0, 0],\n",
       "          [0, 0, 0, ..., 0, 0, 0]],\n",
       "  \n",
       "         [[0, 0, 0, ..., 0, 0, 0],\n",
       "          [0, 0, 0, ..., 0, 0, 0],\n",
       "          [0, 0, 0, ..., 0, 0, 0],\n",
       "          ...,\n",
       "          [0, 0, 0, ..., 0, 0, 0],\n",
       "          [0, 0, 0, ..., 0, 0, 0],\n",
       "          [0, 0, 0, ..., 0, 0, 0]]], dtype=uint8),\n",
       "  array([7, 2, 1, ..., 4, 5, 6], dtype=uint8)))"
      ]
     },
     "execution_count": 2,
     "metadata": {},
     "output_type": "execute_result"
    }
   ],
   "source": [
    "mnist.load_data()"
   ]
  },
  {
   "cell_type": "code",
   "execution_count": 3,
   "metadata": {},
   "outputs": [],
   "source": [
    "(X_train, y_train), (X_test, y_test) = mnist.load_data()"
   ]
  },
  {
   "cell_type": "code",
   "execution_count": 4,
   "metadata": {},
   "outputs": [
    {
     "data": {
      "text/plain": [
       "(0, 255)"
      ]
     },
     "execution_count": 4,
     "metadata": {},
     "output_type": "execute_result"
    }
   ],
   "source": [
    "X_train.min(), X_train.max()"
   ]
  },
  {
   "cell_type": "code",
   "execution_count": 5,
   "metadata": {},
   "outputs": [
    {
     "data": {
      "text/plain": [
       "((60000, 28, 28), (10000, 28, 28))"
      ]
     },
     "execution_count": 5,
     "metadata": {},
     "output_type": "execute_result"
    }
   ],
   "source": [
    "X_train.shape, X_test.shape"
   ]
  },
  {
   "cell_type": "code",
   "execution_count": 6,
   "metadata": {},
   "outputs": [
    {
     "data": {
      "text/plain": [
       "0.14285714285714285"
      ]
     },
     "execution_count": 6,
     "metadata": {},
     "output_type": "execute_result"
    }
   ],
   "source": [
    "X_test.shape[0]/(X_test.shape[0]+X_train.shape[0])"
   ]
  },
  {
   "cell_type": "code",
   "execution_count": 7,
   "metadata": {},
   "outputs": [
    {
     "data": {
      "text/plain": [
       "47.04"
      ]
     },
     "execution_count": 7,
     "metadata": {},
     "output_type": "execute_result"
    }
   ],
   "source": [
    "X_train.nbytes/1000000"
   ]
  },
  {
   "cell_type": "markdown",
   "metadata": {},
   "source": [
    "- For ML, standardization is recommended in general. When it comes to Deep Learning, using MinMaxScaler (range 0 to 1) is specifically recommended.\n",
    "- Potential advantages (hihg probability):\n",
    "    - Improving Model Performance: since we have a range between 0 and 1, it reduces the impact of dominant features (better accuracy).\n",
    "    - Faster Convergence and Error Reduction: during training the optimizer (e.g. Adam or Gradient Descent) runs smoother and can find the optimal weights faster.\n",
    "    - Reduced Overfitting: it allows the model to generalize better.\n",
    "    - Handling Outliers\n",
    "- Instead of using `MinMaxScaler()` from SKLearn or `layers.Rescaling` from Keras, we can divide by 255 (only for image data)\n",
    "- Previous trials of this problem proved that the performance went from 94.5% to 98.9% and the execution time took 30% less "
   ]
  },
  {
   "cell_type": "code",
   "execution_count": 8,
   "metadata": {},
   "outputs": [],
   "source": [
    "X_train, X_test = X_train/255.0, X_test/255.0 #using decimal value preserves the float format"
   ]
  },
  {
   "cell_type": "markdown",
   "metadata": {},
   "source": [
    "## Step 2: Building The Neural Network Model"
   ]
  },
  {
   "cell_type": "markdown",
   "metadata": {},
   "source": [
    "- In this stage, we make a decision about the architecture of our Neural Network and the components that will be used.\n",
    "- For this exercise, we'll be using `Sequential` to assemble the following:\n",
    "    - First Layer: Input Layer \n",
    "    - Second Layer: Flattening functionality\n",
    "    - Third Layer: Hidden Layer with RelU Activation Function and 128 neurons\n",
    "    - Fourth Layer: Output "
   ]
  },
  {
   "cell_type": "code",
   "execution_count": 9,
   "metadata": {},
   "outputs": [],
   "source": [
    "nn_model = models.Sequential(\n",
    "                        [\n",
    "                       layers.Input(shape=(28,28)),\n",
    "                       layers.Flatten(),\n",
    "                       layers.Dense(128, activation='relu'), # the choice of num of neurons is a hyperparameter and can be perfected via trial and error\n",
    "                       layers.Dense(10) # choosing 10 neurons that match the number of predicted classes\n",
    "                        ] \n",
    "                    )"
   ]
  },
  {
   "cell_type": "code",
   "execution_count": 10,
   "metadata": {},
   "outputs": [
    {
     "data": {
      "text/html": [
       "<pre style=\"white-space:pre;overflow-x:auto;line-height:normal;font-family:Menlo,'DejaVu Sans Mono',consolas,'Courier New',monospace\"><span style=\"font-weight: bold\">Model: \"sequential\"</span>\n",
       "</pre>\n"
      ],
      "text/plain": [
       "\u001b[1mModel: \"sequential\"\u001b[0m\n"
      ]
     },
     "metadata": {},
     "output_type": "display_data"
    },
    {
     "data": {
      "text/html": [
       "<pre style=\"white-space:pre;overflow-x:auto;line-height:normal;font-family:Menlo,'DejaVu Sans Mono',consolas,'Courier New',monospace\">┏━━━━━━━━━━━━━━━━━━━━━━━━━━━━━━━━━┳━━━━━━━━━━━━━━━━━━━━━━━━┳━━━━━━━━━━━━━━━┓\n",
       "┃<span style=\"font-weight: bold\"> Layer (type)                    </span>┃<span style=\"font-weight: bold\"> Output Shape           </span>┃<span style=\"font-weight: bold\">       Param # </span>┃\n",
       "┡━━━━━━━━━━━━━━━━━━━━━━━━━━━━━━━━━╇━━━━━━━━━━━━━━━━━━━━━━━━╇━━━━━━━━━━━━━━━┩\n",
       "│ flatten (<span style=\"color: #0087ff; text-decoration-color: #0087ff\">Flatten</span>)               │ (<span style=\"color: #00d7ff; text-decoration-color: #00d7ff\">None</span>, <span style=\"color: #00af00; text-decoration-color: #00af00\">784</span>)            │             <span style=\"color: #00af00; text-decoration-color: #00af00\">0</span> │\n",
       "├─────────────────────────────────┼────────────────────────┼───────────────┤\n",
       "│ dense (<span style=\"color: #0087ff; text-decoration-color: #0087ff\">Dense</span>)                   │ (<span style=\"color: #00d7ff; text-decoration-color: #00d7ff\">None</span>, <span style=\"color: #00af00; text-decoration-color: #00af00\">128</span>)            │       <span style=\"color: #00af00; text-decoration-color: #00af00\">100,480</span> │\n",
       "├─────────────────────────────────┼────────────────────────┼───────────────┤\n",
       "│ dense_1 (<span style=\"color: #0087ff; text-decoration-color: #0087ff\">Dense</span>)                 │ (<span style=\"color: #00d7ff; text-decoration-color: #00d7ff\">None</span>, <span style=\"color: #00af00; text-decoration-color: #00af00\">10</span>)             │         <span style=\"color: #00af00; text-decoration-color: #00af00\">1,290</span> │\n",
       "└─────────────────────────────────┴────────────────────────┴───────────────┘\n",
       "</pre>\n"
      ],
      "text/plain": [
       "┏━━━━━━━━━━━━━━━━━━━━━━━━━━━━━━━━━┳━━━━━━━━━━━━━━━━━━━━━━━━┳━━━━━━━━━━━━━━━┓\n",
       "┃\u001b[1m \u001b[0m\u001b[1mLayer (type)                   \u001b[0m\u001b[1m \u001b[0m┃\u001b[1m \u001b[0m\u001b[1mOutput Shape          \u001b[0m\u001b[1m \u001b[0m┃\u001b[1m \u001b[0m\u001b[1m      Param #\u001b[0m\u001b[1m \u001b[0m┃\n",
       "┡━━━━━━━━━━━━━━━━━━━━━━━━━━━━━━━━━╇━━━━━━━━━━━━━━━━━━━━━━━━╇━━━━━━━━━━━━━━━┩\n",
       "│ flatten (\u001b[38;5;33mFlatten\u001b[0m)               │ (\u001b[38;5;45mNone\u001b[0m, \u001b[38;5;34m784\u001b[0m)            │             \u001b[38;5;34m0\u001b[0m │\n",
       "├─────────────────────────────────┼────────────────────────┼───────────────┤\n",
       "│ dense (\u001b[38;5;33mDense\u001b[0m)                   │ (\u001b[38;5;45mNone\u001b[0m, \u001b[38;5;34m128\u001b[0m)            │       \u001b[38;5;34m100,480\u001b[0m │\n",
       "├─────────────────────────────────┼────────────────────────┼───────────────┤\n",
       "│ dense_1 (\u001b[38;5;33mDense\u001b[0m)                 │ (\u001b[38;5;45mNone\u001b[0m, \u001b[38;5;34m10\u001b[0m)             │         \u001b[38;5;34m1,290\u001b[0m │\n",
       "└─────────────────────────────────┴────────────────────────┴───────────────┘\n"
      ]
     },
     "metadata": {},
     "output_type": "display_data"
    },
    {
     "data": {
      "text/html": [
       "<pre style=\"white-space:pre;overflow-x:auto;line-height:normal;font-family:Menlo,'DejaVu Sans Mono',consolas,'Courier New',monospace\"><span style=\"font-weight: bold\"> Total params: </span><span style=\"color: #00af00; text-decoration-color: #00af00\">101,770</span> (397.54 KB)\n",
       "</pre>\n"
      ],
      "text/plain": [
       "\u001b[1m Total params: \u001b[0m\u001b[38;5;34m101,770\u001b[0m (397.54 KB)\n"
      ]
     },
     "metadata": {},
     "output_type": "display_data"
    },
    {
     "data": {
      "text/html": [
       "<pre style=\"white-space:pre;overflow-x:auto;line-height:normal;font-family:Menlo,'DejaVu Sans Mono',consolas,'Courier New',monospace\"><span style=\"font-weight: bold\"> Trainable params: </span><span style=\"color: #00af00; text-decoration-color: #00af00\">101,770</span> (397.54 KB)\n",
       "</pre>\n"
      ],
      "text/plain": [
       "\u001b[1m Trainable params: \u001b[0m\u001b[38;5;34m101,770\u001b[0m (397.54 KB)\n"
      ]
     },
     "metadata": {},
     "output_type": "display_data"
    },
    {
     "data": {
      "text/html": [
       "<pre style=\"white-space:pre;overflow-x:auto;line-height:normal;font-family:Menlo,'DejaVu Sans Mono',consolas,'Courier New',monospace\"><span style=\"font-weight: bold\"> Non-trainable params: </span><span style=\"color: #00af00; text-decoration-color: #00af00\">0</span> (0.00 B)\n",
       "</pre>\n"
      ],
      "text/plain": [
       "\u001b[1m Non-trainable params: \u001b[0m\u001b[38;5;34m0\u001b[0m (0.00 B)\n"
      ]
     },
     "metadata": {},
     "output_type": "display_data"
    }
   ],
   "source": [
    "nn_model.summary()"
   ]
  },
  {
   "cell_type": "code",
   "execution_count": 11,
   "metadata": {},
   "outputs": [
    {
     "data": {
      "text/plain": [
       "100480"
      ]
     },
     "execution_count": 11,
     "metadata": {},
     "output_type": "execute_result"
    }
   ],
   "source": [
    "784 * 128 + 128"
   ]
  },
  {
   "cell_type": "markdown",
   "metadata": {},
   "source": [
    "- The summary is useful to get info about the architecture and num of layers and neurons.\n",
    "- The first number  is the input (num of pixels)\n",
    "- Second row shows 100,480 parameters = (784 Inp neurons x 128 HL neurons) weight count + 128 biases. Or 100,352 weights + 128 biases\n",
    "- Third row 1,290 = 128 * 10 + 10"
   ]
  },
  {
   "cell_type": "markdown",
   "metadata": {},
   "source": [
    "## Step 3: Defining The Loss Function And The Optimizer"
   ]
  },
  {
   "cell_type": "markdown",
   "metadata": {},
   "source": [
    "- The loss function measures the difference between predicted outputs and actual outputs\n",
    "- We have different types:\n",
    "    - Regression:\n",
    "        - Mean Squared Error (MSE)\n",
    "        - Mean Absolute Error (MAE)\n",
    "    - Classification:\n",
    "        - Binary Cross-Entropy Loss with classification measures\n",
    "        - Categorical Cross-Entropy with classification measures\n",
    "- Since we have 10 categories, we need to use `SparseCategoricalCrossentropy`\n",
    "- It's always recommended to start with the Adam optimizer because it has been proven it's the best of the best.\n",
    "> Note 1: Although it was proven that Adam gives the best results, that doesn't mean we should ignore others. We can consider them if the model doesn't perform well. (aka Hyperparameter tuning)\n",
    "\n",
    "> Note 2: Since we don't have an activation function in the output layer, we need to enable `from_logits` functionality."
   ]
  },
  {
   "cell_type": "code",
   "execution_count": 12,
   "metadata": {},
   "outputs": [],
   "source": [
    "from tensorflow.keras import losses\n",
    "\n",
    "loss_fn = losses.SparseCategoricalCrossentropy(from_logits=True)"
   ]
  },
  {
   "cell_type": "code",
   "execution_count": 13,
   "metadata": {},
   "outputs": [],
   "source": [
    "opt_algo = 'adam'"
   ]
  },
  {
   "cell_type": "markdown",
   "metadata": {},
   "source": [
    "## Step 4: Compile The Model"
   ]
  },
  {
   "cell_type": "markdown",
   "metadata": {},
   "source": [
    "Compiling the model simply attaches the loss func, optimizer, and loss measurement into the main model."
   ]
  },
  {
   "cell_type": "code",
   "execution_count": 14,
   "metadata": {},
   "outputs": [],
   "source": [
    "nn_model.compile(optimizer=opt_algo,\n",
    "                 loss=loss_fn,\n",
    "                 metrics=['accuracy']\n",
    "                 )"
   ]
  },
  {
   "cell_type": "code",
   "execution_count": 15,
   "metadata": {},
   "outputs": [
    {
     "name": "stdout",
     "output_type": "stream",
     "text": [
      "Epoch 1/6\n",
      "\u001b[1m1500/1500\u001b[0m \u001b[32m━━━━━━━━━━━━━━━━━━━━\u001b[0m\u001b[37m\u001b[0m \u001b[1m2s\u001b[0m 988us/step - accuracy: 0.8632 - loss: 0.4814 - val_accuracy: 0.9546 - val_loss: 0.1539\n",
      "Epoch 2/6\n",
      "\u001b[1m1500/1500\u001b[0m \u001b[32m━━━━━━━━━━━━━━━━━━━━\u001b[0m\u001b[37m\u001b[0m \u001b[1m1s\u001b[0m 975us/step - accuracy: 0.9599 - loss: 0.1367 - val_accuracy: 0.9625 - val_loss: 0.1280\n",
      "Epoch 3/6\n",
      "\u001b[1m1500/1500\u001b[0m \u001b[32m━━━━━━━━━━━━━━━━━━━━\u001b[0m\u001b[37m\u001b[0m \u001b[1m1s\u001b[0m 841us/step - accuracy: 0.9746 - loss: 0.0874 - val_accuracy: 0.9718 - val_loss: 0.0948\n",
      "Epoch 4/6\n",
      "\u001b[1m1500/1500\u001b[0m \u001b[32m━━━━━━━━━━━━━━━━━━━━\u001b[0m\u001b[37m\u001b[0m \u001b[1m1s\u001b[0m 932us/step - accuracy: 0.9810 - loss: 0.0624 - val_accuracy: 0.9711 - val_loss: 0.0936\n",
      "Epoch 5/6\n",
      "\u001b[1m1500/1500\u001b[0m \u001b[32m━━━━━━━━━━━━━━━━━━━━\u001b[0m\u001b[37m\u001b[0m \u001b[1m1s\u001b[0m 983us/step - accuracy: 0.9873 - loss: 0.0462 - val_accuracy: 0.9720 - val_loss: 0.0921\n",
      "Epoch 6/6\n",
      "\u001b[1m1500/1500\u001b[0m \u001b[32m━━━━━━━━━━━━━━━━━━━━\u001b[0m\u001b[37m\u001b[0m \u001b[1m2s\u001b[0m 1ms/step - accuracy: 0.9888 - loss: 0.0369 - val_accuracy: 0.9758 - val_loss: 0.0875\n"
     ]
    }
   ],
   "source": [
    "epoch_num = 6\n",
    "#we define the fit as an object to preserve the training log history\n",
    "model_history = nn_model.fit(X_train,\n",
    "                             y_train,\n",
    "                             validation_split=0.2,\n",
    "                             epochs=epoch_num\n",
    "                                )"
   ]
  },
  {
   "cell_type": "markdown",
   "metadata": {},
   "source": [
    "- The model fits the data using 6 epochs\n",
    "- We can see that accuracy is improving over num of epochs and loss is decreasing for both Training and Validation.\n",
    "- Therefore, we don't have overfitting."
   ]
  },
  {
   "cell_type": "markdown",
   "metadata": {},
   "source": [
    "## Step 5: Final Evaluation"
   ]
  },
  {
   "cell_type": "code",
   "execution_count": 16,
   "metadata": {},
   "outputs": [
    {
     "name": "stdout",
     "output_type": "stream",
     "text": [
      "313/313 - 0s - 495us/step - accuracy: 0.9772 - loss: 0.0732\n"
     ]
    },
    {
     "data": {
      "text/plain": [
       "[0.0731780081987381, 0.9771999716758728]"
      ]
     },
     "execution_count": 16,
     "metadata": {},
     "output_type": "execute_result"
    }
   ],
   "source": [
    "nn_model.evaluate(X_test, y_test, verbose=2)"
   ]
  },
  {
   "cell_type": "markdown",
   "metadata": {},
   "source": [
    "Another way to evaluate a mode, is to plot the history"
   ]
  },
  {
   "cell_type": "code",
   "execution_count": 17,
   "metadata": {},
   "outputs": [
    {
     "data": {
      "text/plain": [
       "{'accuracy': [0.9186458587646484,\n",
       "  0.9637708067893982,\n",
       "  0.9749791622161865,\n",
       "  0.9806041717529297,\n",
       "  0.9856874942779541,\n",
       "  0.9883958101272583],\n",
       " 'loss': [0.2845523953437805,\n",
       "  0.12340214848518372,\n",
       "  0.08505211770534515,\n",
       "  0.06362689286470413,\n",
       "  0.04920831695199013,\n",
       "  0.037860188633203506],\n",
       " 'val_accuracy': [0.9545833468437195,\n",
       "  0.9624999761581421,\n",
       "  0.971833348274231,\n",
       "  0.9710833430290222,\n",
       "  0.972000002861023,\n",
       "  0.9758333563804626],\n",
       " 'val_loss': [0.1538713425397873,\n",
       "  0.12798143923282623,\n",
       "  0.09484808146953583,\n",
       "  0.09359556436538696,\n",
       "  0.09210076183080673,\n",
       "  0.08749497681856155]}"
      ]
     },
     "execution_count": 17,
     "metadata": {},
     "output_type": "execute_result"
    }
   ],
   "source": [
    "model_history.history #our log was captured in a dictionary"
   ]
  },
  {
   "cell_type": "code",
   "execution_count": 18,
   "metadata": {},
   "outputs": [],
   "source": [
    "plt.style.use('bmh')"
   ]
  },
  {
   "cell_type": "code",
   "execution_count": 19,
   "metadata": {},
   "outputs": [
    {
     "data": {
      "text/plain": [
       "<matplotlib.legend.Legend at 0x30b370810>"
      ]
     },
     "execution_count": 19,
     "metadata": {},
     "output_type": "execute_result"
    },
    {
     "data": {
      "image/png": "[encoded data removed]",
      "text/plain": [
       "<Figure size 640x480 with 1 Axes>"
      ]
     },
     "metadata": {},
     "output_type": "display_data"
    }
   ],
   "source": [
    "epoch_axis_val = range(1,epoch_num+1)\n",
    "plt.plot(epoch_axis_val,model_history.history['accuracy'], label = 'Training Accuracy')\n",
    "plt.plot(epoch_axis_val,model_history.history['val_accuracy'], label = 'Validation Accuracy')\n",
    "\n",
    "plt.xlabel('Epochs')\n",
    "plt.ylabel('Accuracy')\n",
    "plt.legend()"
   ]
  },
  {
   "cell_type": "markdown",
   "metadata": {},
   "source": [
    "- We can see that a gap starts to form between training and validation, which is an indicator of overfitting emerging\n",
    "- The difference is not substantial yet. Therefore, epoch of 5 or 6 is  a good number to use."
   ]
  },
  {
   "cell_type": "code",
   "execution_count": 20,
   "metadata": {},
   "outputs": [
    {
     "data": {
      "text/plain": [
       "<matplotlib.legend.Legend at 0x30bcaadd0>"
      ]
     },
     "execution_count": 20,
     "metadata": {},
     "output_type": "execute_result"
    },
    {
     "data": {
      "image/png": "[encoded data removed]",
      "text/plain": [
       "<Figure size 640x480 with 1 Axes>"
      ]
     },
     "metadata": {},
     "output_type": "display_data"
    }
   ],
   "source": [
    "plt.plot(epoch_axis_val,model_history.history['loss'], label = 'Training Loss')\n",
    "plt.plot(epoch_axis_val,model_history.history['val_loss'], label = 'Validation Loss')\n",
    "\n",
    "plt.xlabel('Epochs')\n",
    "plt.ylabel('Loss')\n",
    "plt.legend()"
   ]
  },
  {
   "cell_type": "markdown",
   "metadata": {},
   "source": [
    "## Optional Step: Visual Evaluation"
   ]
  },
  {
   "cell_type": "markdown",
   "metadata": {},
   "source": [
    "Make the prediction of the test data"
   ]
  },
  {
   "cell_type": "code",
   "execution_count": 21,
   "metadata": {},
   "outputs": [
    {
     "name": "stdout",
     "output_type": "stream",
     "text": [
      "\u001b[1m313/313\u001b[0m \u001b[32m━━━━━━━━━━━━━━━━━━━━\u001b[0m\u001b[37m\u001b[0m \u001b[1m0s\u001b[0m 439us/step\n"
     ]
    }
   ],
   "source": [
    "predictions = nn_model.predict(X_test)"
   ]
  },
  {
   "cell_type": "code",
   "execution_count": 22,
   "metadata": {},
   "outputs": [
    {
     "data": {
      "text/plain": [
       "array([[ -1.7399634 ,  -5.8601985 ,   0.8669182 , ...,  10.518535  ,\n",
       "         -0.39852262,  -0.61609906],\n",
       "       [ -9.153426  ,   2.674074  ,  16.732414  , ..., -15.515573  ,\n",
       "          0.8021705 , -13.161979  ],\n",
       "       [ -6.9419403 ,   6.3695397 ,  -1.2039734 , ...,  -0.3333345 ,\n",
       "         -0.41785955,  -5.3199363 ],\n",
       "       ...,\n",
       "       [-10.528705  , -10.080422  , -11.354214  , ...,  -1.0815079 ,\n",
       "          1.7390497 ,   4.7283525 ],\n",
       "       [ -6.6511726 , -14.241977  , -13.675807  , ..., -10.124811  ,\n",
       "          4.382739  ,  -9.039262  ],\n",
       "       [ -2.3525646 , -16.346315  ,  -4.2031727 , ..., -15.586588  ,\n",
       "         -1.9408879 ,  -9.995685  ]], dtype=float32)"
      ]
     },
     "execution_count": 22,
     "metadata": {},
     "output_type": "execute_result"
    }
   ],
   "source": [
    "predictions"
   ]
  },
  {
   "cell_type": "markdown",
   "metadata": {},
   "source": [
    "Since we don't have an activation function in the output layer, the output is raw. Therefore, we need to convert it to readable output (10 classes) using `softmax()` and `argmax()` function."
   ]
  },
  {
   "cell_type": "markdown",
   "metadata": {},
   "source": [
    "**1. Softmax**  \n",
    "- **What it does**: Converts raw logits (model outputs) into **probabilities** (range: 0 to 1, sums to 1).  \n",
    "- **Where to use**: Typically the **last layer** of a classification network.  \n",
    "\n",
    "**2. Argmax**  \n",
    "- **What it does**: Returns the **index** of the highest value in a tensor (i.e., the predicted class).  \n",
    "- **Where to use**: After Softmax, to convert probabilities into discrete class labels.  \n",
    "\n",
    "\n",
    "**3. Typical Workflow in a Neural Network**  \n",
    "1. **Model Output**: Raw logits (e.g., `[5.0, -1.0, 2.0]`).  \n",
    "2. **Softmax**: Converts logits to probabilities (e.g., `[0.95, 0.02, 0.03]`).  \n",
    "3. **Argmax**: Picks the class with the highest probability (e.g., `0` for class 0).  \n",
    "\n",
    "**4. Key Notes**  \n",
    "- **Softmax** is used **during training** to compute loss (e.g., cross-entropy).  \n",
    "- **Argmax** is used **during inference** to get final class labels.  \n",
    "- **Don’t use Argmax before Softmax**: Argmax is non-differentiable (breaks backpropagation).  \n",
    "\n",
    "**5. When to Skip Softmax**\n",
    "- If you use `loss='sparse_categorical_crossentropy'`, you can omit the Softmax layer because the loss function applies it internally.  \n",
    "- For binary classification, use `Sigmoid` instead of Softmax.  \n",
    "- Visual Summary**  \n",
    "```\n",
    "Logits → [Softmax] → Probabilities → [Argmax] → Class Label\n",
    "           (Training)               (Inference)\n",
    "```\n"
   ]
  },
  {
   "cell_type": "markdown",
   "metadata": {},
   "source": [
    "**Optional** observing the first prediction."
   ]
  },
  {
   "cell_type": "code",
   "execution_count": 23,
   "metadata": {},
   "outputs": [
    {
     "data": {
      "text/plain": [
       "<tf.Tensor: shape=(10,), dtype=float32, numpy=\n",
       "array([4.7415351e-06, 7.7005872e-08, 6.4279637e-05, 5.4923934e-04,\n",
       "       1.9641046e-11, 2.3484893e-07, 2.0646826e-11, 9.9934870e-01,\n",
       "       1.8134244e-05, 1.4588375e-05], dtype=float32)>"
      ]
     },
     "execution_count": 23,
     "metadata": {},
     "output_type": "execute_result"
    }
   ],
   "source": [
    "first_prediction_prob = tf.math.softmax(predictions[0])\n",
    "first_prediction_prob"
   ]
  },
  {
   "cell_type": "code",
   "execution_count": 24,
   "metadata": {},
   "outputs": [
    {
     "data": {
      "text/plain": [
       "10"
      ]
     },
     "execution_count": 24,
     "metadata": {},
     "output_type": "execute_result"
    }
   ],
   "source": [
    "len(first_prediction_prob)"
   ]
  },
  {
   "cell_type": "code",
   "execution_count": 87,
   "metadata": {},
   "outputs": [
    {
     "data": {
      "text/plain": [
       "<tf.Tensor: shape=(), dtype=float32, numpy=1.0000001>"
      ]
     },
     "execution_count": 87,
     "metadata": {},
     "output_type": "execute_result"
    }
   ],
   "source": [
    "# if you sum up the prob values above\n",
    "tf.reduce_sum(first_prediction_prob)"
   ]
  },
  {
   "cell_type": "markdown",
   "metadata": {},
   "source": [
    "- You can see the probabilities above for each class.\n",
    "- They all add to 1"
   ]
  },
  {
   "cell_type": "code",
   "execution_count": 88,
   "metadata": {},
   "outputs": [
    {
     "data": {
      "text/plain": [
       "<tf.Tensor: shape=(), dtype=int64, numpy=7>"
      ]
     },
     "execution_count": 88,
     "metadata": {},
     "output_type": "execute_result"
    }
   ],
   "source": [
    "first_prediction_final = tf.math.argmax(first_prediction_prob)\n",
    "first_prediction_final"
   ]
  },
  {
   "cell_type": "markdown",
   "metadata": {},
   "source": [
    "The first prediction is 7"
   ]
  },
  {
   "cell_type": "markdown",
   "metadata": {},
   "source": [
    "Get the results for all in one shot."
   ]
  },
  {
   "cell_type": "code",
   "execution_count": 25,
   "metadata": {},
   "outputs": [],
   "source": [
    "predicted_classes = tf.math.argmax(tf.math.softmax(predictions), axis=1)"
   ]
  },
  {
   "cell_type": "code",
   "execution_count": 26,
   "metadata": {},
   "outputs": [
    {
     "data": {
      "text/plain": [
       "<tf.Tensor: shape=(20,), dtype=int64, numpy=array([7, 2, 1, 0, 4, 1, 4, 9, 6, 9, 0, 6, 9, 0, 1, 5, 9, 7, 8, 4])>"
      ]
     },
     "execution_count": 26,
     "metadata": {},
     "output_type": "execute_result"
    }
   ],
   "source": [
    "predicted_classes[:20]"
   ]
  },
  {
   "cell_type": "code",
   "execution_count": 27,
   "metadata": {},
   "outputs": [],
   "source": [
    "num_samples = 15\n",
    "sample_X = X_test[:num_samples]\n",
    "sample_images = sample_X.reshape(num_samples, 28, 28) \n",
    "sample_labels_pred = predicted_classes[:num_samples]\n"
   ]
  },
  {
   "cell_type": "code",
   "execution_count": 28,
   "metadata": {},
   "outputs": [
    {
     "data": {
      "image/png": "[encoded data removed]",
      "text/plain": [
       "<Figure size 2800x300 with 15 Axes>"
      ]
     },
     "metadata": {},
     "output_type": "display_data"
    }
   ],
   "source": [
    "plt.figure(figsize=(28, 3))\n",
    "plt.suptitle(\"Predicted vs Actual Images\", fontsize=18, color='Blue', y=0.9)\n",
    "\n",
    "\n",
    "for img in range(num_samples):\n",
    "    plt.subplot(1, num_samples, img +1)\n",
    "    plt.imshow(sample_images[img], cmap='gray')\n",
    "    plt.title(f'Pred: {sample_labels_pred[img]}', fontsize=16)\n",
    "    plt.axis('off')"
   ]
  },
  {
   "cell_type": "markdown",
   "metadata": {},
   "source": [
    "Take a look at the labels that did not match (pred vs actual)"
   ]
  },
  {
   "cell_type": "code",
   "execution_count": 93,
   "metadata": {},
   "outputs": [
    {
     "data": {
      "text/plain": [
       "<tf.Tensor: shape=(10000,), dtype=bool, numpy=array([False, False, False, ..., False, False, False])>"
      ]
     },
     "execution_count": 93,
     "metadata": {},
     "output_type": "execute_result"
    }
   ],
   "source": [
    "predicted_classes != y_test"
   ]
  },
  {
   "cell_type": "code",
   "execution_count": 94,
   "metadata": {},
   "outputs": [
    {
     "data": {
      "text/plain": [
       "(array([ 119,  151,  241,  247,  274,  321,  340,  381,  404,  445,  578,\n",
       "         582,  583,  613,  619,  628,  659,  684,  707,  720,  740,  846,\n",
       "         883,  900,  951,  965, 1014, 1039, 1107, 1112, 1114, 1128, 1182,\n",
       "        1226, 1242, 1247, 1270, 1290, 1299, 1319, 1328, 1356, 1393, 1395,\n",
       "        1494, 1500, 1522, 1530, 1549, 1551, 1554, 1609, 1621, 1670, 1681,\n",
       "        1709, 1717, 1721, 1751, 1790, 1828, 1901, 1909, 1952, 1987, 2004,\n",
       "        2043, 2053, 2073, 2109, 2118, 2130, 2135, 2174, 2182, 2224, 2272,\n",
       "        2292, 2293, 2299, 2333, 2369, 2387, 2406, 2422, 2433, 2447, 2454,\n",
       "        2488, 2570, 2607, 2618, 2635, 2648, 2654, 2713, 2771, 2877, 2896,\n",
       "        2915, 2939, 2953, 3030, 3060, 3073, 3117, 3339, 3405, 3429, 3474,\n",
       "        3490, 3503, 3520, 3534, 3549, 3558, 3597, 3718, 3796, 3808, 3811,\n",
       "        3853, 3869, 3876, 3893, 3906, 3926, 3941, 3943, 3946, 4000, 4063,\n",
       "        4065, 4154, 4163, 4176, 4199, 4201, 4211, 4224, 4248, 4271, 4289,\n",
       "        4294, 4355, 4439, 4497, 4534, 4567, 4731, 4740, 4751, 4807, 4814,\n",
       "        4823, 4833, 4880, 4939, 4966, 4995, 4997, 5015, 5068, 5138, 5331,\n",
       "        5457, 5600, 5642, 5676, 5734, 5887, 5926, 5936, 5955, 5973, 6045,\n",
       "        6046, 6059, 6071, 6115, 6166, 6168, 6505, 6555, 6571, 6572, 6574,\n",
       "        6576, 6597, 6608, 6625, 6651, 6755, 6769, 6783, 7216, 7434, 7481,\n",
       "        7812, 7899, 7990, 8010, 8020, 8059, 8091, 8094, 8255, 8325, 8520,\n",
       "        8522, 8527, 9009, 9015, 9024, 9071, 9280, 9587, 9634, 9664, 9679,\n",
       "        9698, 9700, 9712, 9716, 9726, 9729, 9735, 9742, 9745, 9749, 9768,\n",
       "        9770, 9779, 9792, 9808, 9811, 9839, 9858, 9891, 9904, 9944, 9982]),)"
      ]
     },
     "execution_count": 94,
     "metadata": {},
     "output_type": "execute_result"
    }
   ],
   "source": [
    "# use the nonzero in numpy to get the values that satisfy the condition above\n",
    "\n",
    "misclassified_indices = np.nonzero(predicted_classes != y_test)\n",
    "misclassified_indices # indices of the labels that did not match"
   ]
  },
  {
   "cell_type": "code",
   "execution_count": 95,
   "metadata": {},
   "outputs": [
    {
     "data": {
      "text/plain": [
       "242"
      ]
     },
     "execution_count": 95,
     "metadata": {},
     "output_type": "execute_result"
    }
   ],
   "source": [
    "len(misclassified_indices[0])"
   ]
  },
  {
   "cell_type": "markdown",
   "metadata": {},
   "source": [
    "665 errors out of 10K"
   ]
  },
  {
   "cell_type": "code",
   "execution_count": 96,
   "metadata": {},
   "outputs": [
    {
     "data": {
      "text/plain": [
       "array([119, 151, 241, 247, 274, 321, 340, 381, 404, 445, 578, 582, 583,\n",
       "       613, 619])"
      ]
     },
     "execution_count": 96,
     "metadata": {},
     "output_type": "execute_result"
    }
   ],
   "source": [
    "misclassified_indices[0][:15]"
   ]
  },
  {
   "cell_type": "code",
   "execution_count": 97,
   "metadata": {},
   "outputs": [
    {
     "data": {
      "image/png": "[encoded data removed]",
      "text/plain": [
       "<Figure size 2800x300 with 15 Axes>"
      ]
     },
     "metadata": {},
     "output_type": "display_data"
    }
   ],
   "source": [
    "sample_X = X_test[misclassified_indices[0][:15]]\n",
    "sample_images = sample_X.reshape(num_samples, 28, 28) \n",
    "sample_labels_pred = predicted_classes.numpy()[misclassified_indices[0][:15]] #converted to numpy for easier index reference\n",
    "\n",
    "plt.figure(figsize=(28, 3))\n",
    "plt.suptitle(\"Predicted vs Actual Images (Misclassified)\", fontsize=18, color='Blue', y=0.9)\n",
    "\n",
    "for img in range(num_samples):\n",
    "    plt.subplot(1, num_samples, img +1)\n",
    "    plt.imshow(sample_images[img], cmap='gray')\n",
    "    plt.title(f'Pred: {sample_labels_pred[img]}', fontsize=16)\n",
    "    plt.axis('off')\n"
   ]
  },
  {
   "cell_type": "markdown",
   "metadata": {},
   "source": [
    "## Saving and Loading The Model"
   ]
  },
  {
   "cell_type": "code",
   "execution_count": 98,
   "metadata": {},
   "outputs": [],
   "source": [
    "nn_model.save(\"nn_model_20241123.keras\")"
   ]
  },
  {
   "cell_type": "code",
   "execution_count": 99,
   "metadata": {},
   "outputs": [],
   "source": [
    "from tensorflow.keras import saving\n",
    "loaded_model = saving.load_model(\"nn_model_20241123.keras\")"
   ]
  },
  {
   "cell_type": "code",
   "execution_count": null,
   "metadata": {},
   "outputs": [],
   "source": []
  }
 ],
 "metadata": {
  "kernelspec": {
   "display_name": "Python 3",
   "language": "python",
   "name": "python3"
  },
  "language_info": {
   "codemirror_mode": {
    "name": "ipython",
    "version": 3
   },
   "file_extension": ".py",
   "mimetype": "text/x-python",
   "name": "python",
   "nbconvert_exporter": "python",
   "pygments_lexer": "ipython3",
   "version": "3.11.3"
  }
 },
 "nbformat": 4,
 "nbformat_minor": 2
}
