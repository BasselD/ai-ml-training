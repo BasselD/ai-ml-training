{
 "cells": [
  {
   "cell_type": "markdown",
   "metadata": {},
   "source": [
    "# Conditional Statements and Loops"
   ]
  },
  {
   "cell_type": "markdown",
   "metadata": {},
   "source": [
    "## Conditional Statements\n",
    "- They let you build logic and control the processing of your program by making decisions based on conditions.\n",
    "- It's a logic for evaluation. if it's true, it executes the task\n",
    "- Syntax: `if`, `:`, and the indentation "
   ]
  },
  {
   "cell_type": "code",
   "execution_count": 2,
   "metadata": {},
   "outputs": [
    {
     "name": "stdout",
     "output_type": "stream",
     "text": [
      "Yes\n"
     ]
    }
   ],
   "source": [
    "x = 10\n",
    "\n",
    "if x > 4:\n",
    "    print('Yes')"
   ]
  },
  {
   "cell_type": "markdown",
   "metadata": {},
   "source": [
    "### `if` and `else` statements"
   ]
  },
  {
   "cell_type": "code",
   "execution_count": 3,
   "metadata": {},
   "outputs": [
    {
     "name": "stdout",
     "output_type": "stream",
     "text": [
      "No\n"
     ]
    }
   ],
   "source": [
    "x = 10\n",
    "\n",
    "if x < 4:\n",
    "    print('Yes')\n",
    "else:\n",
    "    print('No')"
   ]
  },
  {
   "cell_type": "markdown",
   "metadata": {},
   "source": [
    "> `input()` function in python for user entry"
   ]
  },
  {
   "cell_type": "code",
   "execution_count": 4,
   "metadata": {},
   "outputs": [
    {
     "name": "stdout",
     "output_type": "stream",
     "text": [
      "value is 12\n"
     ]
    }
   ],
   "source": [
    "x = input('Enter a value')\n",
    "\n",
    "print('value is', x)"
   ]
  },
  {
   "cell_type": "markdown",
   "metadata": {},
   "source": [
    "**Exercise**\n",
    "- Build a program that tells the user if they can open a bank account or not based on their age.\n",
    "- The user can input their age and if it's >18 then they can open the account\n",
    "- Otherwise, they need to open a custodial account"
   ]
  },
  {
   "cell_type": "code",
   "execution_count": 5,
   "metadata": {},
   "outputs": [
    {
     "name": "stdout",
     "output_type": "stream",
     "text": [
      "Your age is 12\n",
      "You need a parent to set up a custodial account\n"
     ]
    }
   ],
   "source": [
    "# solution\n",
    "# input takes values as string. we need to convert the value to int to evaluate it\n",
    "a = int(input('Enter your age ')) # using int here converts the value\n",
    "\n",
    "print('Your age is', a)\n",
    "\n",
    "if a >= 18: \n",
    "    print('You can open a standard account')\n",
    "else:\n",
    "    print('You need a parent to set up a custodial account')"
   ]
  },
  {
   "cell_type": "markdown",
   "metadata": {},
   "source": [
    "### `elif` (Else IF)"
   ]
  },
  {
   "cell_type": "markdown",
   "metadata": {},
   "source": [
    "**Exercise** Build a program that checks if the fruit is Orange or Apple. Otherwise, it's unidentified."
   ]
  },
  {
   "cell_type": "code",
   "execution_count": 6,
   "metadata": {},
   "outputs": [
    {
     "name": "stdout",
     "output_type": "stream",
     "text": [
      "Fruit is unidentified\n"
     ]
    }
   ],
   "source": [
    "fruit = 'Grapes'\n",
    "\n",
    "if fruit == 'Apple':\n",
    "    print(f\"It's an {fruit}\")\n",
    "\n",
    "elif fruit == 'Orange':\n",
    "    print(f\"It's an {fruit}\")\n",
    "\n",
    "elif fruit == 'Kiwi':\n",
    "    print(f\"It's an {fruit}\")\n",
    "\n",
    "else:\n",
    "    print('Fruit is unidentified')"
   ]
  },
  {
   "cell_type": "markdown",
   "metadata": {},
   "source": [
    "### Nested `if` "
   ]
  },
  {
   "cell_type": "markdown",
   "metadata": {},
   "source": [
    "**Exercise** check if a number is between 3 and 20."
   ]
  },
  {
   "cell_type": "code",
   "execution_count": 7,
   "metadata": {},
   "outputs": [
    {
     "name": "stdout",
     "output_type": "stream",
     "text": [
      "x is between 3 and 20\n"
     ]
    }
   ],
   "source": [
    "x = 5\n",
    "\n",
    "if x >3:\n",
    "    #print('x is greater than 3')\n",
    "    if x <20: # nested if\n",
    "        print('x is between 3 and 20')"
   ]
  },
  {
   "cell_type": "markdown",
   "metadata": {},
   "source": [
    "if statements can also take membership evaluation"
   ]
  },
  {
   "cell_type": "markdown",
   "metadata": {},
   "source": [
    "**Exercise** Build an item list for shopping. If an item exists, then print a message. If not, print \"is unavailable\""
   ]
  },
  {
   "cell_type": "code",
   "execution_count": 8,
   "metadata": {},
   "outputs": [
    {
     "name": "stdout",
     "output_type": "stream",
     "text": [
      "watermelon is unavailable\n"
     ]
    }
   ],
   "source": [
    "fruits = ['apple', 'banana', 'kiwi']\n",
    "\n",
    "x = 'watermelon'\n",
    "\n",
    "if x in fruits:\n",
    "    print(f'{x} is available')\n",
    "else:\n",
    "    print(f'{x} is unavailable')"
   ]
  },
  {
   "cell_type": "markdown",
   "metadata": {},
   "source": [
    "## Loops"
   ]
  },
  {
   "cell_type": "markdown",
   "metadata": {},
   "source": [
    "- Loops are essential to programming as they repeat a task multiple times, iterating through data structures, or automating process.\n",
    "- In Python we have 2 main types:\n",
    "    - `for` loop: can iterate over a sequence (list, tuple, string, range, etc...)\n",
    "    - `while` loop:\n",
    "        - Repeats as long as a condition is `True`\n",
    "        - Requires an exit condition to avoid infinite loops"
   ]
  },
  {
   "cell_type": "markdown",
   "metadata": {},
   "source": [
    "### `for` loop"
   ]
  },
  {
   "cell_type": "code",
   "execution_count": 9,
   "metadata": {},
   "outputs": [
    {
     "name": "stdout",
     "output_type": "stream",
     "text": [
      "apple\n",
      "banana\n",
      "kiwi\n"
     ]
    }
   ],
   "source": [
    "fruits = ['apple', 'banana', 'kiwi']\n",
    "\n",
    "for f in fruits:\n",
    "    print(f)"
   ]
  },
  {
   "cell_type": "code",
   "execution_count": 10,
   "metadata": {},
   "outputs": [
    {
     "name": "stdout",
     "output_type": "stream",
     "text": [
      "P\n",
      "y\n",
      "t\n",
      "h\n",
      "o\n",
      "n\n",
      "done!\n"
     ]
    }
   ],
   "source": [
    "string = 'Python'\n",
    "for x in string:\n",
    "    print(x)\n",
    "print('done!') # note the absence of indentation"
   ]
  },
  {
   "cell_type": "markdown",
   "metadata": {},
   "source": [
    "### Combine `for` with `if` statement"
   ]
  },
  {
   "cell_type": "markdown",
   "metadata": {},
   "source": [
    "**Exercise** print the numbers in the list below that are less than 10"
   ]
  },
  {
   "cell_type": "code",
   "execution_count": 11,
   "metadata": {},
   "outputs": [
    {
     "name": "stdout",
     "output_type": "stream",
     "text": [
      "5\n",
      "7\n",
      "9\n"
     ]
    }
   ],
   "source": [
    "my_list = [5, 15, 7, 11, 9, 100, 55]\n",
    "\n",
    "for n in my_list:\n",
    "    if n < 10:\n",
    "        print(n)"
   ]
  },
  {
   "cell_type": "markdown",
   "metadata": {},
   "source": [
    "Add a logic for numbers > 10 where it multiplies by 2."
   ]
  },
  {
   "cell_type": "code",
   "execution_count": 12,
   "metadata": {},
   "outputs": [
    {
     "name": "stdout",
     "output_type": "stream",
     "text": [
      "5\n",
      "30\n",
      "7\n",
      "22\n",
      "9\n",
      "200\n",
      "110\n"
     ]
    }
   ],
   "source": [
    "for num in my_list:\n",
    "    if num < 10:\n",
    "        print(num)\n",
    "    else:\n",
    "        print(num*2)"
   ]
  },
  {
   "cell_type": "markdown",
   "metadata": {},
   "source": [
    "Using `range()` with `for` loop"
   ]
  },
  {
   "cell_type": "code",
   "execution_count": 13,
   "metadata": {},
   "outputs": [
    {
     "data": {
      "text/plain": [
       "[1, 2, 3, 4, 5, 6, 7, 8, 9, 10, 11, 12, 13, 14, 15, 16, 17, 18, 19, 20]"
      ]
     },
     "execution_count": 13,
     "metadata": {},
     "output_type": "execute_result"
    }
   ],
   "source": [
    "list(range(1, 21)) # the number on the right (end point) does not get included"
   ]
  },
  {
   "cell_type": "code",
   "execution_count": 22,
   "metadata": {},
   "outputs": [
    {
     "data": {
      "text/plain": [
       "[1, 3, 5, 7, 9, 11, 13, 15, 17, 19]"
      ]
     },
     "execution_count": 22,
     "metadata": {},
     "output_type": "execute_result"
    }
   ],
   "source": [
    "list(range(1,21,2))"
   ]
  },
  {
   "cell_type": "markdown",
   "metadata": {},
   "source": [
    "**Exercise** Build a program that counts to 10"
   ]
  },
  {
   "cell_type": "code",
   "execution_count": 14,
   "metadata": {},
   "outputs": [
    {
     "name": "stdout",
     "output_type": "stream",
     "text": [
      "1\n",
      "2\n",
      "3\n",
      "4\n",
      "5\n",
      "6\n",
      "7\n",
      "8\n",
      "9\n",
      "10\n"
     ]
    }
   ],
   "source": [
    "# no need to convert to a list if you're using it in a loop\n",
    "for i in range(1,11):\n",
    "    print(i)"
   ]
  },
  {
   "cell_type": "markdown",
   "metadata": {},
   "source": [
    "### `while` loop"
   ]
  },
  {
   "cell_type": "code",
   "execution_count": 15,
   "metadata": {},
   "outputs": [
    {
     "name": "stdout",
     "output_type": "stream",
     "text": [
      "0\n",
      "1\n",
      "2\n",
      "3\n",
      "4\n"
     ]
    }
   ],
   "source": [
    "cntr = 0\n",
    "\n",
    "while cntr < 5:\n",
    "    print(cntr)\n",
    "    #increase the value of cntr, otherwise, it will run to infinity\n",
    "    cntr += 1 # cntr= cntr +1"
   ]
  },
  {
   "cell_type": "code",
   "execution_count": null,
   "metadata": {},
   "outputs": [],
   "source": [
    "#countdown\n",
    "n = 10\n",
    "while n > 0:\n",
    "    print(n)\n",
    "    n-=1\n",
    "print('Countdown is done!')"
   ]
  },
  {
   "cell_type": "code",
   "execution_count": null,
   "metadata": {},
   "outputs": [],
   "source": [
    "fruits = ['apple', 'banana', 'kiwi']\n",
    "cntr = 0\n",
    "\n",
    "while cntr < len(fruits):\n",
    "    print(fruits[cntr])\n",
    "    cntr +=1"
   ]
  },
  {
   "cell_type": "markdown",
   "metadata": {},
   "source": [
    "**Exercise** build a nested loop that displays the table of multiplication starting from 2. Example:\n",
    "- 2 x 1 = 2\n",
    "- 2 x 2 = 4\n",
    "- 2 x 3 = 6"
   ]
  },
  {
   "cell_type": "code",
   "execution_count": 16,
   "metadata": {},
   "outputs": [
    {
     "name": "stdout",
     "output_type": "stream",
     "text": [
      "Multiplication table for: 2\n",
      "2 x 1 = 2\n",
      "2 x 2 = 4\n",
      "2 x 3 = 6\n",
      "2 x 4 = 8\n",
      "2 x 5 = 10\n",
      "2 x 6 = 12\n",
      "2 x 7 = 14\n",
      "2 x 8 = 16\n",
      "2 x 9 = 18\n",
      "2 x 10 = 20\n",
      "Multiplication table for: 3\n",
      "3 x 1 = 3\n",
      "3 x 2 = 6\n",
      "3 x 3 = 9\n",
      "3 x 4 = 12\n",
      "3 x 5 = 15\n",
      "3 x 6 = 18\n",
      "3 x 7 = 21\n",
      "3 x 8 = 24\n",
      "3 x 9 = 27\n",
      "3 x 10 = 30\n",
      "Multiplication table for: 4\n",
      "4 x 1 = 4\n",
      "4 x 2 = 8\n",
      "4 x 3 = 12\n",
      "4 x 4 = 16\n",
      "4 x 5 = 20\n",
      "4 x 6 = 24\n",
      "4 x 7 = 28\n",
      "4 x 8 = 32\n",
      "4 x 9 = 36\n",
      "4 x 10 = 40\n",
      "Multiplication table for: 5\n",
      "5 x 1 = 5\n",
      "5 x 2 = 10\n",
      "5 x 3 = 15\n",
      "5 x 4 = 20\n",
      "5 x 5 = 25\n",
      "5 x 6 = 30\n",
      "5 x 7 = 35\n",
      "5 x 8 = 40\n",
      "5 x 9 = 45\n",
      "5 x 10 = 50\n",
      "Multiplication table for: 6\n",
      "6 x 1 = 6\n",
      "6 x 2 = 12\n",
      "6 x 3 = 18\n",
      "6 x 4 = 24\n",
      "6 x 5 = 30\n",
      "6 x 6 = 36\n",
      "6 x 7 = 42\n",
      "6 x 8 = 48\n",
      "6 x 9 = 54\n",
      "6 x 10 = 60\n",
      "Multiplication table for: 7\n",
      "7 x 1 = 7\n",
      "7 x 2 = 14\n",
      "7 x 3 = 21\n",
      "7 x 4 = 28\n",
      "7 x 5 = 35\n",
      "7 x 6 = 42\n",
      "7 x 7 = 49\n",
      "7 x 8 = 56\n",
      "7 x 9 = 63\n",
      "7 x 10 = 70\n",
      "Multiplication table for: 8\n",
      "8 x 1 = 8\n",
      "8 x 2 = 16\n",
      "8 x 3 = 24\n",
      "8 x 4 = 32\n",
      "8 x 5 = 40\n",
      "8 x 6 = 48\n",
      "8 x 7 = 56\n",
      "8 x 8 = 64\n",
      "8 x 9 = 72\n",
      "8 x 10 = 80\n",
      "Multiplication table for: 9\n",
      "9 x 1 = 9\n",
      "9 x 2 = 18\n",
      "9 x 3 = 27\n",
      "9 x 4 = 36\n",
      "9 x 5 = 45\n",
      "9 x 6 = 54\n",
      "9 x 7 = 63\n",
      "9 x 8 = 72\n",
      "9 x 9 = 81\n",
      "9 x 10 = 90\n",
      "Multiplication table for: 10\n",
      "10 x 1 = 10\n",
      "10 x 2 = 20\n",
      "10 x 3 = 30\n",
      "10 x 4 = 40\n",
      "10 x 5 = 50\n",
      "10 x 6 = 60\n",
      "10 x 7 = 70\n",
      "10 x 8 = 80\n",
      "10 x 9 = 90\n",
      "10 x 10 = 100\n"
     ]
    }
   ],
   "source": [
    "for a in range(2,11):\n",
    "    print('Multiplication table for:', a)\n",
    "\n",
    "    #inner loop\n",
    "    for b in range(1,11):\n",
    "        print(f'{a} x {b} = {a*b}')"
   ]
  },
  {
   "cell_type": "markdown",
   "metadata": {},
   "source": [
    "### Loop Control Statements"
   ]
  },
  {
   "cell_type": "markdown",
   "metadata": {},
   "source": [
    "We have 2 different control statements `break` and `continue`"
   ]
  },
  {
   "cell_type": "code",
   "execution_count": 17,
   "metadata": {},
   "outputs": [],
   "source": [
    "my_str = 'automation'"
   ]
  },
  {
   "cell_type": "markdown",
   "metadata": {},
   "source": [
    "**Exercise** Iterate through every letter and stop at letter \"m\""
   ]
  },
  {
   "cell_type": "code",
   "execution_count": 18,
   "metadata": {},
   "outputs": [
    {
     "name": "stdout",
     "output_type": "stream",
     "text": [
      "a\n",
      "u\n",
      "t\n",
      "o\n"
     ]
    }
   ],
   "source": [
    "for s in my_str:\n",
    "    #keep iterating through every letter until you reach m then, break the loop\n",
    "    if s == 'm':\n",
    "        break\n",
    "    print(s)"
   ]
  },
  {
   "cell_type": "markdown",
   "metadata": {},
   "source": [
    "**Exercise** Iterate through every letter and skip the letter \"a\""
   ]
  },
  {
   "cell_type": "code",
   "execution_count": 19,
   "metadata": {},
   "outputs": [
    {
     "name": "stdout",
     "output_type": "stream",
     "text": [
      "u\n",
      "t\n",
      "o\n",
      "m\n",
      "t\n",
      "i\n",
      "o\n",
      "n\n"
     ]
    }
   ],
   "source": [
    "for s in my_str:\n",
    "    #keep iterating through every letter until you reach a then, skip\n",
    "    if s == 'a':\n",
    "        continue\n",
    "    print(s)"
   ]
  },
  {
   "cell_type": "markdown",
   "metadata": {},
   "source": [
    "### Additional Functionality In Loops"
   ]
  },
  {
   "cell_type": "markdown",
   "metadata": {},
   "source": [
    "Using `zip()`\n",
    "The lists have to be compatible in size and order."
   ]
  },
  {
   "cell_type": "code",
   "execution_count": 20,
   "metadata": {},
   "outputs": [
    {
     "name": "stdout",
     "output_type": "stream",
     "text": [
      "Mary's age is 25 years old.\n",
      "Jack's age is 30 years old.\n",
      "Todd's age is 43 years old.\n"
     ]
    }
   ],
   "source": [
    "names = ['Mary', 'Jack', 'Todd']\n",
    "ages = [25,30,43]\n",
    "\n",
    "for n, a in zip(names, ages):\n",
    "    print(f\"{n}'s age is {a} years old.\")"
   ]
  },
  {
   "cell_type": "markdown",
   "metadata": {},
   "source": [
    "Using `enumerate()`"
   ]
  },
  {
   "cell_type": "code",
   "execution_count": 21,
   "metadata": {},
   "outputs": [
    {
     "name": "stdout",
     "output_type": "stream",
     "text": [
      "Student 1: Mary\n",
      "Student 2: Jack\n",
      "Student 3: Todd\n",
      "Student 4: Karen\n",
      "Student 5: Becky\n"
     ]
    }
   ],
   "source": [
    "names = ['Mary', 'Jack', 'Todd', 'Karen', 'Becky']\n",
    "\n",
    "for idx, n in enumerate(names):\n",
    "    print(f'Student {idx+1}: {n}')"
   ]
  },
  {
   "cell_type": "code",
   "execution_count": null,
   "metadata": {},
   "outputs": [],
   "source": []
  },
  {
   "cell_type": "markdown",
   "metadata": {},
   "source": [
    "Great question — and yes, you're absolutely right to want to avoid deeply nested or repetitive `if/elif` chains. While Python doesn't have a `case` statement like Bash or `switch` like C/JavaScript, there are a few clean alternatives:\n",
    "\n",
    "---\n",
    "\n",
    "### ✅ Python 3.10+ — `match` Statement (Structural Pattern Matching)\n",
    "\n",
    "Python 3.10 introduced the `match` statement, which behaves a lot like a `switch`/`case`.\n",
    "\n",
    "**Example:**\n",
    "\n",
    "```python\n",
    "def http_status(code):\n",
    "    match code:\n",
    "        case 200:\n",
    "            return \"OK\"\n",
    "        case 404:\n",
    "            return \"Not Found\"\n",
    "        case 500:\n",
    "            return \"Server Error\"\n",
    "        case _:\n",
    "            return \"Unknown Code\"\n",
    "```\n",
    "\n",
    "> `_` is the default case (like `else`).\n",
    "\n",
    "This is ideal for replacing large `if/elif/else` chains.\n",
    "\n",
    "---\n",
    "\n",
    "### 🧠 For Older Python Versions — Use Dictionaries as Switches\n",
    "\n",
    "Before Python 3.10, the idiomatic way was using **dictionaries to simulate switch-case** behavior:\n",
    "\n",
    "```python\n",
    "def get_status(code):\n",
    "    responses = {\n",
    "        200: \"OK\",\n",
    "        404: \"Not Found\",\n",
    "        500: \"Server Error\"\n",
    "    }\n",
    "    return responses.get(code, \"Unknown Code\")\n",
    "```\n",
    "\n",
    "This is especially clean when your logic is just returning or printing a value per case.\n",
    "\n",
    "---\n",
    "\n",
    "### 💡 Avoiding Nested `if` Statements\n",
    "\n",
    "Instead of this:\n",
    "\n",
    "```python\n",
    "if x > 0:\n",
    "    if x < 10:\n",
    "        print(\"Between 0 and 10\")\n",
    "```\n",
    "\n",
    "Do this:\n",
    "\n",
    "```python\n",
    "if 0 < x < 10:\n",
    "    print(\"Between 0 and 10\")\n",
    "```\n",
    "\n",
    "Python supports chained comparisons for exactly this reason.\n",
    "\n",
    "---\n",
    "\n",
    "Would you like an example where `match` works with more complex patterns (like types or nested structures)?\n"
   ]
  },
  {
   "cell_type": "code",
   "execution_count": null,
   "metadata": {},
   "outputs": [],
   "source": []
  }
 ],
 "metadata": {
  "kernelspec": {
   "display_name": "Python 3",
   "language": "python",
   "name": "python3"
  },
  "language_info": {
   "codemirror_mode": {
    "name": "ipython",
    "version": 3
   },
   "file_extension": ".py",
   "mimetype": "text/x-python",
   "name": "python",
   "nbconvert_exporter": "python",
   "pygments_lexer": "ipython3",
   "version": "3.11.3"
  }
 },
 "nbformat": 4,
 "nbformat_minor": 2
}
